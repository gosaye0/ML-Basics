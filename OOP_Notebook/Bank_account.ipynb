{
 "cells": [
  {
   "cell_type": "markdown",
   "id": "ab0d06ee-d9fd-4f71-bfe8-030e25026d2c",
   "metadata": {},
   "source": [
    "### Project: Bank Account Manager\n",
    "__Goal:__ Build a BankAccount class with strict encapsulation to manage deposits, withdrawals, and balance tracking.\n",
    "\n",
    "__Requirements__  \n",
    "- __Class BankAccount__  \n",
    "- __Private Attributes:__  \n",
    "    - __balance (numeric, initialized to 0).\n",
    "    - __transaction_history (list of strings, e.g., [\"Deposit: +100\", \"Withdrawal: -50\"]).  \n",
    "- __Public Methods:__  \n",
    "    - deposit(amount): Adds to balance if amount > 0.  \n",
    "    - withdraw(amount): Subtracts from balance if amount <= balance.  \n",
    "    - get_balance(): Returns current balance.  \n",
    "    - get_transaction_history(): Returns a copy of the transaction history (prevent direct modification).  \n",
    "- __Encapsulation Rules:__  \n",
    "    - No direct access to __balance or __transaction_history outside the class.  \n",
    "    - Validate inputs (e.g., no negative deposits).\n",
    "\n",
    "__Challenges__\n",
    "- __Minimum Balance:__  \n",
    "    - Add a private __minimum_balance attribute (e.g., $50).\n",
    "    - Prevent withdrawals that would drop the balance below __minimum_balance.\n",
    "\n",
    "- __Interest Calculation:__\n",
    "    - Add a private __annual_interest_rate (e.g., 5% = 0.05).\n",
    "    - Add a calculate_monthly_interest() method that adds monthly interest to the balance.\n",
    "\n",
    "- __Transaction History with Timestamps:__\n",
    "    - Store timestamps for each transaction (use datetime module).\n",
    "\n",
    "- __Transfer Funds:__\n",
    "    - Add a transfer(to_account, amount) method to transfer money to another BankAccount.\n",
    "\n",
    "- __Freeze Account:__\n",
    "    - Add a private __is_frozen attribute.\n",
    "    - Prevent deposits/withdrawals if the account is frozen."
   ]
  },
  {
   "cell_type": "code",
   "execution_count": 1,
   "id": "7810552a-8aad-4f8c-b232-59d4fda63cd2",
   "metadata": {},
   "outputs": [],
   "source": [
    "from datetime import datetime\n",
    "\n",
    "class BankAccount:\n",
    "    \n",
    "    minimum_balance = 50\n",
    "    \n",
    "    def __init__(self):\n",
    "        self.__balance = 0.0\n",
    "        self.__is_frozen = False\n",
    "        self.__transaction_history = []\n",
    "\n",
    "    @property\n",
    "    def balance(self):\n",
    "        return self.__balance\n",
    "\n",
    "    @property\n",
    "    def transaction_history(self):\n",
    "        return self.__transaction_history[:5].copy()\n",
    "\n",
    "    @property\n",
    "    def minimum_balance(self):\n",
    "        return self.__minimum_balance\n",
    "\n",
    "    @minimum_balance.setter\n",
    "    def minimum_balance(self, amount):\n",
    "        if amount < 0:\n",
    "            raise ValueError(\"You can't have negative minimum balance\")\n",
    "        self.__minimum_balance = amount\n",
    "\n",
    "    def freeze(self):\n",
    "        self.__is_frozen = True\n",
    "\n",
    "    def unfreeze(self):\n",
    "        self.__is_frozen = False\n",
    "    \n",
    "    def deposit(self, amount):\n",
    "        if self.__is_frozen:\n",
    "            raise ValueError(\"This Account is frozen\")\n",
    "            \n",
    "        if amount <= 0:\n",
    "            raise ValueError(\"Deposit amount must be positive\")\n",
    "        self.__balance += amount\n",
    "        print(f\"You have succusfully deposited ${amount}, Your current balance is ${self.__balance}\")\n",
    "        self.__transaction_history.append({\"timestamp\": datetime.now().strftime(\"%Y-%m-%d %H:%M:%S\"),\n",
    "                                            \"type\": \"Deposit\",\n",
    "                                            \"amount\": amount,\n",
    "                                            \"remaining_balance\": self.__balance})\n",
    "\n",
    "\n",
    "    def withdraw(self, amount):\n",
    "        if self.__is_frozen:\n",
    "            raise ValueError(\"This Account is frozen\")\n",
    "        if amount <= 0:\n",
    "            raise ValueError(\"Withdraw amount must be positive\")\n",
    "        if amount > self.__balance:\n",
    "            raise ValueError(\"Insefficient balance\")\n",
    "        if self.__balance - amount < self.__minimum_balance:\n",
    "            raise ValueError(f\"You must have leave at least ${self.__minimum_balance}\")\n",
    "        self.__balance -= amount\n",
    "        print(f\"You have succusfully withdraw ${amount}, Your remaining balance is ${self.__balance}\")\n",
    "        self.__transaction_history.append({\"timestamp\": datetime.now().strftime(\"%Y-%m-%d %H:%M:%S\"),\n",
    "                                            \"type\": \"Withdraw\",\n",
    "                                            \"amount\": amount,\n",
    "                                        \"remaining_balance\": self.__balance})\n",
    "    def transfer(self, account, amount):\n",
    "        if self.__is_frozen:\n",
    "            raise ValueError(\"This Account is frozen\")\n",
    "        if amount <= 0:\n",
    "            raise ValueError(\"Transfer amount must be positive\")\n",
    "        if amount > self.__balance:\n",
    "            raise ValueError(\"Insefficient balance\")        \n",
    "        if self.__balance - amount < self.minimum_balance:\n",
    "            raise ValueError(f\"You must have leave at least ${self.minimum_balance}\")\n",
    "        if not isinstance(account, BankAccount):\n",
    "            raise ValueError(\"Target account must be a BankAccount instance\")\n",
    "        self.__balance -= amount\n",
    "        account.__balance += amount\n",
    "        print(f\"You have succusfully transfer ${amount}, Your remaining balance is ${self.__balance}\")\n",
    "        self.__transaction_history.append({\"timestamp\": datetime.now().strftime(\"%Y-%m-%d %H:%M:%S\"),\n",
    "                                           \"type\": \"transfer out\",\n",
    "                                           \"amount\": amount,\n",
    "                                           \"remaining_balance\": self.__balance})\n",
    "        account.__transaction_history.append({\"timestamp\": datetime.now().strftime(\"%Y-%m-%d %H:%M:%S\"),\n",
    "                                   \"type\": \"transfer in\",\n",
    "                                   \"amount\": amount,\n",
    "                                   \"remaining_balance\": self.__balance})"
   ]
  },
  {
   "cell_type": "code",
   "execution_count": 2,
   "id": "3b60b5a3-4af3-44e7-b394-f780f655b7f9",
   "metadata": {},
   "outputs": [],
   "source": [
    "acc1 = BankAccount()\n",
    "acc2 = BankAccount()"
   ]
  },
  {
   "cell_type": "code",
   "execution_count": 3,
   "id": "6c94c49d-60c8-4d67-8a05-d542272b3d51",
   "metadata": {},
   "outputs": [
    {
     "name": "stdout",
     "output_type": "stream",
     "text": [
      "You have succusfully deposited $2000, Your current balance is $2000.0\n"
     ]
    }
   ],
   "source": [
    "acc1.deposit(2000)"
   ]
  },
  {
   "cell_type": "code",
   "execution_count": 4,
   "id": "bf20ec94-92dd-4a76-88ac-44cc9a49bd92",
   "metadata": {},
   "outputs": [
    {
     "data": {
      "text/plain": [
       "0.0"
      ]
     },
     "execution_count": 4,
     "metadata": {},
     "output_type": "execute_result"
    }
   ],
   "source": [
    "acc2.balance"
   ]
  },
  {
   "cell_type": "code",
   "execution_count": 5,
   "id": "3d453afd-a069-4cf7-bb6a-85c97daed935",
   "metadata": {},
   "outputs": [
    {
     "name": "stdout",
     "output_type": "stream",
     "text": [
      "You have succusfully deposited $3743, Your current balance is $5743.0\n"
     ]
    }
   ],
   "source": [
    "acc1.deposit(3743)"
   ]
  },
  {
   "cell_type": "code",
   "execution_count": 6,
   "id": "dc429ee3-2a1f-4cd9-b7ff-e46c6587f77d",
   "metadata": {},
   "outputs": [
    {
     "name": "stdout",
     "output_type": "stream",
     "text": [
      "You have succusfully deposited $2332, Your current balance is $2332.0\n"
     ]
    }
   ],
   "source": [
    "acc2.deposit(2332)"
   ]
  },
  {
   "cell_type": "code",
   "execution_count": 7,
   "id": "9561984a-89a9-4571-850c-d490a376d5ea",
   "metadata": {},
   "outputs": [
    {
     "data": {
      "text/plain": [
       "[{'timestamp': '2025-09-06 12:15:57',\n",
       "  'type': 'Deposit',\n",
       "  'amount': 2000,\n",
       "  'remaining_balance': 2000.0},\n",
       " {'timestamp': '2025-09-06 12:15:57',\n",
       "  'type': 'Deposit',\n",
       "  'amount': 3743,\n",
       "  'remaining_balance': 5743.0}]"
      ]
     },
     "execution_count": 7,
     "metadata": {},
     "output_type": "execute_result"
    }
   ],
   "source": [
    "acc1.transaction_history"
   ]
  },
  {
   "cell_type": "code",
   "execution_count": 8,
   "id": "f9ca57d8-0717-4297-a032-fd436c4677ab",
   "metadata": {},
   "outputs": [
    {
     "data": {
      "text/plain": [
       "[{'timestamp': '2025-09-06 12:15:57',\n",
       "  'type': 'Deposit',\n",
       "  'amount': 2332,\n",
       "  'remaining_balance': 2332.0}]"
      ]
     },
     "execution_count": 8,
     "metadata": {},
     "output_type": "execute_result"
    }
   ],
   "source": [
    "acc2.transaction_history"
   ]
  },
  {
   "cell_type": "code",
   "execution_count": null,
   "id": "4a48c200-47a1-41b8-90cd-b7668bda4be0",
   "metadata": {},
   "outputs": [],
   "source": []
  }
 ],
 "metadata": {
  "kernelspec": {
   "display_name": "Python (data-analysis)",
   "language": "python",
   "name": "data-anaysis"
  },
  "language_info": {
   "codemirror_mode": {
    "name": "ipython",
    "version": 3
   },
   "file_extension": ".py",
   "mimetype": "text/x-python",
   "name": "python",
   "nbconvert_exporter": "python",
   "pygments_lexer": "ipython3",
   "version": "3.11.13"
  }
 },
 "nbformat": 4,
 "nbformat_minor": 5
}
