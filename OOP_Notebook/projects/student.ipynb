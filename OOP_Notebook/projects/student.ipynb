{
 "cells": [
  {
   "cell_type": "code",
   "execution_count": 1,
   "id": "459785af-34d5-452e-974e-8c50920717a9",
   "metadata": {},
   "outputs": [],
   "source": [
    "class Student:\n",
    "    def __init__(self, name,student_id, major):\n",
    "        self.name = name\n",
    "        self.student_id = student_id\n",
    "        self.major = major\n",
    "        self.gpa = 0.0\n",
    "        self.grades = []\n",
    "    def add_grade(self, grade):\n",
    "        if grade >= 0 and grade <= 100:\n",
    "            self.grades.append(grade)\n",
    "            self.gpa = sum(self.grades)/(25 * len(self.grades))\n",
    "            return \"Grade added successfully\"\n",
    "        else:\n",
    "            raise ValueError(\"Inapproprate grade\")\n",
    "        \n",
    "    def get_info(self):\n",
    "        return f\"Student({self.name}, {self.student_id}, {self.major})\"\n",
    "    def is_honor_student(self):\n",
    "        if self.gpa >= 3.5:\n",
    "            return True\n",
    "        return False"
   ]
  },
  {
   "cell_type": "code",
   "execution_count": 2,
   "id": "ced232a1-d176-4905-b368-99447e98ea9a",
   "metadata": {},
   "outputs": [],
   "source": [
    "john_donald = Student(\"John Donald\", \"UGR/1636/12\", \"Software Engineering\")\n",
    "gosaye_emshaw = Student(\"Gosaye Emshaw\", \"UGR/3264/12\", \"Computer Science\")"
   ]
  },
  {
   "cell_type": "code",
   "execution_count": 3,
   "id": "fbc9b978-c1e9-41e1-8ccc-5fcc341f6285",
   "metadata": {},
   "outputs": [
    {
     "data": {
      "text/plain": [
       "'Grade added successfully'"
      ]
     },
     "execution_count": 3,
     "metadata": {},
     "output_type": "execute_result"
    }
   ],
   "source": [
    "john_donald.add_grade(90)\n",
    "john_donald.add_grade(85)\n",
    "john_donald.add_grade(88)"
   ]
  },
  {
   "cell_type": "code",
   "execution_count": 4,
   "id": "4081aec4-78a0-492d-b78e-8a19c8b8301d",
   "metadata": {},
   "outputs": [
    {
     "data": {
      "text/plain": [
       "'Grade added successfully'"
      ]
     },
     "execution_count": 4,
     "metadata": {},
     "output_type": "execute_result"
    }
   ],
   "source": [
    "gosaye_emshaw.add_grade(75)\n",
    "gosaye_emshaw.add_grade(82)"
   ]
  },
  {
   "cell_type": "code",
   "execution_count": 5,
   "id": "2eb2d618-a6d4-4d43-b182-10d5d234fbf0",
   "metadata": {},
   "outputs": [
    {
     "data": {
      "text/plain": [
       "'Student(John Donald, UGR/1636/12, Software Engineering)'"
      ]
     },
     "execution_count": 5,
     "metadata": {},
     "output_type": "execute_result"
    }
   ],
   "source": [
    "john_donald.get_info()"
   ]
  },
  {
   "cell_type": "code",
   "execution_count": 6,
   "id": "301eaa79-4ec2-4fa8-978e-816d39628802",
   "metadata": {},
   "outputs": [
    {
     "data": {
      "text/plain": [
       "'Student(Gosaye Emshaw, UGR/3264/12, Computer Science)'"
      ]
     },
     "execution_count": 6,
     "metadata": {},
     "output_type": "execute_result"
    }
   ],
   "source": [
    "gosaye_emshaw.get_info()"
   ]
  },
  {
   "cell_type": "code",
   "execution_count": 7,
   "id": "698799cd-171d-4dc6-85dd-6e4baa8a70f3",
   "metadata": {},
   "outputs": [
    {
     "data": {
      "text/plain": [
       "[75, 82]"
      ]
     },
     "execution_count": 7,
     "metadata": {},
     "output_type": "execute_result"
    }
   ],
   "source": [
    "gosaye_emshaw.grades"
   ]
  },
  {
   "cell_type": "code",
   "execution_count": 8,
   "id": "d04f488c-bb1c-4a59-b275-694b245ff783",
   "metadata": {},
   "outputs": [
    {
     "data": {
      "text/plain": [
       "[90, 85, 88]"
      ]
     },
     "execution_count": 8,
     "metadata": {},
     "output_type": "execute_result"
    }
   ],
   "source": [
    "john_donald.grades"
   ]
  },
  {
   "cell_type": "code",
   "execution_count": 9,
   "id": "4e0613ba-973b-4773-a85c-17f1eaa3343f",
   "metadata": {},
   "outputs": [
    {
     "data": {
      "text/plain": [
       "3.14"
      ]
     },
     "execution_count": 9,
     "metadata": {},
     "output_type": "execute_result"
    }
   ],
   "source": [
    "gosaye_emshaw.gpa"
   ]
  },
  {
   "cell_type": "code",
   "execution_count": 10,
   "id": "726173ac-74c1-4fe4-a2dc-6ff9a6be042f",
   "metadata": {},
   "outputs": [
    {
     "data": {
      "text/plain": [
       "3.506666666666667"
      ]
     },
     "execution_count": 10,
     "metadata": {},
     "output_type": "execute_result"
    }
   ],
   "source": [
    "john_donald.gpa"
   ]
  },
  {
   "cell_type": "code",
   "execution_count": 11,
   "id": "67ca0204-0395-44b6-b99e-51d17ec9d5bc",
   "metadata": {},
   "outputs": [
    {
     "data": {
      "text/plain": [
       "True"
      ]
     },
     "execution_count": 11,
     "metadata": {},
     "output_type": "execute_result"
    }
   ],
   "source": [
    "john_donald.is_honor_student()"
   ]
  },
  {
   "cell_type": "code",
   "execution_count": 12,
   "id": "137af33d-0772-4ff9-a281-6cb52be619dc",
   "metadata": {},
   "outputs": [
    {
     "data": {
      "text/plain": [
       "False"
      ]
     },
     "execution_count": 12,
     "metadata": {},
     "output_type": "execute_result"
    }
   ],
   "source": [
    "gosaye_emshaw.is_honor_student()"
   ]
  },
  {
   "cell_type": "code",
   "execution_count": null,
   "id": "bdf22a69-0b2e-48bf-bc13-d59e200e03e3",
   "metadata": {},
   "outputs": [],
   "source": []
  }
 ],
 "metadata": {
  "kernelspec": {
   "display_name": "Python (data-analysis)",
   "language": "python",
   "name": "data-anaysis"
  },
  "language_info": {
   "codemirror_mode": {
    "name": "ipython",
    "version": 3
   },
   "file_extension": ".py",
   "mimetype": "text/x-python",
   "name": "python",
   "nbconvert_exporter": "python",
   "pygments_lexer": "ipython3",
   "version": "3.11.13"
  }
 },
 "nbformat": 4,
 "nbformat_minor": 5
}
