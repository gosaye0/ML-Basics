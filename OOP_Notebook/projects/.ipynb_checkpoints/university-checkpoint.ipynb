{
 "cells": [
  {
   "cell_type": "code",
   "execution_count": 1,
   "id": "bc37b191-fac7-47f6-91cc-be028945a0b8",
   "metadata": {},
   "outputs": [],
   "source": [
    "class Person:\n",
    "    def __init__(self, name, age, person_id):\n",
    "        self.name = name\n",
    "        self.age = age\n",
    "        self.person_id = person_id\n",
    "\n",
    "    def introduce(self):\n",
    "        return f\"Hi, I'm {self.name}, I'm {self.age} years old\"\n",
    "\n",
    "    def get_role(self):\n",
    "        return \"Person\""
   ]
  },
  {
   "cell_type": "code",
   "execution_count": 2,
   "id": "4a8fd651-e67e-4fbf-b731-1b0d613112e8",
   "metadata": {},
   "outputs": [],
   "source": [
    "class Student(Person):\n",
    "    def __init__(self, name, age, student_id, major):\n",
    "        super().__init__(name, age, student_id)\n",
    "        self.major = major\n",
    "        self.gpa = 0.0\n",
    "\n",
    "    def get_role(self):\n",
    "        return \"Student\"\n",
    "\n",
    "    def introduce(self):\n",
    "        return f\"Hi, I'm {self.name}, a {self.major} student\"\n",
    "\n",
    "    def study(self, hours):\n",
    "        return f\"{self.name} studied {self.major} for {hours} hours\""
   ]
  },
  {
   "cell_type": "code",
   "execution_count": 3,
   "id": "04f2b5dd-4e21-49c2-a1b6-ced73ec21e69",
   "metadata": {},
   "outputs": [],
   "source": [
    "class Professor(Person):\n",
    "    def __init__(self, name, age, professor_id, department, salary):\n",
    "        super().__init__(name, age, professor_id)\n",
    "        self.department = department\n",
    "        self.salary = salary\n",
    "\n",
    "    def get_role(self):\n",
    "        return \"Professor\"\n",
    "\n",
    "    def introduce(self):\n",
    "        return f\"Hi, I'm Professor {self.name} from {self.department} department\"\n",
    "\n",
    "    def teach(self, subject):\n",
    "        return f\"Professor {self.name} is teaching {subject}\""
   ]
  },
  {
   "cell_type": "code",
   "execution_count": 4,
   "id": "2948be8b-b6a7-4bb1-8c5c-034e42f31afe",
   "metadata": {},
   "outputs": [],
   "source": [
    "class TeachingAssistant(Student):\n",
    "    def __init__(self, name, age, assistant_id, major):\n",
    "        super().__init__(name, age, assistant_id, major)\n",
    "        self.courses_assisting = []\n",
    "\n",
    "    def get_role(self):\n",
    "        return \"Teaching Assistant\"\n",
    "\n",
    "    def assist_with(self, course):\n",
    "        self.courses_assisting.append(course)\n",
    "        return f\"Now {self.name} assists with {self.courses_assisting}\"\n",
    "    def introduce(self):\n",
    "        return f\"Hi, I'm {self.name}, a TA studying {self.major}\""
   ]
  },
  {
   "cell_type": "code",
   "execution_count": 5,
   "id": "ae48d7fb-1e85-49e7-bb6a-eb0cf2330be6",
   "metadata": {},
   "outputs": [],
   "source": [
    "gosaye_emshaw = Person(\"Gosaye Emshaw\", 24, 7498239)"
   ]
  },
  {
   "cell_type": "code",
   "execution_count": 6,
   "id": "7a535c68-9e35-4786-8f0d-962fc3b71f4d",
   "metadata": {},
   "outputs": [
    {
     "name": "stdout",
     "output_type": "stream",
     "text": [
      "Person\n"
     ]
    }
   ],
   "source": [
    "print(gosaye_emshaw.get_role())"
   ]
  },
  {
   "cell_type": "code",
   "execution_count": 7,
   "id": "ffb45468-6888-4059-8169-d27be1e9ee69",
   "metadata": {},
   "outputs": [
    {
     "name": "stdout",
     "output_type": "stream",
     "text": [
      "Hi, I'm Gosaye Emshaw, I'm 24 years old\n"
     ]
    }
   ],
   "source": [
    "print(gosaye_emshaw.introduce())"
   ]
  },
  {
   "cell_type": "code",
   "execution_count": 8,
   "id": "81f0e9e9-6803-4373-8834-463550ea51bc",
   "metadata": {},
   "outputs": [
    {
     "name": "stdout",
     "output_type": "stream",
     "text": [
      "Hi, I'm Marcus John, a Computer science student\n",
      "Student\n",
      "Marcus John studied Computer science for 2 hours\n"
     ]
    }
   ],
   "source": [
    "marcus_john = Student(\"Marcus John\", 19, 3498423, \"Computer science\")\n",
    "print(marcus_john.introduce())\n",
    "print(marcus_john.get_role())\n",
    "print(marcus_john.study(2))"
   ]
  },
  {
   "cell_type": "code",
   "execution_count": 9,
   "id": "a39e61fe-dd9b-449d-8dda-49136d5d998f",
   "metadata": {},
   "outputs": [
    {
     "name": "stdout",
     "output_type": "stream",
     "text": [
      "Hi, I'm Professor Allen Smith from Archtecture department\n",
      "Professor\n",
      "Professor Allen Smith is teaching Archtecture with AI\n"
     ]
    }
   ],
   "source": [
    "allen_smith = Professor(\"Allen Smith\", 42, 8734292, \"Archtecture\", 86220)\n",
    "print(allen_smith.introduce())\n",
    "print(allen_smith.get_role())\n",
    "print(allen_smith.teach(\"Archtecture with AI\"))"
   ]
  },
  {
   "cell_type": "code",
   "execution_count": 10,
   "id": "85dfa878-e554-4a64-a8e5-bbdf373dffec",
   "metadata": {},
   "outputs": [
    {
     "name": "stdout",
     "output_type": "stream",
     "text": [
      "Hi, I'm Kirubel Biruk, a TA studying Aerospace Engineering\n",
      "Teaching Assistant\n",
      "Now Kirubel Biruk assists with ['Physics']\n"
     ]
    }
   ],
   "source": [
    "kirubel_bruk = TeachingAssistant(\"Kirubel Biruk\", 23, 238479, \"Aerospace Engineering\")\n",
    "print(kirubel_bruk.introduce())\n",
    "print(kirubel_bruk.get_role())\n",
    "print(kirubel_bruk.assist_with(\"Physics\"))"
   ]
  },
  {
   "cell_type": "code",
   "execution_count": null,
   "id": "8bf7f17a-cd17-4368-8e5d-4d4215dfa63e",
   "metadata": {},
   "outputs": [],
   "source": []
  },
  {
   "cell_type": "code",
   "execution_count": null,
   "id": "27e44801-f7d0-4c11-a347-72eb66822ee9",
   "metadata": {},
   "outputs": [],
   "source": []
  }
 ],
 "metadata": {
  "kernelspec": {
   "display_name": "Python (data-analysis)",
   "language": "python",
   "name": "data-anaysis"
  },
  "language_info": {
   "codemirror_mode": {
    "name": "ipython",
    "version": 3
   },
   "file_extension": ".py",
   "mimetype": "text/x-python",
   "name": "python",
   "nbconvert_exporter": "python",
   "pygments_lexer": "ipython3",
   "version": "3.11.13"
  }
 },
 "nbformat": 4,
 "nbformat_minor": 5
}
