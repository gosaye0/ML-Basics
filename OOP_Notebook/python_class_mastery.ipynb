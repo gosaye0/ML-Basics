{
 "cells": [
  {
   "cell_type": "markdown",
   "id": "54d956a1-b376-4131-9a2a-b898a78fab5e",
   "metadata": {},
   "source": [
    "# What is Class?\n",
    "- A class is a blueprint that defines what something should look like and what it can do\n",
    "- An object is a specific instance created from that class\n",
    "- Attributes are the data/characteristics an object has\n",
    "- Methods are the functions/actions an object can perform"
   ]
  },
  {
   "cell_type": "markdown",
   "id": "3a71fb0f-7284-4c05-93ac-6b759102c596",
   "metadata": {},
   "source": [
    "# Chapter 1: My First Class"
   ]
  },
  {
   "cell_type": "code",
   "execution_count": 1,
   "id": "e84787ee-2d57-4181-b3c7-24d9391c1d5d",
   "metadata": {},
   "outputs": [],
   "source": [
    "class Dog:\n",
    "    pass"
   ]
  },
  {
   "cell_type": "markdown",
   "id": "42c36314-8c98-406e-9b00-c7a4129019ff",
   "metadata": {},
   "source": [
    "- class: This keyword tells Python \"I'm about to define a blueprint\"\n",
    "- Dog: This is the name of our class.\n",
    "- :: This colon says \"here comes the definition\"\n",
    "- pass: This means \"I'm not ready to add details yet, but don't give me an error\""
   ]
  },
  {
   "cell_type": "markdown",
   "id": "82e96613-1e5f-4a21-857a-f119f66a587d",
   "metadata": {},
   "source": [
    "The first instance"
   ]
  },
  {
   "cell_type": "code",
   "execution_count": 2,
   "id": "ab04cfdd-bc7d-4195-a7ee-104bc498dcd7",
   "metadata": {},
   "outputs": [
    {
     "data": {
      "text/plain": [
       "<__main__.Dog at 0x255001ac150>"
      ]
     },
     "execution_count": 2,
     "metadata": {},
     "output_type": "execute_result"
    }
   ],
   "source": [
    "my_dog = Dog()\n",
    "my_dog"
   ]
  },
  {
   "cell_type": "markdown",
   "id": "b2428dc6-a0ef-41b8-aada-cc27b0deea19",
   "metadata": {},
   "source": [
    "# Chapter 2: Adding Attributes (Characteristics)"
   ]
  },
  {
   "cell_type": "code",
   "execution_count": 3,
   "id": "6d88c480-2bd5-4440-bdc8-a1b1157b50c0",
   "metadata": {},
   "outputs": [],
   "source": [
    "class Dog:\n",
    "    # These are called \"class attributes\" - shared by all dogs\n",
    "    species = \"Canis lupus\"\n",
    "    is_mammal = True"
   ]
  },
  {
   "cell_type": "markdown",
   "id": "6d01c1e8-d983-4246-b4df-69509ef8ae5a",
   "metadata": {},
   "source": [
    "- species = \"Canis lupus\": Every dog object will have this same species\n",
    "- is_mammal = True: Every dog will be a mammal"
   ]
  },
  {
   "cell_type": "code",
   "execution_count": 4,
   "id": "55899a6f-3729-4f5d-bf33-da1bca35208c",
   "metadata": {},
   "outputs": [
    {
     "name": "stdout",
     "output_type": "stream",
     "text": [
      "Canis lupus\n",
      "True\n"
     ]
    }
   ],
   "source": [
    "dog1 = Dog()\n",
    "dog2 = Dog()\n",
    "\n",
    "print(dog1.species)\n",
    "print(dog2.is_mammal)"
   ]
  },
  {
   "cell_type": "markdown",
   "id": "9acab9a1-26e0-42d6-ab1d-fe1a6ca88701",
   "metadata": {},
   "source": [
    "# Chapter 3: The Special \\_\\_init__ Method (The Constructor)"
   ]
  },
  {
   "cell_type": "markdown",
   "id": "93112dd8-18de-411e-b935-7c6e5e13e201",
   "metadata": {},
   "source": [
    "But what if we want each dog to be unique? That's where __init__ comes in:"
   ]
  },
  {
   "cell_type": "code",
   "execution_count": 5,
   "id": "73dc4507-e9f8-4e76-a8b6-e85f06e22ae6",
   "metadata": {},
   "outputs": [],
   "source": [
    "class Dog:\n",
    "    def __init__(self, name, breed, age):\n",
    "        # All are instance attribute\n",
    "        self.name = name\n",
    "        self.bred = breed\n",
    "        self.age = age"
   ]
  },
  {
   "cell_type": "code",
   "execution_count": 6,
   "id": "3f406dfe-c91a-4d89-b366-b631528c6afd",
   "metadata": {},
   "outputs": [
    {
     "name": "stdout",
     "output_type": "stream",
     "text": [
      "Buddy\n",
      "4\n"
     ]
    }
   ],
   "source": [
    "dog1 = Dog(\"Buddy\", \"Golden Retriever\", 3)\n",
    "dog2 = Dog(\"Luna\", \"Border Collie\", 4)\n",
    "\n",
    "print(dog1.name)\n",
    "print(dog2.age)"
   ]
  },
  {
   "cell_type": "markdown",
   "id": "ba24ae2f-5637-4f80-b397-a646e3da3ba9",
   "metadata": {},
   "source": [
    "What happens step by step:\n",
    "\n",
    "1. Python sees Dog(\"Buddy\", \"Golden Retriever\", 3)\n",
    "2. Python creates an empty dog object\n",
    "3. Python automatically calls \\_\\_init__ with the arguments\n",
    "4. self becomes that empty dog object\n",
    "5. The attributes get assigned to that specific dog"
   ]
  },
  {
   "cell_type": "markdown",
   "id": "8ad82599-e290-49a2-9c08-fcb1f4591f8d",
   "metadata": {},
   "source": [
    "# Chapter 4: Adding Methods (Actions)"
   ]
  },
  {
   "cell_type": "markdown",
   "id": "833ca04b-199b-40b3-8da6-a349a2cf24dc",
   "metadata": {},
   "source": [
    "Now let's make our dog do things"
   ]
  },
  {
   "cell_type": "code",
   "execution_count": 7,
   "id": "947a39fb-758d-45bf-8c4d-a1032ba3a60f",
   "metadata": {},
   "outputs": [],
   "source": [
    "class Dog:\n",
    "    def __init__(self, name, breed, age):\n",
    "        self.name = name\n",
    "        self.breed = breed\n",
    "        self.age = age\n",
    "        self.energy = 100 \n",
    "\n",
    "    def bark(self):\n",
    "        return f\"{self.name} says woooof!\"\n",
    "\n",
    "    def play(self, minutes):\n",
    "        if self.energy >= minutes:\n",
    "            self.energy -= minutes\n",
    "            return f\"{self.name} played for {minutes} minutes\"\n",
    "        else:\n",
    "            return f\"{self.name} is too tired to play for {minutes} minutes\"\n",
    "\n",
    "    def sleep(self):\n",
    "        self.energy = 100\n",
    "        return f\"{self.name} is fully rested!\""
   ]
  },
  {
   "cell_type": "markdown",
   "id": "8555deff-9f3d-4062-8498-db10c08d3279",
   "metadata": {},
   "source": [
    "Using the methods"
   ]
  },
  {
   "cell_type": "code",
   "execution_count": 8,
   "id": "77cd9143-75f3-49c5-87fb-3889a165f61c",
   "metadata": {},
   "outputs": [
    {
     "name": "stdout",
     "output_type": "stream",
     "text": [
      "Donald says woooof!\n",
      "Donald played for 40 minutes\n",
      "Energy: 60\n",
      "Donald is fully rested!\n",
      "Energy: 100\n"
     ]
    }
   ],
   "source": [
    "my_dog = Dog(\"Donald\", \"Labrador\", 8)\n",
    "\n",
    "print(my_dog.bark())\n",
    "print(my_dog.play(40))\n",
    "print(f\"Energy: {my_dog.energy}\")\n",
    "print(my_dog.sleep())\n",
    "print(f\"Energy: {my_dog.energy}\")"
   ]
  },
  {
   "cell_type": "markdown",
   "id": "2f5ed208-10f9-4cb9-8138-724b1627e926",
   "metadata": {},
   "source": [
    "# Chapter 5: Class vs Instance Attributes"
   ]
  },
  {
   "cell_type": "code",
   "execution_count": 9,
   "id": "44a17f83-68af-470b-b5ea-ab59529376e9",
   "metadata": {},
   "outputs": [],
   "source": [
    "class Dog:\n",
    "    # Class attributes (shared by all dogs)\n",
    "    species = \"Canis lupus\"\n",
    "    dog_count = 0 # keep track of how many dogs exist\n",
    "\n",
    "    def __init__(self, name, breed):\n",
    "        # Instance attributes (unique to each dog)\n",
    "        self.name = name\n",
    "        self.bread = breed\n",
    "\n",
    "        # Increament the class attribute\n",
    "        Dog.dog_count += 1\n",
    "\n",
    "    @classmethod\n",
    "    def get_dog_count(cls):\n",
    "        return f\"There are{cls.dog_count} dogs total\""
   ]
  },
  {
   "cell_type": "code",
   "execution_count": 10,
   "id": "ddb5c053-e399-4dfd-86d7-0803486c2c5d",
   "metadata": {},
   "outputs": [
    {
     "name": "stdout",
     "output_type": "stream",
     "text": [
      "Canis lupus\n",
      "Canis lupus\n",
      "Junoir\n",
      "2\n",
      "There are2 dogs total\n"
     ]
    }
   ],
   "source": [
    "dog1 = Dog(\"Junoir\", \"Germen Shepherd\")\n",
    "dog2 = Dog(\"Bella\", \"Poodle\")\n",
    "\n",
    "print(Dog.species)\n",
    "print(dog1.species)\n",
    "print(dog1.name)\n",
    "print(dog1.dog_count)\n",
    "print(Dog.get_dog_count())"
   ]
  },
  {
   "cell_type": "markdown",
   "id": "8ed20ce4-1383-4255-8775-30df8ebb68bf",
   "metadata": {},
   "source": [
    "__Key differences:__\n",
    "\n",
    "- Class attributes: Shared by ALL objects of that class\n",
    "- Instance attributes: Unique to each specific object"
   ]
  },
  {
   "cell_type": "markdown",
   "id": "9a2d53c6-95f1-4b67-bb70-26707356edf6",
   "metadata": {},
   "source": [
    "# Chapter 6: Private Attributes and Methods"
   ]
  },
  {
   "cell_type": "code",
   "execution_count": 11,
   "id": "4a050e27-b888-44e7-81e4-0e1dc6b26460",
   "metadata": {},
   "outputs": [],
   "source": [
    "class BankAccount:\n",
    "    def __init__(self, owner_name, initial_balance):\n",
    "        self.owner_name = owner_name\n",
    "        self._balance = initial_balance # \"Protected\" (convention)\n",
    "        self.__account_number = self._generate_account_number() # \"Private\"\n",
    "\n",
    "    def _generate_account_number(self):\n",
    "        import random\n",
    "        return random.randint(100000, 999999)\n",
    "\n",
    "    def __str__(self): # Special method for string representation\n",
    "        return f\"Acoount({self.owner_name}, ${self._balance})\"\n",
    "\n",
    "    def deposit(self, amount):\n",
    "        if amount > 0:\n",
    "            self._balance += amount\n",
    "            return f\"Deposited ${amount}. New balance: ${self._balance}\"\n",
    "        return \"Invalid deposit amount\"\n",
    "\n",
    "    def get_balance(self):\n",
    "        return self._balance"
   ]
  },
  {
   "cell_type": "markdown",
   "id": "15a9810c-87ca-42f4-925a-58c96acc1da4",
   "metadata": {},
   "source": [
    "- public_attribute: Anyone can access\n",
    "- _protected_attribute: Internal use (convention, not enforced)\n",
    "- __private_attribute: Really private (name gets mangled)"
   ]
  },
  {
   "cell_type": "code",
   "execution_count": 12,
   "id": "d2348570-dd91-435f-ae79-ae24569878b4",
   "metadata": {},
   "outputs": [],
   "source": [
    "account1 = BankAccount(\"Gosaye\", 1000)\n",
    "account2 = BankAccount(\"Abebe\", 0)\n",
    "account3 = BankAccount(\"Thomas\", 500)"
   ]
  },
  {
   "cell_type": "code",
   "execution_count": 13,
   "id": "1b407598-8f6b-4715-91a5-0eca4e717411",
   "metadata": {},
   "outputs": [
    {
     "name": "stdout",
     "output_type": "stream",
     "text": [
      "Acoount(Gosaye, $1000)\n",
      "Acoount(Abebe, $0)\n",
      "Acoount(Thomas, $500)\n"
     ]
    }
   ],
   "source": [
    "print(account1)\n",
    "print(account2)\n",
    "print(account3)"
   ]
  },
  {
   "cell_type": "code",
   "execution_count": 14,
   "id": "fda4ed41-fe5f-46a6-a930-ca1a2d0172b5",
   "metadata": {},
   "outputs": [
    {
     "data": {
      "text/plain": [
       "1000"
      ]
     },
     "execution_count": 14,
     "metadata": {},
     "output_type": "execute_result"
    }
   ],
   "source": [
    "account1.get_balance()"
   ]
  },
  {
   "cell_type": "code",
   "execution_count": 15,
   "id": "0fd21b93-636d-489c-b8e2-95f1cf808a61",
   "metadata": {},
   "outputs": [
    {
     "data": {
      "text/plain": [
       "'Deposited $2000. New balance: $3000'"
      ]
     },
     "execution_count": 15,
     "metadata": {},
     "output_type": "execute_result"
    }
   ],
   "source": [
    "account1.deposit(2000)"
   ]
  },
  {
   "cell_type": "code",
   "execution_count": 16,
   "id": "25fd80e2-390d-48f6-9135-3e1b09364d9d",
   "metadata": {},
   "outputs": [
    {
     "data": {
      "text/plain": [
       "3000"
      ]
     },
     "execution_count": 16,
     "metadata": {},
     "output_type": "execute_result"
    }
   ],
   "source": [
    "account1.get_balance()"
   ]
  },
  {
   "cell_type": "code",
   "execution_count": 17,
   "id": "62470bb3-99b5-4879-8032-96ce9433ac36",
   "metadata": {},
   "outputs": [
    {
     "data": {
      "text/plain": [
       "0"
      ]
     },
     "execution_count": 17,
     "metadata": {},
     "output_type": "execute_result"
    }
   ],
   "source": [
    "account2._balance # Accessible but not recommended"
   ]
  },
  {
   "cell_type": "code",
   "execution_count": 18,
   "id": "9b0915ea-03db-4ece-a4f9-42b3dca77e0f",
   "metadata": {},
   "outputs": [
    {
     "data": {
      "text/plain": [
       "310762"
      ]
     },
     "execution_count": 18,
     "metadata": {},
     "output_type": "execute_result"
    }
   ],
   "source": [
    "account2._BankAccount__account_number"
   ]
  },
  {
   "cell_type": "markdown",
   "id": "5741e3ef-7a88-479d-b7a1-74a5bd9a3b65",
   "metadata": {},
   "source": [
    "# Chapter 7: Inheritance (Family Trees)"
   ]
  },
  {
   "cell_type": "code",
   "execution_count": 19,
   "id": "a906907e-4d4f-486c-93fc-f696422a6413",
   "metadata": {},
   "outputs": [],
   "source": [
    "# Parent class\n",
    "class Animal:\n",
    "    def __init__(self, name, species):\n",
    "        self.name = name\n",
    "        self.species = species\n",
    "        self.is_active = True\n",
    "\n",
    "    def eat(self):\n",
    "        return f\"{self.name} is eating\"\n",
    "\n",
    "    def sleep(self):\n",
    "        return f\"{self.name} is sleeping\"\n",
    "\n",
    "# Child class(inherits from animal)\n",
    "class Dog(Animal):\n",
    "    def __init__(self, name, breed):\n",
    "        super().__init__(name, \"Canis lupus\")\n",
    "        self.breed = breed\n",
    "\n",
    "    def bark(self):\n",
    "        return f\"{self.name} says woof!\"\n",
    "\n",
    "    def eat(self): # Override the parents eat method\n",
    "        return f\"{self.name} is eating  dog food.\"\n",
    "\n",
    "class Cat(Animal):\n",
    "    def __init__(self, name, breed):\n",
    "        super().__init__(name, \"Felis catus\")\n",
    "        self.breed = breed\n",
    "\n",
    "    def meow(self):\n",
    "        return f\"{self.name} says meow!\"\n",
    "\n",
    "    def eat(self):\n",
    "        return f\"{self.name} ia eating cat food\""
   ]
  },
  {
   "cell_type": "markdown",
   "id": "44f4672f-4dd5-4073-8f4e-8700fd3820c3",
   "metadata": {},
   "source": [
    "__Key concepts:__\n",
    "\n",
    "- super().\\_\\_init__(): Calls the parent class's initialization\n",
    "- Method overriding: Child classes can change how parent methods work\n",
    "- Method extension: Child classes can add new methods"
   ]
  },
  {
   "cell_type": "code",
   "execution_count": 20,
   "id": "cddc5fdc-54cb-4331-be64-464c94fce5c9",
   "metadata": {},
   "outputs": [],
   "source": [
    "my_dog = Dog(\"Buddy\", \"Golden Retriever\")\n",
    "my_cat = Cat(\"Lilie\", \"Persian\")"
   ]
  },
  {
   "cell_type": "code",
   "execution_count": 21,
   "id": "8ec1b807-f397-4b27-919f-d6e13624f4a3",
   "metadata": {},
   "outputs": [
    {
     "name": "stdout",
     "output_type": "stream",
     "text": [
      "Buddy is sleeping\n",
      "Lilie is sleeping\n"
     ]
    }
   ],
   "source": [
    "# Both inherited from animal\n",
    "print(my_dog.sleep())\n",
    "print(my_cat.sleep())"
   ]
  },
  {
   "cell_type": "code",
   "execution_count": 22,
   "id": "2db15a62-6bb3-4baf-9079-a2398c09b32f",
   "metadata": {},
   "outputs": [
    {
     "name": "stdout",
     "output_type": "stream",
     "text": [
      "Buddy is eating  dog food.\n",
      "Lilie ia eating cat food\n"
     ]
    }
   ],
   "source": [
    "# Overridden methods\n",
    "print(my_dog.eat())\n",
    "print(my_cat.eat())"
   ]
  },
  {
   "cell_type": "code",
   "execution_count": 23,
   "id": "e9156d0a-ab48-4e6f-9e81-93df64b3c25b",
   "metadata": {},
   "outputs": [
    {
     "name": "stdout",
     "output_type": "stream",
     "text": [
      "Buddy says woof!\n",
      "Lilie says meow!\n"
     ]
    }
   ],
   "source": [
    "# Unique elements\n",
    "print(my_dog.bark())\n",
    "print(my_cat.meow())"
   ]
  },
  {
   "cell_type": "code",
   "execution_count": 24,
   "id": "cc8059a0-3e2e-4e01-90b3-dccadc29326c",
   "metadata": {},
   "outputs": [
    {
     "data": {
      "text/plain": [
       "'Canis lupus'"
      ]
     },
     "execution_count": 24,
     "metadata": {},
     "output_type": "execute_result"
    }
   ],
   "source": [
    "my_dog.species"
   ]
  },
  {
   "cell_type": "code",
   "execution_count": 25,
   "id": "35221e4b-07f3-4996-9c9f-9e99d67bd20e",
   "metadata": {},
   "outputs": [
    {
     "data": {
      "text/plain": [
       "True"
      ]
     },
     "execution_count": 25,
     "metadata": {},
     "output_type": "execute_result"
    }
   ],
   "source": [
    "my_dog.is_active"
   ]
  },
  {
   "cell_type": "markdown",
   "id": "867c9749-8e94-45e2-bbe3-8198c6005fbf",
   "metadata": {},
   "source": [
    "# Chapter 8: Special Methods (Magic Methods)"
   ]
  },
  {
   "cell_type": "code",
   "execution_count": 26,
   "id": "983d5949-de70-4f5e-9fb9-9fb997383d9f",
   "metadata": {},
   "outputs": [],
   "source": [
    "class Book:\n",
    "    def __init__(self, title, author, pages):\n",
    "        self.title = title\n",
    "        self.author = author\n",
    "        self.pages = pages\n",
    "\n",
    "    def __str__(self):\n",
    "        return f\"'{self.title}' by {self.author}\"\n",
    "\n",
    "    def __repr__(self):\n",
    "        return f\"Book('{self.title}', '{self.author}', {self.pages})\"\n",
    "\n",
    "    def __len__(self):\n",
    "        return self.pages\n",
    "\n",
    "    def __eq__(self, other):\n",
    "        if isinstance(other, Book):\n",
    "            return self.title == other.title and self.author == other.author\n",
    "        else:\n",
    "            return False\n",
    "\n",
    "    def __lt__(self, other):\n",
    "        return self.pages < other.pages"
   ]
  },
  {
   "cell_type": "code",
   "execution_count": 27,
   "id": "cd81667c-42e4-4a9b-bbe7-1d71b7a1caff",
   "metadata": {},
   "outputs": [],
   "source": [
    "book1 = Book(\"Life\", \"Gosaye Emshaw\", 324)\n",
    "book2 = Book(\"Animal Farm\", \"George Orwell\", 112)"
   ]
  },
  {
   "cell_type": "code",
   "execution_count": 28,
   "id": "3b27a061-4697-419b-a630-f51cd450ecac",
   "metadata": {},
   "outputs": [
    {
     "name": "stdout",
     "output_type": "stream",
     "text": [
      "'Life' by Gosaye Emshaw\n",
      "'Animal Farm' by George Orwell\n"
     ]
    }
   ],
   "source": [
    "print(book1)\n",
    "print(book2)"
   ]
  },
  {
   "cell_type": "code",
   "execution_count": 29,
   "id": "55ddccfb-6051-48a3-9f68-03b938fa44d1",
   "metadata": {},
   "outputs": [
    {
     "data": {
      "text/plain": [
       "324"
      ]
     },
     "execution_count": 29,
     "metadata": {},
     "output_type": "execute_result"
    }
   ],
   "source": [
    "len(book1)"
   ]
  },
  {
   "cell_type": "code",
   "execution_count": 30,
   "id": "a4e1d126-a0b2-40ce-bfd9-e0455b34d112",
   "metadata": {},
   "outputs": [
    {
     "data": {
      "text/plain": [
       "False"
      ]
     },
     "execution_count": 30,
     "metadata": {},
     "output_type": "execute_result"
    }
   ],
   "source": [
    "book1 == book2"
   ]
  },
  {
   "cell_type": "code",
   "execution_count": 31,
   "id": "0435f5aa-2a1b-4585-b9d5-e032ad2a49ad",
   "metadata": {},
   "outputs": [
    {
     "data": {
      "text/plain": [
       "False"
      ]
     },
     "execution_count": 31,
     "metadata": {},
     "output_type": "execute_result"
    }
   ],
   "source": [
    "book1 < book2"
   ]
  },
  {
   "cell_type": "code",
   "execution_count": 32,
   "id": "5b3cbef0-0eb9-4f69-92fd-271ead7ad903",
   "metadata": {},
   "outputs": [
    {
     "data": {
      "text/plain": [
       "\"Book('Life', 'Gosaye Emshaw', 324)\""
      ]
     },
     "execution_count": 32,
     "metadata": {},
     "output_type": "execute_result"
    }
   ],
   "source": [
    "repr(book1)"
   ]
  },
  {
   "cell_type": "markdown",
   "id": "0caf74aa-c885-4f1c-807c-16c283cfdd2c",
   "metadata": {},
   "source": [
    "# Chapter 9: Property Decorators"
   ]
  },
  {
   "cell_type": "code",
   "execution_count": 33,
   "id": "e048316b-4f79-4321-8ea9-8b00681e0a5e",
   "metadata": {},
   "outputs": [],
   "source": [
    "class Temprature:\n",
    "    def __init__(self, celsius = 0):\n",
    "        self._celsius = celsius\n",
    "\n",
    "    @property\n",
    "    def celsius(self):\n",
    "        return self._celsius\n",
    "\n",
    "    @celsius.setter\n",
    "    def celsius(self, value):\n",
    "        if value < -273.15:\n",
    "            raise ValueError(\"Temprature cannot be below absolute zero\")\n",
    "        self._celsius = value\n",
    "\n",
    "    @property\n",
    "    def fahrenheit(self):\n",
    "        return (self._celsius * 9/5) + 32\n",
    "\n",
    "    @fahrenheit.setter\n",
    "    def fahrenheit(self, value):\n",
    "         self.celsius = (value - 32) * 5/9"
   ]
  },
  {
   "cell_type": "code",
   "execution_count": 34,
   "id": "63d6cf03-9882-4e8a-ab85-9b8dc71dde97",
   "metadata": {},
   "outputs": [],
   "source": [
    "temp = Temprature(25)"
   ]
  },
  {
   "cell_type": "code",
   "execution_count": 35,
   "id": "38ba7ca0-d9e8-45a6-88d1-49b550da7d13",
   "metadata": {},
   "outputs": [
    {
     "name": "stdout",
     "output_type": "stream",
     "text": [
      "25\n"
     ]
    }
   ],
   "source": [
    "print(temp.celsius)"
   ]
  },
  {
   "cell_type": "code",
   "execution_count": 36,
   "id": "eb5796b7-8402-47ef-99da-692d4a2cb321",
   "metadata": {},
   "outputs": [
    {
     "name": "stdout",
     "output_type": "stream",
     "text": [
      "77.0\n"
     ]
    }
   ],
   "source": [
    "print(temp.fahrenheit)"
   ]
  },
  {
   "cell_type": "code",
   "execution_count": 37,
   "id": "9cf0a2b7-0cf6-497c-a4f4-a61f0473cceb",
   "metadata": {},
   "outputs": [],
   "source": [
    "temp.fahrenheit = 120"
   ]
  },
  {
   "cell_type": "code",
   "execution_count": 38,
   "id": "5ce67f06-f6fb-44de-a32b-c25feb8ac9b8",
   "metadata": {},
   "outputs": [
    {
     "name": "stdout",
     "output_type": "stream",
     "text": [
      "48.888888888888886\n"
     ]
    }
   ],
   "source": [
    "print(temp.celsius)"
   ]
  },
  {
   "cell_type": "markdown",
   "id": "e2ffbbff-39ca-4d10-91e9-b52c471dfb6c",
   "metadata": {},
   "source": [
    "# Chapter 10: Putting It All Together - A Real Example"
   ]
  },
  {
   "cell_type": "markdown",
   "id": "463ee6b9-5efb-4525-acab-1cbe904ef3b9",
   "metadata": {},
   "source": [
    "Let's create a simple library management system:"
   ]
  },
  {
   "cell_type": "code",
   "execution_count": 39,
   "id": "b06dc282-77ee-4ea8-b6fa-472800ceb5be",
   "metadata": {},
   "outputs": [],
   "source": [
    "class LibrarySystem:\n",
    "    total_items = 0\n",
    "    def __init__(self, title, item_id):\n",
    "        self.title = title\n",
    "        self.item_id = item_id\n",
    "        self.is_checked_out = False\n",
    "        self.checked_out_by = None\n",
    "        LibrarySystem.total_items += 1\n",
    "\n",
    "    def check_out(self, patron_name):\n",
    "        if not self.is_checked_out:\n",
    "            self.is_checked_out = True\n",
    "            self.checkd_out_by = patron_name\n",
    "            return f\"'{self.title}' checked out to {patron_name}\"\n",
    "        return f\"'{self.title}' is already checked out\"\n",
    "\n",
    "    def check_in(self):\n",
    "        if self.is_checked_out:\n",
    "            patron = self.checked_out_by\n",
    "            self.is_checked_out = False\n",
    "            self.checked_out_by = None\n",
    "            return f\"'{self.title}' returned by {patron}\"\n",
    "        return f\"'{self.title}' was not checked out\"\n",
    "\n",
    "    def __str__(self):\n",
    "        status = \"Available\" if not self.is_checked_out else f\"Checked out to {self.checkd_out_by}\"\n",
    "        return f\"{self.title} - {status}\"\n",
    "\n",
    "class Book(LibrarySystem):\n",
    "    def __init__(self, title, author, isbn, pages):\n",
    "        super().__init__(title, f\"BOOK-{isbn}\")\n",
    "        self.author = author\n",
    "        self.isbn = isbn\n",
    "        self.pages = pages\n",
    "    def __str__(self):\n",
    "        base_info = super.__str__()\n",
    "        return f\"Book: {base_info} by {self.author}\"\n",
    "\n",
    "class DVD(LibrarySystem):\n",
    "    def __init__(self, title, director, runtime):\n",
    "        super().__init__(title, f\"DVD-{title.replace(' ', '').upper()}\")\n",
    "        self.director = director\n",
    "        self.runtime = runtime\n",
    "\n",
    "    def __str__(self):\n",
    "        base_info = super().__str__()\n",
    "        return f\"DVD: {base_info} directed by {self.director}\"\n",
    "\n",
    "class Library:\n",
    "    def __init__(self, name):\n",
    "        self.name = name\n",
    "        self.items = []\n",
    "\n",
    "    def add_item(self, item):\n",
    "        self.items.append(item)\n",
    "        return f\"Added '{item.title}' to {self.name}\"\n",
    "\n",
    "    def find_item(self, title):\n",
    "        for item in self.items:\n",
    "            if item.title.lower() == title.lower():\n",
    "                return item\n",
    "        return None\n",
    "\n",
    "    def list_available_items(self):\n",
    "        available = [item for item in self.items if not item.is_checked_out]\n",
    "        return available\n",
    "    \n",
    "    def __len__(self):\n",
    "        return len(self.items)"
   ]
  },
  {
   "cell_type": "code",
   "execution_count": 40,
   "id": "6447c2aa-bffc-4392-b973-309f8b4e9963",
   "metadata": {},
   "outputs": [],
   "source": [
    "city_library = Library(\"City Library\")"
   ]
  },
  {
   "cell_type": "code",
   "execution_count": 41,
   "id": "754e9a8e-1ca7-4e90-a119-ed83c74b2fdf",
   "metadata": {},
   "outputs": [],
   "source": [
    "book1 = Book(\"The Hobbit\", \"J.R.R. Tolkien\", \"978-0547928227\", 304)\n",
    "book2 = Book(\"Dune\", \"Frank Herbert\", \"978-0441172719\", 688)\n",
    "dvd1 = DVD(\"Inception\", \"Christopher Nolan\", 148)"
   ]
  },
  {
   "cell_type": "code",
   "execution_count": 42,
   "id": "2cab4390-a456-44b7-b162-a8ee3549112c",
   "metadata": {},
   "outputs": [
    {
     "data": {
      "text/plain": [
       "\"Added 'Inception' to City Library\""
      ]
     },
     "execution_count": 42,
     "metadata": {},
     "output_type": "execute_result"
    }
   ],
   "source": [
    "city_library.add_item(book1)\n",
    "city_library.add_item(book2)\n",
    "city_library.add_item(dvd1)"
   ]
  },
  {
   "cell_type": "code",
   "execution_count": 43,
   "id": "4b7ac594-e443-4c71-9c0f-3af6980339de",
   "metadata": {},
   "outputs": [
    {
     "name": "stdout",
     "output_type": "stream",
     "text": [
      "'The Hobbit' checked out to Alice\n"
     ]
    }
   ],
   "source": [
    "print(book1.check_out(\"Alice\"))"
   ]
  },
  {
   "cell_type": "code",
   "execution_count": null,
   "id": "c44f30cb-1848-405d-b01e-f1684a0ebc10",
   "metadata": {},
   "outputs": [],
   "source": []
  }
 ],
 "metadata": {
  "kernelspec": {
   "display_name": "Python (data-analysis)",
   "language": "python",
   "name": "data-anaysis"
  },
  "language_info": {
   "codemirror_mode": {
    "name": "ipython",
    "version": 3
   },
   "file_extension": ".py",
   "mimetype": "text/x-python",
   "name": "python",
   "nbconvert_exporter": "python",
   "pygments_lexer": "ipython3",
   "version": "3.11.13"
  }
 },
 "nbformat": 4,
 "nbformat_minor": 5
}
