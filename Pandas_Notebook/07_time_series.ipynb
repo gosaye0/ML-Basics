{
 "cells": [
  {
   "cell_type": "markdown",
   "id": "c0843e84-edba-4b0f-9386-376ff68ac27f",
   "metadata": {},
   "source": [
    "# Time Series"
   ]
  },
  {
   "cell_type": "code",
   "execution_count": 1,
   "id": "4e62c08e-e94b-4890-bca3-6cd28d6a321b",
   "metadata": {},
   "outputs": [],
   "source": [
    "import numpy as np\n",
    "import pandas as pd\n",
    "import matplotlib.pyplot as plt\n",
    "import seaborn as sns\n",
    "from datetime import datetime"
   ]
  },
  {
   "cell_type": "markdown",
   "id": "cd7d3807-6508-47f5-8657-40e8c1c44fd9",
   "metadata": {},
   "source": [
    "## What is a Time Series?\n",
    "+ Definition:\n",
    "A time series is a set of observations collected sequentially over time. Common examples include stock prices, weather data, sensor readings, and website traffic.\n",
    "\n",
    "+ Key Characteristics:\n",
    "\n",
    "    + Temporal Order: The order of observations matters.\n",
    "    + Trends: Long-term increases or decreases in the data.\n",
    "    + Seasonality: Regular, periodic fluctuations (e.g., daily, monthly, yearly).\n",
    "    + Cyclic Patterns: Fluctuations that are not of fixed period.\n",
    "    + Noise: Random variability that can obscure patterns."
   ]
  },
  {
   "cell_type": "markdown",
   "id": "7eee0f46-7c90-4aba-bcc4-311565532ed0",
   "metadata": {},
   "source": [
    "## Why Use Time Series Analysis?\n",
    "+ Forecasting:  \n",
    "Time series analysis enables predicting future values based on historical trends. This is crucial in fields like finance, economics, and demand planning.\n",
    "+ Trend and Seasonality Detection:  \n",
    "Understanding trends and seasonal effects helps in making strategic decisions, such as optimizing inventory levels or planning marketing campaigns.\n",
    "+ Anomaly Detection:  \n",
    "Time series methods can help identify unusual patterns or outliers, which might indicate system failures or fraud.\n",
    "+ Policy and Decision Making:  \n",
    "Analyzing time-dependent data can inform policy decisions and operational strategies across many industries."
   ]
  },
  {
   "cell_type": "markdown",
   "id": "fe6f1a3d-ee6a-4277-9758-13d51b69db78",
   "metadata": {},
   "source": [
    "Related terms  \n",
    "+ Timestamps: Specific instants in time.\n",
    "+ Fixed periods: Such as the whole month of February 2025, or the whole year 2025.\n",
    "+ Intervals of time: Indicated by a start and end timestamp. Periods can be thought of as special cases\n",
    " of intervals.\n",
    "+ Experiment or elapsed time: Each timestamp is a measure of time relative to a particular start time (e.g., the diameter of a cookie baking each second since being placed in the oven), starting from 0.\n",
    "\n",
    "\n"
   ]
  },
  {
   "cell_type": "markdown",
   "id": "d81ad2fd-a3ca-4c9b-9e2a-36eb08f748b8",
   "metadata": {},
   "source": [
    "## Date and Time Data Types and Tools"
   ]
  },
  {
   "cell_type": "code",
   "execution_count": 2,
   "id": "375742c0-99d6-4003-ac2e-ae9e242abc13",
   "metadata": {},
   "outputs": [],
   "source": [
    "now = datetime.now()"
   ]
  },
  {
   "cell_type": "code",
   "execution_count": 3,
   "id": "f8169dec-4906-46e8-898d-26ac08a3361b",
   "metadata": {},
   "outputs": [
    {
     "data": {
      "text/plain": [
       "datetime.datetime(2025, 9, 6, 13, 0, 29, 144438)"
      ]
     },
     "execution_count": 3,
     "metadata": {},
     "output_type": "execute_result"
    }
   ],
   "source": [
    "now"
   ]
  },
  {
   "cell_type": "code",
   "execution_count": 4,
   "id": "0584140a-b5a1-4d2e-b206-bb0e2b0ec5ef",
   "metadata": {},
   "outputs": [
    {
     "data": {
      "text/plain": [
       "(2025, 9, 6)"
      ]
     },
     "execution_count": 4,
     "metadata": {},
     "output_type": "execute_result"
    }
   ],
   "source": [
    "now.year, now.month, now.day"
   ]
  },
  {
   "cell_type": "markdown",
   "id": "bac793a1-af65-48e9-a172-39ed78b0f1bc",
   "metadata": {},
   "source": [
    "datetime stores both the date and time down to the microsecond. datetime.time\n",
    " delta, or simply timedelta, represents the temporal difference between two date\n",
    " time objects:"
   ]
  },
  {
   "cell_type": "code",
   "execution_count": 5,
   "id": "945d2f7e-0bc6-4625-8fab-1369d60f2f49",
   "metadata": {},
   "outputs": [],
   "source": [
    "d = datetime.now() - datetime(2025, 1, 23)"
   ]
  },
  {
   "cell_type": "code",
   "execution_count": 6,
   "id": "0acef67c-6e9d-4995-ba47-84d479c968a4",
   "metadata": {},
   "outputs": [
    {
     "data": {
      "text/plain": [
       "datetime.timedelta(days=226, seconds=46829, microseconds=171308)"
      ]
     },
     "execution_count": 6,
     "metadata": {},
     "output_type": "execute_result"
    }
   ],
   "source": [
    "d"
   ]
  },
  {
   "cell_type": "code",
   "execution_count": 7,
   "id": "80f1c288-f8a6-4fbf-84e2-e5e060f1498b",
   "metadata": {},
   "outputs": [
    {
     "data": {
      "text/plain": [
       "226"
      ]
     },
     "execution_count": 7,
     "metadata": {},
     "output_type": "execute_result"
    }
   ],
   "source": [
    "d.days"
   ]
  },
  {
   "cell_type": "code",
   "execution_count": 8,
   "id": "8fdd3043-37cd-4b5f-a45b-6bb8fd93cd88",
   "metadata": {},
   "outputs": [
    {
     "data": {
      "text/plain": [
       "46829"
      ]
     },
     "execution_count": 8,
     "metadata": {},
     "output_type": "execute_result"
    }
   ],
   "source": [
    "d.seconds"
   ]
  },
  {
   "cell_type": "markdown",
   "id": "8c3f6f68-df00-466c-9302-6018f223dbfe",
   "metadata": {},
   "source": [
    "You can add (or subtract) a timedelta or multiple thereof to a datetime object to\n",
    " yield a new shifted object:"
   ]
  },
  {
   "cell_type": "code",
   "execution_count": 9,
   "id": "6f5231a9-2efb-40fb-9453-d82b558ed9d8",
   "metadata": {},
   "outputs": [],
   "source": [
    "from datetime import timedelta"
   ]
  },
  {
   "cell_type": "code",
   "execution_count": 10,
   "id": "391073a3-241d-49eb-8075-409a30c8a996",
   "metadata": {},
   "outputs": [],
   "source": [
    "delta = timedelta(days = 123)"
   ]
  },
  {
   "cell_type": "code",
   "execution_count": 11,
   "id": "18688318-be19-41b2-b526-af787ff77af9",
   "metadata": {},
   "outputs": [
    {
     "data": {
      "text/plain": [
       "datetime.datetime(2025, 9, 6, 13, 0, 29, 144438)"
      ]
     },
     "execution_count": 11,
     "metadata": {},
     "output_type": "execute_result"
    }
   ],
   "source": [
    "now"
   ]
  },
  {
   "cell_type": "code",
   "execution_count": 12,
   "id": "652caa56-cad0-467f-bf33-72c1d093ccf4",
   "metadata": {},
   "outputs": [
    {
     "data": {
      "text/plain": [
       "datetime.datetime(2026, 1, 7, 13, 0, 29, 144438)"
      ]
     },
     "execution_count": 12,
     "metadata": {},
     "output_type": "execute_result"
    }
   ],
   "source": [
    "now + delta"
   ]
  },
  {
   "cell_type": "code",
   "execution_count": 13,
   "id": "b40f56f3-804b-492c-b296-a51a9aa62175",
   "metadata": {},
   "outputs": [
    {
     "data": {
      "text/plain": [
       "datetime.datetime(2025, 5, 6, 13, 0, 29, 144438)"
      ]
     },
     "execution_count": 13,
     "metadata": {},
     "output_type": "execute_result"
    }
   ],
   "source": [
    "now - delta"
   ]
  },
  {
   "cell_type": "code",
   "execution_count": 14,
   "id": "283c79aa-72bf-4e8c-9b6f-c377a1ebb1fd",
   "metadata": {},
   "outputs": [
    {
     "data": {
      "text/plain": [
       "datetime.datetime(2025, 1, 3, 13, 0, 29, 144438)"
      ]
     },
     "execution_count": 14,
     "metadata": {},
     "output_type": "execute_result"
    }
   ],
   "source": [
    "now - 2 * delta"
   ]
  },
  {
   "cell_type": "markdown",
   "id": "5bbaf533-2c29-44a1-9573-bea5c71a52db",
   "metadata": {},
   "source": [
    "Related terms:\n",
    "+ Time: Represents a time (hour, minute, second, microsecond) independent of any day.\n",
    "+ date: Represents a date (year, month, and day) without time. \n",
    "+ datetime: Combines a date and time.\n",
    "+ timedelta: Represents the difference between two dates, times, or datetime objects.\n",
    "+ tzinfo: Provide support for time zones."
   ]
  },
  {
   "cell_type": "markdown",
   "id": "635149b1-a53e-4a6d-9570-857a1ef527b7",
   "metadata": {},
   "source": [
    "###  Converting Between String and Datetime"
   ]
  },
  {
   "cell_type": "markdown",
   "id": "eba9eb91-755c-489e-a39d-595f764e6472",
   "metadata": {},
   "source": [
    "Converting Strings to Datetime Objects:  \n",
    "The strptime() method from the datetime module parses a string into a datetime object according to a specified format.\n",
    "Syntax:  \n",
    "```datetime_object = datetime.strptime(date_string, format)```\n",
    "\n",
    "+ date_string: The date and/or time in string format.\n",
    "+ format: A format string that specifies how to interpret the string. Common format directives include:\n",
    "    + %Y: 4-digit year (e.g., 2023)\n",
    "    + %m: 2-digit month (e.g., 08)\n",
    "    + %d: 2-digit day (e.g., 15)\n",
    "    + %H: 2-digit hour (24-hour clock)\n",
    "    + %M: 2-digit minute\n",
    "    + %S: 2-digit second\n",
    "    + %f: Shortcut for %Y-%m-%d (e.g., 2012-4-18)\n",
    "    + %D: Shortcut for %m/%d/%y (e.g., 04/18/12)"
   ]
  },
  {
   "cell_type": "code",
   "execution_count": 15,
   "id": "ddf59679-9869-4d57-98be-101cb6d68278",
   "metadata": {},
   "outputs": [],
   "source": [
    "date_str = \"2023-08-15 14:30:00\"\n",
    "dt = datetime.strptime(date_str, \"%Y-%m-%d %H:%M:%S\")"
   ]
  },
  {
   "cell_type": "code",
   "execution_count": 16,
   "id": "22a3c773-f3cb-4435-8b4f-74d01dc201e2",
   "metadata": {},
   "outputs": [
    {
     "data": {
      "text/plain": [
       "datetime.datetime(2023, 8, 15, 14, 30)"
      ]
     },
     "execution_count": 16,
     "metadata": {},
     "output_type": "execute_result"
    }
   ],
   "source": [
    "dt"
   ]
  },
  {
   "cell_type": "code",
   "execution_count": 17,
   "id": "2cd4ab76-33ca-4ceb-b04a-a5397be83131",
   "metadata": {},
   "outputs": [
    {
     "data": {
      "text/plain": [
       "2023"
      ]
     },
     "execution_count": 17,
     "metadata": {},
     "output_type": "execute_result"
    }
   ],
   "source": [
    "dt.year"
   ]
  },
  {
   "cell_type": "code",
   "execution_count": 18,
   "id": "6aa8c661-cdf9-4cb8-a076-4af1157a9795",
   "metadata": {},
   "outputs": [
    {
     "data": {
      "text/plain": [
       "14"
      ]
     },
     "execution_count": 18,
     "metadata": {},
     "output_type": "execute_result"
    }
   ],
   "source": [
    "dt.hour"
   ]
  },
  {
   "cell_type": "markdown",
   "id": "737625a8-f5ea-499c-914b-cb7d4b404a86",
   "metadata": {},
   "source": [
    "Using Pandas pd.to_datetime()"
   ]
  },
  {
   "cell_type": "code",
   "execution_count": 19,
   "id": "f1161ee9-19de-454c-8be7-c89defd50f17",
   "metadata": {},
   "outputs": [],
   "source": [
    "date_str = \"2023-08-15 14:30:00\"\n",
    "dt_pd = pd.to_datetime(date_str)"
   ]
  },
  {
   "cell_type": "code",
   "execution_count": 20,
   "id": "7e8f175e-975b-4823-9896-541ff4f6ef80",
   "metadata": {},
   "outputs": [
    {
     "data": {
      "text/plain": [
       "Timestamp('2023-08-15 14:30:00')"
      ]
     },
     "execution_count": 20,
     "metadata": {},
     "output_type": "execute_result"
    }
   ],
   "source": [
    "dt_pd"
   ]
  },
  {
   "cell_type": "markdown",
   "id": "53af1f78-2f53-469a-b160-4fa32565b85b",
   "metadata": {},
   "source": [
    "pd.to_datetime() is very powerful when you have a Series or DataFrame column with date strings, and it can often parse dates without you having to specify the exact format."
   ]
  },
  {
   "cell_type": "code",
   "execution_count": 21,
   "id": "5d2d7d45-02b7-46ae-b862-9c45d0442756",
   "metadata": {},
   "outputs": [],
   "source": [
    "datestrs = [\"7/6/2011\", \"8/6/2011\"]\n",
    "dtl = [datetime.strptime(dt, \"%m/%d/%Y\") for dt in datestrs]"
   ]
  },
  {
   "cell_type": "code",
   "execution_count": 22,
   "id": "087775ae-eb57-4b98-8507-ee826b0f6702",
   "metadata": {},
   "outputs": [
    {
     "data": {
      "text/plain": [
       "[datetime.datetime(2011, 7, 6, 0, 0), datetime.datetime(2011, 8, 6, 0, 0)]"
      ]
     },
     "execution_count": 22,
     "metadata": {},
     "output_type": "execute_result"
    }
   ],
   "source": [
    "dtl"
   ]
  },
  {
   "cell_type": "code",
   "execution_count": 23,
   "id": "bd33358d-8b68-4170-a718-92d9bf34738e",
   "metadata": {},
   "outputs": [
    {
     "data": {
      "text/plain": [
       "DatetimeIndex(['2011-07-06', '2011-08-06'], dtype='datetime64[ns]', freq=None)"
      ]
     },
     "execution_count": 23,
     "metadata": {},
     "output_type": "execute_result"
    }
   ],
   "source": [
    "pd.to_datetime(datestrs)"
   ]
  },
  {
   "cell_type": "markdown",
   "id": "dd02b2ab-4fe5-4a0e-84ff-0e0573ed8ff7",
   "metadata": {},
   "source": [
    "Converting Datetime Objects to Strings  \n",
    "Using datetime.strftime()  \n",
    "``` date_string = datetime_object.strftime(format)```"
   ]
  },
  {
   "cell_type": "code",
   "execution_count": 24,
   "id": "ed8b1398-49e4-47d9-a8a5-e869ef0fcc07",
   "metadata": {},
   "outputs": [],
   "source": [
    "now = datetime.now()"
   ]
  },
  {
   "cell_type": "code",
   "execution_count": 25,
   "id": "33ee2a7d-07c9-4daf-89b1-bca446457cab",
   "metadata": {},
   "outputs": [
    {
     "data": {
      "text/plain": [
       "'September 06, 2025 at 01:00 PM'"
      ]
     },
     "execution_count": 25,
     "metadata": {},
     "output_type": "execute_result"
    }
   ],
   "source": [
    "now.strftime(\"%B %d, %Y at %I:%M %p\" )"
   ]
  },
  {
   "cell_type": "markdown",
   "id": "d873acb6-10e3-4453-94c9-7a16e1adc442",
   "metadata": {},
   "source": [
    "Using Pandas dt.strftime()"
   ]
  },
  {
   "cell_type": "code",
   "execution_count": 26,
   "id": "08f6b893-72cc-4df3-9374-e33db7a2d670",
   "metadata": {},
   "outputs": [],
   "source": [
    "date_series = pd.to_datetime(pd.Series([\"2023-08-15 14:30:00\", \"2023-09-10 09:15:00\"]))"
   ]
  },
  {
   "cell_type": "code",
   "execution_count": 27,
   "id": "65960f05-226b-4dc0-b28f-a18606021fce",
   "metadata": {},
   "outputs": [
    {
     "data": {
      "text/plain": [
       "0   2023-08-15 14:30:00\n",
       "1   2023-09-10 09:15:00\n",
       "dtype: datetime64[ns]"
      ]
     },
     "execution_count": 27,
     "metadata": {},
     "output_type": "execute_result"
    }
   ],
   "source": [
    "date_series"
   ]
  },
  {
   "cell_type": "code",
   "execution_count": 28,
   "id": "f611d53c-c589-44c9-86ca-dea1420047af",
   "metadata": {},
   "outputs": [
    {
     "data": {
      "text/plain": [
       "0       August 15, 2023 at 02:30 PM\n",
       "1    September 10, 2023 at 09:15 AM\n",
       "dtype: object"
      ]
     },
     "execution_count": 28,
     "metadata": {},
     "output_type": "execute_result"
    }
   ],
   "source": [
    "date_series.dt.strftime(\"%B %d, %Y at %I:%M %p\")"
   ]
  },
  {
   "cell_type": "markdown",
   "id": "f0fd5912-1d2d-4959-8f49-0232dd140adb",
   "metadata": {},
   "source": [
    "deep on pandas methods"
   ]
  },
  {
   "cell_type": "markdown",
   "id": "520eb1ef-8cfd-4337-8611-689e125d8b85",
   "metadata": {},
   "source": [
    "1. pd.to_datetime()  \n",
    "pd.to_datetime() converts a column (or a list/array) of date-like objects (usually strings) into Pandas datetime objects. This conversion allows you to perform time series operations (such as resampling, time-based indexing, and arithmetic) more efficiently.\n",
    "\n",
    "Key Parameters\n",
    "+ arg:\n",
    "The data to convert (string, list, Series, DataFrame, etc.).\n",
    "\n",
    "+ format (str, optional):\n",
    "A string specifying the expected format of the date strings (e.g., \"%Y-%m-%d %H:%M:%S\"). Providing a format can speed up parsing and reduce errors.\n",
    "\n",
    "+ infer_datetime_format (bool, default=False):  \n",
    "If set to True, Pandas will attempt to infer the datetime format automatically, which can improve performance if the format is consistent.\n",
    "\n",
    "+ errors (str, default='raise'):  \n",
    "How to handle errors:\n",
    "\n",
    "    + 'raise': Raise an exception for invalid parsing.  \n",
    "    + 'coerce': Convert invalid parsing to NaT (Not a Time).  \n",
    "    + 'ignore': Return the input if parsing fails.\n",
    "+ dayfirst (bool, default=False):  \n",
    "When parsing dates with ambiguous formats (e.g., \"10/11/2020\"), if True, it interprets the first number as the day.\n",
    "\n",
    "+ utc (bool or string, default=None):\n",
    "If True, converts the result to UTC time. You can also specify a timezone (e.g., \"UTC\")."
   ]
  },
  {
   "cell_type": "code",
   "execution_count": 29,
   "id": "44045183-29ca-41f1-a307-0d9e45e58875",
   "metadata": {},
   "outputs": [
    {
     "data": {
      "text/plain": [
       "Timestamp('2023-08-15 14:30:00')"
      ]
     },
     "execution_count": 29,
     "metadata": {},
     "output_type": "execute_result"
    }
   ],
   "source": [
    "date_str = \"2023-08-15 14:30:00\"\n",
    "pd.to_datetime(date_str, format = \"%Y-%m-%d %H:%M:%S\")"
   ]
  },
  {
   "cell_type": "code",
   "execution_count": 30,
   "id": "0a8c6dae-fa65-457b-8472-dd25dd139d56",
   "metadata": {},
   "outputs": [],
   "source": [
    "s = pd.Series([\"2023-08-15\", \"2023-09-10\", \"2023-10-05\"])"
   ]
  },
  {
   "cell_type": "code",
   "execution_count": 31,
   "id": "90fa694c-0161-4ba8-902a-43a98d047be9",
   "metadata": {},
   "outputs": [
    {
     "data": {
      "text/plain": [
       "0    2023-08-15\n",
       "1    2023-09-10\n",
       "2    2023-10-05\n",
       "dtype: object"
      ]
     },
     "execution_count": 31,
     "metadata": {},
     "output_type": "execute_result"
    }
   ],
   "source": [
    "s"
   ]
  },
  {
   "cell_type": "code",
   "execution_count": 32,
   "id": "484238e7-8d2f-49db-99ca-03867362ed4b",
   "metadata": {},
   "outputs": [
    {
     "data": {
      "text/plain": [
       "0   2023-08-15\n",
       "1   2023-09-10\n",
       "2   2023-10-05\n",
       "dtype: datetime64[ns]"
      ]
     },
     "execution_count": 32,
     "metadata": {},
     "output_type": "execute_result"
    }
   ],
   "source": [
    "pd.to_datetime(s)"
   ]
  },
  {
   "cell_type": "markdown",
   "id": "b1245b56-f9b7-4329-b2aa-6db23f87f8ba",
   "metadata": {},
   "source": [
    "If your date strings follow a consistent but unknown format, you can let Pandas infer it:"
   ]
  },
  {
   "cell_type": "code",
   "execution_count": 33,
   "id": "423280be-ae29-4a5c-ac78-a6f05af9c63e",
   "metadata": {},
   "outputs": [
    {
     "data": {
      "text/plain": [
       "0   2023-08-15\n",
       "1   2023-09-10\n",
       "2   2023-10-05\n",
       "dtype: datetime64[ns]"
      ]
     },
     "execution_count": 33,
     "metadata": {},
     "output_type": "execute_result"
    }
   ],
   "source": [
    "date_series = pd.Series([\"15/08/2023\", \"10/09/2023\", \"05/10/2023\"])\n",
    "pd.to_datetime(date_series, dayfirst=True)"
   ]
  },
  {
   "cell_type": "markdown",
   "id": "5923f1e8-f0d1-426f-b1a5-b46220663e49",
   "metadata": {},
   "source": [
    "If some date strings might be invalid, use the errors parameter:"
   ]
  },
  {
   "cell_type": "code",
   "execution_count": 34,
   "id": "acda18f8-a039-40f1-a8e8-9efea8eb2bdf",
   "metadata": {},
   "outputs": [
    {
     "data": {
      "text/plain": [
       "0   2023-08-15\n",
       "1          NaT\n",
       "2   2023-10-05\n",
       "dtype: datetime64[ns]"
      ]
     },
     "execution_count": 34,
     "metadata": {},
     "output_type": "execute_result"
    }
   ],
   "source": [
    "date_series = pd.Series([\"2023-08-15\", \"invalid_date\", \"2023-10-05\"])\n",
    "pd.to_datetime(date_series, errors='coerce')"
   ]
  },
  {
   "cell_type": "markdown",
   "id": "b426c22b-7b00-43ec-a392-15384bcf380e",
   "metadata": {},
   "source": [
    "2. pd.dt.strftime()  \n",
    "Once you have datetime objects, you might want to convert them back to strings in a specific format for reporting, display, or exporting. The dt.strftime() function is used on a Series of datetime objects to format each value as a string.\n",
    "\n",
    "Key Parameter\n",
    "+ format (str):  \n",
    "The format string using directives similar to those in datetime.strftime(). For example:\n",
    "    + %Y: 4-digit year.\n",
    "    + %m: 2-digit month.\n",
    "    + %d: 2-digit day.\n",
    "    + %H: Hour (24-hour clock).\n",
    "    + %M: Minute.\n",
    "    + %S: Second.\n",
    "    + %B: Full month name.\n",
    "    + %I: Hour (12-hour clock).\n",
    "    + %p: AM/PM indicator."
   ]
  },
  {
   "cell_type": "code",
   "execution_count": 35,
   "id": "e7914e82-43bb-45ed-b8c8-41764e4414d7",
   "metadata": {},
   "outputs": [
    {
     "data": {
      "text/plain": [
       "'August 15, 2023 at 02:30 PM'"
      ]
     },
     "execution_count": 35,
     "metadata": {},
     "output_type": "execute_result"
    }
   ],
   "source": [
    "# Create a datetime object\n",
    "dt_obj = datetime(2023, 8, 15, 14, 30, 0)\n",
    "# Format it as a string\n",
    "dt_obj.strftime(\"%B %d, %Y at %I:%M %p\")"
   ]
  },
  {
   "cell_type": "code",
   "execution_count": 36,
   "id": "37ea0f98-37e4-48b8-a8a8-d922891b1571",
   "metadata": {},
   "outputs": [
    {
     "data": {
      "text/plain": [
       "0       August 15, 2023\n",
       "1    September 10, 2023\n",
       "2      October 05, 2023\n",
       "dtype: object"
      ]
     },
     "execution_count": 36,
     "metadata": {},
     "output_type": "execute_result"
    }
   ],
   "source": [
    "# Create a Series of datetime objects\n",
    "date_series = pd.to_datetime(pd.Series([\"2023-08-15\", \"2023-09-10\", \"2023-10-05\"]))\n",
    "# Format each datetime in the Series\n",
    "date_series.dt.strftime(\"%B %d, %Y\")"
   ]
  },
  {
   "cell_type": "markdown",
   "id": "4cdf4e5f-b86b-4444-b219-c0f762164524",
   "metadata": {},
   "source": [
    "### Exercises"
   ]
  },
  {
   "cell_type": "markdown",
   "id": "0884ad6c-4b96-43d0-a667-ea40b1dc87c0",
   "metadata": {},
   "source": [
    "Exercise 1: Converting Date Strings with Different Formats  \n",
    "Task:  \n",
    "Convert the following list of date strings to datetime objects. Some strings are in \"YYYY/MM/DD\" format and others in \"DD-MM-YYYY\" format. Use appropriate parameters to handle them."
   ]
  },
  {
   "cell_type": "code",
   "execution_count": 37,
   "id": "f336aa55-0c36-4f7d-9289-289941b0c7a6",
   "metadata": {},
   "outputs": [],
   "source": [
    "date_list = [\"2023/08/15\", \"16-09-2023\", \"2023/10/05\", \"17-11-2023\"]\n",
    "def str_to_date(d):\n",
    "    try:\n",
    "        return pd.to_datetime(d, format = \"%Y/%m/%d\")\n",
    "    except:\n",
    "        return pd.to_datetime(d, format = \"%d-%m-%Y\")\n",
    "\n",
    "dt = [str_to_date(d) for d in date_list]"
   ]
  },
  {
   "cell_type": "code",
   "execution_count": 38,
   "id": "2177fa4f-9363-41e2-b09b-03fe9ec5d3d4",
   "metadata": {},
   "outputs": [
    {
     "data": {
      "text/plain": [
       "[Timestamp('2023-08-15 00:00:00'),\n",
       " Timestamp('2023-09-16 00:00:00'),\n",
       " Timestamp('2023-10-05 00:00:00'),\n",
       " Timestamp('2023-11-17 00:00:00')]"
      ]
     },
     "execution_count": 38,
     "metadata": {},
     "output_type": "execute_result"
    }
   ],
   "source": [
    "dt"
   ]
  },
  {
   "cell_type": "markdown",
   "id": "eec549e1-be42-4dfa-9bcd-04d1ced0432a",
   "metadata": {},
   "source": [
    "Exercise 2: Formatting a Date Column in a DataFrame  \n",
    "Task:  \n",
    "Create a DataFrame with a column of date strings (e.g., \"2023-08-15\", \"2023-08-16\", \"2023-08-17\"). Convert this column to datetime objects using pd.to_datetime() and then add a new column with the dates formatted as \"Month Day, Year\" (e.g., \"August 15, 2023\")."
   ]
  },
  {
   "cell_type": "code",
   "execution_count": 39,
   "id": "66b271c2-b915-445b-bb01-ac76c1294b57",
   "metadata": {},
   "outputs": [],
   "source": [
    "data = {'date_str': [\"2023-08-15\", \"2023-08-16\", \"2023-08-17\"]}\n",
    "df = pd.DataFrame(data)"
   ]
  },
  {
   "cell_type": "code",
   "execution_count": 40,
   "id": "f590fb27-9aec-4452-886a-30aa3e7703e7",
   "metadata": {},
   "outputs": [
    {
     "data": {
      "text/html": [
       "<div>\n",
       "<style scoped>\n",
       "    .dataframe tbody tr th:only-of-type {\n",
       "        vertical-align: middle;\n",
       "    }\n",
       "\n",
       "    .dataframe tbody tr th {\n",
       "        vertical-align: top;\n",
       "    }\n",
       "\n",
       "    .dataframe thead th {\n",
       "        text-align: right;\n",
       "    }\n",
       "</style>\n",
       "<table border=\"1\" class=\"dataframe\">\n",
       "  <thead>\n",
       "    <tr style=\"text-align: right;\">\n",
       "      <th></th>\n",
       "      <th>date_str</th>\n",
       "    </tr>\n",
       "  </thead>\n",
       "  <tbody>\n",
       "    <tr>\n",
       "      <th>0</th>\n",
       "      <td>2023-08-15</td>\n",
       "    </tr>\n",
       "    <tr>\n",
       "      <th>1</th>\n",
       "      <td>2023-08-16</td>\n",
       "    </tr>\n",
       "    <tr>\n",
       "      <th>2</th>\n",
       "      <td>2023-08-17</td>\n",
       "    </tr>\n",
       "  </tbody>\n",
       "</table>\n",
       "</div>"
      ],
      "text/plain": [
       "     date_str\n",
       "0  2023-08-15\n",
       "1  2023-08-16\n",
       "2  2023-08-17"
      ]
     },
     "execution_count": 40,
     "metadata": {},
     "output_type": "execute_result"
    }
   ],
   "source": [
    "df"
   ]
  },
  {
   "cell_type": "code",
   "execution_count": 41,
   "id": "358fedeb-5e67-49ee-b66c-d1f644bf2b1b",
   "metadata": {},
   "outputs": [],
   "source": [
    "df['date_str'] = pd.to_datetime(df['date_str'])"
   ]
  },
  {
   "cell_type": "code",
   "execution_count": 42,
   "id": "a86ea1cd-d0f4-49bb-b617-aec66cfc0abf",
   "metadata": {},
   "outputs": [],
   "source": [
    "df.columns = ['date']"
   ]
  },
  {
   "cell_type": "code",
   "execution_count": 43,
   "id": "70c78725-ffca-40df-855b-47bd72c2880f",
   "metadata": {},
   "outputs": [
    {
     "data": {
      "text/html": [
       "<div>\n",
       "<style scoped>\n",
       "    .dataframe tbody tr th:only-of-type {\n",
       "        vertical-align: middle;\n",
       "    }\n",
       "\n",
       "    .dataframe tbody tr th {\n",
       "        vertical-align: top;\n",
       "    }\n",
       "\n",
       "    .dataframe thead th {\n",
       "        text-align: right;\n",
       "    }\n",
       "</style>\n",
       "<table border=\"1\" class=\"dataframe\">\n",
       "  <thead>\n",
       "    <tr style=\"text-align: right;\">\n",
       "      <th></th>\n",
       "      <th>date</th>\n",
       "    </tr>\n",
       "  </thead>\n",
       "  <tbody>\n",
       "    <tr>\n",
       "      <th>0</th>\n",
       "      <td>2023-08-15</td>\n",
       "    </tr>\n",
       "    <tr>\n",
       "      <th>1</th>\n",
       "      <td>2023-08-16</td>\n",
       "    </tr>\n",
       "    <tr>\n",
       "      <th>2</th>\n",
       "      <td>2023-08-17</td>\n",
       "    </tr>\n",
       "  </tbody>\n",
       "</table>\n",
       "</div>"
      ],
      "text/plain": [
       "        date\n",
       "0 2023-08-15\n",
       "1 2023-08-16\n",
       "2 2023-08-17"
      ]
     },
     "execution_count": 43,
     "metadata": {},
     "output_type": "execute_result"
    }
   ],
   "source": [
    "df"
   ]
  },
  {
   "cell_type": "code",
   "execution_count": 44,
   "id": "bc8741f2-10e9-4853-bf8f-2e88d2102f66",
   "metadata": {},
   "outputs": [],
   "source": [
    "df['date_f'] = df['date'].dt.strftime(\"%B %d, %Y\")"
   ]
  },
  {
   "cell_type": "code",
   "execution_count": 45,
   "id": "887cbcde-2795-416c-a851-e177bfe06323",
   "metadata": {},
   "outputs": [
    {
     "data": {
      "text/html": [
       "<div>\n",
       "<style scoped>\n",
       "    .dataframe tbody tr th:only-of-type {\n",
       "        vertical-align: middle;\n",
       "    }\n",
       "\n",
       "    .dataframe tbody tr th {\n",
       "        vertical-align: top;\n",
       "    }\n",
       "\n",
       "    .dataframe thead th {\n",
       "        text-align: right;\n",
       "    }\n",
       "</style>\n",
       "<table border=\"1\" class=\"dataframe\">\n",
       "  <thead>\n",
       "    <tr style=\"text-align: right;\">\n",
       "      <th></th>\n",
       "      <th>date</th>\n",
       "      <th>date_f</th>\n",
       "    </tr>\n",
       "  </thead>\n",
       "  <tbody>\n",
       "    <tr>\n",
       "      <th>0</th>\n",
       "      <td>2023-08-15</td>\n",
       "      <td>August 15, 2023</td>\n",
       "    </tr>\n",
       "    <tr>\n",
       "      <th>1</th>\n",
       "      <td>2023-08-16</td>\n",
       "      <td>August 16, 2023</td>\n",
       "    </tr>\n",
       "    <tr>\n",
       "      <th>2</th>\n",
       "      <td>2023-08-17</td>\n",
       "      <td>August 17, 2023</td>\n",
       "    </tr>\n",
       "  </tbody>\n",
       "</table>\n",
       "</div>"
      ],
      "text/plain": [
       "        date           date_f\n",
       "0 2023-08-15  August 15, 2023\n",
       "1 2023-08-16  August 16, 2023\n",
       "2 2023-08-17  August 17, 2023"
      ]
     },
     "execution_count": 45,
     "metadata": {},
     "output_type": "execute_result"
    }
   ],
   "source": [
    "df"
   ]
  },
  {
   "cell_type": "markdown",
   "id": "7945b410-b51b-47a9-a283-9cb73cadacb7",
   "metadata": {},
   "source": [
    "Exercise 3: Handling Invalid Date Strings  \n",
    "Task:  \n",
    "Given a Series with some invalid date strings, convert them to datetime objects, ensuring that errors are handled gracefully by setting invalid entries to NaT."
   ]
  },
  {
   "cell_type": "code",
   "execution_count": 46,
   "id": "807b924d-3609-4558-81c8-7db8d1f1e7b8",
   "metadata": {},
   "outputs": [
    {
     "data": {
      "text/plain": [
       "0   2023-08-15\n",
       "1          NaT\n",
       "2   2023-10-05\n",
       "dtype: datetime64[ns]"
      ]
     },
     "execution_count": 46,
     "metadata": {},
     "output_type": "execute_result"
    }
   ],
   "source": [
    "date_series = pd.Series([\"2023-08-15\", \"not_a_date\", \"2023-10-05\"])\n",
    "pd.to_datetime(date_series, format = \"%Y-%m-%d\", errors = 'coerce')"
   ]
  },
  {
   "cell_type": "code",
   "execution_count": null,
   "id": "da2b6460-dce5-40c1-a028-31bc1a3c4617",
   "metadata": {},
   "outputs": [],
   "source": []
  },
  {
   "cell_type": "markdown",
   "id": "3c80e722-49c2-4322-b317-197464df5b3d",
   "metadata": {},
   "source": [
    "## Basics Of Time Series"
   ]
  },
  {
   "cell_type": "markdown",
   "id": "74abd369-5f4e-4505-9323-7341c281dacc",
   "metadata": {},
   "source": [
    "### Timestamp\n",
    "pd.Timestamp() is a Pandas function and class that serves as the primary way to represent a single point in time. It is essentially Pandas’ equivalent to Python’s built-in datetime.datetime, but with additional functionality and integration with Pandas’ time series tools.\n",
    "\n",
    "+ Creation of Timestamp Objects:  \n",
    "You can create a Timestamp from a string, a datetime object, or even from numeric values.\n",
    "\n",
    "+ Time Zone Support:  \n",
    "pd.Timestamp() can produce both naive and timezone-aware timestamps.\n",
    "\n",
    "+ Parsing and Flexibility:  \n",
    "It can automatically parse a wide variety of date formats.\n",
    "\n",
    "+ Integration with Pandas:  \n",
    "Timestamp objects are used as elements in a DatetimeIndex, which is crucial for time series analysis in Pandas.\n",
    "\n",
    "Syntax:  \n",
    "```pd.Timestamp(arg, tz=None, freq=None, dayfirst=False, yearfirst=False)```\n"
   ]
  },
  {
   "cell_type": "code",
   "execution_count": 47,
   "id": "bc27df80-a708-4d45-b0ec-c43a88ef46dd",
   "metadata": {},
   "outputs": [
    {
     "data": {
      "text/plain": [
       "Timestamp('2025-02-27 00:00:00')"
      ]
     },
     "execution_count": 47,
     "metadata": {},
     "output_type": "execute_result"
    }
   ],
   "source": [
    "# Creating a Basic Timestamp from a String\n",
    "pd.Timestamp(\"2025-2-27\")"
   ]
  },
  {
   "cell_type": "code",
   "execution_count": 48,
   "id": "d7f37ac3-2351-45a4-8c60-df2f40f3314e",
   "metadata": {},
   "outputs": [
    {
     "data": {
      "text/plain": [
       "Timestamp('2025-02-27 16:13:00+0300', tz='Africa/Addis_Ababa')"
      ]
     },
     "execution_count": 48,
     "metadata": {},
     "output_type": "execute_result"
    }
   ],
   "source": [
    "# Creating a Timestamp with Time Zone\n",
    "pd.Timestamp(\"2025-2-27 16:13\", tz = \"Africa/Addis_Ababa\")"
   ]
  },
  {
   "cell_type": "code",
   "execution_count": 49,
   "id": "979fb9c0-b2e2-4538-9bbb-a27d4e6e6366",
   "metadata": {},
   "outputs": [
    {
     "data": {
      "text/plain": [
       "Timestamp('2025-02-27 00:00:00')"
      ]
     },
     "execution_count": 49,
     "metadata": {},
     "output_type": "execute_result"
    }
   ],
   "source": [
    "# Creating a Timestamp from a Python datetime Object\n",
    "date = datetime(2025, 2, 27)\n",
    "pd.Timestamp(date)"
   ]
  },
  {
   "cell_type": "markdown",
   "id": "2523e54b-e8ae-4380-8f2f-35c8bc0511e1",
   "metadata": {},
   "source": [
    "A basic kind of time series object in pandas is a Series indexed by timestamps, which\n",
    " is often represented outside of pandas as Python strings or datetime objects:"
   ]
  },
  {
   "cell_type": "code",
   "execution_count": 50,
   "id": "cef4548d-9767-40ef-a909-7cb9d689a575",
   "metadata": {},
   "outputs": [],
   "source": [
    "date_list = [\n",
    "    datetime(2024, 5, 12),\n",
    "    datetime(2024, 5, 13),\n",
    "    datetime(2024, 5, 14),\n",
    "    datetime(2024, 5, 15),\n",
    "    datetime(2024, 5, 16),\n",
    "]\n",
    "\n",
    "# Creating a DataFrame with the datetime list as the index\n",
    "df = pd.DataFrame({'Values': np.random.randn(5)}, index=date_list)\n",
    "df.index.name = 'date'"
   ]
  },
  {
   "cell_type": "code",
   "execution_count": 51,
   "id": "c1fc801f-9819-4ff4-aad3-fd1086cf858e",
   "metadata": {},
   "outputs": [
    {
     "data": {
      "text/html": [
       "<div>\n",
       "<style scoped>\n",
       "    .dataframe tbody tr th:only-of-type {\n",
       "        vertical-align: middle;\n",
       "    }\n",
       "\n",
       "    .dataframe tbody tr th {\n",
       "        vertical-align: top;\n",
       "    }\n",
       "\n",
       "    .dataframe thead th {\n",
       "        text-align: right;\n",
       "    }\n",
       "</style>\n",
       "<table border=\"1\" class=\"dataframe\">\n",
       "  <thead>\n",
       "    <tr style=\"text-align: right;\">\n",
       "      <th></th>\n",
       "      <th>Values</th>\n",
       "    </tr>\n",
       "    <tr>\n",
       "      <th>date</th>\n",
       "      <th></th>\n",
       "    </tr>\n",
       "  </thead>\n",
       "  <tbody>\n",
       "    <tr>\n",
       "      <th>2024-05-12</th>\n",
       "      <td>-0.909848</td>\n",
       "    </tr>\n",
       "    <tr>\n",
       "      <th>2024-05-13</th>\n",
       "      <td>-0.159562</td>\n",
       "    </tr>\n",
       "    <tr>\n",
       "      <th>2024-05-14</th>\n",
       "      <td>0.402766</td>\n",
       "    </tr>\n",
       "    <tr>\n",
       "      <th>2024-05-15</th>\n",
       "      <td>-1.013431</td>\n",
       "    </tr>\n",
       "    <tr>\n",
       "      <th>2024-05-16</th>\n",
       "      <td>-0.806232</td>\n",
       "    </tr>\n",
       "  </tbody>\n",
       "</table>\n",
       "</div>"
      ],
      "text/plain": [
       "              Values\n",
       "date                \n",
       "2024-05-12 -0.909848\n",
       "2024-05-13 -0.159562\n",
       "2024-05-14  0.402766\n",
       "2024-05-15 -1.013431\n",
       "2024-05-16 -0.806232"
      ]
     },
     "execution_count": 51,
     "metadata": {},
     "output_type": "execute_result"
    }
   ],
   "source": [
    "df"
   ]
  },
  {
   "cell_type": "markdown",
   "id": "7f5d1502-5f1d-499d-999e-489314f647d0",
   "metadata": {},
   "source": [
    "Under the hood, these datetime objects have been put in a DatetimeIndex"
   ]
  },
  {
   "cell_type": "code",
   "execution_count": 52,
   "id": "0ebd4fc5-5ba2-4e7a-bef0-80117b9a474a",
   "metadata": {},
   "outputs": [
    {
     "data": {
      "text/plain": [
       "DatetimeIndex(['2024-05-12', '2024-05-13', '2024-05-14', '2024-05-15',\n",
       "               '2024-05-16'],\n",
       "              dtype='datetime64[ns]', name='date', freq=None)"
      ]
     },
     "execution_count": 52,
     "metadata": {},
     "output_type": "execute_result"
    }
   ],
   "source": [
    "df.index"
   ]
  },
  {
   "cell_type": "markdown",
   "id": "955dd539-881f-4458-abd8-ad9c562f49ea",
   "metadata": {},
   "source": [
    "pandas stores timestamps using NumPy’s datetime64 data type at the nanosecond\n",
    " resolution:"
   ]
  },
  {
   "cell_type": "code",
   "execution_count": 53,
   "id": "2aee10ba-ff62-4287-b430-037f39af5bd6",
   "metadata": {},
   "outputs": [
    {
     "data": {
      "text/plain": [
       "dtype('<M8[ns]')"
      ]
     },
     "execution_count": 53,
     "metadata": {},
     "output_type": "execute_result"
    }
   ],
   "source": [
    "df.index.dtype"
   ]
  },
  {
   "cell_type": "markdown",
   "id": "18585fdc-fb6b-4db9-84d3-45fa47077373",
   "metadata": {},
   "source": [
    "Scalar values from a DatetimeIndex are pandas Timestamp objects:"
   ]
  },
  {
   "cell_type": "code",
   "execution_count": 54,
   "id": "e01e3da3-3ba8-4bd6-b6ed-7b19a3c324f4",
   "metadata": {},
   "outputs": [
    {
     "data": {
      "text/plain": [
       "Timestamp('2024-05-13 00:00:00')"
      ]
     },
     "execution_count": 54,
     "metadata": {},
     "output_type": "execute_result"
    }
   ],
   "source": [
    "df.index[1]"
   ]
  },
  {
   "cell_type": "markdown",
   "id": "70b20cc1-661c-4ed7-8d0a-e8ea4df5cee4",
   "metadata": {},
   "source": [
    "#### Indexing, Selection, Subsetting"
   ]
  },
  {
   "cell_type": "code",
   "execution_count": 55,
   "id": "91ab99c5-ca7c-4127-a555-171a5a011d5f",
   "metadata": {},
   "outputs": [
    {
     "data": {
      "text/plain": [
       "Timestamp('2024-05-12 00:00:00')"
      ]
     },
     "execution_count": 55,
     "metadata": {},
     "output_type": "execute_result"
    }
   ],
   "source": [
    "df.index[0]"
   ]
  },
  {
   "cell_type": "code",
   "execution_count": 56,
   "id": "20755567-b28e-4307-ae44-37b3679032f8",
   "metadata": {},
   "outputs": [
    {
     "data": {
      "text/plain": [
       "Values    0.402766\n",
       "Name: 2024-05-14 00:00:00, dtype: float64"
      ]
     },
     "execution_count": 56,
     "metadata": {},
     "output_type": "execute_result"
    }
   ],
   "source": [
    "df.loc['2024-05-14']"
   ]
  },
  {
   "cell_type": "markdown",
   "id": "3ae77de4-67b0-4d34-bf59-cd77fba44a12",
   "metadata": {},
   "source": [
    "Let's create a big df"
   ]
  },
  {
   "cell_type": "code",
   "execution_count": 57,
   "id": "64759122-2cf1-47e9-be27-a065480dab28",
   "metadata": {},
   "outputs": [],
   "source": [
    "idx = pd.date_range(\"2025-02-26\", periods = 1000)\n",
    "df_long = pd.DataFrame({'values': np.random.standard_normal(1000)}, index = idx)"
   ]
  },
  {
   "cell_type": "code",
   "execution_count": 58,
   "id": "bc9cc465-39a5-423b-bfb3-265cbe439ea9",
   "metadata": {},
   "outputs": [
    {
     "data": {
      "text/html": [
       "<div>\n",
       "<style scoped>\n",
       "    .dataframe tbody tr th:only-of-type {\n",
       "        vertical-align: middle;\n",
       "    }\n",
       "\n",
       "    .dataframe tbody tr th {\n",
       "        vertical-align: top;\n",
       "    }\n",
       "\n",
       "    .dataframe thead th {\n",
       "        text-align: right;\n",
       "    }\n",
       "</style>\n",
       "<table border=\"1\" class=\"dataframe\">\n",
       "  <thead>\n",
       "    <tr style=\"text-align: right;\">\n",
       "      <th></th>\n",
       "      <th>values</th>\n",
       "    </tr>\n",
       "  </thead>\n",
       "  <tbody>\n",
       "    <tr>\n",
       "      <th>2025-02-26</th>\n",
       "      <td>-0.459507</td>\n",
       "    </tr>\n",
       "    <tr>\n",
       "      <th>2025-02-27</th>\n",
       "      <td>-1.271124</td>\n",
       "    </tr>\n",
       "    <tr>\n",
       "      <th>2025-02-28</th>\n",
       "      <td>-0.518884</td>\n",
       "    </tr>\n",
       "    <tr>\n",
       "      <th>2025-03-01</th>\n",
       "      <td>0.473605</td>\n",
       "    </tr>\n",
       "    <tr>\n",
       "      <th>2025-03-02</th>\n",
       "      <td>1.532870</td>\n",
       "    </tr>\n",
       "    <tr>\n",
       "      <th>...</th>\n",
       "      <td>...</td>\n",
       "    </tr>\n",
       "    <tr>\n",
       "      <th>2027-11-18</th>\n",
       "      <td>0.369838</td>\n",
       "    </tr>\n",
       "    <tr>\n",
       "      <th>2027-11-19</th>\n",
       "      <td>-0.377299</td>\n",
       "    </tr>\n",
       "    <tr>\n",
       "      <th>2027-11-20</th>\n",
       "      <td>-0.949547</td>\n",
       "    </tr>\n",
       "    <tr>\n",
       "      <th>2027-11-21</th>\n",
       "      <td>-1.335709</td>\n",
       "    </tr>\n",
       "    <tr>\n",
       "      <th>2027-11-22</th>\n",
       "      <td>-1.705658</td>\n",
       "    </tr>\n",
       "  </tbody>\n",
       "</table>\n",
       "<p>1000 rows × 1 columns</p>\n",
       "</div>"
      ],
      "text/plain": [
       "              values\n",
       "2025-02-26 -0.459507\n",
       "2025-02-27 -1.271124\n",
       "2025-02-28 -0.518884\n",
       "2025-03-01  0.473605\n",
       "2025-03-02  1.532870\n",
       "...              ...\n",
       "2027-11-18  0.369838\n",
       "2027-11-19 -0.377299\n",
       "2027-11-20 -0.949547\n",
       "2027-11-21 -1.335709\n",
       "2027-11-22 -1.705658\n",
       "\n",
       "[1000 rows x 1 columns]"
      ]
     },
     "execution_count": 58,
     "metadata": {},
     "output_type": "execute_result"
    }
   ],
   "source": [
    "df_long"
   ]
  },
  {
   "cell_type": "code",
   "execution_count": 59,
   "id": "d25c4e9a-e8b7-4c04-8913-48d0a6918f23",
   "metadata": {},
   "outputs": [
    {
     "data": {
      "text/html": [
       "<div>\n",
       "<style scoped>\n",
       "    .dataframe tbody tr th:only-of-type {\n",
       "        vertical-align: middle;\n",
       "    }\n",
       "\n",
       "    .dataframe tbody tr th {\n",
       "        vertical-align: top;\n",
       "    }\n",
       "\n",
       "    .dataframe thead th {\n",
       "        text-align: right;\n",
       "    }\n",
       "</style>\n",
       "<table border=\"1\" class=\"dataframe\">\n",
       "  <thead>\n",
       "    <tr style=\"text-align: right;\">\n",
       "      <th></th>\n",
       "      <th>values</th>\n",
       "    </tr>\n",
       "  </thead>\n",
       "  <tbody>\n",
       "    <tr>\n",
       "      <th>2025-02-26</th>\n",
       "      <td>-0.459507</td>\n",
       "    </tr>\n",
       "    <tr>\n",
       "      <th>2025-02-27</th>\n",
       "      <td>-1.271124</td>\n",
       "    </tr>\n",
       "    <tr>\n",
       "      <th>2025-02-28</th>\n",
       "      <td>-0.518884</td>\n",
       "    </tr>\n",
       "    <tr>\n",
       "      <th>2025-03-01</th>\n",
       "      <td>0.473605</td>\n",
       "    </tr>\n",
       "    <tr>\n",
       "      <th>2025-03-02</th>\n",
       "      <td>1.532870</td>\n",
       "    </tr>\n",
       "    <tr>\n",
       "      <th>...</th>\n",
       "      <td>...</td>\n",
       "    </tr>\n",
       "    <tr>\n",
       "      <th>2025-12-27</th>\n",
       "      <td>0.715933</td>\n",
       "    </tr>\n",
       "    <tr>\n",
       "      <th>2025-12-28</th>\n",
       "      <td>-0.476561</td>\n",
       "    </tr>\n",
       "    <tr>\n",
       "      <th>2025-12-29</th>\n",
       "      <td>0.400504</td>\n",
       "    </tr>\n",
       "    <tr>\n",
       "      <th>2025-12-30</th>\n",
       "      <td>-0.879857</td>\n",
       "    </tr>\n",
       "    <tr>\n",
       "      <th>2025-12-31</th>\n",
       "      <td>0.964164</td>\n",
       "    </tr>\n",
       "  </tbody>\n",
       "</table>\n",
       "<p>309 rows × 1 columns</p>\n",
       "</div>"
      ],
      "text/plain": [
       "              values\n",
       "2025-02-26 -0.459507\n",
       "2025-02-27 -1.271124\n",
       "2025-02-28 -0.518884\n",
       "2025-03-01  0.473605\n",
       "2025-03-02  1.532870\n",
       "...              ...\n",
       "2025-12-27  0.715933\n",
       "2025-12-28 -0.476561\n",
       "2025-12-29  0.400504\n",
       "2025-12-30 -0.879857\n",
       "2025-12-31  0.964164\n",
       "\n",
       "[309 rows x 1 columns]"
      ]
     },
     "execution_count": 59,
     "metadata": {},
     "output_type": "execute_result"
    }
   ],
   "source": [
    "df_long.loc['2025']"
   ]
  },
  {
   "cell_type": "code",
   "execution_count": 60,
   "id": "8fa75f6c-0ab6-41b5-bc46-9ae3714c2dbc",
   "metadata": {},
   "outputs": [
    {
     "data": {
      "text/html": [
       "<div>\n",
       "<style scoped>\n",
       "    .dataframe tbody tr th:only-of-type {\n",
       "        vertical-align: middle;\n",
       "    }\n",
       "\n",
       "    .dataframe tbody tr th {\n",
       "        vertical-align: top;\n",
       "    }\n",
       "\n",
       "    .dataframe thead th {\n",
       "        text-align: right;\n",
       "    }\n",
       "</style>\n",
       "<table border=\"1\" class=\"dataframe\">\n",
       "  <thead>\n",
       "    <tr style=\"text-align: right;\">\n",
       "      <th></th>\n",
       "      <th>values</th>\n",
       "    </tr>\n",
       "  </thead>\n",
       "  <tbody>\n",
       "    <tr>\n",
       "      <th>2025-08-01</th>\n",
       "      <td>-0.397531</td>\n",
       "    </tr>\n",
       "    <tr>\n",
       "      <th>2025-08-02</th>\n",
       "      <td>-0.166850</td>\n",
       "    </tr>\n",
       "    <tr>\n",
       "      <th>2025-08-03</th>\n",
       "      <td>1.245433</td>\n",
       "    </tr>\n",
       "    <tr>\n",
       "      <th>2025-08-04</th>\n",
       "      <td>0.962203</td>\n",
       "    </tr>\n",
       "    <tr>\n",
       "      <th>2025-08-05</th>\n",
       "      <td>0.648492</td>\n",
       "    </tr>\n",
       "    <tr>\n",
       "      <th>2025-08-06</th>\n",
       "      <td>-0.517860</td>\n",
       "    </tr>\n",
       "    <tr>\n",
       "      <th>2025-08-07</th>\n",
       "      <td>-0.505690</td>\n",
       "    </tr>\n",
       "    <tr>\n",
       "      <th>2025-08-08</th>\n",
       "      <td>-0.520994</td>\n",
       "    </tr>\n",
       "    <tr>\n",
       "      <th>2025-08-09</th>\n",
       "      <td>-1.512371</td>\n",
       "    </tr>\n",
       "    <tr>\n",
       "      <th>2025-08-10</th>\n",
       "      <td>-0.062357</td>\n",
       "    </tr>\n",
       "    <tr>\n",
       "      <th>2025-08-11</th>\n",
       "      <td>1.037090</td>\n",
       "    </tr>\n",
       "    <tr>\n",
       "      <th>2025-08-12</th>\n",
       "      <td>-0.209183</td>\n",
       "    </tr>\n",
       "    <tr>\n",
       "      <th>2025-08-13</th>\n",
       "      <td>-1.605960</td>\n",
       "    </tr>\n",
       "    <tr>\n",
       "      <th>2025-08-14</th>\n",
       "      <td>0.295776</td>\n",
       "    </tr>\n",
       "    <tr>\n",
       "      <th>2025-08-15</th>\n",
       "      <td>-1.555684</td>\n",
       "    </tr>\n",
       "    <tr>\n",
       "      <th>2025-08-16</th>\n",
       "      <td>-0.840996</td>\n",
       "    </tr>\n",
       "    <tr>\n",
       "      <th>2025-08-17</th>\n",
       "      <td>-1.877336</td>\n",
       "    </tr>\n",
       "    <tr>\n",
       "      <th>2025-08-18</th>\n",
       "      <td>-0.539285</td>\n",
       "    </tr>\n",
       "    <tr>\n",
       "      <th>2025-08-19</th>\n",
       "      <td>-0.614513</td>\n",
       "    </tr>\n",
       "    <tr>\n",
       "      <th>2025-08-20</th>\n",
       "      <td>-0.080074</td>\n",
       "    </tr>\n",
       "    <tr>\n",
       "      <th>2025-08-21</th>\n",
       "      <td>-0.171490</td>\n",
       "    </tr>\n",
       "    <tr>\n",
       "      <th>2025-08-22</th>\n",
       "      <td>-1.183231</td>\n",
       "    </tr>\n",
       "    <tr>\n",
       "      <th>2025-08-23</th>\n",
       "      <td>0.758142</td>\n",
       "    </tr>\n",
       "    <tr>\n",
       "      <th>2025-08-24</th>\n",
       "      <td>0.683014</td>\n",
       "    </tr>\n",
       "    <tr>\n",
       "      <th>2025-08-25</th>\n",
       "      <td>0.101661</td>\n",
       "    </tr>\n",
       "    <tr>\n",
       "      <th>2025-08-26</th>\n",
       "      <td>0.204646</td>\n",
       "    </tr>\n",
       "    <tr>\n",
       "      <th>2025-08-27</th>\n",
       "      <td>1.098540</td>\n",
       "    </tr>\n",
       "    <tr>\n",
       "      <th>2025-08-28</th>\n",
       "      <td>-1.486959</td>\n",
       "    </tr>\n",
       "    <tr>\n",
       "      <th>2025-08-29</th>\n",
       "      <td>-0.175894</td>\n",
       "    </tr>\n",
       "    <tr>\n",
       "      <th>2025-08-30</th>\n",
       "      <td>0.168933</td>\n",
       "    </tr>\n",
       "    <tr>\n",
       "      <th>2025-08-31</th>\n",
       "      <td>0.302310</td>\n",
       "    </tr>\n",
       "  </tbody>\n",
       "</table>\n",
       "</div>"
      ],
      "text/plain": [
       "              values\n",
       "2025-08-01 -0.397531\n",
       "2025-08-02 -0.166850\n",
       "2025-08-03  1.245433\n",
       "2025-08-04  0.962203\n",
       "2025-08-05  0.648492\n",
       "2025-08-06 -0.517860\n",
       "2025-08-07 -0.505690\n",
       "2025-08-08 -0.520994\n",
       "2025-08-09 -1.512371\n",
       "2025-08-10 -0.062357\n",
       "2025-08-11  1.037090\n",
       "2025-08-12 -0.209183\n",
       "2025-08-13 -1.605960\n",
       "2025-08-14  0.295776\n",
       "2025-08-15 -1.555684\n",
       "2025-08-16 -0.840996\n",
       "2025-08-17 -1.877336\n",
       "2025-08-18 -0.539285\n",
       "2025-08-19 -0.614513\n",
       "2025-08-20 -0.080074\n",
       "2025-08-21 -0.171490\n",
       "2025-08-22 -1.183231\n",
       "2025-08-23  0.758142\n",
       "2025-08-24  0.683014\n",
       "2025-08-25  0.101661\n",
       "2025-08-26  0.204646\n",
       "2025-08-27  1.098540\n",
       "2025-08-28 -1.486959\n",
       "2025-08-29 -0.175894\n",
       "2025-08-30  0.168933\n",
       "2025-08-31  0.302310"
      ]
     },
     "execution_count": 60,
     "metadata": {},
     "output_type": "execute_result"
    }
   ],
   "source": [
    "df_long.loc['2025-08']"
   ]
  },
  {
   "cell_type": "code",
   "execution_count": 61,
   "id": "6df480b8-d2fd-4df0-8b4b-76759c32f32f",
   "metadata": {},
   "outputs": [
    {
     "data": {
      "text/html": [
       "<div>\n",
       "<style scoped>\n",
       "    .dataframe tbody tr th:only-of-type {\n",
       "        vertical-align: middle;\n",
       "    }\n",
       "\n",
       "    .dataframe tbody tr th {\n",
       "        vertical-align: top;\n",
       "    }\n",
       "\n",
       "    .dataframe thead th {\n",
       "        text-align: right;\n",
       "    }\n",
       "</style>\n",
       "<table border=\"1\" class=\"dataframe\">\n",
       "  <thead>\n",
       "    <tr style=\"text-align: right;\">\n",
       "      <th></th>\n",
       "      <th>Values</th>\n",
       "    </tr>\n",
       "    <tr>\n",
       "      <th>date</th>\n",
       "      <th></th>\n",
       "    </tr>\n",
       "  </thead>\n",
       "  <tbody>\n",
       "    <tr>\n",
       "      <th>2024-05-12</th>\n",
       "      <td>-0.909848</td>\n",
       "    </tr>\n",
       "    <tr>\n",
       "      <th>2024-05-13</th>\n",
       "      <td>-0.159562</td>\n",
       "    </tr>\n",
       "    <tr>\n",
       "      <th>2024-05-14</th>\n",
       "      <td>0.402766</td>\n",
       "    </tr>\n",
       "    <tr>\n",
       "      <th>2024-05-15</th>\n",
       "      <td>-1.013431</td>\n",
       "    </tr>\n",
       "    <tr>\n",
       "      <th>2024-05-16</th>\n",
       "      <td>-0.806232</td>\n",
       "    </tr>\n",
       "  </tbody>\n",
       "</table>\n",
       "</div>"
      ],
      "text/plain": [
       "              Values\n",
       "date                \n",
       "2024-05-12 -0.909848\n",
       "2024-05-13 -0.159562\n",
       "2024-05-14  0.402766\n",
       "2024-05-15 -1.013431\n",
       "2024-05-16 -0.806232"
      ]
     },
     "execution_count": 61,
     "metadata": {},
     "output_type": "execute_result"
    }
   ],
   "source": [
    "df"
   ]
  },
  {
   "cell_type": "code",
   "execution_count": 62,
   "id": "fe980810-c5b7-4cf3-93ad-552a9036763d",
   "metadata": {},
   "outputs": [
    {
     "data": {
      "text/html": [
       "<div>\n",
       "<style scoped>\n",
       "    .dataframe tbody tr th:only-of-type {\n",
       "        vertical-align: middle;\n",
       "    }\n",
       "\n",
       "    .dataframe tbody tr th {\n",
       "        vertical-align: top;\n",
       "    }\n",
       "\n",
       "    .dataframe thead th {\n",
       "        text-align: right;\n",
       "    }\n",
       "</style>\n",
       "<table border=\"1\" class=\"dataframe\">\n",
       "  <thead>\n",
       "    <tr style=\"text-align: right;\">\n",
       "      <th></th>\n",
       "      <th>Values</th>\n",
       "    </tr>\n",
       "    <tr>\n",
       "      <th>date</th>\n",
       "      <th></th>\n",
       "    </tr>\n",
       "  </thead>\n",
       "  <tbody>\n",
       "    <tr>\n",
       "      <th>2024-05-13</th>\n",
       "      <td>-0.159562</td>\n",
       "    </tr>\n",
       "    <tr>\n",
       "      <th>2024-05-14</th>\n",
       "      <td>0.402766</td>\n",
       "    </tr>\n",
       "    <tr>\n",
       "      <th>2024-05-15</th>\n",
       "      <td>-1.013431</td>\n",
       "    </tr>\n",
       "  </tbody>\n",
       "</table>\n",
       "</div>"
      ],
      "text/plain": [
       "              Values\n",
       "date                \n",
       "2024-05-13 -0.159562\n",
       "2024-05-14  0.402766\n",
       "2024-05-15 -1.013431"
      ]
     },
     "execution_count": 62,
     "metadata": {},
     "output_type": "execute_result"
    }
   ],
   "source": [
    "# slicing\n",
    "df.loc['2024-05-13':'2024-05-15']"
   ]
  },
  {
   "cell_type": "markdown",
   "id": "3e07eb24-60dd-4627-90a9-f0be319e3241",
   "metadata": {},
   "source": [
    "Using .loc[] with DatetimeIndex"
   ]
  },
  {
   "cell_type": "code",
   "execution_count": 63,
   "id": "9abd548b-0ac1-4895-8fc1-5fc7b42d5692",
   "metadata": {},
   "outputs": [
    {
     "data": {
      "text/plain": [
       "Values    0.402766\n",
       "Name: 2024-05-14 00:00:00, dtype: float64"
      ]
     },
     "execution_count": 63,
     "metadata": {},
     "output_type": "execute_result"
    }
   ],
   "source": [
    "# we can select using datetime\n",
    "df.loc[datetime(2024, 5, 14)]"
   ]
  },
  {
   "cell_type": "code",
   "execution_count": 64,
   "id": "e908479a-b588-429d-a875-a2f677878eb0",
   "metadata": {},
   "outputs": [
    {
     "data": {
      "text/html": [
       "<div>\n",
       "<style scoped>\n",
       "    .dataframe tbody tr th:only-of-type {\n",
       "        vertical-align: middle;\n",
       "    }\n",
       "\n",
       "    .dataframe tbody tr th {\n",
       "        vertical-align: top;\n",
       "    }\n",
       "\n",
       "    .dataframe thead th {\n",
       "        text-align: right;\n",
       "    }\n",
       "</style>\n",
       "<table border=\"1\" class=\"dataframe\">\n",
       "  <thead>\n",
       "    <tr style=\"text-align: right;\">\n",
       "      <th></th>\n",
       "      <th>values</th>\n",
       "    </tr>\n",
       "  </thead>\n",
       "  <tbody>\n",
       "    <tr>\n",
       "      <th>2026-12-28</th>\n",
       "      <td>-1.064094</td>\n",
       "    </tr>\n",
       "    <tr>\n",
       "      <th>2026-12-29</th>\n",
       "      <td>1.202064</td>\n",
       "    </tr>\n",
       "    <tr>\n",
       "      <th>2026-12-30</th>\n",
       "      <td>-1.154254</td>\n",
       "    </tr>\n",
       "    <tr>\n",
       "      <th>2026-12-31</th>\n",
       "      <td>0.196794</td>\n",
       "    </tr>\n",
       "    <tr>\n",
       "      <th>2027-01-01</th>\n",
       "      <td>-1.413405</td>\n",
       "    </tr>\n",
       "    <tr>\n",
       "      <th>2027-01-02</th>\n",
       "      <td>-0.596104</td>\n",
       "    </tr>\n",
       "    <tr>\n",
       "      <th>2027-01-03</th>\n",
       "      <td>1.066227</td>\n",
       "    </tr>\n",
       "    <tr>\n",
       "      <th>2027-01-04</th>\n",
       "      <td>0.695846</td>\n",
       "    </tr>\n",
       "    <tr>\n",
       "      <th>2027-01-05</th>\n",
       "      <td>-1.595454</td>\n",
       "    </tr>\n",
       "    <tr>\n",
       "      <th>2027-01-06</th>\n",
       "      <td>1.243923</td>\n",
       "    </tr>\n",
       "    <tr>\n",
       "      <th>2027-01-07</th>\n",
       "      <td>0.655467</td>\n",
       "    </tr>\n",
       "    <tr>\n",
       "      <th>2027-01-08</th>\n",
       "      <td>0.786932</td>\n",
       "    </tr>\n",
       "    <tr>\n",
       "      <th>2027-01-09</th>\n",
       "      <td>1.034967</td>\n",
       "    </tr>\n",
       "    <tr>\n",
       "      <th>2027-01-10</th>\n",
       "      <td>-1.325922</td>\n",
       "    </tr>\n",
       "  </tbody>\n",
       "</table>\n",
       "</div>"
      ],
      "text/plain": [
       "              values\n",
       "2026-12-28 -1.064094\n",
       "2026-12-29  1.202064\n",
       "2026-12-30 -1.154254\n",
       "2026-12-31  0.196794\n",
       "2027-01-01 -1.413405\n",
       "2027-01-02 -0.596104\n",
       "2027-01-03  1.066227\n",
       "2027-01-04  0.695846\n",
       "2027-01-05 -1.595454\n",
       "2027-01-06  1.243923\n",
       "2027-01-07  0.655467\n",
       "2027-01-08  0.786932\n",
       "2027-01-09  1.034967\n",
       "2027-01-10 -1.325922"
      ]
     },
     "execution_count": 64,
     "metadata": {},
     "output_type": "execute_result"
    }
   ],
   "source": [
    "# We can also slice\n",
    "df_long[datetime(2026, 12, 28):datetime(2027, 1, 10)]"
   ]
  },
  {
   "cell_type": "markdown",
   "id": "66ef8911-bff8-40ac-8dea-49eaef1ac6c2",
   "metadata": {},
   "source": [
    "Because most time series data is ordered chronologically, you can slice with time\n",
    "stamps not contained in a time series to perform a range query:"
   ]
  },
  {
   "cell_type": "code",
   "execution_count": 65,
   "id": "5220e886-7358-4647-854b-30d6e4a06054",
   "metadata": {},
   "outputs": [
    {
     "data": {
      "text/html": [
       "<div>\n",
       "<style scoped>\n",
       "    .dataframe tbody tr th:only-of-type {\n",
       "        vertical-align: middle;\n",
       "    }\n",
       "\n",
       "    .dataframe tbody tr th {\n",
       "        vertical-align: top;\n",
       "    }\n",
       "\n",
       "    .dataframe thead th {\n",
       "        text-align: right;\n",
       "    }\n",
       "</style>\n",
       "<table border=\"1\" class=\"dataframe\">\n",
       "  <thead>\n",
       "    <tr style=\"text-align: right;\">\n",
       "      <th></th>\n",
       "      <th>Values</th>\n",
       "    </tr>\n",
       "    <tr>\n",
       "      <th>date</th>\n",
       "      <th></th>\n",
       "    </tr>\n",
       "  </thead>\n",
       "  <tbody>\n",
       "    <tr>\n",
       "      <th>2024-05-12</th>\n",
       "      <td>-0.909848</td>\n",
       "    </tr>\n",
       "    <tr>\n",
       "      <th>2024-05-13</th>\n",
       "      <td>-0.159562</td>\n",
       "    </tr>\n",
       "    <tr>\n",
       "      <th>2024-05-14</th>\n",
       "      <td>0.402766</td>\n",
       "    </tr>\n",
       "    <tr>\n",
       "      <th>2024-05-15</th>\n",
       "      <td>-1.013431</td>\n",
       "    </tr>\n",
       "    <tr>\n",
       "      <th>2024-05-16</th>\n",
       "      <td>-0.806232</td>\n",
       "    </tr>\n",
       "  </tbody>\n",
       "</table>\n",
       "</div>"
      ],
      "text/plain": [
       "              Values\n",
       "date                \n",
       "2024-05-12 -0.909848\n",
       "2024-05-13 -0.159562\n",
       "2024-05-14  0.402766\n",
       "2024-05-15 -1.013431\n",
       "2024-05-16 -0.806232"
      ]
     },
     "execution_count": 65,
     "metadata": {},
     "output_type": "execute_result"
    }
   ],
   "source": [
    "df"
   ]
  },
  {
   "cell_type": "code",
   "execution_count": 66,
   "id": "de722e15-d50b-4512-80f2-8efb54365e2c",
   "metadata": {},
   "outputs": [
    {
     "data": {
      "text/html": [
       "<div>\n",
       "<style scoped>\n",
       "    .dataframe tbody tr th:only-of-type {\n",
       "        vertical-align: middle;\n",
       "    }\n",
       "\n",
       "    .dataframe tbody tr th {\n",
       "        vertical-align: top;\n",
       "    }\n",
       "\n",
       "    .dataframe thead th {\n",
       "        text-align: right;\n",
       "    }\n",
       "</style>\n",
       "<table border=\"1\" class=\"dataframe\">\n",
       "  <thead>\n",
       "    <tr style=\"text-align: right;\">\n",
       "      <th></th>\n",
       "      <th>Values</th>\n",
       "    </tr>\n",
       "    <tr>\n",
       "      <th>date</th>\n",
       "      <th></th>\n",
       "    </tr>\n",
       "  </thead>\n",
       "  <tbody>\n",
       "    <tr>\n",
       "      <th>2024-05-12</th>\n",
       "      <td>-0.909848</td>\n",
       "    </tr>\n",
       "    <tr>\n",
       "      <th>2024-05-13</th>\n",
       "      <td>-0.159562</td>\n",
       "    </tr>\n",
       "    <tr>\n",
       "      <th>2024-05-14</th>\n",
       "      <td>0.402766</td>\n",
       "    </tr>\n",
       "  </tbody>\n",
       "</table>\n",
       "</div>"
      ],
      "text/plain": [
       "              Values\n",
       "date                \n",
       "2024-05-12 -0.909848\n",
       "2024-05-13 -0.159562\n",
       "2024-05-14  0.402766"
      ]
     },
     "execution_count": 66,
     "metadata": {},
     "output_type": "execute_result"
    }
   ],
   "source": [
    "df.loc['2024-05-10':'2024-05-14']"
   ]
  },
  {
   "cell_type": "markdown",
   "id": "597d71ef-f655-43e8-8317-2774fa81bdb5",
   "metadata": {},
   "source": [
    "The truncate() method in Pandas is a convenient way to subset a DataFrame (or Series) based on index values. It is especially useful for time series data because it allows you to quickly \"cut\" the data to only include rows between specified start and end dates (or index labels). Note that the DataFrame’s index must be sorted for truncate() to work correctly"
   ]
  },
  {
   "cell_type": "markdown",
   "id": "6be99346-66f5-41dd-92f1-c862f7f4610a",
   "metadata": {},
   "source": [
    "Key Points\n",
    "+ Purpose:\n",
    "truncate() returns a new DataFrame containing only the rows whose index values lie between the specified before and after values.\n",
    "\n",
    "+ Requirements:\n",
    "The DataFrame must have a sorted index (e.g., a DatetimeIndex for time series data)."
   ]
  },
  {
   "cell_type": "markdown",
   "id": "8b10a5e5-9c53-4c56-8f9f-f49794d2fbc3",
   "metadata": {},
   "source": [
    "Syntax:  \n",
    "       ```df.truncate(before=None, after=None, axis=None, copy=True)```\n"
   ]
  },
  {
   "cell_type": "markdown",
   "id": "aa1ab99f-e8c5-42ae-a861-db57d6a7169e",
   "metadata": {},
   "source": [
    "Let's see example from real world dataset 'flights'"
   ]
  },
  {
   "cell_type": "code",
   "execution_count": 67,
   "id": "054cca9d-2dda-49e3-bcbd-e528ca5f553a",
   "metadata": {},
   "outputs": [],
   "source": [
    "flights = sns.load_dataset('flights')"
   ]
  },
  {
   "cell_type": "code",
   "execution_count": 68,
   "id": "e3f23a07-ccd0-434b-ba49-59a15b5d531a",
   "metadata": {},
   "outputs": [
    {
     "data": {
      "text/html": [
       "<div>\n",
       "<style scoped>\n",
       "    .dataframe tbody tr th:only-of-type {\n",
       "        vertical-align: middle;\n",
       "    }\n",
       "\n",
       "    .dataframe tbody tr th {\n",
       "        vertical-align: top;\n",
       "    }\n",
       "\n",
       "    .dataframe thead th {\n",
       "        text-align: right;\n",
       "    }\n",
       "</style>\n",
       "<table border=\"1\" class=\"dataframe\">\n",
       "  <thead>\n",
       "    <tr style=\"text-align: right;\">\n",
       "      <th></th>\n",
       "      <th>year</th>\n",
       "      <th>month</th>\n",
       "      <th>passengers</th>\n",
       "    </tr>\n",
       "  </thead>\n",
       "  <tbody>\n",
       "    <tr>\n",
       "      <th>0</th>\n",
       "      <td>1949</td>\n",
       "      <td>Jan</td>\n",
       "      <td>112</td>\n",
       "    </tr>\n",
       "    <tr>\n",
       "      <th>1</th>\n",
       "      <td>1949</td>\n",
       "      <td>Feb</td>\n",
       "      <td>118</td>\n",
       "    </tr>\n",
       "    <tr>\n",
       "      <th>2</th>\n",
       "      <td>1949</td>\n",
       "      <td>Mar</td>\n",
       "      <td>132</td>\n",
       "    </tr>\n",
       "    <tr>\n",
       "      <th>3</th>\n",
       "      <td>1949</td>\n",
       "      <td>Apr</td>\n",
       "      <td>129</td>\n",
       "    </tr>\n",
       "    <tr>\n",
       "      <th>4</th>\n",
       "      <td>1949</td>\n",
       "      <td>May</td>\n",
       "      <td>121</td>\n",
       "    </tr>\n",
       "  </tbody>\n",
       "</table>\n",
       "</div>"
      ],
      "text/plain": [
       "   year month  passengers\n",
       "0  1949   Jan         112\n",
       "1  1949   Feb         118\n",
       "2  1949   Mar         132\n",
       "3  1949   Apr         129\n",
       "4  1949   May         121"
      ]
     },
     "execution_count": 68,
     "metadata": {},
     "output_type": "execute_result"
    }
   ],
   "source": [
    "flights.head()"
   ]
  },
  {
   "cell_type": "code",
   "execution_count": 69,
   "id": "b6ff141c-09fa-43d7-9c88-684786284fc3",
   "metadata": {},
   "outputs": [],
   "source": [
    "flights['date'] = pd.to_datetime((flights['year'].astype(str) + ' ' + flights['month'].astype(str)),\n",
    "                                format = \"%Y %b\")"
   ]
  },
  {
   "cell_type": "code",
   "execution_count": 70,
   "id": "3190b116-fc9d-4e93-8b4e-832d21591a7e",
   "metadata": {},
   "outputs": [],
   "source": [
    "flights = flights.sort_values('date').set_index('date')"
   ]
  },
  {
   "cell_type": "code",
   "execution_count": 71,
   "id": "2d08d122-12f3-410d-8b46-2eb0ca99f46d",
   "metadata": {},
   "outputs": [
    {
     "data": {
      "text/html": [
       "<div>\n",
       "<style scoped>\n",
       "    .dataframe tbody tr th:only-of-type {\n",
       "        vertical-align: middle;\n",
       "    }\n",
       "\n",
       "    .dataframe tbody tr th {\n",
       "        vertical-align: top;\n",
       "    }\n",
       "\n",
       "    .dataframe thead th {\n",
       "        text-align: right;\n",
       "    }\n",
       "</style>\n",
       "<table border=\"1\" class=\"dataframe\">\n",
       "  <thead>\n",
       "    <tr style=\"text-align: right;\">\n",
       "      <th></th>\n",
       "      <th>year</th>\n",
       "      <th>month</th>\n",
       "      <th>passengers</th>\n",
       "    </tr>\n",
       "    <tr>\n",
       "      <th>date</th>\n",
       "      <th></th>\n",
       "      <th></th>\n",
       "      <th></th>\n",
       "    </tr>\n",
       "  </thead>\n",
       "  <tbody>\n",
       "    <tr>\n",
       "      <th>1949-01-01</th>\n",
       "      <td>1949</td>\n",
       "      <td>Jan</td>\n",
       "      <td>112</td>\n",
       "    </tr>\n",
       "    <tr>\n",
       "      <th>1949-02-01</th>\n",
       "      <td>1949</td>\n",
       "      <td>Feb</td>\n",
       "      <td>118</td>\n",
       "    </tr>\n",
       "    <tr>\n",
       "      <th>1949-03-01</th>\n",
       "      <td>1949</td>\n",
       "      <td>Mar</td>\n",
       "      <td>132</td>\n",
       "    </tr>\n",
       "    <tr>\n",
       "      <th>1949-04-01</th>\n",
       "      <td>1949</td>\n",
       "      <td>Apr</td>\n",
       "      <td>129</td>\n",
       "    </tr>\n",
       "    <tr>\n",
       "      <th>1949-05-01</th>\n",
       "      <td>1949</td>\n",
       "      <td>May</td>\n",
       "      <td>121</td>\n",
       "    </tr>\n",
       "  </tbody>\n",
       "</table>\n",
       "</div>"
      ],
      "text/plain": [
       "            year month  passengers\n",
       "date                              \n",
       "1949-01-01  1949   Jan         112\n",
       "1949-02-01  1949   Feb         118\n",
       "1949-03-01  1949   Mar         132\n",
       "1949-04-01  1949   Apr         129\n",
       "1949-05-01  1949   May         121"
      ]
     },
     "execution_count": 71,
     "metadata": {},
     "output_type": "execute_result"
    }
   ],
   "source": [
    "flights.head()"
   ]
  },
  {
   "cell_type": "code",
   "execution_count": 72,
   "id": "64cc1cd1-1510-4be2-bdc1-1479c8ccbdbd",
   "metadata": {},
   "outputs": [
    {
     "data": {
      "text/html": [
       "<div>\n",
       "<style scoped>\n",
       "    .dataframe tbody tr th:only-of-type {\n",
       "        vertical-align: middle;\n",
       "    }\n",
       "\n",
       "    .dataframe tbody tr th {\n",
       "        vertical-align: top;\n",
       "    }\n",
       "\n",
       "    .dataframe thead th {\n",
       "        text-align: right;\n",
       "    }\n",
       "</style>\n",
       "<table border=\"1\" class=\"dataframe\">\n",
       "  <thead>\n",
       "    <tr style=\"text-align: right;\">\n",
       "      <th></th>\n",
       "      <th>year</th>\n",
       "      <th>month</th>\n",
       "      <th>passengers</th>\n",
       "    </tr>\n",
       "    <tr>\n",
       "      <th>date</th>\n",
       "      <th></th>\n",
       "      <th></th>\n",
       "      <th></th>\n",
       "    </tr>\n",
       "  </thead>\n",
       "  <tbody>\n",
       "    <tr>\n",
       "      <th>1960-08-01</th>\n",
       "      <td>1960</td>\n",
       "      <td>Aug</td>\n",
       "      <td>606</td>\n",
       "    </tr>\n",
       "    <tr>\n",
       "      <th>1960-09-01</th>\n",
       "      <td>1960</td>\n",
       "      <td>Sep</td>\n",
       "      <td>508</td>\n",
       "    </tr>\n",
       "    <tr>\n",
       "      <th>1960-10-01</th>\n",
       "      <td>1960</td>\n",
       "      <td>Oct</td>\n",
       "      <td>461</td>\n",
       "    </tr>\n",
       "    <tr>\n",
       "      <th>1960-11-01</th>\n",
       "      <td>1960</td>\n",
       "      <td>Nov</td>\n",
       "      <td>390</td>\n",
       "    </tr>\n",
       "    <tr>\n",
       "      <th>1960-12-01</th>\n",
       "      <td>1960</td>\n",
       "      <td>Dec</td>\n",
       "      <td>432</td>\n",
       "    </tr>\n",
       "  </tbody>\n",
       "</table>\n",
       "</div>"
      ],
      "text/plain": [
       "            year month  passengers\n",
       "date                              \n",
       "1960-08-01  1960   Aug         606\n",
       "1960-09-01  1960   Sep         508\n",
       "1960-10-01  1960   Oct         461\n",
       "1960-11-01  1960   Nov         390\n",
       "1960-12-01  1960   Dec         432"
      ]
     },
     "execution_count": 72,
     "metadata": {},
     "output_type": "execute_result"
    }
   ],
   "source": [
    "flights.tail()"
   ]
  },
  {
   "cell_type": "code",
   "execution_count": 73,
   "id": "4ba4ef4a-0ed3-4d47-842c-8a5354ddcec1",
   "metadata": {},
   "outputs": [
    {
     "data": {
      "text/html": [
       "<div>\n",
       "<style scoped>\n",
       "    .dataframe tbody tr th:only-of-type {\n",
       "        vertical-align: middle;\n",
       "    }\n",
       "\n",
       "    .dataframe tbody tr th {\n",
       "        vertical-align: top;\n",
       "    }\n",
       "\n",
       "    .dataframe thead th {\n",
       "        text-align: right;\n",
       "    }\n",
       "</style>\n",
       "<table border=\"1\" class=\"dataframe\">\n",
       "  <thead>\n",
       "    <tr style=\"text-align: right;\">\n",
       "      <th></th>\n",
       "      <th>year</th>\n",
       "      <th>month</th>\n",
       "      <th>passengers</th>\n",
       "    </tr>\n",
       "    <tr>\n",
       "      <th>date</th>\n",
       "      <th></th>\n",
       "      <th></th>\n",
       "      <th></th>\n",
       "    </tr>\n",
       "  </thead>\n",
       "  <tbody>\n",
       "    <tr>\n",
       "      <th>1949-01-01</th>\n",
       "      <td>1949</td>\n",
       "      <td>Jan</td>\n",
       "      <td>112</td>\n",
       "    </tr>\n",
       "    <tr>\n",
       "      <th>1949-02-01</th>\n",
       "      <td>1949</td>\n",
       "      <td>Feb</td>\n",
       "      <td>118</td>\n",
       "    </tr>\n",
       "    <tr>\n",
       "      <th>1949-03-01</th>\n",
       "      <td>1949</td>\n",
       "      <td>Mar</td>\n",
       "      <td>132</td>\n",
       "    </tr>\n",
       "    <tr>\n",
       "      <th>1949-04-01</th>\n",
       "      <td>1949</td>\n",
       "      <td>Apr</td>\n",
       "      <td>129</td>\n",
       "    </tr>\n",
       "    <tr>\n",
       "      <th>1949-05-01</th>\n",
       "      <td>1949</td>\n",
       "      <td>May</td>\n",
       "      <td>121</td>\n",
       "    </tr>\n",
       "    <tr>\n",
       "      <th>...</th>\n",
       "      <td>...</td>\n",
       "      <td>...</td>\n",
       "      <td>...</td>\n",
       "    </tr>\n",
       "    <tr>\n",
       "      <th>1957-09-01</th>\n",
       "      <td>1957</td>\n",
       "      <td>Sep</td>\n",
       "      <td>404</td>\n",
       "    </tr>\n",
       "    <tr>\n",
       "      <th>1957-10-01</th>\n",
       "      <td>1957</td>\n",
       "      <td>Oct</td>\n",
       "      <td>347</td>\n",
       "    </tr>\n",
       "    <tr>\n",
       "      <th>1957-11-01</th>\n",
       "      <td>1957</td>\n",
       "      <td>Nov</td>\n",
       "      <td>305</td>\n",
       "    </tr>\n",
       "    <tr>\n",
       "      <th>1957-12-01</th>\n",
       "      <td>1957</td>\n",
       "      <td>Dec</td>\n",
       "      <td>336</td>\n",
       "    </tr>\n",
       "    <tr>\n",
       "      <th>1958-01-01</th>\n",
       "      <td>1958</td>\n",
       "      <td>Jan</td>\n",
       "      <td>340</td>\n",
       "    </tr>\n",
       "  </tbody>\n",
       "</table>\n",
       "<p>109 rows × 3 columns</p>\n",
       "</div>"
      ],
      "text/plain": [
       "            year month  passengers\n",
       "date                              \n",
       "1949-01-01  1949   Jan         112\n",
       "1949-02-01  1949   Feb         118\n",
       "1949-03-01  1949   Mar         132\n",
       "1949-04-01  1949   Apr         129\n",
       "1949-05-01  1949   May         121\n",
       "...          ...   ...         ...\n",
       "1957-09-01  1957   Sep         404\n",
       "1957-10-01  1957   Oct         347\n",
       "1957-11-01  1957   Nov         305\n",
       "1957-12-01  1957   Dec         336\n",
       "1958-01-01  1958   Jan         340\n",
       "\n",
       "[109 rows x 3 columns]"
      ]
     },
     "execution_count": 73,
     "metadata": {},
     "output_type": "execute_result"
    }
   ],
   "source": [
    "flights.truncate(after = \"1958-01-01\")"
   ]
  },
  {
   "cell_type": "code",
   "execution_count": 74,
   "id": "2509916f-98d2-4ce9-b4a5-6cc0f8c258b9",
   "metadata": {},
   "outputs": [
    {
     "data": {
      "text/html": [
       "<div>\n",
       "<style scoped>\n",
       "    .dataframe tbody tr th:only-of-type {\n",
       "        vertical-align: middle;\n",
       "    }\n",
       "\n",
       "    .dataframe tbody tr th {\n",
       "        vertical-align: top;\n",
       "    }\n",
       "\n",
       "    .dataframe thead th {\n",
       "        text-align: right;\n",
       "    }\n",
       "</style>\n",
       "<table border=\"1\" class=\"dataframe\">\n",
       "  <thead>\n",
       "    <tr style=\"text-align: right;\">\n",
       "      <th></th>\n",
       "      <th>year</th>\n",
       "      <th>month</th>\n",
       "      <th>passengers</th>\n",
       "    </tr>\n",
       "    <tr>\n",
       "      <th>date</th>\n",
       "      <th></th>\n",
       "      <th></th>\n",
       "      <th></th>\n",
       "    </tr>\n",
       "  </thead>\n",
       "  <tbody>\n",
       "    <tr>\n",
       "      <th>1956-01-01</th>\n",
       "      <td>1956</td>\n",
       "      <td>Jan</td>\n",
       "      <td>284</td>\n",
       "    </tr>\n",
       "    <tr>\n",
       "      <th>1956-02-01</th>\n",
       "      <td>1956</td>\n",
       "      <td>Feb</td>\n",
       "      <td>277</td>\n",
       "    </tr>\n",
       "    <tr>\n",
       "      <th>1956-03-01</th>\n",
       "      <td>1956</td>\n",
       "      <td>Mar</td>\n",
       "      <td>317</td>\n",
       "    </tr>\n",
       "    <tr>\n",
       "      <th>1956-04-01</th>\n",
       "      <td>1956</td>\n",
       "      <td>Apr</td>\n",
       "      <td>313</td>\n",
       "    </tr>\n",
       "    <tr>\n",
       "      <th>1956-05-01</th>\n",
       "      <td>1956</td>\n",
       "      <td>May</td>\n",
       "      <td>318</td>\n",
       "    </tr>\n",
       "    <tr>\n",
       "      <th>1956-06-01</th>\n",
       "      <td>1956</td>\n",
       "      <td>Jun</td>\n",
       "      <td>374</td>\n",
       "    </tr>\n",
       "    <tr>\n",
       "      <th>1956-07-01</th>\n",
       "      <td>1956</td>\n",
       "      <td>Jul</td>\n",
       "      <td>413</td>\n",
       "    </tr>\n",
       "    <tr>\n",
       "      <th>1956-08-01</th>\n",
       "      <td>1956</td>\n",
       "      <td>Aug</td>\n",
       "      <td>405</td>\n",
       "    </tr>\n",
       "    <tr>\n",
       "      <th>1956-09-01</th>\n",
       "      <td>1956</td>\n",
       "      <td>Sep</td>\n",
       "      <td>355</td>\n",
       "    </tr>\n",
       "    <tr>\n",
       "      <th>1956-10-01</th>\n",
       "      <td>1956</td>\n",
       "      <td>Oct</td>\n",
       "      <td>306</td>\n",
       "    </tr>\n",
       "    <tr>\n",
       "      <th>1956-11-01</th>\n",
       "      <td>1956</td>\n",
       "      <td>Nov</td>\n",
       "      <td>271</td>\n",
       "    </tr>\n",
       "    <tr>\n",
       "      <th>1956-12-01</th>\n",
       "      <td>1956</td>\n",
       "      <td>Dec</td>\n",
       "      <td>306</td>\n",
       "    </tr>\n",
       "    <tr>\n",
       "      <th>1957-01-01</th>\n",
       "      <td>1957</td>\n",
       "      <td>Jan</td>\n",
       "      <td>315</td>\n",
       "    </tr>\n",
       "    <tr>\n",
       "      <th>1957-02-01</th>\n",
       "      <td>1957</td>\n",
       "      <td>Feb</td>\n",
       "      <td>301</td>\n",
       "    </tr>\n",
       "    <tr>\n",
       "      <th>1957-03-01</th>\n",
       "      <td>1957</td>\n",
       "      <td>Mar</td>\n",
       "      <td>356</td>\n",
       "    </tr>\n",
       "    <tr>\n",
       "      <th>1957-04-01</th>\n",
       "      <td>1957</td>\n",
       "      <td>Apr</td>\n",
       "      <td>348</td>\n",
       "    </tr>\n",
       "    <tr>\n",
       "      <th>1957-05-01</th>\n",
       "      <td>1957</td>\n",
       "      <td>May</td>\n",
       "      <td>355</td>\n",
       "    </tr>\n",
       "    <tr>\n",
       "      <th>1957-06-01</th>\n",
       "      <td>1957</td>\n",
       "      <td>Jun</td>\n",
       "      <td>422</td>\n",
       "    </tr>\n",
       "    <tr>\n",
       "      <th>1957-07-01</th>\n",
       "      <td>1957</td>\n",
       "      <td>Jul</td>\n",
       "      <td>465</td>\n",
       "    </tr>\n",
       "    <tr>\n",
       "      <th>1957-08-01</th>\n",
       "      <td>1957</td>\n",
       "      <td>Aug</td>\n",
       "      <td>467</td>\n",
       "    </tr>\n",
       "    <tr>\n",
       "      <th>1957-09-01</th>\n",
       "      <td>1957</td>\n",
       "      <td>Sep</td>\n",
       "      <td>404</td>\n",
       "    </tr>\n",
       "    <tr>\n",
       "      <th>1957-10-01</th>\n",
       "      <td>1957</td>\n",
       "      <td>Oct</td>\n",
       "      <td>347</td>\n",
       "    </tr>\n",
       "    <tr>\n",
       "      <th>1957-11-01</th>\n",
       "      <td>1957</td>\n",
       "      <td>Nov</td>\n",
       "      <td>305</td>\n",
       "    </tr>\n",
       "    <tr>\n",
       "      <th>1957-12-01</th>\n",
       "      <td>1957</td>\n",
       "      <td>Dec</td>\n",
       "      <td>336</td>\n",
       "    </tr>\n",
       "    <tr>\n",
       "      <th>1958-01-01</th>\n",
       "      <td>1958</td>\n",
       "      <td>Jan</td>\n",
       "      <td>340</td>\n",
       "    </tr>\n",
       "    <tr>\n",
       "      <th>1958-02-01</th>\n",
       "      <td>1958</td>\n",
       "      <td>Feb</td>\n",
       "      <td>318</td>\n",
       "    </tr>\n",
       "    <tr>\n",
       "      <th>1958-03-01</th>\n",
       "      <td>1958</td>\n",
       "      <td>Mar</td>\n",
       "      <td>362</td>\n",
       "    </tr>\n",
       "    <tr>\n",
       "      <th>1958-04-01</th>\n",
       "      <td>1958</td>\n",
       "      <td>Apr</td>\n",
       "      <td>348</td>\n",
       "    </tr>\n",
       "    <tr>\n",
       "      <th>1958-05-01</th>\n",
       "      <td>1958</td>\n",
       "      <td>May</td>\n",
       "      <td>363</td>\n",
       "    </tr>\n",
       "    <tr>\n",
       "      <th>1958-06-01</th>\n",
       "      <td>1958</td>\n",
       "      <td>Jun</td>\n",
       "      <td>435</td>\n",
       "    </tr>\n",
       "    <tr>\n",
       "      <th>1958-07-01</th>\n",
       "      <td>1958</td>\n",
       "      <td>Jul</td>\n",
       "      <td>491</td>\n",
       "    </tr>\n",
       "    <tr>\n",
       "      <th>1958-08-01</th>\n",
       "      <td>1958</td>\n",
       "      <td>Aug</td>\n",
       "      <td>505</td>\n",
       "    </tr>\n",
       "    <tr>\n",
       "      <th>1958-09-01</th>\n",
       "      <td>1958</td>\n",
       "      <td>Sep</td>\n",
       "      <td>404</td>\n",
       "    </tr>\n",
       "    <tr>\n",
       "      <th>1958-10-01</th>\n",
       "      <td>1958</td>\n",
       "      <td>Oct</td>\n",
       "      <td>359</td>\n",
       "    </tr>\n",
       "    <tr>\n",
       "      <th>1958-11-01</th>\n",
       "      <td>1958</td>\n",
       "      <td>Nov</td>\n",
       "      <td>310</td>\n",
       "    </tr>\n",
       "    <tr>\n",
       "      <th>1958-12-01</th>\n",
       "      <td>1958</td>\n",
       "      <td>Dec</td>\n",
       "      <td>337</td>\n",
       "    </tr>\n",
       "    <tr>\n",
       "      <th>1959-01-01</th>\n",
       "      <td>1959</td>\n",
       "      <td>Jan</td>\n",
       "      <td>360</td>\n",
       "    </tr>\n",
       "    <tr>\n",
       "      <th>1959-02-01</th>\n",
       "      <td>1959</td>\n",
       "      <td>Feb</td>\n",
       "      <td>342</td>\n",
       "    </tr>\n",
       "    <tr>\n",
       "      <th>1959-03-01</th>\n",
       "      <td>1959</td>\n",
       "      <td>Mar</td>\n",
       "      <td>406</td>\n",
       "    </tr>\n",
       "    <tr>\n",
       "      <th>1959-04-01</th>\n",
       "      <td>1959</td>\n",
       "      <td>Apr</td>\n",
       "      <td>396</td>\n",
       "    </tr>\n",
       "    <tr>\n",
       "      <th>1959-05-01</th>\n",
       "      <td>1959</td>\n",
       "      <td>May</td>\n",
       "      <td>420</td>\n",
       "    </tr>\n",
       "    <tr>\n",
       "      <th>1959-06-01</th>\n",
       "      <td>1959</td>\n",
       "      <td>Jun</td>\n",
       "      <td>472</td>\n",
       "    </tr>\n",
       "    <tr>\n",
       "      <th>1959-07-01</th>\n",
       "      <td>1959</td>\n",
       "      <td>Jul</td>\n",
       "      <td>548</td>\n",
       "    </tr>\n",
       "    <tr>\n",
       "      <th>1959-08-01</th>\n",
       "      <td>1959</td>\n",
       "      <td>Aug</td>\n",
       "      <td>559</td>\n",
       "    </tr>\n",
       "    <tr>\n",
       "      <th>1959-09-01</th>\n",
       "      <td>1959</td>\n",
       "      <td>Sep</td>\n",
       "      <td>463</td>\n",
       "    </tr>\n",
       "    <tr>\n",
       "      <th>1959-10-01</th>\n",
       "      <td>1959</td>\n",
       "      <td>Oct</td>\n",
       "      <td>407</td>\n",
       "    </tr>\n",
       "    <tr>\n",
       "      <th>1959-11-01</th>\n",
       "      <td>1959</td>\n",
       "      <td>Nov</td>\n",
       "      <td>362</td>\n",
       "    </tr>\n",
       "    <tr>\n",
       "      <th>1959-12-01</th>\n",
       "      <td>1959</td>\n",
       "      <td>Dec</td>\n",
       "      <td>405</td>\n",
       "    </tr>\n",
       "    <tr>\n",
       "      <th>1960-01-01</th>\n",
       "      <td>1960</td>\n",
       "      <td>Jan</td>\n",
       "      <td>417</td>\n",
       "    </tr>\n",
       "  </tbody>\n",
       "</table>\n",
       "</div>"
      ],
      "text/plain": [
       "            year month  passengers\n",
       "date                              \n",
       "1956-01-01  1956   Jan         284\n",
       "1956-02-01  1956   Feb         277\n",
       "1956-03-01  1956   Mar         317\n",
       "1956-04-01  1956   Apr         313\n",
       "1956-05-01  1956   May         318\n",
       "1956-06-01  1956   Jun         374\n",
       "1956-07-01  1956   Jul         413\n",
       "1956-08-01  1956   Aug         405\n",
       "1956-09-01  1956   Sep         355\n",
       "1956-10-01  1956   Oct         306\n",
       "1956-11-01  1956   Nov         271\n",
       "1956-12-01  1956   Dec         306\n",
       "1957-01-01  1957   Jan         315\n",
       "1957-02-01  1957   Feb         301\n",
       "1957-03-01  1957   Mar         356\n",
       "1957-04-01  1957   Apr         348\n",
       "1957-05-01  1957   May         355\n",
       "1957-06-01  1957   Jun         422\n",
       "1957-07-01  1957   Jul         465\n",
       "1957-08-01  1957   Aug         467\n",
       "1957-09-01  1957   Sep         404\n",
       "1957-10-01  1957   Oct         347\n",
       "1957-11-01  1957   Nov         305\n",
       "1957-12-01  1957   Dec         336\n",
       "1958-01-01  1958   Jan         340\n",
       "1958-02-01  1958   Feb         318\n",
       "1958-03-01  1958   Mar         362\n",
       "1958-04-01  1958   Apr         348\n",
       "1958-05-01  1958   May         363\n",
       "1958-06-01  1958   Jun         435\n",
       "1958-07-01  1958   Jul         491\n",
       "1958-08-01  1958   Aug         505\n",
       "1958-09-01  1958   Sep         404\n",
       "1958-10-01  1958   Oct         359\n",
       "1958-11-01  1958   Nov         310\n",
       "1958-12-01  1958   Dec         337\n",
       "1959-01-01  1959   Jan         360\n",
       "1959-02-01  1959   Feb         342\n",
       "1959-03-01  1959   Mar         406\n",
       "1959-04-01  1959   Apr         396\n",
       "1959-05-01  1959   May         420\n",
       "1959-06-01  1959   Jun         472\n",
       "1959-07-01  1959   Jul         548\n",
       "1959-08-01  1959   Aug         559\n",
       "1959-09-01  1959   Sep         463\n",
       "1959-10-01  1959   Oct         407\n",
       "1959-11-01  1959   Nov         362\n",
       "1959-12-01  1959   Dec         405\n",
       "1960-01-01  1960   Jan         417"
      ]
     },
     "execution_count": 74,
     "metadata": {},
     "output_type": "execute_result"
    }
   ],
   "source": [
    "flights.truncate(before = \"1956-01-01\", after = \"1960-01-01\")"
   ]
  },
  {
   "cell_type": "markdown",
   "id": "1db9f08d-b163-4577-9589-f28b7a4e9df7",
   "metadata": {},
   "source": [
    "### Exercises"
   ]
  },
  {
   "cell_type": "markdown",
   "id": "88cb4d2b-d7bc-42bd-b000-15cdd6a27afd",
   "metadata": {},
   "source": [
    "Exercise 1: Slicing a Time Series DataFrame  \n",
    "Task:  \n",
    "Load the built-in Flights dataset (from Seaborn), create a datetime index from the year and month columns, and then:  \n",
    "\n",
    "a. Select data for the year 1955.  \n",
    "b. Select data for the first quarter (January to March) of 1955."
   ]
  },
  {
   "cell_type": "code",
   "execution_count": 75,
   "id": "751a7f5c-b7a0-4280-b387-0c89411d5ce7",
   "metadata": {},
   "outputs": [],
   "source": [
    "flights = sns.load_dataset('flights')"
   ]
  },
  {
   "cell_type": "code",
   "execution_count": 76,
   "id": "677a23b3-1688-4fd2-ab33-8234baa66575",
   "metadata": {},
   "outputs": [
    {
     "data": {
      "text/html": [
       "<div>\n",
       "<style scoped>\n",
       "    .dataframe tbody tr th:only-of-type {\n",
       "        vertical-align: middle;\n",
       "    }\n",
       "\n",
       "    .dataframe tbody tr th {\n",
       "        vertical-align: top;\n",
       "    }\n",
       "\n",
       "    .dataframe thead th {\n",
       "        text-align: right;\n",
       "    }\n",
       "</style>\n",
       "<table border=\"1\" class=\"dataframe\">\n",
       "  <thead>\n",
       "    <tr style=\"text-align: right;\">\n",
       "      <th></th>\n",
       "      <th>year</th>\n",
       "      <th>month</th>\n",
       "      <th>passengers</th>\n",
       "    </tr>\n",
       "  </thead>\n",
       "  <tbody>\n",
       "    <tr>\n",
       "      <th>0</th>\n",
       "      <td>1949</td>\n",
       "      <td>Jan</td>\n",
       "      <td>112</td>\n",
       "    </tr>\n",
       "    <tr>\n",
       "      <th>1</th>\n",
       "      <td>1949</td>\n",
       "      <td>Feb</td>\n",
       "      <td>118</td>\n",
       "    </tr>\n",
       "    <tr>\n",
       "      <th>2</th>\n",
       "      <td>1949</td>\n",
       "      <td>Mar</td>\n",
       "      <td>132</td>\n",
       "    </tr>\n",
       "    <tr>\n",
       "      <th>3</th>\n",
       "      <td>1949</td>\n",
       "      <td>Apr</td>\n",
       "      <td>129</td>\n",
       "    </tr>\n",
       "    <tr>\n",
       "      <th>4</th>\n",
       "      <td>1949</td>\n",
       "      <td>May</td>\n",
       "      <td>121</td>\n",
       "    </tr>\n",
       "  </tbody>\n",
       "</table>\n",
       "</div>"
      ],
      "text/plain": [
       "   year month  passengers\n",
       "0  1949   Jan         112\n",
       "1  1949   Feb         118\n",
       "2  1949   Mar         132\n",
       "3  1949   Apr         129\n",
       "4  1949   May         121"
      ]
     },
     "execution_count": 76,
     "metadata": {},
     "output_type": "execute_result"
    }
   ],
   "source": [
    "flights.head()"
   ]
  },
  {
   "cell_type": "code",
   "execution_count": 77,
   "id": "f85c5fd6-4b3c-44dd-9681-afe99f99c913",
   "metadata": {},
   "outputs": [],
   "source": [
    "flights['date'] = pd.to_datetime((flights['year'].astype(str) + '-' + flights['month'].astype(str)),\n",
    "                                format = \"%Y-%b\")"
   ]
  },
  {
   "cell_type": "code",
   "execution_count": 78,
   "id": "9c2b96ad-5980-4112-a59a-c443dc88467f",
   "metadata": {},
   "outputs": [],
   "source": [
    "flights = flights.set_index('date')"
   ]
  },
  {
   "cell_type": "code",
   "execution_count": 79,
   "id": "b435bec6-b1f3-4791-a61c-46b78aef3046",
   "metadata": {},
   "outputs": [],
   "source": [
    "flights.sort_index(inplace = True)"
   ]
  },
  {
   "cell_type": "code",
   "execution_count": 80,
   "id": "33f206bd-a9ba-4f25-ab60-fd0ffe80adc9",
   "metadata": {},
   "outputs": [
    {
     "data": {
      "text/html": [
       "<div>\n",
       "<style scoped>\n",
       "    .dataframe tbody tr th:only-of-type {\n",
       "        vertical-align: middle;\n",
       "    }\n",
       "\n",
       "    .dataframe tbody tr th {\n",
       "        vertical-align: top;\n",
       "    }\n",
       "\n",
       "    .dataframe thead th {\n",
       "        text-align: right;\n",
       "    }\n",
       "</style>\n",
       "<table border=\"1\" class=\"dataframe\">\n",
       "  <thead>\n",
       "    <tr style=\"text-align: right;\">\n",
       "      <th></th>\n",
       "      <th>year</th>\n",
       "      <th>month</th>\n",
       "      <th>passengers</th>\n",
       "    </tr>\n",
       "    <tr>\n",
       "      <th>date</th>\n",
       "      <th></th>\n",
       "      <th></th>\n",
       "      <th></th>\n",
       "    </tr>\n",
       "  </thead>\n",
       "  <tbody>\n",
       "    <tr>\n",
       "      <th>1949-01-01</th>\n",
       "      <td>1949</td>\n",
       "      <td>Jan</td>\n",
       "      <td>112</td>\n",
       "    </tr>\n",
       "    <tr>\n",
       "      <th>1949-02-01</th>\n",
       "      <td>1949</td>\n",
       "      <td>Feb</td>\n",
       "      <td>118</td>\n",
       "    </tr>\n",
       "    <tr>\n",
       "      <th>1949-03-01</th>\n",
       "      <td>1949</td>\n",
       "      <td>Mar</td>\n",
       "      <td>132</td>\n",
       "    </tr>\n",
       "    <tr>\n",
       "      <th>1949-04-01</th>\n",
       "      <td>1949</td>\n",
       "      <td>Apr</td>\n",
       "      <td>129</td>\n",
       "    </tr>\n",
       "    <tr>\n",
       "      <th>1949-05-01</th>\n",
       "      <td>1949</td>\n",
       "      <td>May</td>\n",
       "      <td>121</td>\n",
       "    </tr>\n",
       "  </tbody>\n",
       "</table>\n",
       "</div>"
      ],
      "text/plain": [
       "            year month  passengers\n",
       "date                              \n",
       "1949-01-01  1949   Jan         112\n",
       "1949-02-01  1949   Feb         118\n",
       "1949-03-01  1949   Mar         132\n",
       "1949-04-01  1949   Apr         129\n",
       "1949-05-01  1949   May         121"
      ]
     },
     "execution_count": 80,
     "metadata": {},
     "output_type": "execute_result"
    }
   ],
   "source": [
    "flights.head()"
   ]
  },
  {
   "cell_type": "markdown",
   "id": "d2894ed6-ddc2-4071-846b-b0ca421f6528",
   "metadata": {},
   "source": [
    "a. Select data for the year 1955."
   ]
  },
  {
   "cell_type": "code",
   "execution_count": 81,
   "id": "d269bcfd-20a5-46c5-b9a2-c73b8ae75f14",
   "metadata": {},
   "outputs": [
    {
     "data": {
      "text/html": [
       "<div>\n",
       "<style scoped>\n",
       "    .dataframe tbody tr th:only-of-type {\n",
       "        vertical-align: middle;\n",
       "    }\n",
       "\n",
       "    .dataframe tbody tr th {\n",
       "        vertical-align: top;\n",
       "    }\n",
       "\n",
       "    .dataframe thead th {\n",
       "        text-align: right;\n",
       "    }\n",
       "</style>\n",
       "<table border=\"1\" class=\"dataframe\">\n",
       "  <thead>\n",
       "    <tr style=\"text-align: right;\">\n",
       "      <th></th>\n",
       "      <th>year</th>\n",
       "      <th>month</th>\n",
       "      <th>passengers</th>\n",
       "    </tr>\n",
       "    <tr>\n",
       "      <th>date</th>\n",
       "      <th></th>\n",
       "      <th></th>\n",
       "      <th></th>\n",
       "    </tr>\n",
       "  </thead>\n",
       "  <tbody>\n",
       "    <tr>\n",
       "      <th>1955-01-01</th>\n",
       "      <td>1955</td>\n",
       "      <td>Jan</td>\n",
       "      <td>242</td>\n",
       "    </tr>\n",
       "    <tr>\n",
       "      <th>1955-02-01</th>\n",
       "      <td>1955</td>\n",
       "      <td>Feb</td>\n",
       "      <td>233</td>\n",
       "    </tr>\n",
       "    <tr>\n",
       "      <th>1955-03-01</th>\n",
       "      <td>1955</td>\n",
       "      <td>Mar</td>\n",
       "      <td>267</td>\n",
       "    </tr>\n",
       "    <tr>\n",
       "      <th>1955-04-01</th>\n",
       "      <td>1955</td>\n",
       "      <td>Apr</td>\n",
       "      <td>269</td>\n",
       "    </tr>\n",
       "    <tr>\n",
       "      <th>1955-05-01</th>\n",
       "      <td>1955</td>\n",
       "      <td>May</td>\n",
       "      <td>270</td>\n",
       "    </tr>\n",
       "    <tr>\n",
       "      <th>1955-06-01</th>\n",
       "      <td>1955</td>\n",
       "      <td>Jun</td>\n",
       "      <td>315</td>\n",
       "    </tr>\n",
       "    <tr>\n",
       "      <th>1955-07-01</th>\n",
       "      <td>1955</td>\n",
       "      <td>Jul</td>\n",
       "      <td>364</td>\n",
       "    </tr>\n",
       "    <tr>\n",
       "      <th>1955-08-01</th>\n",
       "      <td>1955</td>\n",
       "      <td>Aug</td>\n",
       "      <td>347</td>\n",
       "    </tr>\n",
       "    <tr>\n",
       "      <th>1955-09-01</th>\n",
       "      <td>1955</td>\n",
       "      <td>Sep</td>\n",
       "      <td>312</td>\n",
       "    </tr>\n",
       "    <tr>\n",
       "      <th>1955-10-01</th>\n",
       "      <td>1955</td>\n",
       "      <td>Oct</td>\n",
       "      <td>274</td>\n",
       "    </tr>\n",
       "    <tr>\n",
       "      <th>1955-11-01</th>\n",
       "      <td>1955</td>\n",
       "      <td>Nov</td>\n",
       "      <td>237</td>\n",
       "    </tr>\n",
       "    <tr>\n",
       "      <th>1955-12-01</th>\n",
       "      <td>1955</td>\n",
       "      <td>Dec</td>\n",
       "      <td>278</td>\n",
       "    </tr>\n",
       "  </tbody>\n",
       "</table>\n",
       "</div>"
      ],
      "text/plain": [
       "            year month  passengers\n",
       "date                              \n",
       "1955-01-01  1955   Jan         242\n",
       "1955-02-01  1955   Feb         233\n",
       "1955-03-01  1955   Mar         267\n",
       "1955-04-01  1955   Apr         269\n",
       "1955-05-01  1955   May         270\n",
       "1955-06-01  1955   Jun         315\n",
       "1955-07-01  1955   Jul         364\n",
       "1955-08-01  1955   Aug         347\n",
       "1955-09-01  1955   Sep         312\n",
       "1955-10-01  1955   Oct         274\n",
       "1955-11-01  1955   Nov         237\n",
       "1955-12-01  1955   Dec         278"
      ]
     },
     "execution_count": 81,
     "metadata": {},
     "output_type": "execute_result"
    }
   ],
   "source": [
    "flights.loc['1955']"
   ]
  },
  {
   "cell_type": "markdown",
   "id": "aed266ad-97fb-4c3d-84db-87791052c77c",
   "metadata": {},
   "source": [
    "b. Select data for the first quarter (January to March) of 1955"
   ]
  },
  {
   "cell_type": "code",
   "execution_count": 82,
   "id": "d7699361-b8ef-46cd-a11a-5b2bfe105bfe",
   "metadata": {},
   "outputs": [
    {
     "data": {
      "text/html": [
       "<div>\n",
       "<style scoped>\n",
       "    .dataframe tbody tr th:only-of-type {\n",
       "        vertical-align: middle;\n",
       "    }\n",
       "\n",
       "    .dataframe tbody tr th {\n",
       "        vertical-align: top;\n",
       "    }\n",
       "\n",
       "    .dataframe thead th {\n",
       "        text-align: right;\n",
       "    }\n",
       "</style>\n",
       "<table border=\"1\" class=\"dataframe\">\n",
       "  <thead>\n",
       "    <tr style=\"text-align: right;\">\n",
       "      <th></th>\n",
       "      <th>year</th>\n",
       "      <th>month</th>\n",
       "      <th>passengers</th>\n",
       "    </tr>\n",
       "    <tr>\n",
       "      <th>date</th>\n",
       "      <th></th>\n",
       "      <th></th>\n",
       "      <th></th>\n",
       "    </tr>\n",
       "  </thead>\n",
       "  <tbody>\n",
       "    <tr>\n",
       "      <th>1955-01-01</th>\n",
       "      <td>1955</td>\n",
       "      <td>Jan</td>\n",
       "      <td>242</td>\n",
       "    </tr>\n",
       "    <tr>\n",
       "      <th>1955-02-01</th>\n",
       "      <td>1955</td>\n",
       "      <td>Feb</td>\n",
       "      <td>233</td>\n",
       "    </tr>\n",
       "    <tr>\n",
       "      <th>1955-03-01</th>\n",
       "      <td>1955</td>\n",
       "      <td>Mar</td>\n",
       "      <td>267</td>\n",
       "    </tr>\n",
       "  </tbody>\n",
       "</table>\n",
       "</div>"
      ],
      "text/plain": [
       "            year month  passengers\n",
       "date                              \n",
       "1955-01-01  1955   Jan         242\n",
       "1955-02-01  1955   Feb         233\n",
       "1955-03-01  1955   Mar         267"
      ]
     },
     "execution_count": 82,
     "metadata": {},
     "output_type": "execute_result"
    }
   ],
   "source": [
    "flights.loc['1955-01':'1955-03']"
   ]
  },
  {
   "cell_type": "markdown",
   "id": "209a5b7a-c8a2-4a78-9214-eb86bfddaf96",
   "metadata": {},
   "source": [
    "Exercise 2: Subsetting a Time Series DataFrame Using truncate()  \n",
    "Task:  \n",
    "Using the Flights dataset: \n",
    "\n",
    "1. .Create a DatetimeIndex from the year and month columns.\n",
    "2. Use truncate() to extract data for the first half of 1957 (January 1957 to June 1957).\n",
    "3. Display the first and last few rows of the truncated DataFrame."
   ]
  },
  {
   "cell_type": "code",
   "execution_count": 83,
   "id": "d3a112ec-fb02-4f72-8887-4211bd1f9dad",
   "metadata": {},
   "outputs": [],
   "source": [
    "flights = sns.load_dataset('flights')"
   ]
  },
  {
   "cell_type": "code",
   "execution_count": 84,
   "id": "98b3170d-f9ed-436e-a2b0-d6f3115c5168",
   "metadata": {},
   "outputs": [
    {
     "data": {
      "text/html": [
       "<div>\n",
       "<style scoped>\n",
       "    .dataframe tbody tr th:only-of-type {\n",
       "        vertical-align: middle;\n",
       "    }\n",
       "\n",
       "    .dataframe tbody tr th {\n",
       "        vertical-align: top;\n",
       "    }\n",
       "\n",
       "    .dataframe thead th {\n",
       "        text-align: right;\n",
       "    }\n",
       "</style>\n",
       "<table border=\"1\" class=\"dataframe\">\n",
       "  <thead>\n",
       "    <tr style=\"text-align: right;\">\n",
       "      <th></th>\n",
       "      <th>year</th>\n",
       "      <th>month</th>\n",
       "      <th>passengers</th>\n",
       "    </tr>\n",
       "  </thead>\n",
       "  <tbody>\n",
       "    <tr>\n",
       "      <th>0</th>\n",
       "      <td>1949</td>\n",
       "      <td>Jan</td>\n",
       "      <td>112</td>\n",
       "    </tr>\n",
       "    <tr>\n",
       "      <th>1</th>\n",
       "      <td>1949</td>\n",
       "      <td>Feb</td>\n",
       "      <td>118</td>\n",
       "    </tr>\n",
       "    <tr>\n",
       "      <th>2</th>\n",
       "      <td>1949</td>\n",
       "      <td>Mar</td>\n",
       "      <td>132</td>\n",
       "    </tr>\n",
       "    <tr>\n",
       "      <th>3</th>\n",
       "      <td>1949</td>\n",
       "      <td>Apr</td>\n",
       "      <td>129</td>\n",
       "    </tr>\n",
       "    <tr>\n",
       "      <th>4</th>\n",
       "      <td>1949</td>\n",
       "      <td>May</td>\n",
       "      <td>121</td>\n",
       "    </tr>\n",
       "  </tbody>\n",
       "</table>\n",
       "</div>"
      ],
      "text/plain": [
       "   year month  passengers\n",
       "0  1949   Jan         112\n",
       "1  1949   Feb         118\n",
       "2  1949   Mar         132\n",
       "3  1949   Apr         129\n",
       "4  1949   May         121"
      ]
     },
     "execution_count": 84,
     "metadata": {},
     "output_type": "execute_result"
    }
   ],
   "source": [
    "flights.head()"
   ]
  },
  {
   "cell_type": "code",
   "execution_count": 85,
   "id": "9ef27cc7-ba2f-4093-95e1-c62dfbba7df8",
   "metadata": {},
   "outputs": [],
   "source": [
    "flights['date'] = pd.to_datetime((flights['year'].astype(str) + '-' + flights['month'].astype(str)),\n",
    "                                format = \"%Y-%b\")"
   ]
  },
  {
   "cell_type": "code",
   "execution_count": 86,
   "id": "874db475-3916-4d6d-8c2c-04fb64ddb3f1",
   "metadata": {},
   "outputs": [],
   "source": [
    "flights.set_index('date', inplace = True)"
   ]
  },
  {
   "cell_type": "code",
   "execution_count": 87,
   "id": "8489c9c2-c49b-4c03-8cf4-ad07f1e7d46b",
   "metadata": {},
   "outputs": [],
   "source": [
    "flights.sort_index(inplace = True)"
   ]
  },
  {
   "cell_type": "code",
   "execution_count": 88,
   "id": "b1a6438b-4c1d-42be-aa79-61223d633829",
   "metadata": {},
   "outputs": [
    {
     "data": {
      "text/html": [
       "<div>\n",
       "<style scoped>\n",
       "    .dataframe tbody tr th:only-of-type {\n",
       "        vertical-align: middle;\n",
       "    }\n",
       "\n",
       "    .dataframe tbody tr th {\n",
       "        vertical-align: top;\n",
       "    }\n",
       "\n",
       "    .dataframe thead th {\n",
       "        text-align: right;\n",
       "    }\n",
       "</style>\n",
       "<table border=\"1\" class=\"dataframe\">\n",
       "  <thead>\n",
       "    <tr style=\"text-align: right;\">\n",
       "      <th></th>\n",
       "      <th>year</th>\n",
       "      <th>month</th>\n",
       "      <th>passengers</th>\n",
       "    </tr>\n",
       "    <tr>\n",
       "      <th>date</th>\n",
       "      <th></th>\n",
       "      <th></th>\n",
       "      <th></th>\n",
       "    </tr>\n",
       "  </thead>\n",
       "  <tbody>\n",
       "    <tr>\n",
       "      <th>1949-01-01</th>\n",
       "      <td>1949</td>\n",
       "      <td>Jan</td>\n",
       "      <td>112</td>\n",
       "    </tr>\n",
       "    <tr>\n",
       "      <th>1949-02-01</th>\n",
       "      <td>1949</td>\n",
       "      <td>Feb</td>\n",
       "      <td>118</td>\n",
       "    </tr>\n",
       "    <tr>\n",
       "      <th>1949-03-01</th>\n",
       "      <td>1949</td>\n",
       "      <td>Mar</td>\n",
       "      <td>132</td>\n",
       "    </tr>\n",
       "    <tr>\n",
       "      <th>1949-04-01</th>\n",
       "      <td>1949</td>\n",
       "      <td>Apr</td>\n",
       "      <td>129</td>\n",
       "    </tr>\n",
       "    <tr>\n",
       "      <th>1949-05-01</th>\n",
       "      <td>1949</td>\n",
       "      <td>May</td>\n",
       "      <td>121</td>\n",
       "    </tr>\n",
       "  </tbody>\n",
       "</table>\n",
       "</div>"
      ],
      "text/plain": [
       "            year month  passengers\n",
       "date                              \n",
       "1949-01-01  1949   Jan         112\n",
       "1949-02-01  1949   Feb         118\n",
       "1949-03-01  1949   Mar         132\n",
       "1949-04-01  1949   Apr         129\n",
       "1949-05-01  1949   May         121"
      ]
     },
     "execution_count": 88,
     "metadata": {},
     "output_type": "execute_result"
    }
   ],
   "source": [
    "flights.head()"
   ]
  },
  {
   "cell_type": "code",
   "execution_count": 89,
   "id": "6357a798-cee4-49ee-9c0d-ece69a294186",
   "metadata": {},
   "outputs": [],
   "source": [
    "tr = flights.truncate(before = \"1957-01\", after = \"1957-06\")"
   ]
  },
  {
   "cell_type": "code",
   "execution_count": 90,
   "id": "5d147a2f-6a49-4c5a-ad87-9e8f9c09b88e",
   "metadata": {},
   "outputs": [
    {
     "data": {
      "text/html": [
       "<div>\n",
       "<style scoped>\n",
       "    .dataframe tbody tr th:only-of-type {\n",
       "        vertical-align: middle;\n",
       "    }\n",
       "\n",
       "    .dataframe tbody tr th {\n",
       "        vertical-align: top;\n",
       "    }\n",
       "\n",
       "    .dataframe thead th {\n",
       "        text-align: right;\n",
       "    }\n",
       "</style>\n",
       "<table border=\"1\" class=\"dataframe\">\n",
       "  <thead>\n",
       "    <tr style=\"text-align: right;\">\n",
       "      <th></th>\n",
       "      <th>year</th>\n",
       "      <th>month</th>\n",
       "      <th>passengers</th>\n",
       "    </tr>\n",
       "    <tr>\n",
       "      <th>date</th>\n",
       "      <th></th>\n",
       "      <th></th>\n",
       "      <th></th>\n",
       "    </tr>\n",
       "  </thead>\n",
       "  <tbody>\n",
       "    <tr>\n",
       "      <th>1957-01-01</th>\n",
       "      <td>1957</td>\n",
       "      <td>Jan</td>\n",
       "      <td>315</td>\n",
       "    </tr>\n",
       "    <tr>\n",
       "      <th>1957-02-01</th>\n",
       "      <td>1957</td>\n",
       "      <td>Feb</td>\n",
       "      <td>301</td>\n",
       "    </tr>\n",
       "    <tr>\n",
       "      <th>1957-03-01</th>\n",
       "      <td>1957</td>\n",
       "      <td>Mar</td>\n",
       "      <td>356</td>\n",
       "    </tr>\n",
       "    <tr>\n",
       "      <th>1957-04-01</th>\n",
       "      <td>1957</td>\n",
       "      <td>Apr</td>\n",
       "      <td>348</td>\n",
       "    </tr>\n",
       "    <tr>\n",
       "      <th>1957-05-01</th>\n",
       "      <td>1957</td>\n",
       "      <td>May</td>\n",
       "      <td>355</td>\n",
       "    </tr>\n",
       "  </tbody>\n",
       "</table>\n",
       "</div>"
      ],
      "text/plain": [
       "            year month  passengers\n",
       "date                              \n",
       "1957-01-01  1957   Jan         315\n",
       "1957-02-01  1957   Feb         301\n",
       "1957-03-01  1957   Mar         356\n",
       "1957-04-01  1957   Apr         348\n",
       "1957-05-01  1957   May         355"
      ]
     },
     "execution_count": 90,
     "metadata": {},
     "output_type": "execute_result"
    }
   ],
   "source": [
    "tr.head()"
   ]
  },
  {
   "cell_type": "code",
   "execution_count": 91,
   "id": "d546459a-e5ab-4b2e-831d-b69a713d8ba3",
   "metadata": {},
   "outputs": [
    {
     "data": {
      "text/html": [
       "<div>\n",
       "<style scoped>\n",
       "    .dataframe tbody tr th:only-of-type {\n",
       "        vertical-align: middle;\n",
       "    }\n",
       "\n",
       "    .dataframe tbody tr th {\n",
       "        vertical-align: top;\n",
       "    }\n",
       "\n",
       "    .dataframe thead th {\n",
       "        text-align: right;\n",
       "    }\n",
       "</style>\n",
       "<table border=\"1\" class=\"dataframe\">\n",
       "  <thead>\n",
       "    <tr style=\"text-align: right;\">\n",
       "      <th></th>\n",
       "      <th>year</th>\n",
       "      <th>month</th>\n",
       "      <th>passengers</th>\n",
       "    </tr>\n",
       "    <tr>\n",
       "      <th>date</th>\n",
       "      <th></th>\n",
       "      <th></th>\n",
       "      <th></th>\n",
       "    </tr>\n",
       "  </thead>\n",
       "  <tbody>\n",
       "    <tr>\n",
       "      <th>1957-02-01</th>\n",
       "      <td>1957</td>\n",
       "      <td>Feb</td>\n",
       "      <td>301</td>\n",
       "    </tr>\n",
       "    <tr>\n",
       "      <th>1957-03-01</th>\n",
       "      <td>1957</td>\n",
       "      <td>Mar</td>\n",
       "      <td>356</td>\n",
       "    </tr>\n",
       "    <tr>\n",
       "      <th>1957-04-01</th>\n",
       "      <td>1957</td>\n",
       "      <td>Apr</td>\n",
       "      <td>348</td>\n",
       "    </tr>\n",
       "    <tr>\n",
       "      <th>1957-05-01</th>\n",
       "      <td>1957</td>\n",
       "      <td>May</td>\n",
       "      <td>355</td>\n",
       "    </tr>\n",
       "    <tr>\n",
       "      <th>1957-06-01</th>\n",
       "      <td>1957</td>\n",
       "      <td>Jun</td>\n",
       "      <td>422</td>\n",
       "    </tr>\n",
       "  </tbody>\n",
       "</table>\n",
       "</div>"
      ],
      "text/plain": [
       "            year month  passengers\n",
       "date                              \n",
       "1957-02-01  1957   Feb         301\n",
       "1957-03-01  1957   Mar         356\n",
       "1957-04-01  1957   Apr         348\n",
       "1957-05-01  1957   May         355\n",
       "1957-06-01  1957   Jun         422"
      ]
     },
     "execution_count": 91,
     "metadata": {},
     "output_type": "execute_result"
    }
   ],
   "source": [
    "tr.tail()"
   ]
  },
  {
   "cell_type": "markdown",
   "id": "1c663f32-29ef-4033-ad74-83e267734f97",
   "metadata": {},
   "source": [
    "###  Time Series with Duplicate Indices"
   ]
  },
  {
   "cell_type": "markdown",
   "id": "337ab281-0e34-407f-b36e-d88eac8d9e4e",
   "metadata": {},
   "source": [
    "When working with time series data, it's common to expect that each timestamp uniquely identifies a row. However, in many real-world scenarios you might have duplicate indices—that is, multiple rows sharing the same timestamp. This situation can occur, for example, when:\n",
    "\n",
    "+ Multiple measurements or transactions occur at the same time.\n",
    "+ Data is recorded at a higher frequency than needed and later aggregated.\n",
    "+ Data from different sources with overlapping timestamps are combined.\n",
    "\n",
    "Handling duplicate indices properly is important because many time series operations (such as resampling or time-based slicing) may behave differently or require additional aggregation when the index is not unique."
   ]
  },
  {
   "cell_type": "markdown",
   "id": "278ce594-fc6c-48ab-ba49-2aba800be990",
   "metadata": {},
   "source": [
    "Aggregating Duplicate Timestamps"
   ]
  },
  {
   "cell_type": "code",
   "execution_count": 92,
   "id": "b46333f9-38af-44ed-bedc-e67bbf63f29a",
   "metadata": {},
   "outputs": [],
   "source": [
    "data = {\n",
    "    \"date\": pd.to_datetime([\n",
    "        \"2024-02-01 10:00\", \"2024-02-01 10:00\",\n",
    "        \"2024-02-01 12:00\", \"2024-02-01 12:00\",\n",
    "        \"2024-02-02 14:00\", \"2024-02-02 14:00\",\n",
    "        \"2024-02-03 16:00\"\n",
    "    ]),\n",
    "    \"sales\": [100, 150, 200, 250, 300, 350, 400],\n",
    "    \"units_sold\": [10, 15, 20, 25, 30, 35, 40]\n",
    "}\n",
    "\n",
    "df = pd.DataFrame(data)"
   ]
  },
  {
   "cell_type": "code",
   "execution_count": 93,
   "id": "b9eae582-81ce-4bae-92f4-9c3d36cdc904",
   "metadata": {},
   "outputs": [],
   "source": [
    "df.set_index('date', inplace = True)"
   ]
  },
  {
   "cell_type": "code",
   "execution_count": 94,
   "id": "949a1be7-2845-4987-a481-0947906444ea",
   "metadata": {},
   "outputs": [
    {
     "data": {
      "text/html": [
       "<div>\n",
       "<style scoped>\n",
       "    .dataframe tbody tr th:only-of-type {\n",
       "        vertical-align: middle;\n",
       "    }\n",
       "\n",
       "    .dataframe tbody tr th {\n",
       "        vertical-align: top;\n",
       "    }\n",
       "\n",
       "    .dataframe thead th {\n",
       "        text-align: right;\n",
       "    }\n",
       "</style>\n",
       "<table border=\"1\" class=\"dataframe\">\n",
       "  <thead>\n",
       "    <tr style=\"text-align: right;\">\n",
       "      <th></th>\n",
       "      <th>sales</th>\n",
       "      <th>units_sold</th>\n",
       "    </tr>\n",
       "    <tr>\n",
       "      <th>date</th>\n",
       "      <th></th>\n",
       "      <th></th>\n",
       "    </tr>\n",
       "  </thead>\n",
       "  <tbody>\n",
       "    <tr>\n",
       "      <th>2024-02-01 10:00:00</th>\n",
       "      <td>100</td>\n",
       "      <td>10</td>\n",
       "    </tr>\n",
       "    <tr>\n",
       "      <th>2024-02-01 10:00:00</th>\n",
       "      <td>150</td>\n",
       "      <td>15</td>\n",
       "    </tr>\n",
       "    <tr>\n",
       "      <th>2024-02-01 12:00:00</th>\n",
       "      <td>200</td>\n",
       "      <td>20</td>\n",
       "    </tr>\n",
       "    <tr>\n",
       "      <th>2024-02-01 12:00:00</th>\n",
       "      <td>250</td>\n",
       "      <td>25</td>\n",
       "    </tr>\n",
       "    <tr>\n",
       "      <th>2024-02-02 14:00:00</th>\n",
       "      <td>300</td>\n",
       "      <td>30</td>\n",
       "    </tr>\n",
       "    <tr>\n",
       "      <th>2024-02-02 14:00:00</th>\n",
       "      <td>350</td>\n",
       "      <td>35</td>\n",
       "    </tr>\n",
       "    <tr>\n",
       "      <th>2024-02-03 16:00:00</th>\n",
       "      <td>400</td>\n",
       "      <td>40</td>\n",
       "    </tr>\n",
       "  </tbody>\n",
       "</table>\n",
       "</div>"
      ],
      "text/plain": [
       "                     sales  units_sold\n",
       "date                                  \n",
       "2024-02-01 10:00:00    100          10\n",
       "2024-02-01 10:00:00    150          15\n",
       "2024-02-01 12:00:00    200          20\n",
       "2024-02-01 12:00:00    250          25\n",
       "2024-02-02 14:00:00    300          30\n",
       "2024-02-02 14:00:00    350          35\n",
       "2024-02-03 16:00:00    400          40"
      ]
     },
     "execution_count": 94,
     "metadata": {},
     "output_type": "execute_result"
    }
   ],
   "source": [
    "df"
   ]
  },
  {
   "cell_type": "code",
   "execution_count": 95,
   "id": "08dfed39-e018-42a6-8cd8-8de81ffedb3f",
   "metadata": {},
   "outputs": [
    {
     "data": {
      "text/html": [
       "<div>\n",
       "<style scoped>\n",
       "    .dataframe tbody tr th:only-of-type {\n",
       "        vertical-align: middle;\n",
       "    }\n",
       "\n",
       "    .dataframe tbody tr th {\n",
       "        vertical-align: top;\n",
       "    }\n",
       "\n",
       "    .dataframe thead th {\n",
       "        text-align: right;\n",
       "    }\n",
       "</style>\n",
       "<table border=\"1\" class=\"dataframe\">\n",
       "  <thead>\n",
       "    <tr style=\"text-align: right;\">\n",
       "      <th></th>\n",
       "      <th>sales</th>\n",
       "      <th>units_sold</th>\n",
       "    </tr>\n",
       "    <tr>\n",
       "      <th>date</th>\n",
       "      <th></th>\n",
       "      <th></th>\n",
       "    </tr>\n",
       "  </thead>\n",
       "  <tbody>\n",
       "    <tr>\n",
       "      <th>2024-02-01 10:00:00</th>\n",
       "      <td>125.0</td>\n",
       "      <td>12.5</td>\n",
       "    </tr>\n",
       "    <tr>\n",
       "      <th>2024-02-01 12:00:00</th>\n",
       "      <td>225.0</td>\n",
       "      <td>22.5</td>\n",
       "    </tr>\n",
       "    <tr>\n",
       "      <th>2024-02-02 14:00:00</th>\n",
       "      <td>325.0</td>\n",
       "      <td>32.5</td>\n",
       "    </tr>\n",
       "    <tr>\n",
       "      <th>2024-02-03 16:00:00</th>\n",
       "      <td>400.0</td>\n",
       "      <td>40.0</td>\n",
       "    </tr>\n",
       "  </tbody>\n",
       "</table>\n",
       "</div>"
      ],
      "text/plain": [
       "                     sales  units_sold\n",
       "date                                  \n",
       "2024-02-01 10:00:00  125.0        12.5\n",
       "2024-02-01 12:00:00  225.0        22.5\n",
       "2024-02-02 14:00:00  325.0        32.5\n",
       "2024-02-03 16:00:00  400.0        40.0"
      ]
     },
     "execution_count": 95,
     "metadata": {},
     "output_type": "execute_result"
    }
   ],
   "source": [
    "df.groupby(level = 0).mean()"
   ]
  },
  {
   "cell_type": "code",
   "execution_count": 96,
   "id": "35ad7c81-51cb-44fe-b406-51fc2b90408c",
   "metadata": {},
   "outputs": [
    {
     "data": {
      "text/html": [
       "<div>\n",
       "<style scoped>\n",
       "    .dataframe tbody tr th:only-of-type {\n",
       "        vertical-align: middle;\n",
       "    }\n",
       "\n",
       "    .dataframe tbody tr th {\n",
       "        vertical-align: top;\n",
       "    }\n",
       "\n",
       "    .dataframe thead th {\n",
       "        text-align: right;\n",
       "    }\n",
       "</style>\n",
       "<table border=\"1\" class=\"dataframe\">\n",
       "  <thead>\n",
       "    <tr style=\"text-align: right;\">\n",
       "      <th></th>\n",
       "      <th>sales</th>\n",
       "      <th>units_sold</th>\n",
       "    </tr>\n",
       "    <tr>\n",
       "      <th>date</th>\n",
       "      <th></th>\n",
       "      <th></th>\n",
       "    </tr>\n",
       "  </thead>\n",
       "  <tbody>\n",
       "    <tr>\n",
       "      <th>2024-02-01 10:00:00</th>\n",
       "      <td>250</td>\n",
       "      <td>25</td>\n",
       "    </tr>\n",
       "    <tr>\n",
       "      <th>2024-02-01 12:00:00</th>\n",
       "      <td>450</td>\n",
       "      <td>45</td>\n",
       "    </tr>\n",
       "    <tr>\n",
       "      <th>2024-02-02 14:00:00</th>\n",
       "      <td>650</td>\n",
       "      <td>65</td>\n",
       "    </tr>\n",
       "    <tr>\n",
       "      <th>2024-02-03 16:00:00</th>\n",
       "      <td>400</td>\n",
       "      <td>40</td>\n",
       "    </tr>\n",
       "  </tbody>\n",
       "</table>\n",
       "</div>"
      ],
      "text/plain": [
       "                     sales  units_sold\n",
       "date                                  \n",
       "2024-02-01 10:00:00    250          25\n",
       "2024-02-01 12:00:00    450          45\n",
       "2024-02-02 14:00:00    650          65\n",
       "2024-02-03 16:00:00    400          40"
      ]
     },
     "execution_count": 96,
     "metadata": {},
     "output_type": "execute_result"
    }
   ],
   "source": [
    "df.groupby(df.index).sum()"
   ]
  },
  {
   "cell_type": "markdown",
   "id": "2ecfcdbb-35ab-4a95-a5ae-224f1859c293",
   "metadata": {},
   "source": [
    "## Date Ranges, Frequencies, and Shifting"
   ]
  },
  {
   "cell_type": "markdown",
   "id": "5f49b0bf-2ab9-4472-9c21-b7626310631f",
   "metadata": {},
   "source": [
    "### Date Ranges\n",
    "Date ranges are sequences of dates generated automatically based on a start date, end date, or a specified number of periods along with a frequency."
   ]
  },
  {
   "cell_type": "markdown",
   "id": "3112652d-aff6-4a63-8a06-ce6f5d3a4700",
   "metadata": {},
   "source": [
    "__pd.date_range()__  \n",
    "The pd.date_range() function is used to generate a fixed-frequency DatetimeIndex.\n",
    "\n",
    "__Syntax:__  \n",
    "```pd.date_range(start=None, end=None, periods=None, freq='D', tz=None, normalize=False, name=None, inclusive=None)```\n",
    "\n",
    "+ start: The starting date/time as a string or datetime.\n",
    "+ end: The ending date/time.\n",
    "+ periods: The number of periods to generate.\n",
    "+ freq: Frequency string that defines the interval (default is daily, 'D'). Common frequency aliases include:\n",
    "    + 'D': Daily.\n",
    "    + 'W': Weekly.\n",
    "    + 'M': Month end.\n",
    "    + 'MS': Month start.\n",
    "    + 'Q': Quarter end.\n",
    "    + 'QS': Quarter start.\n",
    "    + 'A' or 'Y': Year end.\n",
    "    + 'AS' or 'YS': Year start.\n",
    "    + 'H': Hourly.\n",
    "    + 'T' or 'min': Minutely.\n",
    "    + 'S': Secondly.\n",
    "+ tz: Time zone for the resulting dates.\n",
    "+ normalize: If True, normalize start/end dates to midnight.\n",
    "+ inclusive: Specifies whether to include the start/end points."
   ]
  },
  {
   "cell_type": "markdown",
   "id": "acec79ce-b25d-427c-a42e-5e17e1d018db",
   "metadata": {},
   "source": [
    "Examples"
   ]
  },
  {
   "cell_type": "code",
   "execution_count": 97,
   "id": "6cfbc20e-5af0-4d82-8603-8711f34570b3",
   "metadata": {},
   "outputs": [
    {
     "data": {
      "text/plain": [
       "DatetimeIndex(['2025-02-26', '2025-02-27', '2025-02-28', '2025-03-01',\n",
       "               '2025-03-02', '2025-03-03', '2025-03-04', '2025-03-05',\n",
       "               '2025-03-06', '2025-03-07', '2025-03-08', '2025-03-09',\n",
       "               '2025-03-10'],\n",
       "              dtype='datetime64[ns]', freq='D')"
      ]
     },
     "execution_count": 97,
     "metadata": {},
     "output_type": "execute_result"
    }
   ],
   "source": [
    "# Generating a daily date range\n",
    "pd.date_range(start = \"2025-02-26\", end = \"2025-03-10\", freq = 'D')"
   ]
  },
  {
   "cell_type": "code",
   "execution_count": 98,
   "id": "c39119ad-37aa-496a-b3c0-fa612ef75aec",
   "metadata": {},
   "outputs": [
    {
     "data": {
      "text/plain": [
       "DatetimeIndex(['2025-03-01', '2025-04-01', '2025-05-01', '2025-06-01',\n",
       "               '2025-07-01', '2025-08-01', '2025-09-01', '2025-10-01'],\n",
       "              dtype='datetime64[ns]', freq='MS')"
      ]
     },
     "execution_count": 98,
     "metadata": {},
     "output_type": "execute_result"
    }
   ],
   "source": [
    "# Generating a monthly date range\n",
    "pd.date_range(start = \"2025-02-26\", periods = 8, freq = 'MS')"
   ]
  },
  {
   "cell_type": "code",
   "execution_count": 99,
   "id": "5dfcc3c0-19ad-48ad-9c3c-bbf362dddc6f",
   "metadata": {},
   "outputs": [
    {
     "data": {
      "text/plain": [
       "DatetimeIndex(['2025-03-02 00:00:00+00:00', '2025-03-09 00:00:00+00:00',\n",
       "               '2025-03-16 00:00:00+00:00', '2025-03-23 00:00:00+00:00'],\n",
       "              dtype='datetime64[ns, UTC]', freq='W-SUN')"
      ]
     },
     "execution_count": 99,
     "metadata": {},
     "output_type": "execute_result"
    }
   ],
   "source": [
    "# Generate a Weekly Date Range with Time Zone\n",
    "pd.date_range(start=\"2025-02-26\", end=\"2025-03-28\", freq='W', tz='UTC')"
   ]
  },
  {
   "cell_type": "markdown",
   "id": "5db2de5c-3356-4d13-bd0c-2d532f88aa62",
   "metadata": {},
   "source": [
    "### Frequincies in date range\n",
    "Frequencies define the interval at which dates are generated. They are specified by frequency strings (aliases) in pd.date_range() and are crucial for aligning data, resampling, or setting time intervals.\n",
    "\n",
    "__Daily & Weekly Frequencies__\n",
    "+ D → Calendar day\n",
    "+ B → Business day (Mon-Fri)\n",
    "+ W → Weekly (default: Sunday)\n",
    "+ W-MON → Weekly on Monday\n",
    "\n",
    "__Hourly, Minutes, and Seconds Frequencies__\n",
    "+ H → Hourly\n",
    "+ T or min → Every minute\n",
    "+ S → Every second\n",
    "+ L or ms → Milliseconds\n",
    "+ U or us → Microseconds\n",
    "+ N → Nanoseconds\n",
    "\n",
    "__Monthly & Quarterly Frequencies__\n",
    "+ ME → End of the month\n",
    "+ MS → Start of the month\n",
    "+ Q → End of the quarter (default: Mar, Jun, Sep, Dec)\n",
    "+ Q-JAN, Q-FEB, ..., Q-DEC → Quarter end based on a custom fiscal year start\n",
    "+ QS → Start of the quarter\n",
    "+ QS-JAN, QS-FEB, ..., QS-DEC → Quarter start based on a custom fiscal year start\n",
    "\n",
    "__Business-Oriented Frequencies__\n",
    "+ BM → Last business day of the month\n",
    "+ BMS → First business day of the month\n",
    "+ BQ → Last business day of the quarter\n",
    "+ BQ-JAN, BQ-FEB, ..., BQ-DEC → Business quarter end based on fiscal year\n",
    "+ BQS → First business day of the quarter\n",
    "+ BQS-JAN, BQS-FEB, ..., BQS-DEC → Business quarter start based on fiscal year\n",
    "\n",
    "__Yearly Frequencies__\n",
    "+ A or Y → End of the year (default: December)\n",
    "+ A-JAN, A-FEB, ..., A-DEC → Custom year-end based on a fiscal year start\n",
    "+ AS or YS → Start of the year\n",
    "+ AS-JAN, AS-FEB, ..., AS-DEC → Custom year start based on a fiscal year\n",
    "\n",
    "__Custom Intervals__\n",
    "+ 2D → Every 2 days\n",
    "+ 3H → Every 3 hours\n",
    "+ 15T → Every 15 minutes\n",
    "+ 10S → Every 10 seconds\n",
    "+ 5L → Every 5 milliseconds\n",
    "+ 250U → Every 250 microseconds\n",
    "+ -1D → Reverse daily order\n"
   ]
  },
  {
   "cell_type": "markdown",
   "id": "bccdb2b0-573a-4316-9aac-3b7e99b6cf87",
   "metadata": {},
   "source": [
    "Examples"
   ]
  },
  {
   "cell_type": "code",
   "execution_count": 100,
   "id": "13dccdcc-d6f7-4035-80d2-b7926e31dcd3",
   "metadata": {},
   "outputs": [
    {
     "data": {
      "text/plain": [
       "DatetimeIndex(['2025-02-26', '2025-02-27', '2025-02-28', '2025-03-01',\n",
       "               '2025-03-02'],\n",
       "              dtype='datetime64[ns]', freq='D')"
      ]
     },
     "execution_count": 100,
     "metadata": {},
     "output_type": "execute_result"
    }
   ],
   "source": [
    "pd.date_range(start = \"2025-02-26\", periods = 5, freq = 'D')"
   ]
  },
  {
   "cell_type": "code",
   "execution_count": 101,
   "id": "b0e628dc-00a4-4141-8025-4bd9587141db",
   "metadata": {},
   "outputs": [
    {
     "data": {
      "text/plain": [
       "DatetimeIndex(['2025-02-26', '2025-02-27', '2025-02-28', '2025-03-03',\n",
       "               '2025-03-04', '2025-03-05', '2025-03-06', '2025-03-07'],\n",
       "              dtype='datetime64[ns]', freq='B')"
      ]
     },
     "execution_count": 101,
     "metadata": {},
     "output_type": "execute_result"
    }
   ],
   "source": [
    "pd.date_range(start = \"2025-02-26\", periods = 8, freq = 'B')"
   ]
  },
  {
   "cell_type": "code",
   "execution_count": 102,
   "id": "b85ffbf3-d1d4-4879-962d-ea17f9a8ab73",
   "metadata": {},
   "outputs": [
    {
     "data": {
      "text/plain": [
       "DatetimeIndex(['2025-03-02', '2025-03-09', '2025-03-16', '2025-03-23',\n",
       "               '2025-03-30'],\n",
       "              dtype='datetime64[ns]', freq='W-SUN')"
      ]
     },
     "execution_count": 102,
     "metadata": {},
     "output_type": "execute_result"
    }
   ],
   "source": [
    "pd.date_range(start = \"2025-02-26\", periods = 5, freq = 'W')"
   ]
  },
  {
   "cell_type": "code",
   "execution_count": 103,
   "id": "92dd049e-8b39-4308-a214-62bfc5757498",
   "metadata": {},
   "outputs": [
    {
     "data": {
      "text/plain": [
       "DatetimeIndex(['2025-03-03', '2025-03-10', '2025-03-17', '2025-03-24',\n",
       "               '2025-03-31'],\n",
       "              dtype='datetime64[ns]', freq='W-MON')"
      ]
     },
     "execution_count": 103,
     "metadata": {},
     "output_type": "execute_result"
    }
   ],
   "source": [
    "pd.date_range(start = \"2025-02-26\", periods = 5, freq = 'W-MON')"
   ]
  },
  {
   "cell_type": "code",
   "execution_count": 104,
   "id": "0b177ed6-35ad-4285-a341-9b1d35ee7398",
   "metadata": {},
   "outputs": [
    {
     "data": {
      "text/plain": [
       "DatetimeIndex(['2025-02-26 20:54:00', '2025-02-26 21:54:00',\n",
       "               '2025-02-26 22:54:00', '2025-02-26 23:54:00',\n",
       "               '2025-02-27 00:54:00'],\n",
       "              dtype='datetime64[ns]', freq='h')"
      ]
     },
     "execution_count": 104,
     "metadata": {},
     "output_type": "execute_result"
    }
   ],
   "source": [
    "pd.date_range(start=\"2025-02-26 20:54\", periods=5, freq=\"h\")"
   ]
  },
  {
   "cell_type": "code",
   "execution_count": 105,
   "id": "79b50e32-754c-42fb-ba87-3a42bb50ebed",
   "metadata": {},
   "outputs": [
    {
     "data": {
      "text/plain": [
       "DatetimeIndex(['2025-02-26 20:54:00', '2025-02-26 21:24:00',\n",
       "               '2025-02-26 21:54:00', '2025-02-26 22:24:00',\n",
       "               '2025-02-26 22:54:00'],\n",
       "              dtype='datetime64[ns]', freq='30min')"
      ]
     },
     "execution_count": 105,
     "metadata": {},
     "output_type": "execute_result"
    }
   ],
   "source": [
    "pd.date_range(start=\"2025-02-26 20:54\", periods=5, freq=\"30min\")"
   ]
  },
  {
   "cell_type": "code",
   "execution_count": 106,
   "id": "75fba217-6a10-485b-90e6-6507379acfcb",
   "metadata": {},
   "outputs": [
    {
     "data": {
      "text/plain": [
       "DatetimeIndex(['2025-02-26 20:54:00', '2025-02-26 20:54:10',\n",
       "               '2025-02-26 20:54:20', '2025-02-26 20:54:30',\n",
       "               '2025-02-26 20:54:40'],\n",
       "              dtype='datetime64[ns]', freq='10s')"
      ]
     },
     "execution_count": 106,
     "metadata": {},
     "output_type": "execute_result"
    }
   ],
   "source": [
    "pd.date_range(start=\"2025-02-26 20:54\", periods=5, freq=\"10s\")"
   ]
  },
  {
   "cell_type": "markdown",
   "id": "8d52946e-4616-4c3d-ba40-8f08a1918891",
   "metadata": {},
   "source": [
    "### Shifting Time Series Data\n",
    "Shifting refers to moving the data in a Series or DataFrame by a specified number of periods. This is useful for creating lagged features, computing differences, and aligning data.\n",
    "\n",
    "__Using .shift()__  \n",
    "The .shift() method moves data forward or backward in time.  \n",
    "_syntax:_  \n",
    "```df.shift(periods=1, freq=None, axis=0)```  \n",
    "+ periods: The number of periods to shift. A positive value shifts data downward (or right for columns), and a negative value shifts upward.\n",
    "+ freq: An optional frequency string. When provided, it shifts the index by a fixed frequency rather than just moving the data.\n",
    "+ axis: 0 for rows (default), 1 for columns."
   ]
  },
  {
   "cell_type": "code",
   "execution_count": 107,
   "id": "79796f97-ad0e-4275-a08c-e67d02e59169",
   "metadata": {},
   "outputs": [],
   "source": [
    "dates = pd.date_range(\"2023-01-01\", periods=5, freq='D')\n",
    "df = pd.DataFrame({'value': [10, 20, 30, 40, 50]}, index=dates)"
   ]
  },
  {
   "cell_type": "code",
   "execution_count": 108,
   "id": "89f31550-40d2-4ace-bcc9-a20c844ec299",
   "metadata": {},
   "outputs": [
    {
     "data": {
      "text/html": [
       "<div>\n",
       "<style scoped>\n",
       "    .dataframe tbody tr th:only-of-type {\n",
       "        vertical-align: middle;\n",
       "    }\n",
       "\n",
       "    .dataframe tbody tr th {\n",
       "        vertical-align: top;\n",
       "    }\n",
       "\n",
       "    .dataframe thead th {\n",
       "        text-align: right;\n",
       "    }\n",
       "</style>\n",
       "<table border=\"1\" class=\"dataframe\">\n",
       "  <thead>\n",
       "    <tr style=\"text-align: right;\">\n",
       "      <th></th>\n",
       "      <th>value</th>\n",
       "    </tr>\n",
       "  </thead>\n",
       "  <tbody>\n",
       "    <tr>\n",
       "      <th>2023-01-01</th>\n",
       "      <td>10</td>\n",
       "    </tr>\n",
       "    <tr>\n",
       "      <th>2023-01-02</th>\n",
       "      <td>20</td>\n",
       "    </tr>\n",
       "    <tr>\n",
       "      <th>2023-01-03</th>\n",
       "      <td>30</td>\n",
       "    </tr>\n",
       "    <tr>\n",
       "      <th>2023-01-04</th>\n",
       "      <td>40</td>\n",
       "    </tr>\n",
       "    <tr>\n",
       "      <th>2023-01-05</th>\n",
       "      <td>50</td>\n",
       "    </tr>\n",
       "  </tbody>\n",
       "</table>\n",
       "</div>"
      ],
      "text/plain": [
       "            value\n",
       "2023-01-01     10\n",
       "2023-01-02     20\n",
       "2023-01-03     30\n",
       "2023-01-04     40\n",
       "2023-01-05     50"
      ]
     },
     "execution_count": 108,
     "metadata": {},
     "output_type": "execute_result"
    }
   ],
   "source": [
    "df"
   ]
  },
  {
   "cell_type": "code",
   "execution_count": 109,
   "id": "7260556e-8b86-4002-a3d5-5af412d2522b",
   "metadata": {},
   "outputs": [
    {
     "data": {
      "text/html": [
       "<div>\n",
       "<style scoped>\n",
       "    .dataframe tbody tr th:only-of-type {\n",
       "        vertical-align: middle;\n",
       "    }\n",
       "\n",
       "    .dataframe tbody tr th {\n",
       "        vertical-align: top;\n",
       "    }\n",
       "\n",
       "    .dataframe thead th {\n",
       "        text-align: right;\n",
       "    }\n",
       "</style>\n",
       "<table border=\"1\" class=\"dataframe\">\n",
       "  <thead>\n",
       "    <tr style=\"text-align: right;\">\n",
       "      <th></th>\n",
       "      <th>value</th>\n",
       "    </tr>\n",
       "  </thead>\n",
       "  <tbody>\n",
       "    <tr>\n",
       "      <th>2023-01-01</th>\n",
       "      <td>NaN</td>\n",
       "    </tr>\n",
       "    <tr>\n",
       "      <th>2023-01-02</th>\n",
       "      <td>NaN</td>\n",
       "    </tr>\n",
       "    <tr>\n",
       "      <th>2023-01-03</th>\n",
       "      <td>10.0</td>\n",
       "    </tr>\n",
       "    <tr>\n",
       "      <th>2023-01-04</th>\n",
       "      <td>20.0</td>\n",
       "    </tr>\n",
       "    <tr>\n",
       "      <th>2023-01-05</th>\n",
       "      <td>30.0</td>\n",
       "    </tr>\n",
       "  </tbody>\n",
       "</table>\n",
       "</div>"
      ],
      "text/plain": [
       "            value\n",
       "2023-01-01    NaN\n",
       "2023-01-02    NaN\n",
       "2023-01-03   10.0\n",
       "2023-01-04   20.0\n",
       "2023-01-05   30.0"
      ]
     },
     "execution_count": 109,
     "metadata": {},
     "output_type": "execute_result"
    }
   ],
   "source": [
    "df.shift(2)"
   ]
  },
  {
   "cell_type": "code",
   "execution_count": 110,
   "id": "06447bbc-b256-4652-a3d5-e4221686e5cd",
   "metadata": {},
   "outputs": [
    {
     "data": {
      "text/html": [
       "<div>\n",
       "<style scoped>\n",
       "    .dataframe tbody tr th:only-of-type {\n",
       "        vertical-align: middle;\n",
       "    }\n",
       "\n",
       "    .dataframe tbody tr th {\n",
       "        vertical-align: top;\n",
       "    }\n",
       "\n",
       "    .dataframe thead th {\n",
       "        text-align: right;\n",
       "    }\n",
       "</style>\n",
       "<table border=\"1\" class=\"dataframe\">\n",
       "  <thead>\n",
       "    <tr style=\"text-align: right;\">\n",
       "      <th></th>\n",
       "      <th>value</th>\n",
       "    </tr>\n",
       "  </thead>\n",
       "  <tbody>\n",
       "    <tr>\n",
       "      <th>2023-01-01</th>\n",
       "      <td>30.0</td>\n",
       "    </tr>\n",
       "    <tr>\n",
       "      <th>2023-01-02</th>\n",
       "      <td>40.0</td>\n",
       "    </tr>\n",
       "    <tr>\n",
       "      <th>2023-01-03</th>\n",
       "      <td>50.0</td>\n",
       "    </tr>\n",
       "    <tr>\n",
       "      <th>2023-01-04</th>\n",
       "      <td>NaN</td>\n",
       "    </tr>\n",
       "    <tr>\n",
       "      <th>2023-01-05</th>\n",
       "      <td>NaN</td>\n",
       "    </tr>\n",
       "  </tbody>\n",
       "</table>\n",
       "</div>"
      ],
      "text/plain": [
       "            value\n",
       "2023-01-01   30.0\n",
       "2023-01-02   40.0\n",
       "2023-01-03   50.0\n",
       "2023-01-04    NaN\n",
       "2023-01-05    NaN"
      ]
     },
     "execution_count": 110,
     "metadata": {},
     "output_type": "execute_result"
    }
   ],
   "source": [
    "df.shift(-2)"
   ]
  },
  {
   "cell_type": "markdown",
   "id": "d998d2e9-274c-492c-b272-3197768c34ba",
   "metadata": {},
   "source": [
    "By default, .shift() moves by index position, not actual time. To shift by time-based intervals, use the freq parameter"
   ]
  },
  {
   "cell_type": "code",
   "execution_count": 111,
   "id": "d0cd6e11-d87b-4b44-a5c7-a8ef2a36c1be",
   "metadata": {},
   "outputs": [
    {
     "data": {
      "text/html": [
       "<div>\n",
       "<style scoped>\n",
       "    .dataframe tbody tr th:only-of-type {\n",
       "        vertical-align: middle;\n",
       "    }\n",
       "\n",
       "    .dataframe tbody tr th {\n",
       "        vertical-align: top;\n",
       "    }\n",
       "\n",
       "    .dataframe thead th {\n",
       "        text-align: right;\n",
       "    }\n",
       "</style>\n",
       "<table border=\"1\" class=\"dataframe\">\n",
       "  <thead>\n",
       "    <tr style=\"text-align: right;\">\n",
       "      <th></th>\n",
       "      <th>value</th>\n",
       "    </tr>\n",
       "  </thead>\n",
       "  <tbody>\n",
       "    <tr>\n",
       "      <th>2023-01-03</th>\n",
       "      <td>10</td>\n",
       "    </tr>\n",
       "    <tr>\n",
       "      <th>2023-01-04</th>\n",
       "      <td>20</td>\n",
       "    </tr>\n",
       "    <tr>\n",
       "      <th>2023-01-05</th>\n",
       "      <td>30</td>\n",
       "    </tr>\n",
       "    <tr>\n",
       "      <th>2023-01-06</th>\n",
       "      <td>40</td>\n",
       "    </tr>\n",
       "    <tr>\n",
       "      <th>2023-01-07</th>\n",
       "      <td>50</td>\n",
       "    </tr>\n",
       "  </tbody>\n",
       "</table>\n",
       "</div>"
      ],
      "text/plain": [
       "            value\n",
       "2023-01-03     10\n",
       "2023-01-04     20\n",
       "2023-01-05     30\n",
       "2023-01-06     40\n",
       "2023-01-07     50"
      ]
     },
     "execution_count": 111,
     "metadata": {},
     "output_type": "execute_result"
    }
   ],
   "source": [
    "df.shift(2, freq = 'D')"
   ]
  },
  {
   "cell_type": "markdown",
   "id": "6a593612-d9af-4f34-8351-836c99812de1",
   "metadata": {},
   "source": [
    "Shifting dates with offsets"
   ]
  },
  {
   "cell_type": "markdown",
   "id": "057e0d74-3542-44a5-9ec6-7a6d75fc79e2",
   "metadata": {},
   "source": [
    "pandas.tseries.offsets  \n",
    "Purpose:  \n",
    "+ Offsets represent fixed periods of time (like days, months, quarters, etc.) that can be added to or subtracted from datetime-like objects. They are designed to be calendar-aware.\n",
    "\n",
    "Key Benefits:\n",
    "\n",
    "+ Calendar-Aware: Automatically adjust for varying month lengths, leap years, weekends (in business days), etc.\n",
    "+ Versatility: You can use them to shift dates by days, weeks, months, quarters, years, and more.\n",
    "+ Integration: They work seamlessly with Pandas’ time series data."
   ]
  },
  {
   "cell_type": "code",
   "execution_count": 112,
   "id": "b4db0a50-1116-4ced-828d-fccfab65074b",
   "metadata": {},
   "outputs": [],
   "source": [
    "from pandas.tseries.offsets import Day, Hour, Minute"
   ]
  },
  {
   "cell_type": "code",
   "execution_count": 113,
   "id": "83f02690-ac5d-4ff8-9966-ebb0cbc3aac6",
   "metadata": {},
   "outputs": [
    {
     "data": {
      "text/plain": [
       "datetime.datetime(2025, 2, 27, 0, 0)"
      ]
     },
     "execution_count": 113,
     "metadata": {},
     "output_type": "execute_result"
    }
   ],
   "source": [
    "now = datetime(2025, 2, 27)\n",
    "now"
   ]
  },
  {
   "cell_type": "code",
   "execution_count": 114,
   "id": "d8bc05d3-3ba0-45ab-8580-b4ef984815d2",
   "metadata": {},
   "outputs": [
    {
     "data": {
      "text/plain": [
       "Timestamp('2025-03-03 00:00:00')"
      ]
     },
     "execution_count": 114,
     "metadata": {},
     "output_type": "execute_result"
    }
   ],
   "source": [
    "now + 4 * Day()"
   ]
  },
  {
   "cell_type": "markdown",
   "id": "00999401-49cf-4b69-af99-2b6964d0ad0c",
   "metadata": {},
   "source": [
    "## Time Zone Handling"
   ]
  },
  {
   "cell_type": "markdown",
   "id": "61885dfc-8912-4a44-a2ad-da9d199e622b",
   "metadata": {},
   "source": [
    "#### Time Zone Basics\n",
    "Naive vs. Aware Datetimes:\n",
    "\n",
    "+ Naive datetimes have no timezone information.\n",
    "+ Aware datetimes include a timezone, making them unambiguous.\n",
    "\n",
    "Why Handle Time Zones?\n",
    "\n",
    "+ Ensure consistency when combining data from multiple regions.\n",
    "+ Correctly align data for time-based operations, forecasting, and analysis.\n",
    "+ Convert data to a preferred local time for reporting or further analysis."
   ]
  },
  {
   "cell_type": "markdown",
   "id": "accefbb3-1525-48e4-8f52-42f2c68b383f",
   "metadata": {},
   "source": [
    "#### Creating and Localizing Time Zone-Aware Datetimes"
   ]
  },
  {
   "cell_type": "markdown",
   "id": "a2c3b65b-7f51-4469-a8c9-a0840808305b",
   "metadata": {},
   "source": [
    "Converting Naive Datetimes to Time Zone-Aware Datetimes with tz_localize()  \n",
    "tz_localize() adds timezone information to a naive datetime (or DatetimeIndex) without changing the actual clock time."
   ]
  },
  {
   "cell_type": "code",
   "execution_count": 115,
   "id": "be42297e-5ec1-45c5-a3c5-d4cf6288fba2",
   "metadata": {},
   "outputs": [],
   "source": [
    "dates = pd.date_range(start = \"2025-02-27 15:17\", periods = 6, freq = 'D')\n",
    "df = pd.DataFrame({'Values': np.random.standard_normal(6)}, index = dates)"
   ]
  },
  {
   "cell_type": "code",
   "execution_count": 116,
   "id": "3cba7788-44c6-4c11-b641-aab99ba0208f",
   "metadata": {},
   "outputs": [
    {
     "data": {
      "text/html": [
       "<div>\n",
       "<style scoped>\n",
       "    .dataframe tbody tr th:only-of-type {\n",
       "        vertical-align: middle;\n",
       "    }\n",
       "\n",
       "    .dataframe tbody tr th {\n",
       "        vertical-align: top;\n",
       "    }\n",
       "\n",
       "    .dataframe thead th {\n",
       "        text-align: right;\n",
       "    }\n",
       "</style>\n",
       "<table border=\"1\" class=\"dataframe\">\n",
       "  <thead>\n",
       "    <tr style=\"text-align: right;\">\n",
       "      <th></th>\n",
       "      <th>Values</th>\n",
       "    </tr>\n",
       "  </thead>\n",
       "  <tbody>\n",
       "    <tr>\n",
       "      <th>2025-02-27 15:17:00</th>\n",
       "      <td>0.763548</td>\n",
       "    </tr>\n",
       "    <tr>\n",
       "      <th>2025-02-28 15:17:00</th>\n",
       "      <td>0.707322</td>\n",
       "    </tr>\n",
       "    <tr>\n",
       "      <th>2025-03-01 15:17:00</th>\n",
       "      <td>-0.474375</td>\n",
       "    </tr>\n",
       "    <tr>\n",
       "      <th>2025-03-02 15:17:00</th>\n",
       "      <td>1.168458</td>\n",
       "    </tr>\n",
       "    <tr>\n",
       "      <th>2025-03-03 15:17:00</th>\n",
       "      <td>0.968590</td>\n",
       "    </tr>\n",
       "    <tr>\n",
       "      <th>2025-03-04 15:17:00</th>\n",
       "      <td>0.363152</td>\n",
       "    </tr>\n",
       "  </tbody>\n",
       "</table>\n",
       "</div>"
      ],
      "text/plain": [
       "                       Values\n",
       "2025-02-27 15:17:00  0.763548\n",
       "2025-02-28 15:17:00  0.707322\n",
       "2025-03-01 15:17:00 -0.474375\n",
       "2025-03-02 15:17:00  1.168458\n",
       "2025-03-03 15:17:00  0.968590\n",
       "2025-03-04 15:17:00  0.363152"
      ]
     },
     "execution_count": 116,
     "metadata": {},
     "output_type": "execute_result"
    }
   ],
   "source": [
    "df"
   ]
  },
  {
   "cell_type": "markdown",
   "id": "fcbb5fbc-324a-4cad-bb4d-caea05ef3fd7",
   "metadata": {},
   "source": [
    "So let's check the tima zone of our time series"
   ]
  },
  {
   "cell_type": "code",
   "execution_count": 117,
   "id": "b8cd69af-7342-4bac-a395-c2d8478e3992",
   "metadata": {},
   "outputs": [
    {
     "name": "stdout",
     "output_type": "stream",
     "text": [
      "None\n"
     ]
    }
   ],
   "source": [
    "print(df.index.tz)"
   ]
  },
  {
   "cell_type": "markdown",
   "id": "25f6915a-ae29-4b5f-9a1c-df5b94c90469",
   "metadata": {},
   "source": [
    "Date ranges can be generated with a time zone set:"
   ]
  },
  {
   "cell_type": "code",
   "execution_count": 118,
   "id": "d29ac116-fa18-4d26-a504-ae15966a2ea0",
   "metadata": {},
   "outputs": [],
   "source": [
    "dates = pd.date_range(\"2025-02-27 2:25\", periods = 6, freq = 'D', tz = 'UTC')\n",
    "df_tz = pd.DataFrame({'Values': np.random.standard_normal(6)}, index = dates)"
   ]
  },
  {
   "cell_type": "code",
   "execution_count": 119,
   "id": "23c17224-28d7-48a0-b686-d6c1fceb48cc",
   "metadata": {},
   "outputs": [
    {
     "data": {
      "text/html": [
       "<div>\n",
       "<style scoped>\n",
       "    .dataframe tbody tr th:only-of-type {\n",
       "        vertical-align: middle;\n",
       "    }\n",
       "\n",
       "    .dataframe tbody tr th {\n",
       "        vertical-align: top;\n",
       "    }\n",
       "\n",
       "    .dataframe thead th {\n",
       "        text-align: right;\n",
       "    }\n",
       "</style>\n",
       "<table border=\"1\" class=\"dataframe\">\n",
       "  <thead>\n",
       "    <tr style=\"text-align: right;\">\n",
       "      <th></th>\n",
       "      <th>Values</th>\n",
       "    </tr>\n",
       "  </thead>\n",
       "  <tbody>\n",
       "    <tr>\n",
       "      <th>2025-02-27 02:25:00+00:00</th>\n",
       "      <td>1.220747</td>\n",
       "    </tr>\n",
       "    <tr>\n",
       "      <th>2025-02-28 02:25:00+00:00</th>\n",
       "      <td>-0.038133</td>\n",
       "    </tr>\n",
       "    <tr>\n",
       "      <th>2025-03-01 02:25:00+00:00</th>\n",
       "      <td>-1.668887</td>\n",
       "    </tr>\n",
       "    <tr>\n",
       "      <th>2025-03-02 02:25:00+00:00</th>\n",
       "      <td>-0.863754</td>\n",
       "    </tr>\n",
       "    <tr>\n",
       "      <th>2025-03-03 02:25:00+00:00</th>\n",
       "      <td>-2.891469</td>\n",
       "    </tr>\n",
       "    <tr>\n",
       "      <th>2025-03-04 02:25:00+00:00</th>\n",
       "      <td>-1.343788</td>\n",
       "    </tr>\n",
       "  </tbody>\n",
       "</table>\n",
       "</div>"
      ],
      "text/plain": [
       "                             Values\n",
       "2025-02-27 02:25:00+00:00  1.220747\n",
       "2025-02-28 02:25:00+00:00 -0.038133\n",
       "2025-03-01 02:25:00+00:00 -1.668887\n",
       "2025-03-02 02:25:00+00:00 -0.863754\n",
       "2025-03-03 02:25:00+00:00 -2.891469\n",
       "2025-03-04 02:25:00+00:00 -1.343788"
      ]
     },
     "execution_count": 119,
     "metadata": {},
     "output_type": "execute_result"
    }
   ],
   "source": [
    "df_tz"
   ]
  },
  {
   "cell_type": "code",
   "execution_count": 120,
   "id": "44235e6a-ead4-47c6-b2b2-8ab7abfb637c",
   "metadata": {},
   "outputs": [
    {
     "data": {
      "text/plain": [
       "datetime.timezone.utc"
      ]
     },
     "execution_count": 120,
     "metadata": {},
     "output_type": "execute_result"
    }
   ],
   "source": [
    "df_tz.index.tz"
   ]
  },
  {
   "cell_type": "markdown",
   "id": "55d63cdb-eb6a-4259-b20b-2ebc365c9229",
   "metadata": {},
   "source": [
    "We can localize the naive datetime to aware datetime using .tz_localize()"
   ]
  },
  {
   "cell_type": "code",
   "execution_count": 121,
   "id": "17f00c14-a5eb-4566-b44b-cb6ccfec6297",
   "metadata": {},
   "outputs": [
    {
     "data": {
      "text/plain": [
       "DatetimeIndex(['2025-02-27 15:17:00', '2025-02-28 15:17:00',\n",
       "               '2025-03-01 15:17:00', '2025-03-02 15:17:00',\n",
       "               '2025-03-03 15:17:00', '2025-03-04 15:17:00'],\n",
       "              dtype='datetime64[ns]', freq='D')"
      ]
     },
     "execution_count": 121,
     "metadata": {},
     "output_type": "execute_result"
    }
   ],
   "source": [
    "df.index"
   ]
  },
  {
   "cell_type": "code",
   "execution_count": 122,
   "id": "f1565ec3-eb4b-4bd9-b2df-582318dd13d1",
   "metadata": {},
   "outputs": [],
   "source": [
    "df = df.tz_localize('Africa/Addis_Ababa')"
   ]
  },
  {
   "cell_type": "code",
   "execution_count": 123,
   "id": "2359a3b1-72a3-42e8-ad3b-c70dab48ffc9",
   "metadata": {},
   "outputs": [
    {
     "data": {
      "text/plain": [
       "DatetimeIndex(['2025-02-27 15:17:00+03:00', '2025-02-28 15:17:00+03:00',\n",
       "               '2025-03-01 15:17:00+03:00', '2025-03-02 15:17:00+03:00',\n",
       "               '2025-03-03 15:17:00+03:00', '2025-03-04 15:17:00+03:00'],\n",
       "              dtype='datetime64[ns, Africa/Addis_Ababa]', freq=None)"
      ]
     },
     "execution_count": 123,
     "metadata": {},
     "output_type": "execute_result"
    }
   ],
   "source": [
    "df.index"
   ]
  },
  {
   "cell_type": "markdown",
   "id": "7576f128-2e37-4843-9630-07d9842cc238",
   "metadata": {},
   "source": [
    "#### Converting Between Time Zones with tz_convert()"
   ]
  },
  {
   "cell_type": "markdown",
   "id": "67f6833d-5115-43a1-8d2f-68a58e49a1e7",
   "metadata": {},
   "source": [
    "Once a time series has been localized to a particular time zone, it can be converted to\n",
    " another time zone with tz_convert"
   ]
  },
  {
   "cell_type": "code",
   "execution_count": 124,
   "id": "ea719050-90d3-4deb-9799-3cfcc9e86fa5",
   "metadata": {},
   "outputs": [
    {
     "data": {
      "text/html": [
       "<div>\n",
       "<style scoped>\n",
       "    .dataframe tbody tr th:only-of-type {\n",
       "        vertical-align: middle;\n",
       "    }\n",
       "\n",
       "    .dataframe tbody tr th {\n",
       "        vertical-align: top;\n",
       "    }\n",
       "\n",
       "    .dataframe thead th {\n",
       "        text-align: right;\n",
       "    }\n",
       "</style>\n",
       "<table border=\"1\" class=\"dataframe\">\n",
       "  <thead>\n",
       "    <tr style=\"text-align: right;\">\n",
       "      <th></th>\n",
       "      <th>Values</th>\n",
       "    </tr>\n",
       "  </thead>\n",
       "  <tbody>\n",
       "    <tr>\n",
       "      <th>2025-02-27 15:17:00+03:00</th>\n",
       "      <td>0.763548</td>\n",
       "    </tr>\n",
       "    <tr>\n",
       "      <th>2025-02-28 15:17:00+03:00</th>\n",
       "      <td>0.707322</td>\n",
       "    </tr>\n",
       "    <tr>\n",
       "      <th>2025-03-01 15:17:00+03:00</th>\n",
       "      <td>-0.474375</td>\n",
       "    </tr>\n",
       "    <tr>\n",
       "      <th>2025-03-02 15:17:00+03:00</th>\n",
       "      <td>1.168458</td>\n",
       "    </tr>\n",
       "    <tr>\n",
       "      <th>2025-03-03 15:17:00+03:00</th>\n",
       "      <td>0.968590</td>\n",
       "    </tr>\n",
       "    <tr>\n",
       "      <th>2025-03-04 15:17:00+03:00</th>\n",
       "      <td>0.363152</td>\n",
       "    </tr>\n",
       "  </tbody>\n",
       "</table>\n",
       "</div>"
      ],
      "text/plain": [
       "                             Values\n",
       "2025-02-27 15:17:00+03:00  0.763548\n",
       "2025-02-28 15:17:00+03:00  0.707322\n",
       "2025-03-01 15:17:00+03:00 -0.474375\n",
       "2025-03-02 15:17:00+03:00  1.168458\n",
       "2025-03-03 15:17:00+03:00  0.968590\n",
       "2025-03-04 15:17:00+03:00  0.363152"
      ]
     },
     "execution_count": 124,
     "metadata": {},
     "output_type": "execute_result"
    }
   ],
   "source": [
    "df"
   ]
  },
  {
   "cell_type": "code",
   "execution_count": 125,
   "id": "a5d87742-8045-43d7-b38f-11c6fb6d69ca",
   "metadata": {},
   "outputs": [],
   "source": [
    "df = df.tz_convert(\"America/New_York\")"
   ]
  },
  {
   "cell_type": "code",
   "execution_count": 126,
   "id": "cc4a814a-ca67-441b-999a-67d63095ac58",
   "metadata": {},
   "outputs": [
    {
     "data": {
      "text/plain": [
       "DatetimeIndex(['2025-02-27 07:17:00-05:00', '2025-02-28 07:17:00-05:00',\n",
       "               '2025-03-01 07:17:00-05:00', '2025-03-02 07:17:00-05:00',\n",
       "               '2025-03-03 07:17:00-05:00', '2025-03-04 07:17:00-05:00'],\n",
       "              dtype='datetime64[ns, America/New_York]', freq=None)"
      ]
     },
     "execution_count": 126,
     "metadata": {},
     "output_type": "execute_result"
    }
   ],
   "source": [
    "df.index"
   ]
  },
  {
   "cell_type": "code",
   "execution_count": 127,
   "id": "0ee05edc-c656-46b8-9732-b9d104f76cd7",
   "metadata": {},
   "outputs": [
    {
     "data": {
      "text/html": [
       "<div>\n",
       "<style scoped>\n",
       "    .dataframe tbody tr th:only-of-type {\n",
       "        vertical-align: middle;\n",
       "    }\n",
       "\n",
       "    .dataframe tbody tr th {\n",
       "        vertical-align: top;\n",
       "    }\n",
       "\n",
       "    .dataframe thead th {\n",
       "        text-align: right;\n",
       "    }\n",
       "</style>\n",
       "<table border=\"1\" class=\"dataframe\">\n",
       "  <thead>\n",
       "    <tr style=\"text-align: right;\">\n",
       "      <th></th>\n",
       "      <th>Values</th>\n",
       "    </tr>\n",
       "  </thead>\n",
       "  <tbody>\n",
       "    <tr>\n",
       "      <th>2025-02-27 07:17:00-05:00</th>\n",
       "      <td>0.763548</td>\n",
       "    </tr>\n",
       "    <tr>\n",
       "      <th>2025-02-28 07:17:00-05:00</th>\n",
       "      <td>0.707322</td>\n",
       "    </tr>\n",
       "    <tr>\n",
       "      <th>2025-03-01 07:17:00-05:00</th>\n",
       "      <td>-0.474375</td>\n",
       "    </tr>\n",
       "    <tr>\n",
       "      <th>2025-03-02 07:17:00-05:00</th>\n",
       "      <td>1.168458</td>\n",
       "    </tr>\n",
       "    <tr>\n",
       "      <th>2025-03-03 07:17:00-05:00</th>\n",
       "      <td>0.968590</td>\n",
       "    </tr>\n",
       "    <tr>\n",
       "      <th>2025-03-04 07:17:00-05:00</th>\n",
       "      <td>0.363152</td>\n",
       "    </tr>\n",
       "  </tbody>\n",
       "</table>\n",
       "</div>"
      ],
      "text/plain": [
       "                             Values\n",
       "2025-02-27 07:17:00-05:00  0.763548\n",
       "2025-02-28 07:17:00-05:00  0.707322\n",
       "2025-03-01 07:17:00-05:00 -0.474375\n",
       "2025-03-02 07:17:00-05:00  1.168458\n",
       "2025-03-03 07:17:00-05:00  0.968590\n",
       "2025-03-04 07:17:00-05:00  0.363152"
      ]
     },
     "execution_count": 127,
     "metadata": {},
     "output_type": "execute_result"
    }
   ],
   "source": [
    "df"
   ]
  },
  {
   "cell_type": "code",
   "execution_count": 128,
   "id": "cd2f0341-19c6-4309-bcb4-6656445cc0a6",
   "metadata": {},
   "outputs": [],
   "source": [
    "from pandas.tseries.offsets import Hour, Minute\n",
    "df.index = df.index + 2 * Hour()"
   ]
  },
  {
   "cell_type": "code",
   "execution_count": 129,
   "id": "e0142812-ec50-4b41-b4a8-17cf6a4bea96",
   "metadata": {},
   "outputs": [
    {
     "data": {
      "text/html": [
       "<div>\n",
       "<style scoped>\n",
       "    .dataframe tbody tr th:only-of-type {\n",
       "        vertical-align: middle;\n",
       "    }\n",
       "\n",
       "    .dataframe tbody tr th {\n",
       "        vertical-align: top;\n",
       "    }\n",
       "\n",
       "    .dataframe thead th {\n",
       "        text-align: right;\n",
       "    }\n",
       "</style>\n",
       "<table border=\"1\" class=\"dataframe\">\n",
       "  <thead>\n",
       "    <tr style=\"text-align: right;\">\n",
       "      <th></th>\n",
       "      <th>Values</th>\n",
       "    </tr>\n",
       "  </thead>\n",
       "  <tbody>\n",
       "    <tr>\n",
       "      <th>2025-02-27 09:17:00-05:00</th>\n",
       "      <td>0.763548</td>\n",
       "    </tr>\n",
       "    <tr>\n",
       "      <th>2025-02-28 09:17:00-05:00</th>\n",
       "      <td>0.707322</td>\n",
       "    </tr>\n",
       "    <tr>\n",
       "      <th>2025-03-01 09:17:00-05:00</th>\n",
       "      <td>-0.474375</td>\n",
       "    </tr>\n",
       "    <tr>\n",
       "      <th>2025-03-02 09:17:00-05:00</th>\n",
       "      <td>1.168458</td>\n",
       "    </tr>\n",
       "    <tr>\n",
       "      <th>2025-03-03 09:17:00-05:00</th>\n",
       "      <td>0.968590</td>\n",
       "    </tr>\n",
       "    <tr>\n",
       "      <th>2025-03-04 09:17:00-05:00</th>\n",
       "      <td>0.363152</td>\n",
       "    </tr>\n",
       "  </tbody>\n",
       "</table>\n",
       "</div>"
      ],
      "text/plain": [
       "                             Values\n",
       "2025-02-27 09:17:00-05:00  0.763548\n",
       "2025-02-28 09:17:00-05:00  0.707322\n",
       "2025-03-01 09:17:00-05:00 -0.474375\n",
       "2025-03-02 09:17:00-05:00  1.168458\n",
       "2025-03-03 09:17:00-05:00  0.968590\n",
       "2025-03-04 09:17:00-05:00  0.363152"
      ]
     },
     "execution_count": 129,
     "metadata": {},
     "output_type": "execute_result"
    }
   ],
   "source": [
    "df"
   ]
  },
  {
   "cell_type": "markdown",
   "id": "e92255f8-7e5c-4488-b4c0-bc33b2d81acd",
   "metadata": {},
   "source": [
    "### Working with Date Ranges and Time Zones"
   ]
  },
  {
   "cell_type": "code",
   "execution_count": 130,
   "id": "7949926e-7aa7-47fb-9616-156a77d05484",
   "metadata": {},
   "outputs": [
    {
     "data": {
      "text/plain": [
       "DatetimeIndex(['2025-02-27 00:00:00+03:00', '2025-02-28 00:00:00+03:00',\n",
       "               '2025-03-01 00:00:00+03:00', '2025-03-02 00:00:00+03:00',\n",
       "               '2025-03-03 00:00:00+03:00', '2025-03-04 00:00:00+03:00',\n",
       "               '2025-03-05 00:00:00+03:00', '2025-03-06 00:00:00+03:00',\n",
       "               '2025-03-07 00:00:00+03:00', '2025-03-08 00:00:00+03:00',\n",
       "               '2025-03-09 00:00:00+03:00', '2025-03-10 00:00:00+03:00'],\n",
       "              dtype='datetime64[ns, Africa/Addis_Ababa]', freq='D')"
      ]
     },
     "execution_count": 130,
     "metadata": {},
     "output_type": "execute_result"
    }
   ],
   "source": [
    "pd.date_range(\"2025-2-27\", periods = 12, freq = 'D', tz = \"Africa/Addis_Ababa\")"
   ]
  },
  {
   "cell_type": "markdown",
   "id": "550d6707-3ba0-49c2-99e6-fab8a70ea956",
   "metadata": {},
   "source": [
    "### Handling Time Zones in DataFrames"
   ]
  },
  {
   "cell_type": "code",
   "execution_count": 131,
   "id": "4e2fc302-fa3b-47c4-a032-17bb0670bed7",
   "metadata": {},
   "outputs": [],
   "source": [
    "data = {\n",
    "    'date_str': [\"2023-08-15 14:30:00\", \"2023-08-16 09:20:15\", \"2023-08-17 12:45:00\"],\n",
    "    'value': [100, 150, 200]\n",
    "}\n",
    "df = pd.DataFrame(data)\n"
   ]
  },
  {
   "cell_type": "code",
   "execution_count": 132,
   "id": "ceb68064-6fa6-4c9b-9e5e-fb0d23bb14ff",
   "metadata": {},
   "outputs": [
    {
     "data": {
      "text/html": [
       "<div>\n",
       "<style scoped>\n",
       "    .dataframe tbody tr th:only-of-type {\n",
       "        vertical-align: middle;\n",
       "    }\n",
       "\n",
       "    .dataframe tbody tr th {\n",
       "        vertical-align: top;\n",
       "    }\n",
       "\n",
       "    .dataframe thead th {\n",
       "        text-align: right;\n",
       "    }\n",
       "</style>\n",
       "<table border=\"1\" class=\"dataframe\">\n",
       "  <thead>\n",
       "    <tr style=\"text-align: right;\">\n",
       "      <th></th>\n",
       "      <th>date_str</th>\n",
       "      <th>value</th>\n",
       "    </tr>\n",
       "  </thead>\n",
       "  <tbody>\n",
       "    <tr>\n",
       "      <th>0</th>\n",
       "      <td>2023-08-15 14:30:00</td>\n",
       "      <td>100</td>\n",
       "    </tr>\n",
       "    <tr>\n",
       "      <th>1</th>\n",
       "      <td>2023-08-16 09:20:15</td>\n",
       "      <td>150</td>\n",
       "    </tr>\n",
       "    <tr>\n",
       "      <th>2</th>\n",
       "      <td>2023-08-17 12:45:00</td>\n",
       "      <td>200</td>\n",
       "    </tr>\n",
       "  </tbody>\n",
       "</table>\n",
       "</div>"
      ],
      "text/plain": [
       "              date_str  value\n",
       "0  2023-08-15 14:30:00    100\n",
       "1  2023-08-16 09:20:15    150\n",
       "2  2023-08-17 12:45:00    200"
      ]
     },
     "execution_count": 132,
     "metadata": {},
     "output_type": "execute_result"
    }
   ],
   "source": [
    "df"
   ]
  },
  {
   "cell_type": "code",
   "execution_count": 133,
   "id": "8967d4e8-96cf-45a8-8915-ea22a4faa320",
   "metadata": {},
   "outputs": [],
   "source": [
    "df['date'] = pd.to_datetime(df['date_str'])"
   ]
  },
  {
   "cell_type": "code",
   "execution_count": 134,
   "id": "9e9ae226-66ba-48e8-8ba5-d36439fc3424",
   "metadata": {},
   "outputs": [
    {
     "data": {
      "text/html": [
       "<div>\n",
       "<style scoped>\n",
       "    .dataframe tbody tr th:only-of-type {\n",
       "        vertical-align: middle;\n",
       "    }\n",
       "\n",
       "    .dataframe tbody tr th {\n",
       "        vertical-align: top;\n",
       "    }\n",
       "\n",
       "    .dataframe thead th {\n",
       "        text-align: right;\n",
       "    }\n",
       "</style>\n",
       "<table border=\"1\" class=\"dataframe\">\n",
       "  <thead>\n",
       "    <tr style=\"text-align: right;\">\n",
       "      <th></th>\n",
       "      <th>date_str</th>\n",
       "      <th>value</th>\n",
       "      <th>date</th>\n",
       "    </tr>\n",
       "  </thead>\n",
       "  <tbody>\n",
       "    <tr>\n",
       "      <th>0</th>\n",
       "      <td>2023-08-15 14:30:00</td>\n",
       "      <td>100</td>\n",
       "      <td>2023-08-15 14:30:00</td>\n",
       "    </tr>\n",
       "    <tr>\n",
       "      <th>1</th>\n",
       "      <td>2023-08-16 09:20:15</td>\n",
       "      <td>150</td>\n",
       "      <td>2023-08-16 09:20:15</td>\n",
       "    </tr>\n",
       "    <tr>\n",
       "      <th>2</th>\n",
       "      <td>2023-08-17 12:45:00</td>\n",
       "      <td>200</td>\n",
       "      <td>2023-08-17 12:45:00</td>\n",
       "    </tr>\n",
       "  </tbody>\n",
       "</table>\n",
       "</div>"
      ],
      "text/plain": [
       "              date_str  value                date\n",
       "0  2023-08-15 14:30:00    100 2023-08-15 14:30:00\n",
       "1  2023-08-16 09:20:15    150 2023-08-16 09:20:15\n",
       "2  2023-08-17 12:45:00    200 2023-08-17 12:45:00"
      ]
     },
     "execution_count": 134,
     "metadata": {},
     "output_type": "execute_result"
    }
   ],
   "source": [
    "df"
   ]
  },
  {
   "cell_type": "code",
   "execution_count": 135,
   "id": "e1878447-2f18-4935-8d9d-7c9c110ba775",
   "metadata": {},
   "outputs": [
    {
     "name": "stdout",
     "output_type": "stream",
     "text": [
      "None\n"
     ]
    }
   ],
   "source": [
    "print(df['date'].dt.tz)"
   ]
  },
  {
   "cell_type": "code",
   "execution_count": 136,
   "id": "5d014ee6-92f8-4b6f-a453-a7208d0cf01c",
   "metadata": {},
   "outputs": [],
   "source": [
    "df['date'] = df['date'].dt.tz_localize(\"Africa/Addis_Ababa\")"
   ]
  },
  {
   "cell_type": "code",
   "execution_count": 137,
   "id": "2dd9aae8-68f9-4b4d-bb05-9b3385e8d43e",
   "metadata": {},
   "outputs": [
    {
     "data": {
      "text/html": [
       "<div>\n",
       "<style scoped>\n",
       "    .dataframe tbody tr th:only-of-type {\n",
       "        vertical-align: middle;\n",
       "    }\n",
       "\n",
       "    .dataframe tbody tr th {\n",
       "        vertical-align: top;\n",
       "    }\n",
       "\n",
       "    .dataframe thead th {\n",
       "        text-align: right;\n",
       "    }\n",
       "</style>\n",
       "<table border=\"1\" class=\"dataframe\">\n",
       "  <thead>\n",
       "    <tr style=\"text-align: right;\">\n",
       "      <th></th>\n",
       "      <th>date_str</th>\n",
       "      <th>value</th>\n",
       "      <th>date</th>\n",
       "    </tr>\n",
       "  </thead>\n",
       "  <tbody>\n",
       "    <tr>\n",
       "      <th>0</th>\n",
       "      <td>2023-08-15 14:30:00</td>\n",
       "      <td>100</td>\n",
       "      <td>2023-08-15 14:30:00+03:00</td>\n",
       "    </tr>\n",
       "    <tr>\n",
       "      <th>1</th>\n",
       "      <td>2023-08-16 09:20:15</td>\n",
       "      <td>150</td>\n",
       "      <td>2023-08-16 09:20:15+03:00</td>\n",
       "    </tr>\n",
       "    <tr>\n",
       "      <th>2</th>\n",
       "      <td>2023-08-17 12:45:00</td>\n",
       "      <td>200</td>\n",
       "      <td>2023-08-17 12:45:00+03:00</td>\n",
       "    </tr>\n",
       "  </tbody>\n",
       "</table>\n",
       "</div>"
      ],
      "text/plain": [
       "              date_str  value                      date\n",
       "0  2023-08-15 14:30:00    100 2023-08-15 14:30:00+03:00\n",
       "1  2023-08-16 09:20:15    150 2023-08-16 09:20:15+03:00\n",
       "2  2023-08-17 12:45:00    200 2023-08-17 12:45:00+03:00"
      ]
     },
     "execution_count": 137,
     "metadata": {},
     "output_type": "execute_result"
    }
   ],
   "source": [
    "df"
   ]
  },
  {
   "cell_type": "markdown",
   "id": "143980e4-469d-4ae7-ae5e-7c9e727500a7",
   "metadata": {},
   "source": [
    "Operations Between Different Time Zones"
   ]
  },
  {
   "cell_type": "markdown",
   "id": "d84553d4-5cc3-4e68-a091-6350aa1265ff",
   "metadata": {},
   "source": [
    "If two time series with different time zones are combined, the result will be UTC.\n",
    " Since the timestamps are stored under the hood in UTC, this is a straightforward\n",
    " operation and requires no conversion"
   ]
  },
  {
   "cell_type": "code",
   "execution_count": 138,
   "id": "5ba49309-5d85-4da7-9801-874af7c852f1",
   "metadata": {},
   "outputs": [],
   "source": [
    "dates = pd.date_range(\"2025-02-27 16:25\", periods=10, freq=\"B\")\n",
    "ts = pd.Series(np.random.standard_normal(len(dates)), index=dates)"
   ]
  },
  {
   "cell_type": "code",
   "execution_count": 139,
   "id": "3f93ec06-4366-4a6b-9804-a1cc33d849cf",
   "metadata": {},
   "outputs": [
    {
     "data": {
      "text/plain": [
       "2025-02-27 16:25:00   -0.024672\n",
       "2025-02-28 16:25:00   -0.803239\n",
       "2025-03-03 16:25:00   -1.953830\n",
       "2025-03-04 16:25:00   -1.180802\n",
       "2025-03-05 16:25:00   -0.351478\n",
       "2025-03-06 16:25:00   -0.377973\n",
       "2025-03-07 16:25:00   -0.151286\n",
       "2025-03-10 16:25:00    0.033714\n",
       "2025-03-11 16:25:00    1.868659\n",
       "2025-03-12 16:25:00   -1.060420\n",
       "Freq: B, dtype: float64"
      ]
     },
     "execution_count": 139,
     "metadata": {},
     "output_type": "execute_result"
    }
   ],
   "source": [
    "ts"
   ]
  },
  {
   "cell_type": "code",
   "execution_count": 140,
   "id": "d72ea077-2aae-4a91-b43e-a3380aa92822",
   "metadata": {},
   "outputs": [],
   "source": [
    "ts1 = ts[:7].tz_localize('Africa/Addis_Ababa')"
   ]
  },
  {
   "cell_type": "code",
   "execution_count": 141,
   "id": "525d6e37-5dd5-4263-b447-b9feff66aede",
   "metadata": {},
   "outputs": [],
   "source": [
    "ts2 = ts[2:].tz_localize('America/New_York')"
   ]
  },
  {
   "cell_type": "code",
   "execution_count": 142,
   "id": "f2cce89d-79cd-400a-a677-d73ec2c82834",
   "metadata": {},
   "outputs": [
    {
     "data": {
      "text/plain": [
       "2025-02-27 16:25:00+03:00   -0.024672\n",
       "2025-02-28 16:25:00+03:00   -0.803239\n",
       "2025-03-03 16:25:00+03:00   -1.953830\n",
       "2025-03-04 16:25:00+03:00   -1.180802\n",
       "2025-03-05 16:25:00+03:00   -0.351478\n",
       "2025-03-06 16:25:00+03:00   -0.377973\n",
       "2025-03-07 16:25:00+03:00   -0.151286\n",
       "dtype: float64"
      ]
     },
     "execution_count": 142,
     "metadata": {},
     "output_type": "execute_result"
    }
   ],
   "source": [
    "ts1"
   ]
  },
  {
   "cell_type": "code",
   "execution_count": 143,
   "id": "0ec4675c-369e-44b3-ab42-c80e2d3417d7",
   "metadata": {},
   "outputs": [
    {
     "data": {
      "text/plain": [
       "2025-03-03 16:25:00-05:00   -1.953830\n",
       "2025-03-04 16:25:00-05:00   -1.180802\n",
       "2025-03-05 16:25:00-05:00   -0.351478\n",
       "2025-03-06 16:25:00-05:00   -0.377973\n",
       "2025-03-07 16:25:00-05:00   -0.151286\n",
       "2025-03-10 16:25:00-04:00    0.033714\n",
       "2025-03-11 16:25:00-04:00    1.868659\n",
       "2025-03-12 16:25:00-04:00   -1.060420\n",
       "dtype: float64"
      ]
     },
     "execution_count": 143,
     "metadata": {},
     "output_type": "execute_result"
    }
   ],
   "source": [
    "ts2"
   ]
  },
  {
   "cell_type": "code",
   "execution_count": 144,
   "id": "402d3241-be2c-45c0-a8f5-e1297f045590",
   "metadata": {},
   "outputs": [
    {
     "data": {
      "text/plain": [
       "2025-02-27 13:25:00+00:00   NaN\n",
       "2025-02-28 13:25:00+00:00   NaN\n",
       "2025-03-03 13:25:00+00:00   NaN\n",
       "2025-03-03 21:25:00+00:00   NaN\n",
       "2025-03-04 13:25:00+00:00   NaN\n",
       "2025-03-04 21:25:00+00:00   NaN\n",
       "2025-03-05 13:25:00+00:00   NaN\n",
       "2025-03-05 21:25:00+00:00   NaN\n",
       "2025-03-06 13:25:00+00:00   NaN\n",
       "2025-03-06 21:25:00+00:00   NaN\n",
       "2025-03-07 13:25:00+00:00   NaN\n",
       "2025-03-07 21:25:00+00:00   NaN\n",
       "2025-03-10 20:25:00+00:00   NaN\n",
       "2025-03-11 20:25:00+00:00   NaN\n",
       "2025-03-12 20:25:00+00:00   NaN\n",
       "dtype: float64"
      ]
     },
     "execution_count": 144,
     "metadata": {},
     "output_type": "execute_result"
    }
   ],
   "source": [
    "ts1 + ts2"
   ]
  },
  {
   "cell_type": "markdown",
   "id": "9e357670-e973-4b6d-8d7a-aac36a360faf",
   "metadata": {},
   "source": [
    "## Periods and Period Arithmetic"
   ]
  },
  {
   "cell_type": "markdown",
   "id": "e387b376-d689-4ef0-82ce-8cc73f464eb5",
   "metadata": {},
   "source": [
    "Definition:\n",
    "+ A Period represents a span of time (e.g., a month, a quarter, or a year) and is defined by a specific frequency. For example, 2025-02 as a monthly period represents all of February 2025.\n",
    "\n",
    "Difference from Timestamp:\n",
    "\n",
    "+ A Timestamp represents a precise moment in time (like \"2025-02-28 14:30:00\").\n",
    "+ A Period represents an interval, such as \"February 2025\" or \"Q3 2025\"."
   ]
  },
  {
   "cell_type": "code",
   "execution_count": 145,
   "id": "2f78c76d-67f1-4343-9968-6fb0ce47d62b",
   "metadata": {},
   "outputs": [],
   "source": [
    "p = pd.Period(\"2025\")"
   ]
  },
  {
   "cell_type": "code",
   "execution_count": 146,
   "id": "02d5eac7-6828-4ac9-a8f7-f72bff36ed8e",
   "metadata": {},
   "outputs": [
    {
     "data": {
      "text/plain": [
       "Period('2025', 'Y-DEC')"
      ]
     },
     "execution_count": 146,
     "metadata": {},
     "output_type": "execute_result"
    }
   ],
   "source": [
    "p"
   ]
  },
  {
   "cell_type": "code",
   "execution_count": 147,
   "id": "a953a297-bc89-4501-b0e4-0bc70dbc21d5",
   "metadata": {},
   "outputs": [],
   "source": [
    "p1 = pd.Period('2025-02', freq = \"M\")"
   ]
  },
  {
   "cell_type": "code",
   "execution_count": 148,
   "id": "bb556caf-48a1-4639-98a4-9526c13b7c6d",
   "metadata": {},
   "outputs": [
    {
     "data": {
      "text/plain": [
       "Period('2025-02', 'M')"
      ]
     },
     "execution_count": 148,
     "metadata": {},
     "output_type": "execute_result"
    }
   ],
   "source": [
    "p1"
   ]
  },
  {
   "cell_type": "markdown",
   "id": "fe0dd754-bbcf-4fea-9b72-72b546352f4f",
   "metadata": {},
   "source": [
    "we can do some arthimetic"
   ]
  },
  {
   "cell_type": "code",
   "execution_count": 149,
   "id": "842409f4-5b7b-47b3-b3cb-a10414f5348a",
   "metadata": {},
   "outputs": [
    {
     "data": {
      "text/plain": [
       "Period('2025', 'Y-DEC')"
      ]
     },
     "execution_count": 149,
     "metadata": {},
     "output_type": "execute_result"
    }
   ],
   "source": [
    "p"
   ]
  },
  {
   "cell_type": "code",
   "execution_count": 150,
   "id": "04c73ed9-b867-4929-b07d-6811b05b350d",
   "metadata": {},
   "outputs": [
    {
     "data": {
      "text/plain": [
       "Period('2029', 'Y-DEC')"
      ]
     },
     "execution_count": 150,
     "metadata": {},
     "output_type": "execute_result"
    }
   ],
   "source": [
    "p + 4"
   ]
  },
  {
   "cell_type": "code",
   "execution_count": 151,
   "id": "d15129e7-3cef-4db1-9218-a62da131a7a6",
   "metadata": {},
   "outputs": [
    {
     "data": {
      "text/plain": [
       "Period('2023', 'Y-DEC')"
      ]
     },
     "execution_count": 151,
     "metadata": {},
     "output_type": "execute_result"
    }
   ],
   "source": [
    "p - 2"
   ]
  },
  {
   "cell_type": "code",
   "execution_count": 152,
   "id": "b20580f6-3300-47f6-92ac-ec758a72c979",
   "metadata": {},
   "outputs": [
    {
     "data": {
      "text/plain": [
       "Period('2025-02', 'M')"
      ]
     },
     "execution_count": 152,
     "metadata": {},
     "output_type": "execute_result"
    }
   ],
   "source": [
    "p1"
   ]
  },
  {
   "cell_type": "code",
   "execution_count": 153,
   "id": "5854adab-21c1-4760-85e5-309375db1a09",
   "metadata": {},
   "outputs": [
    {
     "data": {
      "text/plain": [
       "Period('2025-04', 'M')"
      ]
     },
     "execution_count": 153,
     "metadata": {},
     "output_type": "execute_result"
    }
   ],
   "source": [
    "p1 + 2"
   ]
  },
  {
   "cell_type": "code",
   "execution_count": 154,
   "id": "6128c2ca-075c-4be6-a771-4f30ac4f3e2d",
   "metadata": {},
   "outputs": [
    {
     "data": {
      "text/plain": [
       "Period('2024-01', 'M')"
      ]
     },
     "execution_count": 154,
     "metadata": {},
     "output_type": "execute_result"
    }
   ],
   "source": [
    "p1 - 13"
   ]
  },
  {
   "cell_type": "markdown",
   "id": "522ea85a-1e86-4600-8a53-b6d993561f14",
   "metadata": {},
   "source": [
    "If two periods have the same frequency, their difference is the number of units\n",
    " between them as a date offset"
   ]
  },
  {
   "cell_type": "code",
   "execution_count": 155,
   "id": "18193b4f-613c-4f87-9db4-fc4adeb954b5",
   "metadata": {},
   "outputs": [
    {
     "data": {
      "text/plain": [
       "<3 * YearEnds: month=12>"
      ]
     },
     "execution_count": 155,
     "metadata": {},
     "output_type": "execute_result"
    }
   ],
   "source": [
    "pd.Period(\"2028\") - p"
   ]
  },
  {
   "cell_type": "markdown",
   "id": "02053100-9425-4355-ac8f-915afe8e4b48",
   "metadata": {},
   "source": [
    " Regular ranges of periods can be constructed with the period_range function:"
   ]
  },
  {
   "cell_type": "code",
   "execution_count": 156,
   "id": "8efdfe2f-3b38-4187-adef-f27328bdf363",
   "metadata": {},
   "outputs": [],
   "source": [
    "ps = pd.period_range(\"2025-02\", \"2025-06-01\", freq = 'M')"
   ]
  },
  {
   "cell_type": "code",
   "execution_count": 157,
   "id": "c3c10107-253e-464f-b6ff-d4946881f729",
   "metadata": {},
   "outputs": [
    {
     "data": {
      "text/plain": [
       "PeriodIndex(['2025-02', '2025-03', '2025-04', '2025-05', '2025-06'], dtype='period[M]')"
      ]
     },
     "execution_count": 157,
     "metadata": {},
     "output_type": "execute_result"
    }
   ],
   "source": [
    "ps"
   ]
  },
  {
   "cell_type": "markdown",
   "id": "9cd87281-88de-475a-bd4e-f02dd8424b7e",
   "metadata": {},
   "source": [
    "We can create a Series or DataFrame with periods as an index"
   ]
  },
  {
   "cell_type": "code",
   "execution_count": 158,
   "id": "e14fab3d-5d75-4053-8354-69a3557a3bf4",
   "metadata": {},
   "outputs": [
    {
     "data": {
      "text/plain": [
       "2025-02   -0.664038\n",
       "2025-03    0.847894\n",
       "2025-04    0.723724\n",
       "2025-05   -1.178159\n",
       "2025-06    0.367980\n",
       "Freq: M, dtype: float64"
      ]
     },
     "execution_count": 158,
     "metadata": {},
     "output_type": "execute_result"
    }
   ],
   "source": [
    "pd.Series(np.random.standard_normal(5), index = ps)"
   ]
  },
  {
   "cell_type": "markdown",
   "id": "e6186a72-07c2-453c-8314-7ba594f29b56",
   "metadata": {},
   "source": [
    "### Period Frequency Conversion"
   ]
  },
  {
   "cell_type": "markdown",
   "id": "b04794e1-9495-4e12-88bf-7dea07c61ed0",
   "metadata": {},
   "source": [
    "Using .asfreq()  \n",
    "The .asfreq() method converts a Period or PeriodIndex to another frequency. When converting, you might need to decide how to handle the conversion (e.g., taking the start, end, or applying an aggregation)"
   ]
  },
  {
   "cell_type": "code",
   "execution_count": 159,
   "id": "dfc978dd-18b2-471d-a3f3-50dbab3da34f",
   "metadata": {},
   "outputs": [],
   "source": [
    "p = pd.Period(\"2025\", freq = \"Y-DEC\")"
   ]
  },
  {
   "cell_type": "code",
   "execution_count": 160,
   "id": "91512632-2241-4c4b-a283-68648d1fd65a",
   "metadata": {},
   "outputs": [
    {
     "data": {
      "text/plain": [
       "Period('2025-01', 'M')"
      ]
     },
     "execution_count": 160,
     "metadata": {},
     "output_type": "execute_result"
    }
   ],
   "source": [
    "p.asfreq(\"M\", how = \"start\")"
   ]
  },
  {
   "cell_type": "code",
   "execution_count": 161,
   "id": "a81c62a9-2985-40c6-85ad-71c1a4f6d8ed",
   "metadata": {},
   "outputs": [
    {
     "data": {
      "text/plain": [
       "Period('2025-12', 'M')"
      ]
     },
     "execution_count": 161,
     "metadata": {},
     "output_type": "execute_result"
    }
   ],
   "source": [
    "p.asfreq(\"M\", how = \"end\")"
   ]
  },
  {
   "cell_type": "code",
   "execution_count": 162,
   "id": "8b534541-4ffb-456d-b6fe-bb77c46b5777",
   "metadata": {},
   "outputs": [],
   "source": [
    "p1 = pd.Period(\"2025\", freq = \"Y-JUN\")"
   ]
  },
  {
   "cell_type": "code",
   "execution_count": 163,
   "id": "a385f621-9064-4902-8a24-1f0024e3301a",
   "metadata": {},
   "outputs": [
    {
     "data": {
      "text/plain": [
       "Period('2024-07', 'M')"
      ]
     },
     "execution_count": 163,
     "metadata": {},
     "output_type": "execute_result"
    }
   ],
   "source": [
    "p1.asfreq(\"M\", how = \"s\")"
   ]
  },
  {
   "cell_type": "markdown",
   "id": "4fa00df4-081e-4c2a-a803-ac253459df89",
   "metadata": {},
   "source": [
    "###  Quarterly Period Frequencies"
   ]
  },
  {
   "cell_type": "markdown",
   "id": "b85c229c-c195-4004-b526-3e2ec6a56427",
   "metadata": {},
   "source": [
    "Quarterly data is standard in accounting, finance, and other fields. Much quarterly\n",
    " data is reported relative to a fiscal year end, typically the last calendar or business day\n",
    " of one of the 12 months of the year. Thus, the period 2012Q4 has a different meaning\n",
    " depending on fiscal year end. pandas supports all 12 possible quarterly frequencies as\n",
    " Q-JAN through Q-DEC\n",
    "\n",
    " Quarterly Periods:\n",
    "+ A quarterly period represents one quarter of a year. In Pandas, this is specified by the frequency code:\n",
    "\n",
    "    + 'Q' or 'Q-DEC': Quarter ending in December (default for many datasets).\n",
    "    + 'Q-JAN', 'Q-FEB', etc.: Quarter ending in a different month if your fiscal year starts at a month other than January.\n",
    "    + 'QS' or 'QS-DEC': Quarter start, which gives you the starting month of the quarter.\n",
    "    + 'QS-JAN', 'QS-FEB', etc.: Quarter start with a different starting month.\n",
    "\n",
    "+ Example Interpretations:\n",
    "\n",
    "    + For 'Q-DEC', the quarter \"2023Q1\" covers January to March, \"2023Q2\" covers April to June, \"2023Q3\" covers July to September, and \"2023Q4\" covers October to December.\n",
    "    + For 'QS-DEC', \"2023Q1\" represents the period starting in January 2023.\n"
   ]
  },
  {
   "cell_type": "code",
   "execution_count": 164,
   "id": "cf0cd5b7-c51d-499f-906a-8143ae0b5b5b",
   "metadata": {},
   "outputs": [],
   "source": [
    "# Creating a Single Quarterly Period\n",
    "p = pd.Period(\"2025Q1\", freq = \"Q-DEC\")"
   ]
  },
  {
   "cell_type": "code",
   "execution_count": 165,
   "id": "7764dbca-4ed9-496d-8a2f-b749ced6f7d0",
   "metadata": {},
   "outputs": [
    {
     "data": {
      "text/plain": [
       "Period('2025Q1', 'Q-DEC')"
      ]
     },
     "execution_count": 165,
     "metadata": {},
     "output_type": "execute_result"
    }
   ],
   "source": [
    "p"
   ]
  },
  {
   "cell_type": "code",
   "execution_count": 166,
   "id": "9903b0a2-2753-4992-bff5-8329ac829764",
   "metadata": {},
   "outputs": [
    {
     "data": {
      "text/plain": [
       "Period('2025-01-01', 'D')"
      ]
     },
     "execution_count": 166,
     "metadata": {},
     "output_type": "execute_result"
    }
   ],
   "source": [
    "p.asfreq(\"D\", how = \"start\")"
   ]
  },
  {
   "cell_type": "code",
   "execution_count": 167,
   "id": "e7bf6100-e222-474e-a399-92cb1ffb02dc",
   "metadata": {},
   "outputs": [
    {
     "data": {
      "text/plain": [
       "Period('2025-03-31', 'D')"
      ]
     },
     "execution_count": 167,
     "metadata": {},
     "output_type": "execute_result"
    }
   ],
   "source": [
    "p.asfreq(\"D\", how = \"end\")"
   ]
  },
  {
   "cell_type": "code",
   "execution_count": 168,
   "id": "373b5073-e57c-439e-b842-49d803d97a19",
   "metadata": {},
   "outputs": [],
   "source": [
    "ps = pd.period_range(\"2025Q1\", periods = 6, freq = \"Q\")"
   ]
  },
  {
   "cell_type": "code",
   "execution_count": 169,
   "id": "ac249700-f99b-4959-bd2e-70a9eb7dba02",
   "metadata": {},
   "outputs": [
    {
     "data": {
      "text/plain": [
       "PeriodIndex(['2025Q1', '2025Q2', '2025Q3', '2025Q4', '2026Q1', '2026Q2'], dtype='period[Q-DEC]')"
      ]
     },
     "execution_count": 169,
     "metadata": {},
     "output_type": "execute_result"
    }
   ],
   "source": [
    "ps"
   ]
  },
  {
   "cell_type": "markdown",
   "id": "afa2b203-47a5-4e3c-beda-32c8dbc24d82",
   "metadata": {},
   "source": [
    "###  Converting Timestamps to Periods (and Back)"
   ]
  },
  {
   "cell_type": "markdown",
   "id": "1dbc741e-aa8e-4d0d-9a86-f317d721ec4f",
   "metadata": {},
   "source": [
    "Converting between Timestamps and Periods in Pandas is a common operation when working with time series data. A Timestamp represents a specific point in time (e.g., \"2023-08-15 14:30:00\"), whereas a Period represents a span of time (e.g., \"August 2023\" or \"Q3 2023\"). Sometimes you might want to aggregate data by periods or change the granularity, and then convert back to timestamps for plotting or further analysis."
   ]
  },
  {
   "cell_type": "markdown",
   "id": "64536659-89a0-4ea0-90fc-e648f5a2c697",
   "metadata": {},
   "source": [
    "__Converting Timestamps to Periods__  \n",
    "You can convert a Timestamp (or a Series of Timestamps) to a Period using the .to_period() method. You need to specify the frequency for the period (e.g., 'M' for monthly, 'Q' for quarterly, etc.)."
   ]
  },
  {
   "cell_type": "code",
   "execution_count": 170,
   "id": "e89645f6-05ea-4a18-befb-6752d5522293",
   "metadata": {},
   "outputs": [],
   "source": [
    "ts = pd.Timestamp(\"2025-02-28 20:12:00\")"
   ]
  },
  {
   "cell_type": "code",
   "execution_count": 171,
   "id": "72c37290-e393-474d-9fb5-7cb8e5ca303d",
   "metadata": {},
   "outputs": [
    {
     "data": {
      "text/plain": [
       "Period('2025-02-28', 'D')"
      ]
     },
     "execution_count": 171,
     "metadata": {},
     "output_type": "execute_result"
    }
   ],
   "source": [
    "ts.to_period(freq = \"D\")"
   ]
  },
  {
   "cell_type": "code",
   "execution_count": 172,
   "id": "b07b73d1-6d4b-463d-9879-b1ef7aeefd0f",
   "metadata": {},
   "outputs": [
    {
     "data": {
      "text/plain": [
       "Period('2025-02', 'M')"
      ]
     },
     "execution_count": 172,
     "metadata": {},
     "output_type": "execute_result"
    }
   ],
   "source": [
    "ts.to_period(freq = \"M\")"
   ]
  },
  {
   "cell_type": "code",
   "execution_count": 173,
   "id": "5372a884-2336-4f3a-98a4-ffb784620ec3",
   "metadata": {},
   "outputs": [
    {
     "data": {
      "text/plain": [
       "Period('2025Q1', 'Q-DEC')"
      ]
     },
     "execution_count": 173,
     "metadata": {},
     "output_type": "execute_result"
    }
   ],
   "source": [
    "ts.to_period(freq = \"Q\")"
   ]
  },
  {
   "cell_type": "code",
   "execution_count": 174,
   "id": "cf227659-8fa5-4e13-830e-7f73ddb3c149",
   "metadata": {},
   "outputs": [],
   "source": [
    "# Series of Timestamps to Periods\n",
    "ts = pd.Series(pd.to_datetime([\"2023-08-15 14:30:00\", \"2023-09-10 09:15:00\", \"2023-10-05 16:45:00\"]))"
   ]
  },
  {
   "cell_type": "code",
   "execution_count": 175,
   "id": "3cd00b24-6c54-4412-bd72-d681d10d3b98",
   "metadata": {},
   "outputs": [
    {
     "data": {
      "text/plain": [
       "0   2023-08-15 14:30:00\n",
       "1   2023-09-10 09:15:00\n",
       "2   2023-10-05 16:45:00\n",
       "dtype: datetime64[ns]"
      ]
     },
     "execution_count": 175,
     "metadata": {},
     "output_type": "execute_result"
    }
   ],
   "source": [
    "ts"
   ]
  },
  {
   "cell_type": "code",
   "execution_count": 176,
   "id": "84b87436-7369-4bbf-8a9f-9a0bfc820c62",
   "metadata": {},
   "outputs": [],
   "source": [
    "pts = ts.dt.to_period(freq = 'M')"
   ]
  },
  {
   "cell_type": "code",
   "execution_count": 177,
   "id": "bde02bfd-bf41-484a-9482-65f3713017dd",
   "metadata": {},
   "outputs": [
    {
     "data": {
      "text/plain": [
       "0    2023-08\n",
       "1    2023-09\n",
       "2    2023-10\n",
       "dtype: period[M]"
      ]
     },
     "execution_count": 177,
     "metadata": {},
     "output_type": "execute_result"
    }
   ],
   "source": [
    "pts"
   ]
  },
  {
   "cell_type": "markdown",
   "id": "f5dcf256-6373-49f9-83f4-077c502cd5cb",
   "metadata": {},
   "source": [
    "__Converting Periods Back to Timestamps__  \n",
    "Once you have a Period, you may want to convert it back to a Timestamp. Use the .to_timestamp() method, which can return a Timestamp representing either the start or the end of the period."
   ]
  },
  {
   "cell_type": "code",
   "execution_count": 178,
   "id": "80ff310f-fc59-4f89-9cd4-f5c4ae2e228f",
   "metadata": {},
   "outputs": [
    {
     "data": {
      "text/plain": [
       "0   2023-08-31 23:59:59.999999999\n",
       "1   2023-09-30 23:59:59.999999999\n",
       "2   2023-10-31 23:59:59.999999999\n",
       "dtype: datetime64[ns]"
      ]
     },
     "execution_count": 178,
     "metadata": {},
     "output_type": "execute_result"
    }
   ],
   "source": [
    "pts.dt.to_timestamp(how = 'end')"
   ]
  },
  {
   "cell_type": "markdown",
   "id": "31ee250e-4b04-46a2-9dde-02613e1b1372",
   "metadata": {},
   "source": [
    "### Exercises"
   ]
  },
  {
   "cell_type": "markdown",
   "id": "367bf6e5-5192-4938-ba52-ddd652d59918",
   "metadata": {},
   "source": [
    "Exercise 1: Creating and Manipulating Period Objects  \n",
    "Task:  \n",
    "\n",
    "1. Create a monthly Period for \"2023-08\".\n",
    "2. Add 1 month and subtract 2 months from it.\n",
    "3. Compute the difference (in number of periods) between the resulting Periods."
   ]
  },
  {
   "cell_type": "code",
   "execution_count": 179,
   "id": "4f5aa5f0-fb59-4796-94f4-540cf5c68274",
   "metadata": {},
   "outputs": [],
   "source": [
    "mp = pd.Period(\"2023-08\", \"M\")"
   ]
  },
  {
   "cell_type": "code",
   "execution_count": 180,
   "id": "489b068b-e1e5-42dd-875a-1143ce5136ef",
   "metadata": {},
   "outputs": [
    {
     "data": {
      "text/plain": [
       "Period('2023-08', 'M')"
      ]
     },
     "execution_count": 180,
     "metadata": {},
     "output_type": "execute_result"
    }
   ],
   "source": [
    "mp"
   ]
  },
  {
   "cell_type": "code",
   "execution_count": 181,
   "id": "879e9df2-5447-430f-88c9-d159818b7a51",
   "metadata": {},
   "outputs": [],
   "source": [
    "mpn = mp + 1"
   ]
  },
  {
   "cell_type": "code",
   "execution_count": 182,
   "id": "89ea7145-deae-46c3-9352-02791ccd1f30",
   "metadata": {},
   "outputs": [
    {
     "data": {
      "text/plain": [
       "Period('2023-09', 'M')"
      ]
     },
     "execution_count": 182,
     "metadata": {},
     "output_type": "execute_result"
    }
   ],
   "source": [
    "mpn"
   ]
  },
  {
   "cell_type": "code",
   "execution_count": 183,
   "id": "ceeb77b7-4e67-4320-a34a-cf349cf858bb",
   "metadata": {},
   "outputs": [],
   "source": [
    "mpp = mp - 2"
   ]
  },
  {
   "cell_type": "code",
   "execution_count": 184,
   "id": "d00266e3-e844-4bf8-86b8-ded83b16ea33",
   "metadata": {},
   "outputs": [
    {
     "data": {
      "text/plain": [
       "Period('2023-06', 'M')"
      ]
     },
     "execution_count": 184,
     "metadata": {},
     "output_type": "execute_result"
    }
   ],
   "source": [
    "mpp"
   ]
  },
  {
   "cell_type": "code",
   "execution_count": 185,
   "id": "e00b3012-1922-40aa-96c2-a5dbb9811541",
   "metadata": {},
   "outputs": [
    {
     "data": {
      "text/plain": [
       "<3 * MonthEnds>"
      ]
     },
     "execution_count": 185,
     "metadata": {},
     "output_type": "execute_result"
    }
   ],
   "source": [
    "mpn - mpp"
   ]
  },
  {
   "cell_type": "markdown",
   "id": "a117480f-9ca6-4fbf-ac82-9e3912d37cd7",
   "metadata": {},
   "source": [
    "Exercise 2: Creating a PeriodIndex from Arrays Using the Flights Dataset  \n",
    "Task:  \n",
    "Using the built-in Flights dataset from Seaborn, create a PeriodIndex from the \"year\" and \"month\" columns."
   ]
  },
  {
   "cell_type": "code",
   "execution_count": 186,
   "id": "5425ce93-7e82-4bda-99fa-c752bb9b16eb",
   "metadata": {},
   "outputs": [
    {
     "name": "stdout",
     "output_type": "stream",
     "text": [
      "Sample PeriodIndex:\n",
      "PeriodIndex(['1949-01', '1949-02', '1949-03', '1949-04', '1949-05'], dtype='period[M]', name='period_str')\n",
      "\n",
      "Flights DataFrame with Period column:\n",
      "   year month   Period\n",
      "0  1949   Jan  1949-01\n",
      "1  1949   Feb  1949-02\n",
      "2  1949   Mar  1949-03\n",
      "3  1949   Apr  1949-04\n",
      "4  1949   May  1949-05\n"
     ]
    }
   ],
   "source": [
    "# Load the Flights dataset\n",
    "flights = sns.load_dataset('flights')\n",
    "\n",
    "# Convert the 'month' column (which contains full month names) to month numbers\n",
    "flights['month_num'] = pd.to_datetime(flights['month'], format=\"%b\").dt.month\n",
    "\n",
    "# Combine 'year' and 'month_num' into a period string like \"1958-01\"\n",
    "flights['period_str'] = flights['year'].astype(str) + '-' + flights['month_num'].astype(str).str.zfill(2)\n",
    "\n",
    "# Create a PeriodIndex from the period_str column with monthly frequency\n",
    "period_index = pd.PeriodIndex(flights['period_str'], freq='M')\n",
    "flights['Period'] = period_index\n",
    "\n",
    "print(\"Sample PeriodIndex:\")\n",
    "print(period_index[:5])\n",
    "print(\"\\nFlights DataFrame with Period column:\")\n",
    "print(flights[['year', 'month', 'Period']].head())"
   ]
  },
  {
   "cell_type": "code",
   "execution_count": 187,
   "id": "1c818b79-1e00-4066-8fc4-52000625ab1e",
   "metadata": {},
   "outputs": [
    {
     "name": "stdout",
     "output_type": "stream",
     "text": [
      "\n",
      "Flights DataFrame with PeriodAlt column:\n",
      "   year month       date PeriodAlt\n",
      "0  1949   Jan 1949-01-01   1949-01\n",
      "1  1949   Feb 1949-02-01   1949-02\n",
      "2  1949   Mar 1949-03-01   1949-03\n",
      "3  1949   Apr 1949-04-01   1949-04\n",
      "4  1949   May 1949-05-01   1949-05\n"
     ]
    }
   ],
   "source": [
    "# Create a datetime column from 'year' and 'month'\n",
    "flights['date'] = pd.to_datetime(flights['year'].astype(str) + '-' + flights['month'].astype(str), format=\"%Y-%b\")\n",
    "\n",
    "# Convert the datetime column to a PeriodIndex with monthly frequency\n",
    "flights['PeriodAlt'] = flights['date'].dt.to_period('M')\n",
    "\n",
    "print(\"\\nFlights DataFrame with PeriodAlt column:\")\n",
    "print(flights[['year', 'month', 'date', 'PeriodAlt']].head())"
   ]
  },
  {
   "cell_type": "markdown",
   "id": "53b8b98a-2e74-4656-b0cf-43817fb322cb",
   "metadata": {},
   "source": [
    "Exercise 3: Converting Timestamps to Periods and Back  \n",
    "Task:\n",
    "\n",
    "1. Create a Pandas Series of Timestamps for three dates.\n",
    "2. Convert the Series to a PeriodIndex with quarterly frequency.\n",
    "3. Convert the PeriodIndex back to Timestamps representing the start of each quarter.\n"
   ]
  },
  {
   "cell_type": "code",
   "execution_count": 188,
   "id": "743b5c3f-cb6f-421f-8710-9b2a25b7a926",
   "metadata": {},
   "outputs": [
    {
     "name": "stdout",
     "output_type": "stream",
     "text": [
      "Original Timestamps:\n",
      "0   2023-04-15 10:00:00\n",
      "1   2023-07-20 12:30:00\n",
      "2   2023-10-05 16:45:00\n",
      "dtype: datetime64[ns]\n",
      "\n",
      "Converted to Quarterly Periods:\n",
      "0    2023Q2\n",
      "1    2023Q3\n",
      "2    2023Q4\n",
      "dtype: period[Q-DEC]\n",
      "\n",
      "Timestamps at Start of Each Quarter:\n",
      "0   2023-04-01\n",
      "1   2023-07-01\n",
      "2   2023-10-01\n",
      "dtype: datetime64[ns]\n"
     ]
    }
   ],
   "source": [
    "# Create a Series of Timestamps\n",
    "ts_series = pd.Series(pd.to_datetime([\"2023-04-15 10:00:00\", \"2023-07-20 12:30:00\", \"2023-10-05 16:45:00\"]))\n",
    "print(\"Original Timestamps:\")\n",
    "print(ts_series)\n",
    "\n",
    "# Convert the Series to quarterly periods\n",
    "quarterly_periods = ts_series.dt.to_period(\"Q\")\n",
    "print(\"\\nConverted to Quarterly Periods:\")\n",
    "print(quarterly_periods)\n",
    "\n",
    "# Convert the quarterly periods back to Timestamps representing the start of the quarter\n",
    "ts_quarter_start = quarterly_periods.dt.to_timestamp(how='S')\n",
    "print(\"\\nTimestamps at Start of Each Quarter:\")\n",
    "print(ts_quarter_start)"
   ]
  },
  {
   "cell_type": "markdown",
   "id": "69792976-baed-44a7-a776-3d42d6eb2cb1",
   "metadata": {},
   "source": [
    "## Resampling and Frequency Conversion"
   ]
  },
  {
   "cell_type": "markdown",
   "id": "38a755c0-0a55-4312-947f-b90d41158fdf",
   "metadata": {},
   "source": [
    "Resampling refers to the process of converting a time series from one frequency\n",
    " to another. Aggregating higher frequency data to lower frequency is called downsam\n",
    "pling, while converting lower frequency to higher frequency is called upsampling.\n",
    " Not all resampling falls into either of these categories; for example, converting W-WED\n",
    " (weekly on Wednesday) to W-FRI is neither upsampling nor downsampling."
   ]
  },
  {
   "cell_type": "code",
   "execution_count": 189,
   "id": "4b25c497-caaa-446f-85d5-8f467389017b",
   "metadata": {},
   "outputs": [],
   "source": [
    "dates = pd.date_range(\"2025-3-1\", periods = 100)\n",
    "s = pd.Series(np.random.standard_normal(len(dates)), index = dates)"
   ]
  },
  {
   "cell_type": "code",
   "execution_count": 190,
   "id": "0138cf38-1a2f-4d8c-8e8e-8a698ae992d6",
   "metadata": {},
   "outputs": [
    {
     "data": {
      "text/plain": [
       "2025-03-01    0.696499\n",
       "2025-03-02    0.482886\n",
       "2025-03-03    1.084853\n",
       "2025-03-04    0.138592\n",
       "2025-03-05   -1.189240\n",
       "                ...   \n",
       "2025-06-04   -2.920705\n",
       "2025-06-05    0.787651\n",
       "2025-06-06    1.180680\n",
       "2025-06-07   -0.271571\n",
       "2025-06-08   -1.262818\n",
       "Freq: D, Length: 100, dtype: float64"
      ]
     },
     "execution_count": 190,
     "metadata": {},
     "output_type": "execute_result"
    }
   ],
   "source": [
    "s"
   ]
  },
  {
   "cell_type": "code",
   "execution_count": 191,
   "id": "adc6f603-58df-4d9e-83c4-df04910df55b",
   "metadata": {},
   "outputs": [
    {
     "data": {
      "text/plain": [
       "2025-03-31    0.109112\n",
       "2025-04-30    0.035411\n",
       "2025-05-31    0.099312\n",
       "2025-06-30   -0.278892\n",
       "Freq: ME, dtype: float64"
      ]
     },
     "execution_count": 191,
     "metadata": {},
     "output_type": "execute_result"
    }
   ],
   "source": [
    "# Let's resample with a month and calculate mean\n",
    "s.resample(\"ME\").mean()"
   ]
  },
  {
   "cell_type": "markdown",
   "id": "5658cafc-6d02-4277-af12-c04946e612f6",
   "metadata": {},
   "source": [
    "resample method  \n",
    "Syntax:  \n",
    "```DataFrame.resample(rule, how=None, axis=0, closed=None, label=None, kind=None, convention='start', origin='start_day', offset=None)```\n",
    "\n",
    "1. rule (required):\n",
    "\n",
    "+ Defines the new time frequency.\n",
    "+ Example values:\n",
    "    + 'D' → Daily\n",
    "    + 'W' → Weekly\n",
    "    + 'M' → Monthly\n",
    "    + 'Q' → Quarterly\n",
    "    + 'A' → Annually\n",
    "    + 'H' → Hourly\n",
    "    + 'T' or 'min' → Minutes\n",
    "    + 'S' → Seconds\n",
    "\n",
    "2. axis (default: 0):   \n",
    "The axis to apply the resampling on (0 for index, 1 for columns).\n",
    "\n",
    "3. closed (default: depends on rule):  \n",
    "Defines which side of the bin (time window) is closed.\n",
    "Options:\n",
    "+ 'right' (default for most) → Right-inclusive (e.g., [start, end])\n",
    "+ 'left' → Left-inclusive (e.g., (start, end])\n",
    "\n",
    "4. label (default: depends on rule):  \n",
    "Determines how to label the bins.  \n",
    "Options:\n",
    "+ 'right' → Label with the right edge of the bin.\n",
    "+ 'left' → Label with the left edge.\n",
    "\n",
    "5. kind (default: None):  \n",
    "Specifies whether to use 'timestamp' or 'period' as output.\n",
    "\n",
    "6. convention (default: 'start'):  \n",
    "Used when resampling from a period index to a timestamp index.  \n",
    "Options:\n",
    "+ 'start' → Uses the start of the period.\n",
    "+ 'end' → Uses the end of the period.\n",
    "\n",
    "7. origin (default: 'start_day'):  \n",
    "Specifies where to start resampling.  \n",
    "Options:\n",
    "+ 'epoch', 'start', 'start_day', 'end', or a specific timestamp.\n",
    "\n",
    "8. offset (default: None):  \n",
    "Adds an offset to the resampled bins."
   ]
  },
  {
   "cell_type": "markdown",
   "id": "41412b0e-5004-49ad-a8af-f72435533008",
   "metadata": {},
   "source": [
    "### Downsampling\n",
    "Downsampling aggregates data from a higher frequency (e.g., daily) to a lower frequency (e.g., monthly)."
   ]
  },
  {
   "cell_type": "code",
   "execution_count": 192,
   "id": "246ee805-ff50-47b0-8892-88f649c3973b",
   "metadata": {},
   "outputs": [],
   "source": [
    "d = pd.date_range(\"2025-03-01\", periods = 12, freq = \"min\")\n",
    "s = pd.Series(np.arange(len(d)), index = d)"
   ]
  },
  {
   "cell_type": "code",
   "execution_count": 193,
   "id": "f4a7abd3-e694-43a6-9b3b-58f0b6bb1f34",
   "metadata": {},
   "outputs": [
    {
     "data": {
      "text/plain": [
       "2025-03-01 00:00:00     0\n",
       "2025-03-01 00:01:00     1\n",
       "2025-03-01 00:02:00     2\n",
       "2025-03-01 00:03:00     3\n",
       "2025-03-01 00:04:00     4\n",
       "2025-03-01 00:05:00     5\n",
       "2025-03-01 00:06:00     6\n",
       "2025-03-01 00:07:00     7\n",
       "2025-03-01 00:08:00     8\n",
       "2025-03-01 00:09:00     9\n",
       "2025-03-01 00:10:00    10\n",
       "2025-03-01 00:11:00    11\n",
       "Freq: min, dtype: int64"
      ]
     },
     "execution_count": 193,
     "metadata": {},
     "output_type": "execute_result"
    }
   ],
   "source": [
    "s"
   ]
  },
  {
   "cell_type": "code",
   "execution_count": 194,
   "id": "2809ddd0-3022-4436-88f6-b1fa614e0bb5",
   "metadata": {},
   "outputs": [
    {
     "data": {
      "text/plain": [
       "2025-03-01 00:00:00    10\n",
       "2025-03-01 00:05:00    35\n",
       "2025-03-01 00:10:00    21\n",
       "Freq: 5min, dtype: int64"
      ]
     },
     "execution_count": 194,
     "metadata": {},
     "output_type": "execute_result"
    }
   ],
   "source": [
    "s.resample(\"5min\").sum()"
   ]
  },
  {
   "cell_type": "markdown",
   "id": "4475d321-c87e-46c9-a2fa-e77f5ca891e6",
   "metadata": {},
   "source": [
    "as we can see from the default the bin edge is left closed we can change to right"
   ]
  },
  {
   "cell_type": "code",
   "execution_count": 195,
   "id": "c8ee99be-55b7-4705-97af-7b4ecd4a6162",
   "metadata": {},
   "outputs": [
    {
     "data": {
      "text/plain": [
       "2025-02-28 23:55:00     0\n",
       "2025-03-01 00:00:00    15\n",
       "2025-03-01 00:05:00    40\n",
       "2025-03-01 00:10:00    11\n",
       "Freq: 5min, dtype: int64"
      ]
     },
     "execution_count": 195,
     "metadata": {},
     "output_type": "execute_result"
    }
   ],
   "source": [
    "s.resample(\"5min\", closed = \"right\").sum()"
   ]
  },
  {
   "cell_type": "markdown",
   "id": "f43af938-d751-4e01-b0cd-415677d39d36",
   "metadata": {},
   "source": [
    "The resulting time series is labeled by the timestamps from the left side of each bin.\n",
    " By passing label=\"right\" you can label them with the right bin edge"
   ]
  },
  {
   "cell_type": "code",
   "execution_count": 196,
   "id": "3c0ce0d6-a377-424a-a782-0652b499b296",
   "metadata": {},
   "outputs": [
    {
     "data": {
      "text/plain": [
       "2025-03-01 00:05:00    10\n",
       "2025-03-01 00:10:00    35\n",
       "2025-03-01 00:15:00    21\n",
       "Freq: 5min, dtype: int64"
      ]
     },
     "execution_count": 196,
     "metadata": {},
     "output_type": "execute_result"
    }
   ],
   "source": [
    "s.resample(\"5min\", label = 'right').sum()"
   ]
  },
  {
   "cell_type": "markdown",
   "id": "ee1a9ed7-141d-422f-92a5-c5465f18f2dc",
   "metadata": {},
   "source": [
    "#### Open-high-low-close (OHLC) resampling"
   ]
  },
  {
   "cell_type": "markdown",
   "id": "3e956a52-28c5-4b0d-892e-a7bcb5587396",
   "metadata": {},
   "source": [
    "In finance, a popular way to aggregate a time series is to compute four values for\n",
    " each bucket: the first (open), last (close), maximum (high), and minimal (low) values.\n",
    " By using the ohlc aggregate function, you will obtain a DataFrame having columns\n",
    " containing these four aggregates, which are efficiently computed in a single function\n",
    " call"
   ]
  },
  {
   "cell_type": "code",
   "execution_count": 197,
   "id": "0d63ddf5-b98d-4302-9433-71a2ccd27f11",
   "metadata": {},
   "outputs": [
    {
     "data": {
      "text/html": [
       "<div>\n",
       "<style scoped>\n",
       "    .dataframe tbody tr th:only-of-type {\n",
       "        vertical-align: middle;\n",
       "    }\n",
       "\n",
       "    .dataframe tbody tr th {\n",
       "        vertical-align: top;\n",
       "    }\n",
       "\n",
       "    .dataframe thead th {\n",
       "        text-align: right;\n",
       "    }\n",
       "</style>\n",
       "<table border=\"1\" class=\"dataframe\">\n",
       "  <thead>\n",
       "    <tr style=\"text-align: right;\">\n",
       "      <th></th>\n",
       "      <th>open</th>\n",
       "      <th>high</th>\n",
       "      <th>low</th>\n",
       "      <th>close</th>\n",
       "    </tr>\n",
       "  </thead>\n",
       "  <tbody>\n",
       "    <tr>\n",
       "      <th>2025-03-01 00:00:00</th>\n",
       "      <td>0</td>\n",
       "      <td>4</td>\n",
       "      <td>0</td>\n",
       "      <td>4</td>\n",
       "    </tr>\n",
       "    <tr>\n",
       "      <th>2025-03-01 00:05:00</th>\n",
       "      <td>5</td>\n",
       "      <td>9</td>\n",
       "      <td>5</td>\n",
       "      <td>9</td>\n",
       "    </tr>\n",
       "    <tr>\n",
       "      <th>2025-03-01 00:10:00</th>\n",
       "      <td>10</td>\n",
       "      <td>11</td>\n",
       "      <td>10</td>\n",
       "      <td>11</td>\n",
       "    </tr>\n",
       "  </tbody>\n",
       "</table>\n",
       "</div>"
      ],
      "text/plain": [
       "                     open  high  low  close\n",
       "2025-03-01 00:00:00     0     4    0      4\n",
       "2025-03-01 00:05:00     5     9    5      9\n",
       "2025-03-01 00:10:00    10    11   10     11"
      ]
     },
     "execution_count": 197,
     "metadata": {},
     "output_type": "execute_result"
    }
   ],
   "source": [
    "s.resample('5min').ohlc()"
   ]
  },
  {
   "cell_type": "code",
   "execution_count": 198,
   "id": "7c3d753d-e749-41ef-b022-5873e564c41a",
   "metadata": {},
   "outputs": [],
   "source": [
    "flights = sns.load_dataset('flights')"
   ]
  },
  {
   "cell_type": "code",
   "execution_count": 199,
   "id": "0941f63e-acb8-4ae1-97f4-20ac80884d8e",
   "metadata": {},
   "outputs": [
    {
     "data": {
      "text/html": [
       "<div>\n",
       "<style scoped>\n",
       "    .dataframe tbody tr th:only-of-type {\n",
       "        vertical-align: middle;\n",
       "    }\n",
       "\n",
       "    .dataframe tbody tr th {\n",
       "        vertical-align: top;\n",
       "    }\n",
       "\n",
       "    .dataframe thead th {\n",
       "        text-align: right;\n",
       "    }\n",
       "</style>\n",
       "<table border=\"1\" class=\"dataframe\">\n",
       "  <thead>\n",
       "    <tr style=\"text-align: right;\">\n",
       "      <th></th>\n",
       "      <th>year</th>\n",
       "      <th>month</th>\n",
       "      <th>passengers</th>\n",
       "    </tr>\n",
       "  </thead>\n",
       "  <tbody>\n",
       "    <tr>\n",
       "      <th>0</th>\n",
       "      <td>1949</td>\n",
       "      <td>Jan</td>\n",
       "      <td>112</td>\n",
       "    </tr>\n",
       "    <tr>\n",
       "      <th>1</th>\n",
       "      <td>1949</td>\n",
       "      <td>Feb</td>\n",
       "      <td>118</td>\n",
       "    </tr>\n",
       "    <tr>\n",
       "      <th>2</th>\n",
       "      <td>1949</td>\n",
       "      <td>Mar</td>\n",
       "      <td>132</td>\n",
       "    </tr>\n",
       "    <tr>\n",
       "      <th>3</th>\n",
       "      <td>1949</td>\n",
       "      <td>Apr</td>\n",
       "      <td>129</td>\n",
       "    </tr>\n",
       "    <tr>\n",
       "      <th>4</th>\n",
       "      <td>1949</td>\n",
       "      <td>May</td>\n",
       "      <td>121</td>\n",
       "    </tr>\n",
       "  </tbody>\n",
       "</table>\n",
       "</div>"
      ],
      "text/plain": [
       "   year month  passengers\n",
       "0  1949   Jan         112\n",
       "1  1949   Feb         118\n",
       "2  1949   Mar         132\n",
       "3  1949   Apr         129\n",
       "4  1949   May         121"
      ]
     },
     "execution_count": 199,
     "metadata": {},
     "output_type": "execute_result"
    }
   ],
   "source": [
    "flights.head()"
   ]
  },
  {
   "cell_type": "code",
   "execution_count": 200,
   "id": "c71a840e-d442-4b5e-8541-cd4cbb615126",
   "metadata": {},
   "outputs": [],
   "source": [
    "flights['date'] = pd.to_datetime((flights['year'].astype(str) + '-' + flights['month'].astype(str)),\n",
    "                                format = \"%Y-%b\")"
   ]
  },
  {
   "cell_type": "code",
   "execution_count": 201,
   "id": "2b0c7d18-e631-4ffd-a0e7-9e7f9741f358",
   "metadata": {},
   "outputs": [],
   "source": [
    "flights.set_index('date', inplace = True)"
   ]
  },
  {
   "cell_type": "code",
   "execution_count": 202,
   "id": "17d4e337-605d-4873-af5e-6d8787ec710b",
   "metadata": {},
   "outputs": [
    {
     "data": {
      "text/html": [
       "<div>\n",
       "<style scoped>\n",
       "    .dataframe tbody tr th:only-of-type {\n",
       "        vertical-align: middle;\n",
       "    }\n",
       "\n",
       "    .dataframe tbody tr th {\n",
       "        vertical-align: top;\n",
       "    }\n",
       "\n",
       "    .dataframe thead th {\n",
       "        text-align: right;\n",
       "    }\n",
       "</style>\n",
       "<table border=\"1\" class=\"dataframe\">\n",
       "  <thead>\n",
       "    <tr style=\"text-align: right;\">\n",
       "      <th></th>\n",
       "      <th>year</th>\n",
       "      <th>month</th>\n",
       "      <th>passengers</th>\n",
       "    </tr>\n",
       "    <tr>\n",
       "      <th>date</th>\n",
       "      <th></th>\n",
       "      <th></th>\n",
       "      <th></th>\n",
       "    </tr>\n",
       "  </thead>\n",
       "  <tbody>\n",
       "    <tr>\n",
       "      <th>1949-01-01</th>\n",
       "      <td>1949</td>\n",
       "      <td>Jan</td>\n",
       "      <td>112</td>\n",
       "    </tr>\n",
       "    <tr>\n",
       "      <th>1949-02-01</th>\n",
       "      <td>1949</td>\n",
       "      <td>Feb</td>\n",
       "      <td>118</td>\n",
       "    </tr>\n",
       "    <tr>\n",
       "      <th>1949-03-01</th>\n",
       "      <td>1949</td>\n",
       "      <td>Mar</td>\n",
       "      <td>132</td>\n",
       "    </tr>\n",
       "    <tr>\n",
       "      <th>1949-04-01</th>\n",
       "      <td>1949</td>\n",
       "      <td>Apr</td>\n",
       "      <td>129</td>\n",
       "    </tr>\n",
       "    <tr>\n",
       "      <th>1949-05-01</th>\n",
       "      <td>1949</td>\n",
       "      <td>May</td>\n",
       "      <td>121</td>\n",
       "    </tr>\n",
       "  </tbody>\n",
       "</table>\n",
       "</div>"
      ],
      "text/plain": [
       "            year month  passengers\n",
       "date                              \n",
       "1949-01-01  1949   Jan         112\n",
       "1949-02-01  1949   Feb         118\n",
       "1949-03-01  1949   Mar         132\n",
       "1949-04-01  1949   Apr         129\n",
       "1949-05-01  1949   May         121"
      ]
     },
     "execution_count": 202,
     "metadata": {},
     "output_type": "execute_result"
    }
   ],
   "source": [
    "flights.head()"
   ]
  },
  {
   "cell_type": "code",
   "execution_count": 203,
   "id": "70e28311-e0f9-4608-be69-cf31431a9606",
   "metadata": {},
   "outputs": [],
   "source": [
    "yearly_passengers = flights.resample('YE')['passengers'].sum().reset_index(name = 'total_passengers')"
   ]
  },
  {
   "cell_type": "code",
   "execution_count": 204,
   "id": "698ab3f2-c61c-4d4e-9ccb-1c799e68e62c",
   "metadata": {},
   "outputs": [
    {
     "data": {
      "text/html": [
       "<div>\n",
       "<style scoped>\n",
       "    .dataframe tbody tr th:only-of-type {\n",
       "        vertical-align: middle;\n",
       "    }\n",
       "\n",
       "    .dataframe tbody tr th {\n",
       "        vertical-align: top;\n",
       "    }\n",
       "\n",
       "    .dataframe thead th {\n",
       "        text-align: right;\n",
       "    }\n",
       "</style>\n",
       "<table border=\"1\" class=\"dataframe\">\n",
       "  <thead>\n",
       "    <tr style=\"text-align: right;\">\n",
       "      <th></th>\n",
       "      <th>date</th>\n",
       "      <th>total_passengers</th>\n",
       "    </tr>\n",
       "  </thead>\n",
       "  <tbody>\n",
       "    <tr>\n",
       "      <th>0</th>\n",
       "      <td>1949-12-31</td>\n",
       "      <td>1520</td>\n",
       "    </tr>\n",
       "    <tr>\n",
       "      <th>1</th>\n",
       "      <td>1950-12-31</td>\n",
       "      <td>1676</td>\n",
       "    </tr>\n",
       "    <tr>\n",
       "      <th>2</th>\n",
       "      <td>1951-12-31</td>\n",
       "      <td>2042</td>\n",
       "    </tr>\n",
       "    <tr>\n",
       "      <th>3</th>\n",
       "      <td>1952-12-31</td>\n",
       "      <td>2364</td>\n",
       "    </tr>\n",
       "    <tr>\n",
       "      <th>4</th>\n",
       "      <td>1953-12-31</td>\n",
       "      <td>2700</td>\n",
       "    </tr>\n",
       "  </tbody>\n",
       "</table>\n",
       "</div>"
      ],
      "text/plain": [
       "        date  total_passengers\n",
       "0 1949-12-31              1520\n",
       "1 1950-12-31              1676\n",
       "2 1951-12-31              2042\n",
       "3 1952-12-31              2364\n",
       "4 1953-12-31              2700"
      ]
     },
     "execution_count": 204,
     "metadata": {},
     "output_type": "execute_result"
    }
   ],
   "source": [
    "yearly_passengers.head()"
   ]
  },
  {
   "cell_type": "code",
   "execution_count": 205,
   "id": "abe4056a-dee1-4788-b025-4d30c157a8e6",
   "metadata": {},
   "outputs": [
    {
     "data": {
      "image/png": "[encoded data removed]",
      "text/plain": [
       "<Figure size 800x500 with 1 Axes>"
      ]
     },
     "metadata": {},
     "output_type": "display_data"
    }
   ],
   "source": [
    "%matplotlib inline\n",
    "plt.figure(figsize = (8, 5))\n",
    "sns.lineplot(data = yearly_passengers, x = 'date', y = 'total_passengers', marker = 'o', color = 'steelblue')\n",
    "plt.title(\"Monthly Airline Passengers\")\n",
    "plt.xlabel(\"Date\")\n",
    "plt.ylabel(\"Number of Passengers\")\n",
    "plt.xticks(rotation=45)\n",
    "plt.tight_layout()"
   ]
  },
  {
   "cell_type": "markdown",
   "id": "b58a4034-8491-4607-81a1-8b35aac56a55",
   "metadata": {},
   "source": [
    "###  Upsampling and Interpolation"
   ]
  },
  {
   "cell_type": "markdown",
   "id": "41e1db81-822b-472e-8000-d721bd071f5f",
   "metadata": {},
   "source": [
    "Upsampling increases the frequency of your data (e.g., from monthly to daily). When upsampling, new rows will have missing values, which you can fill using methods like forward-fill (ffill) or interpolation."
   ]
  },
  {
   "cell_type": "code",
   "execution_count": 206,
   "id": "2c2d3168-3f11-4533-884f-dd0aaae4a5f9",
   "metadata": {},
   "outputs": [],
   "source": [
    "date_rng = pd.date_range(start='2024-01-01', end='2024-01-10', freq='D')\n",
    "df = pd.DataFrame({'date': date_rng, 'value': np.random.randint(10, 100, size=len(date_rng))})\n",
    "df = df.set_index('date')"
   ]
  },
  {
   "cell_type": "code",
   "execution_count": 207,
   "id": "e159e6fb-6dbc-4c14-bf69-3400c9ce3332",
   "metadata": {},
   "outputs": [
    {
     "data": {
      "text/html": [
       "<div>\n",
       "<style scoped>\n",
       "    .dataframe tbody tr th:only-of-type {\n",
       "        vertical-align: middle;\n",
       "    }\n",
       "\n",
       "    .dataframe tbody tr th {\n",
       "        vertical-align: top;\n",
       "    }\n",
       "\n",
       "    .dataframe thead th {\n",
       "        text-align: right;\n",
       "    }\n",
       "</style>\n",
       "<table border=\"1\" class=\"dataframe\">\n",
       "  <thead>\n",
       "    <tr style=\"text-align: right;\">\n",
       "      <th></th>\n",
       "      <th>value</th>\n",
       "    </tr>\n",
       "    <tr>\n",
       "      <th>date</th>\n",
       "      <th></th>\n",
       "    </tr>\n",
       "  </thead>\n",
       "  <tbody>\n",
       "    <tr>\n",
       "      <th>2024-01-01</th>\n",
       "      <td>53</td>\n",
       "    </tr>\n",
       "    <tr>\n",
       "      <th>2024-01-02</th>\n",
       "      <td>99</td>\n",
       "    </tr>\n",
       "    <tr>\n",
       "      <th>2024-01-03</th>\n",
       "      <td>73</td>\n",
       "    </tr>\n",
       "    <tr>\n",
       "      <th>2024-01-04</th>\n",
       "      <td>77</td>\n",
       "    </tr>\n",
       "    <tr>\n",
       "      <th>2024-01-05</th>\n",
       "      <td>19</td>\n",
       "    </tr>\n",
       "    <tr>\n",
       "      <th>2024-01-06</th>\n",
       "      <td>89</td>\n",
       "    </tr>\n",
       "    <tr>\n",
       "      <th>2024-01-07</th>\n",
       "      <td>94</td>\n",
       "    </tr>\n",
       "    <tr>\n",
       "      <th>2024-01-08</th>\n",
       "      <td>33</td>\n",
       "    </tr>\n",
       "    <tr>\n",
       "      <th>2024-01-09</th>\n",
       "      <td>33</td>\n",
       "    </tr>\n",
       "    <tr>\n",
       "      <th>2024-01-10</th>\n",
       "      <td>39</td>\n",
       "    </tr>\n",
       "  </tbody>\n",
       "</table>\n",
       "</div>"
      ],
      "text/plain": [
       "            value\n",
       "date             \n",
       "2024-01-01     53\n",
       "2024-01-02     99\n",
       "2024-01-03     73\n",
       "2024-01-04     77\n",
       "2024-01-05     19\n",
       "2024-01-06     89\n",
       "2024-01-07     94\n",
       "2024-01-08     33\n",
       "2024-01-09     33\n",
       "2024-01-10     39"
      ]
     },
     "execution_count": 207,
     "metadata": {},
     "output_type": "execute_result"
    }
   ],
   "source": [
    "df"
   ]
  },
  {
   "cell_type": "code",
   "execution_count": 208,
   "id": "efc246f8-0542-492b-8e02-d40fabd4fbe7",
   "metadata": {},
   "outputs": [
    {
     "data": {
      "text/html": [
       "<div>\n",
       "<style scoped>\n",
       "    .dataframe tbody tr th:only-of-type {\n",
       "        vertical-align: middle;\n",
       "    }\n",
       "\n",
       "    .dataframe tbody tr th {\n",
       "        vertical-align: top;\n",
       "    }\n",
       "\n",
       "    .dataframe thead th {\n",
       "        text-align: right;\n",
       "    }\n",
       "</style>\n",
       "<table border=\"1\" class=\"dataframe\">\n",
       "  <thead>\n",
       "    <tr style=\"text-align: right;\">\n",
       "      <th></th>\n",
       "      <th>value</th>\n",
       "    </tr>\n",
       "    <tr>\n",
       "      <th>date</th>\n",
       "      <th></th>\n",
       "    </tr>\n",
       "  </thead>\n",
       "  <tbody>\n",
       "    <tr>\n",
       "      <th>2024-01-01 00:00:00</th>\n",
       "      <td>53.0</td>\n",
       "    </tr>\n",
       "    <tr>\n",
       "      <th>2024-01-01 01:00:00</th>\n",
       "      <td>NaN</td>\n",
       "    </tr>\n",
       "    <tr>\n",
       "      <th>2024-01-01 02:00:00</th>\n",
       "      <td>NaN</td>\n",
       "    </tr>\n",
       "    <tr>\n",
       "      <th>2024-01-01 03:00:00</th>\n",
       "      <td>NaN</td>\n",
       "    </tr>\n",
       "    <tr>\n",
       "      <th>2024-01-01 04:00:00</th>\n",
       "      <td>NaN</td>\n",
       "    </tr>\n",
       "    <tr>\n",
       "      <th>2024-01-01 05:00:00</th>\n",
       "      <td>NaN</td>\n",
       "    </tr>\n",
       "    <tr>\n",
       "      <th>2024-01-01 06:00:00</th>\n",
       "      <td>NaN</td>\n",
       "    </tr>\n",
       "    <tr>\n",
       "      <th>2024-01-01 07:00:00</th>\n",
       "      <td>NaN</td>\n",
       "    </tr>\n",
       "    <tr>\n",
       "      <th>2024-01-01 08:00:00</th>\n",
       "      <td>NaN</td>\n",
       "    </tr>\n",
       "    <tr>\n",
       "      <th>2024-01-01 09:00:00</th>\n",
       "      <td>NaN</td>\n",
       "    </tr>\n",
       "    <tr>\n",
       "      <th>2024-01-01 10:00:00</th>\n",
       "      <td>NaN</td>\n",
       "    </tr>\n",
       "    <tr>\n",
       "      <th>2024-01-01 11:00:00</th>\n",
       "      <td>NaN</td>\n",
       "    </tr>\n",
       "    <tr>\n",
       "      <th>2024-01-01 12:00:00</th>\n",
       "      <td>NaN</td>\n",
       "    </tr>\n",
       "    <tr>\n",
       "      <th>2024-01-01 13:00:00</th>\n",
       "      <td>NaN</td>\n",
       "    </tr>\n",
       "    <tr>\n",
       "      <th>2024-01-01 14:00:00</th>\n",
       "      <td>NaN</td>\n",
       "    </tr>\n",
       "    <tr>\n",
       "      <th>2024-01-01 15:00:00</th>\n",
       "      <td>NaN</td>\n",
       "    </tr>\n",
       "    <tr>\n",
       "      <th>2024-01-01 16:00:00</th>\n",
       "      <td>NaN</td>\n",
       "    </tr>\n",
       "    <tr>\n",
       "      <th>2024-01-01 17:00:00</th>\n",
       "      <td>NaN</td>\n",
       "    </tr>\n",
       "    <tr>\n",
       "      <th>2024-01-01 18:00:00</th>\n",
       "      <td>NaN</td>\n",
       "    </tr>\n",
       "    <tr>\n",
       "      <th>2024-01-01 19:00:00</th>\n",
       "      <td>NaN</td>\n",
       "    </tr>\n",
       "    <tr>\n",
       "      <th>2024-01-01 20:00:00</th>\n",
       "      <td>NaN</td>\n",
       "    </tr>\n",
       "    <tr>\n",
       "      <th>2024-01-01 21:00:00</th>\n",
       "      <td>NaN</td>\n",
       "    </tr>\n",
       "    <tr>\n",
       "      <th>2024-01-01 22:00:00</th>\n",
       "      <td>NaN</td>\n",
       "    </tr>\n",
       "    <tr>\n",
       "      <th>2024-01-01 23:00:00</th>\n",
       "      <td>NaN</td>\n",
       "    </tr>\n",
       "    <tr>\n",
       "      <th>2024-01-02 00:00:00</th>\n",
       "      <td>99.0</td>\n",
       "    </tr>\n",
       "  </tbody>\n",
       "</table>\n",
       "</div>"
      ],
      "text/plain": [
       "                     value\n",
       "date                      \n",
       "2024-01-01 00:00:00   53.0\n",
       "2024-01-01 01:00:00    NaN\n",
       "2024-01-01 02:00:00    NaN\n",
       "2024-01-01 03:00:00    NaN\n",
       "2024-01-01 04:00:00    NaN\n",
       "2024-01-01 05:00:00    NaN\n",
       "2024-01-01 06:00:00    NaN\n",
       "2024-01-01 07:00:00    NaN\n",
       "2024-01-01 08:00:00    NaN\n",
       "2024-01-01 09:00:00    NaN\n",
       "2024-01-01 10:00:00    NaN\n",
       "2024-01-01 11:00:00    NaN\n",
       "2024-01-01 12:00:00    NaN\n",
       "2024-01-01 13:00:00    NaN\n",
       "2024-01-01 14:00:00    NaN\n",
       "2024-01-01 15:00:00    NaN\n",
       "2024-01-01 16:00:00    NaN\n",
       "2024-01-01 17:00:00    NaN\n",
       "2024-01-01 18:00:00    NaN\n",
       "2024-01-01 19:00:00    NaN\n",
       "2024-01-01 20:00:00    NaN\n",
       "2024-01-01 21:00:00    NaN\n",
       "2024-01-01 22:00:00    NaN\n",
       "2024-01-01 23:00:00    NaN\n",
       "2024-01-02 00:00:00   99.0"
      ]
     },
     "execution_count": 208,
     "metadata": {},
     "output_type": "execute_result"
    }
   ],
   "source": [
    "df.resample('h').asfreq().head(25)"
   ]
  },
  {
   "cell_type": "code",
   "execution_count": 209,
   "id": "daba7473-9b2f-48c3-ada1-2235c84f6dff",
   "metadata": {},
   "outputs": [
    {
     "data": {
      "text/html": [
       "<div>\n",
       "<style scoped>\n",
       "    .dataframe tbody tr th:only-of-type {\n",
       "        vertical-align: middle;\n",
       "    }\n",
       "\n",
       "    .dataframe tbody tr th {\n",
       "        vertical-align: top;\n",
       "    }\n",
       "\n",
       "    .dataframe thead th {\n",
       "        text-align: right;\n",
       "    }\n",
       "</style>\n",
       "<table border=\"1\" class=\"dataframe\">\n",
       "  <thead>\n",
       "    <tr style=\"text-align: right;\">\n",
       "      <th></th>\n",
       "      <th>value</th>\n",
       "    </tr>\n",
       "    <tr>\n",
       "      <th>date</th>\n",
       "      <th></th>\n",
       "    </tr>\n",
       "  </thead>\n",
       "  <tbody>\n",
       "    <tr>\n",
       "      <th>2024-01-01 00:00:00</th>\n",
       "      <td>53</td>\n",
       "    </tr>\n",
       "    <tr>\n",
       "      <th>2024-01-01 01:00:00</th>\n",
       "      <td>53</td>\n",
       "    </tr>\n",
       "    <tr>\n",
       "      <th>2024-01-01 02:00:00</th>\n",
       "      <td>53</td>\n",
       "    </tr>\n",
       "    <tr>\n",
       "      <th>2024-01-01 03:00:00</th>\n",
       "      <td>53</td>\n",
       "    </tr>\n",
       "    <tr>\n",
       "      <th>2024-01-01 04:00:00</th>\n",
       "      <td>53</td>\n",
       "    </tr>\n",
       "    <tr>\n",
       "      <th>2024-01-01 05:00:00</th>\n",
       "      <td>53</td>\n",
       "    </tr>\n",
       "    <tr>\n",
       "      <th>2024-01-01 06:00:00</th>\n",
       "      <td>53</td>\n",
       "    </tr>\n",
       "    <tr>\n",
       "      <th>2024-01-01 07:00:00</th>\n",
       "      <td>53</td>\n",
       "    </tr>\n",
       "    <tr>\n",
       "      <th>2024-01-01 08:00:00</th>\n",
       "      <td>53</td>\n",
       "    </tr>\n",
       "    <tr>\n",
       "      <th>2024-01-01 09:00:00</th>\n",
       "      <td>53</td>\n",
       "    </tr>\n",
       "    <tr>\n",
       "      <th>2024-01-01 10:00:00</th>\n",
       "      <td>53</td>\n",
       "    </tr>\n",
       "    <tr>\n",
       "      <th>2024-01-01 11:00:00</th>\n",
       "      <td>53</td>\n",
       "    </tr>\n",
       "    <tr>\n",
       "      <th>2024-01-01 12:00:00</th>\n",
       "      <td>53</td>\n",
       "    </tr>\n",
       "    <tr>\n",
       "      <th>2024-01-01 13:00:00</th>\n",
       "      <td>53</td>\n",
       "    </tr>\n",
       "    <tr>\n",
       "      <th>2024-01-01 14:00:00</th>\n",
       "      <td>53</td>\n",
       "    </tr>\n",
       "    <tr>\n",
       "      <th>2024-01-01 15:00:00</th>\n",
       "      <td>53</td>\n",
       "    </tr>\n",
       "    <tr>\n",
       "      <th>2024-01-01 16:00:00</th>\n",
       "      <td>53</td>\n",
       "    </tr>\n",
       "    <tr>\n",
       "      <th>2024-01-01 17:00:00</th>\n",
       "      <td>53</td>\n",
       "    </tr>\n",
       "    <tr>\n",
       "      <th>2024-01-01 18:00:00</th>\n",
       "      <td>53</td>\n",
       "    </tr>\n",
       "    <tr>\n",
       "      <th>2024-01-01 19:00:00</th>\n",
       "      <td>53</td>\n",
       "    </tr>\n",
       "    <tr>\n",
       "      <th>2024-01-01 20:00:00</th>\n",
       "      <td>53</td>\n",
       "    </tr>\n",
       "    <tr>\n",
       "      <th>2024-01-01 21:00:00</th>\n",
       "      <td>53</td>\n",
       "    </tr>\n",
       "    <tr>\n",
       "      <th>2024-01-01 22:00:00</th>\n",
       "      <td>53</td>\n",
       "    </tr>\n",
       "    <tr>\n",
       "      <th>2024-01-01 23:00:00</th>\n",
       "      <td>53</td>\n",
       "    </tr>\n",
       "    <tr>\n",
       "      <th>2024-01-02 00:00:00</th>\n",
       "      <td>99</td>\n",
       "    </tr>\n",
       "    <tr>\n",
       "      <th>2024-01-02 01:00:00</th>\n",
       "      <td>99</td>\n",
       "    </tr>\n",
       "    <tr>\n",
       "      <th>2024-01-02 02:00:00</th>\n",
       "      <td>99</td>\n",
       "    </tr>\n",
       "    <tr>\n",
       "      <th>2024-01-02 03:00:00</th>\n",
       "      <td>99</td>\n",
       "    </tr>\n",
       "    <tr>\n",
       "      <th>2024-01-02 04:00:00</th>\n",
       "      <td>99</td>\n",
       "    </tr>\n",
       "    <tr>\n",
       "      <th>2024-01-02 05:00:00</th>\n",
       "      <td>99</td>\n",
       "    </tr>\n",
       "  </tbody>\n",
       "</table>\n",
       "</div>"
      ],
      "text/plain": [
       "                     value\n",
       "date                      \n",
       "2024-01-01 00:00:00     53\n",
       "2024-01-01 01:00:00     53\n",
       "2024-01-01 02:00:00     53\n",
       "2024-01-01 03:00:00     53\n",
       "2024-01-01 04:00:00     53\n",
       "2024-01-01 05:00:00     53\n",
       "2024-01-01 06:00:00     53\n",
       "2024-01-01 07:00:00     53\n",
       "2024-01-01 08:00:00     53\n",
       "2024-01-01 09:00:00     53\n",
       "2024-01-01 10:00:00     53\n",
       "2024-01-01 11:00:00     53\n",
       "2024-01-01 12:00:00     53\n",
       "2024-01-01 13:00:00     53\n",
       "2024-01-01 14:00:00     53\n",
       "2024-01-01 15:00:00     53\n",
       "2024-01-01 16:00:00     53\n",
       "2024-01-01 17:00:00     53\n",
       "2024-01-01 18:00:00     53\n",
       "2024-01-01 19:00:00     53\n",
       "2024-01-01 20:00:00     53\n",
       "2024-01-01 21:00:00     53\n",
       "2024-01-01 22:00:00     53\n",
       "2024-01-01 23:00:00     53\n",
       "2024-01-02 00:00:00     99\n",
       "2024-01-02 01:00:00     99\n",
       "2024-01-02 02:00:00     99\n",
       "2024-01-02 03:00:00     99\n",
       "2024-01-02 04:00:00     99\n",
       "2024-01-02 05:00:00     99"
      ]
     },
     "execution_count": 209,
     "metadata": {},
     "output_type": "execute_result"
    }
   ],
   "source": [
    "# Filling missing values with ffill method\n",
    "df.resample('h').ffill().head(30)"
   ]
  },
  {
   "cell_type": "code",
   "execution_count": null,
   "id": "bb90c737-bf75-4a4b-b498-4bec2c737610",
   "metadata": {},
   "outputs": [],
   "source": []
  }
 ],
 "metadata": {
  "kernelspec": {
   "display_name": "Python (data-analysis)",
   "language": "python",
   "name": "data-anaysis"
  },
  "language_info": {
   "codemirror_mode": {
    "name": "ipython",
    "version": 3
   },
   "file_extension": ".py",
   "mimetype": "text/x-python",
   "name": "python",
   "nbconvert_exporter": "python",
   "pygments_lexer": "ipython3",
   "version": "3.11.13"
  }
 },
 "nbformat": 4,
 "nbformat_minor": 5
}
