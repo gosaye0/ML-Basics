{
 "cells": [
  {
   "cell_type": "code",
   "execution_count": 2,
   "id": "0f1ddb97-61e1-405f-ac6d-b411335c0f73",
   "metadata": {},
   "outputs": [],
   "source": [
    "import pandas as pd\n",
    "import numpy as np"
   ]
  },
  {
   "cell_type": "code",
   "execution_count": 4,
   "id": "34d2ae02-9f0e-470a-a66b-9786cc02449c",
   "metadata": {},
   "outputs": [],
   "source": [
    "# load coffee_consumption_india.csv\n",
    "data = pd.read_csv(\"coffee_consumption_india.csv\")"
   ]
  },
  {
   "cell_type": "code",
   "execution_count": 6,
   "id": "d8187210-96c8-4f7f-80c9-3b522d6f04b3",
   "metadata": {},
   "outputs": [
    {
     "name": "stdout",
     "output_type": "stream",
     "text": [
      "<class 'pandas.core.frame.DataFrame'>\n",
      "RangeIndex: 10000 entries, 0 to 9999\n",
      "Data columns (total 16 columns):\n",
      " #   Column                               Non-Null Count  Dtype \n",
      "---  ------                               --------------  ----- \n",
      " 0   City                                 10000 non-null  object\n",
      " 1   State                                10000 non-null  object\n",
      " 2   Age Group                            10000 non-null  object\n",
      " 3   Gender                               10000 non-null  object\n",
      " 4   Coffee Type                          10000 non-null  object\n",
      " 5   Daily Cups Consumed                  10000 non-null  int64 \n",
      " 6   Preferred Coffee Brand               10000 non-null  object\n",
      " 7   Consumption Setting                  10000 non-null  object\n",
      " 8   Monthly Coffee Expense (INR)         10000 non-null  int64 \n",
      " 9   Reason for Consumption               10000 non-null  object\n",
      " 10  Milk Preference                      10000 non-null  object\n",
      " 11  Sugar Preference                     10000 non-null  object\n",
      " 12  Awareness of Specialty Coffee        10000 non-null  object\n",
      " 13  Frequency of Café Visits (Per Week)  10000 non-null  int64 \n",
      " 14  Preferred Time of Consumption        10000 non-null  object\n",
      " 15  Influence of Social Media on Choice  10000 non-null  object\n",
      "dtypes: int64(3), object(13)\n",
      "memory usage: 1.2+ MB\n"
     ]
    }
   ],
   "source": [
    "data.info()"
   ]
  },
  {
   "cell_type": "code",
   "execution_count": 8,
   "id": "a44744ab-3522-4a50-a49a-0832632f7e4a",
   "metadata": {},
   "outputs": [
    {
     "data": {
      "text/html": [
       "<div>\n",
       "<style scoped>\n",
       "    .dataframe tbody tr th:only-of-type {\n",
       "        vertical-align: middle;\n",
       "    }\n",
       "\n",
       "    .dataframe tbody tr th {\n",
       "        vertical-align: top;\n",
       "    }\n",
       "\n",
       "    .dataframe thead th {\n",
       "        text-align: right;\n",
       "    }\n",
       "</style>\n",
       "<table border=\"1\" class=\"dataframe\">\n",
       "  <thead>\n",
       "    <tr style=\"text-align: right;\">\n",
       "      <th></th>\n",
       "      <th>City</th>\n",
       "      <th>State</th>\n",
       "      <th>Age Group</th>\n",
       "      <th>Gender</th>\n",
       "      <th>Coffee Type</th>\n",
       "      <th>Daily Cups Consumed</th>\n",
       "      <th>Preferred Coffee Brand</th>\n",
       "      <th>Consumption Setting</th>\n",
       "      <th>Monthly Coffee Expense (INR)</th>\n",
       "      <th>Reason for Consumption</th>\n",
       "      <th>Milk Preference</th>\n",
       "      <th>Sugar Preference</th>\n",
       "      <th>Awareness of Specialty Coffee</th>\n",
       "      <th>Frequency of Café Visits (Per Week)</th>\n",
       "      <th>Preferred Time of Consumption</th>\n",
       "      <th>Influence of Social Media on Choice</th>\n",
       "    </tr>\n",
       "  </thead>\n",
       "  <tbody>\n",
       "    <tr>\n",
       "      <th>0</th>\n",
       "      <td>Delhi</td>\n",
       "      <td>Delhi</td>\n",
       "      <td>18-25</td>\n",
       "      <td>Other</td>\n",
       "      <td>Espresso</td>\n",
       "      <td>4</td>\n",
       "      <td>Bru</td>\n",
       "      <td>Home</td>\n",
       "      <td>1060</td>\n",
       "      <td>Taste</td>\n",
       "      <td>Yes</td>\n",
       "      <td>No Sugar</td>\n",
       "      <td>No</td>\n",
       "      <td>6</td>\n",
       "      <td>Morning</td>\n",
       "      <td>Yes</td>\n",
       "    </tr>\n",
       "    <tr>\n",
       "      <th>1</th>\n",
       "      <td>Delhi</td>\n",
       "      <td>Delhi</td>\n",
       "      <td>26-35</td>\n",
       "      <td>Male</td>\n",
       "      <td>Cold Coffee</td>\n",
       "      <td>3</td>\n",
       "      <td>Others</td>\n",
       "      <td>Home</td>\n",
       "      <td>3972</td>\n",
       "      <td>Taste</td>\n",
       "      <td>No</td>\n",
       "      <td>Less Sugar</td>\n",
       "      <td>No</td>\n",
       "      <td>4</td>\n",
       "      <td>Evening</td>\n",
       "      <td>Yes</td>\n",
       "    </tr>\n",
       "    <tr>\n",
       "      <th>2</th>\n",
       "      <td>Bangalore</td>\n",
       "      <td>Karnataka</td>\n",
       "      <td>50+</td>\n",
       "      <td>Female</td>\n",
       "      <td>Espresso</td>\n",
       "      <td>2</td>\n",
       "      <td>Bru</td>\n",
       "      <td>Home</td>\n",
       "      <td>666</td>\n",
       "      <td>Habit</td>\n",
       "      <td>Yes</td>\n",
       "      <td>No Sugar</td>\n",
       "      <td>No</td>\n",
       "      <td>6</td>\n",
       "      <td>Morning</td>\n",
       "      <td>No</td>\n",
       "    </tr>\n",
       "    <tr>\n",
       "      <th>3</th>\n",
       "      <td>Kolkata</td>\n",
       "      <td>West Bengal</td>\n",
       "      <td>36-50</td>\n",
       "      <td>Male</td>\n",
       "      <td>Filter Coffee</td>\n",
       "      <td>3</td>\n",
       "      <td>Others</td>\n",
       "      <td>Home</td>\n",
       "      <td>3644</td>\n",
       "      <td>Socializing</td>\n",
       "      <td>Yes</td>\n",
       "      <td>Medium Sugar</td>\n",
       "      <td>No</td>\n",
       "      <td>3</td>\n",
       "      <td>Afternoon</td>\n",
       "      <td>Yes</td>\n",
       "    </tr>\n",
       "    <tr>\n",
       "      <th>4</th>\n",
       "      <td>Mumbai</td>\n",
       "      <td>Maharashtra</td>\n",
       "      <td>26-35</td>\n",
       "      <td>Female</td>\n",
       "      <td>Instant</td>\n",
       "      <td>3</td>\n",
       "      <td>Bru</td>\n",
       "      <td>Home</td>\n",
       "      <td>1885</td>\n",
       "      <td>Socializing</td>\n",
       "      <td>No</td>\n",
       "      <td>High Sugar</td>\n",
       "      <td>No</td>\n",
       "      <td>4</td>\n",
       "      <td>Afternoon</td>\n",
       "      <td>No</td>\n",
       "    </tr>\n",
       "  </tbody>\n",
       "</table>\n",
       "</div>"
      ],
      "text/plain": [
       "        City        State Age Group  Gender    Coffee Type  \\\n",
       "0      Delhi        Delhi     18-25   Other       Espresso   \n",
       "1      Delhi        Delhi     26-35    Male    Cold Coffee   \n",
       "2  Bangalore    Karnataka       50+  Female       Espresso   \n",
       "3    Kolkata  West Bengal     36-50    Male  Filter Coffee   \n",
       "4     Mumbai  Maharashtra     26-35  Female        Instant   \n",
       "\n",
       "   Daily Cups Consumed Preferred Coffee Brand Consumption Setting  \\\n",
       "0                    4                    Bru                Home   \n",
       "1                    3                 Others                Home   \n",
       "2                    2                    Bru                Home   \n",
       "3                    3                 Others                Home   \n",
       "4                    3                    Bru                Home   \n",
       "\n",
       "   Monthly Coffee Expense (INR) Reason for Consumption Milk Preference  \\\n",
       "0                          1060                  Taste             Yes   \n",
       "1                          3972                  Taste              No   \n",
       "2                           666                  Habit             Yes   \n",
       "3                          3644            Socializing             Yes   \n",
       "4                          1885            Socializing              No   \n",
       "\n",
       "  Sugar Preference Awareness of Specialty Coffee  \\\n",
       "0         No Sugar                            No   \n",
       "1       Less Sugar                            No   \n",
       "2         No Sugar                            No   \n",
       "3     Medium Sugar                            No   \n",
       "4       High Sugar                            No   \n",
       "\n",
       "   Frequency of Café Visits (Per Week) Preferred Time of Consumption  \\\n",
       "0                                    6                       Morning   \n",
       "1                                    4                       Evening   \n",
       "2                                    6                       Morning   \n",
       "3                                    3                     Afternoon   \n",
       "4                                    4                     Afternoon   \n",
       "\n",
       "  Influence of Social Media on Choice  \n",
       "0                                 Yes  \n",
       "1                                 Yes  \n",
       "2                                  No  \n",
       "3                                 Yes  \n",
       "4                                  No  "
      ]
     },
     "execution_count": 8,
     "metadata": {},
     "output_type": "execute_result"
    }
   ],
   "source": [
    "data.head()"
   ]
  },
  {
   "cell_type": "code",
   "execution_count": null,
   "id": "329ec808-a519-464a-8efb-5ec24cc5458c",
   "metadata": {},
   "outputs": [],
   "source": []
  },
  {
   "cell_type": "raw",
   "id": "bd0b0d69-302e-4dea-b42b-a82a8dc64c3b",
   "metadata": {},
   "source": [
    "Check for Missing Values"
   ]
  },
  {
   "cell_type": "code",
   "execution_count": 10,
   "id": "7cfe7e64-9993-45c6-b6a8-5119957f1aa1",
   "metadata": {},
   "outputs": [
    {
     "data": {
      "text/plain": [
       "City                                   0\n",
       "State                                  0\n",
       "Age Group                              0\n",
       "Gender                                 0\n",
       "Coffee Type                            0\n",
       "Daily Cups Consumed                    0\n",
       "Preferred Coffee Brand                 0\n",
       "Consumption Setting                    0\n",
       "Monthly Coffee Expense (INR)           0\n",
       "Reason for Consumption                 0\n",
       "Milk Preference                        0\n",
       "Sugar Preference                       0\n",
       "Awareness of Specialty Coffee          0\n",
       "Frequency of Café Visits (Per Week)    0\n",
       "Preferred Time of Consumption          0\n",
       "Influence of Social Media on Choice    0\n",
       "dtype: int64"
      ]
     },
     "execution_count": 10,
     "metadata": {},
     "output_type": "execute_result"
    }
   ],
   "source": [
    "data.isna().sum()"
   ]
  },
  {
   "cell_type": "code",
   "execution_count": null,
   "id": "a03a0f40-d5d8-413e-8e99-e15a602039d3",
   "metadata": {},
   "outputs": [],
   "source": []
  },
  {
   "cell_type": "raw",
   "id": "684db496-1ec8-4242-b679-e2801835076f",
   "metadata": {},
   "source": [
    "Understand the Data Structure"
   ]
  },
  {
   "cell_type": "code",
   "execution_count": 12,
   "id": "c84bbc63-eac1-4bac-be1c-38ae06054a14",
   "metadata": {},
   "outputs": [
    {
     "data": {
      "text/html": [
       "<div>\n",
       "<style scoped>\n",
       "    .dataframe tbody tr th:only-of-type {\n",
       "        vertical-align: middle;\n",
       "    }\n",
       "\n",
       "    .dataframe tbody tr th {\n",
       "        vertical-align: top;\n",
       "    }\n",
       "\n",
       "    .dataframe thead th {\n",
       "        text-align: right;\n",
       "    }\n",
       "</style>\n",
       "<table border=\"1\" class=\"dataframe\">\n",
       "  <thead>\n",
       "    <tr style=\"text-align: right;\">\n",
       "      <th></th>\n",
       "      <th>Daily Cups Consumed</th>\n",
       "      <th>Monthly Coffee Expense (INR)</th>\n",
       "      <th>Frequency of Café Visits (Per Week)</th>\n",
       "    </tr>\n",
       "  </thead>\n",
       "  <tbody>\n",
       "    <tr>\n",
       "      <th>count</th>\n",
       "      <td>10000.000000</td>\n",
       "      <td>10000.000000</td>\n",
       "      <td>10000.000000</td>\n",
       "    </tr>\n",
       "    <tr>\n",
       "      <th>mean</th>\n",
       "      <td>3.006200</td>\n",
       "      <td>2575.385300</td>\n",
       "      <td>3.021100</td>\n",
       "    </tr>\n",
       "    <tr>\n",
       "      <th>std</th>\n",
       "      <td>1.421254</td>\n",
       "      <td>1387.152155</td>\n",
       "      <td>2.002912</td>\n",
       "    </tr>\n",
       "    <tr>\n",
       "      <th>min</th>\n",
       "      <td>1.000000</td>\n",
       "      <td>200.000000</td>\n",
       "      <td>0.000000</td>\n",
       "    </tr>\n",
       "    <tr>\n",
       "      <th>25%</th>\n",
       "      <td>2.000000</td>\n",
       "      <td>1360.000000</td>\n",
       "      <td>1.000000</td>\n",
       "    </tr>\n",
       "    <tr>\n",
       "      <th>50%</th>\n",
       "      <td>3.000000</td>\n",
       "      <td>2578.000000</td>\n",
       "      <td>3.000000</td>\n",
       "    </tr>\n",
       "    <tr>\n",
       "      <th>75%</th>\n",
       "      <td>4.000000</td>\n",
       "      <td>3775.250000</td>\n",
       "      <td>5.000000</td>\n",
       "    </tr>\n",
       "    <tr>\n",
       "      <th>max</th>\n",
       "      <td>5.000000</td>\n",
       "      <td>4999.000000</td>\n",
       "      <td>6.000000</td>\n",
       "    </tr>\n",
       "  </tbody>\n",
       "</table>\n",
       "</div>"
      ],
      "text/plain": [
       "       Daily Cups Consumed  Monthly Coffee Expense (INR)  \\\n",
       "count         10000.000000                  10000.000000   \n",
       "mean              3.006200                   2575.385300   \n",
       "std               1.421254                   1387.152155   \n",
       "min               1.000000                    200.000000   \n",
       "25%               2.000000                   1360.000000   \n",
       "50%               3.000000                   2578.000000   \n",
       "75%               4.000000                   3775.250000   \n",
       "max               5.000000                   4999.000000   \n",
       "\n",
       "       Frequency of Café Visits (Per Week)  \n",
       "count                         10000.000000  \n",
       "mean                              3.021100  \n",
       "std                               2.002912  \n",
       "min                               0.000000  \n",
       "25%                               1.000000  \n",
       "50%                               3.000000  \n",
       "75%                               5.000000  \n",
       "max                               6.000000  "
      ]
     },
     "execution_count": 12,
     "metadata": {},
     "output_type": "execute_result"
    }
   ],
   "source": [
    "data.describe()"
   ]
  },
  {
   "cell_type": "code",
   "execution_count": 14,
   "id": "f8fab867-60b1-457b-b365-721574871301",
   "metadata": {},
   "outputs": [
    {
     "data": {
      "text/plain": [
       "City                                     10\n",
       "State                                     9\n",
       "Age Group                                 4\n",
       "Gender                                    3\n",
       "Coffee Type                               5\n",
       "Daily Cups Consumed                       5\n",
       "Preferred Coffee Brand                    5\n",
       "Consumption Setting                       3\n",
       "Monthly Coffee Expense (INR)           4176\n",
       "Reason for Consumption                    4\n",
       "Milk Preference                           2\n",
       "Sugar Preference                          4\n",
       "Awareness of Specialty Coffee             2\n",
       "Frequency of Café Visits (Per Week)       7\n",
       "Preferred Time of Consumption             4\n",
       "Influence of Social Media on Choice       2\n",
       "dtype: int64"
      ]
     },
     "execution_count": 14,
     "metadata": {},
     "output_type": "execute_result"
    }
   ],
   "source": [
    "data.nunique()"
   ]
  },
  {
   "cell_type": "code",
   "execution_count": null,
   "id": "a0847b3f-f5b9-4ba3-889b-0c5ad86058e7",
   "metadata": {},
   "outputs": [],
   "source": []
  },
  {
   "cell_type": "markdown",
   "id": "aba4b1f9-e272-42f0-8751-e1bf13b5192a",
   "metadata": {},
   "source": [
    "# Extract Key Insights"
   ]
  },
  {
   "cell_type": "markdown",
   "id": "8ec8c056-3178-474c-8293-192fee8061dc",
   "metadata": {},
   "source": [
    "### 1️⃣ Which State Consumes the Most Coffee?"
   ]
  },
  {
   "cell_type": "code",
   "execution_count": 24,
   "id": "3ccd2c61-d6c2-4746-922a-652738f954a9",
   "metadata": {},
   "outputs": [
    {
     "data": {
      "text/plain": [
       "State\n",
       "Maharashtra      2004\n",
       "Gujarat          1037\n",
       "Telangana        1028\n",
       "Delhi            1025\n",
       "Karnataka        1007\n",
       "West Bengal      1001\n",
       "Uttar Pradesh     981\n",
       "Tamil Nadu        976\n",
       "Rajasthan         941\n",
       "Name: count, dtype: int64"
      ]
     },
     "execution_count": 24,
     "metadata": {},
     "output_type": "execute_result"
    }
   ],
   "source": [
    "# shows number of consumers in each state\n",
    "data['State'].value_counts()"
   ]
  },
  {
   "cell_type": "code",
   "execution_count": 32,
   "id": "a99ff1cf-e8e8-4d8b-8761-e1752637bb3f",
   "metadata": {},
   "outputs": [],
   "source": [
    "# shows daily cups consumed in each state\n",
    "consumer_state = data.groupby('State')['Daily Cups Consumed'].sum().sort_values(ascending = False)"
   ]
  },
  {
   "cell_type": "code",
   "execution_count": 34,
   "id": "b2b1f4ac-895f-422d-837f-601e08c36b79",
   "metadata": {},
   "outputs": [
    {
     "data": {
      "text/plain": [
       "State\n",
       "Maharashtra      6068\n",
       "Delhi            3150\n",
       "Gujarat          3116\n",
       "Telangana        3106\n",
       "West Bengal      3042\n",
       "Karnataka        2961\n",
       "Tamil Nadu       2889\n",
       "Uttar Pradesh    2870\n",
       "Rajasthan        2860\n",
       "Name: Daily Cups Consumed, dtype: int64"
      ]
     },
     "execution_count": 34,
     "metadata": {},
     "output_type": "execute_result"
    }
   ],
   "source": [
    "consumer_state"
   ]
  },
  {
   "cell_type": "code",
   "execution_count": 44,
   "id": "8f4b9658-0fc1-442a-bd65-474d905cf851",
   "metadata": {},
   "outputs": [
    {
     "data": {
      "text/plain": [
       "'Maharashtra'"
      ]
     },
     "execution_count": 44,
     "metadata": {},
     "output_type": "execute_result"
    }
   ],
   "source": [
    "# the state that consumes the most coffee\n",
    "consumer_state.idxmax()"
   ]
  },
  {
   "cell_type": "code",
   "execution_count": null,
   "id": "29a5144d-45c0-4f2a-b29a-0234f25c8a84",
   "metadata": {},
   "outputs": [],
   "source": []
  },
  {
   "cell_type": "markdown",
   "id": "efcefaf0-3b61-4cdc-b1bf-630d152b4fe3",
   "metadata": {},
   "source": [
    "### 2️⃣ Which State Has the Highest Per Capita Coffee Consumption?"
   ]
  },
  {
   "cell_type": "code",
   "execution_count": 49,
   "id": "86afa4e9-e1fb-429a-91a1-417b267690d6",
   "metadata": {},
   "outputs": [],
   "source": [
    "state_average_consumption = data.groupby('State')['Daily Cups Consumed'].mean().sort_values(ascending = False)"
   ]
  },
  {
   "cell_type": "code",
   "execution_count": 51,
   "id": "301f42c0-08c4-4e98-aa1c-0b33d20d0483",
   "metadata": {},
   "outputs": [
    {
     "data": {
      "text/plain": [
       "State\n",
       "Delhi            3.073171\n",
       "Rajasthan        3.039320\n",
       "West Bengal      3.038961\n",
       "Maharashtra      3.027944\n",
       "Telangana        3.021401\n",
       "Gujarat          3.004822\n",
       "Tamil Nadu       2.960041\n",
       "Karnataka        2.940417\n",
       "Uttar Pradesh    2.925586\n",
       "Name: Daily Cups Consumed, dtype: float64"
      ]
     },
     "execution_count": 51,
     "metadata": {},
     "output_type": "execute_result"
    }
   ],
   "source": [
    "state_average_consumption"
   ]
  },
  {
   "cell_type": "code",
   "execution_count": null,
   "id": "795a7dfd-90f7-4cab-a1ef-44c065078f34",
   "metadata": {},
   "outputs": [],
   "source": []
  },
  {
   "cell_type": "markdown",
   "id": "cdf21536-04e7-4e9b-baf2-e236d62bd814",
   "metadata": {},
   "source": [
    "### 4️⃣ Identify the Fastest Growing Coffee Markets (States with Highest Growth Rate)"
   ]
  },
  {
   "cell_type": "code",
   "execution_count": 54,
   "id": "3a002a62-1ebd-4354-b2e6-a51db2a7c395",
   "metadata": {},
   "outputs": [
    {
     "data": {
      "text/plain": [
       "Age Group\n",
       "50+      2576\n",
       "36-50    2488\n",
       "18-25    2469\n",
       "26-35    2467\n",
       "Name: count, dtype: int64"
      ]
     },
     "execution_count": 54,
     "metadata": {},
     "output_type": "execute_result"
    }
   ],
   "source": [
    "data['Age Group'].value_counts()"
   ]
  },
  {
   "cell_type": "code",
   "execution_count": 56,
   "id": "4c469bed-5d88-4480-8d39-f682b449155f",
   "metadata": {},
   "outputs": [
    {
     "data": {
      "text/plain": [
       "State          Age Group\n",
       "Delhi          50+          282\n",
       "               36-50        253\n",
       "               26-35        249\n",
       "               18-25        241\n",
       "Gujarat        50+          281\n",
       "               18-25        271\n",
       "               36-50        256\n",
       "               26-35        229\n",
       "Karnataka      36-50        263\n",
       "               50+          261\n",
       "               18-25        244\n",
       "               26-35        239\n",
       "Maharashtra    50+          520\n",
       "               26-35        516\n",
       "               36-50        492\n",
       "               18-25        476\n",
       "Rajasthan      36-50        243\n",
       "               50+          241\n",
       "               26-35        238\n",
       "               18-25        219\n",
       "Tamil Nadu     26-35        263\n",
       "               36-50        242\n",
       "               18-25        240\n",
       "               50+          231\n",
       "Telangana      50+          263\n",
       "               18-25        257\n",
       "               26-35        257\n",
       "               36-50        251\n",
       "Uttar Pradesh  18-25        251\n",
       "               50+          251\n",
       "               26-35        246\n",
       "               36-50        233\n",
       "West Bengal    18-25        270\n",
       "               36-50        255\n",
       "               50+          246\n",
       "               26-35        230\n",
       "Name: count, dtype: int64"
      ]
     },
     "execution_count": 56,
     "metadata": {},
     "output_type": "execute_result"
    }
   ],
   "source": [
    "data.groupby('State')['Age Group'].value_counts()"
   ]
  },
  {
   "cell_type": "code",
   "execution_count": 58,
   "id": "7143b9e2-162b-4963-95c6-8b8e38ac8de9",
   "metadata": {},
   "outputs": [
    {
     "data": {
      "text/plain": [
       "Gender\n",
       "Other     3373\n",
       "Male      3361\n",
       "Female    3266\n",
       "Name: count, dtype: int64"
      ]
     },
     "execution_count": 58,
     "metadata": {},
     "output_type": "execute_result"
    }
   ],
   "source": [
    "data['Gender'].value_counts()"
   ]
  },
  {
   "cell_type": "code",
   "execution_count": 60,
   "id": "d34bd7aa-10d3-4828-ad1c-cfeb40324a53",
   "metadata": {},
   "outputs": [
    {
     "data": {
      "text/plain": [
       "Gender  Age Group\n",
       "Female  50+          839\n",
       "        26-35        818\n",
       "        18-25        813\n",
       "        36-50        796\n",
       "Male    50+          871\n",
       "        36-50        860\n",
       "        26-35        825\n",
       "        18-25        805\n",
       "Other   50+          866\n",
       "        18-25        851\n",
       "        36-50        832\n",
       "        26-35        824\n",
       "Name: count, dtype: int64"
      ]
     },
     "execution_count": 60,
     "metadata": {},
     "output_type": "execute_result"
    }
   ],
   "source": [
    "data.groupby('Gender')['Age Group'].value_counts()"
   ]
  },
  {
   "cell_type": "code",
   "execution_count": 62,
   "id": "ce0026ee-6cdf-45d7-8b17-ce2ffaf11651",
   "metadata": {},
   "outputs": [
    {
     "data": {
      "text/plain": [
       "Coffee Type\n",
       "Filter Coffee    2091\n",
       "Espresso         1992\n",
       "Cold Coffee      1980\n",
       "Brewed           1977\n",
       "Instant          1960\n",
       "Name: count, dtype: int64"
      ]
     },
     "execution_count": 62,
     "metadata": {},
     "output_type": "execute_result"
    }
   ],
   "source": [
    "data['Coffee Type'].value_counts()"
   ]
  },
  {
   "cell_type": "code",
   "execution_count": 64,
   "id": "ab99e01a-8d65-4ae9-8597-a477b4676986",
   "metadata": {},
   "outputs": [
    {
     "data": {
      "text/plain": [
       "Preferred Coffee Brand\n",
       "Others         2079\n",
       "Bru            2025\n",
       "Nestlé         2011\n",
       "Starbucks      1946\n",
       "Local Brand    1939\n",
       "Name: count, dtype: int64"
      ]
     },
     "execution_count": 64,
     "metadata": {},
     "output_type": "execute_result"
    }
   ],
   "source": [
    "data['Preferred Coffee Brand'].value_counts()"
   ]
  },
  {
   "cell_type": "code",
   "execution_count": 66,
   "id": "edb684b4-693a-4f0d-98a9-1779ba84e174",
   "metadata": {},
   "outputs": [
    {
     "data": {
      "text/plain": [
       "Milk Preference\n",
       "Yes    5016\n",
       "No     4984\n",
       "Name: count, dtype: int64"
      ]
     },
     "execution_count": 66,
     "metadata": {},
     "output_type": "execute_result"
    }
   ],
   "source": [
    "data['Milk Preference'].value_counts()"
   ]
  },
  {
   "cell_type": "code",
   "execution_count": 68,
   "id": "733195f0-0765-426b-a476-c505f05339b9",
   "metadata": {},
   "outputs": [
    {
     "data": {
      "text/plain": [
       "Sugar Preference\n",
       "Medium Sugar    2507\n",
       "High Sugar      2504\n",
       "Less Sugar      2498\n",
       "No Sugar        2491\n",
       "Name: count, dtype: int64"
      ]
     },
     "execution_count": 68,
     "metadata": {},
     "output_type": "execute_result"
    }
   ],
   "source": [
    "data['Sugar Preference'].value_counts()"
   ]
  },
  {
   "cell_type": "code",
   "execution_count": 70,
   "id": "b65120ff-d1ee-40fa-904c-70fbc8ac4061",
   "metadata": {},
   "outputs": [
    {
     "data": {
      "text/plain": [
       "Reason for Consumption\n",
       "Energy         2655\n",
       "Socializing    2498\n",
       "Taste          2481\n",
       "Habit          2366\n",
       "Name: count, dtype: int64"
      ]
     },
     "execution_count": 70,
     "metadata": {},
     "output_type": "execute_result"
    }
   ],
   "source": [
    "data['Reason for Consumption'].value_counts()"
   ]
  },
  {
   "cell_type": "code",
   "execution_count": 72,
   "id": "958a0405-9f7e-447c-b7df-effe3a9c9c40",
   "metadata": {},
   "outputs": [
    {
     "data": {
      "text/plain": [
       "Influence of Social Media on Choice\n",
       "Yes    5025\n",
       "No     4975\n",
       "Name: count, dtype: int64"
      ]
     },
     "execution_count": 72,
     "metadata": {},
     "output_type": "execute_result"
    }
   ],
   "source": [
    "data['Influence of Social Media on Choice'].value_counts()"
   ]
  },
  {
   "cell_type": "code",
   "execution_count": 74,
   "id": "d108cdc1-6738-4280-a238-5531a74d6b3d",
   "metadata": {},
   "outputs": [
    {
     "data": {
      "text/plain": [
       "Preferred Time of Consumption\n",
       "Morning      2535\n",
       "Night        2531\n",
       "Afternoon    2485\n",
       "Evening      2449\n",
       "Name: count, dtype: int64"
      ]
     },
     "execution_count": 74,
     "metadata": {},
     "output_type": "execute_result"
    }
   ],
   "source": [
    "data['Preferred Time of Consumption'].value_counts()"
   ]
  },
  {
   "cell_type": "code",
   "execution_count": 86,
   "id": "e9f76c12-8a2c-45a4-9f71-3c20133ed2f8",
   "metadata": {},
   "outputs": [
    {
     "data": {
      "text/plain": [
       "State\n",
       "Delhi            2641930\n",
       "Gujarat          2676243\n",
       "Karnataka        2559971\n",
       "Maharashtra      5162685\n",
       "Rajasthan        2467203\n",
       "Tamil Nadu       2520074\n",
       "Telangana        2640815\n",
       "Uttar Pradesh    2527525\n",
       "West Bengal      2557407\n",
       "Name: Monthly Coffee Expense (INR), dtype: int64"
      ]
     },
     "execution_count": 86,
     "metadata": {},
     "output_type": "execute_result"
    }
   ],
   "source": [
    "data.groupby('State')['Monthly Coffee Expense (INR)'].sum()"
   ]
  },
  {
   "cell_type": "code",
   "execution_count": 88,
   "id": "1d2e2545-db90-4046-b3d8-c3a29eb39a22",
   "metadata": {},
   "outputs": [
    {
     "data": {
      "text/plain": [
       "Consumption Setting\n",
       "Home      3344\n",
       "Office    3329\n",
       "Café      3327\n",
       "Name: count, dtype: int64"
      ]
     },
     "execution_count": 88,
     "metadata": {},
     "output_type": "execute_result"
    }
   ],
   "source": [
    "data['Consumption Setting'].value_counts()"
   ]
  },
  {
   "cell_type": "code",
   "execution_count": 90,
   "id": "d17faa94-1666-4d8b-bebe-8271a43f8924",
   "metadata": {},
   "outputs": [
    {
     "data": {
      "text/plain": [
       "Gender  Consumption Setting\n",
       "Female  Café                   1108\n",
       "        Home                   1090\n",
       "        Office                 1068\n",
       "Male    Office                 1153\n",
       "        Home                   1139\n",
       "        Café                   1069\n",
       "Other   Café                   1150\n",
       "        Home                   1115\n",
       "        Office                 1108\n",
       "Name: count, dtype: int64"
      ]
     },
     "execution_count": 90,
     "metadata": {},
     "output_type": "execute_result"
    }
   ],
   "source": [
    "data.groupby('Gender')['Consumption Setting'].value_counts()"
   ]
  },
  {
   "cell_type": "code",
   "execution_count": 92,
   "id": "71d5bdba-8329-424a-b1ca-2cd30ea40327",
   "metadata": {},
   "outputs": [
    {
     "data": {
      "text/plain": [
       "Age Group  Consumption Setting\n",
       "18-25      Home                   831\n",
       "           Café                   827\n",
       "           Office                 811\n",
       "26-35      Café                   831\n",
       "           Home                   828\n",
       "           Office                 808\n",
       "36-50      Café                   833\n",
       "           Office                 829\n",
       "           Home                   826\n",
       "50+        Office                 881\n",
       "           Home                   859\n",
       "           Café                   836\n",
       "Name: count, dtype: int64"
      ]
     },
     "execution_count": 92,
     "metadata": {},
     "output_type": "execute_result"
    }
   ],
   "source": [
    "data.groupby('Age Group')['Consumption Setting'].value_counts()"
   ]
  },
  {
   "cell_type": "code",
   "execution_count": null,
   "id": "6f1d83e4-c983-4d3b-b209-e8f55c72871b",
   "metadata": {},
   "outputs": [],
   "source": []
  }
 ],
 "metadata": {
  "kernelspec": {
   "display_name": "Python [conda env:base] *",
   "language": "python",
   "name": "conda-base-py"
  },
  "language_info": {
   "codemirror_mode": {
    "name": "ipython",
    "version": 3
   },
   "file_extension": ".py",
   "mimetype": "text/x-python",
   "name": "python",
   "nbconvert_exporter": "python",
   "pygments_lexer": "ipython3",
   "version": "3.12.7"
  }
 },
 "nbformat": 4,
 "nbformat_minor": 5
}
