{
 "cells": [
  {
   "cell_type": "code",
   "execution_count": 1,
   "id": "31677b7d-be82-4ebb-bcf0-ffaf80318e43",
   "metadata": {},
   "outputs": [],
   "source": [
    "import pandas as pd\n",
    "import numpy as np"
   ]
  },
  {
   "cell_type": "raw",
   "id": "49f0ba33-7477-489e-98d0-ad099ee18441",
   "metadata": {},
   "source": [
    "Exercise 1: Cleaning and Splitting Full Names\n",
    "Scenario:\n",
    "You have a DataFrame with a column \"Full_Name\" that contains names with extra spaces and inconsistent capitalization. Your tasks are to clean the names by trimming extra spaces, converting them to title case, and then splitting them into first and last names."
   ]
  },
  {
   "cell_type": "code",
   "execution_count": 2,
   "id": "7399f8d2-45ac-4f87-8806-b8b5e22bd2d8",
   "metadata": {},
   "outputs": [],
   "source": [
    "data = {\n",
    "    'Full Name': [\n",
    "        '   alice johnson   ',\n",
    "        'BOB SMITH',\n",
    "        '  charlie brown ',\n",
    "        None  # Represents missing data\n",
    "    ]\n",
    "}\n",
    "names = pd.DataFrame(data)"
   ]
  },
  {
   "cell_type": "code",
   "execution_count": 3,
   "id": "ee6c9cc3-aac5-4cd9-baf1-44374cb7f0bb",
   "metadata": {},
   "outputs": [
    {
     "name": "stdout",
     "output_type": "stream",
     "text": [
      "             Full Name\n",
      "0     alice johnson   \n",
      "1            BOB SMITH\n",
      "2       charlie brown \n",
      "3                 None\n"
     ]
    }
   ],
   "source": [
    "print(names)"
   ]
  },
  {
   "cell_type": "raw",
   "id": "88789b96-7213-44ef-bfa3-9c683579323c",
   "metadata": {},
   "source": [
    "Clean the names:"
   ]
  },
  {
   "cell_type": "code",
   "execution_count": 4,
   "id": "be18c666-d426-4770-9c19-069739547d93",
   "metadata": {},
   "outputs": [],
   "source": [
    "names['Clean Name'] = names['Full Name'].str.strip().str.title()"
   ]
  },
  {
   "cell_type": "code",
   "execution_count": 5,
   "id": "367721d1-c558-4b12-8d58-56e4a3c79e0e",
   "metadata": {},
   "outputs": [
    {
     "name": "stdout",
     "output_type": "stream",
     "text": [
      "             Full Name     Clean Name\n",
      "0     alice johnson     Alice Johnson\n",
      "1            BOB SMITH      Bob Smith\n",
      "2       charlie brown   Charlie Brown\n",
      "3                 None           None\n"
     ]
    }
   ],
   "source": [
    "print(names)"
   ]
  },
  {
   "cell_type": "raw",
   "id": "3a54e762-1fa5-4d39-9960-4ce50548dd70",
   "metadata": {},
   "source": [
    "Split into first and last names:"
   ]
  },
  {
   "cell_type": "code",
   "execution_count": 6,
   "id": "cc1e95a9-307e-4aea-8d1e-a7dda9730e83",
   "metadata": {},
   "outputs": [],
   "source": [
    "names['First Name'] = names['Clean Name'].str.split().str[0]\n",
    "names['Last Name'] = names['Clean Name'].str.split().str[-1]"
   ]
  },
  {
   "cell_type": "code",
   "execution_count": 7,
   "id": "e3c075b5-d604-4e59-a65a-60212754e007",
   "metadata": {},
   "outputs": [
    {
     "data": {
      "text/html": [
       "<div>\n",
       "<style scoped>\n",
       "    .dataframe tbody tr th:only-of-type {\n",
       "        vertical-align: middle;\n",
       "    }\n",
       "\n",
       "    .dataframe tbody tr th {\n",
       "        vertical-align: top;\n",
       "    }\n",
       "\n",
       "    .dataframe thead th {\n",
       "        text-align: right;\n",
       "    }\n",
       "</style>\n",
       "<table border=\"1\" class=\"dataframe\">\n",
       "  <thead>\n",
       "    <tr style=\"text-align: right;\">\n",
       "      <th></th>\n",
       "      <th>Full Name</th>\n",
       "      <th>Clean Name</th>\n",
       "      <th>First Name</th>\n",
       "      <th>Last Name</th>\n",
       "    </tr>\n",
       "  </thead>\n",
       "  <tbody>\n",
       "    <tr>\n",
       "      <th>0</th>\n",
       "      <td>alice johnson</td>\n",
       "      <td>Alice Johnson</td>\n",
       "      <td>Alice</td>\n",
       "      <td>Johnson</td>\n",
       "    </tr>\n",
       "    <tr>\n",
       "      <th>1</th>\n",
       "      <td>BOB SMITH</td>\n",
       "      <td>Bob Smith</td>\n",
       "      <td>Bob</td>\n",
       "      <td>Smith</td>\n",
       "    </tr>\n",
       "    <tr>\n",
       "      <th>2</th>\n",
       "      <td>charlie brown</td>\n",
       "      <td>Charlie Brown</td>\n",
       "      <td>Charlie</td>\n",
       "      <td>Brown</td>\n",
       "    </tr>\n",
       "    <tr>\n",
       "      <th>3</th>\n",
       "      <td>None</td>\n",
       "      <td>None</td>\n",
       "      <td>None</td>\n",
       "      <td>None</td>\n",
       "    </tr>\n",
       "  </tbody>\n",
       "</table>\n",
       "</div>"
      ],
      "text/plain": [
       "             Full Name     Clean Name First Name Last Name\n",
       "0     alice johnson     Alice Johnson      Alice   Johnson\n",
       "1            BOB SMITH      Bob Smith        Bob     Smith\n",
       "2       charlie brown   Charlie Brown    Charlie     Brown\n",
       "3                 None           None       None      None"
      ]
     },
     "execution_count": 7,
     "metadata": {},
     "output_type": "execute_result"
    }
   ],
   "source": [
    "names"
   ]
  },
  {
   "cell_type": "code",
   "execution_count": null,
   "id": "f8f31601-e193-4462-bcc4-963e84f34fd6",
   "metadata": {},
   "outputs": [],
   "source": []
  },
  {
   "cell_type": "raw",
   "id": "6eab15e6-b234-4f93-934e-91f63f8d825d",
   "metadata": {},
   "source": [
    "Exercise 2: Extracting Email Domains\n",
    "Scenario:\n",
    "You have a column of email addresses and you need to extract the domain part (the portion after the \"@\") for further analysis."
   ]
  },
  {
   "cell_type": "code",
   "execution_count": 8,
   "id": "eb32bbff-d487-4e39-a9ea-21a2536ff9c8",
   "metadata": {},
   "outputs": [],
   "source": [
    "data = {\n",
    "    'Name': [\n",
    "        'Alice Smith', 'Bob Johnson', 'Charlie Lee', 'Diana Brown',\n",
    "        'Evan Davis', 'Fiona Miller', 'George Wilson', 'Hannah Taylor',\n",
    "        'Ian Clark', 'Julia Roberts'\n",
    "    ],\n",
    "    'Email': [\n",
    "        'alice.smith@example.com',\n",
    "        'bob.johnson@gmail.com',\n",
    "        'charlie.lee@yahoo.com',\n",
    "        'diana.brown@outlook.com',\n",
    "        'evan.davis@domain.com',\n",
    "        'fiona.miller@service.org',\n",
    "        'george.wilson@mail.com',\n",
    "        'hannah.taylor@provider.net',\n",
    "        'ian.clark@webmail.co',\n",
    "        'julia.roberts@internet.com'\n",
    "    ]\n",
    "}\n",
    "\n",
    "df = pd.DataFrame(data)"
   ]
  },
  {
   "cell_type": "code",
   "execution_count": 9,
   "id": "bc23a205-99be-4845-acd4-1b91a1b36dae",
   "metadata": {},
   "outputs": [
    {
     "data": {
      "text/html": [
       "<div>\n",
       "<style scoped>\n",
       "    .dataframe tbody tr th:only-of-type {\n",
       "        vertical-align: middle;\n",
       "    }\n",
       "\n",
       "    .dataframe tbody tr th {\n",
       "        vertical-align: top;\n",
       "    }\n",
       "\n",
       "    .dataframe thead th {\n",
       "        text-align: right;\n",
       "    }\n",
       "</style>\n",
       "<table border=\"1\" class=\"dataframe\">\n",
       "  <thead>\n",
       "    <tr style=\"text-align: right;\">\n",
       "      <th></th>\n",
       "      <th>Name</th>\n",
       "      <th>Email</th>\n",
       "    </tr>\n",
       "  </thead>\n",
       "  <tbody>\n",
       "    <tr>\n",
       "      <th>0</th>\n",
       "      <td>Alice Smith</td>\n",
       "      <td>alice.smith@example.com</td>\n",
       "    </tr>\n",
       "    <tr>\n",
       "      <th>1</th>\n",
       "      <td>Bob Johnson</td>\n",
       "      <td>bob.johnson@gmail.com</td>\n",
       "    </tr>\n",
       "    <tr>\n",
       "      <th>2</th>\n",
       "      <td>Charlie Lee</td>\n",
       "      <td>charlie.lee@yahoo.com</td>\n",
       "    </tr>\n",
       "    <tr>\n",
       "      <th>3</th>\n",
       "      <td>Diana Brown</td>\n",
       "      <td>diana.brown@outlook.com</td>\n",
       "    </tr>\n",
       "    <tr>\n",
       "      <th>4</th>\n",
       "      <td>Evan Davis</td>\n",
       "      <td>evan.davis@domain.com</td>\n",
       "    </tr>\n",
       "    <tr>\n",
       "      <th>5</th>\n",
       "      <td>Fiona Miller</td>\n",
       "      <td>fiona.miller@service.org</td>\n",
       "    </tr>\n",
       "    <tr>\n",
       "      <th>6</th>\n",
       "      <td>George Wilson</td>\n",
       "      <td>george.wilson@mail.com</td>\n",
       "    </tr>\n",
       "    <tr>\n",
       "      <th>7</th>\n",
       "      <td>Hannah Taylor</td>\n",
       "      <td>hannah.taylor@provider.net</td>\n",
       "    </tr>\n",
       "    <tr>\n",
       "      <th>8</th>\n",
       "      <td>Ian Clark</td>\n",
       "      <td>ian.clark@webmail.co</td>\n",
       "    </tr>\n",
       "    <tr>\n",
       "      <th>9</th>\n",
       "      <td>Julia Roberts</td>\n",
       "      <td>julia.roberts@internet.com</td>\n",
       "    </tr>\n",
       "  </tbody>\n",
       "</table>\n",
       "</div>"
      ],
      "text/plain": [
       "            Name                       Email\n",
       "0    Alice Smith     alice.smith@example.com\n",
       "1    Bob Johnson       bob.johnson@gmail.com\n",
       "2    Charlie Lee       charlie.lee@yahoo.com\n",
       "3    Diana Brown     diana.brown@outlook.com\n",
       "4     Evan Davis       evan.davis@domain.com\n",
       "5   Fiona Miller    fiona.miller@service.org\n",
       "6  George Wilson      george.wilson@mail.com\n",
       "7  Hannah Taylor  hannah.taylor@provider.net\n",
       "8      Ian Clark        ian.clark@webmail.co\n",
       "9  Julia Roberts  julia.roberts@internet.com"
      ]
     },
     "execution_count": 9,
     "metadata": {},
     "output_type": "execute_result"
    }
   ],
   "source": [
    "df"
   ]
  },
  {
   "cell_type": "code",
   "execution_count": 10,
   "id": "e5f7452f-e54d-4a45-889f-822953b72b6e",
   "metadata": {},
   "outputs": [],
   "source": [
    "df['Domain'] = df['Email'].str.extract(r\"@([\\w.-]+)\")"
   ]
  },
  {
   "cell_type": "code",
   "execution_count": 11,
   "id": "69d2c064-e01e-475a-9c57-6d558cdc5302",
   "metadata": {},
   "outputs": [
    {
     "data": {
      "text/html": [
       "<div>\n",
       "<style scoped>\n",
       "    .dataframe tbody tr th:only-of-type {\n",
       "        vertical-align: middle;\n",
       "    }\n",
       "\n",
       "    .dataframe tbody tr th {\n",
       "        vertical-align: top;\n",
       "    }\n",
       "\n",
       "    .dataframe thead th {\n",
       "        text-align: right;\n",
       "    }\n",
       "</style>\n",
       "<table border=\"1\" class=\"dataframe\">\n",
       "  <thead>\n",
       "    <tr style=\"text-align: right;\">\n",
       "      <th></th>\n",
       "      <th>Name</th>\n",
       "      <th>Email</th>\n",
       "      <th>Domain</th>\n",
       "    </tr>\n",
       "  </thead>\n",
       "  <tbody>\n",
       "    <tr>\n",
       "      <th>0</th>\n",
       "      <td>Alice Smith</td>\n",
       "      <td>alice.smith@example.com</td>\n",
       "      <td>example.com</td>\n",
       "    </tr>\n",
       "    <tr>\n",
       "      <th>1</th>\n",
       "      <td>Bob Johnson</td>\n",
       "      <td>bob.johnson@gmail.com</td>\n",
       "      <td>gmail.com</td>\n",
       "    </tr>\n",
       "    <tr>\n",
       "      <th>2</th>\n",
       "      <td>Charlie Lee</td>\n",
       "      <td>charlie.lee@yahoo.com</td>\n",
       "      <td>yahoo.com</td>\n",
       "    </tr>\n",
       "    <tr>\n",
       "      <th>3</th>\n",
       "      <td>Diana Brown</td>\n",
       "      <td>diana.brown@outlook.com</td>\n",
       "      <td>outlook.com</td>\n",
       "    </tr>\n",
       "    <tr>\n",
       "      <th>4</th>\n",
       "      <td>Evan Davis</td>\n",
       "      <td>evan.davis@domain.com</td>\n",
       "      <td>domain.com</td>\n",
       "    </tr>\n",
       "    <tr>\n",
       "      <th>5</th>\n",
       "      <td>Fiona Miller</td>\n",
       "      <td>fiona.miller@service.org</td>\n",
       "      <td>service.org</td>\n",
       "    </tr>\n",
       "    <tr>\n",
       "      <th>6</th>\n",
       "      <td>George Wilson</td>\n",
       "      <td>george.wilson@mail.com</td>\n",
       "      <td>mail.com</td>\n",
       "    </tr>\n",
       "    <tr>\n",
       "      <th>7</th>\n",
       "      <td>Hannah Taylor</td>\n",
       "      <td>hannah.taylor@provider.net</td>\n",
       "      <td>provider.net</td>\n",
       "    </tr>\n",
       "    <tr>\n",
       "      <th>8</th>\n",
       "      <td>Ian Clark</td>\n",
       "      <td>ian.clark@webmail.co</td>\n",
       "      <td>webmail.co</td>\n",
       "    </tr>\n",
       "    <tr>\n",
       "      <th>9</th>\n",
       "      <td>Julia Roberts</td>\n",
       "      <td>julia.roberts@internet.com</td>\n",
       "      <td>internet.com</td>\n",
       "    </tr>\n",
       "  </tbody>\n",
       "</table>\n",
       "</div>"
      ],
      "text/plain": [
       "            Name                       Email        Domain\n",
       "0    Alice Smith     alice.smith@example.com   example.com\n",
       "1    Bob Johnson       bob.johnson@gmail.com     gmail.com\n",
       "2    Charlie Lee       charlie.lee@yahoo.com     yahoo.com\n",
       "3    Diana Brown     diana.brown@outlook.com   outlook.com\n",
       "4     Evan Davis       evan.davis@domain.com    domain.com\n",
       "5   Fiona Miller    fiona.miller@service.org   service.org\n",
       "6  George Wilson      george.wilson@mail.com      mail.com\n",
       "7  Hannah Taylor  hannah.taylor@provider.net  provider.net\n",
       "8      Ian Clark        ian.clark@webmail.co    webmail.co\n",
       "9  Julia Roberts  julia.roberts@internet.com  internet.com"
      ]
     },
     "execution_count": 11,
     "metadata": {},
     "output_type": "execute_result"
    }
   ],
   "source": [
    "df"
   ]
  },
  {
   "cell_type": "code",
   "execution_count": null,
   "id": "4b5aacfa-b148-49ea-9e9b-7126d0b97a13",
   "metadata": {},
   "outputs": [],
   "source": []
  },
  {
   "cell_type": "raw",
   "id": "fcbf74c3-19e4-48ba-8bf0-5046c21d1c52",
   "metadata": {},
   "source": [
    "Exercise 3: Cleaning Product Descriptions and Extracting Numbers\n",
    "Scenario:\n",
    "You have a DataFrame with a column \"Description\" that contains product descriptions with embedded numbers. Your tasks are to:\n",
    "\n",
    "1. Remove any unwanted characters.\n",
    "2. Extract all numbers (for example, product codes or quantities) from each description."
   ]
  },
  {
   "cell_type": "code",
   "execution_count": 12,
   "id": "7f1a7cfc-08ad-4c7a-8c77-3419e966233f",
   "metadata": {},
   "outputs": [],
   "source": [
    "data = {\n",
    "    'Description': [\n",
    "        \"Product 123: The best gadget!\",\n",
    "        \"Model 456 is now available.\",\n",
    "        \"No numbers here, just text.\",\n",
    "        \"Version 789 update released.\"\n",
    "    ]\n",
    "}\n",
    "desc = pd.DataFrame(data)"
   ]
  },
  {
   "cell_type": "code",
   "execution_count": 13,
   "id": "cd203621-c467-4fba-b4bb-afe1c55929d2",
   "metadata": {},
   "outputs": [
    {
     "name": "stdout",
     "output_type": "stream",
     "text": [
      "                     Description\n",
      "0  Product 123: The best gadget!\n",
      "1    Model 456 is now available.\n",
      "2    No numbers here, just text.\n",
      "3   Version 789 update released.\n"
     ]
    }
   ],
   "source": [
    "print(desc)"
   ]
  },
  {
   "cell_type": "code",
   "execution_count": 14,
   "id": "ab7e8ea3-3b0f-400c-b480-1cb0dd6f0989",
   "metadata": {},
   "outputs": [],
   "source": [
    "desc['Description'] = desc['Description'].str.replace(r\"[.!,:]\", '', regex = True)"
   ]
  },
  {
   "cell_type": "code",
   "execution_count": 15,
   "id": "4d09bdda-39a3-4b62-ba8b-a118a25ab1c2",
   "metadata": {},
   "outputs": [
    {
     "data": {
      "text/html": [
       "<div>\n",
       "<style scoped>\n",
       "    .dataframe tbody tr th:only-of-type {\n",
       "        vertical-align: middle;\n",
       "    }\n",
       "\n",
       "    .dataframe tbody tr th {\n",
       "        vertical-align: top;\n",
       "    }\n",
       "\n",
       "    .dataframe thead th {\n",
       "        text-align: right;\n",
       "    }\n",
       "</style>\n",
       "<table border=\"1\" class=\"dataframe\">\n",
       "  <thead>\n",
       "    <tr style=\"text-align: right;\">\n",
       "      <th></th>\n",
       "      <th>Description</th>\n",
       "    </tr>\n",
       "  </thead>\n",
       "  <tbody>\n",
       "    <tr>\n",
       "      <th>0</th>\n",
       "      <td>Product 123 The best gadget</td>\n",
       "    </tr>\n",
       "    <tr>\n",
       "      <th>1</th>\n",
       "      <td>Model 456 is now available</td>\n",
       "    </tr>\n",
       "    <tr>\n",
       "      <th>2</th>\n",
       "      <td>No numbers here just text</td>\n",
       "    </tr>\n",
       "    <tr>\n",
       "      <th>3</th>\n",
       "      <td>Version 789 update released</td>\n",
       "    </tr>\n",
       "  </tbody>\n",
       "</table>\n",
       "</div>"
      ],
      "text/plain": [
       "                   Description\n",
       "0  Product 123 The best gadget\n",
       "1   Model 456 is now available\n",
       "2    No numbers here just text\n",
       "3  Version 789 update released"
      ]
     },
     "execution_count": 15,
     "metadata": {},
     "output_type": "execute_result"
    }
   ],
   "source": [
    "desc"
   ]
  },
  {
   "cell_type": "code",
   "execution_count": 16,
   "id": "e7ef7faf-aac3-4c61-a913-422545c3fcbd",
   "metadata": {},
   "outputs": [],
   "source": [
    "desc['Numbers'] = desc['Description'].str.extract(r\"(\\d+)\")"
   ]
  },
  {
   "cell_type": "code",
   "execution_count": 17,
   "id": "3b2b737f-e94e-4153-8832-3de5af61b4b5",
   "metadata": {},
   "outputs": [
    {
     "data": {
      "text/html": [
       "<div>\n",
       "<style scoped>\n",
       "    .dataframe tbody tr th:only-of-type {\n",
       "        vertical-align: middle;\n",
       "    }\n",
       "\n",
       "    .dataframe tbody tr th {\n",
       "        vertical-align: top;\n",
       "    }\n",
       "\n",
       "    .dataframe thead th {\n",
       "        text-align: right;\n",
       "    }\n",
       "</style>\n",
       "<table border=\"1\" class=\"dataframe\">\n",
       "  <thead>\n",
       "    <tr style=\"text-align: right;\">\n",
       "      <th></th>\n",
       "      <th>Description</th>\n",
       "      <th>Numbers</th>\n",
       "    </tr>\n",
       "  </thead>\n",
       "  <tbody>\n",
       "    <tr>\n",
       "      <th>0</th>\n",
       "      <td>Product 123 The best gadget</td>\n",
       "      <td>123</td>\n",
       "    </tr>\n",
       "    <tr>\n",
       "      <th>1</th>\n",
       "      <td>Model 456 is now available</td>\n",
       "      <td>456</td>\n",
       "    </tr>\n",
       "    <tr>\n",
       "      <th>2</th>\n",
       "      <td>No numbers here just text</td>\n",
       "      <td>NaN</td>\n",
       "    </tr>\n",
       "    <tr>\n",
       "      <th>3</th>\n",
       "      <td>Version 789 update released</td>\n",
       "      <td>789</td>\n",
       "    </tr>\n",
       "  </tbody>\n",
       "</table>\n",
       "</div>"
      ],
      "text/plain": [
       "                   Description Numbers\n",
       "0  Product 123 The best gadget     123\n",
       "1   Model 456 is now available     456\n",
       "2    No numbers here just text     NaN\n",
       "3  Version 789 update released     789"
      ]
     },
     "execution_count": 17,
     "metadata": {},
     "output_type": "execute_result"
    }
   ],
   "source": [
    "desc"
   ]
  },
  {
   "cell_type": "code",
   "execution_count": null,
   "id": "ad3096c4-369a-4311-8854-a67d39399ed4",
   "metadata": {},
   "outputs": [],
   "source": []
  },
  {
   "cell_type": "raw",
   "id": "2d8ba25e-0e3a-4cc0-a1b0-62734f177f2b",
   "metadata": {},
   "source": [
    "Exercise 4: Splitting and Rejoining Address Data\n",
    "Scenario:\n",
    "You have a DataFrame with a column \"Address\" that contains full addresses in the format \"Street, City, State\". You need to split the address into separate columns and then reassemble the address using a different delimiter (for example, a hyphen)."
   ]
  },
  {
   "cell_type": "code",
   "execution_count": 18,
   "id": "02a390e5-520e-4c25-87a4-1585794c1518",
   "metadata": {},
   "outputs": [],
   "source": [
    "data = {\n",
    "    'Address': [\n",
    "        \"123 Main St, Springfield, IL\",\n",
    "        \"456 Oak Ave, Metropolis, NY\",\n",
    "        \"789 Pine Rd, Gotham, NJ\",\n",
    "        \"101 Maple Dr, Star City, CA\",\n",
    "        \"202 Birch Ln, Smallville, KS\"\n",
    "    ]\n",
    "}\n",
    "\n",
    "df = pd.DataFrame(data)"
   ]
  },
  {
   "cell_type": "code",
   "execution_count": 19,
   "id": "5f26f2ab-7df0-4bc2-a157-2cee35ab79f5",
   "metadata": {},
   "outputs": [
    {
     "data": {
      "text/html": [
       "<div>\n",
       "<style scoped>\n",
       "    .dataframe tbody tr th:only-of-type {\n",
       "        vertical-align: middle;\n",
       "    }\n",
       "\n",
       "    .dataframe tbody tr th {\n",
       "        vertical-align: top;\n",
       "    }\n",
       "\n",
       "    .dataframe thead th {\n",
       "        text-align: right;\n",
       "    }\n",
       "</style>\n",
       "<table border=\"1\" class=\"dataframe\">\n",
       "  <thead>\n",
       "    <tr style=\"text-align: right;\">\n",
       "      <th></th>\n",
       "      <th>Address</th>\n",
       "    </tr>\n",
       "  </thead>\n",
       "  <tbody>\n",
       "    <tr>\n",
       "      <th>0</th>\n",
       "      <td>123 Main St, Springfield, IL</td>\n",
       "    </tr>\n",
       "    <tr>\n",
       "      <th>1</th>\n",
       "      <td>456 Oak Ave, Metropolis, NY</td>\n",
       "    </tr>\n",
       "    <tr>\n",
       "      <th>2</th>\n",
       "      <td>789 Pine Rd, Gotham, NJ</td>\n",
       "    </tr>\n",
       "    <tr>\n",
       "      <th>3</th>\n",
       "      <td>101 Maple Dr, Star City, CA</td>\n",
       "    </tr>\n",
       "    <tr>\n",
       "      <th>4</th>\n",
       "      <td>202 Birch Ln, Smallville, KS</td>\n",
       "    </tr>\n",
       "  </tbody>\n",
       "</table>\n",
       "</div>"
      ],
      "text/plain": [
       "                        Address\n",
       "0  123 Main St, Springfield, IL\n",
       "1   456 Oak Ave, Metropolis, NY\n",
       "2       789 Pine Rd, Gotham, NJ\n",
       "3   101 Maple Dr, Star City, CA\n",
       "4  202 Birch Ln, Smallville, KS"
      ]
     },
     "execution_count": 19,
     "metadata": {},
     "output_type": "execute_result"
    }
   ],
   "source": [
    "df"
   ]
  },
  {
   "cell_type": "code",
   "execution_count": 20,
   "id": "7d0990f9-da72-4396-af9c-73922ffe666a",
   "metadata": {},
   "outputs": [],
   "source": [
    "df[['Street', 'City', 'State']] = df['Address'].str.split(',', expand = True)"
   ]
  },
  {
   "cell_type": "code",
   "execution_count": 21,
   "id": "d64295df-b6d3-4dc6-bf5f-5dfc8b7a0343",
   "metadata": {},
   "outputs": [],
   "source": [
    "df['Street'] = df['Street'].str.strip()\n",
    "df['City'] = df['City'].str.strip()\n",
    "df['State'] = df['State'].str.strip()"
   ]
  },
  {
   "cell_type": "code",
   "execution_count": 22,
   "id": "bc453b3a-bb94-411f-bde4-57d48b02bf1e",
   "metadata": {},
   "outputs": [
    {
     "data": {
      "text/html": [
       "<div>\n",
       "<style scoped>\n",
       "    .dataframe tbody tr th:only-of-type {\n",
       "        vertical-align: middle;\n",
       "    }\n",
       "\n",
       "    .dataframe tbody tr th {\n",
       "        vertical-align: top;\n",
       "    }\n",
       "\n",
       "    .dataframe thead th {\n",
       "        text-align: right;\n",
       "    }\n",
       "</style>\n",
       "<table border=\"1\" class=\"dataframe\">\n",
       "  <thead>\n",
       "    <tr style=\"text-align: right;\">\n",
       "      <th></th>\n",
       "      <th>Address</th>\n",
       "      <th>Street</th>\n",
       "      <th>City</th>\n",
       "      <th>State</th>\n",
       "    </tr>\n",
       "  </thead>\n",
       "  <tbody>\n",
       "    <tr>\n",
       "      <th>0</th>\n",
       "      <td>123 Main St, Springfield, IL</td>\n",
       "      <td>123 Main St</td>\n",
       "      <td>Springfield</td>\n",
       "      <td>IL</td>\n",
       "    </tr>\n",
       "    <tr>\n",
       "      <th>1</th>\n",
       "      <td>456 Oak Ave, Metropolis, NY</td>\n",
       "      <td>456 Oak Ave</td>\n",
       "      <td>Metropolis</td>\n",
       "      <td>NY</td>\n",
       "    </tr>\n",
       "    <tr>\n",
       "      <th>2</th>\n",
       "      <td>789 Pine Rd, Gotham, NJ</td>\n",
       "      <td>789 Pine Rd</td>\n",
       "      <td>Gotham</td>\n",
       "      <td>NJ</td>\n",
       "    </tr>\n",
       "    <tr>\n",
       "      <th>3</th>\n",
       "      <td>101 Maple Dr, Star City, CA</td>\n",
       "      <td>101 Maple Dr</td>\n",
       "      <td>Star City</td>\n",
       "      <td>CA</td>\n",
       "    </tr>\n",
       "    <tr>\n",
       "      <th>4</th>\n",
       "      <td>202 Birch Ln, Smallville, KS</td>\n",
       "      <td>202 Birch Ln</td>\n",
       "      <td>Smallville</td>\n",
       "      <td>KS</td>\n",
       "    </tr>\n",
       "  </tbody>\n",
       "</table>\n",
       "</div>"
      ],
      "text/plain": [
       "                        Address        Street         City State\n",
       "0  123 Main St, Springfield, IL   123 Main St  Springfield    IL\n",
       "1   456 Oak Ave, Metropolis, NY   456 Oak Ave   Metropolis    NY\n",
       "2       789 Pine Rd, Gotham, NJ   789 Pine Rd       Gotham    NJ\n",
       "3   101 Maple Dr, Star City, CA  101 Maple Dr    Star City    CA\n",
       "4  202 Birch Ln, Smallville, KS  202 Birch Ln   Smallville    KS"
      ]
     },
     "execution_count": 22,
     "metadata": {},
     "output_type": "execute_result"
    }
   ],
   "source": [
    "df"
   ]
  },
  {
   "cell_type": "code",
   "execution_count": 23,
   "id": "91cb7c27-4df6-44b1-a1f4-c16b03b2cfce",
   "metadata": {},
   "outputs": [],
   "source": [
    "df['Re-joined'] = df[['Street', 'City', 'State']].apply(lambda x : ':'.join(x), axis = 1)"
   ]
  },
  {
   "cell_type": "code",
   "execution_count": 24,
   "id": "2a9d1d34-8fac-4077-87d8-55d75e3880bf",
   "metadata": {},
   "outputs": [
    {
     "data": {
      "text/html": [
       "<div>\n",
       "<style scoped>\n",
       "    .dataframe tbody tr th:only-of-type {\n",
       "        vertical-align: middle;\n",
       "    }\n",
       "\n",
       "    .dataframe tbody tr th {\n",
       "        vertical-align: top;\n",
       "    }\n",
       "\n",
       "    .dataframe thead th {\n",
       "        text-align: right;\n",
       "    }\n",
       "</style>\n",
       "<table border=\"1\" class=\"dataframe\">\n",
       "  <thead>\n",
       "    <tr style=\"text-align: right;\">\n",
       "      <th></th>\n",
       "      <th>Address</th>\n",
       "      <th>Street</th>\n",
       "      <th>City</th>\n",
       "      <th>State</th>\n",
       "      <th>Re-joined</th>\n",
       "    </tr>\n",
       "  </thead>\n",
       "  <tbody>\n",
       "    <tr>\n",
       "      <th>0</th>\n",
       "      <td>123 Main St, Springfield, IL</td>\n",
       "      <td>123 Main St</td>\n",
       "      <td>Springfield</td>\n",
       "      <td>IL</td>\n",
       "      <td>123 Main St:Springfield:IL</td>\n",
       "    </tr>\n",
       "    <tr>\n",
       "      <th>1</th>\n",
       "      <td>456 Oak Ave, Metropolis, NY</td>\n",
       "      <td>456 Oak Ave</td>\n",
       "      <td>Metropolis</td>\n",
       "      <td>NY</td>\n",
       "      <td>456 Oak Ave:Metropolis:NY</td>\n",
       "    </tr>\n",
       "    <tr>\n",
       "      <th>2</th>\n",
       "      <td>789 Pine Rd, Gotham, NJ</td>\n",
       "      <td>789 Pine Rd</td>\n",
       "      <td>Gotham</td>\n",
       "      <td>NJ</td>\n",
       "      <td>789 Pine Rd:Gotham:NJ</td>\n",
       "    </tr>\n",
       "    <tr>\n",
       "      <th>3</th>\n",
       "      <td>101 Maple Dr, Star City, CA</td>\n",
       "      <td>101 Maple Dr</td>\n",
       "      <td>Star City</td>\n",
       "      <td>CA</td>\n",
       "      <td>101 Maple Dr:Star City:CA</td>\n",
       "    </tr>\n",
       "    <tr>\n",
       "      <th>4</th>\n",
       "      <td>202 Birch Ln, Smallville, KS</td>\n",
       "      <td>202 Birch Ln</td>\n",
       "      <td>Smallville</td>\n",
       "      <td>KS</td>\n",
       "      <td>202 Birch Ln:Smallville:KS</td>\n",
       "    </tr>\n",
       "  </tbody>\n",
       "</table>\n",
       "</div>"
      ],
      "text/plain": [
       "                        Address        Street         City State  \\\n",
       "0  123 Main St, Springfield, IL   123 Main St  Springfield    IL   \n",
       "1   456 Oak Ave, Metropolis, NY   456 Oak Ave   Metropolis    NY   \n",
       "2       789 Pine Rd, Gotham, NJ   789 Pine Rd       Gotham    NJ   \n",
       "3   101 Maple Dr, Star City, CA  101 Maple Dr    Star City    CA   \n",
       "4  202 Birch Ln, Smallville, KS  202 Birch Ln   Smallville    KS   \n",
       "\n",
       "                    Re-joined  \n",
       "0  123 Main St:Springfield:IL  \n",
       "1   456 Oak Ave:Metropolis:NY  \n",
       "2       789 Pine Rd:Gotham:NJ  \n",
       "3   101 Maple Dr:Star City:CA  \n",
       "4  202 Birch Ln:Smallville:KS  "
      ]
     },
     "execution_count": 24,
     "metadata": {},
     "output_type": "execute_result"
    }
   ],
   "source": [
    "df"
   ]
  },
  {
   "cell_type": "code",
   "execution_count": null,
   "id": "097f30a7-2cd3-46ef-885b-00663a666171",
   "metadata": {},
   "outputs": [],
   "source": []
  },
  {
   "cell_type": "raw",
   "id": "3469fec6-6bbf-40ff-abd9-a022b03f6211",
   "metadata": {},
   "source": [
    "Exercise 5: Standardizing Phone Numbers\n",
    "Scenario:\n",
    "You have a DataFrame containing phone numbers in various formats (with dashes, spaces, parentheses, etc.). Your goal is to clean these numbers by removing any non-digit characters and then reformat them into a consistent format (e.g., (123) 456-7890)."
   ]
  },
  {
   "cell_type": "code",
   "execution_count": 25,
   "id": "e59c1efb-a713-4d78-87cd-88f0eec82e33",
   "metadata": {},
   "outputs": [],
   "source": [
    "data = {\n",
    "    'Phone': [\n",
    "        \"(123) 456-7890\",\n",
    "        \"123-456-7890\",\n",
    "        \"123.456.7890\",\n",
    "        \"123 456 7890\",\n",
    "        \"+1 (123) 456-7890\",\n",
    "        \"1234567890\",\n",
    "        None\n",
    "    ]\n",
    "}\n",
    "df = pd.DataFrame(data)"
   ]
  },
  {
   "cell_type": "code",
   "execution_count": 26,
   "id": "1903d285-c7a7-40bc-83b2-b073a011969f",
   "metadata": {},
   "outputs": [
    {
     "data": {
      "text/html": [
       "<div>\n",
       "<style scoped>\n",
       "    .dataframe tbody tr th:only-of-type {\n",
       "        vertical-align: middle;\n",
       "    }\n",
       "\n",
       "    .dataframe tbody tr th {\n",
       "        vertical-align: top;\n",
       "    }\n",
       "\n",
       "    .dataframe thead th {\n",
       "        text-align: right;\n",
       "    }\n",
       "</style>\n",
       "<table border=\"1\" class=\"dataframe\">\n",
       "  <thead>\n",
       "    <tr style=\"text-align: right;\">\n",
       "      <th></th>\n",
       "      <th>Phone</th>\n",
       "    </tr>\n",
       "  </thead>\n",
       "  <tbody>\n",
       "    <tr>\n",
       "      <th>0</th>\n",
       "      <td>(123) 456-7890</td>\n",
       "    </tr>\n",
       "    <tr>\n",
       "      <th>1</th>\n",
       "      <td>123-456-7890</td>\n",
       "    </tr>\n",
       "    <tr>\n",
       "      <th>2</th>\n",
       "      <td>123.456.7890</td>\n",
       "    </tr>\n",
       "    <tr>\n",
       "      <th>3</th>\n",
       "      <td>123 456 7890</td>\n",
       "    </tr>\n",
       "    <tr>\n",
       "      <th>4</th>\n",
       "      <td>+1 (123) 456-7890</td>\n",
       "    </tr>\n",
       "    <tr>\n",
       "      <th>5</th>\n",
       "      <td>1234567890</td>\n",
       "    </tr>\n",
       "    <tr>\n",
       "      <th>6</th>\n",
       "      <td>None</td>\n",
       "    </tr>\n",
       "  </tbody>\n",
       "</table>\n",
       "</div>"
      ],
      "text/plain": [
       "               Phone\n",
       "0     (123) 456-7890\n",
       "1       123-456-7890\n",
       "2       123.456.7890\n",
       "3       123 456 7890\n",
       "4  +1 (123) 456-7890\n",
       "5         1234567890\n",
       "6               None"
      ]
     },
     "execution_count": 26,
     "metadata": {},
     "output_type": "execute_result"
    }
   ],
   "source": [
    "df"
   ]
  },
  {
   "cell_type": "code",
   "execution_count": 27,
   "id": "a73048d5-9d75-4de1-b1e3-73698cab968a",
   "metadata": {},
   "outputs": [],
   "source": [
    "df['Phone'] = df['Phone'].str.replace(r\"[^\\d]\", '', regex = True)"
   ]
  },
  {
   "cell_type": "code",
   "execution_count": 28,
   "id": "ea084f86-fe63-40c3-a2dc-5995921e542b",
   "metadata": {},
   "outputs": [
    {
     "data": {
      "text/html": [
       "<div>\n",
       "<style scoped>\n",
       "    .dataframe tbody tr th:only-of-type {\n",
       "        vertical-align: middle;\n",
       "    }\n",
       "\n",
       "    .dataframe tbody tr th {\n",
       "        vertical-align: top;\n",
       "    }\n",
       "\n",
       "    .dataframe thead th {\n",
       "        text-align: right;\n",
       "    }\n",
       "</style>\n",
       "<table border=\"1\" class=\"dataframe\">\n",
       "  <thead>\n",
       "    <tr style=\"text-align: right;\">\n",
       "      <th></th>\n",
       "      <th>Phone</th>\n",
       "    </tr>\n",
       "  </thead>\n",
       "  <tbody>\n",
       "    <tr>\n",
       "      <th>0</th>\n",
       "      <td>1234567890</td>\n",
       "    </tr>\n",
       "    <tr>\n",
       "      <th>1</th>\n",
       "      <td>1234567890</td>\n",
       "    </tr>\n",
       "    <tr>\n",
       "      <th>2</th>\n",
       "      <td>1234567890</td>\n",
       "    </tr>\n",
       "    <tr>\n",
       "      <th>3</th>\n",
       "      <td>1234567890</td>\n",
       "    </tr>\n",
       "    <tr>\n",
       "      <th>4</th>\n",
       "      <td>11234567890</td>\n",
       "    </tr>\n",
       "    <tr>\n",
       "      <th>5</th>\n",
       "      <td>1234567890</td>\n",
       "    </tr>\n",
       "    <tr>\n",
       "      <th>6</th>\n",
       "      <td>None</td>\n",
       "    </tr>\n",
       "  </tbody>\n",
       "</table>\n",
       "</div>"
      ],
      "text/plain": [
       "         Phone\n",
       "0   1234567890\n",
       "1   1234567890\n",
       "2   1234567890\n",
       "3   1234567890\n",
       "4  11234567890\n",
       "5   1234567890\n",
       "6         None"
      ]
     },
     "execution_count": 28,
     "metadata": {},
     "output_type": "execute_result"
    }
   ],
   "source": [
    "df"
   ]
  },
  {
   "cell_type": "code",
   "execution_count": 29,
   "id": "d2794fd4-c2c4-406c-abed-af492005e362",
   "metadata": {},
   "outputs": [],
   "source": [
    "def std(n):\n",
    "    if pd.isna(n):\n",
    "        return n\n",
    "\n",
    "    if len(n) == 10:\n",
    "        return f'({n[:3]}) {n[3:6]}-{n[6:]}'\n",
    "\n",
    "    if len(n) == 11 and n.startswith('1'):\n",
    "        return f'({n[1:4]}) {n[4:7]}-{n[7:]}'\n",
    "        "
   ]
  },
  {
   "cell_type": "code",
   "execution_count": 30,
   "id": "424724d7-a4ed-4dfa-b005-d07e620cdd59",
   "metadata": {},
   "outputs": [],
   "source": [
    "df['Standardize'] = df['Phone'].apply(std)"
   ]
  },
  {
   "cell_type": "code",
   "execution_count": 31,
   "id": "3ab1b499-4236-466b-9452-43748ca7ebf6",
   "metadata": {},
   "outputs": [
    {
     "data": {
      "text/html": [
       "<div>\n",
       "<style scoped>\n",
       "    .dataframe tbody tr th:only-of-type {\n",
       "        vertical-align: middle;\n",
       "    }\n",
       "\n",
       "    .dataframe tbody tr th {\n",
       "        vertical-align: top;\n",
       "    }\n",
       "\n",
       "    .dataframe thead th {\n",
       "        text-align: right;\n",
       "    }\n",
       "</style>\n",
       "<table border=\"1\" class=\"dataframe\">\n",
       "  <thead>\n",
       "    <tr style=\"text-align: right;\">\n",
       "      <th></th>\n",
       "      <th>Phone</th>\n",
       "      <th>Standardize</th>\n",
       "    </tr>\n",
       "  </thead>\n",
       "  <tbody>\n",
       "    <tr>\n",
       "      <th>0</th>\n",
       "      <td>1234567890</td>\n",
       "      <td>(123) 456-7890</td>\n",
       "    </tr>\n",
       "    <tr>\n",
       "      <th>1</th>\n",
       "      <td>1234567890</td>\n",
       "      <td>(123) 456-7890</td>\n",
       "    </tr>\n",
       "    <tr>\n",
       "      <th>2</th>\n",
       "      <td>1234567890</td>\n",
       "      <td>(123) 456-7890</td>\n",
       "    </tr>\n",
       "    <tr>\n",
       "      <th>3</th>\n",
       "      <td>1234567890</td>\n",
       "      <td>(123) 456-7890</td>\n",
       "    </tr>\n",
       "    <tr>\n",
       "      <th>4</th>\n",
       "      <td>11234567890</td>\n",
       "      <td>(123) 456-7890</td>\n",
       "    </tr>\n",
       "    <tr>\n",
       "      <th>5</th>\n",
       "      <td>1234567890</td>\n",
       "      <td>(123) 456-7890</td>\n",
       "    </tr>\n",
       "    <tr>\n",
       "      <th>6</th>\n",
       "      <td>None</td>\n",
       "      <td>None</td>\n",
       "    </tr>\n",
       "  </tbody>\n",
       "</table>\n",
       "</div>"
      ],
      "text/plain": [
       "         Phone     Standardize\n",
       "0   1234567890  (123) 456-7890\n",
       "1   1234567890  (123) 456-7890\n",
       "2   1234567890  (123) 456-7890\n",
       "3   1234567890  (123) 456-7890\n",
       "4  11234567890  (123) 456-7890\n",
       "5   1234567890  (123) 456-7890\n",
       "6         None            None"
      ]
     },
     "execution_count": 31,
     "metadata": {},
     "output_type": "execute_result"
    }
   ],
   "source": [
    "df"
   ]
  },
  {
   "cell_type": "code",
   "execution_count": null,
   "id": "0800898d-66be-4c59-bc22-4fe5b697f468",
   "metadata": {},
   "outputs": [],
   "source": []
  },
  {
   "cell_type": "raw",
   "id": "643aa1ef-4090-49f3-b1a2-3686d4e9768e",
   "metadata": {},
   "source": [
    "Exercise 6: Extracting Hashtags from Social Media Posts\n",
    "Scenario:\n",
    "You have a DataFrame with social media posts, and you want to extract all hashtags from each post. This is useful for text analysis or sentiment analysis."
   ]
  },
  {
   "cell_type": "code",
   "execution_count": 32,
   "id": "fe019635-6628-4526-b93b-60d50ff04d0d",
   "metadata": {},
   "outputs": [],
   "source": [
    "data = {\n",
    "    'Post': [\n",
    "        \"Loving the new features in #Python and #Pandas!\",\n",
    "        \"Just attended a great workshop on #DataScience.\",\n",
    "        \"No hashtags here.\",\n",
    "        \"Mixing #fun and #learning every day! #coding\",\n",
    "        None\n",
    "    ]\n",
    "}\n",
    "df = pd.DataFrame(data)"
   ]
  },
  {
   "cell_type": "code",
   "execution_count": 33,
   "id": "61cbbb85-603b-4491-83c5-b2dcd7d7b6ab",
   "metadata": {},
   "outputs": [
    {
     "name": "stdout",
     "output_type": "stream",
     "text": [
      "                                              Post\n",
      "0  Loving the new features in #Python and #Pandas!\n",
      "1  Just attended a great workshop on #DataScience.\n",
      "2                                No hashtags here.\n",
      "3     Mixing #fun and #learning every day! #coding\n",
      "4                                             None\n"
     ]
    }
   ],
   "source": [
    "print(df)"
   ]
  },
  {
   "cell_type": "code",
   "execution_count": 34,
   "id": "47bb1167-f7a6-4284-acdf-e69c84c4639b",
   "metadata": {},
   "outputs": [],
   "source": [
    "df['Hashtag'] = df['Post'].str.findall(r\"(#\\w+)\")"
   ]
  },
  {
   "cell_type": "code",
   "execution_count": 35,
   "id": "371cb791-bc00-46d8-98a7-28dc5dd7363a",
   "metadata": {},
   "outputs": [
    {
     "data": {
      "text/html": [
       "<div>\n",
       "<style scoped>\n",
       "    .dataframe tbody tr th:only-of-type {\n",
       "        vertical-align: middle;\n",
       "    }\n",
       "\n",
       "    .dataframe tbody tr th {\n",
       "        vertical-align: top;\n",
       "    }\n",
       "\n",
       "    .dataframe thead th {\n",
       "        text-align: right;\n",
       "    }\n",
       "</style>\n",
       "<table border=\"1\" class=\"dataframe\">\n",
       "  <thead>\n",
       "    <tr style=\"text-align: right;\">\n",
       "      <th></th>\n",
       "      <th>Post</th>\n",
       "      <th>Hashtag</th>\n",
       "    </tr>\n",
       "  </thead>\n",
       "  <tbody>\n",
       "    <tr>\n",
       "      <th>0</th>\n",
       "      <td>Loving the new features in #Python and #Pandas!</td>\n",
       "      <td>[#Python, #Pandas]</td>\n",
       "    </tr>\n",
       "    <tr>\n",
       "      <th>1</th>\n",
       "      <td>Just attended a great workshop on #DataScience.</td>\n",
       "      <td>[#DataScience]</td>\n",
       "    </tr>\n",
       "    <tr>\n",
       "      <th>2</th>\n",
       "      <td>No hashtags here.</td>\n",
       "      <td>[]</td>\n",
       "    </tr>\n",
       "    <tr>\n",
       "      <th>3</th>\n",
       "      <td>Mixing #fun and #learning every day! #coding</td>\n",
       "      <td>[#fun, #learning, #coding]</td>\n",
       "    </tr>\n",
       "    <tr>\n",
       "      <th>4</th>\n",
       "      <td>None</td>\n",
       "      <td>None</td>\n",
       "    </tr>\n",
       "  </tbody>\n",
       "</table>\n",
       "</div>"
      ],
      "text/plain": [
       "                                              Post                     Hashtag\n",
       "0  Loving the new features in #Python and #Pandas!          [#Python, #Pandas]\n",
       "1  Just attended a great workshop on #DataScience.              [#DataScience]\n",
       "2                                No hashtags here.                          []\n",
       "3     Mixing #fun and #learning every day! #coding  [#fun, #learning, #coding]\n",
       "4                                             None                        None"
      ]
     },
     "execution_count": 35,
     "metadata": {},
     "output_type": "execute_result"
    }
   ],
   "source": [
    "df"
   ]
  },
  {
   "cell_type": "code",
   "execution_count": null,
   "id": "ff917c9a-3d4d-4659-b6a7-db74570fa02a",
   "metadata": {},
   "outputs": [],
   "source": []
  }
 ],
 "metadata": {
  "kernelspec": {
   "display_name": "Python (data-analysis)",
   "language": "python",
   "name": "data-anaysis"
  },
  "language_info": {
   "codemirror_mode": {
    "name": "ipython",
    "version": 3
   },
   "file_extension": ".py",
   "mimetype": "text/x-python",
   "name": "python",
   "nbconvert_exporter": "python",
   "pygments_lexer": "ipython3",
   "version": "3.11.13"
  }
 },
 "nbformat": 4,
 "nbformat_minor": 5
}
