{
 "cells": [
  {
   "cell_type": "code",
   "execution_count": 1,
   "id": "bb0daf42-2d8c-4150-9788-2be466e3452e",
   "metadata": {},
   "outputs": [],
   "source": [
    "import pandas as pd\n",
    "import numpy as np"
   ]
  },
  {
   "cell_type": "markdown",
   "id": "7ceedc65-61d2-433e-99f4-18c031a58144",
   "metadata": {},
   "source": [
    "# Exercise 1"
   ]
  },
  {
   "cell_type": "raw",
   "id": "f36c849f-8fe5-4216-8a7f-d20cbe775ce4",
   "metadata": {},
   "source": [
    "Imagine you have a dataset of product reviews with ratings given as strings (e.g., \"5 stars\", \"4 stars\"). You want to extract the numeric rating and then compute a standardized score.\n"
   ]
  },
  {
   "cell_type": "code",
   "execution_count": 2,
   "id": "cfb68f9e-98a7-4217-a5ae-333824709dfc",
   "metadata": {},
   "outputs": [],
   "source": [
    "reviews = pd.DataFrame({\n",
    "    'Product': ['A', 'B', 'C', 'D'],\n",
    "    'Rating': ['5 stars', '4 stars', '3 stars', '4 stars'],\n",
    "    'Price': [120, 80, 50, 100]\n",
    "})"
   ]
  },
  {
   "cell_type": "code",
   "execution_count": 3,
   "id": "e446cad9-d4f7-4547-9703-0e69f238e765",
   "metadata": {},
   "outputs": [
    {
     "data": {
      "text/html": [
       "<div>\n",
       "<style scoped>\n",
       "    .dataframe tbody tr th:only-of-type {\n",
       "        vertical-align: middle;\n",
       "    }\n",
       "\n",
       "    .dataframe tbody tr th {\n",
       "        vertical-align: top;\n",
       "    }\n",
       "\n",
       "    .dataframe thead th {\n",
       "        text-align: right;\n",
       "    }\n",
       "</style>\n",
       "<table border=\"1\" class=\"dataframe\">\n",
       "  <thead>\n",
       "    <tr style=\"text-align: right;\">\n",
       "      <th></th>\n",
       "      <th>Product</th>\n",
       "      <th>Rating</th>\n",
       "      <th>Price</th>\n",
       "    </tr>\n",
       "  </thead>\n",
       "  <tbody>\n",
       "    <tr>\n",
       "      <th>0</th>\n",
       "      <td>A</td>\n",
       "      <td>5 stars</td>\n",
       "      <td>120</td>\n",
       "    </tr>\n",
       "    <tr>\n",
       "      <th>1</th>\n",
       "      <td>B</td>\n",
       "      <td>4 stars</td>\n",
       "      <td>80</td>\n",
       "    </tr>\n",
       "    <tr>\n",
       "      <th>2</th>\n",
       "      <td>C</td>\n",
       "      <td>3 stars</td>\n",
       "      <td>50</td>\n",
       "    </tr>\n",
       "    <tr>\n",
       "      <th>3</th>\n",
       "      <td>D</td>\n",
       "      <td>4 stars</td>\n",
       "      <td>100</td>\n",
       "    </tr>\n",
       "  </tbody>\n",
       "</table>\n",
       "</div>"
      ],
      "text/plain": [
       "  Product   Rating  Price\n",
       "0       A  5 stars    120\n",
       "1       B  4 stars     80\n",
       "2       C  3 stars     50\n",
       "3       D  4 stars    100"
      ]
     },
     "execution_count": 3,
     "metadata": {},
     "output_type": "execute_result"
    }
   ],
   "source": [
    "reviews"
   ]
  },
  {
   "cell_type": "code",
   "execution_count": 4,
   "id": "7717729e-f438-4143-8d2b-8628af498197",
   "metadata": {},
   "outputs": [],
   "source": [
    "reviews['Numeric_rating'] = reviews['Rating'].apply(lambda x: int(x.split()[0]))"
   ]
  },
  {
   "cell_type": "code",
   "execution_count": 5,
   "id": "75bb8414-6aff-4603-bc0c-22b33a220434",
   "metadata": {},
   "outputs": [
    {
     "data": {
      "text/html": [
       "<div>\n",
       "<style scoped>\n",
       "    .dataframe tbody tr th:only-of-type {\n",
       "        vertical-align: middle;\n",
       "    }\n",
       "\n",
       "    .dataframe tbody tr th {\n",
       "        vertical-align: top;\n",
       "    }\n",
       "\n",
       "    .dataframe thead th {\n",
       "        text-align: right;\n",
       "    }\n",
       "</style>\n",
       "<table border=\"1\" class=\"dataframe\">\n",
       "  <thead>\n",
       "    <tr style=\"text-align: right;\">\n",
       "      <th></th>\n",
       "      <th>Product</th>\n",
       "      <th>Rating</th>\n",
       "      <th>Price</th>\n",
       "      <th>Numeric_rating</th>\n",
       "    </tr>\n",
       "  </thead>\n",
       "  <tbody>\n",
       "    <tr>\n",
       "      <th>0</th>\n",
       "      <td>A</td>\n",
       "      <td>5 stars</td>\n",
       "      <td>120</td>\n",
       "      <td>5</td>\n",
       "    </tr>\n",
       "    <tr>\n",
       "      <th>1</th>\n",
       "      <td>B</td>\n",
       "      <td>4 stars</td>\n",
       "      <td>80</td>\n",
       "      <td>4</td>\n",
       "    </tr>\n",
       "    <tr>\n",
       "      <th>2</th>\n",
       "      <td>C</td>\n",
       "      <td>3 stars</td>\n",
       "      <td>50</td>\n",
       "      <td>3</td>\n",
       "    </tr>\n",
       "    <tr>\n",
       "      <th>3</th>\n",
       "      <td>D</td>\n",
       "      <td>4 stars</td>\n",
       "      <td>100</td>\n",
       "      <td>4</td>\n",
       "    </tr>\n",
       "  </tbody>\n",
       "</table>\n",
       "</div>"
      ],
      "text/plain": [
       "  Product   Rating  Price  Numeric_rating\n",
       "0       A  5 stars    120               5\n",
       "1       B  4 stars     80               4\n",
       "2       C  3 stars     50               3\n",
       "3       D  4 stars    100               4"
      ]
     },
     "execution_count": 5,
     "metadata": {},
     "output_type": "execute_result"
    }
   ],
   "source": [
    "reviews"
   ]
  },
  {
   "cell_type": "code",
   "execution_count": 6,
   "id": "c5cc02dd-a7a4-401c-9e43-a4b9e9d93349",
   "metadata": {},
   "outputs": [],
   "source": [
    "reviews[['Rating_std', 'Price_std']] = reviews[['Numeric_rating', 'Price']].apply(lambda x: (x - x.mean())/x.std())"
   ]
  },
  {
   "cell_type": "code",
   "execution_count": 7,
   "id": "836cdf58-ed41-4029-b0fd-6d114c9aa073",
   "metadata": {},
   "outputs": [
    {
     "data": {
      "text/html": [
       "<div>\n",
       "<style scoped>\n",
       "    .dataframe tbody tr th:only-of-type {\n",
       "        vertical-align: middle;\n",
       "    }\n",
       "\n",
       "    .dataframe tbody tr th {\n",
       "        vertical-align: top;\n",
       "    }\n",
       "\n",
       "    .dataframe thead th {\n",
       "        text-align: right;\n",
       "    }\n",
       "</style>\n",
       "<table border=\"1\" class=\"dataframe\">\n",
       "  <thead>\n",
       "    <tr style=\"text-align: right;\">\n",
       "      <th></th>\n",
       "      <th>Product</th>\n",
       "      <th>Rating</th>\n",
       "      <th>Price</th>\n",
       "      <th>Numeric_rating</th>\n",
       "      <th>Rating_std</th>\n",
       "      <th>Price_std</th>\n",
       "    </tr>\n",
       "  </thead>\n",
       "  <tbody>\n",
       "    <tr>\n",
       "      <th>0</th>\n",
       "      <td>A</td>\n",
       "      <td>5 stars</td>\n",
       "      <td>120</td>\n",
       "      <td>5</td>\n",
       "      <td>1.224745</td>\n",
       "      <td>1.088384</td>\n",
       "    </tr>\n",
       "    <tr>\n",
       "      <th>1</th>\n",
       "      <td>B</td>\n",
       "      <td>4 stars</td>\n",
       "      <td>80</td>\n",
       "      <td>4</td>\n",
       "      <td>0.000000</td>\n",
       "      <td>-0.251166</td>\n",
       "    </tr>\n",
       "    <tr>\n",
       "      <th>2</th>\n",
       "      <td>C</td>\n",
       "      <td>3 stars</td>\n",
       "      <td>50</td>\n",
       "      <td>3</td>\n",
       "      <td>-1.224745</td>\n",
       "      <td>-1.255828</td>\n",
       "    </tr>\n",
       "    <tr>\n",
       "      <th>3</th>\n",
       "      <td>D</td>\n",
       "      <td>4 stars</td>\n",
       "      <td>100</td>\n",
       "      <td>4</td>\n",
       "      <td>0.000000</td>\n",
       "      <td>0.418609</td>\n",
       "    </tr>\n",
       "  </tbody>\n",
       "</table>\n",
       "</div>"
      ],
      "text/plain": [
       "  Product   Rating  Price  Numeric_rating  Rating_std  Price_std\n",
       "0       A  5 stars    120               5    1.224745   1.088384\n",
       "1       B  4 stars     80               4    0.000000  -0.251166\n",
       "2       C  3 stars     50               3   -1.224745  -1.255828\n",
       "3       D  4 stars    100               4    0.000000   0.418609"
      ]
     },
     "execution_count": 7,
     "metadata": {},
     "output_type": "execute_result"
    }
   ],
   "source": [
    "reviews"
   ]
  },
  {
   "cell_type": "code",
   "execution_count": 8,
   "id": "fda47ac5-46b1-4b83-b181-12b2ebd86983",
   "metadata": {},
   "outputs": [],
   "source": [
    "reviews['Final_Score'] = reviews.apply(lambda x: (x['Rating_std'] + x['Price_std'])/2, axis = 1)"
   ]
  },
  {
   "cell_type": "code",
   "execution_count": 9,
   "id": "36c6b376-db56-411a-9eb9-f5cb8cc9590a",
   "metadata": {},
   "outputs": [
    {
     "data": {
      "text/html": [
       "<div>\n",
       "<style scoped>\n",
       "    .dataframe tbody tr th:only-of-type {\n",
       "        vertical-align: middle;\n",
       "    }\n",
       "\n",
       "    .dataframe tbody tr th {\n",
       "        vertical-align: top;\n",
       "    }\n",
       "\n",
       "    .dataframe thead th {\n",
       "        text-align: right;\n",
       "    }\n",
       "</style>\n",
       "<table border=\"1\" class=\"dataframe\">\n",
       "  <thead>\n",
       "    <tr style=\"text-align: right;\">\n",
       "      <th></th>\n",
       "      <th>Product</th>\n",
       "      <th>Rating</th>\n",
       "      <th>Price</th>\n",
       "      <th>Numeric_rating</th>\n",
       "      <th>Rating_std</th>\n",
       "      <th>Price_std</th>\n",
       "      <th>Final_Score</th>\n",
       "    </tr>\n",
       "  </thead>\n",
       "  <tbody>\n",
       "    <tr>\n",
       "      <th>0</th>\n",
       "      <td>A</td>\n",
       "      <td>5 stars</td>\n",
       "      <td>120</td>\n",
       "      <td>5</td>\n",
       "      <td>1.224745</td>\n",
       "      <td>1.088384</td>\n",
       "      <td>1.156564</td>\n",
       "    </tr>\n",
       "    <tr>\n",
       "      <th>1</th>\n",
       "      <td>B</td>\n",
       "      <td>4 stars</td>\n",
       "      <td>80</td>\n",
       "      <td>4</td>\n",
       "      <td>0.000000</td>\n",
       "      <td>-0.251166</td>\n",
       "      <td>-0.125583</td>\n",
       "    </tr>\n",
       "    <tr>\n",
       "      <th>2</th>\n",
       "      <td>C</td>\n",
       "      <td>3 stars</td>\n",
       "      <td>50</td>\n",
       "      <td>3</td>\n",
       "      <td>-1.224745</td>\n",
       "      <td>-1.255828</td>\n",
       "      <td>-1.240286</td>\n",
       "    </tr>\n",
       "    <tr>\n",
       "      <th>3</th>\n",
       "      <td>D</td>\n",
       "      <td>4 stars</td>\n",
       "      <td>100</td>\n",
       "      <td>4</td>\n",
       "      <td>0.000000</td>\n",
       "      <td>0.418609</td>\n",
       "      <td>0.209305</td>\n",
       "    </tr>\n",
       "  </tbody>\n",
       "</table>\n",
       "</div>"
      ],
      "text/plain": [
       "  Product   Rating  Price  Numeric_rating  Rating_std  Price_std  Final_Score\n",
       "0       A  5 stars    120               5    1.224745   1.088384     1.156564\n",
       "1       B  4 stars     80               4    0.000000  -0.251166    -0.125583\n",
       "2       C  3 stars     50               3   -1.224745  -1.255828    -1.240286\n",
       "3       D  4 stars    100               4    0.000000   0.418609     0.209305"
      ]
     },
     "execution_count": 9,
     "metadata": {},
     "output_type": "execute_result"
    }
   ],
   "source": [
    "reviews"
   ]
  },
  {
   "cell_type": "markdown",
   "id": "2e92b138-9ae6-4fdb-873e-401f7f22bd3d",
   "metadata": {},
   "source": [
    "# Exercise 2"
   ]
  },
  {
   "cell_type": "raw",
   "id": "f8e4ac5e-65d0-4a09-a1a3-32af51290136",
   "metadata": {},
   "source": [
    "Sales Data Analysis\n",
    "Scenario\n",
    "A company tracks its sales data for various products. You need to calculate revenue, profit, and profit margins and then format the results for reporting.\n",
    "\n",
    "Dataset\n",
    "Create a DataFrame with the following columns:\n",
    "\n",
    "Product: Product name\n",
    "Units Sold: Number of units sold\n",
    "Price per Unit: Sale price for each unit\n",
    "Cost per Unit: Cost price for each unit"
   ]
  },
  {
   "cell_type": "code",
   "execution_count": 10,
   "id": "89e3c13f-e9d9-4d8f-ad78-aa8c7ad72e22",
   "metadata": {},
   "outputs": [],
   "source": [
    "sales = pd.DataFrame({\n",
    "        'Product': ['A', 'B', 'C'],\n",
    "        'Units Sold': [100, 150, 200],\n",
    "        'Price per Unit': [10.00, 20.00, 15.00],\n",
    "        'Cost per Unit': [5.00, 12.00, 10.00]\n",
    "})"
   ]
  },
  {
   "cell_type": "code",
   "execution_count": 11,
   "id": "06eb9f3c-bf20-4bd5-bc28-70622d62351b",
   "metadata": {},
   "outputs": [
    {
     "data": {
      "text/html": [
       "<div>\n",
       "<style scoped>\n",
       "    .dataframe tbody tr th:only-of-type {\n",
       "        vertical-align: middle;\n",
       "    }\n",
       "\n",
       "    .dataframe tbody tr th {\n",
       "        vertical-align: top;\n",
       "    }\n",
       "\n",
       "    .dataframe thead th {\n",
       "        text-align: right;\n",
       "    }\n",
       "</style>\n",
       "<table border=\"1\" class=\"dataframe\">\n",
       "  <thead>\n",
       "    <tr style=\"text-align: right;\">\n",
       "      <th></th>\n",
       "      <th>Product</th>\n",
       "      <th>Units Sold</th>\n",
       "      <th>Price per Unit</th>\n",
       "      <th>Cost per Unit</th>\n",
       "    </tr>\n",
       "  </thead>\n",
       "  <tbody>\n",
       "    <tr>\n",
       "      <th>0</th>\n",
       "      <td>A</td>\n",
       "      <td>100</td>\n",
       "      <td>10.0</td>\n",
       "      <td>5.0</td>\n",
       "    </tr>\n",
       "    <tr>\n",
       "      <th>1</th>\n",
       "      <td>B</td>\n",
       "      <td>150</td>\n",
       "      <td>20.0</td>\n",
       "      <td>12.0</td>\n",
       "    </tr>\n",
       "    <tr>\n",
       "      <th>2</th>\n",
       "      <td>C</td>\n",
       "      <td>200</td>\n",
       "      <td>15.0</td>\n",
       "      <td>10.0</td>\n",
       "    </tr>\n",
       "  </tbody>\n",
       "</table>\n",
       "</div>"
      ],
      "text/plain": [
       "  Product  Units Sold  Price per Unit  Cost per Unit\n",
       "0       A         100            10.0            5.0\n",
       "1       B         150            20.0           12.0\n",
       "2       C         200            15.0           10.0"
      ]
     },
     "execution_count": 11,
     "metadata": {},
     "output_type": "execute_result"
    }
   ],
   "source": [
    "sales"
   ]
  },
  {
   "cell_type": "code",
   "execution_count": 12,
   "id": "4c07c61a-d8e8-458f-be3e-9e1a01f64803",
   "metadata": {},
   "outputs": [],
   "source": [
    "# Compute Total Revenue:\n",
    "sales['Revenue'] = sales['Units Sold'] * sales['Price per Unit']"
   ]
  },
  {
   "cell_type": "code",
   "execution_count": 13,
   "id": "4ff551fc-824b-4ffc-bd23-a6b7cb6e0513",
   "metadata": {},
   "outputs": [
    {
     "data": {
      "text/html": [
       "<div>\n",
       "<style scoped>\n",
       "    .dataframe tbody tr th:only-of-type {\n",
       "        vertical-align: middle;\n",
       "    }\n",
       "\n",
       "    .dataframe tbody tr th {\n",
       "        vertical-align: top;\n",
       "    }\n",
       "\n",
       "    .dataframe thead th {\n",
       "        text-align: right;\n",
       "    }\n",
       "</style>\n",
       "<table border=\"1\" class=\"dataframe\">\n",
       "  <thead>\n",
       "    <tr style=\"text-align: right;\">\n",
       "      <th></th>\n",
       "      <th>Product</th>\n",
       "      <th>Units Sold</th>\n",
       "      <th>Price per Unit</th>\n",
       "      <th>Cost per Unit</th>\n",
       "      <th>Revenue</th>\n",
       "    </tr>\n",
       "  </thead>\n",
       "  <tbody>\n",
       "    <tr>\n",
       "      <th>0</th>\n",
       "      <td>A</td>\n",
       "      <td>100</td>\n",
       "      <td>10.0</td>\n",
       "      <td>5.0</td>\n",
       "      <td>1000.0</td>\n",
       "    </tr>\n",
       "    <tr>\n",
       "      <th>1</th>\n",
       "      <td>B</td>\n",
       "      <td>150</td>\n",
       "      <td>20.0</td>\n",
       "      <td>12.0</td>\n",
       "      <td>3000.0</td>\n",
       "    </tr>\n",
       "    <tr>\n",
       "      <th>2</th>\n",
       "      <td>C</td>\n",
       "      <td>200</td>\n",
       "      <td>15.0</td>\n",
       "      <td>10.0</td>\n",
       "      <td>3000.0</td>\n",
       "    </tr>\n",
       "  </tbody>\n",
       "</table>\n",
       "</div>"
      ],
      "text/plain": [
       "  Product  Units Sold  Price per Unit  Cost per Unit  Revenue\n",
       "0       A         100            10.0            5.0   1000.0\n",
       "1       B         150            20.0           12.0   3000.0\n",
       "2       C         200            15.0           10.0   3000.0"
      ]
     },
     "execution_count": 13,
     "metadata": {},
     "output_type": "execute_result"
    }
   ],
   "source": [
    "sales"
   ]
  },
  {
   "cell_type": "code",
   "execution_count": 14,
   "id": "b4fd607f-2357-4040-b0ed-f5b2cde949e1",
   "metadata": {},
   "outputs": [],
   "source": [
    "# Compute Profit:\n",
    "sales['Profit'] = sales['Units Sold'] * (sales['Price per Unit'] - sales['Cost per Unit'])"
   ]
  },
  {
   "cell_type": "code",
   "execution_count": 15,
   "id": "e59c4d0e-7304-415a-ac7d-477a665a019c",
   "metadata": {},
   "outputs": [
    {
     "data": {
      "text/html": [
       "<div>\n",
       "<style scoped>\n",
       "    .dataframe tbody tr th:only-of-type {\n",
       "        vertical-align: middle;\n",
       "    }\n",
       "\n",
       "    .dataframe tbody tr th {\n",
       "        vertical-align: top;\n",
       "    }\n",
       "\n",
       "    .dataframe thead th {\n",
       "        text-align: right;\n",
       "    }\n",
       "</style>\n",
       "<table border=\"1\" class=\"dataframe\">\n",
       "  <thead>\n",
       "    <tr style=\"text-align: right;\">\n",
       "      <th></th>\n",
       "      <th>Product</th>\n",
       "      <th>Units Sold</th>\n",
       "      <th>Price per Unit</th>\n",
       "      <th>Cost per Unit</th>\n",
       "      <th>Revenue</th>\n",
       "      <th>Profit</th>\n",
       "    </tr>\n",
       "  </thead>\n",
       "  <tbody>\n",
       "    <tr>\n",
       "      <th>0</th>\n",
       "      <td>A</td>\n",
       "      <td>100</td>\n",
       "      <td>10.0</td>\n",
       "      <td>5.0</td>\n",
       "      <td>1000.0</td>\n",
       "      <td>500.0</td>\n",
       "    </tr>\n",
       "    <tr>\n",
       "      <th>1</th>\n",
       "      <td>B</td>\n",
       "      <td>150</td>\n",
       "      <td>20.0</td>\n",
       "      <td>12.0</td>\n",
       "      <td>3000.0</td>\n",
       "      <td>1200.0</td>\n",
       "    </tr>\n",
       "    <tr>\n",
       "      <th>2</th>\n",
       "      <td>C</td>\n",
       "      <td>200</td>\n",
       "      <td>15.0</td>\n",
       "      <td>10.0</td>\n",
       "      <td>3000.0</td>\n",
       "      <td>1000.0</td>\n",
       "    </tr>\n",
       "  </tbody>\n",
       "</table>\n",
       "</div>"
      ],
      "text/plain": [
       "  Product  Units Sold  Price per Unit  Cost per Unit  Revenue  Profit\n",
       "0       A         100            10.0            5.0   1000.0   500.0\n",
       "1       B         150            20.0           12.0   3000.0  1200.0\n",
       "2       C         200            15.0           10.0   3000.0  1000.0"
      ]
     },
     "execution_count": 15,
     "metadata": {},
     "output_type": "execute_result"
    }
   ],
   "source": [
    "sales"
   ]
  },
  {
   "cell_type": "code",
   "execution_count": 16,
   "id": "e64c6236-7087-4298-a42c-3809b49d21ed",
   "metadata": {},
   "outputs": [],
   "source": [
    "# Calculate Profit Margin Percentage:\n",
    "sales['Profit Margin (%)'] = round((sales['Profit']/sales['Revenue']) * 100, 0)\n"
   ]
  },
  {
   "cell_type": "code",
   "execution_count": 17,
   "id": "9617aeeb-2917-44cb-a56b-d133dcb71f67",
   "metadata": {},
   "outputs": [
    {
     "data": {
      "text/html": [
       "<div>\n",
       "<style scoped>\n",
       "    .dataframe tbody tr th:only-of-type {\n",
       "        vertical-align: middle;\n",
       "    }\n",
       "\n",
       "    .dataframe tbody tr th {\n",
       "        vertical-align: top;\n",
       "    }\n",
       "\n",
       "    .dataframe thead th {\n",
       "        text-align: right;\n",
       "    }\n",
       "</style>\n",
       "<table border=\"1\" class=\"dataframe\">\n",
       "  <thead>\n",
       "    <tr style=\"text-align: right;\">\n",
       "      <th></th>\n",
       "      <th>Product</th>\n",
       "      <th>Units Sold</th>\n",
       "      <th>Price per Unit</th>\n",
       "      <th>Cost per Unit</th>\n",
       "      <th>Revenue</th>\n",
       "      <th>Profit</th>\n",
       "      <th>Profit Margin (%)</th>\n",
       "    </tr>\n",
       "  </thead>\n",
       "  <tbody>\n",
       "    <tr>\n",
       "      <th>0</th>\n",
       "      <td>A</td>\n",
       "      <td>100</td>\n",
       "      <td>10.0</td>\n",
       "      <td>5.0</td>\n",
       "      <td>1000.0</td>\n",
       "      <td>500.0</td>\n",
       "      <td>50.0</td>\n",
       "    </tr>\n",
       "    <tr>\n",
       "      <th>1</th>\n",
       "      <td>B</td>\n",
       "      <td>150</td>\n",
       "      <td>20.0</td>\n",
       "      <td>12.0</td>\n",
       "      <td>3000.0</td>\n",
       "      <td>1200.0</td>\n",
       "      <td>40.0</td>\n",
       "    </tr>\n",
       "    <tr>\n",
       "      <th>2</th>\n",
       "      <td>C</td>\n",
       "      <td>200</td>\n",
       "      <td>15.0</td>\n",
       "      <td>10.0</td>\n",
       "      <td>3000.0</td>\n",
       "      <td>1000.0</td>\n",
       "      <td>33.0</td>\n",
       "    </tr>\n",
       "  </tbody>\n",
       "</table>\n",
       "</div>"
      ],
      "text/plain": [
       "  Product  Units Sold  Price per Unit  Cost per Unit  Revenue  Profit  \\\n",
       "0       A         100            10.0            5.0   1000.0   500.0   \n",
       "1       B         150            20.0           12.0   3000.0  1200.0   \n",
       "2       C         200            15.0           10.0   3000.0  1000.0   \n",
       "\n",
       "   Profit Margin (%)  \n",
       "0               50.0  \n",
       "1               40.0  \n",
       "2               33.0  "
      ]
     },
     "execution_count": 17,
     "metadata": {},
     "output_type": "execute_result"
    }
   ],
   "source": [
    "sales"
   ]
  },
  {
   "cell_type": "code",
   "execution_count": 18,
   "id": "f0ce37d3-d807-4f02-86e3-5cc592afcc35",
   "metadata": {},
   "outputs": [],
   "source": [
    "# Format Currency:\n",
    "sales[['Revenue', 'Profit']] = sales[['Revenue', 'Profit']].map(lambda x: f'${x}')"
   ]
  },
  {
   "cell_type": "code",
   "execution_count": 19,
   "id": "2b05c140-4c7f-4828-ab8d-89dafd19a105",
   "metadata": {},
   "outputs": [
    {
     "data": {
      "text/html": [
       "<div>\n",
       "<style scoped>\n",
       "    .dataframe tbody tr th:only-of-type {\n",
       "        vertical-align: middle;\n",
       "    }\n",
       "\n",
       "    .dataframe tbody tr th {\n",
       "        vertical-align: top;\n",
       "    }\n",
       "\n",
       "    .dataframe thead th {\n",
       "        text-align: right;\n",
       "    }\n",
       "</style>\n",
       "<table border=\"1\" class=\"dataframe\">\n",
       "  <thead>\n",
       "    <tr style=\"text-align: right;\">\n",
       "      <th></th>\n",
       "      <th>Product</th>\n",
       "      <th>Units Sold</th>\n",
       "      <th>Price per Unit</th>\n",
       "      <th>Cost per Unit</th>\n",
       "      <th>Revenue</th>\n",
       "      <th>Profit</th>\n",
       "      <th>Profit Margin (%)</th>\n",
       "    </tr>\n",
       "  </thead>\n",
       "  <tbody>\n",
       "    <tr>\n",
       "      <th>0</th>\n",
       "      <td>A</td>\n",
       "      <td>100</td>\n",
       "      <td>10.0</td>\n",
       "      <td>5.0</td>\n",
       "      <td>$1000.0</td>\n",
       "      <td>$500.0</td>\n",
       "      <td>50.0</td>\n",
       "    </tr>\n",
       "    <tr>\n",
       "      <th>1</th>\n",
       "      <td>B</td>\n",
       "      <td>150</td>\n",
       "      <td>20.0</td>\n",
       "      <td>12.0</td>\n",
       "      <td>$3000.0</td>\n",
       "      <td>$1200.0</td>\n",
       "      <td>40.0</td>\n",
       "    </tr>\n",
       "    <tr>\n",
       "      <th>2</th>\n",
       "      <td>C</td>\n",
       "      <td>200</td>\n",
       "      <td>15.0</td>\n",
       "      <td>10.0</td>\n",
       "      <td>$3000.0</td>\n",
       "      <td>$1000.0</td>\n",
       "      <td>33.0</td>\n",
       "    </tr>\n",
       "  </tbody>\n",
       "</table>\n",
       "</div>"
      ],
      "text/plain": [
       "  Product  Units Sold  Price per Unit  Cost per Unit  Revenue   Profit  \\\n",
       "0       A         100            10.0            5.0  $1000.0   $500.0   \n",
       "1       B         150            20.0           12.0  $3000.0  $1200.0   \n",
       "2       C         200            15.0           10.0  $3000.0  $1000.0   \n",
       "\n",
       "   Profit Margin (%)  \n",
       "0               50.0  \n",
       "1               40.0  \n",
       "2               33.0  "
      ]
     },
     "execution_count": 19,
     "metadata": {},
     "output_type": "execute_result"
    }
   ],
   "source": [
    "sales"
   ]
  },
  {
   "cell_type": "code",
   "execution_count": null,
   "id": "73134e6f-8070-47fd-b937-078b5ec3d191",
   "metadata": {},
   "outputs": [],
   "source": []
  },
  {
   "cell_type": "markdown",
   "id": "3f8d888a-542a-4422-95d4-51d5873b63d2",
   "metadata": {},
   "source": [
    "# Exercise 3"
   ]
  },
  {
   "cell_type": "raw",
   "id": "d3b748a1-29ab-4c57-9716-0b543cecab5c",
   "metadata": {},
   "source": [
    "Scenario\n",
    "A company wants to adjust employee salaries based on their performance scores. Depending on the score, a bonus percentage is applied.\n",
    "\n",
    "Dataset\n",
    "Create a DataFrame with:\n",
    "\n",
    "Employee: Employee name\n",
    "Performance Score: A numeric score\n",
    "Salary: Current salary"
   ]
  },
  {
   "cell_type": "code",
   "execution_count": 20,
   "id": "c5a2b69f-3df5-4628-83bc-627c098d6ca0",
   "metadata": {},
   "outputs": [],
   "source": [
    "employees = pd.DataFrame({\n",
    "    'Employee': ['Alice', 'Bob', 'Charlie', 'Diana'],\n",
    "    'Performance Score': [92, 85, 78, 95],\n",
    "    'Salary': [70000, 65000, 60000, 72000]\n",
    "})"
   ]
  },
  {
   "cell_type": "code",
   "execution_count": 21,
   "id": "9781d005-95a0-4329-b6a4-be9fb161df6d",
   "metadata": {},
   "outputs": [
    {
     "data": {
      "text/html": [
       "<div>\n",
       "<style scoped>\n",
       "    .dataframe tbody tr th:only-of-type {\n",
       "        vertical-align: middle;\n",
       "    }\n",
       "\n",
       "    .dataframe tbody tr th {\n",
       "        vertical-align: top;\n",
       "    }\n",
       "\n",
       "    .dataframe thead th {\n",
       "        text-align: right;\n",
       "    }\n",
       "</style>\n",
       "<table border=\"1\" class=\"dataframe\">\n",
       "  <thead>\n",
       "    <tr style=\"text-align: right;\">\n",
       "      <th></th>\n",
       "      <th>Employee</th>\n",
       "      <th>Performance Score</th>\n",
       "      <th>Salary</th>\n",
       "    </tr>\n",
       "  </thead>\n",
       "  <tbody>\n",
       "    <tr>\n",
       "      <th>0</th>\n",
       "      <td>Alice</td>\n",
       "      <td>92</td>\n",
       "      <td>70000</td>\n",
       "    </tr>\n",
       "    <tr>\n",
       "      <th>1</th>\n",
       "      <td>Bob</td>\n",
       "      <td>85</td>\n",
       "      <td>65000</td>\n",
       "    </tr>\n",
       "    <tr>\n",
       "      <th>2</th>\n",
       "      <td>Charlie</td>\n",
       "      <td>78</td>\n",
       "      <td>60000</td>\n",
       "    </tr>\n",
       "    <tr>\n",
       "      <th>3</th>\n",
       "      <td>Diana</td>\n",
       "      <td>95</td>\n",
       "      <td>72000</td>\n",
       "    </tr>\n",
       "  </tbody>\n",
       "</table>\n",
       "</div>"
      ],
      "text/plain": [
       "  Employee  Performance Score  Salary\n",
       "0    Alice                 92   70000\n",
       "1      Bob                 85   65000\n",
       "2  Charlie                 78   60000\n",
       "3    Diana                 95   72000"
      ]
     },
     "execution_count": 21,
     "metadata": {},
     "output_type": "execute_result"
    }
   ],
   "source": [
    "employees"
   ]
  },
  {
   "cell_type": "code",
   "execution_count": 22,
   "id": "fd1a23e8-29ba-4017-a720-bc11c8cbf7b1",
   "metadata": {},
   "outputs": [],
   "source": [
    "# bonus percentage\n",
    "employees['Bonus (%)'] = employees['Performance Score'].apply(lambda x: 10 if x >= 90 else (5 if x >= 80 else 2))"
   ]
  },
  {
   "cell_type": "code",
   "execution_count": 23,
   "id": "99a17788-55fb-4546-8553-98fa92171d08",
   "metadata": {},
   "outputs": [
    {
     "data": {
      "text/html": [
       "<div>\n",
       "<style scoped>\n",
       "    .dataframe tbody tr th:only-of-type {\n",
       "        vertical-align: middle;\n",
       "    }\n",
       "\n",
       "    .dataframe tbody tr th {\n",
       "        vertical-align: top;\n",
       "    }\n",
       "\n",
       "    .dataframe thead th {\n",
       "        text-align: right;\n",
       "    }\n",
       "</style>\n",
       "<table border=\"1\" class=\"dataframe\">\n",
       "  <thead>\n",
       "    <tr style=\"text-align: right;\">\n",
       "      <th></th>\n",
       "      <th>Employee</th>\n",
       "      <th>Performance Score</th>\n",
       "      <th>Salary</th>\n",
       "      <th>Bonus (%)</th>\n",
       "    </tr>\n",
       "  </thead>\n",
       "  <tbody>\n",
       "    <tr>\n",
       "      <th>0</th>\n",
       "      <td>Alice</td>\n",
       "      <td>92</td>\n",
       "      <td>70000</td>\n",
       "      <td>10</td>\n",
       "    </tr>\n",
       "    <tr>\n",
       "      <th>1</th>\n",
       "      <td>Bob</td>\n",
       "      <td>85</td>\n",
       "      <td>65000</td>\n",
       "      <td>5</td>\n",
       "    </tr>\n",
       "    <tr>\n",
       "      <th>2</th>\n",
       "      <td>Charlie</td>\n",
       "      <td>78</td>\n",
       "      <td>60000</td>\n",
       "      <td>2</td>\n",
       "    </tr>\n",
       "    <tr>\n",
       "      <th>3</th>\n",
       "      <td>Diana</td>\n",
       "      <td>95</td>\n",
       "      <td>72000</td>\n",
       "      <td>10</td>\n",
       "    </tr>\n",
       "  </tbody>\n",
       "</table>\n",
       "</div>"
      ],
      "text/plain": [
       "  Employee  Performance Score  Salary  Bonus (%)\n",
       "0    Alice                 92   70000         10\n",
       "1      Bob                 85   65000          5\n",
       "2  Charlie                 78   60000          2\n",
       "3    Diana                 95   72000         10"
      ]
     },
     "execution_count": 23,
     "metadata": {},
     "output_type": "execute_result"
    }
   ],
   "source": [
    "employees"
   ]
  },
  {
   "cell_type": "code",
   "execution_count": 24,
   "id": "81a91607-d724-4411-92f7-4a6c7640e14b",
   "metadata": {},
   "outputs": [],
   "source": [
    "# Compute Bonus Amount:\n",
    "employees['Bonus Amount'] = employees['Salary'] * employees['Bonus (%)']/100"
   ]
  },
  {
   "cell_type": "code",
   "execution_count": 25,
   "id": "d87efd80-cb33-4037-9e36-f69aba3ca35d",
   "metadata": {},
   "outputs": [
    {
     "data": {
      "text/html": [
       "<div>\n",
       "<style scoped>\n",
       "    .dataframe tbody tr th:only-of-type {\n",
       "        vertical-align: middle;\n",
       "    }\n",
       "\n",
       "    .dataframe tbody tr th {\n",
       "        vertical-align: top;\n",
       "    }\n",
       "\n",
       "    .dataframe thead th {\n",
       "        text-align: right;\n",
       "    }\n",
       "</style>\n",
       "<table border=\"1\" class=\"dataframe\">\n",
       "  <thead>\n",
       "    <tr style=\"text-align: right;\">\n",
       "      <th></th>\n",
       "      <th>Employee</th>\n",
       "      <th>Performance Score</th>\n",
       "      <th>Salary</th>\n",
       "      <th>Bonus (%)</th>\n",
       "      <th>Bonus Amount</th>\n",
       "    </tr>\n",
       "  </thead>\n",
       "  <tbody>\n",
       "    <tr>\n",
       "      <th>0</th>\n",
       "      <td>Alice</td>\n",
       "      <td>92</td>\n",
       "      <td>70000</td>\n",
       "      <td>10</td>\n",
       "      <td>7000.0</td>\n",
       "    </tr>\n",
       "    <tr>\n",
       "      <th>1</th>\n",
       "      <td>Bob</td>\n",
       "      <td>85</td>\n",
       "      <td>65000</td>\n",
       "      <td>5</td>\n",
       "      <td>3250.0</td>\n",
       "    </tr>\n",
       "    <tr>\n",
       "      <th>2</th>\n",
       "      <td>Charlie</td>\n",
       "      <td>78</td>\n",
       "      <td>60000</td>\n",
       "      <td>2</td>\n",
       "      <td>1200.0</td>\n",
       "    </tr>\n",
       "    <tr>\n",
       "      <th>3</th>\n",
       "      <td>Diana</td>\n",
       "      <td>95</td>\n",
       "      <td>72000</td>\n",
       "      <td>10</td>\n",
       "      <td>7200.0</td>\n",
       "    </tr>\n",
       "  </tbody>\n",
       "</table>\n",
       "</div>"
      ],
      "text/plain": [
       "  Employee  Performance Score  Salary  Bonus (%)  Bonus Amount\n",
       "0    Alice                 92   70000         10        7000.0\n",
       "1      Bob                 85   65000          5        3250.0\n",
       "2  Charlie                 78   60000          2        1200.0\n",
       "3    Diana                 95   72000         10        7200.0"
      ]
     },
     "execution_count": 25,
     "metadata": {},
     "output_type": "execute_result"
    }
   ],
   "source": [
    "employees"
   ]
  },
  {
   "cell_type": "code",
   "execution_count": 26,
   "id": "e818fc2a-6be1-4bfc-8bdb-2cbe559e33fe",
   "metadata": {},
   "outputs": [],
   "source": [
    "# Calculate New Salary:\n",
    "employees['New Salary'] = employees['Salary'] + employees['Bonus Amount']"
   ]
  },
  {
   "cell_type": "code",
   "execution_count": 27,
   "id": "5546009e-adce-43ef-8246-a1d62d6e27c3",
   "metadata": {},
   "outputs": [
    {
     "data": {
      "text/html": [
       "<div>\n",
       "<style scoped>\n",
       "    .dataframe tbody tr th:only-of-type {\n",
       "        vertical-align: middle;\n",
       "    }\n",
       "\n",
       "    .dataframe tbody tr th {\n",
       "        vertical-align: top;\n",
       "    }\n",
       "\n",
       "    .dataframe thead th {\n",
       "        text-align: right;\n",
       "    }\n",
       "</style>\n",
       "<table border=\"1\" class=\"dataframe\">\n",
       "  <thead>\n",
       "    <tr style=\"text-align: right;\">\n",
       "      <th></th>\n",
       "      <th>Employee</th>\n",
       "      <th>Performance Score</th>\n",
       "      <th>Salary</th>\n",
       "      <th>Bonus (%)</th>\n",
       "      <th>Bonus Amount</th>\n",
       "      <th>New Salary</th>\n",
       "    </tr>\n",
       "  </thead>\n",
       "  <tbody>\n",
       "    <tr>\n",
       "      <th>0</th>\n",
       "      <td>Alice</td>\n",
       "      <td>92</td>\n",
       "      <td>70000</td>\n",
       "      <td>10</td>\n",
       "      <td>7000.0</td>\n",
       "      <td>77000.0</td>\n",
       "    </tr>\n",
       "    <tr>\n",
       "      <th>1</th>\n",
       "      <td>Bob</td>\n",
       "      <td>85</td>\n",
       "      <td>65000</td>\n",
       "      <td>5</td>\n",
       "      <td>3250.0</td>\n",
       "      <td>68250.0</td>\n",
       "    </tr>\n",
       "    <tr>\n",
       "      <th>2</th>\n",
       "      <td>Charlie</td>\n",
       "      <td>78</td>\n",
       "      <td>60000</td>\n",
       "      <td>2</td>\n",
       "      <td>1200.0</td>\n",
       "      <td>61200.0</td>\n",
       "    </tr>\n",
       "    <tr>\n",
       "      <th>3</th>\n",
       "      <td>Diana</td>\n",
       "      <td>95</td>\n",
       "      <td>72000</td>\n",
       "      <td>10</td>\n",
       "      <td>7200.0</td>\n",
       "      <td>79200.0</td>\n",
       "    </tr>\n",
       "  </tbody>\n",
       "</table>\n",
       "</div>"
      ],
      "text/plain": [
       "  Employee  Performance Score  Salary  Bonus (%)  Bonus Amount  New Salary\n",
       "0    Alice                 92   70000         10        7000.0     77000.0\n",
       "1      Bob                 85   65000          5        3250.0     68250.0\n",
       "2  Charlie                 78   60000          2        1200.0     61200.0\n",
       "3    Diana                 95   72000         10        7200.0     79200.0"
      ]
     },
     "execution_count": 27,
     "metadata": {},
     "output_type": "execute_result"
    }
   ],
   "source": [
    "employees"
   ]
  },
  {
   "cell_type": "code",
   "execution_count": null,
   "id": "0ecedde1-14df-456a-9f06-c587e5ace1cd",
   "metadata": {},
   "outputs": [],
   "source": []
  },
  {
   "cell_type": "markdown",
   "id": "d2aa789a-c946-462b-8e3e-0e58f9d726a1",
   "metadata": {},
   "source": [
    "# Exercise 4"
   ]
  },
  {
   "cell_type": "raw",
   "id": "77a06f77-2718-4b73-9204-6b05b5a1b93d",
   "metadata": {},
   "source": [
    "Scenario\n",
    "Data coming from various sources can be messy. You have a DataFrame with extra whitespace and inconsistent capitalization that you need to clean.\n",
    "\n",
    "Dataset\n",
    "Create a DataFrame with columns like Name and City where the entries have extra spaces and inconsistent letter casing."
   ]
  },
  {
   "cell_type": "code",
   "execution_count": 28,
   "id": "f077d46f-1d7d-4e3b-8176-8ddaa2995363",
   "metadata": {},
   "outputs": [],
   "source": [
    "clean = pd.DataFrame({\n",
    "    'Name': ['  alice ', 'Bob', ' CHARLIE', 'diana '],\n",
    "    'City': [' new york', 'LOS ANGELES ', ' Chicago', 'houston  ']\n",
    "})"
   ]
  },
  {
   "cell_type": "code",
   "execution_count": 29,
   "id": "cad63259-4645-4754-b48f-2af2c0792844",
   "metadata": {},
   "outputs": [
    {
     "data": {
      "text/html": [
       "<div>\n",
       "<style scoped>\n",
       "    .dataframe tbody tr th:only-of-type {\n",
       "        vertical-align: middle;\n",
       "    }\n",
       "\n",
       "    .dataframe tbody tr th {\n",
       "        vertical-align: top;\n",
       "    }\n",
       "\n",
       "    .dataframe thead th {\n",
       "        text-align: right;\n",
       "    }\n",
       "</style>\n",
       "<table border=\"1\" class=\"dataframe\">\n",
       "  <thead>\n",
       "    <tr style=\"text-align: right;\">\n",
       "      <th></th>\n",
       "      <th>Name</th>\n",
       "      <th>City</th>\n",
       "    </tr>\n",
       "  </thead>\n",
       "  <tbody>\n",
       "    <tr>\n",
       "      <th>0</th>\n",
       "      <td>alice</td>\n",
       "      <td>new york</td>\n",
       "    </tr>\n",
       "    <tr>\n",
       "      <th>1</th>\n",
       "      <td>Bob</td>\n",
       "      <td>LOS ANGELES</td>\n",
       "    </tr>\n",
       "    <tr>\n",
       "      <th>2</th>\n",
       "      <td>CHARLIE</td>\n",
       "      <td>Chicago</td>\n",
       "    </tr>\n",
       "    <tr>\n",
       "      <th>3</th>\n",
       "      <td>diana</td>\n",
       "      <td>houston</td>\n",
       "    </tr>\n",
       "  </tbody>\n",
       "</table>\n",
       "</div>"
      ],
      "text/plain": [
       "       Name          City\n",
       "0    alice       new york\n",
       "1       Bob  LOS ANGELES \n",
       "2   CHARLIE       Chicago\n",
       "3    diana      houston  "
      ]
     },
     "execution_count": 29,
     "metadata": {},
     "output_type": "execute_result"
    }
   ],
   "source": [
    "clean"
   ]
  },
  {
   "cell_type": "code",
   "execution_count": 30,
   "id": "130134fd-7840-4df7-98e2-4097e63e0a0b",
   "metadata": {},
   "outputs": [],
   "source": [
    "def cleaning(x):\n",
    "    return x.strip().title()"
   ]
  },
  {
   "cell_type": "code",
   "execution_count": 31,
   "id": "32424349-637b-4fd8-b8a7-d076c161aef7",
   "metadata": {},
   "outputs": [],
   "source": [
    "cleaned = clean.map(cleaning)"
   ]
  },
  {
   "cell_type": "code",
   "execution_count": 32,
   "id": "ed1f022c-c514-4547-9ed0-049a30a0e8b2",
   "metadata": {},
   "outputs": [
    {
     "data": {
      "text/html": [
       "<div>\n",
       "<style scoped>\n",
       "    .dataframe tbody tr th:only-of-type {\n",
       "        vertical-align: middle;\n",
       "    }\n",
       "\n",
       "    .dataframe tbody tr th {\n",
       "        vertical-align: top;\n",
       "    }\n",
       "\n",
       "    .dataframe thead th {\n",
       "        text-align: right;\n",
       "    }\n",
       "</style>\n",
       "<table border=\"1\" class=\"dataframe\">\n",
       "  <thead>\n",
       "    <tr style=\"text-align: right;\">\n",
       "      <th></th>\n",
       "      <th>Name</th>\n",
       "      <th>City</th>\n",
       "    </tr>\n",
       "  </thead>\n",
       "  <tbody>\n",
       "    <tr>\n",
       "      <th>0</th>\n",
       "      <td>Alice</td>\n",
       "      <td>New York</td>\n",
       "    </tr>\n",
       "    <tr>\n",
       "      <th>1</th>\n",
       "      <td>Bob</td>\n",
       "      <td>Los Angeles</td>\n",
       "    </tr>\n",
       "    <tr>\n",
       "      <th>2</th>\n",
       "      <td>Charlie</td>\n",
       "      <td>Chicago</td>\n",
       "    </tr>\n",
       "    <tr>\n",
       "      <th>3</th>\n",
       "      <td>Diana</td>\n",
       "      <td>Houston</td>\n",
       "    </tr>\n",
       "  </tbody>\n",
       "</table>\n",
       "</div>"
      ],
      "text/plain": [
       "      Name         City\n",
       "0    Alice     New York\n",
       "1      Bob  Los Angeles\n",
       "2  Charlie      Chicago\n",
       "3    Diana      Houston"
      ]
     },
     "execution_count": 32,
     "metadata": {},
     "output_type": "execute_result"
    }
   ],
   "source": [
    "cleaned"
   ]
  },
  {
   "cell_type": "code",
   "execution_count": null,
   "id": "675f3c06-568f-4ea7-bc1d-05cef20395fd",
   "metadata": {},
   "outputs": [],
   "source": []
  }
 ],
 "metadata": {
  "kernelspec": {
   "display_name": "Python (data-analysis)",
   "language": "python",
   "name": "data-anaysis"
  },
  "language_info": {
   "codemirror_mode": {
    "name": "ipython",
    "version": 3
   },
   "file_extension": ".py",
   "mimetype": "text/x-python",
   "name": "python",
   "nbconvert_exporter": "python",
   "pygments_lexer": "ipython3",
   "version": "3.11.13"
  }
 },
 "nbformat": 4,
 "nbformat_minor": 5
}
