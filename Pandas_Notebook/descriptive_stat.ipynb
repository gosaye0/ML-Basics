{
 "cells": [
  {
   "cell_type": "code",
   "execution_count": null,
   "id": "01e69aec-01cf-455b-996c-2968de59fe93",
   "metadata": {},
   "outputs": [],
   "source": [
    "import pandas as pd\n",
    "import numpy as np"
   ]
  },
  {
   "cell_type": "markdown",
   "id": "879dbe7e-9dad-4913-8616-a131d9f8a41a",
   "metadata": {},
   "source": [
    "# Exercise 1"
   ]
  },
  {
   "cell_type": "raw",
   "id": "31cfc0f8-1540-4b7b-b2e3-bdf526b2fa84",
   "metadata": {},
   "source": [
    "Imagine you have a dataset that tracks the sales performance of a retail store across different regions and products. You want to analyze average sales, highest and lowest sales, and sales variation.\n",
    "\n",
    "Scenario: We have a dataset with sales records for different regions and products."
   ]
  },
  {
   "cell_type": "code",
   "execution_count": null,
   "id": "82354716-c794-42f6-bf56-3a82ee420276",
   "metadata": {},
   "outputs": [],
   "source": [
    "sales_data = {\n",
    "    \"Region\": [\"North\", \"South\", \"East\", \"West\", \"North\", \"South\", \"East\", \"West\", \"North\", \"South\"],\n",
    "    \"Product\": [\"A\", \"B\", \"A\", \"C\", \"B\", \"C\", \"A\", \"B\", \"C\", \"A\"],\n",
    "    \"Sales\": [120, 250, 190, 300, 210, 350, 180, 290, 320, 220],\n",
    "    \"Profit\": [30, 70, 50, 100, 55, 85, 45, 95, 110, 60]\n",
    "}\n",
    "data = pd.DataFrame(sales_data)\n",
    "data"
   ]
  },
  {
   "cell_type": "code",
   "execution_count": null,
   "id": "b91e3e88-1806-4e6e-bed8-5e2fb6197071",
   "metadata": {},
   "outputs": [],
   "source": [
    "# Descriptive statistics for sales\n",
    "sales_analysis = data['Sales'].describe()\n",
    "sales_analysis"
   ]
  },
  {
   "cell_type": "code",
   "execution_count": null,
   "id": "e92439d3-3ee8-4362-a257-fc1fa197cd1d",
   "metadata": {},
   "outputs": [],
   "source": [
    "# Grouping by Region:\n",
    "by_region = data.groupby('Region')['Sales'].agg(['max', 'min', 'sum', 'mean'])\n",
    "by_region"
   ]
  },
  {
   "cell_type": "code",
   "execution_count": null,
   "id": "40df021e-377d-4b7a-bdc2-ac8d47531ad4",
   "metadata": {},
   "outputs": [],
   "source": [
    "# fun\n",
    "data['Sales'].quantile(0.75)"
   ]
  },
  {
   "cell_type": "code",
   "execution_count": null,
   "id": "69819a85-8ea1-4447-aab1-b69233500c20",
   "metadata": {},
   "outputs": [],
   "source": []
  },
  {
   "cell_type": "markdown",
   "id": "e58ea681-7875-402f-9fc8-1308fe232e87",
   "metadata": {},
   "source": [
    "# Exercise 2"
   ]
  },
  {
   "cell_type": "raw",
   "id": "1645398f-f46e-4f53-9459-fe1845d976f7",
   "metadata": {},
   "source": [
    "Now, let's analyze an employee performance dataset. The goal is to find out the average performance, best and worst performers, and the spread of performance."
   ]
  },
  {
   "cell_type": "code",
   "execution_count": null,
   "id": "65952338-e0e6-4e1d-80bd-82afd2a11cc6",
   "metadata": {},
   "outputs": [],
   "source": [
    "employee_data = {\n",
    "    \"Employee\": [\"John\", \"Jane\", \"Alice\", \"Bob\", \"Diana\", \"Frank\", \"Grace\", \"Helen\", \"Eve\", \"Tom\"],\n",
    "    \"Department\": [\"HR\", \"IT\", \"HR\", \"Finance\", \"IT\", \"Finance\", \"HR\", \"Finance\", \"IT\", \"HR\"],\n",
    "    \"Performance_Score\": [80, 95, 90, 70, 85, 88, 92, 75, 78, 90],\n",
    "    \"Salary\": [60000, 70000, 65000, 75000, 70000, 77000, 68000, 80000, 72000, 69000]\n",
    "}\n",
    "\n",
    "employee = pd.DataFrame(employee_data)"
   ]
  },
  {
   "cell_type": "code",
   "execution_count": null,
   "id": "ab219666-fd8b-46f8-9a71-7ec00f6d0189",
   "metadata": {},
   "outputs": [],
   "source": [
    "employee"
   ]
  },
  {
   "cell_type": "code",
   "execution_count": null,
   "id": "304db15a-77e5-4f2a-b272-582a8d9295bb",
   "metadata": {},
   "outputs": [],
   "source": [
    "# Descriptive statistics for Performance Score:\n",
    "employee['Performance_Score'].describe()"
   ]
  },
  {
   "cell_type": "code",
   "execution_count": null,
   "id": "4f3b0dfd-30a5-4280-a9d6-dbbb3940535a",
   "metadata": {},
   "outputs": [],
   "source": [
    "# Grouped by Department:\n",
    "employee.groupby('Department').agg({'Performance_Score': 'mean', 'Salary': 'max'})"
   ]
  },
  {
   "cell_type": "code",
   "execution_count": null,
   "id": "f4a78452-fbb6-4121-b59e-2e23eb07fd6e",
   "metadata": {},
   "outputs": [],
   "source": []
  },
  {
   "cell_type": "markdown",
   "id": "6c640cad-c0e8-4221-ba6d-f9c7c368864d",
   "metadata": {},
   "source": [
    "# Exercise 3"
   ]
  },
  {
   "cell_type": "raw",
   "id": "95daa55e-7c05-4b79-b69f-e4445e1a7d50",
   "metadata": {},
   "source": [
    "Let's analyze financial data for several companies and compute key financial statistics like average revenue, profit margin, and spread of revenue."
   ]
  },
  {
   "cell_type": "code",
   "execution_count": null,
   "id": "f0a70f28-9db6-4863-b243-fa35562ec65b",
   "metadata": {},
   "outputs": [],
   "source": [
    "financial_data = {\n",
    "    \"Company\": [\"Apple\", \"Microsoft\", \"Google\", \"Amazon\", \"Facebook\"],\n",
    "    \"Revenue\": [1000, 800, 950, 1200, 1100],\n",
    "    \"Profit\": [250, 200, 220, 300, 270],\n",
    "    \"Employees\": [150000, 160000, 120000, 100000, 50000]\n",
    "}\n",
    "\n",
    "financial = pd.DataFrame(financial_data)"
   ]
  },
  {
   "cell_type": "code",
   "execution_count": null,
   "id": "348b3a83-fff6-4b46-a55b-4f93c6301ceb",
   "metadata": {},
   "outputs": [],
   "source": [
    "financial"
   ]
  },
  {
   "cell_type": "code",
   "execution_count": null,
   "id": "980c5622-66aa-4f84-84cc-37e21d2f6ea4",
   "metadata": {},
   "outputs": [],
   "source": [
    "# Descriptive statistics for Revenue:\n",
    "financial['Revenue'].describe()"
   ]
  },
  {
   "cell_type": "code",
   "execution_count": null,
   "id": "d22da038-21ee-42cb-a531-37f62dfe5246",
   "metadata": {},
   "outputs": [],
   "source": [
    "# Profit Margin for each company\n",
    "financial['Profit_Margin'] = financial['Profit']/financial['Revenue']"
   ]
  },
  {
   "cell_type": "code",
   "execution_count": null,
   "id": "6741b06a-84d7-4426-a0cf-5b01082b0a39",
   "metadata": {},
   "outputs": [],
   "source": [
    "financial"
   ]
  },
  {
   "cell_type": "code",
   "execution_count": null,
   "id": "a78f6b17-4afe-48fc-80c8-d899718f5c6a",
   "metadata": {},
   "outputs": [],
   "source": []
  }
 ],
 "metadata": {
  "kernelspec": {
   "display_name": "Python (data-analysis)",
   "language": "python",
   "name": "data-anaysis"
  },
  "language_info": {
   "codemirror_mode": {
    "name": "ipython",
    "version": 3
   },
   "file_extension": ".py",
   "mimetype": "text/x-python",
   "name": "python",
   "nbconvert_exporter": "python",
   "pygments_lexer": "ipython3",
   "version": "3.11.13"
  }
 },
 "nbformat": 4,
 "nbformat_minor": 5
}
