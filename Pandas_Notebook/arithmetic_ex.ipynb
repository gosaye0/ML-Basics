{
 "cells": [
  {
   "cell_type": "code",
   "execution_count": 1,
   "id": "233ba802-0b8b-4d97-ab9c-7414c273ef35",
   "metadata": {},
   "outputs": [],
   "source": [
    "import pandas as pd\n",
    "import numpy as np"
   ]
  },
  {
   "cell_type": "raw",
   "id": "7696d0d2-473f-423a-9ef3-b1586bf903a4",
   "metadata": {},
   "source": [
    "A company has recorded the number of units sold (Units_Sold) and the price per unit (Price_per_Unit). We want to calculate the Total Revenue, Discounted Revenue, and Profit Margin after deducting the cost per unit."
   ]
  },
  {
   "cell_type": "code",
   "execution_count": 2,
   "id": "99258107-7b9a-4953-9944-4a226192cd3b",
   "metadata": {},
   "outputs": [],
   "source": [
    "sales_data = pd.DataFrame({\n",
    "    'Product': ['Laptop', 'Phone', 'Tablet'],\n",
    "    'Units_Sold': [100, 200, 150],\n",
    "    'Price_per_Unit': [1200, 800, 500],\n",
    "    'Cost_per_Unit': [900, 500, 300]\n",
    "})"
   ]
  },
  {
   "cell_type": "code",
   "execution_count": 3,
   "id": "9f82d5ff-6443-401c-962b-5231600adae3",
   "metadata": {},
   "outputs": [
    {
     "data": {
      "text/html": [
       "<div>\n",
       "<style scoped>\n",
       "    .dataframe tbody tr th:only-of-type {\n",
       "        vertical-align: middle;\n",
       "    }\n",
       "\n",
       "    .dataframe tbody tr th {\n",
       "        vertical-align: top;\n",
       "    }\n",
       "\n",
       "    .dataframe thead th {\n",
       "        text-align: right;\n",
       "    }\n",
       "</style>\n",
       "<table border=\"1\" class=\"dataframe\">\n",
       "  <thead>\n",
       "    <tr style=\"text-align: right;\">\n",
       "      <th></th>\n",
       "      <th>Product</th>\n",
       "      <th>Units_Sold</th>\n",
       "      <th>Price_per_Unit</th>\n",
       "      <th>Cost_per_Unit</th>\n",
       "    </tr>\n",
       "  </thead>\n",
       "  <tbody>\n",
       "    <tr>\n",
       "      <th>0</th>\n",
       "      <td>Laptop</td>\n",
       "      <td>100</td>\n",
       "      <td>1200</td>\n",
       "      <td>900</td>\n",
       "    </tr>\n",
       "    <tr>\n",
       "      <th>1</th>\n",
       "      <td>Phone</td>\n",
       "      <td>200</td>\n",
       "      <td>800</td>\n",
       "      <td>500</td>\n",
       "    </tr>\n",
       "    <tr>\n",
       "      <th>2</th>\n",
       "      <td>Tablet</td>\n",
       "      <td>150</td>\n",
       "      <td>500</td>\n",
       "      <td>300</td>\n",
       "    </tr>\n",
       "  </tbody>\n",
       "</table>\n",
       "</div>"
      ],
      "text/plain": [
       "  Product  Units_Sold  Price_per_Unit  Cost_per_Unit\n",
       "0  Laptop         100            1200            900\n",
       "1   Phone         200             800            500\n",
       "2  Tablet         150             500            300"
      ]
     },
     "execution_count": 3,
     "metadata": {},
     "output_type": "execute_result"
    }
   ],
   "source": [
    "sales_data"
   ]
  },
  {
   "cell_type": "code",
   "execution_count": 4,
   "id": "202709f9-48fc-4319-a6ff-3dbc6977ff60",
   "metadata": {},
   "outputs": [],
   "source": [
    "sales_data['Revenue'] = sales_data['Units_Sold'] * sales_data['Price_per_Unit']"
   ]
  },
  {
   "cell_type": "code",
   "execution_count": 5,
   "id": "44773903-4ea5-428c-9b59-bc7515cdc534",
   "metadata": {},
   "outputs": [],
   "source": [
    "sales_data['Profit'] = sales_data['Units_Sold'].mul(sales_data['Price_per_Unit'].sub(sales_data['Cost_per_Unit']))"
   ]
  },
  {
   "cell_type": "code",
   "execution_count": 6,
   "id": "d335cb37-4128-4006-b35d-35779e00a8ac",
   "metadata": {},
   "outputs": [],
   "source": [
    "sales_data['Profit_Margin'] = sales_data['Profit']/sales_data['Revenue']"
   ]
  },
  {
   "cell_type": "code",
   "execution_count": 7,
   "id": "e6f28702-aaed-4e12-8eaa-c9251b09e2d7",
   "metadata": {},
   "outputs": [
    {
     "data": {
      "text/html": [
       "<div>\n",
       "<style scoped>\n",
       "    .dataframe tbody tr th:only-of-type {\n",
       "        vertical-align: middle;\n",
       "    }\n",
       "\n",
       "    .dataframe tbody tr th {\n",
       "        vertical-align: top;\n",
       "    }\n",
       "\n",
       "    .dataframe thead th {\n",
       "        text-align: right;\n",
       "    }\n",
       "</style>\n",
       "<table border=\"1\" class=\"dataframe\">\n",
       "  <thead>\n",
       "    <tr style=\"text-align: right;\">\n",
       "      <th></th>\n",
       "      <th>Product</th>\n",
       "      <th>Units_Sold</th>\n",
       "      <th>Price_per_Unit</th>\n",
       "      <th>Cost_per_Unit</th>\n",
       "      <th>Revenue</th>\n",
       "      <th>Profit</th>\n",
       "      <th>Profit_Margin</th>\n",
       "    </tr>\n",
       "  </thead>\n",
       "  <tbody>\n",
       "    <tr>\n",
       "      <th>0</th>\n",
       "      <td>Laptop</td>\n",
       "      <td>100</td>\n",
       "      <td>1200</td>\n",
       "      <td>900</td>\n",
       "      <td>120000</td>\n",
       "      <td>30000</td>\n",
       "      <td>0.250</td>\n",
       "    </tr>\n",
       "    <tr>\n",
       "      <th>1</th>\n",
       "      <td>Phone</td>\n",
       "      <td>200</td>\n",
       "      <td>800</td>\n",
       "      <td>500</td>\n",
       "      <td>160000</td>\n",
       "      <td>60000</td>\n",
       "      <td>0.375</td>\n",
       "    </tr>\n",
       "    <tr>\n",
       "      <th>2</th>\n",
       "      <td>Tablet</td>\n",
       "      <td>150</td>\n",
       "      <td>500</td>\n",
       "      <td>300</td>\n",
       "      <td>75000</td>\n",
       "      <td>30000</td>\n",
       "      <td>0.400</td>\n",
       "    </tr>\n",
       "  </tbody>\n",
       "</table>\n",
       "</div>"
      ],
      "text/plain": [
       "  Product  Units_Sold  Price_per_Unit  Cost_per_Unit  Revenue  Profit  \\\n",
       "0  Laptop         100            1200            900   120000   30000   \n",
       "1   Phone         200             800            500   160000   60000   \n",
       "2  Tablet         150             500            300    75000   30000   \n",
       "\n",
       "   Profit_Margin  \n",
       "0          0.250  \n",
       "1          0.375  \n",
       "2          0.400  "
      ]
     },
     "execution_count": 7,
     "metadata": {},
     "output_type": "execute_result"
    }
   ],
   "source": [
    "sales_data"
   ]
  },
  {
   "cell_type": "code",
   "execution_count": 8,
   "id": "777629ab-075d-42af-aad0-6f8b7ed94a86",
   "metadata": {},
   "outputs": [
    {
     "ename": "SyntaxError",
     "evalue": "f-string: unmatched '[' (18352743.py, line 1)",
     "output_type": "error",
     "traceback": [
      "  \u001b[36mCell\u001b[39m\u001b[36m \u001b[39m\u001b[32mIn[8]\u001b[39m\u001b[32m, line 1\u001b[39m\n\u001b[31m    \u001b[39m\u001b[31mprint(f'The total revenue is: {sales_data['Revenue'].sum()}')\u001b[39m\n                                               ^\n\u001b[31mSyntaxError\u001b[39m\u001b[31m:\u001b[39m f-string: unmatched '['\n"
     ]
    }
   ],
   "source": [
    "print(f'The total revenue is: {sales_data['Revenue'].sum()}')\n",
    "print(f'The total profit is: {sales_data['Profit'].sum()}')"
   ]
  },
  {
   "cell_type": "code",
   "execution_count": null,
   "id": "0bb04795-e101-4ca1-b67c-e9b8ca626e5a",
   "metadata": {},
   "outputs": [],
   "source": []
  },
  {
   "cell_type": "code",
   "execution_count": null,
   "id": "763215e6-a8d8-4844-bc2a-3621534288db",
   "metadata": {},
   "outputs": [],
   "source": []
  },
  {
   "cell_type": "raw",
   "id": "c0838603-75e5-409e-be82-c26216b50096",
   "metadata": {},
   "source": [
    "A company wants to increase employee salaries by 5% if their salary is below $50,000 and by 3% otherwise."
   ]
  },
  {
   "cell_type": "code",
   "execution_count": null,
   "id": "d70d54c1-bc4a-4dc2-9962-e541097925af",
   "metadata": {},
   "outputs": [],
   "source": [
    "salary_data = pd.DataFrame({\n",
    "    'Employee': ['Alice', 'Bob', 'Charlie', 'David'],\n",
    "    'Current_Salary': [45000, 60000, 52000, 48000]\n",
    "})"
   ]
  },
  {
   "cell_type": "code",
   "execution_count": null,
   "id": "b2c8267d-d656-4c4f-a0c0-99f0966b1899",
   "metadata": {},
   "outputs": [],
   "source": [
    "salary_data"
   ]
  },
  {
   "cell_type": "code",
   "execution_count": null,
   "id": "d8d06dd2-f834-4e4f-a265-7ce37d33682e",
   "metadata": {},
   "outputs": [],
   "source": [
    "salary_data['New_Salary'] = salary_data['Current_Salary'] * (salary_data['Current_Salary'].apply(lambda x : 1.05 if x < 50000 else 1.03))"
   ]
  },
  {
   "cell_type": "code",
   "execution_count": null,
   "id": "7695eea5-51f0-4500-b1e6-a5307cc0e060",
   "metadata": {},
   "outputs": [],
   "source": [
    "salary_data"
   ]
  },
  {
   "cell_type": "code",
   "execution_count": null,
   "id": "ca71b4de-e394-431f-a482-db3923de775e",
   "metadata": {},
   "outputs": [],
   "source": []
  },
  {
   "cell_type": "code",
   "execution_count": null,
   "id": "526d30c3-7836-40a2-989f-d6e6c0f0a059",
   "metadata": {},
   "outputs": [],
   "source": []
  },
  {
   "cell_type": "raw",
   "id": "73a2c633-7ab4-4e53-8ae3-3a1601a26934",
   "metadata": {},
   "source": [
    "Scenario:\n",
    "A retail store has different products with current stock levels. If the stock is below a minimum threshold, we need to calculate the restock quantity required to reach a desired stock level."
   ]
  },
  {
   "cell_type": "code",
   "execution_count": null,
   "id": "6b089c7b-61a9-4d2a-8d43-0270977a85ef",
   "metadata": {},
   "outputs": [],
   "source": [
    "inventory = pd.DataFrame({\n",
    "    'Product': ['TV', 'Fridge', 'Microwave', 'Washing Machine'],\n",
    "    'Current_Stock': [10, 5, 20, 3],\n",
    "    'Minimum_Stock': [15, 10, 20, 5],\n",
    "    'Restock_Level': [25, 20, 30, 15]\n",
    "})"
   ]
  },
  {
   "cell_type": "code",
   "execution_count": null,
   "id": "af024cf2-6b6a-463b-a0ff-49bf885f28c2",
   "metadata": {},
   "outputs": [],
   "source": [
    "inventory"
   ]
  },
  {
   "cell_type": "code",
   "execution_count": null,
   "id": "5fda7ce5-f7b4-4fdf-870a-626fd946f2ee",
   "metadata": {},
   "outputs": [],
   "source": [
    "# Calculate restock quantity (if needed)\n",
    "inventory['Restock_Quantity'] = (inventory['Restock_Level'] - inventory['Current_Stock']).apply(lambda x: x if x > 0 else 0)"
   ]
  },
  {
   "cell_type": "code",
   "execution_count": null,
   "id": "8d10df31-a55f-4ef8-be3f-a1506428fb1e",
   "metadata": {},
   "outputs": [],
   "source": [
    "inventory"
   ]
  },
  {
   "cell_type": "code",
   "execution_count": null,
   "id": "23b223a4-0022-46b9-acbf-5caad0943a60",
   "metadata": {},
   "outputs": [],
   "source": []
  },
  {
   "cell_type": "code",
   "execution_count": null,
   "id": "2095bb77-1a26-419a-a2a8-38bbeaa1accd",
   "metadata": {},
   "outputs": [],
   "source": []
  },
  {
   "cell_type": "raw",
   "id": "6368a244-6db2-4cc7-a652-0e1f580fdc4d",
   "metadata": {},
   "source": [
    "Scenario:\n",
    "A weather station records daily temperatures in Fahrenheit. We need to convert them to Celsius and calculate temperature anomalies (i.e., the difference from the average temperature)."
   ]
  },
  {
   "cell_type": "code",
   "execution_count": null,
   "id": "18fde92c-3135-4a74-85bd-93cbb9c0fe6e",
   "metadata": {},
   "outputs": [],
   "source": [
    "weather_data = pd.DataFrame({\n",
    "    'City': ['New York', 'Los Angeles', 'Chicago', 'Houston'],\n",
    "    'Temperature_F': [77, 88, 70, 95]  # Fahrenheit\n",
    "})"
   ]
  },
  {
   "cell_type": "code",
   "execution_count": null,
   "id": "7b71274c-498f-4cc8-8ab7-4698a4b0ded2",
   "metadata": {},
   "outputs": [],
   "source": [
    "weather_data"
   ]
  },
  {
   "cell_type": "code",
   "execution_count": null,
   "id": "006971a6-2a3f-4c01-ac1b-98d00544b8c4",
   "metadata": {},
   "outputs": [],
   "source": [
    "weather_data['Temperature_C'] = (weather_data['Temperature_F'] - 32) * 5/9"
   ]
  },
  {
   "cell_type": "code",
   "execution_count": null,
   "id": "60fab7e7-8d35-436c-a85f-9a00103b1c33",
   "metadata": {},
   "outputs": [],
   "source": [
    "weather_data"
   ]
  },
  {
   "cell_type": "code",
   "execution_count": null,
   "id": "2a7fabaf-3433-4865-9247-ce5f84c05f84",
   "metadata": {},
   "outputs": [],
   "source": [
    "weather_data['T_Anomalies'] = weather_data['Temperature_C'] - (weather_data['Temperature_C'].mean())"
   ]
  },
  {
   "cell_type": "code",
   "execution_count": null,
   "id": "52b7fb20-8ec8-48b0-8401-a0ff5dc3c239",
   "metadata": {},
   "outputs": [],
   "source": [
    "weather_data"
   ]
  },
  {
   "cell_type": "code",
   "execution_count": null,
   "id": "b5f21dc2-dfc9-46ab-9336-0dce9504e957",
   "metadata": {},
   "outputs": [],
   "source": []
  },
  {
   "cell_type": "code",
   "execution_count": null,
   "id": "4b270a43-c2b2-4424-b650-3f80b0d6898b",
   "metadata": {},
   "outputs": [],
   "source": []
  },
  {
   "cell_type": "raw",
   "id": "6de2e4d9-a4ba-4ea7-a5fd-ffa43e50e223",
   "metadata": {},
   "source": [
    "A school records student grades. We need to calculate their final percentage and determine pass/fail status."
   ]
  },
  {
   "cell_type": "code",
   "execution_count": null,
   "id": "e6f1e94a-aec8-4de9-9c9a-1426a6afa221",
   "metadata": {},
   "outputs": [],
   "source": [
    "grades = pd.DataFrame({\n",
    "    'Student': ['Emma', 'John', 'Lily', 'Michael'],\n",
    "    'Math': [85, 78, 92, 60],\n",
    "    'Science': [90, 75, 88, 70],\n",
    "    'English': [88, 82, 80, 65]\n",
    "})"
   ]
  },
  {
   "cell_type": "code",
   "execution_count": null,
   "id": "ad57fcdd-cc9b-4565-8139-3e2fb3ee0007",
   "metadata": {},
   "outputs": [],
   "source": [
    "grades"
   ]
  },
  {
   "cell_type": "code",
   "execution_count": null,
   "id": "6172e83f-db27-454b-b2b2-c38f25520269",
   "metadata": {},
   "outputs": [],
   "source": [
    "grades['Average'] = (grades[['Math', 'Science', 'English']]).mean(axis = 'columns')"
   ]
  },
  {
   "cell_type": "code",
   "execution_count": null,
   "id": "21956f4c-fed0-4a9f-86bf-acc5184995f6",
   "metadata": {},
   "outputs": [],
   "source": [
    "grades"
   ]
  },
  {
   "cell_type": "code",
   "execution_count": null,
   "id": "d63a9272-ef45-44a2-9fea-4dc5776a4847",
   "metadata": {},
   "outputs": [],
   "source": [
    "grades['Status'] = grades['Average'].apply(lambda mark: 'Pass' if mark > 70 else 'Fail')"
   ]
  },
  {
   "cell_type": "code",
   "execution_count": null,
   "id": "4c235309-1e7a-4565-a2d2-9884e700412d",
   "metadata": {},
   "outputs": [],
   "source": [
    "grades"
   ]
  },
  {
   "cell_type": "code",
   "execution_count": null,
   "id": "f7f416c8-d9da-48e5-bbd3-863a50a5194d",
   "metadata": {},
   "outputs": [],
   "source": []
  }
 ],
 "metadata": {
  "kernelspec": {
   "display_name": "Python (data-analysis)",
   "language": "python",
   "name": "data-anaysis"
  },
  "language_info": {
   "codemirror_mode": {
    "name": "ipython",
    "version": 3
   },
   "file_extension": ".py",
   "mimetype": "text/x-python",
   "name": "python",
   "nbconvert_exporter": "python",
   "pygments_lexer": "ipython3",
   "version": "3.11.13"
  }
 },
 "nbformat": 4,
 "nbformat_minor": 5
}
