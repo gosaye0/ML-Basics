{
 "cells": [
  {
   "cell_type": "code",
   "execution_count": 1,
   "id": "c3fb1a06-1679-4d9a-8b43-4ccc85ce2ecb",
   "metadata": {},
   "outputs": [],
   "source": [
    "import pandas as pd\n",
    "import numpy as np"
   ]
  },
  {
   "cell_type": "markdown",
   "id": "e5bfdca4-1fe6-4a44-91be-88234480bd77",
   "metadata": {},
   "source": [
    "### 1. Series"
   ]
  },
  {
   "cell_type": "markdown",
   "id": "64825c27-a6cc-4811-bc46-2b5e643d1589",
   "metadata": {},
   "source": [
    " Series is a one-dimensional array-like object containing a sequence of values (of\n",
    " similar types to NumPy types) of the same type and an associated array of data labels,\n",
    " called its index. The simplest Series is formed from only an array of data:"
   ]
  },
  {
   "cell_type": "code",
   "execution_count": 2,
   "id": "d545aacd-78e5-491b-8da9-dab271823d94",
   "metadata": {},
   "outputs": [
    {
     "data": {
      "text/plain": [
       "0    4\n",
       "1    5\n",
       "2    6\n",
       "3    7\n",
       "dtype: int64"
      ]
     },
     "execution_count": 2,
     "metadata": {},
     "output_type": "execute_result"
    }
   ],
   "source": [
    "# for example\n",
    "# simple array from only array of data\n",
    "a = pd.Series([4, 5, 6, 7])\n",
    "a"
   ]
  },
  {
   "cell_type": "code",
   "execution_count": 3,
   "id": "c7c0accb-8156-4626-ad6c-a4aa736bcd7b",
   "metadata": {},
   "outputs": [
    {
     "data": {
      "text/plain": [
       "0       ONANA\n",
       "1    MARTINEZ\n",
       "2     MAGUIRE\n",
       "3        YORO\n",
       "dtype: object"
      ]
     },
     "execution_count": 3,
     "metadata": {},
     "output_type": "execute_result"
    }
   ],
   "source": [
    "b = pd.Series(['ONANA', 'MARTINEZ', 'MAGUIRE', 'YORO'])\n",
    "b"
   ]
  },
  {
   "cell_type": "code",
   "execution_count": 4,
   "id": "578c9c47-059f-4ec5-9cac-e77ac96e2675",
   "metadata": {},
   "outputs": [
    {
     "name": "stdout",
     "output_type": "stream",
     "text": [
      "Array representation:\n",
      "<NumpyExtensionArray>\n",
      "[4, 5, 6, 7]\n",
      "Length: 4, dtype: int64\n",
      "\n",
      "index object:\n",
      "RangeIndex(start=0, stop=4, step=1)\n"
     ]
    }
   ],
   "source": [
    "# Array representation and index object of a series\n",
    "print('Array representation:')\n",
    "print(a.array)\n",
    "\n",
    "print('\\nindex object:')\n",
    "print(a.index)"
   ]
  },
  {
   "cell_type": "code",
   "execution_count": 5,
   "id": "6777b3ca-07b4-4ea7-9158-676ae26cc330",
   "metadata": {},
   "outputs": [
    {
     "data": {
      "text/plain": [
       "GK       ONANA\n",
       "CB    MARTINEZ\n",
       "MF       RODRI\n",
       "CF       MESSI\n",
       "dtype: object"
      ]
     },
     "execution_count": 5,
     "metadata": {},
     "output_type": "execute_result"
    }
   ],
   "source": [
    "# Creatina a series with specific index\n",
    "c = pd.Series(['ONANA', 'MARTINEZ', 'RODRI', 'MESSI'], index = ['GK', 'CB', 'MF', 'CF'])\n",
    "c"
   ]
  },
  {
   "cell_type": "code",
   "execution_count": 6,
   "id": "fa493047-49ef-4456-9f16-2fc1112e5901",
   "metadata": {},
   "outputs": [
    {
     "data": {
      "text/plain": [
       "Index(['GK', 'CB', 'MF', 'CF'], dtype='object')"
      ]
     },
     "execution_count": 6,
     "metadata": {},
     "output_type": "execute_result"
    }
   ],
   "source": [
    "# accessing the index\n",
    "c.index"
   ]
  },
  {
   "cell_type": "code",
   "execution_count": 7,
   "id": "6d9bfc03-a00f-4800-bf6e-9e2eddaefcfa",
   "metadata": {},
   "outputs": [
    {
     "name": "stdout",
     "output_type": "stream",
     "text": [
      "The CB is: MARTINEZ\n",
      "The CF is: MESSI\n",
      "GK    ONANA\n",
      "MF    RODRI\n",
      "dtype: object\n"
     ]
    }
   ],
   "source": [
    "# accessing the values through index\n",
    "print(f\"The CB is: {c['CB']}\")     # output: MARTINEZ\n",
    "print(f\"The CF is: {c['CF']}\")   # output: MESSI \n",
    "\n",
    "# accessing multiple values\n",
    "print(c[['GK', 'MF']])"
   ]
  },
  {
   "cell_type": "code",
   "execution_count": 8,
   "id": "1b17df67-ec8c-4129-b593-0a3687a7d523",
   "metadata": {},
   "outputs": [
    {
     "data": {
      "text/plain": [
       "2    6\n",
       "3    7\n",
       "dtype: int64"
      ]
     },
     "execution_count": 8,
     "metadata": {},
     "output_type": "execute_result"
    }
   ],
   "source": [
    "# numpy operations\n",
    "# recall a = pd.Series([4, 5, 6, 7])\n",
    "\n",
    "a[a>5]"
   ]
  },
  {
   "cell_type": "code",
   "execution_count": 9,
   "id": "36c7d2ce-1ef3-4019-967f-94fa884b72ad",
   "metadata": {},
   "outputs": [
    {
     "data": {
      "text/plain": [
       "0    16\n",
       "1    20\n",
       "2    24\n",
       "3    28\n",
       "dtype: int64"
      ]
     },
     "execution_count": 9,
     "metadata": {},
     "output_type": "execute_result"
    }
   ],
   "source": [
    "a * 4"
   ]
  },
  {
   "cell_type": "code",
   "execution_count": 10,
   "id": "63a293a9-dfc9-43ba-b178-2a033f39b7b3",
   "metadata": {},
   "outputs": [
    {
     "data": {
      "text/plain": [
       "0      54.598150\n",
       "1     148.413159\n",
       "2     403.428793\n",
       "3    1096.633158\n",
       "dtype: float64"
      ]
     },
     "execution_count": 10,
     "metadata": {},
     "output_type": "execute_result"
    }
   ],
   "source": [
    "# applying numpy like functions preserve the index-value link\n",
    "np.exp(a)"
   ]
  },
  {
   "cell_type": "code",
   "execution_count": 11,
   "id": "90105dd9-cc06-4fc5-b4be-4c365fd0e683",
   "metadata": {},
   "outputs": [
    {
     "name": "stdout",
     "output_type": "stream",
     "text": [
      "True\n",
      "False\n"
     ]
    }
   ],
   "source": [
    "# recall c = pd.Series(['ONANA', 'MARTINEZ', 'RODRI', 'MESSI'], index = ['GK', 'CB', 'MF', 'CF'])\n",
    "# another way to think about a series is a fixed length, ordered dictionary\n",
    "\n",
    "print('CB' in c)     # True \n",
    "print('RW' in c)     # False"
   ]
  },
  {
   "cell_type": "code",
   "execution_count": 12,
   "id": "c2e1517f-c4d6-49a8-9f70-d28b3b980c84",
   "metadata": {},
   "outputs": [
    {
     "data": {
      "text/plain": [
       "Africa           35000\n",
       "Asia             71000\n",
       "North America    16000\n",
       "South America    32000\n",
       "Europe           24000\n",
       "Australia         9000\n",
       "dtype: int64"
      ]
     },
     "execution_count": 12,
     "metadata": {},
     "output_type": "execute_result"
    }
   ],
   "source": [
    "# We can create Series from python dictionariy\n",
    "d_data = {'Africa': 35000, 'Asia': 71000, 'North America': 16000, 'South America': 32000, 'Europe': 24000, 'Australia': 9000}\n",
    "s_data = pd.Series(d_data)\n",
    "s_data"
   ]
  },
  {
   "cell_type": "code",
   "execution_count": 13,
   "id": "c7798437-2e3d-4590-a040-76c12f5991cd",
   "metadata": {},
   "outputs": [
    {
     "data": {
      "text/plain": [
       "{'Africa': 35000,\n",
       " 'Asia': 71000,\n",
       " 'North America': 16000,\n",
       " 'South America': 32000,\n",
       " 'Europe': 24000,\n",
       " 'Australia': 9000}"
      ]
     },
     "execution_count": 13,
     "metadata": {},
     "output_type": "execute_result"
    }
   ],
   "source": [
    "# A sreries can be converted back to a dictionary with its to_dict method\n",
    "s_data.to_dict()"
   ]
  },
  {
   "cell_type": "code",
   "execution_count": 14,
   "id": "39911313-edf0-4d3a-9f10-c7eaf608fddb",
   "metadata": {},
   "outputs": [
    {
     "data": {
      "text/plain": [
       "Asia             71000.0\n",
       "Africa           35000.0\n",
       "South America    32000.0\n",
       "Europe           24000.0\n",
       "North America    16000.0\n",
       "Antartica            NaN\n",
       "dtype: float64"
      ]
     },
     "execution_count": 14,
     "metadata": {},
     "output_type": "execute_result"
    }
   ],
   "source": [
    "# As we pass the dictionary to the series it will adopt the order of the keys in the dictionary\n",
    "# We can override by passing index argument\n",
    "\n",
    "continents = ['Asia', 'Africa', 'South America', 'Europe', 'North America', 'Antartica']\n",
    "sdata = pd.Series(d_data, index = continents)\n",
    "sdata"
   ]
  },
  {
   "cell_type": "code",
   "execution_count": 15,
   "id": "db1f65f5-263f-4fe0-83bd-d3224909319a",
   "metadata": {},
   "outputs": [
    {
     "data": {
      "text/plain": [
       "Asia             False\n",
       "Africa           False\n",
       "South America    False\n",
       "Europe           False\n",
       "North America    False\n",
       "Antartica         True\n",
       "dtype: bool"
      ]
     },
     "execution_count": 15,
     "metadata": {},
     "output_type": "execute_result"
    }
   ],
   "source": [
    "# in the above example since Antartica  has no value is responds with NaN\n",
    "# Since we exclude Australia from the index it is excluded from the series\n",
    "# The isna() and notna() functions in pandas should be used to detect missing data\n",
    "pd.isna(sdata)"
   ]
  },
  {
   "cell_type": "code",
   "execution_count": 16,
   "id": "e4e45911-4afc-4968-961c-539c4d2c8aa1",
   "metadata": {},
   "outputs": [
    {
     "data": {
      "text/plain": [
       "Asia              True\n",
       "Africa            True\n",
       "South America     True\n",
       "Europe            True\n",
       "North America     True\n",
       "Antartica        False\n",
       "dtype: bool"
      ]
     },
     "execution_count": 16,
     "metadata": {},
     "output_type": "execute_result"
    }
   ],
   "source": [
    "pd.notna(sdata)"
   ]
  },
  {
   "cell_type": "code",
   "execution_count": 17,
   "id": "7c4ace09-d9e0-4a20-b11a-1bc8dd5afbac",
   "metadata": {},
   "outputs": [
    {
     "data": {
      "text/plain": [
       "Asia             False\n",
       "Africa           False\n",
       "South America    False\n",
       "Europe           False\n",
       "North America    False\n",
       "Antartica         True\n",
       "dtype: bool"
      ]
     },
     "execution_count": 17,
     "metadata": {},
     "output_type": "execute_result"
    }
   ],
   "source": [
    "# series also has these functions\n",
    "sdata.isna()"
   ]
  },
  {
   "cell_type": "code",
   "execution_count": 18,
   "id": "7829c28a-ea28-45f5-9150-b4ae4c40faa3",
   "metadata": {},
   "outputs": [
    {
     "name": "stdout",
     "output_type": "stream",
     "text": [
      "s_data:\n",
      "Africa           35000\n",
      "Asia             71000\n",
      "North America    16000\n",
      "South America    32000\n",
      "Europe           24000\n",
      "Australia         9000\n",
      "dtype: int64\n",
      "\n",
      "\n",
      "sdata\n",
      "Asia             71000.0\n",
      "Africa           35000.0\n",
      "South America    32000.0\n",
      "Europe           24000.0\n",
      "North America    16000.0\n",
      "Antartica            NaN\n",
      "dtype: float64\n"
     ]
    }
   ],
   "source": [
    "# A useful Series feature for many applications is that it automatically aligns by index\n",
    "# label in arithmetic operations:\n",
    "print('s_data:')\n",
    "print(s_data)\n",
    "print('\\n\\nsdata')\n",
    "print(sdata)"
   ]
  },
  {
   "cell_type": "code",
   "execution_count": 19,
   "id": "af5995cb-d8b8-4b2a-9aef-d03fa9a89828",
   "metadata": {},
   "outputs": [
    {
     "data": {
      "text/plain": [
       "Africa            70000.0\n",
       "Antartica             NaN\n",
       "Asia             142000.0\n",
       "Australia             NaN\n",
       "Europe            48000.0\n",
       "North America     32000.0\n",
       "South America     64000.0\n",
       "dtype: float64"
      ]
     },
     "execution_count": 19,
     "metadata": {},
     "output_type": "execute_result"
    }
   ],
   "source": [
    "s_data + sdata"
   ]
  },
  {
   "cell_type": "code",
   "execution_count": 20,
   "id": "93488e54-5a78-40d7-ad48-21502f66debc",
   "metadata": {},
   "outputs": [
    {
     "data": {
      "text/plain": [
       "Continents\n",
       "Asia             71000.0\n",
       "Africa           35000.0\n",
       "South America    32000.0\n",
       "Europe           24000.0\n",
       "North America    16000.0\n",
       "Antartica            NaN\n",
       "Name: Population, dtype: float64"
      ]
     },
     "execution_count": 20,
     "metadata": {},
     "output_type": "execute_result"
    }
   ],
   "source": [
    "# Both the Series object itself and its index have a name attribute, which integrates with\n",
    "# other areas of pandas functionality:\n",
    "\n",
    "sdata.name = 'Population'\n",
    "sdata.index.name = 'Continents'\n",
    "sdata"
   ]
  },
  {
   "cell_type": "code",
   "execution_count": 21,
   "id": "fdb43fff-8fa4-4235-bda1-3250dba4b301",
   "metadata": {},
   "outputs": [
    {
     "data": {
      "text/plain": [
       "GK       ONANA\n",
       "CB    MARTINEZ\n",
       "MF       RODRI\n",
       "CF       MESSI\n",
       "dtype: object"
      ]
     },
     "execution_count": 21,
     "metadata": {},
     "output_type": "execute_result"
    }
   ],
   "source": [
    "# A Series’s index can be altered in place by assignment:\n",
    "# Recall c = pd.Series(['ONANA', 'MARTINEZ', 'RODRI', 'MESSI'], index = ['GK', 'CB', 'DM', 'AMF'])\n",
    "c"
   ]
  },
  {
   "cell_type": "code",
   "execution_count": 22,
   "id": "97eb6d74-62a4-4663-baa6-4a542ea9bad8",
   "metadata": {},
   "outputs": [
    {
     "data": {
      "text/plain": [
       "Cameron         ONANA\n",
       "Argentina    MARTINEZ\n",
       "Spain           RODRI\n",
       "Argentina       MESSI\n",
       "dtype: object"
      ]
     },
     "execution_count": 22,
     "metadata": {},
     "output_type": "execute_result"
    }
   ],
   "source": [
    "# Alter the index\n",
    "c.index = ['Cameron', 'Argentina', 'Spain', 'Argentina']\n",
    "c"
   ]
  },
  {
   "cell_type": "code",
   "execution_count": null,
   "id": "91f88d82-42df-4b3f-a750-6473397a0e0a",
   "metadata": {},
   "outputs": [],
   "source": []
  },
  {
   "cell_type": "markdown",
   "id": "3a7680f3-2bb5-4fad-9363-9275fad491e2",
   "metadata": {},
   "source": [
    "## 2. DataFrame"
   ]
  },
  {
   "cell_type": "markdown",
   "id": "eff60cc1-a3aa-4ff6-804a-fa35a0cf68bd",
   "metadata": {},
   "source": [
    " A DataFrame represents a rectangular table of data and contains an ordered, named collection of columns, each of which can be a different value type (numeric, string, Boolean, etc.). The DataFrame has both a row and column index; it can be thought of as a dictionary of Series all sharing the same index.  "
   ]
  },
  {
   "cell_type": "markdown",
   "id": "46b4a120-384b-4cd4-9d37-df6396227140",
   "metadata": {},
   "source": [
    "A DataFrame in pandas is a two-dimensional, size-mutable, and heterogeneous tabular data structure that you can think of as a  spreadsheet or SQL table in Python. Here are some key points about a DataFrame:\n",
    "\n",
    "__Two-Dimensional Structure:__ It consists of rows and columns, making it a natural choice for representing tabular data.  \n",
    "__Labeled Axes:__ Both the rows (index) and columns have labels. This makes it easy to access, slice, and manipulate data using these labels.  \n",
    "__Heterogeneous Data Types:__ Each column in a DataFrame can hold data of a different type (e.g., integers, floats, strings, etc.), which is useful for real-  world data that often includes a variety of data types.  \n",
    "__Size Mutability:__ You can easily add or remove columns and rows, making DataFrames highly flexible for data manipulation tasks.    \n",
    "__Powerful Operations:__ DataFrames come with a wide range of built-in methods for data cleaning, transformation, aggregation, and visualization. They   support operations like merging, joining, reshaping, and handling missing data.  "
   ]
  },
  {
   "cell_type": "code",
   "execution_count": 23,
   "id": "f30bc412-7f5c-484d-b267-db602bee7dda",
   "metadata": {},
   "outputs": [
    {
     "data": {
      "text/html": [
       "<div>\n",
       "<style scoped>\n",
       "    .dataframe tbody tr th:only-of-type {\n",
       "        vertical-align: middle;\n",
       "    }\n",
       "\n",
       "    .dataframe tbody tr th {\n",
       "        vertical-align: top;\n",
       "    }\n",
       "\n",
       "    .dataframe thead th {\n",
       "        text-align: right;\n",
       "    }\n",
       "</style>\n",
       "<table border=\"1\" class=\"dataframe\">\n",
       "  <thead>\n",
       "    <tr style=\"text-align: right;\">\n",
       "      <th></th>\n",
       "      <th>Countries</th>\n",
       "      <th>Year</th>\n",
       "      <th>Population</th>\n",
       "    </tr>\n",
       "  </thead>\n",
       "  <tbody>\n",
       "    <tr>\n",
       "      <th>a</th>\n",
       "      <td>India</td>\n",
       "      <td>2000</td>\n",
       "      <td>1041</td>\n",
       "    </tr>\n",
       "    <tr>\n",
       "      <th>b</th>\n",
       "      <td>India</td>\n",
       "      <td>2010</td>\n",
       "      <td>1224</td>\n",
       "    </tr>\n",
       "    <tr>\n",
       "      <th>c</th>\n",
       "      <td>India</td>\n",
       "      <td>2020</td>\n",
       "      <td>1380</td>\n",
       "    </tr>\n",
       "    <tr>\n",
       "      <th>d</th>\n",
       "      <td>China</td>\n",
       "      <td>2000</td>\n",
       "      <td>1265</td>\n",
       "    </tr>\n",
       "    <tr>\n",
       "      <th>e</th>\n",
       "      <td>China</td>\n",
       "      <td>2010</td>\n",
       "      <td>1343</td>\n",
       "    </tr>\n",
       "    <tr>\n",
       "      <th>f</th>\n",
       "      <td>China</td>\n",
       "      <td>2020</td>\n",
       "      <td>1402</td>\n",
       "    </tr>\n",
       "  </tbody>\n",
       "</table>\n",
       "</div>"
      ],
      "text/plain": [
       "  Countries  Year  Population\n",
       "a     India  2000        1041\n",
       "b     India  2010        1224\n",
       "c     India  2020        1380\n",
       "d     China  2000        1265\n",
       "e     China  2010        1343\n",
       "f     China  2020        1402"
      ]
     },
     "execution_count": 23,
     "metadata": {},
     "output_type": "execute_result"
    }
   ],
   "source": [
    "# There are many ways to construct a DataFrame, though one of the most common is\n",
    "# from a dictionary of equal-length lists or NumPy arrays:\n",
    "\n",
    "data1 = {'Countries': ['India', 'India' ,'India', 'China', 'China', 'China'],\n",
    "        'Year': [2000, 2010, 2020, 2000, 2010, 2020],\n",
    "        'Population': [1041, 1224, 1380, 1265, 1343, 1402]}\n",
    "d_frame = pd.DataFrame(data1, index = ['a', 'b', 'c', 'd', 'e', 'f'])\n",
    "d_frame"
   ]
  },
  {
   "cell_type": "code",
   "execution_count": 24,
   "id": "83699ce0-5c38-4b73-8ee2-2c2a27b2cd89",
   "metadata": {},
   "outputs": [
    {
     "data": {
      "text/html": [
       "<div>\n",
       "<style scoped>\n",
       "    .dataframe tbody tr th:only-of-type {\n",
       "        vertical-align: middle;\n",
       "    }\n",
       "\n",
       "    .dataframe tbody tr th {\n",
       "        vertical-align: top;\n",
       "    }\n",
       "\n",
       "    .dataframe thead th {\n",
       "        text-align: right;\n",
       "    }\n",
       "</style>\n",
       "<table border=\"1\" class=\"dataframe\">\n",
       "  <thead>\n",
       "    <tr style=\"text-align: right;\">\n",
       "      <th></th>\n",
       "      <th>Year</th>\n",
       "      <th>China</th>\n",
       "      <th>India</th>\n",
       "      <th>USA</th>\n",
       "      <th>Indonesia</th>\n",
       "      <th>Pakistan</th>\n",
       "      <th>Brazil</th>\n",
       "      <th>Nigeria</th>\n",
       "      <th>Bangladesh</th>\n",
       "      <th>Russia</th>\n",
       "      <th>Mexico</th>\n",
       "      <th>Japan</th>\n",
       "      <th>Ethiopia</th>\n",
       "    </tr>\n",
       "  </thead>\n",
       "  <tbody>\n",
       "    <tr>\n",
       "      <th>0</th>\n",
       "      <td>1900</td>\n",
       "      <td>400</td>\n",
       "      <td>250</td>\n",
       "      <td>76</td>\n",
       "      <td>40</td>\n",
       "      <td>30</td>\n",
       "      <td>17</td>\n",
       "      <td>18</td>\n",
       "      <td>30</td>\n",
       "      <td>40</td>\n",
       "      <td>13</td>\n",
       "      <td>44</td>\n",
       "      <td>16.0</td>\n",
       "    </tr>\n",
       "    <tr>\n",
       "      <th>1</th>\n",
       "      <td>1910</td>\n",
       "      <td>400</td>\n",
       "      <td>260</td>\n",
       "      <td>92</td>\n",
       "      <td>45</td>\n",
       "      <td>32</td>\n",
       "      <td>20</td>\n",
       "      <td>19</td>\n",
       "      <td>32</td>\n",
       "      <td>45</td>\n",
       "      <td>14</td>\n",
       "      <td>50</td>\n",
       "      <td>16.5</td>\n",
       "    </tr>\n",
       "    <tr>\n",
       "      <th>2</th>\n",
       "      <td>1920</td>\n",
       "      <td>430</td>\n",
       "      <td>280</td>\n",
       "      <td>106</td>\n",
       "      <td>50</td>\n",
       "      <td>35</td>\n",
       "      <td>23</td>\n",
       "      <td>20</td>\n",
       "      <td>35</td>\n",
       "      <td>50</td>\n",
       "      <td>15</td>\n",
       "      <td>55</td>\n",
       "      <td>17.0</td>\n",
       "    </tr>\n",
       "    <tr>\n",
       "      <th>3</th>\n",
       "      <td>1930</td>\n",
       "      <td>480</td>\n",
       "      <td>300</td>\n",
       "      <td>123</td>\n",
       "      <td>55</td>\n",
       "      <td>38</td>\n",
       "      <td>28</td>\n",
       "      <td>22</td>\n",
       "      <td>38</td>\n",
       "      <td>60</td>\n",
       "      <td>18</td>\n",
       "      <td>64</td>\n",
       "      <td>17.5</td>\n",
       "    </tr>\n",
       "    <tr>\n",
       "      <th>4</th>\n",
       "      <td>1940</td>\n",
       "      <td>500</td>\n",
       "      <td>320</td>\n",
       "      <td>132</td>\n",
       "      <td>60</td>\n",
       "      <td>40</td>\n",
       "      <td>31</td>\n",
       "      <td>24</td>\n",
       "      <td>42</td>\n",
       "      <td>70</td>\n",
       "      <td>20</td>\n",
       "      <td>73</td>\n",
       "      <td>18.0</td>\n",
       "    </tr>\n",
       "    <tr>\n",
       "      <th>5</th>\n",
       "      <td>1950</td>\n",
       "      <td>540</td>\n",
       "      <td>340</td>\n",
       "      <td>151</td>\n",
       "      <td>70</td>\n",
       "      <td>33</td>\n",
       "      <td>41</td>\n",
       "      <td>27</td>\n",
       "      <td>44</td>\n",
       "      <td>70</td>\n",
       "      <td>27</td>\n",
       "      <td>83</td>\n",
       "      <td>19.0</td>\n",
       "    </tr>\n",
       "    <tr>\n",
       "      <th>6</th>\n",
       "      <td>1960</td>\n",
       "      <td>660</td>\n",
       "      <td>450</td>\n",
       "      <td>179</td>\n",
       "      <td>90</td>\n",
       "      <td>70</td>\n",
       "      <td>70</td>\n",
       "      <td>37</td>\n",
       "      <td>50</td>\n",
       "      <td>80</td>\n",
       "      <td>37</td>\n",
       "      <td>94</td>\n",
       "      <td>22.0</td>\n",
       "    </tr>\n",
       "    <tr>\n",
       "      <th>7</th>\n",
       "      <td>1970</td>\n",
       "      <td>818</td>\n",
       "      <td>550</td>\n",
       "      <td>203</td>\n",
       "      <td>115</td>\n",
       "      <td>93</td>\n",
       "      <td>95</td>\n",
       "      <td>56</td>\n",
       "      <td>66</td>\n",
       "      <td>105</td>\n",
       "      <td>50</td>\n",
       "      <td>104</td>\n",
       "      <td>30.0</td>\n",
       "    </tr>\n",
       "    <tr>\n",
       "      <th>8</th>\n",
       "      <td>1980</td>\n",
       "      <td>987</td>\n",
       "      <td>700</td>\n",
       "      <td>227</td>\n",
       "      <td>150</td>\n",
       "      <td>106</td>\n",
       "      <td>121</td>\n",
       "      <td>70</td>\n",
       "      <td>84</td>\n",
       "      <td>125</td>\n",
       "      <td>63</td>\n",
       "      <td>117</td>\n",
       "      <td>42.0</td>\n",
       "    </tr>\n",
       "    <tr>\n",
       "      <th>9</th>\n",
       "      <td>1990</td>\n",
       "      <td>1143</td>\n",
       "      <td>870</td>\n",
       "      <td>249</td>\n",
       "      <td>180</td>\n",
       "      <td>132</td>\n",
       "      <td>149</td>\n",
       "      <td>95</td>\n",
       "      <td>105</td>\n",
       "      <td>147</td>\n",
       "      <td>82</td>\n",
       "      <td>123</td>\n",
       "      <td>50.0</td>\n",
       "    </tr>\n",
       "    <tr>\n",
       "      <th>10</th>\n",
       "      <td>2000</td>\n",
       "      <td>1265</td>\n",
       "      <td>1041</td>\n",
       "      <td>282</td>\n",
       "      <td>210</td>\n",
       "      <td>146</td>\n",
       "      <td>174</td>\n",
       "      <td>122</td>\n",
       "      <td>130</td>\n",
       "      <td>146</td>\n",
       "      <td>97</td>\n",
       "      <td>127</td>\n",
       "      <td>66.0</td>\n",
       "    </tr>\n",
       "    <tr>\n",
       "      <th>11</th>\n",
       "      <td>2010</td>\n",
       "      <td>1343</td>\n",
       "      <td>1224</td>\n",
       "      <td>309</td>\n",
       "      <td>242</td>\n",
       "      <td>175</td>\n",
       "      <td>195</td>\n",
       "      <td>158</td>\n",
       "      <td>148</td>\n",
       "      <td>143</td>\n",
       "      <td>112</td>\n",
       "      <td>128</td>\n",
       "      <td>84.0</td>\n",
       "    </tr>\n",
       "    <tr>\n",
       "      <th>12</th>\n",
       "      <td>2020</td>\n",
       "      <td>1402</td>\n",
       "      <td>1380</td>\n",
       "      <td>331</td>\n",
       "      <td>273</td>\n",
       "      <td>220</td>\n",
       "      <td>212</td>\n",
       "      <td>206</td>\n",
       "      <td>164</td>\n",
       "      <td>146</td>\n",
       "      <td>128</td>\n",
       "      <td>126</td>\n",
       "      <td>115.0</td>\n",
       "    </tr>\n",
       "  </tbody>\n",
       "</table>\n",
       "</div>"
      ],
      "text/plain": [
       "    Year  China  India  USA  Indonesia  Pakistan  Brazil  Nigeria  Bangladesh  \\\n",
       "0   1900    400    250   76         40        30      17       18          30   \n",
       "1   1910    400    260   92         45        32      20       19          32   \n",
       "2   1920    430    280  106         50        35      23       20          35   \n",
       "3   1930    480    300  123         55        38      28       22          38   \n",
       "4   1940    500    320  132         60        40      31       24          42   \n",
       "5   1950    540    340  151         70        33      41       27          44   \n",
       "6   1960    660    450  179         90        70      70       37          50   \n",
       "7   1970    818    550  203        115        93      95       56          66   \n",
       "8   1980    987    700  227        150       106     121       70          84   \n",
       "9   1990   1143    870  249        180       132     149       95         105   \n",
       "10  2000   1265   1041  282        210       146     174      122         130   \n",
       "11  2010   1343   1224  309        242       175     195      158         148   \n",
       "12  2020   1402   1380  331        273       220     212      206         164   \n",
       "\n",
       "    Russia  Mexico  Japan  Ethiopia  \n",
       "0       40      13     44      16.0  \n",
       "1       45      14     50      16.5  \n",
       "2       50      15     55      17.0  \n",
       "3       60      18     64      17.5  \n",
       "4       70      20     73      18.0  \n",
       "5       70      27     83      19.0  \n",
       "6       80      37     94      22.0  \n",
       "7      105      50    104      30.0  \n",
       "8      125      63    117      42.0  \n",
       "9      147      82    123      50.0  \n",
       "10     146      97    127      66.0  \n",
       "11     143     112    128      84.0  \n",
       "12     146     128    126     115.0  "
      ]
     },
     "execution_count": 24,
     "metadata": {},
     "output_type": "execute_result"
    }
   ],
   "source": [
    "data = {\n",
    "    'Year': [1900, 1910, 1920, 1930, 1940, 1950, 1960, 1970, 1980, 1990, 2000, 2010, 2020],\n",
    "    'China': [400, 400, 430, 480, 500, 540, 660, 818, 987, 1143, 1265, 1343, 1402],\n",
    "    'India': [250, 260, 280, 300, 320, 340, 450, 550, 700, 870, 1041, 1224, 1380],\n",
    "    'USA': [76, 92, 106, 123, 132, 151, 179, 203, 227, 249, 282, 309, 331],\n",
    "    'Indonesia': [40, 45, 50, 55, 60, 70, 90, 115, 150, 180, 210, 242, 273],\n",
    "    'Pakistan': [30, 32, 35, 38, 40, 33, 70, 93, 106, 132, 146, 175, 220],\n",
    "    'Brazil': [17, 20, 23, 28, 31, 41, 70, 95, 121, 149, 174, 195, 212],\n",
    "    'Nigeria': [18, 19, 20, 22, 24, 27, 37, 56, 70, 95, 122, 158, 206],\n",
    "    'Bangladesh': [30, 32, 35, 38, 42, 44, 50, 66, 84, 105, 130, 148, 164],\n",
    "    'Russia': [40, 45, 50, 60, 70, 70, 80, 105, 125, 147, 146, 143, 146],\n",
    "    'Mexico': [13, 14, 15, 18, 20, 27, 37, 50, 63, 82, 97, 112, 128],\n",
    "    'Japan': [44, 50, 55, 64, 73, 83, 94, 104, 117, 123, 127, 128, 126],\n",
    "    'Ethiopia': [16, 16.5, 17, 17.5, 18, 19, 22, 30, 42, 50, 66, 84, 115]\n",
    "}\n",
    "dframe = pd.DataFrame(data)\n",
    "dframe"
   ]
  },
  {
   "cell_type": "code",
   "execution_count": 25,
   "id": "6723faa4-cb47-4e50-91d1-d11bb00247ec",
   "metadata": {},
   "outputs": [
    {
     "data": {
      "text/html": [
       "<div>\n",
       "<style scoped>\n",
       "    .dataframe tbody tr th:only-of-type {\n",
       "        vertical-align: middle;\n",
       "    }\n",
       "\n",
       "    .dataframe tbody tr th {\n",
       "        vertical-align: top;\n",
       "    }\n",
       "\n",
       "    .dataframe thead th {\n",
       "        text-align: right;\n",
       "    }\n",
       "</style>\n",
       "<table border=\"1\" class=\"dataframe\">\n",
       "  <thead>\n",
       "    <tr style=\"text-align: right;\">\n",
       "      <th></th>\n",
       "      <th>China</th>\n",
       "      <th>India</th>\n",
       "      <th>USA</th>\n",
       "      <th>Indonesia</th>\n",
       "      <th>Pakistan</th>\n",
       "      <th>Brazil</th>\n",
       "      <th>Nigeria</th>\n",
       "      <th>Bangladesh</th>\n",
       "      <th>Russia</th>\n",
       "      <th>Mexico</th>\n",
       "      <th>Japan</th>\n",
       "      <th>Ethiopia</th>\n",
       "    </tr>\n",
       "    <tr>\n",
       "      <th>Year</th>\n",
       "      <th></th>\n",
       "      <th></th>\n",
       "      <th></th>\n",
       "      <th></th>\n",
       "      <th></th>\n",
       "      <th></th>\n",
       "      <th></th>\n",
       "      <th></th>\n",
       "      <th></th>\n",
       "      <th></th>\n",
       "      <th></th>\n",
       "      <th></th>\n",
       "    </tr>\n",
       "  </thead>\n",
       "  <tbody>\n",
       "    <tr>\n",
       "      <th>1900</th>\n",
       "      <td>400</td>\n",
       "      <td>250</td>\n",
       "      <td>76</td>\n",
       "      <td>40</td>\n",
       "      <td>30</td>\n",
       "      <td>17</td>\n",
       "      <td>18</td>\n",
       "      <td>30</td>\n",
       "      <td>40</td>\n",
       "      <td>13</td>\n",
       "      <td>44</td>\n",
       "      <td>16.0</td>\n",
       "    </tr>\n",
       "    <tr>\n",
       "      <th>1910</th>\n",
       "      <td>400</td>\n",
       "      <td>260</td>\n",
       "      <td>92</td>\n",
       "      <td>45</td>\n",
       "      <td>32</td>\n",
       "      <td>20</td>\n",
       "      <td>19</td>\n",
       "      <td>32</td>\n",
       "      <td>45</td>\n",
       "      <td>14</td>\n",
       "      <td>50</td>\n",
       "      <td>16.5</td>\n",
       "    </tr>\n",
       "    <tr>\n",
       "      <th>1920</th>\n",
       "      <td>430</td>\n",
       "      <td>280</td>\n",
       "      <td>106</td>\n",
       "      <td>50</td>\n",
       "      <td>35</td>\n",
       "      <td>23</td>\n",
       "      <td>20</td>\n",
       "      <td>35</td>\n",
       "      <td>50</td>\n",
       "      <td>15</td>\n",
       "      <td>55</td>\n",
       "      <td>17.0</td>\n",
       "    </tr>\n",
       "    <tr>\n",
       "      <th>1930</th>\n",
       "      <td>480</td>\n",
       "      <td>300</td>\n",
       "      <td>123</td>\n",
       "      <td>55</td>\n",
       "      <td>38</td>\n",
       "      <td>28</td>\n",
       "      <td>22</td>\n",
       "      <td>38</td>\n",
       "      <td>60</td>\n",
       "      <td>18</td>\n",
       "      <td>64</td>\n",
       "      <td>17.5</td>\n",
       "    </tr>\n",
       "    <tr>\n",
       "      <th>1940</th>\n",
       "      <td>500</td>\n",
       "      <td>320</td>\n",
       "      <td>132</td>\n",
       "      <td>60</td>\n",
       "      <td>40</td>\n",
       "      <td>31</td>\n",
       "      <td>24</td>\n",
       "      <td>42</td>\n",
       "      <td>70</td>\n",
       "      <td>20</td>\n",
       "      <td>73</td>\n",
       "      <td>18.0</td>\n",
       "    </tr>\n",
       "    <tr>\n",
       "      <th>1950</th>\n",
       "      <td>540</td>\n",
       "      <td>340</td>\n",
       "      <td>151</td>\n",
       "      <td>70</td>\n",
       "      <td>33</td>\n",
       "      <td>41</td>\n",
       "      <td>27</td>\n",
       "      <td>44</td>\n",
       "      <td>70</td>\n",
       "      <td>27</td>\n",
       "      <td>83</td>\n",
       "      <td>19.0</td>\n",
       "    </tr>\n",
       "    <tr>\n",
       "      <th>1960</th>\n",
       "      <td>660</td>\n",
       "      <td>450</td>\n",
       "      <td>179</td>\n",
       "      <td>90</td>\n",
       "      <td>70</td>\n",
       "      <td>70</td>\n",
       "      <td>37</td>\n",
       "      <td>50</td>\n",
       "      <td>80</td>\n",
       "      <td>37</td>\n",
       "      <td>94</td>\n",
       "      <td>22.0</td>\n",
       "    </tr>\n",
       "    <tr>\n",
       "      <th>1970</th>\n",
       "      <td>818</td>\n",
       "      <td>550</td>\n",
       "      <td>203</td>\n",
       "      <td>115</td>\n",
       "      <td>93</td>\n",
       "      <td>95</td>\n",
       "      <td>56</td>\n",
       "      <td>66</td>\n",
       "      <td>105</td>\n",
       "      <td>50</td>\n",
       "      <td>104</td>\n",
       "      <td>30.0</td>\n",
       "    </tr>\n",
       "    <tr>\n",
       "      <th>1980</th>\n",
       "      <td>987</td>\n",
       "      <td>700</td>\n",
       "      <td>227</td>\n",
       "      <td>150</td>\n",
       "      <td>106</td>\n",
       "      <td>121</td>\n",
       "      <td>70</td>\n",
       "      <td>84</td>\n",
       "      <td>125</td>\n",
       "      <td>63</td>\n",
       "      <td>117</td>\n",
       "      <td>42.0</td>\n",
       "    </tr>\n",
       "    <tr>\n",
       "      <th>1990</th>\n",
       "      <td>1143</td>\n",
       "      <td>870</td>\n",
       "      <td>249</td>\n",
       "      <td>180</td>\n",
       "      <td>132</td>\n",
       "      <td>149</td>\n",
       "      <td>95</td>\n",
       "      <td>105</td>\n",
       "      <td>147</td>\n",
       "      <td>82</td>\n",
       "      <td>123</td>\n",
       "      <td>50.0</td>\n",
       "    </tr>\n",
       "    <tr>\n",
       "      <th>2000</th>\n",
       "      <td>1265</td>\n",
       "      <td>1041</td>\n",
       "      <td>282</td>\n",
       "      <td>210</td>\n",
       "      <td>146</td>\n",
       "      <td>174</td>\n",
       "      <td>122</td>\n",
       "      <td>130</td>\n",
       "      <td>146</td>\n",
       "      <td>97</td>\n",
       "      <td>127</td>\n",
       "      <td>66.0</td>\n",
       "    </tr>\n",
       "    <tr>\n",
       "      <th>2010</th>\n",
       "      <td>1343</td>\n",
       "      <td>1224</td>\n",
       "      <td>309</td>\n",
       "      <td>242</td>\n",
       "      <td>175</td>\n",
       "      <td>195</td>\n",
       "      <td>158</td>\n",
       "      <td>148</td>\n",
       "      <td>143</td>\n",
       "      <td>112</td>\n",
       "      <td>128</td>\n",
       "      <td>84.0</td>\n",
       "    </tr>\n",
       "    <tr>\n",
       "      <th>2020</th>\n",
       "      <td>1402</td>\n",
       "      <td>1380</td>\n",
       "      <td>331</td>\n",
       "      <td>273</td>\n",
       "      <td>220</td>\n",
       "      <td>212</td>\n",
       "      <td>206</td>\n",
       "      <td>164</td>\n",
       "      <td>146</td>\n",
       "      <td>128</td>\n",
       "      <td>126</td>\n",
       "      <td>115.0</td>\n",
       "    </tr>\n",
       "  </tbody>\n",
       "</table>\n",
       "</div>"
      ],
      "text/plain": [
       "      China  India  USA  Indonesia  Pakistan  Brazil  Nigeria  Bangladesh  \\\n",
       "Year                                                                        \n",
       "1900    400    250   76         40        30      17       18          30   \n",
       "1910    400    260   92         45        32      20       19          32   \n",
       "1920    430    280  106         50        35      23       20          35   \n",
       "1930    480    300  123         55        38      28       22          38   \n",
       "1940    500    320  132         60        40      31       24          42   \n",
       "1950    540    340  151         70        33      41       27          44   \n",
       "1960    660    450  179         90        70      70       37          50   \n",
       "1970    818    550  203        115        93      95       56          66   \n",
       "1980    987    700  227        150       106     121       70          84   \n",
       "1990   1143    870  249        180       132     149       95         105   \n",
       "2000   1265   1041  282        210       146     174      122         130   \n",
       "2010   1343   1224  309        242       175     195      158         148   \n",
       "2020   1402   1380  331        273       220     212      206         164   \n",
       "\n",
       "      Russia  Mexico  Japan  Ethiopia  \n",
       "Year                                   \n",
       "1900      40      13     44      16.0  \n",
       "1910      45      14     50      16.5  \n",
       "1920      50      15     55      17.0  \n",
       "1930      60      18     64      17.5  \n",
       "1940      70      20     73      18.0  \n",
       "1950      70      27     83      19.0  \n",
       "1960      80      37     94      22.0  \n",
       "1970     105      50    104      30.0  \n",
       "1980     125      63    117      42.0  \n",
       "1990     147      82    123      50.0  \n",
       "2000     146      97    127      66.0  \n",
       "2010     143     112    128      84.0  \n",
       "2020     146     128    126     115.0  "
      ]
     },
     "execution_count": 25,
     "metadata": {},
     "output_type": "execute_result"
    }
   ],
   "source": [
    "# we can set a column to index column in this case we use 'Year' column\n",
    "df = pd.DataFrame(data).set_index('Year')\n",
    "df"
   ]
  },
  {
   "cell_type": "code",
   "execution_count": 26,
   "id": "a95b6224-65dd-4632-8d5c-59d418af674a",
   "metadata": {},
   "outputs": [
    {
     "data": {
      "text/html": [
       "<div>\n",
       "<style scoped>\n",
       "    .dataframe tbody tr th:only-of-type {\n",
       "        vertical-align: middle;\n",
       "    }\n",
       "\n",
       "    .dataframe tbody tr th {\n",
       "        vertical-align: top;\n",
       "    }\n",
       "\n",
       "    .dataframe thead th {\n",
       "        text-align: right;\n",
       "    }\n",
       "</style>\n",
       "<table border=\"1\" class=\"dataframe\">\n",
       "  <thead>\n",
       "    <tr style=\"text-align: right;\">\n",
       "      <th></th>\n",
       "      <th>Year</th>\n",
       "      <th>China</th>\n",
       "      <th>India</th>\n",
       "      <th>USA</th>\n",
       "      <th>Indonesia</th>\n",
       "      <th>Pakistan</th>\n",
       "      <th>Brazil</th>\n",
       "      <th>Nigeria</th>\n",
       "      <th>Bangladesh</th>\n",
       "      <th>Russia</th>\n",
       "      <th>Mexico</th>\n",
       "      <th>Japan</th>\n",
       "      <th>Ethiopia</th>\n",
       "    </tr>\n",
       "  </thead>\n",
       "  <tbody>\n",
       "    <tr>\n",
       "      <th>0</th>\n",
       "      <td>1900</td>\n",
       "      <td>400</td>\n",
       "      <td>250</td>\n",
       "      <td>76</td>\n",
       "      <td>40</td>\n",
       "      <td>30</td>\n",
       "      <td>17</td>\n",
       "      <td>18</td>\n",
       "      <td>30</td>\n",
       "      <td>40</td>\n",
       "      <td>13</td>\n",
       "      <td>44</td>\n",
       "      <td>16.0</td>\n",
       "    </tr>\n",
       "    <tr>\n",
       "      <th>1</th>\n",
       "      <td>1910</td>\n",
       "      <td>400</td>\n",
       "      <td>260</td>\n",
       "      <td>92</td>\n",
       "      <td>45</td>\n",
       "      <td>32</td>\n",
       "      <td>20</td>\n",
       "      <td>19</td>\n",
       "      <td>32</td>\n",
       "      <td>45</td>\n",
       "      <td>14</td>\n",
       "      <td>50</td>\n",
       "      <td>16.5</td>\n",
       "    </tr>\n",
       "    <tr>\n",
       "      <th>2</th>\n",
       "      <td>1920</td>\n",
       "      <td>430</td>\n",
       "      <td>280</td>\n",
       "      <td>106</td>\n",
       "      <td>50</td>\n",
       "      <td>35</td>\n",
       "      <td>23</td>\n",
       "      <td>20</td>\n",
       "      <td>35</td>\n",
       "      <td>50</td>\n",
       "      <td>15</td>\n",
       "      <td>55</td>\n",
       "      <td>17.0</td>\n",
       "    </tr>\n",
       "    <tr>\n",
       "      <th>3</th>\n",
       "      <td>1930</td>\n",
       "      <td>480</td>\n",
       "      <td>300</td>\n",
       "      <td>123</td>\n",
       "      <td>55</td>\n",
       "      <td>38</td>\n",
       "      <td>28</td>\n",
       "      <td>22</td>\n",
       "      <td>38</td>\n",
       "      <td>60</td>\n",
       "      <td>18</td>\n",
       "      <td>64</td>\n",
       "      <td>17.5</td>\n",
       "    </tr>\n",
       "    <tr>\n",
       "      <th>4</th>\n",
       "      <td>1940</td>\n",
       "      <td>500</td>\n",
       "      <td>320</td>\n",
       "      <td>132</td>\n",
       "      <td>60</td>\n",
       "      <td>40</td>\n",
       "      <td>31</td>\n",
       "      <td>24</td>\n",
       "      <td>42</td>\n",
       "      <td>70</td>\n",
       "      <td>20</td>\n",
       "      <td>73</td>\n",
       "      <td>18.0</td>\n",
       "    </tr>\n",
       "  </tbody>\n",
       "</table>\n",
       "</div>"
      ],
      "text/plain": [
       "   Year  China  India  USA  Indonesia  Pakistan  Brazil  Nigeria  Bangladesh  \\\n",
       "0  1900    400    250   76         40        30      17       18          30   \n",
       "1  1910    400    260   92         45        32      20       19          32   \n",
       "2  1920    430    280  106         50        35      23       20          35   \n",
       "3  1930    480    300  123         55        38      28       22          38   \n",
       "4  1940    500    320  132         60        40      31       24          42   \n",
       "\n",
       "   Russia  Mexico  Japan  Ethiopia  \n",
       "0      40      13     44      16.0  \n",
       "1      45      14     50      16.5  \n",
       "2      50      15     55      17.0  \n",
       "3      60      18     64      17.5  \n",
       "4      70      20     73      18.0  "
      ]
     },
     "execution_count": 26,
     "metadata": {},
     "output_type": "execute_result"
    }
   ],
   "source": [
    "# The head method selects only the first five rows\n",
    "dframe.head()"
   ]
  },
  {
   "cell_type": "code",
   "execution_count": 27,
   "id": "c4dea1cc-7d70-4c9e-9852-83f6cd694e38",
   "metadata": {},
   "outputs": [
    {
     "data": {
      "text/html": [
       "<div>\n",
       "<style scoped>\n",
       "    .dataframe tbody tr th:only-of-type {\n",
       "        vertical-align: middle;\n",
       "    }\n",
       "\n",
       "    .dataframe tbody tr th {\n",
       "        vertical-align: top;\n",
       "    }\n",
       "\n",
       "    .dataframe thead th {\n",
       "        text-align: right;\n",
       "    }\n",
       "</style>\n",
       "<table border=\"1\" class=\"dataframe\">\n",
       "  <thead>\n",
       "    <tr style=\"text-align: right;\">\n",
       "      <th></th>\n",
       "      <th>Year</th>\n",
       "      <th>China</th>\n",
       "      <th>India</th>\n",
       "      <th>USA</th>\n",
       "      <th>Indonesia</th>\n",
       "      <th>Pakistan</th>\n",
       "      <th>Brazil</th>\n",
       "      <th>Nigeria</th>\n",
       "      <th>Bangladesh</th>\n",
       "      <th>Russia</th>\n",
       "      <th>Mexico</th>\n",
       "      <th>Japan</th>\n",
       "      <th>Ethiopia</th>\n",
       "    </tr>\n",
       "  </thead>\n",
       "  <tbody>\n",
       "    <tr>\n",
       "      <th>8</th>\n",
       "      <td>1980</td>\n",
       "      <td>987</td>\n",
       "      <td>700</td>\n",
       "      <td>227</td>\n",
       "      <td>150</td>\n",
       "      <td>106</td>\n",
       "      <td>121</td>\n",
       "      <td>70</td>\n",
       "      <td>84</td>\n",
       "      <td>125</td>\n",
       "      <td>63</td>\n",
       "      <td>117</td>\n",
       "      <td>42.0</td>\n",
       "    </tr>\n",
       "    <tr>\n",
       "      <th>9</th>\n",
       "      <td>1990</td>\n",
       "      <td>1143</td>\n",
       "      <td>870</td>\n",
       "      <td>249</td>\n",
       "      <td>180</td>\n",
       "      <td>132</td>\n",
       "      <td>149</td>\n",
       "      <td>95</td>\n",
       "      <td>105</td>\n",
       "      <td>147</td>\n",
       "      <td>82</td>\n",
       "      <td>123</td>\n",
       "      <td>50.0</td>\n",
       "    </tr>\n",
       "    <tr>\n",
       "      <th>10</th>\n",
       "      <td>2000</td>\n",
       "      <td>1265</td>\n",
       "      <td>1041</td>\n",
       "      <td>282</td>\n",
       "      <td>210</td>\n",
       "      <td>146</td>\n",
       "      <td>174</td>\n",
       "      <td>122</td>\n",
       "      <td>130</td>\n",
       "      <td>146</td>\n",
       "      <td>97</td>\n",
       "      <td>127</td>\n",
       "      <td>66.0</td>\n",
       "    </tr>\n",
       "    <tr>\n",
       "      <th>11</th>\n",
       "      <td>2010</td>\n",
       "      <td>1343</td>\n",
       "      <td>1224</td>\n",
       "      <td>309</td>\n",
       "      <td>242</td>\n",
       "      <td>175</td>\n",
       "      <td>195</td>\n",
       "      <td>158</td>\n",
       "      <td>148</td>\n",
       "      <td>143</td>\n",
       "      <td>112</td>\n",
       "      <td>128</td>\n",
       "      <td>84.0</td>\n",
       "    </tr>\n",
       "    <tr>\n",
       "      <th>12</th>\n",
       "      <td>2020</td>\n",
       "      <td>1402</td>\n",
       "      <td>1380</td>\n",
       "      <td>331</td>\n",
       "      <td>273</td>\n",
       "      <td>220</td>\n",
       "      <td>212</td>\n",
       "      <td>206</td>\n",
       "      <td>164</td>\n",
       "      <td>146</td>\n",
       "      <td>128</td>\n",
       "      <td>126</td>\n",
       "      <td>115.0</td>\n",
       "    </tr>\n",
       "  </tbody>\n",
       "</table>\n",
       "</div>"
      ],
      "text/plain": [
       "    Year  China  India  USA  Indonesia  Pakistan  Brazil  Nigeria  Bangladesh  \\\n",
       "8   1980    987    700  227        150       106     121       70          84   \n",
       "9   1990   1143    870  249        180       132     149       95         105   \n",
       "10  2000   1265   1041  282        210       146     174      122         130   \n",
       "11  2010   1343   1224  309        242       175     195      158         148   \n",
       "12  2020   1402   1380  331        273       220     212      206         164   \n",
       "\n",
       "    Russia  Mexico  Japan  Ethiopia  \n",
       "8      125      63    117      42.0  \n",
       "9      147      82    123      50.0  \n",
       "10     146      97    127      66.0  \n",
       "11     143     112    128      84.0  \n",
       "12     146     128    126     115.0  "
      ]
     },
     "execution_count": 27,
     "metadata": {},
     "output_type": "execute_result"
    }
   ],
   "source": [
    "# Similarly tail method returns the last five rows\n",
    "dframe.tail()"
   ]
  },
  {
   "cell_type": "code",
   "execution_count": 28,
   "id": "c84fb912-3424-43b8-8327-44189f96a9b1",
   "metadata": {},
   "outputs": [
    {
     "data": {
      "text/html": [
       "<div>\n",
       "<style scoped>\n",
       "    .dataframe tbody tr th:only-of-type {\n",
       "        vertical-align: middle;\n",
       "    }\n",
       "\n",
       "    .dataframe tbody tr th {\n",
       "        vertical-align: top;\n",
       "    }\n",
       "\n",
       "    .dataframe thead th {\n",
       "        text-align: right;\n",
       "    }\n",
       "</style>\n",
       "<table border=\"1\" class=\"dataframe\">\n",
       "  <thead>\n",
       "    <tr style=\"text-align: right;\">\n",
       "      <th></th>\n",
       "      <th>Year</th>\n",
       "      <th>Ethiopia</th>\n",
       "      <th>Japan</th>\n",
       "      <th>Mexico</th>\n",
       "      <th>Russia</th>\n",
       "      <th>Bangladesh</th>\n",
       "      <th>Nigeria</th>\n",
       "      <th>Brazil</th>\n",
       "      <th>Pakistan</th>\n",
       "      <th>Indonesia</th>\n",
       "      <th>USA</th>\n",
       "      <th>India</th>\n",
       "      <th>China</th>\n",
       "    </tr>\n",
       "  </thead>\n",
       "  <tbody>\n",
       "    <tr>\n",
       "      <th>0</th>\n",
       "      <td>1900</td>\n",
       "      <td>16.0</td>\n",
       "      <td>44</td>\n",
       "      <td>13</td>\n",
       "      <td>40</td>\n",
       "      <td>30</td>\n",
       "      <td>18</td>\n",
       "      <td>17</td>\n",
       "      <td>30</td>\n",
       "      <td>40</td>\n",
       "      <td>76</td>\n",
       "      <td>250</td>\n",
       "      <td>400</td>\n",
       "    </tr>\n",
       "    <tr>\n",
       "      <th>1</th>\n",
       "      <td>1910</td>\n",
       "      <td>16.5</td>\n",
       "      <td>50</td>\n",
       "      <td>14</td>\n",
       "      <td>45</td>\n",
       "      <td>32</td>\n",
       "      <td>19</td>\n",
       "      <td>20</td>\n",
       "      <td>32</td>\n",
       "      <td>45</td>\n",
       "      <td>92</td>\n",
       "      <td>260</td>\n",
       "      <td>400</td>\n",
       "    </tr>\n",
       "    <tr>\n",
       "      <th>2</th>\n",
       "      <td>1920</td>\n",
       "      <td>17.0</td>\n",
       "      <td>55</td>\n",
       "      <td>15</td>\n",
       "      <td>50</td>\n",
       "      <td>35</td>\n",
       "      <td>20</td>\n",
       "      <td>23</td>\n",
       "      <td>35</td>\n",
       "      <td>50</td>\n",
       "      <td>106</td>\n",
       "      <td>280</td>\n",
       "      <td>430</td>\n",
       "    </tr>\n",
       "    <tr>\n",
       "      <th>3</th>\n",
       "      <td>1930</td>\n",
       "      <td>17.5</td>\n",
       "      <td>64</td>\n",
       "      <td>18</td>\n",
       "      <td>60</td>\n",
       "      <td>38</td>\n",
       "      <td>22</td>\n",
       "      <td>28</td>\n",
       "      <td>38</td>\n",
       "      <td>55</td>\n",
       "      <td>123</td>\n",
       "      <td>300</td>\n",
       "      <td>480</td>\n",
       "    </tr>\n",
       "    <tr>\n",
       "      <th>4</th>\n",
       "      <td>1940</td>\n",
       "      <td>18.0</td>\n",
       "      <td>73</td>\n",
       "      <td>20</td>\n",
       "      <td>70</td>\n",
       "      <td>42</td>\n",
       "      <td>24</td>\n",
       "      <td>31</td>\n",
       "      <td>40</td>\n",
       "      <td>60</td>\n",
       "      <td>132</td>\n",
       "      <td>320</td>\n",
       "      <td>500</td>\n",
       "    </tr>\n",
       "    <tr>\n",
       "      <th>5</th>\n",
       "      <td>1950</td>\n",
       "      <td>19.0</td>\n",
       "      <td>83</td>\n",
       "      <td>27</td>\n",
       "      <td>70</td>\n",
       "      <td>44</td>\n",
       "      <td>27</td>\n",
       "      <td>41</td>\n",
       "      <td>33</td>\n",
       "      <td>70</td>\n",
       "      <td>151</td>\n",
       "      <td>340</td>\n",
       "      <td>540</td>\n",
       "    </tr>\n",
       "    <tr>\n",
       "      <th>6</th>\n",
       "      <td>1960</td>\n",
       "      <td>22.0</td>\n",
       "      <td>94</td>\n",
       "      <td>37</td>\n",
       "      <td>80</td>\n",
       "      <td>50</td>\n",
       "      <td>37</td>\n",
       "      <td>70</td>\n",
       "      <td>70</td>\n",
       "      <td>90</td>\n",
       "      <td>179</td>\n",
       "      <td>450</td>\n",
       "      <td>660</td>\n",
       "    </tr>\n",
       "    <tr>\n",
       "      <th>7</th>\n",
       "      <td>1970</td>\n",
       "      <td>30.0</td>\n",
       "      <td>104</td>\n",
       "      <td>50</td>\n",
       "      <td>105</td>\n",
       "      <td>66</td>\n",
       "      <td>56</td>\n",
       "      <td>95</td>\n",
       "      <td>93</td>\n",
       "      <td>115</td>\n",
       "      <td>203</td>\n",
       "      <td>550</td>\n",
       "      <td>818</td>\n",
       "    </tr>\n",
       "    <tr>\n",
       "      <th>8</th>\n",
       "      <td>1980</td>\n",
       "      <td>42.0</td>\n",
       "      <td>117</td>\n",
       "      <td>63</td>\n",
       "      <td>125</td>\n",
       "      <td>84</td>\n",
       "      <td>70</td>\n",
       "      <td>121</td>\n",
       "      <td>106</td>\n",
       "      <td>150</td>\n",
       "      <td>227</td>\n",
       "      <td>700</td>\n",
       "      <td>987</td>\n",
       "    </tr>\n",
       "    <tr>\n",
       "      <th>9</th>\n",
       "      <td>1990</td>\n",
       "      <td>50.0</td>\n",
       "      <td>123</td>\n",
       "      <td>82</td>\n",
       "      <td>147</td>\n",
       "      <td>105</td>\n",
       "      <td>95</td>\n",
       "      <td>149</td>\n",
       "      <td>132</td>\n",
       "      <td>180</td>\n",
       "      <td>249</td>\n",
       "      <td>870</td>\n",
       "      <td>1143</td>\n",
       "    </tr>\n",
       "    <tr>\n",
       "      <th>10</th>\n",
       "      <td>2000</td>\n",
       "      <td>66.0</td>\n",
       "      <td>127</td>\n",
       "      <td>97</td>\n",
       "      <td>146</td>\n",
       "      <td>130</td>\n",
       "      <td>122</td>\n",
       "      <td>174</td>\n",
       "      <td>146</td>\n",
       "      <td>210</td>\n",
       "      <td>282</td>\n",
       "      <td>1041</td>\n",
       "      <td>1265</td>\n",
       "    </tr>\n",
       "    <tr>\n",
       "      <th>11</th>\n",
       "      <td>2010</td>\n",
       "      <td>84.0</td>\n",
       "      <td>128</td>\n",
       "      <td>112</td>\n",
       "      <td>143</td>\n",
       "      <td>148</td>\n",
       "      <td>158</td>\n",
       "      <td>195</td>\n",
       "      <td>175</td>\n",
       "      <td>242</td>\n",
       "      <td>309</td>\n",
       "      <td>1224</td>\n",
       "      <td>1343</td>\n",
       "    </tr>\n",
       "    <tr>\n",
       "      <th>12</th>\n",
       "      <td>2020</td>\n",
       "      <td>115.0</td>\n",
       "      <td>126</td>\n",
       "      <td>128</td>\n",
       "      <td>146</td>\n",
       "      <td>164</td>\n",
       "      <td>206</td>\n",
       "      <td>212</td>\n",
       "      <td>220</td>\n",
       "      <td>273</td>\n",
       "      <td>331</td>\n",
       "      <td>1380</td>\n",
       "      <td>1402</td>\n",
       "    </tr>\n",
       "  </tbody>\n",
       "</table>\n",
       "</div>"
      ],
      "text/plain": [
       "    Year  Ethiopia  Japan  Mexico  Russia  Bangladesh  Nigeria  Brazil  \\\n",
       "0   1900      16.0     44      13      40          30       18      17   \n",
       "1   1910      16.5     50      14      45          32       19      20   \n",
       "2   1920      17.0     55      15      50          35       20      23   \n",
       "3   1930      17.5     64      18      60          38       22      28   \n",
       "4   1940      18.0     73      20      70          42       24      31   \n",
       "5   1950      19.0     83      27      70          44       27      41   \n",
       "6   1960      22.0     94      37      80          50       37      70   \n",
       "7   1970      30.0    104      50     105          66       56      95   \n",
       "8   1980      42.0    117      63     125          84       70     121   \n",
       "9   1990      50.0    123      82     147         105       95     149   \n",
       "10  2000      66.0    127      97     146         130      122     174   \n",
       "11  2010      84.0    128     112     143         148      158     195   \n",
       "12  2020     115.0    126     128     146         164      206     212   \n",
       "\n",
       "    Pakistan  Indonesia  USA  India  China  \n",
       "0         30         40   76    250    400  \n",
       "1         32         45   92    260    400  \n",
       "2         35         50  106    280    430  \n",
       "3         38         55  123    300    480  \n",
       "4         40         60  132    320    500  \n",
       "5         33         70  151    340    540  \n",
       "6         70         90  179    450    660  \n",
       "7         93        115  203    550    818  \n",
       "8        106        150  227    700    987  \n",
       "9        132        180  249    870   1143  \n",
       "10       146        210  282   1041   1265  \n",
       "11       175        242  309   1224   1343  \n",
       "12       220        273  331   1380   1402  "
      ]
     },
     "execution_count": 28,
     "metadata": {},
     "output_type": "execute_result"
    }
   ],
   "source": [
    "# We can specify the sequence of the dataframes columns\n",
    "clmn = ['Year','Ethiopia', 'Japan', 'Mexico', 'Russia', 'Bangladesh', 'Nigeria', 'Brazil', 'Pakistan', 'Indonesia', 'USA', 'India', 'China']\n",
    "dframe2 = pd.DataFrame(data, columns = clmn)\n",
    "dframe2"
   ]
  },
  {
   "cell_type": "code",
   "execution_count": 29,
   "id": "0e99bd90-3c2c-4127-be0a-a5d45b68c867",
   "metadata": {},
   "outputs": [
    {
     "data": {
      "text/html": [
       "<div>\n",
       "<style scoped>\n",
       "    .dataframe tbody tr th:only-of-type {\n",
       "        vertical-align: middle;\n",
       "    }\n",
       "\n",
       "    .dataframe tbody tr th {\n",
       "        vertical-align: top;\n",
       "    }\n",
       "\n",
       "    .dataframe thead th {\n",
       "        text-align: right;\n",
       "    }\n",
       "</style>\n",
       "<table border=\"1\" class=\"dataframe\">\n",
       "  <thead>\n",
       "    <tr style=\"text-align: right;\">\n",
       "      <th></th>\n",
       "      <th>Year</th>\n",
       "      <th>UK</th>\n",
       "      <th>Ethiopia</th>\n",
       "      <th>Japan</th>\n",
       "      <th>Mexico</th>\n",
       "      <th>Russia</th>\n",
       "      <th>Bangladesh</th>\n",
       "      <th>Nigeria</th>\n",
       "      <th>Brazil</th>\n",
       "      <th>Pakistan</th>\n",
       "      <th>Indonesia</th>\n",
       "      <th>USA</th>\n",
       "      <th>India</th>\n",
       "      <th>China</th>\n",
       "    </tr>\n",
       "  </thead>\n",
       "  <tbody>\n",
       "    <tr>\n",
       "      <th>0</th>\n",
       "      <td>1900</td>\n",
       "      <td>NaN</td>\n",
       "      <td>16.0</td>\n",
       "      <td>44</td>\n",
       "      <td>13</td>\n",
       "      <td>40</td>\n",
       "      <td>30</td>\n",
       "      <td>18</td>\n",
       "      <td>17</td>\n",
       "      <td>30</td>\n",
       "      <td>40</td>\n",
       "      <td>76</td>\n",
       "      <td>250</td>\n",
       "      <td>400</td>\n",
       "    </tr>\n",
       "    <tr>\n",
       "      <th>1</th>\n",
       "      <td>1910</td>\n",
       "      <td>NaN</td>\n",
       "      <td>16.5</td>\n",
       "      <td>50</td>\n",
       "      <td>14</td>\n",
       "      <td>45</td>\n",
       "      <td>32</td>\n",
       "      <td>19</td>\n",
       "      <td>20</td>\n",
       "      <td>32</td>\n",
       "      <td>45</td>\n",
       "      <td>92</td>\n",
       "      <td>260</td>\n",
       "      <td>400</td>\n",
       "    </tr>\n",
       "    <tr>\n",
       "      <th>2</th>\n",
       "      <td>1920</td>\n",
       "      <td>NaN</td>\n",
       "      <td>17.0</td>\n",
       "      <td>55</td>\n",
       "      <td>15</td>\n",
       "      <td>50</td>\n",
       "      <td>35</td>\n",
       "      <td>20</td>\n",
       "      <td>23</td>\n",
       "      <td>35</td>\n",
       "      <td>50</td>\n",
       "      <td>106</td>\n",
       "      <td>280</td>\n",
       "      <td>430</td>\n",
       "    </tr>\n",
       "    <tr>\n",
       "      <th>3</th>\n",
       "      <td>1930</td>\n",
       "      <td>NaN</td>\n",
       "      <td>17.5</td>\n",
       "      <td>64</td>\n",
       "      <td>18</td>\n",
       "      <td>60</td>\n",
       "      <td>38</td>\n",
       "      <td>22</td>\n",
       "      <td>28</td>\n",
       "      <td>38</td>\n",
       "      <td>55</td>\n",
       "      <td>123</td>\n",
       "      <td>300</td>\n",
       "      <td>480</td>\n",
       "    </tr>\n",
       "    <tr>\n",
       "      <th>4</th>\n",
       "      <td>1940</td>\n",
       "      <td>NaN</td>\n",
       "      <td>18.0</td>\n",
       "      <td>73</td>\n",
       "      <td>20</td>\n",
       "      <td>70</td>\n",
       "      <td>42</td>\n",
       "      <td>24</td>\n",
       "      <td>31</td>\n",
       "      <td>40</td>\n",
       "      <td>60</td>\n",
       "      <td>132</td>\n",
       "      <td>320</td>\n",
       "      <td>500</td>\n",
       "    </tr>\n",
       "    <tr>\n",
       "      <th>5</th>\n",
       "      <td>1950</td>\n",
       "      <td>NaN</td>\n",
       "      <td>19.0</td>\n",
       "      <td>83</td>\n",
       "      <td>27</td>\n",
       "      <td>70</td>\n",
       "      <td>44</td>\n",
       "      <td>27</td>\n",
       "      <td>41</td>\n",
       "      <td>33</td>\n",
       "      <td>70</td>\n",
       "      <td>151</td>\n",
       "      <td>340</td>\n",
       "      <td>540</td>\n",
       "    </tr>\n",
       "    <tr>\n",
       "      <th>6</th>\n",
       "      <td>1960</td>\n",
       "      <td>NaN</td>\n",
       "      <td>22.0</td>\n",
       "      <td>94</td>\n",
       "      <td>37</td>\n",
       "      <td>80</td>\n",
       "      <td>50</td>\n",
       "      <td>37</td>\n",
       "      <td>70</td>\n",
       "      <td>70</td>\n",
       "      <td>90</td>\n",
       "      <td>179</td>\n",
       "      <td>450</td>\n",
       "      <td>660</td>\n",
       "    </tr>\n",
       "    <tr>\n",
       "      <th>7</th>\n",
       "      <td>1970</td>\n",
       "      <td>NaN</td>\n",
       "      <td>30.0</td>\n",
       "      <td>104</td>\n",
       "      <td>50</td>\n",
       "      <td>105</td>\n",
       "      <td>66</td>\n",
       "      <td>56</td>\n",
       "      <td>95</td>\n",
       "      <td>93</td>\n",
       "      <td>115</td>\n",
       "      <td>203</td>\n",
       "      <td>550</td>\n",
       "      <td>818</td>\n",
       "    </tr>\n",
       "    <tr>\n",
       "      <th>8</th>\n",
       "      <td>1980</td>\n",
       "      <td>NaN</td>\n",
       "      <td>42.0</td>\n",
       "      <td>117</td>\n",
       "      <td>63</td>\n",
       "      <td>125</td>\n",
       "      <td>84</td>\n",
       "      <td>70</td>\n",
       "      <td>121</td>\n",
       "      <td>106</td>\n",
       "      <td>150</td>\n",
       "      <td>227</td>\n",
       "      <td>700</td>\n",
       "      <td>987</td>\n",
       "    </tr>\n",
       "    <tr>\n",
       "      <th>9</th>\n",
       "      <td>1990</td>\n",
       "      <td>NaN</td>\n",
       "      <td>50.0</td>\n",
       "      <td>123</td>\n",
       "      <td>82</td>\n",
       "      <td>147</td>\n",
       "      <td>105</td>\n",
       "      <td>95</td>\n",
       "      <td>149</td>\n",
       "      <td>132</td>\n",
       "      <td>180</td>\n",
       "      <td>249</td>\n",
       "      <td>870</td>\n",
       "      <td>1143</td>\n",
       "    </tr>\n",
       "    <tr>\n",
       "      <th>10</th>\n",
       "      <td>2000</td>\n",
       "      <td>NaN</td>\n",
       "      <td>66.0</td>\n",
       "      <td>127</td>\n",
       "      <td>97</td>\n",
       "      <td>146</td>\n",
       "      <td>130</td>\n",
       "      <td>122</td>\n",
       "      <td>174</td>\n",
       "      <td>146</td>\n",
       "      <td>210</td>\n",
       "      <td>282</td>\n",
       "      <td>1041</td>\n",
       "      <td>1265</td>\n",
       "    </tr>\n",
       "    <tr>\n",
       "      <th>11</th>\n",
       "      <td>2010</td>\n",
       "      <td>NaN</td>\n",
       "      <td>84.0</td>\n",
       "      <td>128</td>\n",
       "      <td>112</td>\n",
       "      <td>143</td>\n",
       "      <td>148</td>\n",
       "      <td>158</td>\n",
       "      <td>195</td>\n",
       "      <td>175</td>\n",
       "      <td>242</td>\n",
       "      <td>309</td>\n",
       "      <td>1224</td>\n",
       "      <td>1343</td>\n",
       "    </tr>\n",
       "    <tr>\n",
       "      <th>12</th>\n",
       "      <td>2020</td>\n",
       "      <td>NaN</td>\n",
       "      <td>115.0</td>\n",
       "      <td>126</td>\n",
       "      <td>128</td>\n",
       "      <td>146</td>\n",
       "      <td>164</td>\n",
       "      <td>206</td>\n",
       "      <td>212</td>\n",
       "      <td>220</td>\n",
       "      <td>273</td>\n",
       "      <td>331</td>\n",
       "      <td>1380</td>\n",
       "      <td>1402</td>\n",
       "    </tr>\n",
       "  </tbody>\n",
       "</table>\n",
       "</div>"
      ],
      "text/plain": [
       "    Year   UK  Ethiopia  Japan  Mexico  Russia  Bangladesh  Nigeria  Brazil  \\\n",
       "0   1900  NaN      16.0     44      13      40          30       18      17   \n",
       "1   1910  NaN      16.5     50      14      45          32       19      20   \n",
       "2   1920  NaN      17.0     55      15      50          35       20      23   \n",
       "3   1930  NaN      17.5     64      18      60          38       22      28   \n",
       "4   1940  NaN      18.0     73      20      70          42       24      31   \n",
       "5   1950  NaN      19.0     83      27      70          44       27      41   \n",
       "6   1960  NaN      22.0     94      37      80          50       37      70   \n",
       "7   1970  NaN      30.0    104      50     105          66       56      95   \n",
       "8   1980  NaN      42.0    117      63     125          84       70     121   \n",
       "9   1990  NaN      50.0    123      82     147         105       95     149   \n",
       "10  2000  NaN      66.0    127      97     146         130      122     174   \n",
       "11  2010  NaN      84.0    128     112     143         148      158     195   \n",
       "12  2020  NaN     115.0    126     128     146         164      206     212   \n",
       "\n",
       "    Pakistan  Indonesia  USA  India  China  \n",
       "0         30         40   76    250    400  \n",
       "1         32         45   92    260    400  \n",
       "2         35         50  106    280    430  \n",
       "3         38         55  123    300    480  \n",
       "4         40         60  132    320    500  \n",
       "5         33         70  151    340    540  \n",
       "6         70         90  179    450    660  \n",
       "7         93        115  203    550    818  \n",
       "8        106        150  227    700    987  \n",
       "9        132        180  249    870   1143  \n",
       "10       146        210  282   1041   1265  \n",
       "11       175        242  309   1224   1343  \n",
       "12       220        273  331   1380   1402  "
      ]
     },
     "execution_count": 29,
     "metadata": {},
     "output_type": "execute_result"
    }
   ],
   "source": [
    "# if we pass a column that is not in the dictionary it will appear missing values\n",
    "# For example let's pass 'UK' which is not in the dictionary\n",
    "cn = ['Year', 'UK', 'Ethiopia', 'Japan', 'Mexico', 'Russia', 'Bangladesh', 'Nigeria', 'Brazil', 'Pakistan', 'Indonesia', 'USA', 'India', 'China']\n",
    "dframe3 = pd.DataFrame(data, columns = cn)\n",
    "dframe3"
   ]
  },
  {
   "cell_type": "code",
   "execution_count": 30,
   "id": "cbd5572e-8c6b-4c30-925e-d9a401676c62",
   "metadata": {},
   "outputs": [
    {
     "data": {
      "text/plain": [
       "0      16.0\n",
       "1      16.5\n",
       "2      17.0\n",
       "3      17.5\n",
       "4      18.0\n",
       "5      19.0\n",
       "6      22.0\n",
       "7      30.0\n",
       "8      42.0\n",
       "9      50.0\n",
       "10     66.0\n",
       "11     84.0\n",
       "12    115.0\n",
       "Name: Ethiopia, dtype: float64"
      ]
     },
     "execution_count": 30,
     "metadata": {},
     "output_type": "execute_result"
    }
   ],
   "source": [
    "# A column in a dataframe can be retrived as a series by dictionary like notion\n",
    "dframe['Ethiopia']"
   ]
  },
  {
   "cell_type": "code",
   "execution_count": 31,
   "id": "90715c6d-89ba-48b7-83eb-fe42c0649768",
   "metadata": {},
   "outputs": [
    {
     "data": {
      "text/plain": [
       "Year\n",
       "1900     250\n",
       "1910     260\n",
       "1920     280\n",
       "1930     300\n",
       "1940     320\n",
       "1950     340\n",
       "1960     450\n",
       "1970     550\n",
       "1980     700\n",
       "1990     870\n",
       "2000    1041\n",
       "2010    1224\n",
       "2020    1380\n",
       "Name: India, dtype: int64"
      ]
     },
     "execution_count": 31,
     "metadata": {},
     "output_type": "execute_result"
    }
   ],
   "source": [
    "# Or using the dot attribute notation\n",
    "df.India"
   ]
  },
  {
   "cell_type": "code",
   "execution_count": 32,
   "id": "46a27993-a7c8-4858-a7b0-7ddf0a6143f6",
   "metadata": {},
   "outputs": [
    {
     "data": {
      "text/plain": [
       "Year          1910.0\n",
       "China          400.0\n",
       "India          260.0\n",
       "USA             92.0\n",
       "Indonesia       45.0\n",
       "Pakistan        32.0\n",
       "Brazil          20.0\n",
       "Nigeria         19.0\n",
       "Bangladesh      32.0\n",
       "Russia          45.0\n",
       "Mexico          14.0\n",
       "Japan           50.0\n",
       "Ethiopia        16.5\n",
       "Name: 1, dtype: float64"
      ]
     },
     "execution_count": 32,
     "metadata": {},
     "output_type": "execute_result"
    }
   ],
   "source": [
    "# Rows can also be retrieved by position or name with the special iloc and loc attributes \n",
    "dframe.loc[1]"
   ]
  },
  {
   "cell_type": "code",
   "execution_count": 33,
   "id": "35928125-7f3b-46f6-a6e0-dcee0995d5c9",
   "metadata": {},
   "outputs": [
    {
     "data": {
      "text/plain": [
       "Year          1950.0\n",
       "China          540.0\n",
       "India          340.0\n",
       "USA            151.0\n",
       "Indonesia       70.0\n",
       "Pakistan        33.0\n",
       "Brazil          41.0\n",
       "Nigeria         27.0\n",
       "Bangladesh      44.0\n",
       "Russia          70.0\n",
       "Mexico          27.0\n",
       "Japan           83.0\n",
       "Ethiopia        19.0\n",
       "Name: 5, dtype: float64"
      ]
     },
     "execution_count": 33,
     "metadata": {},
     "output_type": "execute_result"
    }
   ],
   "source": [
    "dframe.iloc[5]"
   ]
  },
  {
   "cell_type": "code",
   "execution_count": 34,
   "id": "373bb29b-6431-4041-a539-9ee09f06f403",
   "metadata": {},
   "outputs": [
    {
     "data": {
      "text/html": [
       "<div>\n",
       "<style scoped>\n",
       "    .dataframe tbody tr th:only-of-type {\n",
       "        vertical-align: middle;\n",
       "    }\n",
       "\n",
       "    .dataframe tbody tr th {\n",
       "        vertical-align: top;\n",
       "    }\n",
       "\n",
       "    .dataframe thead th {\n",
       "        text-align: right;\n",
       "    }\n",
       "</style>\n",
       "<table border=\"1\" class=\"dataframe\">\n",
       "  <thead>\n",
       "    <tr style=\"text-align: right;\">\n",
       "      <th></th>\n",
       "      <th>Year</th>\n",
       "      <th>UK</th>\n",
       "      <th>Ethiopia</th>\n",
       "      <th>Japan</th>\n",
       "      <th>Mexico</th>\n",
       "      <th>Russia</th>\n",
       "      <th>Bangladesh</th>\n",
       "      <th>Nigeria</th>\n",
       "      <th>Brazil</th>\n",
       "      <th>Pakistan</th>\n",
       "      <th>Indonesia</th>\n",
       "      <th>USA</th>\n",
       "      <th>India</th>\n",
       "      <th>China</th>\n",
       "    </tr>\n",
       "  </thead>\n",
       "  <tbody>\n",
       "    <tr>\n",
       "      <th>0</th>\n",
       "      <td>1900</td>\n",
       "      <td>30</td>\n",
       "      <td>16.0</td>\n",
       "      <td>44</td>\n",
       "      <td>13</td>\n",
       "      <td>40</td>\n",
       "      <td>30</td>\n",
       "      <td>18</td>\n",
       "      <td>17</td>\n",
       "      <td>30</td>\n",
       "      <td>40</td>\n",
       "      <td>76</td>\n",
       "      <td>250</td>\n",
       "      <td>400</td>\n",
       "    </tr>\n",
       "    <tr>\n",
       "      <th>1</th>\n",
       "      <td>1910</td>\n",
       "      <td>30</td>\n",
       "      <td>16.5</td>\n",
       "      <td>50</td>\n",
       "      <td>14</td>\n",
       "      <td>45</td>\n",
       "      <td>32</td>\n",
       "      <td>19</td>\n",
       "      <td>20</td>\n",
       "      <td>32</td>\n",
       "      <td>45</td>\n",
       "      <td>92</td>\n",
       "      <td>260</td>\n",
       "      <td>400</td>\n",
       "    </tr>\n",
       "    <tr>\n",
       "      <th>2</th>\n",
       "      <td>1920</td>\n",
       "      <td>30</td>\n",
       "      <td>17.0</td>\n",
       "      <td>55</td>\n",
       "      <td>15</td>\n",
       "      <td>50</td>\n",
       "      <td>35</td>\n",
       "      <td>20</td>\n",
       "      <td>23</td>\n",
       "      <td>35</td>\n",
       "      <td>50</td>\n",
       "      <td>106</td>\n",
       "      <td>280</td>\n",
       "      <td>430</td>\n",
       "    </tr>\n",
       "    <tr>\n",
       "      <th>3</th>\n",
       "      <td>1930</td>\n",
       "      <td>30</td>\n",
       "      <td>17.5</td>\n",
       "      <td>64</td>\n",
       "      <td>18</td>\n",
       "      <td>60</td>\n",
       "      <td>38</td>\n",
       "      <td>22</td>\n",
       "      <td>28</td>\n",
       "      <td>38</td>\n",
       "      <td>55</td>\n",
       "      <td>123</td>\n",
       "      <td>300</td>\n",
       "      <td>480</td>\n",
       "    </tr>\n",
       "    <tr>\n",
       "      <th>4</th>\n",
       "      <td>1940</td>\n",
       "      <td>30</td>\n",
       "      <td>18.0</td>\n",
       "      <td>73</td>\n",
       "      <td>20</td>\n",
       "      <td>70</td>\n",
       "      <td>42</td>\n",
       "      <td>24</td>\n",
       "      <td>31</td>\n",
       "      <td>40</td>\n",
       "      <td>60</td>\n",
       "      <td>132</td>\n",
       "      <td>320</td>\n",
       "      <td>500</td>\n",
       "    </tr>\n",
       "    <tr>\n",
       "      <th>5</th>\n",
       "      <td>1950</td>\n",
       "      <td>30</td>\n",
       "      <td>19.0</td>\n",
       "      <td>83</td>\n",
       "      <td>27</td>\n",
       "      <td>70</td>\n",
       "      <td>44</td>\n",
       "      <td>27</td>\n",
       "      <td>41</td>\n",
       "      <td>33</td>\n",
       "      <td>70</td>\n",
       "      <td>151</td>\n",
       "      <td>340</td>\n",
       "      <td>540</td>\n",
       "    </tr>\n",
       "    <tr>\n",
       "      <th>6</th>\n",
       "      <td>1960</td>\n",
       "      <td>30</td>\n",
       "      <td>22.0</td>\n",
       "      <td>94</td>\n",
       "      <td>37</td>\n",
       "      <td>80</td>\n",
       "      <td>50</td>\n",
       "      <td>37</td>\n",
       "      <td>70</td>\n",
       "      <td>70</td>\n",
       "      <td>90</td>\n",
       "      <td>179</td>\n",
       "      <td>450</td>\n",
       "      <td>660</td>\n",
       "    </tr>\n",
       "    <tr>\n",
       "      <th>7</th>\n",
       "      <td>1970</td>\n",
       "      <td>30</td>\n",
       "      <td>30.0</td>\n",
       "      <td>104</td>\n",
       "      <td>50</td>\n",
       "      <td>105</td>\n",
       "      <td>66</td>\n",
       "      <td>56</td>\n",
       "      <td>95</td>\n",
       "      <td>93</td>\n",
       "      <td>115</td>\n",
       "      <td>203</td>\n",
       "      <td>550</td>\n",
       "      <td>818</td>\n",
       "    </tr>\n",
       "    <tr>\n",
       "      <th>8</th>\n",
       "      <td>1980</td>\n",
       "      <td>30</td>\n",
       "      <td>42.0</td>\n",
       "      <td>117</td>\n",
       "      <td>63</td>\n",
       "      <td>125</td>\n",
       "      <td>84</td>\n",
       "      <td>70</td>\n",
       "      <td>121</td>\n",
       "      <td>106</td>\n",
       "      <td>150</td>\n",
       "      <td>227</td>\n",
       "      <td>700</td>\n",
       "      <td>987</td>\n",
       "    </tr>\n",
       "    <tr>\n",
       "      <th>9</th>\n",
       "      <td>1990</td>\n",
       "      <td>30</td>\n",
       "      <td>50.0</td>\n",
       "      <td>123</td>\n",
       "      <td>82</td>\n",
       "      <td>147</td>\n",
       "      <td>105</td>\n",
       "      <td>95</td>\n",
       "      <td>149</td>\n",
       "      <td>132</td>\n",
       "      <td>180</td>\n",
       "      <td>249</td>\n",
       "      <td>870</td>\n",
       "      <td>1143</td>\n",
       "    </tr>\n",
       "    <tr>\n",
       "      <th>10</th>\n",
       "      <td>2000</td>\n",
       "      <td>30</td>\n",
       "      <td>66.0</td>\n",
       "      <td>127</td>\n",
       "      <td>97</td>\n",
       "      <td>146</td>\n",
       "      <td>130</td>\n",
       "      <td>122</td>\n",
       "      <td>174</td>\n",
       "      <td>146</td>\n",
       "      <td>210</td>\n",
       "      <td>282</td>\n",
       "      <td>1041</td>\n",
       "      <td>1265</td>\n",
       "    </tr>\n",
       "    <tr>\n",
       "      <th>11</th>\n",
       "      <td>2010</td>\n",
       "      <td>30</td>\n",
       "      <td>84.0</td>\n",
       "      <td>128</td>\n",
       "      <td>112</td>\n",
       "      <td>143</td>\n",
       "      <td>148</td>\n",
       "      <td>158</td>\n",
       "      <td>195</td>\n",
       "      <td>175</td>\n",
       "      <td>242</td>\n",
       "      <td>309</td>\n",
       "      <td>1224</td>\n",
       "      <td>1343</td>\n",
       "    </tr>\n",
       "    <tr>\n",
       "      <th>12</th>\n",
       "      <td>2020</td>\n",
       "      <td>30</td>\n",
       "      <td>115.0</td>\n",
       "      <td>126</td>\n",
       "      <td>128</td>\n",
       "      <td>146</td>\n",
       "      <td>164</td>\n",
       "      <td>206</td>\n",
       "      <td>212</td>\n",
       "      <td>220</td>\n",
       "      <td>273</td>\n",
       "      <td>331</td>\n",
       "      <td>1380</td>\n",
       "      <td>1402</td>\n",
       "    </tr>\n",
       "  </tbody>\n",
       "</table>\n",
       "</div>"
      ],
      "text/plain": [
       "    Year  UK  Ethiopia  Japan  Mexico  Russia  Bangladesh  Nigeria  Brazil  \\\n",
       "0   1900  30      16.0     44      13      40          30       18      17   \n",
       "1   1910  30      16.5     50      14      45          32       19      20   \n",
       "2   1920  30      17.0     55      15      50          35       20      23   \n",
       "3   1930  30      17.5     64      18      60          38       22      28   \n",
       "4   1940  30      18.0     73      20      70          42       24      31   \n",
       "5   1950  30      19.0     83      27      70          44       27      41   \n",
       "6   1960  30      22.0     94      37      80          50       37      70   \n",
       "7   1970  30      30.0    104      50     105          66       56      95   \n",
       "8   1980  30      42.0    117      63     125          84       70     121   \n",
       "9   1990  30      50.0    123      82     147         105       95     149   \n",
       "10  2000  30      66.0    127      97     146         130      122     174   \n",
       "11  2010  30      84.0    128     112     143         148      158     195   \n",
       "12  2020  30     115.0    126     128     146         164      206     212   \n",
       "\n",
       "    Pakistan  Indonesia  USA  India  China  \n",
       "0         30         40   76    250    400  \n",
       "1         32         45   92    260    400  \n",
       "2         35         50  106    280    430  \n",
       "3         38         55  123    300    480  \n",
       "4         40         60  132    320    500  \n",
       "5         33         70  151    340    540  \n",
       "6         70         90  179    450    660  \n",
       "7         93        115  203    550    818  \n",
       "8        106        150  227    700    987  \n",
       "9        132        180  249    870   1143  \n",
       "10       146        210  282   1041   1265  \n",
       "11       175        242  309   1224   1343  \n",
       "12       220        273  331   1380   1402  "
      ]
     },
     "execution_count": 34,
     "metadata": {},
     "output_type": "execute_result"
    }
   ],
   "source": [
    "# Columns can be modified\n",
    "dframe3['UK'] = 30\n",
    "dframe3"
   ]
  },
  {
   "cell_type": "code",
   "execution_count": 35,
   "id": "526a5b82-0a36-4b04-8d63-816bdafa4b08",
   "metadata": {},
   "outputs": [
    {
     "data": {
      "text/html": [
       "<div>\n",
       "<style scoped>\n",
       "    .dataframe tbody tr th:only-of-type {\n",
       "        vertical-align: middle;\n",
       "    }\n",
       "\n",
       "    .dataframe tbody tr th {\n",
       "        vertical-align: top;\n",
       "    }\n",
       "\n",
       "    .dataframe thead th {\n",
       "        text-align: right;\n",
       "    }\n",
       "</style>\n",
       "<table border=\"1\" class=\"dataframe\">\n",
       "  <thead>\n",
       "    <tr style=\"text-align: right;\">\n",
       "      <th></th>\n",
       "      <th>Year</th>\n",
       "      <th>UK</th>\n",
       "      <th>Ethiopia</th>\n",
       "      <th>Japan</th>\n",
       "      <th>Mexico</th>\n",
       "      <th>Russia</th>\n",
       "      <th>Bangladesh</th>\n",
       "      <th>Nigeria</th>\n",
       "      <th>Brazil</th>\n",
       "      <th>Pakistan</th>\n",
       "      <th>Indonesia</th>\n",
       "      <th>USA</th>\n",
       "      <th>India</th>\n",
       "      <th>China</th>\n",
       "    </tr>\n",
       "  </thead>\n",
       "  <tbody>\n",
       "    <tr>\n",
       "      <th>0</th>\n",
       "      <td>1900</td>\n",
       "      <td>10</td>\n",
       "      <td>16.0</td>\n",
       "      <td>44</td>\n",
       "      <td>13</td>\n",
       "      <td>40</td>\n",
       "      <td>30</td>\n",
       "      <td>18</td>\n",
       "      <td>17</td>\n",
       "      <td>30</td>\n",
       "      <td>40</td>\n",
       "      <td>76</td>\n",
       "      <td>250</td>\n",
       "      <td>400</td>\n",
       "    </tr>\n",
       "    <tr>\n",
       "      <th>1</th>\n",
       "      <td>1910</td>\n",
       "      <td>20</td>\n",
       "      <td>16.5</td>\n",
       "      <td>50</td>\n",
       "      <td>14</td>\n",
       "      <td>45</td>\n",
       "      <td>32</td>\n",
       "      <td>19</td>\n",
       "      <td>20</td>\n",
       "      <td>32</td>\n",
       "      <td>45</td>\n",
       "      <td>92</td>\n",
       "      <td>260</td>\n",
       "      <td>400</td>\n",
       "    </tr>\n",
       "    <tr>\n",
       "      <th>2</th>\n",
       "      <td>1920</td>\n",
       "      <td>30</td>\n",
       "      <td>17.0</td>\n",
       "      <td>55</td>\n",
       "      <td>15</td>\n",
       "      <td>50</td>\n",
       "      <td>35</td>\n",
       "      <td>20</td>\n",
       "      <td>23</td>\n",
       "      <td>35</td>\n",
       "      <td>50</td>\n",
       "      <td>106</td>\n",
       "      <td>280</td>\n",
       "      <td>430</td>\n",
       "    </tr>\n",
       "    <tr>\n",
       "      <th>3</th>\n",
       "      <td>1930</td>\n",
       "      <td>40</td>\n",
       "      <td>17.5</td>\n",
       "      <td>64</td>\n",
       "      <td>18</td>\n",
       "      <td>60</td>\n",
       "      <td>38</td>\n",
       "      <td>22</td>\n",
       "      <td>28</td>\n",
       "      <td>38</td>\n",
       "      <td>55</td>\n",
       "      <td>123</td>\n",
       "      <td>300</td>\n",
       "      <td>480</td>\n",
       "    </tr>\n",
       "    <tr>\n",
       "      <th>4</th>\n",
       "      <td>1940</td>\n",
       "      <td>50</td>\n",
       "      <td>18.0</td>\n",
       "      <td>73</td>\n",
       "      <td>20</td>\n",
       "      <td>70</td>\n",
       "      <td>42</td>\n",
       "      <td>24</td>\n",
       "      <td>31</td>\n",
       "      <td>40</td>\n",
       "      <td>60</td>\n",
       "      <td>132</td>\n",
       "      <td>320</td>\n",
       "      <td>500</td>\n",
       "    </tr>\n",
       "    <tr>\n",
       "      <th>5</th>\n",
       "      <td>1950</td>\n",
       "      <td>60</td>\n",
       "      <td>19.0</td>\n",
       "      <td>83</td>\n",
       "      <td>27</td>\n",
       "      <td>70</td>\n",
       "      <td>44</td>\n",
       "      <td>27</td>\n",
       "      <td>41</td>\n",
       "      <td>33</td>\n",
       "      <td>70</td>\n",
       "      <td>151</td>\n",
       "      <td>340</td>\n",
       "      <td>540</td>\n",
       "    </tr>\n",
       "    <tr>\n",
       "      <th>6</th>\n",
       "      <td>1960</td>\n",
       "      <td>70</td>\n",
       "      <td>22.0</td>\n",
       "      <td>94</td>\n",
       "      <td>37</td>\n",
       "      <td>80</td>\n",
       "      <td>50</td>\n",
       "      <td>37</td>\n",
       "      <td>70</td>\n",
       "      <td>70</td>\n",
       "      <td>90</td>\n",
       "      <td>179</td>\n",
       "      <td>450</td>\n",
       "      <td>660</td>\n",
       "    </tr>\n",
       "    <tr>\n",
       "      <th>7</th>\n",
       "      <td>1970</td>\n",
       "      <td>80</td>\n",
       "      <td>30.0</td>\n",
       "      <td>104</td>\n",
       "      <td>50</td>\n",
       "      <td>105</td>\n",
       "      <td>66</td>\n",
       "      <td>56</td>\n",
       "      <td>95</td>\n",
       "      <td>93</td>\n",
       "      <td>115</td>\n",
       "      <td>203</td>\n",
       "      <td>550</td>\n",
       "      <td>818</td>\n",
       "    </tr>\n",
       "    <tr>\n",
       "      <th>8</th>\n",
       "      <td>1980</td>\n",
       "      <td>90</td>\n",
       "      <td>42.0</td>\n",
       "      <td>117</td>\n",
       "      <td>63</td>\n",
       "      <td>125</td>\n",
       "      <td>84</td>\n",
       "      <td>70</td>\n",
       "      <td>121</td>\n",
       "      <td>106</td>\n",
       "      <td>150</td>\n",
       "      <td>227</td>\n",
       "      <td>700</td>\n",
       "      <td>987</td>\n",
       "    </tr>\n",
       "    <tr>\n",
       "      <th>9</th>\n",
       "      <td>1990</td>\n",
       "      <td>100</td>\n",
       "      <td>50.0</td>\n",
       "      <td>123</td>\n",
       "      <td>82</td>\n",
       "      <td>147</td>\n",
       "      <td>105</td>\n",
       "      <td>95</td>\n",
       "      <td>149</td>\n",
       "      <td>132</td>\n",
       "      <td>180</td>\n",
       "      <td>249</td>\n",
       "      <td>870</td>\n",
       "      <td>1143</td>\n",
       "    </tr>\n",
       "    <tr>\n",
       "      <th>10</th>\n",
       "      <td>2000</td>\n",
       "      <td>110</td>\n",
       "      <td>66.0</td>\n",
       "      <td>127</td>\n",
       "      <td>97</td>\n",
       "      <td>146</td>\n",
       "      <td>130</td>\n",
       "      <td>122</td>\n",
       "      <td>174</td>\n",
       "      <td>146</td>\n",
       "      <td>210</td>\n",
       "      <td>282</td>\n",
       "      <td>1041</td>\n",
       "      <td>1265</td>\n",
       "    </tr>\n",
       "    <tr>\n",
       "      <th>11</th>\n",
       "      <td>2010</td>\n",
       "      <td>120</td>\n",
       "      <td>84.0</td>\n",
       "      <td>128</td>\n",
       "      <td>112</td>\n",
       "      <td>143</td>\n",
       "      <td>148</td>\n",
       "      <td>158</td>\n",
       "      <td>195</td>\n",
       "      <td>175</td>\n",
       "      <td>242</td>\n",
       "      <td>309</td>\n",
       "      <td>1224</td>\n",
       "      <td>1343</td>\n",
       "    </tr>\n",
       "    <tr>\n",
       "      <th>12</th>\n",
       "      <td>2020</td>\n",
       "      <td>130</td>\n",
       "      <td>115.0</td>\n",
       "      <td>126</td>\n",
       "      <td>128</td>\n",
       "      <td>146</td>\n",
       "      <td>164</td>\n",
       "      <td>206</td>\n",
       "      <td>212</td>\n",
       "      <td>220</td>\n",
       "      <td>273</td>\n",
       "      <td>331</td>\n",
       "      <td>1380</td>\n",
       "      <td>1402</td>\n",
       "    </tr>\n",
       "  </tbody>\n",
       "</table>\n",
       "</div>"
      ],
      "text/plain": [
       "    Year   UK  Ethiopia  Japan  Mexico  Russia  Bangladesh  Nigeria  Brazil  \\\n",
       "0   1900   10      16.0     44      13      40          30       18      17   \n",
       "1   1910   20      16.5     50      14      45          32       19      20   \n",
       "2   1920   30      17.0     55      15      50          35       20      23   \n",
       "3   1930   40      17.5     64      18      60          38       22      28   \n",
       "4   1940   50      18.0     73      20      70          42       24      31   \n",
       "5   1950   60      19.0     83      27      70          44       27      41   \n",
       "6   1960   70      22.0     94      37      80          50       37      70   \n",
       "7   1970   80      30.0    104      50     105          66       56      95   \n",
       "8   1980   90      42.0    117      63     125          84       70     121   \n",
       "9   1990  100      50.0    123      82     147         105       95     149   \n",
       "10  2000  110      66.0    127      97     146         130      122     174   \n",
       "11  2010  120      84.0    128     112     143         148      158     195   \n",
       "12  2020  130     115.0    126     128     146         164      206     212   \n",
       "\n",
       "    Pakistan  Indonesia  USA  India  China  \n",
       "0         30         40   76    250    400  \n",
       "1         32         45   92    260    400  \n",
       "2         35         50  106    280    430  \n",
       "3         38         55  123    300    480  \n",
       "4         40         60  132    320    500  \n",
       "5         33         70  151    340    540  \n",
       "6         70         90  179    450    660  \n",
       "7         93        115  203    550    818  \n",
       "8        106        150  227    700    987  \n",
       "9        132        180  249    870   1143  \n",
       "10       146        210  282   1041   1265  \n",
       "11       175        242  309   1224   1343  \n",
       "12       220        273  331   1380   1402  "
      ]
     },
     "execution_count": 35,
     "metadata": {},
     "output_type": "execute_result"
    }
   ],
   "source": [
    "# We can assign arrays\n",
    "dframe3['UK'] = np.arange(10, 140, 10)\n",
    "dframe3"
   ]
  },
  {
   "cell_type": "code",
   "execution_count": 36,
   "id": "af0bbb5f-6a42-411a-a091-4351d911e51a",
   "metadata": {},
   "outputs": [
    {
     "data": {
      "text/html": [
       "<div>\n",
       "<style scoped>\n",
       "    .dataframe tbody tr th:only-of-type {\n",
       "        vertical-align: middle;\n",
       "    }\n",
       "\n",
       "    .dataframe tbody tr th {\n",
       "        vertical-align: top;\n",
       "    }\n",
       "\n",
       "    .dataframe thead th {\n",
       "        text-align: right;\n",
       "    }\n",
       "</style>\n",
       "<table border=\"1\" class=\"dataframe\">\n",
       "  <thead>\n",
       "    <tr style=\"text-align: right;\">\n",
       "      <th></th>\n",
       "      <th>Year</th>\n",
       "      <th>UK</th>\n",
       "      <th>Ethiopia</th>\n",
       "      <th>Japan</th>\n",
       "      <th>Mexico</th>\n",
       "      <th>Russia</th>\n",
       "      <th>Bangladesh</th>\n",
       "      <th>Nigeria</th>\n",
       "      <th>Brazil</th>\n",
       "      <th>Pakistan</th>\n",
       "      <th>Indonesia</th>\n",
       "      <th>USA</th>\n",
       "      <th>India</th>\n",
       "      <th>China</th>\n",
       "      <th>France</th>\n",
       "    </tr>\n",
       "  </thead>\n",
       "  <tbody>\n",
       "    <tr>\n",
       "      <th>0</th>\n",
       "      <td>1900</td>\n",
       "      <td>10</td>\n",
       "      <td>16.0</td>\n",
       "      <td>44</td>\n",
       "      <td>13</td>\n",
       "      <td>40</td>\n",
       "      <td>30</td>\n",
       "      <td>18</td>\n",
       "      <td>17</td>\n",
       "      <td>30</td>\n",
       "      <td>40</td>\n",
       "      <td>76</td>\n",
       "      <td>250</td>\n",
       "      <td>400</td>\n",
       "      <td>50</td>\n",
       "    </tr>\n",
       "    <tr>\n",
       "      <th>1</th>\n",
       "      <td>1910</td>\n",
       "      <td>20</td>\n",
       "      <td>16.5</td>\n",
       "      <td>50</td>\n",
       "      <td>14</td>\n",
       "      <td>45</td>\n",
       "      <td>32</td>\n",
       "      <td>19</td>\n",
       "      <td>20</td>\n",
       "      <td>32</td>\n",
       "      <td>45</td>\n",
       "      <td>92</td>\n",
       "      <td>260</td>\n",
       "      <td>400</td>\n",
       "      <td>50</td>\n",
       "    </tr>\n",
       "    <tr>\n",
       "      <th>2</th>\n",
       "      <td>1920</td>\n",
       "      <td>30</td>\n",
       "      <td>17.0</td>\n",
       "      <td>55</td>\n",
       "      <td>15</td>\n",
       "      <td>50</td>\n",
       "      <td>35</td>\n",
       "      <td>20</td>\n",
       "      <td>23</td>\n",
       "      <td>35</td>\n",
       "      <td>50</td>\n",
       "      <td>106</td>\n",
       "      <td>280</td>\n",
       "      <td>430</td>\n",
       "      <td>50</td>\n",
       "    </tr>\n",
       "    <tr>\n",
       "      <th>3</th>\n",
       "      <td>1930</td>\n",
       "      <td>40</td>\n",
       "      <td>17.5</td>\n",
       "      <td>64</td>\n",
       "      <td>18</td>\n",
       "      <td>60</td>\n",
       "      <td>38</td>\n",
       "      <td>22</td>\n",
       "      <td>28</td>\n",
       "      <td>38</td>\n",
       "      <td>55</td>\n",
       "      <td>123</td>\n",
       "      <td>300</td>\n",
       "      <td>480</td>\n",
       "      <td>50</td>\n",
       "    </tr>\n",
       "    <tr>\n",
       "      <th>4</th>\n",
       "      <td>1940</td>\n",
       "      <td>50</td>\n",
       "      <td>18.0</td>\n",
       "      <td>73</td>\n",
       "      <td>20</td>\n",
       "      <td>70</td>\n",
       "      <td>42</td>\n",
       "      <td>24</td>\n",
       "      <td>31</td>\n",
       "      <td>40</td>\n",
       "      <td>60</td>\n",
       "      <td>132</td>\n",
       "      <td>320</td>\n",
       "      <td>500</td>\n",
       "      <td>50</td>\n",
       "    </tr>\n",
       "    <tr>\n",
       "      <th>5</th>\n",
       "      <td>1950</td>\n",
       "      <td>60</td>\n",
       "      <td>19.0</td>\n",
       "      <td>83</td>\n",
       "      <td>27</td>\n",
       "      <td>70</td>\n",
       "      <td>44</td>\n",
       "      <td>27</td>\n",
       "      <td>41</td>\n",
       "      <td>33</td>\n",
       "      <td>70</td>\n",
       "      <td>151</td>\n",
       "      <td>340</td>\n",
       "      <td>540</td>\n",
       "      <td>50</td>\n",
       "    </tr>\n",
       "    <tr>\n",
       "      <th>6</th>\n",
       "      <td>1960</td>\n",
       "      <td>70</td>\n",
       "      <td>22.0</td>\n",
       "      <td>94</td>\n",
       "      <td>37</td>\n",
       "      <td>80</td>\n",
       "      <td>50</td>\n",
       "      <td>37</td>\n",
       "      <td>70</td>\n",
       "      <td>70</td>\n",
       "      <td>90</td>\n",
       "      <td>179</td>\n",
       "      <td>450</td>\n",
       "      <td>660</td>\n",
       "      <td>50</td>\n",
       "    </tr>\n",
       "    <tr>\n",
       "      <th>7</th>\n",
       "      <td>1970</td>\n",
       "      <td>80</td>\n",
       "      <td>30.0</td>\n",
       "      <td>104</td>\n",
       "      <td>50</td>\n",
       "      <td>105</td>\n",
       "      <td>66</td>\n",
       "      <td>56</td>\n",
       "      <td>95</td>\n",
       "      <td>93</td>\n",
       "      <td>115</td>\n",
       "      <td>203</td>\n",
       "      <td>550</td>\n",
       "      <td>818</td>\n",
       "      <td>50</td>\n",
       "    </tr>\n",
       "    <tr>\n",
       "      <th>8</th>\n",
       "      <td>1980</td>\n",
       "      <td>90</td>\n",
       "      <td>42.0</td>\n",
       "      <td>117</td>\n",
       "      <td>63</td>\n",
       "      <td>125</td>\n",
       "      <td>84</td>\n",
       "      <td>70</td>\n",
       "      <td>121</td>\n",
       "      <td>106</td>\n",
       "      <td>150</td>\n",
       "      <td>227</td>\n",
       "      <td>700</td>\n",
       "      <td>987</td>\n",
       "      <td>50</td>\n",
       "    </tr>\n",
       "    <tr>\n",
       "      <th>9</th>\n",
       "      <td>1990</td>\n",
       "      <td>100</td>\n",
       "      <td>50.0</td>\n",
       "      <td>123</td>\n",
       "      <td>82</td>\n",
       "      <td>147</td>\n",
       "      <td>105</td>\n",
       "      <td>95</td>\n",
       "      <td>149</td>\n",
       "      <td>132</td>\n",
       "      <td>180</td>\n",
       "      <td>249</td>\n",
       "      <td>870</td>\n",
       "      <td>1143</td>\n",
       "      <td>50</td>\n",
       "    </tr>\n",
       "    <tr>\n",
       "      <th>10</th>\n",
       "      <td>2000</td>\n",
       "      <td>110</td>\n",
       "      <td>66.0</td>\n",
       "      <td>127</td>\n",
       "      <td>97</td>\n",
       "      <td>146</td>\n",
       "      <td>130</td>\n",
       "      <td>122</td>\n",
       "      <td>174</td>\n",
       "      <td>146</td>\n",
       "      <td>210</td>\n",
       "      <td>282</td>\n",
       "      <td>1041</td>\n",
       "      <td>1265</td>\n",
       "      <td>50</td>\n",
       "    </tr>\n",
       "    <tr>\n",
       "      <th>11</th>\n",
       "      <td>2010</td>\n",
       "      <td>120</td>\n",
       "      <td>84.0</td>\n",
       "      <td>128</td>\n",
       "      <td>112</td>\n",
       "      <td>143</td>\n",
       "      <td>148</td>\n",
       "      <td>158</td>\n",
       "      <td>195</td>\n",
       "      <td>175</td>\n",
       "      <td>242</td>\n",
       "      <td>309</td>\n",
       "      <td>1224</td>\n",
       "      <td>1343</td>\n",
       "      <td>50</td>\n",
       "    </tr>\n",
       "    <tr>\n",
       "      <th>12</th>\n",
       "      <td>2020</td>\n",
       "      <td>130</td>\n",
       "      <td>115.0</td>\n",
       "      <td>126</td>\n",
       "      <td>128</td>\n",
       "      <td>146</td>\n",
       "      <td>164</td>\n",
       "      <td>206</td>\n",
       "      <td>212</td>\n",
       "      <td>220</td>\n",
       "      <td>273</td>\n",
       "      <td>331</td>\n",
       "      <td>1380</td>\n",
       "      <td>1402</td>\n",
       "      <td>50</td>\n",
       "    </tr>\n",
       "  </tbody>\n",
       "</table>\n",
       "</div>"
      ],
      "text/plain": [
       "    Year   UK  Ethiopia  Japan  Mexico  Russia  Bangladesh  Nigeria  Brazil  \\\n",
       "0   1900   10      16.0     44      13      40          30       18      17   \n",
       "1   1910   20      16.5     50      14      45          32       19      20   \n",
       "2   1920   30      17.0     55      15      50          35       20      23   \n",
       "3   1930   40      17.5     64      18      60          38       22      28   \n",
       "4   1940   50      18.0     73      20      70          42       24      31   \n",
       "5   1950   60      19.0     83      27      70          44       27      41   \n",
       "6   1960   70      22.0     94      37      80          50       37      70   \n",
       "7   1970   80      30.0    104      50     105          66       56      95   \n",
       "8   1980   90      42.0    117      63     125          84       70     121   \n",
       "9   1990  100      50.0    123      82     147         105       95     149   \n",
       "10  2000  110      66.0    127      97     146         130      122     174   \n",
       "11  2010  120      84.0    128     112     143         148      158     195   \n",
       "12  2020  130     115.0    126     128     146         164      206     212   \n",
       "\n",
       "    Pakistan  Indonesia  USA  India  China  France  \n",
       "0         30         40   76    250    400      50  \n",
       "1         32         45   92    260    400      50  \n",
       "2         35         50  106    280    430      50  \n",
       "3         38         55  123    300    480      50  \n",
       "4         40         60  132    320    500      50  \n",
       "5         33         70  151    340    540      50  \n",
       "6         70         90  179    450    660      50  \n",
       "7         93        115  203    550    818      50  \n",
       "8        106        150  227    700    987      50  \n",
       "9        132        180  249    870   1143      50  \n",
       "10       146        210  282   1041   1265      50  \n",
       "11       175        242  309   1224   1343      50  \n",
       "12       220        273  331   1380   1402      50  "
      ]
     },
     "execution_count": 36,
     "metadata": {},
     "output_type": "execute_result"
    }
   ],
   "source": [
    "# Assigning a column that doesn’t exist will create a new column. \n",
    "dframe3['France'] = 50\n",
    "dframe3"
   ]
  },
  {
   "cell_type": "code",
   "execution_count": 37,
   "id": "9d560374-a6df-4d8e-8547-37a8aef73a9b",
   "metadata": {},
   "outputs": [
    {
     "data": {
      "text/html": [
       "<div>\n",
       "<style scoped>\n",
       "    .dataframe tbody tr th:only-of-type {\n",
       "        vertical-align: middle;\n",
       "    }\n",
       "\n",
       "    .dataframe tbody tr th {\n",
       "        vertical-align: top;\n",
       "    }\n",
       "\n",
       "    .dataframe thead th {\n",
       "        text-align: right;\n",
       "    }\n",
       "</style>\n",
       "<table border=\"1\" class=\"dataframe\">\n",
       "  <thead>\n",
       "    <tr style=\"text-align: right;\">\n",
       "      <th></th>\n",
       "      <th>Year</th>\n",
       "      <th>Ethiopia</th>\n",
       "      <th>Japan</th>\n",
       "      <th>Mexico</th>\n",
       "      <th>Russia</th>\n",
       "      <th>Bangladesh</th>\n",
       "      <th>Nigeria</th>\n",
       "      <th>Brazil</th>\n",
       "      <th>Pakistan</th>\n",
       "      <th>Indonesia</th>\n",
       "      <th>USA</th>\n",
       "      <th>India</th>\n",
       "      <th>China</th>\n",
       "      <th>France</th>\n",
       "    </tr>\n",
       "  </thead>\n",
       "  <tbody>\n",
       "    <tr>\n",
       "      <th>0</th>\n",
       "      <td>1900</td>\n",
       "      <td>16.0</td>\n",
       "      <td>44</td>\n",
       "      <td>13</td>\n",
       "      <td>40</td>\n",
       "      <td>30</td>\n",
       "      <td>18</td>\n",
       "      <td>17</td>\n",
       "      <td>30</td>\n",
       "      <td>40</td>\n",
       "      <td>76</td>\n",
       "      <td>250</td>\n",
       "      <td>400</td>\n",
       "      <td>50</td>\n",
       "    </tr>\n",
       "    <tr>\n",
       "      <th>1</th>\n",
       "      <td>1910</td>\n",
       "      <td>16.5</td>\n",
       "      <td>50</td>\n",
       "      <td>14</td>\n",
       "      <td>45</td>\n",
       "      <td>32</td>\n",
       "      <td>19</td>\n",
       "      <td>20</td>\n",
       "      <td>32</td>\n",
       "      <td>45</td>\n",
       "      <td>92</td>\n",
       "      <td>260</td>\n",
       "      <td>400</td>\n",
       "      <td>50</td>\n",
       "    </tr>\n",
       "    <tr>\n",
       "      <th>2</th>\n",
       "      <td>1920</td>\n",
       "      <td>17.0</td>\n",
       "      <td>55</td>\n",
       "      <td>15</td>\n",
       "      <td>50</td>\n",
       "      <td>35</td>\n",
       "      <td>20</td>\n",
       "      <td>23</td>\n",
       "      <td>35</td>\n",
       "      <td>50</td>\n",
       "      <td>106</td>\n",
       "      <td>280</td>\n",
       "      <td>430</td>\n",
       "      <td>50</td>\n",
       "    </tr>\n",
       "    <tr>\n",
       "      <th>3</th>\n",
       "      <td>1930</td>\n",
       "      <td>17.5</td>\n",
       "      <td>64</td>\n",
       "      <td>18</td>\n",
       "      <td>60</td>\n",
       "      <td>38</td>\n",
       "      <td>22</td>\n",
       "      <td>28</td>\n",
       "      <td>38</td>\n",
       "      <td>55</td>\n",
       "      <td>123</td>\n",
       "      <td>300</td>\n",
       "      <td>480</td>\n",
       "      <td>50</td>\n",
       "    </tr>\n",
       "    <tr>\n",
       "      <th>4</th>\n",
       "      <td>1940</td>\n",
       "      <td>18.0</td>\n",
       "      <td>73</td>\n",
       "      <td>20</td>\n",
       "      <td>70</td>\n",
       "      <td>42</td>\n",
       "      <td>24</td>\n",
       "      <td>31</td>\n",
       "      <td>40</td>\n",
       "      <td>60</td>\n",
       "      <td>132</td>\n",
       "      <td>320</td>\n",
       "      <td>500</td>\n",
       "      <td>50</td>\n",
       "    </tr>\n",
       "    <tr>\n",
       "      <th>5</th>\n",
       "      <td>1950</td>\n",
       "      <td>19.0</td>\n",
       "      <td>83</td>\n",
       "      <td>27</td>\n",
       "      <td>70</td>\n",
       "      <td>44</td>\n",
       "      <td>27</td>\n",
       "      <td>41</td>\n",
       "      <td>33</td>\n",
       "      <td>70</td>\n",
       "      <td>151</td>\n",
       "      <td>340</td>\n",
       "      <td>540</td>\n",
       "      <td>50</td>\n",
       "    </tr>\n",
       "    <tr>\n",
       "      <th>6</th>\n",
       "      <td>1960</td>\n",
       "      <td>22.0</td>\n",
       "      <td>94</td>\n",
       "      <td>37</td>\n",
       "      <td>80</td>\n",
       "      <td>50</td>\n",
       "      <td>37</td>\n",
       "      <td>70</td>\n",
       "      <td>70</td>\n",
       "      <td>90</td>\n",
       "      <td>179</td>\n",
       "      <td>450</td>\n",
       "      <td>660</td>\n",
       "      <td>50</td>\n",
       "    </tr>\n",
       "    <tr>\n",
       "      <th>7</th>\n",
       "      <td>1970</td>\n",
       "      <td>30.0</td>\n",
       "      <td>104</td>\n",
       "      <td>50</td>\n",
       "      <td>105</td>\n",
       "      <td>66</td>\n",
       "      <td>56</td>\n",
       "      <td>95</td>\n",
       "      <td>93</td>\n",
       "      <td>115</td>\n",
       "      <td>203</td>\n",
       "      <td>550</td>\n",
       "      <td>818</td>\n",
       "      <td>50</td>\n",
       "    </tr>\n",
       "    <tr>\n",
       "      <th>8</th>\n",
       "      <td>1980</td>\n",
       "      <td>42.0</td>\n",
       "      <td>117</td>\n",
       "      <td>63</td>\n",
       "      <td>125</td>\n",
       "      <td>84</td>\n",
       "      <td>70</td>\n",
       "      <td>121</td>\n",
       "      <td>106</td>\n",
       "      <td>150</td>\n",
       "      <td>227</td>\n",
       "      <td>700</td>\n",
       "      <td>987</td>\n",
       "      <td>50</td>\n",
       "    </tr>\n",
       "    <tr>\n",
       "      <th>9</th>\n",
       "      <td>1990</td>\n",
       "      <td>50.0</td>\n",
       "      <td>123</td>\n",
       "      <td>82</td>\n",
       "      <td>147</td>\n",
       "      <td>105</td>\n",
       "      <td>95</td>\n",
       "      <td>149</td>\n",
       "      <td>132</td>\n",
       "      <td>180</td>\n",
       "      <td>249</td>\n",
       "      <td>870</td>\n",
       "      <td>1143</td>\n",
       "      <td>50</td>\n",
       "    </tr>\n",
       "    <tr>\n",
       "      <th>10</th>\n",
       "      <td>2000</td>\n",
       "      <td>66.0</td>\n",
       "      <td>127</td>\n",
       "      <td>97</td>\n",
       "      <td>146</td>\n",
       "      <td>130</td>\n",
       "      <td>122</td>\n",
       "      <td>174</td>\n",
       "      <td>146</td>\n",
       "      <td>210</td>\n",
       "      <td>282</td>\n",
       "      <td>1041</td>\n",
       "      <td>1265</td>\n",
       "      <td>50</td>\n",
       "    </tr>\n",
       "    <tr>\n",
       "      <th>11</th>\n",
       "      <td>2010</td>\n",
       "      <td>84.0</td>\n",
       "      <td>128</td>\n",
       "      <td>112</td>\n",
       "      <td>143</td>\n",
       "      <td>148</td>\n",
       "      <td>158</td>\n",
       "      <td>195</td>\n",
       "      <td>175</td>\n",
       "      <td>242</td>\n",
       "      <td>309</td>\n",
       "      <td>1224</td>\n",
       "      <td>1343</td>\n",
       "      <td>50</td>\n",
       "    </tr>\n",
       "    <tr>\n",
       "      <th>12</th>\n",
       "      <td>2020</td>\n",
       "      <td>115.0</td>\n",
       "      <td>126</td>\n",
       "      <td>128</td>\n",
       "      <td>146</td>\n",
       "      <td>164</td>\n",
       "      <td>206</td>\n",
       "      <td>212</td>\n",
       "      <td>220</td>\n",
       "      <td>273</td>\n",
       "      <td>331</td>\n",
       "      <td>1380</td>\n",
       "      <td>1402</td>\n",
       "      <td>50</td>\n",
       "    </tr>\n",
       "  </tbody>\n",
       "</table>\n",
       "</div>"
      ],
      "text/plain": [
       "    Year  Ethiopia  Japan  Mexico  Russia  Bangladesh  Nigeria  Brazil  \\\n",
       "0   1900      16.0     44      13      40          30       18      17   \n",
       "1   1910      16.5     50      14      45          32       19      20   \n",
       "2   1920      17.0     55      15      50          35       20      23   \n",
       "3   1930      17.5     64      18      60          38       22      28   \n",
       "4   1940      18.0     73      20      70          42       24      31   \n",
       "5   1950      19.0     83      27      70          44       27      41   \n",
       "6   1960      22.0     94      37      80          50       37      70   \n",
       "7   1970      30.0    104      50     105          66       56      95   \n",
       "8   1980      42.0    117      63     125          84       70     121   \n",
       "9   1990      50.0    123      82     147         105       95     149   \n",
       "10  2000      66.0    127      97     146         130      122     174   \n",
       "11  2010      84.0    128     112     143         148      158     195   \n",
       "12  2020     115.0    126     128     146         164      206     212   \n",
       "\n",
       "    Pakistan  Indonesia  USA  India  China  France  \n",
       "0         30         40   76    250    400      50  \n",
       "1         32         45   92    260    400      50  \n",
       "2         35         50  106    280    430      50  \n",
       "3         38         55  123    300    480      50  \n",
       "4         40         60  132    320    500      50  \n",
       "5         33         70  151    340    540      50  \n",
       "6         70         90  179    450    660      50  \n",
       "7         93        115  203    550    818      50  \n",
       "8        106        150  227    700    987      50  \n",
       "9        132        180  249    870   1143      50  \n",
       "10       146        210  282   1041   1265      50  \n",
       "11       175        242  309   1224   1343      50  \n",
       "12       220        273  331   1380   1402      50  "
      ]
     },
     "execution_count": 37,
     "metadata": {},
     "output_type": "execute_result"
    }
   ],
   "source": [
    "# The del keyword will delete columns like with a dictionary.\n",
    "del dframe3['UK']\n",
    "dframe3"
   ]
  },
  {
   "cell_type": "code",
   "execution_count": 38,
   "id": "3f41474c-dbf8-48f3-81b9-a1497bff8581",
   "metadata": {},
   "outputs": [
    {
     "data": {
      "text/html": [
       "<div>\n",
       "<style scoped>\n",
       "    .dataframe tbody tr th:only-of-type {\n",
       "        vertical-align: middle;\n",
       "    }\n",
       "\n",
       "    .dataframe tbody tr th {\n",
       "        vertical-align: top;\n",
       "    }\n",
       "\n",
       "    .dataframe thead th {\n",
       "        text-align: right;\n",
       "    }\n",
       "</style>\n",
       "<table border=\"1\" class=\"dataframe\">\n",
       "  <thead>\n",
       "    <tr style=\"text-align: right;\">\n",
       "      <th></th>\n",
       "      <th>China</th>\n",
       "      <th>India</th>\n",
       "      <th>United States</th>\n",
       "      <th>Indonesia</th>\n",
       "      <th>Pakistan</th>\n",
       "      <th>Brazil</th>\n",
       "      <th>Nigeria</th>\n",
       "      <th>Bangladesh</th>\n",
       "      <th>Russia</th>\n",
       "      <th>Mexico</th>\n",
       "      <th>Japan</th>\n",
       "      <th>Ethiopia</th>\n",
       "    </tr>\n",
       "  </thead>\n",
       "  <tbody>\n",
       "    <tr>\n",
       "      <th>1900</th>\n",
       "      <td>400</td>\n",
       "      <td>250</td>\n",
       "      <td>76</td>\n",
       "      <td>40</td>\n",
       "      <td>30</td>\n",
       "      <td>17</td>\n",
       "      <td>18</td>\n",
       "      <td>30</td>\n",
       "      <td>40</td>\n",
       "      <td>13</td>\n",
       "      <td>44</td>\n",
       "      <td>16.0</td>\n",
       "    </tr>\n",
       "    <tr>\n",
       "      <th>1910</th>\n",
       "      <td>400</td>\n",
       "      <td>260</td>\n",
       "      <td>92</td>\n",
       "      <td>45</td>\n",
       "      <td>32</td>\n",
       "      <td>20</td>\n",
       "      <td>19</td>\n",
       "      <td>32</td>\n",
       "      <td>45</td>\n",
       "      <td>14</td>\n",
       "      <td>50</td>\n",
       "      <td>16.5</td>\n",
       "    </tr>\n",
       "    <tr>\n",
       "      <th>1920</th>\n",
       "      <td>430</td>\n",
       "      <td>280</td>\n",
       "      <td>106</td>\n",
       "      <td>50</td>\n",
       "      <td>35</td>\n",
       "      <td>23</td>\n",
       "      <td>20</td>\n",
       "      <td>35</td>\n",
       "      <td>50</td>\n",
       "      <td>15</td>\n",
       "      <td>55</td>\n",
       "      <td>17.0</td>\n",
       "    </tr>\n",
       "    <tr>\n",
       "      <th>1930</th>\n",
       "      <td>480</td>\n",
       "      <td>300</td>\n",
       "      <td>123</td>\n",
       "      <td>55</td>\n",
       "      <td>38</td>\n",
       "      <td>28</td>\n",
       "      <td>22</td>\n",
       "      <td>38</td>\n",
       "      <td>60</td>\n",
       "      <td>18</td>\n",
       "      <td>64</td>\n",
       "      <td>17.5</td>\n",
       "    </tr>\n",
       "    <tr>\n",
       "      <th>1940</th>\n",
       "      <td>500</td>\n",
       "      <td>320</td>\n",
       "      <td>132</td>\n",
       "      <td>60</td>\n",
       "      <td>40</td>\n",
       "      <td>31</td>\n",
       "      <td>24</td>\n",
       "      <td>42</td>\n",
       "      <td>70</td>\n",
       "      <td>20</td>\n",
       "      <td>73</td>\n",
       "      <td>18.0</td>\n",
       "    </tr>\n",
       "    <tr>\n",
       "      <th>1950</th>\n",
       "      <td>540</td>\n",
       "      <td>340</td>\n",
       "      <td>151</td>\n",
       "      <td>70</td>\n",
       "      <td>33</td>\n",
       "      <td>41</td>\n",
       "      <td>27</td>\n",
       "      <td>44</td>\n",
       "      <td>70</td>\n",
       "      <td>27</td>\n",
       "      <td>83</td>\n",
       "      <td>19.0</td>\n",
       "    </tr>\n",
       "    <tr>\n",
       "      <th>1960</th>\n",
       "      <td>660</td>\n",
       "      <td>450</td>\n",
       "      <td>179</td>\n",
       "      <td>90</td>\n",
       "      <td>70</td>\n",
       "      <td>70</td>\n",
       "      <td>37</td>\n",
       "      <td>50</td>\n",
       "      <td>80</td>\n",
       "      <td>37</td>\n",
       "      <td>94</td>\n",
       "      <td>22.0</td>\n",
       "    </tr>\n",
       "    <tr>\n",
       "      <th>1970</th>\n",
       "      <td>818</td>\n",
       "      <td>550</td>\n",
       "      <td>203</td>\n",
       "      <td>115</td>\n",
       "      <td>93</td>\n",
       "      <td>95</td>\n",
       "      <td>56</td>\n",
       "      <td>66</td>\n",
       "      <td>105</td>\n",
       "      <td>50</td>\n",
       "      <td>104</td>\n",
       "      <td>30.0</td>\n",
       "    </tr>\n",
       "    <tr>\n",
       "      <th>1980</th>\n",
       "      <td>987</td>\n",
       "      <td>700</td>\n",
       "      <td>227</td>\n",
       "      <td>150</td>\n",
       "      <td>106</td>\n",
       "      <td>121</td>\n",
       "      <td>70</td>\n",
       "      <td>84</td>\n",
       "      <td>125</td>\n",
       "      <td>63</td>\n",
       "      <td>117</td>\n",
       "      <td>42.0</td>\n",
       "    </tr>\n",
       "    <tr>\n",
       "      <th>1990</th>\n",
       "      <td>1143</td>\n",
       "      <td>870</td>\n",
       "      <td>249</td>\n",
       "      <td>180</td>\n",
       "      <td>132</td>\n",
       "      <td>149</td>\n",
       "      <td>95</td>\n",
       "      <td>105</td>\n",
       "      <td>147</td>\n",
       "      <td>82</td>\n",
       "      <td>123</td>\n",
       "      <td>50.0</td>\n",
       "    </tr>\n",
       "    <tr>\n",
       "      <th>2000</th>\n",
       "      <td>1265</td>\n",
       "      <td>1041</td>\n",
       "      <td>282</td>\n",
       "      <td>210</td>\n",
       "      <td>146</td>\n",
       "      <td>174</td>\n",
       "      <td>122</td>\n",
       "      <td>130</td>\n",
       "      <td>146</td>\n",
       "      <td>97</td>\n",
       "      <td>127</td>\n",
       "      <td>66.0</td>\n",
       "    </tr>\n",
       "    <tr>\n",
       "      <th>2010</th>\n",
       "      <td>1343</td>\n",
       "      <td>1224</td>\n",
       "      <td>309</td>\n",
       "      <td>242</td>\n",
       "      <td>175</td>\n",
       "      <td>195</td>\n",
       "      <td>158</td>\n",
       "      <td>148</td>\n",
       "      <td>143</td>\n",
       "      <td>112</td>\n",
       "      <td>128</td>\n",
       "      <td>84.0</td>\n",
       "    </tr>\n",
       "    <tr>\n",
       "      <th>2020</th>\n",
       "      <td>1402</td>\n",
       "      <td>1380</td>\n",
       "      <td>331</td>\n",
       "      <td>273</td>\n",
       "      <td>220</td>\n",
       "      <td>212</td>\n",
       "      <td>206</td>\n",
       "      <td>164</td>\n",
       "      <td>146</td>\n",
       "      <td>128</td>\n",
       "      <td>126</td>\n",
       "      <td>115.0</td>\n",
       "    </tr>\n",
       "  </tbody>\n",
       "</table>\n",
       "</div>"
      ],
      "text/plain": [
       "      China  India  United States  Indonesia  Pakistan  Brazil  Nigeria  \\\n",
       "1900    400    250             76         40        30      17       18   \n",
       "1910    400    260             92         45        32      20       19   \n",
       "1920    430    280            106         50        35      23       20   \n",
       "1930    480    300            123         55        38      28       22   \n",
       "1940    500    320            132         60        40      31       24   \n",
       "1950    540    340            151         70        33      41       27   \n",
       "1960    660    450            179         90        70      70       37   \n",
       "1970    818    550            203        115        93      95       56   \n",
       "1980    987    700            227        150       106     121       70   \n",
       "1990   1143    870            249        180       132     149       95   \n",
       "2000   1265   1041            282        210       146     174      122   \n",
       "2010   1343   1224            309        242       175     195      158   \n",
       "2020   1402   1380            331        273       220     212      206   \n",
       "\n",
       "      Bangladesh  Russia  Mexico  Japan  Ethiopia  \n",
       "1900          30      40      13     44      16.0  \n",
       "1910          32      45      14     50      16.5  \n",
       "1920          35      50      15     55      17.0  \n",
       "1930          38      60      18     64      17.5  \n",
       "1940          42      70      20     73      18.0  \n",
       "1950          44      70      27     83      19.0  \n",
       "1960          50      80      37     94      22.0  \n",
       "1970          66     105      50    104      30.0  \n",
       "1980          84     125      63    117      42.0  \n",
       "1990         105     147      82    123      50.0  \n",
       "2000         130     146      97    127      66.0  \n",
       "2010         148     143     112    128      84.0  \n",
       "2020         164     146     128    126     115.0  "
      ]
     },
     "execution_count": 38,
     "metadata": {},
     "output_type": "execute_result"
    }
   ],
   "source": [
    "# Another common form of data is a nested dictionary of dictionaries:\n",
    "nested_data = {\n",
    "    'China': {1900: 400, 1910: 400, 1920: 430, 1930: 480, 1940: 500, 1950: 540, 1960: 660, 1970: 818, 1980: 987, 1990: 1143, 2000: 1265, 2010: 1343, 2020: 1402},\n",
    "    'India': {1900: 250, 1910: 260, 1920: 280, 1930: 300, 1940: 320, 1950: 340, 1960: 450, 1970: 550, 1980: 700, 1990: 870, 2000: 1041, 2010: 1224, 2020: 1380},\n",
    "    'United States': {1900: 76, 1910: 92, 1920: 106, 1930: 123, 1940: 132, 1950: 151, 1960: 179, 1970: 203, 1980: 227, 1990: 249, 2000: 282, 2010: 309, 2020: 331},\n",
    "    'Indonesia': {1900: 40, 1910: 45, 1920: 50, 1930: 55, 1940: 60, 1950: 70, 1960: 90, 1970: 115, 1980: 150, 1990: 180, 2000: 210, 2010: 242, 2020: 273},\n",
    "    'Pakistan': {1900: 30, 1910: 32, 1920: 35, 1930: 38, 1940: 40, 1950: 33, 1960: 70, 1970: 93, 1980: 106, 1990: 132, 2000: 146, 2010: 175, 2020: 220},\n",
    "    'Brazil': {1900: 17, 1910: 20, 1920: 23, 1930: 28, 1940: 31, 1950: 41, 1960: 70, 1970: 95, 1980: 121, 1990: 149, 2000: 174, 2010: 195, 2020: 212},\n",
    "    'Nigeria': {1900: 18, 1910: 19, 1920: 20, 1930: 22, 1940: 24, 1950: 27, 1960: 37, 1970: 56, 1980: 70, 1990: 95, 2000: 122, 2010: 158, 2020: 206},\n",
    "    'Bangladesh': {1900: 30, 1910: 32, 1920: 35, 1930: 38, 1940: 42, 1950: 44, 1960: 50, 1970: 66, 1980: 84, 1990: 105, 2000: 130, 2010: 148, 2020: 164},\n",
    "    'Russia': {1900: 40, 1910: 45, 1920: 50, 1930: 60, 1940: 70, 1950: 70, 1960: 80, 1970: 105, 1980: 125, 1990: 147, 2000: 146, 2010: 143, 2020: 146},\n",
    "    'Mexico': {1900: 13, 1910: 14, 1920: 15, 1930: 18, 1940: 20, 1950: 27, 1960: 37, 1970: 50, 1980: 63, 1990: 82, 2000: 97, 2010: 112, 2020: 128},\n",
    "    'Japan': {1900: 44, 1910: 50, 1920: 55, 1930: 64, 1940: 73, 1950: 83, 1960: 94, 1970: 104, 1980: 117, 1990: 123, 2000: 127, 2010: 128, 2020: 126},\n",
    "    'Ethiopia': {1900: 16, 1910: 16.5, 1920: 17, 1930: 17.5, 1940: 18, 1950: 19, 1960: 22, 1970: 30, 1980: 42, 1990: 50, 2000: 66, 2010: 84, 2020: 115}\n",
    "}\n",
    "# If the nested dictionary is passed to the DataFrame, pandas will interpret the outer\n",
    "# dictionary keys as the columns, and the inner keys as the row indices:\n",
    "dframe4 = pd.DataFrame(nested_data)\n",
    "dframe4"
   ]
  },
  {
   "cell_type": "code",
   "execution_count": 39,
   "id": "a54abb4a-d2e1-45fc-b409-59c454cdc152",
   "metadata": {},
   "outputs": [
    {
     "data": {
      "text/html": [
       "<div>\n",
       "<style scoped>\n",
       "    .dataframe tbody tr th:only-of-type {\n",
       "        vertical-align: middle;\n",
       "    }\n",
       "\n",
       "    .dataframe tbody tr th {\n",
       "        vertical-align: top;\n",
       "    }\n",
       "\n",
       "    .dataframe thead th {\n",
       "        text-align: right;\n",
       "    }\n",
       "</style>\n",
       "<table border=\"1\" class=\"dataframe\">\n",
       "  <thead>\n",
       "    <tr style=\"text-align: right;\">\n",
       "      <th></th>\n",
       "      <th>1900</th>\n",
       "      <th>1910</th>\n",
       "      <th>1920</th>\n",
       "      <th>1930</th>\n",
       "      <th>1940</th>\n",
       "      <th>1950</th>\n",
       "      <th>1960</th>\n",
       "      <th>1970</th>\n",
       "      <th>1980</th>\n",
       "      <th>1990</th>\n",
       "      <th>2000</th>\n",
       "      <th>2010</th>\n",
       "      <th>2020</th>\n",
       "    </tr>\n",
       "  </thead>\n",
       "  <tbody>\n",
       "    <tr>\n",
       "      <th>China</th>\n",
       "      <td>400.0</td>\n",
       "      <td>400.0</td>\n",
       "      <td>430.0</td>\n",
       "      <td>480.0</td>\n",
       "      <td>500.0</td>\n",
       "      <td>540.0</td>\n",
       "      <td>660.0</td>\n",
       "      <td>818.0</td>\n",
       "      <td>987.0</td>\n",
       "      <td>1143.0</td>\n",
       "      <td>1265.0</td>\n",
       "      <td>1343.0</td>\n",
       "      <td>1402.0</td>\n",
       "    </tr>\n",
       "    <tr>\n",
       "      <th>India</th>\n",
       "      <td>250.0</td>\n",
       "      <td>260.0</td>\n",
       "      <td>280.0</td>\n",
       "      <td>300.0</td>\n",
       "      <td>320.0</td>\n",
       "      <td>340.0</td>\n",
       "      <td>450.0</td>\n",
       "      <td>550.0</td>\n",
       "      <td>700.0</td>\n",
       "      <td>870.0</td>\n",
       "      <td>1041.0</td>\n",
       "      <td>1224.0</td>\n",
       "      <td>1380.0</td>\n",
       "    </tr>\n",
       "    <tr>\n",
       "      <th>United States</th>\n",
       "      <td>76.0</td>\n",
       "      <td>92.0</td>\n",
       "      <td>106.0</td>\n",
       "      <td>123.0</td>\n",
       "      <td>132.0</td>\n",
       "      <td>151.0</td>\n",
       "      <td>179.0</td>\n",
       "      <td>203.0</td>\n",
       "      <td>227.0</td>\n",
       "      <td>249.0</td>\n",
       "      <td>282.0</td>\n",
       "      <td>309.0</td>\n",
       "      <td>331.0</td>\n",
       "    </tr>\n",
       "    <tr>\n",
       "      <th>Indonesia</th>\n",
       "      <td>40.0</td>\n",
       "      <td>45.0</td>\n",
       "      <td>50.0</td>\n",
       "      <td>55.0</td>\n",
       "      <td>60.0</td>\n",
       "      <td>70.0</td>\n",
       "      <td>90.0</td>\n",
       "      <td>115.0</td>\n",
       "      <td>150.0</td>\n",
       "      <td>180.0</td>\n",
       "      <td>210.0</td>\n",
       "      <td>242.0</td>\n",
       "      <td>273.0</td>\n",
       "    </tr>\n",
       "    <tr>\n",
       "      <th>Pakistan</th>\n",
       "      <td>30.0</td>\n",
       "      <td>32.0</td>\n",
       "      <td>35.0</td>\n",
       "      <td>38.0</td>\n",
       "      <td>40.0</td>\n",
       "      <td>33.0</td>\n",
       "      <td>70.0</td>\n",
       "      <td>93.0</td>\n",
       "      <td>106.0</td>\n",
       "      <td>132.0</td>\n",
       "      <td>146.0</td>\n",
       "      <td>175.0</td>\n",
       "      <td>220.0</td>\n",
       "    </tr>\n",
       "    <tr>\n",
       "      <th>Brazil</th>\n",
       "      <td>17.0</td>\n",
       "      <td>20.0</td>\n",
       "      <td>23.0</td>\n",
       "      <td>28.0</td>\n",
       "      <td>31.0</td>\n",
       "      <td>41.0</td>\n",
       "      <td>70.0</td>\n",
       "      <td>95.0</td>\n",
       "      <td>121.0</td>\n",
       "      <td>149.0</td>\n",
       "      <td>174.0</td>\n",
       "      <td>195.0</td>\n",
       "      <td>212.0</td>\n",
       "    </tr>\n",
       "    <tr>\n",
       "      <th>Nigeria</th>\n",
       "      <td>18.0</td>\n",
       "      <td>19.0</td>\n",
       "      <td>20.0</td>\n",
       "      <td>22.0</td>\n",
       "      <td>24.0</td>\n",
       "      <td>27.0</td>\n",
       "      <td>37.0</td>\n",
       "      <td>56.0</td>\n",
       "      <td>70.0</td>\n",
       "      <td>95.0</td>\n",
       "      <td>122.0</td>\n",
       "      <td>158.0</td>\n",
       "      <td>206.0</td>\n",
       "    </tr>\n",
       "    <tr>\n",
       "      <th>Bangladesh</th>\n",
       "      <td>30.0</td>\n",
       "      <td>32.0</td>\n",
       "      <td>35.0</td>\n",
       "      <td>38.0</td>\n",
       "      <td>42.0</td>\n",
       "      <td>44.0</td>\n",
       "      <td>50.0</td>\n",
       "      <td>66.0</td>\n",
       "      <td>84.0</td>\n",
       "      <td>105.0</td>\n",
       "      <td>130.0</td>\n",
       "      <td>148.0</td>\n",
       "      <td>164.0</td>\n",
       "    </tr>\n",
       "    <tr>\n",
       "      <th>Russia</th>\n",
       "      <td>40.0</td>\n",
       "      <td>45.0</td>\n",
       "      <td>50.0</td>\n",
       "      <td>60.0</td>\n",
       "      <td>70.0</td>\n",
       "      <td>70.0</td>\n",
       "      <td>80.0</td>\n",
       "      <td>105.0</td>\n",
       "      <td>125.0</td>\n",
       "      <td>147.0</td>\n",
       "      <td>146.0</td>\n",
       "      <td>143.0</td>\n",
       "      <td>146.0</td>\n",
       "    </tr>\n",
       "    <tr>\n",
       "      <th>Mexico</th>\n",
       "      <td>13.0</td>\n",
       "      <td>14.0</td>\n",
       "      <td>15.0</td>\n",
       "      <td>18.0</td>\n",
       "      <td>20.0</td>\n",
       "      <td>27.0</td>\n",
       "      <td>37.0</td>\n",
       "      <td>50.0</td>\n",
       "      <td>63.0</td>\n",
       "      <td>82.0</td>\n",
       "      <td>97.0</td>\n",
       "      <td>112.0</td>\n",
       "      <td>128.0</td>\n",
       "    </tr>\n",
       "    <tr>\n",
       "      <th>Japan</th>\n",
       "      <td>44.0</td>\n",
       "      <td>50.0</td>\n",
       "      <td>55.0</td>\n",
       "      <td>64.0</td>\n",
       "      <td>73.0</td>\n",
       "      <td>83.0</td>\n",
       "      <td>94.0</td>\n",
       "      <td>104.0</td>\n",
       "      <td>117.0</td>\n",
       "      <td>123.0</td>\n",
       "      <td>127.0</td>\n",
       "      <td>128.0</td>\n",
       "      <td>126.0</td>\n",
       "    </tr>\n",
       "    <tr>\n",
       "      <th>Ethiopia</th>\n",
       "      <td>16.0</td>\n",
       "      <td>16.5</td>\n",
       "      <td>17.0</td>\n",
       "      <td>17.5</td>\n",
       "      <td>18.0</td>\n",
       "      <td>19.0</td>\n",
       "      <td>22.0</td>\n",
       "      <td>30.0</td>\n",
       "      <td>42.0</td>\n",
       "      <td>50.0</td>\n",
       "      <td>66.0</td>\n",
       "      <td>84.0</td>\n",
       "      <td>115.0</td>\n",
       "    </tr>\n",
       "  </tbody>\n",
       "</table>\n",
       "</div>"
      ],
      "text/plain": [
       "                1900   1910   1920   1930   1940   1950   1960   1970   1980  \\\n",
       "China          400.0  400.0  430.0  480.0  500.0  540.0  660.0  818.0  987.0   \n",
       "India          250.0  260.0  280.0  300.0  320.0  340.0  450.0  550.0  700.0   \n",
       "United States   76.0   92.0  106.0  123.0  132.0  151.0  179.0  203.0  227.0   \n",
       "Indonesia       40.0   45.0   50.0   55.0   60.0   70.0   90.0  115.0  150.0   \n",
       "Pakistan        30.0   32.0   35.0   38.0   40.0   33.0   70.0   93.0  106.0   \n",
       "Brazil          17.0   20.0   23.0   28.0   31.0   41.0   70.0   95.0  121.0   \n",
       "Nigeria         18.0   19.0   20.0   22.0   24.0   27.0   37.0   56.0   70.0   \n",
       "Bangladesh      30.0   32.0   35.0   38.0   42.0   44.0   50.0   66.0   84.0   \n",
       "Russia          40.0   45.0   50.0   60.0   70.0   70.0   80.0  105.0  125.0   \n",
       "Mexico          13.0   14.0   15.0   18.0   20.0   27.0   37.0   50.0   63.0   \n",
       "Japan           44.0   50.0   55.0   64.0   73.0   83.0   94.0  104.0  117.0   \n",
       "Ethiopia        16.0   16.5   17.0   17.5   18.0   19.0   22.0   30.0   42.0   \n",
       "\n",
       "                 1990    2000    2010    2020  \n",
       "China          1143.0  1265.0  1343.0  1402.0  \n",
       "India           870.0  1041.0  1224.0  1380.0  \n",
       "United States   249.0   282.0   309.0   331.0  \n",
       "Indonesia       180.0   210.0   242.0   273.0  \n",
       "Pakistan        132.0   146.0   175.0   220.0  \n",
       "Brazil          149.0   174.0   195.0   212.0  \n",
       "Nigeria          95.0   122.0   158.0   206.0  \n",
       "Bangladesh      105.0   130.0   148.0   164.0  \n",
       "Russia          147.0   146.0   143.0   146.0  \n",
       "Mexico           82.0    97.0   112.0   128.0  \n",
       "Japan           123.0   127.0   128.0   126.0  \n",
       "Ethiopia         50.0    66.0    84.0   115.0  "
      ]
     },
     "execution_count": 39,
     "metadata": {},
     "output_type": "execute_result"
    }
   ],
   "source": [
    "# You can transpose the DataFrame (swap rows and columns) with similar syntax to a NumPy array:\n",
    "dframe4.T"
   ]
  },
  {
   "cell_type": "code",
   "execution_count": 40,
   "id": "ba69f349-745e-4654-a743-b8fc16b527be",
   "metadata": {},
   "outputs": [
    {
     "data": {
      "text/html": [
       "<div>\n",
       "<style scoped>\n",
       "    .dataframe tbody tr th:only-of-type {\n",
       "        vertical-align: middle;\n",
       "    }\n",
       "\n",
       "    .dataframe tbody tr th {\n",
       "        vertical-align: top;\n",
       "    }\n",
       "\n",
       "    .dataframe thead th {\n",
       "        text-align: right;\n",
       "    }\n",
       "</style>\n",
       "<table border=\"1\" class=\"dataframe\">\n",
       "  <thead>\n",
       "    <tr style=\"text-align: right;\">\n",
       "      <th></th>\n",
       "      <th>China</th>\n",
       "      <th>India</th>\n",
       "      <th>United States</th>\n",
       "      <th>Indonesia</th>\n",
       "      <th>Pakistan</th>\n",
       "      <th>Brazil</th>\n",
       "      <th>Nigeria</th>\n",
       "      <th>Bangladesh</th>\n",
       "      <th>Russia</th>\n",
       "      <th>Mexico</th>\n",
       "      <th>Japan</th>\n",
       "      <th>Ethiopia</th>\n",
       "    </tr>\n",
       "  </thead>\n",
       "  <tbody>\n",
       "    <tr>\n",
       "      <th>2020</th>\n",
       "      <td>1402</td>\n",
       "      <td>1380</td>\n",
       "      <td>331</td>\n",
       "      <td>273</td>\n",
       "      <td>220</td>\n",
       "      <td>212</td>\n",
       "      <td>206</td>\n",
       "      <td>164</td>\n",
       "      <td>146</td>\n",
       "      <td>128</td>\n",
       "      <td>126</td>\n",
       "      <td>115</td>\n",
       "    </tr>\n",
       "    <tr>\n",
       "      <th>2010</th>\n",
       "      <td>1343</td>\n",
       "      <td>1224</td>\n",
       "      <td>309</td>\n",
       "      <td>242</td>\n",
       "      <td>175</td>\n",
       "      <td>195</td>\n",
       "      <td>158</td>\n",
       "      <td>148</td>\n",
       "      <td>143</td>\n",
       "      <td>112</td>\n",
       "      <td>128</td>\n",
       "      <td>84</td>\n",
       "    </tr>\n",
       "    <tr>\n",
       "      <th>2000</th>\n",
       "      <td>1265</td>\n",
       "      <td>1041</td>\n",
       "      <td>282</td>\n",
       "      <td>210</td>\n",
       "      <td>146</td>\n",
       "      <td>174</td>\n",
       "      <td>122</td>\n",
       "      <td>130</td>\n",
       "      <td>146</td>\n",
       "      <td>97</td>\n",
       "      <td>127</td>\n",
       "      <td>66</td>\n",
       "    </tr>\n",
       "    <tr>\n",
       "      <th>1990</th>\n",
       "      <td>1143</td>\n",
       "      <td>870</td>\n",
       "      <td>249</td>\n",
       "      <td>180</td>\n",
       "      <td>132</td>\n",
       "      <td>149</td>\n",
       "      <td>95</td>\n",
       "      <td>105</td>\n",
       "      <td>147</td>\n",
       "      <td>82</td>\n",
       "      <td>123</td>\n",
       "      <td>50</td>\n",
       "    </tr>\n",
       "    <tr>\n",
       "      <th>1980</th>\n",
       "      <td>987</td>\n",
       "      <td>700</td>\n",
       "      <td>227</td>\n",
       "      <td>150</td>\n",
       "      <td>106</td>\n",
       "      <td>121</td>\n",
       "      <td>70</td>\n",
       "      <td>84</td>\n",
       "      <td>125</td>\n",
       "      <td>63</td>\n",
       "      <td>117</td>\n",
       "      <td>42</td>\n",
       "    </tr>\n",
       "    <tr>\n",
       "      <th>1970</th>\n",
       "      <td>818</td>\n",
       "      <td>550</td>\n",
       "      <td>203</td>\n",
       "      <td>115</td>\n",
       "      <td>93</td>\n",
       "      <td>95</td>\n",
       "      <td>56</td>\n",
       "      <td>66</td>\n",
       "      <td>105</td>\n",
       "      <td>50</td>\n",
       "      <td>104</td>\n",
       "      <td>30</td>\n",
       "    </tr>\n",
       "    <tr>\n",
       "      <th>1960</th>\n",
       "      <td>660</td>\n",
       "      <td>450</td>\n",
       "      <td>179</td>\n",
       "      <td>90</td>\n",
       "      <td>70</td>\n",
       "      <td>70</td>\n",
       "      <td>37</td>\n",
       "      <td>50</td>\n",
       "      <td>80</td>\n",
       "      <td>37</td>\n",
       "      <td>94</td>\n",
       "      <td>22</td>\n",
       "    </tr>\n",
       "    <tr>\n",
       "      <th>1950</th>\n",
       "      <td>540</td>\n",
       "      <td>340</td>\n",
       "      <td>151</td>\n",
       "      <td>70</td>\n",
       "      <td>33</td>\n",
       "      <td>41</td>\n",
       "      <td>27</td>\n",
       "      <td>44</td>\n",
       "      <td>70</td>\n",
       "      <td>27</td>\n",
       "      <td>83</td>\n",
       "      <td>19</td>\n",
       "    </tr>\n",
       "  </tbody>\n",
       "</table>\n",
       "</div>"
      ],
      "text/plain": [
       "      China  India  United States  Indonesia  Pakistan  Brazil  Nigeria  \\\n",
       "2020   1402   1380            331        273       220     212      206   \n",
       "2010   1343   1224            309        242       175     195      158   \n",
       "2000   1265   1041            282        210       146     174      122   \n",
       "1990   1143    870            249        180       132     149       95   \n",
       "1980    987    700            227        150       106     121       70   \n",
       "1970    818    550            203        115        93      95       56   \n",
       "1960    660    450            179         90        70      70       37   \n",
       "1950    540    340            151         70        33      41       27   \n",
       "\n",
       "      Bangladesh  Russia  Mexico  Japan  Ethiopia  \n",
       "2020         164     146     128    126       115  \n",
       "2010         148     143     112    128        84  \n",
       "2000         130     146      97    127        66  \n",
       "1990         105     147      82    123        50  \n",
       "1980          84     125      63    117        42  \n",
       "1970          66     105      50    104        30  \n",
       "1960          50      80      37     94        22  \n",
       "1950          44      70      27     83        19  "
      ]
     },
     "execution_count": 40,
     "metadata": {},
     "output_type": "execute_result"
    }
   ],
   "source": [
    "# The keys in the inner dictionaries are combined to form the index in the result. \n",
    "# This isn’t true if an explicit index is specified:\n",
    "i = [2020, 2010, 2000, 1990, 1980, 1970, 1960, 1950]\n",
    "dframe5 = pd.DataFrame(nested_data, index = i)\n",
    "dframe5"
   ]
  },
  {
   "cell_type": "code",
   "execution_count": 41,
   "id": "9bb28b65-4d01-4eb6-abbf-6632663bc56f",
   "metadata": {},
   "outputs": [
    {
     "data": {
      "text/html": [
       "<div>\n",
       "<style scoped>\n",
       "    .dataframe tbody tr th:only-of-type {\n",
       "        vertical-align: middle;\n",
       "    }\n",
       "\n",
       "    .dataframe tbody tr th {\n",
       "        vertical-align: top;\n",
       "    }\n",
       "\n",
       "    .dataframe thead th {\n",
       "        text-align: right;\n",
       "    }\n",
       "</style>\n",
       "<table border=\"1\" class=\"dataframe\">\n",
       "  <thead>\n",
       "    <tr style=\"text-align: right;\">\n",
       "      <th></th>\n",
       "      <th>China</th>\n",
       "      <th>India</th>\n",
       "      <th>USA</th>\n",
       "    </tr>\n",
       "  </thead>\n",
       "  <tbody>\n",
       "    <tr>\n",
       "      <th>0</th>\n",
       "      <td>400</td>\n",
       "      <td>345</td>\n",
       "      <td>231</td>\n",
       "    </tr>\n",
       "    <tr>\n",
       "      <th>1</th>\n",
       "      <td>450</td>\n",
       "      <td>532</td>\n",
       "      <td>124</td>\n",
       "    </tr>\n",
       "    <tr>\n",
       "      <th>2</th>\n",
       "      <td>500</td>\n",
       "      <td>453</td>\n",
       "      <td>321</td>\n",
       "    </tr>\n",
       "  </tbody>\n",
       "</table>\n",
       "</div>"
      ],
      "text/plain": [
       "   China  India  USA\n",
       "0    400    345  231\n",
       "1    450    532  124\n",
       "2    500    453  321"
      ]
     },
     "execution_count": 41,
     "metadata": {},
     "output_type": "execute_result"
    }
   ],
   "source": [
    "# Dictionaries of Series are treated in much the same way:\n",
    "pdata = {'China': pd.Series([400, 450, 500]),\n",
    "         'India': pd.Series([345, 532, 453]),\n",
    "         'USA': pd.Series([231, 124, 321])\n",
    "        }\n",
    "dframe5 = pd.DataFrame(pdata)\n",
    "dframe5"
   ]
  },
  {
   "cell_type": "markdown",
   "id": "6b7c0e3c-12a1-433f-86c4-5281ad870aff",
   "metadata": {},
   "source": [
    "### Possible data inputs to the DataFrame constructor"
   ]
  },
  {
   "cell_type": "markdown",
   "id": "44ad11ec-e650-436b-98bc-4141bd32c2d0",
   "metadata": {},
   "source": [
    "#### 1. 2D Array"
   ]
  },
  {
   "cell_type": "code",
   "execution_count": 42,
   "id": "f5c51682-2011-458f-91be-d5252402626d",
   "metadata": {},
   "outputs": [
    {
     "data": {
      "text/html": [
       "<div>\n",
       "<style scoped>\n",
       "    .dataframe tbody tr th:only-of-type {\n",
       "        vertical-align: middle;\n",
       "    }\n",
       "\n",
       "    .dataframe tbody tr th {\n",
       "        vertical-align: top;\n",
       "    }\n",
       "\n",
       "    .dataframe thead th {\n",
       "        text-align: right;\n",
       "    }\n",
       "</style>\n",
       "<table border=\"1\" class=\"dataframe\">\n",
       "  <thead>\n",
       "    <tr style=\"text-align: right;\">\n",
       "      <th></th>\n",
       "      <th>A</th>\n",
       "      <th>B</th>\n",
       "      <th>C</th>\n",
       "    </tr>\n",
       "  </thead>\n",
       "  <tbody>\n",
       "    <tr>\n",
       "      <th>tens</th>\n",
       "      <td>10</td>\n",
       "      <td>20</td>\n",
       "      <td>30</td>\n",
       "    </tr>\n",
       "    <tr>\n",
       "      <th>hundreds</th>\n",
       "      <td>100</td>\n",
       "      <td>200</td>\n",
       "      <td>300</td>\n",
       "    </tr>\n",
       "    <tr>\n",
       "      <th>thousands</th>\n",
       "      <td>1000</td>\n",
       "      <td>2000</td>\n",
       "      <td>3000</td>\n",
       "    </tr>\n",
       "  </tbody>\n",
       "</table>\n",
       "</div>"
      ],
      "text/plain": [
       "              A     B     C\n",
       "tens         10    20    30\n",
       "hundreds    100   200   300\n",
       "thousands  1000  2000  3000"
      ]
     },
     "execution_count": 42,
     "metadata": {},
     "output_type": "execute_result"
    }
   ],
   "source": [
    "# need to specify the columns parameter.\n",
    "# Each one-dimensional arrays act as the row of the dataframe\n",
    "arr = np.array([[10, 20, 30], [100, 200, 300], [1000, 2000, 3000]])\n",
    "df = pd.DataFrame(arr, columns = ['A', 'B', 'C'], index = ['tens', 'hundreds', 'thousands'])\n",
    "df                 "
   ]
  },
  {
   "cell_type": "markdown",
   "id": "01ff40c5-a8e1-4e1c-92f2-aa7cb76135f9",
   "metadata": {},
   "source": [
    "#### 2. Dictionary of arrays, lists, or tuples"
   ]
  },
  {
   "cell_type": "code",
   "execution_count": 43,
   "id": "0ec82188-c62f-4259-a44d-1c9603f354a9",
   "metadata": {},
   "outputs": [
    {
     "data": {
      "text/html": [
       "<div>\n",
       "<style scoped>\n",
       "    .dataframe tbody tr th:only-of-type {\n",
       "        vertical-align: middle;\n",
       "    }\n",
       "\n",
       "    .dataframe tbody tr th {\n",
       "        vertical-align: top;\n",
       "    }\n",
       "\n",
       "    .dataframe thead th {\n",
       "        text-align: right;\n",
       "    }\n",
       "</style>\n",
       "<table border=\"1\" class=\"dataframe\">\n",
       "  <thead>\n",
       "    <tr style=\"text-align: right;\">\n",
       "      <th></th>\n",
       "      <th>Name</th>\n",
       "      <th>Age</th>\n",
       "      <th>City</th>\n",
       "    </tr>\n",
       "  </thead>\n",
       "  <tbody>\n",
       "    <tr>\n",
       "      <th>0</th>\n",
       "      <td>Alice</td>\n",
       "      <td>25</td>\n",
       "      <td>New York</td>\n",
       "    </tr>\n",
       "    <tr>\n",
       "      <th>1</th>\n",
       "      <td>Bob</td>\n",
       "      <td>30</td>\n",
       "      <td>Los Angeles</td>\n",
       "    </tr>\n",
       "    <tr>\n",
       "      <th>2</th>\n",
       "      <td>Charlie</td>\n",
       "      <td>35</td>\n",
       "      <td>Chicago</td>\n",
       "    </tr>\n",
       "  </tbody>\n",
       "</table>\n",
       "</div>"
      ],
      "text/plain": [
       "      Name  Age         City\n",
       "0    Alice   25     New York\n",
       "1      Bob   30  Los Angeles\n",
       "2  Charlie   35      Chicago"
      ]
     },
     "execution_count": 43,
     "metadata": {},
     "output_type": "execute_result"
    }
   ],
   "source": [
    "# Each key becomes a column, and the values (lists/arrays) become the data.\n",
    "# Each sequence becomes a column in the DataFrame; all sequences must be the same length\n",
    "data = {\n",
    "    'Name': ['Alice', 'Bob', 'Charlie'],\n",
    "    'Age': [25, 30, 35],\n",
    "    'City': ['New York', 'Los Angeles', 'Chicago']}\n",
    "df = pd.DataFrame(data)\n",
    "df"
   ]
  },
  {
   "cell_type": "markdown",
   "id": "27fb16e0-9e2f-488e-b951-4334906c80fa",
   "metadata": {},
   "source": [
    "#### 3. List of Dictionaries"
   ]
  },
  {
   "cell_type": "code",
   "execution_count": 44,
   "id": "0920f076-d326-4419-850d-13e3c600c861",
   "metadata": {},
   "outputs": [
    {
     "data": {
      "text/html": [
       "<div>\n",
       "<style scoped>\n",
       "    .dataframe tbody tr th:only-of-type {\n",
       "        vertical-align: middle;\n",
       "    }\n",
       "\n",
       "    .dataframe tbody tr th {\n",
       "        vertical-align: top;\n",
       "    }\n",
       "\n",
       "    .dataframe thead th {\n",
       "        text-align: right;\n",
       "    }\n",
       "</style>\n",
       "<table border=\"1\" class=\"dataframe\">\n",
       "  <thead>\n",
       "    <tr style=\"text-align: right;\">\n",
       "      <th></th>\n",
       "      <th>Name</th>\n",
       "      <th>Age</th>\n",
       "    </tr>\n",
       "  </thead>\n",
       "  <tbody>\n",
       "    <tr>\n",
       "      <th>0</th>\n",
       "      <td>Alice</td>\n",
       "      <td>25</td>\n",
       "    </tr>\n",
       "    <tr>\n",
       "      <th>1</th>\n",
       "      <td>Bob</td>\n",
       "      <td>30</td>\n",
       "    </tr>\n",
       "    <tr>\n",
       "      <th>2</th>\n",
       "      <td>Charlie</td>\n",
       "      <td>35</td>\n",
       "    </tr>\n",
       "  </tbody>\n",
       "</table>\n",
       "</div>"
      ],
      "text/plain": [
       "      Name  Age\n",
       "0    Alice   25\n",
       "1      Bob   30\n",
       "2  Charlie   35"
      ]
     },
     "execution_count": 44,
     "metadata": {},
     "output_type": "execute_result"
    }
   ],
   "source": [
    "# Each item becomes a row in the DataFrame; unions of dictionary keys or Series indexes\n",
    "# become the DataFrame’s column labels\n",
    "# Each dictionary represents a row, and keys are column\n",
    "data = [\n",
    "    {'Name': 'Alice', 'Age': 25},\n",
    "    {'Name': 'Bob', 'Age': 30},\n",
    "    {'Name': 'Charlie', 'Age': 35}\n",
    "]\n",
    "\n",
    "df = pd.DataFrame(data)\n",
    "df"
   ]
  },
  {
   "cell_type": "markdown",
   "id": "83ffa314-bccc-4cfc-a400-8680a38081f2",
   "metadata": {},
   "source": [
    "#### 4. List of Lists or Tuples"
   ]
  },
  {
   "cell_type": "code",
   "execution_count": 45,
   "id": "a786d800-1779-46f0-bed2-7c68fa11ade0",
   "metadata": {},
   "outputs": [
    {
     "data": {
      "text/html": [
       "<div>\n",
       "<style scoped>\n",
       "    .dataframe tbody tr th:only-of-type {\n",
       "        vertical-align: middle;\n",
       "    }\n",
       "\n",
       "    .dataframe tbody tr th {\n",
       "        vertical-align: top;\n",
       "    }\n",
       "\n",
       "    .dataframe thead th {\n",
       "        text-align: right;\n",
       "    }\n",
       "</style>\n",
       "<table border=\"1\" class=\"dataframe\">\n",
       "  <thead>\n",
       "    <tr style=\"text-align: right;\">\n",
       "      <th></th>\n",
       "      <th>Name</th>\n",
       "      <th>Age</th>\n",
       "      <th>City</th>\n",
       "    </tr>\n",
       "  </thead>\n",
       "  <tbody>\n",
       "    <tr>\n",
       "      <th>0</th>\n",
       "      <td>Alice</td>\n",
       "      <td>25</td>\n",
       "      <td>New York</td>\n",
       "    </tr>\n",
       "    <tr>\n",
       "      <th>1</th>\n",
       "      <td>Bob</td>\n",
       "      <td>30</td>\n",
       "      <td>Los Angeles</td>\n",
       "    </tr>\n",
       "    <tr>\n",
       "      <th>2</th>\n",
       "      <td>Charlie</td>\n",
       "      <td>35</td>\n",
       "      <td>Chicago</td>\n",
       "    </tr>\n",
       "  </tbody>\n",
       "</table>\n",
       "</div>"
      ],
      "text/plain": [
       "      Name  Age         City\n",
       "0    Alice   25     New York\n",
       "1      Bob   30  Los Angeles\n",
       "2  Charlie   35      Chicago"
      ]
     },
     "execution_count": 45,
     "metadata": {},
     "output_type": "execute_result"
    }
   ],
   "source": [
    "# need to specify the columns parameter\n",
    "data = [\n",
    "    ['Alice', 25, 'New York'],\n",
    "    ['Bob', 30, 'Los Angeles'],\n",
    "    ['Charlie', 35, 'Chicago']\n",
    "]\n",
    "\n",
    "df = pd.DataFrame(data, columns=['Name', 'Age', 'City'])\n",
    "df"
   ]
  },
  {
   "cell_type": "markdown",
   "id": "38d86ed2-31c3-4198-b820-65f651d70813",
   "metadata": {},
   "source": [
    "#### 5. Dictionary of Series"
   ]
  },
  {
   "cell_type": "code",
   "execution_count": 46,
   "id": "c65517e7-4ce1-4002-b514-6ef1f41907d2",
   "metadata": {},
   "outputs": [
    {
     "data": {
      "text/html": [
       "<div>\n",
       "<style scoped>\n",
       "    .dataframe tbody tr th:only-of-type {\n",
       "        vertical-align: middle;\n",
       "    }\n",
       "\n",
       "    .dataframe tbody tr th {\n",
       "        vertical-align: top;\n",
       "    }\n",
       "\n",
       "    .dataframe thead th {\n",
       "        text-align: right;\n",
       "    }\n",
       "</style>\n",
       "<table border=\"1\" class=\"dataframe\">\n",
       "  <thead>\n",
       "    <tr style=\"text-align: right;\">\n",
       "      <th></th>\n",
       "      <th>Name</th>\n",
       "      <th>Age</th>\n",
       "    </tr>\n",
       "  </thead>\n",
       "  <tbody>\n",
       "    <tr>\n",
       "      <th>employ1</th>\n",
       "      <td>Alice</td>\n",
       "      <td>25</td>\n",
       "    </tr>\n",
       "    <tr>\n",
       "      <th>employ2</th>\n",
       "      <td>Bob</td>\n",
       "      <td>30</td>\n",
       "    </tr>\n",
       "    <tr>\n",
       "      <th>employ3</th>\n",
       "      <td>Charlie</td>\n",
       "      <td>35</td>\n",
       "    </tr>\n",
       "  </tbody>\n",
       "</table>\n",
       "</div>"
      ],
      "text/plain": [
       "            Name  Age\n",
       "employ1    Alice   25\n",
       "employ2      Bob   30\n",
       "employ3  Charlie   35"
      ]
     },
     "execution_count": 46,
     "metadata": {},
     "output_type": "execute_result"
    }
   ],
   "source": [
    "# Each value becomes a column; indexes from each Series are unioned together to form the\n",
    "# result’s row index if no explicit index is passed\n",
    "# Keys become column names, and each Series becomes a column.\n",
    "data = {\n",
    "    'Name': pd.Series(['Alice', 'Bob', 'Charlie'], index = ['employ1', 'employ2', 'employ3']),\n",
    "    'Age': pd.Series([25, 30, 35], index = ['employ1', 'employ2', 'employ3'])\n",
    "}\n",
    "\n",
    "df = pd.DataFrame(data)\n",
    "df"
   ]
  },
  {
   "cell_type": "markdown",
   "id": "65e42b76-cf51-46d0-acf4-da7c60775b2a",
   "metadata": {},
   "source": [
    "#### 6. Dictionary of Dictionaries"
   ]
  },
  {
   "cell_type": "code",
   "execution_count": 47,
   "id": "92d9530e-172a-4b10-bfba-3760b5295d84",
   "metadata": {},
   "outputs": [
    {
     "data": {
      "text/html": [
       "<div>\n",
       "<style scoped>\n",
       "    .dataframe tbody tr th:only-of-type {\n",
       "        vertical-align: middle;\n",
       "    }\n",
       "\n",
       "    .dataframe tbody tr th {\n",
       "        vertical-align: top;\n",
       "    }\n",
       "\n",
       "    .dataframe thead th {\n",
       "        text-align: right;\n",
       "    }\n",
       "</style>\n",
       "<table border=\"1\" class=\"dataframe\">\n",
       "  <thead>\n",
       "    <tr style=\"text-align: right;\">\n",
       "      <th></th>\n",
       "      <th>Math</th>\n",
       "      <th>Science</th>\n",
       "    </tr>\n",
       "  </thead>\n",
       "  <tbody>\n",
       "    <tr>\n",
       "      <th>101</th>\n",
       "      <td>85.0</td>\n",
       "      <td>92.0</td>\n",
       "    </tr>\n",
       "    <tr>\n",
       "      <th>102</th>\n",
       "      <td>90.0</td>\n",
       "      <td>NaN</td>\n",
       "    </tr>\n",
       "    <tr>\n",
       "      <th>103</th>\n",
       "      <td>78.0</td>\n",
       "      <td>88.0</td>\n",
       "    </tr>\n",
       "    <tr>\n",
       "      <th>104</th>\n",
       "      <td>NaN</td>\n",
       "      <td>75.0</td>\n",
       "    </tr>\n",
       "  </tbody>\n",
       "</table>\n",
       "</div>"
      ],
      "text/plain": [
       "     Math  Science\n",
       "101  85.0     92.0\n",
       "102  90.0      NaN\n",
       "103  78.0     88.0\n",
       "104   NaN     75.0"
      ]
     },
     "execution_count": 47,
     "metadata": {},
     "output_type": "execute_result"
    }
   ],
   "source": [
    "# The outer dictionary keys become the column names, and the inner dictionary keys become the index of the DataFrame.\n",
    "# Any missing values are filled with NaN by default.\n",
    "import pandas as pd\n",
    "\n",
    "data = {\n",
    "    'Math': {101: 85, 102: 90, 103: 78},\n",
    "    'Science': {101: 92, 103: 88, 104: 75}\n",
    "}\n",
    "\n",
    "df = pd.DataFrame(data)\n",
    "df"
   ]
  },
  {
   "cell_type": "markdown",
   "id": "1526ff94-db9a-48d5-8d91-388f8584c7b0",
   "metadata": {},
   "source": [
    "#### 7. List of DataFrames"
   ]
  },
  {
   "cell_type": "code",
   "execution_count": 48,
   "id": "087ec7d8-0d47-41c4-8025-ff76dd2f12d7",
   "metadata": {},
   "outputs": [
    {
     "data": {
      "text/html": [
       "<div>\n",
       "<style scoped>\n",
       "    .dataframe tbody tr th:only-of-type {\n",
       "        vertical-align: middle;\n",
       "    }\n",
       "\n",
       "    .dataframe tbody tr th {\n",
       "        vertical-align: top;\n",
       "    }\n",
       "\n",
       "    .dataframe thead th {\n",
       "        text-align: right;\n",
       "    }\n",
       "</style>\n",
       "<table border=\"1\" class=\"dataframe\">\n",
       "  <thead>\n",
       "    <tr style=\"text-align: right;\">\n",
       "      <th></th>\n",
       "      <th>A</th>\n",
       "      <th>B</th>\n",
       "    </tr>\n",
       "  </thead>\n",
       "  <tbody>\n",
       "    <tr>\n",
       "      <th>0</th>\n",
       "      <td>1</td>\n",
       "      <td>3</td>\n",
       "    </tr>\n",
       "    <tr>\n",
       "      <th>1</th>\n",
       "      <td>2</td>\n",
       "      <td>4</td>\n",
       "    </tr>\n",
       "    <tr>\n",
       "      <th>2</th>\n",
       "      <td>5</td>\n",
       "      <td>7</td>\n",
       "    </tr>\n",
       "    <tr>\n",
       "      <th>3</th>\n",
       "      <td>6</td>\n",
       "      <td>8</td>\n",
       "    </tr>\n",
       "  </tbody>\n",
       "</table>\n",
       "</div>"
      ],
      "text/plain": [
       "   A  B\n",
       "0  1  3\n",
       "1  2  4\n",
       "2  5  7\n",
       "3  6  8"
      ]
     },
     "execution_count": 48,
     "metadata": {},
     "output_type": "execute_result"
    }
   ],
   "source": [
    "# Concatenate multiple DataFrames into a single DataFrame.\n",
    "df1 = pd.DataFrame({'A': [1, 2], 'B': [3, 4]})\n",
    "df2 = pd.DataFrame({'A': [5, 6], 'B': [7, 8]})\n",
    "\n",
    "df = pd.concat([df1, df2], ignore_index=True)\n",
    "df"
   ]
  },
  {
   "cell_type": "code",
   "execution_count": 49,
   "id": "086098b6-dd4d-4700-940f-46b6576fc9ec",
   "metadata": {},
   "outputs": [
    {
     "data": {
      "text/html": [
       "<div>\n",
       "<style scoped>\n",
       "    .dataframe tbody tr th:only-of-type {\n",
       "        vertical-align: middle;\n",
       "    }\n",
       "\n",
       "    .dataframe tbody tr th {\n",
       "        vertical-align: top;\n",
       "    }\n",
       "\n",
       "    .dataframe thead th {\n",
       "        text-align: right;\n",
       "    }\n",
       "</style>\n",
       "<table border=\"1\" class=\"dataframe\">\n",
       "  <thead>\n",
       "    <tr style=\"text-align: right;\">\n",
       "      <th></th>\n",
       "      <th>China</th>\n",
       "      <th>India</th>\n",
       "      <th>United States</th>\n",
       "      <th>Indonesia</th>\n",
       "      <th>Pakistan</th>\n",
       "      <th>Brazil</th>\n",
       "      <th>Nigeria</th>\n",
       "      <th>Bangladesh</th>\n",
       "      <th>Russia</th>\n",
       "      <th>Mexico</th>\n",
       "      <th>Japan</th>\n",
       "      <th>Ethiopia</th>\n",
       "    </tr>\n",
       "  </thead>\n",
       "  <tbody>\n",
       "    <tr>\n",
       "      <th>1900</th>\n",
       "      <td>400</td>\n",
       "      <td>250</td>\n",
       "      <td>76</td>\n",
       "      <td>40</td>\n",
       "      <td>30</td>\n",
       "      <td>17</td>\n",
       "      <td>18</td>\n",
       "      <td>30</td>\n",
       "      <td>40</td>\n",
       "      <td>13</td>\n",
       "      <td>44</td>\n",
       "      <td>16.0</td>\n",
       "    </tr>\n",
       "    <tr>\n",
       "      <th>1910</th>\n",
       "      <td>400</td>\n",
       "      <td>260</td>\n",
       "      <td>92</td>\n",
       "      <td>45</td>\n",
       "      <td>32</td>\n",
       "      <td>20</td>\n",
       "      <td>19</td>\n",
       "      <td>32</td>\n",
       "      <td>45</td>\n",
       "      <td>14</td>\n",
       "      <td>50</td>\n",
       "      <td>16.5</td>\n",
       "    </tr>\n",
       "    <tr>\n",
       "      <th>1920</th>\n",
       "      <td>430</td>\n",
       "      <td>280</td>\n",
       "      <td>106</td>\n",
       "      <td>50</td>\n",
       "      <td>35</td>\n",
       "      <td>23</td>\n",
       "      <td>20</td>\n",
       "      <td>35</td>\n",
       "      <td>50</td>\n",
       "      <td>15</td>\n",
       "      <td>55</td>\n",
       "      <td>17.0</td>\n",
       "    </tr>\n",
       "    <tr>\n",
       "      <th>1930</th>\n",
       "      <td>480</td>\n",
       "      <td>300</td>\n",
       "      <td>123</td>\n",
       "      <td>55</td>\n",
       "      <td>38</td>\n",
       "      <td>28</td>\n",
       "      <td>22</td>\n",
       "      <td>38</td>\n",
       "      <td>60</td>\n",
       "      <td>18</td>\n",
       "      <td>64</td>\n",
       "      <td>17.5</td>\n",
       "    </tr>\n",
       "    <tr>\n",
       "      <th>1940</th>\n",
       "      <td>500</td>\n",
       "      <td>320</td>\n",
       "      <td>132</td>\n",
       "      <td>60</td>\n",
       "      <td>40</td>\n",
       "      <td>31</td>\n",
       "      <td>24</td>\n",
       "      <td>42</td>\n",
       "      <td>70</td>\n",
       "      <td>20</td>\n",
       "      <td>73</td>\n",
       "      <td>18.0</td>\n",
       "    </tr>\n",
       "    <tr>\n",
       "      <th>1950</th>\n",
       "      <td>540</td>\n",
       "      <td>340</td>\n",
       "      <td>151</td>\n",
       "      <td>70</td>\n",
       "      <td>33</td>\n",
       "      <td>41</td>\n",
       "      <td>27</td>\n",
       "      <td>44</td>\n",
       "      <td>70</td>\n",
       "      <td>27</td>\n",
       "      <td>83</td>\n",
       "      <td>19.0</td>\n",
       "    </tr>\n",
       "    <tr>\n",
       "      <th>1960</th>\n",
       "      <td>660</td>\n",
       "      <td>450</td>\n",
       "      <td>179</td>\n",
       "      <td>90</td>\n",
       "      <td>70</td>\n",
       "      <td>70</td>\n",
       "      <td>37</td>\n",
       "      <td>50</td>\n",
       "      <td>80</td>\n",
       "      <td>37</td>\n",
       "      <td>94</td>\n",
       "      <td>22.0</td>\n",
       "    </tr>\n",
       "    <tr>\n",
       "      <th>1970</th>\n",
       "      <td>818</td>\n",
       "      <td>550</td>\n",
       "      <td>203</td>\n",
       "      <td>115</td>\n",
       "      <td>93</td>\n",
       "      <td>95</td>\n",
       "      <td>56</td>\n",
       "      <td>66</td>\n",
       "      <td>105</td>\n",
       "      <td>50</td>\n",
       "      <td>104</td>\n",
       "      <td>30.0</td>\n",
       "    </tr>\n",
       "    <tr>\n",
       "      <th>1980</th>\n",
       "      <td>987</td>\n",
       "      <td>700</td>\n",
       "      <td>227</td>\n",
       "      <td>150</td>\n",
       "      <td>106</td>\n",
       "      <td>121</td>\n",
       "      <td>70</td>\n",
       "      <td>84</td>\n",
       "      <td>125</td>\n",
       "      <td>63</td>\n",
       "      <td>117</td>\n",
       "      <td>42.0</td>\n",
       "    </tr>\n",
       "    <tr>\n",
       "      <th>1990</th>\n",
       "      <td>1143</td>\n",
       "      <td>870</td>\n",
       "      <td>249</td>\n",
       "      <td>180</td>\n",
       "      <td>132</td>\n",
       "      <td>149</td>\n",
       "      <td>95</td>\n",
       "      <td>105</td>\n",
       "      <td>147</td>\n",
       "      <td>82</td>\n",
       "      <td>123</td>\n",
       "      <td>50.0</td>\n",
       "    </tr>\n",
       "    <tr>\n",
       "      <th>2000</th>\n",
       "      <td>1265</td>\n",
       "      <td>1041</td>\n",
       "      <td>282</td>\n",
       "      <td>210</td>\n",
       "      <td>146</td>\n",
       "      <td>174</td>\n",
       "      <td>122</td>\n",
       "      <td>130</td>\n",
       "      <td>146</td>\n",
       "      <td>97</td>\n",
       "      <td>127</td>\n",
       "      <td>66.0</td>\n",
       "    </tr>\n",
       "    <tr>\n",
       "      <th>2010</th>\n",
       "      <td>1343</td>\n",
       "      <td>1224</td>\n",
       "      <td>309</td>\n",
       "      <td>242</td>\n",
       "      <td>175</td>\n",
       "      <td>195</td>\n",
       "      <td>158</td>\n",
       "      <td>148</td>\n",
       "      <td>143</td>\n",
       "      <td>112</td>\n",
       "      <td>128</td>\n",
       "      <td>84.0</td>\n",
       "    </tr>\n",
       "    <tr>\n",
       "      <th>2020</th>\n",
       "      <td>1402</td>\n",
       "      <td>1380</td>\n",
       "      <td>331</td>\n",
       "      <td>273</td>\n",
       "      <td>220</td>\n",
       "      <td>212</td>\n",
       "      <td>206</td>\n",
       "      <td>164</td>\n",
       "      <td>146</td>\n",
       "      <td>128</td>\n",
       "      <td>126</td>\n",
       "      <td>115.0</td>\n",
       "    </tr>\n",
       "  </tbody>\n",
       "</table>\n",
       "</div>"
      ],
      "text/plain": [
       "      China  India  United States  Indonesia  Pakistan  Brazil  Nigeria  \\\n",
       "1900    400    250             76         40        30      17       18   \n",
       "1910    400    260             92         45        32      20       19   \n",
       "1920    430    280            106         50        35      23       20   \n",
       "1930    480    300            123         55        38      28       22   \n",
       "1940    500    320            132         60        40      31       24   \n",
       "1950    540    340            151         70        33      41       27   \n",
       "1960    660    450            179         90        70      70       37   \n",
       "1970    818    550            203        115        93      95       56   \n",
       "1980    987    700            227        150       106     121       70   \n",
       "1990   1143    870            249        180       132     149       95   \n",
       "2000   1265   1041            282        210       146     174      122   \n",
       "2010   1343   1224            309        242       175     195      158   \n",
       "2020   1402   1380            331        273       220     212      206   \n",
       "\n",
       "      Bangladesh  Russia  Mexico  Japan  Ethiopia  \n",
       "1900          30      40      13     44      16.0  \n",
       "1910          32      45      14     50      16.5  \n",
       "1920          35      50      15     55      17.0  \n",
       "1930          38      60      18     64      17.5  \n",
       "1940          42      70      20     73      18.0  \n",
       "1950          44      70      27     83      19.0  \n",
       "1960          50      80      37     94      22.0  \n",
       "1970          66     105      50    104      30.0  \n",
       "1980          84     125      63    117      42.0  \n",
       "1990         105     147      82    123      50.0  \n",
       "2000         130     146      97    127      66.0  \n",
       "2010         148     143     112    128      84.0  \n",
       "2020         164     146     128    126     115.0  "
      ]
     },
     "execution_count": 49,
     "metadata": {},
     "output_type": "execute_result"
    }
   ],
   "source": [
    "dframe4"
   ]
  },
  {
   "cell_type": "code",
   "execution_count": 50,
   "id": "734e72a4-03ab-4b79-b889-02e6701fe361",
   "metadata": {},
   "outputs": [
    {
     "data": {
      "text/html": [
       "<div>\n",
       "<style scoped>\n",
       "    .dataframe tbody tr th:only-of-type {\n",
       "        vertical-align: middle;\n",
       "    }\n",
       "\n",
       "    .dataframe tbody tr th {\n",
       "        vertical-align: top;\n",
       "    }\n",
       "\n",
       "    .dataframe thead th {\n",
       "        text-align: right;\n",
       "    }\n",
       "</style>\n",
       "<table border=\"1\" class=\"dataframe\">\n",
       "  <thead>\n",
       "    <tr style=\"text-align: right;\">\n",
       "      <th>Country</th>\n",
       "      <th>China</th>\n",
       "      <th>India</th>\n",
       "      <th>United States</th>\n",
       "      <th>Indonesia</th>\n",
       "      <th>Pakistan</th>\n",
       "      <th>Brazil</th>\n",
       "      <th>Nigeria</th>\n",
       "      <th>Bangladesh</th>\n",
       "      <th>Russia</th>\n",
       "      <th>Mexico</th>\n",
       "      <th>Japan</th>\n",
       "      <th>Ethiopia</th>\n",
       "    </tr>\n",
       "    <tr>\n",
       "      <th>Year</th>\n",
       "      <th></th>\n",
       "      <th></th>\n",
       "      <th></th>\n",
       "      <th></th>\n",
       "      <th></th>\n",
       "      <th></th>\n",
       "      <th></th>\n",
       "      <th></th>\n",
       "      <th></th>\n",
       "      <th></th>\n",
       "      <th></th>\n",
       "      <th></th>\n",
       "    </tr>\n",
       "  </thead>\n",
       "  <tbody>\n",
       "    <tr>\n",
       "      <th>1900</th>\n",
       "      <td>400</td>\n",
       "      <td>250</td>\n",
       "      <td>76</td>\n",
       "      <td>40</td>\n",
       "      <td>30</td>\n",
       "      <td>17</td>\n",
       "      <td>18</td>\n",
       "      <td>30</td>\n",
       "      <td>40</td>\n",
       "      <td>13</td>\n",
       "      <td>44</td>\n",
       "      <td>16.0</td>\n",
       "    </tr>\n",
       "    <tr>\n",
       "      <th>1910</th>\n",
       "      <td>400</td>\n",
       "      <td>260</td>\n",
       "      <td>92</td>\n",
       "      <td>45</td>\n",
       "      <td>32</td>\n",
       "      <td>20</td>\n",
       "      <td>19</td>\n",
       "      <td>32</td>\n",
       "      <td>45</td>\n",
       "      <td>14</td>\n",
       "      <td>50</td>\n",
       "      <td>16.5</td>\n",
       "    </tr>\n",
       "    <tr>\n",
       "      <th>1920</th>\n",
       "      <td>430</td>\n",
       "      <td>280</td>\n",
       "      <td>106</td>\n",
       "      <td>50</td>\n",
       "      <td>35</td>\n",
       "      <td>23</td>\n",
       "      <td>20</td>\n",
       "      <td>35</td>\n",
       "      <td>50</td>\n",
       "      <td>15</td>\n",
       "      <td>55</td>\n",
       "      <td>17.0</td>\n",
       "    </tr>\n",
       "    <tr>\n",
       "      <th>1930</th>\n",
       "      <td>480</td>\n",
       "      <td>300</td>\n",
       "      <td>123</td>\n",
       "      <td>55</td>\n",
       "      <td>38</td>\n",
       "      <td>28</td>\n",
       "      <td>22</td>\n",
       "      <td>38</td>\n",
       "      <td>60</td>\n",
       "      <td>18</td>\n",
       "      <td>64</td>\n",
       "      <td>17.5</td>\n",
       "    </tr>\n",
       "    <tr>\n",
       "      <th>1940</th>\n",
       "      <td>500</td>\n",
       "      <td>320</td>\n",
       "      <td>132</td>\n",
       "      <td>60</td>\n",
       "      <td>40</td>\n",
       "      <td>31</td>\n",
       "      <td>24</td>\n",
       "      <td>42</td>\n",
       "      <td>70</td>\n",
       "      <td>20</td>\n",
       "      <td>73</td>\n",
       "      <td>18.0</td>\n",
       "    </tr>\n",
       "    <tr>\n",
       "      <th>1950</th>\n",
       "      <td>540</td>\n",
       "      <td>340</td>\n",
       "      <td>151</td>\n",
       "      <td>70</td>\n",
       "      <td>33</td>\n",
       "      <td>41</td>\n",
       "      <td>27</td>\n",
       "      <td>44</td>\n",
       "      <td>70</td>\n",
       "      <td>27</td>\n",
       "      <td>83</td>\n",
       "      <td>19.0</td>\n",
       "    </tr>\n",
       "    <tr>\n",
       "      <th>1960</th>\n",
       "      <td>660</td>\n",
       "      <td>450</td>\n",
       "      <td>179</td>\n",
       "      <td>90</td>\n",
       "      <td>70</td>\n",
       "      <td>70</td>\n",
       "      <td>37</td>\n",
       "      <td>50</td>\n",
       "      <td>80</td>\n",
       "      <td>37</td>\n",
       "      <td>94</td>\n",
       "      <td>22.0</td>\n",
       "    </tr>\n",
       "    <tr>\n",
       "      <th>1970</th>\n",
       "      <td>818</td>\n",
       "      <td>550</td>\n",
       "      <td>203</td>\n",
       "      <td>115</td>\n",
       "      <td>93</td>\n",
       "      <td>95</td>\n",
       "      <td>56</td>\n",
       "      <td>66</td>\n",
       "      <td>105</td>\n",
       "      <td>50</td>\n",
       "      <td>104</td>\n",
       "      <td>30.0</td>\n",
       "    </tr>\n",
       "    <tr>\n",
       "      <th>1980</th>\n",
       "      <td>987</td>\n",
       "      <td>700</td>\n",
       "      <td>227</td>\n",
       "      <td>150</td>\n",
       "      <td>106</td>\n",
       "      <td>121</td>\n",
       "      <td>70</td>\n",
       "      <td>84</td>\n",
       "      <td>125</td>\n",
       "      <td>63</td>\n",
       "      <td>117</td>\n",
       "      <td>42.0</td>\n",
       "    </tr>\n",
       "    <tr>\n",
       "      <th>1990</th>\n",
       "      <td>1143</td>\n",
       "      <td>870</td>\n",
       "      <td>249</td>\n",
       "      <td>180</td>\n",
       "      <td>132</td>\n",
       "      <td>149</td>\n",
       "      <td>95</td>\n",
       "      <td>105</td>\n",
       "      <td>147</td>\n",
       "      <td>82</td>\n",
       "      <td>123</td>\n",
       "      <td>50.0</td>\n",
       "    </tr>\n",
       "    <tr>\n",
       "      <th>2000</th>\n",
       "      <td>1265</td>\n",
       "      <td>1041</td>\n",
       "      <td>282</td>\n",
       "      <td>210</td>\n",
       "      <td>146</td>\n",
       "      <td>174</td>\n",
       "      <td>122</td>\n",
       "      <td>130</td>\n",
       "      <td>146</td>\n",
       "      <td>97</td>\n",
       "      <td>127</td>\n",
       "      <td>66.0</td>\n",
       "    </tr>\n",
       "    <tr>\n",
       "      <th>2010</th>\n",
       "      <td>1343</td>\n",
       "      <td>1224</td>\n",
       "      <td>309</td>\n",
       "      <td>242</td>\n",
       "      <td>175</td>\n",
       "      <td>195</td>\n",
       "      <td>158</td>\n",
       "      <td>148</td>\n",
       "      <td>143</td>\n",
       "      <td>112</td>\n",
       "      <td>128</td>\n",
       "      <td>84.0</td>\n",
       "    </tr>\n",
       "    <tr>\n",
       "      <th>2020</th>\n",
       "      <td>1402</td>\n",
       "      <td>1380</td>\n",
       "      <td>331</td>\n",
       "      <td>273</td>\n",
       "      <td>220</td>\n",
       "      <td>212</td>\n",
       "      <td>206</td>\n",
       "      <td>164</td>\n",
       "      <td>146</td>\n",
       "      <td>128</td>\n",
       "      <td>126</td>\n",
       "      <td>115.0</td>\n",
       "    </tr>\n",
       "  </tbody>\n",
       "</table>\n",
       "</div>"
      ],
      "text/plain": [
       "Country  China  India  United States  Indonesia  Pakistan  Brazil  Nigeria  \\\n",
       "Year                                                                         \n",
       "1900       400    250             76         40        30      17       18   \n",
       "1910       400    260             92         45        32      20       19   \n",
       "1920       430    280            106         50        35      23       20   \n",
       "1930       480    300            123         55        38      28       22   \n",
       "1940       500    320            132         60        40      31       24   \n",
       "1950       540    340            151         70        33      41       27   \n",
       "1960       660    450            179         90        70      70       37   \n",
       "1970       818    550            203        115        93      95       56   \n",
       "1980       987    700            227        150       106     121       70   \n",
       "1990      1143    870            249        180       132     149       95   \n",
       "2000      1265   1041            282        210       146     174      122   \n",
       "2010      1343   1224            309        242       175     195      158   \n",
       "2020      1402   1380            331        273       220     212      206   \n",
       "\n",
       "Country  Bangladesh  Russia  Mexico  Japan  Ethiopia  \n",
       "Year                                                  \n",
       "1900             30      40      13     44      16.0  \n",
       "1910             32      45      14     50      16.5  \n",
       "1920             35      50      15     55      17.0  \n",
       "1930             38      60      18     64      17.5  \n",
       "1940             42      70      20     73      18.0  \n",
       "1950             44      70      27     83      19.0  \n",
       "1960             50      80      37     94      22.0  \n",
       "1970             66     105      50    104      30.0  \n",
       "1980             84     125      63    117      42.0  \n",
       "1990            105     147      82    123      50.0  \n",
       "2000            130     146      97    127      66.0  \n",
       "2010            148     143     112    128      84.0  \n",
       "2020            164     146     128    126     115.0  "
      ]
     },
     "execution_count": 50,
     "metadata": {},
     "output_type": "execute_result"
    }
   ],
   "source": [
    "# If a DataFrame’s index and columns have their name attributes set, these will also be displayed:\n",
    "dframe4.index.name = 'Year'\n",
    "dframe4.columns.name = 'Country'\n",
    "dframe4"
   ]
  },
  {
   "cell_type": "code",
   "execution_count": 51,
   "id": "6b6e2029-ae82-4242-bdce-51af2a0a2592",
   "metadata": {},
   "outputs": [
    {
     "data": {
      "text/plain": [
       "array([[ 400. ,  250. ,   76. ,   40. ,   30. ,   17. ,   18. ,   30. ,\n",
       "          40. ,   13. ,   44. ,   16. ],\n",
       "       [ 400. ,  260. ,   92. ,   45. ,   32. ,   20. ,   19. ,   32. ,\n",
       "          45. ,   14. ,   50. ,   16.5],\n",
       "       [ 430. ,  280. ,  106. ,   50. ,   35. ,   23. ,   20. ,   35. ,\n",
       "          50. ,   15. ,   55. ,   17. ],\n",
       "       [ 480. ,  300. ,  123. ,   55. ,   38. ,   28. ,   22. ,   38. ,\n",
       "          60. ,   18. ,   64. ,   17.5],\n",
       "       [ 500. ,  320. ,  132. ,   60. ,   40. ,   31. ,   24. ,   42. ,\n",
       "          70. ,   20. ,   73. ,   18. ],\n",
       "       [ 540. ,  340. ,  151. ,   70. ,   33. ,   41. ,   27. ,   44. ,\n",
       "          70. ,   27. ,   83. ,   19. ],\n",
       "       [ 660. ,  450. ,  179. ,   90. ,   70. ,   70. ,   37. ,   50. ,\n",
       "          80. ,   37. ,   94. ,   22. ],\n",
       "       [ 818. ,  550. ,  203. ,  115. ,   93. ,   95. ,   56. ,   66. ,\n",
       "         105. ,   50. ,  104. ,   30. ],\n",
       "       [ 987. ,  700. ,  227. ,  150. ,  106. ,  121. ,   70. ,   84. ,\n",
       "         125. ,   63. ,  117. ,   42. ],\n",
       "       [1143. ,  870. ,  249. ,  180. ,  132. ,  149. ,   95. ,  105. ,\n",
       "         147. ,   82. ,  123. ,   50. ],\n",
       "       [1265. , 1041. ,  282. ,  210. ,  146. ,  174. ,  122. ,  130. ,\n",
       "         146. ,   97. ,  127. ,   66. ],\n",
       "       [1343. , 1224. ,  309. ,  242. ,  175. ,  195. ,  158. ,  148. ,\n",
       "         143. ,  112. ,  128. ,   84. ],\n",
       "       [1402. , 1380. ,  331. ,  273. ,  220. ,  212. ,  206. ,  164. ,\n",
       "         146. ,  128. ,  126. ,  115. ]])"
      ]
     },
     "execution_count": 51,
     "metadata": {},
     "output_type": "execute_result"
    }
   ],
   "source": [
    "# Unlike Series, DataFrame does not have a name attribute. \n",
    "# DataFrame’s to_numpy method returns the data contained in the DataFrame as a two-dimensional ndarray:\n",
    "dframe4.to_numpy()"
   ]
  },
  {
   "cell_type": "markdown",
   "id": "c7ceb258-5d2c-447f-a184-d53163812f52",
   "metadata": {},
   "source": [
    "# Index Objects"
   ]
  },
  {
   "cell_type": "markdown",
   "id": "14b8d7a0-f2ca-464f-b50a-c3bad924b617",
   "metadata": {},
   "source": [
    "pandas’s Index objects are responsible for holding the axis labels (including a Data  Frame’s column names) and other metadata (like the axis name or names). Any array  or other sequence of labels you use when constructing a Series or DataFrame is internally converted to an Index:\n",
    "\n",
    "An Index object is an immutable array that labels the axes of a DataFrame or Series.   \n",
    "It plays a crucial role in aligning data for operations like selection, alignment, and reshaping."
   ]
  },
  {
   "cell_type": "code",
   "execution_count": 52,
   "id": "8a66080f-6809-42a7-a3b8-62b86a53214d",
   "metadata": {},
   "outputs": [
    {
     "data": {
      "text/plain": [
       "Index(['A', 'B', 'C'], dtype='object')"
      ]
     },
     "execution_count": 52,
     "metadata": {},
     "output_type": "execute_result"
    }
   ],
   "source": [
    "s = pd.Series(np.arange(3), index = ['A', 'B', 'C'])\n",
    "i = s.index\n",
    "i"
   ]
  },
  {
   "cell_type": "code",
   "execution_count": 53,
   "id": "3d0ba88e-d203-4727-9e60-e62b45ce1d10",
   "metadata": {},
   "outputs": [
    {
     "data": {
      "text/plain": [
       "Index(['B', 'C'], dtype='object')"
      ]
     },
     "execution_count": 53,
     "metadata": {},
     "output_type": "execute_result"
    }
   ],
   "source": [
    "# We can access index elements by slicing\n",
    "i[1:]"
   ]
  },
  {
   "cell_type": "code",
   "execution_count": 54,
   "id": "2e2b5f17-89e6-40e9-bcbc-7e3cb66e3165",
   "metadata": {},
   "outputs": [],
   "source": [
    "# Index objects are immutable so we can't modify\n",
    "# i[0] = 'D'      # Raise an error"
   ]
  },
  {
   "cell_type": "code",
   "execution_count": 55,
   "id": "06365c83-e974-4fd9-97e3-8704900a29ac",
   "metadata": {},
   "outputs": [
    {
     "data": {
      "text/plain": [
       "Index([11, 12, 13], dtype='int64')"
      ]
     },
     "execution_count": 55,
     "metadata": {},
     "output_type": "execute_result"
    }
   ],
   "source": [
    "lables = pd.Index(np.arange(11, 14))\n",
    "lables"
   ]
  },
  {
   "cell_type": "code",
   "execution_count": 56,
   "id": "09e68edd-bfcb-4790-8127-a546756d3696",
   "metadata": {},
   "outputs": [
    {
     "data": {
      "text/plain": [
       "11    0.2\n",
       "12    0.6\n",
       "13    3.0\n",
       "dtype: float64"
      ]
     },
     "execution_count": 56,
     "metadata": {},
     "output_type": "execute_result"
    }
   ],
   "source": [
    "# Let's create a series with these index\n",
    "s2 = pd.Series([0.2, 0.6, 3], index = lables)\n",
    "s2"
   ]
  },
  {
   "cell_type": "code",
   "execution_count": 57,
   "id": "9b6a122e-23da-4d2f-81ca-9a3113c56343",
   "metadata": {},
   "outputs": [
    {
     "data": {
      "text/plain": [
       "True"
      ]
     },
     "execution_count": 57,
     "metadata": {},
     "output_type": "execute_result"
    }
   ],
   "source": [
    "# Checking the index of a Series\n",
    "s2.index is lables          # True"
   ]
  },
  {
   "cell_type": "code",
   "execution_count": 58,
   "id": "3c72cf12-e629-49fe-a39a-ebf91b9e347b",
   "metadata": {},
   "outputs": [
    {
     "data": {
      "text/html": [
       "<div>\n",
       "<style scoped>\n",
       "    .dataframe tbody tr th:only-of-type {\n",
       "        vertical-align: middle;\n",
       "    }\n",
       "\n",
       "    .dataframe tbody tr th {\n",
       "        vertical-align: top;\n",
       "    }\n",
       "\n",
       "    .dataframe thead th {\n",
       "        text-align: right;\n",
       "    }\n",
       "</style>\n",
       "<table border=\"1\" class=\"dataframe\">\n",
       "  <thead>\n",
       "    <tr style=\"text-align: right;\">\n",
       "      <th></th>\n",
       "      <th>Age</th>\n",
       "    </tr>\n",
       "    <tr>\n",
       "      <th>Name</th>\n",
       "      <th></th>\n",
       "    </tr>\n",
       "  </thead>\n",
       "  <tbody>\n",
       "    <tr>\n",
       "      <th>Alice</th>\n",
       "      <td>25</td>\n",
       "    </tr>\n",
       "    <tr>\n",
       "      <th>Bob</th>\n",
       "      <td>30</td>\n",
       "    </tr>\n",
       "  </tbody>\n",
       "</table>\n",
       "</div>"
      ],
      "text/plain": [
       "       Age\n",
       "Name      \n",
       "Alice   25\n",
       "Bob     30"
      ]
     },
     "execution_count": 58,
     "metadata": {},
     "output_type": "execute_result"
    }
   ],
   "source": [
    "# Create a new DataFrame with index\n",
    "# Set an index from colums data\n",
    "df = pd.DataFrame({'Name': ['Alice', 'Bob'], 'Age': [25, 30]})\n",
    "df = df.set_index('Name')\n",
    "df"
   ]
  },
  {
   "cell_type": "code",
   "execution_count": 59,
   "id": "df4a1017-1a90-4658-ac42-7c05a6175060",
   "metadata": {},
   "outputs": [
    {
     "data": {
      "text/html": [
       "<div>\n",
       "<style scoped>\n",
       "    .dataframe tbody tr th:only-of-type {\n",
       "        vertical-align: middle;\n",
       "    }\n",
       "\n",
       "    .dataframe tbody tr th {\n",
       "        vertical-align: top;\n",
       "    }\n",
       "\n",
       "    .dataframe thead th {\n",
       "        text-align: right;\n",
       "    }\n",
       "</style>\n",
       "<table border=\"1\" class=\"dataframe\">\n",
       "  <thead>\n",
       "    <tr style=\"text-align: right;\">\n",
       "      <th></th>\n",
       "      <th>Name</th>\n",
       "      <th>Age</th>\n",
       "    </tr>\n",
       "  </thead>\n",
       "  <tbody>\n",
       "    <tr>\n",
       "      <th>0</th>\n",
       "      <td>Alice</td>\n",
       "      <td>25</td>\n",
       "    </tr>\n",
       "    <tr>\n",
       "      <th>1</th>\n",
       "      <td>Bob</td>\n",
       "      <td>30</td>\n",
       "    </tr>\n",
       "  </tbody>\n",
       "</table>\n",
       "</div>"
      ],
      "text/plain": [
       "    Name  Age\n",
       "0  Alice   25\n",
       "1    Bob   30"
      ]
     },
     "execution_count": 59,
     "metadata": {},
     "output_type": "execute_result"
    }
   ],
   "source": [
    "# Reset an index\n",
    "df = df.reset_index()\n",
    "df"
   ]
  },
  {
   "cell_type": "code",
   "execution_count": 60,
   "id": "d2b8a5e7-1b2e-4c3a-8725-957633c6ada0",
   "metadata": {},
   "outputs": [
    {
     "data": {
      "text/html": [
       "<div>\n",
       "<style scoped>\n",
       "    .dataframe tbody tr th:only-of-type {\n",
       "        vertical-align: middle;\n",
       "    }\n",
       "\n",
       "    .dataframe tbody tr th {\n",
       "        vertical-align: top;\n",
       "    }\n",
       "\n",
       "    .dataframe thead th {\n",
       "        text-align: right;\n",
       "    }\n",
       "</style>\n",
       "<table border=\"1\" class=\"dataframe\">\n",
       "  <thead>\n",
       "    <tr style=\"text-align: right;\">\n",
       "      <th></th>\n",
       "      <th>Name</th>\n",
       "      <th>Age</th>\n",
       "    </tr>\n",
       "  </thead>\n",
       "  <tbody>\n",
       "    <tr>\n",
       "      <th>Person 1</th>\n",
       "      <td>Alice</td>\n",
       "      <td>25</td>\n",
       "    </tr>\n",
       "    <tr>\n",
       "      <th>Person 2</th>\n",
       "      <td>Bob</td>\n",
       "      <td>30</td>\n",
       "    </tr>\n",
       "  </tbody>\n",
       "</table>\n",
       "</div>"
      ],
      "text/plain": [
       "           Name  Age\n",
       "Person 1  Alice   25\n",
       "Person 2    Bob   30"
      ]
     },
     "execution_count": 60,
     "metadata": {},
     "output_type": "execute_result"
    }
   ],
   "source": [
    "# Assign another index\n",
    "df.index = ['Person 1', 'Person 2']\n",
    "df"
   ]
  },
  {
   "cell_type": "code",
   "execution_count": 61,
   "id": "85dcf85b-de70-4c73-a90e-0329870a5197",
   "metadata": {},
   "outputs": [
    {
     "data": {
      "text/plain": [
       "Index(['Person 1', 'Person 2'], dtype='object')"
      ]
     },
     "execution_count": 61,
     "metadata": {},
     "output_type": "execute_result"
    }
   ],
   "source": [
    "# Accessing an index\n",
    "df.index"
   ]
  },
  {
   "cell_type": "code",
   "execution_count": 62,
   "id": "a7009c8d-5b30-4c3a-8a45-311e7c0ba522",
   "metadata": {},
   "outputs": [
    {
     "data": {
      "text/html": [
       "<div>\n",
       "<style scoped>\n",
       "    .dataframe tbody tr th:only-of-type {\n",
       "        vertical-align: middle;\n",
       "    }\n",
       "\n",
       "    .dataframe tbody tr th {\n",
       "        vertical-align: top;\n",
       "    }\n",
       "\n",
       "    .dataframe thead th {\n",
       "        text-align: right;\n",
       "    }\n",
       "</style>\n",
       "<table border=\"1\" class=\"dataframe\">\n",
       "  <thead>\n",
       "    <tr style=\"text-align: right;\">\n",
       "      <th>Country</th>\n",
       "      <th>China</th>\n",
       "      <th>India</th>\n",
       "      <th>United States</th>\n",
       "      <th>Indonesia</th>\n",
       "      <th>Pakistan</th>\n",
       "      <th>Brazil</th>\n",
       "      <th>Nigeria</th>\n",
       "      <th>Bangladesh</th>\n",
       "      <th>Russia</th>\n",
       "      <th>Mexico</th>\n",
       "      <th>Japan</th>\n",
       "      <th>Ethiopia</th>\n",
       "    </tr>\n",
       "    <tr>\n",
       "      <th>Year</th>\n",
       "      <th></th>\n",
       "      <th></th>\n",
       "      <th></th>\n",
       "      <th></th>\n",
       "      <th></th>\n",
       "      <th></th>\n",
       "      <th></th>\n",
       "      <th></th>\n",
       "      <th></th>\n",
       "      <th></th>\n",
       "      <th></th>\n",
       "      <th></th>\n",
       "    </tr>\n",
       "  </thead>\n",
       "  <tbody>\n",
       "    <tr>\n",
       "      <th>1900</th>\n",
       "      <td>400</td>\n",
       "      <td>250</td>\n",
       "      <td>76</td>\n",
       "      <td>40</td>\n",
       "      <td>30</td>\n",
       "      <td>17</td>\n",
       "      <td>18</td>\n",
       "      <td>30</td>\n",
       "      <td>40</td>\n",
       "      <td>13</td>\n",
       "      <td>44</td>\n",
       "      <td>16.0</td>\n",
       "    </tr>\n",
       "    <tr>\n",
       "      <th>1910</th>\n",
       "      <td>400</td>\n",
       "      <td>260</td>\n",
       "      <td>92</td>\n",
       "      <td>45</td>\n",
       "      <td>32</td>\n",
       "      <td>20</td>\n",
       "      <td>19</td>\n",
       "      <td>32</td>\n",
       "      <td>45</td>\n",
       "      <td>14</td>\n",
       "      <td>50</td>\n",
       "      <td>16.5</td>\n",
       "    </tr>\n",
       "    <tr>\n",
       "      <th>1920</th>\n",
       "      <td>430</td>\n",
       "      <td>280</td>\n",
       "      <td>106</td>\n",
       "      <td>50</td>\n",
       "      <td>35</td>\n",
       "      <td>23</td>\n",
       "      <td>20</td>\n",
       "      <td>35</td>\n",
       "      <td>50</td>\n",
       "      <td>15</td>\n",
       "      <td>55</td>\n",
       "      <td>17.0</td>\n",
       "    </tr>\n",
       "    <tr>\n",
       "      <th>1930</th>\n",
       "      <td>480</td>\n",
       "      <td>300</td>\n",
       "      <td>123</td>\n",
       "      <td>55</td>\n",
       "      <td>38</td>\n",
       "      <td>28</td>\n",
       "      <td>22</td>\n",
       "      <td>38</td>\n",
       "      <td>60</td>\n",
       "      <td>18</td>\n",
       "      <td>64</td>\n",
       "      <td>17.5</td>\n",
       "    </tr>\n",
       "    <tr>\n",
       "      <th>1940</th>\n",
       "      <td>500</td>\n",
       "      <td>320</td>\n",
       "      <td>132</td>\n",
       "      <td>60</td>\n",
       "      <td>40</td>\n",
       "      <td>31</td>\n",
       "      <td>24</td>\n",
       "      <td>42</td>\n",
       "      <td>70</td>\n",
       "      <td>20</td>\n",
       "      <td>73</td>\n",
       "      <td>18.0</td>\n",
       "    </tr>\n",
       "    <tr>\n",
       "      <th>1950</th>\n",
       "      <td>540</td>\n",
       "      <td>340</td>\n",
       "      <td>151</td>\n",
       "      <td>70</td>\n",
       "      <td>33</td>\n",
       "      <td>41</td>\n",
       "      <td>27</td>\n",
       "      <td>44</td>\n",
       "      <td>70</td>\n",
       "      <td>27</td>\n",
       "      <td>83</td>\n",
       "      <td>19.0</td>\n",
       "    </tr>\n",
       "    <tr>\n",
       "      <th>1960</th>\n",
       "      <td>660</td>\n",
       "      <td>450</td>\n",
       "      <td>179</td>\n",
       "      <td>90</td>\n",
       "      <td>70</td>\n",
       "      <td>70</td>\n",
       "      <td>37</td>\n",
       "      <td>50</td>\n",
       "      <td>80</td>\n",
       "      <td>37</td>\n",
       "      <td>94</td>\n",
       "      <td>22.0</td>\n",
       "    </tr>\n",
       "    <tr>\n",
       "      <th>1970</th>\n",
       "      <td>818</td>\n",
       "      <td>550</td>\n",
       "      <td>203</td>\n",
       "      <td>115</td>\n",
       "      <td>93</td>\n",
       "      <td>95</td>\n",
       "      <td>56</td>\n",
       "      <td>66</td>\n",
       "      <td>105</td>\n",
       "      <td>50</td>\n",
       "      <td>104</td>\n",
       "      <td>30.0</td>\n",
       "    </tr>\n",
       "    <tr>\n",
       "      <th>1980</th>\n",
       "      <td>987</td>\n",
       "      <td>700</td>\n",
       "      <td>227</td>\n",
       "      <td>150</td>\n",
       "      <td>106</td>\n",
       "      <td>121</td>\n",
       "      <td>70</td>\n",
       "      <td>84</td>\n",
       "      <td>125</td>\n",
       "      <td>63</td>\n",
       "      <td>117</td>\n",
       "      <td>42.0</td>\n",
       "    </tr>\n",
       "    <tr>\n",
       "      <th>1990</th>\n",
       "      <td>1143</td>\n",
       "      <td>870</td>\n",
       "      <td>249</td>\n",
       "      <td>180</td>\n",
       "      <td>132</td>\n",
       "      <td>149</td>\n",
       "      <td>95</td>\n",
       "      <td>105</td>\n",
       "      <td>147</td>\n",
       "      <td>82</td>\n",
       "      <td>123</td>\n",
       "      <td>50.0</td>\n",
       "    </tr>\n",
       "    <tr>\n",
       "      <th>2000</th>\n",
       "      <td>1265</td>\n",
       "      <td>1041</td>\n",
       "      <td>282</td>\n",
       "      <td>210</td>\n",
       "      <td>146</td>\n",
       "      <td>174</td>\n",
       "      <td>122</td>\n",
       "      <td>130</td>\n",
       "      <td>146</td>\n",
       "      <td>97</td>\n",
       "      <td>127</td>\n",
       "      <td>66.0</td>\n",
       "    </tr>\n",
       "    <tr>\n",
       "      <th>2010</th>\n",
       "      <td>1343</td>\n",
       "      <td>1224</td>\n",
       "      <td>309</td>\n",
       "      <td>242</td>\n",
       "      <td>175</td>\n",
       "      <td>195</td>\n",
       "      <td>158</td>\n",
       "      <td>148</td>\n",
       "      <td>143</td>\n",
       "      <td>112</td>\n",
       "      <td>128</td>\n",
       "      <td>84.0</td>\n",
       "    </tr>\n",
       "    <tr>\n",
       "      <th>2020</th>\n",
       "      <td>1402</td>\n",
       "      <td>1380</td>\n",
       "      <td>331</td>\n",
       "      <td>273</td>\n",
       "      <td>220</td>\n",
       "      <td>212</td>\n",
       "      <td>206</td>\n",
       "      <td>164</td>\n",
       "      <td>146</td>\n",
       "      <td>128</td>\n",
       "      <td>126</td>\n",
       "      <td>115.0</td>\n",
       "    </tr>\n",
       "  </tbody>\n",
       "</table>\n",
       "</div>"
      ],
      "text/plain": [
       "Country  China  India  United States  Indonesia  Pakistan  Brazil  Nigeria  \\\n",
       "Year                                                                         \n",
       "1900       400    250             76         40        30      17       18   \n",
       "1910       400    260             92         45        32      20       19   \n",
       "1920       430    280            106         50        35      23       20   \n",
       "1930       480    300            123         55        38      28       22   \n",
       "1940       500    320            132         60        40      31       24   \n",
       "1950       540    340            151         70        33      41       27   \n",
       "1960       660    450            179         90        70      70       37   \n",
       "1970       818    550            203        115        93      95       56   \n",
       "1980       987    700            227        150       106     121       70   \n",
       "1990      1143    870            249        180       132     149       95   \n",
       "2000      1265   1041            282        210       146     174      122   \n",
       "2010      1343   1224            309        242       175     195      158   \n",
       "2020      1402   1380            331        273       220     212      206   \n",
       "\n",
       "Country  Bangladesh  Russia  Mexico  Japan  Ethiopia  \n",
       "Year                                                  \n",
       "1900             30      40      13     44      16.0  \n",
       "1910             32      45      14     50      16.5  \n",
       "1920             35      50      15     55      17.0  \n",
       "1930             38      60      18     64      17.5  \n",
       "1940             42      70      20     73      18.0  \n",
       "1950             44      70      27     83      19.0  \n",
       "1960             50      80      37     94      22.0  \n",
       "1970             66     105      50    104      30.0  \n",
       "1980             84     125      63    117      42.0  \n",
       "1990            105     147      82    123      50.0  \n",
       "2000            130     146      97    127      66.0  \n",
       "2010            148     143     112    128      84.0  \n",
       "2020            164     146     128    126     115.0  "
      ]
     },
     "execution_count": 62,
     "metadata": {},
     "output_type": "execute_result"
    }
   ],
   "source": [
    "#  In addition to being array-like, an Index also behaves like a fixed-size set\n",
    "dframe4"
   ]
  },
  {
   "cell_type": "code",
   "execution_count": 63,
   "id": "54970156-55eb-4caa-a7a4-fd6dd1e31289",
   "metadata": {},
   "outputs": [
    {
     "data": {
      "text/plain": [
       "Index(['China', 'India', 'United States', 'Indonesia', 'Pakistan', 'Brazil',\n",
       "       'Nigeria', 'Bangladesh', 'Russia', 'Mexico', 'Japan', 'Ethiopia'],\n",
       "      dtype='object', name='Country')"
      ]
     },
     "execution_count": 63,
     "metadata": {},
     "output_type": "execute_result"
    }
   ],
   "source": [
    "# Accessing columns names\n",
    "dframe4.columns"
   ]
  },
  {
   "cell_type": "code",
   "execution_count": 64,
   "id": "ad085bf0-d26c-4a00-b326-81408280ba64",
   "metadata": {},
   "outputs": [
    {
     "name": "stdout",
     "output_type": "stream",
     "text": [
      "False\n",
      "True\n"
     ]
    }
   ],
   "source": [
    "# We can check if a specific column name is in the index\n",
    "print('Germany' in dframe4.columns)   # False\n",
    "print('Ethiopia' in dframe4.columns)  # True"
   ]
  },
  {
   "cell_type": "code",
   "execution_count": 65,
   "id": "529692ac-6c33-4ee6-b0a2-e2124c47e7d6",
   "metadata": {},
   "outputs": [
    {
     "data": {
      "text/plain": [
       "Index([1900, 1910, 1920, 1930, 1940, 1950, 1960, 1970, 1980, 1990, 2000, 2010,\n",
       "       2020],\n",
       "      dtype='int64', name='Year')"
      ]
     },
     "execution_count": 65,
     "metadata": {},
     "output_type": "execute_result"
    }
   ],
   "source": [
    "# Accessing row lables\n",
    "dframe4.index"
   ]
  },
  {
   "cell_type": "code",
   "execution_count": 66,
   "id": "4491ad5e-d667-4d3c-8739-ae564e709e22",
   "metadata": {},
   "outputs": [
    {
     "name": "stdout",
     "output_type": "stream",
     "text": [
      "True\n",
      "False\n"
     ]
    }
   ],
   "source": [
    "# We can check if a spacific row index is in a row lables\n",
    "print(1950 in dframe4.index)    # True\n",
    "print(1890 in dframe4.index)    # False"
   ]
  },
  {
   "cell_type": "code",
   "execution_count": 67,
   "id": "ab49aa56-dc57-4584-b5d1-f549cdb8947f",
   "metadata": {},
   "outputs": [
    {
     "data": {
      "text/plain": [
       "Index(['A', 'B', 'A', 'C', 'B'], dtype='object')"
      ]
     },
     "execution_count": 67,
     "metadata": {},
     "output_type": "execute_result"
    }
   ],
   "source": [
    "# Unlike Python sets, a pandas Index can contain duplicate labels:\n",
    "i = pd.Index(['A', 'B', 'A', 'C', 'B'])\n",
    "i"
   ]
  },
  {
   "cell_type": "code",
   "execution_count": 68,
   "id": "252768b3-8eed-48c6-9df8-1eab63616e01",
   "metadata": {},
   "outputs": [
    {
     "data": {
      "text/plain": [
       "A    1\n",
       "B    2\n",
       "A    3\n",
       "C    4\n",
       "B    5\n",
       "dtype: int64"
      ]
     },
     "execution_count": 68,
     "metadata": {},
     "output_type": "execute_result"
    }
   ],
   "source": [
    "# Selections with duplicate labels will select all occurrences of that label.\n",
    "s = pd.Series([1, 2, 3, 4, 5], index = i)\n",
    "s"
   ]
  },
  {
   "cell_type": "code",
   "execution_count": 69,
   "id": "07680915-8c80-4ac5-b1e7-12cb3445209c",
   "metadata": {},
   "outputs": [
    {
     "data": {
      "text/plain": [
       "A    1\n",
       "A    3\n",
       "dtype: int64"
      ]
     },
     "execution_count": 69,
     "metadata": {},
     "output_type": "execute_result"
    }
   ],
   "source": [
    "s['A']"
   ]
  },
  {
   "cell_type": "markdown",
   "id": "f734566a-605f-4eb5-9933-4c4fa87e7356",
   "metadata": {},
   "source": [
    "#### some of index properties and methods"
   ]
  },
  {
   "cell_type": "code",
   "execution_count": 70,
   "id": "82b22800-0305-4cd6-83cf-dcdf30cf5f4e",
   "metadata": {},
   "outputs": [],
   "source": [
    "# index.values: returns the underlying array of the index\n",
    "# index.name: sets or gets the name of the index\n",
    "# index.names: For MultiIndex, returns a list of index names.\n",
    "# index.dtype: returns the data type of the index elements\n",
    "# index.size: returns the number of the index elements\n",
    "# indes.shape: returns the shape of the index\n",
    "# index.nunique(): returns the number of unique elements\n",
    "\n",
    "\n",
    "# index.append(): appends another index or array to the current indes\n",
    "# index.insert(): insert a new element to a specific position\n",
    "# index.delete(): deletes an element at a given position\n",
    "# index.drop(): Drops specific labels from the index.\n",
    "# index.is_unique: Checks if all elements are unique. \n",
    "# index.is_monotonic_increasing/decreasing: Checks if the index is sorted in increasing or decreasing order.\n",
    "# index.duplicated(): Returns a boolean array indicating duplicate labels.\n",
    "# index.get_loc(): Returns the integer location of a label.\n",
    "# index.to_list(): Converts the index to a list.\n",
    "# index.map(): Applies a function to each element of the index.\n",
    "# index.intersection(): Finds the common elements between two indexes.\n",
    "# index.union(): Combines two indexes, keeping unique elements\n",
    "# index.difference(): Finds elements in one index that are not in another.\n",
    "# index.sort_values(): Sorts the index values\n",
    "# index.astype(): Changes the data type of the index"
   ]
  },
  {
   "cell_type": "code",
   "execution_count": 71,
   "id": "c5047154-04cc-4078-b949-e089b5d3b2a5",
   "metadata": {},
   "outputs": [
    {
     "data": {
      "text/plain": [
       "A    1\n",
       "B    2\n",
       "A    3\n",
       "C    4\n",
       "B    5\n",
       "dtype: int64"
      ]
     },
     "execution_count": 71,
     "metadata": {},
     "output_type": "execute_result"
    }
   ],
   "source": [
    "s"
   ]
  },
  {
   "cell_type": "code",
   "execution_count": null,
   "id": "5cc8748c-af20-4fcf-b283-4639f8aa2bfc",
   "metadata": {},
   "outputs": [],
   "source": []
  },
  {
   "cell_type": "markdown",
   "id": "997daeb1-f209-488c-96f7-9fc1a2bf40b4",
   "metadata": {},
   "source": [
    "# Essential Functionality"
   ]
  },
  {
   "cell_type": "markdown",
   "id": "9866ef57-0a72-4959-83b1-9fa28de270c3",
   "metadata": {},
   "source": [
    "#### Reindexing\n",
    "An important method on pandas objects is reindex, which means to create a new object with the values rearranged to align with the new index."
   ]
  },
  {
   "cell_type": "code",
   "execution_count": 72,
   "id": "88291306-3dc6-4dc8-b0f8-bbe7cb9726c1",
   "metadata": {},
   "outputs": [
    {
     "data": {
      "text/plain": [
       "c     2.4\n",
       "a     5.7\n",
       "d     8.1\n",
       "e    14.8\n",
       "b    22.5\n",
       "dtype: float64"
      ]
     },
     "execution_count": 72,
     "metadata": {},
     "output_type": "execute_result"
    }
   ],
   "source": [
    "s = pd.Series([2.4, 5.7, 8.1, 14.8, 22.5], index = ['c', 'a', 'd', 'e', 'b'])\n",
    "s"
   ]
  },
  {
   "cell_type": "code",
   "execution_count": 73,
   "id": "69c25101-3f8f-4f44-b2a9-dca703da6563",
   "metadata": {},
   "outputs": [
    {
     "data": {
      "text/plain": [
       "a     5.7\n",
       "b    22.5\n",
       "c     2.4\n",
       "d     8.1\n",
       "e    14.8\n",
       "f     NaN\n",
       "dtype: float64"
      ]
     },
     "execution_count": 73,
     "metadata": {},
     "output_type": "execute_result"
    }
   ],
   "source": [
    "# Calling reindex on this Series rearranges the data according to the new index,\n",
    "# introducing missing values if any index values were not already present:\n",
    "s1 = s.reindex(['a', 'b', 'c', 'd', 'e', 'f'])\n",
    "s1"
   ]
  },
  {
   "cell_type": "code",
   "execution_count": 74,
   "id": "52abd34c-eab8-424f-8648-61bdd1c9bddd",
   "metadata": {},
   "outputs": [
    {
     "data": {
      "text/plain": [
       "1      Red\n",
       "3    Green\n",
       "5     Blue\n",
       "dtype: object"
      ]
     },
     "execution_count": 74,
     "metadata": {},
     "output_type": "execute_result"
    }
   ],
   "source": [
    "s2 = pd.Series(['Red', 'Green', 'Blue'], index = [1, 3, 5])\n",
    "s2"
   ]
  },
  {
   "cell_type": "code",
   "execution_count": 75,
   "id": "f7f8d592-3e85-4ee1-a8ba-5e3f1c8810f1",
   "metadata": {},
   "outputs": [
    {
     "data": {
      "text/plain": [
       "1      Red\n",
       "2      Red\n",
       "3    Green\n",
       "4    Green\n",
       "5     Blue\n",
       "6     Blue\n",
       "7     Blue\n",
       "8     Blue\n",
       "dtype: object"
      ]
     },
     "execution_count": 75,
     "metadata": {},
     "output_type": "execute_result"
    }
   ],
   "source": [
    "# filling or interpolate some values we can use methods like 'ffill'\n",
    "s3 = s2.reindex(np.arange(1, 9), method = 'ffill')\n",
    "s3"
   ]
  },
  {
   "cell_type": "code",
   "execution_count": 76,
   "id": "b647a0ec-3d36-48b0-b88d-49b47390ebfc",
   "metadata": {},
   "outputs": [
    {
     "data": {
      "text/html": [
       "<div>\n",
       "<style scoped>\n",
       "    .dataframe tbody tr th:only-of-type {\n",
       "        vertical-align: middle;\n",
       "    }\n",
       "\n",
       "    .dataframe tbody tr th {\n",
       "        vertical-align: top;\n",
       "    }\n",
       "\n",
       "    .dataframe thead th {\n",
       "        text-align: right;\n",
       "    }\n",
       "</style>\n",
       "<table border=\"1\" class=\"dataframe\">\n",
       "  <thead>\n",
       "    <tr style=\"text-align: right;\">\n",
       "      <th></th>\n",
       "      <th>Messi</th>\n",
       "      <th>Ronaldo</th>\n",
       "      <th>Neymar</th>\n",
       "    </tr>\n",
       "  </thead>\n",
       "  <tbody>\n",
       "    <tr>\n",
       "      <th>ballon d'or</th>\n",
       "      <td>8</td>\n",
       "      <td>5</td>\n",
       "      <td>0</td>\n",
       "    </tr>\n",
       "    <tr>\n",
       "      <th>World cup</th>\n",
       "      <td>1</td>\n",
       "      <td>0</td>\n",
       "      <td>0</td>\n",
       "    </tr>\n",
       "    <tr>\n",
       "      <th>UCL</th>\n",
       "      <td>4</td>\n",
       "      <td>5</td>\n",
       "      <td>1</td>\n",
       "    </tr>\n",
       "  </tbody>\n",
       "</table>\n",
       "</div>"
      ],
      "text/plain": [
       "             Messi  Ronaldo  Neymar\n",
       "ballon d'or      8        5       0\n",
       "World cup        1        0       0\n",
       "UCL              4        5       1"
      ]
     },
     "execution_count": 76,
     "metadata": {},
     "output_type": "execute_result"
    }
   ],
   "source": [
    "# With DataFrame, reindex can alter the (row) index, columns, or both. When passed\n",
    "# only a sequence, it reindexes the rows in the result:\n",
    "df = pd.DataFrame(np.array([[8, 5, 0], [1, 0, 0], [4, 5, 1]]), columns = ['Messi', 'Ronaldo', 'Neymar'], \n",
    "                  index = [\"ballon d'or\", 'World cup', 'UCL'])\n",
    "df"
   ]
  },
  {
   "cell_type": "code",
   "execution_count": 77,
   "id": "fa4ea7d6-f62e-460c-9d5e-bae58b780707",
   "metadata": {},
   "outputs": [
    {
     "data": {
      "text/html": [
       "<div>\n",
       "<style scoped>\n",
       "    .dataframe tbody tr th:only-of-type {\n",
       "        vertical-align: middle;\n",
       "    }\n",
       "\n",
       "    .dataframe tbody tr th {\n",
       "        vertical-align: top;\n",
       "    }\n",
       "\n",
       "    .dataframe thead th {\n",
       "        text-align: right;\n",
       "    }\n",
       "</style>\n",
       "<table border=\"1\" class=\"dataframe\">\n",
       "  <thead>\n",
       "    <tr style=\"text-align: right;\">\n",
       "      <th></th>\n",
       "      <th>Messi</th>\n",
       "      <th>Ronaldo</th>\n",
       "      <th>Neymar</th>\n",
       "    </tr>\n",
       "  </thead>\n",
       "  <tbody>\n",
       "    <tr>\n",
       "      <th>World cup</th>\n",
       "      <td>1</td>\n",
       "      <td>0</td>\n",
       "      <td>0</td>\n",
       "    </tr>\n",
       "    <tr>\n",
       "      <th>UCL</th>\n",
       "      <td>4</td>\n",
       "      <td>5</td>\n",
       "      <td>1</td>\n",
       "    </tr>\n",
       "    <tr>\n",
       "      <th>ballon d'or</th>\n",
       "      <td>8</td>\n",
       "      <td>5</td>\n",
       "      <td>0</td>\n",
       "    </tr>\n",
       "  </tbody>\n",
       "</table>\n",
       "</div>"
      ],
      "text/plain": [
       "             Messi  Ronaldo  Neymar\n",
       "World cup        1        0       0\n",
       "UCL              4        5       1\n",
       "ballon d'or      8        5       0"
      ]
     },
     "execution_count": 77,
     "metadata": {},
     "output_type": "execute_result"
    }
   ],
   "source": [
    "# Reindexing the rows\n",
    "i = ['World cup', 'UCL', \"ballon d'or\"]\n",
    "df.reindex(index = i)"
   ]
  },
  {
   "cell_type": "code",
   "execution_count": 78,
   "id": "d8f9bdeb-1cfe-4b7c-bc41-84027cdd6dcf",
   "metadata": {},
   "outputs": [
    {
     "data": {
      "text/html": [
       "<div>\n",
       "<style scoped>\n",
       "    .dataframe tbody tr th:only-of-type {\n",
       "        vertical-align: middle;\n",
       "    }\n",
       "\n",
       "    .dataframe tbody tr th {\n",
       "        vertical-align: top;\n",
       "    }\n",
       "\n",
       "    .dataframe thead th {\n",
       "        text-align: right;\n",
       "    }\n",
       "</style>\n",
       "<table border=\"1\" class=\"dataframe\">\n",
       "  <thead>\n",
       "    <tr style=\"text-align: right;\">\n",
       "      <th></th>\n",
       "      <th>Neymar</th>\n",
       "      <th>Messi</th>\n",
       "      <th>Ronaldo</th>\n",
       "    </tr>\n",
       "  </thead>\n",
       "  <tbody>\n",
       "    <tr>\n",
       "      <th>ballon d'or</th>\n",
       "      <td>0</td>\n",
       "      <td>8</td>\n",
       "      <td>5</td>\n",
       "    </tr>\n",
       "    <tr>\n",
       "      <th>World cup</th>\n",
       "      <td>0</td>\n",
       "      <td>1</td>\n",
       "      <td>0</td>\n",
       "    </tr>\n",
       "    <tr>\n",
       "      <th>UCL</th>\n",
       "      <td>1</td>\n",
       "      <td>4</td>\n",
       "      <td>5</td>\n",
       "    </tr>\n",
       "  </tbody>\n",
       "</table>\n",
       "</div>"
      ],
      "text/plain": [
       "             Neymar  Messi  Ronaldo\n",
       "ballon d'or       0      8        5\n",
       "World cup         0      1        0\n",
       "UCL               1      4        5"
      ]
     },
     "execution_count": 78,
     "metadata": {},
     "output_type": "execute_result"
    }
   ],
   "source": [
    "# Reindexing the columns\n",
    "c = ['Neymar', 'Messi', 'Ronaldo']\n",
    "df.reindex(columns = c)"
   ]
  },
  {
   "cell_type": "code",
   "execution_count": 79,
   "id": "f857c255-702c-4bf8-b5c6-4786a8f51394",
   "metadata": {},
   "outputs": [
    {
     "data": {
      "text/html": [
       "<div>\n",
       "<style scoped>\n",
       "    .dataframe tbody tr th:only-of-type {\n",
       "        vertical-align: middle;\n",
       "    }\n",
       "\n",
       "    .dataframe tbody tr th {\n",
       "        vertical-align: top;\n",
       "    }\n",
       "\n",
       "    .dataframe thead th {\n",
       "        text-align: right;\n",
       "    }\n",
       "</style>\n",
       "<table border=\"1\" class=\"dataframe\">\n",
       "  <thead>\n",
       "    <tr style=\"text-align: right;\">\n",
       "      <th></th>\n",
       "      <th>Neymar</th>\n",
       "      <th>Messi</th>\n",
       "      <th>Ronaldo</th>\n",
       "    </tr>\n",
       "  </thead>\n",
       "  <tbody>\n",
       "    <tr>\n",
       "      <th>World cup</th>\n",
       "      <td>0</td>\n",
       "      <td>1</td>\n",
       "      <td>0</td>\n",
       "    </tr>\n",
       "    <tr>\n",
       "      <th>UCL</th>\n",
       "      <td>1</td>\n",
       "      <td>4</td>\n",
       "      <td>5</td>\n",
       "    </tr>\n",
       "    <tr>\n",
       "      <th>ballon d'or</th>\n",
       "      <td>0</td>\n",
       "      <td>8</td>\n",
       "      <td>5</td>\n",
       "    </tr>\n",
       "  </tbody>\n",
       "</table>\n",
       "</div>"
      ],
      "text/plain": [
       "             Neymar  Messi  Ronaldo\n",
       "World cup         0      1        0\n",
       "UCL               1      4        5\n",
       "ballon d'or       0      8        5"
      ]
     },
     "execution_count": 79,
     "metadata": {},
     "output_type": "execute_result"
    }
   ],
   "source": [
    "# Reindexing both rows and columns\n",
    "df.reindex(index = i, columns = c)"
   ]
  },
  {
   "cell_type": "raw",
   "id": "17e46a55-5751-4aad-b49e-c0d5de1b734e",
   "metadata": {},
   "source": [
    "Reindex Syntax:\n",
    "DataFrame.reindex(labels=None, index=None, columns=None, axis=None,   \n",
    "                    method=None, copy=True, level=None, fill_value=nan,   \n",
    "                    limit=None, tolerance=None)\n",
    "1. lables: New labels for the specified axis\n",
    "2. index: New row lables\n",
    "3. columns: new columns lables\n",
    "4. axis: 0 or 'index' for rows, 1 or 'columns' for columns\n",
    "5. method:\n",
    "    method for filling holes:\n",
    "        -'ffill' (forward fill)\n",
    "        -'bfill' (backward fill)\n",
    "        -None (default, leaves NaNs)\n",
    "6. copy: If True (default), returns a new object. If False, modifies in place when possible.\n",
    "7. level: For reindexing on a specific level in a MultiIndex.\n",
    "8. fill_value: Value to fill missing positions created by the reindex.\n",
    "9. limit: Maximum number of consecutive NaNs to fill when using method.\n",
    "10. tolerance: Maximum distance between the original and new labels when filling using method"
   ]
  },
  {
   "cell_type": "code",
   "execution_count": 80,
   "id": "76b3c33d-72fb-4808-a118-60c24deb1bd5",
   "metadata": {},
   "outputs": [
    {
     "data": {
      "text/html": [
       "<div>\n",
       "<style scoped>\n",
       "    .dataframe tbody tr th:only-of-type {\n",
       "        vertical-align: middle;\n",
       "    }\n",
       "\n",
       "    .dataframe tbody tr th {\n",
       "        vertical-align: top;\n",
       "    }\n",
       "\n",
       "    .dataframe thead th {\n",
       "        text-align: right;\n",
       "    }\n",
       "</style>\n",
       "<table border=\"1\" class=\"dataframe\">\n",
       "  <thead>\n",
       "    <tr style=\"text-align: right;\">\n",
       "      <th></th>\n",
       "      <th>Messi</th>\n",
       "      <th>Ronaldo</th>\n",
       "      <th>Neymar</th>\n",
       "    </tr>\n",
       "  </thead>\n",
       "  <tbody>\n",
       "    <tr>\n",
       "      <th>ballon d'or</th>\n",
       "      <td>8</td>\n",
       "      <td>5</td>\n",
       "      <td>0</td>\n",
       "    </tr>\n",
       "    <tr>\n",
       "      <th>World cup</th>\n",
       "      <td>1</td>\n",
       "      <td>0</td>\n",
       "      <td>0</td>\n",
       "    </tr>\n",
       "    <tr>\n",
       "      <th>UCL</th>\n",
       "      <td>4</td>\n",
       "      <td>5</td>\n",
       "      <td>1</td>\n",
       "    </tr>\n",
       "  </tbody>\n",
       "</table>\n",
       "</div>"
      ],
      "text/plain": [
       "             Messi  Ronaldo  Neymar\n",
       "ballon d'or      8        5       0\n",
       "World cup        1        0       0\n",
       "UCL              4        5       1"
      ]
     },
     "execution_count": 80,
     "metadata": {},
     "output_type": "execute_result"
    }
   ],
   "source": [
    "df"
   ]
  },
  {
   "cell_type": "code",
   "execution_count": 81,
   "id": "d830faf3-fa55-4eea-b084-ecb975992cd4",
   "metadata": {},
   "outputs": [
    {
     "data": {
      "text/html": [
       "<div>\n",
       "<style scoped>\n",
       "    .dataframe tbody tr th:only-of-type {\n",
       "        vertical-align: middle;\n",
       "    }\n",
       "\n",
       "    .dataframe tbody tr th {\n",
       "        vertical-align: top;\n",
       "    }\n",
       "\n",
       "    .dataframe thead th {\n",
       "        text-align: right;\n",
       "    }\n",
       "</style>\n",
       "<table border=\"1\" class=\"dataframe\">\n",
       "  <thead>\n",
       "    <tr style=\"text-align: right;\">\n",
       "      <th></th>\n",
       "      <th>Neymar</th>\n",
       "      <th>Ronaldo</th>\n",
       "      <th>Messi</th>\n",
       "    </tr>\n",
       "  </thead>\n",
       "  <tbody>\n",
       "    <tr>\n",
       "      <th>World cup</th>\n",
       "      <td>0</td>\n",
       "      <td>0</td>\n",
       "      <td>1</td>\n",
       "    </tr>\n",
       "    <tr>\n",
       "      <th>UCL</th>\n",
       "      <td>1</td>\n",
       "      <td>5</td>\n",
       "      <td>4</td>\n",
       "    </tr>\n",
       "    <tr>\n",
       "      <th>ballon d'or</th>\n",
       "      <td>0</td>\n",
       "      <td>5</td>\n",
       "      <td>8</td>\n",
       "    </tr>\n",
       "  </tbody>\n",
       "</table>\n",
       "</div>"
      ],
      "text/plain": [
       "             Neymar  Ronaldo  Messi\n",
       "World cup         0        0      1\n",
       "UCL               1        5      4\n",
       "ballon d'or       0        5      8"
      ]
     },
     "execution_count": 81,
     "metadata": {},
     "output_type": "execute_result"
    }
   ],
   "source": [
    "# reindexing using the loc operator\n",
    "df.loc[[\"World cup\", \"UCL\", \"ballon d'or\"], [\"Neymar\", \"Ronaldo\", \"Messi\"]]"
   ]
  },
  {
   "cell_type": "markdown",
   "id": "10c330ca-0908-44d5-b68c-94d9b9d9f28b",
   "metadata": {},
   "source": [
    "#### Dropping Entries from an Axis"
   ]
  },
  {
   "cell_type": "code",
   "execution_count": 82,
   "id": "2b45d450-2191-4a6d-8657-bd8ab0404ddd",
   "metadata": {},
   "outputs": [
    {
     "data": {
      "text/plain": [
       "a    0.0\n",
       "b    1.0\n",
       "c    2.0\n",
       "d    3.0\n",
       "e    4.0\n",
       "dtype: float64"
      ]
     },
     "execution_count": 82,
     "metadata": {},
     "output_type": "execute_result"
    }
   ],
   "source": [
    "# Dropping one or more entries from an axis is simple using drop method\n",
    "s = pd.Series(np.arange(5.), index = ['a', 'b', 'c', 'd', 'e'])\n",
    "s"
   ]
  },
  {
   "cell_type": "code",
   "execution_count": 83,
   "id": "fc19566c-fe18-48fa-ad0e-96af20295c0c",
   "metadata": {},
   "outputs": [
    {
     "data": {
      "text/plain": [
       "a    0.0\n",
       "b    1.0\n",
       "d    3.0\n",
       "e    4.0\n",
       "dtype: float64"
      ]
     },
     "execution_count": 83,
     "metadata": {},
     "output_type": "execute_result"
    }
   ],
   "source": [
    "# lets drop c index and create a new series with out it\n",
    "s_new = s.drop('c')\n",
    "s_new"
   ]
  },
  {
   "cell_type": "code",
   "execution_count": 84,
   "id": "615ee9ad-54d8-415e-88f7-6880a81a365f",
   "metadata": {},
   "outputs": [
    {
     "data": {
      "text/plain": [
       "a    0.0\n",
       "b    1.0\n",
       "e    4.0\n",
       "dtype: float64"
      ]
     },
     "execution_count": 84,
     "metadata": {},
     "output_type": "execute_result"
    }
   ],
   "source": [
    "# drop both 'c' and 'd'\n",
    "s.drop(['c', 'd'])"
   ]
  },
  {
   "cell_type": "code",
   "execution_count": 85,
   "id": "d97f7014-1fb1-4515-8795-1edff7e50c73",
   "metadata": {},
   "outputs": [
    {
     "data": {
      "text/html": [
       "<div>\n",
       "<style scoped>\n",
       "    .dataframe tbody tr th:only-of-type {\n",
       "        vertical-align: middle;\n",
       "    }\n",
       "\n",
       "    .dataframe tbody tr th {\n",
       "        vertical-align: top;\n",
       "    }\n",
       "\n",
       "    .dataframe thead th {\n",
       "        text-align: right;\n",
       "    }\n",
       "</style>\n",
       "<table border=\"1\" class=\"dataframe\">\n",
       "  <thead>\n",
       "    <tr style=\"text-align: right;\">\n",
       "      <th></th>\n",
       "      <th>Manchester united</th>\n",
       "      <th>Liverpool</th>\n",
       "      <th>Arsenal</th>\n",
       "      <th>Manchester city</th>\n",
       "    </tr>\n",
       "  </thead>\n",
       "  <tbody>\n",
       "    <tr>\n",
       "      <th>Premier League</th>\n",
       "      <td>21</td>\n",
       "      <td>19</td>\n",
       "      <td>13</td>\n",
       "      <td>9</td>\n",
       "    </tr>\n",
       "    <tr>\n",
       "      <th>Fa Cup</th>\n",
       "      <td>12</td>\n",
       "      <td>8</td>\n",
       "      <td>14</td>\n",
       "      <td>6</td>\n",
       "    </tr>\n",
       "    <tr>\n",
       "      <th>UCL</th>\n",
       "      <td>3</td>\n",
       "      <td>6</td>\n",
       "      <td>0</td>\n",
       "      <td>1</td>\n",
       "    </tr>\n",
       "    <tr>\n",
       "      <th>EFL Cup</th>\n",
       "      <td>6</td>\n",
       "      <td>9</td>\n",
       "      <td>2</td>\n",
       "      <td>8</td>\n",
       "    </tr>\n",
       "  </tbody>\n",
       "</table>\n",
       "</div>"
      ],
      "text/plain": [
       "                 Manchester united  Liverpool  Arsenal  Manchester city\n",
       "Premier League                  21         19       13                9\n",
       "Fa Cup                          12          8       14                6\n",
       "UCL                              3          6        0                1\n",
       "EFL Cup                          6          9        2                8"
      ]
     },
     "execution_count": 85,
     "metadata": {},
     "output_type": "execute_result"
    }
   ],
   "source": [
    "# With DataFrame, index values can be deleted from either axis.\n",
    "df = pd.DataFrame([[21, 19, 13, 9], [12, 8, 14, 6], [3, 6, 0, 1], [6, 9, 2, 8]], \n",
    "                  columns = ['Manchester united', 'Liverpool', 'Arsenal', 'Manchester city'],\n",
    "                  index = ['Premier League ', 'Fa Cup', 'UCL', 'EFL Cup']\n",
    "                 )\n",
    "df"
   ]
  },
  {
   "cell_type": "code",
   "execution_count": 86,
   "id": "eb1e1cfb-69d4-46c1-a381-402647353200",
   "metadata": {},
   "outputs": [
    {
     "data": {
      "text/html": [
       "<div>\n",
       "<style scoped>\n",
       "    .dataframe tbody tr th:only-of-type {\n",
       "        vertical-align: middle;\n",
       "    }\n",
       "\n",
       "    .dataframe tbody tr th {\n",
       "        vertical-align: top;\n",
       "    }\n",
       "\n",
       "    .dataframe thead th {\n",
       "        text-align: right;\n",
       "    }\n",
       "</style>\n",
       "<table border=\"1\" class=\"dataframe\">\n",
       "  <thead>\n",
       "    <tr style=\"text-align: right;\">\n",
       "      <th></th>\n",
       "      <th>Manchester united</th>\n",
       "      <th>Liverpool</th>\n",
       "      <th>Arsenal</th>\n",
       "      <th>Manchester city</th>\n",
       "    </tr>\n",
       "  </thead>\n",
       "  <tbody>\n",
       "    <tr>\n",
       "      <th>Premier League</th>\n",
       "      <td>21</td>\n",
       "      <td>19</td>\n",
       "      <td>13</td>\n",
       "      <td>9</td>\n",
       "    </tr>\n",
       "    <tr>\n",
       "      <th>Fa Cup</th>\n",
       "      <td>12</td>\n",
       "      <td>8</td>\n",
       "      <td>14</td>\n",
       "      <td>6</td>\n",
       "    </tr>\n",
       "    <tr>\n",
       "      <th>UCL</th>\n",
       "      <td>3</td>\n",
       "      <td>6</td>\n",
       "      <td>0</td>\n",
       "      <td>1</td>\n",
       "    </tr>\n",
       "  </tbody>\n",
       "</table>\n",
       "</div>"
      ],
      "text/plain": [
       "                 Manchester united  Liverpool  Arsenal  Manchester city\n",
       "Premier League                  21         19       13                9\n",
       "Fa Cup                          12          8       14                6\n",
       "UCL                              3          6        0                1"
      ]
     },
     "execution_count": 86,
     "metadata": {},
     "output_type": "execute_result"
    }
   ],
   "source": [
    "# dropping row lables\n",
    "df.drop(index = 'EFL Cup')"
   ]
  },
  {
   "cell_type": "code",
   "execution_count": 87,
   "id": "63b86c7d-e15d-412d-979a-ef7ac916a57b",
   "metadata": {},
   "outputs": [
    {
     "data": {
      "text/html": [
       "<div>\n",
       "<style scoped>\n",
       "    .dataframe tbody tr th:only-of-type {\n",
       "        vertical-align: middle;\n",
       "    }\n",
       "\n",
       "    .dataframe tbody tr th {\n",
       "        vertical-align: top;\n",
       "    }\n",
       "\n",
       "    .dataframe thead th {\n",
       "        text-align: right;\n",
       "    }\n",
       "</style>\n",
       "<table border=\"1\" class=\"dataframe\">\n",
       "  <thead>\n",
       "    <tr style=\"text-align: right;\">\n",
       "      <th></th>\n",
       "      <th>Manchester united</th>\n",
       "      <th>Liverpool</th>\n",
       "      <th>Arsenal</th>\n",
       "    </tr>\n",
       "  </thead>\n",
       "  <tbody>\n",
       "    <tr>\n",
       "      <th>Premier League</th>\n",
       "      <td>21</td>\n",
       "      <td>19</td>\n",
       "      <td>13</td>\n",
       "    </tr>\n",
       "    <tr>\n",
       "      <th>Fa Cup</th>\n",
       "      <td>12</td>\n",
       "      <td>8</td>\n",
       "      <td>14</td>\n",
       "    </tr>\n",
       "    <tr>\n",
       "      <th>UCL</th>\n",
       "      <td>3</td>\n",
       "      <td>6</td>\n",
       "      <td>0</td>\n",
       "    </tr>\n",
       "    <tr>\n",
       "      <th>EFL Cup</th>\n",
       "      <td>6</td>\n",
       "      <td>9</td>\n",
       "      <td>2</td>\n",
       "    </tr>\n",
       "  </tbody>\n",
       "</table>\n",
       "</div>"
      ],
      "text/plain": [
       "                 Manchester united  Liverpool  Arsenal\n",
       "Premier League                  21         19       13\n",
       "Fa Cup                          12          8       14\n",
       "UCL                              3          6        0\n",
       "EFL Cup                          6          9        2"
      ]
     },
     "execution_count": 87,
     "metadata": {},
     "output_type": "execute_result"
    }
   ],
   "source": [
    "# Dropping columns lables\n",
    "df.drop(columns = 'Manchester city')"
   ]
  },
  {
   "cell_type": "markdown",
   "id": "342cd118-7664-4879-99bf-30c935df4792",
   "metadata": {},
   "source": [
    "#### Indexing, Selection, and Filtering"
   ]
  },
  {
   "cell_type": "markdown",
   "id": "a90f8a9c-fdf1-47b6-924f-73cda92e22bf",
   "metadata": {},
   "source": [
    "#### 1. Indexing "
   ]
  },
  {
   "cell_type": "code",
   "execution_count": 88,
   "id": "bcb108fc-b31f-4c6a-bc6a-a5742a9db808",
   "metadata": {},
   "outputs": [
    {
     "data": {
      "text/plain": [
       "a    0\n",
       "b    1\n",
       "c    2\n",
       "d    3\n",
       "e    4\n",
       "dtype: int64"
      ]
     },
     "execution_count": 88,
     "metadata": {},
     "output_type": "execute_result"
    }
   ],
   "source": [
    "# Indexing refers to the process of accessing specific rows, columns, or elements from a \n",
    "# DataFrame or Series using labels or integer positions.\n",
    "s = pd.Series(np.arange(5), index = ['a', 'b', 'c', 'd', 'e'])\n",
    "s"
   ]
  },
  {
   "cell_type": "code",
   "execution_count": 89,
   "id": "715710db-a40a-4057-b86a-6454f3bf8894",
   "metadata": {},
   "outputs": [
    {
     "data": {
      "text/plain": [
       "np.int64(2)"
      ]
     },
     "execution_count": 89,
     "metadata": {},
     "output_type": "execute_result"
    }
   ],
   "source": [
    "# indexing using lables\n",
    "s['c']     # 2"
   ]
  },
  {
   "cell_type": "code",
   "execution_count": 90,
   "id": "4a810802-fc5b-4164-a9b0-9e1236e71887",
   "metadata": {},
   "outputs": [
    {
     "data": {
      "text/plain": [
       "np.int64(3)"
      ]
     },
     "execution_count": 90,
     "metadata": {},
     "output_type": "execute_result"
    }
   ],
   "source": [
    "# indexing using integers iloc operator\n",
    "s.iloc[3]"
   ]
  },
  {
   "cell_type": "code",
   "execution_count": 91,
   "id": "1998682a-72e3-48a3-bac2-edfb019c580f",
   "metadata": {},
   "outputs": [
    {
     "data": {
      "text/plain": [
       "c    2\n",
       "d    3\n",
       "dtype: int64"
      ]
     },
     "execution_count": 91,
     "metadata": {},
     "output_type": "execute_result"
    }
   ],
   "source": [
    "# slicing\n",
    "s[2:4]    # or # s.iloc[2:4]"
   ]
  },
  {
   "cell_type": "code",
   "execution_count": 92,
   "id": "a9b80610-2f4c-4b71-9255-3839d4e9a0d2",
   "metadata": {},
   "outputs": [
    {
     "data": {
      "text/plain": [
       "b    1\n",
       "a    0\n",
       "d    3\n",
       "dtype: int64"
      ]
     },
     "execution_count": 92,
     "metadata": {},
     "output_type": "execute_result"
    }
   ],
   "source": [
    "# accessing multiple values\n",
    "s[['b', 'a', 'd']]"
   ]
  },
  {
   "cell_type": "code",
   "execution_count": 93,
   "id": "7ce0a078-7278-4fc9-acb1-d0b25a91168b",
   "metadata": {},
   "outputs": [
    {
     "data": {
      "text/plain": [
       "b    1\n",
       "d    3\n",
       "c    2\n",
       "dtype: int64"
      ]
     },
     "execution_count": 93,
     "metadata": {},
     "output_type": "execute_result"
    }
   ],
   "source": [
    "# accessing multiple values using iloc operator\n",
    "s.iloc[[1, 3, 2]]"
   ]
  },
  {
   "cell_type": "code",
   "execution_count": 94,
   "id": "3c5499ee-604a-448b-9278-037c89ddfcea",
   "metadata": {},
   "outputs": [
    {
     "data": {
      "text/plain": [
       "d    3\n",
       "e    4\n",
       "dtype: int64"
      ]
     },
     "execution_count": 94,
     "metadata": {},
     "output_type": "execute_result"
    }
   ],
   "source": [
    "# filtering values\n",
    "s[s > 2]"
   ]
  },
  {
   "cell_type": "code",
   "execution_count": 95,
   "id": "f257c896-c9e5-4a25-8479-5183737a941b",
   "metadata": {},
   "outputs": [
    {
     "data": {
      "text/plain": [
       "np.int64(1)"
      ]
     },
     "execution_count": 95,
     "metadata": {},
     "output_type": "execute_result"
    }
   ],
   "source": [
    "# But the preferred way to select index values by lables is with the special loc operator\n",
    "s.loc['b']"
   ]
  },
  {
   "cell_type": "code",
   "execution_count": 96,
   "id": "6b9076f2-04a9-4729-936c-7f8288fd9caa",
   "metadata": {},
   "outputs": [
    {
     "data": {
      "text/plain": [
       "b    1\n",
       "c    2\n",
       "e    4\n",
       "dtype: int64"
      ]
     },
     "execution_count": 96,
     "metadata": {},
     "output_type": "execute_result"
    }
   ],
   "source": [
    "s.loc[['b', 'c', 'e']]"
   ]
  },
  {
   "cell_type": "code",
   "execution_count": 97,
   "id": "86f60976-b414-4d50-b7d6-2d3ab3f673fb",
   "metadata": {},
   "outputs": [
    {
     "data": {
      "text/plain": [
       "a    0\n",
       "b    1\n",
       "c    2\n",
       "d    3\n",
       "e    4\n",
       "dtype: int64"
      ]
     },
     "execution_count": 97,
     "metadata": {},
     "output_type": "execute_result"
    }
   ],
   "source": [
    "# slicing using loc operator\n",
    "# it is different from normal python slicing in a way the endpoin is inclusive\n",
    "s"
   ]
  },
  {
   "cell_type": "code",
   "execution_count": 98,
   "id": "a411c732-26e5-4dc8-81b9-f603de38d673",
   "metadata": {},
   "outputs": [
    {
     "data": {
      "text/plain": [
       "b    1\n",
       "c    2\n",
       "d    3\n",
       "dtype: int64"
      ]
     },
     "execution_count": 98,
     "metadata": {},
     "output_type": "execute_result"
    }
   ],
   "source": [
    "s.loc['b':'d']"
   ]
  },
  {
   "cell_type": "code",
   "execution_count": 99,
   "id": "b41dbf98-4637-4324-ab87-e76188515ef3",
   "metadata": {},
   "outputs": [
    {
     "data": {
      "text/plain": [
       "a     0\n",
       "b    10\n",
       "c    10\n",
       "d    10\n",
       "e     4\n",
       "dtype: int64"
      ]
     },
     "execution_count": 99,
     "metadata": {},
     "output_type": "execute_result"
    }
   ],
   "source": [
    "#  The sliced part is view of the original\n",
    "s.loc['b':'d'] = 10\n",
    "s"
   ]
  },
  {
   "cell_type": "code",
   "execution_count": 100,
   "id": "d4deccb1-6be0-4802-a89c-cfec17556693",
   "metadata": {},
   "outputs": [
    {
     "data": {
      "text/html": [
       "<div>\n",
       "<style scoped>\n",
       "    .dataframe tbody tr th:only-of-type {\n",
       "        vertical-align: middle;\n",
       "    }\n",
       "\n",
       "    .dataframe tbody tr th {\n",
       "        vertical-align: top;\n",
       "    }\n",
       "\n",
       "    .dataframe thead th {\n",
       "        text-align: right;\n",
       "    }\n",
       "</style>\n",
       "<table border=\"1\" class=\"dataframe\">\n",
       "  <thead>\n",
       "    <tr style=\"text-align: right;\">\n",
       "      <th></th>\n",
       "      <th>Manchester united</th>\n",
       "      <th>Liverpool</th>\n",
       "      <th>Arsenal</th>\n",
       "      <th>Manchester city</th>\n",
       "    </tr>\n",
       "  </thead>\n",
       "  <tbody>\n",
       "    <tr>\n",
       "      <th>Premier League</th>\n",
       "      <td>21</td>\n",
       "      <td>19</td>\n",
       "      <td>13</td>\n",
       "      <td>9</td>\n",
       "    </tr>\n",
       "    <tr>\n",
       "      <th>Fa Cup</th>\n",
       "      <td>12</td>\n",
       "      <td>8</td>\n",
       "      <td>14</td>\n",
       "      <td>6</td>\n",
       "    </tr>\n",
       "    <tr>\n",
       "      <th>UCL</th>\n",
       "      <td>3</td>\n",
       "      <td>6</td>\n",
       "      <td>0</td>\n",
       "      <td>1</td>\n",
       "    </tr>\n",
       "    <tr>\n",
       "      <th>EFL Cup</th>\n",
       "      <td>6</td>\n",
       "      <td>9</td>\n",
       "      <td>2</td>\n",
       "      <td>8</td>\n",
       "    </tr>\n",
       "  </tbody>\n",
       "</table>\n",
       "</div>"
      ],
      "text/plain": [
       "                 Manchester united  Liverpool  Arsenal  Manchester city\n",
       "Premier League                  21         19       13                9\n",
       "Fa Cup                          12          8       14                6\n",
       "UCL                              3          6        0                1\n",
       "EFL Cup                          6          9        2                8"
      ]
     },
     "execution_count": 100,
     "metadata": {},
     "output_type": "execute_result"
    }
   ],
   "source": [
    "# Indexing into a DataFrame retrieves one or more columns either with a single value or sequence:\n",
    "df"
   ]
  },
  {
   "cell_type": "code",
   "execution_count": 101,
   "id": "380a2385-995f-4f99-a8db-37c96c138aa6",
   "metadata": {},
   "outputs": [
    {
     "data": {
      "text/plain": [
       "Premier League     21\n",
       "Fa Cup             12\n",
       "UCL                 3\n",
       "EFL Cup             6\n",
       "Name: Manchester united, dtype: int64"
      ]
     },
     "execution_count": 101,
     "metadata": {},
     "output_type": "execute_result"
    }
   ],
   "source": [
    "# indexing a single column\n",
    "df['Manchester united']"
   ]
  },
  {
   "cell_type": "code",
   "execution_count": 102,
   "id": "8e6896c2-b661-44e3-a7e9-b6b27e855e15",
   "metadata": {},
   "outputs": [
    {
     "data": {
      "text/html": [
       "<div>\n",
       "<style scoped>\n",
       "    .dataframe tbody tr th:only-of-type {\n",
       "        vertical-align: middle;\n",
       "    }\n",
       "\n",
       "    .dataframe tbody tr th {\n",
       "        vertical-align: top;\n",
       "    }\n",
       "\n",
       "    .dataframe thead th {\n",
       "        text-align: right;\n",
       "    }\n",
       "</style>\n",
       "<table border=\"1\" class=\"dataframe\">\n",
       "  <thead>\n",
       "    <tr style=\"text-align: right;\">\n",
       "      <th></th>\n",
       "      <th>Liverpool</th>\n",
       "      <th>Manchester united</th>\n",
       "    </tr>\n",
       "  </thead>\n",
       "  <tbody>\n",
       "    <tr>\n",
       "      <th>Premier League</th>\n",
       "      <td>19</td>\n",
       "      <td>21</td>\n",
       "    </tr>\n",
       "    <tr>\n",
       "      <th>Fa Cup</th>\n",
       "      <td>8</td>\n",
       "      <td>12</td>\n",
       "    </tr>\n",
       "    <tr>\n",
       "      <th>UCL</th>\n",
       "      <td>6</td>\n",
       "      <td>3</td>\n",
       "    </tr>\n",
       "    <tr>\n",
       "      <th>EFL Cup</th>\n",
       "      <td>9</td>\n",
       "      <td>6</td>\n",
       "    </tr>\n",
       "  </tbody>\n",
       "</table>\n",
       "</div>"
      ],
      "text/plain": [
       "                 Liverpool  Manchester united\n",
       "Premier League          19                 21\n",
       "Fa Cup                   8                 12\n",
       "UCL                      6                  3\n",
       "EFL Cup                  9                  6"
      ]
     },
     "execution_count": 102,
     "metadata": {},
     "output_type": "execute_result"
    }
   ],
   "source": [
    "# indexing multiple columns\n",
    "df[['Liverpool', 'Manchester united']]"
   ]
  },
  {
   "cell_type": "code",
   "execution_count": 103,
   "id": "0f5c218d-7138-4ce0-8f5b-c38452f82be4",
   "metadata": {},
   "outputs": [
    {
     "data": {
      "text/html": [
       "<div>\n",
       "<style scoped>\n",
       "    .dataframe tbody tr th:only-of-type {\n",
       "        vertical-align: middle;\n",
       "    }\n",
       "\n",
       "    .dataframe tbody tr th {\n",
       "        vertical-align: top;\n",
       "    }\n",
       "\n",
       "    .dataframe thead th {\n",
       "        text-align: right;\n",
       "    }\n",
       "</style>\n",
       "<table border=\"1\" class=\"dataframe\">\n",
       "  <thead>\n",
       "    <tr style=\"text-align: right;\">\n",
       "      <th></th>\n",
       "      <th>Manchester united</th>\n",
       "      <th>Liverpool</th>\n",
       "      <th>Arsenal</th>\n",
       "      <th>Manchester city</th>\n",
       "    </tr>\n",
       "  </thead>\n",
       "  <tbody>\n",
       "    <tr>\n",
       "      <th>Premier League</th>\n",
       "      <td>21</td>\n",
       "      <td>19</td>\n",
       "      <td>13</td>\n",
       "      <td>9</td>\n",
       "    </tr>\n",
       "    <tr>\n",
       "      <th>Fa Cup</th>\n",
       "      <td>12</td>\n",
       "      <td>8</td>\n",
       "      <td>14</td>\n",
       "      <td>6</td>\n",
       "    </tr>\n",
       "  </tbody>\n",
       "</table>\n",
       "</div>"
      ],
      "text/plain": [
       "                 Manchester united  Liverpool  Arsenal  Manchester city\n",
       "Premier League                  21         19       13                9\n",
       "Fa Cup                          12          8       14                6"
      ]
     },
     "execution_count": 103,
     "metadata": {},
     "output_type": "execute_result"
    }
   ],
   "source": [
    "# Indexing like this has a few special cases. The first is slicing or selecting data with a\n",
    "# Boolean array:\n",
    "df[:2]"
   ]
  },
  {
   "cell_type": "code",
   "execution_count": 104,
   "id": "272202d9-dbcb-4c6e-a91c-3644c19358e1",
   "metadata": {},
   "outputs": [
    {
     "data": {
      "text/plain": [
       "Premier League      True\n",
       "Fa Cup              True\n",
       "UCL                False\n",
       "EFL Cup            False\n",
       "Name: Arsenal, dtype: bool"
      ]
     },
     "execution_count": 104,
     "metadata": {},
     "output_type": "execute_result"
    }
   ],
   "source": [
    "df[\"Arsenal\"] > 5"
   ]
  },
  {
   "cell_type": "code",
   "execution_count": 105,
   "id": "261c87f4-78bd-4205-b660-48ff0d2ece4b",
   "metadata": {},
   "outputs": [
    {
     "data": {
      "text/html": [
       "<div>\n",
       "<style scoped>\n",
       "    .dataframe tbody tr th:only-of-type {\n",
       "        vertical-align: middle;\n",
       "    }\n",
       "\n",
       "    .dataframe tbody tr th {\n",
       "        vertical-align: top;\n",
       "    }\n",
       "\n",
       "    .dataframe thead th {\n",
       "        text-align: right;\n",
       "    }\n",
       "</style>\n",
       "<table border=\"1\" class=\"dataframe\">\n",
       "  <thead>\n",
       "    <tr style=\"text-align: right;\">\n",
       "      <th></th>\n",
       "      <th>Manchester united</th>\n",
       "      <th>Liverpool</th>\n",
       "      <th>Arsenal</th>\n",
       "      <th>Manchester city</th>\n",
       "    </tr>\n",
       "  </thead>\n",
       "  <tbody>\n",
       "    <tr>\n",
       "      <th>Premier League</th>\n",
       "      <td>21</td>\n",
       "      <td>19</td>\n",
       "      <td>13</td>\n",
       "      <td>9</td>\n",
       "    </tr>\n",
       "    <tr>\n",
       "      <th>Fa Cup</th>\n",
       "      <td>12</td>\n",
       "      <td>8</td>\n",
       "      <td>14</td>\n",
       "      <td>6</td>\n",
       "    </tr>\n",
       "  </tbody>\n",
       "</table>\n",
       "</div>"
      ],
      "text/plain": [
       "                 Manchester united  Liverpool  Arsenal  Manchester city\n",
       "Premier League                  21         19       13                9\n",
       "Fa Cup                          12          8       14                6"
      ]
     },
     "execution_count": 105,
     "metadata": {},
     "output_type": "execute_result"
    }
   ],
   "source": [
    "df[df['Arsenal'] > 5]"
   ]
  },
  {
   "cell_type": "code",
   "execution_count": 106,
   "id": "21b7a2e1-0715-4c9a-a7ba-4aa4df0c06e7",
   "metadata": {},
   "outputs": [
    {
     "data": {
      "text/html": [
       "<div>\n",
       "<style scoped>\n",
       "    .dataframe tbody tr th:only-of-type {\n",
       "        vertical-align: middle;\n",
       "    }\n",
       "\n",
       "    .dataframe tbody tr th {\n",
       "        vertical-align: top;\n",
       "    }\n",
       "\n",
       "    .dataframe thead th {\n",
       "        text-align: right;\n",
       "    }\n",
       "</style>\n",
       "<table border=\"1\" class=\"dataframe\">\n",
       "  <thead>\n",
       "    <tr style=\"text-align: right;\">\n",
       "      <th></th>\n",
       "      <th>Manchester united</th>\n",
       "      <th>Liverpool</th>\n",
       "      <th>Arsenal</th>\n",
       "      <th>Manchester city</th>\n",
       "    </tr>\n",
       "  </thead>\n",
       "  <tbody>\n",
       "    <tr>\n",
       "      <th>Premier League</th>\n",
       "      <td>21</td>\n",
       "      <td>19</td>\n",
       "      <td>13</td>\n",
       "      <td>9</td>\n",
       "    </tr>\n",
       "    <tr>\n",
       "      <th>Fa Cup</th>\n",
       "      <td>12</td>\n",
       "      <td>8</td>\n",
       "      <td>14</td>\n",
       "      <td>6</td>\n",
       "    </tr>\n",
       "    <tr>\n",
       "      <th>UCL</th>\n",
       "      <td>3</td>\n",
       "      <td>6</td>\n",
       "      <td>0</td>\n",
       "      <td>1</td>\n",
       "    </tr>\n",
       "    <tr>\n",
       "      <th>EFL Cup</th>\n",
       "      <td>6</td>\n",
       "      <td>9</td>\n",
       "      <td>2</td>\n",
       "      <td>8</td>\n",
       "    </tr>\n",
       "  </tbody>\n",
       "</table>\n",
       "</div>"
      ],
      "text/plain": [
       "                 Manchester united  Liverpool  Arsenal  Manchester city\n",
       "Premier League                  21         19       13                9\n",
       "Fa Cup                          12          8       14                6\n",
       "UCL                              3          6        0                1\n",
       "EFL Cup                          6          9        2                8"
      ]
     },
     "execution_count": 106,
     "metadata": {},
     "output_type": "execute_result"
    }
   ],
   "source": [
    "df"
   ]
  },
  {
   "cell_type": "code",
   "execution_count": 107,
   "id": "d378bf34-9f6b-4e4f-a1d7-6be096921b36",
   "metadata": {},
   "outputs": [
    {
     "data": {
      "text/plain": [
       "Manchester united    3\n",
       "Liverpool            6\n",
       "Arsenal              0\n",
       "Manchester city      1\n",
       "Name: UCL, dtype: int64"
      ]
     },
     "execution_count": 107,
     "metadata": {},
     "output_type": "execute_result"
    }
   ],
   "source": [
    "# Selection on DataFrame with loc and iloc\n",
    "# loc for lable based indexing\n",
    "# iloc for integer based indexing\n",
    "# Selecting index using row lable\n",
    "df.loc['UCL']"
   ]
  },
  {
   "cell_type": "code",
   "execution_count": 108,
   "id": "7322d75f-9bb6-46a6-a1a4-a0758fc587b7",
   "metadata": {},
   "outputs": [
    {
     "data": {
      "text/html": [
       "<div>\n",
       "<style scoped>\n",
       "    .dataframe tbody tr th:only-of-type {\n",
       "        vertical-align: middle;\n",
       "    }\n",
       "\n",
       "    .dataframe tbody tr th {\n",
       "        vertical-align: top;\n",
       "    }\n",
       "\n",
       "    .dataframe thead th {\n",
       "        text-align: right;\n",
       "    }\n",
       "</style>\n",
       "<table border=\"1\" class=\"dataframe\">\n",
       "  <thead>\n",
       "    <tr style=\"text-align: right;\">\n",
       "      <th></th>\n",
       "      <th>Manchester united</th>\n",
       "      <th>Liverpool</th>\n",
       "      <th>Arsenal</th>\n",
       "      <th>Manchester city</th>\n",
       "    </tr>\n",
       "  </thead>\n",
       "  <tbody>\n",
       "    <tr>\n",
       "      <th>Premier League</th>\n",
       "      <td>21</td>\n",
       "      <td>19</td>\n",
       "      <td>13</td>\n",
       "      <td>9</td>\n",
       "    </tr>\n",
       "    <tr>\n",
       "      <th>Fa Cup</th>\n",
       "      <td>12</td>\n",
       "      <td>8</td>\n",
       "      <td>14</td>\n",
       "      <td>6</td>\n",
       "    </tr>\n",
       "    <tr>\n",
       "      <th>UCL</th>\n",
       "      <td>3</td>\n",
       "      <td>6</td>\n",
       "      <td>0</td>\n",
       "      <td>1</td>\n",
       "    </tr>\n",
       "    <tr>\n",
       "      <th>EFL Cup</th>\n",
       "      <td>6</td>\n",
       "      <td>9</td>\n",
       "      <td>2</td>\n",
       "      <td>8</td>\n",
       "    </tr>\n",
       "  </tbody>\n",
       "</table>\n",
       "</div>"
      ],
      "text/plain": [
       "                 Manchester united  Liverpool  Arsenal  Manchester city\n",
       "Premier League                  21         19       13                9\n",
       "Fa Cup                          12          8       14                6\n",
       "UCL                              3          6        0                1\n",
       "EFL Cup                          6          9        2                8"
      ]
     },
     "execution_count": 108,
     "metadata": {},
     "output_type": "execute_result"
    }
   ],
   "source": [
    "df"
   ]
  },
  {
   "cell_type": "code",
   "execution_count": 109,
   "id": "a9680bd3-9581-499a-8300-168a03c90365",
   "metadata": {},
   "outputs": [
    {
     "data": {
      "text/html": [
       "<div>\n",
       "<style scoped>\n",
       "    .dataframe tbody tr th:only-of-type {\n",
       "        vertical-align: middle;\n",
       "    }\n",
       "\n",
       "    .dataframe tbody tr th {\n",
       "        vertical-align: top;\n",
       "    }\n",
       "\n",
       "    .dataframe thead th {\n",
       "        text-align: right;\n",
       "    }\n",
       "</style>\n",
       "<table border=\"1\" class=\"dataframe\">\n",
       "  <thead>\n",
       "    <tr style=\"text-align: right;\">\n",
       "      <th></th>\n",
       "      <th>Manchester united</th>\n",
       "      <th>Liverpool</th>\n",
       "      <th>Arsenal</th>\n",
       "      <th>Manchester city</th>\n",
       "    </tr>\n",
       "  </thead>\n",
       "  <tbody>\n",
       "    <tr>\n",
       "      <th>Fa Cup</th>\n",
       "      <td>12</td>\n",
       "      <td>8</td>\n",
       "      <td>14</td>\n",
       "      <td>6</td>\n",
       "    </tr>\n",
       "    <tr>\n",
       "      <th>EFL Cup</th>\n",
       "      <td>6</td>\n",
       "      <td>9</td>\n",
       "      <td>2</td>\n",
       "      <td>8</td>\n",
       "    </tr>\n",
       "  </tbody>\n",
       "</table>\n",
       "</div>"
      ],
      "text/plain": [
       "         Manchester united  Liverpool  Arsenal  Manchester city\n",
       "Fa Cup                  12          8       14                6\n",
       "EFL Cup                  6          9        2                8"
      ]
     },
     "execution_count": 109,
     "metadata": {},
     "output_type": "execute_result"
    }
   ],
   "source": [
    "# Selecting multiple rows\n",
    "df.loc[['Fa Cup', 'EFL Cup']]"
   ]
  },
  {
   "cell_type": "code",
   "execution_count": 110,
   "id": "00210909-f878-4790-965e-4fc15cb932bf",
   "metadata": {},
   "outputs": [
    {
     "data": {
      "text/plain": [
       "np.int64(6)"
      ]
     },
     "execution_count": 110,
     "metadata": {},
     "output_type": "execute_result"
    }
   ],
   "source": [
    "# combining both row and column selection in loc by separating the selections with a comma\n",
    "df.loc['UCL', 'Liverpool']"
   ]
  },
  {
   "cell_type": "code",
   "execution_count": 111,
   "id": "5160ce9f-97b7-43d6-b6bc-56460a825619",
   "metadata": {},
   "outputs": [
    {
     "data": {
      "text/plain": [
       "Manchester city    1\n",
       "Arsenal            0\n",
       "Name: UCL, dtype: int64"
      ]
     },
     "execution_count": 111,
     "metadata": {},
     "output_type": "execute_result"
    }
   ],
   "source": [
    "df.loc['UCL', ['Manchester city', 'Arsenal']]"
   ]
  },
  {
   "cell_type": "code",
   "execution_count": 112,
   "id": "4d25e1cf-ace7-42f1-b07b-ebc8512e529a",
   "metadata": {},
   "outputs": [
    {
     "data": {
      "text/html": [
       "<div>\n",
       "<style scoped>\n",
       "    .dataframe tbody tr th:only-of-type {\n",
       "        vertical-align: middle;\n",
       "    }\n",
       "\n",
       "    .dataframe tbody tr th {\n",
       "        vertical-align: top;\n",
       "    }\n",
       "\n",
       "    .dataframe thead th {\n",
       "        text-align: right;\n",
       "    }\n",
       "</style>\n",
       "<table border=\"1\" class=\"dataframe\">\n",
       "  <thead>\n",
       "    <tr style=\"text-align: right;\">\n",
       "      <th></th>\n",
       "      <th>Manchester united</th>\n",
       "      <th>Liverpool</th>\n",
       "      <th>Arsenal</th>\n",
       "      <th>Manchester city</th>\n",
       "    </tr>\n",
       "  </thead>\n",
       "  <tbody>\n",
       "    <tr>\n",
       "      <th>Premier League</th>\n",
       "      <td>21</td>\n",
       "      <td>19</td>\n",
       "      <td>13</td>\n",
       "      <td>9</td>\n",
       "    </tr>\n",
       "    <tr>\n",
       "      <th>Fa Cup</th>\n",
       "      <td>12</td>\n",
       "      <td>8</td>\n",
       "      <td>14</td>\n",
       "      <td>6</td>\n",
       "    </tr>\n",
       "    <tr>\n",
       "      <th>UCL</th>\n",
       "      <td>3</td>\n",
       "      <td>6</td>\n",
       "      <td>0</td>\n",
       "      <td>1</td>\n",
       "    </tr>\n",
       "    <tr>\n",
       "      <th>EFL Cup</th>\n",
       "      <td>6</td>\n",
       "      <td>9</td>\n",
       "      <td>2</td>\n",
       "      <td>8</td>\n",
       "    </tr>\n",
       "  </tbody>\n",
       "</table>\n",
       "</div>"
      ],
      "text/plain": [
       "                 Manchester united  Liverpool  Arsenal  Manchester city\n",
       "Premier League                  21         19       13                9\n",
       "Fa Cup                          12          8       14                6\n",
       "UCL                              3          6        0                1\n",
       "EFL Cup                          6          9        2                8"
      ]
     },
     "execution_count": 112,
     "metadata": {},
     "output_type": "execute_result"
    }
   ],
   "source": [
    "df"
   ]
  },
  {
   "cell_type": "code",
   "execution_count": 113,
   "id": "bc3b17a2-ba41-4076-9fdf-a7312eeeea77",
   "metadata": {},
   "outputs": [
    {
     "data": {
      "text/plain": [
       "Manchester united    3\n",
       "Liverpool            6\n",
       "Arsenal              0\n",
       "Manchester city      1\n",
       "Name: UCL, dtype: int64"
      ]
     },
     "execution_count": 113,
     "metadata": {},
     "output_type": "execute_result"
    }
   ],
   "source": [
    "# we can select using iloc\n",
    "df.iloc[2]    # selecting third row"
   ]
  },
  {
   "cell_type": "code",
   "execution_count": 114,
   "id": "374cdd65-ca6b-4c5b-b582-f3896b58aad3",
   "metadata": {},
   "outputs": [
    {
     "data": {
      "text/html": [
       "<div>\n",
       "<style scoped>\n",
       "    .dataframe tbody tr th:only-of-type {\n",
       "        vertical-align: middle;\n",
       "    }\n",
       "\n",
       "    .dataframe tbody tr th {\n",
       "        vertical-align: top;\n",
       "    }\n",
       "\n",
       "    .dataframe thead th {\n",
       "        text-align: right;\n",
       "    }\n",
       "</style>\n",
       "<table border=\"1\" class=\"dataframe\">\n",
       "  <thead>\n",
       "    <tr style=\"text-align: right;\">\n",
       "      <th></th>\n",
       "      <th>Manchester united</th>\n",
       "      <th>Liverpool</th>\n",
       "      <th>Arsenal</th>\n",
       "      <th>Manchester city</th>\n",
       "    </tr>\n",
       "  </thead>\n",
       "  <tbody>\n",
       "    <tr>\n",
       "      <th>Fa Cup</th>\n",
       "      <td>12</td>\n",
       "      <td>8</td>\n",
       "      <td>14</td>\n",
       "      <td>6</td>\n",
       "    </tr>\n",
       "    <tr>\n",
       "      <th>EFL Cup</th>\n",
       "      <td>6</td>\n",
       "      <td>9</td>\n",
       "      <td>2</td>\n",
       "      <td>8</td>\n",
       "    </tr>\n",
       "  </tbody>\n",
       "</table>\n",
       "</div>"
      ],
      "text/plain": [
       "         Manchester united  Liverpool  Arsenal  Manchester city\n",
       "Fa Cup                  12          8       14                6\n",
       "EFL Cup                  6          9        2                8"
      ]
     },
     "execution_count": 114,
     "metadata": {},
     "output_type": "execute_result"
    }
   ],
   "source": [
    "# Selecting two or more rows\n",
    "df.iloc[[1, 3]]"
   ]
  },
  {
   "cell_type": "code",
   "execution_count": 115,
   "id": "6dbc2d23-ed3d-4864-a539-65015e2dcf73",
   "metadata": {},
   "outputs": [
    {
     "data": {
      "text/plain": [
       "Manchester united    3\n",
       "Liverpool            6\n",
       "Manchester city      1\n",
       "Name: UCL, dtype: int64"
      ]
     },
     "execution_count": 115,
     "metadata": {},
     "output_type": "execute_result"
    }
   ],
   "source": [
    "# selecting a row and specific columns\n",
    "df.iloc[2, [0, 1, 3]]"
   ]
  },
  {
   "cell_type": "code",
   "execution_count": 116,
   "id": "55689264-dcf6-4669-9b20-1c7615df4c75",
   "metadata": {},
   "outputs": [
    {
     "data": {
      "text/html": [
       "<div>\n",
       "<style scoped>\n",
       "    .dataframe tbody tr th:only-of-type {\n",
       "        vertical-align: middle;\n",
       "    }\n",
       "\n",
       "    .dataframe tbody tr th {\n",
       "        vertical-align: top;\n",
       "    }\n",
       "\n",
       "    .dataframe thead th {\n",
       "        text-align: right;\n",
       "    }\n",
       "</style>\n",
       "<table border=\"1\" class=\"dataframe\">\n",
       "  <thead>\n",
       "    <tr style=\"text-align: right;\">\n",
       "      <th></th>\n",
       "      <th>Manchester united</th>\n",
       "      <th>Liverpool</th>\n",
       "    </tr>\n",
       "  </thead>\n",
       "  <tbody>\n",
       "    <tr>\n",
       "      <th>Premier League</th>\n",
       "      <td>21</td>\n",
       "      <td>19</td>\n",
       "    </tr>\n",
       "    <tr>\n",
       "      <th>UCL</th>\n",
       "      <td>3</td>\n",
       "      <td>6</td>\n",
       "    </tr>\n",
       "  </tbody>\n",
       "</table>\n",
       "</div>"
      ],
      "text/plain": [
       "                 Manchester united  Liverpool\n",
       "Premier League                  21         19\n",
       "UCL                              3          6"
      ]
     },
     "execution_count": 116,
     "metadata": {},
     "output_type": "execute_result"
    }
   ],
   "source": [
    "# select a sepecific rows and specific columns\n",
    "df.iloc[[0, 2], [0, 1]]"
   ]
  },
  {
   "cell_type": "code",
   "execution_count": 117,
   "id": "84e9a696-946d-42bb-a011-a13a11e99774",
   "metadata": {},
   "outputs": [
    {
     "data": {
      "text/plain": [
       "np.int64(0)"
      ]
     },
     "execution_count": 117,
     "metadata": {},
     "output_type": "execute_result"
    }
   ],
   "source": [
    "#  Both indexing functions work with slices in addition to single labels or lists of labels:\n",
    "df.loc['UCL', 'Arsenal']"
   ]
  },
  {
   "cell_type": "code",
   "execution_count": 118,
   "id": "92ceaa28-7011-4c3c-9af5-6e281343abef",
   "metadata": {},
   "outputs": [
    {
     "data": {
      "text/html": [
       "<div>\n",
       "<style scoped>\n",
       "    .dataframe tbody tr th:only-of-type {\n",
       "        vertical-align: middle;\n",
       "    }\n",
       "\n",
       "    .dataframe tbody tr th {\n",
       "        vertical-align: top;\n",
       "    }\n",
       "\n",
       "    .dataframe thead th {\n",
       "        text-align: right;\n",
       "    }\n",
       "</style>\n",
       "<table border=\"1\" class=\"dataframe\">\n",
       "  <thead>\n",
       "    <tr style=\"text-align: right;\">\n",
       "      <th></th>\n",
       "      <th>Manchester united</th>\n",
       "      <th>Liverpool</th>\n",
       "      <th>Arsenal</th>\n",
       "    </tr>\n",
       "  </thead>\n",
       "  <tbody>\n",
       "    <tr>\n",
       "      <th>Premier League</th>\n",
       "      <td>21</td>\n",
       "      <td>19</td>\n",
       "      <td>13</td>\n",
       "    </tr>\n",
       "    <tr>\n",
       "      <th>Fa Cup</th>\n",
       "      <td>12</td>\n",
       "      <td>8</td>\n",
       "      <td>14</td>\n",
       "    </tr>\n",
       "  </tbody>\n",
       "</table>\n",
       "</div>"
      ],
      "text/plain": [
       "                 Manchester united  Liverpool  Arsenal\n",
       "Premier League                  21         19       13\n",
       "Fa Cup                          12          8       14"
      ]
     },
     "execution_count": 118,
     "metadata": {},
     "output_type": "execute_result"
    }
   ],
   "source": [
    "df.iloc[:, :3][df['Arsenal'] > 5]"
   ]
  },
  {
   "cell_type": "code",
   "execution_count": 119,
   "id": "640a9dd4-12b9-4eb7-b67d-b7ba20fab9c8",
   "metadata": {},
   "outputs": [
    {
     "data": {
      "text/html": [
       "<div>\n",
       "<style scoped>\n",
       "    .dataframe tbody tr th:only-of-type {\n",
       "        vertical-align: middle;\n",
       "    }\n",
       "\n",
       "    .dataframe tbody tr th {\n",
       "        vertical-align: top;\n",
       "    }\n",
       "\n",
       "    .dataframe thead th {\n",
       "        text-align: right;\n",
       "    }\n",
       "</style>\n",
       "<table border=\"1\" class=\"dataframe\">\n",
       "  <thead>\n",
       "    <tr style=\"text-align: right;\">\n",
       "      <th></th>\n",
       "      <th>Manchester united</th>\n",
       "      <th>Liverpool</th>\n",
       "      <th>Arsenal</th>\n",
       "      <th>Manchester city</th>\n",
       "    </tr>\n",
       "  </thead>\n",
       "  <tbody>\n",
       "    <tr>\n",
       "      <th>Fa Cup</th>\n",
       "      <td>12</td>\n",
       "      <td>8</td>\n",
       "      <td>14</td>\n",
       "      <td>6</td>\n",
       "    </tr>\n",
       "    <tr>\n",
       "      <th>UCL</th>\n",
       "      <td>3</td>\n",
       "      <td>6</td>\n",
       "      <td>0</td>\n",
       "      <td>1</td>\n",
       "    </tr>\n",
       "    <tr>\n",
       "      <th>EFL Cup</th>\n",
       "      <td>6</td>\n",
       "      <td>9</td>\n",
       "      <td>2</td>\n",
       "      <td>8</td>\n",
       "    </tr>\n",
       "  </tbody>\n",
       "</table>\n",
       "</div>"
      ],
      "text/plain": [
       "         Manchester united  Liverpool  Arsenal  Manchester city\n",
       "Fa Cup                  12          8       14                6\n",
       "UCL                      3          6        0                1\n",
       "EFL Cup                  6          9        2                8"
      ]
     },
     "execution_count": 119,
     "metadata": {},
     "output_type": "execute_result"
    }
   ],
   "source": [
    "# Boolean arrays can be used with loc but not iloc:\n",
    "# df.loc[df.Liverpool < 10]\n",
    "df[df['Liverpool'] < 10]"
   ]
  },
  {
   "cell_type": "code",
   "execution_count": 120,
   "id": "7f917198-30af-456b-89b8-4f39ab8c4cae",
   "metadata": {},
   "outputs": [],
   "source": [
    "# Indexing options with DataFrame\n",
    "# df[column]:  Select single column or sequence of columns from the DataFrame; special case conveniences:\n",
    "# Boolean array (filter rows), slice (slice rows), or Boolean DataFrame (set values based on some criterion)\n",
    "\n",
    "# df.loc[rows]:  Select single row or subset of rows from the DataFrame by label\n",
    "# df.loc[:, cols]: Select single column or subset of columns by label\n",
    "# df.loc[rows, cols]: Select both row(s) and column(s) by label\n",
    "# df.iloc[rows]: Select single row or subset of rows from the DataFrame by integer position\n",
    "# df.iloc[:, cols]: Select single column or subset of columns by integer position\n",
    "# df.iloc[rows, cols]:  Select both row(s) and column(s) by integer position\n",
    "# df.at[row, col]: Select a single scalar value by row and column label\n",
    "# df.iat[row, col]:  Select a single scalar value by row and column position (integers)\n",
    "# reindex method:  Select either rows or columns by labels"
   ]
  },
  {
   "cell_type": "code",
   "execution_count": 121,
   "id": "cbfdbd1c-a481-4085-8640-5274a62b4492",
   "metadata": {},
   "outputs": [
    {
     "data": {
      "text/html": [
       "<div>\n",
       "<style scoped>\n",
       "    .dataframe tbody tr th:only-of-type {\n",
       "        vertical-align: middle;\n",
       "    }\n",
       "\n",
       "    .dataframe tbody tr th {\n",
       "        vertical-align: top;\n",
       "    }\n",
       "\n",
       "    .dataframe thead th {\n",
       "        text-align: right;\n",
       "    }\n",
       "</style>\n",
       "<table border=\"1\" class=\"dataframe\">\n",
       "  <thead>\n",
       "    <tr style=\"text-align: right;\">\n",
       "      <th></th>\n",
       "      <th>Manchester united</th>\n",
       "      <th>Liverpool</th>\n",
       "      <th>Arsenal</th>\n",
       "      <th>Manchester city</th>\n",
       "    </tr>\n",
       "  </thead>\n",
       "  <tbody>\n",
       "    <tr>\n",
       "      <th>Premier League</th>\n",
       "      <td>21</td>\n",
       "      <td>19</td>\n",
       "      <td>13</td>\n",
       "      <td>9</td>\n",
       "    </tr>\n",
       "    <tr>\n",
       "      <th>Fa Cup</th>\n",
       "      <td>12</td>\n",
       "      <td>8</td>\n",
       "      <td>14</td>\n",
       "      <td>6</td>\n",
       "    </tr>\n",
       "    <tr>\n",
       "      <th>UCL</th>\n",
       "      <td>3</td>\n",
       "      <td>6</td>\n",
       "      <td>0</td>\n",
       "      <td>1</td>\n",
       "    </tr>\n",
       "    <tr>\n",
       "      <th>EFL Cup</th>\n",
       "      <td>6</td>\n",
       "      <td>9</td>\n",
       "      <td>2</td>\n",
       "      <td>8</td>\n",
       "    </tr>\n",
       "  </tbody>\n",
       "</table>\n",
       "</div>"
      ],
      "text/plain": [
       "                 Manchester united  Liverpool  Arsenal  Manchester city\n",
       "Premier League                  21         19       13                9\n",
       "Fa Cup                          12          8       14                6\n",
       "UCL                              3          6        0                1\n",
       "EFL Cup                          6          9        2                8"
      ]
     },
     "execution_count": 121,
     "metadata": {},
     "output_type": "execute_result"
    }
   ],
   "source": [
    "df"
   ]
  },
  {
   "cell_type": "code",
   "execution_count": 122,
   "id": "7fe65319-266c-4c4f-805b-a0e5a27c7014",
   "metadata": {},
   "outputs": [
    {
     "data": {
      "text/plain": [
       "np.int64(0)"
      ]
     },
     "execution_count": 122,
     "metadata": {},
     "output_type": "execute_result"
    }
   ],
   "source": [
    "df.at['UCL', 'Arsenal']"
   ]
  },
  {
   "cell_type": "markdown",
   "id": "83ad06f3-52de-4d9a-b424-150e51c1debc",
   "metadata": {},
   "source": [
    "#### Arithmetic and Data Alignment"
   ]
  },
  {
   "cell_type": "code",
   "execution_count": 123,
   "id": "a737df24-8eda-4afb-b3c6-688cdfd86c82",
   "metadata": {},
   "outputs": [],
   "source": [
    "# pandas can make it much simpler to work with objects that have different indexes.\n",
    "# For example, when we add objects, if any index pairs are not the same, the respective\n",
    "# index in the result will be the union of the index pairs.\n",
    "s1 = pd.Series([65.3, 32.5, 21.6, 43.7, -32.4], index = ['a', 'b', 'c', 'd', 'e'])\n",
    "s2 = pd.Series([2.4, 4, 5.8,-2], index = ['b', 'd', 'f', 'h'])"
   ]
  },
  {
   "cell_type": "code",
   "execution_count": 124,
   "id": "630abde4-866a-47f0-af3c-8abbfcdb0441",
   "metadata": {},
   "outputs": [
    {
     "data": {
      "text/plain": [
       "a    65.3\n",
       "b    32.5\n",
       "c    21.6\n",
       "d    43.7\n",
       "e   -32.4\n",
       "dtype: float64"
      ]
     },
     "execution_count": 124,
     "metadata": {},
     "output_type": "execute_result"
    }
   ],
   "source": [
    "s1"
   ]
  },
  {
   "cell_type": "code",
   "execution_count": 125,
   "id": "a5ec1895-f262-4471-9c30-0f318194e2e9",
   "metadata": {},
   "outputs": [
    {
     "data": {
      "text/plain": [
       "b    2.4\n",
       "d    4.0\n",
       "f    5.8\n",
       "h   -2.0\n",
       "dtype: float64"
      ]
     },
     "execution_count": 125,
     "metadata": {},
     "output_type": "execute_result"
    }
   ],
   "source": [
    "s2"
   ]
  },
  {
   "cell_type": "code",
   "execution_count": 126,
   "id": "5a54deed-ff76-45fa-b9b9-d0db33ff0e6a",
   "metadata": {},
   "outputs": [
    {
     "data": {
      "text/plain": [
       "a     NaN\n",
       "b    34.9\n",
       "c     NaN\n",
       "d    47.7\n",
       "e     NaN\n",
       "f     NaN\n",
       "h     NaN\n",
       "dtype: float64"
      ]
     },
     "execution_count": 126,
     "metadata": {},
     "output_type": "execute_result"
    }
   ],
   "source": [
    "s1 + s2"
   ]
  },
  {
   "cell_type": "code",
   "execution_count": 127,
   "id": "14fd5e0f-9994-4929-b532-6838ab439249",
   "metadata": {},
   "outputs": [
    {
     "data": {
      "text/plain": [
       "a    65.3\n",
       "b    34.9\n",
       "c    21.6\n",
       "d    47.7\n",
       "e   -32.4\n",
       "f     5.8\n",
       "h    -2.0\n",
       "dtype: float64"
      ]
     },
     "execution_count": 127,
     "metadata": {},
     "output_type": "execute_result"
    }
   ],
   "source": [
    "# To avoid NaN values we fill NaN values with 0\n",
    "s1.add(s2, fill_value = 0)"
   ]
  },
  {
   "cell_type": "code",
   "execution_count": 128,
   "id": "8dda5ad5-bc95-4495-a5b6-3b52a6702c68",
   "metadata": {},
   "outputs": [],
   "source": [
    "df1 = pd.DataFrame({'A': [1, 2], 'B': [3, 4]}, index=['x', 'y'])\n",
    "df2 = pd.DataFrame({'A': [5, 6], 'B': [7, 8]}, index=['y', 'z'])"
   ]
  },
  {
   "cell_type": "code",
   "execution_count": 129,
   "id": "7239ed5b-a7b3-48ad-b184-5982fb293317",
   "metadata": {},
   "outputs": [
    {
     "data": {
      "text/html": [
       "<div>\n",
       "<style scoped>\n",
       "    .dataframe tbody tr th:only-of-type {\n",
       "        vertical-align: middle;\n",
       "    }\n",
       "\n",
       "    .dataframe tbody tr th {\n",
       "        vertical-align: top;\n",
       "    }\n",
       "\n",
       "    .dataframe thead th {\n",
       "        text-align: right;\n",
       "    }\n",
       "</style>\n",
       "<table border=\"1\" class=\"dataframe\">\n",
       "  <thead>\n",
       "    <tr style=\"text-align: right;\">\n",
       "      <th></th>\n",
       "      <th>A</th>\n",
       "      <th>B</th>\n",
       "    </tr>\n",
       "  </thead>\n",
       "  <tbody>\n",
       "    <tr>\n",
       "      <th>x</th>\n",
       "      <td>1</td>\n",
       "      <td>3</td>\n",
       "    </tr>\n",
       "    <tr>\n",
       "      <th>y</th>\n",
       "      <td>2</td>\n",
       "      <td>4</td>\n",
       "    </tr>\n",
       "  </tbody>\n",
       "</table>\n",
       "</div>"
      ],
      "text/plain": [
       "   A  B\n",
       "x  1  3\n",
       "y  2  4"
      ]
     },
     "execution_count": 129,
     "metadata": {},
     "output_type": "execute_result"
    }
   ],
   "source": [
    "df1"
   ]
  },
  {
   "cell_type": "code",
   "execution_count": 130,
   "id": "ef09cb3e-4793-415f-a745-b1d60d4e1eec",
   "metadata": {},
   "outputs": [
    {
     "data": {
      "text/html": [
       "<div>\n",
       "<style scoped>\n",
       "    .dataframe tbody tr th:only-of-type {\n",
       "        vertical-align: middle;\n",
       "    }\n",
       "\n",
       "    .dataframe tbody tr th {\n",
       "        vertical-align: top;\n",
       "    }\n",
       "\n",
       "    .dataframe thead th {\n",
       "        text-align: right;\n",
       "    }\n",
       "</style>\n",
       "<table border=\"1\" class=\"dataframe\">\n",
       "  <thead>\n",
       "    <tr style=\"text-align: right;\">\n",
       "      <th></th>\n",
       "      <th>A</th>\n",
       "      <th>B</th>\n",
       "    </tr>\n",
       "  </thead>\n",
       "  <tbody>\n",
       "    <tr>\n",
       "      <th>y</th>\n",
       "      <td>5</td>\n",
       "      <td>7</td>\n",
       "    </tr>\n",
       "    <tr>\n",
       "      <th>z</th>\n",
       "      <td>6</td>\n",
       "      <td>8</td>\n",
       "    </tr>\n",
       "  </tbody>\n",
       "</table>\n",
       "</div>"
      ],
      "text/plain": [
       "   A  B\n",
       "y  5  7\n",
       "z  6  8"
      ]
     },
     "execution_count": 130,
     "metadata": {},
     "output_type": "execute_result"
    }
   ],
   "source": [
    "df2"
   ]
  },
  {
   "cell_type": "code",
   "execution_count": 131,
   "id": "e0c38070-747d-452a-93ec-4125b22e07e3",
   "metadata": {},
   "outputs": [
    {
     "data": {
      "text/html": [
       "<div>\n",
       "<style scoped>\n",
       "    .dataframe tbody tr th:only-of-type {\n",
       "        vertical-align: middle;\n",
       "    }\n",
       "\n",
       "    .dataframe tbody tr th {\n",
       "        vertical-align: top;\n",
       "    }\n",
       "\n",
       "    .dataframe thead th {\n",
       "        text-align: right;\n",
       "    }\n",
       "</style>\n",
       "<table border=\"1\" class=\"dataframe\">\n",
       "  <thead>\n",
       "    <tr style=\"text-align: right;\">\n",
       "      <th></th>\n",
       "      <th>A</th>\n",
       "      <th>B</th>\n",
       "    </tr>\n",
       "  </thead>\n",
       "  <tbody>\n",
       "    <tr>\n",
       "      <th>x</th>\n",
       "      <td>NaN</td>\n",
       "      <td>NaN</td>\n",
       "    </tr>\n",
       "    <tr>\n",
       "      <th>y</th>\n",
       "      <td>7.0</td>\n",
       "      <td>11.0</td>\n",
       "    </tr>\n",
       "    <tr>\n",
       "      <th>z</th>\n",
       "      <td>NaN</td>\n",
       "      <td>NaN</td>\n",
       "    </tr>\n",
       "  </tbody>\n",
       "</table>\n",
       "</div>"
      ],
      "text/plain": [
       "     A     B\n",
       "x  NaN   NaN\n",
       "y  7.0  11.0\n",
       "z  NaN   NaN"
      ]
     },
     "execution_count": 131,
     "metadata": {},
     "output_type": "execute_result"
    }
   ],
   "source": [
    "df1 + df2"
   ]
  },
  {
   "cell_type": "code",
   "execution_count": 132,
   "id": "a75ed903-8a3c-4ab2-9212-a5d36850cd0e",
   "metadata": {},
   "outputs": [
    {
     "data": {
      "text/html": [
       "<div>\n",
       "<style scoped>\n",
       "    .dataframe tbody tr th:only-of-type {\n",
       "        vertical-align: middle;\n",
       "    }\n",
       "\n",
       "    .dataframe tbody tr th {\n",
       "        vertical-align: top;\n",
       "    }\n",
       "\n",
       "    .dataframe thead th {\n",
       "        text-align: right;\n",
       "    }\n",
       "</style>\n",
       "<table border=\"1\" class=\"dataframe\">\n",
       "  <thead>\n",
       "    <tr style=\"text-align: right;\">\n",
       "      <th></th>\n",
       "      <th>A</th>\n",
       "      <th>B</th>\n",
       "    </tr>\n",
       "  </thead>\n",
       "  <tbody>\n",
       "    <tr>\n",
       "      <th>x</th>\n",
       "      <td>1.0</td>\n",
       "      <td>3.0</td>\n",
       "    </tr>\n",
       "    <tr>\n",
       "      <th>y</th>\n",
       "      <td>7.0</td>\n",
       "      <td>11.0</td>\n",
       "    </tr>\n",
       "    <tr>\n",
       "      <th>z</th>\n",
       "      <td>6.0</td>\n",
       "      <td>8.0</td>\n",
       "    </tr>\n",
       "  </tbody>\n",
       "</table>\n",
       "</div>"
      ],
      "text/plain": [
       "     A     B\n",
       "x  1.0   3.0\n",
       "y  7.0  11.0\n",
       "z  6.0   8.0"
      ]
     },
     "execution_count": 132,
     "metadata": {},
     "output_type": "execute_result"
    }
   ],
   "source": [
    "df1.add(df2, fill_value = 0)"
   ]
  },
  {
   "cell_type": "code",
   "execution_count": 133,
   "id": "1ff9fc2f-6796-4740-adcd-a9e033f31b18",
   "metadata": {},
   "outputs": [],
   "source": [
    "# Arithmetic methods with fill values\n",
    "df1 = pd.DataFrame({'A': [1, 2], 'B': [3, 4]}, index=['x', 'y'])\n",
    "df2 = pd.DataFrame({'A': [5, 6], 'C': [7, 8]}, index=['y', 'z'])"
   ]
  },
  {
   "cell_type": "code",
   "execution_count": 134,
   "id": "cbcd2abe-bceb-4513-b667-6cf0b7c44497",
   "metadata": {},
   "outputs": [
    {
     "data": {
      "text/html": [
       "<div>\n",
       "<style scoped>\n",
       "    .dataframe tbody tr th:only-of-type {\n",
       "        vertical-align: middle;\n",
       "    }\n",
       "\n",
       "    .dataframe tbody tr th {\n",
       "        vertical-align: top;\n",
       "    }\n",
       "\n",
       "    .dataframe thead th {\n",
       "        text-align: right;\n",
       "    }\n",
       "</style>\n",
       "<table border=\"1\" class=\"dataframe\">\n",
       "  <thead>\n",
       "    <tr style=\"text-align: right;\">\n",
       "      <th></th>\n",
       "      <th>A</th>\n",
       "      <th>B</th>\n",
       "    </tr>\n",
       "  </thead>\n",
       "  <tbody>\n",
       "    <tr>\n",
       "      <th>x</th>\n",
       "      <td>1</td>\n",
       "      <td>3</td>\n",
       "    </tr>\n",
       "    <tr>\n",
       "      <th>y</th>\n",
       "      <td>2</td>\n",
       "      <td>4</td>\n",
       "    </tr>\n",
       "  </tbody>\n",
       "</table>\n",
       "</div>"
      ],
      "text/plain": [
       "   A  B\n",
       "x  1  3\n",
       "y  2  4"
      ]
     },
     "execution_count": 134,
     "metadata": {},
     "output_type": "execute_result"
    }
   ],
   "source": [
    "df1"
   ]
  },
  {
   "cell_type": "code",
   "execution_count": 135,
   "id": "5d5d0699-9c78-443c-81d7-e8b89159e896",
   "metadata": {},
   "outputs": [
    {
     "data": {
      "text/html": [
       "<div>\n",
       "<style scoped>\n",
       "    .dataframe tbody tr th:only-of-type {\n",
       "        vertical-align: middle;\n",
       "    }\n",
       "\n",
       "    .dataframe tbody tr th {\n",
       "        vertical-align: top;\n",
       "    }\n",
       "\n",
       "    .dataframe thead th {\n",
       "        text-align: right;\n",
       "    }\n",
       "</style>\n",
       "<table border=\"1\" class=\"dataframe\">\n",
       "  <thead>\n",
       "    <tr style=\"text-align: right;\">\n",
       "      <th></th>\n",
       "      <th>A</th>\n",
       "      <th>C</th>\n",
       "    </tr>\n",
       "  </thead>\n",
       "  <tbody>\n",
       "    <tr>\n",
       "      <th>y</th>\n",
       "      <td>5</td>\n",
       "      <td>7</td>\n",
       "    </tr>\n",
       "    <tr>\n",
       "      <th>z</th>\n",
       "      <td>6</td>\n",
       "      <td>8</td>\n",
       "    </tr>\n",
       "  </tbody>\n",
       "</table>\n",
       "</div>"
      ],
      "text/plain": [
       "   A  C\n",
       "y  5  7\n",
       "z  6  8"
      ]
     },
     "execution_count": 135,
     "metadata": {},
     "output_type": "execute_result"
    }
   ],
   "source": [
    "df2"
   ]
  },
  {
   "cell_type": "code",
   "execution_count": 136,
   "id": "20847f91-a84b-42c9-aaa4-2905bb0052ae",
   "metadata": {},
   "outputs": [
    {
     "data": {
      "text/html": [
       "<div>\n",
       "<style scoped>\n",
       "    .dataframe tbody tr th:only-of-type {\n",
       "        vertical-align: middle;\n",
       "    }\n",
       "\n",
       "    .dataframe tbody tr th {\n",
       "        vertical-align: top;\n",
       "    }\n",
       "\n",
       "    .dataframe thead th {\n",
       "        text-align: right;\n",
       "    }\n",
       "</style>\n",
       "<table border=\"1\" class=\"dataframe\">\n",
       "  <thead>\n",
       "    <tr style=\"text-align: right;\">\n",
       "      <th></th>\n",
       "      <th>A</th>\n",
       "      <th>B</th>\n",
       "      <th>C</th>\n",
       "    </tr>\n",
       "  </thead>\n",
       "  <tbody>\n",
       "    <tr>\n",
       "      <th>x</th>\n",
       "      <td>1.0</td>\n",
       "      <td>3.0</td>\n",
       "      <td>NaN</td>\n",
       "    </tr>\n",
       "    <tr>\n",
       "      <th>y</th>\n",
       "      <td>7.0</td>\n",
       "      <td>4.0</td>\n",
       "      <td>7.0</td>\n",
       "    </tr>\n",
       "    <tr>\n",
       "      <th>z</th>\n",
       "      <td>6.0</td>\n",
       "      <td>NaN</td>\n",
       "      <td>8.0</td>\n",
       "    </tr>\n",
       "  </tbody>\n",
       "</table>\n",
       "</div>"
      ],
      "text/plain": [
       "     A    B    C\n",
       "x  1.0  3.0  NaN\n",
       "y  7.0  4.0  7.0\n",
       "z  6.0  NaN  8.0"
      ]
     },
     "execution_count": 136,
     "metadata": {},
     "output_type": "execute_result"
    }
   ],
   "source": [
    "df1.add(df2, fill_value= 0)"
   ]
  },
  {
   "cell_type": "code",
   "execution_count": 137,
   "id": "ddb34e0e-5743-48be-bbec-54e4289a56b2",
   "metadata": {},
   "outputs": [
    {
     "data": {
      "text/html": [
       "<div>\n",
       "<style scoped>\n",
       "    .dataframe tbody tr th:only-of-type {\n",
       "        vertical-align: middle;\n",
       "    }\n",
       "\n",
       "    .dataframe tbody tr th {\n",
       "        vertical-align: top;\n",
       "    }\n",
       "\n",
       "    .dataframe thead th {\n",
       "        text-align: right;\n",
       "    }\n",
       "</style>\n",
       "<table border=\"1\" class=\"dataframe\">\n",
       "  <thead>\n",
       "    <tr style=\"text-align: right;\">\n",
       "      <th></th>\n",
       "      <th>A</th>\n",
       "      <th>B</th>\n",
       "      <th>C</th>\n",
       "    </tr>\n",
       "  </thead>\n",
       "  <tbody>\n",
       "    <tr>\n",
       "      <th>x</th>\n",
       "      <td>1.0</td>\n",
       "      <td>3.0</td>\n",
       "      <td>0.0</td>\n",
       "    </tr>\n",
       "    <tr>\n",
       "      <th>y</th>\n",
       "      <td>7.0</td>\n",
       "      <td>4.0</td>\n",
       "      <td>7.0</td>\n",
       "    </tr>\n",
       "    <tr>\n",
       "      <th>z</th>\n",
       "      <td>6.0</td>\n",
       "      <td>0.0</td>\n",
       "      <td>8.0</td>\n",
       "    </tr>\n",
       "  </tbody>\n",
       "</table>\n",
       "</div>"
      ],
      "text/plain": [
       "     A    B    C\n",
       "x  1.0  3.0  0.0\n",
       "y  7.0  4.0  7.0\n",
       "z  6.0  0.0  8.0"
      ]
     },
     "execution_count": 137,
     "metadata": {},
     "output_type": "execute_result"
    }
   ],
   "source": [
    "# Since there are unmatched datas in the operation so it results in NaN\n",
    "# we can fill NaN with 0\n",
    "df1.add(df2, fill_value = 0).fillna(0)   # fill the NaN after operation with 0"
   ]
  },
  {
   "cell_type": "code",
   "execution_count": 138,
   "id": "d376ca10-6c8a-4d2c-8f33-a6cba0313592",
   "metadata": {},
   "outputs": [],
   "source": [
    "# Another flexible arithmetic methods\n",
    "# add, radd:  Methods for addition (+)\n",
    "# sub, rsub:  Methods for subtraction (-)\n",
    "# div, rdiv: Methods for division (/)\n",
    "# floordiv, rfloordiv:  Methods for floor division (//)\n",
    "# mul, rmul:  Methods for multiplication (*)\n",
    "# pow, rpow:  Methods for exponentiation (**)"
   ]
  },
  {
   "cell_type": "code",
   "execution_count": 139,
   "id": "faa5c71d-e54d-4f74-8bb9-1792b8d43389",
   "metadata": {},
   "outputs": [],
   "source": [
    "# Operations between DataFrame and Series\n",
    "df = pd.DataFrame(np.arange(12).reshape(4, 3), \n",
    "                  index = ['Arsenal', 'Liverpool', 'Man United', 'Man City'],\n",
    "                  columns = ['UCL', 'Fa Cup', 'Premier League'])\n",
    "s = pd.Series(np.arange(2, 5), index = ['UCL', 'Fa Cup', 'Premier League'])"
   ]
  },
  {
   "cell_type": "code",
   "execution_count": 140,
   "id": "9fe4fa9b-200c-470e-aa9e-87803f77a44f",
   "metadata": {},
   "outputs": [
    {
     "data": {
      "text/html": [
       "<div>\n",
       "<style scoped>\n",
       "    .dataframe tbody tr th:only-of-type {\n",
       "        vertical-align: middle;\n",
       "    }\n",
       "\n",
       "    .dataframe tbody tr th {\n",
       "        vertical-align: top;\n",
       "    }\n",
       "\n",
       "    .dataframe thead th {\n",
       "        text-align: right;\n",
       "    }\n",
       "</style>\n",
       "<table border=\"1\" class=\"dataframe\">\n",
       "  <thead>\n",
       "    <tr style=\"text-align: right;\">\n",
       "      <th></th>\n",
       "      <th>UCL</th>\n",
       "      <th>Fa Cup</th>\n",
       "      <th>Premier League</th>\n",
       "    </tr>\n",
       "  </thead>\n",
       "  <tbody>\n",
       "    <tr>\n",
       "      <th>Arsenal</th>\n",
       "      <td>0</td>\n",
       "      <td>1</td>\n",
       "      <td>2</td>\n",
       "    </tr>\n",
       "    <tr>\n",
       "      <th>Liverpool</th>\n",
       "      <td>3</td>\n",
       "      <td>4</td>\n",
       "      <td>5</td>\n",
       "    </tr>\n",
       "    <tr>\n",
       "      <th>Man United</th>\n",
       "      <td>6</td>\n",
       "      <td>7</td>\n",
       "      <td>8</td>\n",
       "    </tr>\n",
       "    <tr>\n",
       "      <th>Man City</th>\n",
       "      <td>9</td>\n",
       "      <td>10</td>\n",
       "      <td>11</td>\n",
       "    </tr>\n",
       "  </tbody>\n",
       "</table>\n",
       "</div>"
      ],
      "text/plain": [
       "            UCL  Fa Cup  Premier League\n",
       "Arsenal       0       1               2\n",
       "Liverpool     3       4               5\n",
       "Man United    6       7               8\n",
       "Man City      9      10              11"
      ]
     },
     "execution_count": 140,
     "metadata": {},
     "output_type": "execute_result"
    }
   ],
   "source": [
    "df"
   ]
  },
  {
   "cell_type": "code",
   "execution_count": 141,
   "id": "df994125-712b-473b-9ef1-3f6d1d9fb9e6",
   "metadata": {},
   "outputs": [
    {
     "data": {
      "text/plain": [
       "UCL               2\n",
       "Fa Cup            3\n",
       "Premier League    4\n",
       "dtype: int64"
      ]
     },
     "execution_count": 141,
     "metadata": {},
     "output_type": "execute_result"
    }
   ],
   "source": [
    "s"
   ]
  },
  {
   "cell_type": "code",
   "execution_count": 142,
   "id": "ad2928d0-dd6c-4556-9503-937d75de717f",
   "metadata": {},
   "outputs": [
    {
     "data": {
      "text/html": [
       "<div>\n",
       "<style scoped>\n",
       "    .dataframe tbody tr th:only-of-type {\n",
       "        vertical-align: middle;\n",
       "    }\n",
       "\n",
       "    .dataframe tbody tr th {\n",
       "        vertical-align: top;\n",
       "    }\n",
       "\n",
       "    .dataframe thead th {\n",
       "        text-align: right;\n",
       "    }\n",
       "</style>\n",
       "<table border=\"1\" class=\"dataframe\">\n",
       "  <thead>\n",
       "    <tr style=\"text-align: right;\">\n",
       "      <th></th>\n",
       "      <th>UCL</th>\n",
       "      <th>Fa Cup</th>\n",
       "      <th>Premier League</th>\n",
       "    </tr>\n",
       "  </thead>\n",
       "  <tbody>\n",
       "    <tr>\n",
       "      <th>Arsenal</th>\n",
       "      <td>2</td>\n",
       "      <td>4</td>\n",
       "      <td>6</td>\n",
       "    </tr>\n",
       "    <tr>\n",
       "      <th>Liverpool</th>\n",
       "      <td>5</td>\n",
       "      <td>7</td>\n",
       "      <td>9</td>\n",
       "    </tr>\n",
       "    <tr>\n",
       "      <th>Man United</th>\n",
       "      <td>8</td>\n",
       "      <td>10</td>\n",
       "      <td>12</td>\n",
       "    </tr>\n",
       "    <tr>\n",
       "      <th>Man City</th>\n",
       "      <td>11</td>\n",
       "      <td>13</td>\n",
       "      <td>15</td>\n",
       "    </tr>\n",
       "  </tbody>\n",
       "</table>\n",
       "</div>"
      ],
      "text/plain": [
       "            UCL  Fa Cup  Premier League\n",
       "Arsenal       2       4               6\n",
       "Liverpool     5       7               9\n",
       "Man United    8      10              12\n",
       "Man City     11      13              15"
      ]
     },
     "execution_count": 142,
     "metadata": {},
     "output_type": "execute_result"
    }
   ],
   "source": [
    "# By default, arithmetic between DataFrame and Series matches the index of the Series\n",
    "# on the columns of the DataFrame, broadcasting down the rows:\n",
    "df + s"
   ]
  },
  {
   "cell_type": "code",
   "execution_count": 143,
   "id": "f8f94ee8-5105-478f-98c0-ccf34f336741",
   "metadata": {},
   "outputs": [
    {
     "data": {
      "text/html": [
       "<div>\n",
       "<style scoped>\n",
       "    .dataframe tbody tr th:only-of-type {\n",
       "        vertical-align: middle;\n",
       "    }\n",
       "\n",
       "    .dataframe tbody tr th {\n",
       "        vertical-align: top;\n",
       "    }\n",
       "\n",
       "    .dataframe thead th {\n",
       "        text-align: right;\n",
       "    }\n",
       "</style>\n",
       "<table border=\"1\" class=\"dataframe\">\n",
       "  <thead>\n",
       "    <tr style=\"text-align: right;\">\n",
       "      <th></th>\n",
       "      <th>UCL</th>\n",
       "      <th>Fa Cup</th>\n",
       "      <th>Premier League</th>\n",
       "    </tr>\n",
       "  </thead>\n",
       "  <tbody>\n",
       "    <tr>\n",
       "      <th>Arsenal</th>\n",
       "      <td>0</td>\n",
       "      <td>3</td>\n",
       "      <td>8</td>\n",
       "    </tr>\n",
       "    <tr>\n",
       "      <th>Liverpool</th>\n",
       "      <td>6</td>\n",
       "      <td>12</td>\n",
       "      <td>20</td>\n",
       "    </tr>\n",
       "    <tr>\n",
       "      <th>Man United</th>\n",
       "      <td>12</td>\n",
       "      <td>21</td>\n",
       "      <td>32</td>\n",
       "    </tr>\n",
       "    <tr>\n",
       "      <th>Man City</th>\n",
       "      <td>18</td>\n",
       "      <td>30</td>\n",
       "      <td>44</td>\n",
       "    </tr>\n",
       "  </tbody>\n",
       "</table>\n",
       "</div>"
      ],
      "text/plain": [
       "            UCL  Fa Cup  Premier League\n",
       "Arsenal       0       3               8\n",
       "Liverpool     6      12              20\n",
       "Man United   12      21              32\n",
       "Man City     18      30              44"
      ]
     },
     "execution_count": 143,
     "metadata": {},
     "output_type": "execute_result"
    }
   ],
   "source": [
    "df * s"
   ]
  },
  {
   "cell_type": "code",
   "execution_count": 144,
   "id": "a7d53916-4dc7-444a-a55a-c7b3f2ff8054",
   "metadata": {},
   "outputs": [],
   "source": [
    "s2 = pd.Series(np.arange(10, 13), index = ['Premier League', 'EFL', 'UCL'])"
   ]
  },
  {
   "cell_type": "code",
   "execution_count": 145,
   "id": "8f068614-19fa-42d3-a307-414e78123173",
   "metadata": {},
   "outputs": [
    {
     "data": {
      "text/html": [
       "<div>\n",
       "<style scoped>\n",
       "    .dataframe tbody tr th:only-of-type {\n",
       "        vertical-align: middle;\n",
       "    }\n",
       "\n",
       "    .dataframe tbody tr th {\n",
       "        vertical-align: top;\n",
       "    }\n",
       "\n",
       "    .dataframe thead th {\n",
       "        text-align: right;\n",
       "    }\n",
       "</style>\n",
       "<table border=\"1\" class=\"dataframe\">\n",
       "  <thead>\n",
       "    <tr style=\"text-align: right;\">\n",
       "      <th></th>\n",
       "      <th>UCL</th>\n",
       "      <th>Fa Cup</th>\n",
       "      <th>Premier League</th>\n",
       "    </tr>\n",
       "  </thead>\n",
       "  <tbody>\n",
       "    <tr>\n",
       "      <th>Arsenal</th>\n",
       "      <td>0</td>\n",
       "      <td>1</td>\n",
       "      <td>2</td>\n",
       "    </tr>\n",
       "    <tr>\n",
       "      <th>Liverpool</th>\n",
       "      <td>3</td>\n",
       "      <td>4</td>\n",
       "      <td>5</td>\n",
       "    </tr>\n",
       "    <tr>\n",
       "      <th>Man United</th>\n",
       "      <td>6</td>\n",
       "      <td>7</td>\n",
       "      <td>8</td>\n",
       "    </tr>\n",
       "    <tr>\n",
       "      <th>Man City</th>\n",
       "      <td>9</td>\n",
       "      <td>10</td>\n",
       "      <td>11</td>\n",
       "    </tr>\n",
       "  </tbody>\n",
       "</table>\n",
       "</div>"
      ],
      "text/plain": [
       "            UCL  Fa Cup  Premier League\n",
       "Arsenal       0       1               2\n",
       "Liverpool     3       4               5\n",
       "Man United    6       7               8\n",
       "Man City      9      10              11"
      ]
     },
     "execution_count": 145,
     "metadata": {},
     "output_type": "execute_result"
    }
   ],
   "source": [
    "df"
   ]
  },
  {
   "cell_type": "code",
   "execution_count": 146,
   "id": "af08f11a-7e44-4968-9d52-373ac424f9f8",
   "metadata": {},
   "outputs": [
    {
     "data": {
      "text/plain": [
       "Premier League    10\n",
       "EFL               11\n",
       "UCL               12\n",
       "dtype: int64"
      ]
     },
     "execution_count": 146,
     "metadata": {},
     "output_type": "execute_result"
    }
   ],
   "source": [
    "s2"
   ]
  },
  {
   "cell_type": "code",
   "execution_count": 147,
   "id": "ee03ae31-1668-46e1-a8f5-5986dc778246",
   "metadata": {},
   "outputs": [
    {
     "data": {
      "text/html": [
       "<div>\n",
       "<style scoped>\n",
       "    .dataframe tbody tr th:only-of-type {\n",
       "        vertical-align: middle;\n",
       "    }\n",
       "\n",
       "    .dataframe tbody tr th {\n",
       "        vertical-align: top;\n",
       "    }\n",
       "\n",
       "    .dataframe thead th {\n",
       "        text-align: right;\n",
       "    }\n",
       "</style>\n",
       "<table border=\"1\" class=\"dataframe\">\n",
       "  <thead>\n",
       "    <tr style=\"text-align: right;\">\n",
       "      <th></th>\n",
       "      <th>EFL</th>\n",
       "      <th>Fa Cup</th>\n",
       "      <th>Premier League</th>\n",
       "      <th>UCL</th>\n",
       "    </tr>\n",
       "  </thead>\n",
       "  <tbody>\n",
       "    <tr>\n",
       "      <th>Arsenal</th>\n",
       "      <td>NaN</td>\n",
       "      <td>NaN</td>\n",
       "      <td>12.0</td>\n",
       "      <td>12.0</td>\n",
       "    </tr>\n",
       "    <tr>\n",
       "      <th>Liverpool</th>\n",
       "      <td>NaN</td>\n",
       "      <td>NaN</td>\n",
       "      <td>15.0</td>\n",
       "      <td>15.0</td>\n",
       "    </tr>\n",
       "    <tr>\n",
       "      <th>Man United</th>\n",
       "      <td>NaN</td>\n",
       "      <td>NaN</td>\n",
       "      <td>18.0</td>\n",
       "      <td>18.0</td>\n",
       "    </tr>\n",
       "    <tr>\n",
       "      <th>Man City</th>\n",
       "      <td>NaN</td>\n",
       "      <td>NaN</td>\n",
       "      <td>21.0</td>\n",
       "      <td>21.0</td>\n",
       "    </tr>\n",
       "  </tbody>\n",
       "</table>\n",
       "</div>"
      ],
      "text/plain": [
       "            EFL  Fa Cup  Premier League   UCL\n",
       "Arsenal     NaN     NaN            12.0  12.0\n",
       "Liverpool   NaN     NaN            15.0  15.0\n",
       "Man United  NaN     NaN            18.0  18.0\n",
       "Man City    NaN     NaN            21.0  21.0"
      ]
     },
     "execution_count": 147,
     "metadata": {},
     "output_type": "execute_result"
    }
   ],
   "source": [
    "df + s2    # We arr trying to broadcasting over the rows"
   ]
  },
  {
   "cell_type": "code",
   "execution_count": 148,
   "id": "4617454d-de34-43c6-9de6-5f8bc75445de",
   "metadata": {},
   "outputs": [],
   "source": [
    "# If we want to instead broadcast over the columns, matching on the rows, we have to\n",
    "# use one of the arithmetic methods and specify to match over the index.\n",
    "s3 = pd.Series([2, 4, 1, 2], index = ['Arsenal', 'Man United', 'Liverpool', 'Man City'])"
   ]
  },
  {
   "cell_type": "code",
   "execution_count": 149,
   "id": "592d92f5-37c7-492a-8487-665ed4370e8b",
   "metadata": {},
   "outputs": [
    {
     "data": {
      "text/html": [
       "<div>\n",
       "<style scoped>\n",
       "    .dataframe tbody tr th:only-of-type {\n",
       "        vertical-align: middle;\n",
       "    }\n",
       "\n",
       "    .dataframe tbody tr th {\n",
       "        vertical-align: top;\n",
       "    }\n",
       "\n",
       "    .dataframe thead th {\n",
       "        text-align: right;\n",
       "    }\n",
       "</style>\n",
       "<table border=\"1\" class=\"dataframe\">\n",
       "  <thead>\n",
       "    <tr style=\"text-align: right;\">\n",
       "      <th></th>\n",
       "      <th>UCL</th>\n",
       "      <th>Fa Cup</th>\n",
       "      <th>Premier League</th>\n",
       "    </tr>\n",
       "  </thead>\n",
       "  <tbody>\n",
       "    <tr>\n",
       "      <th>Arsenal</th>\n",
       "      <td>0</td>\n",
       "      <td>1</td>\n",
       "      <td>2</td>\n",
       "    </tr>\n",
       "    <tr>\n",
       "      <th>Liverpool</th>\n",
       "      <td>3</td>\n",
       "      <td>4</td>\n",
       "      <td>5</td>\n",
       "    </tr>\n",
       "    <tr>\n",
       "      <th>Man United</th>\n",
       "      <td>6</td>\n",
       "      <td>7</td>\n",
       "      <td>8</td>\n",
       "    </tr>\n",
       "    <tr>\n",
       "      <th>Man City</th>\n",
       "      <td>9</td>\n",
       "      <td>10</td>\n",
       "      <td>11</td>\n",
       "    </tr>\n",
       "  </tbody>\n",
       "</table>\n",
       "</div>"
      ],
      "text/plain": [
       "            UCL  Fa Cup  Premier League\n",
       "Arsenal       0       1               2\n",
       "Liverpool     3       4               5\n",
       "Man United    6       7               8\n",
       "Man City      9      10              11"
      ]
     },
     "execution_count": 149,
     "metadata": {},
     "output_type": "execute_result"
    }
   ],
   "source": [
    "df"
   ]
  },
  {
   "cell_type": "code",
   "execution_count": 150,
   "id": "beaccdc1-e868-48e2-bfed-69726b271a76",
   "metadata": {},
   "outputs": [
    {
     "data": {
      "text/plain": [
       "Arsenal       2\n",
       "Man United    4\n",
       "Liverpool     1\n",
       "Man City      2\n",
       "dtype: int64"
      ]
     },
     "execution_count": 150,
     "metadata": {},
     "output_type": "execute_result"
    }
   ],
   "source": [
    "s3"
   ]
  },
  {
   "cell_type": "code",
   "execution_count": 151,
   "id": "88a5bd91-d9c5-4472-9e5f-95fd7b7060c2",
   "metadata": {},
   "outputs": [
    {
     "data": {
      "text/html": [
       "<div>\n",
       "<style scoped>\n",
       "    .dataframe tbody tr th:only-of-type {\n",
       "        vertical-align: middle;\n",
       "    }\n",
       "\n",
       "    .dataframe tbody tr th {\n",
       "        vertical-align: top;\n",
       "    }\n",
       "\n",
       "    .dataframe thead th {\n",
       "        text-align: right;\n",
       "    }\n",
       "</style>\n",
       "<table border=\"1\" class=\"dataframe\">\n",
       "  <thead>\n",
       "    <tr style=\"text-align: right;\">\n",
       "      <th></th>\n",
       "      <th>UCL</th>\n",
       "      <th>Fa Cup</th>\n",
       "      <th>Premier League</th>\n",
       "    </tr>\n",
       "  </thead>\n",
       "  <tbody>\n",
       "    <tr>\n",
       "      <th>Arsenal</th>\n",
       "      <td>2</td>\n",
       "      <td>3</td>\n",
       "      <td>4</td>\n",
       "    </tr>\n",
       "    <tr>\n",
       "      <th>Liverpool</th>\n",
       "      <td>4</td>\n",
       "      <td>5</td>\n",
       "      <td>6</td>\n",
       "    </tr>\n",
       "    <tr>\n",
       "      <th>Man City</th>\n",
       "      <td>11</td>\n",
       "      <td>12</td>\n",
       "      <td>13</td>\n",
       "    </tr>\n",
       "    <tr>\n",
       "      <th>Man United</th>\n",
       "      <td>10</td>\n",
       "      <td>11</td>\n",
       "      <td>12</td>\n",
       "    </tr>\n",
       "  </tbody>\n",
       "</table>\n",
       "</div>"
      ],
      "text/plain": [
       "            UCL  Fa Cup  Premier League\n",
       "Arsenal       2       3               4\n",
       "Liverpool     4       5               6\n",
       "Man City     11      12              13\n",
       "Man United   10      11              12"
      ]
     },
     "execution_count": 151,
     "metadata": {},
     "output_type": "execute_result"
    }
   ],
   "source": [
    "# broadcast over the columns, matching on the rows\n",
    "# The axis that you pass is the axis to match on. In this case we mean to match on the\n",
    "# DataFrame’s row index (axis=\"index\") and broadcast across the columns.\n",
    "df.add(s3, axis = 'index')"
   ]
  },
  {
   "cell_type": "markdown",
   "id": "ffccc394-18f2-4b53-8e7b-5d1eb35f443a",
   "metadata": {},
   "source": [
    "####  Function Application and Mapping"
   ]
  },
  {
   "cell_type": "raw",
   "id": "347da474-740e-45b8-9244-9677ff2d1d61",
   "metadata": {},
   "source": [
    "NumPy ufuncs (element-wise array methods) also work with pandas objects"
   ]
  },
  {
   "cell_type": "code",
   "execution_count": 152,
   "id": "050cfb8b-b4fc-47bf-8a69-4e32b0d8f0d4",
   "metadata": {},
   "outputs": [
    {
     "data": {
      "text/html": [
       "<div>\n",
       "<style scoped>\n",
       "    .dataframe tbody tr th:only-of-type {\n",
       "        vertical-align: middle;\n",
       "    }\n",
       "\n",
       "    .dataframe tbody tr th {\n",
       "        vertical-align: top;\n",
       "    }\n",
       "\n",
       "    .dataframe thead th {\n",
       "        text-align: right;\n",
       "    }\n",
       "</style>\n",
       "<table border=\"1\" class=\"dataframe\">\n",
       "  <thead>\n",
       "    <tr style=\"text-align: right;\">\n",
       "      <th></th>\n",
       "      <th>Math</th>\n",
       "      <th>Science</th>\n",
       "      <th>English</th>\n",
       "    </tr>\n",
       "  </thead>\n",
       "  <tbody>\n",
       "    <tr>\n",
       "      <th>Test 1</th>\n",
       "      <td>82</td>\n",
       "      <td>98</td>\n",
       "      <td>47</td>\n",
       "    </tr>\n",
       "    <tr>\n",
       "      <th>Test 2</th>\n",
       "      <td>80</td>\n",
       "      <td>66</td>\n",
       "      <td>84</td>\n",
       "    </tr>\n",
       "    <tr>\n",
       "      <th>Test 3</th>\n",
       "      <td>48</td>\n",
       "      <td>77</td>\n",
       "      <td>89</td>\n",
       "    </tr>\n",
       "    <tr>\n",
       "      <th>Test 4</th>\n",
       "      <td>99</td>\n",
       "      <td>45</td>\n",
       "      <td>56</td>\n",
       "    </tr>\n",
       "  </tbody>\n",
       "</table>\n",
       "</div>"
      ],
      "text/plain": [
       "        Math  Science  English\n",
       "Test 1    82       98       47\n",
       "Test 2    80       66       84\n",
       "Test 3    48       77       89\n",
       "Test 4    99       45       56"
      ]
     },
     "execution_count": 152,
     "metadata": {},
     "output_type": "execute_result"
    }
   ],
   "source": [
    "df = pd.DataFrame(np.random.randint(40, 100, size = (4, 3)),\n",
    "                 index=['Test 1', 'Test 2', 'Test 3', 'Test 4'],\n",
    "                 columns=['Math', 'Science', 'English'])\n",
    "df"
   ]
  },
  {
   "cell_type": "code",
   "execution_count": 153,
   "id": "0166f7dc-b962-427e-a1c7-fb0f416bdad8",
   "metadata": {},
   "outputs": [
    {
     "data": {
      "text/html": [
       "<div>\n",
       "<style scoped>\n",
       "    .dataframe tbody tr th:only-of-type {\n",
       "        vertical-align: middle;\n",
       "    }\n",
       "\n",
       "    .dataframe tbody tr th {\n",
       "        vertical-align: top;\n",
       "    }\n",
       "\n",
       "    .dataframe thead th {\n",
       "        text-align: right;\n",
       "    }\n",
       "</style>\n",
       "<table border=\"1\" class=\"dataframe\">\n",
       "  <thead>\n",
       "    <tr style=\"text-align: right;\">\n",
       "      <th></th>\n",
       "      <th>Math</th>\n",
       "      <th>Science</th>\n",
       "      <th>English</th>\n",
       "    </tr>\n",
       "  </thead>\n",
       "  <tbody>\n",
       "    <tr>\n",
       "      <th>Test 1</th>\n",
       "      <td>4.093997e+35</td>\n",
       "      <td>3.637971e+42</td>\n",
       "      <td>2.581313e+20</td>\n",
       "    </tr>\n",
       "    <tr>\n",
       "      <th>Test 2</th>\n",
       "      <td>5.540622e+34</td>\n",
       "      <td>4.607187e+28</td>\n",
       "      <td>3.025077e+36</td>\n",
       "    </tr>\n",
       "    <tr>\n",
       "      <th>Test 3</th>\n",
       "      <td>7.016736e+20</td>\n",
       "      <td>2.758513e+33</td>\n",
       "      <td>4.489613e+38</td>\n",
       "    </tr>\n",
       "    <tr>\n",
       "      <th>Test 4</th>\n",
       "      <td>9.889030e+42</td>\n",
       "      <td>3.493427e+19</td>\n",
       "      <td>2.091659e+24</td>\n",
       "    </tr>\n",
       "  </tbody>\n",
       "</table>\n",
       "</div>"
      ],
      "text/plain": [
       "                Math       Science       English\n",
       "Test 1  4.093997e+35  3.637971e+42  2.581313e+20\n",
       "Test 2  5.540622e+34  4.607187e+28  3.025077e+36\n",
       "Test 3  7.016736e+20  2.758513e+33  4.489613e+38\n",
       "Test 4  9.889030e+42  3.493427e+19  2.091659e+24"
      ]
     },
     "execution_count": 153,
     "metadata": {},
     "output_type": "execute_result"
    }
   ],
   "source": [
    "# Element-wise exponent value \n",
    "np.exp(df)"
   ]
  },
  {
   "cell_type": "raw",
   "id": "ca4a87be-5274-41dc-acc8-409c7f4322e9",
   "metadata": {},
   "source": [
    "Apply method\n",
    "The apply() method is more flexible and can be used on both Series and DataFrames. It allows us to apply a function along an axis of the DataFrame or element-wise on a Series."
   ]
  },
  {
   "cell_type": "code",
   "execution_count": 154,
   "id": "ca0da9ca-9541-42fb-b80d-f25e29ac1fc5",
   "metadata": {},
   "outputs": [
    {
     "data": {
      "text/plain": [
       "0    10\n",
       "1    15\n",
       "2    20\n",
       "3    25\n",
       "4    30\n",
       "dtype: int64"
      ]
     },
     "execution_count": 154,
     "metadata": {},
     "output_type": "execute_result"
    }
   ],
   "source": [
    "n = pd.Series([10, 15, 20, 25, 30])\n",
    "n"
   ]
  },
  {
   "cell_type": "code",
   "execution_count": 155,
   "id": "04b0f874-c7c5-4d98-9a38-691244646c19",
   "metadata": {},
   "outputs": [],
   "source": [
    "# Let's define custum function\n",
    "def even_or_odd(x):\n",
    "    if x % 2 == 0:\n",
    "        return 'even'\n",
    "    else:\n",
    "        return 'odd'"
   ]
  },
  {
   "cell_type": "code",
   "execution_count": 156,
   "id": "1c294884-d9aa-4ee1-aff9-a4579182576d",
   "metadata": {},
   "outputs": [
    {
     "data": {
      "text/plain": [
       "0    even\n",
       "1     odd\n",
       "2    even\n",
       "3     odd\n",
       "4    even\n",
       "dtype: object"
      ]
     },
     "execution_count": 156,
     "metadata": {},
     "output_type": "execute_result"
    }
   ],
   "source": [
    "# Now lets apply to the series 'n'\n",
    "n.apply(even_or_odd)"
   ]
  },
  {
   "cell_type": "code",
   "execution_count": 157,
   "id": "48a62391-480a-4e6a-bfa2-cb3b4ed3b6c9",
   "metadata": {},
   "outputs": [
    {
     "data": {
      "text/plain": [
       "0    Even\n",
       "1     Odd\n",
       "2    Even\n",
       "3     Odd\n",
       "4    Even\n",
       "dtype: object"
      ]
     },
     "execution_count": 157,
     "metadata": {},
     "output_type": "execute_result"
    }
   ],
   "source": [
    "# We can us lambda function\n",
    "n.apply(lambda x: 'Even' if x % 2 == 0 else 'Odd')"
   ]
  },
  {
   "cell_type": "code",
   "execution_count": 158,
   "id": "f185c982-2963-4149-9459-55f169565561",
   "metadata": {},
   "outputs": [],
   "source": [
    "data = pd.DataFrame({\n",
    "    'Math': [80, 90, 70],\n",
    "    'Science': [85, 95, 75],\n",
    "    'English': [78, 88, 82]\n",
    "}, index=['Alice', 'Bob', 'Charlie'])"
   ]
  },
  {
   "cell_type": "code",
   "execution_count": 159,
   "id": "c3e4483f-5329-4869-84b7-37403de46197",
   "metadata": {},
   "outputs": [
    {
     "data": {
      "text/html": [
       "<div>\n",
       "<style scoped>\n",
       "    .dataframe tbody tr th:only-of-type {\n",
       "        vertical-align: middle;\n",
       "    }\n",
       "\n",
       "    .dataframe tbody tr th {\n",
       "        vertical-align: top;\n",
       "    }\n",
       "\n",
       "    .dataframe thead th {\n",
       "        text-align: right;\n",
       "    }\n",
       "</style>\n",
       "<table border=\"1\" class=\"dataframe\">\n",
       "  <thead>\n",
       "    <tr style=\"text-align: right;\">\n",
       "      <th></th>\n",
       "      <th>Math</th>\n",
       "      <th>Science</th>\n",
       "      <th>English</th>\n",
       "    </tr>\n",
       "  </thead>\n",
       "  <tbody>\n",
       "    <tr>\n",
       "      <th>Alice</th>\n",
       "      <td>80</td>\n",
       "      <td>85</td>\n",
       "      <td>78</td>\n",
       "    </tr>\n",
       "    <tr>\n",
       "      <th>Bob</th>\n",
       "      <td>90</td>\n",
       "      <td>95</td>\n",
       "      <td>88</td>\n",
       "    </tr>\n",
       "    <tr>\n",
       "      <th>Charlie</th>\n",
       "      <td>70</td>\n",
       "      <td>75</td>\n",
       "      <td>82</td>\n",
       "    </tr>\n",
       "  </tbody>\n",
       "</table>\n",
       "</div>"
      ],
      "text/plain": [
       "         Math  Science  English\n",
       "Alice      80       85       78\n",
       "Bob        90       95       88\n",
       "Charlie    70       75       82"
      ]
     },
     "execution_count": 159,
     "metadata": {},
     "output_type": "execute_result"
    }
   ],
   "source": [
    "data"
   ]
  },
  {
   "cell_type": "code",
   "execution_count": 160,
   "id": "cca8262f-0b5d-4484-9e58-24aa0181578d",
   "metadata": {},
   "outputs": [],
   "source": [
    "# let's define a function to find the avarage marks\n",
    "# x is a row or column of the data frame\n",
    "def average(x):\n",
    "    return x.mean()"
   ]
  },
  {
   "cell_type": "code",
   "execution_count": 161,
   "id": "c3e0fdbd-354f-4771-b30d-b516208defd0",
   "metadata": {},
   "outputs": [
    {
     "data": {
      "text/plain": [
       "Alice      81.000000\n",
       "Bob        91.000000\n",
       "Charlie    75.666667\n",
       "dtype: float64"
      ]
     },
     "execution_count": 161,
     "metadata": {},
     "output_type": "execute_result"
    }
   ],
   "source": [
    "# to calculate the average for each students\n",
    "data.apply(average, axis = 'columns')"
   ]
  },
  {
   "cell_type": "code",
   "execution_count": 162,
   "id": "3e779fce-ea9e-41e9-9dca-a3ac098f7338",
   "metadata": {},
   "outputs": [
    {
     "data": {
      "text/plain": [
       "Math       80.000000\n",
       "Science    85.000000\n",
       "English    82.666667\n",
       "dtype: float64"
      ]
     },
     "execution_count": 162,
     "metadata": {},
     "output_type": "execute_result"
    }
   ],
   "source": [
    "# to calculate average of the subjects\n",
    "data.apply(average)"
   ]
  },
  {
   "cell_type": "code",
   "execution_count": 163,
   "id": "ad7a3b78-21cb-42ac-af0e-85966717a336",
   "metadata": {},
   "outputs": [
    {
     "data": {
      "text/plain": [
       "Math       99\n",
       "Science    98\n",
       "English    89\n",
       "dtype: int64"
      ]
     },
     "execution_count": 163,
     "metadata": {},
     "output_type": "execute_result"
    }
   ],
   "source": [
    "# for example lets apply the max function along both column-wise and row-wise\n",
    "# Apply column-wise\n",
    "df.apply(max)    # maximum data from each columns"
   ]
  },
  {
   "cell_type": "code",
   "execution_count": 164,
   "id": "ffc84c63-bb54-4aa2-956b-a33f5dd5a0d0",
   "metadata": {},
   "outputs": [
    {
     "data": {
      "text/plain": [
       "Alice      81.000000\n",
       "Bob        91.000000\n",
       "Charlie    75.666667\n",
       "dtype: float64"
      ]
     },
     "execution_count": 164,
     "metadata": {},
     "output_type": "execute_result"
    }
   ],
   "source": [
    "# using lambda function\n",
    "data.apply(lambda x: x.mean(), axis = 1)"
   ]
  },
  {
   "cell_type": "code",
   "execution_count": 165,
   "id": "c8883acb-bf44-46c7-84e9-b24654fda3be",
   "metadata": {},
   "outputs": [
    {
     "data": {
      "text/plain": [
       "Math       80.000000\n",
       "Science    85.000000\n",
       "English    82.666667\n",
       "dtype: float64"
      ]
     },
     "execution_count": 165,
     "metadata": {},
     "output_type": "execute_result"
    }
   ],
   "source": [
    "data.apply(lambda x: x.mean())"
   ]
  },
  {
   "cell_type": "code",
   "execution_count": 166,
   "id": "ae0338cf-b468-41f7-b27a-8a2eb68d591c",
   "metadata": {},
   "outputs": [],
   "source": [
    "data['Average'] = data.apply(lambda x: x.mean(), axis = 1)   # 'index' = 0 and 'columns' = 1"
   ]
  },
  {
   "cell_type": "code",
   "execution_count": 167,
   "id": "dceee3b1-97e2-4202-9a29-6cdcd9d31c43",
   "metadata": {},
   "outputs": [
    {
     "data": {
      "text/html": [
       "<div>\n",
       "<style scoped>\n",
       "    .dataframe tbody tr th:only-of-type {\n",
       "        vertical-align: middle;\n",
       "    }\n",
       "\n",
       "    .dataframe tbody tr th {\n",
       "        vertical-align: top;\n",
       "    }\n",
       "\n",
       "    .dataframe thead th {\n",
       "        text-align: right;\n",
       "    }\n",
       "</style>\n",
       "<table border=\"1\" class=\"dataframe\">\n",
       "  <thead>\n",
       "    <tr style=\"text-align: right;\">\n",
       "      <th></th>\n",
       "      <th>Math</th>\n",
       "      <th>Science</th>\n",
       "      <th>English</th>\n",
       "      <th>Average</th>\n",
       "    </tr>\n",
       "  </thead>\n",
       "  <tbody>\n",
       "    <tr>\n",
       "      <th>Alice</th>\n",
       "      <td>80</td>\n",
       "      <td>85</td>\n",
       "      <td>78</td>\n",
       "      <td>81.000000</td>\n",
       "    </tr>\n",
       "    <tr>\n",
       "      <th>Bob</th>\n",
       "      <td>90</td>\n",
       "      <td>95</td>\n",
       "      <td>88</td>\n",
       "      <td>91.000000</td>\n",
       "    </tr>\n",
       "    <tr>\n",
       "      <th>Charlie</th>\n",
       "      <td>70</td>\n",
       "      <td>75</td>\n",
       "      <td>82</td>\n",
       "      <td>75.666667</td>\n",
       "    </tr>\n",
       "  </tbody>\n",
       "</table>\n",
       "</div>"
      ],
      "text/plain": [
       "         Math  Science  English    Average\n",
       "Alice      80       85       78  81.000000\n",
       "Bob        90       95       88  91.000000\n",
       "Charlie    70       75       82  75.666667"
      ]
     },
     "execution_count": 167,
     "metadata": {},
     "output_type": "execute_result"
    }
   ],
   "source": [
    "data"
   ]
  },
  {
   "cell_type": "code",
   "execution_count": 168,
   "id": "2a66defc-5a29-4a55-aaa9-6095888bee27",
   "metadata": {},
   "outputs": [
    {
     "data": {
      "text/plain": [
       "Alice      85.0\n",
       "Bob        95.0\n",
       "Charlie    82.0\n",
       "dtype: float64"
      ]
     },
     "execution_count": 168,
     "metadata": {},
     "output_type": "execute_result"
    }
   ],
   "source": [
    "# If we want to apply row-wise we pass 'axis = \"columns\"'\n",
    "data.apply(max, axis = 'columns')"
   ]
  },
  {
   "cell_type": "code",
   "execution_count": 169,
   "id": "5c38692f-1172-47ca-8a61-591bd8630a4b",
   "metadata": {},
   "outputs": [
    {
     "data": {
      "text/plain": [
       "Alice      324.000000\n",
       "Bob        364.000000\n",
       "Charlie    302.666667\n",
       "dtype: float64"
      ]
     },
     "execution_count": 169,
     "metadata": {},
     "output_type": "execute_result"
    }
   ],
   "source": [
    "# Many of the most common array statistics (like sum and mean) are DataFrame methods, so using apply is not necessary.\n",
    "data.sum(axis = \"columns\")"
   ]
  },
  {
   "cell_type": "code",
   "execution_count": 170,
   "id": "6c2974d4-d93a-4cb9-b642-33fdaae608d0",
   "metadata": {},
   "outputs": [
    {
     "data": {
      "text/html": [
       "<div>\n",
       "<style scoped>\n",
       "    .dataframe tbody tr th:only-of-type {\n",
       "        vertical-align: middle;\n",
       "    }\n",
       "\n",
       "    .dataframe tbody tr th {\n",
       "        vertical-align: top;\n",
       "    }\n",
       "\n",
       "    .dataframe thead th {\n",
       "        text-align: right;\n",
       "    }\n",
       "</style>\n",
       "<table border=\"1\" class=\"dataframe\">\n",
       "  <thead>\n",
       "    <tr style=\"text-align: right;\">\n",
       "      <th></th>\n",
       "      <th>A</th>\n",
       "      <th>B</th>\n",
       "    </tr>\n",
       "  </thead>\n",
       "  <tbody>\n",
       "    <tr>\n",
       "      <th>0</th>\n",
       "      <td>1</td>\n",
       "      <td>4</td>\n",
       "    </tr>\n",
       "    <tr>\n",
       "      <th>1</th>\n",
       "      <td>2</td>\n",
       "      <td>5</td>\n",
       "    </tr>\n",
       "    <tr>\n",
       "      <th>2</th>\n",
       "      <td>3</td>\n",
       "      <td>6</td>\n",
       "    </tr>\n",
       "  </tbody>\n",
       "</table>\n",
       "</div>"
      ],
      "text/plain": [
       "   A  B\n",
       "0  1  4\n",
       "1  2  5\n",
       "2  3  6"
      ]
     },
     "execution_count": 170,
     "metadata": {},
     "output_type": "execute_result"
    }
   ],
   "source": [
    "# General Example\n",
    "df = pd.DataFrame({\n",
    "    'A': [1, 2, 3],\n",
    "    'B': [4, 5, 6]\n",
    "})\n",
    "df"
   ]
  },
  {
   "cell_type": "code",
   "execution_count": 171,
   "id": "e86ea1ea-7869-4df0-ad3c-94c81039a072",
   "metadata": {},
   "outputs": [
    {
     "data": {
      "text/plain": [
       "A     6\n",
       "B    15\n",
       "dtype: int64"
      ]
     },
     "execution_count": 171,
     "metadata": {},
     "output_type": "execute_result"
    }
   ],
   "source": [
    "# Apply method on dataframe\n",
    "df.apply(sum)    # sum of each column"
   ]
  },
  {
   "cell_type": "code",
   "execution_count": 172,
   "id": "ad8b8a48-e0d5-44c4-9737-17c15634bcb8",
   "metadata": {},
   "outputs": [
    {
     "data": {
      "text/plain": [
       "0    5\n",
       "1    7\n",
       "2    9\n",
       "dtype: int64"
      ]
     },
     "execution_count": 172,
     "metadata": {},
     "output_type": "execute_result"
    }
   ],
   "source": [
    "df.apply(sum, axis = 'columns')   # sum of each rows"
   ]
  },
  {
   "cell_type": "code",
   "execution_count": 173,
   "id": "50fb557d-32e3-4d5c-94fb-044fc53ead43",
   "metadata": {},
   "outputs": [
    {
     "name": "stdout",
     "output_type": "stream",
     "text": [
      "A    2.0\n",
      "B    5.0\n",
      "dtype: float64\n",
      "0    2.5\n",
      "1    3.5\n",
      "2    4.5\n",
      "dtype: float64\n"
     ]
    }
   ],
   "source": [
    "print(df.apply(np.mean))                    # mean of each columns\n",
    "print(df.apply(np.mean, axis = 'columns'))  # mean of each rows"
   ]
  },
  {
   "cell_type": "raw",
   "id": "b9e5d9d4-10bf-4c93-bd9d-d4edae982486",
   "metadata": {},
   "source": [
    "map method\n",
    "map() applies a function element-wise to each cell in a DataFrame or series."
   ]
  },
  {
   "cell_type": "code",
   "execution_count": 174,
   "id": "a34839db-941b-4dbc-9f9d-ccfc03b336fd",
   "metadata": {},
   "outputs": [
    {
     "data": {
      "text/plain": [
       "0    1\n",
       "1    2\n",
       "2    3\n",
       "3    4\n",
       "dtype: int64"
      ]
     },
     "execution_count": 174,
     "metadata": {},
     "output_type": "execute_result"
    }
   ],
   "source": [
    "# Apply map function on Series\n",
    "s = pd.Series([1, 2, 3, 4])\n",
    "s"
   ]
  },
  {
   "cell_type": "code",
   "execution_count": 175,
   "id": "ff8dee9c-b3ea-4fc7-8caa-850f7083012a",
   "metadata": {},
   "outputs": [
    {
     "data": {
      "text/plain": [
       "0     46\n",
       "1     92\n",
       "2    138\n",
       "3    184\n",
       "dtype: int64"
      ]
     },
     "execution_count": 175,
     "metadata": {},
     "output_type": "execute_result"
    }
   ],
   "source": [
    "s.map(lambda x: x * 46)"
   ]
  },
  {
   "cell_type": "code",
   "execution_count": 176,
   "id": "ead32a31-3ac6-40d1-9d3d-2d7d49d6a7a5",
   "metadata": {},
   "outputs": [
    {
     "data": {
      "text/html": [
       "<div>\n",
       "<style scoped>\n",
       "    .dataframe tbody tr th:only-of-type {\n",
       "        vertical-align: middle;\n",
       "    }\n",
       "\n",
       "    .dataframe tbody tr th {\n",
       "        vertical-align: top;\n",
       "    }\n",
       "\n",
       "    .dataframe thead th {\n",
       "        text-align: right;\n",
       "    }\n",
       "</style>\n",
       "<table border=\"1\" class=\"dataframe\">\n",
       "  <thead>\n",
       "    <tr style=\"text-align: right;\">\n",
       "      <th></th>\n",
       "      <th>A</th>\n",
       "      <th>B</th>\n",
       "    </tr>\n",
       "  </thead>\n",
       "  <tbody>\n",
       "    <tr>\n",
       "      <th>0</th>\n",
       "      <td>1</td>\n",
       "      <td>4</td>\n",
       "    </tr>\n",
       "    <tr>\n",
       "      <th>1</th>\n",
       "      <td>2</td>\n",
       "      <td>5</td>\n",
       "    </tr>\n",
       "    <tr>\n",
       "      <th>2</th>\n",
       "      <td>3</td>\n",
       "      <td>6</td>\n",
       "    </tr>\n",
       "  </tbody>\n",
       "</table>\n",
       "</div>"
      ],
      "text/plain": [
       "   A  B\n",
       "0  1  4\n",
       "1  2  5\n",
       "2  3  6"
      ]
     },
     "execution_count": 176,
     "metadata": {},
     "output_type": "execute_result"
    }
   ],
   "source": [
    "df"
   ]
  },
  {
   "cell_type": "code",
   "execution_count": 177,
   "id": "c70995a7-1448-4c4b-891d-04f27f80a736",
   "metadata": {},
   "outputs": [
    {
     "data": {
      "text/html": [
       "<div>\n",
       "<style scoped>\n",
       "    .dataframe tbody tr th:only-of-type {\n",
       "        vertical-align: middle;\n",
       "    }\n",
       "\n",
       "    .dataframe tbody tr th {\n",
       "        vertical-align: top;\n",
       "    }\n",
       "\n",
       "    .dataframe thead th {\n",
       "        text-align: right;\n",
       "    }\n",
       "</style>\n",
       "<table border=\"1\" class=\"dataframe\">\n",
       "  <thead>\n",
       "    <tr style=\"text-align: right;\">\n",
       "      <th></th>\n",
       "      <th>A</th>\n",
       "      <th>B</th>\n",
       "    </tr>\n",
       "  </thead>\n",
       "  <tbody>\n",
       "    <tr>\n",
       "      <th>0</th>\n",
       "      <td>20</td>\n",
       "      <td>80</td>\n",
       "    </tr>\n",
       "    <tr>\n",
       "      <th>1</th>\n",
       "      <td>40</td>\n",
       "      <td>100</td>\n",
       "    </tr>\n",
       "    <tr>\n",
       "      <th>2</th>\n",
       "      <td>60</td>\n",
       "      <td>120</td>\n",
       "    </tr>\n",
       "  </tbody>\n",
       "</table>\n",
       "</div>"
      ],
      "text/plain": [
       "    A    B\n",
       "0  20   80\n",
       "1  40  100\n",
       "2  60  120"
      ]
     },
     "execution_count": 177,
     "metadata": {},
     "output_type": "execute_result"
    }
   ],
   "source": [
    "# Apply map function on DataFrame\n",
    "df.map(lambda x: x * 20)   # Multiply each element of a DataFrame by 20"
   ]
  },
  {
   "cell_type": "raw",
   "id": "2689939c-4fc5-478a-8c46-7db097ac9594",
   "metadata": {},
   "source": [
    "Applying Custom Functions"
   ]
  },
  {
   "cell_type": "code",
   "execution_count": 178,
   "id": "bdd08686-5608-4ecf-b2d4-d32ca891567d",
   "metadata": {},
   "outputs": [],
   "source": [
    "def seven(x):\n",
    "    return 7 * x"
   ]
  },
  {
   "cell_type": "code",
   "execution_count": 179,
   "id": "1023df32-0a5f-4265-9b7c-6d177818930c",
   "metadata": {},
   "outputs": [
    {
     "data": {
      "text/plain": [
       "0    1\n",
       "1    2\n",
       "2    3\n",
       "3    4\n",
       "dtype: int64"
      ]
     },
     "execution_count": 179,
     "metadata": {},
     "output_type": "execute_result"
    }
   ],
   "source": [
    "s"
   ]
  },
  {
   "cell_type": "code",
   "execution_count": 180,
   "id": "5cd9a22f-75da-479c-916a-9c5fe76774e6",
   "metadata": {},
   "outputs": [
    {
     "data": {
      "text/plain": [
       "0     7\n",
       "1    14\n",
       "2    21\n",
       "3    28\n",
       "dtype: int64"
      ]
     },
     "execution_count": 180,
     "metadata": {},
     "output_type": "execute_result"
    }
   ],
   "source": [
    "s.apply(seven)"
   ]
  },
  {
   "cell_type": "code",
   "execution_count": 181,
   "id": "08bf1625-e9fa-4c92-a3cc-5e36785a6cb6",
   "metadata": {},
   "outputs": [
    {
     "data": {
      "text/html": [
       "<div>\n",
       "<style scoped>\n",
       "    .dataframe tbody tr th:only-of-type {\n",
       "        vertical-align: middle;\n",
       "    }\n",
       "\n",
       "    .dataframe tbody tr th {\n",
       "        vertical-align: top;\n",
       "    }\n",
       "\n",
       "    .dataframe thead th {\n",
       "        text-align: right;\n",
       "    }\n",
       "</style>\n",
       "<table border=\"1\" class=\"dataframe\">\n",
       "  <thead>\n",
       "    <tr style=\"text-align: right;\">\n",
       "      <th></th>\n",
       "      <th>A</th>\n",
       "      <th>B</th>\n",
       "    </tr>\n",
       "  </thead>\n",
       "  <tbody>\n",
       "    <tr>\n",
       "      <th>0</th>\n",
       "      <td>1</td>\n",
       "      <td>4</td>\n",
       "    </tr>\n",
       "    <tr>\n",
       "      <th>1</th>\n",
       "      <td>2</td>\n",
       "      <td>5</td>\n",
       "    </tr>\n",
       "    <tr>\n",
       "      <th>2</th>\n",
       "      <td>3</td>\n",
       "      <td>6</td>\n",
       "    </tr>\n",
       "  </tbody>\n",
       "</table>\n",
       "</div>"
      ],
      "text/plain": [
       "   A  B\n",
       "0  1  4\n",
       "1  2  5\n",
       "2  3  6"
      ]
     },
     "execution_count": 181,
     "metadata": {},
     "output_type": "execute_result"
    }
   ],
   "source": [
    "df"
   ]
  },
  {
   "cell_type": "code",
   "execution_count": 182,
   "id": "86c9f09c-bcfd-4df1-88c9-2f878db1768a",
   "metadata": {},
   "outputs": [
    {
     "data": {
      "text/html": [
       "<div>\n",
       "<style scoped>\n",
       "    .dataframe tbody tr th:only-of-type {\n",
       "        vertical-align: middle;\n",
       "    }\n",
       "\n",
       "    .dataframe tbody tr th {\n",
       "        vertical-align: top;\n",
       "    }\n",
       "\n",
       "    .dataframe thead th {\n",
       "        text-align: right;\n",
       "    }\n",
       "</style>\n",
       "<table border=\"1\" class=\"dataframe\">\n",
       "  <thead>\n",
       "    <tr style=\"text-align: right;\">\n",
       "      <th></th>\n",
       "      <th>A</th>\n",
       "      <th>B</th>\n",
       "    </tr>\n",
       "  </thead>\n",
       "  <tbody>\n",
       "    <tr>\n",
       "      <th>0</th>\n",
       "      <td>7</td>\n",
       "      <td>28</td>\n",
       "    </tr>\n",
       "    <tr>\n",
       "      <th>1</th>\n",
       "      <td>14</td>\n",
       "      <td>35</td>\n",
       "    </tr>\n",
       "    <tr>\n",
       "      <th>2</th>\n",
       "      <td>21</td>\n",
       "      <td>42</td>\n",
       "    </tr>\n",
       "  </tbody>\n",
       "</table>\n",
       "</div>"
      ],
      "text/plain": [
       "    A   B\n",
       "0   7  28\n",
       "1  14  35\n",
       "2  21  42"
      ]
     },
     "execution_count": 182,
     "metadata": {},
     "output_type": "execute_result"
    }
   ],
   "source": [
    "df.apply(seven)"
   ]
  },
  {
   "cell_type": "code",
   "execution_count": 183,
   "id": "e0ad8ca7-d35e-4673-80cb-02865a7443df",
   "metadata": {},
   "outputs": [
    {
     "name": "stdout",
     "output_type": "stream",
     "text": [
      "0     7\n",
      "1    14\n",
      "2    21\n",
      "3    28\n",
      "dtype: int64\n",
      "    A   B\n",
      "0   7  28\n",
      "1  14  35\n",
      "2  21  42\n"
     ]
    }
   ],
   "source": [
    "# Using map function\n",
    "print(s.map(seven))\n",
    "print(df.map(seven))"
   ]
  },
  {
   "cell_type": "code",
   "execution_count": 184,
   "id": "fc466064-bfba-4ccb-bd53-b8dfac2c245d",
   "metadata": {},
   "outputs": [],
   "source": [
    "prices = pd.DataFrame({\n",
    "    'Store_A': [12.5, 15.0, 13.75],\n",
    "    'Store_B': [11.0, 14.5, 13.25]\n",
    "})"
   ]
  },
  {
   "cell_type": "code",
   "execution_count": 185,
   "id": "d9ab9c75-9584-49ae-8d1f-8f9f7baca735",
   "metadata": {},
   "outputs": [
    {
     "data": {
      "text/html": [
       "<div>\n",
       "<style scoped>\n",
       "    .dataframe tbody tr th:only-of-type {\n",
       "        vertical-align: middle;\n",
       "    }\n",
       "\n",
       "    .dataframe tbody tr th {\n",
       "        vertical-align: top;\n",
       "    }\n",
       "\n",
       "    .dataframe thead th {\n",
       "        text-align: right;\n",
       "    }\n",
       "</style>\n",
       "<table border=\"1\" class=\"dataframe\">\n",
       "  <thead>\n",
       "    <tr style=\"text-align: right;\">\n",
       "      <th></th>\n",
       "      <th>Store_A</th>\n",
       "      <th>Store_B</th>\n",
       "    </tr>\n",
       "  </thead>\n",
       "  <tbody>\n",
       "    <tr>\n",
       "      <th>0</th>\n",
       "      <td>12.50</td>\n",
       "      <td>11.00</td>\n",
       "    </tr>\n",
       "    <tr>\n",
       "      <th>1</th>\n",
       "      <td>15.00</td>\n",
       "      <td>14.50</td>\n",
       "    </tr>\n",
       "    <tr>\n",
       "      <th>2</th>\n",
       "      <td>13.75</td>\n",
       "      <td>13.25</td>\n",
       "    </tr>\n",
       "  </tbody>\n",
       "</table>\n",
       "</div>"
      ],
      "text/plain": [
       "   Store_A  Store_B\n",
       "0    12.50    11.00\n",
       "1    15.00    14.50\n",
       "2    13.75    13.25"
      ]
     },
     "execution_count": 185,
     "metadata": {},
     "output_type": "execute_result"
    }
   ],
   "source": [
    "prices"
   ]
  },
  {
   "cell_type": "code",
   "execution_count": 186,
   "id": "3b6f76fb-27ab-4f6a-aef7-d6bd4a3dc8e0",
   "metadata": {},
   "outputs": [
    {
     "data": {
      "text/html": [
       "<div>\n",
       "<style scoped>\n",
       "    .dataframe tbody tr th:only-of-type {\n",
       "        vertical-align: middle;\n",
       "    }\n",
       "\n",
       "    .dataframe tbody tr th {\n",
       "        vertical-align: top;\n",
       "    }\n",
       "\n",
       "    .dataframe thead th {\n",
       "        text-align: right;\n",
       "    }\n",
       "</style>\n",
       "<table border=\"1\" class=\"dataframe\">\n",
       "  <thead>\n",
       "    <tr style=\"text-align: right;\">\n",
       "      <th></th>\n",
       "      <th>Store_A</th>\n",
       "      <th>Store_B</th>\n",
       "    </tr>\n",
       "  </thead>\n",
       "  <tbody>\n",
       "    <tr>\n",
       "      <th>0</th>\n",
       "      <td>$12.5</td>\n",
       "      <td>$11.0</td>\n",
       "    </tr>\n",
       "    <tr>\n",
       "      <th>1</th>\n",
       "      <td>$15.0</td>\n",
       "      <td>$14.5</td>\n",
       "    </tr>\n",
       "    <tr>\n",
       "      <th>2</th>\n",
       "      <td>$13.75</td>\n",
       "      <td>$13.25</td>\n",
       "    </tr>\n",
       "  </tbody>\n",
       "</table>\n",
       "</div>"
      ],
      "text/plain": [
       "  Store_A Store_B\n",
       "0   $12.5   $11.0\n",
       "1   $15.0   $14.5\n",
       "2  $13.75  $13.25"
      ]
     },
     "execution_count": 186,
     "metadata": {},
     "output_type": "execute_result"
    }
   ],
   "source": [
    "# le's add a dollar sign to each price values\n",
    "prices.map(lambda x: f'${x}')"
   ]
  },
  {
   "cell_type": "raw",
   "id": "eaa6d8e8-9a9d-4678-82f7-0073b951bc56",
   "metadata": {},
   "source": [
    "Combining Functions with pipe()"
   ]
  },
  {
   "cell_type": "raw",
   "id": "76877f9c-f0c9-4b6c-89e1-53cef229808e",
   "metadata": {},
   "source": [
    "The pipe() method in pandas allows us to chain operations together in a more readable manner. Although not strictly a mapping function, it is often used to apply functions sequentially on a DataFrame."
   ]
  },
  {
   "cell_type": "raw",
   "id": "2cb3dfac-567e-4e6c-bef6-c98c39b53722",
   "metadata": {},
   "source": [
    " Vectorized Operations"
   ]
  },
  {
   "cell_type": "code",
   "execution_count": 187,
   "id": "7fbea744-7230-41e8-ab0a-08aef5c94d26",
   "metadata": {},
   "outputs": [
    {
     "data": {
      "text/plain": [
       "0    1\n",
       "1    2\n",
       "2    3\n",
       "3    4\n",
       "dtype: int64"
      ]
     },
     "execution_count": 187,
     "metadata": {},
     "output_type": "execute_result"
    }
   ],
   "source": [
    "s"
   ]
  },
  {
   "cell_type": "code",
   "execution_count": 188,
   "id": "5da41277-a5d9-4fb0-b09c-abd81d6dc8cc",
   "metadata": {},
   "outputs": [
    {
     "data": {
      "text/plain": [
       "0     7\n",
       "1    14\n",
       "2    21\n",
       "3    28\n",
       "dtype: int64"
      ]
     },
     "execution_count": 188,
     "metadata": {},
     "output_type": "execute_result"
    }
   ],
   "source": [
    "# Multiply each element of a series by 7\n",
    "s * 7"
   ]
  },
  {
   "cell_type": "code",
   "execution_count": 189,
   "id": "bf81dbbc-12d9-4f39-b6b5-2d3e1fef4902",
   "metadata": {},
   "outputs": [
    {
     "data": {
      "text/html": [
       "<div>\n",
       "<style scoped>\n",
       "    .dataframe tbody tr th:only-of-type {\n",
       "        vertical-align: middle;\n",
       "    }\n",
       "\n",
       "    .dataframe tbody tr th {\n",
       "        vertical-align: top;\n",
       "    }\n",
       "\n",
       "    .dataframe thead th {\n",
       "        text-align: right;\n",
       "    }\n",
       "</style>\n",
       "<table border=\"1\" class=\"dataframe\">\n",
       "  <thead>\n",
       "    <tr style=\"text-align: right;\">\n",
       "      <th></th>\n",
       "      <th>A</th>\n",
       "      <th>B</th>\n",
       "    </tr>\n",
       "  </thead>\n",
       "  <tbody>\n",
       "    <tr>\n",
       "      <th>0</th>\n",
       "      <td>1</td>\n",
       "      <td>4</td>\n",
       "    </tr>\n",
       "    <tr>\n",
       "      <th>1</th>\n",
       "      <td>2</td>\n",
       "      <td>5</td>\n",
       "    </tr>\n",
       "    <tr>\n",
       "      <th>2</th>\n",
       "      <td>3</td>\n",
       "      <td>6</td>\n",
       "    </tr>\n",
       "  </tbody>\n",
       "</table>\n",
       "</div>"
      ],
      "text/plain": [
       "   A  B\n",
       "0  1  4\n",
       "1  2  5\n",
       "2  3  6"
      ]
     },
     "execution_count": 189,
     "metadata": {},
     "output_type": "execute_result"
    }
   ],
   "source": [
    "df"
   ]
  },
  {
   "cell_type": "code",
   "execution_count": 190,
   "id": "5239732f-715d-4252-9d96-f5bec055752f",
   "metadata": {},
   "outputs": [
    {
     "data": {
      "text/html": [
       "<div>\n",
       "<style scoped>\n",
       "    .dataframe tbody tr th:only-of-type {\n",
       "        vertical-align: middle;\n",
       "    }\n",
       "\n",
       "    .dataframe tbody tr th {\n",
       "        vertical-align: top;\n",
       "    }\n",
       "\n",
       "    .dataframe thead th {\n",
       "        text-align: right;\n",
       "    }\n",
       "</style>\n",
       "<table border=\"1\" class=\"dataframe\">\n",
       "  <thead>\n",
       "    <tr style=\"text-align: right;\">\n",
       "      <th></th>\n",
       "      <th>A</th>\n",
       "      <th>B</th>\n",
       "    </tr>\n",
       "  </thead>\n",
       "  <tbody>\n",
       "    <tr>\n",
       "      <th>0</th>\n",
       "      <td>7</td>\n",
       "      <td>28</td>\n",
       "    </tr>\n",
       "    <tr>\n",
       "      <th>1</th>\n",
       "      <td>14</td>\n",
       "      <td>35</td>\n",
       "    </tr>\n",
       "    <tr>\n",
       "      <th>2</th>\n",
       "      <td>21</td>\n",
       "      <td>42</td>\n",
       "    </tr>\n",
       "  </tbody>\n",
       "</table>\n",
       "</div>"
      ],
      "text/plain": [
       "    A   B\n",
       "0   7  28\n",
       "1  14  35\n",
       "2  21  42"
      ]
     },
     "execution_count": 190,
     "metadata": {},
     "output_type": "execute_result"
    }
   ],
   "source": [
    "# multiply each element of the DataFrame by 7\n",
    "df * 7"
   ]
  },
  {
   "cell_type": "raw",
   "id": "8311e20d-1764-4427-99b6-c4f9ae6e93f1",
   "metadata": {},
   "source": [
    "Applying Functions to Specific Columns or Rows"
   ]
  },
  {
   "cell_type": "code",
   "execution_count": 191,
   "id": "c8734b1a-1b99-4d30-a1ad-ba2702de9238",
   "metadata": {},
   "outputs": [
    {
     "data": {
      "text/html": [
       "<div>\n",
       "<style scoped>\n",
       "    .dataframe tbody tr th:only-of-type {\n",
       "        vertical-align: middle;\n",
       "    }\n",
       "\n",
       "    .dataframe tbody tr th {\n",
       "        vertical-align: top;\n",
       "    }\n",
       "\n",
       "    .dataframe thead th {\n",
       "        text-align: right;\n",
       "    }\n",
       "</style>\n",
       "<table border=\"1\" class=\"dataframe\">\n",
       "  <thead>\n",
       "    <tr style=\"text-align: right;\">\n",
       "      <th></th>\n",
       "      <th>A</th>\n",
       "      <th>B</th>\n",
       "    </tr>\n",
       "  </thead>\n",
       "  <tbody>\n",
       "    <tr>\n",
       "      <th>0</th>\n",
       "      <td>1</td>\n",
       "      <td>4</td>\n",
       "    </tr>\n",
       "    <tr>\n",
       "      <th>1</th>\n",
       "      <td>2</td>\n",
       "      <td>5</td>\n",
       "    </tr>\n",
       "    <tr>\n",
       "      <th>2</th>\n",
       "      <td>3</td>\n",
       "      <td>6</td>\n",
       "    </tr>\n",
       "  </tbody>\n",
       "</table>\n",
       "</div>"
      ],
      "text/plain": [
       "   A  B\n",
       "0  1  4\n",
       "1  2  5\n",
       "2  3  6"
      ]
     },
     "execution_count": 191,
     "metadata": {},
     "output_type": "execute_result"
    }
   ],
   "source": [
    "df"
   ]
  },
  {
   "cell_type": "code",
   "execution_count": 192,
   "id": "82089853-a5d0-47ec-9493-7a020aad6e75",
   "metadata": {},
   "outputs": [
    {
     "data": {
      "text/html": [
       "<div>\n",
       "<style scoped>\n",
       "    .dataframe tbody tr th:only-of-type {\n",
       "        vertical-align: middle;\n",
       "    }\n",
       "\n",
       "    .dataframe tbody tr th {\n",
       "        vertical-align: top;\n",
       "    }\n",
       "\n",
       "    .dataframe thead th {\n",
       "        text-align: right;\n",
       "    }\n",
       "</style>\n",
       "<table border=\"1\" class=\"dataframe\">\n",
       "  <thead>\n",
       "    <tr style=\"text-align: right;\">\n",
       "      <th></th>\n",
       "      <th>A</th>\n",
       "      <th>B</th>\n",
       "    </tr>\n",
       "  </thead>\n",
       "  <tbody>\n",
       "    <tr>\n",
       "      <th>0</th>\n",
       "      <td>7000</td>\n",
       "      <td>4</td>\n",
       "    </tr>\n",
       "    <tr>\n",
       "      <th>1</th>\n",
       "      <td>14000</td>\n",
       "      <td>5</td>\n",
       "    </tr>\n",
       "    <tr>\n",
       "      <th>2</th>\n",
       "      <td>21000</td>\n",
       "      <td>6</td>\n",
       "    </tr>\n",
       "  </tbody>\n",
       "</table>\n",
       "</div>"
      ],
      "text/plain": [
       "       A  B\n",
       "0   7000  4\n",
       "1  14000  5\n",
       "2  21000  6"
      ]
     },
     "execution_count": 192,
     "metadata": {},
     "output_type": "execute_result"
    }
   ],
   "source": [
    "# applying to a specific column\n",
    "df['A'] = df['A'] * 7000\n",
    "df"
   ]
  },
  {
   "cell_type": "code",
   "execution_count": 193,
   "id": "14c9bf7c-e957-4aae-b773-b2b265094756",
   "metadata": {},
   "outputs": [
    {
     "data": {
      "text/html": [
       "<div>\n",
       "<style scoped>\n",
       "    .dataframe tbody tr th:only-of-type {\n",
       "        vertical-align: middle;\n",
       "    }\n",
       "\n",
       "    .dataframe tbody tr th {\n",
       "        vertical-align: top;\n",
       "    }\n",
       "\n",
       "    .dataframe thead th {\n",
       "        text-align: right;\n",
       "    }\n",
       "</style>\n",
       "<table border=\"1\" class=\"dataframe\">\n",
       "  <thead>\n",
       "    <tr style=\"text-align: right;\">\n",
       "      <th></th>\n",
       "      <th>A</th>\n",
       "      <th>B</th>\n",
       "    </tr>\n",
       "  </thead>\n",
       "  <tbody>\n",
       "    <tr>\n",
       "      <th>0</th>\n",
       "      <td>7000</td>\n",
       "      <td>28</td>\n",
       "    </tr>\n",
       "    <tr>\n",
       "      <th>1</th>\n",
       "      <td>14000</td>\n",
       "      <td>35</td>\n",
       "    </tr>\n",
       "    <tr>\n",
       "      <th>2</th>\n",
       "      <td>21000</td>\n",
       "      <td>42</td>\n",
       "    </tr>\n",
       "  </tbody>\n",
       "</table>\n",
       "</div>"
      ],
      "text/plain": [
       "       A   B\n",
       "0   7000  28\n",
       "1  14000  35\n",
       "2  21000  42"
      ]
     },
     "execution_count": 193,
     "metadata": {},
     "output_type": "execute_result"
    }
   ],
   "source": [
    "df['B'] = df['B'].apply(seven)\n",
    "df"
   ]
  },
  {
   "cell_type": "raw",
   "id": "2fa3f3bb-5c58-4668-88a9-cfafb8e99695",
   "metadata": {},
   "source": [
    "Applying Function to Multiple Columns"
   ]
  },
  {
   "cell_type": "code",
   "execution_count": 194,
   "id": "2cc14010-f273-417c-b44d-f078205957a1",
   "metadata": {},
   "outputs": [
    {
     "data": {
      "text/html": [
       "<div>\n",
       "<style scoped>\n",
       "    .dataframe tbody tr th:only-of-type {\n",
       "        vertical-align: middle;\n",
       "    }\n",
       "\n",
       "    .dataframe tbody tr th {\n",
       "        vertical-align: top;\n",
       "    }\n",
       "\n",
       "    .dataframe thead th {\n",
       "        text-align: right;\n",
       "    }\n",
       "</style>\n",
       "<table border=\"1\" class=\"dataframe\">\n",
       "  <thead>\n",
       "    <tr style=\"text-align: right;\">\n",
       "      <th></th>\n",
       "      <th>A</th>\n",
       "      <th>B</th>\n",
       "    </tr>\n",
       "  </thead>\n",
       "  <tbody>\n",
       "    <tr>\n",
       "      <th>0</th>\n",
       "      <td>7000</td>\n",
       "      <td>28</td>\n",
       "    </tr>\n",
       "    <tr>\n",
       "      <th>1</th>\n",
       "      <td>14000</td>\n",
       "      <td>35</td>\n",
       "    </tr>\n",
       "    <tr>\n",
       "      <th>2</th>\n",
       "      <td>21000</td>\n",
       "      <td>42</td>\n",
       "    </tr>\n",
       "  </tbody>\n",
       "</table>\n",
       "</div>"
      ],
      "text/plain": [
       "       A   B\n",
       "0   7000  28\n",
       "1  14000  35\n",
       "2  21000  42"
      ]
     },
     "execution_count": 194,
     "metadata": {},
     "output_type": "execute_result"
    }
   ],
   "source": [
    "df"
   ]
  },
  {
   "cell_type": "code",
   "execution_count": 195,
   "id": "9134910d-30a6-4951-a36c-65894b578460",
   "metadata": {},
   "outputs": [
    {
     "data": {
      "text/html": [
       "<div>\n",
       "<style scoped>\n",
       "    .dataframe tbody tr th:only-of-type {\n",
       "        vertical-align: middle;\n",
       "    }\n",
       "\n",
       "    .dataframe tbody tr th {\n",
       "        vertical-align: top;\n",
       "    }\n",
       "\n",
       "    .dataframe thead th {\n",
       "        text-align: right;\n",
       "    }\n",
       "</style>\n",
       "<table border=\"1\" class=\"dataframe\">\n",
       "  <thead>\n",
       "    <tr style=\"text-align: right;\">\n",
       "      <th></th>\n",
       "      <th>A</th>\n",
       "      <th>B</th>\n",
       "    </tr>\n",
       "  </thead>\n",
       "  <tbody>\n",
       "    <tr>\n",
       "      <th>0</th>\n",
       "      <td>1000.0</td>\n",
       "      <td>4.0</td>\n",
       "    </tr>\n",
       "    <tr>\n",
       "      <th>1</th>\n",
       "      <td>2000.0</td>\n",
       "      <td>5.0</td>\n",
       "    </tr>\n",
       "    <tr>\n",
       "      <th>2</th>\n",
       "      <td>3000.0</td>\n",
       "      <td>6.0</td>\n",
       "    </tr>\n",
       "  </tbody>\n",
       "</table>\n",
       "</div>"
      ],
      "text/plain": [
       "        A    B\n",
       "0  1000.0  4.0\n",
       "1  2000.0  5.0\n",
       "2  3000.0  6.0"
      ]
     },
     "execution_count": 195,
     "metadata": {},
     "output_type": "execute_result"
    }
   ],
   "source": [
    "df[['A', 'B']] = df[['A', 'B']].map(lambda x: x/7)\n",
    "df"
   ]
  },
  {
   "cell_type": "raw",
   "id": "b3f87978-9b88-437b-a7a9-e71ef05c4fa0",
   "metadata": {},
   "source": [
    "Conditional Function Application"
   ]
  },
  {
   "cell_type": "code",
   "execution_count": 196,
   "id": "d507c262-e9a5-431f-a334-0b89a9f4c96a",
   "metadata": {},
   "outputs": [
    {
     "data": {
      "text/html": [
       "<div>\n",
       "<style scoped>\n",
       "    .dataframe tbody tr th:only-of-type {\n",
       "        vertical-align: middle;\n",
       "    }\n",
       "\n",
       "    .dataframe tbody tr th {\n",
       "        vertical-align: top;\n",
       "    }\n",
       "\n",
       "    .dataframe thead th {\n",
       "        text-align: right;\n",
       "    }\n",
       "</style>\n",
       "<table border=\"1\" class=\"dataframe\">\n",
       "  <thead>\n",
       "    <tr style=\"text-align: right;\">\n",
       "      <th></th>\n",
       "      <th>A</th>\n",
       "      <th>B</th>\n",
       "    </tr>\n",
       "  </thead>\n",
       "  <tbody>\n",
       "    <tr>\n",
       "      <th>0</th>\n",
       "      <td>20.0</td>\n",
       "      <td>4.0</td>\n",
       "    </tr>\n",
       "    <tr>\n",
       "      <th>1</th>\n",
       "      <td>25.0</td>\n",
       "      <td>5.0</td>\n",
       "    </tr>\n",
       "    <tr>\n",
       "      <th>2</th>\n",
       "      <td>6.0</td>\n",
       "      <td>6.0</td>\n",
       "    </tr>\n",
       "  </tbody>\n",
       "</table>\n",
       "</div>"
      ],
      "text/plain": [
       "      A    B\n",
       "0  20.0  4.0\n",
       "1  25.0  5.0\n",
       "2   6.0  6.0"
      ]
     },
     "execution_count": 196,
     "metadata": {},
     "output_type": "execute_result"
    }
   ],
   "source": [
    "df['A'] = df['B'].apply(lambda x: (x * 5) if x < 6 else x)\n",
    "df"
   ]
  },
  {
   "cell_type": "raw",
   "id": "975ceebf-46e3-4bd1-862a-0df2d9161113",
   "metadata": {},
   "source": [
    "Complex Mapping with map()"
   ]
  },
  {
   "cell_type": "code",
   "execution_count": 197,
   "id": "99582a31-5e07-4a12-8ca5-59b36924bbeb",
   "metadata": {},
   "outputs": [
    {
     "data": {
      "text/plain": [
       "0    1\n",
       "1    2\n",
       "2    3\n",
       "3    4\n",
       "4    5\n",
       "dtype: int64"
      ]
     },
     "execution_count": 197,
     "metadata": {},
     "output_type": "execute_result"
    }
   ],
   "source": [
    "s = pd.Series(np.arange(1, 6))\n",
    "s"
   ]
  },
  {
   "cell_type": "code",
   "execution_count": 198,
   "id": "27f25cd3-91b9-43e4-819d-e0350a9aa51a",
   "metadata": {},
   "outputs": [
    {
     "data": {
      "text/plain": [
       "0     Odd\n",
       "1    Even\n",
       "2     Odd\n",
       "3    Even\n",
       "4     Odd\n",
       "dtype: object"
      ]
     },
     "execution_count": 198,
     "metadata": {},
     "output_type": "execute_result"
    }
   ],
   "source": [
    "s = s.map(lambda x: 'Even' if x % 2 == 0 else 'Odd')\n",
    "s"
   ]
  },
  {
   "cell_type": "code",
   "execution_count": 199,
   "id": "f1f51b9c-c3f8-4e47-a4f1-b0fa9f531e10",
   "metadata": {},
   "outputs": [
    {
     "data": {
      "text/plain": [
       "0    17\n",
       "1    29\n",
       "2    45\n",
       "dtype: int64"
      ]
     },
     "execution_count": 199,
     "metadata": {},
     "output_type": "execute_result"
    }
   ],
   "source": [
    "df = pd.DataFrame({\n",
    "    'A': [1, 2, 3],\n",
    "    'B': [4, 5, 6]\n",
    "})\n",
    "\n",
    "# Calculate the sum of squares for each row\n",
    "result = df.apply(lambda row: row['A']**2 + row['B']**2, axis=1)\n",
    "result"
   ]
  },
  {
   "cell_type": "markdown",
   "id": "57e15fd5-4dee-4fc9-ba71-fab4cf83906b",
   "metadata": {},
   "source": [
    "#### Sorting and Ranking"
   ]
  },
  {
   "cell_type": "raw",
   "id": "a2c0dec5-723c-4a4d-b113-ef86f72dde20",
   "metadata": {},
   "source": [
    "Sorting a dataset by some criterion is another important built-in operation. To sort lexicographically by row or column label, use the sort_index method, which returnsa new, sorted object:"
   ]
  },
  {
   "cell_type": "code",
   "execution_count": 200,
   "id": "ec4a493e-2cd6-4eb4-a7b9-7c9a317d9aae",
   "metadata": {},
   "outputs": [
    {
     "data": {
      "text/plain": [
       "c    0\n",
       "a    1\n",
       "f    2\n",
       "e    3\n",
       "b    4\n",
       "dtype: int64"
      ]
     },
     "execution_count": 200,
     "metadata": {},
     "output_type": "execute_result"
    }
   ],
   "source": [
    "s = pd.Series(np.arange(5), index = ['c', 'a', 'f', 'e', 'b'])\n",
    "s"
   ]
  },
  {
   "cell_type": "code",
   "execution_count": 201,
   "id": "7cdba957-f4e1-4466-b8e1-9261a1fc9d11",
   "metadata": {},
   "outputs": [
    {
     "data": {
      "text/plain": [
       "a    1\n",
       "b    4\n",
       "c    0\n",
       "e    3\n",
       "f    2\n",
       "dtype: int64"
      ]
     },
     "execution_count": 201,
     "metadata": {},
     "output_type": "execute_result"
    }
   ],
   "source": [
    "# sorting the data by the index\n",
    "s.sort_index()"
   ]
  },
  {
   "cell_type": "code",
   "execution_count": 202,
   "id": "95e9e4a0-9fcd-4f10-bcb3-7f87b887c805",
   "metadata": {},
   "outputs": [
    {
     "data": {
      "text/html": [
       "<div>\n",
       "<style scoped>\n",
       "    .dataframe tbody tr th:only-of-type {\n",
       "        vertical-align: middle;\n",
       "    }\n",
       "\n",
       "    .dataframe tbody tr th {\n",
       "        vertical-align: top;\n",
       "    }\n",
       "\n",
       "    .dataframe thead th {\n",
       "        text-align: right;\n",
       "    }\n",
       "</style>\n",
       "<table border=\"1\" class=\"dataframe\">\n",
       "  <thead>\n",
       "    <tr style=\"text-align: right;\">\n",
       "      <th></th>\n",
       "      <th>John</th>\n",
       "      <th>Dave</th>\n",
       "      <th>Cameron</th>\n",
       "    </tr>\n",
       "  </thead>\n",
       "  <tbody>\n",
       "    <tr>\n",
       "      <th>b</th>\n",
       "      <td>0</td>\n",
       "      <td>1</td>\n",
       "      <td>2</td>\n",
       "    </tr>\n",
       "    <tr>\n",
       "      <th>a</th>\n",
       "      <td>3</td>\n",
       "      <td>4</td>\n",
       "      <td>5</td>\n",
       "    </tr>\n",
       "    <tr>\n",
       "      <th>d</th>\n",
       "      <td>6</td>\n",
       "      <td>7</td>\n",
       "      <td>8</td>\n",
       "    </tr>\n",
       "  </tbody>\n",
       "</table>\n",
       "</div>"
      ],
      "text/plain": [
       "   John  Dave  Cameron\n",
       "b     0     1        2\n",
       "a     3     4        5\n",
       "d     6     7        8"
      ]
     },
     "execution_count": 202,
     "metadata": {},
     "output_type": "execute_result"
    }
   ],
   "source": [
    "df = pd.DataFrame(np.arange(9).reshape(3, 3), index = ['b', 'a', 'd'], columns = ['John', 'Dave', 'Cameron'])\n",
    "df"
   ]
  },
  {
   "cell_type": "code",
   "execution_count": 203,
   "id": "0e15351d-4a84-45cc-947f-96b9c571e2c2",
   "metadata": {},
   "outputs": [
    {
     "data": {
      "text/html": [
       "<div>\n",
       "<style scoped>\n",
       "    .dataframe tbody tr th:only-of-type {\n",
       "        vertical-align: middle;\n",
       "    }\n",
       "\n",
       "    .dataframe tbody tr th {\n",
       "        vertical-align: top;\n",
       "    }\n",
       "\n",
       "    .dataframe thead th {\n",
       "        text-align: right;\n",
       "    }\n",
       "</style>\n",
       "<table border=\"1\" class=\"dataframe\">\n",
       "  <thead>\n",
       "    <tr style=\"text-align: right;\">\n",
       "      <th></th>\n",
       "      <th>John</th>\n",
       "      <th>Dave</th>\n",
       "      <th>Cameron</th>\n",
       "    </tr>\n",
       "  </thead>\n",
       "  <tbody>\n",
       "    <tr>\n",
       "      <th>a</th>\n",
       "      <td>3</td>\n",
       "      <td>4</td>\n",
       "      <td>5</td>\n",
       "    </tr>\n",
       "    <tr>\n",
       "      <th>b</th>\n",
       "      <td>0</td>\n",
       "      <td>1</td>\n",
       "      <td>2</td>\n",
       "    </tr>\n",
       "    <tr>\n",
       "      <th>d</th>\n",
       "      <td>6</td>\n",
       "      <td>7</td>\n",
       "      <td>8</td>\n",
       "    </tr>\n",
       "  </tbody>\n",
       "</table>\n",
       "</div>"
      ],
      "text/plain": [
       "   John  Dave  Cameron\n",
       "a     3     4        5\n",
       "b     0     1        2\n",
       "d     6     7        8"
      ]
     },
     "execution_count": 203,
     "metadata": {},
     "output_type": "execute_result"
    }
   ],
   "source": [
    "# sort the data by row index\n",
    "df.sort_index()"
   ]
  },
  {
   "cell_type": "code",
   "execution_count": 204,
   "id": "b63ccc48-df1d-431a-9db3-095ff4e52e68",
   "metadata": {},
   "outputs": [
    {
     "data": {
      "text/html": [
       "<div>\n",
       "<style scoped>\n",
       "    .dataframe tbody tr th:only-of-type {\n",
       "        vertical-align: middle;\n",
       "    }\n",
       "\n",
       "    .dataframe tbody tr th {\n",
       "        vertical-align: top;\n",
       "    }\n",
       "\n",
       "    .dataframe thead th {\n",
       "        text-align: right;\n",
       "    }\n",
       "</style>\n",
       "<table border=\"1\" class=\"dataframe\">\n",
       "  <thead>\n",
       "    <tr style=\"text-align: right;\">\n",
       "      <th></th>\n",
       "      <th>Cameron</th>\n",
       "      <th>Dave</th>\n",
       "      <th>John</th>\n",
       "    </tr>\n",
       "  </thead>\n",
       "  <tbody>\n",
       "    <tr>\n",
       "      <th>b</th>\n",
       "      <td>2</td>\n",
       "      <td>1</td>\n",
       "      <td>0</td>\n",
       "    </tr>\n",
       "    <tr>\n",
       "      <th>a</th>\n",
       "      <td>5</td>\n",
       "      <td>4</td>\n",
       "      <td>3</td>\n",
       "    </tr>\n",
       "    <tr>\n",
       "      <th>d</th>\n",
       "      <td>8</td>\n",
       "      <td>7</td>\n",
       "      <td>6</td>\n",
       "    </tr>\n",
       "  </tbody>\n",
       "</table>\n",
       "</div>"
      ],
      "text/plain": [
       "   Cameron  Dave  John\n",
       "b        2     1     0\n",
       "a        5     4     3\n",
       "d        8     7     6"
      ]
     },
     "execution_count": 204,
     "metadata": {},
     "output_type": "execute_result"
    }
   ],
   "source": [
    "# sort the data by column index\n",
    "df.sort_index(axis = \"columns\")"
   ]
  },
  {
   "cell_type": "code",
   "execution_count": 205,
   "id": "5f8bcfd6-40cd-403b-be4b-14b23a12b7fc",
   "metadata": {},
   "outputs": [
    {
     "data": {
      "text/html": [
       "<div>\n",
       "<style scoped>\n",
       "    .dataframe tbody tr th:only-of-type {\n",
       "        vertical-align: middle;\n",
       "    }\n",
       "\n",
       "    .dataframe tbody tr th {\n",
       "        vertical-align: top;\n",
       "    }\n",
       "\n",
       "    .dataframe thead th {\n",
       "        text-align: right;\n",
       "    }\n",
       "</style>\n",
       "<table border=\"1\" class=\"dataframe\">\n",
       "  <thead>\n",
       "    <tr style=\"text-align: right;\">\n",
       "      <th></th>\n",
       "      <th>John</th>\n",
       "      <th>Dave</th>\n",
       "      <th>Cameron</th>\n",
       "    </tr>\n",
       "  </thead>\n",
       "  <tbody>\n",
       "    <tr>\n",
       "      <th>d</th>\n",
       "      <td>6</td>\n",
       "      <td>7</td>\n",
       "      <td>8</td>\n",
       "    </tr>\n",
       "    <tr>\n",
       "      <th>b</th>\n",
       "      <td>0</td>\n",
       "      <td>1</td>\n",
       "      <td>2</td>\n",
       "    </tr>\n",
       "    <tr>\n",
       "      <th>a</th>\n",
       "      <td>3</td>\n",
       "      <td>4</td>\n",
       "      <td>5</td>\n",
       "    </tr>\n",
       "  </tbody>\n",
       "</table>\n",
       "</div>"
      ],
      "text/plain": [
       "   John  Dave  Cameron\n",
       "d     6     7        8\n",
       "b     0     1        2\n",
       "a     3     4        5"
      ]
     },
     "execution_count": 205,
     "metadata": {},
     "output_type": "execute_result"
    }
   ],
   "source": [
    "# the default sorting is ascending\n",
    "# we can sort descending order by passing the argument \"ascending = false\"\n",
    "df.sort_index(ascending = False)"
   ]
  },
  {
   "cell_type": "code",
   "execution_count": 206,
   "id": "5923e0ae-c5b0-4250-a0e6-47ab6343547a",
   "metadata": {},
   "outputs": [
    {
     "data": {
      "text/html": [
       "<div>\n",
       "<style scoped>\n",
       "    .dataframe tbody tr th:only-of-type {\n",
       "        vertical-align: middle;\n",
       "    }\n",
       "\n",
       "    .dataframe tbody tr th {\n",
       "        vertical-align: top;\n",
       "    }\n",
       "\n",
       "    .dataframe thead th {\n",
       "        text-align: right;\n",
       "    }\n",
       "</style>\n",
       "<table border=\"1\" class=\"dataframe\">\n",
       "  <thead>\n",
       "    <tr style=\"text-align: right;\">\n",
       "      <th></th>\n",
       "      <th>John</th>\n",
       "      <th>Dave</th>\n",
       "      <th>Cameron</th>\n",
       "    </tr>\n",
       "  </thead>\n",
       "  <tbody>\n",
       "    <tr>\n",
       "      <th>b</th>\n",
       "      <td>0</td>\n",
       "      <td>1</td>\n",
       "      <td>2</td>\n",
       "    </tr>\n",
       "    <tr>\n",
       "      <th>a</th>\n",
       "      <td>3</td>\n",
       "      <td>4</td>\n",
       "      <td>5</td>\n",
       "    </tr>\n",
       "    <tr>\n",
       "      <th>d</th>\n",
       "      <td>6</td>\n",
       "      <td>7</td>\n",
       "      <td>8</td>\n",
       "    </tr>\n",
       "  </tbody>\n",
       "</table>\n",
       "</div>"
      ],
      "text/plain": [
       "   John  Dave  Cameron\n",
       "b     0     1        2\n",
       "a     3     4        5\n",
       "d     6     7        8"
      ]
     },
     "execution_count": 206,
     "metadata": {},
     "output_type": "execute_result"
    }
   ],
   "source": [
    "df.sort_index(axis = \"columns\", ascending = False)"
   ]
  },
  {
   "cell_type": "code",
   "execution_count": 207,
   "id": "44e13871-2fa0-4727-8a2b-26736674527d",
   "metadata": {},
   "outputs": [
    {
     "data": {
      "text/plain": [
       "a   -4\n",
       "b    6\n",
       "c    2\n",
       "d    5\n",
       "e    3\n",
       "dtype: int64"
      ]
     },
     "execution_count": 207,
     "metadata": {},
     "output_type": "execute_result"
    }
   ],
   "source": [
    "s = pd.Series([-4, 6, 2, 5, 3], index = ['a', 'b', 'c', 'd', 'e'])\n",
    "s"
   ]
  },
  {
   "cell_type": "code",
   "execution_count": 208,
   "id": "347e02b7-bca6-47ff-bfcd-ab3133c81cc8",
   "metadata": {},
   "outputs": [
    {
     "data": {
      "text/plain": [
       "a   -4\n",
       "c    2\n",
       "e    3\n",
       "d    5\n",
       "b    6\n",
       "dtype: int64"
      ]
     },
     "execution_count": 208,
     "metadata": {},
     "output_type": "execute_result"
    }
   ],
   "source": [
    "# sorting by values\n",
    "s.sort_values()"
   ]
  },
  {
   "cell_type": "code",
   "execution_count": 209,
   "id": "61116dec-bd8e-4019-b550-4becdb522162",
   "metadata": {},
   "outputs": [
    {
     "data": {
      "text/plain": [
       "b    6\n",
       "d    5\n",
       "e    3\n",
       "c    2\n",
       "a   -4\n",
       "dtype: int64"
      ]
     },
     "execution_count": 209,
     "metadata": {},
     "output_type": "execute_result"
    }
   ],
   "source": [
    "# to sort descending order\n",
    "s.sort_values(ascending = False)"
   ]
  },
  {
   "cell_type": "code",
   "execution_count": 210,
   "id": "f689fe8b-dad4-4629-9fd5-f533932951f0",
   "metadata": {},
   "outputs": [
    {
     "data": {
      "text/plain": [
       "0    3.0\n",
       "1    NaN\n",
       "2    2.0\n",
       "3    NaN\n",
       "4    6.0\n",
       "dtype: float64"
      ]
     },
     "execution_count": 210,
     "metadata": {},
     "output_type": "execute_result"
    }
   ],
   "source": [
    "# Any missing values are sorted to the end of the Series by default:\n",
    "s = pd.Series([3, np.nan, 2, np.nan, 6])\n",
    "s"
   ]
  },
  {
   "cell_type": "code",
   "execution_count": 211,
   "id": "22a65be1-7e22-42ae-9093-dbaec73a098b",
   "metadata": {},
   "outputs": [
    {
     "data": {
      "text/plain": [
       "2    2.0\n",
       "0    3.0\n",
       "4    6.0\n",
       "1    NaN\n",
       "3    NaN\n",
       "dtype: float64"
      ]
     },
     "execution_count": 211,
     "metadata": {},
     "output_type": "execute_result"
    }
   ],
   "source": [
    "# sorting by valuse\n",
    "s.sort_values()"
   ]
  },
  {
   "cell_type": "code",
   "execution_count": 212,
   "id": "98c946e3-e801-4850-8ac8-7bee8477541e",
   "metadata": {},
   "outputs": [
    {
     "data": {
      "text/plain": [
       "1    NaN\n",
       "3    NaN\n",
       "2    2.0\n",
       "0    3.0\n",
       "4    6.0\n",
       "dtype: float64"
      ]
     },
     "execution_count": 212,
     "metadata": {},
     "output_type": "execute_result"
    }
   ],
   "source": [
    "#  Missing values can be sorted to the start instead by using the na_position option:\n",
    "s.sort_values(na_position = \"first\")"
   ]
  },
  {
   "cell_type": "code",
   "execution_count": 213,
   "id": "88bac6a9-c21c-4fd1-b736-a966d89a8590",
   "metadata": {},
   "outputs": [
    {
     "data": {
      "text/html": [
       "<div>\n",
       "<style scoped>\n",
       "    .dataframe tbody tr th:only-of-type {\n",
       "        vertical-align: middle;\n",
       "    }\n",
       "\n",
       "    .dataframe tbody tr th {\n",
       "        vertical-align: top;\n",
       "    }\n",
       "\n",
       "    .dataframe thead th {\n",
       "        text-align: right;\n",
       "    }\n",
       "</style>\n",
       "<table border=\"1\" class=\"dataframe\">\n",
       "  <thead>\n",
       "    <tr style=\"text-align: right;\">\n",
       "      <th></th>\n",
       "      <th>A</th>\n",
       "      <th>B</th>\n",
       "    </tr>\n",
       "  </thead>\n",
       "  <tbody>\n",
       "    <tr>\n",
       "      <th>c</th>\n",
       "      <td>2</td>\n",
       "      <td>0</td>\n",
       "    </tr>\n",
       "    <tr>\n",
       "      <th>a</th>\n",
       "      <td>3</td>\n",
       "      <td>1</td>\n",
       "    </tr>\n",
       "    <tr>\n",
       "      <th>d</th>\n",
       "      <td>-1</td>\n",
       "      <td>-1</td>\n",
       "    </tr>\n",
       "    <tr>\n",
       "      <th>b</th>\n",
       "      <td>4</td>\n",
       "      <td>0</td>\n",
       "    </tr>\n",
       "  </tbody>\n",
       "</table>\n",
       "</div>"
      ],
      "text/plain": [
       "   A  B\n",
       "c  2  0\n",
       "a  3  1\n",
       "d -1 -1\n",
       "b  4  0"
      ]
     },
     "execution_count": 213,
     "metadata": {},
     "output_type": "execute_result"
    }
   ],
   "source": [
    "# When sorting a DataFrame, we can use the data in one or more columns as the sort\n",
    "# keys. To do so, pass one or more column names to sort_values:\n",
    "df = pd.DataFrame({'A': [2, 3, -1, 4], 'B': [0, 1, -1, 0]}, index = ['c', 'a', 'd', 'b'])\n",
    "df"
   ]
  },
  {
   "cell_type": "code",
   "execution_count": 214,
   "id": "c797217f-d005-49cb-9137-73e853ef7b98",
   "metadata": {},
   "outputs": [
    {
     "data": {
      "text/html": [
       "<div>\n",
       "<style scoped>\n",
       "    .dataframe tbody tr th:only-of-type {\n",
       "        vertical-align: middle;\n",
       "    }\n",
       "\n",
       "    .dataframe tbody tr th {\n",
       "        vertical-align: top;\n",
       "    }\n",
       "\n",
       "    .dataframe thead th {\n",
       "        text-align: right;\n",
       "    }\n",
       "</style>\n",
       "<table border=\"1\" class=\"dataframe\">\n",
       "  <thead>\n",
       "    <tr style=\"text-align: right;\">\n",
       "      <th></th>\n",
       "      <th>A</th>\n",
       "      <th>B</th>\n",
       "    </tr>\n",
       "  </thead>\n",
       "  <tbody>\n",
       "    <tr>\n",
       "      <th>d</th>\n",
       "      <td>-1</td>\n",
       "      <td>-1</td>\n",
       "    </tr>\n",
       "    <tr>\n",
       "      <th>c</th>\n",
       "      <td>2</td>\n",
       "      <td>0</td>\n",
       "    </tr>\n",
       "    <tr>\n",
       "      <th>a</th>\n",
       "      <td>3</td>\n",
       "      <td>1</td>\n",
       "    </tr>\n",
       "    <tr>\n",
       "      <th>b</th>\n",
       "      <td>4</td>\n",
       "      <td>0</td>\n",
       "    </tr>\n",
       "  </tbody>\n",
       "</table>\n",
       "</div>"
      ],
      "text/plain": [
       "   A  B\n",
       "d -1 -1\n",
       "c  2  0\n",
       "a  3  1\n",
       "b  4  0"
      ]
     },
     "execution_count": 214,
     "metadata": {},
     "output_type": "execute_result"
    }
   ],
   "source": [
    "# sort by a specific columns\n",
    "df.sort_values(by = 'A')   # sort the data by values of \"A\" column"
   ]
  },
  {
   "cell_type": "markdown",
   "id": "6a5a06e2-38b3-438a-957b-bdf774981cd4",
   "metadata": {},
   "source": [
    "### Rank"
   ]
  },
  {
   "cell_type": "raw",
   "id": "1f658112-fd1f-48e6-bcd6-cc76f2db941d",
   "metadata": {},
   "source": [
    "Tie-breaking methods with rank  \n",
    "'average': Default: assign the average rank to each entry in the equal group  \n",
    "'min': Use the minimum rank for the whole group  \n",
    "'max': Use the maximum rank for the whole group  \n",
    "'first': Assign ranks in the order the values appear in the data   \n",
    "'dense': Like method=\"min\", but ranks always increase by 1 between groups rather than the number of equal  \n",
    "elements in a group"
   ]
  },
  {
   "cell_type": "code",
   "execution_count": 215,
   "id": "355ec1b1-d980-4b04-b746-35596fe91e98",
   "metadata": {},
   "outputs": [
    {
     "data": {
      "text/plain": [
       "Alice       87\n",
       "Bob         92\n",
       "Charlie     75\n",
       "David       92\n",
       "Emma       100\n",
       "Frank       67\n",
       "Grace       75\n",
       "Henry       85\n",
       "Ivy         92\n",
       "Jack       100\n",
       "Name: Average Mark, dtype: int64"
      ]
     },
     "execution_count": 215,
     "metadata": {},
     "output_type": "execute_result"
    }
   ],
   "source": [
    "marks = pd.Series(\n",
    "    [87, 92, 75, 92, 100, 67, 75, 85, 92, 100], \n",
    "    index=[\"Alice\", \"Bob\", \"Charlie\", \"David\", \"Emma\", \"Frank\", \"Grace\", \"Henry\", \"Ivy\", \"Jack\"], \n",
    "    name=\"Average Mark\"\n",
    ")\n",
    "marks"
   ]
  },
  {
   "cell_type": "code",
   "execution_count": 216,
   "id": "6896c774-8f71-45b9-b3f2-0eb6beaeefba",
   "metadata": {},
   "outputs": [
    {
     "data": {
      "text/plain": [
       "Alice       6.0\n",
       "Bob         4.0\n",
       "Charlie     8.5\n",
       "David       4.0\n",
       "Emma        1.5\n",
       "Frank      10.0\n",
       "Grace       8.5\n",
       "Henry       7.0\n",
       "Ivy         4.0\n",
       "Jack        1.5\n",
       "Name: Average Mark, dtype: float64"
      ]
     },
     "execution_count": 216,
     "metadata": {},
     "output_type": "execute_result"
    }
   ],
   "source": [
    "# ranking replaces the value by their ranking\n",
    "# by default if two or more same values their rank is average\n",
    "marks.rank(ascending = False)"
   ]
  },
  {
   "cell_type": "code",
   "execution_count": 217,
   "id": "70c29ffd-a1c7-443c-954c-95a4f5270800",
   "metadata": {},
   "outputs": [
    {
     "data": {
      "text/plain": [
       "Alice       6.0\n",
       "Bob         3.0\n",
       "Charlie     8.0\n",
       "David       4.0\n",
       "Emma        1.0\n",
       "Frank      10.0\n",
       "Grace       9.0\n",
       "Henry       7.0\n",
       "Ivy         5.0\n",
       "Jack        2.0\n",
       "Name: Average Mark, dtype: float64"
      ]
     },
     "execution_count": 217,
     "metadata": {},
     "output_type": "execute_result"
    }
   ],
   "source": [
    "# we can change the mean rank by passing agrument 'method = \"first\"'\n",
    "marks.rank(method = 'first', ascending = False)"
   ]
  },
  {
   "cell_type": "code",
   "execution_count": 218,
   "id": "4640df4a-fcc0-42bd-bec0-aa553a8d548c",
   "metadata": {},
   "outputs": [
    {
     "data": {
      "text/plain": [
       "Alice       6.0\n",
       "Bob         3.0\n",
       "Charlie     8.0\n",
       "David       3.0\n",
       "Emma        1.0\n",
       "Frank      10.0\n",
       "Grace       8.0\n",
       "Henry       7.0\n",
       "Ivy         3.0\n",
       "Jack        1.0\n",
       "Name: Average Mark, dtype: float64"
      ]
     },
     "execution_count": 218,
     "metadata": {},
     "output_type": "execute_result"
    }
   ],
   "source": [
    "# we can use 'min' method\n",
    "marks.rank(method = 'min', ascending = False)"
   ]
  },
  {
   "cell_type": "code",
   "execution_count": 219,
   "id": "f82b0976-6249-4ea8-a7cf-df598147667c",
   "metadata": {},
   "outputs": [
    {
     "data": {
      "text/plain": [
       "Alice       6.0\n",
       "Bob         5.0\n",
       "Charlie     9.0\n",
       "David       5.0\n",
       "Emma        2.0\n",
       "Frank      10.0\n",
       "Grace       9.0\n",
       "Henry       7.0\n",
       "Ivy         5.0\n",
       "Jack        2.0\n",
       "Name: Average Mark, dtype: float64"
      ]
     },
     "execution_count": 219,
     "metadata": {},
     "output_type": "execute_result"
    }
   ],
   "source": [
    "# max method\n",
    "marks.rank(method = 'max', ascending = False)"
   ]
  },
  {
   "cell_type": "code",
   "execution_count": 220,
   "id": "81595a3f-94ae-4935-acab-fcc9a53e112f",
   "metadata": {},
   "outputs": [
    {
     "data": {
      "text/plain": [
       "Alice      3.0\n",
       "Bob        2.0\n",
       "Charlie    5.0\n",
       "David      2.0\n",
       "Emma       1.0\n",
       "Frank      6.0\n",
       "Grace      5.0\n",
       "Henry      4.0\n",
       "Ivy        2.0\n",
       "Jack       1.0\n",
       "Name: Average Mark, dtype: float64"
      ]
     },
     "execution_count": 220,
     "metadata": {},
     "output_type": "execute_result"
    }
   ],
   "source": [
    "# dense method\n",
    "marks.rank(method = 'dense', ascending = False)"
   ]
  },
  {
   "cell_type": "code",
   "execution_count": 221,
   "id": "8bd0d1b5-ec4c-4a75-a421-3b4a10934c34",
   "metadata": {},
   "outputs": [
    {
     "data": {
      "text/html": [
       "<div>\n",
       "<style scoped>\n",
       "    .dataframe tbody tr th:only-of-type {\n",
       "        vertical-align: middle;\n",
       "    }\n",
       "\n",
       "    .dataframe tbody tr th {\n",
       "        vertical-align: top;\n",
       "    }\n",
       "\n",
       "    .dataframe thead th {\n",
       "        text-align: right;\n",
       "    }\n",
       "</style>\n",
       "<table border=\"1\" class=\"dataframe\">\n",
       "  <thead>\n",
       "    <tr style=\"text-align: right;\">\n",
       "      <th></th>\n",
       "      <th>Student</th>\n",
       "      <th>Math_Score</th>\n",
       "      <th>Science_Score</th>\n",
       "      <th>Class</th>\n",
       "    </tr>\n",
       "  </thead>\n",
       "  <tbody>\n",
       "    <tr>\n",
       "      <th>0</th>\n",
       "      <td>Alice</td>\n",
       "      <td>87</td>\n",
       "      <td>78</td>\n",
       "      <td>A</td>\n",
       "    </tr>\n",
       "    <tr>\n",
       "      <th>1</th>\n",
       "      <td>Bob</td>\n",
       "      <td>92</td>\n",
       "      <td>85</td>\n",
       "      <td>B</td>\n",
       "    </tr>\n",
       "    <tr>\n",
       "      <th>2</th>\n",
       "      <td>Charlie</td>\n",
       "      <td>75</td>\n",
       "      <td>90</td>\n",
       "      <td>A</td>\n",
       "    </tr>\n",
       "    <tr>\n",
       "      <th>3</th>\n",
       "      <td>David</td>\n",
       "      <td>92</td>\n",
       "      <td>95</td>\n",
       "      <td>B</td>\n",
       "    </tr>\n",
       "    <tr>\n",
       "      <th>4</th>\n",
       "      <td>Emma</td>\n",
       "      <td>100</td>\n",
       "      <td>100</td>\n",
       "      <td>A</td>\n",
       "    </tr>\n",
       "    <tr>\n",
       "      <th>5</th>\n",
       "      <td>Frank</td>\n",
       "      <td>67</td>\n",
       "      <td>60</td>\n",
       "      <td>A</td>\n",
       "    </tr>\n",
       "    <tr>\n",
       "      <th>6</th>\n",
       "      <td>Grace</td>\n",
       "      <td>75</td>\n",
       "      <td>70</td>\n",
       "      <td>B</td>\n",
       "    </tr>\n",
       "    <tr>\n",
       "      <th>7</th>\n",
       "      <td>Henry</td>\n",
       "      <td>85</td>\n",
       "      <td>88</td>\n",
       "      <td>A</td>\n",
       "    </tr>\n",
       "    <tr>\n",
       "      <th>8</th>\n",
       "      <td>Ivy</td>\n",
       "      <td>92</td>\n",
       "      <td>92</td>\n",
       "      <td>B</td>\n",
       "    </tr>\n",
       "    <tr>\n",
       "      <th>9</th>\n",
       "      <td>Jack</td>\n",
       "      <td>100</td>\n",
       "      <td>100</td>\n",
       "      <td>A</td>\n",
       "    </tr>\n",
       "  </tbody>\n",
       "</table>\n",
       "</div>"
      ],
      "text/plain": [
       "   Student  Math_Score  Science_Score Class\n",
       "0    Alice          87             78     A\n",
       "1      Bob          92             85     B\n",
       "2  Charlie          75             90     A\n",
       "3    David          92             95     B\n",
       "4     Emma         100            100     A\n",
       "5    Frank          67             60     A\n",
       "6    Grace          75             70     B\n",
       "7    Henry          85             88     A\n",
       "8      Ivy          92             92     B\n",
       "9     Jack         100            100     A"
      ]
     },
     "execution_count": 221,
     "metadata": {},
     "output_type": "execute_result"
    }
   ],
   "source": [
    "df = pd.DataFrame({\n",
    "    \"Student\": [\"Alice\", \"Bob\", \"Charlie\", \"David\", \"Emma\", \"Frank\", \"Grace\", \"Henry\", \"Ivy\", \"Jack\"],\n",
    "    \"Math_Score\": [87, 92, 75, 92, 100, 67, 75, 85, 92, 100],\n",
    "    \"Science_Score\": [78, 85, 90, 95, 100, 60, 70, 88, 92, 100],\n",
    "    \"Class\": [\"A\", \"B\", \"A\", \"B\", \"A\", \"A\", \"B\", \"A\", \"B\", \"A\"]\n",
    "})\n",
    "df"
   ]
  },
  {
   "cell_type": "code",
   "execution_count": 222,
   "id": "4d9b8bfb-71f2-48b6-8f93-ff7625c200d3",
   "metadata": {},
   "outputs": [
    {
     "data": {
      "text/html": [
       "<div>\n",
       "<style scoped>\n",
       "    .dataframe tbody tr th:only-of-type {\n",
       "        vertical-align: middle;\n",
       "    }\n",
       "\n",
       "    .dataframe tbody tr th {\n",
       "        vertical-align: top;\n",
       "    }\n",
       "\n",
       "    .dataframe thead th {\n",
       "        text-align: right;\n",
       "    }\n",
       "</style>\n",
       "<table border=\"1\" class=\"dataframe\">\n",
       "  <thead>\n",
       "    <tr style=\"text-align: right;\">\n",
       "      <th></th>\n",
       "      <th>Student</th>\n",
       "      <th>Math_Score</th>\n",
       "      <th>Science_Score</th>\n",
       "      <th>Class</th>\n",
       "      <th>Math_Rank</th>\n",
       "    </tr>\n",
       "  </thead>\n",
       "  <tbody>\n",
       "    <tr>\n",
       "      <th>0</th>\n",
       "      <td>Alice</td>\n",
       "      <td>87</td>\n",
       "      <td>78</td>\n",
       "      <td>A</td>\n",
       "      <td>3.0</td>\n",
       "    </tr>\n",
       "    <tr>\n",
       "      <th>1</th>\n",
       "      <td>Bob</td>\n",
       "      <td>92</td>\n",
       "      <td>85</td>\n",
       "      <td>B</td>\n",
       "      <td>2.0</td>\n",
       "    </tr>\n",
       "    <tr>\n",
       "      <th>2</th>\n",
       "      <td>Charlie</td>\n",
       "      <td>75</td>\n",
       "      <td>90</td>\n",
       "      <td>A</td>\n",
       "      <td>5.0</td>\n",
       "    </tr>\n",
       "    <tr>\n",
       "      <th>3</th>\n",
       "      <td>David</td>\n",
       "      <td>92</td>\n",
       "      <td>95</td>\n",
       "      <td>B</td>\n",
       "      <td>2.0</td>\n",
       "    </tr>\n",
       "    <tr>\n",
       "      <th>4</th>\n",
       "      <td>Emma</td>\n",
       "      <td>100</td>\n",
       "      <td>100</td>\n",
       "      <td>A</td>\n",
       "      <td>1.0</td>\n",
       "    </tr>\n",
       "    <tr>\n",
       "      <th>5</th>\n",
       "      <td>Frank</td>\n",
       "      <td>67</td>\n",
       "      <td>60</td>\n",
       "      <td>A</td>\n",
       "      <td>6.0</td>\n",
       "    </tr>\n",
       "    <tr>\n",
       "      <th>6</th>\n",
       "      <td>Grace</td>\n",
       "      <td>75</td>\n",
       "      <td>70</td>\n",
       "      <td>B</td>\n",
       "      <td>5.0</td>\n",
       "    </tr>\n",
       "    <tr>\n",
       "      <th>7</th>\n",
       "      <td>Henry</td>\n",
       "      <td>85</td>\n",
       "      <td>88</td>\n",
       "      <td>A</td>\n",
       "      <td>4.0</td>\n",
       "    </tr>\n",
       "    <tr>\n",
       "      <th>8</th>\n",
       "      <td>Ivy</td>\n",
       "      <td>92</td>\n",
       "      <td>92</td>\n",
       "      <td>B</td>\n",
       "      <td>2.0</td>\n",
       "    </tr>\n",
       "    <tr>\n",
       "      <th>9</th>\n",
       "      <td>Jack</td>\n",
       "      <td>100</td>\n",
       "      <td>100</td>\n",
       "      <td>A</td>\n",
       "      <td>1.0</td>\n",
       "    </tr>\n",
       "  </tbody>\n",
       "</table>\n",
       "</div>"
      ],
      "text/plain": [
       "   Student  Math_Score  Science_Score Class  Math_Rank\n",
       "0    Alice          87             78     A        3.0\n",
       "1      Bob          92             85     B        2.0\n",
       "2  Charlie          75             90     A        5.0\n",
       "3    David          92             95     B        2.0\n",
       "4     Emma         100            100     A        1.0\n",
       "5    Frank          67             60     A        6.0\n",
       "6    Grace          75             70     B        5.0\n",
       "7    Henry          85             88     A        4.0\n",
       "8      Ivy          92             92     B        2.0\n",
       "9     Jack         100            100     A        1.0"
      ]
     },
     "execution_count": 222,
     "metadata": {},
     "output_type": "execute_result"
    }
   ],
   "source": [
    "# Ranking students based on math_score\n",
    "df['Math_Rank'] = df['Math_Score'].rank(method = 'dense', ascending = False)\n",
    "df"
   ]
  },
  {
   "cell_type": "code",
   "execution_count": 223,
   "id": "033a635c-6bc0-4e8f-9fe2-83d20e4bd32e",
   "metadata": {},
   "outputs": [
    {
     "data": {
      "text/html": [
       "<div>\n",
       "<style scoped>\n",
       "    .dataframe tbody tr th:only-of-type {\n",
       "        vertical-align: middle;\n",
       "    }\n",
       "\n",
       "    .dataframe tbody tr th {\n",
       "        vertical-align: top;\n",
       "    }\n",
       "\n",
       "    .dataframe thead th {\n",
       "        text-align: right;\n",
       "    }\n",
       "</style>\n",
       "<table border=\"1\" class=\"dataframe\">\n",
       "  <thead>\n",
       "    <tr style=\"text-align: right;\">\n",
       "      <th></th>\n",
       "      <th>Student</th>\n",
       "      <th>Math_Score</th>\n",
       "      <th>Science_Score</th>\n",
       "      <th>Class</th>\n",
       "      <th>Math_Rank</th>\n",
       "      <th>Science_Rank</th>\n",
       "    </tr>\n",
       "  </thead>\n",
       "  <tbody>\n",
       "    <tr>\n",
       "      <th>0</th>\n",
       "      <td>Alice</td>\n",
       "      <td>87</td>\n",
       "      <td>78</td>\n",
       "      <td>A</td>\n",
       "      <td>3.0</td>\n",
       "      <td>7.0</td>\n",
       "    </tr>\n",
       "    <tr>\n",
       "      <th>1</th>\n",
       "      <td>Bob</td>\n",
       "      <td>92</td>\n",
       "      <td>85</td>\n",
       "      <td>B</td>\n",
       "      <td>2.0</td>\n",
       "      <td>6.0</td>\n",
       "    </tr>\n",
       "    <tr>\n",
       "      <th>2</th>\n",
       "      <td>Charlie</td>\n",
       "      <td>75</td>\n",
       "      <td>90</td>\n",
       "      <td>A</td>\n",
       "      <td>5.0</td>\n",
       "      <td>4.0</td>\n",
       "    </tr>\n",
       "    <tr>\n",
       "      <th>3</th>\n",
       "      <td>David</td>\n",
       "      <td>92</td>\n",
       "      <td>95</td>\n",
       "      <td>B</td>\n",
       "      <td>2.0</td>\n",
       "      <td>2.0</td>\n",
       "    </tr>\n",
       "    <tr>\n",
       "      <th>4</th>\n",
       "      <td>Emma</td>\n",
       "      <td>100</td>\n",
       "      <td>100</td>\n",
       "      <td>A</td>\n",
       "      <td>1.0</td>\n",
       "      <td>1.0</td>\n",
       "    </tr>\n",
       "    <tr>\n",
       "      <th>5</th>\n",
       "      <td>Frank</td>\n",
       "      <td>67</td>\n",
       "      <td>60</td>\n",
       "      <td>A</td>\n",
       "      <td>6.0</td>\n",
       "      <td>9.0</td>\n",
       "    </tr>\n",
       "    <tr>\n",
       "      <th>6</th>\n",
       "      <td>Grace</td>\n",
       "      <td>75</td>\n",
       "      <td>70</td>\n",
       "      <td>B</td>\n",
       "      <td>5.0</td>\n",
       "      <td>8.0</td>\n",
       "    </tr>\n",
       "    <tr>\n",
       "      <th>7</th>\n",
       "      <td>Henry</td>\n",
       "      <td>85</td>\n",
       "      <td>88</td>\n",
       "      <td>A</td>\n",
       "      <td>4.0</td>\n",
       "      <td>5.0</td>\n",
       "    </tr>\n",
       "    <tr>\n",
       "      <th>8</th>\n",
       "      <td>Ivy</td>\n",
       "      <td>92</td>\n",
       "      <td>92</td>\n",
       "      <td>B</td>\n",
       "      <td>2.0</td>\n",
       "      <td>3.0</td>\n",
       "    </tr>\n",
       "    <tr>\n",
       "      <th>9</th>\n",
       "      <td>Jack</td>\n",
       "      <td>100</td>\n",
       "      <td>100</td>\n",
       "      <td>A</td>\n",
       "      <td>1.0</td>\n",
       "      <td>1.0</td>\n",
       "    </tr>\n",
       "  </tbody>\n",
       "</table>\n",
       "</div>"
      ],
      "text/plain": [
       "   Student  Math_Score  Science_Score Class  Math_Rank  Science_Rank\n",
       "0    Alice          87             78     A        3.0           7.0\n",
       "1      Bob          92             85     B        2.0           6.0\n",
       "2  Charlie          75             90     A        5.0           4.0\n",
       "3    David          92             95     B        2.0           2.0\n",
       "4     Emma         100            100     A        1.0           1.0\n",
       "5    Frank          67             60     A        6.0           9.0\n",
       "6    Grace          75             70     B        5.0           8.0\n",
       "7    Henry          85             88     A        4.0           5.0\n",
       "8      Ivy          92             92     B        2.0           3.0\n",
       "9     Jack         100            100     A        1.0           1.0"
      ]
     },
     "execution_count": 223,
     "metadata": {},
     "output_type": "execute_result"
    }
   ],
   "source": [
    "# Rannking students based on science scores\n",
    "df['Science_Rank'] = df['Science_Score'].rank(method = 'dense', ascending = False)\n",
    "df"
   ]
  },
  {
   "cell_type": "code",
   "execution_count": 224,
   "id": "73c00a40-a9d6-494e-8f70-6e6225972c30",
   "metadata": {},
   "outputs": [
    {
     "data": {
      "text/html": [
       "<div>\n",
       "<style scoped>\n",
       "    .dataframe tbody tr th:only-of-type {\n",
       "        vertical-align: middle;\n",
       "    }\n",
       "\n",
       "    .dataframe tbody tr th {\n",
       "        vertical-align: top;\n",
       "    }\n",
       "\n",
       "    .dataframe thead th {\n",
       "        text-align: right;\n",
       "    }\n",
       "</style>\n",
       "<table border=\"1\" class=\"dataframe\">\n",
       "  <thead>\n",
       "    <tr style=\"text-align: right;\">\n",
       "      <th></th>\n",
       "      <th>Student</th>\n",
       "      <th>Math_Score</th>\n",
       "      <th>Science_Score</th>\n",
       "      <th>Class</th>\n",
       "      <th>Math_Rank</th>\n",
       "      <th>Science_Rank</th>\n",
       "      <th>Class_Math_Rank</th>\n",
       "    </tr>\n",
       "  </thead>\n",
       "  <tbody>\n",
       "    <tr>\n",
       "      <th>0</th>\n",
       "      <td>Alice</td>\n",
       "      <td>87</td>\n",
       "      <td>78</td>\n",
       "      <td>A</td>\n",
       "      <td>3.0</td>\n",
       "      <td>7.0</td>\n",
       "      <td>2.0</td>\n",
       "    </tr>\n",
       "    <tr>\n",
       "      <th>1</th>\n",
       "      <td>Bob</td>\n",
       "      <td>92</td>\n",
       "      <td>85</td>\n",
       "      <td>B</td>\n",
       "      <td>2.0</td>\n",
       "      <td>6.0</td>\n",
       "      <td>1.0</td>\n",
       "    </tr>\n",
       "    <tr>\n",
       "      <th>2</th>\n",
       "      <td>Charlie</td>\n",
       "      <td>75</td>\n",
       "      <td>90</td>\n",
       "      <td>A</td>\n",
       "      <td>5.0</td>\n",
       "      <td>4.0</td>\n",
       "      <td>4.0</td>\n",
       "    </tr>\n",
       "    <tr>\n",
       "      <th>3</th>\n",
       "      <td>David</td>\n",
       "      <td>92</td>\n",
       "      <td>95</td>\n",
       "      <td>B</td>\n",
       "      <td>2.0</td>\n",
       "      <td>2.0</td>\n",
       "      <td>1.0</td>\n",
       "    </tr>\n",
       "    <tr>\n",
       "      <th>4</th>\n",
       "      <td>Emma</td>\n",
       "      <td>100</td>\n",
       "      <td>100</td>\n",
       "      <td>A</td>\n",
       "      <td>1.0</td>\n",
       "      <td>1.0</td>\n",
       "      <td>1.0</td>\n",
       "    </tr>\n",
       "    <tr>\n",
       "      <th>5</th>\n",
       "      <td>Frank</td>\n",
       "      <td>67</td>\n",
       "      <td>60</td>\n",
       "      <td>A</td>\n",
       "      <td>6.0</td>\n",
       "      <td>9.0</td>\n",
       "      <td>5.0</td>\n",
       "    </tr>\n",
       "    <tr>\n",
       "      <th>6</th>\n",
       "      <td>Grace</td>\n",
       "      <td>75</td>\n",
       "      <td>70</td>\n",
       "      <td>B</td>\n",
       "      <td>5.0</td>\n",
       "      <td>8.0</td>\n",
       "      <td>2.0</td>\n",
       "    </tr>\n",
       "    <tr>\n",
       "      <th>7</th>\n",
       "      <td>Henry</td>\n",
       "      <td>85</td>\n",
       "      <td>88</td>\n",
       "      <td>A</td>\n",
       "      <td>4.0</td>\n",
       "      <td>5.0</td>\n",
       "      <td>3.0</td>\n",
       "    </tr>\n",
       "    <tr>\n",
       "      <th>8</th>\n",
       "      <td>Ivy</td>\n",
       "      <td>92</td>\n",
       "      <td>92</td>\n",
       "      <td>B</td>\n",
       "      <td>2.0</td>\n",
       "      <td>3.0</td>\n",
       "      <td>1.0</td>\n",
       "    </tr>\n",
       "    <tr>\n",
       "      <th>9</th>\n",
       "      <td>Jack</td>\n",
       "      <td>100</td>\n",
       "      <td>100</td>\n",
       "      <td>A</td>\n",
       "      <td>1.0</td>\n",
       "      <td>1.0</td>\n",
       "      <td>1.0</td>\n",
       "    </tr>\n",
       "  </tbody>\n",
       "</table>\n",
       "</div>"
      ],
      "text/plain": [
       "   Student  Math_Score  Science_Score Class  Math_Rank  Science_Rank  \\\n",
       "0    Alice          87             78     A        3.0           7.0   \n",
       "1      Bob          92             85     B        2.0           6.0   \n",
       "2  Charlie          75             90     A        5.0           4.0   \n",
       "3    David          92             95     B        2.0           2.0   \n",
       "4     Emma         100            100     A        1.0           1.0   \n",
       "5    Frank          67             60     A        6.0           9.0   \n",
       "6    Grace          75             70     B        5.0           8.0   \n",
       "7    Henry          85             88     A        4.0           5.0   \n",
       "8      Ivy          92             92     B        2.0           3.0   \n",
       "9     Jack         100            100     A        1.0           1.0   \n",
       "\n",
       "   Class_Math_Rank  \n",
       "0              2.0  \n",
       "1              1.0  \n",
       "2              4.0  \n",
       "3              1.0  \n",
       "4              1.0  \n",
       "5              5.0  \n",
       "6              2.0  \n",
       "7              3.0  \n",
       "8              1.0  \n",
       "9              1.0  "
      ]
     },
     "execution_count": 224,
     "metadata": {},
     "output_type": "execute_result"
    }
   ],
   "source": [
    "df[\"Class_Math_Rank\"] = df.groupby(\"Class\")[\"Math_Score\"].rank(method=\"dense\", ascending=False)\n",
    "df"
   ]
  },
  {
   "cell_type": "markdown",
   "id": "0cf0c046-6a32-4a81-b036-d79aec827011",
   "metadata": {},
   "source": [
    "### groupby()"
   ]
  },
  {
   "cell_type": "raw",
   "id": "04780cf1-0dee-4161-bfc3-01b3a5293b95",
   "metadata": {},
   "source": [
    "The groupby() method in Pandas splits a DataFrame into groups based on one or more columns and then allows you to apply functions like sum, mean, count, rank, etc. on each group separately.\n",
    "\n",
    "It follows a Split-Apply-Combine process:\n",
    "\n",
    "Split the DataFrame into groups based on a column.\n",
    "Apply an aggregation or transformation function.\n",
    "Combine the results into a new DataFrame."
   ]
  },
  {
   "cell_type": "code",
   "execution_count": 225,
   "id": "37251b43-bcb4-4873-9977-f33d32abe516",
   "metadata": {},
   "outputs": [
    {
     "data": {
      "text/html": [
       "<div>\n",
       "<style scoped>\n",
       "    .dataframe tbody tr th:only-of-type {\n",
       "        vertical-align: middle;\n",
       "    }\n",
       "\n",
       "    .dataframe tbody tr th {\n",
       "        vertical-align: top;\n",
       "    }\n",
       "\n",
       "    .dataframe thead th {\n",
       "        text-align: right;\n",
       "    }\n",
       "</style>\n",
       "<table border=\"1\" class=\"dataframe\">\n",
       "  <thead>\n",
       "    <tr style=\"text-align: right;\">\n",
       "      <th></th>\n",
       "      <th>Student</th>\n",
       "      <th>Class</th>\n",
       "      <th>Math_Score</th>\n",
       "      <th>Science_Score</th>\n",
       "    </tr>\n",
       "  </thead>\n",
       "  <tbody>\n",
       "    <tr>\n",
       "      <th>0</th>\n",
       "      <td>Alice</td>\n",
       "      <td>A</td>\n",
       "      <td>85</td>\n",
       "      <td>80</td>\n",
       "    </tr>\n",
       "    <tr>\n",
       "      <th>1</th>\n",
       "      <td>Bob</td>\n",
       "      <td>B</td>\n",
       "      <td>90</td>\n",
       "      <td>95</td>\n",
       "    </tr>\n",
       "    <tr>\n",
       "      <th>2</th>\n",
       "      <td>Charlie</td>\n",
       "      <td>A</td>\n",
       "      <td>78</td>\n",
       "      <td>85</td>\n",
       "    </tr>\n",
       "    <tr>\n",
       "      <th>3</th>\n",
       "      <td>David</td>\n",
       "      <td>B</td>\n",
       "      <td>88</td>\n",
       "      <td>89</td>\n",
       "    </tr>\n",
       "    <tr>\n",
       "      <th>4</th>\n",
       "      <td>Emma</td>\n",
       "      <td>A</td>\n",
       "      <td>92</td>\n",
       "      <td>97</td>\n",
       "    </tr>\n",
       "    <tr>\n",
       "      <th>5</th>\n",
       "      <td>Frank</td>\n",
       "      <td>B</td>\n",
       "      <td>75</td>\n",
       "      <td>70</td>\n",
       "    </tr>\n",
       "  </tbody>\n",
       "</table>\n",
       "</div>"
      ],
      "text/plain": [
       "   Student Class  Math_Score  Science_Score\n",
       "0    Alice     A          85             80\n",
       "1      Bob     B          90             95\n",
       "2  Charlie     A          78             85\n",
       "3    David     B          88             89\n",
       "4     Emma     A          92             97\n",
       "5    Frank     B          75             70"
      ]
     },
     "execution_count": 225,
     "metadata": {},
     "output_type": "execute_result"
    }
   ],
   "source": [
    "# Example: Grouping students by Class and calculating the average marks.\n",
    "df = pd.DataFrame({\n",
    "    \"Student\": [\"Alice\", \"Bob\", \"Charlie\", \"David\", \"Emma\", \"Frank\"],\n",
    "    \"Class\": [\"A\", \"B\", \"A\", \"B\", \"A\", \"B\"],\n",
    "    \"Math_Score\": [85, 90, 78, 88, 92, 75],\n",
    "    \"Science_Score\": [80, 95, 85, 89, 97, 70]\n",
    "})\n",
    "df"
   ]
  },
  {
   "cell_type": "code",
   "execution_count": 226,
   "id": "f2de90f3-8557-40d9-91d5-a5358267b65d",
   "metadata": {},
   "outputs": [
    {
     "data": {
      "text/plain": [
       "Class\n",
       "A    92\n",
       "B    90\n",
       "Name: Math_Score, dtype: int64"
      ]
     },
     "execution_count": 226,
     "metadata": {},
     "output_type": "execute_result"
    }
   ],
   "source": [
    "# Maximum math score from each class\n",
    "df.groupby('Class')['Math_Score'].max()"
   ]
  },
  {
   "cell_type": "code",
   "execution_count": 227,
   "id": "589d251a-6154-4dd5-aac9-82c24a344b95",
   "metadata": {},
   "outputs": [
    {
     "data": {
      "text/html": [
       "<div>\n",
       "<style scoped>\n",
       "    .dataframe tbody tr th:only-of-type {\n",
       "        vertical-align: middle;\n",
       "    }\n",
       "\n",
       "    .dataframe tbody tr th {\n",
       "        vertical-align: top;\n",
       "    }\n",
       "\n",
       "    .dataframe thead th {\n",
       "        text-align: right;\n",
       "    }\n",
       "</style>\n",
       "<table border=\"1\" class=\"dataframe\">\n",
       "  <thead>\n",
       "    <tr style=\"text-align: right;\">\n",
       "      <th></th>\n",
       "      <th>Math_Score</th>\n",
       "      <th>Science_Score</th>\n",
       "    </tr>\n",
       "    <tr>\n",
       "      <th>Class</th>\n",
       "      <th></th>\n",
       "      <th></th>\n",
       "    </tr>\n",
       "  </thead>\n",
       "  <tbody>\n",
       "    <tr>\n",
       "      <th>A</th>\n",
       "      <td>92</td>\n",
       "      <td>97</td>\n",
       "    </tr>\n",
       "    <tr>\n",
       "      <th>B</th>\n",
       "      <td>90</td>\n",
       "      <td>95</td>\n",
       "    </tr>\n",
       "  </tbody>\n",
       "</table>\n",
       "</div>"
      ],
      "text/plain": [
       "       Math_Score  Science_Score\n",
       "Class                           \n",
       "A              92             97\n",
       "B              90             95"
      ]
     },
     "execution_count": 227,
     "metadata": {},
     "output_type": "execute_result"
    }
   ],
   "source": [
    "# maximum math and science score from each class\n",
    "df.groupby('Class')[['Math_Score', 'Science_Score']].max()"
   ]
  },
  {
   "cell_type": "code",
   "execution_count": 228,
   "id": "1fdff893-6c68-4c24-b035-8b398566ccd5",
   "metadata": {},
   "outputs": [
    {
     "data": {
      "text/plain": [
       "Class\n",
       "A    85.000000\n",
       "B    84.333333\n",
       "Name: Math_Score, dtype: float64"
      ]
     },
     "execution_count": 228,
     "metadata": {},
     "output_type": "execute_result"
    }
   ],
   "source": [
    "# mean of math score for each class\n",
    "df.groupby('Class')['Math_Score'].mean()"
   ]
  },
  {
   "cell_type": "code",
   "execution_count": 229,
   "id": "def17d7c-e59f-4488-984b-f14afa5c2165",
   "metadata": {},
   "outputs": [
    {
     "data": {
      "text/html": [
       "<div>\n",
       "<style scoped>\n",
       "    .dataframe tbody tr th:only-of-type {\n",
       "        vertical-align: middle;\n",
       "    }\n",
       "\n",
       "    .dataframe tbody tr th {\n",
       "        vertical-align: top;\n",
       "    }\n",
       "\n",
       "    .dataframe thead tr th {\n",
       "        text-align: left;\n",
       "    }\n",
       "\n",
       "    .dataframe thead tr:last-of-type th {\n",
       "        text-align: right;\n",
       "    }\n",
       "</style>\n",
       "<table border=\"1\" class=\"dataframe\">\n",
       "  <thead>\n",
       "    <tr>\n",
       "      <th></th>\n",
       "      <th colspan=\"3\" halign=\"left\">Math_Score</th>\n",
       "      <th colspan=\"3\" halign=\"left\">Science_Score</th>\n",
       "    </tr>\n",
       "    <tr>\n",
       "      <th></th>\n",
       "      <th>mean</th>\n",
       "      <th>max</th>\n",
       "      <th>min</th>\n",
       "      <th>mean</th>\n",
       "      <th>max</th>\n",
       "      <th>min</th>\n",
       "    </tr>\n",
       "    <tr>\n",
       "      <th>Class</th>\n",
       "      <th></th>\n",
       "      <th></th>\n",
       "      <th></th>\n",
       "      <th></th>\n",
       "      <th></th>\n",
       "      <th></th>\n",
       "    </tr>\n",
       "  </thead>\n",
       "  <tbody>\n",
       "    <tr>\n",
       "      <th>A</th>\n",
       "      <td>85.000000</td>\n",
       "      <td>92</td>\n",
       "      <td>78</td>\n",
       "      <td>87.333333</td>\n",
       "      <td>97</td>\n",
       "      <td>80</td>\n",
       "    </tr>\n",
       "    <tr>\n",
       "      <th>B</th>\n",
       "      <td>84.333333</td>\n",
       "      <td>90</td>\n",
       "      <td>75</td>\n",
       "      <td>84.666667</td>\n",
       "      <td>95</td>\n",
       "      <td>70</td>\n",
       "    </tr>\n",
       "  </tbody>\n",
       "</table>\n",
       "</div>"
      ],
      "text/plain": [
       "      Math_Score         Science_Score        \n",
       "            mean max min          mean max min\n",
       "Class                                         \n",
       "A      85.000000  92  78     87.333333  97  80\n",
       "B      84.333333  90  75     84.666667  95  70"
      ]
     },
     "execution_count": 229,
     "metadata": {},
     "output_type": "execute_result"
    }
   ],
   "source": [
    "# We can apply multiple functions to each group using .agg().\n",
    "df.groupby(\"Class\")[[\"Math_Score\", \"Science_Score\"]].agg([\"mean\", \"max\", \"min\"])"
   ]
  },
  {
   "cell_type": "code",
   "execution_count": 230,
   "id": "9ea1681a-714f-4868-b42b-dd446a00968b",
   "metadata": {},
   "outputs": [
    {
     "data": {
      "text/plain": [
       "Class\n",
       "A    3\n",
       "B    3\n",
       "Name: Student, dtype: int64"
      ]
     },
     "execution_count": 230,
     "metadata": {},
     "output_type": "execute_result"
    }
   ],
   "source": [
    "# groupby() with count() to Count Items\n",
    "# in this case we count students in each class\n",
    "df.groupby(\"Class\")[\"Student\"].count()"
   ]
  },
  {
   "cell_type": "code",
   "execution_count": 231,
   "id": "f1262475-1690-4805-9ecf-3a399a59642e",
   "metadata": {},
   "outputs": [
    {
     "data": {
      "text/html": [
       "<div>\n",
       "<style scoped>\n",
       "    .dataframe tbody tr th:only-of-type {\n",
       "        vertical-align: middle;\n",
       "    }\n",
       "\n",
       "    .dataframe tbody tr th {\n",
       "        vertical-align: top;\n",
       "    }\n",
       "\n",
       "    .dataframe thead th {\n",
       "        text-align: right;\n",
       "    }\n",
       "</style>\n",
       "<table border=\"1\" class=\"dataframe\">\n",
       "  <thead>\n",
       "    <tr style=\"text-align: right;\">\n",
       "      <th></th>\n",
       "      <th>Student</th>\n",
       "      <th>Class</th>\n",
       "      <th>Math_Score</th>\n",
       "      <th>Science_Score</th>\n",
       "      <th>Math_Rank</th>\n",
       "    </tr>\n",
       "  </thead>\n",
       "  <tbody>\n",
       "    <tr>\n",
       "      <th>0</th>\n",
       "      <td>Alice</td>\n",
       "      <td>A</td>\n",
       "      <td>85</td>\n",
       "      <td>80</td>\n",
       "      <td>2.0</td>\n",
       "    </tr>\n",
       "    <tr>\n",
       "      <th>1</th>\n",
       "      <td>Bob</td>\n",
       "      <td>B</td>\n",
       "      <td>90</td>\n",
       "      <td>95</td>\n",
       "      <td>1.0</td>\n",
       "    </tr>\n",
       "    <tr>\n",
       "      <th>2</th>\n",
       "      <td>Charlie</td>\n",
       "      <td>A</td>\n",
       "      <td>78</td>\n",
       "      <td>85</td>\n",
       "      <td>3.0</td>\n",
       "    </tr>\n",
       "    <tr>\n",
       "      <th>3</th>\n",
       "      <td>David</td>\n",
       "      <td>B</td>\n",
       "      <td>88</td>\n",
       "      <td>89</td>\n",
       "      <td>2.0</td>\n",
       "    </tr>\n",
       "    <tr>\n",
       "      <th>4</th>\n",
       "      <td>Emma</td>\n",
       "      <td>A</td>\n",
       "      <td>92</td>\n",
       "      <td>97</td>\n",
       "      <td>1.0</td>\n",
       "    </tr>\n",
       "    <tr>\n",
       "      <th>5</th>\n",
       "      <td>Frank</td>\n",
       "      <td>B</td>\n",
       "      <td>75</td>\n",
       "      <td>70</td>\n",
       "      <td>3.0</td>\n",
       "    </tr>\n",
       "  </tbody>\n",
       "</table>\n",
       "</div>"
      ],
      "text/plain": [
       "   Student Class  Math_Score  Science_Score  Math_Rank\n",
       "0    Alice     A          85             80        2.0\n",
       "1      Bob     B          90             95        1.0\n",
       "2  Charlie     A          78             85        3.0\n",
       "3    David     B          88             89        2.0\n",
       "4     Emma     A          92             97        1.0\n",
       "5    Frank     B          75             70        3.0"
      ]
     },
     "execution_count": 231,
     "metadata": {},
     "output_type": "execute_result"
    }
   ],
   "source": [
    "# we can rank students within their class using groupby() and rank().\n",
    "df[\"Math_Rank\"] = df.groupby(\"Class\")[\"Math_Score\"].rank(method=\"dense\", ascending=False)\n",
    "df"
   ]
  },
  {
   "cell_type": "raw",
   "id": "518797b5-2e73-4899-88f3-6d7e7ba12e71",
   "metadata": {},
   "source": [
    "When to Use groupby()?\n",
    "Summarizing Data: Compute sum(), mean(), count(), etc.\n",
    "Finding Group-wise Stats: Get min/max/average for each category.\n",
    "Ranking Within Groups: Rank values inside each group.\n",
    "Applying Custom Functions: Use .apply() for complex operations."
   ]
  },
  {
   "cell_type": "code",
   "execution_count": null,
   "id": "77ec66be-d821-4a3c-aacf-0fe0eaef1a1a",
   "metadata": {},
   "outputs": [],
   "source": []
  },
  {
   "cell_type": "markdown",
   "id": "b983aa02-2b47-4476-9956-8ce483d42ba7",
   "metadata": {},
   "source": [
    "#### Axis Indexes with Duplicate Labels"
   ]
  },
  {
   "cell_type": "code",
   "execution_count": 232,
   "id": "58847a15-5963-49cb-a1a5-c8e4dab9838b",
   "metadata": {},
   "outputs": [
    {
     "data": {
      "text/plain": [
       "a    0\n",
       "a    1\n",
       "b    2\n",
       "b    3\n",
       "c    4\n",
       "dtype: int64"
      ]
     },
     "execution_count": 232,
     "metadata": {},
     "output_type": "execute_result"
    }
   ],
   "source": [
    "s = pd.Series(np.arange(5), index=[\"a\", \"a\", \"b\", \"b\", \"c\"])\n",
    "s"
   ]
  },
  {
   "cell_type": "code",
   "execution_count": 233,
   "id": "456bdcfe-7477-4a2c-b31b-cb48dc5024fb",
   "metadata": {},
   "outputs": [
    {
     "data": {
      "text/plain": [
       "False"
      ]
     },
     "execution_count": 233,
     "metadata": {},
     "output_type": "execute_result"
    }
   ],
   "source": [
    "# s have duplicate lables we can check by using is_unique method\n",
    "s.index.is_unique    # False"
   ]
  },
  {
   "cell_type": "code",
   "execution_count": 234,
   "id": "faff538e-1afe-467d-b261-76200a1f7c05",
   "metadata": {},
   "outputs": [
    {
     "data": {
      "text/plain": [
       "a    0\n",
       "a    1\n",
       "dtype: int64"
      ]
     },
     "execution_count": 234,
     "metadata": {},
     "output_type": "execute_result"
    }
   ],
   "source": [
    "# indexing a duplicate lable selects all values with that lable\n",
    "s['a']"
   ]
  },
  {
   "cell_type": "code",
   "execution_count": 235,
   "id": "8c202755-062e-43d2-8b30-0060e6eac5eb",
   "metadata": {},
   "outputs": [
    {
     "data": {
      "text/html": [
       "<div>\n",
       "<style scoped>\n",
       "    .dataframe tbody tr th:only-of-type {\n",
       "        vertical-align: middle;\n",
       "    }\n",
       "\n",
       "    .dataframe tbody tr th {\n",
       "        vertical-align: top;\n",
       "    }\n",
       "\n",
       "    .dataframe thead th {\n",
       "        text-align: right;\n",
       "    }\n",
       "</style>\n",
       "<table border=\"1\" class=\"dataframe\">\n",
       "  <thead>\n",
       "    <tr style=\"text-align: right;\">\n",
       "      <th></th>\n",
       "      <th>0</th>\n",
       "      <th>1</th>\n",
       "      <th>2</th>\n",
       "    </tr>\n",
       "  </thead>\n",
       "  <tbody>\n",
       "    <tr>\n",
       "      <th>a</th>\n",
       "      <td>-0.486249</td>\n",
       "      <td>1.466989</td>\n",
       "      <td>-0.446679</td>\n",
       "    </tr>\n",
       "    <tr>\n",
       "      <th>a</th>\n",
       "      <td>0.904793</td>\n",
       "      <td>0.061631</td>\n",
       "      <td>0.014081</td>\n",
       "    </tr>\n",
       "    <tr>\n",
       "      <th>b</th>\n",
       "      <td>0.913582</td>\n",
       "      <td>0.731462</td>\n",
       "      <td>1.626312</td>\n",
       "    </tr>\n",
       "    <tr>\n",
       "      <th>b</th>\n",
       "      <td>-0.104241</td>\n",
       "      <td>-0.085696</td>\n",
       "      <td>-0.123309</td>\n",
       "    </tr>\n",
       "    <tr>\n",
       "      <th>c</th>\n",
       "      <td>0.120874</td>\n",
       "      <td>0.334948</td>\n",
       "      <td>-0.182840</td>\n",
       "    </tr>\n",
       "  </tbody>\n",
       "</table>\n",
       "</div>"
      ],
      "text/plain": [
       "          0         1         2\n",
       "a -0.486249  1.466989 -0.446679\n",
       "a  0.904793  0.061631  0.014081\n",
       "b  0.913582  0.731462  1.626312\n",
       "b -0.104241 -0.085696 -0.123309\n",
       "c  0.120874  0.334948 -0.182840"
      ]
     },
     "execution_count": 235,
     "metadata": {},
     "output_type": "execute_result"
    }
   ],
   "source": [
    "df =  pd.DataFrame(np.random.standard_normal((5, 3)), index=[\"a\", \"a\", \"b\", \"b\", \"c\"])\n",
    "df"
   ]
  },
  {
   "cell_type": "code",
   "execution_count": 236,
   "id": "e2591049-d9e6-4ced-bbcf-1622b42e8c2a",
   "metadata": {},
   "outputs": [
    {
     "data": {
      "text/html": [
       "<div>\n",
       "<style scoped>\n",
       "    .dataframe tbody tr th:only-of-type {\n",
       "        vertical-align: middle;\n",
       "    }\n",
       "\n",
       "    .dataframe tbody tr th {\n",
       "        vertical-align: top;\n",
       "    }\n",
       "\n",
       "    .dataframe thead th {\n",
       "        text-align: right;\n",
       "    }\n",
       "</style>\n",
       "<table border=\"1\" class=\"dataframe\">\n",
       "  <thead>\n",
       "    <tr style=\"text-align: right;\">\n",
       "      <th></th>\n",
       "      <th>0</th>\n",
       "      <th>1</th>\n",
       "      <th>2</th>\n",
       "    </tr>\n",
       "  </thead>\n",
       "  <tbody>\n",
       "    <tr>\n",
       "      <th>a</th>\n",
       "      <td>-0.486249</td>\n",
       "      <td>1.466989</td>\n",
       "      <td>-0.446679</td>\n",
       "    </tr>\n",
       "    <tr>\n",
       "      <th>a</th>\n",
       "      <td>0.904793</td>\n",
       "      <td>0.061631</td>\n",
       "      <td>0.014081</td>\n",
       "    </tr>\n",
       "  </tbody>\n",
       "</table>\n",
       "</div>"
      ],
      "text/plain": [
       "          0         1         2\n",
       "a -0.486249  1.466989 -0.446679\n",
       "a  0.904793  0.061631  0.014081"
      ]
     },
     "execution_count": 236,
     "metadata": {},
     "output_type": "execute_result"
    }
   ],
   "source": [
    "# The same logic extends to indexing rows (or columns) in a DataFrame:\n",
    "df.loc['a']   # it will display all rows with lable 'a'"
   ]
  },
  {
   "cell_type": "markdown",
   "id": "e4e4c3bb-7344-4f2d-8c49-74cc77d3a27c",
   "metadata": {},
   "source": [
    "## Summarizing and Computing Descriptive Statistics"
   ]
  },
  {
   "cell_type": "raw",
   "id": "b2c6e187-ef60-4f5b-9cda-1233b11d1e5b",
   "metadata": {},
   "source": [
    "pandas objects are equipped with a set of common mathematical and statistical methods. Most of these fall into the category of reductions or summary statistics, methods that extract a single value (like the sum or mean) from a Series, or a Series of values from the rows or columns of a DataFrame. Compared with the similar methodsfound on NumPy arrays, they have built-in handling for missing data."
   ]
  },
  {
   "cell_type": "code",
   "execution_count": 237,
   "id": "e73a5fb0-29e5-4287-92ec-b37dfa01c683",
   "metadata": {},
   "outputs": [
    {
     "data": {
      "text/html": [
       "<div>\n",
       "<style scoped>\n",
       "    .dataframe tbody tr th:only-of-type {\n",
       "        vertical-align: middle;\n",
       "    }\n",
       "\n",
       "    .dataframe tbody tr th {\n",
       "        vertical-align: top;\n",
       "    }\n",
       "\n",
       "    .dataframe thead th {\n",
       "        text-align: right;\n",
       "    }\n",
       "</style>\n",
       "<table border=\"1\" class=\"dataframe\">\n",
       "  <thead>\n",
       "    <tr style=\"text-align: right;\">\n",
       "      <th></th>\n",
       "      <th>red</th>\n",
       "      <th>green</th>\n",
       "    </tr>\n",
       "  </thead>\n",
       "  <tbody>\n",
       "    <tr>\n",
       "      <th>john</th>\n",
       "      <td>2.4</td>\n",
       "      <td>3.2</td>\n",
       "    </tr>\n",
       "    <tr>\n",
       "      <th>marcus</th>\n",
       "      <td>NaN</td>\n",
       "      <td>NaN</td>\n",
       "    </tr>\n",
       "    <tr>\n",
       "      <th>rob</th>\n",
       "      <td>4.8</td>\n",
       "      <td>NaN</td>\n",
       "    </tr>\n",
       "    <tr>\n",
       "      <th>bob</th>\n",
       "      <td>4.0</td>\n",
       "      <td>5.6</td>\n",
       "    </tr>\n",
       "  </tbody>\n",
       "</table>\n",
       "</div>"
      ],
      "text/plain": [
       "        red  green\n",
       "john    2.4    3.2\n",
       "marcus  NaN    NaN\n",
       "rob     4.8    NaN\n",
       "bob     4.0    5.6"
      ]
     },
     "execution_count": 237,
     "metadata": {},
     "output_type": "execute_result"
    }
   ],
   "source": [
    "# for exmple let's take a look at a simple DataFrame\n",
    "df = pd.DataFrame([[2.4, 3.2], [np.nan, np.nan], [4.8, np.nan], [4, 5.6]], columns = ['red', 'green'],\n",
    "                 index = ['john', 'marcus', 'rob', 'bob'])\n",
    "df"
   ]
  },
  {
   "cell_type": "code",
   "execution_count": 238,
   "id": "30286b63-342a-4d37-98db-db5991fcd0ef",
   "metadata": {},
   "outputs": [
    {
     "data": {
      "text/plain": [
       "red      11.2\n",
       "green     8.8\n",
       "dtype: float64"
      ]
     },
     "execution_count": 238,
     "metadata": {},
     "output_type": "execute_result"
    }
   ],
   "source": [
    "# Calling DataFrame’s sum method returns a Series containing column sums:\n",
    "df.sum()"
   ]
  },
  {
   "cell_type": "code",
   "execution_count": 239,
   "id": "1542ba7c-2de1-41bb-b5b7-1ad384f5e557",
   "metadata": {},
   "outputs": [
    {
     "data": {
      "text/plain": [
       "john      5.6\n",
       "marcus    0.0\n",
       "rob       4.8\n",
       "bob       9.6\n",
       "dtype: float64"
      ]
     },
     "execution_count": 239,
     "metadata": {},
     "output_type": "execute_result"
    }
   ],
   "source": [
    "# iw we want to add each row we pass argument\n",
    "df.sum(axis = 'columns')"
   ]
  },
  {
   "cell_type": "code",
   "execution_count": 240,
   "id": "ec8e8370-925e-48d2-a107-c058c6293892",
   "metadata": {},
   "outputs": [
    {
     "data": {
      "text/plain": [
       "red     NaN\n",
       "green   NaN\n",
       "dtype: float64"
      ]
     },
     "execution_count": 240,
     "metadata": {},
     "output_type": "execute_result"
    }
   ],
   "source": [
    "# the default method uses 0 inplace of 'NaN' values but we can use 'NaN' values as it is\n",
    "# we pass 'skipna = False'\n",
    "df.sum(skipna = False) "
   ]
  },
  {
   "cell_type": "code",
   "execution_count": 241,
   "id": "5138640a-f80a-40bb-96e4-8dbd4b394cea",
   "metadata": {},
   "outputs": [
    {
     "data": {
      "text/plain": [
       "john      5.6\n",
       "marcus    NaN\n",
       "rob       NaN\n",
       "bob       9.6\n",
       "dtype: float64"
      ]
     },
     "execution_count": 241,
     "metadata": {},
     "output_type": "execute_result"
    }
   ],
   "source": [
    "df.sum(axis = 'columns', skipna = False)"
   ]
  },
  {
   "cell_type": "code",
   "execution_count": 242,
   "id": "e75eb073-f79f-4b07-96d6-e33041ae5aff",
   "metadata": {},
   "outputs": [
    {
     "data": {
      "text/plain": [
       "red      3.733333\n",
       "green    4.400000\n",
       "dtype: float64"
      ]
     },
     "execution_count": 242,
     "metadata": {},
     "output_type": "execute_result"
    }
   ],
   "source": [
    "# Some aggregations, like mean, require at least one non-NA value to yield a value result,\n",
    "df.mean()"
   ]
  },
  {
   "cell_type": "code",
   "execution_count": 243,
   "id": "550b507e-e2a2-48a5-bc47-6e5bfb71e732",
   "metadata": {},
   "outputs": [
    {
     "data": {
      "text/plain": [
       "john      2.8\n",
       "marcus    NaN\n",
       "rob       4.8\n",
       "bob       4.8\n",
       "dtype: float64"
      ]
     },
     "execution_count": 243,
     "metadata": {},
     "output_type": "execute_result"
    }
   ],
   "source": [
    "df.mean(axis = 'columns')"
   ]
  },
  {
   "cell_type": "code",
   "execution_count": 244,
   "id": "17a793bc-2c6c-40ca-a767-ea42b35b3575",
   "metadata": {},
   "outputs": [
    {
     "data": {
      "text/plain": [
       "red      4.8\n",
       "green    5.6\n",
       "dtype: float64"
      ]
     },
     "execution_count": 244,
     "metadata": {},
     "output_type": "execute_result"
    }
   ],
   "source": [
    "df.max()"
   ]
  },
  {
   "cell_type": "code",
   "execution_count": 245,
   "id": "205b77de-4d74-438e-bfc1-02f00d3f84e7",
   "metadata": {},
   "outputs": [
    {
     "data": {
      "text/plain": [
       "john      3.2\n",
       "marcus    NaN\n",
       "rob       4.8\n",
       "bob       5.6\n",
       "dtype: float64"
      ]
     },
     "execution_count": 245,
     "metadata": {},
     "output_type": "execute_result"
    }
   ],
   "source": [
    "df.max(axis = 'columns')"
   ]
  },
  {
   "cell_type": "code",
   "execution_count": 246,
   "id": "b455378c-653a-40ee-a90b-b0687487bdff",
   "metadata": {},
   "outputs": [
    {
     "data": {
      "text/html": [
       "<div>\n",
       "<style scoped>\n",
       "    .dataframe tbody tr th:only-of-type {\n",
       "        vertical-align: middle;\n",
       "    }\n",
       "\n",
       "    .dataframe tbody tr th {\n",
       "        vertical-align: top;\n",
       "    }\n",
       "\n",
       "    .dataframe thead th {\n",
       "        text-align: right;\n",
       "    }\n",
       "</style>\n",
       "<table border=\"1\" class=\"dataframe\">\n",
       "  <thead>\n",
       "    <tr style=\"text-align: right;\">\n",
       "      <th></th>\n",
       "      <th>red</th>\n",
       "      <th>green</th>\n",
       "    </tr>\n",
       "  </thead>\n",
       "  <tbody>\n",
       "    <tr>\n",
       "      <th>john</th>\n",
       "      <td>2.4</td>\n",
       "      <td>3.2</td>\n",
       "    </tr>\n",
       "    <tr>\n",
       "      <th>marcus</th>\n",
       "      <td>NaN</td>\n",
       "      <td>NaN</td>\n",
       "    </tr>\n",
       "    <tr>\n",
       "      <th>rob</th>\n",
       "      <td>4.8</td>\n",
       "      <td>NaN</td>\n",
       "    </tr>\n",
       "    <tr>\n",
       "      <th>bob</th>\n",
       "      <td>4.0</td>\n",
       "      <td>5.6</td>\n",
       "    </tr>\n",
       "  </tbody>\n",
       "</table>\n",
       "</div>"
      ],
      "text/plain": [
       "        red  green\n",
       "john    2.4    3.2\n",
       "marcus  NaN    NaN\n",
       "rob     4.8    NaN\n",
       "bob     4.0    5.6"
      ]
     },
     "execution_count": 246,
     "metadata": {},
     "output_type": "execute_result"
    }
   ],
   "source": [
    "# Some methods, like idxmin and idxmax, return indirect statistics, like the index value\n",
    "# where the minimum or maximum values are attained:\n",
    "df"
   ]
  },
  {
   "cell_type": "code",
   "execution_count": 247,
   "id": "22c45321-6ee2-4915-aeaa-32c1c6ea6bf4",
   "metadata": {},
   "outputs": [
    {
     "data": {
      "text/plain": [
       "red      rob\n",
       "green    bob\n",
       "dtype: object"
      ]
     },
     "execution_count": 247,
     "metadata": {},
     "output_type": "execute_result"
    }
   ],
   "source": [
    "df.idxmax()"
   ]
  },
  {
   "cell_type": "code",
   "execution_count": 248,
   "id": "c4b54335-8a77-4060-b55b-7f0804e374c9",
   "metadata": {},
   "outputs": [
    {
     "data": {
      "text/html": [
       "<div>\n",
       "<style scoped>\n",
       "    .dataframe tbody tr th:only-of-type {\n",
       "        vertical-align: middle;\n",
       "    }\n",
       "\n",
       "    .dataframe tbody tr th {\n",
       "        vertical-align: top;\n",
       "    }\n",
       "\n",
       "    .dataframe thead th {\n",
       "        text-align: right;\n",
       "    }\n",
       "</style>\n",
       "<table border=\"1\" class=\"dataframe\">\n",
       "  <thead>\n",
       "    <tr style=\"text-align: right;\">\n",
       "      <th></th>\n",
       "      <th>red</th>\n",
       "      <th>green</th>\n",
       "    </tr>\n",
       "  </thead>\n",
       "  <tbody>\n",
       "    <tr>\n",
       "      <th>john</th>\n",
       "      <td>2.4</td>\n",
       "      <td>3.2</td>\n",
       "    </tr>\n",
       "    <tr>\n",
       "      <th>marcus</th>\n",
       "      <td>NaN</td>\n",
       "      <td>NaN</td>\n",
       "    </tr>\n",
       "    <tr>\n",
       "      <th>rob</th>\n",
       "      <td>7.2</td>\n",
       "      <td>NaN</td>\n",
       "    </tr>\n",
       "    <tr>\n",
       "      <th>bob</th>\n",
       "      <td>11.2</td>\n",
       "      <td>8.8</td>\n",
       "    </tr>\n",
       "  </tbody>\n",
       "</table>\n",
       "</div>"
      ],
      "text/plain": [
       "         red  green\n",
       "john     2.4    3.2\n",
       "marcus   NaN    NaN\n",
       "rob      7.2    NaN\n",
       "bob     11.2    8.8"
      ]
     },
     "execution_count": 248,
     "metadata": {},
     "output_type": "execute_result"
    }
   ],
   "source": [
    "# Other methods are accumulations:\n",
    "df.cumsum()"
   ]
  },
  {
   "cell_type": "code",
   "execution_count": 249,
   "id": "0566d2bb-cbbf-45a4-b8b9-092238271c77",
   "metadata": {},
   "outputs": [
    {
     "data": {
      "text/html": [
       "<div>\n",
       "<style scoped>\n",
       "    .dataframe tbody tr th:only-of-type {\n",
       "        vertical-align: middle;\n",
       "    }\n",
       "\n",
       "    .dataframe tbody tr th {\n",
       "        vertical-align: top;\n",
       "    }\n",
       "\n",
       "    .dataframe thead th {\n",
       "        text-align: right;\n",
       "    }\n",
       "</style>\n",
       "<table border=\"1\" class=\"dataframe\">\n",
       "  <thead>\n",
       "    <tr style=\"text-align: right;\">\n",
       "      <th></th>\n",
       "      <th>red</th>\n",
       "      <th>green</th>\n",
       "    </tr>\n",
       "  </thead>\n",
       "  <tbody>\n",
       "    <tr>\n",
       "      <th>john</th>\n",
       "      <td>2.4</td>\n",
       "      <td>5.6</td>\n",
       "    </tr>\n",
       "    <tr>\n",
       "      <th>marcus</th>\n",
       "      <td>NaN</td>\n",
       "      <td>NaN</td>\n",
       "    </tr>\n",
       "    <tr>\n",
       "      <th>rob</th>\n",
       "      <td>4.8</td>\n",
       "      <td>NaN</td>\n",
       "    </tr>\n",
       "    <tr>\n",
       "      <th>bob</th>\n",
       "      <td>4.0</td>\n",
       "      <td>9.6</td>\n",
       "    </tr>\n",
       "  </tbody>\n",
       "</table>\n",
       "</div>"
      ],
      "text/plain": [
       "        red  green\n",
       "john    2.4    5.6\n",
       "marcus  NaN    NaN\n",
       "rob     4.8    NaN\n",
       "bob     4.0    9.6"
      ]
     },
     "execution_count": 249,
     "metadata": {},
     "output_type": "execute_result"
    }
   ],
   "source": [
    "df.cumsum(axis = 'columns')"
   ]
  },
  {
   "cell_type": "code",
   "execution_count": 250,
   "id": "b0c8bfae-efec-42cf-a2d8-6bae3d2162da",
   "metadata": {},
   "outputs": [
    {
     "data": {
      "text/html": [
       "<div>\n",
       "<style scoped>\n",
       "    .dataframe tbody tr th:only-of-type {\n",
       "        vertical-align: middle;\n",
       "    }\n",
       "\n",
       "    .dataframe tbody tr th {\n",
       "        vertical-align: top;\n",
       "    }\n",
       "\n",
       "    .dataframe thead th {\n",
       "        text-align: right;\n",
       "    }\n",
       "</style>\n",
       "<table border=\"1\" class=\"dataframe\">\n",
       "  <thead>\n",
       "    <tr style=\"text-align: right;\">\n",
       "      <th></th>\n",
       "      <th>red</th>\n",
       "      <th>green</th>\n",
       "    </tr>\n",
       "  </thead>\n",
       "  <tbody>\n",
       "    <tr>\n",
       "      <th>john</th>\n",
       "      <td>2.4</td>\n",
       "      <td>3.2</td>\n",
       "    </tr>\n",
       "    <tr>\n",
       "      <th>marcus</th>\n",
       "      <td>NaN</td>\n",
       "      <td>NaN</td>\n",
       "    </tr>\n",
       "    <tr>\n",
       "      <th>rob</th>\n",
       "      <td>4.8</td>\n",
       "      <td>NaN</td>\n",
       "    </tr>\n",
       "    <tr>\n",
       "      <th>bob</th>\n",
       "      <td>4.0</td>\n",
       "      <td>5.6</td>\n",
       "    </tr>\n",
       "  </tbody>\n",
       "</table>\n",
       "</div>"
      ],
      "text/plain": [
       "        red  green\n",
       "john    2.4    3.2\n",
       "marcus  NaN    NaN\n",
       "rob     4.8    NaN\n",
       "bob     4.0    5.6"
      ]
     },
     "execution_count": 250,
     "metadata": {},
     "output_type": "execute_result"
    }
   ],
   "source": [
    "df"
   ]
  },
  {
   "cell_type": "code",
   "execution_count": 251,
   "id": "00d48a15-56e6-4b5e-bdbf-e5576a2b3499",
   "metadata": {},
   "outputs": [
    {
     "data": {
      "text/html": [
       "<div>\n",
       "<style scoped>\n",
       "    .dataframe tbody tr th:only-of-type {\n",
       "        vertical-align: middle;\n",
       "    }\n",
       "\n",
       "    .dataframe tbody tr th {\n",
       "        vertical-align: top;\n",
       "    }\n",
       "\n",
       "    .dataframe thead th {\n",
       "        text-align: right;\n",
       "    }\n",
       "</style>\n",
       "<table border=\"1\" class=\"dataframe\">\n",
       "  <thead>\n",
       "    <tr style=\"text-align: right;\">\n",
       "      <th></th>\n",
       "      <th>red</th>\n",
       "      <th>green</th>\n",
       "    </tr>\n",
       "  </thead>\n",
       "  <tbody>\n",
       "    <tr>\n",
       "      <th>count</th>\n",
       "      <td>3.000000</td>\n",
       "      <td>2.000000</td>\n",
       "    </tr>\n",
       "    <tr>\n",
       "      <th>mean</th>\n",
       "      <td>3.733333</td>\n",
       "      <td>4.400000</td>\n",
       "    </tr>\n",
       "    <tr>\n",
       "      <th>std</th>\n",
       "      <td>1.222020</td>\n",
       "      <td>1.697056</td>\n",
       "    </tr>\n",
       "    <tr>\n",
       "      <th>min</th>\n",
       "      <td>2.400000</td>\n",
       "      <td>3.200000</td>\n",
       "    </tr>\n",
       "    <tr>\n",
       "      <th>25%</th>\n",
       "      <td>3.200000</td>\n",
       "      <td>3.800000</td>\n",
       "    </tr>\n",
       "    <tr>\n",
       "      <th>50%</th>\n",
       "      <td>4.000000</td>\n",
       "      <td>4.400000</td>\n",
       "    </tr>\n",
       "    <tr>\n",
       "      <th>75%</th>\n",
       "      <td>4.400000</td>\n",
       "      <td>5.000000</td>\n",
       "    </tr>\n",
       "    <tr>\n",
       "      <th>max</th>\n",
       "      <td>4.800000</td>\n",
       "      <td>5.600000</td>\n",
       "    </tr>\n",
       "  </tbody>\n",
       "</table>\n",
       "</div>"
      ],
      "text/plain": [
       "            red     green\n",
       "count  3.000000  2.000000\n",
       "mean   3.733333  4.400000\n",
       "std    1.222020  1.697056\n",
       "min    2.400000  3.200000\n",
       "25%    3.200000  3.800000\n",
       "50%    4.000000  4.400000\n",
       "75%    4.400000  5.000000\n",
       "max    4.800000  5.600000"
      ]
     },
     "execution_count": 251,
     "metadata": {},
     "output_type": "execute_result"
    }
   ],
   "source": [
    "# Some methods are neither reductions nor accumulations. describe is one such\n",
    "# example, producing multiple summary statistics in one shot:\n",
    "df.describe()"
   ]
  },
  {
   "cell_type": "code",
   "execution_count": 252,
   "id": "4d73a292-d607-4f45-af54-98c51e6777d4",
   "metadata": {},
   "outputs": [
    {
     "data": {
      "text/plain": [
       "0     a\n",
       "1     a\n",
       "2     b\n",
       "3     c\n",
       "4     a\n",
       "5     a\n",
       "6     b\n",
       "7     c\n",
       "8     a\n",
       "9     a\n",
       "10    b\n",
       "11    c\n",
       "12    a\n",
       "13    a\n",
       "14    b\n",
       "15    c\n",
       "dtype: object"
      ]
     },
     "execution_count": 252,
     "metadata": {},
     "output_type": "execute_result"
    }
   ],
   "source": [
    "s = pd.Series([\"a\", \"a\", \"b\", \"c\"] * 4)\n",
    "s"
   ]
  },
  {
   "cell_type": "code",
   "execution_count": 253,
   "id": "e451e533-1e26-45e0-b0ca-4cde62503cbf",
   "metadata": {},
   "outputs": [
    {
     "data": {
      "text/plain": [
       "count     16\n",
       "unique     3\n",
       "top        a\n",
       "freq       8\n",
       "dtype: object"
      ]
     },
     "execution_count": 253,
     "metadata": {},
     "output_type": "execute_result"
    }
   ],
   "source": [
    "# On nonnumeric data, describe produces alternative summary statistics:\n",
    "s.describe()"
   ]
  },
  {
   "cell_type": "raw",
   "id": "9ec52ed6-8918-4b54-bb34-63a8de211d70",
   "metadata": {},
   "source": [
    "full list of summary statistics and related methods\n",
    "\n",
    "count: Number of non-NA values \n",
    "describe: Compute set of summary statistics\n",
    "min, max: Compute minimum and maximum values\n",
    "argmin, argmax: Compute index locations (integers) at which minimum or maximum value is obtained, respectively;\n",
    " not available on DataFrame objects\n",
    "idxmin, idxmax: Compute index labels at which minimum or maximum value is obtained, respectively\n",
    "quantile: Compute sample quantile ranging from 0 to 1 (default: 0.5)\n",
    "sum: Sum of values\n",
    "mean: Mean of values\n",
    "median: Arithmetic median (50% quantile) of values\n",
    "mad: Mean absolute deviation from mean value\n",
    "prod: Product of all values\n",
    "var: Sample variance of values\n",
    "std: Sample standard deviation of values\n",
    "skew: Sample skewness (third moment) of values\n",
    "kurt: Sample kurtosis (fourth moment) of values\n",
    "cumsum: Cumulative sum of values\n",
    "cummin, cummax: Cumulative minimum or maximum of values, respectively\n",
    "cumprod: Cumulative product of values\n",
    "diff: Compute first arithmetic difference (useful for time series)\n",
    "pct_change: Compute percent changes"
   ]
  },
  {
   "cell_type": "code",
   "execution_count": 254,
   "id": "afc6050a-0239-4bfb-835d-35d782701c77",
   "metadata": {},
   "outputs": [
    {
     "data": {
      "text/plain": [
       "2024-01-01    524.835708\n",
       "2024-01-02    493.086785\n",
       "2024-01-03    532.384427\n",
       "2024-01-04    576.151493\n",
       "2024-01-05    488.292331\n",
       "2024-01-06    488.293152\n",
       "2024-01-07    578.960641\n",
       "2024-01-08    538.371736\n",
       "2024-01-09    476.526281\n",
       "2024-01-10    527.128002\n",
       "2024-01-11    476.829115\n",
       "2024-01-12    476.713512\n",
       "2024-01-13    512.098114\n",
       "2024-01-14    404.335988\n",
       "2024-01-15    413.754108\n",
       "2024-01-16    471.885624\n",
       "2024-01-17    449.358444\n",
       "2024-01-18    515.712367\n",
       "2024-01-19    454.598796\n",
       "2024-01-20    429.384815\n",
       "2024-01-21    573.282438\n",
       "2024-01-22    488.711185\n",
       "2024-01-23    503.376410\n",
       "2024-01-24    428.762591\n",
       "2024-01-25    472.780864\n",
       "2024-01-26    505.546129\n",
       "2024-01-27    442.450321\n",
       "2024-01-28    518.784901\n",
       "2024-01-29    469.968066\n",
       "2024-01-30    485.415313\n",
       "2024-01-31    469.914669\n",
       "Freq: D, Name: Daily Coffee Shop Sales ($), dtype: float64"
      ]
     },
     "execution_count": 254,
     "metadata": {},
     "output_type": "execute_result"
    }
   ],
   "source": [
    "# Simple practice example\n",
    "# Generate a date range for one month\n",
    "dates = pd.date_range(start='2024-01-01', end='2024-01-31')\n",
    "\n",
    "# Simulate daily sales data with some random variation\n",
    "np.random.seed(42)  # For reproducibility\n",
    "sales = np.random.normal(loc=500, scale=50, size=len(dates))  # Average $500 sales, std dev $50\n",
    "\n",
    "# Make sure there are no negative sales\n",
    "sales = np.maximum(sales, 0)\n",
    "\n",
    "# Create the series\n",
    "ds = pd.Series(sales, index=dates)\n",
    "ds.name = 'Daily Coffee Shop Sales ($)'\n",
    "ds"
   ]
  },
  {
   "cell_type": "raw",
   "id": "43aa352b-4deb-4bb9-bb84-b49367ec1405",
   "metadata": {},
   "source": [
    "Basic stats"
   ]
  },
  {
   "cell_type": "code",
   "execution_count": 255,
   "id": "bce867d5-7448-43e6-babb-05606f2f9e49",
   "metadata": {},
   "outputs": [
    {
     "data": {
      "text/plain": [
       "np.int64(31)"
      ]
     },
     "execution_count": 255,
     "metadata": {},
     "output_type": "execute_result"
    }
   ],
   "source": [
    "# count sales\n",
    "ds.count()"
   ]
  },
  {
   "cell_type": "code",
   "execution_count": 256,
   "id": "ef021b10-ab50-415e-b750-88aa3e18b6dc",
   "metadata": {},
   "outputs": [
    {
     "data": {
      "text/plain": [
       "count     31.000000\n",
       "mean     489.925623\n",
       "std       44.399559\n",
       "min      404.335988\n",
       "25%      469.941367\n",
       "50%      488.292331\n",
       "75%      517.248634\n",
       "max      578.960641\n",
       "Name: Daily Coffee Shop Sales ($), dtype: float64"
      ]
     },
     "execution_count": 256,
     "metadata": {},
     "output_type": "execute_result"
    }
   ],
   "source": [
    "ds.describe()"
   ]
  },
  {
   "cell_type": "code",
   "execution_count": 257,
   "id": "453fb827-1222-49ac-9b97-b01c46b797eb",
   "metadata": {},
   "outputs": [
    {
     "data": {
      "text/plain": [
       "np.float64(578.9606407753696)"
      ]
     },
     "execution_count": 257,
     "metadata": {},
     "output_type": "execute_result"
    }
   ],
   "source": [
    "# maximum daily sales\n",
    "ds.max()"
   ]
  },
  {
   "cell_type": "code",
   "execution_count": 258,
   "id": "d89f8f59-118f-49ab-a03a-a3d0a88db0d3",
   "metadata": {},
   "outputs": [
    {
     "data": {
      "text/plain": [
       "np.float64(404.3359877671101)"
      ]
     },
     "execution_count": 258,
     "metadata": {},
     "output_type": "execute_result"
    }
   ],
   "source": [
    "# minimum daily sales\n",
    "ds.min()"
   ]
  },
  {
   "cell_type": "code",
   "execution_count": 259,
   "id": "be9e41c6-7deb-4f42-82cb-d688cc982f12",
   "metadata": {},
   "outputs": [
    {
     "data": {
      "text/plain": [
       "np.float64(489.925623406838)"
      ]
     },
     "execution_count": 259,
     "metadata": {},
     "output_type": "execute_result"
    }
   ],
   "source": [
    "# average daily sales\n",
    "ds.mean()"
   ]
  },
  {
   "cell_type": "code",
   "execution_count": 260,
   "id": "ad9069ce-5071-43ce-a4ec-84e6e74967a8",
   "metadata": {},
   "outputs": [
    {
     "data": {
      "text/plain": [
       "np.float64(488.2923312638332)"
      ]
     },
     "execution_count": 260,
     "metadata": {},
     "output_type": "execute_result"
    }
   ],
   "source": [
    "# median of daily sales\n",
    "ds.median()"
   ]
  },
  {
   "cell_type": "code",
   "execution_count": 261,
   "id": "3e51514e-172d-4728-b7b4-3229dc639e7a",
   "metadata": {},
   "outputs": [
    {
     "data": {
      "text/plain": [
       "np.float64(1971.3208334141118)"
      ]
     },
     "execution_count": 261,
     "metadata": {},
     "output_type": "execute_result"
    }
   ],
   "source": [
    "# varian of daily sales\n",
    "ds.var()"
   ]
  },
  {
   "cell_type": "code",
   "execution_count": 262,
   "id": "596ee804-dfd1-4f20-8185-ad4aa563ff91",
   "metadata": {},
   "outputs": [
    {
     "data": {
      "text/plain": [
       "np.float64(44.39955893265283)"
      ]
     },
     "execution_count": 262,
     "metadata": {},
     "output_type": "execute_result"
    }
   ],
   "source": [
    "# standard deviation of daily sales\n",
    "ds.std()"
   ]
  },
  {
   "cell_type": "code",
   "execution_count": 263,
   "id": "c50b0b69-d219-4392-bb38-753ebf6e5c6c",
   "metadata": {},
   "outputs": [
    {
     "data": {
      "text/plain": [
       "Timestamp('2024-01-07 00:00:00')"
      ]
     },
     "execution_count": 263,
     "metadata": {},
     "output_type": "execute_result"
    }
   ],
   "source": [
    "# days for maximum sales\n",
    "ds.idxmax()"
   ]
  },
  {
   "cell_type": "code",
   "execution_count": 264,
   "id": "6b26a366-48fb-4414-9ba2-fd47a617181d",
   "metadata": {},
   "outputs": [
    {
     "data": {
      "text/plain": [
       "Timestamp('2024-01-14 00:00:00')"
      ]
     },
     "execution_count": 264,
     "metadata": {},
     "output_type": "execute_result"
    }
   ],
   "source": [
    "# days for minumum sales\n",
    "ds.idxmin()"
   ]
  },
  {
   "cell_type": "code",
   "execution_count": 265,
   "id": "c96d4023-e255-44d2-8277-be0d10cbb064",
   "metadata": {},
   "outputs": [
    {
     "data": {
      "text/plain": [
       "np.float64(0.20244554358766403)"
      ]
     },
     "execution_count": 265,
     "metadata": {},
     "output_type": "execute_result"
    }
   ],
   "source": [
    "ds.skew()"
   ]
  },
  {
   "cell_type": "code",
   "execution_count": 266,
   "id": "bfd8bc40-74eb-486b-bed2-8f598aaae99f",
   "metadata": {},
   "outputs": [
    {
     "data": {
      "text/plain": [
       "2024-01-01           NaN\n",
       "2024-01-02           NaN\n",
       "2024-01-03           NaN\n",
       "2024-01-04           NaN\n",
       "2024-01-05           NaN\n",
       "2024-01-06           NaN\n",
       "2024-01-07    526.000648\n",
       "2024-01-08    527.934366\n",
       "2024-01-09    525.568580\n",
       "2024-01-10    524.817662\n",
       "2024-01-11    510.628751\n",
       "2024-01-12    508.974634\n",
       "2024-01-13    512.375343\n",
       "2024-01-14    487.428964\n",
       "2024-01-15    469.626446\n",
       "2024-01-16    468.963495\n",
       "2024-01-17    457.853558\n",
       "2024-01-18    463.408308\n",
       "2024-01-19    460.249063\n",
       "2024-01-20    448.432877\n",
       "2024-01-21    472.568085\n",
       "2024-01-22    483.276238\n",
       "2024-01-23    487.774922\n",
       "2024-01-24    484.832657\n",
       "2024-01-25    478.699586\n",
       "2024-01-26    485.977776\n",
       "2024-01-27    487.844277\n",
       "2024-01-28    480.058914\n",
       "2024-01-29    477.381326\n",
       "2024-01-30    474.815455\n",
       "2024-01-31    480.694323\n",
       "Freq: D, Name: Daily Coffee Shop Sales ($), dtype: float64"
      ]
     },
     "execution_count": 266,
     "metadata": {},
     "output_type": "execute_result"
    }
   ],
   "source": [
    "# Rolling Averages (7-day moving average):\n",
    "ds.rolling(window=7).mean()"
   ]
  },
  {
   "cell_type": "code",
   "execution_count": 267,
   "id": "4ba15542-e2f5-48bf-998f-d8ecc17bd35d",
   "metadata": {},
   "outputs": [
    {
     "data": {
      "image/png": "[encoded data removed]",
      "text/plain": [
       "<Figure size 1200x600 with 1 Axes>"
      ]
     },
     "metadata": {},
     "output_type": "display_data"
    }
   ],
   "source": [
    "import matplotlib.pyplot as plt\n",
    "ds.plot(title='Daily Coffee Shop Sales in January 2024', figsize=(12,6))\n",
    "plt.ylabel('Sales ($)')\n",
    "plt.xlabel(\"Date\")\n",
    "plt.show()"
   ]
  },
  {
   "cell_type": "raw",
   "id": "f2548d81-1402-42e5-a83c-a9d4bc7356ad",
   "metadata": {},
   "source": [
    "Covariance and Correlation"
   ]
  },
  {
   "cell_type": "code",
   "execution_count": 268,
   "id": "1d291625-fca3-46d0-84a4-5eb673d449a8",
   "metadata": {},
   "outputs": [
    {
     "data": {
      "text/html": [
       "<div>\n",
       "<style scoped>\n",
       "    .dataframe tbody tr th:only-of-type {\n",
       "        vertical-align: middle;\n",
       "    }\n",
       "\n",
       "    .dataframe tbody tr th {\n",
       "        vertical-align: top;\n",
       "    }\n",
       "\n",
       "    .dataframe thead th {\n",
       "        text-align: right;\n",
       "    }\n",
       "</style>\n",
       "<table border=\"1\" class=\"dataframe\">\n",
       "  <thead>\n",
       "    <tr style=\"text-align: right;\">\n",
       "      <th></th>\n",
       "      <th>Coffee</th>\n",
       "      <th>Tea</th>\n",
       "      <th>Pastries</th>\n",
       "    </tr>\n",
       "  </thead>\n",
       "  <tbody>\n",
       "    <tr>\n",
       "      <th>0</th>\n",
       "      <td>500</td>\n",
       "      <td>300</td>\n",
       "      <td>150</td>\n",
       "    </tr>\n",
       "    <tr>\n",
       "      <th>1</th>\n",
       "      <td>520</td>\n",
       "      <td>310</td>\n",
       "      <td>170</td>\n",
       "    </tr>\n",
       "    <tr>\n",
       "      <th>2</th>\n",
       "      <td>480</td>\n",
       "      <td>295</td>\n",
       "      <td>140</td>\n",
       "    </tr>\n",
       "    <tr>\n",
       "      <th>3</th>\n",
       "      <td>510</td>\n",
       "      <td>305</td>\n",
       "      <td>160</td>\n",
       "    </tr>\n",
       "    <tr>\n",
       "      <th>4</th>\n",
       "      <td>495</td>\n",
       "      <td>290</td>\n",
       "      <td>155</td>\n",
       "    </tr>\n",
       "  </tbody>\n",
       "</table>\n",
       "</div>"
      ],
      "text/plain": [
       "   Coffee  Tea  Pastries\n",
       "0     500  300       150\n",
       "1     520  310       170\n",
       "2     480  295       140\n",
       "3     510  305       160\n",
       "4     495  290       155"
      ]
     },
     "execution_count": 268,
     "metadata": {},
     "output_type": "execute_result"
    }
   ],
   "source": [
    "# Sample data for 3 products' daily sales\n",
    "data = {\n",
    "    'Coffee': [500, 520, 480, 510, 495],\n",
    "    'Tea': [300, 310, 295, 305, 290],\n",
    "    'Pastries': [150, 170, 140, 160, 155]\n",
    "}\n",
    "\n",
    "df = pd.DataFrame(data)\n",
    "df"
   ]
  },
  {
   "cell_type": "code",
   "execution_count": 269,
   "id": "e67f59f0-479f-4159-a1f2-0a001a8faa1d",
   "metadata": {},
   "outputs": [
    {
     "data": {
      "text/html": [
       "<div>\n",
       "<style scoped>\n",
       "    .dataframe tbody tr th:only-of-type {\n",
       "        vertical-align: middle;\n",
       "    }\n",
       "\n",
       "    .dataframe tbody tr th {\n",
       "        vertical-align: top;\n",
       "    }\n",
       "\n",
       "    .dataframe thead th {\n",
       "        text-align: right;\n",
       "    }\n",
       "</style>\n",
       "<table border=\"1\" class=\"dataframe\">\n",
       "  <thead>\n",
       "    <tr style=\"text-align: right;\">\n",
       "      <th></th>\n",
       "      <th>Coffee</th>\n",
       "      <th>Tea</th>\n",
       "      <th>Pastries</th>\n",
       "    </tr>\n",
       "  </thead>\n",
       "  <tbody>\n",
       "    <tr>\n",
       "      <th>Coffee</th>\n",
       "      <td>230.0</td>\n",
       "      <td>100.0</td>\n",
       "      <td>162.5</td>\n",
       "    </tr>\n",
       "    <tr>\n",
       "      <th>Tea</th>\n",
       "      <td>100.0</td>\n",
       "      <td>62.5</td>\n",
       "      <td>62.5</td>\n",
       "    </tr>\n",
       "    <tr>\n",
       "      <th>Pastries</th>\n",
       "      <td>162.5</td>\n",
       "      <td>62.5</td>\n",
       "      <td>125.0</td>\n",
       "    </tr>\n",
       "  </tbody>\n",
       "</table>\n",
       "</div>"
      ],
      "text/plain": [
       "          Coffee    Tea  Pastries\n",
       "Coffee     230.0  100.0     162.5\n",
       "Tea        100.0   62.5      62.5\n",
       "Pastries   162.5   62.5     125.0"
      ]
     },
     "execution_count": 269,
     "metadata": {},
     "output_type": "execute_result"
    }
   ],
   "source": [
    "# covariance of all items\n",
    "df.cov()"
   ]
  },
  {
   "cell_type": "code",
   "execution_count": 270,
   "id": "429fda15-7f01-4dc9-9aab-d56016fce6f1",
   "metadata": {},
   "outputs": [
    {
     "data": {
      "text/html": [
       "<div>\n",
       "<style scoped>\n",
       "    .dataframe tbody tr th:only-of-type {\n",
       "        vertical-align: middle;\n",
       "    }\n",
       "\n",
       "    .dataframe tbody tr th {\n",
       "        vertical-align: top;\n",
       "    }\n",
       "\n",
       "    .dataframe thead th {\n",
       "        text-align: right;\n",
       "    }\n",
       "</style>\n",
       "<table border=\"1\" class=\"dataframe\">\n",
       "  <thead>\n",
       "    <tr style=\"text-align: right;\">\n",
       "      <th></th>\n",
       "      <th>Coffee</th>\n",
       "      <th>Tea</th>\n",
       "      <th>Pastries</th>\n",
       "    </tr>\n",
       "  </thead>\n",
       "  <tbody>\n",
       "    <tr>\n",
       "      <th>Coffee</th>\n",
       "      <td>1.000000</td>\n",
       "      <td>0.834058</td>\n",
       "      <td>0.958373</td>\n",
       "    </tr>\n",
       "    <tr>\n",
       "      <th>Tea</th>\n",
       "      <td>0.834058</td>\n",
       "      <td>1.000000</td>\n",
       "      <td>0.707107</td>\n",
       "    </tr>\n",
       "    <tr>\n",
       "      <th>Pastries</th>\n",
       "      <td>0.958373</td>\n",
       "      <td>0.707107</td>\n",
       "      <td>1.000000</td>\n",
       "    </tr>\n",
       "  </tbody>\n",
       "</table>\n",
       "</div>"
      ],
      "text/plain": [
       "            Coffee       Tea  Pastries\n",
       "Coffee    1.000000  0.834058  0.958373\n",
       "Tea       0.834058  1.000000  0.707107\n",
       "Pastries  0.958373  0.707107  1.000000"
      ]
     },
     "execution_count": 270,
     "metadata": {},
     "output_type": "execute_result"
    }
   ],
   "source": [
    "# correlation of all items\n",
    "df.corr()"
   ]
  },
  {
   "cell_type": "code",
   "execution_count": 271,
   "id": "3aa4bfbb-a9a9-45db-9ca2-cfad70301b79",
   "metadata": {},
   "outputs": [
    {
     "data": {
      "text/plain": [
       "np.float64(100.0)"
      ]
     },
     "execution_count": 271,
     "metadata": {},
     "output_type": "execute_result"
    }
   ],
   "source": [
    "# covariance of two spaecific items\n",
    "df['Coffee'].cov(df['Tea'])"
   ]
  },
  {
   "cell_type": "code",
   "execution_count": 272,
   "id": "f76f1dc4-9bb4-4356-a341-03b8e9d1374c",
   "metadata": {},
   "outputs": [
    {
     "data": {
      "text/plain": [
       "np.float64(0.8340576562282991)"
      ]
     },
     "execution_count": 272,
     "metadata": {},
     "output_type": "execute_result"
    }
   ],
   "source": [
    "# correlation of two spaecific items\n",
    "df['Coffee'].corr(df['Tea'])"
   ]
  },
  {
   "cell_type": "code",
   "execution_count": 273,
   "id": "cd9d7024-eebb-48e5-9c0f-4ad43c2d3169",
   "metadata": {},
   "outputs": [
    {
     "data": {
      "text/plain": [
       "Coffee      0.834058\n",
       "Tea         1.000000\n",
       "Pastries    0.707107\n",
       "dtype: float64"
      ]
     },
     "execution_count": 273,
     "metadata": {},
     "output_type": "execute_result"
    }
   ],
   "source": [
    "# using corrwith methode to compute correlation\n",
    "df.corrwith(df['Tea'])"
   ]
  },
  {
   "cell_type": "code",
   "execution_count": 274,
   "id": "290293b9-23f2-42c4-9323-fcaa990993fa",
   "metadata": {},
   "outputs": [],
   "source": [
    "# open a file to read\n",
    "price = pd.read_pickle('yahoo_price.pkl')\n",
    "volume = pd.read_pickle('yahoo_volume.pkl')"
   ]
  },
  {
   "cell_type": "code",
   "execution_count": 275,
   "id": "1114c63e-f843-48cf-9341-8ad82c6ae8fd",
   "metadata": {},
   "outputs": [
    {
     "data": {
      "text/html": [
       "<div>\n",
       "<style scoped>\n",
       "    .dataframe tbody tr th:only-of-type {\n",
       "        vertical-align: middle;\n",
       "    }\n",
       "\n",
       "    .dataframe tbody tr th {\n",
       "        vertical-align: top;\n",
       "    }\n",
       "\n",
       "    .dataframe thead th {\n",
       "        text-align: right;\n",
       "    }\n",
       "</style>\n",
       "<table border=\"1\" class=\"dataframe\">\n",
       "  <thead>\n",
       "    <tr style=\"text-align: right;\">\n",
       "      <th></th>\n",
       "      <th>AAPL</th>\n",
       "      <th>GOOG</th>\n",
       "      <th>IBM</th>\n",
       "      <th>MSFT</th>\n",
       "    </tr>\n",
       "    <tr>\n",
       "      <th>Date</th>\n",
       "      <th></th>\n",
       "      <th></th>\n",
       "      <th></th>\n",
       "      <th></th>\n",
       "    </tr>\n",
       "  </thead>\n",
       "  <tbody>\n",
       "    <tr>\n",
       "      <th>2010-01-04</th>\n",
       "      <td>27.990226</td>\n",
       "      <td>313.062468</td>\n",
       "      <td>113.304536</td>\n",
       "      <td>25.884104</td>\n",
       "    </tr>\n",
       "    <tr>\n",
       "      <th>2010-01-05</th>\n",
       "      <td>28.038618</td>\n",
       "      <td>311.683844</td>\n",
       "      <td>111.935822</td>\n",
       "      <td>25.892466</td>\n",
       "    </tr>\n",
       "    <tr>\n",
       "      <th>2010-01-06</th>\n",
       "      <td>27.592626</td>\n",
       "      <td>303.826685</td>\n",
       "      <td>111.208683</td>\n",
       "      <td>25.733566</td>\n",
       "    </tr>\n",
       "    <tr>\n",
       "      <th>2010-01-07</th>\n",
       "      <td>27.541619</td>\n",
       "      <td>296.753749</td>\n",
       "      <td>110.823732</td>\n",
       "      <td>25.465944</td>\n",
       "    </tr>\n",
       "    <tr>\n",
       "      <th>2010-01-08</th>\n",
       "      <td>27.724725</td>\n",
       "      <td>300.709808</td>\n",
       "      <td>111.935822</td>\n",
       "      <td>25.641571</td>\n",
       "    </tr>\n",
       "  </tbody>\n",
       "</table>\n",
       "</div>"
      ],
      "text/plain": [
       "                 AAPL        GOOG         IBM       MSFT\n",
       "Date                                                    \n",
       "2010-01-04  27.990226  313.062468  113.304536  25.884104\n",
       "2010-01-05  28.038618  311.683844  111.935822  25.892466\n",
       "2010-01-06  27.592626  303.826685  111.208683  25.733566\n",
       "2010-01-07  27.541619  296.753749  110.823732  25.465944\n",
       "2010-01-08  27.724725  300.709808  111.935822  25.641571"
      ]
     },
     "execution_count": 275,
     "metadata": {},
     "output_type": "execute_result"
    }
   ],
   "source": [
    "price.head()    # display the first 5 rows of the data"
   ]
  },
  {
   "cell_type": "code",
   "execution_count": 276,
   "id": "ca46b6ba-fbaa-48c1-b7de-fa39a319f474",
   "metadata": {},
   "outputs": [
    {
     "data": {
      "text/html": [
       "<div>\n",
       "<style scoped>\n",
       "    .dataframe tbody tr th:only-of-type {\n",
       "        vertical-align: middle;\n",
       "    }\n",
       "\n",
       "    .dataframe tbody tr th {\n",
       "        vertical-align: top;\n",
       "    }\n",
       "\n",
       "    .dataframe thead th {\n",
       "        text-align: right;\n",
       "    }\n",
       "</style>\n",
       "<table border=\"1\" class=\"dataframe\">\n",
       "  <thead>\n",
       "    <tr style=\"text-align: right;\">\n",
       "      <th></th>\n",
       "      <th>AAPL</th>\n",
       "      <th>GOOG</th>\n",
       "      <th>IBM</th>\n",
       "      <th>MSFT</th>\n",
       "    </tr>\n",
       "    <tr>\n",
       "      <th>Date</th>\n",
       "      <th></th>\n",
       "      <th></th>\n",
       "      <th></th>\n",
       "      <th></th>\n",
       "    </tr>\n",
       "  </thead>\n",
       "  <tbody>\n",
       "    <tr>\n",
       "      <th>2010-01-04</th>\n",
       "      <td>123432400</td>\n",
       "      <td>3927000</td>\n",
       "      <td>6155300</td>\n",
       "      <td>38409100</td>\n",
       "    </tr>\n",
       "    <tr>\n",
       "      <th>2010-01-05</th>\n",
       "      <td>150476200</td>\n",
       "      <td>6031900</td>\n",
       "      <td>6841400</td>\n",
       "      <td>49749600</td>\n",
       "    </tr>\n",
       "    <tr>\n",
       "      <th>2010-01-06</th>\n",
       "      <td>138040000</td>\n",
       "      <td>7987100</td>\n",
       "      <td>5605300</td>\n",
       "      <td>58182400</td>\n",
       "    </tr>\n",
       "    <tr>\n",
       "      <th>2010-01-07</th>\n",
       "      <td>119282800</td>\n",
       "      <td>12876600</td>\n",
       "      <td>5840600</td>\n",
       "      <td>50559700</td>\n",
       "    </tr>\n",
       "    <tr>\n",
       "      <th>2010-01-08</th>\n",
       "      <td>111902700</td>\n",
       "      <td>9483900</td>\n",
       "      <td>4197200</td>\n",
       "      <td>51197400</td>\n",
       "    </tr>\n",
       "  </tbody>\n",
       "</table>\n",
       "</div>"
      ],
      "text/plain": [
       "                 AAPL      GOOG      IBM      MSFT\n",
       "Date                                              \n",
       "2010-01-04  123432400   3927000  6155300  38409100\n",
       "2010-01-05  150476200   6031900  6841400  49749600\n",
       "2010-01-06  138040000   7987100  5605300  58182400\n",
       "2010-01-07  119282800  12876600  5840600  50559700\n",
       "2010-01-08  111902700   9483900  4197200  51197400"
      ]
     },
     "execution_count": 276,
     "metadata": {},
     "output_type": "execute_result"
    }
   ],
   "source": [
    "volume.head()"
   ]
  },
  {
   "cell_type": "code",
   "execution_count": 277,
   "id": "5c3f3deb-7eba-414b-a0ac-45b316abffd1",
   "metadata": {},
   "outputs": [
    {
     "data": {
      "text/html": [
       "<div>\n",
       "<style scoped>\n",
       "    .dataframe tbody tr th:only-of-type {\n",
       "        vertical-align: middle;\n",
       "    }\n",
       "\n",
       "    .dataframe tbody tr th {\n",
       "        vertical-align: top;\n",
       "    }\n",
       "\n",
       "    .dataframe thead th {\n",
       "        text-align: right;\n",
       "    }\n",
       "</style>\n",
       "<table border=\"1\" class=\"dataframe\">\n",
       "  <thead>\n",
       "    <tr style=\"text-align: right;\">\n",
       "      <th></th>\n",
       "      <th>AAPL</th>\n",
       "      <th>GOOG</th>\n",
       "      <th>IBM</th>\n",
       "      <th>MSFT</th>\n",
       "    </tr>\n",
       "    <tr>\n",
       "      <th>Date</th>\n",
       "      <th></th>\n",
       "      <th></th>\n",
       "      <th></th>\n",
       "      <th></th>\n",
       "    </tr>\n",
       "  </thead>\n",
       "  <tbody>\n",
       "    <tr>\n",
       "      <th>2016-10-17</th>\n",
       "      <td>-0.000680</td>\n",
       "      <td>0.001837</td>\n",
       "      <td>0.002072</td>\n",
       "      <td>-0.003483</td>\n",
       "    </tr>\n",
       "    <tr>\n",
       "      <th>2016-10-18</th>\n",
       "      <td>-0.000681</td>\n",
       "      <td>0.019616</td>\n",
       "      <td>-0.026168</td>\n",
       "      <td>0.007690</td>\n",
       "    </tr>\n",
       "    <tr>\n",
       "      <th>2016-10-19</th>\n",
       "      <td>-0.002979</td>\n",
       "      <td>0.007846</td>\n",
       "      <td>0.003583</td>\n",
       "      <td>-0.002255</td>\n",
       "    </tr>\n",
       "    <tr>\n",
       "      <th>2016-10-20</th>\n",
       "      <td>-0.000512</td>\n",
       "      <td>-0.005652</td>\n",
       "      <td>0.001719</td>\n",
       "      <td>-0.004867</td>\n",
       "    </tr>\n",
       "    <tr>\n",
       "      <th>2016-10-21</th>\n",
       "      <td>-0.003930</td>\n",
       "      <td>0.003011</td>\n",
       "      <td>-0.012474</td>\n",
       "      <td>0.042096</td>\n",
       "    </tr>\n",
       "  </tbody>\n",
       "</table>\n",
       "</div>"
      ],
      "text/plain": [
       "                AAPL      GOOG       IBM      MSFT\n",
       "Date                                              \n",
       "2016-10-17 -0.000680  0.001837  0.002072 -0.003483\n",
       "2016-10-18 -0.000681  0.019616 -0.026168  0.007690\n",
       "2016-10-19 -0.002979  0.007846  0.003583 -0.002255\n",
       "2016-10-20 -0.000512 -0.005652  0.001719 -0.004867\n",
       "2016-10-21 -0.003930  0.003011 -0.012474  0.042096"
      ]
     },
     "execution_count": 277,
     "metadata": {},
     "output_type": "execute_result"
    }
   ],
   "source": [
    "# compute the percent changes of price\n",
    "returns = price.pct_change()\n",
    "returns.tail()"
   ]
  },
  {
   "cell_type": "code",
   "execution_count": 278,
   "id": "5057464d-3deb-46ee-a381-f54089000b42",
   "metadata": {},
   "outputs": [
    {
     "data": {
      "text/plain": [
       "np.float64(0.4079185761679699)"
      ]
     },
     "execution_count": 278,
     "metadata": {},
     "output_type": "execute_result"
    }
   ],
   "source": [
    "# let's see the relation between two varibles using correlation and covariance\n",
    "# let's start with correlation\n",
    "returns['AAPL'].corr(returns['GOOG'])"
   ]
  },
  {
   "cell_type": "code",
   "execution_count": 279,
   "id": "bfecd29d-29ce-4e79-a13e-c435aa293199",
   "metadata": {},
   "outputs": [
    {
     "data": {
      "text/plain": [
       "np.float64(0.00010745748920152607)"
      ]
     },
     "execution_count": 279,
     "metadata": {},
     "output_type": "execute_result"
    }
   ],
   "source": [
    "# compute covariance\n",
    "returns['AAPL'].cov(returns['GOOG'])"
   ]
  },
  {
   "cell_type": "code",
   "execution_count": 280,
   "id": "d7d05796-e419-49fe-b627-fb31ec47eb1a",
   "metadata": {},
   "outputs": [
    {
     "data": {
      "text/html": [
       "<div>\n",
       "<style scoped>\n",
       "    .dataframe tbody tr th:only-of-type {\n",
       "        vertical-align: middle;\n",
       "    }\n",
       "\n",
       "    .dataframe tbody tr th {\n",
       "        vertical-align: top;\n",
       "    }\n",
       "\n",
       "    .dataframe thead th {\n",
       "        text-align: right;\n",
       "    }\n",
       "</style>\n",
       "<table border=\"1\" class=\"dataframe\">\n",
       "  <thead>\n",
       "    <tr style=\"text-align: right;\">\n",
       "      <th></th>\n",
       "      <th>AAPL</th>\n",
       "      <th>GOOG</th>\n",
       "      <th>IBM</th>\n",
       "      <th>MSFT</th>\n",
       "    </tr>\n",
       "  </thead>\n",
       "  <tbody>\n",
       "    <tr>\n",
       "      <th>AAPL</th>\n",
       "      <td>0.000277</td>\n",
       "      <td>0.000107</td>\n",
       "      <td>0.000078</td>\n",
       "      <td>0.000095</td>\n",
       "    </tr>\n",
       "    <tr>\n",
       "      <th>GOOG</th>\n",
       "      <td>0.000107</td>\n",
       "      <td>0.000251</td>\n",
       "      <td>0.000078</td>\n",
       "      <td>0.000108</td>\n",
       "    </tr>\n",
       "    <tr>\n",
       "      <th>IBM</th>\n",
       "      <td>0.000078</td>\n",
       "      <td>0.000078</td>\n",
       "      <td>0.000146</td>\n",
       "      <td>0.000089</td>\n",
       "    </tr>\n",
       "    <tr>\n",
       "      <th>MSFT</th>\n",
       "      <td>0.000095</td>\n",
       "      <td>0.000108</td>\n",
       "      <td>0.000089</td>\n",
       "      <td>0.000215</td>\n",
       "    </tr>\n",
       "  </tbody>\n",
       "</table>\n",
       "</div>"
      ],
      "text/plain": [
       "          AAPL      GOOG       IBM      MSFT\n",
       "AAPL  0.000277  0.000107  0.000078  0.000095\n",
       "GOOG  0.000107  0.000251  0.000078  0.000108\n",
       "IBM   0.000078  0.000078  0.000146  0.000089\n",
       "MSFT  0.000095  0.000108  0.000089  0.000215"
      ]
     },
     "execution_count": 280,
     "metadata": {},
     "output_type": "execute_result"
    }
   ],
   "source": [
    "# DataFrame’s corr and cov methods, on the other hand, return a full correlation or\n",
    "# covariance matrix as a DataFrame, respectively:\n",
    "returns.cov()"
   ]
  },
  {
   "cell_type": "code",
   "execution_count": 281,
   "id": "83cfdfb4-6169-4a06-9f65-fbd2a4855163",
   "metadata": {},
   "outputs": [
    {
     "data": {
      "text/html": [
       "<div>\n",
       "<style scoped>\n",
       "    .dataframe tbody tr th:only-of-type {\n",
       "        vertical-align: middle;\n",
       "    }\n",
       "\n",
       "    .dataframe tbody tr th {\n",
       "        vertical-align: top;\n",
       "    }\n",
       "\n",
       "    .dataframe thead th {\n",
       "        text-align: right;\n",
       "    }\n",
       "</style>\n",
       "<table border=\"1\" class=\"dataframe\">\n",
       "  <thead>\n",
       "    <tr style=\"text-align: right;\">\n",
       "      <th></th>\n",
       "      <th>AAPL</th>\n",
       "      <th>GOOG</th>\n",
       "      <th>IBM</th>\n",
       "      <th>MSFT</th>\n",
       "    </tr>\n",
       "  </thead>\n",
       "  <tbody>\n",
       "    <tr>\n",
       "      <th>AAPL</th>\n",
       "      <td>1.000000</td>\n",
       "      <td>0.407919</td>\n",
       "      <td>0.386817</td>\n",
       "      <td>0.389695</td>\n",
       "    </tr>\n",
       "    <tr>\n",
       "      <th>GOOG</th>\n",
       "      <td>0.407919</td>\n",
       "      <td>1.000000</td>\n",
       "      <td>0.405099</td>\n",
       "      <td>0.465919</td>\n",
       "    </tr>\n",
       "    <tr>\n",
       "      <th>IBM</th>\n",
       "      <td>0.386817</td>\n",
       "      <td>0.405099</td>\n",
       "      <td>1.000000</td>\n",
       "      <td>0.499764</td>\n",
       "    </tr>\n",
       "    <tr>\n",
       "      <th>MSFT</th>\n",
       "      <td>0.389695</td>\n",
       "      <td>0.465919</td>\n",
       "      <td>0.499764</td>\n",
       "      <td>1.000000</td>\n",
       "    </tr>\n",
       "  </tbody>\n",
       "</table>\n",
       "</div>"
      ],
      "text/plain": [
       "          AAPL      GOOG       IBM      MSFT\n",
       "AAPL  1.000000  0.407919  0.386817  0.389695\n",
       "GOOG  0.407919  1.000000  0.405099  0.465919\n",
       "IBM   0.386817  0.405099  1.000000  0.499764\n",
       "MSFT  0.389695  0.465919  0.499764  1.000000"
      ]
     },
     "execution_count": 281,
     "metadata": {},
     "output_type": "execute_result"
    }
   ],
   "source": [
    "returns.corr()"
   ]
  },
  {
   "cell_type": "code",
   "execution_count": 282,
   "id": "a9fdf98b-833d-410b-8d76-a6901c34f518",
   "metadata": {},
   "outputs": [
    {
     "data": {
      "text/plain": [
       "AAPL    0.386817\n",
       "GOOG    0.405099\n",
       "IBM     1.000000\n",
       "MSFT    0.499764\n",
       "dtype: float64"
      ]
     },
     "execution_count": 282,
     "metadata": {},
     "output_type": "execute_result"
    }
   ],
   "source": [
    "# Using DataFrame’s corrwith method, we can compute pair-wise correlations\n",
    "# between a DataFrame’s columns or rows with another Series or DataFrame. Passing a\n",
    "# Series returns a Series with the correlation value computed for each column:\n",
    "returns.corrwith(returns['IBM'])"
   ]
  },
  {
   "cell_type": "code",
   "execution_count": 283,
   "id": "da050da7-fa77-4d93-bfae-69466e421d9a",
   "metadata": {},
   "outputs": [
    {
     "data": {
      "text/plain": [
       "AAPL   -0.075565\n",
       "GOOG   -0.007067\n",
       "IBM    -0.204849\n",
       "MSFT   -0.092950\n",
       "dtype: float64"
      ]
     },
     "execution_count": 283,
     "metadata": {},
     "output_type": "execute_result"
    }
   ],
   "source": [
    "# Passing a DataFrame computes the correlations of matching column names. Here, I\n",
    "# compute correlations of percent changes with volume:\n",
    "returns.corrwith(volume)"
   ]
  },
  {
   "cell_type": "markdown",
   "id": "f241b006-6afa-4565-bf27-42840071b72c",
   "metadata": {},
   "source": [
    "## Unique Values, Value Counts, and Membership"
   ]
  },
  {
   "cell_type": "raw",
   "id": "e60a1752-c9b3-4a5b-9acd-99d9f470c1ad",
   "metadata": {},
   "source": [
    "Another class of related methods extracts information about the values contained in a\n",
    "one-dimensional Series."
   ]
  },
  {
   "cell_type": "code",
   "execution_count": 284,
   "id": "585116e8-4cbe-4a7e-ac5f-63de1f75390e",
   "metadata": {},
   "outputs": [
    {
     "data": {
      "text/plain": [
       "0    c\n",
       "1    a\n",
       "2    d\n",
       "3    a\n",
       "4    a\n",
       "5    b\n",
       "6    b\n",
       "7    c\n",
       "8    c\n",
       "dtype: object"
      ]
     },
     "execution_count": 284,
     "metadata": {},
     "output_type": "execute_result"
    }
   ],
   "source": [
    "s = pd.Series([\"c\", \"a\", \"d\", \"a\", \"a\", \"b\", \"b\", \"c\", \"c\"])\n",
    "s"
   ]
  },
  {
   "cell_type": "code",
   "execution_count": 285,
   "id": "97ba0efa-50f3-4c27-88cd-97c6c5dc11c6",
   "metadata": {},
   "outputs": [
    {
     "data": {
      "text/plain": [
       "array(['c', 'a', 'd', 'b'], dtype=object)"
      ]
     },
     "execution_count": 285,
     "metadata": {},
     "output_type": "execute_result"
    }
   ],
   "source": [
    "# Unigue function\n",
    "# gives an array of the unique values in a series\n",
    "uniques = s.unique()\n",
    "uniques"
   ]
  },
  {
   "cell_type": "code",
   "execution_count": 286,
   "id": "b703b5fc-c0e9-492f-9431-4079e57ed0a9",
   "metadata": {},
   "outputs": [
    {
     "data": {
      "text/plain": [
       "4"
      ]
     },
     "execution_count": 286,
     "metadata": {},
     "output_type": "execute_result"
    }
   ],
   "source": [
    "# number of unique values\n",
    "s.nunique()"
   ]
  },
  {
   "cell_type": "code",
   "execution_count": 287,
   "id": "e26e4b2e-0e20-44be-b25a-7d4504767c3c",
   "metadata": {},
   "outputs": [
    {
     "data": {
      "text/plain": [
       "c    3\n",
       "a    3\n",
       "b    2\n",
       "d    1\n",
       "Name: count, dtype: int64"
      ]
     },
     "execution_count": 287,
     "metadata": {},
     "output_type": "execute_result"
    }
   ],
   "source": [
    "# value_counts function\n",
    "# computes a series containing value frequencies\n",
    "s.value_counts()"
   ]
  },
  {
   "cell_type": "code",
   "execution_count": 288,
   "id": "3e5d4ed5-477c-44ec-913a-a1a6c8e21dbe",
   "metadata": {},
   "outputs": [
    {
     "data": {
      "text/plain": [
       "c    3\n",
       "a    3\n",
       "b    2\n",
       "d    1\n",
       "Name: count, dtype: int64"
      ]
     },
     "execution_count": 288,
     "metadata": {},
     "output_type": "execute_result"
    }
   ],
   "source": [
    "# The Series is sorted by value in descending order as a convenience. value_counts is\n",
    "# also available as a top-level pandas method that can be used with NumPy arrays or\n",
    "# other Python sequences\n",
    "pd.Series(s.to_numpy()).value_counts()"
   ]
  },
  {
   "cell_type": "code",
   "execution_count": 289,
   "id": "6f3419f8-4191-49f7-81b2-a7009623432d",
   "metadata": {},
   "outputs": [
    {
     "data": {
      "text/plain": [
       "0    c\n",
       "1    a\n",
       "2    d\n",
       "3    a\n",
       "4    a\n",
       "5    b\n",
       "6    b\n",
       "7    c\n",
       "8    c\n",
       "dtype: object"
      ]
     },
     "execution_count": 289,
     "metadata": {},
     "output_type": "execute_result"
    }
   ],
   "source": [
    "s"
   ]
  },
  {
   "cell_type": "code",
   "execution_count": 290,
   "id": "6f2e1374-9ca8-463f-87e7-5f1b8fb2ca30",
   "metadata": {},
   "outputs": [
    {
     "data": {
      "text/plain": [
       "0     True\n",
       "1    False\n",
       "2    False\n",
       "3    False\n",
       "4    False\n",
       "5    False\n",
       "6    False\n",
       "7     True\n",
       "8     True\n",
       "dtype: bool"
      ]
     },
     "execution_count": 290,
     "metadata": {},
     "output_type": "execute_result"
    }
   ],
   "source": [
    "# membership checking using isin method\n",
    "mask = s.isin(['c'])\n",
    "mask"
   ]
  },
  {
   "cell_type": "code",
   "execution_count": 291,
   "id": "26d281ee-7b7a-40be-8c79-8759938530eb",
   "metadata": {},
   "outputs": [
    {
     "data": {
      "text/plain": [
       "0    c\n",
       "7    c\n",
       "8    c\n",
       "dtype: object"
      ]
     },
     "execution_count": 291,
     "metadata": {},
     "output_type": "execute_result"
    }
   ],
   "source": [
    "# accessing the item with its lables\n",
    "s[mask]"
   ]
  },
  {
   "cell_type": "code",
   "execution_count": 292,
   "id": "be16011f-f818-400e-9c84-69c260f27226",
   "metadata": {},
   "outputs": [
    {
     "data": {
      "text/plain": [
       "array([0, 2, 1, 1, 0, 2])"
      ]
     },
     "execution_count": 292,
     "metadata": {},
     "output_type": "execute_result"
    }
   ],
   "source": [
    "# Related to isin is the Index.get_indexer method, which gives you an index array\n",
    "# from an array of possibly nondistinct values into another array of distinct values:\n",
    "to_match = pd.Series([\"c\", \"a\", \"b\", \"b\", \"c\", \"a\"])\n",
    "unique_vals = pd.Series([\"c\", \"b\", \"a\"])\n",
    "indices = pd.Index(unique_vals).get_indexer(to_match)\n",
    "indices"
   ]
  },
  {
   "cell_type": "code",
   "execution_count": 293,
   "id": "961f9b31-bab2-4df9-a9c4-fba66bd0ef6c",
   "metadata": {},
   "outputs": [
    {
     "data": {
      "text/html": [
       "<div>\n",
       "<style scoped>\n",
       "    .dataframe tbody tr th:only-of-type {\n",
       "        vertical-align: middle;\n",
       "    }\n",
       "\n",
       "    .dataframe tbody tr th {\n",
       "        vertical-align: top;\n",
       "    }\n",
       "\n",
       "    .dataframe thead th {\n",
       "        text-align: right;\n",
       "    }\n",
       "</style>\n",
       "<table border=\"1\" class=\"dataframe\">\n",
       "  <thead>\n",
       "    <tr style=\"text-align: right;\">\n",
       "      <th></th>\n",
       "      <th>Fruit</th>\n",
       "      <th>Color</th>\n",
       "    </tr>\n",
       "  </thead>\n",
       "  <tbody>\n",
       "    <tr>\n",
       "      <th>0</th>\n",
       "      <td>Apple</td>\n",
       "      <td>Red</td>\n",
       "    </tr>\n",
       "    <tr>\n",
       "      <th>1</th>\n",
       "      <td>Banana</td>\n",
       "      <td>Yellow</td>\n",
       "    </tr>\n",
       "    <tr>\n",
       "      <th>2</th>\n",
       "      <td>Apple</td>\n",
       "      <td>Red</td>\n",
       "    </tr>\n",
       "    <tr>\n",
       "      <th>3</th>\n",
       "      <td>Orange</td>\n",
       "      <td>Orange</td>\n",
       "    </tr>\n",
       "    <tr>\n",
       "      <th>4</th>\n",
       "      <td>Banana</td>\n",
       "      <td>Yellow</td>\n",
       "    </tr>\n",
       "    <tr>\n",
       "      <th>5</th>\n",
       "      <td>Banana</td>\n",
       "      <td>Yellow</td>\n",
       "    </tr>\n",
       "    <tr>\n",
       "      <th>6</th>\n",
       "      <td>Apple</td>\n",
       "      <td>Red</td>\n",
       "    </tr>\n",
       "    <tr>\n",
       "      <th>7</th>\n",
       "      <td>Orange</td>\n",
       "      <td>Orange</td>\n",
       "    </tr>\n",
       "    <tr>\n",
       "      <th>8</th>\n",
       "      <td>Grape</td>\n",
       "      <td>Red</td>\n",
       "    </tr>\n",
       "    <tr>\n",
       "      <th>9</th>\n",
       "      <td>Apple</td>\n",
       "      <td>Red</td>\n",
       "    </tr>\n",
       "  </tbody>\n",
       "</table>\n",
       "</div>"
      ],
      "text/plain": [
       "    Fruit   Color\n",
       "0   Apple     Red\n",
       "1  Banana  Yellow\n",
       "2   Apple     Red\n",
       "3  Orange  Orange\n",
       "4  Banana  Yellow\n",
       "5  Banana  Yellow\n",
       "6   Apple     Red\n",
       "7  Orange  Orange\n",
       "8   Grape     Red\n",
       "9   Apple     Red"
      ]
     },
     "execution_count": 293,
     "metadata": {},
     "output_type": "execute_result"
    }
   ],
   "source": [
    "# value_counts in dataframe\n",
    "data = {\n",
    "    'Fruit': ['Apple', 'Banana', 'Apple', 'Orange', 'Banana', 'Banana', 'Apple', 'Orange', 'Grape', 'Apple'],\n",
    "    'Color': ['Red', 'Yellow', 'Red', 'Orange', 'Yellow', 'Yellow', 'Red', 'Orange', 'Red', 'Red']\n",
    "}\n",
    "df = pd.DataFrame(data)\n",
    "df"
   ]
  },
  {
   "cell_type": "code",
   "execution_count": 294,
   "id": "f5e1814a-c705-4bfd-9124-6c321d7133f6",
   "metadata": {},
   "outputs": [
    {
     "data": {
      "text/plain": [
       "Fruit\n",
       "Apple     4\n",
       "Banana    3\n",
       "Orange    2\n",
       "Grape     1\n",
       "Name: count, dtype: int64"
      ]
     },
     "execution_count": 294,
     "metadata": {},
     "output_type": "execute_result"
    }
   ],
   "source": [
    "# let's count each fruit\n",
    "df['Fruit'].value_counts()"
   ]
  },
  {
   "cell_type": "code",
   "execution_count": 295,
   "id": "b39f4793-1788-49ea-8069-16441a927161",
   "metadata": {},
   "outputs": [
    {
     "data": {
      "text/plain": [
       "Color\n",
       "Red       5\n",
       "Yellow    3\n",
       "Orange    2\n",
       "Name: count, dtype: int64"
      ]
     },
     "execution_count": 295,
     "metadata": {},
     "output_type": "execute_result"
    }
   ],
   "source": [
    "# count each color\n",
    "df['Color'].value_counts()"
   ]
  },
  {
   "cell_type": "code",
   "execution_count": 296,
   "id": "d3f12403-2dd2-4d91-8676-9f350689ae96",
   "metadata": {},
   "outputs": [
    {
     "data": {
      "text/plain": [
       "Fruit   Color \n",
       "Apple   Red       4\n",
       "Banana  Yellow    3\n",
       "Orange  Orange    2\n",
       "Grape   Red       1\n",
       "Name: count, dtype: int64"
      ]
     },
     "execution_count": 296,
     "metadata": {},
     "output_type": "execute_result"
    }
   ],
   "source": [
    "df.value_counts()"
   ]
  },
  {
   "cell_type": "code",
   "execution_count": 297,
   "id": "e62cbc7b-a6f5-4041-b6bd-0eaa7abd36f7",
   "metadata": {
    "scrolled": true
   },
   "outputs": [
    {
     "data": {
      "text/html": [
       "<div>\n",
       "<style scoped>\n",
       "    .dataframe tbody tr th:only-of-type {\n",
       "        vertical-align: middle;\n",
       "    }\n",
       "\n",
       "    .dataframe tbody tr th {\n",
       "        vertical-align: top;\n",
       "    }\n",
       "\n",
       "    .dataframe thead th {\n",
       "        text-align: right;\n",
       "    }\n",
       "</style>\n",
       "<table border=\"1\" class=\"dataframe\">\n",
       "  <thead>\n",
       "    <tr style=\"text-align: right;\">\n",
       "      <th></th>\n",
       "      <th>Customer_ID</th>\n",
       "      <th>Product</th>\n",
       "      <th>Category</th>\n",
       "      <th>Payment_Method</th>\n",
       "      <th>Country</th>\n",
       "    </tr>\n",
       "  </thead>\n",
       "  <tbody>\n",
       "    <tr>\n",
       "      <th>0</th>\n",
       "      <td>1</td>\n",
       "      <td>Tablet</td>\n",
       "      <td>Accessories</td>\n",
       "      <td>Crypto</td>\n",
       "      <td>USA</td>\n",
       "    </tr>\n",
       "    <tr>\n",
       "      <th>1</th>\n",
       "      <td>2</td>\n",
       "      <td>Smartwatch</td>\n",
       "      <td>Electronics</td>\n",
       "      <td>Credit Card</td>\n",
       "      <td>Germany</td>\n",
       "    </tr>\n",
       "    <tr>\n",
       "      <th>2</th>\n",
       "      <td>3</td>\n",
       "      <td>Headphones</td>\n",
       "      <td>Accessories</td>\n",
       "      <td>Crypto</td>\n",
       "      <td>Canada</td>\n",
       "    </tr>\n",
       "    <tr>\n",
       "      <th>3</th>\n",
       "      <td>4</td>\n",
       "      <td>Laptop</td>\n",
       "      <td>Electronics</td>\n",
       "      <td>Crypto</td>\n",
       "      <td>USA</td>\n",
       "    </tr>\n",
       "    <tr>\n",
       "      <th>4</th>\n",
       "      <td>5</td>\n",
       "      <td>Tablet</td>\n",
       "      <td>Electronics</td>\n",
       "      <td>Crypto</td>\n",
       "      <td>Australia</td>\n",
       "    </tr>\n",
       "    <tr>\n",
       "      <th>5</th>\n",
       "      <td>6</td>\n",
       "      <td>Smartphone</td>\n",
       "      <td>Accessories</td>\n",
       "      <td>Bank Transfer</td>\n",
       "      <td>UK</td>\n",
       "    </tr>\n",
       "    <tr>\n",
       "      <th>6</th>\n",
       "      <td>7</td>\n",
       "      <td>Tablet</td>\n",
       "      <td>Accessories</td>\n",
       "      <td>Bank Transfer</td>\n",
       "      <td>Germany</td>\n",
       "    </tr>\n",
       "    <tr>\n",
       "      <th>7</th>\n",
       "      <td>8</td>\n",
       "      <td>Smartphone</td>\n",
       "      <td>Electronics</td>\n",
       "      <td>Bank Transfer</td>\n",
       "      <td>UK</td>\n",
       "    </tr>\n",
       "    <tr>\n",
       "      <th>8</th>\n",
       "      <td>9</td>\n",
       "      <td>Smartphone</td>\n",
       "      <td>Accessories</td>\n",
       "      <td>Credit Card</td>\n",
       "      <td>UK</td>\n",
       "    </tr>\n",
       "    <tr>\n",
       "      <th>9</th>\n",
       "      <td>10</td>\n",
       "      <td>Tablet</td>\n",
       "      <td>Accessories</td>\n",
       "      <td>Crypto</td>\n",
       "      <td>USA</td>\n",
       "    </tr>\n",
       "    <tr>\n",
       "      <th>10</th>\n",
       "      <td>11</td>\n",
       "      <td>Smartwatch</td>\n",
       "      <td>Accessories</td>\n",
       "      <td>Bank Transfer</td>\n",
       "      <td>UK</td>\n",
       "    </tr>\n",
       "    <tr>\n",
       "      <th>11</th>\n",
       "      <td>12</td>\n",
       "      <td>Smartphone</td>\n",
       "      <td>Electronics</td>\n",
       "      <td>Bank Transfer</td>\n",
       "      <td>Australia</td>\n",
       "    </tr>\n",
       "    <tr>\n",
       "      <th>12</th>\n",
       "      <td>13</td>\n",
       "      <td>Smartphone</td>\n",
       "      <td>Electronics</td>\n",
       "      <td>Credit Card</td>\n",
       "      <td>UK</td>\n",
       "    </tr>\n",
       "    <tr>\n",
       "      <th>13</th>\n",
       "      <td>14</td>\n",
       "      <td>Tablet</td>\n",
       "      <td>Electronics</td>\n",
       "      <td>Bank Transfer</td>\n",
       "      <td>USA</td>\n",
       "    </tr>\n",
       "    <tr>\n",
       "      <th>14</th>\n",
       "      <td>15</td>\n",
       "      <td>Smartphone</td>\n",
       "      <td>Electronics</td>\n",
       "      <td>Credit Card</td>\n",
       "      <td>Australia</td>\n",
       "    </tr>\n",
       "    <tr>\n",
       "      <th>15</th>\n",
       "      <td>16</td>\n",
       "      <td>Smartphone</td>\n",
       "      <td>Electronics</td>\n",
       "      <td>PayPal</td>\n",
       "      <td>Canada</td>\n",
       "    </tr>\n",
       "    <tr>\n",
       "      <th>16</th>\n",
       "      <td>17</td>\n",
       "      <td>Tablet</td>\n",
       "      <td>Electronics</td>\n",
       "      <td>Bank Transfer</td>\n",
       "      <td>UK</td>\n",
       "    </tr>\n",
       "    <tr>\n",
       "      <th>17</th>\n",
       "      <td>18</td>\n",
       "      <td>Tablet</td>\n",
       "      <td>Electronics</td>\n",
       "      <td>PayPal</td>\n",
       "      <td>USA</td>\n",
       "    </tr>\n",
       "    <tr>\n",
       "      <th>18</th>\n",
       "      <td>19</td>\n",
       "      <td>Laptop</td>\n",
       "      <td>Electronics</td>\n",
       "      <td>Credit Card</td>\n",
       "      <td>Canada</td>\n",
       "    </tr>\n",
       "    <tr>\n",
       "      <th>19</th>\n",
       "      <td>20</td>\n",
       "      <td>Smartwatch</td>\n",
       "      <td>Electronics</td>\n",
       "      <td>Crypto</td>\n",
       "      <td>Canada</td>\n",
       "    </tr>\n",
       "  </tbody>\n",
       "</table>\n",
       "</div>"
      ],
      "text/plain": [
       "    Customer_ID     Product     Category Payment_Method    Country\n",
       "0             1      Tablet  Accessories         Crypto        USA\n",
       "1             2  Smartwatch  Electronics    Credit Card    Germany\n",
       "2             3  Headphones  Accessories         Crypto     Canada\n",
       "3             4      Laptop  Electronics         Crypto        USA\n",
       "4             5      Tablet  Electronics         Crypto  Australia\n",
       "5             6  Smartphone  Accessories  Bank Transfer         UK\n",
       "6             7      Tablet  Accessories  Bank Transfer    Germany\n",
       "7             8  Smartphone  Electronics  Bank Transfer         UK\n",
       "8             9  Smartphone  Accessories    Credit Card         UK\n",
       "9            10      Tablet  Accessories         Crypto        USA\n",
       "10           11  Smartwatch  Accessories  Bank Transfer         UK\n",
       "11           12  Smartphone  Electronics  Bank Transfer  Australia\n",
       "12           13  Smartphone  Electronics    Credit Card         UK\n",
       "13           14      Tablet  Electronics  Bank Transfer        USA\n",
       "14           15  Smartphone  Electronics    Credit Card  Australia\n",
       "15           16  Smartphone  Electronics         PayPal     Canada\n",
       "16           17      Tablet  Electronics  Bank Transfer         UK\n",
       "17           18      Tablet  Electronics         PayPal        USA\n",
       "18           19      Laptop  Electronics    Credit Card     Canada\n",
       "19           20  Smartwatch  Electronics         Crypto     Canada"
      ]
     },
     "execution_count": 297,
     "metadata": {},
     "output_type": "execute_result"
    }
   ],
   "source": [
    "# Simple real world practice\n",
    "# Sample data\n",
    "data = {\n",
    "    'Customer_ID': np.arange(1, 21),\n",
    "    'Product': np.random.choice(['Laptop', 'Smartphone', 'Headphones', 'Tablet', 'Smartwatch'], 20),\n",
    "    'Category': np.random.choice(['Electronics', 'Accessories'], 20),\n",
    "    'Payment_Method': np.random.choice(['Credit Card', 'PayPal', 'Bank Transfer', 'Crypto'], 20),\n",
    "    'Country': np.random.choice(['USA', 'Canada', 'UK', 'Germany', 'Australia'], 20)\n",
    "}\n",
    "\n",
    "# Create DataFrame\n",
    "df = pd.DataFrame(data)\n",
    "df"
   ]
  },
  {
   "cell_type": "code",
   "execution_count": 298,
   "id": "aa30faf3-1514-4d87-a0e7-05783188ff26",
   "metadata": {},
   "outputs": [
    {
     "data": {
      "text/plain": [
       "Product\n",
       "Tablet        7\n",
       "Smartphone    7\n",
       "Smartwatch    3\n",
       "Laptop        2\n",
       "Headphones    1\n",
       "Name: count, dtype: int64"
      ]
     },
     "execution_count": 298,
     "metadata": {},
     "output_type": "execute_result"
    }
   ],
   "source": [
    "# Count of Products Sold:\n",
    "df['Product'].value_counts()"
   ]
  },
  {
   "cell_type": "code",
   "execution_count": 299,
   "id": "4bb6b77d-19ed-4ea1-a231-8aa6651f137f",
   "metadata": {},
   "outputs": [
    {
     "data": {
      "text/plain": [
       "Payment_Method\n",
       "Bank Transfer    7\n",
       "Crypto           6\n",
       "Credit Card      5\n",
       "PayPal           2\n",
       "Name: count, dtype: int64"
      ]
     },
     "execution_count": 299,
     "metadata": {},
     "output_type": "execute_result"
    }
   ],
   "source": [
    "# Count of Payment Method:\n",
    "df['Payment_Method'].value_counts()"
   ]
  },
  {
   "cell_type": "code",
   "execution_count": 300,
   "id": "f1f0cece-7084-4ef3-a561-14a0a60b186f",
   "metadata": {},
   "outputs": [
    {
     "data": {
      "text/plain": [
       "Country\n",
       "UK           6\n",
       "USA          5\n",
       "Canada       4\n",
       "Australia    3\n",
       "Germany      2\n",
       "Name: count, dtype: int64"
      ]
     },
     "execution_count": 300,
     "metadata": {},
     "output_type": "execute_result"
    }
   ],
   "source": [
    "# Most Common Country for Orders:\n",
    "df['Country'].value_counts()"
   ]
  },
  {
   "cell_type": "code",
   "execution_count": 301,
   "id": "fb7f972d-e446-4e00-b26b-b9f3ee0e72c6",
   "metadata": {},
   "outputs": [
    {
     "data": {
      "text/plain": [
       "Product\n",
       "Tablet        0.35\n",
       "Smartphone    0.35\n",
       "Smartwatch    0.15\n",
       "Laptop        0.10\n",
       "Headphones    0.05\n",
       "Name: proportion, dtype: float64"
      ]
     },
     "execution_count": 301,
     "metadata": {},
     "output_type": "execute_result"
    }
   ],
   "source": [
    "# Count with Normalized Values (Percentages):\n",
    "df['Product'].value_counts(normalize=True)"
   ]
  },
  {
   "cell_type": "code",
   "execution_count": 302,
   "id": "e837c7c9-a7de-4a69-8d62-15b1360a5ae6",
   "metadata": {},
   "outputs": [
    {
     "data": {
      "text/plain": [
       "Product     Payment_Method\n",
       "Headphones  Crypto            1\n",
       "Laptop      Credit Card       1\n",
       "            Crypto            1\n",
       "Smartphone  Bank Transfer     3\n",
       "            Credit Card       3\n",
       "            PayPal            1\n",
       "Smartwatch  Bank Transfer     1\n",
       "            Credit Card       1\n",
       "            Crypto            1\n",
       "Tablet      Bank Transfer     3\n",
       "            Crypto            3\n",
       "            PayPal            1\n",
       "dtype: int64"
      ]
     },
     "execution_count": 302,
     "metadata": {},
     "output_type": "execute_result"
    }
   ],
   "source": [
    "# Combining Multiple Columns:\n",
    "df.groupby(['Product', 'Payment_Method']).size()"
   ]
  },
  {
   "cell_type": "code",
   "execution_count": 303,
   "id": "42425a3f-99c2-4e99-8400-1ca6696b4bdf",
   "metadata": {},
   "outputs": [
    {
     "data": {
      "text/plain": [
       "Product\n",
       "Tablet    4\n",
       "Laptop    1\n",
       "Name: count, dtype: int64"
      ]
     },
     "execution_count": 303,
     "metadata": {},
     "output_type": "execute_result"
    }
   ],
   "source": [
    "# Count Only Orders from the USA:\n",
    "df[df['Country'] == 'USA']['Product'].value_counts()"
   ]
  },
  {
   "cell_type": "code",
   "execution_count": 304,
   "id": "91e51470-2d48-4751-9b27-efad87b9a6b7",
   "metadata": {},
   "outputs": [
    {
     "data": {
      "text/plain": [
       "Product\n",
       "Tablet        7\n",
       "Smartphone    7\n",
       "Name: count, dtype: int64"
      ]
     },
     "execution_count": 304,
     "metadata": {},
     "output_type": "execute_result"
    }
   ],
   "source": [
    "# Top 2 Most Frequent Products\n",
    "df['Product'].value_counts().head(2)"
   ]
  },
  {
   "cell_type": "code",
   "execution_count": null,
   "id": "cd29a09b-f89f-445a-b394-5ab525cad85c",
   "metadata": {},
   "outputs": [],
   "source": []
  },
  {
   "cell_type": "code",
   "execution_count": null,
   "id": "ee3071be-e814-4797-a377-07b67403dfc4",
   "metadata": {},
   "outputs": [],
   "source": []
  },
  {
   "cell_type": "code",
   "execution_count": null,
   "id": "fbc7b58e-1a59-477a-a933-4a83f07e699a",
   "metadata": {},
   "outputs": [],
   "source": []
  },
  {
   "cell_type": "code",
   "execution_count": null,
   "id": "59fba68b-3631-4540-a23f-04a77798bf8f",
   "metadata": {},
   "outputs": [],
   "source": []
  },
  {
   "cell_type": "code",
   "execution_count": null,
   "id": "d7e04a7d-0b47-41fa-9678-f6cbfc151ab8",
   "metadata": {},
   "outputs": [],
   "source": []
  },
  {
   "cell_type": "code",
   "execution_count": null,
   "id": "ede67e19-8f90-483b-a110-249e9e420ae8",
   "metadata": {},
   "outputs": [],
   "source": []
  },
  {
   "cell_type": "code",
   "execution_count": null,
   "id": "b2a60290-b898-4559-addb-430396c8e654",
   "metadata": {},
   "outputs": [],
   "source": []
  }
 ],
 "metadata": {
  "kernelspec": {
   "display_name": "Python (data-analysis)",
   "language": "python",
   "name": "data-anaysis"
  },
  "language_info": {
   "codemirror_mode": {
    "name": "ipython",
    "version": 3
   },
   "file_extension": ".py",
   "mimetype": "text/x-python",
   "name": "python",
   "nbconvert_exporter": "python",
   "pygments_lexer": "ipython3",
   "version": "3.11.13"
  }
 },
 "nbformat": 4,
 "nbformat_minor": 5
}
