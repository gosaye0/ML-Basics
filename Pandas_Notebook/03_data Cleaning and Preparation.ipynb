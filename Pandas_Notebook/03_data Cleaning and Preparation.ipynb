{
 "cells": [
  {
   "cell_type": "code",
   "execution_count": 1,
   "id": "f09d9ec5-4484-4e5e-90e7-1da071f0d5b7",
   "metadata": {},
   "outputs": [],
   "source": [
    "import pandas as pd\n",
    "import numpy as np"
   ]
  },
  {
   "cell_type": "markdown",
   "id": "423c9578-6920-4e8f-a7d9-1d8cc8eb1c96",
   "metadata": {},
   "source": [
    "##  7.1 Handling Missing Data"
   ]
  },
  {
   "cell_type": "raw",
   "id": "40259718-73b0-4eca-bd95-e483d5f3dae4",
   "metadata": {},
   "source": [
    "Missing data occurs commonly in many data analysis applications. One of the goals of pandas is to make working with missing data as painless as possible. For example, all of the descriptive statistics on pandas objects exclude missing data by default."
   ]
  },
  {
   "cell_type": "code",
   "execution_count": 2,
   "id": "70502dfd-fc62-440c-a372-95d1dd865ba7",
   "metadata": {},
   "outputs": [
    {
     "data": {
      "text/plain": [
       "0    1.0\n",
       "1    2.4\n",
       "2    NaN\n",
       "3    4.2\n",
       "dtype: float64"
      ]
     },
     "execution_count": 2,
     "metadata": {},
     "output_type": "execute_result"
    }
   ],
   "source": [
    "# for float64 dtype pandas uses NaN for missing values\n",
    "data = pd.Series([1, 2.4, np.nan, 4.2])\n",
    "data"
   ]
  },
  {
   "cell_type": "code",
   "execution_count": 3,
   "id": "7a7f64dd-42fb-4981-9ac6-e8324b0ea560",
   "metadata": {},
   "outputs": [
    {
     "data": {
      "text/plain": [
       "0    False\n",
       "1    False\n",
       "2     True\n",
       "3    False\n",
       "dtype: bool"
      ]
     },
     "execution_count": 3,
     "metadata": {},
     "output_type": "execute_result"
    }
   ],
   "source": [
    "# The isna method gives us a Boolean Series with True where values are null:\n",
    "data.isna()"
   ]
  },
  {
   "cell_type": "code",
   "execution_count": 4,
   "id": "99762188-75d1-41b5-93fd-f0f10953be19",
   "metadata": {},
   "outputs": [],
   "source": [
    "# The built-in Python None value is also treated as NA:\n",
    "s = pd.Series([\"Mango\", np.nan, \"Banana\", None, \"Avocado\"])"
   ]
  },
  {
   "cell_type": "code",
   "execution_count": 5,
   "id": "d9111d61-565e-490b-8e51-9dc66836cabd",
   "metadata": {},
   "outputs": [
    {
     "data": {
      "text/plain": [
       "0      Mango\n",
       "1        NaN\n",
       "2     Banana\n",
       "3       None\n",
       "4    Avocado\n",
       "dtype: object"
      ]
     },
     "execution_count": 5,
     "metadata": {},
     "output_type": "execute_result"
    }
   ],
   "source": [
    "s"
   ]
  },
  {
   "cell_type": "code",
   "execution_count": 6,
   "id": "5d36df22-9ed9-4776-a49e-6799e547389b",
   "metadata": {},
   "outputs": [
    {
     "data": {
      "text/plain": [
       "0    False\n",
       "1     True\n",
       "2    False\n",
       "3     True\n",
       "4    False\n",
       "dtype: bool"
      ]
     },
     "execution_count": 6,
     "metadata": {},
     "output_type": "execute_result"
    }
   ],
   "source": [
    "s.isna()"
   ]
  },
  {
   "cell_type": "code",
   "execution_count": 7,
   "id": "4c8de395-ee5c-4d7b-823a-59d3754fa1bc",
   "metadata": {},
   "outputs": [],
   "source": [
    "s = pd.Series([1, 2, 3, None], dtype = \"float64\")"
   ]
  },
  {
   "cell_type": "code",
   "execution_count": 8,
   "id": "a9911ca1-1d60-4d73-a212-425e55b9e860",
   "metadata": {},
   "outputs": [
    {
     "data": {
      "text/plain": [
       "0    1.0\n",
       "1    2.0\n",
       "2    3.0\n",
       "3    NaN\n",
       "dtype: float64"
      ]
     },
     "execution_count": 8,
     "metadata": {},
     "output_type": "execute_result"
    }
   ],
   "source": [
    "s"
   ]
  },
  {
   "cell_type": "code",
   "execution_count": 9,
   "id": "3bcfd61e-2478-4c17-80c2-e63aa87dcb9d",
   "metadata": {},
   "outputs": [
    {
     "data": {
      "text/plain": [
       "0    False\n",
       "1    False\n",
       "2    False\n",
       "3     True\n",
       "dtype: bool"
      ]
     },
     "execution_count": 9,
     "metadata": {},
     "output_type": "execute_result"
    }
   ],
   "source": [
    "s.isna()"
   ]
  },
  {
   "cell_type": "raw",
   "id": "4eb0d65e-b507-4603-a62c-7b424ff6e23c",
   "metadata": {},
   "source": [
    "NA handling object methods\n",
    "\n",
    "1. dropna: Filter axis labels based on whether values for each label have missing data, with varying thresholds for how much\n",
    "           missing data to tolerate.\n",
    "2: fillna:Fill in missing data with some value or using an interpolation method such as \"ffill\" or \"bfill\".\n",
    "3. isna: Return Boolean values indicating which values are missing/NA.\n",
    "4. notna: Negation of isna, returns True for non-NA values and False for NA values."
   ]
  },
  {
   "cell_type": "raw",
   "id": "f3a92e02-52a0-4137-98a0-df9930e924a5",
   "metadata": {},
   "source": [
    "isna() and notna(): To detect missing values.\n",
    "dropna(): To remove missing data.\n",
    "fillna(): To replace missing data."
   ]
  },
  {
   "cell_type": "code",
   "execution_count": null,
   "id": "e5119dc3-7e95-42ed-a305-1b4db08397b4",
   "metadata": {},
   "outputs": [],
   "source": []
  },
  {
   "cell_type": "markdown",
   "id": "8c386043-b4ac-4f36-b018-b12a87db2d4c",
   "metadata": {},
   "source": [
    "#### 1. Detecting Missing Values: isna() and notna()"
   ]
  },
  {
   "cell_type": "code",
   "execution_count": 10,
   "id": "a8c82078-5cfa-45b2-9ab4-4963cfe55984",
   "metadata": {},
   "outputs": [],
   "source": [
    "data = {\n",
    "    'A': [1, np.nan, 3, 4, None],\n",
    "    'B': [np.nan, 2, 3, None, 5],\n",
    "    'C': ['a', 'b', None, 'd', 'e']\n",
    "}\n",
    "df = pd.DataFrame(data)"
   ]
  },
  {
   "cell_type": "code",
   "execution_count": 11,
   "id": "dec3c0bb-26cd-472e-9276-135a38a284ee",
   "metadata": {},
   "outputs": [
    {
     "data": {
      "text/html": [
       "<div>\n",
       "<style scoped>\n",
       "    .dataframe tbody tr th:only-of-type {\n",
       "        vertical-align: middle;\n",
       "    }\n",
       "\n",
       "    .dataframe tbody tr th {\n",
       "        vertical-align: top;\n",
       "    }\n",
       "\n",
       "    .dataframe thead th {\n",
       "        text-align: right;\n",
       "    }\n",
       "</style>\n",
       "<table border=\"1\" class=\"dataframe\">\n",
       "  <thead>\n",
       "    <tr style=\"text-align: right;\">\n",
       "      <th></th>\n",
       "      <th>A</th>\n",
       "      <th>B</th>\n",
       "      <th>C</th>\n",
       "    </tr>\n",
       "  </thead>\n",
       "  <tbody>\n",
       "    <tr>\n",
       "      <th>0</th>\n",
       "      <td>1.0</td>\n",
       "      <td>NaN</td>\n",
       "      <td>a</td>\n",
       "    </tr>\n",
       "    <tr>\n",
       "      <th>1</th>\n",
       "      <td>NaN</td>\n",
       "      <td>2.0</td>\n",
       "      <td>b</td>\n",
       "    </tr>\n",
       "    <tr>\n",
       "      <th>2</th>\n",
       "      <td>3.0</td>\n",
       "      <td>3.0</td>\n",
       "      <td>None</td>\n",
       "    </tr>\n",
       "    <tr>\n",
       "      <th>3</th>\n",
       "      <td>4.0</td>\n",
       "      <td>NaN</td>\n",
       "      <td>d</td>\n",
       "    </tr>\n",
       "    <tr>\n",
       "      <th>4</th>\n",
       "      <td>NaN</td>\n",
       "      <td>5.0</td>\n",
       "      <td>e</td>\n",
       "    </tr>\n",
       "  </tbody>\n",
       "</table>\n",
       "</div>"
      ],
      "text/plain": [
       "     A    B     C\n",
       "0  1.0  NaN     a\n",
       "1  NaN  2.0     b\n",
       "2  3.0  3.0  None\n",
       "3  4.0  NaN     d\n",
       "4  NaN  5.0     e"
      ]
     },
     "execution_count": 11,
     "metadata": {},
     "output_type": "execute_result"
    }
   ],
   "source": [
    "df"
   ]
  },
  {
   "cell_type": "code",
   "execution_count": 12,
   "id": "b60c0927-0ec0-4c52-abe0-cf5636229d2f",
   "metadata": {},
   "outputs": [
    {
     "data": {
      "text/html": [
       "<div>\n",
       "<style scoped>\n",
       "    .dataframe tbody tr th:only-of-type {\n",
       "        vertical-align: middle;\n",
       "    }\n",
       "\n",
       "    .dataframe tbody tr th {\n",
       "        vertical-align: top;\n",
       "    }\n",
       "\n",
       "    .dataframe thead th {\n",
       "        text-align: right;\n",
       "    }\n",
       "</style>\n",
       "<table border=\"1\" class=\"dataframe\">\n",
       "  <thead>\n",
       "    <tr style=\"text-align: right;\">\n",
       "      <th></th>\n",
       "      <th>A</th>\n",
       "      <th>B</th>\n",
       "      <th>C</th>\n",
       "    </tr>\n",
       "  </thead>\n",
       "  <tbody>\n",
       "    <tr>\n",
       "      <th>0</th>\n",
       "      <td>False</td>\n",
       "      <td>True</td>\n",
       "      <td>False</td>\n",
       "    </tr>\n",
       "    <tr>\n",
       "      <th>1</th>\n",
       "      <td>True</td>\n",
       "      <td>False</td>\n",
       "      <td>False</td>\n",
       "    </tr>\n",
       "    <tr>\n",
       "      <th>2</th>\n",
       "      <td>False</td>\n",
       "      <td>False</td>\n",
       "      <td>True</td>\n",
       "    </tr>\n",
       "    <tr>\n",
       "      <th>3</th>\n",
       "      <td>False</td>\n",
       "      <td>True</td>\n",
       "      <td>False</td>\n",
       "    </tr>\n",
       "    <tr>\n",
       "      <th>4</th>\n",
       "      <td>True</td>\n",
       "      <td>False</td>\n",
       "      <td>False</td>\n",
       "    </tr>\n",
       "  </tbody>\n",
       "</table>\n",
       "</div>"
      ],
      "text/plain": [
       "       A      B      C\n",
       "0  False   True  False\n",
       "1   True  False  False\n",
       "2  False  False   True\n",
       "3  False   True  False\n",
       "4   True  False  False"
      ]
     },
     "execution_count": 12,
     "metadata": {},
     "output_type": "execute_result"
    }
   ],
   "source": [
    "# using isna() method to detect missing values\n",
    "df.isna()"
   ]
  },
  {
   "cell_type": "code",
   "execution_count": 13,
   "id": "ec383745-0ef3-46a4-9f1f-8c3e6e376468",
   "metadata": {},
   "outputs": [
    {
     "data": {
      "text/html": [
       "<div>\n",
       "<style scoped>\n",
       "    .dataframe tbody tr th:only-of-type {\n",
       "        vertical-align: middle;\n",
       "    }\n",
       "\n",
       "    .dataframe tbody tr th {\n",
       "        vertical-align: top;\n",
       "    }\n",
       "\n",
       "    .dataframe thead th {\n",
       "        text-align: right;\n",
       "    }\n",
       "</style>\n",
       "<table border=\"1\" class=\"dataframe\">\n",
       "  <thead>\n",
       "    <tr style=\"text-align: right;\">\n",
       "      <th></th>\n",
       "      <th>A</th>\n",
       "      <th>B</th>\n",
       "      <th>C</th>\n",
       "    </tr>\n",
       "  </thead>\n",
       "  <tbody>\n",
       "    <tr>\n",
       "      <th>0</th>\n",
       "      <td>True</td>\n",
       "      <td>False</td>\n",
       "      <td>True</td>\n",
       "    </tr>\n",
       "    <tr>\n",
       "      <th>1</th>\n",
       "      <td>False</td>\n",
       "      <td>True</td>\n",
       "      <td>True</td>\n",
       "    </tr>\n",
       "    <tr>\n",
       "      <th>2</th>\n",
       "      <td>True</td>\n",
       "      <td>True</td>\n",
       "      <td>False</td>\n",
       "    </tr>\n",
       "    <tr>\n",
       "      <th>3</th>\n",
       "      <td>True</td>\n",
       "      <td>False</td>\n",
       "      <td>True</td>\n",
       "    </tr>\n",
       "    <tr>\n",
       "      <th>4</th>\n",
       "      <td>False</td>\n",
       "      <td>True</td>\n",
       "      <td>True</td>\n",
       "    </tr>\n",
       "  </tbody>\n",
       "</table>\n",
       "</div>"
      ],
      "text/plain": [
       "       A      B      C\n",
       "0   True  False   True\n",
       "1  False   True   True\n",
       "2   True   True  False\n",
       "3   True  False   True\n",
       "4  False   True   True"
      ]
     },
     "execution_count": 13,
     "metadata": {},
     "output_type": "execute_result"
    }
   ],
   "source": [
    "# using notna() to detect non-missing values\n",
    "df.notna()"
   ]
  },
  {
   "cell_type": "markdown",
   "id": "77f2008d-84af-4a63-adee-e96a0683a1f3",
   "metadata": {},
   "source": [
    "#### 2. Dropping Missing Data: dropna()"
   ]
  },
  {
   "cell_type": "raw",
   "id": "55f7c3bf-83ee-47ca-b927-4903e7aef809",
   "metadata": {},
   "source": [
    "When missing data is not acceptable for our analysis or model, we can remove it using dropna(). This function allows us\n",
    "to drop rows or columns that contain missing values.\n",
    "\n",
    "axis:\n",
    "axis=0 (default): Drop rows.\n",
    "axis=1: Drop columns.\n",
    "how:\n",
    "'any' (default): Drop if any value is missing.\n",
    "'all': Drop only if all values are missing.\n",
    "thresh: Require a minimum number of non-NA values to keep the row/column.\n",
    "subset: Specify a subset of columns to consider for dropping."
   ]
  },
  {
   "cell_type": "code",
   "execution_count": 14,
   "id": "8839288d-076a-4f8d-b584-5906ee86cb33",
   "metadata": {},
   "outputs": [],
   "source": [
    "s =  pd.Series([1, np.nan, 3.5, np.nan, 7])"
   ]
  },
  {
   "cell_type": "code",
   "execution_count": 15,
   "id": "734ec6eb-2207-4e33-b51c-f35df87590e1",
   "metadata": {},
   "outputs": [
    {
     "data": {
      "text/plain": [
       "0    1.0\n",
       "1    NaN\n",
       "2    3.5\n",
       "3    NaN\n",
       "4    7.0\n",
       "dtype: float64"
      ]
     },
     "execution_count": 15,
     "metadata": {},
     "output_type": "execute_result"
    }
   ],
   "source": [
    "s"
   ]
  },
  {
   "cell_type": "code",
   "execution_count": 16,
   "id": "3c92ef56-ccaf-479f-90a3-4d455637bc22",
   "metadata": {},
   "outputs": [
    {
     "data": {
      "text/plain": [
       "0    1.0\n",
       "2    3.5\n",
       "4    7.0\n",
       "dtype: float64"
      ]
     },
     "execution_count": 16,
     "metadata": {},
     "output_type": "execute_result"
    }
   ],
   "source": [
    "#  On a Series, it returns the Series with only the nonnull data and index values\n",
    "s.dropna()"
   ]
  },
  {
   "cell_type": "code",
   "execution_count": 17,
   "id": "09a4f740-c4c8-4d45-94c3-fbdc8049691c",
   "metadata": {},
   "outputs": [
    {
     "data": {
      "text/plain": [
       "0    1.0\n",
       "2    3.5\n",
       "4    7.0\n",
       "dtype: float64"
      ]
     },
     "execution_count": 17,
     "metadata": {},
     "output_type": "execute_result"
    }
   ],
   "source": [
    "# same thing as\n",
    "s[s.notna()]"
   ]
  },
  {
   "cell_type": "code",
   "execution_count": 18,
   "id": "d71c011d-f3a5-4fb6-a13f-fcd08a34c006",
   "metadata": {},
   "outputs": [],
   "source": [
    "data = {\n",
    "    \"A\": [1, 2, np.nan, np.nan, 5],\n",
    "    \"B\": [np.nan, 2, 3, np.nan, 5],\n",
    "    \"C\": [1, np.nan, np.nan, np.nan, 5],\n",
    "    \"D\": [1, 2, 3, 4, 5]\n",
    "}\n",
    "\n",
    "df = pd.DataFrame(data)"
   ]
  },
  {
   "cell_type": "code",
   "execution_count": 19,
   "id": "f5020aea-4382-4d44-b0b9-e5040dbfa4f8",
   "metadata": {},
   "outputs": [
    {
     "data": {
      "text/html": [
       "<div>\n",
       "<style scoped>\n",
       "    .dataframe tbody tr th:only-of-type {\n",
       "        vertical-align: middle;\n",
       "    }\n",
       "\n",
       "    .dataframe tbody tr th {\n",
       "        vertical-align: top;\n",
       "    }\n",
       "\n",
       "    .dataframe thead th {\n",
       "        text-align: right;\n",
       "    }\n",
       "</style>\n",
       "<table border=\"1\" class=\"dataframe\">\n",
       "  <thead>\n",
       "    <tr style=\"text-align: right;\">\n",
       "      <th></th>\n",
       "      <th>A</th>\n",
       "      <th>B</th>\n",
       "      <th>C</th>\n",
       "      <th>D</th>\n",
       "    </tr>\n",
       "  </thead>\n",
       "  <tbody>\n",
       "    <tr>\n",
       "      <th>0</th>\n",
       "      <td>1.0</td>\n",
       "      <td>NaN</td>\n",
       "      <td>1.0</td>\n",
       "      <td>1</td>\n",
       "    </tr>\n",
       "    <tr>\n",
       "      <th>1</th>\n",
       "      <td>2.0</td>\n",
       "      <td>2.0</td>\n",
       "      <td>NaN</td>\n",
       "      <td>2</td>\n",
       "    </tr>\n",
       "    <tr>\n",
       "      <th>2</th>\n",
       "      <td>NaN</td>\n",
       "      <td>3.0</td>\n",
       "      <td>NaN</td>\n",
       "      <td>3</td>\n",
       "    </tr>\n",
       "    <tr>\n",
       "      <th>3</th>\n",
       "      <td>NaN</td>\n",
       "      <td>NaN</td>\n",
       "      <td>NaN</td>\n",
       "      <td>4</td>\n",
       "    </tr>\n",
       "    <tr>\n",
       "      <th>4</th>\n",
       "      <td>5.0</td>\n",
       "      <td>5.0</td>\n",
       "      <td>5.0</td>\n",
       "      <td>5</td>\n",
       "    </tr>\n",
       "  </tbody>\n",
       "</table>\n",
       "</div>"
      ],
      "text/plain": [
       "     A    B    C  D\n",
       "0  1.0  NaN  1.0  1\n",
       "1  2.0  2.0  NaN  2\n",
       "2  NaN  3.0  NaN  3\n",
       "3  NaN  NaN  NaN  4\n",
       "4  5.0  5.0  5.0  5"
      ]
     },
     "execution_count": 19,
     "metadata": {},
     "output_type": "execute_result"
    }
   ],
   "source": [
    "df"
   ]
  },
  {
   "cell_type": "code",
   "execution_count": 20,
   "id": "0f2ddfe4-131c-45fe-8583-6a0216edcb54",
   "metadata": {},
   "outputs": [
    {
     "data": {
      "text/html": [
       "<div>\n",
       "<style scoped>\n",
       "    .dataframe tbody tr th:only-of-type {\n",
       "        vertical-align: middle;\n",
       "    }\n",
       "\n",
       "    .dataframe tbody tr th {\n",
       "        vertical-align: top;\n",
       "    }\n",
       "\n",
       "    .dataframe thead th {\n",
       "        text-align: right;\n",
       "    }\n",
       "</style>\n",
       "<table border=\"1\" class=\"dataframe\">\n",
       "  <thead>\n",
       "    <tr style=\"text-align: right;\">\n",
       "      <th></th>\n",
       "      <th>A</th>\n",
       "      <th>B</th>\n",
       "      <th>C</th>\n",
       "      <th>D</th>\n",
       "    </tr>\n",
       "  </thead>\n",
       "  <tbody>\n",
       "    <tr>\n",
       "      <th>4</th>\n",
       "      <td>5.0</td>\n",
       "      <td>5.0</td>\n",
       "      <td>5.0</td>\n",
       "      <td>5</td>\n",
       "    </tr>\n",
       "  </tbody>\n",
       "</table>\n",
       "</div>"
      ],
      "text/plain": [
       "     A    B    C  D\n",
       "4  5.0  5.0  5.0  5"
      ]
     },
     "execution_count": 20,
     "metadata": {},
     "output_type": "execute_result"
    }
   ],
   "source": [
    "# Drop all rows containing atleast one missing values\n",
    "df.dropna()"
   ]
  },
  {
   "cell_type": "code",
   "execution_count": 21,
   "id": "49885a55-806b-44dd-b7c8-24009bbd394c",
   "metadata": {},
   "outputs": [
    {
     "data": {
      "text/html": [
       "<div>\n",
       "<style scoped>\n",
       "    .dataframe tbody tr th:only-of-type {\n",
       "        vertical-align: middle;\n",
       "    }\n",
       "\n",
       "    .dataframe tbody tr th {\n",
       "        vertical-align: top;\n",
       "    }\n",
       "\n",
       "    .dataframe thead th {\n",
       "        text-align: right;\n",
       "    }\n",
       "</style>\n",
       "<table border=\"1\" class=\"dataframe\">\n",
       "  <thead>\n",
       "    <tr style=\"text-align: right;\">\n",
       "      <th></th>\n",
       "      <th>D</th>\n",
       "    </tr>\n",
       "  </thead>\n",
       "  <tbody>\n",
       "    <tr>\n",
       "      <th>0</th>\n",
       "      <td>1</td>\n",
       "    </tr>\n",
       "    <tr>\n",
       "      <th>1</th>\n",
       "      <td>2</td>\n",
       "    </tr>\n",
       "    <tr>\n",
       "      <th>2</th>\n",
       "      <td>3</td>\n",
       "    </tr>\n",
       "    <tr>\n",
       "      <th>3</th>\n",
       "      <td>4</td>\n",
       "    </tr>\n",
       "    <tr>\n",
       "      <th>4</th>\n",
       "      <td>5</td>\n",
       "    </tr>\n",
       "  </tbody>\n",
       "</table>\n",
       "</div>"
      ],
      "text/plain": [
       "   D\n",
       "0  1\n",
       "1  2\n",
       "2  3\n",
       "3  4\n",
       "4  5"
      ]
     },
     "execution_count": 21,
     "metadata": {},
     "output_type": "execute_result"
    }
   ],
   "source": [
    "# Drop all columns containing atleast one missing values\n",
    "df.dropna(axis = 1)"
   ]
  },
  {
   "cell_type": "code",
   "execution_count": 22,
   "id": "47d71841-7e86-480c-b6da-ba147c12433c",
   "metadata": {},
   "outputs": [
    {
     "data": {
      "text/html": [
       "<div>\n",
       "<style scoped>\n",
       "    .dataframe tbody tr th:only-of-type {\n",
       "        vertical-align: middle;\n",
       "    }\n",
       "\n",
       "    .dataframe tbody tr th {\n",
       "        vertical-align: top;\n",
       "    }\n",
       "\n",
       "    .dataframe thead th {\n",
       "        text-align: right;\n",
       "    }\n",
       "</style>\n",
       "<table border=\"1\" class=\"dataframe\">\n",
       "  <thead>\n",
       "    <tr style=\"text-align: right;\">\n",
       "      <th></th>\n",
       "      <th>A</th>\n",
       "      <th>B</th>\n",
       "      <th>C</th>\n",
       "      <th>D</th>\n",
       "    </tr>\n",
       "  </thead>\n",
       "  <tbody>\n",
       "    <tr>\n",
       "      <th>0</th>\n",
       "      <td>1.0</td>\n",
       "      <td>NaN</td>\n",
       "      <td>1.0</td>\n",
       "      <td>1</td>\n",
       "    </tr>\n",
       "    <tr>\n",
       "      <th>1</th>\n",
       "      <td>2.0</td>\n",
       "      <td>2.0</td>\n",
       "      <td>NaN</td>\n",
       "      <td>2</td>\n",
       "    </tr>\n",
       "    <tr>\n",
       "      <th>2</th>\n",
       "      <td>NaN</td>\n",
       "      <td>3.0</td>\n",
       "      <td>NaN</td>\n",
       "      <td>3</td>\n",
       "    </tr>\n",
       "    <tr>\n",
       "      <th>3</th>\n",
       "      <td>NaN</td>\n",
       "      <td>NaN</td>\n",
       "      <td>NaN</td>\n",
       "      <td>4</td>\n",
       "    </tr>\n",
       "    <tr>\n",
       "      <th>4</th>\n",
       "      <td>5.0</td>\n",
       "      <td>5.0</td>\n",
       "      <td>5.0</td>\n",
       "      <td>5</td>\n",
       "    </tr>\n",
       "  </tbody>\n",
       "</table>\n",
       "</div>"
      ],
      "text/plain": [
       "     A    B    C  D\n",
       "0  1.0  NaN  1.0  1\n",
       "1  2.0  2.0  NaN  2\n",
       "2  NaN  3.0  NaN  3\n",
       "3  NaN  NaN  NaN  4\n",
       "4  5.0  5.0  5.0  5"
      ]
     },
     "execution_count": 22,
     "metadata": {},
     "output_type": "execute_result"
    }
   ],
   "source": [
    "# drop all rows if all values are missing\n",
    "df.dropna(how = 'all')   # since there is no row with all missing values no row will be dropped"
   ]
  },
  {
   "cell_type": "code",
   "execution_count": 23,
   "id": "8306cd63-4629-4617-bb62-c4599bf20acd",
   "metadata": {},
   "outputs": [
    {
     "data": {
      "text/html": [
       "<div>\n",
       "<style scoped>\n",
       "    .dataframe tbody tr th:only-of-type {\n",
       "        vertical-align: middle;\n",
       "    }\n",
       "\n",
       "    .dataframe tbody tr th {\n",
       "        vertical-align: top;\n",
       "    }\n",
       "\n",
       "    .dataframe thead th {\n",
       "        text-align: right;\n",
       "    }\n",
       "</style>\n",
       "<table border=\"1\" class=\"dataframe\">\n",
       "  <thead>\n",
       "    <tr style=\"text-align: right;\">\n",
       "      <th></th>\n",
       "      <th>A</th>\n",
       "      <th>B</th>\n",
       "      <th>C</th>\n",
       "      <th>D</th>\n",
       "    </tr>\n",
       "  </thead>\n",
       "  <tbody>\n",
       "    <tr>\n",
       "      <th>0</th>\n",
       "      <td>1.0</td>\n",
       "      <td>NaN</td>\n",
       "      <td>1.0</td>\n",
       "      <td>1</td>\n",
       "    </tr>\n",
       "    <tr>\n",
       "      <th>1</th>\n",
       "      <td>2.0</td>\n",
       "      <td>2.0</td>\n",
       "      <td>NaN</td>\n",
       "      <td>2</td>\n",
       "    </tr>\n",
       "    <tr>\n",
       "      <th>2</th>\n",
       "      <td>NaN</td>\n",
       "      <td>3.0</td>\n",
       "      <td>NaN</td>\n",
       "      <td>3</td>\n",
       "    </tr>\n",
       "    <tr>\n",
       "      <th>3</th>\n",
       "      <td>NaN</td>\n",
       "      <td>NaN</td>\n",
       "      <td>NaN</td>\n",
       "      <td>4</td>\n",
       "    </tr>\n",
       "    <tr>\n",
       "      <th>4</th>\n",
       "      <td>5.0</td>\n",
       "      <td>5.0</td>\n",
       "      <td>5.0</td>\n",
       "      <td>5</td>\n",
       "    </tr>\n",
       "  </tbody>\n",
       "</table>\n",
       "</div>"
      ],
      "text/plain": [
       "     A    B    C  D\n",
       "0  1.0  NaN  1.0  1\n",
       "1  2.0  2.0  NaN  2\n",
       "2  NaN  3.0  NaN  3\n",
       "3  NaN  NaN  NaN  4\n",
       "4  5.0  5.0  5.0  5"
      ]
     },
     "execution_count": 23,
     "metadata": {},
     "output_type": "execute_result"
    }
   ],
   "source": [
    "# drop all columns if all values are missing\n",
    "df.dropna(axis = 1, how = 'all') "
   ]
  },
  {
   "cell_type": "code",
   "execution_count": 24,
   "id": "b30f6b46-395f-4966-9cfc-fc710b84991e",
   "metadata": {},
   "outputs": [
    {
     "data": {
      "text/html": [
       "<div>\n",
       "<style scoped>\n",
       "    .dataframe tbody tr th:only-of-type {\n",
       "        vertical-align: middle;\n",
       "    }\n",
       "\n",
       "    .dataframe tbody tr th {\n",
       "        vertical-align: top;\n",
       "    }\n",
       "\n",
       "    .dataframe thead th {\n",
       "        text-align: right;\n",
       "    }\n",
       "</style>\n",
       "<table border=\"1\" class=\"dataframe\">\n",
       "  <thead>\n",
       "    <tr style=\"text-align: right;\">\n",
       "      <th></th>\n",
       "      <th>A</th>\n",
       "      <th>B</th>\n",
       "      <th>C</th>\n",
       "      <th>D</th>\n",
       "    </tr>\n",
       "  </thead>\n",
       "  <tbody>\n",
       "    <tr>\n",
       "      <th>0</th>\n",
       "      <td>1.0</td>\n",
       "      <td>NaN</td>\n",
       "      <td>1.0</td>\n",
       "      <td>1</td>\n",
       "    </tr>\n",
       "    <tr>\n",
       "      <th>1</th>\n",
       "      <td>2.0</td>\n",
       "      <td>2.0</td>\n",
       "      <td>NaN</td>\n",
       "      <td>2</td>\n",
       "    </tr>\n",
       "    <tr>\n",
       "      <th>4</th>\n",
       "      <td>5.0</td>\n",
       "      <td>5.0</td>\n",
       "      <td>5.0</td>\n",
       "      <td>5</td>\n",
       "    </tr>\n",
       "  </tbody>\n",
       "</table>\n",
       "</div>"
      ],
      "text/plain": [
       "     A    B    C  D\n",
       "0  1.0  NaN  1.0  1\n",
       "1  2.0  2.0  NaN  2\n",
       "4  5.0  5.0  5.0  5"
      ]
     },
     "execution_count": 24,
     "metadata": {},
     "output_type": "execute_result"
    }
   ],
   "source": [
    "# Drop rows that don't have at least 3 non-missing values\n",
    "df.dropna(thresh = 3)   # In this case \"row 3\" and \"row 2\" is dropped since it has only one non-missing value"
   ]
  },
  {
   "cell_type": "code",
   "execution_count": 25,
   "id": "a3d6dec5-7e4c-4af7-8560-6a8039b83306",
   "metadata": {},
   "outputs": [
    {
     "data": {
      "text/html": [
       "<div>\n",
       "<style scoped>\n",
       "    .dataframe tbody tr th:only-of-type {\n",
       "        vertical-align: middle;\n",
       "    }\n",
       "\n",
       "    .dataframe tbody tr th {\n",
       "        vertical-align: top;\n",
       "    }\n",
       "\n",
       "    .dataframe thead th {\n",
       "        text-align: right;\n",
       "    }\n",
       "</style>\n",
       "<table border=\"1\" class=\"dataframe\">\n",
       "  <thead>\n",
       "    <tr style=\"text-align: right;\">\n",
       "      <th></th>\n",
       "      <th>A</th>\n",
       "      <th>B</th>\n",
       "      <th>D</th>\n",
       "    </tr>\n",
       "  </thead>\n",
       "  <tbody>\n",
       "    <tr>\n",
       "      <th>0</th>\n",
       "      <td>1.0</td>\n",
       "      <td>NaN</td>\n",
       "      <td>1</td>\n",
       "    </tr>\n",
       "    <tr>\n",
       "      <th>1</th>\n",
       "      <td>2.0</td>\n",
       "      <td>2.0</td>\n",
       "      <td>2</td>\n",
       "    </tr>\n",
       "    <tr>\n",
       "      <th>2</th>\n",
       "      <td>NaN</td>\n",
       "      <td>3.0</td>\n",
       "      <td>3</td>\n",
       "    </tr>\n",
       "    <tr>\n",
       "      <th>3</th>\n",
       "      <td>NaN</td>\n",
       "      <td>NaN</td>\n",
       "      <td>4</td>\n",
       "    </tr>\n",
       "    <tr>\n",
       "      <th>4</th>\n",
       "      <td>5.0</td>\n",
       "      <td>5.0</td>\n",
       "      <td>5</td>\n",
       "    </tr>\n",
       "  </tbody>\n",
       "</table>\n",
       "</div>"
      ],
      "text/plain": [
       "     A    B  D\n",
       "0  1.0  NaN  1\n",
       "1  2.0  2.0  2\n",
       "2  NaN  3.0  3\n",
       "3  NaN  NaN  4\n",
       "4  5.0  5.0  5"
      ]
     },
     "execution_count": 25,
     "metadata": {},
     "output_type": "execute_result"
    }
   ],
   "source": [
    "# Drop columns that don't have at least 3 non-missing values\n",
    "df.dropna(axis = 1, thresh = 3)  # In this case \"column C\" is dropped"
   ]
  },
  {
   "cell_type": "markdown",
   "id": "891646b7-512d-45ae-a964-a3eeee932c8a",
   "metadata": {},
   "source": [
    "#### 3. Filling Missing Data: fillna()"
   ]
  },
  {
   "cell_type": "raw",
   "id": "d30f2072-9831-479c-9684-404034ff2bd1",
   "metadata": {},
   "source": [
    "Key Options for fillna()\n",
    "value: Replace missing values with a specified scalar or dictionary of values.\n",
    "method: Use methods like 'ffill' (forward fill) or 'bfill' (backward fill) to propagate non-null values.\n",
    "axis: Specifies whether to fill along rows (axis=0) or columns (axis=1).\n",
    "inplace: If True, modify the DataFrame in place."
   ]
  },
  {
   "cell_type": "code",
   "execution_count": 26,
   "id": "f30c5ebf-7d70-473a-8315-d60319fa85a2",
   "metadata": {},
   "outputs": [],
   "source": [
    "# fillna() method on series\n",
    "s = pd.Series([4.5, np.nan, 3.8, 5.0, np.nan, 4.2, np.nan, 3.9], \n",
    "              index=[\"Alice\", \"Bob\", \"Charlie\", \"David\", \"Emma\", \"Frank\", \"Grace\", \"Hannah\"])"
   ]
  },
  {
   "cell_type": "code",
   "execution_count": 27,
   "id": "f96248cc-a99f-412a-a321-31f7d2aaf164",
   "metadata": {},
   "outputs": [
    {
     "data": {
      "text/plain": [
       "Alice      4.5\n",
       "Bob        NaN\n",
       "Charlie    3.8\n",
       "David      5.0\n",
       "Emma       NaN\n",
       "Frank      4.2\n",
       "Grace      NaN\n",
       "Hannah     3.9\n",
       "dtype: float64"
      ]
     },
     "execution_count": 27,
     "metadata": {},
     "output_type": "execute_result"
    }
   ],
   "source": [
    "s"
   ]
  },
  {
   "cell_type": "code",
   "execution_count": 28,
   "id": "e01dbf34-62d9-43c8-a502-c4a2ef441f57",
   "metadata": {},
   "outputs": [
    {
     "data": {
      "text/plain": [
       "Alice      4.5\n",
       "Bob        4.0\n",
       "Charlie    3.8\n",
       "David      5.0\n",
       "Emma       4.0\n",
       "Frank      4.2\n",
       "Grace      4.0\n",
       "Hannah     3.9\n",
       "dtype: float64"
      ]
     },
     "execution_count": 28,
     "metadata": {},
     "output_type": "execute_result"
    }
   ],
   "source": [
    "# fill missing values with number 4\n",
    "s.fillna(4)"
   ]
  },
  {
   "cell_type": "code",
   "execution_count": 29,
   "id": "aae5c36b-4c6f-47bb-b769-c23be1d23447",
   "metadata": {},
   "outputs": [
    {
     "data": {
      "text/plain": [
       "Alice      4.50\n",
       "Bob        4.28\n",
       "Charlie    3.80\n",
       "David      5.00\n",
       "Emma       4.28\n",
       "Frank      4.20\n",
       "Grace      4.28\n",
       "Hannah     3.90\n",
       "dtype: float64"
      ]
     },
     "execution_count": 29,
     "metadata": {},
     "output_type": "execute_result"
    }
   ],
   "source": [
    "# fill missing values with mean of other values\n",
    "s.fillna(s.mean())"
   ]
  },
  {
   "cell_type": "code",
   "execution_count": 30,
   "id": "32d61709-3fdf-4009-8ef0-761711437b9a",
   "metadata": {},
   "outputs": [
    {
     "data": {
      "text/plain": [
       "Alice      4.5\n",
       "Bob        4.5\n",
       "Charlie    3.8\n",
       "David      5.0\n",
       "Emma       5.0\n",
       "Frank      4.2\n",
       "Grace      4.2\n",
       "Hannah     3.9\n",
       "dtype: float64"
      ]
     },
     "execution_count": 30,
     "metadata": {},
     "output_type": "execute_result"
    }
   ],
   "source": [
    "# forward fill\n",
    "s.ffill()"
   ]
  },
  {
   "cell_type": "code",
   "execution_count": 31,
   "id": "248f9b46-5768-4d37-b402-750b1dda350d",
   "metadata": {},
   "outputs": [
    {
     "data": {
      "text/plain": [
       "Alice      4.5\n",
       "Bob        3.8\n",
       "Charlie    3.8\n",
       "David      5.0\n",
       "Emma       4.2\n",
       "Frank      4.2\n",
       "Grace      3.9\n",
       "Hannah     3.9\n",
       "dtype: float64"
      ]
     },
     "execution_count": 31,
     "metadata": {},
     "output_type": "execute_result"
    }
   ],
   "source": [
    "# backward fill\n",
    "s.bfill()"
   ]
  },
  {
   "cell_type": "code",
   "execution_count": 32,
   "id": "d9fa348b-af80-45a4-9339-fe1a62d211d8",
   "metadata": {},
   "outputs": [],
   "source": [
    "data = {\n",
    "    \"Product\": [\"Laptop\", \"Phone\", \"Tablet\", \"Monitor\", \"Keyboard\", \"Mouse\", \"Headphones\"],\n",
    "    \"Price\": [1000, 700, np.nan, 300, 50, np.nan, 150],  # Some missing prices\n",
    "    \"Units Sold\": [10, np.nan, 5, np.nan, 20, 15, np.nan],  # Some missing sales data\n",
    "    \"Category\": [\"Electronics\", \"Electronics\", \"Electronics\", \"Electronics\", \"Accessories\", \"Accessories\", \"Accessories\"]\n",
    "}\n",
    "\n",
    "df = pd.DataFrame(data)"
   ]
  },
  {
   "cell_type": "code",
   "execution_count": 33,
   "id": "2e77e9c1-582c-489a-b858-d92a4e6d6063",
   "metadata": {},
   "outputs": [
    {
     "data": {
      "text/html": [
       "<div>\n",
       "<style scoped>\n",
       "    .dataframe tbody tr th:only-of-type {\n",
       "        vertical-align: middle;\n",
       "    }\n",
       "\n",
       "    .dataframe tbody tr th {\n",
       "        vertical-align: top;\n",
       "    }\n",
       "\n",
       "    .dataframe thead th {\n",
       "        text-align: right;\n",
       "    }\n",
       "</style>\n",
       "<table border=\"1\" class=\"dataframe\">\n",
       "  <thead>\n",
       "    <tr style=\"text-align: right;\">\n",
       "      <th></th>\n",
       "      <th>Product</th>\n",
       "      <th>Price</th>\n",
       "      <th>Units Sold</th>\n",
       "      <th>Category</th>\n",
       "    </tr>\n",
       "  </thead>\n",
       "  <tbody>\n",
       "    <tr>\n",
       "      <th>0</th>\n",
       "      <td>Laptop</td>\n",
       "      <td>1000.0</td>\n",
       "      <td>10.0</td>\n",
       "      <td>Electronics</td>\n",
       "    </tr>\n",
       "    <tr>\n",
       "      <th>1</th>\n",
       "      <td>Phone</td>\n",
       "      <td>700.0</td>\n",
       "      <td>NaN</td>\n",
       "      <td>Electronics</td>\n",
       "    </tr>\n",
       "    <tr>\n",
       "      <th>2</th>\n",
       "      <td>Tablet</td>\n",
       "      <td>NaN</td>\n",
       "      <td>5.0</td>\n",
       "      <td>Electronics</td>\n",
       "    </tr>\n",
       "    <tr>\n",
       "      <th>3</th>\n",
       "      <td>Monitor</td>\n",
       "      <td>300.0</td>\n",
       "      <td>NaN</td>\n",
       "      <td>Electronics</td>\n",
       "    </tr>\n",
       "    <tr>\n",
       "      <th>4</th>\n",
       "      <td>Keyboard</td>\n",
       "      <td>50.0</td>\n",
       "      <td>20.0</td>\n",
       "      <td>Accessories</td>\n",
       "    </tr>\n",
       "    <tr>\n",
       "      <th>5</th>\n",
       "      <td>Mouse</td>\n",
       "      <td>NaN</td>\n",
       "      <td>15.0</td>\n",
       "      <td>Accessories</td>\n",
       "    </tr>\n",
       "    <tr>\n",
       "      <th>6</th>\n",
       "      <td>Headphones</td>\n",
       "      <td>150.0</td>\n",
       "      <td>NaN</td>\n",
       "      <td>Accessories</td>\n",
       "    </tr>\n",
       "  </tbody>\n",
       "</table>\n",
       "</div>"
      ],
      "text/plain": [
       "      Product   Price  Units Sold     Category\n",
       "0      Laptop  1000.0        10.0  Electronics\n",
       "1       Phone   700.0         NaN  Electronics\n",
       "2      Tablet     NaN         5.0  Electronics\n",
       "3     Monitor   300.0         NaN  Electronics\n",
       "4    Keyboard    50.0        20.0  Accessories\n",
       "5       Mouse     NaN        15.0  Accessories\n",
       "6  Headphones   150.0         NaN  Accessories"
      ]
     },
     "execution_count": 33,
     "metadata": {},
     "output_type": "execute_result"
    }
   ],
   "source": [
    "df"
   ]
  },
  {
   "cell_type": "code",
   "execution_count": 34,
   "id": "63cbc4fb-d96f-4d80-b24d-214d070703a8",
   "metadata": {},
   "outputs": [
    {
     "data": {
      "text/html": [
       "<div>\n",
       "<style scoped>\n",
       "    .dataframe tbody tr th:only-of-type {\n",
       "        vertical-align: middle;\n",
       "    }\n",
       "\n",
       "    .dataframe tbody tr th {\n",
       "        vertical-align: top;\n",
       "    }\n",
       "\n",
       "    .dataframe thead th {\n",
       "        text-align: right;\n",
       "    }\n",
       "</style>\n",
       "<table border=\"1\" class=\"dataframe\">\n",
       "  <thead>\n",
       "    <tr style=\"text-align: right;\">\n",
       "      <th></th>\n",
       "      <th>Product</th>\n",
       "      <th>Price</th>\n",
       "      <th>Units Sold</th>\n",
       "      <th>Category</th>\n",
       "    </tr>\n",
       "  </thead>\n",
       "  <tbody>\n",
       "    <tr>\n",
       "      <th>0</th>\n",
       "      <td>Laptop</td>\n",
       "      <td>1000.0</td>\n",
       "      <td>10.0</td>\n",
       "      <td>Electronics</td>\n",
       "    </tr>\n",
       "    <tr>\n",
       "      <th>1</th>\n",
       "      <td>Phone</td>\n",
       "      <td>700.0</td>\n",
       "      <td>99.0</td>\n",
       "      <td>Electronics</td>\n",
       "    </tr>\n",
       "    <tr>\n",
       "      <th>2</th>\n",
       "      <td>Tablet</td>\n",
       "      <td>99.0</td>\n",
       "      <td>5.0</td>\n",
       "      <td>Electronics</td>\n",
       "    </tr>\n",
       "    <tr>\n",
       "      <th>3</th>\n",
       "      <td>Monitor</td>\n",
       "      <td>300.0</td>\n",
       "      <td>99.0</td>\n",
       "      <td>Electronics</td>\n",
       "    </tr>\n",
       "    <tr>\n",
       "      <th>4</th>\n",
       "      <td>Keyboard</td>\n",
       "      <td>50.0</td>\n",
       "      <td>20.0</td>\n",
       "      <td>Accessories</td>\n",
       "    </tr>\n",
       "    <tr>\n",
       "      <th>5</th>\n",
       "      <td>Mouse</td>\n",
       "      <td>99.0</td>\n",
       "      <td>15.0</td>\n",
       "      <td>Accessories</td>\n",
       "    </tr>\n",
       "    <tr>\n",
       "      <th>6</th>\n",
       "      <td>Headphones</td>\n",
       "      <td>150.0</td>\n",
       "      <td>99.0</td>\n",
       "      <td>Accessories</td>\n",
       "    </tr>\n",
       "  </tbody>\n",
       "</table>\n",
       "</div>"
      ],
      "text/plain": [
       "      Product   Price  Units Sold     Category\n",
       "0      Laptop  1000.0        10.0  Electronics\n",
       "1       Phone   700.0        99.0  Electronics\n",
       "2      Tablet    99.0         5.0  Electronics\n",
       "3     Monitor   300.0        99.0  Electronics\n",
       "4    Keyboard    50.0        20.0  Accessories\n",
       "5       Mouse    99.0        15.0  Accessories\n",
       "6  Headphones   150.0        99.0  Accessories"
      ]
     },
     "execution_count": 34,
     "metadata": {},
     "output_type": "execute_result"
    }
   ],
   "source": [
    "# fill missing values with specific values\n",
    "df.fillna(99)"
   ]
  },
  {
   "cell_type": "code",
   "execution_count": 35,
   "id": "db4adfed-93fd-4f0e-9c6d-64b389b04158",
   "metadata": {},
   "outputs": [
    {
     "data": {
      "text/html": [
       "<div>\n",
       "<style scoped>\n",
       "    .dataframe tbody tr th:only-of-type {\n",
       "        vertical-align: middle;\n",
       "    }\n",
       "\n",
       "    .dataframe tbody tr th {\n",
       "        vertical-align: top;\n",
       "    }\n",
       "\n",
       "    .dataframe thead th {\n",
       "        text-align: right;\n",
       "    }\n",
       "</style>\n",
       "<table border=\"1\" class=\"dataframe\">\n",
       "  <thead>\n",
       "    <tr style=\"text-align: right;\">\n",
       "      <th></th>\n",
       "      <th>Product</th>\n",
       "      <th>Price</th>\n",
       "      <th>Units Sold</th>\n",
       "      <th>Category</th>\n",
       "    </tr>\n",
       "  </thead>\n",
       "  <tbody>\n",
       "    <tr>\n",
       "      <th>0</th>\n",
       "      <td>Laptop</td>\n",
       "      <td>1000.0</td>\n",
       "      <td>10.0</td>\n",
       "      <td>Electronics</td>\n",
       "    </tr>\n",
       "    <tr>\n",
       "      <th>1</th>\n",
       "      <td>Phone</td>\n",
       "      <td>700.0</td>\n",
       "      <td>16.0</td>\n",
       "      <td>Electronics</td>\n",
       "    </tr>\n",
       "    <tr>\n",
       "      <th>2</th>\n",
       "      <td>Tablet</td>\n",
       "      <td>350.0</td>\n",
       "      <td>5.0</td>\n",
       "      <td>Electronics</td>\n",
       "    </tr>\n",
       "    <tr>\n",
       "      <th>3</th>\n",
       "      <td>Monitor</td>\n",
       "      <td>300.0</td>\n",
       "      <td>16.0</td>\n",
       "      <td>Electronics</td>\n",
       "    </tr>\n",
       "    <tr>\n",
       "      <th>4</th>\n",
       "      <td>Keyboard</td>\n",
       "      <td>50.0</td>\n",
       "      <td>20.0</td>\n",
       "      <td>Accessories</td>\n",
       "    </tr>\n",
       "    <tr>\n",
       "      <th>5</th>\n",
       "      <td>Mouse</td>\n",
       "      <td>350.0</td>\n",
       "      <td>15.0</td>\n",
       "      <td>Accessories</td>\n",
       "    </tr>\n",
       "    <tr>\n",
       "      <th>6</th>\n",
       "      <td>Headphones</td>\n",
       "      <td>150.0</td>\n",
       "      <td>16.0</td>\n",
       "      <td>Accessories</td>\n",
       "    </tr>\n",
       "  </tbody>\n",
       "</table>\n",
       "</div>"
      ],
      "text/plain": [
       "      Product   Price  Units Sold     Category\n",
       "0      Laptop  1000.0        10.0  Electronics\n",
       "1       Phone   700.0        16.0  Electronics\n",
       "2      Tablet   350.0         5.0  Electronics\n",
       "3     Monitor   300.0        16.0  Electronics\n",
       "4    Keyboard    50.0        20.0  Accessories\n",
       "5       Mouse   350.0        15.0  Accessories\n",
       "6  Headphones   150.0        16.0  Accessories"
      ]
     },
     "execution_count": 35,
     "metadata": {},
     "output_type": "execute_result"
    }
   ],
   "source": [
    "# fiil missing values with specific value but for each column different value\n",
    "df.fillna({\"Price\": 350, \"Units Sold\": 16})"
   ]
  },
  {
   "cell_type": "code",
   "execution_count": 36,
   "id": "3c5d061f-721e-4042-8165-c51aaf5f6ff0",
   "metadata": {},
   "outputs": [
    {
     "data": {
      "text/html": [
       "<div>\n",
       "<style scoped>\n",
       "    .dataframe tbody tr th:only-of-type {\n",
       "        vertical-align: middle;\n",
       "    }\n",
       "\n",
       "    .dataframe tbody tr th {\n",
       "        vertical-align: top;\n",
       "    }\n",
       "\n",
       "    .dataframe thead th {\n",
       "        text-align: right;\n",
       "    }\n",
       "</style>\n",
       "<table border=\"1\" class=\"dataframe\">\n",
       "  <thead>\n",
       "    <tr style=\"text-align: right;\">\n",
       "      <th></th>\n",
       "      <th>Product</th>\n",
       "      <th>Price</th>\n",
       "      <th>Units Sold</th>\n",
       "      <th>Category</th>\n",
       "    </tr>\n",
       "  </thead>\n",
       "  <tbody>\n",
       "    <tr>\n",
       "      <th>0</th>\n",
       "      <td>Laptop</td>\n",
       "      <td>1000.0</td>\n",
       "      <td>10.0</td>\n",
       "      <td>Electronics</td>\n",
       "    </tr>\n",
       "    <tr>\n",
       "      <th>1</th>\n",
       "      <td>Phone</td>\n",
       "      <td>700.0</td>\n",
       "      <td>12.5</td>\n",
       "      <td>Electronics</td>\n",
       "    </tr>\n",
       "    <tr>\n",
       "      <th>2</th>\n",
       "      <td>Tablet</td>\n",
       "      <td>440.0</td>\n",
       "      <td>5.0</td>\n",
       "      <td>Electronics</td>\n",
       "    </tr>\n",
       "    <tr>\n",
       "      <th>3</th>\n",
       "      <td>Monitor</td>\n",
       "      <td>300.0</td>\n",
       "      <td>12.5</td>\n",
       "      <td>Electronics</td>\n",
       "    </tr>\n",
       "    <tr>\n",
       "      <th>4</th>\n",
       "      <td>Keyboard</td>\n",
       "      <td>50.0</td>\n",
       "      <td>20.0</td>\n",
       "      <td>Accessories</td>\n",
       "    </tr>\n",
       "    <tr>\n",
       "      <th>5</th>\n",
       "      <td>Mouse</td>\n",
       "      <td>440.0</td>\n",
       "      <td>15.0</td>\n",
       "      <td>Accessories</td>\n",
       "    </tr>\n",
       "    <tr>\n",
       "      <th>6</th>\n",
       "      <td>Headphones</td>\n",
       "      <td>150.0</td>\n",
       "      <td>12.5</td>\n",
       "      <td>Accessories</td>\n",
       "    </tr>\n",
       "  </tbody>\n",
       "</table>\n",
       "</div>"
      ],
      "text/plain": [
       "      Product   Price  Units Sold     Category\n",
       "0      Laptop  1000.0        10.0  Electronics\n",
       "1       Phone   700.0        12.5  Electronics\n",
       "2      Tablet   440.0         5.0  Electronics\n",
       "3     Monitor   300.0        12.5  Electronics\n",
       "4    Keyboard    50.0        20.0  Accessories\n",
       "5       Mouse   440.0        15.0  Accessories\n",
       "6  Headphones   150.0        12.5  Accessories"
      ]
     },
     "execution_count": 36,
     "metadata": {},
     "output_type": "execute_result"
    }
   ],
   "source": [
    "# fill missing values with their mean\n",
    "df.fillna(df.mean(numeric_only = True))"
   ]
  },
  {
   "cell_type": "code",
   "execution_count": 37,
   "id": "b3fdb005-f8bf-48a5-bc34-c83f5fd0e62e",
   "metadata": {},
   "outputs": [
    {
     "data": {
      "text/html": [
       "<div>\n",
       "<style scoped>\n",
       "    .dataframe tbody tr th:only-of-type {\n",
       "        vertical-align: middle;\n",
       "    }\n",
       "\n",
       "    .dataframe tbody tr th {\n",
       "        vertical-align: top;\n",
       "    }\n",
       "\n",
       "    .dataframe thead th {\n",
       "        text-align: right;\n",
       "    }\n",
       "</style>\n",
       "<table border=\"1\" class=\"dataframe\">\n",
       "  <thead>\n",
       "    <tr style=\"text-align: right;\">\n",
       "      <th></th>\n",
       "      <th>Product</th>\n",
       "      <th>Price</th>\n",
       "      <th>Units Sold</th>\n",
       "      <th>Category</th>\n",
       "    </tr>\n",
       "  </thead>\n",
       "  <tbody>\n",
       "    <tr>\n",
       "      <th>0</th>\n",
       "      <td>Laptop</td>\n",
       "      <td>1000.0</td>\n",
       "      <td>10.0</td>\n",
       "      <td>Electronics</td>\n",
       "    </tr>\n",
       "    <tr>\n",
       "      <th>1</th>\n",
       "      <td>Phone</td>\n",
       "      <td>700.0</td>\n",
       "      <td>NaN</td>\n",
       "      <td>Electronics</td>\n",
       "    </tr>\n",
       "    <tr>\n",
       "      <th>2</th>\n",
       "      <td>Tablet</td>\n",
       "      <td>440.0</td>\n",
       "      <td>5.0</td>\n",
       "      <td>Electronics</td>\n",
       "    </tr>\n",
       "    <tr>\n",
       "      <th>3</th>\n",
       "      <td>Monitor</td>\n",
       "      <td>300.0</td>\n",
       "      <td>NaN</td>\n",
       "      <td>Electronics</td>\n",
       "    </tr>\n",
       "    <tr>\n",
       "      <th>4</th>\n",
       "      <td>Keyboard</td>\n",
       "      <td>50.0</td>\n",
       "      <td>20.0</td>\n",
       "      <td>Accessories</td>\n",
       "    </tr>\n",
       "    <tr>\n",
       "      <th>5</th>\n",
       "      <td>Mouse</td>\n",
       "      <td>440.0</td>\n",
       "      <td>15.0</td>\n",
       "      <td>Accessories</td>\n",
       "    </tr>\n",
       "    <tr>\n",
       "      <th>6</th>\n",
       "      <td>Headphones</td>\n",
       "      <td>150.0</td>\n",
       "      <td>NaN</td>\n",
       "      <td>Accessories</td>\n",
       "    </tr>\n",
       "  </tbody>\n",
       "</table>\n",
       "</div>"
      ],
      "text/plain": [
       "      Product   Price  Units Sold     Category\n",
       "0      Laptop  1000.0        10.0  Electronics\n",
       "1       Phone   700.0         NaN  Electronics\n",
       "2      Tablet   440.0         5.0  Electronics\n",
       "3     Monitor   300.0         NaN  Electronics\n",
       "4    Keyboard    50.0        20.0  Accessories\n",
       "5       Mouse   440.0        15.0  Accessories\n",
       "6  Headphones   150.0         NaN  Accessories"
      ]
     },
     "execution_count": 37,
     "metadata": {},
     "output_type": "execute_result"
    }
   ],
   "source": [
    "# fill a specific columns with their mean value\n",
    "df['Price'] = df['Price'].fillna(df['Price'].mean())\n",
    "df"
   ]
  },
  {
   "cell_type": "code",
   "execution_count": 38,
   "id": "1de816f7-3542-423f-bac1-b0315f69e7a3",
   "metadata": {},
   "outputs": [
    {
     "data": {
      "text/html": [
       "<div>\n",
       "<style scoped>\n",
       "    .dataframe tbody tr th:only-of-type {\n",
       "        vertical-align: middle;\n",
       "    }\n",
       "\n",
       "    .dataframe tbody tr th {\n",
       "        vertical-align: top;\n",
       "    }\n",
       "\n",
       "    .dataframe thead th {\n",
       "        text-align: right;\n",
       "    }\n",
       "</style>\n",
       "<table border=\"1\" class=\"dataframe\">\n",
       "  <thead>\n",
       "    <tr style=\"text-align: right;\">\n",
       "      <th></th>\n",
       "      <th>Product</th>\n",
       "      <th>Price</th>\n",
       "      <th>Units Sold</th>\n",
       "      <th>Category</th>\n",
       "    </tr>\n",
       "  </thead>\n",
       "  <tbody>\n",
       "    <tr>\n",
       "      <th>0</th>\n",
       "      <td>Laptop</td>\n",
       "      <td>1000.0</td>\n",
       "      <td>10.0</td>\n",
       "      <td>Electronics</td>\n",
       "    </tr>\n",
       "    <tr>\n",
       "      <th>1</th>\n",
       "      <td>Phone</td>\n",
       "      <td>700.0</td>\n",
       "      <td>10.0</td>\n",
       "      <td>Electronics</td>\n",
       "    </tr>\n",
       "    <tr>\n",
       "      <th>2</th>\n",
       "      <td>Tablet</td>\n",
       "      <td>440.0</td>\n",
       "      <td>5.0</td>\n",
       "      <td>Electronics</td>\n",
       "    </tr>\n",
       "    <tr>\n",
       "      <th>3</th>\n",
       "      <td>Monitor</td>\n",
       "      <td>300.0</td>\n",
       "      <td>5.0</td>\n",
       "      <td>Electronics</td>\n",
       "    </tr>\n",
       "    <tr>\n",
       "      <th>4</th>\n",
       "      <td>Keyboard</td>\n",
       "      <td>50.0</td>\n",
       "      <td>20.0</td>\n",
       "      <td>Accessories</td>\n",
       "    </tr>\n",
       "    <tr>\n",
       "      <th>5</th>\n",
       "      <td>Mouse</td>\n",
       "      <td>440.0</td>\n",
       "      <td>15.0</td>\n",
       "      <td>Accessories</td>\n",
       "    </tr>\n",
       "    <tr>\n",
       "      <th>6</th>\n",
       "      <td>Headphones</td>\n",
       "      <td>150.0</td>\n",
       "      <td>15.0</td>\n",
       "      <td>Accessories</td>\n",
       "    </tr>\n",
       "  </tbody>\n",
       "</table>\n",
       "</div>"
      ],
      "text/plain": [
       "      Product   Price  Units Sold     Category\n",
       "0      Laptop  1000.0        10.0  Electronics\n",
       "1       Phone   700.0        10.0  Electronics\n",
       "2      Tablet   440.0         5.0  Electronics\n",
       "3     Monitor   300.0         5.0  Electronics\n",
       "4    Keyboard    50.0        20.0  Accessories\n",
       "5       Mouse   440.0        15.0  Accessories\n",
       "6  Headphones   150.0        15.0  Accessories"
      ]
     },
     "execution_count": 38,
     "metadata": {},
     "output_type": "execute_result"
    }
   ],
   "source": [
    "# forward fill\n",
    "df.ffill()"
   ]
  },
  {
   "cell_type": "code",
   "execution_count": 39,
   "id": "7a0de2b6-7082-4de5-8f29-74d1d43e6cab",
   "metadata": {},
   "outputs": [
    {
     "data": {
      "text/html": [
       "<div>\n",
       "<style scoped>\n",
       "    .dataframe tbody tr th:only-of-type {\n",
       "        vertical-align: middle;\n",
       "    }\n",
       "\n",
       "    .dataframe tbody tr th {\n",
       "        vertical-align: top;\n",
       "    }\n",
       "\n",
       "    .dataframe thead th {\n",
       "        text-align: right;\n",
       "    }\n",
       "</style>\n",
       "<table border=\"1\" class=\"dataframe\">\n",
       "  <thead>\n",
       "    <tr style=\"text-align: right;\">\n",
       "      <th></th>\n",
       "      <th>Product</th>\n",
       "      <th>Price</th>\n",
       "      <th>Units Sold</th>\n",
       "      <th>Category</th>\n",
       "    </tr>\n",
       "  </thead>\n",
       "  <tbody>\n",
       "    <tr>\n",
       "      <th>0</th>\n",
       "      <td>Laptop</td>\n",
       "      <td>1000.0</td>\n",
       "      <td>10.0</td>\n",
       "      <td>Electronics</td>\n",
       "    </tr>\n",
       "    <tr>\n",
       "      <th>1</th>\n",
       "      <td>Phone</td>\n",
       "      <td>700.0</td>\n",
       "      <td>5.0</td>\n",
       "      <td>Electronics</td>\n",
       "    </tr>\n",
       "    <tr>\n",
       "      <th>2</th>\n",
       "      <td>Tablet</td>\n",
       "      <td>440.0</td>\n",
       "      <td>5.0</td>\n",
       "      <td>Electronics</td>\n",
       "    </tr>\n",
       "    <tr>\n",
       "      <th>3</th>\n",
       "      <td>Monitor</td>\n",
       "      <td>300.0</td>\n",
       "      <td>20.0</td>\n",
       "      <td>Electronics</td>\n",
       "    </tr>\n",
       "    <tr>\n",
       "      <th>4</th>\n",
       "      <td>Keyboard</td>\n",
       "      <td>50.0</td>\n",
       "      <td>20.0</td>\n",
       "      <td>Accessories</td>\n",
       "    </tr>\n",
       "    <tr>\n",
       "      <th>5</th>\n",
       "      <td>Mouse</td>\n",
       "      <td>440.0</td>\n",
       "      <td>15.0</td>\n",
       "      <td>Accessories</td>\n",
       "    </tr>\n",
       "    <tr>\n",
       "      <th>6</th>\n",
       "      <td>Headphones</td>\n",
       "      <td>150.0</td>\n",
       "      <td>NaN</td>\n",
       "      <td>Accessories</td>\n",
       "    </tr>\n",
       "  </tbody>\n",
       "</table>\n",
       "</div>"
      ],
      "text/plain": [
       "      Product   Price  Units Sold     Category\n",
       "0      Laptop  1000.0        10.0  Electronics\n",
       "1       Phone   700.0         5.0  Electronics\n",
       "2      Tablet   440.0         5.0  Electronics\n",
       "3     Monitor   300.0        20.0  Electronics\n",
       "4    Keyboard    50.0        20.0  Accessories\n",
       "5       Mouse   440.0        15.0  Accessories\n",
       "6  Headphones   150.0         NaN  Accessories"
      ]
     },
     "execution_count": 39,
     "metadata": {},
     "output_type": "execute_result"
    }
   ],
   "source": [
    "# Backward fill\n",
    "df.bfill()"
   ]
  },
  {
   "cell_type": "markdown",
   "id": "8884bac7-7f9e-45e0-961d-15c233644892",
   "metadata": {},
   "source": [
    "### Examples"
   ]
  },
  {
   "cell_type": "code",
   "execution_count": 40,
   "id": "0cda77bf-1428-4d64-8960-afa361a06957",
   "metadata": {},
   "outputs": [],
   "source": [
    "data = {\n",
    "    'order_id': [101, 102, 103, 104, 105, 106],\n",
    "    'customer_id': [1001, None, 1003, 1004, None, 1006],  # Some missing customer_ids\n",
    "    'order_amount': [250.50, 300.00, None, 150.00, 400.75, None],  # Some missing order_amounts\n",
    "    'order_date': [\n",
    "        '2025-01-01',\n",
    "        '2025-01-02',\n",
    "        '2025-01-03',\n",
    "        '2025-01-04',\n",
    "        '2025-01-05',\n",
    "        '2025-01-06'\n",
    "    ]\n",
    "}\n",
    "df = pd.DataFrame(data).set_index('order_id')"
   ]
  },
  {
   "cell_type": "code",
   "execution_count": 41,
   "id": "e2d5fb08-3774-4c1c-bcde-3a215ba4dd4b",
   "metadata": {},
   "outputs": [
    {
     "data": {
      "text/html": [
       "<div>\n",
       "<style scoped>\n",
       "    .dataframe tbody tr th:only-of-type {\n",
       "        vertical-align: middle;\n",
       "    }\n",
       "\n",
       "    .dataframe tbody tr th {\n",
       "        vertical-align: top;\n",
       "    }\n",
       "\n",
       "    .dataframe thead th {\n",
       "        text-align: right;\n",
       "    }\n",
       "</style>\n",
       "<table border=\"1\" class=\"dataframe\">\n",
       "  <thead>\n",
       "    <tr style=\"text-align: right;\">\n",
       "      <th></th>\n",
       "      <th>customer_id</th>\n",
       "      <th>order_amount</th>\n",
       "      <th>order_date</th>\n",
       "    </tr>\n",
       "    <tr>\n",
       "      <th>order_id</th>\n",
       "      <th></th>\n",
       "      <th></th>\n",
       "      <th></th>\n",
       "    </tr>\n",
       "  </thead>\n",
       "  <tbody>\n",
       "    <tr>\n",
       "      <th>101</th>\n",
       "      <td>1001.0</td>\n",
       "      <td>250.50</td>\n",
       "      <td>2025-01-01</td>\n",
       "    </tr>\n",
       "    <tr>\n",
       "      <th>102</th>\n",
       "      <td>NaN</td>\n",
       "      <td>300.00</td>\n",
       "      <td>2025-01-02</td>\n",
       "    </tr>\n",
       "    <tr>\n",
       "      <th>103</th>\n",
       "      <td>1003.0</td>\n",
       "      <td>NaN</td>\n",
       "      <td>2025-01-03</td>\n",
       "    </tr>\n",
       "    <tr>\n",
       "      <th>104</th>\n",
       "      <td>1004.0</td>\n",
       "      <td>150.00</td>\n",
       "      <td>2025-01-04</td>\n",
       "    </tr>\n",
       "    <tr>\n",
       "      <th>105</th>\n",
       "      <td>NaN</td>\n",
       "      <td>400.75</td>\n",
       "      <td>2025-01-05</td>\n",
       "    </tr>\n",
       "    <tr>\n",
       "      <th>106</th>\n",
       "      <td>1006.0</td>\n",
       "      <td>NaN</td>\n",
       "      <td>2025-01-06</td>\n",
       "    </tr>\n",
       "  </tbody>\n",
       "</table>\n",
       "</div>"
      ],
      "text/plain": [
       "          customer_id  order_amount  order_date\n",
       "order_id                                       \n",
       "101            1001.0        250.50  2025-01-01\n",
       "102               NaN        300.00  2025-01-02\n",
       "103            1003.0           NaN  2025-01-03\n",
       "104            1004.0        150.00  2025-01-04\n",
       "105               NaN        400.75  2025-01-05\n",
       "106            1006.0           NaN  2025-01-06"
      ]
     },
     "execution_count": 41,
     "metadata": {},
     "output_type": "execute_result"
    }
   ],
   "source": [
    "df"
   ]
  },
  {
   "cell_type": "raw",
   "id": "3f7e7289-3bd4-4706-b4ee-e9d924bfbe3a",
   "metadata": {},
   "source": [
    "Detect: Use isna() to identify rows with missing order_amount or customer_id."
   ]
  },
  {
   "cell_type": "code",
   "execution_count": 42,
   "id": "20a27740-5a26-4b5d-9557-1bb16c0fd7a4",
   "metadata": {},
   "outputs": [
    {
     "data": {
      "text/plain": [
       "customer_id     2\n",
       "order_amount    2\n",
       "order_date      0\n",
       "dtype: int64"
      ]
     },
     "execution_count": 42,
     "metadata": {},
     "output_type": "execute_result"
    }
   ],
   "source": [
    "# number of missing values in each columns\n",
    "df.isna().sum()"
   ]
  },
  {
   "cell_type": "code",
   "execution_count": 43,
   "id": "d099f6bf-ee0c-4c10-beb2-3a67c35204cb",
   "metadata": {},
   "outputs": [
    {
     "data": {
      "text/plain": [
       "order_id\n",
       "101    False\n",
       "102     True\n",
       "103     True\n",
       "104    False\n",
       "105     True\n",
       "106     True\n",
       "dtype: bool"
      ]
     },
     "execution_count": 43,
     "metadata": {},
     "output_type": "execute_result"
    }
   ],
   "source": [
    "df['customer_id'].isna() | df['order_amount'].isna()"
   ]
  },
  {
   "cell_type": "raw",
   "id": "23dc8707-27a9-4ea5-83f8-3f10001dba9a",
   "metadata": {},
   "source": [
    "Fill: Replace missing order_amount with the average order amount."
   ]
  },
  {
   "cell_type": "code",
   "execution_count": 44,
   "id": "4cd9c6e5-a179-432e-9cad-3593f18f4673",
   "metadata": {},
   "outputs": [
    {
     "data": {
      "text/html": [
       "<div>\n",
       "<style scoped>\n",
       "    .dataframe tbody tr th:only-of-type {\n",
       "        vertical-align: middle;\n",
       "    }\n",
       "\n",
       "    .dataframe tbody tr th {\n",
       "        vertical-align: top;\n",
       "    }\n",
       "\n",
       "    .dataframe thead th {\n",
       "        text-align: right;\n",
       "    }\n",
       "</style>\n",
       "<table border=\"1\" class=\"dataframe\">\n",
       "  <thead>\n",
       "    <tr style=\"text-align: right;\">\n",
       "      <th></th>\n",
       "      <th>customer_id</th>\n",
       "      <th>order_amount</th>\n",
       "      <th>order_date</th>\n",
       "    </tr>\n",
       "    <tr>\n",
       "      <th>order_id</th>\n",
       "      <th></th>\n",
       "      <th></th>\n",
       "      <th></th>\n",
       "    </tr>\n",
       "  </thead>\n",
       "  <tbody>\n",
       "    <tr>\n",
       "      <th>101</th>\n",
       "      <td>1001.0</td>\n",
       "      <td>250.5000</td>\n",
       "      <td>2025-01-01</td>\n",
       "    </tr>\n",
       "    <tr>\n",
       "      <th>102</th>\n",
       "      <td>NaN</td>\n",
       "      <td>300.0000</td>\n",
       "      <td>2025-01-02</td>\n",
       "    </tr>\n",
       "    <tr>\n",
       "      <th>103</th>\n",
       "      <td>1003.0</td>\n",
       "      <td>275.3125</td>\n",
       "      <td>2025-01-03</td>\n",
       "    </tr>\n",
       "    <tr>\n",
       "      <th>104</th>\n",
       "      <td>1004.0</td>\n",
       "      <td>150.0000</td>\n",
       "      <td>2025-01-04</td>\n",
       "    </tr>\n",
       "    <tr>\n",
       "      <th>105</th>\n",
       "      <td>NaN</td>\n",
       "      <td>400.7500</td>\n",
       "      <td>2025-01-05</td>\n",
       "    </tr>\n",
       "    <tr>\n",
       "      <th>106</th>\n",
       "      <td>1006.0</td>\n",
       "      <td>275.3125</td>\n",
       "      <td>2025-01-06</td>\n",
       "    </tr>\n",
       "  </tbody>\n",
       "</table>\n",
       "</div>"
      ],
      "text/plain": [
       "          customer_id  order_amount  order_date\n",
       "order_id                                       \n",
       "101            1001.0      250.5000  2025-01-01\n",
       "102               NaN      300.0000  2025-01-02\n",
       "103            1003.0      275.3125  2025-01-03\n",
       "104            1004.0      150.0000  2025-01-04\n",
       "105               NaN      400.7500  2025-01-05\n",
       "106            1006.0      275.3125  2025-01-06"
      ]
     },
     "execution_count": 44,
     "metadata": {},
     "output_type": "execute_result"
    }
   ],
   "source": [
    "df = df.fillna({'order_amount':df['order_amount'].mean()})\n",
    "df"
   ]
  },
  {
   "cell_type": "raw",
   "id": "b8b32563-7a0c-4de7-a452-88123b1de5f6",
   "metadata": {},
   "source": [
    "Drop: Remove any rows where customer_id is missing."
   ]
  },
  {
   "cell_type": "code",
   "execution_count": 45,
   "id": "f891cafd-2bb3-4f07-aa5e-72d65b3878cd",
   "metadata": {},
   "outputs": [],
   "source": [
    "df = df.dropna(subset = ['customer_id'])"
   ]
  },
  {
   "cell_type": "code",
   "execution_count": 46,
   "id": "0e76697f-da99-4d26-b5ca-df150ac8574c",
   "metadata": {},
   "outputs": [
    {
     "data": {
      "text/html": [
       "<div>\n",
       "<style scoped>\n",
       "    .dataframe tbody tr th:only-of-type {\n",
       "        vertical-align: middle;\n",
       "    }\n",
       "\n",
       "    .dataframe tbody tr th {\n",
       "        vertical-align: top;\n",
       "    }\n",
       "\n",
       "    .dataframe thead th {\n",
       "        text-align: right;\n",
       "    }\n",
       "</style>\n",
       "<table border=\"1\" class=\"dataframe\">\n",
       "  <thead>\n",
       "    <tr style=\"text-align: right;\">\n",
       "      <th></th>\n",
       "      <th>customer_id</th>\n",
       "      <th>order_amount</th>\n",
       "      <th>order_date</th>\n",
       "    </tr>\n",
       "    <tr>\n",
       "      <th>order_id</th>\n",
       "      <th></th>\n",
       "      <th></th>\n",
       "      <th></th>\n",
       "    </tr>\n",
       "  </thead>\n",
       "  <tbody>\n",
       "    <tr>\n",
       "      <th>101</th>\n",
       "      <td>1001.0</td>\n",
       "      <td>250.5000</td>\n",
       "      <td>2025-01-01</td>\n",
       "    </tr>\n",
       "    <tr>\n",
       "      <th>103</th>\n",
       "      <td>1003.0</td>\n",
       "      <td>275.3125</td>\n",
       "      <td>2025-01-03</td>\n",
       "    </tr>\n",
       "    <tr>\n",
       "      <th>104</th>\n",
       "      <td>1004.0</td>\n",
       "      <td>150.0000</td>\n",
       "      <td>2025-01-04</td>\n",
       "    </tr>\n",
       "    <tr>\n",
       "      <th>106</th>\n",
       "      <td>1006.0</td>\n",
       "      <td>275.3125</td>\n",
       "      <td>2025-01-06</td>\n",
       "    </tr>\n",
       "  </tbody>\n",
       "</table>\n",
       "</div>"
      ],
      "text/plain": [
       "          customer_id  order_amount  order_date\n",
       "order_id                                       \n",
       "101            1001.0      250.5000  2025-01-01\n",
       "103            1003.0      275.3125  2025-01-03\n",
       "104            1004.0      150.0000  2025-01-04\n",
       "106            1006.0      275.3125  2025-01-06"
      ]
     },
     "execution_count": 46,
     "metadata": {},
     "output_type": "execute_result"
    }
   ],
   "source": [
    "df"
   ]
  },
  {
   "cell_type": "code",
   "execution_count": null,
   "id": "acce2dd3-a7ea-4d77-a32c-6cd309bfe021",
   "metadata": {},
   "outputs": [],
   "source": []
  },
  {
   "cell_type": "code",
   "execution_count": null,
   "id": "e3f0518f-641e-41ba-bd7b-983ad17e736c",
   "metadata": {},
   "outputs": [],
   "source": []
  },
  {
   "cell_type": "code",
   "execution_count": 47,
   "id": "3a725f0d-5d8e-410c-9b06-ffda81b86bc7",
   "metadata": {},
   "outputs": [],
   "source": [
    "timestamps = pd.date_range(start='2025-01-01 00:00:00', periods=10, freq='min')\n",
    "\n",
    "data = {\n",
    "    'sensor_1': [1.1, 1.2, np.nan, 1.4, 1.5, np.nan, 1.7, 1.8, 1.9, 2.0],\n",
    "    'sensor_2': [2.1, np.nan, 2.3, 2.4, np.nan, 2.6, 2.7, np.nan, 2.9, 3.0],\n",
    "    'sensor_3': [np.nan, 3.2, 3.3, np.nan, 3.5, 3.6, np.nan, 3.8, 3.9, 4.0]\n",
    "}\n",
    "df = pd.DataFrame(data, index = timestamps)"
   ]
  },
  {
   "cell_type": "code",
   "execution_count": 48,
   "id": "0b218450-6686-4ade-a2ee-1d2a0034229e",
   "metadata": {},
   "outputs": [
    {
     "data": {
      "text/html": [
       "<div>\n",
       "<style scoped>\n",
       "    .dataframe tbody tr th:only-of-type {\n",
       "        vertical-align: middle;\n",
       "    }\n",
       "\n",
       "    .dataframe tbody tr th {\n",
       "        vertical-align: top;\n",
       "    }\n",
       "\n",
       "    .dataframe thead th {\n",
       "        text-align: right;\n",
       "    }\n",
       "</style>\n",
       "<table border=\"1\" class=\"dataframe\">\n",
       "  <thead>\n",
       "    <tr style=\"text-align: right;\">\n",
       "      <th></th>\n",
       "      <th>sensor_1</th>\n",
       "      <th>sensor_2</th>\n",
       "      <th>sensor_3</th>\n",
       "    </tr>\n",
       "  </thead>\n",
       "  <tbody>\n",
       "    <tr>\n",
       "      <th>2025-01-01 00:00:00</th>\n",
       "      <td>1.1</td>\n",
       "      <td>2.1</td>\n",
       "      <td>NaN</td>\n",
       "    </tr>\n",
       "    <tr>\n",
       "      <th>2025-01-01 00:01:00</th>\n",
       "      <td>1.2</td>\n",
       "      <td>NaN</td>\n",
       "      <td>3.2</td>\n",
       "    </tr>\n",
       "    <tr>\n",
       "      <th>2025-01-01 00:02:00</th>\n",
       "      <td>NaN</td>\n",
       "      <td>2.3</td>\n",
       "      <td>3.3</td>\n",
       "    </tr>\n",
       "    <tr>\n",
       "      <th>2025-01-01 00:03:00</th>\n",
       "      <td>1.4</td>\n",
       "      <td>2.4</td>\n",
       "      <td>NaN</td>\n",
       "    </tr>\n",
       "    <tr>\n",
       "      <th>2025-01-01 00:04:00</th>\n",
       "      <td>1.5</td>\n",
       "      <td>NaN</td>\n",
       "      <td>3.5</td>\n",
       "    </tr>\n",
       "    <tr>\n",
       "      <th>2025-01-01 00:05:00</th>\n",
       "      <td>NaN</td>\n",
       "      <td>2.6</td>\n",
       "      <td>3.6</td>\n",
       "    </tr>\n",
       "    <tr>\n",
       "      <th>2025-01-01 00:06:00</th>\n",
       "      <td>1.7</td>\n",
       "      <td>2.7</td>\n",
       "      <td>NaN</td>\n",
       "    </tr>\n",
       "    <tr>\n",
       "      <th>2025-01-01 00:07:00</th>\n",
       "      <td>1.8</td>\n",
       "      <td>NaN</td>\n",
       "      <td>3.8</td>\n",
       "    </tr>\n",
       "    <tr>\n",
       "      <th>2025-01-01 00:08:00</th>\n",
       "      <td>1.9</td>\n",
       "      <td>2.9</td>\n",
       "      <td>3.9</td>\n",
       "    </tr>\n",
       "    <tr>\n",
       "      <th>2025-01-01 00:09:00</th>\n",
       "      <td>2.0</td>\n",
       "      <td>3.0</td>\n",
       "      <td>4.0</td>\n",
       "    </tr>\n",
       "  </tbody>\n",
       "</table>\n",
       "</div>"
      ],
      "text/plain": [
       "                     sensor_1  sensor_2  sensor_3\n",
       "2025-01-01 00:00:00       1.1       2.1       NaN\n",
       "2025-01-01 00:01:00       1.2       NaN       3.2\n",
       "2025-01-01 00:02:00       NaN       2.3       3.3\n",
       "2025-01-01 00:03:00       1.4       2.4       NaN\n",
       "2025-01-01 00:04:00       1.5       NaN       3.5\n",
       "2025-01-01 00:05:00       NaN       2.6       3.6\n",
       "2025-01-01 00:06:00       1.7       2.7       NaN\n",
       "2025-01-01 00:07:00       1.8       NaN       3.8\n",
       "2025-01-01 00:08:00       1.9       2.9       3.9\n",
       "2025-01-01 00:09:00       2.0       3.0       4.0"
      ]
     },
     "execution_count": 48,
     "metadata": {},
     "output_type": "execute_result"
    }
   ],
   "source": [
    "df"
   ]
  },
  {
   "cell_type": "raw",
   "id": "97dea49c-6b9a-45ab-b325-8ec23a33a5c5",
   "metadata": {},
   "source": [
    "Detect: Find out how many missing readings exist in each sensor column."
   ]
  },
  {
   "cell_type": "code",
   "execution_count": 49,
   "id": "8cdcc234-e9b0-4dcd-96a0-4742ed0aafd7",
   "metadata": {},
   "outputs": [
    {
     "data": {
      "text/plain": [
       "sensor_1    2\n",
       "sensor_2    3\n",
       "sensor_3    3\n",
       "dtype: int64"
      ]
     },
     "execution_count": 49,
     "metadata": {},
     "output_type": "execute_result"
    }
   ],
   "source": [
    "df.isna().sum()"
   ]
  },
  {
   "cell_type": "raw",
   "id": "6bbf6163-b8c0-4c84-979e-fa723e0d3a0a",
   "metadata": {},
   "source": [
    "Fill: Use forward fill (ffill) to propagate the last valid reading."
   ]
  },
  {
   "cell_type": "code",
   "execution_count": 50,
   "id": "97846945-3c01-4eea-9d3f-648d9dbaac04",
   "metadata": {},
   "outputs": [],
   "source": [
    "df = df.ffill()"
   ]
  },
  {
   "cell_type": "code",
   "execution_count": 51,
   "id": "ec2f29ab-ba8d-4ad2-8b03-698f663282a1",
   "metadata": {},
   "outputs": [
    {
     "data": {
      "text/html": [
       "<div>\n",
       "<style scoped>\n",
       "    .dataframe tbody tr th:only-of-type {\n",
       "        vertical-align: middle;\n",
       "    }\n",
       "\n",
       "    .dataframe tbody tr th {\n",
       "        vertical-align: top;\n",
       "    }\n",
       "\n",
       "    .dataframe thead th {\n",
       "        text-align: right;\n",
       "    }\n",
       "</style>\n",
       "<table border=\"1\" class=\"dataframe\">\n",
       "  <thead>\n",
       "    <tr style=\"text-align: right;\">\n",
       "      <th></th>\n",
       "      <th>sensor_1</th>\n",
       "      <th>sensor_2</th>\n",
       "      <th>sensor_3</th>\n",
       "    </tr>\n",
       "  </thead>\n",
       "  <tbody>\n",
       "    <tr>\n",
       "      <th>2025-01-01 00:00:00</th>\n",
       "      <td>1.1</td>\n",
       "      <td>2.1</td>\n",
       "      <td>NaN</td>\n",
       "    </tr>\n",
       "    <tr>\n",
       "      <th>2025-01-01 00:01:00</th>\n",
       "      <td>1.2</td>\n",
       "      <td>2.1</td>\n",
       "      <td>3.2</td>\n",
       "    </tr>\n",
       "    <tr>\n",
       "      <th>2025-01-01 00:02:00</th>\n",
       "      <td>1.2</td>\n",
       "      <td>2.3</td>\n",
       "      <td>3.3</td>\n",
       "    </tr>\n",
       "    <tr>\n",
       "      <th>2025-01-01 00:03:00</th>\n",
       "      <td>1.4</td>\n",
       "      <td>2.4</td>\n",
       "      <td>3.3</td>\n",
       "    </tr>\n",
       "    <tr>\n",
       "      <th>2025-01-01 00:04:00</th>\n",
       "      <td>1.5</td>\n",
       "      <td>2.4</td>\n",
       "      <td>3.5</td>\n",
       "    </tr>\n",
       "    <tr>\n",
       "      <th>2025-01-01 00:05:00</th>\n",
       "      <td>1.5</td>\n",
       "      <td>2.6</td>\n",
       "      <td>3.6</td>\n",
       "    </tr>\n",
       "    <tr>\n",
       "      <th>2025-01-01 00:06:00</th>\n",
       "      <td>1.7</td>\n",
       "      <td>2.7</td>\n",
       "      <td>3.6</td>\n",
       "    </tr>\n",
       "    <tr>\n",
       "      <th>2025-01-01 00:07:00</th>\n",
       "      <td>1.8</td>\n",
       "      <td>2.7</td>\n",
       "      <td>3.8</td>\n",
       "    </tr>\n",
       "    <tr>\n",
       "      <th>2025-01-01 00:08:00</th>\n",
       "      <td>1.9</td>\n",
       "      <td>2.9</td>\n",
       "      <td>3.9</td>\n",
       "    </tr>\n",
       "    <tr>\n",
       "      <th>2025-01-01 00:09:00</th>\n",
       "      <td>2.0</td>\n",
       "      <td>3.0</td>\n",
       "      <td>4.0</td>\n",
       "    </tr>\n",
       "  </tbody>\n",
       "</table>\n",
       "</div>"
      ],
      "text/plain": [
       "                     sensor_1  sensor_2  sensor_3\n",
       "2025-01-01 00:00:00       1.1       2.1       NaN\n",
       "2025-01-01 00:01:00       1.2       2.1       3.2\n",
       "2025-01-01 00:02:00       1.2       2.3       3.3\n",
       "2025-01-01 00:03:00       1.4       2.4       3.3\n",
       "2025-01-01 00:04:00       1.5       2.4       3.5\n",
       "2025-01-01 00:05:00       1.5       2.6       3.6\n",
       "2025-01-01 00:06:00       1.7       2.7       3.6\n",
       "2025-01-01 00:07:00       1.8       2.7       3.8\n",
       "2025-01-01 00:08:00       1.9       2.9       3.9\n",
       "2025-01-01 00:09:00       2.0       3.0       4.0"
      ]
     },
     "execution_count": 51,
     "metadata": {},
     "output_type": "execute_result"
    }
   ],
   "source": [
    "df"
   ]
  },
  {
   "cell_type": "raw",
   "id": "13e78131-8cf5-471e-a7ab-0464dc5dba61",
   "metadata": {},
   "source": [
    "Verify: Confirm that there are no remaining missing values (or see if any still persist)"
   ]
  },
  {
   "cell_type": "code",
   "execution_count": 52,
   "id": "18ac6ad7-fafc-4d70-8a32-3be4e000bf46",
   "metadata": {},
   "outputs": [
    {
     "data": {
      "text/plain": [
       "sensor_1    0\n",
       "sensor_2    0\n",
       "sensor_3    1\n",
       "dtype: int64"
      ]
     },
     "execution_count": 52,
     "metadata": {},
     "output_type": "execute_result"
    }
   ],
   "source": [
    "df.isna().sum()"
   ]
  },
  {
   "cell_type": "code",
   "execution_count": 53,
   "id": "07a8ede6-e14d-490d-a3cf-d37abc770047",
   "metadata": {},
   "outputs": [],
   "source": [
    "survey_data = {\n",
    "    'Q1': [5, np.nan, 3, 4, np.nan],\n",
    "    'Q2': [np.nan, 4, 3, np.nan, np.nan],\n",
    "    'Q3': [2, 4, np.nan, 5, np.nan],\n",
    "    'Q4': [np.nan, 3, np.nan, 4, np.nan]\n",
    "}\n",
    "survey = pd.DataFrame(survey_data)"
   ]
  },
  {
   "cell_type": "code",
   "execution_count": 54,
   "id": "152ae0f3-e9be-4020-be0b-542dbccf7f70",
   "metadata": {},
   "outputs": [
    {
     "data": {
      "text/html": [
       "<div>\n",
       "<style scoped>\n",
       "    .dataframe tbody tr th:only-of-type {\n",
       "        vertical-align: middle;\n",
       "    }\n",
       "\n",
       "    .dataframe tbody tr th {\n",
       "        vertical-align: top;\n",
       "    }\n",
       "\n",
       "    .dataframe thead th {\n",
       "        text-align: right;\n",
       "    }\n",
       "</style>\n",
       "<table border=\"1\" class=\"dataframe\">\n",
       "  <thead>\n",
       "    <tr style=\"text-align: right;\">\n",
       "      <th></th>\n",
       "      <th>Q1</th>\n",
       "      <th>Q2</th>\n",
       "      <th>Q3</th>\n",
       "      <th>Q4</th>\n",
       "    </tr>\n",
       "  </thead>\n",
       "  <tbody>\n",
       "    <tr>\n",
       "      <th>0</th>\n",
       "      <td>5.0</td>\n",
       "      <td>NaN</td>\n",
       "      <td>2.0</td>\n",
       "      <td>NaN</td>\n",
       "    </tr>\n",
       "    <tr>\n",
       "      <th>1</th>\n",
       "      <td>NaN</td>\n",
       "      <td>4.0</td>\n",
       "      <td>4.0</td>\n",
       "      <td>3.0</td>\n",
       "    </tr>\n",
       "    <tr>\n",
       "      <th>2</th>\n",
       "      <td>3.0</td>\n",
       "      <td>3.0</td>\n",
       "      <td>NaN</td>\n",
       "      <td>NaN</td>\n",
       "    </tr>\n",
       "    <tr>\n",
       "      <th>3</th>\n",
       "      <td>4.0</td>\n",
       "      <td>NaN</td>\n",
       "      <td>5.0</td>\n",
       "      <td>4.0</td>\n",
       "    </tr>\n",
       "    <tr>\n",
       "      <th>4</th>\n",
       "      <td>NaN</td>\n",
       "      <td>NaN</td>\n",
       "      <td>NaN</td>\n",
       "      <td>NaN</td>\n",
       "    </tr>\n",
       "  </tbody>\n",
       "</table>\n",
       "</div>"
      ],
      "text/plain": [
       "    Q1   Q2   Q3   Q4\n",
       "0  5.0  NaN  2.0  NaN\n",
       "1  NaN  4.0  4.0  3.0\n",
       "2  3.0  3.0  NaN  NaN\n",
       "3  4.0  NaN  5.0  4.0\n",
       "4  NaN  NaN  NaN  NaN"
      ]
     },
     "execution_count": 54,
     "metadata": {},
     "output_type": "execute_result"
    }
   ],
   "source": [
    "survey"
   ]
  },
  {
   "cell_type": "raw",
   "id": "6aec2520-f065-4432-84d7-a79692810b1e",
   "metadata": {},
   "source": [
    "Detect: Identify rows with more than 50% missing responses."
   ]
  },
  {
   "cell_type": "code",
   "execution_count": 55,
   "id": "4afe45e4-8e47-451a-8740-dcc0faf6db2a",
   "metadata": {},
   "outputs": [
    {
     "data": {
      "text/html": [
       "<div>\n",
       "<style scoped>\n",
       "    .dataframe tbody tr th:only-of-type {\n",
       "        vertical-align: middle;\n",
       "    }\n",
       "\n",
       "    .dataframe tbody tr th {\n",
       "        vertical-align: top;\n",
       "    }\n",
       "\n",
       "    .dataframe thead th {\n",
       "        text-align: right;\n",
       "    }\n",
       "</style>\n",
       "<table border=\"1\" class=\"dataframe\">\n",
       "  <thead>\n",
       "    <tr style=\"text-align: right;\">\n",
       "      <th></th>\n",
       "      <th>Q1</th>\n",
       "      <th>Q2</th>\n",
       "      <th>Q3</th>\n",
       "      <th>Q4</th>\n",
       "    </tr>\n",
       "  </thead>\n",
       "  <tbody>\n",
       "    <tr>\n",
       "      <th>0</th>\n",
       "      <td>5.0</td>\n",
       "      <td>NaN</td>\n",
       "      <td>2.0</td>\n",
       "      <td>NaN</td>\n",
       "    </tr>\n",
       "    <tr>\n",
       "      <th>1</th>\n",
       "      <td>NaN</td>\n",
       "      <td>4.0</td>\n",
       "      <td>4.0</td>\n",
       "      <td>3.0</td>\n",
       "    </tr>\n",
       "    <tr>\n",
       "      <th>2</th>\n",
       "      <td>3.0</td>\n",
       "      <td>3.0</td>\n",
       "      <td>NaN</td>\n",
       "      <td>NaN</td>\n",
       "    </tr>\n",
       "    <tr>\n",
       "      <th>3</th>\n",
       "      <td>4.0</td>\n",
       "      <td>NaN</td>\n",
       "      <td>5.0</td>\n",
       "      <td>4.0</td>\n",
       "    </tr>\n",
       "  </tbody>\n",
       "</table>\n",
       "</div>"
      ],
      "text/plain": [
       "    Q1   Q2   Q3   Q4\n",
       "0  5.0  NaN  2.0  NaN\n",
       "1  NaN  4.0  4.0  3.0\n",
       "2  3.0  3.0  NaN  NaN\n",
       "3  4.0  NaN  5.0  4.0"
      ]
     },
     "execution_count": 55,
     "metadata": {},
     "output_type": "execute_result"
    }
   ],
   "source": [
    "survey.dropna(thresh = len(survey.columns)/2)"
   ]
  },
  {
   "cell_type": "code",
   "execution_count": null,
   "id": "55827bb2-cb44-4683-ae00-ce3003a55389",
   "metadata": {},
   "outputs": [],
   "source": []
  },
  {
   "cell_type": "markdown",
   "id": "404f5ef6-0812-4b64-9946-698e385ef13c",
   "metadata": {},
   "source": [
    "## 7.2 Data Transformation"
   ]
  },
  {
   "cell_type": "markdown",
   "id": "27287555-9940-49bf-8d6c-a1e9a7629615",
   "metadata": {},
   "source": [
    "#### Detecting Duplicates"
   ]
  },
  {
   "cell_type": "raw",
   "id": "30a0db93-ad57-4d24-9307-00a7f5236e70",
   "metadata": {},
   "source": [
    "Before removing duplicates, it’s useful to identify them. Pandas provides the duplicated() method, which returns a Boolean Series indicating whether each row is a duplicate."
   ]
  },
  {
   "cell_type": "raw",
   "id": "6c72ba2c-0410-4163-a12f-b6c5548abeeb",
   "metadata": {},
   "source": [
    "Syntax:\n",
    "DataFrame.duplicated(subset=None, keep='first')\n",
    "\n",
    "subset: A list of column names to consider when identifying duplicates. If omitted, all columns are used.\n",
    "keep: Determines which duplicates (if any) to mark as False:\n",
    "'first' (default): Mark duplicates as True except for the first occurrence.\n",
    "'last': Mark duplicates as True except for the last occurrence.\n",
    " False: Mark all duplicates as True."
   ]
  },
  {
   "cell_type": "code",
   "execution_count": 56,
   "id": "c08f84dc-e3ae-41ad-a6cf-eacdb3941c1d",
   "metadata": {},
   "outputs": [],
   "source": [
    "data = {\n",
    "    'customer_id': [1, 2, 3, 2, 1, 4],\n",
    "    'name': ['Alice', 'Bob', 'Charlie', 'Bob', 'Alice', 'David'],\n",
    "    'email': [\n",
    "        'alice@example.com', \n",
    "        'bob@example.com', \n",
    "        'charlie@example.com', \n",
    "        'bob@example.com', \n",
    "        'alice@example.com', \n",
    "        'david@example.com'\n",
    "    ]\n",
    "}\n",
    "df = pd.DataFrame(data)"
   ]
  },
  {
   "cell_type": "code",
   "execution_count": 57,
   "id": "5b21420a-5938-4fd6-9e1f-dd8b6c79d75a",
   "metadata": {},
   "outputs": [
    {
     "data": {
      "text/html": [
       "<div>\n",
       "<style scoped>\n",
       "    .dataframe tbody tr th:only-of-type {\n",
       "        vertical-align: middle;\n",
       "    }\n",
       "\n",
       "    .dataframe tbody tr th {\n",
       "        vertical-align: top;\n",
       "    }\n",
       "\n",
       "    .dataframe thead th {\n",
       "        text-align: right;\n",
       "    }\n",
       "</style>\n",
       "<table border=\"1\" class=\"dataframe\">\n",
       "  <thead>\n",
       "    <tr style=\"text-align: right;\">\n",
       "      <th></th>\n",
       "      <th>customer_id</th>\n",
       "      <th>name</th>\n",
       "      <th>email</th>\n",
       "    </tr>\n",
       "  </thead>\n",
       "  <tbody>\n",
       "    <tr>\n",
       "      <th>0</th>\n",
       "      <td>1</td>\n",
       "      <td>Alice</td>\n",
       "      <td>alice@example.com</td>\n",
       "    </tr>\n",
       "    <tr>\n",
       "      <th>1</th>\n",
       "      <td>2</td>\n",
       "      <td>Bob</td>\n",
       "      <td>bob@example.com</td>\n",
       "    </tr>\n",
       "    <tr>\n",
       "      <th>2</th>\n",
       "      <td>3</td>\n",
       "      <td>Charlie</td>\n",
       "      <td>charlie@example.com</td>\n",
       "    </tr>\n",
       "    <tr>\n",
       "      <th>3</th>\n",
       "      <td>2</td>\n",
       "      <td>Bob</td>\n",
       "      <td>bob@example.com</td>\n",
       "    </tr>\n",
       "    <tr>\n",
       "      <th>4</th>\n",
       "      <td>1</td>\n",
       "      <td>Alice</td>\n",
       "      <td>alice@example.com</td>\n",
       "    </tr>\n",
       "    <tr>\n",
       "      <th>5</th>\n",
       "      <td>4</td>\n",
       "      <td>David</td>\n",
       "      <td>david@example.com</td>\n",
       "    </tr>\n",
       "  </tbody>\n",
       "</table>\n",
       "</div>"
      ],
      "text/plain": [
       "   customer_id     name                email\n",
       "0            1    Alice    alice@example.com\n",
       "1            2      Bob      bob@example.com\n",
       "2            3  Charlie  charlie@example.com\n",
       "3            2      Bob      bob@example.com\n",
       "4            1    Alice    alice@example.com\n",
       "5            4    David    david@example.com"
      ]
     },
     "execution_count": 57,
     "metadata": {},
     "output_type": "execute_result"
    }
   ],
   "source": [
    "df"
   ]
  },
  {
   "cell_type": "code",
   "execution_count": 58,
   "id": "6f1e6fcf-0bb3-44e1-a947-b050530cd788",
   "metadata": {},
   "outputs": [
    {
     "data": {
      "text/plain": [
       "np.int64(2)"
      ]
     },
     "execution_count": 58,
     "metadata": {},
     "output_type": "execute_result"
    }
   ],
   "source": [
    "# Identify duplicate rows based on all columns (default)\n",
    "df.duplicated().sum()"
   ]
  },
  {
   "cell_type": "code",
   "execution_count": 59,
   "id": "58738575-563e-4088-8c5a-cfd78aacf2a2",
   "metadata": {},
   "outputs": [
    {
     "data": {
      "text/plain": [
       "0     True\n",
       "1     True\n",
       "2    False\n",
       "3     True\n",
       "4     True\n",
       "5    False\n",
       "dtype: bool"
      ]
     },
     "execution_count": 59,
     "metadata": {},
     "output_type": "execute_result"
    }
   ],
   "source": [
    "# Identify duplicates based on 'customer_id' and 'email'\n",
    "df.duplicated(subset = ['customer_id', 'email'], keep = False)"
   ]
  },
  {
   "cell_type": "markdown",
   "id": "e905292d-f960-4a28-8daf-772b3fb12072",
   "metadata": {},
   "source": [
    "####  Removing Duplicates with drop_duplicates()"
   ]
  },
  {
   "cell_type": "raw",
   "id": "5371167c-d1e0-4ba6-b55f-48f88cfdb7ee",
   "metadata": {},
   "source": [
    "Syntax:\n",
    "DataFrame.drop_duplicates(subset=None, keep='first', inplace=False)\n",
    "\n",
    "subset: A list of column names to consider when identifying duplicates. If omitted, it considers all columns.\n",
    "keep: Specifies which duplicate to keep:\n",
    "'first' (default): Keeps the first occurrence and removes subsequent duplicates.\n",
    "'last': Keeps the last occurrence.\n",
    "False: Removes all duplicates.\n",
    "inplace: If True, the operation modifies the DataFrame in place and returns None."
   ]
  },
  {
   "cell_type": "code",
   "execution_count": 60,
   "id": "35d1738d-2c22-44f7-9cfd-bfaf3fb98516",
   "metadata": {},
   "outputs": [
    {
     "data": {
      "text/html": [
       "<div>\n",
       "<style scoped>\n",
       "    .dataframe tbody tr th:only-of-type {\n",
       "        vertical-align: middle;\n",
       "    }\n",
       "\n",
       "    .dataframe tbody tr th {\n",
       "        vertical-align: top;\n",
       "    }\n",
       "\n",
       "    .dataframe thead th {\n",
       "        text-align: right;\n",
       "    }\n",
       "</style>\n",
       "<table border=\"1\" class=\"dataframe\">\n",
       "  <thead>\n",
       "    <tr style=\"text-align: right;\">\n",
       "      <th></th>\n",
       "      <th>customer_id</th>\n",
       "      <th>name</th>\n",
       "      <th>email</th>\n",
       "    </tr>\n",
       "  </thead>\n",
       "  <tbody>\n",
       "    <tr>\n",
       "      <th>0</th>\n",
       "      <td>1</td>\n",
       "      <td>Alice</td>\n",
       "      <td>alice@example.com</td>\n",
       "    </tr>\n",
       "    <tr>\n",
       "      <th>1</th>\n",
       "      <td>2</td>\n",
       "      <td>Bob</td>\n",
       "      <td>bob@example.com</td>\n",
       "    </tr>\n",
       "    <tr>\n",
       "      <th>2</th>\n",
       "      <td>3</td>\n",
       "      <td>Charlie</td>\n",
       "      <td>charlie@example.com</td>\n",
       "    </tr>\n",
       "    <tr>\n",
       "      <th>3</th>\n",
       "      <td>2</td>\n",
       "      <td>Bob</td>\n",
       "      <td>bob@example.com</td>\n",
       "    </tr>\n",
       "    <tr>\n",
       "      <th>4</th>\n",
       "      <td>1</td>\n",
       "      <td>Alice</td>\n",
       "      <td>alice@example.com</td>\n",
       "    </tr>\n",
       "    <tr>\n",
       "      <th>5</th>\n",
       "      <td>4</td>\n",
       "      <td>David</td>\n",
       "      <td>david@example.com</td>\n",
       "    </tr>\n",
       "  </tbody>\n",
       "</table>\n",
       "</div>"
      ],
      "text/plain": [
       "   customer_id     name                email\n",
       "0            1    Alice    alice@example.com\n",
       "1            2      Bob      bob@example.com\n",
       "2            3  Charlie  charlie@example.com\n",
       "3            2      Bob      bob@example.com\n",
       "4            1    Alice    alice@example.com\n",
       "5            4    David    david@example.com"
      ]
     },
     "execution_count": 60,
     "metadata": {},
     "output_type": "execute_result"
    }
   ],
   "source": [
    "df"
   ]
  },
  {
   "cell_type": "code",
   "execution_count": 61,
   "id": "04733a83-c75e-4083-af3e-e30ecc4222ff",
   "metadata": {},
   "outputs": [
    {
     "data": {
      "text/plain": [
       "np.int64(2)"
      ]
     },
     "execution_count": 61,
     "metadata": {},
     "output_type": "execute_result"
    }
   ],
   "source": [
    "df.duplicated().sum()"
   ]
  },
  {
   "cell_type": "code",
   "execution_count": 62,
   "id": "5cfb85c9-caa7-4f1c-a16f-28455024e094",
   "metadata": {},
   "outputs": [],
   "source": [
    "df_unique = df.drop_duplicates()"
   ]
  },
  {
   "cell_type": "code",
   "execution_count": 63,
   "id": "819aaed8-1b3c-446c-a567-5c77b175a418",
   "metadata": {},
   "outputs": [
    {
     "data": {
      "text/html": [
       "<div>\n",
       "<style scoped>\n",
       "    .dataframe tbody tr th:only-of-type {\n",
       "        vertical-align: middle;\n",
       "    }\n",
       "\n",
       "    .dataframe tbody tr th {\n",
       "        vertical-align: top;\n",
       "    }\n",
       "\n",
       "    .dataframe thead th {\n",
       "        text-align: right;\n",
       "    }\n",
       "</style>\n",
       "<table border=\"1\" class=\"dataframe\">\n",
       "  <thead>\n",
       "    <tr style=\"text-align: right;\">\n",
       "      <th></th>\n",
       "      <th>customer_id</th>\n",
       "      <th>name</th>\n",
       "      <th>email</th>\n",
       "    </tr>\n",
       "  </thead>\n",
       "  <tbody>\n",
       "    <tr>\n",
       "      <th>0</th>\n",
       "      <td>1</td>\n",
       "      <td>Alice</td>\n",
       "      <td>alice@example.com</td>\n",
       "    </tr>\n",
       "    <tr>\n",
       "      <th>1</th>\n",
       "      <td>2</td>\n",
       "      <td>Bob</td>\n",
       "      <td>bob@example.com</td>\n",
       "    </tr>\n",
       "    <tr>\n",
       "      <th>2</th>\n",
       "      <td>3</td>\n",
       "      <td>Charlie</td>\n",
       "      <td>charlie@example.com</td>\n",
       "    </tr>\n",
       "    <tr>\n",
       "      <th>5</th>\n",
       "      <td>4</td>\n",
       "      <td>David</td>\n",
       "      <td>david@example.com</td>\n",
       "    </tr>\n",
       "  </tbody>\n",
       "</table>\n",
       "</div>"
      ],
      "text/plain": [
       "   customer_id     name                email\n",
       "0            1    Alice    alice@example.com\n",
       "1            2      Bob      bob@example.com\n",
       "2            3  Charlie  charlie@example.com\n",
       "5            4    David    david@example.com"
      ]
     },
     "execution_count": 63,
     "metadata": {},
     "output_type": "execute_result"
    }
   ],
   "source": [
    "df_unique"
   ]
  },
  {
   "cell_type": "code",
   "execution_count": 64,
   "id": "e98797dd-9c8c-46f0-aa91-eddcfa076203",
   "metadata": {},
   "outputs": [],
   "source": [
    "orders_data = {\n",
    "    'order_id': [101, 102, 103, 102, 104, 105, 101],\n",
    "    'customer_id': [1001, 1002, 1003, 1002, 1004, 1005, 1001],\n",
    "    'order_amount': [250.50, 300.00, 150.00, 300.00, 400.75, 120.00, 250.50],\n",
    "    'order_date': [\n",
    "        '2025-01-01', '2025-01-02', '2025-01-03',\n",
    "        '2025-01-02', '2025-01-04', '2025-01-05', '2025-01-01'\n",
    "    ]\n",
    "}\n",
    "orders = pd.DataFrame(orders_data)\n",
    "# Convert order_date to datetime\n",
    "orders['order_date'] = pd.to_datetime(orders['order_date'])"
   ]
  },
  {
   "cell_type": "code",
   "execution_count": 65,
   "id": "f8c6ecab-ad8e-414a-b0cb-5bf62d9b800b",
   "metadata": {},
   "outputs": [
    {
     "data": {
      "text/html": [
       "<div>\n",
       "<style scoped>\n",
       "    .dataframe tbody tr th:only-of-type {\n",
       "        vertical-align: middle;\n",
       "    }\n",
       "\n",
       "    .dataframe tbody tr th {\n",
       "        vertical-align: top;\n",
       "    }\n",
       "\n",
       "    .dataframe thead th {\n",
       "        text-align: right;\n",
       "    }\n",
       "</style>\n",
       "<table border=\"1\" class=\"dataframe\">\n",
       "  <thead>\n",
       "    <tr style=\"text-align: right;\">\n",
       "      <th></th>\n",
       "      <th>order_id</th>\n",
       "      <th>customer_id</th>\n",
       "      <th>order_amount</th>\n",
       "      <th>order_date</th>\n",
       "    </tr>\n",
       "  </thead>\n",
       "  <tbody>\n",
       "    <tr>\n",
       "      <th>0</th>\n",
       "      <td>101</td>\n",
       "      <td>1001</td>\n",
       "      <td>250.50</td>\n",
       "      <td>2025-01-01</td>\n",
       "    </tr>\n",
       "    <tr>\n",
       "      <th>1</th>\n",
       "      <td>102</td>\n",
       "      <td>1002</td>\n",
       "      <td>300.00</td>\n",
       "      <td>2025-01-02</td>\n",
       "    </tr>\n",
       "    <tr>\n",
       "      <th>2</th>\n",
       "      <td>103</td>\n",
       "      <td>1003</td>\n",
       "      <td>150.00</td>\n",
       "      <td>2025-01-03</td>\n",
       "    </tr>\n",
       "    <tr>\n",
       "      <th>3</th>\n",
       "      <td>102</td>\n",
       "      <td>1002</td>\n",
       "      <td>300.00</td>\n",
       "      <td>2025-01-02</td>\n",
       "    </tr>\n",
       "    <tr>\n",
       "      <th>4</th>\n",
       "      <td>104</td>\n",
       "      <td>1004</td>\n",
       "      <td>400.75</td>\n",
       "      <td>2025-01-04</td>\n",
       "    </tr>\n",
       "    <tr>\n",
       "      <th>5</th>\n",
       "      <td>105</td>\n",
       "      <td>1005</td>\n",
       "      <td>120.00</td>\n",
       "      <td>2025-01-05</td>\n",
       "    </tr>\n",
       "    <tr>\n",
       "      <th>6</th>\n",
       "      <td>101</td>\n",
       "      <td>1001</td>\n",
       "      <td>250.50</td>\n",
       "      <td>2025-01-01</td>\n",
       "    </tr>\n",
       "  </tbody>\n",
       "</table>\n",
       "</div>"
      ],
      "text/plain": [
       "   order_id  customer_id  order_amount order_date\n",
       "0       101         1001        250.50 2025-01-01\n",
       "1       102         1002        300.00 2025-01-02\n",
       "2       103         1003        150.00 2025-01-03\n",
       "3       102         1002        300.00 2025-01-02\n",
       "4       104         1004        400.75 2025-01-04\n",
       "5       105         1005        120.00 2025-01-05\n",
       "6       101         1001        250.50 2025-01-01"
      ]
     },
     "execution_count": 65,
     "metadata": {},
     "output_type": "execute_result"
    }
   ],
   "source": [
    "orders"
   ]
  },
  {
   "cell_type": "code",
   "execution_count": 66,
   "id": "12785cef-1ebf-40e0-8a9d-c9522b462357",
   "metadata": {},
   "outputs": [],
   "source": [
    "cleaned_orders = orders.drop_duplicates(subset = ['order_id', 'customer_id'])"
   ]
  },
  {
   "cell_type": "code",
   "execution_count": 67,
   "id": "77771e6b-a01e-4576-98fe-77aac90be04e",
   "metadata": {},
   "outputs": [
    {
     "data": {
      "text/html": [
       "<div>\n",
       "<style scoped>\n",
       "    .dataframe tbody tr th:only-of-type {\n",
       "        vertical-align: middle;\n",
       "    }\n",
       "\n",
       "    .dataframe tbody tr th {\n",
       "        vertical-align: top;\n",
       "    }\n",
       "\n",
       "    .dataframe thead th {\n",
       "        text-align: right;\n",
       "    }\n",
       "</style>\n",
       "<table border=\"1\" class=\"dataframe\">\n",
       "  <thead>\n",
       "    <tr style=\"text-align: right;\">\n",
       "      <th></th>\n",
       "      <th>order_id</th>\n",
       "      <th>customer_id</th>\n",
       "      <th>order_amount</th>\n",
       "      <th>order_date</th>\n",
       "    </tr>\n",
       "  </thead>\n",
       "  <tbody>\n",
       "    <tr>\n",
       "      <th>0</th>\n",
       "      <td>101</td>\n",
       "      <td>1001</td>\n",
       "      <td>250.50</td>\n",
       "      <td>2025-01-01</td>\n",
       "    </tr>\n",
       "    <tr>\n",
       "      <th>1</th>\n",
       "      <td>102</td>\n",
       "      <td>1002</td>\n",
       "      <td>300.00</td>\n",
       "      <td>2025-01-02</td>\n",
       "    </tr>\n",
       "    <tr>\n",
       "      <th>2</th>\n",
       "      <td>103</td>\n",
       "      <td>1003</td>\n",
       "      <td>150.00</td>\n",
       "      <td>2025-01-03</td>\n",
       "    </tr>\n",
       "    <tr>\n",
       "      <th>4</th>\n",
       "      <td>104</td>\n",
       "      <td>1004</td>\n",
       "      <td>400.75</td>\n",
       "      <td>2025-01-04</td>\n",
       "    </tr>\n",
       "    <tr>\n",
       "      <th>5</th>\n",
       "      <td>105</td>\n",
       "      <td>1005</td>\n",
       "      <td>120.00</td>\n",
       "      <td>2025-01-05</td>\n",
       "    </tr>\n",
       "  </tbody>\n",
       "</table>\n",
       "</div>"
      ],
      "text/plain": [
       "   order_id  customer_id  order_amount order_date\n",
       "0       101         1001        250.50 2025-01-01\n",
       "1       102         1002        300.00 2025-01-02\n",
       "2       103         1003        150.00 2025-01-03\n",
       "4       104         1004        400.75 2025-01-04\n",
       "5       105         1005        120.00 2025-01-05"
      ]
     },
     "execution_count": 67,
     "metadata": {},
     "output_type": "execute_result"
    }
   ],
   "source": [
    "cleaned_orders"
   ]
  },
  {
   "cell_type": "code",
   "execution_count": 68,
   "id": "87d0b70f-64ce-40ad-bfd0-53675b5b4f0e",
   "metadata": {},
   "outputs": [],
   "source": [
    "# removing all duplicated orders\n",
    "cleaned_orders = orders.drop_duplicates(subset = ['order_id', 'customer_id'], keep = False)"
   ]
  },
  {
   "cell_type": "code",
   "execution_count": 69,
   "id": "1ef2a1aa-4340-4296-b691-04497e2f3d3b",
   "metadata": {},
   "outputs": [
    {
     "data": {
      "text/html": [
       "<div>\n",
       "<style scoped>\n",
       "    .dataframe tbody tr th:only-of-type {\n",
       "        vertical-align: middle;\n",
       "    }\n",
       "\n",
       "    .dataframe tbody tr th {\n",
       "        vertical-align: top;\n",
       "    }\n",
       "\n",
       "    .dataframe thead th {\n",
       "        text-align: right;\n",
       "    }\n",
       "</style>\n",
       "<table border=\"1\" class=\"dataframe\">\n",
       "  <thead>\n",
       "    <tr style=\"text-align: right;\">\n",
       "      <th></th>\n",
       "      <th>order_id</th>\n",
       "      <th>customer_id</th>\n",
       "      <th>order_amount</th>\n",
       "      <th>order_date</th>\n",
       "    </tr>\n",
       "  </thead>\n",
       "  <tbody>\n",
       "    <tr>\n",
       "      <th>2</th>\n",
       "      <td>103</td>\n",
       "      <td>1003</td>\n",
       "      <td>150.00</td>\n",
       "      <td>2025-01-03</td>\n",
       "    </tr>\n",
       "    <tr>\n",
       "      <th>4</th>\n",
       "      <td>104</td>\n",
       "      <td>1004</td>\n",
       "      <td>400.75</td>\n",
       "      <td>2025-01-04</td>\n",
       "    </tr>\n",
       "    <tr>\n",
       "      <th>5</th>\n",
       "      <td>105</td>\n",
       "      <td>1005</td>\n",
       "      <td>120.00</td>\n",
       "      <td>2025-01-05</td>\n",
       "    </tr>\n",
       "  </tbody>\n",
       "</table>\n",
       "</div>"
      ],
      "text/plain": [
       "   order_id  customer_id  order_amount order_date\n",
       "2       103         1003        150.00 2025-01-03\n",
       "4       104         1004        400.75 2025-01-04\n",
       "5       105         1005        120.00 2025-01-05"
      ]
     },
     "execution_count": 69,
     "metadata": {},
     "output_type": "execute_result"
    }
   ],
   "source": [
    "cleaned_orders"
   ]
  },
  {
   "cell_type": "code",
   "execution_count": null,
   "id": "7deaf0c4-29d7-4997-baa7-e91c5d038d44",
   "metadata": {},
   "outputs": [],
   "source": []
  },
  {
   "cell_type": "markdown",
   "id": "ae705497-20b0-4c4f-8fb7-b708beae637a",
   "metadata": {},
   "source": [
    "####  Transforming Data Using a Function or Mapping"
   ]
  },
  {
   "cell_type": "code",
   "execution_count": 70,
   "id": "97700e56-96d6-4eb1-810d-d995b4e6765f",
   "metadata": {},
   "outputs": [],
   "source": [
    "df = pd.DataFrame({'Satisfaction_Score': [1, 3, 5, 2, 4]})\n",
    "\n",
    "# Define a mapping for satisfaction levels\n",
    "satisfaction_map = {\n",
    "    1: 'Very Unsatisfied',\n",
    "    2: 'Unsatisfied',\n",
    "    3: 'Neutral',\n",
    "    4: 'Satisfied',\n",
    "    5: 'Very Satisfied'\n",
    "}"
   ]
  },
  {
   "cell_type": "code",
   "execution_count": 71,
   "id": "2218b3ca-1f16-413c-a3b8-2377e4812482",
   "metadata": {},
   "outputs": [
    {
     "data": {
      "text/html": [
       "<div>\n",
       "<style scoped>\n",
       "    .dataframe tbody tr th:only-of-type {\n",
       "        vertical-align: middle;\n",
       "    }\n",
       "\n",
       "    .dataframe tbody tr th {\n",
       "        vertical-align: top;\n",
       "    }\n",
       "\n",
       "    .dataframe thead th {\n",
       "        text-align: right;\n",
       "    }\n",
       "</style>\n",
       "<table border=\"1\" class=\"dataframe\">\n",
       "  <thead>\n",
       "    <tr style=\"text-align: right;\">\n",
       "      <th></th>\n",
       "      <th>Satisfaction_Score</th>\n",
       "    </tr>\n",
       "  </thead>\n",
       "  <tbody>\n",
       "    <tr>\n",
       "      <th>0</th>\n",
       "      <td>1</td>\n",
       "    </tr>\n",
       "    <tr>\n",
       "      <th>1</th>\n",
       "      <td>3</td>\n",
       "    </tr>\n",
       "    <tr>\n",
       "      <th>2</th>\n",
       "      <td>5</td>\n",
       "    </tr>\n",
       "    <tr>\n",
       "      <th>3</th>\n",
       "      <td>2</td>\n",
       "    </tr>\n",
       "    <tr>\n",
       "      <th>4</th>\n",
       "      <td>4</td>\n",
       "    </tr>\n",
       "  </tbody>\n",
       "</table>\n",
       "</div>"
      ],
      "text/plain": [
       "   Satisfaction_Score\n",
       "0                   1\n",
       "1                   3\n",
       "2                   5\n",
       "3                   2\n",
       "4                   4"
      ]
     },
     "execution_count": 71,
     "metadata": {},
     "output_type": "execute_result"
    }
   ],
   "source": [
    "df"
   ]
  },
  {
   "cell_type": "code",
   "execution_count": 72,
   "id": "11db2087-e627-4a85-ba58-f934521e90e2",
   "metadata": {},
   "outputs": [],
   "source": [
    "df['Satisfaction_Level'] = df['Satisfaction_Score'].map(satisfaction_map)"
   ]
  },
  {
   "cell_type": "code",
   "execution_count": 73,
   "id": "16d6d1df-fc5e-4b99-9f86-23d577e074a3",
   "metadata": {},
   "outputs": [
    {
     "data": {
      "text/html": [
       "<div>\n",
       "<style scoped>\n",
       "    .dataframe tbody tr th:only-of-type {\n",
       "        vertical-align: middle;\n",
       "    }\n",
       "\n",
       "    .dataframe tbody tr th {\n",
       "        vertical-align: top;\n",
       "    }\n",
       "\n",
       "    .dataframe thead th {\n",
       "        text-align: right;\n",
       "    }\n",
       "</style>\n",
       "<table border=\"1\" class=\"dataframe\">\n",
       "  <thead>\n",
       "    <tr style=\"text-align: right;\">\n",
       "      <th></th>\n",
       "      <th>Satisfaction_Score</th>\n",
       "      <th>Satisfaction_Level</th>\n",
       "    </tr>\n",
       "  </thead>\n",
       "  <tbody>\n",
       "    <tr>\n",
       "      <th>0</th>\n",
       "      <td>1</td>\n",
       "      <td>Very Unsatisfied</td>\n",
       "    </tr>\n",
       "    <tr>\n",
       "      <th>1</th>\n",
       "      <td>3</td>\n",
       "      <td>Neutral</td>\n",
       "    </tr>\n",
       "    <tr>\n",
       "      <th>2</th>\n",
       "      <td>5</td>\n",
       "      <td>Very Satisfied</td>\n",
       "    </tr>\n",
       "    <tr>\n",
       "      <th>3</th>\n",
       "      <td>2</td>\n",
       "      <td>Unsatisfied</td>\n",
       "    </tr>\n",
       "    <tr>\n",
       "      <th>4</th>\n",
       "      <td>4</td>\n",
       "      <td>Satisfied</td>\n",
       "    </tr>\n",
       "  </tbody>\n",
       "</table>\n",
       "</div>"
      ],
      "text/plain": [
       "   Satisfaction_Score Satisfaction_Level\n",
       "0                   1   Very Unsatisfied\n",
       "1                   3            Neutral\n",
       "2                   5     Very Satisfied\n",
       "3                   2        Unsatisfied\n",
       "4                   4          Satisfied"
      ]
     },
     "execution_count": 73,
     "metadata": {},
     "output_type": "execute_result"
    }
   ],
   "source": [
    "df"
   ]
  },
  {
   "cell_type": "code",
   "execution_count": 74,
   "id": "76355a95-6b83-4f21-afcf-2cb7759a13d8",
   "metadata": {},
   "outputs": [],
   "source": [
    "df = pd.DataFrame({'Sales': [100, 200, 300, 400, 500]})"
   ]
  },
  {
   "cell_type": "code",
   "execution_count": 75,
   "id": "8023d0e0-db45-4765-a2d7-ae6f43c1af00",
   "metadata": {},
   "outputs": [
    {
     "data": {
      "text/html": [
       "<div>\n",
       "<style scoped>\n",
       "    .dataframe tbody tr th:only-of-type {\n",
       "        vertical-align: middle;\n",
       "    }\n",
       "\n",
       "    .dataframe tbody tr th {\n",
       "        vertical-align: top;\n",
       "    }\n",
       "\n",
       "    .dataframe thead th {\n",
       "        text-align: right;\n",
       "    }\n",
       "</style>\n",
       "<table border=\"1\" class=\"dataframe\">\n",
       "  <thead>\n",
       "    <tr style=\"text-align: right;\">\n",
       "      <th></th>\n",
       "      <th>Sales</th>\n",
       "    </tr>\n",
       "  </thead>\n",
       "  <tbody>\n",
       "    <tr>\n",
       "      <th>0</th>\n",
       "      <td>100</td>\n",
       "    </tr>\n",
       "    <tr>\n",
       "      <th>1</th>\n",
       "      <td>200</td>\n",
       "    </tr>\n",
       "    <tr>\n",
       "      <th>2</th>\n",
       "      <td>300</td>\n",
       "    </tr>\n",
       "    <tr>\n",
       "      <th>3</th>\n",
       "      <td>400</td>\n",
       "    </tr>\n",
       "    <tr>\n",
       "      <th>4</th>\n",
       "      <td>500</td>\n",
       "    </tr>\n",
       "  </tbody>\n",
       "</table>\n",
       "</div>"
      ],
      "text/plain": [
       "   Sales\n",
       "0    100\n",
       "1    200\n",
       "2    300\n",
       "3    400\n",
       "4    500"
      ]
     },
     "execution_count": 75,
     "metadata": {},
     "output_type": "execute_result"
    }
   ],
   "source": [
    "df"
   ]
  },
  {
   "cell_type": "raw",
   "id": "8348d561-fcf6-43ed-9778-7cde0052795d",
   "metadata": {},
   "source": [
    "Suppose you have a column with monetary amounts, and you want to create a new feature representing the logarithm of these amounts to stabilize variance for a regression model."
   ]
  },
  {
   "cell_type": "code",
   "execution_count": 76,
   "id": "4722600a-3b98-404b-95cc-a85c2073e815",
   "metadata": {},
   "outputs": [],
   "source": [
    "# let's add the column for logarthimic value for sales\n",
    "df['Log_Sales'] = df['Sales'].apply(np.log)"
   ]
  },
  {
   "cell_type": "code",
   "execution_count": 77,
   "id": "188fb9b6-69d6-4a0c-a335-e1903d485be6",
   "metadata": {},
   "outputs": [
    {
     "data": {
      "text/html": [
       "<div>\n",
       "<style scoped>\n",
       "    .dataframe tbody tr th:only-of-type {\n",
       "        vertical-align: middle;\n",
       "    }\n",
       "\n",
       "    .dataframe tbody tr th {\n",
       "        vertical-align: top;\n",
       "    }\n",
       "\n",
       "    .dataframe thead th {\n",
       "        text-align: right;\n",
       "    }\n",
       "</style>\n",
       "<table border=\"1\" class=\"dataframe\">\n",
       "  <thead>\n",
       "    <tr style=\"text-align: right;\">\n",
       "      <th></th>\n",
       "      <th>Sales</th>\n",
       "      <th>Log_Sales</th>\n",
       "    </tr>\n",
       "  </thead>\n",
       "  <tbody>\n",
       "    <tr>\n",
       "      <th>0</th>\n",
       "      <td>100</td>\n",
       "      <td>4.605170</td>\n",
       "    </tr>\n",
       "    <tr>\n",
       "      <th>1</th>\n",
       "      <td>200</td>\n",
       "      <td>5.298317</td>\n",
       "    </tr>\n",
       "    <tr>\n",
       "      <th>2</th>\n",
       "      <td>300</td>\n",
       "      <td>5.703782</td>\n",
       "    </tr>\n",
       "    <tr>\n",
       "      <th>3</th>\n",
       "      <td>400</td>\n",
       "      <td>5.991465</td>\n",
       "    </tr>\n",
       "    <tr>\n",
       "      <th>4</th>\n",
       "      <td>500</td>\n",
       "      <td>6.214608</td>\n",
       "    </tr>\n",
       "  </tbody>\n",
       "</table>\n",
       "</div>"
      ],
      "text/plain": [
       "   Sales  Log_Sales\n",
       "0    100   4.605170\n",
       "1    200   5.298317\n",
       "2    300   5.703782\n",
       "3    400   5.991465\n",
       "4    500   6.214608"
      ]
     },
     "execution_count": 77,
     "metadata": {},
     "output_type": "execute_result"
    }
   ],
   "source": [
    "df"
   ]
  },
  {
   "cell_type": "raw",
   "id": "fc1858dd-b216-448e-adb9-69d08105806f",
   "metadata": {},
   "source": [
    "You might have a DataFrame with messy text data (e.g., extra spaces or inconsistent capitalization). Using .apply() with a lambda function, you can clean the text:"
   ]
  },
  {
   "cell_type": "code",
   "execution_count": 78,
   "id": "ae0f2ecb-a2c7-47c5-a7d2-f6339a6c505f",
   "metadata": {},
   "outputs": [],
   "source": [
    "df = pd.DataFrame({'Name': ['  ALICE ', 'bob', '  Charlie  ']})"
   ]
  },
  {
   "cell_type": "code",
   "execution_count": 79,
   "id": "0565c8ea-e5d9-4d88-85ce-b9516ecffce5",
   "metadata": {},
   "outputs": [
    {
     "data": {
      "text/html": [
       "<div>\n",
       "<style scoped>\n",
       "    .dataframe tbody tr th:only-of-type {\n",
       "        vertical-align: middle;\n",
       "    }\n",
       "\n",
       "    .dataframe tbody tr th {\n",
       "        vertical-align: top;\n",
       "    }\n",
       "\n",
       "    .dataframe thead th {\n",
       "        text-align: right;\n",
       "    }\n",
       "</style>\n",
       "<table border=\"1\" class=\"dataframe\">\n",
       "  <thead>\n",
       "    <tr style=\"text-align: right;\">\n",
       "      <th></th>\n",
       "      <th>Name</th>\n",
       "    </tr>\n",
       "  </thead>\n",
       "  <tbody>\n",
       "    <tr>\n",
       "      <th>0</th>\n",
       "      <td>ALICE</td>\n",
       "    </tr>\n",
       "    <tr>\n",
       "      <th>1</th>\n",
       "      <td>bob</td>\n",
       "    </tr>\n",
       "    <tr>\n",
       "      <th>2</th>\n",
       "      <td>Charlie</td>\n",
       "    </tr>\n",
       "  </tbody>\n",
       "</table>\n",
       "</div>"
      ],
      "text/plain": [
       "          Name\n",
       "0       ALICE \n",
       "1          bob\n",
       "2    Charlie  "
      ]
     },
     "execution_count": 79,
     "metadata": {},
     "output_type": "execute_result"
    }
   ],
   "source": [
    "df"
   ]
  },
  {
   "cell_type": "code",
   "execution_count": 80,
   "id": "82edfd4b-c82f-48bd-b1fc-42fd9dd627c9",
   "metadata": {},
   "outputs": [],
   "source": [
    "df['Name'] = df['Name'].apply(lambda x: x.strip().title())"
   ]
  },
  {
   "cell_type": "code",
   "execution_count": 81,
   "id": "910e13e3-15eb-46cc-bed2-c3f1b902cef2",
   "metadata": {},
   "outputs": [
    {
     "data": {
      "text/html": [
       "<div>\n",
       "<style scoped>\n",
       "    .dataframe tbody tr th:only-of-type {\n",
       "        vertical-align: middle;\n",
       "    }\n",
       "\n",
       "    .dataframe tbody tr th {\n",
       "        vertical-align: top;\n",
       "    }\n",
       "\n",
       "    .dataframe thead th {\n",
       "        text-align: right;\n",
       "    }\n",
       "</style>\n",
       "<table border=\"1\" class=\"dataframe\">\n",
       "  <thead>\n",
       "    <tr style=\"text-align: right;\">\n",
       "      <th></th>\n",
       "      <th>Name</th>\n",
       "    </tr>\n",
       "  </thead>\n",
       "  <tbody>\n",
       "    <tr>\n",
       "      <th>0</th>\n",
       "      <td>Alice</td>\n",
       "    </tr>\n",
       "    <tr>\n",
       "      <th>1</th>\n",
       "      <td>Bob</td>\n",
       "    </tr>\n",
       "    <tr>\n",
       "      <th>2</th>\n",
       "      <td>Charlie</td>\n",
       "    </tr>\n",
       "  </tbody>\n",
       "</table>\n",
       "</div>"
      ],
      "text/plain": [
       "      Name\n",
       "0    Alice\n",
       "1      Bob\n",
       "2  Charlie"
      ]
     },
     "execution_count": 81,
     "metadata": {},
     "output_type": "execute_result"
    }
   ],
   "source": [
    "df"
   ]
  },
  {
   "cell_type": "code",
   "execution_count": null,
   "id": "33d89a64-d9ac-4dd8-9790-796e8e2f799b",
   "metadata": {},
   "outputs": [],
   "source": []
  },
  {
   "cell_type": "code",
   "execution_count": null,
   "id": "054e5916-d15e-4b09-b12e-6118ece2b29c",
   "metadata": {},
   "outputs": [],
   "source": []
  },
  {
   "cell_type": "markdown",
   "id": "d877fb38-8be5-4c0a-b35f-5d3d4f903ca6",
   "metadata": {},
   "source": [
    "####  Replacing Values"
   ]
  },
  {
   "cell_type": "raw",
   "id": "aeeec6ae-0717-4bd6-ab2e-459ec3c24d71",
   "metadata": {},
   "source": [
    "We can use fillna method to replace missing values with a value and we can use mapping and apply functions to apply a function to the values. but to with replace() we can simply replace a specific value with any value we want even with NaN."
   ]
  },
  {
   "cell_type": "raw",
   "id": "9db63b1d-351f-4560-bde3-eebe329252cf",
   "metadata": {},
   "source": [
    "Replacing values is a common data-cleaning task when working with datasets. Pandas provides a flexible and powerful method called replace() that allows us to substitute one or more values with new values. This method can be used on both Series and DataFrames, and it offers several options to control what is replaced and how."
   ]
  },
  {
   "cell_type": "raw",
   "id": "a08cf988-4aab-42f3-aa50-c41080439259",
   "metadata": {},
   "source": [
    "Syntax:\n",
    "DataFrame.replace(to_replace, value, inplace=False, limit=None, regex=False, method='pad')\n",
    "\n",
    "to_replace: The value or list/dictionary of values to replace.\n",
    "value: The replacement value or list/dictionary mapping.\n",
    "inplace: If True, the changes are made in place on the original object.\n",
    "regex: If set to True, treats the to_replace value(s) as regular expressions.\n",
    "limit: Maximum number of replacements per column."
   ]
  },
  {
   "cell_type": "raw",
   "id": "8bc3bacb-2759-4be5-a29d-cdde5d726cb3",
   "metadata": {},
   "source": [
    "imagine you have a DataFrame of survey responses where a specific answer (e.g., \"N/A\") should be replaced with np.nan to standardize missing data."
   ]
  },
  {
   "cell_type": "code",
   "execution_count": 82,
   "id": "7ef62f5d-d82c-4e27-8b4f-109e71d36fdf",
   "metadata": {},
   "outputs": [],
   "source": [
    "# Replacing a Single Value\n",
    "df = pd.DataFrame({\n",
    "    'Question1': [5, 'N/A', 3, 4],\n",
    "    'Question2': [2, 3, 'N/A', 5]\n",
    "  })"
   ]
  },
  {
   "cell_type": "code",
   "execution_count": 83,
   "id": "ed72347c-b231-41d3-993c-28049e590775",
   "metadata": {},
   "outputs": [
    {
     "data": {
      "text/html": [
       "<div>\n",
       "<style scoped>\n",
       "    .dataframe tbody tr th:only-of-type {\n",
       "        vertical-align: middle;\n",
       "    }\n",
       "\n",
       "    .dataframe tbody tr th {\n",
       "        vertical-align: top;\n",
       "    }\n",
       "\n",
       "    .dataframe thead th {\n",
       "        text-align: right;\n",
       "    }\n",
       "</style>\n",
       "<table border=\"1\" class=\"dataframe\">\n",
       "  <thead>\n",
       "    <tr style=\"text-align: right;\">\n",
       "      <th></th>\n",
       "      <th>Question1</th>\n",
       "      <th>Question2</th>\n",
       "    </tr>\n",
       "  </thead>\n",
       "  <tbody>\n",
       "    <tr>\n",
       "      <th>0</th>\n",
       "      <td>5</td>\n",
       "      <td>2</td>\n",
       "    </tr>\n",
       "    <tr>\n",
       "      <th>1</th>\n",
       "      <td>N/A</td>\n",
       "      <td>3</td>\n",
       "    </tr>\n",
       "    <tr>\n",
       "      <th>2</th>\n",
       "      <td>3</td>\n",
       "      <td>N/A</td>\n",
       "    </tr>\n",
       "    <tr>\n",
       "      <th>3</th>\n",
       "      <td>4</td>\n",
       "      <td>5</td>\n",
       "    </tr>\n",
       "  </tbody>\n",
       "</table>\n",
       "</div>"
      ],
      "text/plain": [
       "  Question1 Question2\n",
       "0         5         2\n",
       "1       N/A         3\n",
       "2         3       N/A\n",
       "3         4         5"
      ]
     },
     "execution_count": 83,
     "metadata": {},
     "output_type": "execute_result"
    }
   ],
   "source": [
    "df"
   ]
  },
  {
   "cell_type": "code",
   "execution_count": 84,
   "id": "2cf40c05-866d-49ce-b6be-fd4e45b8fdc7",
   "metadata": {},
   "outputs": [
    {
     "name": "stderr",
     "output_type": "stream",
     "text": [
      "C:\\Users\\gossa\\AppData\\Local\\Temp\\ipykernel_10436\\2157256172.py:1: FutureWarning: Downcasting behavior in `replace` is deprecated and will be removed in a future version. To retain the old behavior, explicitly call `result.infer_objects(copy=False)`. To opt-in to the future behavior, set `pd.set_option('future.no_silent_downcasting', True)`\n",
      "  df.replace(\"N/A\", np.nan)\n"
     ]
    },
    {
     "data": {
      "text/html": [
       "<div>\n",
       "<style scoped>\n",
       "    .dataframe tbody tr th:only-of-type {\n",
       "        vertical-align: middle;\n",
       "    }\n",
       "\n",
       "    .dataframe tbody tr th {\n",
       "        vertical-align: top;\n",
       "    }\n",
       "\n",
       "    .dataframe thead th {\n",
       "        text-align: right;\n",
       "    }\n",
       "</style>\n",
       "<table border=\"1\" class=\"dataframe\">\n",
       "  <thead>\n",
       "    <tr style=\"text-align: right;\">\n",
       "      <th></th>\n",
       "      <th>Question1</th>\n",
       "      <th>Question2</th>\n",
       "    </tr>\n",
       "  </thead>\n",
       "  <tbody>\n",
       "    <tr>\n",
       "      <th>0</th>\n",
       "      <td>5.0</td>\n",
       "      <td>2.0</td>\n",
       "    </tr>\n",
       "    <tr>\n",
       "      <th>1</th>\n",
       "      <td>NaN</td>\n",
       "      <td>3.0</td>\n",
       "    </tr>\n",
       "    <tr>\n",
       "      <th>2</th>\n",
       "      <td>3.0</td>\n",
       "      <td>NaN</td>\n",
       "    </tr>\n",
       "    <tr>\n",
       "      <th>3</th>\n",
       "      <td>4.0</td>\n",
       "      <td>5.0</td>\n",
       "    </tr>\n",
       "  </tbody>\n",
       "</table>\n",
       "</div>"
      ],
      "text/plain": [
       "   Question1  Question2\n",
       "0        5.0        2.0\n",
       "1        NaN        3.0\n",
       "2        3.0        NaN\n",
       "3        4.0        5.0"
      ]
     },
     "execution_count": 84,
     "metadata": {},
     "output_type": "execute_result"
    }
   ],
   "source": [
    "df.replace(\"N/A\", np.nan)"
   ]
  },
  {
   "cell_type": "code",
   "execution_count": 85,
   "id": "089176e7-c4af-48cc-b4ea-c94e7a71ccaf",
   "metadata": {},
   "outputs": [],
   "source": [
    "# replacing single vallues\n",
    "s = pd.Series([1.2, 1.4, 3.2, 100])"
   ]
  },
  {
   "cell_type": "code",
   "execution_count": 86,
   "id": "054572ca-0e8e-478c-ac1d-5ef3cbd471ee",
   "metadata": {},
   "outputs": [
    {
     "data": {
      "text/plain": [
       "0      1.2\n",
       "1      1.4\n",
       "2      3.2\n",
       "3    100.0\n",
       "dtype: float64"
      ]
     },
     "execution_count": 86,
     "metadata": {},
     "output_type": "execute_result"
    }
   ],
   "source": [
    "s"
   ]
  },
  {
   "cell_type": "code",
   "execution_count": 87,
   "id": "8b441928-88c9-4e19-9c6b-b4b9b7fe9762",
   "metadata": {},
   "outputs": [
    {
     "data": {
      "text/plain": [
       "0    1.2\n",
       "1    1.4\n",
       "2    3.2\n",
       "3    NaN\n",
       "dtype: float64"
      ]
     },
     "execution_count": 87,
     "metadata": {},
     "output_type": "execute_result"
    }
   ],
   "source": [
    "s.replace(100, np.nan)"
   ]
  },
  {
   "cell_type": "code",
   "execution_count": null,
   "id": "b34912ee-a580-4f71-8611-7fbba9b3bd7f",
   "metadata": {},
   "outputs": [],
   "source": []
  },
  {
   "cell_type": "raw",
   "id": "c45c48b2-1e67-497d-9397-5d76245bcbbd",
   "metadata": {},
   "source": [
    "Example: Replacing Multiple Values with a Single Value\n",
    "Suppose you want to standardize your dataset by replacing several erroneous values (like -1 and 999) with np.nan."
   ]
  },
  {
   "cell_type": "code",
   "execution_count": 88,
   "id": "c556a64c-5b36-47bd-8ea6-a51a8cf82450",
   "metadata": {},
   "outputs": [],
   "source": [
    "df = pd.DataFrame({\n",
    "    'Temperature': [23, -1, 25, 999, 20],\n",
    "    'Humidity': [45, 999, 55, -1, 50]\n",
    "})"
   ]
  },
  {
   "cell_type": "code",
   "execution_count": 89,
   "id": "0c9861a5-3ead-49ef-837d-363e10f0976c",
   "metadata": {},
   "outputs": [
    {
     "data": {
      "text/html": [
       "<div>\n",
       "<style scoped>\n",
       "    .dataframe tbody tr th:only-of-type {\n",
       "        vertical-align: middle;\n",
       "    }\n",
       "\n",
       "    .dataframe tbody tr th {\n",
       "        vertical-align: top;\n",
       "    }\n",
       "\n",
       "    .dataframe thead th {\n",
       "        text-align: right;\n",
       "    }\n",
       "</style>\n",
       "<table border=\"1\" class=\"dataframe\">\n",
       "  <thead>\n",
       "    <tr style=\"text-align: right;\">\n",
       "      <th></th>\n",
       "      <th>Temperature</th>\n",
       "      <th>Humidity</th>\n",
       "    </tr>\n",
       "  </thead>\n",
       "  <tbody>\n",
       "    <tr>\n",
       "      <th>0</th>\n",
       "      <td>23</td>\n",
       "      <td>45</td>\n",
       "    </tr>\n",
       "    <tr>\n",
       "      <th>1</th>\n",
       "      <td>-1</td>\n",
       "      <td>999</td>\n",
       "    </tr>\n",
       "    <tr>\n",
       "      <th>2</th>\n",
       "      <td>25</td>\n",
       "      <td>55</td>\n",
       "    </tr>\n",
       "    <tr>\n",
       "      <th>3</th>\n",
       "      <td>999</td>\n",
       "      <td>-1</td>\n",
       "    </tr>\n",
       "    <tr>\n",
       "      <th>4</th>\n",
       "      <td>20</td>\n",
       "      <td>50</td>\n",
       "    </tr>\n",
       "  </tbody>\n",
       "</table>\n",
       "</div>"
      ],
      "text/plain": [
       "   Temperature  Humidity\n",
       "0           23        45\n",
       "1           -1       999\n",
       "2           25        55\n",
       "3          999        -1\n",
       "4           20        50"
      ]
     },
     "execution_count": 89,
     "metadata": {},
     "output_type": "execute_result"
    }
   ],
   "source": [
    "df"
   ]
  },
  {
   "cell_type": "code",
   "execution_count": 90,
   "id": "c3b51f3b-aa3e-4aec-9b17-efe61a4cede4",
   "metadata": {},
   "outputs": [
    {
     "data": {
      "text/html": [
       "<div>\n",
       "<style scoped>\n",
       "    .dataframe tbody tr th:only-of-type {\n",
       "        vertical-align: middle;\n",
       "    }\n",
       "\n",
       "    .dataframe tbody tr th {\n",
       "        vertical-align: top;\n",
       "    }\n",
       "\n",
       "    .dataframe thead th {\n",
       "        text-align: right;\n",
       "    }\n",
       "</style>\n",
       "<table border=\"1\" class=\"dataframe\">\n",
       "  <thead>\n",
       "    <tr style=\"text-align: right;\">\n",
       "      <th></th>\n",
       "      <th>Temperature</th>\n",
       "      <th>Humidity</th>\n",
       "    </tr>\n",
       "  </thead>\n",
       "  <tbody>\n",
       "    <tr>\n",
       "      <th>0</th>\n",
       "      <td>23.0</td>\n",
       "      <td>45.0</td>\n",
       "    </tr>\n",
       "    <tr>\n",
       "      <th>1</th>\n",
       "      <td>NaN</td>\n",
       "      <td>NaN</td>\n",
       "    </tr>\n",
       "    <tr>\n",
       "      <th>2</th>\n",
       "      <td>25.0</td>\n",
       "      <td>55.0</td>\n",
       "    </tr>\n",
       "    <tr>\n",
       "      <th>3</th>\n",
       "      <td>NaN</td>\n",
       "      <td>NaN</td>\n",
       "    </tr>\n",
       "    <tr>\n",
       "      <th>4</th>\n",
       "      <td>20.0</td>\n",
       "      <td>50.0</td>\n",
       "    </tr>\n",
       "  </tbody>\n",
       "</table>\n",
       "</div>"
      ],
      "text/plain": [
       "   Temperature  Humidity\n",
       "0         23.0      45.0\n",
       "1          NaN       NaN\n",
       "2         25.0      55.0\n",
       "3          NaN       NaN\n",
       "4         20.0      50.0"
      ]
     },
     "execution_count": 90,
     "metadata": {},
     "output_type": "execute_result"
    }
   ],
   "source": [
    "# let's replace -1 and 999 with a single value NaN\n",
    "df.replace([-1, 999], np.nan)"
   ]
  },
  {
   "cell_type": "code",
   "execution_count": 91,
   "id": "5ebe10b3-b234-4607-a369-89e361f8d732",
   "metadata": {},
   "outputs": [
    {
     "data": {
      "text/html": [
       "<div>\n",
       "<style scoped>\n",
       "    .dataframe tbody tr th:only-of-type {\n",
       "        vertical-align: middle;\n",
       "    }\n",
       "\n",
       "    .dataframe tbody tr th {\n",
       "        vertical-align: top;\n",
       "    }\n",
       "\n",
       "    .dataframe thead th {\n",
       "        text-align: right;\n",
       "    }\n",
       "</style>\n",
       "<table border=\"1\" class=\"dataframe\">\n",
       "  <thead>\n",
       "    <tr style=\"text-align: right;\">\n",
       "      <th></th>\n",
       "      <th>Temperature</th>\n",
       "      <th>Humidity</th>\n",
       "    </tr>\n",
       "  </thead>\n",
       "  <tbody>\n",
       "    <tr>\n",
       "      <th>0</th>\n",
       "      <td>23</td>\n",
       "      <td>45</td>\n",
       "    </tr>\n",
       "    <tr>\n",
       "      <th>1</th>\n",
       "      <td>-1</td>\n",
       "      <td>999</td>\n",
       "    </tr>\n",
       "    <tr>\n",
       "      <th>2</th>\n",
       "      <td>25</td>\n",
       "      <td>55</td>\n",
       "    </tr>\n",
       "    <tr>\n",
       "      <th>3</th>\n",
       "      <td>999</td>\n",
       "      <td>-1</td>\n",
       "    </tr>\n",
       "    <tr>\n",
       "      <th>4</th>\n",
       "      <td>20</td>\n",
       "      <td>50</td>\n",
       "    </tr>\n",
       "  </tbody>\n",
       "</table>\n",
       "</div>"
      ],
      "text/plain": [
       "   Temperature  Humidity\n",
       "0           23        45\n",
       "1           -1       999\n",
       "2           25        55\n",
       "3          999        -1\n",
       "4           20        50"
      ]
     },
     "execution_count": 91,
     "metadata": {},
     "output_type": "execute_result"
    }
   ],
   "source": [
    "df"
   ]
  },
  {
   "cell_type": "code",
   "execution_count": 92,
   "id": "9c217b5f-eec4-452a-8dd8-1c444a87a2dd",
   "metadata": {},
   "outputs": [
    {
     "data": {
      "text/html": [
       "<div>\n",
       "<style scoped>\n",
       "    .dataframe tbody tr th:only-of-type {\n",
       "        vertical-align: middle;\n",
       "    }\n",
       "\n",
       "    .dataframe tbody tr th {\n",
       "        vertical-align: top;\n",
       "    }\n",
       "\n",
       "    .dataframe thead th {\n",
       "        text-align: right;\n",
       "    }\n",
       "</style>\n",
       "<table border=\"1\" class=\"dataframe\">\n",
       "  <thead>\n",
       "    <tr style=\"text-align: right;\">\n",
       "      <th></th>\n",
       "      <th>Temperature</th>\n",
       "      <th>Humidity</th>\n",
       "    </tr>\n",
       "  </thead>\n",
       "  <tbody>\n",
       "    <tr>\n",
       "      <th>0</th>\n",
       "      <td>23</td>\n",
       "      <td>45</td>\n",
       "    </tr>\n",
       "    <tr>\n",
       "      <th>1</th>\n",
       "      <td>31</td>\n",
       "      <td>26</td>\n",
       "    </tr>\n",
       "    <tr>\n",
       "      <th>2</th>\n",
       "      <td>25</td>\n",
       "      <td>55</td>\n",
       "    </tr>\n",
       "    <tr>\n",
       "      <th>3</th>\n",
       "      <td>26</td>\n",
       "      <td>31</td>\n",
       "    </tr>\n",
       "    <tr>\n",
       "      <th>4</th>\n",
       "      <td>20</td>\n",
       "      <td>50</td>\n",
       "    </tr>\n",
       "  </tbody>\n",
       "</table>\n",
       "</div>"
      ],
      "text/plain": [
       "   Temperature  Humidity\n",
       "0           23        45\n",
       "1           31        26\n",
       "2           25        55\n",
       "3           26        31\n",
       "4           20        50"
      ]
     },
     "execution_count": 92,
     "metadata": {},
     "output_type": "execute_result"
    }
   ],
   "source": [
    "# let's replace -1 with 31 and 999 with 26\n",
    "df.replace([-1, 999], [31, 26])"
   ]
  },
  {
   "cell_type": "raw",
   "id": "e5cb269a-1b50-4b01-89cf-98d0525adfb0",
   "metadata": {},
   "source": [
    "Using a Dictionary for More Complex Replacements"
   ]
  },
  {
   "cell_type": "raw",
   "id": "6ba6785b-f557-446b-bcc8-26a1d781716e",
   "metadata": {},
   "source": [
    "Example: Column-Specific Replacements\n",
    "Imagine you have a DataFrame where the status codes in one column need to be mapped to descriptive labels, and you also need to replace a placeholder in another column."
   ]
  },
  {
   "cell_type": "code",
   "execution_count": 93,
   "id": "25e08534-563e-478e-81a0-eae86e3c106f",
   "metadata": {},
   "outputs": [],
   "source": [
    "df = pd.DataFrame({\n",
    "    'Status': [1, 2, 3, 2, 1],\n",
    "    'Comments': ['ok', 'error', 'ok', 'unknown', 'error']\n",
    "})"
   ]
  },
  {
   "cell_type": "code",
   "execution_count": 94,
   "id": "291bc398-7ac9-47ed-9c94-627430146586",
   "metadata": {},
   "outputs": [
    {
     "data": {
      "text/html": [
       "<div>\n",
       "<style scoped>\n",
       "    .dataframe tbody tr th:only-of-type {\n",
       "        vertical-align: middle;\n",
       "    }\n",
       "\n",
       "    .dataframe tbody tr th {\n",
       "        vertical-align: top;\n",
       "    }\n",
       "\n",
       "    .dataframe thead th {\n",
       "        text-align: right;\n",
       "    }\n",
       "</style>\n",
       "<table border=\"1\" class=\"dataframe\">\n",
       "  <thead>\n",
       "    <tr style=\"text-align: right;\">\n",
       "      <th></th>\n",
       "      <th>Status</th>\n",
       "      <th>Comments</th>\n",
       "    </tr>\n",
       "  </thead>\n",
       "  <tbody>\n",
       "    <tr>\n",
       "      <th>0</th>\n",
       "      <td>1</td>\n",
       "      <td>ok</td>\n",
       "    </tr>\n",
       "    <tr>\n",
       "      <th>1</th>\n",
       "      <td>2</td>\n",
       "      <td>error</td>\n",
       "    </tr>\n",
       "    <tr>\n",
       "      <th>2</th>\n",
       "      <td>3</td>\n",
       "      <td>ok</td>\n",
       "    </tr>\n",
       "    <tr>\n",
       "      <th>3</th>\n",
       "      <td>2</td>\n",
       "      <td>unknown</td>\n",
       "    </tr>\n",
       "    <tr>\n",
       "      <th>4</th>\n",
       "      <td>1</td>\n",
       "      <td>error</td>\n",
       "    </tr>\n",
       "  </tbody>\n",
       "</table>\n",
       "</div>"
      ],
      "text/plain": [
       "   Status Comments\n",
       "0       1       ok\n",
       "1       2    error\n",
       "2       3       ok\n",
       "3       2  unknown\n",
       "4       1    error"
      ]
     },
     "execution_count": 94,
     "metadata": {},
     "output_type": "execute_result"
    }
   ],
   "source": [
    "df"
   ]
  },
  {
   "cell_type": "code",
   "execution_count": 95,
   "id": "6993414b-3a26-4c99-bb2c-b717fbbaa9c3",
   "metadata": {},
   "outputs": [],
   "source": [
    "# let's replace the status with friendly message\n",
    "stat = {1: 'New', 2: 'In progress', 3: 'Completed'}\n",
    "df['Status'] = df['Status'].replace(stat)"
   ]
  },
  {
   "cell_type": "code",
   "execution_count": 96,
   "id": "d4da4fb1-0290-4b84-94ce-b7b69345df43",
   "metadata": {},
   "outputs": [
    {
     "data": {
      "text/html": [
       "<div>\n",
       "<style scoped>\n",
       "    .dataframe tbody tr th:only-of-type {\n",
       "        vertical-align: middle;\n",
       "    }\n",
       "\n",
       "    .dataframe tbody tr th {\n",
       "        vertical-align: top;\n",
       "    }\n",
       "\n",
       "    .dataframe thead th {\n",
       "        text-align: right;\n",
       "    }\n",
       "</style>\n",
       "<table border=\"1\" class=\"dataframe\">\n",
       "  <thead>\n",
       "    <tr style=\"text-align: right;\">\n",
       "      <th></th>\n",
       "      <th>Status</th>\n",
       "      <th>Comments</th>\n",
       "    </tr>\n",
       "  </thead>\n",
       "  <tbody>\n",
       "    <tr>\n",
       "      <th>0</th>\n",
       "      <td>New</td>\n",
       "      <td>ok</td>\n",
       "    </tr>\n",
       "    <tr>\n",
       "      <th>1</th>\n",
       "      <td>In progress</td>\n",
       "      <td>error</td>\n",
       "    </tr>\n",
       "    <tr>\n",
       "      <th>2</th>\n",
       "      <td>Completed</td>\n",
       "      <td>ok</td>\n",
       "    </tr>\n",
       "    <tr>\n",
       "      <th>3</th>\n",
       "      <td>In progress</td>\n",
       "      <td>unknown</td>\n",
       "    </tr>\n",
       "    <tr>\n",
       "      <th>4</th>\n",
       "      <td>New</td>\n",
       "      <td>error</td>\n",
       "    </tr>\n",
       "  </tbody>\n",
       "</table>\n",
       "</div>"
      ],
      "text/plain": [
       "        Status Comments\n",
       "0          New       ok\n",
       "1  In progress    error\n",
       "2    Completed       ok\n",
       "3  In progress  unknown\n",
       "4          New    error"
      ]
     },
     "execution_count": 96,
     "metadata": {},
     "output_type": "execute_result"
    }
   ],
   "source": [
    "df"
   ]
  },
  {
   "cell_type": "code",
   "execution_count": 97,
   "id": "c32b71f3-bd43-49a2-ab8f-feb8394e976a",
   "metadata": {},
   "outputs": [],
   "source": [
    "# let's replace 'error' and 'unknown' on comments column with different message\n",
    "comm = {'error': 'issue', 'unknown': 'pending'}\n",
    "df = df.replace(comm)"
   ]
  },
  {
   "cell_type": "code",
   "execution_count": 98,
   "id": "3f062141-a2a0-4752-a917-5c1098dab34d",
   "metadata": {},
   "outputs": [
    {
     "data": {
      "text/html": [
       "<div>\n",
       "<style scoped>\n",
       "    .dataframe tbody tr th:only-of-type {\n",
       "        vertical-align: middle;\n",
       "    }\n",
       "\n",
       "    .dataframe tbody tr th {\n",
       "        vertical-align: top;\n",
       "    }\n",
       "\n",
       "    .dataframe thead th {\n",
       "        text-align: right;\n",
       "    }\n",
       "</style>\n",
       "<table border=\"1\" class=\"dataframe\">\n",
       "  <thead>\n",
       "    <tr style=\"text-align: right;\">\n",
       "      <th></th>\n",
       "      <th>Status</th>\n",
       "      <th>Comments</th>\n",
       "    </tr>\n",
       "  </thead>\n",
       "  <tbody>\n",
       "    <tr>\n",
       "      <th>0</th>\n",
       "      <td>New</td>\n",
       "      <td>ok</td>\n",
       "    </tr>\n",
       "    <tr>\n",
       "      <th>1</th>\n",
       "      <td>In progress</td>\n",
       "      <td>issue</td>\n",
       "    </tr>\n",
       "    <tr>\n",
       "      <th>2</th>\n",
       "      <td>Completed</td>\n",
       "      <td>ok</td>\n",
       "    </tr>\n",
       "    <tr>\n",
       "      <th>3</th>\n",
       "      <td>In progress</td>\n",
       "      <td>pending</td>\n",
       "    </tr>\n",
       "    <tr>\n",
       "      <th>4</th>\n",
       "      <td>New</td>\n",
       "      <td>issue</td>\n",
       "    </tr>\n",
       "  </tbody>\n",
       "</table>\n",
       "</div>"
      ],
      "text/plain": [
       "        Status Comments\n",
       "0          New       ok\n",
       "1  In progress    issue\n",
       "2    Completed       ok\n",
       "3  In progress  pending\n",
       "4          New    issue"
      ]
     },
     "execution_count": 98,
     "metadata": {},
     "output_type": "execute_result"
    }
   ],
   "source": [
    "df"
   ]
  },
  {
   "cell_type": "raw",
   "id": "acce6e23-f796-4864-8ee2-d2ee8071759e",
   "metadata": {},
   "source": [
    "Using Regular Expressions\n",
    "Sometimes we need to perform more complex pattern-based replacements. By setting regex=True, we can use regular expressions to find and replace patterns."
   ]
  },
  {
   "cell_type": "raw",
   "id": "65787adb-6478-4c6f-bc47-e7ef065b6c5b",
   "metadata": {},
   "source": [
    "Example: Cleaning Text Data\n",
    "Suppose you have a DataFrame with messy text data where you want to remove all digits from string entries."
   ]
  },
  {
   "cell_type": "code",
   "execution_count": 99,
   "id": "f4857adf-9c4b-49a9-a291-a35d46b42b4c",
   "metadata": {},
   "outputs": [],
   "source": [
    "df = pd.DataFrame({\n",
    "    'Description': ['Item123', 'Test456', 'Sample789', 'NoNumbers']\n",
    "})"
   ]
  },
  {
   "cell_type": "code",
   "execution_count": 100,
   "id": "0769b407-9dfe-4ecf-85d5-42da6558e440",
   "metadata": {},
   "outputs": [
    {
     "data": {
      "text/html": [
       "<div>\n",
       "<style scoped>\n",
       "    .dataframe tbody tr th:only-of-type {\n",
       "        vertical-align: middle;\n",
       "    }\n",
       "\n",
       "    .dataframe tbody tr th {\n",
       "        vertical-align: top;\n",
       "    }\n",
       "\n",
       "    .dataframe thead th {\n",
       "        text-align: right;\n",
       "    }\n",
       "</style>\n",
       "<table border=\"1\" class=\"dataframe\">\n",
       "  <thead>\n",
       "    <tr style=\"text-align: right;\">\n",
       "      <th></th>\n",
       "      <th>Description</th>\n",
       "    </tr>\n",
       "  </thead>\n",
       "  <tbody>\n",
       "    <tr>\n",
       "      <th>0</th>\n",
       "      <td>Item123</td>\n",
       "    </tr>\n",
       "    <tr>\n",
       "      <th>1</th>\n",
       "      <td>Test456</td>\n",
       "    </tr>\n",
       "    <tr>\n",
       "      <th>2</th>\n",
       "      <td>Sample789</td>\n",
       "    </tr>\n",
       "    <tr>\n",
       "      <th>3</th>\n",
       "      <td>NoNumbers</td>\n",
       "    </tr>\n",
       "  </tbody>\n",
       "</table>\n",
       "</div>"
      ],
      "text/plain": [
       "  Description\n",
       "0     Item123\n",
       "1     Test456\n",
       "2   Sample789\n",
       "3   NoNumbers"
      ]
     },
     "execution_count": 100,
     "metadata": {},
     "output_type": "execute_result"
    }
   ],
   "source": [
    "df"
   ]
  },
  {
   "cell_type": "code",
   "execution_count": 101,
   "id": "6be38f7e-cc8c-413a-8acc-9ae17cd9eae2",
   "metadata": {},
   "outputs": [],
   "source": [
    "df = df.replace(r'\\d+', '', regex = True)"
   ]
  },
  {
   "cell_type": "code",
   "execution_count": 102,
   "id": "baf22618-aa4e-4d0f-a3ab-0407bca40e87",
   "metadata": {},
   "outputs": [
    {
     "data": {
      "text/html": [
       "<div>\n",
       "<style scoped>\n",
       "    .dataframe tbody tr th:only-of-type {\n",
       "        vertical-align: middle;\n",
       "    }\n",
       "\n",
       "    .dataframe tbody tr th {\n",
       "        vertical-align: top;\n",
       "    }\n",
       "\n",
       "    .dataframe thead th {\n",
       "        text-align: right;\n",
       "    }\n",
       "</style>\n",
       "<table border=\"1\" class=\"dataframe\">\n",
       "  <thead>\n",
       "    <tr style=\"text-align: right;\">\n",
       "      <th></th>\n",
       "      <th>Description</th>\n",
       "    </tr>\n",
       "  </thead>\n",
       "  <tbody>\n",
       "    <tr>\n",
       "      <th>0</th>\n",
       "      <td>Item</td>\n",
       "    </tr>\n",
       "    <tr>\n",
       "      <th>1</th>\n",
       "      <td>Test</td>\n",
       "    </tr>\n",
       "    <tr>\n",
       "      <th>2</th>\n",
       "      <td>Sample</td>\n",
       "    </tr>\n",
       "    <tr>\n",
       "      <th>3</th>\n",
       "      <td>NoNumbers</td>\n",
       "    </tr>\n",
       "  </tbody>\n",
       "</table>\n",
       "</div>"
      ],
      "text/plain": [
       "  Description\n",
       "0        Item\n",
       "1        Test\n",
       "2      Sample\n",
       "3   NoNumbers"
      ]
     },
     "execution_count": 102,
     "metadata": {},
     "output_type": "execute_result"
    }
   ],
   "source": [
    "df"
   ]
  },
  {
   "cell_type": "code",
   "execution_count": null,
   "id": "bd0be5c9-c48f-444f-aacf-601f1634b169",
   "metadata": {},
   "outputs": [],
   "source": []
  },
  {
   "cell_type": "markdown",
   "id": "fd968794-9bfd-414e-adbb-7abd7bac6a83",
   "metadata": {},
   "source": [
    "####  Renaming Axis Indexes"
   ]
  },
  {
   "cell_type": "raw",
   "id": "6f5b3f50-6ea4-4af6-83cc-20d961df9d85",
   "metadata": {},
   "source": [
    "Like values in a Series, axis labels can be similarly transformed by a function or mapping of some form to produce new, differently labeled objects. We can also modify the axes in place without creating a new data structure. "
   ]
  },
  {
   "cell_type": "raw",
   "id": "7e5ada53-63b0-4ac6-a63b-60bd9040d4ef",
   "metadata": {},
   "source": [
    "1. Using the .rename() Method:\n",
    "This method lets you rename specific index or column labels by providing a mapping (dictionary) from the old labels to the new ones.\n",
    "\n",
    "2. Directly Setting .index and .columns Attributes:\n",
    "You can assign a new list of labels directly to the DataFrame’s .index or .columns attributes.\n",
    "\n",
    "3. Using the .set_axis() Method:\n",
    "This method allows you to replace all labels along a given axis.\n",
    "\n",
    "4. Renaming the Axis Name using .rename_axis():\n",
    "Besides renaming the individual labels, you can also rename the name of the index or columns (the “axis label”) for clarity."
   ]
  },
  {
   "cell_type": "raw",
   "id": "e46af274-04d4-4877-ac0a-67e3e3ca3d45",
   "metadata": {},
   "source": [
    "1. Using the .rename() Method\n",
    "The .rename() method is flexible and allows you to rename either the row indexes, the column names, or both. You pass a dictionary mapping the old values to new ones."
   ]
  },
  {
   "cell_type": "code",
   "execution_count": 103,
   "id": "b426c80f-06a2-4fb4-9945-6b0d9af5a1e6",
   "metadata": {},
   "outputs": [],
   "source": [
    "data = {\n",
    "    \"A\": [10, 20, 30],\n",
    "    \"B\": [40, 50, 60],\n",
    "    \"C\": [70, 80, 90]\n",
    "}\n",
    "\n",
    "df = pd.DataFrame(data, index=[\"one\", \"two\", \"three\"])"
   ]
  },
  {
   "cell_type": "code",
   "execution_count": 104,
   "id": "362575ae-ef79-499e-8885-c90628006779",
   "metadata": {},
   "outputs": [
    {
     "data": {
      "text/html": [
       "<div>\n",
       "<style scoped>\n",
       "    .dataframe tbody tr th:only-of-type {\n",
       "        vertical-align: middle;\n",
       "    }\n",
       "\n",
       "    .dataframe tbody tr th {\n",
       "        vertical-align: top;\n",
       "    }\n",
       "\n",
       "    .dataframe thead th {\n",
       "        text-align: right;\n",
       "    }\n",
       "</style>\n",
       "<table border=\"1\" class=\"dataframe\">\n",
       "  <thead>\n",
       "    <tr style=\"text-align: right;\">\n",
       "      <th></th>\n",
       "      <th>A</th>\n",
       "      <th>B</th>\n",
       "      <th>C</th>\n",
       "    </tr>\n",
       "  </thead>\n",
       "  <tbody>\n",
       "    <tr>\n",
       "      <th>one</th>\n",
       "      <td>10</td>\n",
       "      <td>40</td>\n",
       "      <td>70</td>\n",
       "    </tr>\n",
       "    <tr>\n",
       "      <th>two</th>\n",
       "      <td>20</td>\n",
       "      <td>50</td>\n",
       "      <td>80</td>\n",
       "    </tr>\n",
       "    <tr>\n",
       "      <th>three</th>\n",
       "      <td>30</td>\n",
       "      <td>60</td>\n",
       "      <td>90</td>\n",
       "    </tr>\n",
       "  </tbody>\n",
       "</table>\n",
       "</div>"
      ],
      "text/plain": [
       "        A   B   C\n",
       "one    10  40  70\n",
       "two    20  50  80\n",
       "three  30  60  90"
      ]
     },
     "execution_count": 104,
     "metadata": {},
     "output_type": "execute_result"
    }
   ],
   "source": [
    "df"
   ]
  },
  {
   "cell_type": "code",
   "execution_count": 105,
   "id": "306ae074-56c8-4830-9a9f-f47b7192ba4a",
   "metadata": {},
   "outputs": [],
   "source": [
    "def fun(x):\n",
    "    return x.lower()"
   ]
  },
  {
   "cell_type": "code",
   "execution_count": 106,
   "id": "163df2cb-93ba-4345-a120-ba65112f5959",
   "metadata": {},
   "outputs": [],
   "source": [
    "# lets apply the function to the columns lables\n",
    "df.columns = df.columns.map(fun)"
   ]
  },
  {
   "cell_type": "code",
   "execution_count": 107,
   "id": "447bca48-4e0b-4823-997f-686ac3297446",
   "metadata": {},
   "outputs": [
    {
     "data": {
      "text/html": [
       "<div>\n",
       "<style scoped>\n",
       "    .dataframe tbody tr th:only-of-type {\n",
       "        vertical-align: middle;\n",
       "    }\n",
       "\n",
       "    .dataframe tbody tr th {\n",
       "        vertical-align: top;\n",
       "    }\n",
       "\n",
       "    .dataframe thead th {\n",
       "        text-align: right;\n",
       "    }\n",
       "</style>\n",
       "<table border=\"1\" class=\"dataframe\">\n",
       "  <thead>\n",
       "    <tr style=\"text-align: right;\">\n",
       "      <th></th>\n",
       "      <th>a</th>\n",
       "      <th>b</th>\n",
       "      <th>c</th>\n",
       "    </tr>\n",
       "  </thead>\n",
       "  <tbody>\n",
       "    <tr>\n",
       "      <th>one</th>\n",
       "      <td>10</td>\n",
       "      <td>40</td>\n",
       "      <td>70</td>\n",
       "    </tr>\n",
       "    <tr>\n",
       "      <th>two</th>\n",
       "      <td>20</td>\n",
       "      <td>50</td>\n",
       "      <td>80</td>\n",
       "    </tr>\n",
       "    <tr>\n",
       "      <th>three</th>\n",
       "      <td>30</td>\n",
       "      <td>60</td>\n",
       "      <td>90</td>\n",
       "    </tr>\n",
       "  </tbody>\n",
       "</table>\n",
       "</div>"
      ],
      "text/plain": [
       "        a   b   c\n",
       "one    10  40  70\n",
       "two    20  50  80\n",
       "three  30  60  90"
      ]
     },
     "execution_count": 107,
     "metadata": {},
     "output_type": "execute_result"
    }
   ],
   "source": [
    "df"
   ]
  },
  {
   "cell_type": "raw",
   "id": "393e1419-38f7-44e7-a0cf-093a855a214f",
   "metadata": {},
   "source": [
    "If you want to create a transformed version of a dataset without modifying the original, a useful method is rename:"
   ]
  },
  {
   "cell_type": "code",
   "execution_count": 108,
   "id": "02bd3f76-f734-4eee-b24e-b8ea1afc5045",
   "metadata": {},
   "outputs": [
    {
     "data": {
      "text/html": [
       "<div>\n",
       "<style scoped>\n",
       "    .dataframe tbody tr th:only-of-type {\n",
       "        vertical-align: middle;\n",
       "    }\n",
       "\n",
       "    .dataframe tbody tr th {\n",
       "        vertical-align: top;\n",
       "    }\n",
       "\n",
       "    .dataframe thead th {\n",
       "        text-align: right;\n",
       "    }\n",
       "</style>\n",
       "<table border=\"1\" class=\"dataframe\">\n",
       "  <thead>\n",
       "    <tr style=\"text-align: right;\">\n",
       "      <th></th>\n",
       "      <th>A</th>\n",
       "      <th>B</th>\n",
       "      <th>C</th>\n",
       "    </tr>\n",
       "  </thead>\n",
       "  <tbody>\n",
       "    <tr>\n",
       "      <th>One</th>\n",
       "      <td>10</td>\n",
       "      <td>40</td>\n",
       "      <td>70</td>\n",
       "    </tr>\n",
       "    <tr>\n",
       "      <th>Two</th>\n",
       "      <td>20</td>\n",
       "      <td>50</td>\n",
       "      <td>80</td>\n",
       "    </tr>\n",
       "    <tr>\n",
       "      <th>Three</th>\n",
       "      <td>30</td>\n",
       "      <td>60</td>\n",
       "      <td>90</td>\n",
       "    </tr>\n",
       "  </tbody>\n",
       "</table>\n",
       "</div>"
      ],
      "text/plain": [
       "        A   B   C\n",
       "One    10  40  70\n",
       "Two    20  50  80\n",
       "Three  30  60  90"
      ]
     },
     "execution_count": 108,
     "metadata": {},
     "output_type": "execute_result"
    }
   ],
   "source": [
    "df.rename(index = str.title, columns = str.upper)"
   ]
  },
  {
   "cell_type": "code",
   "execution_count": 109,
   "id": "1a01b7ed-79eb-40a9-98b0-dbdd77fd9adc",
   "metadata": {},
   "outputs": [],
   "source": [
    "data = {\n",
    "    'A': [10, 20, 30],\n",
    "    'B': [40, 50, 60]\n",
    " }\n",
    "df = pd.DataFrame(data, index=['r1', 'r2', 'r3'])"
   ]
  },
  {
   "cell_type": "code",
   "execution_count": 110,
   "id": "72e432f0-f70c-4013-a86d-9e2c422b3dfc",
   "metadata": {},
   "outputs": [
    {
     "data": {
      "text/html": [
       "<div>\n",
       "<style scoped>\n",
       "    .dataframe tbody tr th:only-of-type {\n",
       "        vertical-align: middle;\n",
       "    }\n",
       "\n",
       "    .dataframe tbody tr th {\n",
       "        vertical-align: top;\n",
       "    }\n",
       "\n",
       "    .dataframe thead th {\n",
       "        text-align: right;\n",
       "    }\n",
       "</style>\n",
       "<table border=\"1\" class=\"dataframe\">\n",
       "  <thead>\n",
       "    <tr style=\"text-align: right;\">\n",
       "      <th></th>\n",
       "      <th>A</th>\n",
       "      <th>B</th>\n",
       "    </tr>\n",
       "  </thead>\n",
       "  <tbody>\n",
       "    <tr>\n",
       "      <th>r1</th>\n",
       "      <td>10</td>\n",
       "      <td>40</td>\n",
       "    </tr>\n",
       "    <tr>\n",
       "      <th>r2</th>\n",
       "      <td>20</td>\n",
       "      <td>50</td>\n",
       "    </tr>\n",
       "    <tr>\n",
       "      <th>r3</th>\n",
       "      <td>30</td>\n",
       "      <td>60</td>\n",
       "    </tr>\n",
       "  </tbody>\n",
       "</table>\n",
       "</div>"
      ],
      "text/plain": [
       "     A   B\n",
       "r1  10  40\n",
       "r2  20  50\n",
       "r3  30  60"
      ]
     },
     "execution_count": 110,
     "metadata": {},
     "output_type": "execute_result"
    }
   ],
   "source": [
    "df"
   ]
  },
  {
   "cell_type": "code",
   "execution_count": 111,
   "id": "1e610c59-f6e4-4e84-94ee-7c23c0630f48",
   "metadata": {},
   "outputs": [],
   "source": [
    "# renaming rows of the dataframe\n",
    "df = df.rename(index = {'r1': 'row 1', 'r2': 'row 2', 'r3': 'row 3'})"
   ]
  },
  {
   "cell_type": "code",
   "execution_count": 112,
   "id": "cfeaa189-af25-49d4-b2dd-bfacfaf8e911",
   "metadata": {},
   "outputs": [
    {
     "data": {
      "text/html": [
       "<div>\n",
       "<style scoped>\n",
       "    .dataframe tbody tr th:only-of-type {\n",
       "        vertical-align: middle;\n",
       "    }\n",
       "\n",
       "    .dataframe tbody tr th {\n",
       "        vertical-align: top;\n",
       "    }\n",
       "\n",
       "    .dataframe thead th {\n",
       "        text-align: right;\n",
       "    }\n",
       "</style>\n",
       "<table border=\"1\" class=\"dataframe\">\n",
       "  <thead>\n",
       "    <tr style=\"text-align: right;\">\n",
       "      <th></th>\n",
       "      <th>A</th>\n",
       "      <th>B</th>\n",
       "    </tr>\n",
       "  </thead>\n",
       "  <tbody>\n",
       "    <tr>\n",
       "      <th>row 1</th>\n",
       "      <td>10</td>\n",
       "      <td>40</td>\n",
       "    </tr>\n",
       "    <tr>\n",
       "      <th>row 2</th>\n",
       "      <td>20</td>\n",
       "      <td>50</td>\n",
       "    </tr>\n",
       "    <tr>\n",
       "      <th>row 3</th>\n",
       "      <td>30</td>\n",
       "      <td>60</td>\n",
       "    </tr>\n",
       "  </tbody>\n",
       "</table>\n",
       "</div>"
      ],
      "text/plain": [
       "        A   B\n",
       "row 1  10  40\n",
       "row 2  20  50\n",
       "row 3  30  60"
      ]
     },
     "execution_count": 112,
     "metadata": {},
     "output_type": "execute_result"
    }
   ],
   "source": [
    "df"
   ]
  },
  {
   "cell_type": "code",
   "execution_count": 113,
   "id": "0947a767-93df-4539-93d1-79f83e94d6da",
   "metadata": {},
   "outputs": [],
   "source": [
    "# renaming columns\n",
    "df = df.rename(columns = {'A': 'Alpha', 'B': 'Beta'})"
   ]
  },
  {
   "cell_type": "code",
   "execution_count": 114,
   "id": "eeda768d-a8fc-4bb3-9069-edaeacf19f22",
   "metadata": {},
   "outputs": [
    {
     "data": {
      "text/html": [
       "<div>\n",
       "<style scoped>\n",
       "    .dataframe tbody tr th:only-of-type {\n",
       "        vertical-align: middle;\n",
       "    }\n",
       "\n",
       "    .dataframe tbody tr th {\n",
       "        vertical-align: top;\n",
       "    }\n",
       "\n",
       "    .dataframe thead th {\n",
       "        text-align: right;\n",
       "    }\n",
       "</style>\n",
       "<table border=\"1\" class=\"dataframe\">\n",
       "  <thead>\n",
       "    <tr style=\"text-align: right;\">\n",
       "      <th></th>\n",
       "      <th>Alpha</th>\n",
       "      <th>Beta</th>\n",
       "    </tr>\n",
       "  </thead>\n",
       "  <tbody>\n",
       "    <tr>\n",
       "      <th>row 1</th>\n",
       "      <td>10</td>\n",
       "      <td>40</td>\n",
       "    </tr>\n",
       "    <tr>\n",
       "      <th>row 2</th>\n",
       "      <td>20</td>\n",
       "      <td>50</td>\n",
       "    </tr>\n",
       "    <tr>\n",
       "      <th>row 3</th>\n",
       "      <td>30</td>\n",
       "      <td>60</td>\n",
       "    </tr>\n",
       "  </tbody>\n",
       "</table>\n",
       "</div>"
      ],
      "text/plain": [
       "       Alpha  Beta\n",
       "row 1     10    40\n",
       "row 2     20    50\n",
       "row 3     30    60"
      ]
     },
     "execution_count": 114,
     "metadata": {},
     "output_type": "execute_result"
    }
   ],
   "source": [
    "df"
   ]
  },
  {
   "cell_type": "code",
   "execution_count": 115,
   "id": "91cd9dd6-6b27-4aae-8ebc-c415a6e237c7",
   "metadata": {},
   "outputs": [],
   "source": [
    "# applying functions\n",
    "def rt(x):\n",
    "    return x.title()"
   ]
  },
  {
   "cell_type": "code",
   "execution_count": 116,
   "id": "d295961b-2512-424d-b30e-ebb2412fbfa4",
   "metadata": {},
   "outputs": [],
   "source": [
    "df = df.rename(index = rt)"
   ]
  },
  {
   "cell_type": "code",
   "execution_count": 117,
   "id": "d9396523-faa8-4d5c-9fdc-bc7bdfe6901b",
   "metadata": {},
   "outputs": [
    {
     "data": {
      "text/html": [
       "<div>\n",
       "<style scoped>\n",
       "    .dataframe tbody tr th:only-of-type {\n",
       "        vertical-align: middle;\n",
       "    }\n",
       "\n",
       "    .dataframe tbody tr th {\n",
       "        vertical-align: top;\n",
       "    }\n",
       "\n",
       "    .dataframe thead th {\n",
       "        text-align: right;\n",
       "    }\n",
       "</style>\n",
       "<table border=\"1\" class=\"dataframe\">\n",
       "  <thead>\n",
       "    <tr style=\"text-align: right;\">\n",
       "      <th></th>\n",
       "      <th>Alpha</th>\n",
       "      <th>Beta</th>\n",
       "    </tr>\n",
       "  </thead>\n",
       "  <tbody>\n",
       "    <tr>\n",
       "      <th>Row 1</th>\n",
       "      <td>10</td>\n",
       "      <td>40</td>\n",
       "    </tr>\n",
       "    <tr>\n",
       "      <th>Row 2</th>\n",
       "      <td>20</td>\n",
       "      <td>50</td>\n",
       "    </tr>\n",
       "    <tr>\n",
       "      <th>Row 3</th>\n",
       "      <td>30</td>\n",
       "      <td>60</td>\n",
       "    </tr>\n",
       "  </tbody>\n",
       "</table>\n",
       "</div>"
      ],
      "text/plain": [
       "       Alpha  Beta\n",
       "Row 1     10    40\n",
       "Row 2     20    50\n",
       "Row 3     30    60"
      ]
     },
     "execution_count": 117,
     "metadata": {},
     "output_type": "execute_result"
    }
   ],
   "source": [
    "df"
   ]
  },
  {
   "cell_type": "code",
   "execution_count": 118,
   "id": "807971a5-25bb-4811-b932-bfd08ea1672a",
   "metadata": {},
   "outputs": [],
   "source": [
    "# using lambda function to transform columns\n",
    "df = df.rename(columns = lambda c: 'col_' + c)"
   ]
  },
  {
   "cell_type": "code",
   "execution_count": 119,
   "id": "b829494f-f464-482d-9ab7-8f3d1bb74b9d",
   "metadata": {},
   "outputs": [
    {
     "data": {
      "text/html": [
       "<div>\n",
       "<style scoped>\n",
       "    .dataframe tbody tr th:only-of-type {\n",
       "        vertical-align: middle;\n",
       "    }\n",
       "\n",
       "    .dataframe tbody tr th {\n",
       "        vertical-align: top;\n",
       "    }\n",
       "\n",
       "    .dataframe thead th {\n",
       "        text-align: right;\n",
       "    }\n",
       "</style>\n",
       "<table border=\"1\" class=\"dataframe\">\n",
       "  <thead>\n",
       "    <tr style=\"text-align: right;\">\n",
       "      <th></th>\n",
       "      <th>col_Alpha</th>\n",
       "      <th>col_Beta</th>\n",
       "    </tr>\n",
       "  </thead>\n",
       "  <tbody>\n",
       "    <tr>\n",
       "      <th>Row 1</th>\n",
       "      <td>10</td>\n",
       "      <td>40</td>\n",
       "    </tr>\n",
       "    <tr>\n",
       "      <th>Row 2</th>\n",
       "      <td>20</td>\n",
       "      <td>50</td>\n",
       "    </tr>\n",
       "    <tr>\n",
       "      <th>Row 3</th>\n",
       "      <td>30</td>\n",
       "      <td>60</td>\n",
       "    </tr>\n",
       "  </tbody>\n",
       "</table>\n",
       "</div>"
      ],
      "text/plain": [
       "       col_Alpha  col_Beta\n",
       "Row 1         10        40\n",
       "Row 2         20        50\n",
       "Row 3         30        60"
      ]
     },
     "execution_count": 119,
     "metadata": {},
     "output_type": "execute_result"
    }
   ],
   "source": [
    "df"
   ]
  },
  {
   "cell_type": "raw",
   "id": "2acb12d5-38d7-4306-bbfc-9d671d500064",
   "metadata": {},
   "source": [
    "2. Directly Setting .index and .columns\n",
    "   If you want to rename all axis labels, you can directly assign new labels to the .index or .columns attributes."
   ]
  },
  {
   "cell_type": "code",
   "execution_count": 120,
   "id": "e2ef08cd-0de3-4b8b-8d5d-84500edeee6c",
   "metadata": {},
   "outputs": [],
   "source": [
    "df = pd.DataFrame({\n",
    "    'X': [1, 2, 3],\n",
    "    'Y': [4, 5, 6]\n",
    "}, index=['a', 'b', 'c'])"
   ]
  },
  {
   "cell_type": "code",
   "execution_count": 121,
   "id": "882001f4-3ae1-4fde-9a85-f69f3ff211c8",
   "metadata": {},
   "outputs": [
    {
     "data": {
      "text/html": [
       "<div>\n",
       "<style scoped>\n",
       "    .dataframe tbody tr th:only-of-type {\n",
       "        vertical-align: middle;\n",
       "    }\n",
       "\n",
       "    .dataframe tbody tr th {\n",
       "        vertical-align: top;\n",
       "    }\n",
       "\n",
       "    .dataframe thead th {\n",
       "        text-align: right;\n",
       "    }\n",
       "</style>\n",
       "<table border=\"1\" class=\"dataframe\">\n",
       "  <thead>\n",
       "    <tr style=\"text-align: right;\">\n",
       "      <th></th>\n",
       "      <th>X</th>\n",
       "      <th>Y</th>\n",
       "    </tr>\n",
       "  </thead>\n",
       "  <tbody>\n",
       "    <tr>\n",
       "      <th>a</th>\n",
       "      <td>1</td>\n",
       "      <td>4</td>\n",
       "    </tr>\n",
       "    <tr>\n",
       "      <th>b</th>\n",
       "      <td>2</td>\n",
       "      <td>5</td>\n",
       "    </tr>\n",
       "    <tr>\n",
       "      <th>c</th>\n",
       "      <td>3</td>\n",
       "      <td>6</td>\n",
       "    </tr>\n",
       "  </tbody>\n",
       "</table>\n",
       "</div>"
      ],
      "text/plain": [
       "   X  Y\n",
       "a  1  4\n",
       "b  2  5\n",
       "c  3  6"
      ]
     },
     "execution_count": 121,
     "metadata": {},
     "output_type": "execute_result"
    }
   ],
   "source": [
    "df"
   ]
  },
  {
   "cell_type": "code",
   "execution_count": 122,
   "id": "d5905265-0fd0-4d3b-b815-1201d17e7e2c",
   "metadata": {},
   "outputs": [],
   "source": [
    "df.index = ['alpha', 'beta', 'gamma']"
   ]
  },
  {
   "cell_type": "code",
   "execution_count": 123,
   "id": "2bb19347-771a-473e-b1d6-45dd2f23f123",
   "metadata": {},
   "outputs": [],
   "source": [
    "df.columns = ['John', 'Alice']"
   ]
  },
  {
   "cell_type": "code",
   "execution_count": 124,
   "id": "32dbab42-2c80-4053-8701-2b8035ec1465",
   "metadata": {},
   "outputs": [
    {
     "data": {
      "text/html": [
       "<div>\n",
       "<style scoped>\n",
       "    .dataframe tbody tr th:only-of-type {\n",
       "        vertical-align: middle;\n",
       "    }\n",
       "\n",
       "    .dataframe tbody tr th {\n",
       "        vertical-align: top;\n",
       "    }\n",
       "\n",
       "    .dataframe thead th {\n",
       "        text-align: right;\n",
       "    }\n",
       "</style>\n",
       "<table border=\"1\" class=\"dataframe\">\n",
       "  <thead>\n",
       "    <tr style=\"text-align: right;\">\n",
       "      <th></th>\n",
       "      <th>John</th>\n",
       "      <th>Alice</th>\n",
       "    </tr>\n",
       "  </thead>\n",
       "  <tbody>\n",
       "    <tr>\n",
       "      <th>alpha</th>\n",
       "      <td>1</td>\n",
       "      <td>4</td>\n",
       "    </tr>\n",
       "    <tr>\n",
       "      <th>beta</th>\n",
       "      <td>2</td>\n",
       "      <td>5</td>\n",
       "    </tr>\n",
       "    <tr>\n",
       "      <th>gamma</th>\n",
       "      <td>3</td>\n",
       "      <td>6</td>\n",
       "    </tr>\n",
       "  </tbody>\n",
       "</table>\n",
       "</div>"
      ],
      "text/plain": [
       "       John  Alice\n",
       "alpha     1      4\n",
       "beta      2      5\n",
       "gamma     3      6"
      ]
     },
     "execution_count": 124,
     "metadata": {},
     "output_type": "execute_result"
    }
   ],
   "source": [
    "df"
   ]
  },
  {
   "cell_type": "raw",
   "id": "40dd797d-787e-4077-a470-fa6d98939cae",
   "metadata": {},
   "source": [
    "3. Using the .set_axis() Method\n",
    "The .set_axis() method can also be used to update labels along a specific axis. It works similarly to directly setting         .index or .columns, but returns a new DataFrame by default (or can modify in place)."
   ]
  },
  {
   "cell_type": "code",
   "execution_count": 125,
   "id": "a3838b94-5f23-4df1-8fc8-2d151d88ba85",
   "metadata": {},
   "outputs": [],
   "source": [
    "# Using set_axis to change the columns\n",
    "df = pd.DataFrame({\n",
    "    'Col1': [100, 200],\n",
    "    'Col2': [300, 400]\n",
    "})"
   ]
  },
  {
   "cell_type": "code",
   "execution_count": 126,
   "id": "fa1cbb2b-19a2-49f3-99cb-27f09c151ff8",
   "metadata": {},
   "outputs": [
    {
     "data": {
      "text/html": [
       "<div>\n",
       "<style scoped>\n",
       "    .dataframe tbody tr th:only-of-type {\n",
       "        vertical-align: middle;\n",
       "    }\n",
       "\n",
       "    .dataframe tbody tr th {\n",
       "        vertical-align: top;\n",
       "    }\n",
       "\n",
       "    .dataframe thead th {\n",
       "        text-align: right;\n",
       "    }\n",
       "</style>\n",
       "<table border=\"1\" class=\"dataframe\">\n",
       "  <thead>\n",
       "    <tr style=\"text-align: right;\">\n",
       "      <th></th>\n",
       "      <th>Col1</th>\n",
       "      <th>Col2</th>\n",
       "    </tr>\n",
       "  </thead>\n",
       "  <tbody>\n",
       "    <tr>\n",
       "      <th>0</th>\n",
       "      <td>100</td>\n",
       "      <td>300</td>\n",
       "    </tr>\n",
       "    <tr>\n",
       "      <th>1</th>\n",
       "      <td>200</td>\n",
       "      <td>400</td>\n",
       "    </tr>\n",
       "  </tbody>\n",
       "</table>\n",
       "</div>"
      ],
      "text/plain": [
       "   Col1  Col2\n",
       "0   100   300\n",
       "1   200   400"
      ]
     },
     "execution_count": 126,
     "metadata": {},
     "output_type": "execute_result"
    }
   ],
   "source": [
    "df"
   ]
  },
  {
   "cell_type": "code",
   "execution_count": 127,
   "id": "def07343-574e-4a20-9e13-d935f8de5941",
   "metadata": {},
   "outputs": [
    {
     "data": {
      "text/html": [
       "<div>\n",
       "<style scoped>\n",
       "    .dataframe tbody tr th:only-of-type {\n",
       "        vertical-align: middle;\n",
       "    }\n",
       "\n",
       "    .dataframe tbody tr th {\n",
       "        vertical-align: top;\n",
       "    }\n",
       "\n",
       "    .dataframe thead th {\n",
       "        text-align: right;\n",
       "    }\n",
       "</style>\n",
       "<table border=\"1\" class=\"dataframe\">\n",
       "  <thead>\n",
       "    <tr style=\"text-align: right;\">\n",
       "      <th></th>\n",
       "      <th>Col1</th>\n",
       "      <th>Col2</th>\n",
       "    </tr>\n",
       "  </thead>\n",
       "  <tbody>\n",
       "    <tr>\n",
       "      <th>Ron</th>\n",
       "      <td>100</td>\n",
       "      <td>300</td>\n",
       "    </tr>\n",
       "    <tr>\n",
       "      <th>Raya</th>\n",
       "      <td>200</td>\n",
       "      <td>400</td>\n",
       "    </tr>\n",
       "  </tbody>\n",
       "</table>\n",
       "</div>"
      ],
      "text/plain": [
       "      Col1  Col2\n",
       "Ron    100   300\n",
       "Raya   200   400"
      ]
     },
     "execution_count": 127,
     "metadata": {},
     "output_type": "execute_result"
    }
   ],
   "source": [
    "# change name of index lables\n",
    "df = df.set_axis(['Ron', 'Raya'])\n",
    "df"
   ]
  },
  {
   "cell_type": "code",
   "execution_count": 128,
   "id": "fb199ace-b64e-488f-aebd-a51fb22b8557",
   "metadata": {},
   "outputs": [
    {
     "data": {
      "text/html": [
       "<div>\n",
       "<style scoped>\n",
       "    .dataframe tbody tr th:only-of-type {\n",
       "        vertical-align: middle;\n",
       "    }\n",
       "\n",
       "    .dataframe tbody tr th {\n",
       "        vertical-align: top;\n",
       "    }\n",
       "\n",
       "    .dataframe thead th {\n",
       "        text-align: right;\n",
       "    }\n",
       "</style>\n",
       "<table border=\"1\" class=\"dataframe\">\n",
       "  <thead>\n",
       "    <tr style=\"text-align: right;\">\n",
       "      <th></th>\n",
       "      <th>Week 1</th>\n",
       "      <th>Week 2</th>\n",
       "    </tr>\n",
       "  </thead>\n",
       "  <tbody>\n",
       "    <tr>\n",
       "      <th>Ron</th>\n",
       "      <td>100</td>\n",
       "      <td>300</td>\n",
       "    </tr>\n",
       "    <tr>\n",
       "      <th>Raya</th>\n",
       "      <td>200</td>\n",
       "      <td>400</td>\n",
       "    </tr>\n",
       "  </tbody>\n",
       "</table>\n",
       "</div>"
      ],
      "text/plain": [
       "      Week 1  Week 2\n",
       "Ron      100     300\n",
       "Raya     200     400"
      ]
     },
     "execution_count": 128,
     "metadata": {},
     "output_type": "execute_result"
    }
   ],
   "source": [
    "df = df.set_axis(['Week 1', 'Week 2'], axis = 1)\n",
    "df"
   ]
  },
  {
   "cell_type": "raw",
   "id": "5909b7da-957b-40be-8e8c-551f68876d4c",
   "metadata": {},
   "source": [
    "4. Renaming the Axis Name using .rename_axis()\n",
    "   Sometimes your DataFrame has a name for the index or columns (an “axis name”) that you’d like to change. For example, the      index may represent “Time” or “ID”, and the columns may have a descriptive label."
   ]
  },
  {
   "cell_type": "code",
   "execution_count": 129,
   "id": "1b6a42ef-a5a2-488d-a9cc-9e88f19ab39c",
   "metadata": {},
   "outputs": [],
   "source": [
    "df = pd.DataFrame({\n",
    "    'Sales': [1000, 2000, 1500],\n",
    "    'Profit': [100, 200, 150]\n",
    "}, index=['Jan', 'Feb', 'Mar'])\n",
    "\n",
    "# Name the axes\n",
    "df.index.name = 'Month'\n",
    "df.columns.name = 'Metrics'"
   ]
  },
  {
   "cell_type": "code",
   "execution_count": 130,
   "id": "8461286b-3df2-4731-a524-9403b72d8ac1",
   "metadata": {},
   "outputs": [
    {
     "data": {
      "text/html": [
       "<div>\n",
       "<style scoped>\n",
       "    .dataframe tbody tr th:only-of-type {\n",
       "        vertical-align: middle;\n",
       "    }\n",
       "\n",
       "    .dataframe tbody tr th {\n",
       "        vertical-align: top;\n",
       "    }\n",
       "\n",
       "    .dataframe thead th {\n",
       "        text-align: right;\n",
       "    }\n",
       "</style>\n",
       "<table border=\"1\" class=\"dataframe\">\n",
       "  <thead>\n",
       "    <tr style=\"text-align: right;\">\n",
       "      <th>Metrics</th>\n",
       "      <th>Sales</th>\n",
       "      <th>Profit</th>\n",
       "    </tr>\n",
       "    <tr>\n",
       "      <th>Month</th>\n",
       "      <th></th>\n",
       "      <th></th>\n",
       "    </tr>\n",
       "  </thead>\n",
       "  <tbody>\n",
       "    <tr>\n",
       "      <th>Jan</th>\n",
       "      <td>1000</td>\n",
       "      <td>100</td>\n",
       "    </tr>\n",
       "    <tr>\n",
       "      <th>Feb</th>\n",
       "      <td>2000</td>\n",
       "      <td>200</td>\n",
       "    </tr>\n",
       "    <tr>\n",
       "      <th>Mar</th>\n",
       "      <td>1500</td>\n",
       "      <td>150</td>\n",
       "    </tr>\n",
       "  </tbody>\n",
       "</table>\n",
       "</div>"
      ],
      "text/plain": [
       "Metrics  Sales  Profit\n",
       "Month                 \n",
       "Jan       1000     100\n",
       "Feb       2000     200\n",
       "Mar       1500     150"
      ]
     },
     "execution_count": 130,
     "metadata": {},
     "output_type": "execute_result"
    }
   ],
   "source": [
    "df"
   ]
  },
  {
   "cell_type": "code",
   "execution_count": 131,
   "id": "1dc7f946-dcae-480a-878c-45e80e02689b",
   "metadata": {},
   "outputs": [
    {
     "data": {
      "text/html": [
       "<div>\n",
       "<style scoped>\n",
       "    .dataframe tbody tr th:only-of-type {\n",
       "        vertical-align: middle;\n",
       "    }\n",
       "\n",
       "    .dataframe tbody tr th {\n",
       "        vertical-align: top;\n",
       "    }\n",
       "\n",
       "    .dataframe thead th {\n",
       "        text-align: right;\n",
       "    }\n",
       "</style>\n",
       "<table border=\"1\" class=\"dataframe\">\n",
       "  <thead>\n",
       "    <tr style=\"text-align: right;\">\n",
       "      <th>Fanancials</th>\n",
       "      <th>Sales</th>\n",
       "      <th>Profit</th>\n",
       "    </tr>\n",
       "    <tr>\n",
       "      <th>Period</th>\n",
       "      <th></th>\n",
       "      <th></th>\n",
       "    </tr>\n",
       "  </thead>\n",
       "  <tbody>\n",
       "    <tr>\n",
       "      <th>Jan</th>\n",
       "      <td>1000</td>\n",
       "      <td>100</td>\n",
       "    </tr>\n",
       "    <tr>\n",
       "      <th>Feb</th>\n",
       "      <td>2000</td>\n",
       "      <td>200</td>\n",
       "    </tr>\n",
       "    <tr>\n",
       "      <th>Mar</th>\n",
       "      <td>1500</td>\n",
       "      <td>150</td>\n",
       "    </tr>\n",
       "  </tbody>\n",
       "</table>\n",
       "</div>"
      ],
      "text/plain": [
       "Fanancials  Sales  Profit\n",
       "Period                   \n",
       "Jan          1000     100\n",
       "Feb          2000     200\n",
       "Mar          1500     150"
      ]
     },
     "execution_count": 131,
     "metadata": {},
     "output_type": "execute_result"
    }
   ],
   "source": [
    "df = df.rename_axis(index = 'Period', columns = 'Fanancials')\n",
    "df"
   ]
  },
  {
   "cell_type": "code",
   "execution_count": null,
   "id": "3e459977-0a13-4f0f-8e7a-8fdeb0e34598",
   "metadata": {},
   "outputs": [],
   "source": []
  },
  {
   "cell_type": "markdown",
   "id": "e58d9538-6783-4b64-a169-f7686ee404bb",
   "metadata": {},
   "source": [
    "#### Discretization and Binning"
   ]
  },
  {
   "cell_type": "raw",
   "id": "ef1f3de4-953f-467d-bf3b-3b56158b959c",
   "metadata": {},
   "source": [
    "Discretization and binning are powerful techniques used in data preprocessing to convert continuous variables into discrete intervals or categories. This process can help simplify models, reduce noise, and make patterns more apparent. In many real-world applications—such as customer segmentation, risk analysis, or even preparing data for machine learning—transforming continuous data into categorical bins can be very useful."
   ]
  },
  {
   "cell_type": "raw",
   "id": "074a922c-cf07-4e95-9c5c-87029d5359dc",
   "metadata": {},
   "source": [
    "Continuous data is often discretized or otherwise separated into “bins” for analysis. Suppose you have data about a group of people in a study, and you want to group them into discrete age buckets:"
   ]
  },
  {
   "cell_type": "markdown",
   "id": "540e4098-397a-486c-b4bd-e7009fd1b976",
   "metadata": {},
   "source": [
    "####  1. Discretization with pd.cut()"
   ]
  },
  {
   "cell_type": "raw",
   "id": "e4d74314-c56c-4fcc-9c52-db7d4c4dc681",
   "metadata": {},
   "source": [
    "SYNTAX:\n",
    "pd.cut(x, bins, right=True, labels=None, retbins=False, precision=3, include_lowest=False, duplicates='raise', ordered=True)\n",
    "\n",
    "x: 1D array-like (Series, list, or array) – The data to be binned.\n",
    "bins: int, sequence of scalars – Defines the bin edges.\n",
    "      If an integer, it specifies the number of equal-width bins.\n",
    "      If a sequence, it specifies the exact bin edges.\n",
    "right (default=True): Whether the bins include the right edge (i.e., (a, b] or [a, b)).\n",
    "labels: array or False (default=None) – Assigns labels to bins instead of returning bin intervals.\n",
    "retbins: bool (default=False) – If True, returns the bin edges.\n",
    "precision: int (default=3) – Decimal precision of bin labels.\n",
    "include_lowest: bool (default=False) – Whether the first bin should include the lowest value.\n",
    "duplicates: {‘raise’, ‘drop’} (default='raise') – If bin edges are not unique, handle duplicates by raising an error or dropping them.\n",
    "ordered: bool (default=True) – Whether the labels are treated as ordered categorical."
   ]
  },
  {
   "cell_type": "code",
   "execution_count": 132,
   "id": "afb468b4-204a-475a-baf6-24092f94429b",
   "metadata": {},
   "outputs": [],
   "source": [
    "data = [1, 7, 5, 4, 6, 8, 10, 15, 20]"
   ]
  },
  {
   "cell_type": "code",
   "execution_count": 133,
   "id": "2f6badf0-c331-4c9d-935f-d2d9a7b9e3ea",
   "metadata": {},
   "outputs": [],
   "source": [
    "binned = pd.cut(data, bins = 3)"
   ]
  },
  {
   "cell_type": "code",
   "execution_count": 134,
   "id": "bfe157e7-0d7c-43e9-93ef-3cefd1c958ef",
   "metadata": {},
   "outputs": [
    {
     "data": {
      "text/plain": [
       "[(0.981, 7.333], (0.981, 7.333], (0.981, 7.333], (0.981, 7.333], (0.981, 7.333], (7.333, 13.667], (7.333, 13.667], (13.667, 20.0], (13.667, 20.0]]\n",
       "Categories (3, interval[float64, right]): [(0.981, 7.333] < (7.333, 13.667] < (13.667, 20.0]]"
      ]
     },
     "execution_count": 134,
     "metadata": {},
     "output_type": "execute_result"
    }
   ],
   "source": [
    "binned"
   ]
  },
  {
   "cell_type": "code",
   "execution_count": 135,
   "id": "d1c0f70a-a05a-427a-a3cd-02211f74bb7b",
   "metadata": {},
   "outputs": [
    {
     "data": {
      "text/plain": [
       "IntervalIndex([(0.981, 7.333], (7.333, 13.667], (13.667, 20.0]], dtype='interval[float64, right]')"
      ]
     },
     "execution_count": 135,
     "metadata": {},
     "output_type": "execute_result"
    }
   ],
   "source": [
    "binned.categories"
   ]
  },
  {
   "cell_type": "code",
   "execution_count": null,
   "id": "8ced9aea-01b7-4c8f-9d5f-f6090089f733",
   "metadata": {},
   "outputs": [],
   "source": []
  },
  {
   "cell_type": "code",
   "execution_count": 136,
   "id": "2c684ea0-66a8-4bc0-90c2-a40eab6fff4e",
   "metadata": {},
   "outputs": [],
   "source": [
    "bins = [0, 5, 10, 15, 20]  \n",
    "labels = ['Low', 'Medium', 'High', 'Very High']\n",
    "\n",
    "binned = pd.cut(data, bins=bins, labels=labels)"
   ]
  },
  {
   "cell_type": "code",
   "execution_count": 137,
   "id": "0d36b379-7c7e-42d6-92cf-344bc336cacf",
   "metadata": {},
   "outputs": [
    {
     "data": {
      "text/plain": [
       "['Low', 'Medium', 'Low', 'Low', 'Medium', 'Medium', 'Medium', 'High', 'Very High']\n",
       "Categories (4, object): ['Low' < 'Medium' < 'High' < 'Very High']"
      ]
     },
     "execution_count": 137,
     "metadata": {},
     "output_type": "execute_result"
    }
   ],
   "source": [
    "binned"
   ]
  },
  {
   "cell_type": "code",
   "execution_count": null,
   "id": "d499a33c-54c9-45e3-a51b-cab4a1f23643",
   "metadata": {},
   "outputs": [],
   "source": []
  },
  {
   "cell_type": "code",
   "execution_count": null,
   "id": "ea41fe08-d129-4d41-9874-c9184bf4a3a4",
   "metadata": {},
   "outputs": [],
   "source": []
  },
  {
   "cell_type": "code",
   "execution_count": 138,
   "id": "d97bd7bd-59c2-4a1a-9370-00338ea92c25",
   "metadata": {},
   "outputs": [],
   "source": [
    "ages = [15, 22, 27, 35, 42, 57, 63, 70, 18, 29, 31, 45, 50, 68, 80]"
   ]
  },
  {
   "cell_type": "raw",
   "id": "dd873140-8787-4fd9-8024-dbf5d8e5c006",
   "metadata": {},
   "source": [
    "Let’s divide these into bins of 0 to 18, 19 to 35, 36 to 60, and finally 61 and older. "
   ]
  },
  {
   "cell_type": "code",
   "execution_count": 139,
   "id": "e4e97bff-e5d2-46c0-aa2c-afdc52013614",
   "metadata": {},
   "outputs": [],
   "source": [
    "bins = [0, 18, 35, 60, np.inf]"
   ]
  },
  {
   "cell_type": "code",
   "execution_count": 140,
   "id": "e2eaa990-730b-4524-9b2d-b1394aa9d13a",
   "metadata": {},
   "outputs": [],
   "source": [
    "age_categories = pd.cut(ages, bins = bins)"
   ]
  },
  {
   "cell_type": "code",
   "execution_count": 141,
   "id": "652f44a5-bb0e-4b53-a501-e2f2931311d2",
   "metadata": {},
   "outputs": [
    {
     "data": {
      "text/plain": [
       "[(0.0, 18.0], (18.0, 35.0], (18.0, 35.0], (18.0, 35.0], (35.0, 60.0], ..., (18.0, 35.0], (35.0, 60.0], (35.0, 60.0], (60.0, inf], (60.0, inf]]\n",
       "Length: 15\n",
       "Categories (4, interval[float64, right]): [(0.0, 18.0] < (18.0, 35.0] < (35.0, 60.0] < (60.0, inf]]"
      ]
     },
     "execution_count": 141,
     "metadata": {},
     "output_type": "execute_result"
    }
   ],
   "source": [
    "age_categories"
   ]
  },
  {
   "cell_type": "code",
   "execution_count": 142,
   "id": "b554e7e1-fadc-46d9-8e27-4d68302448e7",
   "metadata": {},
   "outputs": [
    {
     "data": {
      "text/plain": [
       "(18.0, 35.0]    5\n",
       "(35.0, 60.0]    4\n",
       "(60.0, inf]     4\n",
       "(0.0, 18.0]     2\n",
       "Name: count, dtype: int64"
      ]
     },
     "execution_count": 142,
     "metadata": {},
     "output_type": "execute_result"
    }
   ],
   "source": [
    "pd.Series.value_counts(age_categories)"
   ]
  },
  {
   "cell_type": "code",
   "execution_count": 143,
   "id": "7ba4ceb0-27c9-43d8-80e3-833b98ef0fa7",
   "metadata": {},
   "outputs": [
    {
     "data": {
      "text/plain": [
       "[[0.0, 18.0), [18.0, 35.0), [18.0, 35.0), [35.0, 60.0), [35.0, 60.0), ..., [18.0, 35.0), [35.0, 60.0), [35.0, 60.0), [60.0, inf), [60.0, inf)]\n",
       "Length: 15\n",
       "Categories (4, interval[float64, left]): [[0.0, 18.0) < [18.0, 35.0) < [35.0, 60.0) < [60.0, inf)]"
      ]
     },
     "execution_count": 143,
     "metadata": {},
     "output_type": "execute_result"
    }
   ],
   "source": [
    "# let's change the right inclusion\n",
    "pd.cut(ages, bins, right=False)"
   ]
  },
  {
   "cell_type": "raw",
   "id": "ec304440-9681-433e-b18b-06b408dbc95d",
   "metadata": {},
   "source": [
    "we can override the default interval-based bin labeling by passing a list or array to the labels option:"
   ]
  },
  {
   "cell_type": "code",
   "execution_count": 144,
   "id": "ea789809-ae98-464c-a8d6-9aa3f3fe5ef0",
   "metadata": {},
   "outputs": [],
   "source": [
    "groups = ['Child', 'Young Adult', 'Adult', 'Senior']\n",
    "age_catagory = pd.cut(ages, bins, labels = groups)"
   ]
  },
  {
   "cell_type": "code",
   "execution_count": 145,
   "id": "d378e59d-f42f-451b-9e2d-aa7a09c4531b",
   "metadata": {},
   "outputs": [
    {
     "data": {
      "text/plain": [
       "['Child', 'Young Adult', 'Young Adult', 'Young Adult', 'Adult', ..., 'Young Adult', 'Adult', 'Adult', 'Senior', 'Senior']\n",
       "Length: 15\n",
       "Categories (4, object): ['Child' < 'Young Adult' < 'Adult' < 'Senior']"
      ]
     },
     "execution_count": 145,
     "metadata": {},
     "output_type": "execute_result"
    }
   ],
   "source": [
    "age_catagory"
   ]
  },
  {
   "cell_type": "code",
   "execution_count": 146,
   "id": "26efa7f6-7c04-4262-8486-919bba9f965e",
   "metadata": {},
   "outputs": [
    {
     "data": {
      "text/plain": [
       "Young Adult    5\n",
       "Adult          4\n",
       "Senior         4\n",
       "Child          2\n",
       "Name: count, dtype: int64"
      ]
     },
     "execution_count": 146,
     "metadata": {},
     "output_type": "execute_result"
    }
   ],
   "source": [
    "pd.Series.value_counts(age_catagory)"
   ]
  },
  {
   "cell_type": "code",
   "execution_count": null,
   "id": "946e47e4-517e-4e59-bbdc-23157e3c3702",
   "metadata": {},
   "outputs": [],
   "source": []
  },
  {
   "cell_type": "code",
   "execution_count": null,
   "id": "722b5e4b-7ed9-4c96-9338-60729ee2a2ac",
   "metadata": {},
   "outputs": [],
   "source": []
  },
  {
   "cell_type": "markdown",
   "id": "351cb942-fad4-4159-ada6-a7e9e8ab997d",
   "metadata": {},
   "source": [
    "#### 2. Quantile-Based Discretization with pd.qcut()"
   ]
  },
  {
   "cell_type": "raw",
   "id": "21b51a66-78cd-4131-9759-5cab8d3ccec3",
   "metadata": {},
   "source": [
    "The pd.qcut() function in pandas is used to bin data into quantiles, ensuring that each bin has an equal number of observations. Unlike pd.cut(), which creates bins of equal width, pd.qcut() creates bins of equal frequency."
   ]
  },
  {
   "cell_type": "code",
   "execution_count": 147,
   "id": "ac026c6f-34de-4676-bdb3-849d2b313c8b",
   "metadata": {},
   "outputs": [],
   "source": [
    "data = [1, 7, 5, 4, 6, 8, 10, 15, 20]"
   ]
  },
  {
   "cell_type": "code",
   "execution_count": 148,
   "id": "84556532-2b81-4b9d-9279-ce0386833262",
   "metadata": {},
   "outputs": [
    {
     "data": {
      "text/plain": [
       "[(0.999, 5.0], (5.0, 7.0], (0.999, 5.0], (0.999, 5.0], (5.0, 7.0], (7.0, 10.0], (7.0, 10.0], (10.0, 20.0], (10.0, 20.0]]\n",
       "Categories (4, interval[float64, right]): [(0.999, 5.0] < (5.0, 7.0] < (7.0, 10.0] < (10.0, 20.0]]"
      ]
     },
     "execution_count": 148,
     "metadata": {},
     "output_type": "execute_result"
    }
   ],
   "source": [
    "pd.qcut(data, 4)"
   ]
  },
  {
   "cell_type": "code",
   "execution_count": 149,
   "id": "65b97026-89a4-43bf-9aee-fb0974bdcb43",
   "metadata": {},
   "outputs": [],
   "source": [
    "bins = [0, 5, 10, 15, 20]  \n",
    "labels = ['Low', 'Medium', 'High', 'Very High']"
   ]
  },
  {
   "cell_type": "code",
   "execution_count": 150,
   "id": "512a1567-34df-4e61-87a5-2660407964ae",
   "metadata": {},
   "outputs": [
    {
     "data": {
      "text/plain": [
       "['Low', 'Medium', 'Low', 'Low', 'Medium', 'Medium', 'High', 'High', 'High']\n",
       "Categories (3, object): ['Low' < 'Medium' < 'High']"
      ]
     },
     "execution_count": 150,
     "metadata": {},
     "output_type": "execute_result"
    }
   ],
   "source": [
    "pd.qcut(data, q=3, labels=['Low', 'Medium', 'High'])"
   ]
  },
  {
   "cell_type": "code",
   "execution_count": 151,
   "id": "d90fae04-3f8d-4918-9cbf-6056c5d1531c",
   "metadata": {},
   "outputs": [],
   "source": [
    "binned, bins = pd.qcut(data, q=4, retbins=True)"
   ]
  },
  {
   "cell_type": "code",
   "execution_count": 152,
   "id": "45611acd-ed6a-4e0e-8428-31b81eb08ece",
   "metadata": {},
   "outputs": [
    {
     "data": {
      "text/plain": [
       "[(0.999, 5.0], (5.0, 7.0], (0.999, 5.0], (0.999, 5.0], (5.0, 7.0], (7.0, 10.0], (7.0, 10.0], (10.0, 20.0], (10.0, 20.0]]\n",
       "Categories (4, interval[float64, right]): [(0.999, 5.0] < (5.0, 7.0] < (7.0, 10.0] < (10.0, 20.0]]"
      ]
     },
     "execution_count": 152,
     "metadata": {},
     "output_type": "execute_result"
    }
   ],
   "source": [
    "binned"
   ]
  },
  {
   "cell_type": "code",
   "execution_count": 153,
   "id": "a009fa90-02a4-4dba-b9a9-6a74a4d17c2c",
   "metadata": {},
   "outputs": [
    {
     "data": {
      "text/plain": [
       "array([ 1.,  5.,  7., 10., 20.])"
      ]
     },
     "execution_count": 153,
     "metadata": {},
     "output_type": "execute_result"
    }
   ],
   "source": [
    "bins"
   ]
  },
  {
   "cell_type": "markdown",
   "id": "64ec5cb4-fb09-4147-85ff-ed7a41f19295",
   "metadata": {},
   "source": [
    "### Examples"
   ]
  },
  {
   "cell_type": "raw",
   "id": "54ab2537-b0f7-4902-914b-bd48cf49206c",
   "metadata": {},
   "source": [
    "Below is an example that demonstrates how we can apply both pd.cut() and pd.qcut() on a real-world–like dataset. In this example, we simulate a dataset of individuals’ annual incomes. Then we use:\n",
    "\n",
    "pd.cut() to categorize incomes into fixed, meaningful ranges (e.g., “Low”, “Average”, etc.).\n",
    "pd.qcut() to split the incomes into quartiles (or any quantile-based groups) so that each group has roughly the same number of individuals."
   ]
  },
  {
   "cell_type": "raw",
   "id": "5714d9aa-1d72-46d6-948b-481c22ed92d3",
   "metadata": {},
   "source": [
    "Step 1: Set Up a Sample Dataset\n",
    "We’ll first create a dataset of 1,000 simulated incomes. Incomes are generated from a normal distribution (mean $50,000, standard deviation $15,000) so that we can mimic real-world variability."
   ]
  },
  {
   "cell_type": "code",
   "execution_count": 154,
   "id": "77a64033-3505-4835-a340-b0e3795c47ca",
   "metadata": {},
   "outputs": [],
   "source": [
    "np.random.seed(42)\n",
    "df = pd.DataFrame({'Income': np.random.normal(50000, 15000, 1000)})"
   ]
  },
  {
   "cell_type": "code",
   "execution_count": 155,
   "id": "606bdb74-bf88-4276-ab14-9752d4262a99",
   "metadata": {},
   "outputs": [
    {
     "data": {
      "text/html": [
       "<div>\n",
       "<style scoped>\n",
       "    .dataframe tbody tr th:only-of-type {\n",
       "        vertical-align: middle;\n",
       "    }\n",
       "\n",
       "    .dataframe tbody tr th {\n",
       "        vertical-align: top;\n",
       "    }\n",
       "\n",
       "    .dataframe thead th {\n",
       "        text-align: right;\n",
       "    }\n",
       "</style>\n",
       "<table border=\"1\" class=\"dataframe\">\n",
       "  <thead>\n",
       "    <tr style=\"text-align: right;\">\n",
       "      <th></th>\n",
       "      <th>Income</th>\n",
       "    </tr>\n",
       "  </thead>\n",
       "  <tbody>\n",
       "    <tr>\n",
       "      <th>0</th>\n",
       "      <td>57450.712295</td>\n",
       "    </tr>\n",
       "    <tr>\n",
       "      <th>1</th>\n",
       "      <td>47926.035482</td>\n",
       "    </tr>\n",
       "    <tr>\n",
       "      <th>2</th>\n",
       "      <td>59715.328072</td>\n",
       "    </tr>\n",
       "    <tr>\n",
       "      <th>3</th>\n",
       "      <td>72845.447846</td>\n",
       "    </tr>\n",
       "    <tr>\n",
       "      <th>4</th>\n",
       "      <td>46487.699379</td>\n",
       "    </tr>\n",
       "  </tbody>\n",
       "</table>\n",
       "</div>"
      ],
      "text/plain": [
       "         Income\n",
       "0  57450.712295\n",
       "1  47926.035482\n",
       "2  59715.328072\n",
       "3  72845.447846\n",
       "4  46487.699379"
      ]
     },
     "execution_count": 155,
     "metadata": {},
     "output_type": "execute_result"
    }
   ],
   "source": [
    "df.head()"
   ]
  },
  {
   "cell_type": "raw",
   "id": "bf6da0ce-67f2-4f14-9f26-20a29efb908f",
   "metadata": {},
   "source": [
    "Step 2: Categorize Incomes with pd.cut()\n",
    "Suppose you want to define specific income ranges based on domain knowledge. For example:\n",
    "\n",
    "Low: Income between $0 and $40,000\n",
    "Average: Income between $40,000 and $60,000\n",
    "High: Income between $60,000 and $80,000\n",
    "Very High: Income above $80,000"
   ]
  },
  {
   "cell_type": "code",
   "execution_count": 156,
   "id": "fecdef87-cb25-4158-ac78-aec2b4bac3c4",
   "metadata": {},
   "outputs": [],
   "source": [
    "# Define the bins and corresponding labels\n",
    "bins = [0, 40000, 60000, 80000, np.inf]\n",
    "labels = ['Low', 'Average', 'High', 'Very High']"
   ]
  },
  {
   "cell_type": "code",
   "execution_count": 157,
   "id": "55d36720-80d2-4427-9c76-97fb16f97d30",
   "metadata": {},
   "outputs": [],
   "source": [
    "# Categorize the Income column using pd.cut()\n",
    "df['Income Level'] = pd.cut(df['Income'], bins = bins, labels = labels)"
   ]
  },
  {
   "cell_type": "code",
   "execution_count": 158,
   "id": "22e0b362-af7b-46a2-8745-cebe1549f33d",
   "metadata": {},
   "outputs": [
    {
     "data": {
      "text/html": [
       "<div>\n",
       "<style scoped>\n",
       "    .dataframe tbody tr th:only-of-type {\n",
       "        vertical-align: middle;\n",
       "    }\n",
       "\n",
       "    .dataframe tbody tr th {\n",
       "        vertical-align: top;\n",
       "    }\n",
       "\n",
       "    .dataframe thead th {\n",
       "        text-align: right;\n",
       "    }\n",
       "</style>\n",
       "<table border=\"1\" class=\"dataframe\">\n",
       "  <thead>\n",
       "    <tr style=\"text-align: right;\">\n",
       "      <th></th>\n",
       "      <th>Income</th>\n",
       "      <th>Income Level</th>\n",
       "    </tr>\n",
       "  </thead>\n",
       "  <tbody>\n",
       "    <tr>\n",
       "      <th>0</th>\n",
       "      <td>57450.712295</td>\n",
       "      <td>Average</td>\n",
       "    </tr>\n",
       "    <tr>\n",
       "      <th>1</th>\n",
       "      <td>47926.035482</td>\n",
       "      <td>Average</td>\n",
       "    </tr>\n",
       "    <tr>\n",
       "      <th>2</th>\n",
       "      <td>59715.328072</td>\n",
       "      <td>Average</td>\n",
       "    </tr>\n",
       "    <tr>\n",
       "      <th>3</th>\n",
       "      <td>72845.447846</td>\n",
       "      <td>High</td>\n",
       "    </tr>\n",
       "    <tr>\n",
       "      <th>4</th>\n",
       "      <td>46487.699379</td>\n",
       "      <td>Average</td>\n",
       "    </tr>\n",
       "  </tbody>\n",
       "</table>\n",
       "</div>"
      ],
      "text/plain": [
       "         Income Income Level\n",
       "0  57450.712295      Average\n",
       "1  47926.035482      Average\n",
       "2  59715.328072      Average\n",
       "3  72845.447846         High\n",
       "4  46487.699379      Average"
      ]
     },
     "execution_count": 158,
     "metadata": {},
     "output_type": "execute_result"
    }
   ],
   "source": [
    "df.head()"
   ]
  },
  {
   "cell_type": "code",
   "execution_count": 159,
   "id": "1656d877-cc5d-4cbe-89b5-75d758f1cba2",
   "metadata": {},
   "outputs": [
    {
     "data": {
      "text/plain": [
       "Income Level\n",
       "Average      514\n",
       "Low          243\n",
       "High         219\n",
       "Very High     24\n",
       "Name: count, dtype: int64"
      ]
     },
     "execution_count": 159,
     "metadata": {},
     "output_type": "execute_result"
    }
   ],
   "source": [
    "# Check the distribution of income levels\n",
    "df['Income Level'].value_counts()"
   ]
  },
  {
   "cell_type": "raw",
   "id": "5f49283b-5c8d-4d3d-b4bb-e093804286ac",
   "metadata": {},
   "source": [
    "Step 3: Create Quantile-Based Bins with pd.qcut()\n",
    "Now imagine you want to split the incomes into quartiles so that each group has an equal number of individuals. This approach is useful when you want groups with the same number of observations regardless of the exact income ranges."
   ]
  },
  {
   "cell_type": "code",
   "execution_count": 160,
   "id": "6b5284e1-3005-4988-973e-1c73baaed431",
   "metadata": {},
   "outputs": [],
   "source": [
    "df['Income Quantile'] = pd.qcut(df['Income'], 4, labels = ['Q1', 'Q2', 'Q3', 'Q4'])"
   ]
  },
  {
   "cell_type": "code",
   "execution_count": 161,
   "id": "f74b4f29-42e8-445d-abb6-fb2ca88b0f2e",
   "metadata": {},
   "outputs": [
    {
     "data": {
      "text/html": [
       "<div>\n",
       "<style scoped>\n",
       "    .dataframe tbody tr th:only-of-type {\n",
       "        vertical-align: middle;\n",
       "    }\n",
       "\n",
       "    .dataframe tbody tr th {\n",
       "        vertical-align: top;\n",
       "    }\n",
       "\n",
       "    .dataframe thead th {\n",
       "        text-align: right;\n",
       "    }\n",
       "</style>\n",
       "<table border=\"1\" class=\"dataframe\">\n",
       "  <thead>\n",
       "    <tr style=\"text-align: right;\">\n",
       "      <th></th>\n",
       "      <th>Income</th>\n",
       "      <th>Income Level</th>\n",
       "      <th>Income Quantile</th>\n",
       "    </tr>\n",
       "  </thead>\n",
       "  <tbody>\n",
       "    <tr>\n",
       "      <th>0</th>\n",
       "      <td>57450.712295</td>\n",
       "      <td>Average</td>\n",
       "      <td>Q3</td>\n",
       "    </tr>\n",
       "    <tr>\n",
       "      <th>1</th>\n",
       "      <td>47926.035482</td>\n",
       "      <td>Average</td>\n",
       "      <td>Q2</td>\n",
       "    </tr>\n",
       "    <tr>\n",
       "      <th>2</th>\n",
       "      <td>59715.328072</td>\n",
       "      <td>Average</td>\n",
       "      <td>Q3</td>\n",
       "    </tr>\n",
       "    <tr>\n",
       "      <th>3</th>\n",
       "      <td>72845.447846</td>\n",
       "      <td>High</td>\n",
       "      <td>Q4</td>\n",
       "    </tr>\n",
       "    <tr>\n",
       "      <th>4</th>\n",
       "      <td>46487.699379</td>\n",
       "      <td>Average</td>\n",
       "      <td>Q2</td>\n",
       "    </tr>\n",
       "    <tr>\n",
       "      <th>5</th>\n",
       "      <td>46487.945646</td>\n",
       "      <td>Average</td>\n",
       "      <td>Q2</td>\n",
       "    </tr>\n",
       "    <tr>\n",
       "      <th>6</th>\n",
       "      <td>73688.192233</td>\n",
       "      <td>High</td>\n",
       "      <td>Q4</td>\n",
       "    </tr>\n",
       "    <tr>\n",
       "      <th>7</th>\n",
       "      <td>61511.520937</td>\n",
       "      <td>High</td>\n",
       "      <td>Q4</td>\n",
       "    </tr>\n",
       "    <tr>\n",
       "      <th>8</th>\n",
       "      <td>42957.884211</td>\n",
       "      <td>Average</td>\n",
       "      <td>Q2</td>\n",
       "    </tr>\n",
       "    <tr>\n",
       "      <th>9</th>\n",
       "      <td>58138.400654</td>\n",
       "      <td>Average</td>\n",
       "      <td>Q3</td>\n",
       "    </tr>\n",
       "  </tbody>\n",
       "</table>\n",
       "</div>"
      ],
      "text/plain": [
       "         Income Income Level Income Quantile\n",
       "0  57450.712295      Average              Q3\n",
       "1  47926.035482      Average              Q2\n",
       "2  59715.328072      Average              Q3\n",
       "3  72845.447846         High              Q4\n",
       "4  46487.699379      Average              Q2\n",
       "5  46487.945646      Average              Q2\n",
       "6  73688.192233         High              Q4\n",
       "7  61511.520937         High              Q4\n",
       "8  42957.884211      Average              Q2\n",
       "9  58138.400654      Average              Q3"
      ]
     },
     "execution_count": 161,
     "metadata": {},
     "output_type": "execute_result"
    }
   ],
   "source": [
    "df.head(10)"
   ]
  },
  {
   "cell_type": "code",
   "execution_count": 162,
   "id": "1d250cc0-33fe-4c6c-babe-1425d6a45ff9",
   "metadata": {},
   "outputs": [
    {
     "data": {
      "text/plain": [
       "Income Quantile\n",
       "Q1    250\n",
       "Q2    250\n",
       "Q3    250\n",
       "Q4    250\n",
       "Name: count, dtype: int64"
      ]
     },
     "execution_count": 162,
     "metadata": {},
     "output_type": "execute_result"
    }
   ],
   "source": [
    "df['Income Quantile'].value_counts()"
   ]
  },
  {
   "cell_type": "code",
   "execution_count": null,
   "id": "fca7d55e-2e38-4108-b46f-eb4da1b23a8c",
   "metadata": {},
   "outputs": [],
   "source": []
  },
  {
   "cell_type": "markdown",
   "id": "4a365cd2-cfb7-47e6-afde-c9ed36538b2e",
   "metadata": {},
   "source": [
    "## Example: Age Grouping with pd.cut()"
   ]
  },
  {
   "cell_type": "raw",
   "id": "9f4fb7d2-cd06-4c25-95d9-df753a1954a7",
   "metadata": {},
   "source": [
    "Imagine you have data on individuals’ ages and want to categorize them into life stages (e.g., Child, Teenager, Adult, Senior). You can use pd.cut() with predefined age ranges."
   ]
  },
  {
   "cell_type": "code",
   "execution_count": 163,
   "id": "77bea4da-7b88-436f-bd74-50abd5b40b74",
   "metadata": {},
   "outputs": [],
   "source": [
    "data = {'Age': np.random.randint(1, 100, size = 1000)}\n",
    "df = pd.DataFrame(data)"
   ]
  },
  {
   "cell_type": "code",
   "execution_count": 164,
   "id": "e61b57e3-654e-49e1-864d-d42f669c7fe2",
   "metadata": {},
   "outputs": [
    {
     "data": {
      "text/html": [
       "<div>\n",
       "<style scoped>\n",
       "    .dataframe tbody tr th:only-of-type {\n",
       "        vertical-align: middle;\n",
       "    }\n",
       "\n",
       "    .dataframe tbody tr th {\n",
       "        vertical-align: top;\n",
       "    }\n",
       "\n",
       "    .dataframe thead th {\n",
       "        text-align: right;\n",
       "    }\n",
       "</style>\n",
       "<table border=\"1\" class=\"dataframe\">\n",
       "  <thead>\n",
       "    <tr style=\"text-align: right;\">\n",
       "      <th></th>\n",
       "      <th>Age</th>\n",
       "    </tr>\n",
       "  </thead>\n",
       "  <tbody>\n",
       "    <tr>\n",
       "      <th>0</th>\n",
       "      <td>44</td>\n",
       "    </tr>\n",
       "    <tr>\n",
       "      <th>1</th>\n",
       "      <td>49</td>\n",
       "    </tr>\n",
       "    <tr>\n",
       "      <th>2</th>\n",
       "      <td>75</td>\n",
       "    </tr>\n",
       "    <tr>\n",
       "      <th>3</th>\n",
       "      <td>61</td>\n",
       "    </tr>\n",
       "    <tr>\n",
       "      <th>4</th>\n",
       "      <td>67</td>\n",
       "    </tr>\n",
       "  </tbody>\n",
       "</table>\n",
       "</div>"
      ],
      "text/plain": [
       "   Age\n",
       "0   44\n",
       "1   49\n",
       "2   75\n",
       "3   61\n",
       "4   67"
      ]
     },
     "execution_count": 164,
     "metadata": {},
     "output_type": "execute_result"
    }
   ],
   "source": [
    "df.head()"
   ]
  },
  {
   "cell_type": "code",
   "execution_count": 165,
   "id": "40686e28-f365-45fd-95f0-47e7cd69ad70",
   "metadata": {},
   "outputs": [],
   "source": [
    "bins = [0, 12, 19, 64, 100]\n",
    "labels = ['Child', 'Teenager', 'Adult', 'Senior']"
   ]
  },
  {
   "cell_type": "code",
   "execution_count": 166,
   "id": "b3e7f04f-0b68-4ef3-b830-26f6f12a0364",
   "metadata": {},
   "outputs": [],
   "source": [
    "df['Stage'] = pd.cut(df['Age'], bins = bins, labels = labels)"
   ]
  },
  {
   "cell_type": "code",
   "execution_count": 167,
   "id": "8881dba4-2036-4626-bc4a-f8ec2df9ca0f",
   "metadata": {},
   "outputs": [
    {
     "data": {
      "text/html": [
       "<div>\n",
       "<style scoped>\n",
       "    .dataframe tbody tr th:only-of-type {\n",
       "        vertical-align: middle;\n",
       "    }\n",
       "\n",
       "    .dataframe tbody tr th {\n",
       "        vertical-align: top;\n",
       "    }\n",
       "\n",
       "    .dataframe thead th {\n",
       "        text-align: right;\n",
       "    }\n",
       "</style>\n",
       "<table border=\"1\" class=\"dataframe\">\n",
       "  <thead>\n",
       "    <tr style=\"text-align: right;\">\n",
       "      <th></th>\n",
       "      <th>Age</th>\n",
       "      <th>Stage</th>\n",
       "    </tr>\n",
       "  </thead>\n",
       "  <tbody>\n",
       "    <tr>\n",
       "      <th>0</th>\n",
       "      <td>44</td>\n",
       "      <td>Adult</td>\n",
       "    </tr>\n",
       "    <tr>\n",
       "      <th>1</th>\n",
       "      <td>49</td>\n",
       "      <td>Adult</td>\n",
       "    </tr>\n",
       "    <tr>\n",
       "      <th>2</th>\n",
       "      <td>75</td>\n",
       "      <td>Senior</td>\n",
       "    </tr>\n",
       "    <tr>\n",
       "      <th>3</th>\n",
       "      <td>61</td>\n",
       "      <td>Adult</td>\n",
       "    </tr>\n",
       "    <tr>\n",
       "      <th>4</th>\n",
       "      <td>67</td>\n",
       "      <td>Senior</td>\n",
       "    </tr>\n",
       "    <tr>\n",
       "      <th>5</th>\n",
       "      <td>6</td>\n",
       "      <td>Child</td>\n",
       "    </tr>\n",
       "    <tr>\n",
       "      <th>6</th>\n",
       "      <td>9</td>\n",
       "      <td>Child</td>\n",
       "    </tr>\n",
       "    <tr>\n",
       "      <th>7</th>\n",
       "      <td>6</td>\n",
       "      <td>Child</td>\n",
       "    </tr>\n",
       "    <tr>\n",
       "      <th>8</th>\n",
       "      <td>73</td>\n",
       "      <td>Senior</td>\n",
       "    </tr>\n",
       "    <tr>\n",
       "      <th>9</th>\n",
       "      <td>95</td>\n",
       "      <td>Senior</td>\n",
       "    </tr>\n",
       "  </tbody>\n",
       "</table>\n",
       "</div>"
      ],
      "text/plain": [
       "   Age   Stage\n",
       "0   44   Adult\n",
       "1   49   Adult\n",
       "2   75  Senior\n",
       "3   61   Adult\n",
       "4   67  Senior\n",
       "5    6   Child\n",
       "6    9   Child\n",
       "7    6   Child\n",
       "8   73  Senior\n",
       "9   95  Senior"
      ]
     },
     "execution_count": 167,
     "metadata": {},
     "output_type": "execute_result"
    }
   ],
   "source": [
    "df.head(10)"
   ]
  },
  {
   "cell_type": "code",
   "execution_count": 168,
   "id": "bac086e3-d8a9-42b3-b9c2-f77ae8f78123",
   "metadata": {},
   "outputs": [
    {
     "data": {
      "text/plain": [
       "Stage\n",
       "Adult       453\n",
       "Senior      333\n",
       "Child       139\n",
       "Teenager     75\n",
       "Name: count, dtype: int64"
      ]
     },
     "execution_count": 168,
     "metadata": {},
     "output_type": "execute_result"
    }
   ],
   "source": [
    "df['Stage'].value_counts()"
   ]
  },
  {
   "cell_type": "code",
   "execution_count": null,
   "id": "0e3379d1-df56-4435-a49e-d75e4a89398f",
   "metadata": {},
   "outputs": [],
   "source": []
  },
  {
   "cell_type": "code",
   "execution_count": null,
   "id": "a36d27d2-500e-43ae-98d8-1724c07a9cf4",
   "metadata": {},
   "outputs": [],
   "source": []
  },
  {
   "cell_type": "markdown",
   "id": "4ce89137-a55b-40a5-a515-d4c7959f5943",
   "metadata": {},
   "source": [
    "## Example: Student Exam Scores with pd.qcut()"
   ]
  },
  {
   "cell_type": "raw",
   "id": "37eb2bb7-ef5e-44af-b381-3df462a2611f",
   "metadata": {},
   "source": [
    "Suppose you have exam scores for a class of students and want to assign them into performance quartiles (e.g., Q1 for the lowest 25% up to Q4 for the highest 25%). Here, pd.qcut() automatically divides the data into bins with roughly equal numbers of observation"
   ]
  },
  {
   "cell_type": "code",
   "execution_count": 169,
   "id": "d811c775-87ce-400f-8ef5-e3d126df4271",
   "metadata": {},
   "outputs": [],
   "source": [
    "np.random.seed(112)\n",
    "data = {'Score': np.round(np.random.uniform(50, 100, 50))}\n",
    "df = pd.DataFrame(data)"
   ]
  },
  {
   "cell_type": "code",
   "execution_count": 170,
   "id": "03c151dc-1b79-447a-9ef7-1b82a351bb83",
   "metadata": {},
   "outputs": [
    {
     "data": {
      "text/html": [
       "<div>\n",
       "<style scoped>\n",
       "    .dataframe tbody tr th:only-of-type {\n",
       "        vertical-align: middle;\n",
       "    }\n",
       "\n",
       "    .dataframe tbody tr th {\n",
       "        vertical-align: top;\n",
       "    }\n",
       "\n",
       "    .dataframe thead th {\n",
       "        text-align: right;\n",
       "    }\n",
       "</style>\n",
       "<table border=\"1\" class=\"dataframe\">\n",
       "  <thead>\n",
       "    <tr style=\"text-align: right;\">\n",
       "      <th></th>\n",
       "      <th>Score</th>\n",
       "    </tr>\n",
       "  </thead>\n",
       "  <tbody>\n",
       "    <tr>\n",
       "      <th>0</th>\n",
       "      <td>69.0</td>\n",
       "    </tr>\n",
       "    <tr>\n",
       "      <th>1</th>\n",
       "      <td>82.0</td>\n",
       "    </tr>\n",
       "    <tr>\n",
       "      <th>2</th>\n",
       "      <td>98.0</td>\n",
       "    </tr>\n",
       "    <tr>\n",
       "      <th>3</th>\n",
       "      <td>54.0</td>\n",
       "    </tr>\n",
       "    <tr>\n",
       "      <th>4</th>\n",
       "      <td>89.0</td>\n",
       "    </tr>\n",
       "  </tbody>\n",
       "</table>\n",
       "</div>"
      ],
      "text/plain": [
       "   Score\n",
       "0   69.0\n",
       "1   82.0\n",
       "2   98.0\n",
       "3   54.0\n",
       "4   89.0"
      ]
     },
     "execution_count": 170,
     "metadata": {},
     "output_type": "execute_result"
    }
   ],
   "source": [
    "df.head()"
   ]
  },
  {
   "cell_type": "code",
   "execution_count": 171,
   "id": "30760362-ed1a-4457-906b-b1ce8dec4f2c",
   "metadata": {},
   "outputs": [],
   "source": [
    "df['Score Quartile'] = pd.qcut(df['Score'], 4, ['Q1', 'Q2', 'Q3', 'Q4'])"
   ]
  },
  {
   "cell_type": "code",
   "execution_count": 172,
   "id": "4c703bb0-98e9-4f49-a30f-07baff480cad",
   "metadata": {},
   "outputs": [
    {
     "data": {
      "text/html": [
       "<div>\n",
       "<style scoped>\n",
       "    .dataframe tbody tr th:only-of-type {\n",
       "        vertical-align: middle;\n",
       "    }\n",
       "\n",
       "    .dataframe tbody tr th {\n",
       "        vertical-align: top;\n",
       "    }\n",
       "\n",
       "    .dataframe thead th {\n",
       "        text-align: right;\n",
       "    }\n",
       "</style>\n",
       "<table border=\"1\" class=\"dataframe\">\n",
       "  <thead>\n",
       "    <tr style=\"text-align: right;\">\n",
       "      <th></th>\n",
       "      <th>Score</th>\n",
       "      <th>Score Quartile</th>\n",
       "    </tr>\n",
       "  </thead>\n",
       "  <tbody>\n",
       "    <tr>\n",
       "      <th>0</th>\n",
       "      <td>69.0</td>\n",
       "      <td>Q2</td>\n",
       "    </tr>\n",
       "    <tr>\n",
       "      <th>1</th>\n",
       "      <td>82.0</td>\n",
       "      <td>Q3</td>\n",
       "    </tr>\n",
       "    <tr>\n",
       "      <th>2</th>\n",
       "      <td>98.0</td>\n",
       "      <td>Q4</td>\n",
       "    </tr>\n",
       "    <tr>\n",
       "      <th>3</th>\n",
       "      <td>54.0</td>\n",
       "      <td>Q1</td>\n",
       "    </tr>\n",
       "    <tr>\n",
       "      <th>4</th>\n",
       "      <td>89.0</td>\n",
       "      <td>Q4</td>\n",
       "    </tr>\n",
       "    <tr>\n",
       "      <th>5</th>\n",
       "      <td>92.0</td>\n",
       "      <td>Q4</td>\n",
       "    </tr>\n",
       "    <tr>\n",
       "      <th>6</th>\n",
       "      <td>53.0</td>\n",
       "      <td>Q1</td>\n",
       "    </tr>\n",
       "    <tr>\n",
       "      <th>7</th>\n",
       "      <td>91.0</td>\n",
       "      <td>Q4</td>\n",
       "    </tr>\n",
       "    <tr>\n",
       "      <th>8</th>\n",
       "      <td>94.0</td>\n",
       "      <td>Q4</td>\n",
       "    </tr>\n",
       "    <tr>\n",
       "      <th>9</th>\n",
       "      <td>86.0</td>\n",
       "      <td>Q3</td>\n",
       "    </tr>\n",
       "  </tbody>\n",
       "</table>\n",
       "</div>"
      ],
      "text/plain": [
       "   Score Score Quartile\n",
       "0   69.0             Q2\n",
       "1   82.0             Q3\n",
       "2   98.0             Q4\n",
       "3   54.0             Q1\n",
       "4   89.0             Q4\n",
       "5   92.0             Q4\n",
       "6   53.0             Q1\n",
       "7   91.0             Q4\n",
       "8   94.0             Q4\n",
       "9   86.0             Q3"
      ]
     },
     "execution_count": 172,
     "metadata": {},
     "output_type": "execute_result"
    }
   ],
   "source": [
    "df.head(10)"
   ]
  },
  {
   "cell_type": "code",
   "execution_count": 173,
   "id": "59b62cd9-184d-4e53-9da1-14d3ac9c347b",
   "metadata": {},
   "outputs": [
    {
     "data": {
      "text/plain": [
       "Score Quartile\n",
       "Q2    14\n",
       "Q1    13\n",
       "Q4    13\n",
       "Q3    10\n",
       "Name: count, dtype: int64"
      ]
     },
     "execution_count": 173,
     "metadata": {},
     "output_type": "execute_result"
    }
   ],
   "source": [
    "df['Score Quartile'].value_counts()"
   ]
  },
  {
   "cell_type": "code",
   "execution_count": null,
   "id": "a5942e94-544b-47e7-9a3d-dacb639ce933",
   "metadata": {},
   "outputs": [],
   "source": []
  },
  {
   "cell_type": "markdown",
   "id": "eaf6755d-1151-4b66-85c7-2ddc109354ea",
   "metadata": {},
   "source": [
    "## Example: Housing Price Segmentation with Both pd.cut() and pd.qcut()"
   ]
  },
  {
   "cell_type": "raw",
   "id": "9509fedc-95bc-42e4-bbdf-addf1d6fa3c1",
   "metadata": {},
   "source": [
    "Imagine you’re analyzing housing prices and want to segment the market in two different ways:\n",
    "\n",
    "Using pd.cut(): Categorize houses into predefined price ranges (e.g., Budget, Mid-range, Luxury).\n",
    "Using pd.qcut(): Divide houses into quartiles so that each group contains roughly the same number of properties."
   ]
  },
  {
   "cell_type": "code",
   "execution_count": 174,
   "id": "2d1e83a3-9ff2-426b-9415-61d28d9037ea",
   "metadata": {},
   "outputs": [],
   "source": [
    "np.random.seed(53)\n",
    "prices = np.random.uniform(3000000, 40000000, 200)\n",
    "\n",
    "# Ensure no negative prices by setting a minimum value (e.g., $50,000)\n",
    "prices = np.clip(prices, 50000, None)\n",
    "df = pd.DataFrame({'Price': prices})"
   ]
  },
  {
   "cell_type": "code",
   "execution_count": 175,
   "id": "df427c2d-f5de-48b7-a205-8faf4a69a2cb",
   "metadata": {},
   "outputs": [
    {
     "data": {
      "text/html": [
       "<div>\n",
       "<style scoped>\n",
       "    .dataframe tbody tr th:only-of-type {\n",
       "        vertical-align: middle;\n",
       "    }\n",
       "\n",
       "    .dataframe tbody tr th {\n",
       "        vertical-align: top;\n",
       "    }\n",
       "\n",
       "    .dataframe thead th {\n",
       "        text-align: right;\n",
       "    }\n",
       "</style>\n",
       "<table border=\"1\" class=\"dataframe\">\n",
       "  <thead>\n",
       "    <tr style=\"text-align: right;\">\n",
       "      <th></th>\n",
       "      <th>Price</th>\n",
       "    </tr>\n",
       "  </thead>\n",
       "  <tbody>\n",
       "    <tr>\n",
       "      <th>0</th>\n",
       "      <td>3.432651e+07</td>\n",
       "    </tr>\n",
       "    <tr>\n",
       "      <th>1</th>\n",
       "      <td>2.376312e+07</td>\n",
       "    </tr>\n",
       "    <tr>\n",
       "      <th>2</th>\n",
       "      <td>1.983039e+07</td>\n",
       "    </tr>\n",
       "    <tr>\n",
       "      <th>3</th>\n",
       "      <td>1.603047e+07</td>\n",
       "    </tr>\n",
       "    <tr>\n",
       "      <th>4</th>\n",
       "      <td>2.467650e+07</td>\n",
       "    </tr>\n",
       "  </tbody>\n",
       "</table>\n",
       "</div>"
      ],
      "text/plain": [
       "          Price\n",
       "0  3.432651e+07\n",
       "1  2.376312e+07\n",
       "2  1.983039e+07\n",
       "3  1.603047e+07\n",
       "4  2.467650e+07"
      ]
     },
     "execution_count": 175,
     "metadata": {},
     "output_type": "execute_result"
    }
   ],
   "source": [
    "df.head()"
   ]
  },
  {
   "cell_type": "code",
   "execution_count": 176,
   "id": "728bb448-9e03-4f1b-a0dd-65ef30bf6930",
   "metadata": {},
   "outputs": [],
   "source": [
    "price_bins = [0, 8000000, 15000000, np.inf]\n",
    "price_labels = ['Budget', 'Mid-range', 'Luxury']"
   ]
  },
  {
   "cell_type": "code",
   "execution_count": 177,
   "id": "08995d12-97aa-4fe9-8366-788f7b99797f",
   "metadata": {},
   "outputs": [],
   "source": [
    "df['Price Category'] = pd.cut(df['Price'], bins = price_bins, labels = price_labels)"
   ]
  },
  {
   "cell_type": "code",
   "execution_count": 178,
   "id": "05b78b72-3c9e-4a70-8bfb-db931f158a3e",
   "metadata": {},
   "outputs": [
    {
     "data": {
      "text/html": [
       "<div>\n",
       "<style scoped>\n",
       "    .dataframe tbody tr th:only-of-type {\n",
       "        vertical-align: middle;\n",
       "    }\n",
       "\n",
       "    .dataframe tbody tr th {\n",
       "        vertical-align: top;\n",
       "    }\n",
       "\n",
       "    .dataframe thead th {\n",
       "        text-align: right;\n",
       "    }\n",
       "</style>\n",
       "<table border=\"1\" class=\"dataframe\">\n",
       "  <thead>\n",
       "    <tr style=\"text-align: right;\">\n",
       "      <th></th>\n",
       "      <th>Price</th>\n",
       "      <th>Price Category</th>\n",
       "    </tr>\n",
       "  </thead>\n",
       "  <tbody>\n",
       "    <tr>\n",
       "      <th>0</th>\n",
       "      <td>3.432651e+07</td>\n",
       "      <td>Luxury</td>\n",
       "    </tr>\n",
       "    <tr>\n",
       "      <th>1</th>\n",
       "      <td>2.376312e+07</td>\n",
       "      <td>Luxury</td>\n",
       "    </tr>\n",
       "    <tr>\n",
       "      <th>2</th>\n",
       "      <td>1.983039e+07</td>\n",
       "      <td>Luxury</td>\n",
       "    </tr>\n",
       "    <tr>\n",
       "      <th>3</th>\n",
       "      <td>1.603047e+07</td>\n",
       "      <td>Luxury</td>\n",
       "    </tr>\n",
       "    <tr>\n",
       "      <th>4</th>\n",
       "      <td>2.467650e+07</td>\n",
       "      <td>Luxury</td>\n",
       "    </tr>\n",
       "    <tr>\n",
       "      <th>5</th>\n",
       "      <td>2.282274e+07</td>\n",
       "      <td>Luxury</td>\n",
       "    </tr>\n",
       "    <tr>\n",
       "      <th>6</th>\n",
       "      <td>3.361588e+07</td>\n",
       "      <td>Luxury</td>\n",
       "    </tr>\n",
       "    <tr>\n",
       "      <th>7</th>\n",
       "      <td>1.278806e+07</td>\n",
       "      <td>Mid-range</td>\n",
       "    </tr>\n",
       "    <tr>\n",
       "      <th>8</th>\n",
       "      <td>2.070003e+07</td>\n",
       "      <td>Luxury</td>\n",
       "    </tr>\n",
       "    <tr>\n",
       "      <th>9</th>\n",
       "      <td>1.586805e+07</td>\n",
       "      <td>Luxury</td>\n",
       "    </tr>\n",
       "  </tbody>\n",
       "</table>\n",
       "</div>"
      ],
      "text/plain": [
       "          Price Price Category\n",
       "0  3.432651e+07         Luxury\n",
       "1  2.376312e+07         Luxury\n",
       "2  1.983039e+07         Luxury\n",
       "3  1.603047e+07         Luxury\n",
       "4  2.467650e+07         Luxury\n",
       "5  2.282274e+07         Luxury\n",
       "6  3.361588e+07         Luxury\n",
       "7  1.278806e+07      Mid-range\n",
       "8  2.070003e+07         Luxury\n",
       "9  1.586805e+07         Luxury"
      ]
     },
     "execution_count": 178,
     "metadata": {},
     "output_type": "execute_result"
    }
   ],
   "source": [
    "df.head(10)"
   ]
  },
  {
   "cell_type": "code",
   "execution_count": 179,
   "id": "a61e232e-e095-4751-af9b-80deba75e961",
   "metadata": {},
   "outputs": [
    {
     "data": {
      "text/plain": [
       "Price Category\n",
       "Luxury       147\n",
       "Mid-range     30\n",
       "Budget        23\n",
       "Name: count, dtype: int64"
      ]
     },
     "execution_count": 179,
     "metadata": {},
     "output_type": "execute_result"
    }
   ],
   "source": [
    "df['Price Category'].value_counts()"
   ]
  },
  {
   "cell_type": "code",
   "execution_count": 180,
   "id": "1a73a4d4-0239-4d2e-9f32-ca9d4718b04d",
   "metadata": {},
   "outputs": [],
   "source": [
    "df['Price Quartile'] = pd.qcut(df['Price'], 4, labels=['Q1', 'Q2', 'Q3', 'Q4'])"
   ]
  },
  {
   "cell_type": "code",
   "execution_count": 181,
   "id": "5ed71a75-7bbf-4ecb-8eb0-1a7da18ad417",
   "metadata": {},
   "outputs": [
    {
     "data": {
      "text/html": [
       "<div>\n",
       "<style scoped>\n",
       "    .dataframe tbody tr th:only-of-type {\n",
       "        vertical-align: middle;\n",
       "    }\n",
       "\n",
       "    .dataframe tbody tr th {\n",
       "        vertical-align: top;\n",
       "    }\n",
       "\n",
       "    .dataframe thead th {\n",
       "        text-align: right;\n",
       "    }\n",
       "</style>\n",
       "<table border=\"1\" class=\"dataframe\">\n",
       "  <thead>\n",
       "    <tr style=\"text-align: right;\">\n",
       "      <th></th>\n",
       "      <th>Price</th>\n",
       "      <th>Price Category</th>\n",
       "      <th>Price Quartile</th>\n",
       "    </tr>\n",
       "  </thead>\n",
       "  <tbody>\n",
       "    <tr>\n",
       "      <th>0</th>\n",
       "      <td>3.432651e+07</td>\n",
       "      <td>Luxury</td>\n",
       "      <td>Q4</td>\n",
       "    </tr>\n",
       "    <tr>\n",
       "      <th>1</th>\n",
       "      <td>2.376312e+07</td>\n",
       "      <td>Luxury</td>\n",
       "      <td>Q3</td>\n",
       "    </tr>\n",
       "    <tr>\n",
       "      <th>2</th>\n",
       "      <td>1.983039e+07</td>\n",
       "      <td>Luxury</td>\n",
       "      <td>Q2</td>\n",
       "    </tr>\n",
       "    <tr>\n",
       "      <th>3</th>\n",
       "      <td>1.603047e+07</td>\n",
       "      <td>Luxury</td>\n",
       "      <td>Q2</td>\n",
       "    </tr>\n",
       "    <tr>\n",
       "      <th>4</th>\n",
       "      <td>2.467650e+07</td>\n",
       "      <td>Luxury</td>\n",
       "      <td>Q3</td>\n",
       "    </tr>\n",
       "    <tr>\n",
       "      <th>5</th>\n",
       "      <td>2.282274e+07</td>\n",
       "      <td>Luxury</td>\n",
       "      <td>Q2</td>\n",
       "    </tr>\n",
       "    <tr>\n",
       "      <th>6</th>\n",
       "      <td>3.361588e+07</td>\n",
       "      <td>Luxury</td>\n",
       "      <td>Q4</td>\n",
       "    </tr>\n",
       "    <tr>\n",
       "      <th>7</th>\n",
       "      <td>1.278806e+07</td>\n",
       "      <td>Mid-range</td>\n",
       "      <td>Q1</td>\n",
       "    </tr>\n",
       "    <tr>\n",
       "      <th>8</th>\n",
       "      <td>2.070003e+07</td>\n",
       "      <td>Luxury</td>\n",
       "      <td>Q2</td>\n",
       "    </tr>\n",
       "    <tr>\n",
       "      <th>9</th>\n",
       "      <td>1.586805e+07</td>\n",
       "      <td>Luxury</td>\n",
       "      <td>Q2</td>\n",
       "    </tr>\n",
       "  </tbody>\n",
       "</table>\n",
       "</div>"
      ],
      "text/plain": [
       "          Price Price Category Price Quartile\n",
       "0  3.432651e+07         Luxury             Q4\n",
       "1  2.376312e+07         Luxury             Q3\n",
       "2  1.983039e+07         Luxury             Q2\n",
       "3  1.603047e+07         Luxury             Q2\n",
       "4  2.467650e+07         Luxury             Q3\n",
       "5  2.282274e+07         Luxury             Q2\n",
       "6  3.361588e+07         Luxury             Q4\n",
       "7  1.278806e+07      Mid-range             Q1\n",
       "8  2.070003e+07         Luxury             Q2\n",
       "9  1.586805e+07         Luxury             Q2"
      ]
     },
     "execution_count": 181,
     "metadata": {},
     "output_type": "execute_result"
    }
   ],
   "source": [
    "df.head(10)"
   ]
  },
  {
   "cell_type": "code",
   "execution_count": 182,
   "id": "9f89500b-4745-46cc-93e9-5f86c42dbd92",
   "metadata": {},
   "outputs": [
    {
     "data": {
      "text/plain": [
       "Price Quartile\n",
       "Q1    50\n",
       "Q2    50\n",
       "Q3    50\n",
       "Q4    50\n",
       "Name: count, dtype: int64"
      ]
     },
     "execution_count": 182,
     "metadata": {},
     "output_type": "execute_result"
    }
   ],
   "source": [
    "df['Price Quartile'].value_counts()"
   ]
  },
  {
   "cell_type": "code",
   "execution_count": null,
   "id": "eb590b9b-f07f-4f94-938c-0812b2b7b041",
   "metadata": {},
   "outputs": [],
   "source": []
  },
  {
   "cell_type": "markdown",
   "id": "a5a46213-72bd-4f67-8499-bf5d65ab7370",
   "metadata": {},
   "source": [
    "####  Detecting and Filtering Outliers"
   ]
  },
  {
   "cell_type": "raw",
   "id": "6eb98836-6df9-400c-8721-2afb6c716eab",
   "metadata": {},
   "source": [
    "Filtering or transforming outliers is largely a matter of applying array operations.\n",
    "Consider a DataFrame with some normally distributed data:"
   ]
  },
  {
   "cell_type": "code",
   "execution_count": 183,
   "id": "f71971c0-779d-44f5-b661-53f984828e1a",
   "metadata": {},
   "outputs": [],
   "source": [
    "df = pd.DataFrame(np.random.standard_normal((1000, 4)))"
   ]
  },
  {
   "cell_type": "code",
   "execution_count": 184,
   "id": "c89663fc-0970-4831-bd33-002e11fcc8fa",
   "metadata": {},
   "outputs": [
    {
     "data": {
      "text/html": [
       "<div>\n",
       "<style scoped>\n",
       "    .dataframe tbody tr th:only-of-type {\n",
       "        vertical-align: middle;\n",
       "    }\n",
       "\n",
       "    .dataframe tbody tr th {\n",
       "        vertical-align: top;\n",
       "    }\n",
       "\n",
       "    .dataframe thead th {\n",
       "        text-align: right;\n",
       "    }\n",
       "</style>\n",
       "<table border=\"1\" class=\"dataframe\">\n",
       "  <thead>\n",
       "    <tr style=\"text-align: right;\">\n",
       "      <th></th>\n",
       "      <th>0</th>\n",
       "      <th>1</th>\n",
       "      <th>2</th>\n",
       "      <th>3</th>\n",
       "    </tr>\n",
       "  </thead>\n",
       "  <tbody>\n",
       "    <tr>\n",
       "      <th>0</th>\n",
       "      <td>0.222817</td>\n",
       "      <td>0.190511</td>\n",
       "      <td>1.771046</td>\n",
       "      <td>0.563271</td>\n",
       "    </tr>\n",
       "    <tr>\n",
       "      <th>1</th>\n",
       "      <td>-0.066081</td>\n",
       "      <td>-0.011890</td>\n",
       "      <td>0.485773</td>\n",
       "      <td>0.197435</td>\n",
       "    </tr>\n",
       "    <tr>\n",
       "      <th>2</th>\n",
       "      <td>0.531431</td>\n",
       "      <td>0.327612</td>\n",
       "      <td>-0.743776</td>\n",
       "      <td>-1.716714</td>\n",
       "    </tr>\n",
       "    <tr>\n",
       "      <th>3</th>\n",
       "      <td>0.547507</td>\n",
       "      <td>-0.784494</td>\n",
       "      <td>0.174774</td>\n",
       "      <td>-0.373695</td>\n",
       "    </tr>\n",
       "    <tr>\n",
       "      <th>4</th>\n",
       "      <td>0.951607</td>\n",
       "      <td>-1.366329</td>\n",
       "      <td>-1.184671</td>\n",
       "      <td>-0.967506</td>\n",
       "    </tr>\n",
       "  </tbody>\n",
       "</table>\n",
       "</div>"
      ],
      "text/plain": [
       "          0         1         2         3\n",
       "0  0.222817  0.190511  1.771046  0.563271\n",
       "1 -0.066081 -0.011890  0.485773  0.197435\n",
       "2  0.531431  0.327612 -0.743776 -1.716714\n",
       "3  0.547507 -0.784494  0.174774 -0.373695\n",
       "4  0.951607 -1.366329 -1.184671 -0.967506"
      ]
     },
     "execution_count": 184,
     "metadata": {},
     "output_type": "execute_result"
    }
   ],
   "source": [
    "df.head()"
   ]
  },
  {
   "cell_type": "code",
   "execution_count": 185,
   "id": "0f563bba-5026-4808-8522-dd4f73cd83da",
   "metadata": {},
   "outputs": [
    {
     "data": {
      "text/html": [
       "<div>\n",
       "<style scoped>\n",
       "    .dataframe tbody tr th:only-of-type {\n",
       "        vertical-align: middle;\n",
       "    }\n",
       "\n",
       "    .dataframe tbody tr th {\n",
       "        vertical-align: top;\n",
       "    }\n",
       "\n",
       "    .dataframe thead th {\n",
       "        text-align: right;\n",
       "    }\n",
       "</style>\n",
       "<table border=\"1\" class=\"dataframe\">\n",
       "  <thead>\n",
       "    <tr style=\"text-align: right;\">\n",
       "      <th></th>\n",
       "      <th>0</th>\n",
       "      <th>1</th>\n",
       "      <th>2</th>\n",
       "      <th>3</th>\n",
       "    </tr>\n",
       "  </thead>\n",
       "  <tbody>\n",
       "    <tr>\n",
       "      <th>count</th>\n",
       "      <td>1000.000000</td>\n",
       "      <td>1000.000000</td>\n",
       "      <td>1000.000000</td>\n",
       "      <td>1000.000000</td>\n",
       "    </tr>\n",
       "    <tr>\n",
       "      <th>mean</th>\n",
       "      <td>-0.006817</td>\n",
       "      <td>-0.048355</td>\n",
       "      <td>-0.042604</td>\n",
       "      <td>0.023903</td>\n",
       "    </tr>\n",
       "    <tr>\n",
       "      <th>std</th>\n",
       "      <td>1.000081</td>\n",
       "      <td>0.991533</td>\n",
       "      <td>0.969148</td>\n",
       "      <td>0.961629</td>\n",
       "    </tr>\n",
       "    <tr>\n",
       "      <th>min</th>\n",
       "      <td>-3.522098</td>\n",
       "      <td>-3.245870</td>\n",
       "      <td>-3.828995</td>\n",
       "      <td>-3.286579</td>\n",
       "    </tr>\n",
       "    <tr>\n",
       "      <th>25%</th>\n",
       "      <td>-0.686055</td>\n",
       "      <td>-0.700780</td>\n",
       "      <td>-0.697313</td>\n",
       "      <td>-0.632765</td>\n",
       "    </tr>\n",
       "    <tr>\n",
       "      <th>50%</th>\n",
       "      <td>0.009727</td>\n",
       "      <td>-0.028887</td>\n",
       "      <td>-0.015472</td>\n",
       "      <td>0.072305</td>\n",
       "    </tr>\n",
       "    <tr>\n",
       "      <th>75%</th>\n",
       "      <td>0.689827</td>\n",
       "      <td>0.617394</td>\n",
       "      <td>0.603155</td>\n",
       "      <td>0.667354</td>\n",
       "    </tr>\n",
       "    <tr>\n",
       "      <th>max</th>\n",
       "      <td>3.155768</td>\n",
       "      <td>3.763275</td>\n",
       "      <td>3.570555</td>\n",
       "      <td>3.379262</td>\n",
       "    </tr>\n",
       "  </tbody>\n",
       "</table>\n",
       "</div>"
      ],
      "text/plain": [
       "                 0            1            2            3\n",
       "count  1000.000000  1000.000000  1000.000000  1000.000000\n",
       "mean     -0.006817    -0.048355    -0.042604     0.023903\n",
       "std       1.000081     0.991533     0.969148     0.961629\n",
       "min      -3.522098    -3.245870    -3.828995    -3.286579\n",
       "25%      -0.686055    -0.700780    -0.697313    -0.632765\n",
       "50%       0.009727    -0.028887    -0.015472     0.072305\n",
       "75%       0.689827     0.617394     0.603155     0.667354\n",
       "max       3.155768     3.763275     3.570555     3.379262"
      ]
     },
     "execution_count": 185,
     "metadata": {},
     "output_type": "execute_result"
    }
   ],
   "source": [
    "df.describe()"
   ]
  },
  {
   "cell_type": "raw",
   "id": "cec0dee5-6c82-461a-9f80-c3c1ab424ec5",
   "metadata": {},
   "source": [
    "Suppose you wanted to find values in one of the columns exceeding 3 in absolute value:"
   ]
  },
  {
   "cell_type": "code",
   "execution_count": null,
   "id": "84a6be31-f44f-42e5-80d8-4fef8071c5f6",
   "metadata": {},
   "outputs": [],
   "source": []
  },
  {
   "cell_type": "code",
   "execution_count": 186,
   "id": "d63f1072-eb83-4c2a-b094-5b1bb9de59cd",
   "metadata": {},
   "outputs": [
    {
     "data": {
      "text/plain": [
       "80    -3.112635\n",
       "135   -3.245870\n",
       "144    3.353238\n",
       "582    3.763275\n",
       "639    3.418813\n",
       "Name: 1, dtype: float64"
      ]
     },
     "execution_count": 186,
     "metadata": {},
     "output_type": "execute_result"
    }
   ],
   "source": [
    "# let's check absolute value of values greater than 3 from column 1\n",
    "df[1][df[1].abs() > 3]"
   ]
  },
  {
   "cell_type": "code",
   "execution_count": 187,
   "id": "27c85736-98ff-4d2c-bf07-7325b5c82704",
   "metadata": {},
   "outputs": [
    {
     "data": {
      "text/html": [
       "<div>\n",
       "<style scoped>\n",
       "    .dataframe tbody tr th:only-of-type {\n",
       "        vertical-align: middle;\n",
       "    }\n",
       "\n",
       "    .dataframe tbody tr th {\n",
       "        vertical-align: top;\n",
       "    }\n",
       "\n",
       "    .dataframe thead th {\n",
       "        text-align: right;\n",
       "    }\n",
       "</style>\n",
       "<table border=\"1\" class=\"dataframe\">\n",
       "  <thead>\n",
       "    <tr style=\"text-align: right;\">\n",
       "      <th></th>\n",
       "      <th>0</th>\n",
       "      <th>1</th>\n",
       "      <th>2</th>\n",
       "      <th>3</th>\n",
       "    </tr>\n",
       "  </thead>\n",
       "  <tbody>\n",
       "    <tr>\n",
       "      <th>40</th>\n",
       "      <td>3.155768</td>\n",
       "      <td>0.757217</td>\n",
       "      <td>1.369375</td>\n",
       "      <td>1.455905</td>\n",
       "    </tr>\n",
       "    <tr>\n",
       "      <th>78</th>\n",
       "      <td>0.286802</td>\n",
       "      <td>-1.368267</td>\n",
       "      <td>0.475424</td>\n",
       "      <td>3.379262</td>\n",
       "    </tr>\n",
       "    <tr>\n",
       "      <th>80</th>\n",
       "      <td>0.904455</td>\n",
       "      <td>-3.112635</td>\n",
       "      <td>-0.177241</td>\n",
       "      <td>-1.137504</td>\n",
       "    </tr>\n",
       "    <tr>\n",
       "      <th>135</th>\n",
       "      <td>0.096213</td>\n",
       "      <td>-3.245870</td>\n",
       "      <td>-0.433385</td>\n",
       "      <td>-0.637028</td>\n",
       "    </tr>\n",
       "    <tr>\n",
       "      <th>138</th>\n",
       "      <td>-0.567387</td>\n",
       "      <td>-0.983145</td>\n",
       "      <td>3.570555</td>\n",
       "      <td>0.996056</td>\n",
       "    </tr>\n",
       "    <tr>\n",
       "      <th>144</th>\n",
       "      <td>-0.665892</td>\n",
       "      <td>3.353238</td>\n",
       "      <td>-0.659654</td>\n",
       "      <td>-1.739872</td>\n",
       "    </tr>\n",
       "    <tr>\n",
       "      <th>207</th>\n",
       "      <td>-3.522098</td>\n",
       "      <td>-1.921622</td>\n",
       "      <td>-1.284414</td>\n",
       "      <td>1.200885</td>\n",
       "    </tr>\n",
       "    <tr>\n",
       "      <th>582</th>\n",
       "      <td>-0.822313</td>\n",
       "      <td>3.763275</td>\n",
       "      <td>-0.389612</td>\n",
       "      <td>1.247466</td>\n",
       "    </tr>\n",
       "    <tr>\n",
       "      <th>639</th>\n",
       "      <td>0.343575</td>\n",
       "      <td>3.418813</td>\n",
       "      <td>-0.271494</td>\n",
       "      <td>0.328045</td>\n",
       "    </tr>\n",
       "    <tr>\n",
       "      <th>753</th>\n",
       "      <td>-0.029423</td>\n",
       "      <td>0.085052</td>\n",
       "      <td>-3.828995</td>\n",
       "      <td>1.141235</td>\n",
       "    </tr>\n",
       "    <tr>\n",
       "      <th>754</th>\n",
       "      <td>-0.859450</td>\n",
       "      <td>-0.442682</td>\n",
       "      <td>0.577230</td>\n",
       "      <td>-3.232656</td>\n",
       "    </tr>\n",
       "    <tr>\n",
       "      <th>763</th>\n",
       "      <td>2.245118</td>\n",
       "      <td>0.274611</td>\n",
       "      <td>-0.538939</td>\n",
       "      <td>-3.286579</td>\n",
       "    </tr>\n",
       "  </tbody>\n",
       "</table>\n",
       "</div>"
      ],
      "text/plain": [
       "            0         1         2         3\n",
       "40   3.155768  0.757217  1.369375  1.455905\n",
       "78   0.286802 -1.368267  0.475424  3.379262\n",
       "80   0.904455 -3.112635 -0.177241 -1.137504\n",
       "135  0.096213 -3.245870 -0.433385 -0.637028\n",
       "138 -0.567387 -0.983145  3.570555  0.996056\n",
       "144 -0.665892  3.353238 -0.659654 -1.739872\n",
       "207 -3.522098 -1.921622 -1.284414  1.200885\n",
       "582 -0.822313  3.763275 -0.389612  1.247466\n",
       "639  0.343575  3.418813 -0.271494  0.328045\n",
       "753 -0.029423  0.085052 -3.828995  1.141235\n",
       "754 -0.859450 -0.442682  0.577230 -3.232656\n",
       "763  2.245118  0.274611 -0.538939 -3.286579"
      ]
     },
     "execution_count": 187,
     "metadata": {},
     "output_type": "execute_result"
    }
   ],
   "source": [
    "# To select all rows having a value exceeding 3 or –3, we can use the any method on a Boolean DataFrame:\n",
    "df[(df.abs() > 3).any(axis = 'columns')]"
   ]
  },
  {
   "cell_type": "code",
   "execution_count": 188,
   "id": "54bcd85e-cef7-41c7-a72a-7bd159bdf062",
   "metadata": {},
   "outputs": [
    {
     "data": {
      "text/html": [
       "<div>\n",
       "<style scoped>\n",
       "    .dataframe tbody tr th:only-of-type {\n",
       "        vertical-align: middle;\n",
       "    }\n",
       "\n",
       "    .dataframe tbody tr th {\n",
       "        vertical-align: top;\n",
       "    }\n",
       "\n",
       "    .dataframe thead th {\n",
       "        text-align: right;\n",
       "    }\n",
       "</style>\n",
       "<table border=\"1\" class=\"dataframe\">\n",
       "  <thead>\n",
       "    <tr style=\"text-align: right;\">\n",
       "      <th></th>\n",
       "      <th>0</th>\n",
       "      <th>1</th>\n",
       "      <th>2</th>\n",
       "      <th>3</th>\n",
       "    </tr>\n",
       "  </thead>\n",
       "  <tbody>\n",
       "    <tr>\n",
       "      <th>0</th>\n",
       "      <td>1.0</td>\n",
       "      <td>1.0</td>\n",
       "      <td>1.0</td>\n",
       "      <td>1.0</td>\n",
       "    </tr>\n",
       "    <tr>\n",
       "      <th>1</th>\n",
       "      <td>-1.0</td>\n",
       "      <td>-1.0</td>\n",
       "      <td>1.0</td>\n",
       "      <td>1.0</td>\n",
       "    </tr>\n",
       "    <tr>\n",
       "      <th>2</th>\n",
       "      <td>1.0</td>\n",
       "      <td>1.0</td>\n",
       "      <td>-1.0</td>\n",
       "      <td>-1.0</td>\n",
       "    </tr>\n",
       "    <tr>\n",
       "      <th>3</th>\n",
       "      <td>1.0</td>\n",
       "      <td>-1.0</td>\n",
       "      <td>1.0</td>\n",
       "      <td>-1.0</td>\n",
       "    </tr>\n",
       "    <tr>\n",
       "      <th>4</th>\n",
       "      <td>1.0</td>\n",
       "      <td>-1.0</td>\n",
       "      <td>-1.0</td>\n",
       "      <td>-1.0</td>\n",
       "    </tr>\n",
       "  </tbody>\n",
       "</table>\n",
       "</div>"
      ],
      "text/plain": [
       "     0    1    2    3\n",
       "0  1.0  1.0  1.0  1.0\n",
       "1 -1.0 -1.0  1.0  1.0\n",
       "2  1.0  1.0 -1.0 -1.0\n",
       "3  1.0 -1.0  1.0 -1.0\n",
       "4  1.0 -1.0 -1.0 -1.0"
      ]
     },
     "execution_count": 188,
     "metadata": {},
     "output_type": "execute_result"
    }
   ],
   "source": [
    "# np.sign(data) produces 1 and –1 values based on whether the values in data are positive or negative:\n",
    "# for example\n",
    "np.sign(df.head())"
   ]
  },
  {
   "cell_type": "code",
   "execution_count": 189,
   "id": "919389b4-6f70-45f5-91f0-4d5d7fa31691",
   "metadata": {},
   "outputs": [],
   "source": [
    "# so let's filter the outliers by df.abs() maximum is 3\n",
    "df[df.abs() > 3] = np.sign(df) * 3"
   ]
  },
  {
   "cell_type": "code",
   "execution_count": 190,
   "id": "4b2d4358-a4d8-4d4f-8ec0-4ae9c34dfaf9",
   "metadata": {},
   "outputs": [
    {
     "data": {
      "text/html": [
       "<div>\n",
       "<style scoped>\n",
       "    .dataframe tbody tr th:only-of-type {\n",
       "        vertical-align: middle;\n",
       "    }\n",
       "\n",
       "    .dataframe tbody tr th {\n",
       "        vertical-align: top;\n",
       "    }\n",
       "\n",
       "    .dataframe thead th {\n",
       "        text-align: right;\n",
       "    }\n",
       "</style>\n",
       "<table border=\"1\" class=\"dataframe\">\n",
       "  <thead>\n",
       "    <tr style=\"text-align: right;\">\n",
       "      <th></th>\n",
       "      <th>0</th>\n",
       "      <th>1</th>\n",
       "      <th>2</th>\n",
       "      <th>3</th>\n",
       "    </tr>\n",
       "  </thead>\n",
       "  <tbody>\n",
       "    <tr>\n",
       "      <th>count</th>\n",
       "      <td>1000.000000</td>\n",
       "      <td>1000.000000</td>\n",
       "      <td>1000.000000</td>\n",
       "      <td>1000.000000</td>\n",
       "    </tr>\n",
       "    <tr>\n",
       "      <th>mean</th>\n",
       "      <td>-0.006450</td>\n",
       "      <td>-0.049532</td>\n",
       "      <td>-0.042345</td>\n",
       "      <td>0.024043</td>\n",
       "    </tr>\n",
       "    <tr>\n",
       "      <th>std</th>\n",
       "      <td>0.997897</td>\n",
       "      <td>0.985236</td>\n",
       "      <td>0.964288</td>\n",
       "      <td>0.958669</td>\n",
       "    </tr>\n",
       "    <tr>\n",
       "      <th>min</th>\n",
       "      <td>-3.000000</td>\n",
       "      <td>-3.000000</td>\n",
       "      <td>-3.000000</td>\n",
       "      <td>-3.000000</td>\n",
       "    </tr>\n",
       "    <tr>\n",
       "      <th>25%</th>\n",
       "      <td>-0.686055</td>\n",
       "      <td>-0.700780</td>\n",
       "      <td>-0.697313</td>\n",
       "      <td>-0.632765</td>\n",
       "    </tr>\n",
       "    <tr>\n",
       "      <th>50%</th>\n",
       "      <td>0.009727</td>\n",
       "      <td>-0.028887</td>\n",
       "      <td>-0.015472</td>\n",
       "      <td>0.072305</td>\n",
       "    </tr>\n",
       "    <tr>\n",
       "      <th>75%</th>\n",
       "      <td>0.689827</td>\n",
       "      <td>0.617394</td>\n",
       "      <td>0.603155</td>\n",
       "      <td>0.667354</td>\n",
       "    </tr>\n",
       "    <tr>\n",
       "      <th>max</th>\n",
       "      <td>3.000000</td>\n",
       "      <td>3.000000</td>\n",
       "      <td>3.000000</td>\n",
       "      <td>3.000000</td>\n",
       "    </tr>\n",
       "  </tbody>\n",
       "</table>\n",
       "</div>"
      ],
      "text/plain": [
       "                 0            1            2            3\n",
       "count  1000.000000  1000.000000  1000.000000  1000.000000\n",
       "mean     -0.006450    -0.049532    -0.042345     0.024043\n",
       "std       0.997897     0.985236     0.964288     0.958669\n",
       "min      -3.000000    -3.000000    -3.000000    -3.000000\n",
       "25%      -0.686055    -0.700780    -0.697313    -0.632765\n",
       "50%       0.009727    -0.028887    -0.015472     0.072305\n",
       "75%       0.689827     0.617394     0.603155     0.667354\n",
       "max       3.000000     3.000000     3.000000     3.000000"
      ]
     },
     "execution_count": 190,
     "metadata": {},
     "output_type": "execute_result"
    }
   ],
   "source": [
    "# now let's cjheck if there is any outliers\n",
    "df.describe()"
   ]
  },
  {
   "cell_type": "code",
   "execution_count": null,
   "id": "d75cd43a-2ffa-47a6-9d5c-f6759d6febab",
   "metadata": {},
   "outputs": [],
   "source": []
  },
  {
   "cell_type": "raw",
   "id": "c37eabb1-80d3-40af-9584-ff232e2e06e0",
   "metadata": {},
   "source": [
    "1. Using the Interquartile Range (IQR) Method\n",
    "The IQR method is one of the most popular techniques for identifying outliers. It involves:\n",
    "\n",
    "Calculating the Quartiles:\n",
    "    > Q1 (25th percentile)\n",
    "    > Q3 (75th percentile)\n",
    "Computing the IQR:\n",
    "    > IQR = Q3 − Q1\n",
    "Determining Boundaries:\n",
    "    > Lower Bound: Q1 − (1.5 × IQR)\n",
    "    > Upper Bound: Q3 + (1.5 × IQR)\n",
    "Flagging Outliers:\n",
    "    > Any data point below the lower bound or above the upper bound is considered an outlier."
   ]
  },
  {
   "cell_type": "raw",
   "id": "4c53bd4d-881f-46d4-8f85-9bcd2b2a2f72",
   "metadata": {},
   "source": [
    "Example\n",
    "Imagine you have a DataFrame containing sensor readings. Some readings are unusually high or low because of transmission errors."
   ]
  },
  {
   "cell_type": "code",
   "execution_count": 191,
   "id": "8c38ce2d-a2d9-42bd-bad0-49fe7cfbb99c",
   "metadata": {},
   "outputs": [],
   "source": [
    "data = {\n",
    "    'Sensor_Reading': [10, 12, 11, 13, 10, 500, 11, 12, 13, 9, 10, 10, 10, 600]\n",
    "}\n",
    "df = pd.DataFrame(data)"
   ]
  },
  {
   "cell_type": "code",
   "execution_count": 192,
   "id": "84e36fd8-f122-4025-8c43-828d093925d5",
   "metadata": {},
   "outputs": [
    {
     "data": {
      "text/html": [
       "<div>\n",
       "<style scoped>\n",
       "    .dataframe tbody tr th:only-of-type {\n",
       "        vertical-align: middle;\n",
       "    }\n",
       "\n",
       "    .dataframe tbody tr th {\n",
       "        vertical-align: top;\n",
       "    }\n",
       "\n",
       "    .dataframe thead th {\n",
       "        text-align: right;\n",
       "    }\n",
       "</style>\n",
       "<table border=\"1\" class=\"dataframe\">\n",
       "  <thead>\n",
       "    <tr style=\"text-align: right;\">\n",
       "      <th></th>\n",
       "      <th>Sensor_Reading</th>\n",
       "    </tr>\n",
       "  </thead>\n",
       "  <tbody>\n",
       "    <tr>\n",
       "      <th>0</th>\n",
       "      <td>10</td>\n",
       "    </tr>\n",
       "    <tr>\n",
       "      <th>1</th>\n",
       "      <td>12</td>\n",
       "    </tr>\n",
       "    <tr>\n",
       "      <th>2</th>\n",
       "      <td>11</td>\n",
       "    </tr>\n",
       "    <tr>\n",
       "      <th>3</th>\n",
       "      <td>13</td>\n",
       "    </tr>\n",
       "    <tr>\n",
       "      <th>4</th>\n",
       "      <td>10</td>\n",
       "    </tr>\n",
       "    <tr>\n",
       "      <th>5</th>\n",
       "      <td>500</td>\n",
       "    </tr>\n",
       "    <tr>\n",
       "      <th>6</th>\n",
       "      <td>11</td>\n",
       "    </tr>\n",
       "    <tr>\n",
       "      <th>7</th>\n",
       "      <td>12</td>\n",
       "    </tr>\n",
       "    <tr>\n",
       "      <th>8</th>\n",
       "      <td>13</td>\n",
       "    </tr>\n",
       "    <tr>\n",
       "      <th>9</th>\n",
       "      <td>9</td>\n",
       "    </tr>\n",
       "    <tr>\n",
       "      <th>10</th>\n",
       "      <td>10</td>\n",
       "    </tr>\n",
       "    <tr>\n",
       "      <th>11</th>\n",
       "      <td>10</td>\n",
       "    </tr>\n",
       "    <tr>\n",
       "      <th>12</th>\n",
       "      <td>10</td>\n",
       "    </tr>\n",
       "    <tr>\n",
       "      <th>13</th>\n",
       "      <td>600</td>\n",
       "    </tr>\n",
       "  </tbody>\n",
       "</table>\n",
       "</div>"
      ],
      "text/plain": [
       "    Sensor_Reading\n",
       "0               10\n",
       "1               12\n",
       "2               11\n",
       "3               13\n",
       "4               10\n",
       "5              500\n",
       "6               11\n",
       "7               12\n",
       "8               13\n",
       "9                9\n",
       "10              10\n",
       "11              10\n",
       "12              10\n",
       "13             600"
      ]
     },
     "execution_count": 192,
     "metadata": {},
     "output_type": "execute_result"
    }
   ],
   "source": [
    "df"
   ]
  },
  {
   "cell_type": "code",
   "execution_count": 193,
   "id": "bc67d7b7-87d6-4519-b393-097f165c4d86",
   "metadata": {},
   "outputs": [],
   "source": [
    "q1 = df['Sensor_Reading'].quantile(0.25)\n",
    "q3 = df['Sensor_Reading'].quantile(0.75)\n",
    "iqr = q3 - q1"
   ]
  },
  {
   "cell_type": "code",
   "execution_count": 194,
   "id": "204cb682-8639-4867-9b4d-32ca9988c88b",
   "metadata": {},
   "outputs": [],
   "source": [
    "lb = q1 - 1.5 * iqr\n",
    "ub = q3 + 1.5 * iqr"
   ]
  },
  {
   "cell_type": "code",
   "execution_count": 195,
   "id": "42cfaa39-4d3b-41e4-a6f2-ad6306829d08",
   "metadata": {},
   "outputs": [
    {
     "data": {
      "text/plain": [
       "np.float64(5.875)"
      ]
     },
     "execution_count": 195,
     "metadata": {},
     "output_type": "execute_result"
    }
   ],
   "source": [
    "lb"
   ]
  },
  {
   "cell_type": "code",
   "execution_count": 196,
   "id": "78a6a9f7-b48c-4a1c-bd63-781cfce9e49a",
   "metadata": {},
   "outputs": [
    {
     "data": {
      "text/plain": [
       "np.float64(16.875)"
      ]
     },
     "execution_count": 196,
     "metadata": {},
     "output_type": "execute_result"
    }
   ],
   "source": [
    "ub"
   ]
  },
  {
   "cell_type": "code",
   "execution_count": 197,
   "id": "ad2402b7-16cd-45de-9fc5-a4cef4294862",
   "metadata": {},
   "outputs": [],
   "source": [
    "df['Is Outlier'] = (df['Sensor_Reading'] < lb )| (df['Sensor_Reading'] > ub)"
   ]
  },
  {
   "cell_type": "code",
   "execution_count": 198,
   "id": "9ba960bf-db34-4f85-ba17-d9b06b78687a",
   "metadata": {},
   "outputs": [
    {
     "data": {
      "text/html": [
       "<div>\n",
       "<style scoped>\n",
       "    .dataframe tbody tr th:only-of-type {\n",
       "        vertical-align: middle;\n",
       "    }\n",
       "\n",
       "    .dataframe tbody tr th {\n",
       "        vertical-align: top;\n",
       "    }\n",
       "\n",
       "    .dataframe thead th {\n",
       "        text-align: right;\n",
       "    }\n",
       "</style>\n",
       "<table border=\"1\" class=\"dataframe\">\n",
       "  <thead>\n",
       "    <tr style=\"text-align: right;\">\n",
       "      <th></th>\n",
       "      <th>Sensor_Reading</th>\n",
       "      <th>Is Outlier</th>\n",
       "    </tr>\n",
       "  </thead>\n",
       "  <tbody>\n",
       "    <tr>\n",
       "      <th>0</th>\n",
       "      <td>10</td>\n",
       "      <td>False</td>\n",
       "    </tr>\n",
       "    <tr>\n",
       "      <th>1</th>\n",
       "      <td>12</td>\n",
       "      <td>False</td>\n",
       "    </tr>\n",
       "    <tr>\n",
       "      <th>2</th>\n",
       "      <td>11</td>\n",
       "      <td>False</td>\n",
       "    </tr>\n",
       "    <tr>\n",
       "      <th>3</th>\n",
       "      <td>13</td>\n",
       "      <td>False</td>\n",
       "    </tr>\n",
       "    <tr>\n",
       "      <th>4</th>\n",
       "      <td>10</td>\n",
       "      <td>False</td>\n",
       "    </tr>\n",
       "    <tr>\n",
       "      <th>5</th>\n",
       "      <td>500</td>\n",
       "      <td>True</td>\n",
       "    </tr>\n",
       "    <tr>\n",
       "      <th>6</th>\n",
       "      <td>11</td>\n",
       "      <td>False</td>\n",
       "    </tr>\n",
       "    <tr>\n",
       "      <th>7</th>\n",
       "      <td>12</td>\n",
       "      <td>False</td>\n",
       "    </tr>\n",
       "    <tr>\n",
       "      <th>8</th>\n",
       "      <td>13</td>\n",
       "      <td>False</td>\n",
       "    </tr>\n",
       "    <tr>\n",
       "      <th>9</th>\n",
       "      <td>9</td>\n",
       "      <td>False</td>\n",
       "    </tr>\n",
       "    <tr>\n",
       "      <th>10</th>\n",
       "      <td>10</td>\n",
       "      <td>False</td>\n",
       "    </tr>\n",
       "    <tr>\n",
       "      <th>11</th>\n",
       "      <td>10</td>\n",
       "      <td>False</td>\n",
       "    </tr>\n",
       "    <tr>\n",
       "      <th>12</th>\n",
       "      <td>10</td>\n",
       "      <td>False</td>\n",
       "    </tr>\n",
       "    <tr>\n",
       "      <th>13</th>\n",
       "      <td>600</td>\n",
       "      <td>True</td>\n",
       "    </tr>\n",
       "  </tbody>\n",
       "</table>\n",
       "</div>"
      ],
      "text/plain": [
       "    Sensor_Reading  Is Outlier\n",
       "0               10       False\n",
       "1               12       False\n",
       "2               11       False\n",
       "3               13       False\n",
       "4               10       False\n",
       "5              500        True\n",
       "6               11       False\n",
       "7               12       False\n",
       "8               13       False\n",
       "9                9       False\n",
       "10              10       False\n",
       "11              10       False\n",
       "12              10       False\n",
       "13             600        True"
      ]
     },
     "execution_count": 198,
     "metadata": {},
     "output_type": "execute_result"
    }
   ],
   "source": [
    "df"
   ]
  },
  {
   "cell_type": "code",
   "execution_count": 199,
   "id": "3abbdd0d-2cfe-475b-8df5-7807a4bc161b",
   "metadata": {},
   "outputs": [
    {
     "data": {
      "text/plain": [
       "np.int64(2)"
      ]
     },
     "execution_count": 199,
     "metadata": {},
     "output_type": "execute_result"
    }
   ],
   "source": [
    "# total number of outliers\n",
    "df['Is Outlier'].sum()"
   ]
  },
  {
   "cell_type": "code",
   "execution_count": null,
   "id": "bea9e4c8-372e-47aa-ab58-100521949fd0",
   "metadata": {},
   "outputs": [],
   "source": []
  },
  {
   "cell_type": "raw",
   "id": "4942f28b-17bc-474a-a9bf-25c09f4e0c33",
   "metadata": {},
   "source": [
    "2. Using the Z-Score Method"
   ]
  },
  {
   "cell_type": "code",
   "execution_count": null,
   "id": "53db0464-04a2-41b6-9edb-e1ea554b49c4",
   "metadata": {},
   "outputs": [],
   "source": []
  },
  {
   "cell_type": "markdown",
   "id": "9a3c0310-3543-49b1-9ff4-3c9d32fa6041",
   "metadata": {},
   "source": [
    "#### Permutation and Random Sampling"
   ]
  },
  {
   "cell_type": "raw",
   "id": "276efc73-1345-4da8-8ed4-2865cfb139dc",
   "metadata": {},
   "source": [
    "Permutation and random sampling are fundamental techniques in data analysis and machine learning. They allow you to randomize the order of your data (permutation) or extract a random subset of your data (sampling). These techniques are used for tasks such as shuffling data before training models, creating train-test splits, and performing bootstrapping for statistical inference."
   ]
  },
  {
   "cell_type": "raw",
   "id": "0dba1e18-2c33-41d7-ad9b-831334453c5d",
   "metadata": {},
   "source": [
    "1. Permutation\n",
    "A permutation rearranges the order of elements in your data randomly. In the context of a DataFrame, this might mean shuffling the rows so that the ordering is randomized. This is often done to remove ordering biases or to prepare data for cross-validation."
   ]
  },
  {
   "cell_type": "raw",
   "id": "534eb2a2-fde6-4a62-a31e-673b6fe7462a",
   "metadata": {},
   "source": [
    "Methods for Permutation\n",
    "    A. Using Pandas’ sample() Method\n",
    "       The simplest way to shuffle (i.e., permute) the rows of a DataFrame is to use the sample() method with frac=1. This returns all rows in a random order."
   ]
  },
  {
   "cell_type": "code",
   "execution_count": 200,
   "id": "83b4b7dd-335b-4016-8e68-9a7fa9dcf011",
   "metadata": {},
   "outputs": [],
   "source": [
    "df = pd.DataFrame({\n",
    "    'ID': [1, 2, 3, 4, 5],\n",
    "    'Value': ['A', 'B', 'C', 'D', 'E']\n",
    "})"
   ]
  },
  {
   "cell_type": "code",
   "execution_count": 201,
   "id": "8be786d2-706d-4185-ad66-a2d845caecea",
   "metadata": {},
   "outputs": [
    {
     "data": {
      "text/html": [
       "<div>\n",
       "<style scoped>\n",
       "    .dataframe tbody tr th:only-of-type {\n",
       "        vertical-align: middle;\n",
       "    }\n",
       "\n",
       "    .dataframe tbody tr th {\n",
       "        vertical-align: top;\n",
       "    }\n",
       "\n",
       "    .dataframe thead th {\n",
       "        text-align: right;\n",
       "    }\n",
       "</style>\n",
       "<table border=\"1\" class=\"dataframe\">\n",
       "  <thead>\n",
       "    <tr style=\"text-align: right;\">\n",
       "      <th></th>\n",
       "      <th>ID</th>\n",
       "      <th>Value</th>\n",
       "    </tr>\n",
       "  </thead>\n",
       "  <tbody>\n",
       "    <tr>\n",
       "      <th>0</th>\n",
       "      <td>1</td>\n",
       "      <td>A</td>\n",
       "    </tr>\n",
       "    <tr>\n",
       "      <th>1</th>\n",
       "      <td>2</td>\n",
       "      <td>B</td>\n",
       "    </tr>\n",
       "    <tr>\n",
       "      <th>2</th>\n",
       "      <td>3</td>\n",
       "      <td>C</td>\n",
       "    </tr>\n",
       "    <tr>\n",
       "      <th>3</th>\n",
       "      <td>4</td>\n",
       "      <td>D</td>\n",
       "    </tr>\n",
       "    <tr>\n",
       "      <th>4</th>\n",
       "      <td>5</td>\n",
       "      <td>E</td>\n",
       "    </tr>\n",
       "  </tbody>\n",
       "</table>\n",
       "</div>"
      ],
      "text/plain": [
       "   ID Value\n",
       "0   1     A\n",
       "1   2     B\n",
       "2   3     C\n",
       "3   4     D\n",
       "4   5     E"
      ]
     },
     "execution_count": 201,
     "metadata": {},
     "output_type": "execute_result"
    }
   ],
   "source": [
    "df"
   ]
  },
  {
   "cell_type": "code",
   "execution_count": 202,
   "id": "90d57156-b09e-4028-b8aa-3def2c5293e2",
   "metadata": {},
   "outputs": [],
   "source": [
    "# Setting frac=1 tells Pandas to return 100% of the rows, but in a randomized order.\n",
    "# we can use he random_state argument for reproducibility \n",
    "df_shuffled = df.sample(frac = 1, random_state = 42)"
   ]
  },
  {
   "cell_type": "code",
   "execution_count": 203,
   "id": "bb256be2-5d01-4c0b-8b43-7547cf8fe740",
   "metadata": {},
   "outputs": [
    {
     "data": {
      "text/html": [
       "<div>\n",
       "<style scoped>\n",
       "    .dataframe tbody tr th:only-of-type {\n",
       "        vertical-align: middle;\n",
       "    }\n",
       "\n",
       "    .dataframe tbody tr th {\n",
       "        vertical-align: top;\n",
       "    }\n",
       "\n",
       "    .dataframe thead th {\n",
       "        text-align: right;\n",
       "    }\n",
       "</style>\n",
       "<table border=\"1\" class=\"dataframe\">\n",
       "  <thead>\n",
       "    <tr style=\"text-align: right;\">\n",
       "      <th></th>\n",
       "      <th>ID</th>\n",
       "      <th>Value</th>\n",
       "    </tr>\n",
       "  </thead>\n",
       "  <tbody>\n",
       "    <tr>\n",
       "      <th>1</th>\n",
       "      <td>2</td>\n",
       "      <td>B</td>\n",
       "    </tr>\n",
       "    <tr>\n",
       "      <th>4</th>\n",
       "      <td>5</td>\n",
       "      <td>E</td>\n",
       "    </tr>\n",
       "    <tr>\n",
       "      <th>2</th>\n",
       "      <td>3</td>\n",
       "      <td>C</td>\n",
       "    </tr>\n",
       "    <tr>\n",
       "      <th>0</th>\n",
       "      <td>1</td>\n",
       "      <td>A</td>\n",
       "    </tr>\n",
       "    <tr>\n",
       "      <th>3</th>\n",
       "      <td>4</td>\n",
       "      <td>D</td>\n",
       "    </tr>\n",
       "  </tbody>\n",
       "</table>\n",
       "</div>"
      ],
      "text/plain": [
       "   ID Value\n",
       "1   2     B\n",
       "4   5     E\n",
       "2   3     C\n",
       "0   1     A\n",
       "3   4     D"
      ]
     },
     "execution_count": 203,
     "metadata": {},
     "output_type": "execute_result"
    }
   ],
   "source": [
    "df_shuffled"
   ]
  },
  {
   "cell_type": "raw",
   "id": "d2896686-3007-48c2-bc54-1b7483a3d3aa",
   "metadata": {},
   "source": [
    "B. Using NumPy’s permutation() Function\n",
    "You can also create a permutation of row indices using NumPy, then reorder your DataFrame accordingly."
   ]
  },
  {
   "cell_type": "code",
   "execution_count": 204,
   "id": "530c87f4-2e0a-4ab4-bf5e-a39e006f65a1",
   "metadata": {},
   "outputs": [
    {
     "data": {
      "text/html": [
       "<div>\n",
       "<style scoped>\n",
       "    .dataframe tbody tr th:only-of-type {\n",
       "        vertical-align: middle;\n",
       "    }\n",
       "\n",
       "    .dataframe tbody tr th {\n",
       "        vertical-align: top;\n",
       "    }\n",
       "\n",
       "    .dataframe thead th {\n",
       "        text-align: right;\n",
       "    }\n",
       "</style>\n",
       "<table border=\"1\" class=\"dataframe\">\n",
       "  <thead>\n",
       "    <tr style=\"text-align: right;\">\n",
       "      <th></th>\n",
       "      <th>ID</th>\n",
       "      <th>Value</th>\n",
       "    </tr>\n",
       "  </thead>\n",
       "  <tbody>\n",
       "    <tr>\n",
       "      <th>0</th>\n",
       "      <td>1</td>\n",
       "      <td>A</td>\n",
       "    </tr>\n",
       "    <tr>\n",
       "      <th>1</th>\n",
       "      <td>2</td>\n",
       "      <td>B</td>\n",
       "    </tr>\n",
       "    <tr>\n",
       "      <th>2</th>\n",
       "      <td>3</td>\n",
       "      <td>C</td>\n",
       "    </tr>\n",
       "    <tr>\n",
       "      <th>3</th>\n",
       "      <td>4</td>\n",
       "      <td>D</td>\n",
       "    </tr>\n",
       "    <tr>\n",
       "      <th>4</th>\n",
       "      <td>5</td>\n",
       "      <td>E</td>\n",
       "    </tr>\n",
       "  </tbody>\n",
       "</table>\n",
       "</div>"
      ],
      "text/plain": [
       "   ID Value\n",
       "0   1     A\n",
       "1   2     B\n",
       "2   3     C\n",
       "3   4     D\n",
       "4   5     E"
      ]
     },
     "execution_count": 204,
     "metadata": {},
     "output_type": "execute_result"
    }
   ],
   "source": [
    "df"
   ]
  },
  {
   "cell_type": "code",
   "execution_count": 205,
   "id": "3b49c432-fbb9-457d-870f-3cafa139e650",
   "metadata": {},
   "outputs": [],
   "source": [
    "new_index = np.random.permutation(df.index)"
   ]
  },
  {
   "cell_type": "code",
   "execution_count": 206,
   "id": "b087de8f-ae3a-464f-a5d7-e73a60325183",
   "metadata": {},
   "outputs": [
    {
     "data": {
      "text/plain": [
       "array([2, 1, 4, 3, 0])"
      ]
     },
     "execution_count": 206,
     "metadata": {},
     "output_type": "execute_result"
    }
   ],
   "source": [
    "new_index"
   ]
  },
  {
   "cell_type": "code",
   "execution_count": 207,
   "id": "22835c71-66ba-4e76-9e00-9e5e15bc0955",
   "metadata": {},
   "outputs": [],
   "source": [
    "df_new = df.loc[new_index]"
   ]
  },
  {
   "cell_type": "code",
   "execution_count": 208,
   "id": "40d88b1a-f06e-405f-9fdc-457fa7d4dcdf",
   "metadata": {},
   "outputs": [
    {
     "data": {
      "text/html": [
       "<div>\n",
       "<style scoped>\n",
       "    .dataframe tbody tr th:only-of-type {\n",
       "        vertical-align: middle;\n",
       "    }\n",
       "\n",
       "    .dataframe tbody tr th {\n",
       "        vertical-align: top;\n",
       "    }\n",
       "\n",
       "    .dataframe thead th {\n",
       "        text-align: right;\n",
       "    }\n",
       "</style>\n",
       "<table border=\"1\" class=\"dataframe\">\n",
       "  <thead>\n",
       "    <tr style=\"text-align: right;\">\n",
       "      <th></th>\n",
       "      <th>ID</th>\n",
       "      <th>Value</th>\n",
       "    </tr>\n",
       "  </thead>\n",
       "  <tbody>\n",
       "    <tr>\n",
       "      <th>2</th>\n",
       "      <td>3</td>\n",
       "      <td>C</td>\n",
       "    </tr>\n",
       "    <tr>\n",
       "      <th>1</th>\n",
       "      <td>2</td>\n",
       "      <td>B</td>\n",
       "    </tr>\n",
       "    <tr>\n",
       "      <th>4</th>\n",
       "      <td>5</td>\n",
       "      <td>E</td>\n",
       "    </tr>\n",
       "    <tr>\n",
       "      <th>3</th>\n",
       "      <td>4</td>\n",
       "      <td>D</td>\n",
       "    </tr>\n",
       "    <tr>\n",
       "      <th>0</th>\n",
       "      <td>1</td>\n",
       "      <td>A</td>\n",
       "    </tr>\n",
       "  </tbody>\n",
       "</table>\n",
       "</div>"
      ],
      "text/plain": [
       "   ID Value\n",
       "2   3     C\n",
       "1   2     B\n",
       "4   5     E\n",
       "3   4     D\n",
       "0   1     A"
      ]
     },
     "execution_count": 208,
     "metadata": {},
     "output_type": "execute_result"
    }
   ],
   "source": [
    "df_new"
   ]
  },
  {
   "cell_type": "code",
   "execution_count": 209,
   "id": "d0f4957a-2753-40bc-b5bd-258426a27ee1",
   "metadata": {},
   "outputs": [
    {
     "data": {
      "text/html": [
       "<div>\n",
       "<style scoped>\n",
       "    .dataframe tbody tr th:only-of-type {\n",
       "        vertical-align: middle;\n",
       "    }\n",
       "\n",
       "    .dataframe tbody tr th {\n",
       "        vertical-align: top;\n",
       "    }\n",
       "\n",
       "    .dataframe thead th {\n",
       "        text-align: right;\n",
       "    }\n",
       "</style>\n",
       "<table border=\"1\" class=\"dataframe\">\n",
       "  <thead>\n",
       "    <tr style=\"text-align: right;\">\n",
       "      <th></th>\n",
       "      <th>ID</th>\n",
       "      <th>Value</th>\n",
       "    </tr>\n",
       "  </thead>\n",
       "  <tbody>\n",
       "    <tr>\n",
       "      <th>2</th>\n",
       "      <td>3</td>\n",
       "      <td>C</td>\n",
       "    </tr>\n",
       "    <tr>\n",
       "      <th>1</th>\n",
       "      <td>2</td>\n",
       "      <td>B</td>\n",
       "    </tr>\n",
       "    <tr>\n",
       "      <th>4</th>\n",
       "      <td>5</td>\n",
       "      <td>E</td>\n",
       "    </tr>\n",
       "    <tr>\n",
       "      <th>3</th>\n",
       "      <td>4</td>\n",
       "      <td>D</td>\n",
       "    </tr>\n",
       "    <tr>\n",
       "      <th>0</th>\n",
       "      <td>1</td>\n",
       "      <td>A</td>\n",
       "    </tr>\n",
       "  </tbody>\n",
       "</table>\n",
       "</div>"
      ],
      "text/plain": [
       "   ID Value\n",
       "2   3     C\n",
       "1   2     B\n",
       "4   5     E\n",
       "3   4     D\n",
       "0   1     A"
      ]
     },
     "execution_count": 209,
     "metadata": {},
     "output_type": "execute_result"
    }
   ],
   "source": [
    "# we can also use take() method\n",
    "df.take(new_index)"
   ]
  },
  {
   "cell_type": "code",
   "execution_count": 210,
   "id": "63d9d4f3-8b79-4d8b-81d0-69acbad31df7",
   "metadata": {},
   "outputs": [],
   "source": [
    "# we can shuffle columns\n",
    "data = {\n",
    "    'A': [5, 9, 2, 8, 7, 6],\n",
    "    'B': [3, 6, 8, 1, 5, 2],\n",
    "    'C': [4, 7, 3, 9, 6, 5],\n",
    "    'D': [9, 2, 5, 7, 4, 3],\n",
    "    'E': [1, 6, 7, 3, 8, 9],\n",
    "    'F': [8, 3, 4, 2, 6, 7]\n",
    "}\n",
    "\n",
    "df = pd.DataFrame(data)"
   ]
  },
  {
   "cell_type": "code",
   "execution_count": 211,
   "id": "8d542599-0929-4e99-a50e-f01ca7937cbe",
   "metadata": {},
   "outputs": [
    {
     "data": {
      "text/html": [
       "<div>\n",
       "<style scoped>\n",
       "    .dataframe tbody tr th:only-of-type {\n",
       "        vertical-align: middle;\n",
       "    }\n",
       "\n",
       "    .dataframe tbody tr th {\n",
       "        vertical-align: top;\n",
       "    }\n",
       "\n",
       "    .dataframe thead th {\n",
       "        text-align: right;\n",
       "    }\n",
       "</style>\n",
       "<table border=\"1\" class=\"dataframe\">\n",
       "  <thead>\n",
       "    <tr style=\"text-align: right;\">\n",
       "      <th></th>\n",
       "      <th>A</th>\n",
       "      <th>B</th>\n",
       "      <th>C</th>\n",
       "      <th>D</th>\n",
       "      <th>E</th>\n",
       "      <th>F</th>\n",
       "    </tr>\n",
       "  </thead>\n",
       "  <tbody>\n",
       "    <tr>\n",
       "      <th>0</th>\n",
       "      <td>5</td>\n",
       "      <td>3</td>\n",
       "      <td>4</td>\n",
       "      <td>9</td>\n",
       "      <td>1</td>\n",
       "      <td>8</td>\n",
       "    </tr>\n",
       "    <tr>\n",
       "      <th>1</th>\n",
       "      <td>9</td>\n",
       "      <td>6</td>\n",
       "      <td>7</td>\n",
       "      <td>2</td>\n",
       "      <td>6</td>\n",
       "      <td>3</td>\n",
       "    </tr>\n",
       "    <tr>\n",
       "      <th>2</th>\n",
       "      <td>2</td>\n",
       "      <td>8</td>\n",
       "      <td>3</td>\n",
       "      <td>5</td>\n",
       "      <td>7</td>\n",
       "      <td>4</td>\n",
       "    </tr>\n",
       "    <tr>\n",
       "      <th>3</th>\n",
       "      <td>8</td>\n",
       "      <td>1</td>\n",
       "      <td>9</td>\n",
       "      <td>7</td>\n",
       "      <td>3</td>\n",
       "      <td>2</td>\n",
       "    </tr>\n",
       "    <tr>\n",
       "      <th>4</th>\n",
       "      <td>7</td>\n",
       "      <td>5</td>\n",
       "      <td>6</td>\n",
       "      <td>4</td>\n",
       "      <td>8</td>\n",
       "      <td>6</td>\n",
       "    </tr>\n",
       "    <tr>\n",
       "      <th>5</th>\n",
       "      <td>6</td>\n",
       "      <td>2</td>\n",
       "      <td>5</td>\n",
       "      <td>3</td>\n",
       "      <td>9</td>\n",
       "      <td>7</td>\n",
       "    </tr>\n",
       "  </tbody>\n",
       "</table>\n",
       "</div>"
      ],
      "text/plain": [
       "   A  B  C  D  E  F\n",
       "0  5  3  4  9  1  8\n",
       "1  9  6  7  2  6  3\n",
       "2  2  8  3  5  7  4\n",
       "3  8  1  9  7  3  2\n",
       "4  7  5  6  4  8  6\n",
       "5  6  2  5  3  9  7"
      ]
     },
     "execution_count": 211,
     "metadata": {},
     "output_type": "execute_result"
    }
   ],
   "source": [
    "df"
   ]
  },
  {
   "cell_type": "code",
   "execution_count": 212,
   "id": "6c9eb141-e1a2-4a8e-8f1a-841d70975110",
   "metadata": {},
   "outputs": [],
   "source": [
    "# permutating rows\n",
    "shuffled_row = np.random.permutation(df.index)"
   ]
  },
  {
   "cell_type": "code",
   "execution_count": 213,
   "id": "01a0344c-cbf5-46ad-94cc-5a5a61e7865a",
   "metadata": {},
   "outputs": [],
   "source": [
    "df_row_shuffled = df.loc[shuffled_row]"
   ]
  },
  {
   "cell_type": "code",
   "execution_count": 214,
   "id": "575bf573-dc2b-4dd5-9ea4-e64016e23483",
   "metadata": {},
   "outputs": [
    {
     "data": {
      "text/html": [
       "<div>\n",
       "<style scoped>\n",
       "    .dataframe tbody tr th:only-of-type {\n",
       "        vertical-align: middle;\n",
       "    }\n",
       "\n",
       "    .dataframe tbody tr th {\n",
       "        vertical-align: top;\n",
       "    }\n",
       "\n",
       "    .dataframe thead th {\n",
       "        text-align: right;\n",
       "    }\n",
       "</style>\n",
       "<table border=\"1\" class=\"dataframe\">\n",
       "  <thead>\n",
       "    <tr style=\"text-align: right;\">\n",
       "      <th></th>\n",
       "      <th>A</th>\n",
       "      <th>B</th>\n",
       "      <th>C</th>\n",
       "      <th>D</th>\n",
       "      <th>E</th>\n",
       "      <th>F</th>\n",
       "    </tr>\n",
       "  </thead>\n",
       "  <tbody>\n",
       "    <tr>\n",
       "      <th>1</th>\n",
       "      <td>9</td>\n",
       "      <td>6</td>\n",
       "      <td>7</td>\n",
       "      <td>2</td>\n",
       "      <td>6</td>\n",
       "      <td>3</td>\n",
       "    </tr>\n",
       "    <tr>\n",
       "      <th>3</th>\n",
       "      <td>8</td>\n",
       "      <td>1</td>\n",
       "      <td>9</td>\n",
       "      <td>7</td>\n",
       "      <td>3</td>\n",
       "      <td>2</td>\n",
       "    </tr>\n",
       "    <tr>\n",
       "      <th>2</th>\n",
       "      <td>2</td>\n",
       "      <td>8</td>\n",
       "      <td>3</td>\n",
       "      <td>5</td>\n",
       "      <td>7</td>\n",
       "      <td>4</td>\n",
       "    </tr>\n",
       "    <tr>\n",
       "      <th>5</th>\n",
       "      <td>6</td>\n",
       "      <td>2</td>\n",
       "      <td>5</td>\n",
       "      <td>3</td>\n",
       "      <td>9</td>\n",
       "      <td>7</td>\n",
       "    </tr>\n",
       "    <tr>\n",
       "      <th>4</th>\n",
       "      <td>7</td>\n",
       "      <td>5</td>\n",
       "      <td>6</td>\n",
       "      <td>4</td>\n",
       "      <td>8</td>\n",
       "      <td>6</td>\n",
       "    </tr>\n",
       "    <tr>\n",
       "      <th>0</th>\n",
       "      <td>5</td>\n",
       "      <td>3</td>\n",
       "      <td>4</td>\n",
       "      <td>9</td>\n",
       "      <td>1</td>\n",
       "      <td>8</td>\n",
       "    </tr>\n",
       "  </tbody>\n",
       "</table>\n",
       "</div>"
      ],
      "text/plain": [
       "   A  B  C  D  E  F\n",
       "1  9  6  7  2  6  3\n",
       "3  8  1  9  7  3  2\n",
       "2  2  8  3  5  7  4\n",
       "5  6  2  5  3  9  7\n",
       "4  7  5  6  4  8  6\n",
       "0  5  3  4  9  1  8"
      ]
     },
     "execution_count": 214,
     "metadata": {},
     "output_type": "execute_result"
    }
   ],
   "source": [
    "df_row_shuffled"
   ]
  },
  {
   "cell_type": "code",
   "execution_count": 215,
   "id": "d3c717b6-ef02-4c0c-9c77-c17a0645bed1",
   "metadata": {},
   "outputs": [],
   "source": [
    "# shuffling columns labels\n",
    "shuffled_columns = np.random.permutation(df.columns)"
   ]
  },
  {
   "cell_type": "code",
   "execution_count": 216,
   "id": "d2dfebc4-eee5-485a-9804-d563e0e9bd60",
   "metadata": {},
   "outputs": [],
   "source": [
    "df_shuffled_columns = df[shuffled_columns]"
   ]
  },
  {
   "cell_type": "code",
   "execution_count": 217,
   "id": "7916bd70-59cd-4129-896d-c3b42bec15b7",
   "metadata": {},
   "outputs": [
    {
     "data": {
      "text/html": [
       "<div>\n",
       "<style scoped>\n",
       "    .dataframe tbody tr th:only-of-type {\n",
       "        vertical-align: middle;\n",
       "    }\n",
       "\n",
       "    .dataframe tbody tr th {\n",
       "        vertical-align: top;\n",
       "    }\n",
       "\n",
       "    .dataframe thead th {\n",
       "        text-align: right;\n",
       "    }\n",
       "</style>\n",
       "<table border=\"1\" class=\"dataframe\">\n",
       "  <thead>\n",
       "    <tr style=\"text-align: right;\">\n",
       "      <th></th>\n",
       "      <th>A</th>\n",
       "      <th>F</th>\n",
       "      <th>C</th>\n",
       "      <th>D</th>\n",
       "      <th>E</th>\n",
       "      <th>B</th>\n",
       "    </tr>\n",
       "  </thead>\n",
       "  <tbody>\n",
       "    <tr>\n",
       "      <th>0</th>\n",
       "      <td>5</td>\n",
       "      <td>8</td>\n",
       "      <td>4</td>\n",
       "      <td>9</td>\n",
       "      <td>1</td>\n",
       "      <td>3</td>\n",
       "    </tr>\n",
       "    <tr>\n",
       "      <th>1</th>\n",
       "      <td>9</td>\n",
       "      <td>3</td>\n",
       "      <td>7</td>\n",
       "      <td>2</td>\n",
       "      <td>6</td>\n",
       "      <td>6</td>\n",
       "    </tr>\n",
       "    <tr>\n",
       "      <th>2</th>\n",
       "      <td>2</td>\n",
       "      <td>4</td>\n",
       "      <td>3</td>\n",
       "      <td>5</td>\n",
       "      <td>7</td>\n",
       "      <td>8</td>\n",
       "    </tr>\n",
       "    <tr>\n",
       "      <th>3</th>\n",
       "      <td>8</td>\n",
       "      <td>2</td>\n",
       "      <td>9</td>\n",
       "      <td>7</td>\n",
       "      <td>3</td>\n",
       "      <td>1</td>\n",
       "    </tr>\n",
       "    <tr>\n",
       "      <th>4</th>\n",
       "      <td>7</td>\n",
       "      <td>6</td>\n",
       "      <td>6</td>\n",
       "      <td>4</td>\n",
       "      <td>8</td>\n",
       "      <td>5</td>\n",
       "    </tr>\n",
       "    <tr>\n",
       "      <th>5</th>\n",
       "      <td>6</td>\n",
       "      <td>7</td>\n",
       "      <td>5</td>\n",
       "      <td>3</td>\n",
       "      <td>9</td>\n",
       "      <td>2</td>\n",
       "    </tr>\n",
       "  </tbody>\n",
       "</table>\n",
       "</div>"
      ],
      "text/plain": [
       "   A  F  C  D  E  B\n",
       "0  5  8  4  9  1  3\n",
       "1  9  3  7  2  6  6\n",
       "2  2  4  3  5  7  8\n",
       "3  8  2  9  7  3  1\n",
       "4  7  6  6  4  8  5\n",
       "5  6  7  5  3  9  2"
      ]
     },
     "execution_count": 217,
     "metadata": {},
     "output_type": "execute_result"
    }
   ],
   "source": [
    "df_shuffled_columns"
   ]
  },
  {
   "cell_type": "code",
   "execution_count": 218,
   "id": "6fc4ec57-e816-4bf0-9f0e-5f713ea90a63",
   "metadata": {},
   "outputs": [],
   "source": [
    "# shuffling both\n",
    "df_shuffled = df[shuffled_columns].loc[shuffled_row]"
   ]
  },
  {
   "cell_type": "code",
   "execution_count": 219,
   "id": "4500c456-3524-4d6f-a201-2117fd63d565",
   "metadata": {},
   "outputs": [
    {
     "data": {
      "text/html": [
       "<div>\n",
       "<style scoped>\n",
       "    .dataframe tbody tr th:only-of-type {\n",
       "        vertical-align: middle;\n",
       "    }\n",
       "\n",
       "    .dataframe tbody tr th {\n",
       "        vertical-align: top;\n",
       "    }\n",
       "\n",
       "    .dataframe thead th {\n",
       "        text-align: right;\n",
       "    }\n",
       "</style>\n",
       "<table border=\"1\" class=\"dataframe\">\n",
       "  <thead>\n",
       "    <tr style=\"text-align: right;\">\n",
       "      <th></th>\n",
       "      <th>A</th>\n",
       "      <th>F</th>\n",
       "      <th>C</th>\n",
       "      <th>D</th>\n",
       "      <th>E</th>\n",
       "      <th>B</th>\n",
       "    </tr>\n",
       "  </thead>\n",
       "  <tbody>\n",
       "    <tr>\n",
       "      <th>1</th>\n",
       "      <td>9</td>\n",
       "      <td>3</td>\n",
       "      <td>7</td>\n",
       "      <td>2</td>\n",
       "      <td>6</td>\n",
       "      <td>6</td>\n",
       "    </tr>\n",
       "    <tr>\n",
       "      <th>3</th>\n",
       "      <td>8</td>\n",
       "      <td>2</td>\n",
       "      <td>9</td>\n",
       "      <td>7</td>\n",
       "      <td>3</td>\n",
       "      <td>1</td>\n",
       "    </tr>\n",
       "    <tr>\n",
       "      <th>2</th>\n",
       "      <td>2</td>\n",
       "      <td>4</td>\n",
       "      <td>3</td>\n",
       "      <td>5</td>\n",
       "      <td>7</td>\n",
       "      <td>8</td>\n",
       "    </tr>\n",
       "    <tr>\n",
       "      <th>5</th>\n",
       "      <td>6</td>\n",
       "      <td>7</td>\n",
       "      <td>5</td>\n",
       "      <td>3</td>\n",
       "      <td>9</td>\n",
       "      <td>2</td>\n",
       "    </tr>\n",
       "    <tr>\n",
       "      <th>4</th>\n",
       "      <td>7</td>\n",
       "      <td>6</td>\n",
       "      <td>6</td>\n",
       "      <td>4</td>\n",
       "      <td>8</td>\n",
       "      <td>5</td>\n",
       "    </tr>\n",
       "    <tr>\n",
       "      <th>0</th>\n",
       "      <td>5</td>\n",
       "      <td>8</td>\n",
       "      <td>4</td>\n",
       "      <td>9</td>\n",
       "      <td>1</td>\n",
       "      <td>3</td>\n",
       "    </tr>\n",
       "  </tbody>\n",
       "</table>\n",
       "</div>"
      ],
      "text/plain": [
       "   A  F  C  D  E  B\n",
       "1  9  3  7  2  6  6\n",
       "3  8  2  9  7  3  1\n",
       "2  2  4  3  5  7  8\n",
       "5  6  7  5  3  9  2\n",
       "4  7  6  6  4  8  5\n",
       "0  5  8  4  9  1  3"
      ]
     },
     "execution_count": 219,
     "metadata": {},
     "output_type": "execute_result"
    }
   ],
   "source": [
    "df_shuffled"
   ]
  },
  {
   "cell_type": "raw",
   "id": "04aff575-5bb8-412f-b62e-38b3b43cb304",
   "metadata": {},
   "source": [
    "2. Random Sampling\n",
    "Random sampling involves selecting a subset of data points from a larger dataset. Sampling can be done with replacement (allowing duplicates) or without replacement (each selected data point is unique)."
   ]
  },
  {
   "cell_type": "code",
   "execution_count": 220,
   "id": "dd266f95-4d4a-4f00-9b11-3a2a9771b229",
   "metadata": {},
   "outputs": [
    {
     "data": {
      "text/html": [
       "<div>\n",
       "<style scoped>\n",
       "    .dataframe tbody tr th:only-of-type {\n",
       "        vertical-align: middle;\n",
       "    }\n",
       "\n",
       "    .dataframe tbody tr th {\n",
       "        vertical-align: top;\n",
       "    }\n",
       "\n",
       "    .dataframe thead th {\n",
       "        text-align: right;\n",
       "    }\n",
       "</style>\n",
       "<table border=\"1\" class=\"dataframe\">\n",
       "  <thead>\n",
       "    <tr style=\"text-align: right;\">\n",
       "      <th></th>\n",
       "      <th>A</th>\n",
       "      <th>B</th>\n",
       "      <th>C</th>\n",
       "      <th>D</th>\n",
       "      <th>E</th>\n",
       "      <th>F</th>\n",
       "    </tr>\n",
       "  </thead>\n",
       "  <tbody>\n",
       "    <tr>\n",
       "      <th>0</th>\n",
       "      <td>5</td>\n",
       "      <td>3</td>\n",
       "      <td>4</td>\n",
       "      <td>9</td>\n",
       "      <td>1</td>\n",
       "      <td>8</td>\n",
       "    </tr>\n",
       "    <tr>\n",
       "      <th>1</th>\n",
       "      <td>9</td>\n",
       "      <td>6</td>\n",
       "      <td>7</td>\n",
       "      <td>2</td>\n",
       "      <td>6</td>\n",
       "      <td>3</td>\n",
       "    </tr>\n",
       "    <tr>\n",
       "      <th>2</th>\n",
       "      <td>2</td>\n",
       "      <td>8</td>\n",
       "      <td>3</td>\n",
       "      <td>5</td>\n",
       "      <td>7</td>\n",
       "      <td>4</td>\n",
       "    </tr>\n",
       "    <tr>\n",
       "      <th>3</th>\n",
       "      <td>8</td>\n",
       "      <td>1</td>\n",
       "      <td>9</td>\n",
       "      <td>7</td>\n",
       "      <td>3</td>\n",
       "      <td>2</td>\n",
       "    </tr>\n",
       "    <tr>\n",
       "      <th>4</th>\n",
       "      <td>7</td>\n",
       "      <td>5</td>\n",
       "      <td>6</td>\n",
       "      <td>4</td>\n",
       "      <td>8</td>\n",
       "      <td>6</td>\n",
       "    </tr>\n",
       "    <tr>\n",
       "      <th>5</th>\n",
       "      <td>6</td>\n",
       "      <td>2</td>\n",
       "      <td>5</td>\n",
       "      <td>3</td>\n",
       "      <td>9</td>\n",
       "      <td>7</td>\n",
       "    </tr>\n",
       "  </tbody>\n",
       "</table>\n",
       "</div>"
      ],
      "text/plain": [
       "   A  B  C  D  E  F\n",
       "0  5  3  4  9  1  8\n",
       "1  9  6  7  2  6  3\n",
       "2  2  8  3  5  7  4\n",
       "3  8  1  9  7  3  2\n",
       "4  7  5  6  4  8  6\n",
       "5  6  2  5  3  9  7"
      ]
     },
     "execution_count": 220,
     "metadata": {},
     "output_type": "execute_result"
    }
   ],
   "source": [
    "# Sampling Without Replacement\n",
    "df"
   ]
  },
  {
   "cell_type": "code",
   "execution_count": 221,
   "id": "8c19a850-07d8-49a1-b4bc-4fac5339fcfd",
   "metadata": {},
   "outputs": [
    {
     "data": {
      "text/html": [
       "<div>\n",
       "<style scoped>\n",
       "    .dataframe tbody tr th:only-of-type {\n",
       "        vertical-align: middle;\n",
       "    }\n",
       "\n",
       "    .dataframe tbody tr th {\n",
       "        vertical-align: top;\n",
       "    }\n",
       "\n",
       "    .dataframe thead th {\n",
       "        text-align: right;\n",
       "    }\n",
       "</style>\n",
       "<table border=\"1\" class=\"dataframe\">\n",
       "  <thead>\n",
       "    <tr style=\"text-align: right;\">\n",
       "      <th></th>\n",
       "      <th>A</th>\n",
       "      <th>B</th>\n",
       "      <th>C</th>\n",
       "      <th>D</th>\n",
       "      <th>E</th>\n",
       "      <th>F</th>\n",
       "    </tr>\n",
       "  </thead>\n",
       "  <tbody>\n",
       "    <tr>\n",
       "      <th>0</th>\n",
       "      <td>5</td>\n",
       "      <td>3</td>\n",
       "      <td>4</td>\n",
       "      <td>9</td>\n",
       "      <td>1</td>\n",
       "      <td>8</td>\n",
       "    </tr>\n",
       "    <tr>\n",
       "      <th>1</th>\n",
       "      <td>9</td>\n",
       "      <td>6</td>\n",
       "      <td>7</td>\n",
       "      <td>2</td>\n",
       "      <td>6</td>\n",
       "      <td>3</td>\n",
       "    </tr>\n",
       "    <tr>\n",
       "      <th>5</th>\n",
       "      <td>6</td>\n",
       "      <td>2</td>\n",
       "      <td>5</td>\n",
       "      <td>3</td>\n",
       "      <td>9</td>\n",
       "      <td>7</td>\n",
       "    </tr>\n",
       "  </tbody>\n",
       "</table>\n",
       "</div>"
      ],
      "text/plain": [
       "   A  B  C  D  E  F\n",
       "0  5  3  4  9  1  8\n",
       "1  9  6  7  2  6  3\n",
       "5  6  2  5  3  9  7"
      ]
     },
     "execution_count": 221,
     "metadata": {},
     "output_type": "execute_result"
    }
   ],
   "source": [
    "df.sample(n=3, random_state = 42)"
   ]
  },
  {
   "cell_type": "code",
   "execution_count": 222,
   "id": "8a2f5bb1-bb09-42c1-8193-8a486eeae131",
   "metadata": {},
   "outputs": [
    {
     "data": {
      "text/html": [
       "<div>\n",
       "<style scoped>\n",
       "    .dataframe tbody tr th:only-of-type {\n",
       "        vertical-align: middle;\n",
       "    }\n",
       "\n",
       "    .dataframe tbody tr th {\n",
       "        vertical-align: top;\n",
       "    }\n",
       "\n",
       "    .dataframe thead th {\n",
       "        text-align: right;\n",
       "    }\n",
       "</style>\n",
       "<table border=\"1\" class=\"dataframe\">\n",
       "  <thead>\n",
       "    <tr style=\"text-align: right;\">\n",
       "      <th></th>\n",
       "      <th>A</th>\n",
       "      <th>B</th>\n",
       "      <th>C</th>\n",
       "      <th>D</th>\n",
       "      <th>E</th>\n",
       "      <th>F</th>\n",
       "    </tr>\n",
       "  </thead>\n",
       "  <tbody>\n",
       "    <tr>\n",
       "      <th>3</th>\n",
       "      <td>8</td>\n",
       "      <td>1</td>\n",
       "      <td>9</td>\n",
       "      <td>7</td>\n",
       "      <td>3</td>\n",
       "      <td>2</td>\n",
       "    </tr>\n",
       "    <tr>\n",
       "      <th>4</th>\n",
       "      <td>7</td>\n",
       "      <td>5</td>\n",
       "      <td>6</td>\n",
       "      <td>4</td>\n",
       "      <td>8</td>\n",
       "      <td>6</td>\n",
       "    </tr>\n",
       "    <tr>\n",
       "      <th>2</th>\n",
       "      <td>2</td>\n",
       "      <td>8</td>\n",
       "      <td>3</td>\n",
       "      <td>5</td>\n",
       "      <td>7</td>\n",
       "      <td>4</td>\n",
       "    </tr>\n",
       "    <tr>\n",
       "      <th>4</th>\n",
       "      <td>7</td>\n",
       "      <td>5</td>\n",
       "      <td>6</td>\n",
       "      <td>4</td>\n",
       "      <td>8</td>\n",
       "      <td>6</td>\n",
       "    </tr>\n",
       "    <tr>\n",
       "      <th>4</th>\n",
       "      <td>7</td>\n",
       "      <td>5</td>\n",
       "      <td>6</td>\n",
       "      <td>4</td>\n",
       "      <td>8</td>\n",
       "      <td>6</td>\n",
       "    </tr>\n",
       "    <tr>\n",
       "      <th>1</th>\n",
       "      <td>9</td>\n",
       "      <td>6</td>\n",
       "      <td>7</td>\n",
       "      <td>2</td>\n",
       "      <td>6</td>\n",
       "      <td>3</td>\n",
       "    </tr>\n",
       "    <tr>\n",
       "      <th>2</th>\n",
       "      <td>2</td>\n",
       "      <td>8</td>\n",
       "      <td>3</td>\n",
       "      <td>5</td>\n",
       "      <td>7</td>\n",
       "      <td>4</td>\n",
       "    </tr>\n",
       "    <tr>\n",
       "      <th>2</th>\n",
       "      <td>2</td>\n",
       "      <td>8</td>\n",
       "      <td>3</td>\n",
       "      <td>5</td>\n",
       "      <td>7</td>\n",
       "      <td>4</td>\n",
       "    </tr>\n",
       "    <tr>\n",
       "      <th>2</th>\n",
       "      <td>2</td>\n",
       "      <td>8</td>\n",
       "      <td>3</td>\n",
       "      <td>5</td>\n",
       "      <td>7</td>\n",
       "      <td>4</td>\n",
       "    </tr>\n",
       "    <tr>\n",
       "      <th>4</th>\n",
       "      <td>7</td>\n",
       "      <td>5</td>\n",
       "      <td>6</td>\n",
       "      <td>4</td>\n",
       "      <td>8</td>\n",
       "      <td>6</td>\n",
       "    </tr>\n",
       "  </tbody>\n",
       "</table>\n",
       "</div>"
      ],
      "text/plain": [
       "   A  B  C  D  E  F\n",
       "3  8  1  9  7  3  2\n",
       "4  7  5  6  4  8  6\n",
       "2  2  8  3  5  7  4\n",
       "4  7  5  6  4  8  6\n",
       "4  7  5  6  4  8  6\n",
       "1  9  6  7  2  6  3\n",
       "2  2  8  3  5  7  4\n",
       "2  2  8  3  5  7  4\n",
       "2  2  8  3  5  7  4\n",
       "4  7  5  6  4  8  6"
      ]
     },
     "execution_count": 222,
     "metadata": {},
     "output_type": "execute_result"
    }
   ],
   "source": [
    "# Sampling with replacement\n",
    "df.sample(n=10, replace = True, random_state = 42)"
   ]
  },
  {
   "cell_type": "raw",
   "id": "e50ea104-9b94-42ab-8578-6ad48113d40f",
   "metadata": {},
   "source": [
    "3. Real-World Use Cases\n",
    "A. Shuffling Data Before Model Training\n",
    "When training machine learning models, especially for stochastic gradient descent, it is important to randomize the order of training examples. Permuting the dataset using df.sample(frac=1) ensures that the model doesn’t learn spurious patterns due to any ordering in the data.\n",
    "\n",
    "B. Creating Train-Test Splits\n",
    "Random sampling is often used to split data into training and testing sets. For example, you might randomly sample 80% of the data for training and use the remaining 20% for testing.\n",
    "    \n",
    "    # Assume df is your full dataset\n",
    "    train_df = df.sample(frac=0.8, random_state=42)\n",
    "    test_df = df.drop(train_df.index)\n",
    "    \n",
    "    print(\"\\nTraining DataFrame:\")\n",
    "    print(train_df)\n",
    "    print(\"\\nTesting DataFrame:\")\n",
    "    print(test_df)"
   ]
  },
  {
   "cell_type": "markdown",
   "id": "24670f56-8333-4607-bb7f-b50741096541",
   "metadata": {},
   "source": [
    "# Example"
   ]
  },
  {
   "cell_type": "code",
   "execution_count": 223,
   "id": "507c15dc-7d18-4e7b-a418-2c67224cddb8",
   "metadata": {},
   "outputs": [],
   "source": [
    "data = {\n",
    "    'EmployeeID': range(1, 21),\n",
    "    'Name': [\n",
    "        'Alice', 'Bob', 'Charlie', 'David', 'Eva', 'Frank', 'Grace', 'Helen',\n",
    "        'Ian', 'Jane', 'Kyle', 'Laura', 'Mike', 'Nina', 'Oscar', 'Pam',\n",
    "        'Quincy', 'Rachel', 'Steve', 'Tina'\n",
    "    ],\n",
    "    'Age': [25, 30, 28, 35, 22, 40, 33, 27, 31, 29, 38, 26, 34, 32, 45, 37, 29, 31, 36, 28],\n",
    "    'Department': [\n",
    "        'Sales', 'IT', 'HR', 'IT', 'Marketing', 'Sales', 'HR', 'Marketing',\n",
    "        'IT', 'Sales', 'HR', 'IT', 'Marketing', 'Sales', 'HR', 'IT', 'Marketing', 'Sales', 'HR', 'IT'\n",
    "    ],\n",
    "    'Salary': [50000, 60000, 55000, 62000, 48000, 65000, 57000, 50000, 61000, 53000,\n",
    "               56000, 60000, 51000, 52000, 58000, 63000, 49000, 54000, 58000, 60000]\n",
    "}\n",
    "\n",
    "df = pd.DataFrame(data)"
   ]
  },
  {
   "cell_type": "code",
   "execution_count": 224,
   "id": "49056bac-4032-40fe-90ed-5fb2d262af8e",
   "metadata": {},
   "outputs": [
    {
     "data": {
      "text/html": [
       "<div>\n",
       "<style scoped>\n",
       "    .dataframe tbody tr th:only-of-type {\n",
       "        vertical-align: middle;\n",
       "    }\n",
       "\n",
       "    .dataframe tbody tr th {\n",
       "        vertical-align: top;\n",
       "    }\n",
       "\n",
       "    .dataframe thead th {\n",
       "        text-align: right;\n",
       "    }\n",
       "</style>\n",
       "<table border=\"1\" class=\"dataframe\">\n",
       "  <thead>\n",
       "    <tr style=\"text-align: right;\">\n",
       "      <th></th>\n",
       "      <th>EmployeeID</th>\n",
       "      <th>Name</th>\n",
       "      <th>Age</th>\n",
       "      <th>Department</th>\n",
       "      <th>Salary</th>\n",
       "    </tr>\n",
       "  </thead>\n",
       "  <tbody>\n",
       "    <tr>\n",
       "      <th>0</th>\n",
       "      <td>1</td>\n",
       "      <td>Alice</td>\n",
       "      <td>25</td>\n",
       "      <td>Sales</td>\n",
       "      <td>50000</td>\n",
       "    </tr>\n",
       "    <tr>\n",
       "      <th>1</th>\n",
       "      <td>2</td>\n",
       "      <td>Bob</td>\n",
       "      <td>30</td>\n",
       "      <td>IT</td>\n",
       "      <td>60000</td>\n",
       "    </tr>\n",
       "    <tr>\n",
       "      <th>2</th>\n",
       "      <td>3</td>\n",
       "      <td>Charlie</td>\n",
       "      <td>28</td>\n",
       "      <td>HR</td>\n",
       "      <td>55000</td>\n",
       "    </tr>\n",
       "    <tr>\n",
       "      <th>3</th>\n",
       "      <td>4</td>\n",
       "      <td>David</td>\n",
       "      <td>35</td>\n",
       "      <td>IT</td>\n",
       "      <td>62000</td>\n",
       "    </tr>\n",
       "    <tr>\n",
       "      <th>4</th>\n",
       "      <td>5</td>\n",
       "      <td>Eva</td>\n",
       "      <td>22</td>\n",
       "      <td>Marketing</td>\n",
       "      <td>48000</td>\n",
       "    </tr>\n",
       "    <tr>\n",
       "      <th>5</th>\n",
       "      <td>6</td>\n",
       "      <td>Frank</td>\n",
       "      <td>40</td>\n",
       "      <td>Sales</td>\n",
       "      <td>65000</td>\n",
       "    </tr>\n",
       "    <tr>\n",
       "      <th>6</th>\n",
       "      <td>7</td>\n",
       "      <td>Grace</td>\n",
       "      <td>33</td>\n",
       "      <td>HR</td>\n",
       "      <td>57000</td>\n",
       "    </tr>\n",
       "    <tr>\n",
       "      <th>7</th>\n",
       "      <td>8</td>\n",
       "      <td>Helen</td>\n",
       "      <td>27</td>\n",
       "      <td>Marketing</td>\n",
       "      <td>50000</td>\n",
       "    </tr>\n",
       "    <tr>\n",
       "      <th>8</th>\n",
       "      <td>9</td>\n",
       "      <td>Ian</td>\n",
       "      <td>31</td>\n",
       "      <td>IT</td>\n",
       "      <td>61000</td>\n",
       "    </tr>\n",
       "    <tr>\n",
       "      <th>9</th>\n",
       "      <td>10</td>\n",
       "      <td>Jane</td>\n",
       "      <td>29</td>\n",
       "      <td>Sales</td>\n",
       "      <td>53000</td>\n",
       "    </tr>\n",
       "    <tr>\n",
       "      <th>10</th>\n",
       "      <td>11</td>\n",
       "      <td>Kyle</td>\n",
       "      <td>38</td>\n",
       "      <td>HR</td>\n",
       "      <td>56000</td>\n",
       "    </tr>\n",
       "    <tr>\n",
       "      <th>11</th>\n",
       "      <td>12</td>\n",
       "      <td>Laura</td>\n",
       "      <td>26</td>\n",
       "      <td>IT</td>\n",
       "      <td>60000</td>\n",
       "    </tr>\n",
       "    <tr>\n",
       "      <th>12</th>\n",
       "      <td>13</td>\n",
       "      <td>Mike</td>\n",
       "      <td>34</td>\n",
       "      <td>Marketing</td>\n",
       "      <td>51000</td>\n",
       "    </tr>\n",
       "    <tr>\n",
       "      <th>13</th>\n",
       "      <td>14</td>\n",
       "      <td>Nina</td>\n",
       "      <td>32</td>\n",
       "      <td>Sales</td>\n",
       "      <td>52000</td>\n",
       "    </tr>\n",
       "    <tr>\n",
       "      <th>14</th>\n",
       "      <td>15</td>\n",
       "      <td>Oscar</td>\n",
       "      <td>45</td>\n",
       "      <td>HR</td>\n",
       "      <td>58000</td>\n",
       "    </tr>\n",
       "    <tr>\n",
       "      <th>15</th>\n",
       "      <td>16</td>\n",
       "      <td>Pam</td>\n",
       "      <td>37</td>\n",
       "      <td>IT</td>\n",
       "      <td>63000</td>\n",
       "    </tr>\n",
       "    <tr>\n",
       "      <th>16</th>\n",
       "      <td>17</td>\n",
       "      <td>Quincy</td>\n",
       "      <td>29</td>\n",
       "      <td>Marketing</td>\n",
       "      <td>49000</td>\n",
       "    </tr>\n",
       "    <tr>\n",
       "      <th>17</th>\n",
       "      <td>18</td>\n",
       "      <td>Rachel</td>\n",
       "      <td>31</td>\n",
       "      <td>Sales</td>\n",
       "      <td>54000</td>\n",
       "    </tr>\n",
       "    <tr>\n",
       "      <th>18</th>\n",
       "      <td>19</td>\n",
       "      <td>Steve</td>\n",
       "      <td>36</td>\n",
       "      <td>HR</td>\n",
       "      <td>58000</td>\n",
       "    </tr>\n",
       "    <tr>\n",
       "      <th>19</th>\n",
       "      <td>20</td>\n",
       "      <td>Tina</td>\n",
       "      <td>28</td>\n",
       "      <td>IT</td>\n",
       "      <td>60000</td>\n",
       "    </tr>\n",
       "  </tbody>\n",
       "</table>\n",
       "</div>"
      ],
      "text/plain": [
       "    EmployeeID     Name  Age Department  Salary\n",
       "0            1    Alice   25      Sales   50000\n",
       "1            2      Bob   30         IT   60000\n",
       "2            3  Charlie   28         HR   55000\n",
       "3            4    David   35         IT   62000\n",
       "4            5      Eva   22  Marketing   48000\n",
       "5            6    Frank   40      Sales   65000\n",
       "6            7    Grace   33         HR   57000\n",
       "7            8    Helen   27  Marketing   50000\n",
       "8            9      Ian   31         IT   61000\n",
       "9           10     Jane   29      Sales   53000\n",
       "10          11     Kyle   38         HR   56000\n",
       "11          12    Laura   26         IT   60000\n",
       "12          13     Mike   34  Marketing   51000\n",
       "13          14     Nina   32      Sales   52000\n",
       "14          15    Oscar   45         HR   58000\n",
       "15          16      Pam   37         IT   63000\n",
       "16          17   Quincy   29  Marketing   49000\n",
       "17          18   Rachel   31      Sales   54000\n",
       "18          19    Steve   36         HR   58000\n",
       "19          20     Tina   28         IT   60000"
      ]
     },
     "execution_count": 224,
     "metadata": {},
     "output_type": "execute_result"
    }
   ],
   "source": [
    "df"
   ]
  },
  {
   "cell_type": "raw",
   "id": "424acf84-85e9-416b-82d1-d54bae12ab76",
   "metadata": {},
   "source": [
    "Permuting (Shuffling) the Dataset"
   ]
  },
  {
   "cell_type": "code",
   "execution_count": 225,
   "id": "642e1519-c106-4698-bf20-298bd4852e3b",
   "metadata": {},
   "outputs": [],
   "source": [
    "df_shuffled = df.sample(frac = 1, random_state = 42)"
   ]
  },
  {
   "cell_type": "code",
   "execution_count": 226,
   "id": "1c4ac343-24eb-4731-89e6-25c3bdfe3ac6",
   "metadata": {},
   "outputs": [
    {
     "data": {
      "text/html": [
       "<div>\n",
       "<style scoped>\n",
       "    .dataframe tbody tr th:only-of-type {\n",
       "        vertical-align: middle;\n",
       "    }\n",
       "\n",
       "    .dataframe tbody tr th {\n",
       "        vertical-align: top;\n",
       "    }\n",
       "\n",
       "    .dataframe thead th {\n",
       "        text-align: right;\n",
       "    }\n",
       "</style>\n",
       "<table border=\"1\" class=\"dataframe\">\n",
       "  <thead>\n",
       "    <tr style=\"text-align: right;\">\n",
       "      <th></th>\n",
       "      <th>EmployeeID</th>\n",
       "      <th>Name</th>\n",
       "      <th>Age</th>\n",
       "      <th>Department</th>\n",
       "      <th>Salary</th>\n",
       "    </tr>\n",
       "  </thead>\n",
       "  <tbody>\n",
       "    <tr>\n",
       "      <th>0</th>\n",
       "      <td>1</td>\n",
       "      <td>Alice</td>\n",
       "      <td>25</td>\n",
       "      <td>Sales</td>\n",
       "      <td>50000</td>\n",
       "    </tr>\n",
       "    <tr>\n",
       "      <th>17</th>\n",
       "      <td>18</td>\n",
       "      <td>Rachel</td>\n",
       "      <td>31</td>\n",
       "      <td>Sales</td>\n",
       "      <td>54000</td>\n",
       "    </tr>\n",
       "    <tr>\n",
       "      <th>15</th>\n",
       "      <td>16</td>\n",
       "      <td>Pam</td>\n",
       "      <td>37</td>\n",
       "      <td>IT</td>\n",
       "      <td>63000</td>\n",
       "    </tr>\n",
       "    <tr>\n",
       "      <th>1</th>\n",
       "      <td>2</td>\n",
       "      <td>Bob</td>\n",
       "      <td>30</td>\n",
       "      <td>IT</td>\n",
       "      <td>60000</td>\n",
       "    </tr>\n",
       "    <tr>\n",
       "      <th>8</th>\n",
       "      <td>9</td>\n",
       "      <td>Ian</td>\n",
       "      <td>31</td>\n",
       "      <td>IT</td>\n",
       "      <td>61000</td>\n",
       "    </tr>\n",
       "    <tr>\n",
       "      <th>5</th>\n",
       "      <td>6</td>\n",
       "      <td>Frank</td>\n",
       "      <td>40</td>\n",
       "      <td>Sales</td>\n",
       "      <td>65000</td>\n",
       "    </tr>\n",
       "    <tr>\n",
       "      <th>11</th>\n",
       "      <td>12</td>\n",
       "      <td>Laura</td>\n",
       "      <td>26</td>\n",
       "      <td>IT</td>\n",
       "      <td>60000</td>\n",
       "    </tr>\n",
       "    <tr>\n",
       "      <th>3</th>\n",
       "      <td>4</td>\n",
       "      <td>David</td>\n",
       "      <td>35</td>\n",
       "      <td>IT</td>\n",
       "      <td>62000</td>\n",
       "    </tr>\n",
       "    <tr>\n",
       "      <th>18</th>\n",
       "      <td>19</td>\n",
       "      <td>Steve</td>\n",
       "      <td>36</td>\n",
       "      <td>HR</td>\n",
       "      <td>58000</td>\n",
       "    </tr>\n",
       "    <tr>\n",
       "      <th>16</th>\n",
       "      <td>17</td>\n",
       "      <td>Quincy</td>\n",
       "      <td>29</td>\n",
       "      <td>Marketing</td>\n",
       "      <td>49000</td>\n",
       "    </tr>\n",
       "    <tr>\n",
       "      <th>13</th>\n",
       "      <td>14</td>\n",
       "      <td>Nina</td>\n",
       "      <td>32</td>\n",
       "      <td>Sales</td>\n",
       "      <td>52000</td>\n",
       "    </tr>\n",
       "    <tr>\n",
       "      <th>2</th>\n",
       "      <td>3</td>\n",
       "      <td>Charlie</td>\n",
       "      <td>28</td>\n",
       "      <td>HR</td>\n",
       "      <td>55000</td>\n",
       "    </tr>\n",
       "    <tr>\n",
       "      <th>9</th>\n",
       "      <td>10</td>\n",
       "      <td>Jane</td>\n",
       "      <td>29</td>\n",
       "      <td>Sales</td>\n",
       "      <td>53000</td>\n",
       "    </tr>\n",
       "    <tr>\n",
       "      <th>19</th>\n",
       "      <td>20</td>\n",
       "      <td>Tina</td>\n",
       "      <td>28</td>\n",
       "      <td>IT</td>\n",
       "      <td>60000</td>\n",
       "    </tr>\n",
       "    <tr>\n",
       "      <th>4</th>\n",
       "      <td>5</td>\n",
       "      <td>Eva</td>\n",
       "      <td>22</td>\n",
       "      <td>Marketing</td>\n",
       "      <td>48000</td>\n",
       "    </tr>\n",
       "    <tr>\n",
       "      <th>12</th>\n",
       "      <td>13</td>\n",
       "      <td>Mike</td>\n",
       "      <td>34</td>\n",
       "      <td>Marketing</td>\n",
       "      <td>51000</td>\n",
       "    </tr>\n",
       "    <tr>\n",
       "      <th>7</th>\n",
       "      <td>8</td>\n",
       "      <td>Helen</td>\n",
       "      <td>27</td>\n",
       "      <td>Marketing</td>\n",
       "      <td>50000</td>\n",
       "    </tr>\n",
       "    <tr>\n",
       "      <th>10</th>\n",
       "      <td>11</td>\n",
       "      <td>Kyle</td>\n",
       "      <td>38</td>\n",
       "      <td>HR</td>\n",
       "      <td>56000</td>\n",
       "    </tr>\n",
       "    <tr>\n",
       "      <th>14</th>\n",
       "      <td>15</td>\n",
       "      <td>Oscar</td>\n",
       "      <td>45</td>\n",
       "      <td>HR</td>\n",
       "      <td>58000</td>\n",
       "    </tr>\n",
       "    <tr>\n",
       "      <th>6</th>\n",
       "      <td>7</td>\n",
       "      <td>Grace</td>\n",
       "      <td>33</td>\n",
       "      <td>HR</td>\n",
       "      <td>57000</td>\n",
       "    </tr>\n",
       "  </tbody>\n",
       "</table>\n",
       "</div>"
      ],
      "text/plain": [
       "    EmployeeID     Name  Age Department  Salary\n",
       "0            1    Alice   25      Sales   50000\n",
       "17          18   Rachel   31      Sales   54000\n",
       "15          16      Pam   37         IT   63000\n",
       "1            2      Bob   30         IT   60000\n",
       "8            9      Ian   31         IT   61000\n",
       "5            6    Frank   40      Sales   65000\n",
       "11          12    Laura   26         IT   60000\n",
       "3            4    David   35         IT   62000\n",
       "18          19    Steve   36         HR   58000\n",
       "16          17   Quincy   29  Marketing   49000\n",
       "13          14     Nina   32      Sales   52000\n",
       "2            3  Charlie   28         HR   55000\n",
       "9           10     Jane   29      Sales   53000\n",
       "19          20     Tina   28         IT   60000\n",
       "4            5      Eva   22  Marketing   48000\n",
       "12          13     Mike   34  Marketing   51000\n",
       "7            8    Helen   27  Marketing   50000\n",
       "10          11     Kyle   38         HR   56000\n",
       "14          15    Oscar   45         HR   58000\n",
       "6            7    Grace   33         HR   57000"
      ]
     },
     "execution_count": 226,
     "metadata": {},
     "output_type": "execute_result"
    }
   ],
   "source": [
    "df_shuffled"
   ]
  },
  {
   "cell_type": "raw",
   "id": "a5b3cd59-1b2e-4d49-a085-13934159382f",
   "metadata": {},
   "source": [
    "Random Sampling Without Replacement"
   ]
  },
  {
   "cell_type": "code",
   "execution_count": 227,
   "id": "7f48e944-a32a-4d67-9815-f4ffab62b63b",
   "metadata": {},
   "outputs": [],
   "source": [
    "sample_df = df.sample(n = 5, random_state = 123)"
   ]
  },
  {
   "cell_type": "code",
   "execution_count": 228,
   "id": "ff3da621-f221-44de-a97d-d0ec4eafefea",
   "metadata": {},
   "outputs": [
    {
     "data": {
      "text/html": [
       "<div>\n",
       "<style scoped>\n",
       "    .dataframe tbody tr th:only-of-type {\n",
       "        vertical-align: middle;\n",
       "    }\n",
       "\n",
       "    .dataframe tbody tr th {\n",
       "        vertical-align: top;\n",
       "    }\n",
       "\n",
       "    .dataframe thead th {\n",
       "        text-align: right;\n",
       "    }\n",
       "</style>\n",
       "<table border=\"1\" class=\"dataframe\">\n",
       "  <thead>\n",
       "    <tr style=\"text-align: right;\">\n",
       "      <th></th>\n",
       "      <th>EmployeeID</th>\n",
       "      <th>Name</th>\n",
       "      <th>Age</th>\n",
       "      <th>Department</th>\n",
       "      <th>Salary</th>\n",
       "    </tr>\n",
       "  </thead>\n",
       "  <tbody>\n",
       "    <tr>\n",
       "      <th>14</th>\n",
       "      <td>15</td>\n",
       "      <td>Oscar</td>\n",
       "      <td>45</td>\n",
       "      <td>HR</td>\n",
       "      <td>58000</td>\n",
       "    </tr>\n",
       "    <tr>\n",
       "      <th>5</th>\n",
       "      <td>6</td>\n",
       "      <td>Frank</td>\n",
       "      <td>40</td>\n",
       "      <td>Sales</td>\n",
       "      <td>65000</td>\n",
       "    </tr>\n",
       "    <tr>\n",
       "      <th>4</th>\n",
       "      <td>5</td>\n",
       "      <td>Eva</td>\n",
       "      <td>22</td>\n",
       "      <td>Marketing</td>\n",
       "      <td>48000</td>\n",
       "    </tr>\n",
       "    <tr>\n",
       "      <th>17</th>\n",
       "      <td>18</td>\n",
       "      <td>Rachel</td>\n",
       "      <td>31</td>\n",
       "      <td>Sales</td>\n",
       "      <td>54000</td>\n",
       "    </tr>\n",
       "    <tr>\n",
       "      <th>8</th>\n",
       "      <td>9</td>\n",
       "      <td>Ian</td>\n",
       "      <td>31</td>\n",
       "      <td>IT</td>\n",
       "      <td>61000</td>\n",
       "    </tr>\n",
       "  </tbody>\n",
       "</table>\n",
       "</div>"
      ],
      "text/plain": [
       "    EmployeeID    Name  Age Department  Salary\n",
       "14          15   Oscar   45         HR   58000\n",
       "5            6   Frank   40      Sales   65000\n",
       "4            5     Eva   22  Marketing   48000\n",
       "17          18  Rachel   31      Sales   54000\n",
       "8            9     Ian   31         IT   61000"
      ]
     },
     "execution_count": 228,
     "metadata": {},
     "output_type": "execute_result"
    }
   ],
   "source": [
    "sample_df"
   ]
  },
  {
   "cell_type": "raw",
   "id": "c0d49caf-a736-4a81-a7cb-eb3e56964d54",
   "metadata": {},
   "source": [
    "Creating a Train-Test Split\n",
    "For many machine learning tasks, it’s important to split the data into training and testing sets. Here, we randomly select 80% of the data for training and use the remaining 20% as the test set."
   ]
  },
  {
   "cell_type": "code",
   "execution_count": 229,
   "id": "b7eacd24-f91d-4502-bc48-2fa9a6e0c5cb",
   "metadata": {},
   "outputs": [],
   "source": [
    "train_df = df.sample(frac = 0.8, random_state = 75)"
   ]
  },
  {
   "cell_type": "code",
   "execution_count": 230,
   "id": "f94a33e3-f80b-40d7-af9f-9683356ee0d3",
   "metadata": {},
   "outputs": [],
   "source": [
    "test_df = df.drop(train_df.index)"
   ]
  },
  {
   "cell_type": "code",
   "execution_count": 231,
   "id": "8bfdc6dc-006d-4bfc-835c-6991b5295ded",
   "metadata": {},
   "outputs": [
    {
     "data": {
      "text/html": [
       "<div>\n",
       "<style scoped>\n",
       "    .dataframe tbody tr th:only-of-type {\n",
       "        vertical-align: middle;\n",
       "    }\n",
       "\n",
       "    .dataframe tbody tr th {\n",
       "        vertical-align: top;\n",
       "    }\n",
       "\n",
       "    .dataframe thead th {\n",
       "        text-align: right;\n",
       "    }\n",
       "</style>\n",
       "<table border=\"1\" class=\"dataframe\">\n",
       "  <thead>\n",
       "    <tr style=\"text-align: right;\">\n",
       "      <th></th>\n",
       "      <th>EmployeeID</th>\n",
       "      <th>Name</th>\n",
       "      <th>Age</th>\n",
       "      <th>Department</th>\n",
       "      <th>Salary</th>\n",
       "    </tr>\n",
       "  </thead>\n",
       "  <tbody>\n",
       "    <tr>\n",
       "      <th>18</th>\n",
       "      <td>19</td>\n",
       "      <td>Steve</td>\n",
       "      <td>36</td>\n",
       "      <td>HR</td>\n",
       "      <td>58000</td>\n",
       "    </tr>\n",
       "    <tr>\n",
       "      <th>11</th>\n",
       "      <td>12</td>\n",
       "      <td>Laura</td>\n",
       "      <td>26</td>\n",
       "      <td>IT</td>\n",
       "      <td>60000</td>\n",
       "    </tr>\n",
       "    <tr>\n",
       "      <th>13</th>\n",
       "      <td>14</td>\n",
       "      <td>Nina</td>\n",
       "      <td>32</td>\n",
       "      <td>Sales</td>\n",
       "      <td>52000</td>\n",
       "    </tr>\n",
       "    <tr>\n",
       "      <th>4</th>\n",
       "      <td>5</td>\n",
       "      <td>Eva</td>\n",
       "      <td>22</td>\n",
       "      <td>Marketing</td>\n",
       "      <td>48000</td>\n",
       "    </tr>\n",
       "    <tr>\n",
       "      <th>12</th>\n",
       "      <td>13</td>\n",
       "      <td>Mike</td>\n",
       "      <td>34</td>\n",
       "      <td>Marketing</td>\n",
       "      <td>51000</td>\n",
       "    </tr>\n",
       "    <tr>\n",
       "      <th>9</th>\n",
       "      <td>10</td>\n",
       "      <td>Jane</td>\n",
       "      <td>29</td>\n",
       "      <td>Sales</td>\n",
       "      <td>53000</td>\n",
       "    </tr>\n",
       "    <tr>\n",
       "      <th>5</th>\n",
       "      <td>6</td>\n",
       "      <td>Frank</td>\n",
       "      <td>40</td>\n",
       "      <td>Sales</td>\n",
       "      <td>65000</td>\n",
       "    </tr>\n",
       "    <tr>\n",
       "      <th>3</th>\n",
       "      <td>4</td>\n",
       "      <td>David</td>\n",
       "      <td>35</td>\n",
       "      <td>IT</td>\n",
       "      <td>62000</td>\n",
       "    </tr>\n",
       "    <tr>\n",
       "      <th>14</th>\n",
       "      <td>15</td>\n",
       "      <td>Oscar</td>\n",
       "      <td>45</td>\n",
       "      <td>HR</td>\n",
       "      <td>58000</td>\n",
       "    </tr>\n",
       "    <tr>\n",
       "      <th>15</th>\n",
       "      <td>16</td>\n",
       "      <td>Pam</td>\n",
       "      <td>37</td>\n",
       "      <td>IT</td>\n",
       "      <td>63000</td>\n",
       "    </tr>\n",
       "    <tr>\n",
       "      <th>7</th>\n",
       "      <td>8</td>\n",
       "      <td>Helen</td>\n",
       "      <td>27</td>\n",
       "      <td>Marketing</td>\n",
       "      <td>50000</td>\n",
       "    </tr>\n",
       "    <tr>\n",
       "      <th>19</th>\n",
       "      <td>20</td>\n",
       "      <td>Tina</td>\n",
       "      <td>28</td>\n",
       "      <td>IT</td>\n",
       "      <td>60000</td>\n",
       "    </tr>\n",
       "    <tr>\n",
       "      <th>1</th>\n",
       "      <td>2</td>\n",
       "      <td>Bob</td>\n",
       "      <td>30</td>\n",
       "      <td>IT</td>\n",
       "      <td>60000</td>\n",
       "    </tr>\n",
       "    <tr>\n",
       "      <th>2</th>\n",
       "      <td>3</td>\n",
       "      <td>Charlie</td>\n",
       "      <td>28</td>\n",
       "      <td>HR</td>\n",
       "      <td>55000</td>\n",
       "    </tr>\n",
       "    <tr>\n",
       "      <th>6</th>\n",
       "      <td>7</td>\n",
       "      <td>Grace</td>\n",
       "      <td>33</td>\n",
       "      <td>HR</td>\n",
       "      <td>57000</td>\n",
       "    </tr>\n",
       "    <tr>\n",
       "      <th>10</th>\n",
       "      <td>11</td>\n",
       "      <td>Kyle</td>\n",
       "      <td>38</td>\n",
       "      <td>HR</td>\n",
       "      <td>56000</td>\n",
       "    </tr>\n",
       "  </tbody>\n",
       "</table>\n",
       "</div>"
      ],
      "text/plain": [
       "    EmployeeID     Name  Age Department  Salary\n",
       "18          19    Steve   36         HR   58000\n",
       "11          12    Laura   26         IT   60000\n",
       "13          14     Nina   32      Sales   52000\n",
       "4            5      Eva   22  Marketing   48000\n",
       "12          13     Mike   34  Marketing   51000\n",
       "9           10     Jane   29      Sales   53000\n",
       "5            6    Frank   40      Sales   65000\n",
       "3            4    David   35         IT   62000\n",
       "14          15    Oscar   45         HR   58000\n",
       "15          16      Pam   37         IT   63000\n",
       "7            8    Helen   27  Marketing   50000\n",
       "19          20     Tina   28         IT   60000\n",
       "1            2      Bob   30         IT   60000\n",
       "2            3  Charlie   28         HR   55000\n",
       "6            7    Grace   33         HR   57000\n",
       "10          11     Kyle   38         HR   56000"
      ]
     },
     "execution_count": 231,
     "metadata": {},
     "output_type": "execute_result"
    }
   ],
   "source": [
    "train_df"
   ]
  },
  {
   "cell_type": "code",
   "execution_count": 232,
   "id": "3fc20bb2-ebb1-4a70-b7e2-e5af88b6e9c2",
   "metadata": {},
   "outputs": [
    {
     "data": {
      "text/html": [
       "<div>\n",
       "<style scoped>\n",
       "    .dataframe tbody tr th:only-of-type {\n",
       "        vertical-align: middle;\n",
       "    }\n",
       "\n",
       "    .dataframe tbody tr th {\n",
       "        vertical-align: top;\n",
       "    }\n",
       "\n",
       "    .dataframe thead th {\n",
       "        text-align: right;\n",
       "    }\n",
       "</style>\n",
       "<table border=\"1\" class=\"dataframe\">\n",
       "  <thead>\n",
       "    <tr style=\"text-align: right;\">\n",
       "      <th></th>\n",
       "      <th>EmployeeID</th>\n",
       "      <th>Name</th>\n",
       "      <th>Age</th>\n",
       "      <th>Department</th>\n",
       "      <th>Salary</th>\n",
       "    </tr>\n",
       "  </thead>\n",
       "  <tbody>\n",
       "    <tr>\n",
       "      <th>0</th>\n",
       "      <td>1</td>\n",
       "      <td>Alice</td>\n",
       "      <td>25</td>\n",
       "      <td>Sales</td>\n",
       "      <td>50000</td>\n",
       "    </tr>\n",
       "    <tr>\n",
       "      <th>8</th>\n",
       "      <td>9</td>\n",
       "      <td>Ian</td>\n",
       "      <td>31</td>\n",
       "      <td>IT</td>\n",
       "      <td>61000</td>\n",
       "    </tr>\n",
       "    <tr>\n",
       "      <th>16</th>\n",
       "      <td>17</td>\n",
       "      <td>Quincy</td>\n",
       "      <td>29</td>\n",
       "      <td>Marketing</td>\n",
       "      <td>49000</td>\n",
       "    </tr>\n",
       "    <tr>\n",
       "      <th>17</th>\n",
       "      <td>18</td>\n",
       "      <td>Rachel</td>\n",
       "      <td>31</td>\n",
       "      <td>Sales</td>\n",
       "      <td>54000</td>\n",
       "    </tr>\n",
       "  </tbody>\n",
       "</table>\n",
       "</div>"
      ],
      "text/plain": [
       "    EmployeeID    Name  Age Department  Salary\n",
       "0            1   Alice   25      Sales   50000\n",
       "8            9     Ian   31         IT   61000\n",
       "16          17  Quincy   29  Marketing   49000\n",
       "17          18  Rachel   31      Sales   54000"
      ]
     },
     "execution_count": 232,
     "metadata": {},
     "output_type": "execute_result"
    }
   ],
   "source": [
    "test_df"
   ]
  },
  {
   "cell_type": "code",
   "execution_count": null,
   "id": "5dfd8492-59b0-424f-9207-6ed60c1c6e99",
   "metadata": {},
   "outputs": [],
   "source": []
  },
  {
   "cell_type": "markdown",
   "id": "d563f49e-0da6-4667-bdbc-f71bc393e0b8",
   "metadata": {},
   "source": [
    "#### Computing Indicator/Dummy Variables"
   ]
  },
  {
   "cell_type": "raw",
   "id": "6bb96d91-5801-4385-abcf-72ec7f23dac8",
   "metadata": {},
   "source": [
    "Indicator (or dummy) variables are binary (0 or 1) variables used to represent categorical data in a numerical format. Many statistical models and machine learning algorithms require numerical input, so converting categorical variables into dummy variables is an essential preprocessing step."
   ]
  },
  {
   "cell_type": "raw",
   "id": "d108347b-cb5b-4a3c-8676-54d9fdf1cb4b",
   "metadata": {},
   "source": [
    "What Are Indicator/Dummy Variables?\n",
    "Dummy variables allow you to convert categorical features into a series of binary columns. Each new column represents one of the unique categories of the original variable:\n",
    "\n",
    "1 indicates the presence of the category.\n",
    "0 indicates its absence.\n",
    "For example, if you have a categorical variable Department with values such as \"Sales\", \"IT\", and \"HR\", creating dummy variables would result in three new columns (one for each category). Each row will have a 1 in the column corresponding to its department and 0 in the others."
   ]
  },
  {
   "cell_type": "raw",
   "id": "0dff4352-1219-4cc2-9cb5-e12001e218a9",
   "metadata": {},
   "source": [
    "Why Use Dummy Variables?\n",
    "Model Compatibility: Many algorithms (like linear regression, logistic regression, and tree-based models) require numerical input.\n",
    "Avoiding Implicit Ordering: Directly encoding categories as numbers (e.g., Sales=1, IT=2, HR=3) can falsely imply an order. Dummy variables avoid this by treating each category independently.\n",
    "Interpretability: Coefficients for dummy variables can be directly interpreted as the effect of belonging to that category."
   ]
  },
  {
   "cell_type": "raw",
   "id": "6b9cb809-8e2c-41a1-9385-830c7dcd1867",
   "metadata": {},
   "source": [
    "A. Creating Dummy Variables for a Single Column"
   ]
  },
  {
   "cell_type": "code",
   "execution_count": 233,
   "id": "6325b7b4-d653-491a-9465-23ffb273b1db",
   "metadata": {},
   "outputs": [],
   "source": [
    "data = {\n",
    "    'EmployeeID': [1, 2, 3, 4, 5],\n",
    "    'Department': ['Sales', 'IT', 'HR', 'IT', 'Sales']\n",
    "}\n",
    "df = pd.DataFrame(data)"
   ]
  },
  {
   "cell_type": "code",
   "execution_count": 234,
   "id": "d553c00c-e655-4c88-9dbd-d61ad0ec29fb",
   "metadata": {},
   "outputs": [
    {
     "data": {
      "text/html": [
       "<div>\n",
       "<style scoped>\n",
       "    .dataframe tbody tr th:only-of-type {\n",
       "        vertical-align: middle;\n",
       "    }\n",
       "\n",
       "    .dataframe tbody tr th {\n",
       "        vertical-align: top;\n",
       "    }\n",
       "\n",
       "    .dataframe thead th {\n",
       "        text-align: right;\n",
       "    }\n",
       "</style>\n",
       "<table border=\"1\" class=\"dataframe\">\n",
       "  <thead>\n",
       "    <tr style=\"text-align: right;\">\n",
       "      <th></th>\n",
       "      <th>EmployeeID</th>\n",
       "      <th>Department</th>\n",
       "    </tr>\n",
       "  </thead>\n",
       "  <tbody>\n",
       "    <tr>\n",
       "      <th>0</th>\n",
       "      <td>1</td>\n",
       "      <td>Sales</td>\n",
       "    </tr>\n",
       "    <tr>\n",
       "      <th>1</th>\n",
       "      <td>2</td>\n",
       "      <td>IT</td>\n",
       "    </tr>\n",
       "    <tr>\n",
       "      <th>2</th>\n",
       "      <td>3</td>\n",
       "      <td>HR</td>\n",
       "    </tr>\n",
       "    <tr>\n",
       "      <th>3</th>\n",
       "      <td>4</td>\n",
       "      <td>IT</td>\n",
       "    </tr>\n",
       "    <tr>\n",
       "      <th>4</th>\n",
       "      <td>5</td>\n",
       "      <td>Sales</td>\n",
       "    </tr>\n",
       "  </tbody>\n",
       "</table>\n",
       "</div>"
      ],
      "text/plain": [
       "   EmployeeID Department\n",
       "0           1      Sales\n",
       "1           2         IT\n",
       "2           3         HR\n",
       "3           4         IT\n",
       "4           5      Sales"
      ]
     },
     "execution_count": 234,
     "metadata": {},
     "output_type": "execute_result"
    }
   ],
   "source": [
    "df"
   ]
  },
  {
   "cell_type": "code",
   "execution_count": 235,
   "id": "57bb03e9-1f60-400f-8484-341b978c2ddd",
   "metadata": {},
   "outputs": [
    {
     "data": {
      "text/html": [
       "<div>\n",
       "<style scoped>\n",
       "    .dataframe tbody tr th:only-of-type {\n",
       "        vertical-align: middle;\n",
       "    }\n",
       "\n",
       "    .dataframe tbody tr th {\n",
       "        vertical-align: top;\n",
       "    }\n",
       "\n",
       "    .dataframe thead th {\n",
       "        text-align: right;\n",
       "    }\n",
       "</style>\n",
       "<table border=\"1\" class=\"dataframe\">\n",
       "  <thead>\n",
       "    <tr style=\"text-align: right;\">\n",
       "      <th></th>\n",
       "      <th>HR</th>\n",
       "      <th>IT</th>\n",
       "      <th>Sales</th>\n",
       "    </tr>\n",
       "  </thead>\n",
       "  <tbody>\n",
       "    <tr>\n",
       "      <th>0</th>\n",
       "      <td>False</td>\n",
       "      <td>False</td>\n",
       "      <td>True</td>\n",
       "    </tr>\n",
       "    <tr>\n",
       "      <th>1</th>\n",
       "      <td>False</td>\n",
       "      <td>True</td>\n",
       "      <td>False</td>\n",
       "    </tr>\n",
       "    <tr>\n",
       "      <th>2</th>\n",
       "      <td>True</td>\n",
       "      <td>False</td>\n",
       "      <td>False</td>\n",
       "    </tr>\n",
       "    <tr>\n",
       "      <th>3</th>\n",
       "      <td>False</td>\n",
       "      <td>True</td>\n",
       "      <td>False</td>\n",
       "    </tr>\n",
       "    <tr>\n",
       "      <th>4</th>\n",
       "      <td>False</td>\n",
       "      <td>False</td>\n",
       "      <td>True</td>\n",
       "    </tr>\n",
       "  </tbody>\n",
       "</table>\n",
       "</div>"
      ],
      "text/plain": [
       "      HR     IT  Sales\n",
       "0  False  False   True\n",
       "1  False   True  False\n",
       "2   True  False  False\n",
       "3  False   True  False\n",
       "4  False  False   True"
      ]
     },
     "execution_count": 235,
     "metadata": {},
     "output_type": "execute_result"
    }
   ],
   "source": [
    "# To create sole dummy variable from department\n",
    "pd.get_dummies(df['Department'])"
   ]
  },
  {
   "cell_type": "code",
   "execution_count": null,
   "id": "ae8857e5-c95a-48c0-947f-a07077747ca7",
   "metadata": {},
   "outputs": [],
   "source": []
  },
  {
   "cell_type": "code",
   "execution_count": 236,
   "id": "dddff1ef-9ff2-4345-9fc7-1ef2349f9c6e",
   "metadata": {},
   "outputs": [],
   "source": [
    "# create dummy variables for the Department column:\n",
    "dummies = pd.get_dummies(df, columns = ['Department'])"
   ]
  },
  {
   "cell_type": "code",
   "execution_count": 237,
   "id": "e12ad7c5-7488-4cc5-bc07-eedb43a26260",
   "metadata": {},
   "outputs": [
    {
     "data": {
      "text/html": [
       "<div>\n",
       "<style scoped>\n",
       "    .dataframe tbody tr th:only-of-type {\n",
       "        vertical-align: middle;\n",
       "    }\n",
       "\n",
       "    .dataframe tbody tr th {\n",
       "        vertical-align: top;\n",
       "    }\n",
       "\n",
       "    .dataframe thead th {\n",
       "        text-align: right;\n",
       "    }\n",
       "</style>\n",
       "<table border=\"1\" class=\"dataframe\">\n",
       "  <thead>\n",
       "    <tr style=\"text-align: right;\">\n",
       "      <th></th>\n",
       "      <th>EmployeeID</th>\n",
       "      <th>Department_HR</th>\n",
       "      <th>Department_IT</th>\n",
       "      <th>Department_Sales</th>\n",
       "    </tr>\n",
       "  </thead>\n",
       "  <tbody>\n",
       "    <tr>\n",
       "      <th>0</th>\n",
       "      <td>1</td>\n",
       "      <td>False</td>\n",
       "      <td>False</td>\n",
       "      <td>True</td>\n",
       "    </tr>\n",
       "    <tr>\n",
       "      <th>1</th>\n",
       "      <td>2</td>\n",
       "      <td>False</td>\n",
       "      <td>True</td>\n",
       "      <td>False</td>\n",
       "    </tr>\n",
       "    <tr>\n",
       "      <th>2</th>\n",
       "      <td>3</td>\n",
       "      <td>True</td>\n",
       "      <td>False</td>\n",
       "      <td>False</td>\n",
       "    </tr>\n",
       "    <tr>\n",
       "      <th>3</th>\n",
       "      <td>4</td>\n",
       "      <td>False</td>\n",
       "      <td>True</td>\n",
       "      <td>False</td>\n",
       "    </tr>\n",
       "    <tr>\n",
       "      <th>4</th>\n",
       "      <td>5</td>\n",
       "      <td>False</td>\n",
       "      <td>False</td>\n",
       "      <td>True</td>\n",
       "    </tr>\n",
       "  </tbody>\n",
       "</table>\n",
       "</div>"
      ],
      "text/plain": [
       "   EmployeeID  Department_HR  Department_IT  Department_Sales\n",
       "0           1          False          False              True\n",
       "1           2          False           True             False\n",
       "2           3           True          False             False\n",
       "3           4          False           True             False\n",
       "4           5          False          False              True"
      ]
     },
     "execution_count": 237,
     "metadata": {},
     "output_type": "execute_result"
    }
   ],
   "source": [
    "dummies"
   ]
  },
  {
   "cell_type": "code",
   "execution_count": null,
   "id": "b5e4bd65-cc13-4019-9e00-4f4508ff5c5d",
   "metadata": {},
   "outputs": [],
   "source": []
  },
  {
   "cell_type": "raw",
   "id": "21226904-2af1-4885-9e71-a55d1fda4260",
   "metadata": {},
   "source": [
    "Avoiding the Dummy Variable Trap\n",
    "When using dummy variables in regression models, you must avoid multicollinearity (the dummy variable trap). This happens when dummy variables are highly correlated. One common method is to drop one of the dummy columns using the drop_first=True parameter:"
   ]
  },
  {
   "cell_type": "code",
   "execution_count": 238,
   "id": "566def2a-62c4-422e-b3db-db4df50dcd58",
   "metadata": {},
   "outputs": [
    {
     "data": {
      "text/html": [
       "<div>\n",
       "<style scoped>\n",
       "    .dataframe tbody tr th:only-of-type {\n",
       "        vertical-align: middle;\n",
       "    }\n",
       "\n",
       "    .dataframe tbody tr th {\n",
       "        vertical-align: top;\n",
       "    }\n",
       "\n",
       "    .dataframe thead th {\n",
       "        text-align: right;\n",
       "    }\n",
       "</style>\n",
       "<table border=\"1\" class=\"dataframe\">\n",
       "  <thead>\n",
       "    <tr style=\"text-align: right;\">\n",
       "      <th></th>\n",
       "      <th>EmployeeID</th>\n",
       "      <th>Department_IT</th>\n",
       "      <th>Department_Sales</th>\n",
       "    </tr>\n",
       "  </thead>\n",
       "  <tbody>\n",
       "    <tr>\n",
       "      <th>0</th>\n",
       "      <td>1</td>\n",
       "      <td>False</td>\n",
       "      <td>True</td>\n",
       "    </tr>\n",
       "    <tr>\n",
       "      <th>1</th>\n",
       "      <td>2</td>\n",
       "      <td>True</td>\n",
       "      <td>False</td>\n",
       "    </tr>\n",
       "    <tr>\n",
       "      <th>2</th>\n",
       "      <td>3</td>\n",
       "      <td>False</td>\n",
       "      <td>False</td>\n",
       "    </tr>\n",
       "    <tr>\n",
       "      <th>3</th>\n",
       "      <td>4</td>\n",
       "      <td>True</td>\n",
       "      <td>False</td>\n",
       "    </tr>\n",
       "    <tr>\n",
       "      <th>4</th>\n",
       "      <td>5</td>\n",
       "      <td>False</td>\n",
       "      <td>True</td>\n",
       "    </tr>\n",
       "  </tbody>\n",
       "</table>\n",
       "</div>"
      ],
      "text/plain": [
       "   EmployeeID  Department_IT  Department_Sales\n",
       "0           1          False              True\n",
       "1           2           True             False\n",
       "2           3          False             False\n",
       "3           4           True             False\n",
       "4           5          False              True"
      ]
     },
     "execution_count": 238,
     "metadata": {},
     "output_type": "execute_result"
    }
   ],
   "source": [
    "pd.get_dummies(df, columns=['Department'], drop_first=True)"
   ]
  },
  {
   "cell_type": "code",
   "execution_count": 239,
   "id": "70c69089-0beb-4334-b043-9d5d5c616907",
   "metadata": {},
   "outputs": [],
   "source": [
    "data_with_nan = {\n",
    "    'EmployeeID': [1, 2, 3, 4, 5],\n",
    "    'Department': ['Sales', 'IT', None, 'IT', 'Sales']\n",
    "}\n",
    "dfn = pd.DataFrame(data_with_nan)"
   ]
  },
  {
   "cell_type": "code",
   "execution_count": 240,
   "id": "af22d434-6d45-4de0-b7f6-cb88292f9f97",
   "metadata": {},
   "outputs": [
    {
     "data": {
      "text/html": [
       "<div>\n",
       "<style scoped>\n",
       "    .dataframe tbody tr th:only-of-type {\n",
       "        vertical-align: middle;\n",
       "    }\n",
       "\n",
       "    .dataframe tbody tr th {\n",
       "        vertical-align: top;\n",
       "    }\n",
       "\n",
       "    .dataframe thead th {\n",
       "        text-align: right;\n",
       "    }\n",
       "</style>\n",
       "<table border=\"1\" class=\"dataframe\">\n",
       "  <thead>\n",
       "    <tr style=\"text-align: right;\">\n",
       "      <th></th>\n",
       "      <th>EmployeeID</th>\n",
       "      <th>Department</th>\n",
       "    </tr>\n",
       "  </thead>\n",
       "  <tbody>\n",
       "    <tr>\n",
       "      <th>0</th>\n",
       "      <td>1</td>\n",
       "      <td>Sales</td>\n",
       "    </tr>\n",
       "    <tr>\n",
       "      <th>1</th>\n",
       "      <td>2</td>\n",
       "      <td>IT</td>\n",
       "    </tr>\n",
       "    <tr>\n",
       "      <th>2</th>\n",
       "      <td>3</td>\n",
       "      <td>None</td>\n",
       "    </tr>\n",
       "    <tr>\n",
       "      <th>3</th>\n",
       "      <td>4</td>\n",
       "      <td>IT</td>\n",
       "    </tr>\n",
       "    <tr>\n",
       "      <th>4</th>\n",
       "      <td>5</td>\n",
       "      <td>Sales</td>\n",
       "    </tr>\n",
       "  </tbody>\n",
       "</table>\n",
       "</div>"
      ],
      "text/plain": [
       "   EmployeeID Department\n",
       "0           1      Sales\n",
       "1           2         IT\n",
       "2           3       None\n",
       "3           4         IT\n",
       "4           5      Sales"
      ]
     },
     "execution_count": 240,
     "metadata": {},
     "output_type": "execute_result"
    }
   ],
   "source": [
    "dfn"
   ]
  },
  {
   "cell_type": "code",
   "execution_count": 241,
   "id": "0f75d807-99ba-43b9-a90c-c14a859a5a10",
   "metadata": {},
   "outputs": [],
   "source": [
    "dummies = pd.get_dummies(dfn, columns = ['Department'])"
   ]
  },
  {
   "cell_type": "code",
   "execution_count": 242,
   "id": "1f4fcb69-be1a-4274-92a4-4831185c7041",
   "metadata": {},
   "outputs": [
    {
     "data": {
      "text/html": [
       "<div>\n",
       "<style scoped>\n",
       "    .dataframe tbody tr th:only-of-type {\n",
       "        vertical-align: middle;\n",
       "    }\n",
       "\n",
       "    .dataframe tbody tr th {\n",
       "        vertical-align: top;\n",
       "    }\n",
       "\n",
       "    .dataframe thead th {\n",
       "        text-align: right;\n",
       "    }\n",
       "</style>\n",
       "<table border=\"1\" class=\"dataframe\">\n",
       "  <thead>\n",
       "    <tr style=\"text-align: right;\">\n",
       "      <th></th>\n",
       "      <th>EmployeeID</th>\n",
       "      <th>Department_IT</th>\n",
       "      <th>Department_Sales</th>\n",
       "    </tr>\n",
       "  </thead>\n",
       "  <tbody>\n",
       "    <tr>\n",
       "      <th>0</th>\n",
       "      <td>1</td>\n",
       "      <td>False</td>\n",
       "      <td>True</td>\n",
       "    </tr>\n",
       "    <tr>\n",
       "      <th>1</th>\n",
       "      <td>2</td>\n",
       "      <td>True</td>\n",
       "      <td>False</td>\n",
       "    </tr>\n",
       "    <tr>\n",
       "      <th>2</th>\n",
       "      <td>3</td>\n",
       "      <td>False</td>\n",
       "      <td>False</td>\n",
       "    </tr>\n",
       "    <tr>\n",
       "      <th>3</th>\n",
       "      <td>4</td>\n",
       "      <td>True</td>\n",
       "      <td>False</td>\n",
       "    </tr>\n",
       "    <tr>\n",
       "      <th>4</th>\n",
       "      <td>5</td>\n",
       "      <td>False</td>\n",
       "      <td>True</td>\n",
       "    </tr>\n",
       "  </tbody>\n",
       "</table>\n",
       "</div>"
      ],
      "text/plain": [
       "   EmployeeID  Department_IT  Department_Sales\n",
       "0           1          False              True\n",
       "1           2           True             False\n",
       "2           3          False             False\n",
       "3           4           True             False\n",
       "4           5          False              True"
      ]
     },
     "execution_count": 242,
     "metadata": {},
     "output_type": "execute_result"
    }
   ],
   "source": [
    "dummies"
   ]
  },
  {
   "cell_type": "code",
   "execution_count": 243,
   "id": "b295898c-d7a1-4716-b53f-b6bfb523942e",
   "metadata": {},
   "outputs": [],
   "source": [
    "# In the above case it did not create a dummy nariable for 'NaN' value so if we want to crate\n",
    "# we can add \"dummy_na = True\" argument\n",
    "dummies = pd.get_dummies(dfn, columns = ['Department'], dummy_na = True)"
   ]
  },
  {
   "cell_type": "code",
   "execution_count": 244,
   "id": "1631f515-4871-4140-a5cb-a1fa68496dad",
   "metadata": {},
   "outputs": [
    {
     "data": {
      "text/html": [
       "<div>\n",
       "<style scoped>\n",
       "    .dataframe tbody tr th:only-of-type {\n",
       "        vertical-align: middle;\n",
       "    }\n",
       "\n",
       "    .dataframe tbody tr th {\n",
       "        vertical-align: top;\n",
       "    }\n",
       "\n",
       "    .dataframe thead th {\n",
       "        text-align: right;\n",
       "    }\n",
       "</style>\n",
       "<table border=\"1\" class=\"dataframe\">\n",
       "  <thead>\n",
       "    <tr style=\"text-align: right;\">\n",
       "      <th></th>\n",
       "      <th>EmployeeID</th>\n",
       "      <th>Department_IT</th>\n",
       "      <th>Department_Sales</th>\n",
       "      <th>Department_nan</th>\n",
       "    </tr>\n",
       "  </thead>\n",
       "  <tbody>\n",
       "    <tr>\n",
       "      <th>0</th>\n",
       "      <td>1</td>\n",
       "      <td>False</td>\n",
       "      <td>True</td>\n",
       "      <td>False</td>\n",
       "    </tr>\n",
       "    <tr>\n",
       "      <th>1</th>\n",
       "      <td>2</td>\n",
       "      <td>True</td>\n",
       "      <td>False</td>\n",
       "      <td>False</td>\n",
       "    </tr>\n",
       "    <tr>\n",
       "      <th>2</th>\n",
       "      <td>3</td>\n",
       "      <td>False</td>\n",
       "      <td>False</td>\n",
       "      <td>True</td>\n",
       "    </tr>\n",
       "    <tr>\n",
       "      <th>3</th>\n",
       "      <td>4</td>\n",
       "      <td>True</td>\n",
       "      <td>False</td>\n",
       "      <td>False</td>\n",
       "    </tr>\n",
       "    <tr>\n",
       "      <th>4</th>\n",
       "      <td>5</td>\n",
       "      <td>False</td>\n",
       "      <td>True</td>\n",
       "      <td>False</td>\n",
       "    </tr>\n",
       "  </tbody>\n",
       "</table>\n",
       "</div>"
      ],
      "text/plain": [
       "   EmployeeID  Department_IT  Department_Sales  Department_nan\n",
       "0           1          False              True           False\n",
       "1           2           True             False           False\n",
       "2           3          False             False            True\n",
       "3           4           True             False           False\n",
       "4           5          False              True           False"
      ]
     },
     "execution_count": 244,
     "metadata": {},
     "output_type": "execute_result"
    }
   ],
   "source": [
    "dummies"
   ]
  },
  {
   "cell_type": "code",
   "execution_count": null,
   "id": "46be4114-5de2-4001-af2b-29969aadce90",
   "metadata": {},
   "outputs": [],
   "source": []
  },
  {
   "cell_type": "code",
   "execution_count": 245,
   "id": "f987b591-e19c-4dd9-87fc-9bc431280ae9",
   "metadata": {},
   "outputs": [],
   "source": [
    "data = {\n",
    "    'Name': ['Alice', 'Bob', 'Charlie', 'Diana', 'Edward', 'Fiona',\n",
    "             'George', 'Hannah', 'Ian', 'Julia', 'Kevin', 'Laura'],\n",
    "    'Age': [12, 15, 20, 24, 30, 35, 40, 28, 50, 18, 22, 45]\n",
    "}\n",
    "\n",
    "# Create the DataFrame\n",
    "df = pd.DataFrame(data)"
   ]
  },
  {
   "cell_type": "code",
   "execution_count": 246,
   "id": "fe739c5a-4fb5-4aac-af20-08416eef3fc3",
   "metadata": {},
   "outputs": [
    {
     "data": {
      "text/html": [
       "<div>\n",
       "<style scoped>\n",
       "    .dataframe tbody tr th:only-of-type {\n",
       "        vertical-align: middle;\n",
       "    }\n",
       "\n",
       "    .dataframe tbody tr th {\n",
       "        vertical-align: top;\n",
       "    }\n",
       "\n",
       "    .dataframe thead th {\n",
       "        text-align: right;\n",
       "    }\n",
       "</style>\n",
       "<table border=\"1\" class=\"dataframe\">\n",
       "  <thead>\n",
       "    <tr style=\"text-align: right;\">\n",
       "      <th></th>\n",
       "      <th>Name</th>\n",
       "      <th>Age</th>\n",
       "    </tr>\n",
       "  </thead>\n",
       "  <tbody>\n",
       "    <tr>\n",
       "      <th>0</th>\n",
       "      <td>Alice</td>\n",
       "      <td>12</td>\n",
       "    </tr>\n",
       "    <tr>\n",
       "      <th>1</th>\n",
       "      <td>Bob</td>\n",
       "      <td>15</td>\n",
       "    </tr>\n",
       "    <tr>\n",
       "      <th>2</th>\n",
       "      <td>Charlie</td>\n",
       "      <td>20</td>\n",
       "    </tr>\n",
       "    <tr>\n",
       "      <th>3</th>\n",
       "      <td>Diana</td>\n",
       "      <td>24</td>\n",
       "    </tr>\n",
       "    <tr>\n",
       "      <th>4</th>\n",
       "      <td>Edward</td>\n",
       "      <td>30</td>\n",
       "    </tr>\n",
       "    <tr>\n",
       "      <th>5</th>\n",
       "      <td>Fiona</td>\n",
       "      <td>35</td>\n",
       "    </tr>\n",
       "    <tr>\n",
       "      <th>6</th>\n",
       "      <td>George</td>\n",
       "      <td>40</td>\n",
       "    </tr>\n",
       "    <tr>\n",
       "      <th>7</th>\n",
       "      <td>Hannah</td>\n",
       "      <td>28</td>\n",
       "    </tr>\n",
       "    <tr>\n",
       "      <th>8</th>\n",
       "      <td>Ian</td>\n",
       "      <td>50</td>\n",
       "    </tr>\n",
       "    <tr>\n",
       "      <th>9</th>\n",
       "      <td>Julia</td>\n",
       "      <td>18</td>\n",
       "    </tr>\n",
       "    <tr>\n",
       "      <th>10</th>\n",
       "      <td>Kevin</td>\n",
       "      <td>22</td>\n",
       "    </tr>\n",
       "    <tr>\n",
       "      <th>11</th>\n",
       "      <td>Laura</td>\n",
       "      <td>45</td>\n",
       "    </tr>\n",
       "  </tbody>\n",
       "</table>\n",
       "</div>"
      ],
      "text/plain": [
       "       Name  Age\n",
       "0     Alice   12\n",
       "1       Bob   15\n",
       "2   Charlie   20\n",
       "3     Diana   24\n",
       "4    Edward   30\n",
       "5     Fiona   35\n",
       "6    George   40\n",
       "7    Hannah   28\n",
       "8       Ian   50\n",
       "9     Julia   18\n",
       "10    Kevin   22\n",
       "11    Laura   45"
      ]
     },
     "execution_count": 246,
     "metadata": {},
     "output_type": "execute_result"
    }
   ],
   "source": [
    "df"
   ]
  },
  {
   "cell_type": "code",
   "execution_count": 247,
   "id": "3626af19-5776-4be3-8ff5-d554d205a911",
   "metadata": {},
   "outputs": [],
   "source": [
    "bins = [11, 25, 35, 50]"
   ]
  },
  {
   "cell_type": "code",
   "execution_count": 248,
   "id": "f8409a7f-2066-4834-812f-34665b7b518d",
   "metadata": {},
   "outputs": [
    {
     "data": {
      "text/html": [
       "<div>\n",
       "<style scoped>\n",
       "    .dataframe tbody tr th:only-of-type {\n",
       "        vertical-align: middle;\n",
       "    }\n",
       "\n",
       "    .dataframe tbody tr th {\n",
       "        vertical-align: top;\n",
       "    }\n",
       "\n",
       "    .dataframe thead th {\n",
       "        text-align: right;\n",
       "    }\n",
       "</style>\n",
       "<table border=\"1\" class=\"dataframe\">\n",
       "  <thead>\n",
       "    <tr style=\"text-align: right;\">\n",
       "      <th></th>\n",
       "      <th>(11, 25]</th>\n",
       "      <th>(25, 35]</th>\n",
       "      <th>(35, 50]</th>\n",
       "    </tr>\n",
       "  </thead>\n",
       "  <tbody>\n",
       "    <tr>\n",
       "      <th>0</th>\n",
       "      <td>True</td>\n",
       "      <td>False</td>\n",
       "      <td>False</td>\n",
       "    </tr>\n",
       "    <tr>\n",
       "      <th>1</th>\n",
       "      <td>True</td>\n",
       "      <td>False</td>\n",
       "      <td>False</td>\n",
       "    </tr>\n",
       "    <tr>\n",
       "      <th>2</th>\n",
       "      <td>True</td>\n",
       "      <td>False</td>\n",
       "      <td>False</td>\n",
       "    </tr>\n",
       "    <tr>\n",
       "      <th>3</th>\n",
       "      <td>True</td>\n",
       "      <td>False</td>\n",
       "      <td>False</td>\n",
       "    </tr>\n",
       "    <tr>\n",
       "      <th>4</th>\n",
       "      <td>False</td>\n",
       "      <td>True</td>\n",
       "      <td>False</td>\n",
       "    </tr>\n",
       "    <tr>\n",
       "      <th>5</th>\n",
       "      <td>False</td>\n",
       "      <td>True</td>\n",
       "      <td>False</td>\n",
       "    </tr>\n",
       "    <tr>\n",
       "      <th>6</th>\n",
       "      <td>False</td>\n",
       "      <td>False</td>\n",
       "      <td>True</td>\n",
       "    </tr>\n",
       "    <tr>\n",
       "      <th>7</th>\n",
       "      <td>False</td>\n",
       "      <td>True</td>\n",
       "      <td>False</td>\n",
       "    </tr>\n",
       "    <tr>\n",
       "      <th>8</th>\n",
       "      <td>False</td>\n",
       "      <td>False</td>\n",
       "      <td>True</td>\n",
       "    </tr>\n",
       "    <tr>\n",
       "      <th>9</th>\n",
       "      <td>True</td>\n",
       "      <td>False</td>\n",
       "      <td>False</td>\n",
       "    </tr>\n",
       "    <tr>\n",
       "      <th>10</th>\n",
       "      <td>True</td>\n",
       "      <td>False</td>\n",
       "      <td>False</td>\n",
       "    </tr>\n",
       "    <tr>\n",
       "      <th>11</th>\n",
       "      <td>False</td>\n",
       "      <td>False</td>\n",
       "      <td>True</td>\n",
       "    </tr>\n",
       "  </tbody>\n",
       "</table>\n",
       "</div>"
      ],
      "text/plain": [
       "    (11, 25]  (25, 35]  (35, 50]\n",
       "0       True     False     False\n",
       "1       True     False     False\n",
       "2       True     False     False\n",
       "3       True     False     False\n",
       "4      False      True     False\n",
       "5      False      True     False\n",
       "6      False     False      True\n",
       "7      False      True     False\n",
       "8      False     False      True\n",
       "9       True     False     False\n",
       "10      True     False     False\n",
       "11     False     False      True"
      ]
     },
     "execution_count": 248,
     "metadata": {},
     "output_type": "execute_result"
    }
   ],
   "source": [
    "# combining dummies and cut\n",
    "pd.get_dummies(pd.cut(df['Age'], bins))"
   ]
  },
  {
   "cell_type": "code",
   "execution_count": null,
   "id": "34f2b98c-5d69-41a1-a16d-fa1a26571fd9",
   "metadata": {},
   "outputs": [],
   "source": []
  },
  {
   "cell_type": "markdown",
   "id": "3ef6ebec-4654-4001-be22-6518f5099b68",
   "metadata": {},
   "source": [
    "# 7.3 Extension Data Types"
   ]
  },
  {
   "cell_type": "raw",
   "id": "cf5be6be-c52b-4428-bda6-983df550fe02",
   "metadata": {},
   "source": [
    "pandas was originally built upon the capabilities present in NumPy, an array computing library used primarily for working with numerical data. Many pandas concepts,such as missing data, were implemented using what was available in NumPy while trying to maximize compatibility between libraries that used NumPy and pandas together.\n",
    "\n",
    "Building on NumPy led to a number of shortcomings, such as:\n",
    "• Missing data handling for some numerical data types, such as integers and Booleans, was incomplete. As a result, when   missing data was introduced into such data, pandas converted the data type to float64 and used np.nan to represent null values. This had compounding effects by introducing subtle issues into many pandas algorithms.\n",
    "• Datasets with a lot of string data were computationally expensive and used a lot  of memory.\n",
    "• Some data types, like time intervals, timedeltas, and timestamps with time zones,  could not be supported efficiently without using computationally expensive arrays of Python objects"
   ]
  },
  {
   "cell_type": "raw",
   "id": "6ca4ef06-35d4-4c85-bb86-1ed710b1bed7",
   "metadata": {},
   "source": [
    "1. What Are Extension Data Types?\n",
    "Extension data types in Pandas extend the functionality of the standard NumPy dtypes. They are designed to handle specialized data or situations where the standard types fall short. Key built-in extension types include:\n",
    "\n",
    "Nullable Integer Types:\n",
    "Allow integer columns to store missing values. Instead of the standard NumPy int64 (which cannot hold NaN), you use types like \"Int64\", \"Int32\", etc.\n",
    "\n",
    "Boolean Extension Type:\n",
    "The standard Boolean type in NumPy does not support missing values. Pandas offers a nullable Boolean type (\"boolean\") that can represent True, False, and <NA>.\n",
    "\n",
    "String Extension Type:\n",
    "Introduced to overcome limitations of Python objects or fixed-length NumPy string types, the \"string\" dtype offers a dedicated string type with better missing value handling.\n",
    "\n",
    "Categorical Data:\n",
    "Efficiently represents data with a limited set of discrete values. Categorical types support ordering and can greatly reduce memory usage when there are many repeated values.\n",
    "\n",
    "Sparse Data Types:\n",
    "Represent data that is mostly missing or zero without consuming memory for every missing/zero element.\n",
    "\n",
    "Other Specialized Types:\n",
    "Pandas also provides types for data like intervals, periods, and timestamps with time zones."
   ]
  },
  {
   "cell_type": "raw",
   "id": "cb60408c-0ba0-49c1-bce2-677c268ba535",
   "metadata": {},
   "source": [
    "2. Why Use Extension Data Types?\n",
    "Native Missing Value Support:\n",
    "Extension types like \"Int64\", \"boolean\", and \"string\" allow you to have missing values (<NA>) without having to convert the column to a floating-point type or object.\n",
    "\n",
    "Memory Efficiency:\n",
    "Categorical data can be stored more efficiently when the number of unique values is much smaller than the number of observations.\n",
    "\n",
    "Enhanced Semantics and Operations:\n",
    "These types come with specialized methods and behaviors that are more appropriate for the data they represent. For example, categorical operations include methods for renaming categories, reordering them, and more.\n",
    "\n",
    "Customizability:\n",
    "The ExtensionArray API allows developers to create custom extension types tailored to specific domains or requirements."
   ]
  },
  {
   "cell_type": "code",
   "execution_count": null,
   "id": "f4481762-d7e3-4265-a78e-d744bd98503e",
   "metadata": {},
   "outputs": [],
   "source": []
  },
  {
   "cell_type": "raw",
   "id": "4814035e-e6b0-4523-8964-779ead701697",
   "metadata": {},
   "source": [
    "A. Nullable Integer Type\n",
    "Standard NumPy integers cannot represent missing values. With the nullable integer type \"Int64\", you can have an integer column that includes <NA>."
   ]
  },
  {
   "cell_type": "code",
   "execution_count": 249,
   "id": "97b1a17e-3568-4665-be2c-e7b699a47bb4",
   "metadata": {},
   "outputs": [],
   "source": [
    "s = pd.Series([1, 2, 3, None])"
   ]
  },
  {
   "cell_type": "code",
   "execution_count": 250,
   "id": "99e976d6-b343-465d-969f-419c1431404c",
   "metadata": {},
   "outputs": [
    {
     "data": {
      "text/plain": [
       "0    1.0\n",
       "1    2.0\n",
       "2    3.0\n",
       "3    NaN\n",
       "dtype: float64"
      ]
     },
     "execution_count": 250,
     "metadata": {},
     "output_type": "execute_result"
    }
   ],
   "source": [
    "s"
   ]
  },
  {
   "cell_type": "code",
   "execution_count": 251,
   "id": "50167b85-b812-4583-a790-b300705aafa8",
   "metadata": {},
   "outputs": [],
   "source": [
    "# by introducing the extension data type we can preserve the data type of the values\n",
    "s_new = pd.Series([1, 2, 3, None], dtype = \"Int64\")"
   ]
  },
  {
   "cell_type": "code",
   "execution_count": 252,
   "id": "3d4b6ffe-8fcf-48c5-a2d5-e856f377ce61",
   "metadata": {},
   "outputs": [
    {
     "data": {
      "text/plain": [
       "0       1\n",
       "1       2\n",
       "2       3\n",
       "3    <NA>\n",
       "dtype: Int64"
      ]
     },
     "execution_count": 252,
     "metadata": {},
     "output_type": "execute_result"
    }
   ],
   "source": [
    "s_new"
   ]
  },
  {
   "cell_type": "code",
   "execution_count": 253,
   "id": "9255f858-800d-4f5a-bf99-c33ac69f5a8c",
   "metadata": {},
   "outputs": [
    {
     "data": {
      "text/plain": [
       "0    False\n",
       "1    False\n",
       "2    False\n",
       "3     True\n",
       "dtype: bool"
      ]
     },
     "execution_count": 253,
     "metadata": {},
     "output_type": "execute_result"
    }
   ],
   "source": [
    "s.isna()"
   ]
  },
  {
   "cell_type": "code",
   "execution_count": 254,
   "id": "a722d15d-917c-42bf-84c9-6b0296937924",
   "metadata": {},
   "outputs": [
    {
     "data": {
      "text/plain": [
       "np.float64(nan)"
      ]
     },
     "execution_count": 254,
     "metadata": {},
     "output_type": "execute_result"
    }
   ],
   "source": [
    "s[3]"
   ]
  },
  {
   "cell_type": "raw",
   "id": "7d4ec39e-deb4-41bc-8cfa-b73284614d14",
   "metadata": {},
   "source": [
    "B. Nullable Boolean Type\n",
    "Standard Boolean arrays cannot represent missing values. The \"boolean\" dtype allows you to include <NA> in a Boolean column."
   ]
  },
  {
   "cell_type": "code",
   "execution_count": 255,
   "id": "c8e8bcbe-9750-4f2e-87c6-b995a95e0bc1",
   "metadata": {},
   "outputs": [],
   "source": [
    "s = pd.Series([True, False, True, None])"
   ]
  },
  {
   "cell_type": "code",
   "execution_count": 256,
   "id": "0210e894-f1ee-448b-b5d6-c6bd87c0c61d",
   "metadata": {},
   "outputs": [
    {
     "data": {
      "text/plain": [
       "0     True\n",
       "1    False\n",
       "2     True\n",
       "3     None\n",
       "dtype: object"
      ]
     },
     "execution_count": 256,
     "metadata": {},
     "output_type": "execute_result"
    }
   ],
   "source": [
    "s"
   ]
  },
  {
   "cell_type": "code",
   "execution_count": 257,
   "id": "3dcb910a-2ea9-4c37-9b7f-05739b8a36d1",
   "metadata": {},
   "outputs": [],
   "source": [
    "s_bool = pd.Series([True, False, True, None], dtype = 'boolean')"
   ]
  },
  {
   "cell_type": "code",
   "execution_count": 258,
   "id": "e50eb123-6148-495d-837a-c64012cec0b2",
   "metadata": {},
   "outputs": [
    {
     "data": {
      "text/plain": [
       "0     True\n",
       "1    False\n",
       "2     True\n",
       "3     <NA>\n",
       "dtype: boolean"
      ]
     },
     "execution_count": 258,
     "metadata": {},
     "output_type": "execute_result"
    }
   ],
   "source": [
    "s_bool"
   ]
  },
  {
   "cell_type": "raw",
   "id": "ef9c65a6-6eca-44c7-9756-c15ecfa4037a",
   "metadata": {},
   "source": [
    "C. String Extension Type\n",
    "Using the \"string\" dtype provides a dedicated string type with consistent behavior and better missing value support than the standard Python object dtype."
   ]
  },
  {
   "cell_type": "code",
   "execution_count": 259,
   "id": "94090e98-7ebb-49ca-ba28-f07b0f8c412d",
   "metadata": {},
   "outputs": [],
   "source": [
    "df_str = pd.DataFrame({'Fruit': ['Apple', None, 'Banana', 'Cherry']})"
   ]
  },
  {
   "cell_type": "code",
   "execution_count": 260,
   "id": "52fe079c-49a5-4854-bca5-a2e57b8d9a75",
   "metadata": {},
   "outputs": [
    {
     "data": {
      "text/plain": [
       "dtype('O')"
      ]
     },
     "execution_count": 260,
     "metadata": {},
     "output_type": "execute_result"
    }
   ],
   "source": [
    "df_str['Fruit'].dtype"
   ]
  },
  {
   "cell_type": "code",
   "execution_count": 261,
   "id": "806a3af5-6fcb-43d0-867e-36d3c4098b24",
   "metadata": {},
   "outputs": [],
   "source": [
    "df_new = pd.DataFrame({'Fruit': ['Apple', None, 'Banana', 'Cherry']}, dtype = \"string\")"
   ]
  },
  {
   "cell_type": "code",
   "execution_count": 262,
   "id": "5dc5551c-49e3-4e4a-899b-80482e717c6e",
   "metadata": {},
   "outputs": [
    {
     "data": {
      "text/plain": [
       "string[python]"
      ]
     },
     "execution_count": 262,
     "metadata": {},
     "output_type": "execute_result"
    }
   ],
   "source": [
    "df_new['Fruit'].dtype"
   ]
  },
  {
   "cell_type": "code",
   "execution_count": 263,
   "id": "eb655feb-886b-45ee-a38a-8a083a381872",
   "metadata": {},
   "outputs": [],
   "source": [
    "df = pd.DataFrame({'I': [1, 2, 3, None, 4],\n",
    "                  'S': ['one', 'two', None, 'four', 'five'],\n",
    "                  'B': [True, None, False, False, True]})"
   ]
  },
  {
   "cell_type": "code",
   "execution_count": 264,
   "id": "b2dda394-2e84-4ece-a591-9ebd15fe0913",
   "metadata": {},
   "outputs": [
    {
     "data": {
      "text/html": [
       "<div>\n",
       "<style scoped>\n",
       "    .dataframe tbody tr th:only-of-type {\n",
       "        vertical-align: middle;\n",
       "    }\n",
       "\n",
       "    .dataframe tbody tr th {\n",
       "        vertical-align: top;\n",
       "    }\n",
       "\n",
       "    .dataframe thead th {\n",
       "        text-align: right;\n",
       "    }\n",
       "</style>\n",
       "<table border=\"1\" class=\"dataframe\">\n",
       "  <thead>\n",
       "    <tr style=\"text-align: right;\">\n",
       "      <th></th>\n",
       "      <th>I</th>\n",
       "      <th>S</th>\n",
       "      <th>B</th>\n",
       "    </tr>\n",
       "  </thead>\n",
       "  <tbody>\n",
       "    <tr>\n",
       "      <th>0</th>\n",
       "      <td>1.0</td>\n",
       "      <td>one</td>\n",
       "      <td>True</td>\n",
       "    </tr>\n",
       "    <tr>\n",
       "      <th>1</th>\n",
       "      <td>2.0</td>\n",
       "      <td>two</td>\n",
       "      <td>None</td>\n",
       "    </tr>\n",
       "    <tr>\n",
       "      <th>2</th>\n",
       "      <td>3.0</td>\n",
       "      <td>None</td>\n",
       "      <td>False</td>\n",
       "    </tr>\n",
       "    <tr>\n",
       "      <th>3</th>\n",
       "      <td>NaN</td>\n",
       "      <td>four</td>\n",
       "      <td>False</td>\n",
       "    </tr>\n",
       "    <tr>\n",
       "      <th>4</th>\n",
       "      <td>4.0</td>\n",
       "      <td>five</td>\n",
       "      <td>True</td>\n",
       "    </tr>\n",
       "  </tbody>\n",
       "</table>\n",
       "</div>"
      ],
      "text/plain": [
       "     I     S      B\n",
       "0  1.0   one   True\n",
       "1  2.0   two   None\n",
       "2  3.0  None  False\n",
       "3  NaN  four  False\n",
       "4  4.0  five   True"
      ]
     },
     "execution_count": 264,
     "metadata": {},
     "output_type": "execute_result"
    }
   ],
   "source": [
    "df"
   ]
  },
  {
   "cell_type": "code",
   "execution_count": 265,
   "id": "843fdd72-49bf-49f1-81cd-c8a221ac2939",
   "metadata": {},
   "outputs": [
    {
     "name": "stdout",
     "output_type": "stream",
     "text": [
      "BEFORE\n",
      "\n",
      "float64\n",
      "object\n",
      "object\n"
     ]
    }
   ],
   "source": [
    "print('BEFORE\\n')\n",
    "print(df['I'].dtype)\n",
    "print(df['S'].dtype)\n",
    "print(df['B'].dtype)"
   ]
  },
  {
   "cell_type": "code",
   "execution_count": 266,
   "id": "277d4d7a-15c7-41c8-ab86-8ede307ae940",
   "metadata": {},
   "outputs": [],
   "source": [
    "df['I'] = df['I'].astype('Int64')\n",
    "df['S'] = df['S'].astype('string')\n",
    "df['B'] = df['B'].astype('boolean')"
   ]
  },
  {
   "cell_type": "code",
   "execution_count": 267,
   "id": "3c19cc12-432c-49eb-8a5d-e651da64071d",
   "metadata": {},
   "outputs": [
    {
     "data": {
      "text/html": [
       "<div>\n",
       "<style scoped>\n",
       "    .dataframe tbody tr th:only-of-type {\n",
       "        vertical-align: middle;\n",
       "    }\n",
       "\n",
       "    .dataframe tbody tr th {\n",
       "        vertical-align: top;\n",
       "    }\n",
       "\n",
       "    .dataframe thead th {\n",
       "        text-align: right;\n",
       "    }\n",
       "</style>\n",
       "<table border=\"1\" class=\"dataframe\">\n",
       "  <thead>\n",
       "    <tr style=\"text-align: right;\">\n",
       "      <th></th>\n",
       "      <th>I</th>\n",
       "      <th>S</th>\n",
       "      <th>B</th>\n",
       "    </tr>\n",
       "  </thead>\n",
       "  <tbody>\n",
       "    <tr>\n",
       "      <th>0</th>\n",
       "      <td>1</td>\n",
       "      <td>one</td>\n",
       "      <td>True</td>\n",
       "    </tr>\n",
       "    <tr>\n",
       "      <th>1</th>\n",
       "      <td>2</td>\n",
       "      <td>two</td>\n",
       "      <td>&lt;NA&gt;</td>\n",
       "    </tr>\n",
       "    <tr>\n",
       "      <th>2</th>\n",
       "      <td>3</td>\n",
       "      <td>&lt;NA&gt;</td>\n",
       "      <td>False</td>\n",
       "    </tr>\n",
       "    <tr>\n",
       "      <th>3</th>\n",
       "      <td>&lt;NA&gt;</td>\n",
       "      <td>four</td>\n",
       "      <td>False</td>\n",
       "    </tr>\n",
       "    <tr>\n",
       "      <th>4</th>\n",
       "      <td>4</td>\n",
       "      <td>five</td>\n",
       "      <td>True</td>\n",
       "    </tr>\n",
       "  </tbody>\n",
       "</table>\n",
       "</div>"
      ],
      "text/plain": [
       "      I     S      B\n",
       "0     1   one   True\n",
       "1     2   two   <NA>\n",
       "2     3  <NA>  False\n",
       "3  <NA>  four  False\n",
       "4     4  five   True"
      ]
     },
     "execution_count": 267,
     "metadata": {},
     "output_type": "execute_result"
    }
   ],
   "source": [
    "df"
   ]
  },
  {
   "cell_type": "code",
   "execution_count": 268,
   "id": "0982a690-d935-494d-bd6e-27c309ae2b3d",
   "metadata": {},
   "outputs": [
    {
     "name": "stdout",
     "output_type": "stream",
     "text": [
      "AFTER\n",
      "\n",
      "Int64\n",
      "string\n",
      "boolean\n"
     ]
    }
   ],
   "source": [
    "print('AFTER\\n')\n",
    "print(df['I'].dtype)\n",
    "print(df['S'].dtype)\n",
    "print(df['B'].dtype)"
   ]
  },
  {
   "cell_type": "code",
   "execution_count": null,
   "id": "832502e6-7b50-432b-b889-2c90a1622b7d",
   "metadata": {},
   "outputs": [],
   "source": []
  },
  {
   "cell_type": "markdown",
   "id": "67f045fe-8bf4-4111-ae8a-d861dfbd5368",
   "metadata": {},
   "source": [
    "#  7.4 String Manipulation"
   ]
  },
  {
   "cell_type": "markdown",
   "id": "8ad4624c-ac07-4cdc-88d6-0d73cdecd8e0",
   "metadata": {},
   "source": [
    "#### Python Built-In String Object Methods"
   ]
  },
  {
   "cell_type": "raw",
   "id": "9b1310de-1e73-488f-908f-4130d3848012",
   "metadata": {},
   "source": [
    "1. Case Conversion Methods\n",
    "lower(): Converts all characters in the string to lowercase.\n",
    "upper(): Converts all characters in the string to uppercase.\n",
    "capitalize(): Converts the first character to uppercase and the rest to lowercase.\n",
    "title(): Converts the first character of each word to uppercase."
   ]
  },
  {
   "cell_type": "code",
   "execution_count": 269,
   "id": "cb870753-cbc5-41ae-a0e4-23650ab536f4",
   "metadata": {},
   "outputs": [],
   "source": [
    "s = \"Hello, World! THIS IS a test.\""
   ]
  },
  {
   "cell_type": "code",
   "execution_count": 270,
   "id": "b68b0edb-9285-4381-a7ce-a6f1dfc1878d",
   "metadata": {},
   "outputs": [
    {
     "name": "stdout",
     "output_type": "stream",
     "text": [
      "Hello, World! THIS IS a test.\n"
     ]
    }
   ],
   "source": [
    "print(s)"
   ]
  },
  {
   "cell_type": "code",
   "execution_count": 271,
   "id": "2692d05c-9f6e-4625-9b51-9be7ed621df2",
   "metadata": {},
   "outputs": [
    {
     "name": "stdout",
     "output_type": "stream",
     "text": [
      "hello, world! this is a test.\n"
     ]
    }
   ],
   "source": [
    "print(s.lower())"
   ]
  },
  {
   "cell_type": "code",
   "execution_count": 272,
   "id": "1d57a4b2-70bc-445d-828f-366b661d5ece",
   "metadata": {},
   "outputs": [
    {
     "name": "stdout",
     "output_type": "stream",
     "text": [
      "HELLO, WORLD! THIS IS A TEST.\n"
     ]
    }
   ],
   "source": [
    "print(s.upper())"
   ]
  },
  {
   "cell_type": "code",
   "execution_count": 273,
   "id": "60c3a06e-d4ab-4729-9100-ad65d6fbcf29",
   "metadata": {},
   "outputs": [
    {
     "name": "stdout",
     "output_type": "stream",
     "text": [
      "Hello, world! this is a test.\n"
     ]
    }
   ],
   "source": [
    "print(s.capitalize())"
   ]
  },
  {
   "cell_type": "code",
   "execution_count": 274,
   "id": "6c512410-3366-443f-a5bd-0516e5e93da2",
   "metadata": {},
   "outputs": [
    {
     "name": "stdout",
     "output_type": "stream",
     "text": [
      "Hello, World! This Is A Test.\n"
     ]
    }
   ],
   "source": [
    "print(s.title())"
   ]
  },
  {
   "cell_type": "raw",
   "id": "17d931e4-1b99-44cb-b4fb-62d3adb136ea",
   "metadata": {},
   "source": [
    "2. Whitespace Removal Methods\n",
    "strip(): Removes whitespace from the beginning and end of the string.\n",
    "lstrip(): Removes whitespace from the beginning (left side) only.\n",
    "rstrip(): Removes whitespace from the end (right side) only."
   ]
  },
  {
   "cell_type": "code",
   "execution_count": 275,
   "id": "6a9cd58f-cdbd-4b69-b3dc-ed9c05f1e040",
   "metadata": {},
   "outputs": [],
   "source": [
    "line = '   Python is fun!     '"
   ]
  },
  {
   "cell_type": "code",
   "execution_count": 276,
   "id": "c001505d-aa04-4137-a2df-618ad5065cf0",
   "metadata": {},
   "outputs": [
    {
     "name": "stdout",
     "output_type": "stream",
     "text": [
      "   Python is fun!     \n"
     ]
    }
   ],
   "source": [
    "print(line)"
   ]
  },
  {
   "cell_type": "code",
   "execution_count": 277,
   "id": "f9b85229-6000-466b-b6d8-d44df37bc51f",
   "metadata": {},
   "outputs": [
    {
     "data": {
      "text/plain": [
       "'Python is fun!'"
      ]
     },
     "execution_count": 277,
     "metadata": {},
     "output_type": "execute_result"
    }
   ],
   "source": [
    "line.strip()"
   ]
  },
  {
   "cell_type": "code",
   "execution_count": 278,
   "id": "347127f8-335e-47fd-ab07-67888d42b6ab",
   "metadata": {},
   "outputs": [
    {
     "data": {
      "text/plain": [
       "'   Python is fun!'"
      ]
     },
     "execution_count": 278,
     "metadata": {},
     "output_type": "execute_result"
    }
   ],
   "source": [
    "line.rstrip()"
   ]
  },
  {
   "cell_type": "code",
   "execution_count": 279,
   "id": "e45fdd52-32e5-4345-aefe-623d705fc7ae",
   "metadata": {},
   "outputs": [
    {
     "data": {
      "text/plain": [
       "'Python is fun!     '"
      ]
     },
     "execution_count": 279,
     "metadata": {},
     "output_type": "execute_result"
    }
   ],
   "source": [
    "line.lstrip()"
   ]
  },
  {
   "cell_type": "code",
   "execution_count": null,
   "id": "46762d77-a660-42bd-bb7f-07d5f7bf3ee1",
   "metadata": {},
   "outputs": [],
   "source": []
  },
  {
   "cell_type": "raw",
   "id": "2a3dc520-6f95-408f-89b2-ab2e68325267",
   "metadata": {},
   "source": [
    "3. Searching and Checking Methods\n",
    "find(sub): Returns the lowest index where the substring sub is found; returns -1 if not found.\n",
    "rfind(sub): Returns the highest index where the substring sub is found.\n",
    "index(sub): Like find() but raises a ValueError if the substring is not found.\n",
    "count(sub): Returns the number of non-overlapping occurrences of sub in the string.\n",
    "startswith(prefix): Checks if the string starts with the specified prefix; returns True or False.\n",
    "endswith(suffix): Checks if the string ends with the specified suffix."
   ]
  },
  {
   "cell_type": "code",
   "execution_count": 280,
   "id": "529fe7ad-8de3-4f8d-a4dd-c7a717fa39fa",
   "metadata": {},
   "outputs": [],
   "source": [
    "line = \"Hello, World! Hello, Python!\""
   ]
  },
  {
   "cell_type": "code",
   "execution_count": 281,
   "id": "cfe0874f-5c1d-4033-9ffa-446fcb71bb37",
   "metadata": {},
   "outputs": [
    {
     "data": {
      "text/plain": [
       "'Hello, World! Hello, Python!'"
      ]
     },
     "execution_count": 281,
     "metadata": {},
     "output_type": "execute_result"
    }
   ],
   "source": [
    "line"
   ]
  },
  {
   "cell_type": "code",
   "execution_count": 282,
   "id": "94606e3c-18fb-4a08-84f2-5a76ae53f954",
   "metadata": {},
   "outputs": [
    {
     "data": {
      "text/plain": [
       "7"
      ]
     },
     "execution_count": 282,
     "metadata": {},
     "output_type": "execute_result"
    }
   ],
   "source": [
    "line.find('World')"
   ]
  },
  {
   "cell_type": "code",
   "execution_count": 283,
   "id": "8eb5d122-dd67-41ca-82fc-e9e310576c69",
   "metadata": {},
   "outputs": [
    {
     "data": {
      "text/plain": [
       "14"
      ]
     },
     "execution_count": 283,
     "metadata": {},
     "output_type": "execute_result"
    }
   ],
   "source": [
    "line.rfind('Hello')"
   ]
  },
  {
   "cell_type": "code",
   "execution_count": 284,
   "id": "bfae9014-9693-4aaa-95c1-9d2d5652b6dc",
   "metadata": {},
   "outputs": [
    {
     "data": {
      "text/plain": [
       "5"
      ]
     },
     "execution_count": 284,
     "metadata": {},
     "output_type": "execute_result"
    }
   ],
   "source": [
    "line.index(',')"
   ]
  },
  {
   "cell_type": "code",
   "execution_count": 285,
   "id": "1d2a89f2-35a9-402a-b0ce-01834c25843c",
   "metadata": {},
   "outputs": [
    {
     "data": {
      "text/plain": [
       "2"
      ]
     },
     "execution_count": 285,
     "metadata": {},
     "output_type": "execute_result"
    }
   ],
   "source": [
    "line.count(',')"
   ]
  },
  {
   "cell_type": "code",
   "execution_count": 286,
   "id": "81106fe7-d8a8-4215-8408-bcec83792299",
   "metadata": {},
   "outputs": [
    {
     "data": {
      "text/plain": [
       "2"
      ]
     },
     "execution_count": 286,
     "metadata": {},
     "output_type": "execute_result"
    }
   ],
   "source": [
    "line.count('Hello')"
   ]
  },
  {
   "cell_type": "code",
   "execution_count": 287,
   "id": "57c06189-4bbe-4553-9b32-d8778498a1ed",
   "metadata": {},
   "outputs": [
    {
     "data": {
      "text/plain": [
       "1"
      ]
     },
     "execution_count": 287,
     "metadata": {},
     "output_type": "execute_result"
    }
   ],
   "source": [
    "line.count('Python')"
   ]
  },
  {
   "cell_type": "code",
   "execution_count": 288,
   "id": "355b98e6-9fe8-4e8a-9b2d-d7bc34a54996",
   "metadata": {},
   "outputs": [
    {
     "data": {
      "text/plain": [
       "True"
      ]
     },
     "execution_count": 288,
     "metadata": {},
     "output_type": "execute_result"
    }
   ],
   "source": [
    "line.startswith('Hello')"
   ]
  },
  {
   "cell_type": "code",
   "execution_count": 289,
   "id": "17219f2d-d94e-4ea0-ab78-e1b4c9da805e",
   "metadata": {},
   "outputs": [
    {
     "data": {
      "text/plain": [
       "False"
      ]
     },
     "execution_count": 289,
     "metadata": {},
     "output_type": "execute_result"
    }
   ],
   "source": [
    "line.endswith('Hello')"
   ]
  },
  {
   "cell_type": "code",
   "execution_count": null,
   "id": "60d9f5bf-4511-47ca-9cdb-ae43aa96a112",
   "metadata": {},
   "outputs": [],
   "source": []
  },
  {
   "cell_type": "raw",
   "id": "b97f65a8-d419-4026-8ef4-62cbb315b516",
   "metadata": {},
   "source": [
    "4. Replacement Methods\n",
    "replace(old, new): Returns a new string where all occurrences of the substring old are replaced by new."
   ]
  },
  {
   "cell_type": "code",
   "execution_count": 290,
   "id": "1f8a0e96-f740-4530-882a-0b56f1d16e26",
   "metadata": {},
   "outputs": [],
   "source": [
    "st = \"I like apples. apples are my favorite fruit.\""
   ]
  },
  {
   "cell_type": "code",
   "execution_count": 291,
   "id": "10ba0c80-fdd2-48d9-8373-f33374b6904c",
   "metadata": {},
   "outputs": [
    {
     "data": {
      "text/plain": [
       "'I like bananas. bananas are my favorite fruit.'"
      ]
     },
     "execution_count": 291,
     "metadata": {},
     "output_type": "execute_result"
    }
   ],
   "source": [
    "st.replace('apples', 'bananas')"
   ]
  },
  {
   "cell_type": "code",
   "execution_count": null,
   "id": "8429260a-44cb-4139-936a-f4a261da3b2c",
   "metadata": {},
   "outputs": [],
   "source": []
  },
  {
   "cell_type": "raw",
   "id": "4eec2be9-c291-4436-918a-2de216c5b29e",
   "metadata": {},
   "source": [
    "5. Splitting and Joining Methods\n",
    "split(separator): Splits the string into a list where each word is a list item. If no separator is provided, it splits on whitespace.\n",
    "rsplit(separator): Similar to split() but starts splitting from the right.\n",
    "splitlines(): Splits the string at line breaks.\n",
    "join(iterable): Concatenates a list (or any iterable) of strings into one string with the original string as the separator."
   ]
  },
  {
   "cell_type": "code",
   "execution_count": 292,
   "id": "a77e8947-881f-4c72-81fd-de9e131990a9",
   "metadata": {},
   "outputs": [],
   "source": [
    "fact = \"Bananas are berries, but strawberries aren’t!\""
   ]
  },
  {
   "cell_type": "code",
   "execution_count": 293,
   "id": "bfb545db-2009-4f48-8380-24a98188c468",
   "metadata": {},
   "outputs": [
    {
     "data": {
      "text/plain": [
       "'Bananas are berries, but strawberries aren’t!'"
      ]
     },
     "execution_count": 293,
     "metadata": {},
     "output_type": "execute_result"
    }
   ],
   "source": [
    "fact"
   ]
  },
  {
   "cell_type": "code",
   "execution_count": 294,
   "id": "a6d69ae4-2dc1-4f16-98b3-44f5f6acf2d3",
   "metadata": {},
   "outputs": [],
   "source": [
    "words = fact.split()"
   ]
  },
  {
   "cell_type": "code",
   "execution_count": 295,
   "id": "3ee41aa3-2cdb-4dac-929a-ea53a68dd685",
   "metadata": {},
   "outputs": [
    {
     "data": {
      "text/plain": [
       "['Bananas', 'are', 'berries,', 'but', 'strawberries', 'aren’t!']"
      ]
     },
     "execution_count": 295,
     "metadata": {},
     "output_type": "execute_result"
    }
   ],
   "source": [
    "words"
   ]
  },
  {
   "cell_type": "code",
   "execution_count": 296,
   "id": "9799b53d-1b08-4efe-8761-0e1eb2e0def0",
   "metadata": {},
   "outputs": [
    {
     "data": {
      "text/plain": [
       "'Bananas:are:berries,:but:strawberries:aren’t!'"
      ]
     },
     "execution_count": 296,
     "metadata": {},
     "output_type": "execute_result"
    }
   ],
   "source": [
    "':'.join(words)"
   ]
  },
  {
   "cell_type": "code",
   "execution_count": 297,
   "id": "4540f32c-c092-476b-84d9-c2e50192cb55",
   "metadata": {},
   "outputs": [],
   "source": [
    "sentence = \"Sloths are slow. Turtles can breathe through their butts. Wombats poop cubes.\""
   ]
  },
  {
   "cell_type": "code",
   "execution_count": 298,
   "id": "909a5a54-65da-4678-ac44-ac153ca79a0e",
   "metadata": {},
   "outputs": [
    {
     "data": {
      "text/plain": [
       "'Sloths are slow. Turtles can breathe through their butts. Wombats poop cubes.'"
      ]
     },
     "execution_count": 298,
     "metadata": {},
     "output_type": "execute_result"
    }
   ],
   "source": [
    "sentence"
   ]
  },
  {
   "cell_type": "code",
   "execution_count": 299,
   "id": "2889101e-da5a-4be6-8e97-dae80817a302",
   "metadata": {},
   "outputs": [],
   "source": [
    "facts = sentence.split('.')"
   ]
  },
  {
   "cell_type": "code",
   "execution_count": 300,
   "id": "ba394367-3188-4d1f-9a35-5a9646a1a236",
   "metadata": {},
   "outputs": [
    {
     "data": {
      "text/plain": [
       "['Sloths are slow',\n",
       " ' Turtles can breathe through their butts',\n",
       " ' Wombats poop cubes',\n",
       " '']"
      ]
     },
     "execution_count": 300,
     "metadata": {},
     "output_type": "execute_result"
    }
   ],
   "source": [
    "facts"
   ]
  },
  {
   "cell_type": "code",
   "execution_count": 301,
   "id": "bfbfe684-86ca-4e15-96e7-2ce642bf0375",
   "metadata": {},
   "outputs": [
    {
     "data": {
      "text/plain": [
       "'Sloths are slow | Turtles can breathe through their butts | Wombats poop cubes |'"
      ]
     },
     "execution_count": 301,
     "metadata": {},
     "output_type": "execute_result"
    }
   ],
   "source": [
    "' |'.join(facts)"
   ]
  },
  {
   "cell_type": "code",
   "execution_count": 302,
   "id": "66c24786-2180-4e60-8204-49eef068a463",
   "metadata": {},
   "outputs": [],
   "source": [
    "funny_facts = \"\"\"Turtles can breathe through their butts\n",
    "Sloths can hold their breath longer than dolphins\n",
    "Wombat poop is cube-shaped\n",
    "Bananas are berries, but strawberries aren’t\n",
    "Octopuses have three hearts\"\"\"\n"
   ]
  },
  {
   "cell_type": "code",
   "execution_count": 303,
   "id": "2453eccc-e8da-4756-949b-8b8cbf4f32c1",
   "metadata": {},
   "outputs": [],
   "source": [
    "sentences = funny_facts.splitlines()"
   ]
  },
  {
   "cell_type": "code",
   "execution_count": 304,
   "id": "2c99028c-4f6d-4998-8843-7873b3b1b852",
   "metadata": {},
   "outputs": [
    {
     "data": {
      "text/plain": [
       "['Turtles can breathe through their butts',\n",
       " 'Sloths can hold their breath longer than dolphins',\n",
       " 'Wombat poop is cube-shaped',\n",
       " 'Bananas are berries, but strawberries aren’t',\n",
       " 'Octopuses have three hearts']"
      ]
     },
     "execution_count": 304,
     "metadata": {},
     "output_type": "execute_result"
    }
   ],
   "source": [
    "sentences"
   ]
  },
  {
   "cell_type": "code",
   "execution_count": 305,
   "id": "27fdcf74-170e-4e8f-bc7b-c2c7d743f89a",
   "metadata": {},
   "outputs": [
    {
     "data": {
      "text/plain": [
       "'Turtles can breathe through their butts Sloths can hold their breath longer than dolphins Wombat poop is cube-shaped Bananas are berries, but strawberries aren’t Octopuses have three hearts'"
      ]
     },
     "execution_count": 305,
     "metadata": {},
     "output_type": "execute_result"
    }
   ],
   "source": [
    "' '. join(sentences)"
   ]
  },
  {
   "cell_type": "code",
   "execution_count": 306,
   "id": "bce55afb-f0bc-4cc4-9d78-6bf3d324d329",
   "metadata": {},
   "outputs": [],
   "source": [
    "paragraph = \"\\n\".join(sentences)"
   ]
  },
  {
   "cell_type": "code",
   "execution_count": 307,
   "id": "8a6577f5-79d7-4d22-9ede-89620987bf56",
   "metadata": {},
   "outputs": [
    {
     "name": "stdout",
     "output_type": "stream",
     "text": [
      "Turtles can breathe through their butts\n",
      "Sloths can hold their breath longer than dolphins\n",
      "Wombat poop is cube-shaped\n",
      "Bananas are berries, but strawberries aren’t\n",
      "Octopuses have three hearts\n"
     ]
    }
   ],
   "source": [
    "print(paragraph)"
   ]
  },
  {
   "cell_type": "raw",
   "id": "45815b1e-2b46-463d-8b00-b1959527fe1d",
   "metadata": {},
   "source": []
  },
  {
   "cell_type": "raw",
   "id": "191244d0-8067-4cc5-b598-a8663f02f77d",
   "metadata": {},
   "source": [
    "6. Other Useful Methods\n",
    "isalpha(): Returns True if all characters in the string are alphabetic.\n",
    "isdigit(): Returns True if all characters in the string are digits.\n",
    "isalnum(): Returns True if all characters are alphanumeric (letters or digits) without any spaces or symbols.\n",
    "isspace(): Returns True if the string contains only whitespace characters.\n",
    "partition(sep): Splits the string at the first occurrence of sep and returns a tuple with three elements: the part before the separator, the separator itself, and the part after.\n",
    "rpartition(sep): Splits the string at the last occurrence of sep."
   ]
  },
  {
   "cell_type": "code",
   "execution_count": 308,
   "id": "fddac1f0-39c9-4743-af48-f27b65dfbc5b",
   "metadata": {},
   "outputs": [],
   "source": [
    "word = '12345'"
   ]
  },
  {
   "cell_type": "code",
   "execution_count": 309,
   "id": "30158369-9c4f-4f77-a80f-0c1e4bc5d156",
   "metadata": {},
   "outputs": [
    {
     "data": {
      "text/plain": [
       "'12345'"
      ]
     },
     "execution_count": 309,
     "metadata": {},
     "output_type": "execute_result"
    }
   ],
   "source": [
    "word"
   ]
  },
  {
   "cell_type": "code",
   "execution_count": 310,
   "id": "b5227404-c129-416b-b788-1eed8a1e5da4",
   "metadata": {},
   "outputs": [
    {
     "data": {
      "text/plain": [
       "False"
      ]
     },
     "execution_count": 310,
     "metadata": {},
     "output_type": "execute_result"
    }
   ],
   "source": [
    "word.isalpha()"
   ]
  },
  {
   "cell_type": "code",
   "execution_count": 311,
   "id": "5552c63b-b07b-47cc-8990-e6f474cb5614",
   "metadata": {},
   "outputs": [
    {
     "data": {
      "text/plain": [
       "True"
      ]
     },
     "execution_count": 311,
     "metadata": {},
     "output_type": "execute_result"
    }
   ],
   "source": [
    "word.isdigit()"
   ]
  },
  {
   "cell_type": "code",
   "execution_count": 312,
   "id": "0eff21f8-0810-481f-bd21-259fb384df60",
   "metadata": {},
   "outputs": [
    {
     "data": {
      "text/plain": [
       "True"
      ]
     },
     "execution_count": 312,
     "metadata": {},
     "output_type": "execute_result"
    }
   ],
   "source": [
    "word.isalnum()"
   ]
  },
  {
   "cell_type": "code",
   "execution_count": 313,
   "id": "61b3cf8b-3849-4abc-97b6-1632af10f97e",
   "metadata": {},
   "outputs": [
    {
     "data": {
      "text/plain": [
       "False"
      ]
     },
     "execution_count": 313,
     "metadata": {},
     "output_type": "execute_result"
    }
   ],
   "source": [
    "word.isspace()"
   ]
  },
  {
   "cell_type": "code",
   "execution_count": 314,
   "id": "99c6343a-eb0f-46a0-8c7f-8bb3c49e03a8",
   "metadata": {},
   "outputs": [],
   "source": [
    "s = 'Hello, World!' "
   ]
  },
  {
   "cell_type": "code",
   "execution_count": 315,
   "id": "b5713b89-6ee8-48fc-af33-dc377c286157",
   "metadata": {},
   "outputs": [
    {
     "data": {
      "text/plain": [
       "'Hello, World!'"
      ]
     },
     "execution_count": 315,
     "metadata": {},
     "output_type": "execute_result"
    }
   ],
   "source": [
    "s"
   ]
  },
  {
   "cell_type": "code",
   "execution_count": 316,
   "id": "af48389c-fa63-4138-b47a-adb36d76eacb",
   "metadata": {},
   "outputs": [
    {
     "data": {
      "text/plain": [
       "('Hello', ',', ' World!')"
      ]
     },
     "execution_count": 316,
     "metadata": {},
     "output_type": "execute_result"
    }
   ],
   "source": [
    "s.partition(',')"
   ]
  },
  {
   "cell_type": "code",
   "execution_count": null,
   "id": "faf27326-14d1-4485-955f-042368b80292",
   "metadata": {},
   "outputs": [],
   "source": []
  },
  {
   "cell_type": "raw",
   "id": "22762609-e8af-478e-83a6-e7ea94f816b5",
   "metadata": {},
   "source": [
    "Additional Python String Methods: \n",
    "casefold(): For case-insensitive comparison.\n",
    "ljust(width, fillchar): Left-aligns a string and fills extra space.\n",
    "rjust(width, fillchar): Right-aligns a string and fills extra space"
   ]
  },
  {
   "cell_type": "code",
   "execution_count": 317,
   "id": "b7d0cd8a-a719-4447-bc26-c132dfbfd7fa",
   "metadata": {},
   "outputs": [
    {
     "name": "stdout",
     "output_type": "stream",
     "text": [
      "Lowercase: straße\n",
      "Casefold: strasse\n",
      "Are they equal with lower()? False\n",
      "Are they equal with casefold()? True\n"
     ]
    }
   ],
   "source": [
    "s1 = \"Straße\"\n",
    "s2 = \"STRASSE\"\n",
    "\n",
    "print(\"Lowercase:\", s1.lower())  # 'straße'\n",
    "print(\"Casefold:\", s1.casefold())  # 'strasse'\n",
    "\n",
    "# Case-insensitive comparison\n",
    "print(\"Are they equal with lower()?\", s1.lower() == s2.lower())  # False\n",
    "print(\"Are they equal with casefold()?\", s1.casefold() == s2.casefold())  # True"
   ]
  },
  {
   "cell_type": "code",
   "execution_count": 318,
   "id": "84742c3b-2b9b-4d58-abbd-5b46fe9e943a",
   "metadata": {},
   "outputs": [
    {
     "name": "stdout",
     "output_type": "stream",
     "text": [
      "Name            Age\n",
      "John........... 34\n",
      "Sabi>>>>>>>>>>> 21\n"
     ]
    }
   ],
   "source": [
    "print('Name'.ljust(15), 'Age')\n",
    "print('John'.ljust(15, '.'), '34')\n",
    "print('Sabi'.ljust(15, '>'), '21')"
   ]
  },
  {
   "cell_type": "code",
   "execution_count": 319,
   "id": "1be0bb24-4eb1-4a83-867c-0d19621e332c",
   "metadata": {},
   "outputs": [
    {
     "name": "stdout",
     "output_type": "stream",
     "text": [
      "Item                Price\n",
      "Laptop              $1000\n",
      "Phone                $500\n"
     ]
    }
   ],
   "source": [
    "header = \"Item\".ljust(15) + \"Price\".rjust(10)\n",
    "row1 = \"Laptop\".ljust(15) + \"$1000\".rjust(10)\n",
    "row2 = \"Phone\".ljust(15) + \"$500\".rjust(10)\n",
    "\n",
    "print(header)\n",
    "print(row1)\n",
    "print(row2)"
   ]
  },
  {
   "cell_type": "code",
   "execution_count": null,
   "id": "46d4a928-3116-4e4b-beb9-ba4ce5967274",
   "metadata": {},
   "outputs": [],
   "source": []
  },
  {
   "cell_type": "markdown",
   "id": "9cfe0cc5-18e2-484a-8165-add698144233",
   "metadata": {},
   "source": [
    "####  Regular Expressions"
   ]
  },
  {
   "cell_type": "raw",
   "id": "9f9c61a4-e477-4349-9679-27d51dccb921",
   "metadata": {},
   "source": [
    "Regular expressions (often abbreviated as regex) are powerful tools for pattern matching, searching, and manipulating text. They provide a concise and flexible means for \"matching\" (specifying and recognizing) strings of text, such as particular characters, words, or patterns of characters."
   ]
  },
  {
   "cell_type": "code",
   "execution_count": null,
   "id": "9975c492-6ca0-4e94-b382-e5598435fb2a",
   "metadata": {},
   "outputs": [],
   "source": []
  },
  {
   "cell_type": "markdown",
   "id": "6eaa2aef-de75-44d8-a03f-d2f7d5fe1e32",
   "metadata": {},
   "source": [
    "####  String Functions in pandas"
   ]
  },
  {
   "cell_type": "raw",
   "id": "931ec116-15f4-436b-a202-b1cae3d2194d",
   "metadata": {},
   "source": [
    "1. What Is the .str Accessor?\n",
    "Vectorized Operations:\n",
    "The .str accessor enables operations on every element of a Series without writing explicit loops. This makes text manipulation much faster and more concise.\n",
    "\n",
    "Uniform API:\n",
    "Many of the methods available on Python string objects (like lower(), strip(), find(), etc.) are available via .str. You call these methods on a Series as Series.str.method(), and they automatically apply to each element.\n",
    "\n",
    "Handles Missing Values Gracefully:\n",
    "When a Series contains missing values (NaN or <NA>), the corresponding result is usually set to NaN without causing errors."
   ]
  },
  {
   "cell_type": "raw",
   "id": "7d1d4f2c-44b3-4efa-bd7e-5268aef34875",
   "metadata": {},
   "source": [
    "Example: Basic Text Operations"
   ]
  },
  {
   "cell_type": "code",
   "execution_count": 320,
   "id": "e194dbe5-3c70-48cb-b63f-a8af4617f97a",
   "metadata": {},
   "outputs": [],
   "source": [
    "data = {\n",
    "    'Product': ['  Apple iPhone  ', 'Samsung Galaxy', '   Google Pixel  ', None]\n",
    "}\n",
    "df = pd.DataFrame(data)"
   ]
  },
  {
   "cell_type": "code",
   "execution_count": 321,
   "id": "28d67e35-3cf1-4a7d-b8c2-43472705772a",
   "metadata": {},
   "outputs": [
    {
     "data": {
      "text/html": [
       "<div>\n",
       "<style scoped>\n",
       "    .dataframe tbody tr th:only-of-type {\n",
       "        vertical-align: middle;\n",
       "    }\n",
       "\n",
       "    .dataframe tbody tr th {\n",
       "        vertical-align: top;\n",
       "    }\n",
       "\n",
       "    .dataframe thead th {\n",
       "        text-align: right;\n",
       "    }\n",
       "</style>\n",
       "<table border=\"1\" class=\"dataframe\">\n",
       "  <thead>\n",
       "    <tr style=\"text-align: right;\">\n",
       "      <th></th>\n",
       "      <th>Product</th>\n",
       "    </tr>\n",
       "  </thead>\n",
       "  <tbody>\n",
       "    <tr>\n",
       "      <th>0</th>\n",
       "      <td>Apple iPhone</td>\n",
       "    </tr>\n",
       "    <tr>\n",
       "      <th>1</th>\n",
       "      <td>Samsung Galaxy</td>\n",
       "    </tr>\n",
       "    <tr>\n",
       "      <th>2</th>\n",
       "      <td>Google Pixel</td>\n",
       "    </tr>\n",
       "    <tr>\n",
       "      <th>3</th>\n",
       "      <td>None</td>\n",
       "    </tr>\n",
       "  </tbody>\n",
       "</table>\n",
       "</div>"
      ],
      "text/plain": [
       "             Product\n",
       "0     Apple iPhone  \n",
       "1     Samsung Galaxy\n",
       "2     Google Pixel  \n",
       "3               None"
      ]
     },
     "execution_count": 321,
     "metadata": {},
     "output_type": "execute_result"
    }
   ],
   "source": [
    "df"
   ]
  },
  {
   "cell_type": "code",
   "execution_count": 322,
   "id": "72d5b057-071e-4993-8cb5-c2f82c798029",
   "metadata": {},
   "outputs": [
    {
     "data": {
      "text/plain": [
       "0       apple iphone  \n",
       "1       samsung galaxy\n",
       "2       google pixel  \n",
       "3                 None\n",
       "Name: Product, dtype: object"
      ]
     },
     "execution_count": 322,
     "metadata": {},
     "output_type": "execute_result"
    }
   ],
   "source": [
    "df['Product'].str.lower()"
   ]
  },
  {
   "cell_type": "code",
   "execution_count": 323,
   "id": "6f809aed-587d-476f-9281-511b7518aa4f",
   "metadata": {},
   "outputs": [
    {
     "data": {
      "text/plain": [
       "0      Apple iPhone\n",
       "1    Samsung Galaxy\n",
       "2      Google Pixel\n",
       "3              None\n",
       "Name: Product, dtype: object"
      ]
     },
     "execution_count": 323,
     "metadata": {},
     "output_type": "execute_result"
    }
   ],
   "source": [
    "df['Product'].str.strip()"
   ]
  },
  {
   "cell_type": "code",
   "execution_count": null,
   "id": "044140cc-f117-401f-89d0-6c6f3abece09",
   "metadata": {},
   "outputs": [],
   "source": []
  },
  {
   "cell_type": "raw",
   "id": "1752d371-81c8-405d-8283-7c33556ea503",
   "metadata": {},
   "source": [
    "BASIC STRING OPERATION\n",
    "Changing Case: Converting text to lowercase, uppercase, or title case.\n",
    "Trimming Whitespace: Removing unwanted spaces from the beginning and end of strings.\n",
    "Measuring String Lengths: Finding out how many characters each string contains."
   ]
  },
  {
   "cell_type": "code",
   "execution_count": 324,
   "id": "9c921836-7c51-481d-8b80-dbf807748def",
   "metadata": {},
   "outputs": [],
   "source": [
    "data = {\n",
    "    'Text': [\n",
    "        '   Hello World!   ',\n",
    "        'pandas IS AWESOME',\n",
    "        'Data Science 101',\n",
    "        None  # To show how missing values are handled\n",
    "    ]\n",
    "}\n",
    "df = pd.DataFrame(data)"
   ]
  },
  {
   "cell_type": "code",
   "execution_count": 325,
   "id": "676cf555-7ee5-41e0-99cf-6d297262ac14",
   "metadata": {},
   "outputs": [
    {
     "name": "stdout",
     "output_type": "stream",
     "text": [
      "                 Text\n",
      "0     Hello World!   \n",
      "1   pandas IS AWESOME\n",
      "2    Data Science 101\n",
      "3                None\n"
     ]
    }
   ],
   "source": [
    "print(df)"
   ]
  },
  {
   "cell_type": "code",
   "execution_count": 326,
   "id": "df701bdd-5833-46cd-8456-6b99c2ac4540",
   "metadata": {},
   "outputs": [],
   "source": [
    "df['Lower'] = df['Text'].str.lower()"
   ]
  },
  {
   "cell_type": "code",
   "execution_count": 327,
   "id": "ea536bcb-f5f2-4691-8755-46d5c75d1f89",
   "metadata": {},
   "outputs": [],
   "source": [
    "df['Upper'] = df['Text'].str.upper()"
   ]
  },
  {
   "cell_type": "code",
   "execution_count": 328,
   "id": "6d3987bd-043b-4bb2-9075-de06a2e129ae",
   "metadata": {},
   "outputs": [],
   "source": [
    "df['Title'] = df['Text'].str.title()"
   ]
  },
  {
   "cell_type": "code",
   "execution_count": 329,
   "id": "1634b7f5-a1e8-4fb2-b27a-4c0b6889e344",
   "metadata": {},
   "outputs": [],
   "source": [
    "df['Strip'] = df['Text'].str.strip()"
   ]
  },
  {
   "cell_type": "code",
   "execution_count": 330,
   "id": "b35f83be-2840-45c2-8902-e223fe010713",
   "metadata": {},
   "outputs": [],
   "source": [
    "df['Length'] = df['Text'].str.len()"
   ]
  },
  {
   "cell_type": "code",
   "execution_count": 331,
   "id": "55227986-1da4-4c52-a3f4-81560ce3d513",
   "metadata": {},
   "outputs": [
    {
     "name": "stdout",
     "output_type": "stream",
     "text": [
      "                 Text               Lower               Upper  \\\n",
      "0     Hello World!        hello world!        HELLO WORLD!      \n",
      "1   pandas IS AWESOME   pandas is awesome   PANDAS IS AWESOME   \n",
      "2    Data Science 101    data science 101    DATA SCIENCE 101   \n",
      "3                None                None                None   \n",
      "\n",
      "                Title              Strip  Length  \n",
      "0     Hello World!          Hello World!    18.0  \n",
      "1   Pandas Is Awesome  pandas IS AWESOME    17.0  \n",
      "2    Data Science 101   Data Science 101    16.0  \n",
      "3                None               None     NaN  \n"
     ]
    }
   ],
   "source": [
    "print(df)"
   ]
  },
  {
   "cell_type": "code",
   "execution_count": null,
   "id": "87b68b76-c2b0-430d-8947-acc99268f347",
   "metadata": {},
   "outputs": [],
   "source": []
  },
  {
   "cell_type": "raw",
   "id": "e281814a-269d-4fdd-910b-65590c2d13e5",
   "metadata": {},
   "source": [
    "Searching and Filtering Methods\n",
    "The key methods we'll cover include:\n",
    "\n",
    "str.contains():\n",
    "Checks whether each string in a Series contains a specified pattern or substring.\n",
    "\n",
    "Supports regex: By default, the pattern is treated as a regular expression.\n",
    "Case sensitivity: You can control case sensitivity with the case parameter.\n",
    "str.startswith():\n",
    "Checks whether each string starts with a specified substring.\n",
    "\n",
    "str.endswith():\n",
    "Checks whether each string ends with a specified substring."
   ]
  },
  {
   "cell_type": "code",
   "execution_count": 332,
   "id": "04728034-5272-4a15-bbff-c263e873d66d",
   "metadata": {},
   "outputs": [],
   "source": [
    "data = {\n",
    "    \"Name\": [\"Alice Johnson\", \"Bob Smith\", \"Charlie Brown\", \"David Williams\",\n",
    "             \"Emma Wilson\", \"Franklin Harris\", \"Grace Lee\", \"Hannah Clark\"],\n",
    "    \"Email\": [\"alice@google.com\", \"bob@email.com\", \"charliegoogle.com\", \"david@email.com\",\n",
    "              \"emma@email.com\", \"franklin@email.com\", \"grace@email.com\", None],\n",
    "    \"Age\": [25, 30, 35, 40, 28, 33, 22, 27]\n",
    "}\n",
    "\n",
    "df = pd.DataFrame(data)"
   ]
  },
  {
   "cell_type": "code",
   "execution_count": 333,
   "id": "f8519d5c-b1f1-4f72-8bf5-4ad5bd0f59be",
   "metadata": {},
   "outputs": [
    {
     "data": {
      "text/html": [
       "<div>\n",
       "<style scoped>\n",
       "    .dataframe tbody tr th:only-of-type {\n",
       "        vertical-align: middle;\n",
       "    }\n",
       "\n",
       "    .dataframe tbody tr th {\n",
       "        vertical-align: top;\n",
       "    }\n",
       "\n",
       "    .dataframe thead th {\n",
       "        text-align: right;\n",
       "    }\n",
       "</style>\n",
       "<table border=\"1\" class=\"dataframe\">\n",
       "  <thead>\n",
       "    <tr style=\"text-align: right;\">\n",
       "      <th></th>\n",
       "      <th>Name</th>\n",
       "      <th>Email</th>\n",
       "      <th>Age</th>\n",
       "    </tr>\n",
       "  </thead>\n",
       "  <tbody>\n",
       "    <tr>\n",
       "      <th>0</th>\n",
       "      <td>Alice Johnson</td>\n",
       "      <td>alice@google.com</td>\n",
       "      <td>25</td>\n",
       "    </tr>\n",
       "    <tr>\n",
       "      <th>1</th>\n",
       "      <td>Bob Smith</td>\n",
       "      <td>bob@email.com</td>\n",
       "      <td>30</td>\n",
       "    </tr>\n",
       "    <tr>\n",
       "      <th>2</th>\n",
       "      <td>Charlie Brown</td>\n",
       "      <td>charliegoogle.com</td>\n",
       "      <td>35</td>\n",
       "    </tr>\n",
       "    <tr>\n",
       "      <th>3</th>\n",
       "      <td>David Williams</td>\n",
       "      <td>david@email.com</td>\n",
       "      <td>40</td>\n",
       "    </tr>\n",
       "    <tr>\n",
       "      <th>4</th>\n",
       "      <td>Emma Wilson</td>\n",
       "      <td>emma@email.com</td>\n",
       "      <td>28</td>\n",
       "    </tr>\n",
       "    <tr>\n",
       "      <th>5</th>\n",
       "      <td>Franklin Harris</td>\n",
       "      <td>franklin@email.com</td>\n",
       "      <td>33</td>\n",
       "    </tr>\n",
       "    <tr>\n",
       "      <th>6</th>\n",
       "      <td>Grace Lee</td>\n",
       "      <td>grace@email.com</td>\n",
       "      <td>22</td>\n",
       "    </tr>\n",
       "    <tr>\n",
       "      <th>7</th>\n",
       "      <td>Hannah Clark</td>\n",
       "      <td>None</td>\n",
       "      <td>27</td>\n",
       "    </tr>\n",
       "  </tbody>\n",
       "</table>\n",
       "</div>"
      ],
      "text/plain": [
       "              Name               Email  Age\n",
       "0    Alice Johnson    alice@google.com   25\n",
       "1        Bob Smith       bob@email.com   30\n",
       "2    Charlie Brown   charliegoogle.com   35\n",
       "3   David Williams     david@email.com   40\n",
       "4      Emma Wilson      emma@email.com   28\n",
       "5  Franklin Harris  franklin@email.com   33\n",
       "6        Grace Lee     grace@email.com   22\n",
       "7     Hannah Clark                None   27"
      ]
     },
     "execution_count": 333,
     "metadata": {},
     "output_type": "execute_result"
    }
   ],
   "source": [
    "df"
   ]
  },
  {
   "cell_type": "code",
   "execution_count": 334,
   "id": "ce1ace47-2f7e-455b-8fad-2e6cf477828c",
   "metadata": {},
   "outputs": [
    {
     "data": {
      "text/plain": [
       "0     True\n",
       "1     True\n",
       "2    False\n",
       "3     True\n",
       "4     True\n",
       "5     True\n",
       "6     True\n",
       "7    False\n",
       "Name: Email, dtype: bool"
      ]
     },
     "execution_count": 334,
     "metadata": {},
     "output_type": "execute_result"
    }
   ],
   "source": [
    "# case=False makes the search case-insensitive\n",
    "# na=False ensures that if there is a missing value (NaN), it is treated as False rather than propagating a missing value.\n",
    "df['Email'].str.contains('@', case = False, na = False)"
   ]
  },
  {
   "cell_type": "code",
   "execution_count": 335,
   "id": "d9f99dc9-c1bd-4e4f-ac33-1b8c6250759e",
   "metadata": {},
   "outputs": [
    {
     "data": {
      "text/html": [
       "<div>\n",
       "<style scoped>\n",
       "    .dataframe tbody tr th:only-of-type {\n",
       "        vertical-align: middle;\n",
       "    }\n",
       "\n",
       "    .dataframe tbody tr th {\n",
       "        vertical-align: top;\n",
       "    }\n",
       "\n",
       "    .dataframe thead th {\n",
       "        text-align: right;\n",
       "    }\n",
       "</style>\n",
       "<table border=\"1\" class=\"dataframe\">\n",
       "  <thead>\n",
       "    <tr style=\"text-align: right;\">\n",
       "      <th></th>\n",
       "      <th>Name</th>\n",
       "      <th>Email</th>\n",
       "      <th>Age</th>\n",
       "    </tr>\n",
       "  </thead>\n",
       "  <tbody>\n",
       "    <tr>\n",
       "      <th>0</th>\n",
       "      <td>Alice Johnson</td>\n",
       "      <td>alice@google.com</td>\n",
       "      <td>25</td>\n",
       "    </tr>\n",
       "    <tr>\n",
       "      <th>1</th>\n",
       "      <td>Bob Smith</td>\n",
       "      <td>bob@email.com</td>\n",
       "      <td>30</td>\n",
       "    </tr>\n",
       "    <tr>\n",
       "      <th>3</th>\n",
       "      <td>David Williams</td>\n",
       "      <td>david@email.com</td>\n",
       "      <td>40</td>\n",
       "    </tr>\n",
       "    <tr>\n",
       "      <th>4</th>\n",
       "      <td>Emma Wilson</td>\n",
       "      <td>emma@email.com</td>\n",
       "      <td>28</td>\n",
       "    </tr>\n",
       "    <tr>\n",
       "      <th>5</th>\n",
       "      <td>Franklin Harris</td>\n",
       "      <td>franklin@email.com</td>\n",
       "      <td>33</td>\n",
       "    </tr>\n",
       "    <tr>\n",
       "      <th>6</th>\n",
       "      <td>Grace Lee</td>\n",
       "      <td>grace@email.com</td>\n",
       "      <td>22</td>\n",
       "    </tr>\n",
       "  </tbody>\n",
       "</table>\n",
       "</div>"
      ],
      "text/plain": [
       "              Name               Email  Age\n",
       "0    Alice Johnson    alice@google.com   25\n",
       "1        Bob Smith       bob@email.com   30\n",
       "3   David Williams     david@email.com   40\n",
       "4      Emma Wilson      emma@email.com   28\n",
       "5  Franklin Harris  franklin@email.com   33\n",
       "6        Grace Lee     grace@email.com   22"
      ]
     },
     "execution_count": 335,
     "metadata": {},
     "output_type": "execute_result"
    }
   ],
   "source": [
    "# extracting\n",
    "df[df['Email'].str.contains('@', case = False, na = False)]"
   ]
  },
  {
   "cell_type": "code",
   "execution_count": 336,
   "id": "c91f218b-1afd-4726-8812-3afe0348a1d2",
   "metadata": {},
   "outputs": [
    {
     "data": {
      "text/plain": [
       "0    False\n",
       "1     True\n",
       "2    False\n",
       "3     True\n",
       "4     True\n",
       "5     True\n",
       "6     True\n",
       "7    False\n",
       "Name: Email, dtype: bool"
      ]
     },
     "execution_count": 336,
     "metadata": {},
     "output_type": "execute_result"
    }
   ],
   "source": [
    "df['Email'].str.contains('@email.', case = False, na = False)"
   ]
  },
  {
   "cell_type": "code",
   "execution_count": 337,
   "id": "2de0f1af-292c-483b-8389-cd5e44a5be99",
   "metadata": {},
   "outputs": [
    {
     "data": {
      "text/html": [
       "<div>\n",
       "<style scoped>\n",
       "    .dataframe tbody tr th:only-of-type {\n",
       "        vertical-align: middle;\n",
       "    }\n",
       "\n",
       "    .dataframe tbody tr th {\n",
       "        vertical-align: top;\n",
       "    }\n",
       "\n",
       "    .dataframe thead th {\n",
       "        text-align: right;\n",
       "    }\n",
       "</style>\n",
       "<table border=\"1\" class=\"dataframe\">\n",
       "  <thead>\n",
       "    <tr style=\"text-align: right;\">\n",
       "      <th></th>\n",
       "      <th>Name</th>\n",
       "      <th>Email</th>\n",
       "      <th>Age</th>\n",
       "    </tr>\n",
       "  </thead>\n",
       "  <tbody>\n",
       "    <tr>\n",
       "      <th>1</th>\n",
       "      <td>Bob Smith</td>\n",
       "      <td>bob@email.com</td>\n",
       "      <td>30</td>\n",
       "    </tr>\n",
       "    <tr>\n",
       "      <th>3</th>\n",
       "      <td>David Williams</td>\n",
       "      <td>david@email.com</td>\n",
       "      <td>40</td>\n",
       "    </tr>\n",
       "    <tr>\n",
       "      <th>4</th>\n",
       "      <td>Emma Wilson</td>\n",
       "      <td>emma@email.com</td>\n",
       "      <td>28</td>\n",
       "    </tr>\n",
       "    <tr>\n",
       "      <th>5</th>\n",
       "      <td>Franklin Harris</td>\n",
       "      <td>franklin@email.com</td>\n",
       "      <td>33</td>\n",
       "    </tr>\n",
       "    <tr>\n",
       "      <th>6</th>\n",
       "      <td>Grace Lee</td>\n",
       "      <td>grace@email.com</td>\n",
       "      <td>22</td>\n",
       "    </tr>\n",
       "  </tbody>\n",
       "</table>\n",
       "</div>"
      ],
      "text/plain": [
       "              Name               Email  Age\n",
       "1        Bob Smith       bob@email.com   30\n",
       "3   David Williams     david@email.com   40\n",
       "4      Emma Wilson      emma@email.com   28\n",
       "5  Franklin Harris  franklin@email.com   33\n",
       "6        Grace Lee     grace@email.com   22"
      ]
     },
     "execution_count": 337,
     "metadata": {},
     "output_type": "execute_result"
    }
   ],
   "source": [
    "df[df['Email'].str.contains('email', case = False, na = False)]"
   ]
  },
  {
   "cell_type": "code",
   "execution_count": 338,
   "id": "b3a2a08d-10e1-4fcf-8b61-53e728eda7cf",
   "metadata": {},
   "outputs": [],
   "source": [
    "df['starts with \"A\"'] = df['Name'].str.startswith('A')"
   ]
  },
  {
   "cell_type": "code",
   "execution_count": 339,
   "id": "dea547d2-1332-43c1-b245-322ece8a8a73",
   "metadata": {},
   "outputs": [
    {
     "data": {
      "text/html": [
       "<div>\n",
       "<style scoped>\n",
       "    .dataframe tbody tr th:only-of-type {\n",
       "        vertical-align: middle;\n",
       "    }\n",
       "\n",
       "    .dataframe tbody tr th {\n",
       "        vertical-align: top;\n",
       "    }\n",
       "\n",
       "    .dataframe thead th {\n",
       "        text-align: right;\n",
       "    }\n",
       "</style>\n",
       "<table border=\"1\" class=\"dataframe\">\n",
       "  <thead>\n",
       "    <tr style=\"text-align: right;\">\n",
       "      <th></th>\n",
       "      <th>Name</th>\n",
       "      <th>Email</th>\n",
       "      <th>Age</th>\n",
       "      <th>starts with \"A\"</th>\n",
       "    </tr>\n",
       "  </thead>\n",
       "  <tbody>\n",
       "    <tr>\n",
       "      <th>0</th>\n",
       "      <td>Alice Johnson</td>\n",
       "      <td>alice@google.com</td>\n",
       "      <td>25</td>\n",
       "      <td>True</td>\n",
       "    </tr>\n",
       "    <tr>\n",
       "      <th>1</th>\n",
       "      <td>Bob Smith</td>\n",
       "      <td>bob@email.com</td>\n",
       "      <td>30</td>\n",
       "      <td>False</td>\n",
       "    </tr>\n",
       "    <tr>\n",
       "      <th>2</th>\n",
       "      <td>Charlie Brown</td>\n",
       "      <td>charliegoogle.com</td>\n",
       "      <td>35</td>\n",
       "      <td>False</td>\n",
       "    </tr>\n",
       "    <tr>\n",
       "      <th>3</th>\n",
       "      <td>David Williams</td>\n",
       "      <td>david@email.com</td>\n",
       "      <td>40</td>\n",
       "      <td>False</td>\n",
       "    </tr>\n",
       "    <tr>\n",
       "      <th>4</th>\n",
       "      <td>Emma Wilson</td>\n",
       "      <td>emma@email.com</td>\n",
       "      <td>28</td>\n",
       "      <td>False</td>\n",
       "    </tr>\n",
       "    <tr>\n",
       "      <th>5</th>\n",
       "      <td>Franklin Harris</td>\n",
       "      <td>franklin@email.com</td>\n",
       "      <td>33</td>\n",
       "      <td>False</td>\n",
       "    </tr>\n",
       "    <tr>\n",
       "      <th>6</th>\n",
       "      <td>Grace Lee</td>\n",
       "      <td>grace@email.com</td>\n",
       "      <td>22</td>\n",
       "      <td>False</td>\n",
       "    </tr>\n",
       "    <tr>\n",
       "      <th>7</th>\n",
       "      <td>Hannah Clark</td>\n",
       "      <td>None</td>\n",
       "      <td>27</td>\n",
       "      <td>False</td>\n",
       "    </tr>\n",
       "  </tbody>\n",
       "</table>\n",
       "</div>"
      ],
      "text/plain": [
       "              Name               Email  Age  starts with \"A\"\n",
       "0    Alice Johnson    alice@google.com   25             True\n",
       "1        Bob Smith       bob@email.com   30            False\n",
       "2    Charlie Brown   charliegoogle.com   35            False\n",
       "3   David Williams     david@email.com   40            False\n",
       "4      Emma Wilson      emma@email.com   28            False\n",
       "5  Franklin Harris  franklin@email.com   33            False\n",
       "6        Grace Lee     grace@email.com   22            False\n",
       "7     Hannah Clark                None   27            False"
      ]
     },
     "execution_count": 339,
     "metadata": {},
     "output_type": "execute_result"
    }
   ],
   "source": [
    "df"
   ]
  },
  {
   "cell_type": "code",
   "execution_count": 340,
   "id": "77d960cf-66dc-4618-8951-bd7ed73eff9c",
   "metadata": {},
   "outputs": [],
   "source": [
    "df['ends with \"n\"'] = df['Name'].str.endswith('n')"
   ]
  },
  {
   "cell_type": "code",
   "execution_count": 341,
   "id": "b4427a41-c376-403c-8b9c-6755bb3656a5",
   "metadata": {},
   "outputs": [
    {
     "data": {
      "text/html": [
       "<div>\n",
       "<style scoped>\n",
       "    .dataframe tbody tr th:only-of-type {\n",
       "        vertical-align: middle;\n",
       "    }\n",
       "\n",
       "    .dataframe tbody tr th {\n",
       "        vertical-align: top;\n",
       "    }\n",
       "\n",
       "    .dataframe thead th {\n",
       "        text-align: right;\n",
       "    }\n",
       "</style>\n",
       "<table border=\"1\" class=\"dataframe\">\n",
       "  <thead>\n",
       "    <tr style=\"text-align: right;\">\n",
       "      <th></th>\n",
       "      <th>Name</th>\n",
       "      <th>Email</th>\n",
       "      <th>Age</th>\n",
       "      <th>starts with \"A\"</th>\n",
       "      <th>ends with \"n\"</th>\n",
       "    </tr>\n",
       "  </thead>\n",
       "  <tbody>\n",
       "    <tr>\n",
       "      <th>0</th>\n",
       "      <td>Alice Johnson</td>\n",
       "      <td>alice@google.com</td>\n",
       "      <td>25</td>\n",
       "      <td>True</td>\n",
       "      <td>True</td>\n",
       "    </tr>\n",
       "    <tr>\n",
       "      <th>1</th>\n",
       "      <td>Bob Smith</td>\n",
       "      <td>bob@email.com</td>\n",
       "      <td>30</td>\n",
       "      <td>False</td>\n",
       "      <td>False</td>\n",
       "    </tr>\n",
       "    <tr>\n",
       "      <th>2</th>\n",
       "      <td>Charlie Brown</td>\n",
       "      <td>charliegoogle.com</td>\n",
       "      <td>35</td>\n",
       "      <td>False</td>\n",
       "      <td>True</td>\n",
       "    </tr>\n",
       "    <tr>\n",
       "      <th>3</th>\n",
       "      <td>David Williams</td>\n",
       "      <td>david@email.com</td>\n",
       "      <td>40</td>\n",
       "      <td>False</td>\n",
       "      <td>False</td>\n",
       "    </tr>\n",
       "    <tr>\n",
       "      <th>4</th>\n",
       "      <td>Emma Wilson</td>\n",
       "      <td>emma@email.com</td>\n",
       "      <td>28</td>\n",
       "      <td>False</td>\n",
       "      <td>True</td>\n",
       "    </tr>\n",
       "    <tr>\n",
       "      <th>5</th>\n",
       "      <td>Franklin Harris</td>\n",
       "      <td>franklin@email.com</td>\n",
       "      <td>33</td>\n",
       "      <td>False</td>\n",
       "      <td>False</td>\n",
       "    </tr>\n",
       "    <tr>\n",
       "      <th>6</th>\n",
       "      <td>Grace Lee</td>\n",
       "      <td>grace@email.com</td>\n",
       "      <td>22</td>\n",
       "      <td>False</td>\n",
       "      <td>False</td>\n",
       "    </tr>\n",
       "    <tr>\n",
       "      <th>7</th>\n",
       "      <td>Hannah Clark</td>\n",
       "      <td>None</td>\n",
       "      <td>27</td>\n",
       "      <td>False</td>\n",
       "      <td>False</td>\n",
       "    </tr>\n",
       "  </tbody>\n",
       "</table>\n",
       "</div>"
      ],
      "text/plain": [
       "              Name               Email  Age  starts with \"A\"  ends with \"n\"\n",
       "0    Alice Johnson    alice@google.com   25             True           True\n",
       "1        Bob Smith       bob@email.com   30            False          False\n",
       "2    Charlie Brown   charliegoogle.com   35            False           True\n",
       "3   David Williams     david@email.com   40            False          False\n",
       "4      Emma Wilson      emma@email.com   28            False           True\n",
       "5  Franklin Harris  franklin@email.com   33            False          False\n",
       "6        Grace Lee     grace@email.com   22            False          False\n",
       "7     Hannah Clark                None   27            False          False"
      ]
     },
     "execution_count": 341,
     "metadata": {},
     "output_type": "execute_result"
    }
   ],
   "source": [
    "df"
   ]
  },
  {
   "cell_type": "code",
   "execution_count": 342,
   "id": "a7e9c39c-6a7a-4dc3-a5ee-0042e0e7fbf5",
   "metadata": {},
   "outputs": [
    {
     "data": {
      "text/html": [
       "<div>\n",
       "<style scoped>\n",
       "    .dataframe tbody tr th:only-of-type {\n",
       "        vertical-align: middle;\n",
       "    }\n",
       "\n",
       "    .dataframe tbody tr th {\n",
       "        vertical-align: top;\n",
       "    }\n",
       "\n",
       "    .dataframe thead th {\n",
       "        text-align: right;\n",
       "    }\n",
       "</style>\n",
       "<table border=\"1\" class=\"dataframe\">\n",
       "  <thead>\n",
       "    <tr style=\"text-align: right;\">\n",
       "      <th></th>\n",
       "      <th>Name</th>\n",
       "      <th>Email</th>\n",
       "      <th>Age</th>\n",
       "      <th>starts with \"A\"</th>\n",
       "      <th>ends with \"n\"</th>\n",
       "    </tr>\n",
       "  </thead>\n",
       "  <tbody>\n",
       "    <tr>\n",
       "      <th>0</th>\n",
       "      <td>Alice Johnson</td>\n",
       "      <td>alice@google.com</td>\n",
       "      <td>25</td>\n",
       "      <td>True</td>\n",
       "      <td>True</td>\n",
       "    </tr>\n",
       "    <tr>\n",
       "      <th>2</th>\n",
       "      <td>Charlie Brown</td>\n",
       "      <td>charliegoogle.com</td>\n",
       "      <td>35</td>\n",
       "      <td>False</td>\n",
       "      <td>True</td>\n",
       "    </tr>\n",
       "    <tr>\n",
       "      <th>4</th>\n",
       "      <td>Emma Wilson</td>\n",
       "      <td>emma@email.com</td>\n",
       "      <td>28</td>\n",
       "      <td>False</td>\n",
       "      <td>True</td>\n",
       "    </tr>\n",
       "  </tbody>\n",
       "</table>\n",
       "</div>"
      ],
      "text/plain": [
       "            Name              Email  Age  starts with \"A\"  ends with \"n\"\n",
       "0  Alice Johnson   alice@google.com   25             True           True\n",
       "2  Charlie Brown  charliegoogle.com   35            False           True\n",
       "4    Emma Wilson     emma@email.com   28            False           True"
      ]
     },
     "execution_count": 342,
     "metadata": {},
     "output_type": "execute_result"
    }
   ],
   "source": [
    "# filtering those ends with \"n\"\n",
    "df[df['Name'].str.endswith('n')]"
   ]
  },
  {
   "cell_type": "code",
   "execution_count": null,
   "id": "81e3d321-4bb9-4c57-8765-158f13c16edc",
   "metadata": {},
   "outputs": [],
   "source": []
  },
  {
   "cell_type": "raw",
   "id": "e25901f6-a4a0-43b1-9729-2c97afd4e5a3",
   "metadata": {},
   "source": [
    "str.replace(): Replace parts of a string that match a given pattern with a specified replacement.\n",
    "str.extract(): Extract captured groups from strings using regex patterns.\n",
    "str.findall(): Find all occurrences of a pattern in each string and return them as lists."
   ]
  },
  {
   "cell_type": "code",
   "execution_count": 343,
   "id": "880de3b2-5411-4add-aba3-57c73cf3841e",
   "metadata": {},
   "outputs": [],
   "source": [
    "data = {\n",
    "    'Product': [\n",
    "        'Samsung Galaxy',\n",
    "        'Samsung Galaxy Note',\n",
    "        'Apple iPhone',\n",
    "        'Google Pixel'\n",
    "    ]\n",
    "}\n",
    "df = pd.DataFrame(data)"
   ]
  },
  {
   "cell_type": "code",
   "execution_count": 344,
   "id": "74693557-86b3-4a8d-852a-b8d5417b992a",
   "metadata": {},
   "outputs": [
    {
     "data": {
      "text/html": [
       "<div>\n",
       "<style scoped>\n",
       "    .dataframe tbody tr th:only-of-type {\n",
       "        vertical-align: middle;\n",
       "    }\n",
       "\n",
       "    .dataframe tbody tr th {\n",
       "        vertical-align: top;\n",
       "    }\n",
       "\n",
       "    .dataframe thead th {\n",
       "        text-align: right;\n",
       "    }\n",
       "</style>\n",
       "<table border=\"1\" class=\"dataframe\">\n",
       "  <thead>\n",
       "    <tr style=\"text-align: right;\">\n",
       "      <th></th>\n",
       "      <th>Product</th>\n",
       "    </tr>\n",
       "  </thead>\n",
       "  <tbody>\n",
       "    <tr>\n",
       "      <th>0</th>\n",
       "      <td>Samsung Galaxy</td>\n",
       "    </tr>\n",
       "    <tr>\n",
       "      <th>1</th>\n",
       "      <td>Samsung Galaxy Note</td>\n",
       "    </tr>\n",
       "    <tr>\n",
       "      <th>2</th>\n",
       "      <td>Apple iPhone</td>\n",
       "    </tr>\n",
       "    <tr>\n",
       "      <th>3</th>\n",
       "      <td>Google Pixel</td>\n",
       "    </tr>\n",
       "  </tbody>\n",
       "</table>\n",
       "</div>"
      ],
      "text/plain": [
       "               Product\n",
       "0       Samsung Galaxy\n",
       "1  Samsung Galaxy Note\n",
       "2         Apple iPhone\n",
       "3         Google Pixel"
      ]
     },
     "execution_count": 344,
     "metadata": {},
     "output_type": "execute_result"
    }
   ],
   "source": [
    "df"
   ]
  },
  {
   "cell_type": "code",
   "execution_count": 345,
   "id": "c72e089c-5819-44ac-8c99-f6a46109c73a",
   "metadata": {},
   "outputs": [
    {
     "data": {
      "text/plain": [
       "0         Samsung Galaxy S\n",
       "1    Samsung Galaxy S Note\n",
       "2             Apple iPhone\n",
       "3             Google Pixel\n",
       "Name: Product, dtype: object"
      ]
     },
     "execution_count": 345,
     "metadata": {},
     "output_type": "execute_result"
    }
   ],
   "source": [
    "df['Product'].str.replace('Galaxy', 'Galaxy S')"
   ]
  },
  {
   "cell_type": "code",
   "execution_count": 346,
   "id": "1d0b79cb-ed93-4af6-a4dc-951a8e0acfa1",
   "metadata": {},
   "outputs": [
    {
     "data": {
      "text/plain": [
       "0         Qamsung Qalaxy\n",
       "1    Qamsung Qalaxy Qote\n",
       "2           Qpple iQhone\n",
       "3           Qoogle Qixel\n",
       "Name: Product, dtype: object"
      ]
     },
     "execution_count": 346,
     "metadata": {},
     "output_type": "execute_result"
    }
   ],
   "source": [
    "# I don't know let's replace all capital leters with \"Q\"\n",
    "df['Product'].str.replace(r\"[A-Z]\", 'Q', regex = True)"
   ]
  },
  {
   "cell_type": "raw",
   "id": "cbda51f6-ec11-4a94-a6cc-def61e6261f0",
   "metadata": {},
   "source": [
    "2. Extracting Substrings with str.extract()\n",
    "The str.extract() method uses regex capturing groups to pull out parts of a string. This is useful when you need to extract specific information."
   ]
  },
  {
   "cell_type": "raw",
   "id": "5f2b9778-db86-4b4c-aa9e-7530a4be00f9",
   "metadata": {},
   "source": [
    "Example: Extracting Email Domains"
   ]
  },
  {
   "cell_type": "code",
   "execution_count": 347,
   "id": "fa7c281b-7af3-4b6f-aefb-cfbe4c994097",
   "metadata": {},
   "outputs": [],
   "source": [
    "data = {\n",
    "    'Email': [\n",
    "        'alice@example.com',\n",
    "        'bob@sample.org',\n",
    "        'charlie@test.net',\n",
    "        'david@example.com'\n",
    "    ]\n",
    "}\n",
    "df = pd.DataFrame(data)"
   ]
  },
  {
   "cell_type": "code",
   "execution_count": 348,
   "id": "050dfac1-fa6e-4cd3-85e3-a9f0e5b76670",
   "metadata": {},
   "outputs": [
    {
     "data": {
      "text/html": [
       "<div>\n",
       "<style scoped>\n",
       "    .dataframe tbody tr th:only-of-type {\n",
       "        vertical-align: middle;\n",
       "    }\n",
       "\n",
       "    .dataframe tbody tr th {\n",
       "        vertical-align: top;\n",
       "    }\n",
       "\n",
       "    .dataframe thead th {\n",
       "        text-align: right;\n",
       "    }\n",
       "</style>\n",
       "<table border=\"1\" class=\"dataframe\">\n",
       "  <thead>\n",
       "    <tr style=\"text-align: right;\">\n",
       "      <th></th>\n",
       "      <th>Email</th>\n",
       "    </tr>\n",
       "  </thead>\n",
       "  <tbody>\n",
       "    <tr>\n",
       "      <th>0</th>\n",
       "      <td>alice@example.com</td>\n",
       "    </tr>\n",
       "    <tr>\n",
       "      <th>1</th>\n",
       "      <td>bob@sample.org</td>\n",
       "    </tr>\n",
       "    <tr>\n",
       "      <th>2</th>\n",
       "      <td>charlie@test.net</td>\n",
       "    </tr>\n",
       "    <tr>\n",
       "      <th>3</th>\n",
       "      <td>david@example.com</td>\n",
       "    </tr>\n",
       "  </tbody>\n",
       "</table>\n",
       "</div>"
      ],
      "text/plain": [
       "               Email\n",
       "0  alice@example.com\n",
       "1     bob@sample.org\n",
       "2   charlie@test.net\n",
       "3  david@example.com"
      ]
     },
     "execution_count": 348,
     "metadata": {},
     "output_type": "execute_result"
    }
   ],
   "source": [
    "df"
   ]
  },
  {
   "cell_type": "code",
   "execution_count": 349,
   "id": "353ff29a-8dc1-46e6-bc13-199a796ebeb3",
   "metadata": {},
   "outputs": [],
   "source": [
    "df['Domains'] = df['Email'].str.extract(r\"@([\\w.-]+)\")"
   ]
  },
  {
   "cell_type": "code",
   "execution_count": 350,
   "id": "a25926ba-2c5f-4d9b-8a47-9120fec9b9e2",
   "metadata": {},
   "outputs": [
    {
     "data": {
      "text/html": [
       "<div>\n",
       "<style scoped>\n",
       "    .dataframe tbody tr th:only-of-type {\n",
       "        vertical-align: middle;\n",
       "    }\n",
       "\n",
       "    .dataframe tbody tr th {\n",
       "        vertical-align: top;\n",
       "    }\n",
       "\n",
       "    .dataframe thead th {\n",
       "        text-align: right;\n",
       "    }\n",
       "</style>\n",
       "<table border=\"1\" class=\"dataframe\">\n",
       "  <thead>\n",
       "    <tr style=\"text-align: right;\">\n",
       "      <th></th>\n",
       "      <th>Email</th>\n",
       "      <th>Domains</th>\n",
       "    </tr>\n",
       "  </thead>\n",
       "  <tbody>\n",
       "    <tr>\n",
       "      <th>0</th>\n",
       "      <td>alice@example.com</td>\n",
       "      <td>example.com</td>\n",
       "    </tr>\n",
       "    <tr>\n",
       "      <th>1</th>\n",
       "      <td>bob@sample.org</td>\n",
       "      <td>sample.org</td>\n",
       "    </tr>\n",
       "    <tr>\n",
       "      <th>2</th>\n",
       "      <td>charlie@test.net</td>\n",
       "      <td>test.net</td>\n",
       "    </tr>\n",
       "    <tr>\n",
       "      <th>3</th>\n",
       "      <td>david@example.com</td>\n",
       "      <td>example.com</td>\n",
       "    </tr>\n",
       "  </tbody>\n",
       "</table>\n",
       "</div>"
      ],
      "text/plain": [
       "               Email      Domains\n",
       "0  alice@example.com  example.com\n",
       "1     bob@sample.org   sample.org\n",
       "2   charlie@test.net     test.net\n",
       "3  david@example.com  example.com"
      ]
     },
     "execution_count": 350,
     "metadata": {},
     "output_type": "execute_result"
    }
   ],
   "source": [
    "df"
   ]
  },
  {
   "cell_type": "code",
   "execution_count": null,
   "id": "1698c8bd-a858-4ef8-8b95-fd406a3507f3",
   "metadata": {},
   "outputs": [],
   "source": []
  },
  {
   "cell_type": "raw",
   "id": "a5b00a0e-9701-4738-a0c8-22d3650d49f9",
   "metadata": {},
   "source": [
    "Finding All Matches with str.findall()\n",
    "The str.findall() method returns a list of all matches of a regex pattern in each string. This is helpful when a string may contain multiple occurrences of a pattern."
   ]
  },
  {
   "cell_type": "raw",
   "id": "a6facd33-af5d-45aa-9b9d-d386becdb4f4",
   "metadata": {},
   "source": [
    "Example: Finding All Numbers in a Text"
   ]
  },
  {
   "cell_type": "code",
   "execution_count": 351,
   "id": "422a01a1-db93-4b15-b28c-b58320dcba99",
   "metadata": {},
   "outputs": [],
   "source": [
    "data = {\n",
    "    'Description': [\n",
    "        \"There are 12 apples and 5 oranges.\",\n",
    "        \"No numbers here!\",\n",
    "        \"The price is 100 dollars and 50 cents.\"\n",
    "    ]\n",
    "}\n",
    "df = pd.DataFrame(data)"
   ]
  },
  {
   "cell_type": "code",
   "execution_count": 352,
   "id": "69dc158c-e3d1-407e-8bee-6fc3295f3b0a",
   "metadata": {},
   "outputs": [
    {
     "data": {
      "text/html": [
       "<div>\n",
       "<style scoped>\n",
       "    .dataframe tbody tr th:only-of-type {\n",
       "        vertical-align: middle;\n",
       "    }\n",
       "\n",
       "    .dataframe tbody tr th {\n",
       "        vertical-align: top;\n",
       "    }\n",
       "\n",
       "    .dataframe thead th {\n",
       "        text-align: right;\n",
       "    }\n",
       "</style>\n",
       "<table border=\"1\" class=\"dataframe\">\n",
       "  <thead>\n",
       "    <tr style=\"text-align: right;\">\n",
       "      <th></th>\n",
       "      <th>Description</th>\n",
       "    </tr>\n",
       "  </thead>\n",
       "  <tbody>\n",
       "    <tr>\n",
       "      <th>0</th>\n",
       "      <td>There are 12 apples and 5 oranges.</td>\n",
       "    </tr>\n",
       "    <tr>\n",
       "      <th>1</th>\n",
       "      <td>No numbers here!</td>\n",
       "    </tr>\n",
       "    <tr>\n",
       "      <th>2</th>\n",
       "      <td>The price is 100 dollars and 50 cents.</td>\n",
       "    </tr>\n",
       "  </tbody>\n",
       "</table>\n",
       "</div>"
      ],
      "text/plain": [
       "                              Description\n",
       "0      There are 12 apples and 5 oranges.\n",
       "1                        No numbers here!\n",
       "2  The price is 100 dollars and 50 cents."
      ]
     },
     "execution_count": 352,
     "metadata": {},
     "output_type": "execute_result"
    }
   ],
   "source": [
    "df"
   ]
  },
  {
   "cell_type": "code",
   "execution_count": 353,
   "id": "a8a9acc3-7228-433f-b816-b824e6af6a9b",
   "metadata": {},
   "outputs": [],
   "source": [
    "df['numbers'] = df['Description'].str.findall(r\"\\d+\")"
   ]
  },
  {
   "cell_type": "code",
   "execution_count": 354,
   "id": "a8f0dca9-feed-43f0-a72c-12422d9d6721",
   "metadata": {},
   "outputs": [
    {
     "data": {
      "text/html": [
       "<div>\n",
       "<style scoped>\n",
       "    .dataframe tbody tr th:only-of-type {\n",
       "        vertical-align: middle;\n",
       "    }\n",
       "\n",
       "    .dataframe tbody tr th {\n",
       "        vertical-align: top;\n",
       "    }\n",
       "\n",
       "    .dataframe thead th {\n",
       "        text-align: right;\n",
       "    }\n",
       "</style>\n",
       "<table border=\"1\" class=\"dataframe\">\n",
       "  <thead>\n",
       "    <tr style=\"text-align: right;\">\n",
       "      <th></th>\n",
       "      <th>Description</th>\n",
       "      <th>numbers</th>\n",
       "    </tr>\n",
       "  </thead>\n",
       "  <tbody>\n",
       "    <tr>\n",
       "      <th>0</th>\n",
       "      <td>There are 12 apples and 5 oranges.</td>\n",
       "      <td>[12, 5]</td>\n",
       "    </tr>\n",
       "    <tr>\n",
       "      <th>1</th>\n",
       "      <td>No numbers here!</td>\n",
       "      <td>[]</td>\n",
       "    </tr>\n",
       "    <tr>\n",
       "      <th>2</th>\n",
       "      <td>The price is 100 dollars and 50 cents.</td>\n",
       "      <td>[100, 50]</td>\n",
       "    </tr>\n",
       "  </tbody>\n",
       "</table>\n",
       "</div>"
      ],
      "text/plain": [
       "                              Description    numbers\n",
       "0      There are 12 apples and 5 oranges.    [12, 5]\n",
       "1                        No numbers here!         []\n",
       "2  The price is 100 dollars and 50 cents.  [100, 50]"
      ]
     },
     "execution_count": 354,
     "metadata": {},
     "output_type": "execute_result"
    }
   ],
   "source": [
    "df"
   ]
  },
  {
   "cell_type": "markdown",
   "id": "a2e119d7-4bea-46bc-a082-5d54ace82282",
   "metadata": {},
   "source": [
    "# Example"
   ]
  },
  {
   "cell_type": "code",
   "execution_count": 355,
   "id": "ea818665-6f16-4303-986f-e9fdb6c62013",
   "metadata": {},
   "outputs": [],
   "source": [
    "data = {\n",
    "    \"Full Name\": [\"Alice Johnson\", \"Bob Smith\", \"Charlie Brown\", \"David Williams\", \n",
    "                  \"Emma Wilson\", \"Franklin Harris\", \"Grace Lee\", \"Hannah Clark\"],\n",
    "    \"Email\": [\"alice_1995@email.com\", \"bob.smith@email.co.uk\", \"charlie123@email.net\", \"david.w@email.com\",\n",
    "              \"emma_wilson@email.org\", \"frank.harris@email.com\", \"gracelee@email.net\", \"hannah_c@email.com\"],\n",
    "    \"Phone\": [\"(123) 456-7890\", \"+1 987-654-3210\", \"555-888-9999\", \"+44 20 7946 0958\", \n",
    "              \"(222) 333-4444\", \"666.777.8888\", \"+91-98765-43210\", \"111-222-3333\"],\n",
    "    \"Address\": [\"123 Baker St, NY, USA\", \"456 Oak Ave, London, UK\", \"789 Pine Rd, TX, USA\", \n",
    "                \"101 Maple Dr, Toronto, CA\", \"55 Elm St, Sydney, AU\", \"999 Cedar Blvd, NY, USA\",\n",
    "                \"10 Kings Way, Mumbai, IN\", \"777 Queen St, Vancouver, CA\"],\n",
    "    \"Salary\": [\"$50,000\", \"$75,500\", \"€60,000\", \"£80,000\", \"$90,000\", \"€72,300\", \"₹1,200,000\", \"$45,000\"]\n",
    "}\n",
    "\n",
    "df = pd.DataFrame(data)"
   ]
  },
  {
   "cell_type": "code",
   "execution_count": 356,
   "id": "34cd0272-46d0-4963-87a3-fee7733e7954",
   "metadata": {},
   "outputs": [
    {
     "data": {
      "text/html": [
       "<div>\n",
       "<style scoped>\n",
       "    .dataframe tbody tr th:only-of-type {\n",
       "        vertical-align: middle;\n",
       "    }\n",
       "\n",
       "    .dataframe tbody tr th {\n",
       "        vertical-align: top;\n",
       "    }\n",
       "\n",
       "    .dataframe thead th {\n",
       "        text-align: right;\n",
       "    }\n",
       "</style>\n",
       "<table border=\"1\" class=\"dataframe\">\n",
       "  <thead>\n",
       "    <tr style=\"text-align: right;\">\n",
       "      <th></th>\n",
       "      <th>Full Name</th>\n",
       "      <th>Email</th>\n",
       "      <th>Phone</th>\n",
       "      <th>Address</th>\n",
       "      <th>Salary</th>\n",
       "    </tr>\n",
       "  </thead>\n",
       "  <tbody>\n",
       "    <tr>\n",
       "      <th>0</th>\n",
       "      <td>Alice Johnson</td>\n",
       "      <td>alice_1995@email.com</td>\n",
       "      <td>(123) 456-7890</td>\n",
       "      <td>123 Baker St, NY, USA</td>\n",
       "      <td>$50,000</td>\n",
       "    </tr>\n",
       "    <tr>\n",
       "      <th>1</th>\n",
       "      <td>Bob Smith</td>\n",
       "      <td>bob.smith@email.co.uk</td>\n",
       "      <td>+1 987-654-3210</td>\n",
       "      <td>456 Oak Ave, London, UK</td>\n",
       "      <td>$75,500</td>\n",
       "    </tr>\n",
       "    <tr>\n",
       "      <th>2</th>\n",
       "      <td>Charlie Brown</td>\n",
       "      <td>charlie123@email.net</td>\n",
       "      <td>555-888-9999</td>\n",
       "      <td>789 Pine Rd, TX, USA</td>\n",
       "      <td>€60,000</td>\n",
       "    </tr>\n",
       "    <tr>\n",
       "      <th>3</th>\n",
       "      <td>David Williams</td>\n",
       "      <td>david.w@email.com</td>\n",
       "      <td>+44 20 7946 0958</td>\n",
       "      <td>101 Maple Dr, Toronto, CA</td>\n",
       "      <td>£80,000</td>\n",
       "    </tr>\n",
       "    <tr>\n",
       "      <th>4</th>\n",
       "      <td>Emma Wilson</td>\n",
       "      <td>emma_wilson@email.org</td>\n",
       "      <td>(222) 333-4444</td>\n",
       "      <td>55 Elm St, Sydney, AU</td>\n",
       "      <td>$90,000</td>\n",
       "    </tr>\n",
       "    <tr>\n",
       "      <th>5</th>\n",
       "      <td>Franklin Harris</td>\n",
       "      <td>frank.harris@email.com</td>\n",
       "      <td>666.777.8888</td>\n",
       "      <td>999 Cedar Blvd, NY, USA</td>\n",
       "      <td>€72,300</td>\n",
       "    </tr>\n",
       "    <tr>\n",
       "      <th>6</th>\n",
       "      <td>Grace Lee</td>\n",
       "      <td>gracelee@email.net</td>\n",
       "      <td>+91-98765-43210</td>\n",
       "      <td>10 Kings Way, Mumbai, IN</td>\n",
       "      <td>₹1,200,000</td>\n",
       "    </tr>\n",
       "    <tr>\n",
       "      <th>7</th>\n",
       "      <td>Hannah Clark</td>\n",
       "      <td>hannah_c@email.com</td>\n",
       "      <td>111-222-3333</td>\n",
       "      <td>777 Queen St, Vancouver, CA</td>\n",
       "      <td>$45,000</td>\n",
       "    </tr>\n",
       "  </tbody>\n",
       "</table>\n",
       "</div>"
      ],
      "text/plain": [
       "         Full Name                   Email             Phone  \\\n",
       "0    Alice Johnson    alice_1995@email.com    (123) 456-7890   \n",
       "1        Bob Smith   bob.smith@email.co.uk   +1 987-654-3210   \n",
       "2    Charlie Brown    charlie123@email.net      555-888-9999   \n",
       "3   David Williams       david.w@email.com  +44 20 7946 0958   \n",
       "4      Emma Wilson   emma_wilson@email.org    (222) 333-4444   \n",
       "5  Franklin Harris  frank.harris@email.com      666.777.8888   \n",
       "6        Grace Lee      gracelee@email.net   +91-98765-43210   \n",
       "7     Hannah Clark      hannah_c@email.com      111-222-3333   \n",
       "\n",
       "                       Address      Salary  \n",
       "0        123 Baker St, NY, USA     $50,000  \n",
       "1      456 Oak Ave, London, UK     $75,500  \n",
       "2         789 Pine Rd, TX, USA     €60,000  \n",
       "3    101 Maple Dr, Toronto, CA     £80,000  \n",
       "4        55 Elm St, Sydney, AU     $90,000  \n",
       "5      999 Cedar Blvd, NY, USA     €72,300  \n",
       "6     10 Kings Way, Mumbai, IN  ₹1,200,000  \n",
       "7  777 Queen St, Vancouver, CA     $45,000  "
      ]
     },
     "execution_count": 356,
     "metadata": {},
     "output_type": "execute_result"
    }
   ],
   "source": [
    "df"
   ]
  },
  {
   "cell_type": "raw",
   "id": "4d62c878-b0b7-4c46-8914-516378bf6d06",
   "metadata": {},
   "source": [
    "1️⃣ Replace non-standard phone formats"
   ]
  },
  {
   "cell_type": "code",
   "execution_count": 357,
   "id": "0481a069-51fb-4cf0-82b2-f1027acd671d",
   "metadata": {},
   "outputs": [],
   "source": [
    "df['Phone'] = df['Phone'].str.replace(r\"[^\\d]+\", '', regex = True)"
   ]
  },
  {
   "cell_type": "code",
   "execution_count": 358,
   "id": "2187a1c7-4e76-4132-937e-39c85a3fff65",
   "metadata": {},
   "outputs": [
    {
     "data": {
      "text/html": [
       "<div>\n",
       "<style scoped>\n",
       "    .dataframe tbody tr th:only-of-type {\n",
       "        vertical-align: middle;\n",
       "    }\n",
       "\n",
       "    .dataframe tbody tr th {\n",
       "        vertical-align: top;\n",
       "    }\n",
       "\n",
       "    .dataframe thead th {\n",
       "        text-align: right;\n",
       "    }\n",
       "</style>\n",
       "<table border=\"1\" class=\"dataframe\">\n",
       "  <thead>\n",
       "    <tr style=\"text-align: right;\">\n",
       "      <th></th>\n",
       "      <th>Full Name</th>\n",
       "      <th>Email</th>\n",
       "      <th>Phone</th>\n",
       "      <th>Address</th>\n",
       "      <th>Salary</th>\n",
       "    </tr>\n",
       "  </thead>\n",
       "  <tbody>\n",
       "    <tr>\n",
       "      <th>0</th>\n",
       "      <td>Alice Johnson</td>\n",
       "      <td>alice_1995@email.com</td>\n",
       "      <td>1234567890</td>\n",
       "      <td>123 Baker St, NY, USA</td>\n",
       "      <td>$50,000</td>\n",
       "    </tr>\n",
       "    <tr>\n",
       "      <th>1</th>\n",
       "      <td>Bob Smith</td>\n",
       "      <td>bob.smith@email.co.uk</td>\n",
       "      <td>19876543210</td>\n",
       "      <td>456 Oak Ave, London, UK</td>\n",
       "      <td>$75,500</td>\n",
       "    </tr>\n",
       "    <tr>\n",
       "      <th>2</th>\n",
       "      <td>Charlie Brown</td>\n",
       "      <td>charlie123@email.net</td>\n",
       "      <td>5558889999</td>\n",
       "      <td>789 Pine Rd, TX, USA</td>\n",
       "      <td>€60,000</td>\n",
       "    </tr>\n",
       "    <tr>\n",
       "      <th>3</th>\n",
       "      <td>David Williams</td>\n",
       "      <td>david.w@email.com</td>\n",
       "      <td>442079460958</td>\n",
       "      <td>101 Maple Dr, Toronto, CA</td>\n",
       "      <td>£80,000</td>\n",
       "    </tr>\n",
       "    <tr>\n",
       "      <th>4</th>\n",
       "      <td>Emma Wilson</td>\n",
       "      <td>emma_wilson@email.org</td>\n",
       "      <td>2223334444</td>\n",
       "      <td>55 Elm St, Sydney, AU</td>\n",
       "      <td>$90,000</td>\n",
       "    </tr>\n",
       "    <tr>\n",
       "      <th>5</th>\n",
       "      <td>Franklin Harris</td>\n",
       "      <td>frank.harris@email.com</td>\n",
       "      <td>6667778888</td>\n",
       "      <td>999 Cedar Blvd, NY, USA</td>\n",
       "      <td>€72,300</td>\n",
       "    </tr>\n",
       "    <tr>\n",
       "      <th>6</th>\n",
       "      <td>Grace Lee</td>\n",
       "      <td>gracelee@email.net</td>\n",
       "      <td>919876543210</td>\n",
       "      <td>10 Kings Way, Mumbai, IN</td>\n",
       "      <td>₹1,200,000</td>\n",
       "    </tr>\n",
       "    <tr>\n",
       "      <th>7</th>\n",
       "      <td>Hannah Clark</td>\n",
       "      <td>hannah_c@email.com</td>\n",
       "      <td>1112223333</td>\n",
       "      <td>777 Queen St, Vancouver, CA</td>\n",
       "      <td>$45,000</td>\n",
       "    </tr>\n",
       "  </tbody>\n",
       "</table>\n",
       "</div>"
      ],
      "text/plain": [
       "         Full Name                   Email         Phone  \\\n",
       "0    Alice Johnson    alice_1995@email.com    1234567890   \n",
       "1        Bob Smith   bob.smith@email.co.uk   19876543210   \n",
       "2    Charlie Brown    charlie123@email.net    5558889999   \n",
       "3   David Williams       david.w@email.com  442079460958   \n",
       "4      Emma Wilson   emma_wilson@email.org    2223334444   \n",
       "5  Franklin Harris  frank.harris@email.com    6667778888   \n",
       "6        Grace Lee      gracelee@email.net  919876543210   \n",
       "7     Hannah Clark      hannah_c@email.com    1112223333   \n",
       "\n",
       "                       Address      Salary  \n",
       "0        123 Baker St, NY, USA     $50,000  \n",
       "1      456 Oak Ave, London, UK     $75,500  \n",
       "2         789 Pine Rd, TX, USA     €60,000  \n",
       "3    101 Maple Dr, Toronto, CA     £80,000  \n",
       "4        55 Elm St, Sydney, AU     $90,000  \n",
       "5      999 Cedar Blvd, NY, USA     €72,300  \n",
       "6     10 Kings Way, Mumbai, IN  ₹1,200,000  \n",
       "7  777 Queen St, Vancouver, CA     $45,000  "
      ]
     },
     "execution_count": 358,
     "metadata": {},
     "output_type": "execute_result"
    }
   ],
   "source": [
    "df"
   ]
  },
  {
   "cell_type": "code",
   "execution_count": 359,
   "id": "e272315d-fb7a-49cd-8be1-06916d33c5a7",
   "metadata": {},
   "outputs": [],
   "source": [
    "# Convert all phone numbers to a standard format (XXX-XXX-XXXX)\n",
    "df['Phone'] = df['Phone'].str.replace(r\"(\\d{3})(\\d{3})(\\d{4})\", r\"\\1-\\2-\\3\", regex = True)"
   ]
  },
  {
   "cell_type": "code",
   "execution_count": 360,
   "id": "0f99e8ab-da2c-42c0-9869-b83e456c134c",
   "metadata": {},
   "outputs": [
    {
     "data": {
      "text/html": [
       "<div>\n",
       "<style scoped>\n",
       "    .dataframe tbody tr th:only-of-type {\n",
       "        vertical-align: middle;\n",
       "    }\n",
       "\n",
       "    .dataframe tbody tr th {\n",
       "        vertical-align: top;\n",
       "    }\n",
       "\n",
       "    .dataframe thead th {\n",
       "        text-align: right;\n",
       "    }\n",
       "</style>\n",
       "<table border=\"1\" class=\"dataframe\">\n",
       "  <thead>\n",
       "    <tr style=\"text-align: right;\">\n",
       "      <th></th>\n",
       "      <th>Full Name</th>\n",
       "      <th>Email</th>\n",
       "      <th>Phone</th>\n",
       "      <th>Address</th>\n",
       "      <th>Salary</th>\n",
       "    </tr>\n",
       "  </thead>\n",
       "  <tbody>\n",
       "    <tr>\n",
       "      <th>0</th>\n",
       "      <td>Alice Johnson</td>\n",
       "      <td>alice_1995@email.com</td>\n",
       "      <td>123-456-7890</td>\n",
       "      <td>123 Baker St, NY, USA</td>\n",
       "      <td>$50,000</td>\n",
       "    </tr>\n",
       "    <tr>\n",
       "      <th>1</th>\n",
       "      <td>Bob Smith</td>\n",
       "      <td>bob.smith@email.co.uk</td>\n",
       "      <td>198-765-43210</td>\n",
       "      <td>456 Oak Ave, London, UK</td>\n",
       "      <td>$75,500</td>\n",
       "    </tr>\n",
       "    <tr>\n",
       "      <th>2</th>\n",
       "      <td>Charlie Brown</td>\n",
       "      <td>charlie123@email.net</td>\n",
       "      <td>555-888-9999</td>\n",
       "      <td>789 Pine Rd, TX, USA</td>\n",
       "      <td>€60,000</td>\n",
       "    </tr>\n",
       "    <tr>\n",
       "      <th>3</th>\n",
       "      <td>David Williams</td>\n",
       "      <td>david.w@email.com</td>\n",
       "      <td>442-079-460958</td>\n",
       "      <td>101 Maple Dr, Toronto, CA</td>\n",
       "      <td>£80,000</td>\n",
       "    </tr>\n",
       "    <tr>\n",
       "      <th>4</th>\n",
       "      <td>Emma Wilson</td>\n",
       "      <td>emma_wilson@email.org</td>\n",
       "      <td>222-333-4444</td>\n",
       "      <td>55 Elm St, Sydney, AU</td>\n",
       "      <td>$90,000</td>\n",
       "    </tr>\n",
       "    <tr>\n",
       "      <th>5</th>\n",
       "      <td>Franklin Harris</td>\n",
       "      <td>frank.harris@email.com</td>\n",
       "      <td>666-777-8888</td>\n",
       "      <td>999 Cedar Blvd, NY, USA</td>\n",
       "      <td>€72,300</td>\n",
       "    </tr>\n",
       "    <tr>\n",
       "      <th>6</th>\n",
       "      <td>Grace Lee</td>\n",
       "      <td>gracelee@email.net</td>\n",
       "      <td>919-876-543210</td>\n",
       "      <td>10 Kings Way, Mumbai, IN</td>\n",
       "      <td>₹1,200,000</td>\n",
       "    </tr>\n",
       "    <tr>\n",
       "      <th>7</th>\n",
       "      <td>Hannah Clark</td>\n",
       "      <td>hannah_c@email.com</td>\n",
       "      <td>111-222-3333</td>\n",
       "      <td>777 Queen St, Vancouver, CA</td>\n",
       "      <td>$45,000</td>\n",
       "    </tr>\n",
       "  </tbody>\n",
       "</table>\n",
       "</div>"
      ],
      "text/plain": [
       "         Full Name                   Email           Phone  \\\n",
       "0    Alice Johnson    alice_1995@email.com    123-456-7890   \n",
       "1        Bob Smith   bob.smith@email.co.uk   198-765-43210   \n",
       "2    Charlie Brown    charlie123@email.net    555-888-9999   \n",
       "3   David Williams       david.w@email.com  442-079-460958   \n",
       "4      Emma Wilson   emma_wilson@email.org    222-333-4444   \n",
       "5  Franklin Harris  frank.harris@email.com    666-777-8888   \n",
       "6        Grace Lee      gracelee@email.net  919-876-543210   \n",
       "7     Hannah Clark      hannah_c@email.com    111-222-3333   \n",
       "\n",
       "                       Address      Salary  \n",
       "0        123 Baker St, NY, USA     $50,000  \n",
       "1      456 Oak Ave, London, UK     $75,500  \n",
       "2         789 Pine Rd, TX, USA     €60,000  \n",
       "3    101 Maple Dr, Toronto, CA     £80,000  \n",
       "4        55 Elm St, Sydney, AU     $90,000  \n",
       "5      999 Cedar Blvd, NY, USA     €72,300  \n",
       "6     10 Kings Way, Mumbai, IN  ₹1,200,000  \n",
       "7  777 Queen St, Vancouver, CA     $45,000  "
      ]
     },
     "execution_count": 360,
     "metadata": {},
     "output_type": "execute_result"
    }
   ],
   "source": [
    "df"
   ]
  },
  {
   "cell_type": "raw",
   "id": "155c9dec-311d-446d-bf69-7560fc9a4b22",
   "metadata": {},
   "source": [
    "2️⃣ Extract domain names from emails"
   ]
  },
  {
   "cell_type": "code",
   "execution_count": 361,
   "id": "e98a233b-5369-4798-ab93-625eef4683e9",
   "metadata": {},
   "outputs": [],
   "source": [
    "df['Domain'] = df['Email'].str.extract(r\"@([\\w.-]+)\")"
   ]
  },
  {
   "cell_type": "code",
   "execution_count": 362,
   "id": "acbbe55b-36f8-4019-af5c-b917cc9a883f",
   "metadata": {},
   "outputs": [
    {
     "data": {
      "text/html": [
       "<div>\n",
       "<style scoped>\n",
       "    .dataframe tbody tr th:only-of-type {\n",
       "        vertical-align: middle;\n",
       "    }\n",
       "\n",
       "    .dataframe tbody tr th {\n",
       "        vertical-align: top;\n",
       "    }\n",
       "\n",
       "    .dataframe thead th {\n",
       "        text-align: right;\n",
       "    }\n",
       "</style>\n",
       "<table border=\"1\" class=\"dataframe\">\n",
       "  <thead>\n",
       "    <tr style=\"text-align: right;\">\n",
       "      <th></th>\n",
       "      <th>Full Name</th>\n",
       "      <th>Email</th>\n",
       "      <th>Phone</th>\n",
       "      <th>Address</th>\n",
       "      <th>Salary</th>\n",
       "      <th>Domain</th>\n",
       "    </tr>\n",
       "  </thead>\n",
       "  <tbody>\n",
       "    <tr>\n",
       "      <th>0</th>\n",
       "      <td>Alice Johnson</td>\n",
       "      <td>alice_1995@email.com</td>\n",
       "      <td>123-456-7890</td>\n",
       "      <td>123 Baker St, NY, USA</td>\n",
       "      <td>$50,000</td>\n",
       "      <td>email.com</td>\n",
       "    </tr>\n",
       "    <tr>\n",
       "      <th>1</th>\n",
       "      <td>Bob Smith</td>\n",
       "      <td>bob.smith@email.co.uk</td>\n",
       "      <td>198-765-43210</td>\n",
       "      <td>456 Oak Ave, London, UK</td>\n",
       "      <td>$75,500</td>\n",
       "      <td>email.co.uk</td>\n",
       "    </tr>\n",
       "    <tr>\n",
       "      <th>2</th>\n",
       "      <td>Charlie Brown</td>\n",
       "      <td>charlie123@email.net</td>\n",
       "      <td>555-888-9999</td>\n",
       "      <td>789 Pine Rd, TX, USA</td>\n",
       "      <td>€60,000</td>\n",
       "      <td>email.net</td>\n",
       "    </tr>\n",
       "    <tr>\n",
       "      <th>3</th>\n",
       "      <td>David Williams</td>\n",
       "      <td>david.w@email.com</td>\n",
       "      <td>442-079-460958</td>\n",
       "      <td>101 Maple Dr, Toronto, CA</td>\n",
       "      <td>£80,000</td>\n",
       "      <td>email.com</td>\n",
       "    </tr>\n",
       "    <tr>\n",
       "      <th>4</th>\n",
       "      <td>Emma Wilson</td>\n",
       "      <td>emma_wilson@email.org</td>\n",
       "      <td>222-333-4444</td>\n",
       "      <td>55 Elm St, Sydney, AU</td>\n",
       "      <td>$90,000</td>\n",
       "      <td>email.org</td>\n",
       "    </tr>\n",
       "    <tr>\n",
       "      <th>5</th>\n",
       "      <td>Franklin Harris</td>\n",
       "      <td>frank.harris@email.com</td>\n",
       "      <td>666-777-8888</td>\n",
       "      <td>999 Cedar Blvd, NY, USA</td>\n",
       "      <td>€72,300</td>\n",
       "      <td>email.com</td>\n",
       "    </tr>\n",
       "    <tr>\n",
       "      <th>6</th>\n",
       "      <td>Grace Lee</td>\n",
       "      <td>gracelee@email.net</td>\n",
       "      <td>919-876-543210</td>\n",
       "      <td>10 Kings Way, Mumbai, IN</td>\n",
       "      <td>₹1,200,000</td>\n",
       "      <td>email.net</td>\n",
       "    </tr>\n",
       "    <tr>\n",
       "      <th>7</th>\n",
       "      <td>Hannah Clark</td>\n",
       "      <td>hannah_c@email.com</td>\n",
       "      <td>111-222-3333</td>\n",
       "      <td>777 Queen St, Vancouver, CA</td>\n",
       "      <td>$45,000</td>\n",
       "      <td>email.com</td>\n",
       "    </tr>\n",
       "  </tbody>\n",
       "</table>\n",
       "</div>"
      ],
      "text/plain": [
       "         Full Name                   Email           Phone  \\\n",
       "0    Alice Johnson    alice_1995@email.com    123-456-7890   \n",
       "1        Bob Smith   bob.smith@email.co.uk   198-765-43210   \n",
       "2    Charlie Brown    charlie123@email.net    555-888-9999   \n",
       "3   David Williams       david.w@email.com  442-079-460958   \n",
       "4      Emma Wilson   emma_wilson@email.org    222-333-4444   \n",
       "5  Franklin Harris  frank.harris@email.com    666-777-8888   \n",
       "6        Grace Lee      gracelee@email.net  919-876-543210   \n",
       "7     Hannah Clark      hannah_c@email.com    111-222-3333   \n",
       "\n",
       "                       Address      Salary       Domain  \n",
       "0        123 Baker St, NY, USA     $50,000    email.com  \n",
       "1      456 Oak Ave, London, UK     $75,500  email.co.uk  \n",
       "2         789 Pine Rd, TX, USA     €60,000    email.net  \n",
       "3    101 Maple Dr, Toronto, CA     £80,000    email.com  \n",
       "4        55 Elm St, Sydney, AU     $90,000    email.org  \n",
       "5      999 Cedar Blvd, NY, USA     €72,300    email.com  \n",
       "6     10 Kings Way, Mumbai, IN  ₹1,200,000    email.net  \n",
       "7  777 Queen St, Vancouver, CA     $45,000    email.com  "
      ]
     },
     "execution_count": 362,
     "metadata": {},
     "output_type": "execute_result"
    }
   ],
   "source": [
    "df"
   ]
  },
  {
   "cell_type": "raw",
   "id": "7e1bcd0f-54bc-4681-a790-f1b986f1dd24",
   "metadata": {},
   "source": [
    "3️⃣ Extract country codes from phone numbers"
   ]
  },
  {
   "cell_type": "code",
   "execution_count": 363,
   "id": "e654699d-e270-4ee3-9278-928c8f3760f3",
   "metadata": {},
   "outputs": [],
   "source": [
    "df[\"Country Code\"] = df[\"Phone\"].str.extract(r\"(\\d{1,3})[-\\s]?\\d{3}[-\\s]?\\d{4}\")"
   ]
  },
  {
   "cell_type": "code",
   "execution_count": 364,
   "id": "6962ad16-b541-4238-8b79-e1fc29b5a213",
   "metadata": {},
   "outputs": [
    {
     "data": {
      "text/html": [
       "<div>\n",
       "<style scoped>\n",
       "    .dataframe tbody tr th:only-of-type {\n",
       "        vertical-align: middle;\n",
       "    }\n",
       "\n",
       "    .dataframe tbody tr th {\n",
       "        vertical-align: top;\n",
       "    }\n",
       "\n",
       "    .dataframe thead th {\n",
       "        text-align: right;\n",
       "    }\n",
       "</style>\n",
       "<table border=\"1\" class=\"dataframe\">\n",
       "  <thead>\n",
       "    <tr style=\"text-align: right;\">\n",
       "      <th></th>\n",
       "      <th>Full Name</th>\n",
       "      <th>Email</th>\n",
       "      <th>Phone</th>\n",
       "      <th>Address</th>\n",
       "      <th>Salary</th>\n",
       "      <th>Domain</th>\n",
       "      <th>Country Code</th>\n",
       "    </tr>\n",
       "  </thead>\n",
       "  <tbody>\n",
       "    <tr>\n",
       "      <th>0</th>\n",
       "      <td>Alice Johnson</td>\n",
       "      <td>alice_1995@email.com</td>\n",
       "      <td>123-456-7890</td>\n",
       "      <td>123 Baker St, NY, USA</td>\n",
       "      <td>$50,000</td>\n",
       "      <td>email.com</td>\n",
       "      <td>123</td>\n",
       "    </tr>\n",
       "    <tr>\n",
       "      <th>1</th>\n",
       "      <td>Bob Smith</td>\n",
       "      <td>bob.smith@email.co.uk</td>\n",
       "      <td>198-765-43210</td>\n",
       "      <td>456 Oak Ave, London, UK</td>\n",
       "      <td>$75,500</td>\n",
       "      <td>email.co.uk</td>\n",
       "      <td>198</td>\n",
       "    </tr>\n",
       "    <tr>\n",
       "      <th>2</th>\n",
       "      <td>Charlie Brown</td>\n",
       "      <td>charlie123@email.net</td>\n",
       "      <td>555-888-9999</td>\n",
       "      <td>789 Pine Rd, TX, USA</td>\n",
       "      <td>€60,000</td>\n",
       "      <td>email.net</td>\n",
       "      <td>555</td>\n",
       "    </tr>\n",
       "    <tr>\n",
       "      <th>3</th>\n",
       "      <td>David Williams</td>\n",
       "      <td>david.w@email.com</td>\n",
       "      <td>442-079-460958</td>\n",
       "      <td>101 Maple Dr, Toronto, CA</td>\n",
       "      <td>£80,000</td>\n",
       "      <td>email.com</td>\n",
       "      <td>442</td>\n",
       "    </tr>\n",
       "    <tr>\n",
       "      <th>4</th>\n",
       "      <td>Emma Wilson</td>\n",
       "      <td>emma_wilson@email.org</td>\n",
       "      <td>222-333-4444</td>\n",
       "      <td>55 Elm St, Sydney, AU</td>\n",
       "      <td>$90,000</td>\n",
       "      <td>email.org</td>\n",
       "      <td>222</td>\n",
       "    </tr>\n",
       "    <tr>\n",
       "      <th>5</th>\n",
       "      <td>Franklin Harris</td>\n",
       "      <td>frank.harris@email.com</td>\n",
       "      <td>666-777-8888</td>\n",
       "      <td>999 Cedar Blvd, NY, USA</td>\n",
       "      <td>€72,300</td>\n",
       "      <td>email.com</td>\n",
       "      <td>666</td>\n",
       "    </tr>\n",
       "    <tr>\n",
       "      <th>6</th>\n",
       "      <td>Grace Lee</td>\n",
       "      <td>gracelee@email.net</td>\n",
       "      <td>919-876-543210</td>\n",
       "      <td>10 Kings Way, Mumbai, IN</td>\n",
       "      <td>₹1,200,000</td>\n",
       "      <td>email.net</td>\n",
       "      <td>919</td>\n",
       "    </tr>\n",
       "    <tr>\n",
       "      <th>7</th>\n",
       "      <td>Hannah Clark</td>\n",
       "      <td>hannah_c@email.com</td>\n",
       "      <td>111-222-3333</td>\n",
       "      <td>777 Queen St, Vancouver, CA</td>\n",
       "      <td>$45,000</td>\n",
       "      <td>email.com</td>\n",
       "      <td>111</td>\n",
       "    </tr>\n",
       "  </tbody>\n",
       "</table>\n",
       "</div>"
      ],
      "text/plain": [
       "         Full Name                   Email           Phone  \\\n",
       "0    Alice Johnson    alice_1995@email.com    123-456-7890   \n",
       "1        Bob Smith   bob.smith@email.co.uk   198-765-43210   \n",
       "2    Charlie Brown    charlie123@email.net    555-888-9999   \n",
       "3   David Williams       david.w@email.com  442-079-460958   \n",
       "4      Emma Wilson   emma_wilson@email.org    222-333-4444   \n",
       "5  Franklin Harris  frank.harris@email.com    666-777-8888   \n",
       "6        Grace Lee      gracelee@email.net  919-876-543210   \n",
       "7     Hannah Clark      hannah_c@email.com    111-222-3333   \n",
       "\n",
       "                       Address      Salary       Domain Country Code  \n",
       "0        123 Baker St, NY, USA     $50,000    email.com          123  \n",
       "1      456 Oak Ave, London, UK     $75,500  email.co.uk          198  \n",
       "2         789 Pine Rd, TX, USA     €60,000    email.net          555  \n",
       "3    101 Maple Dr, Toronto, CA     £80,000    email.com          442  \n",
       "4        55 Elm St, Sydney, AU     $90,000    email.org          222  \n",
       "5      999 Cedar Blvd, NY, USA     €72,300    email.com          666  \n",
       "6     10 Kings Way, Mumbai, IN  ₹1,200,000    email.net          919  \n",
       "7  777 Queen St, Vancouver, CA     $45,000    email.com          111  "
      ]
     },
     "execution_count": 364,
     "metadata": {},
     "output_type": "execute_result"
    }
   ],
   "source": [
    "df"
   ]
  },
  {
   "cell_type": "raw",
   "id": "f4b60160-d6e3-4ed2-a5f9-50c9a44c1f33",
   "metadata": {},
   "source": [
    "4️⃣ Extract Salary Currency"
   ]
  },
  {
   "cell_type": "code",
   "execution_count": 365,
   "id": "ea41b588-906d-42a6-b1b8-a15550d1e5d0",
   "metadata": {},
   "outputs": [],
   "source": [
    "df['Currency'] = df['Salary'].str.extract(r\"(.)[\\d+,]\")"
   ]
  },
  {
   "cell_type": "code",
   "execution_count": 366,
   "id": "e95725da-a7ad-4cf5-8e71-34df813639f3",
   "metadata": {},
   "outputs": [
    {
     "data": {
      "text/html": [
       "<div>\n",
       "<style scoped>\n",
       "    .dataframe tbody tr th:only-of-type {\n",
       "        vertical-align: middle;\n",
       "    }\n",
       "\n",
       "    .dataframe tbody tr th {\n",
       "        vertical-align: top;\n",
       "    }\n",
       "\n",
       "    .dataframe thead th {\n",
       "        text-align: right;\n",
       "    }\n",
       "</style>\n",
       "<table border=\"1\" class=\"dataframe\">\n",
       "  <thead>\n",
       "    <tr style=\"text-align: right;\">\n",
       "      <th></th>\n",
       "      <th>Full Name</th>\n",
       "      <th>Email</th>\n",
       "      <th>Phone</th>\n",
       "      <th>Address</th>\n",
       "      <th>Salary</th>\n",
       "      <th>Domain</th>\n",
       "      <th>Country Code</th>\n",
       "      <th>Currency</th>\n",
       "    </tr>\n",
       "  </thead>\n",
       "  <tbody>\n",
       "    <tr>\n",
       "      <th>0</th>\n",
       "      <td>Alice Johnson</td>\n",
       "      <td>alice_1995@email.com</td>\n",
       "      <td>123-456-7890</td>\n",
       "      <td>123 Baker St, NY, USA</td>\n",
       "      <td>$50,000</td>\n",
       "      <td>email.com</td>\n",
       "      <td>123</td>\n",
       "      <td>$</td>\n",
       "    </tr>\n",
       "    <tr>\n",
       "      <th>1</th>\n",
       "      <td>Bob Smith</td>\n",
       "      <td>bob.smith@email.co.uk</td>\n",
       "      <td>198-765-43210</td>\n",
       "      <td>456 Oak Ave, London, UK</td>\n",
       "      <td>$75,500</td>\n",
       "      <td>email.co.uk</td>\n",
       "      <td>198</td>\n",
       "      <td>$</td>\n",
       "    </tr>\n",
       "    <tr>\n",
       "      <th>2</th>\n",
       "      <td>Charlie Brown</td>\n",
       "      <td>charlie123@email.net</td>\n",
       "      <td>555-888-9999</td>\n",
       "      <td>789 Pine Rd, TX, USA</td>\n",
       "      <td>€60,000</td>\n",
       "      <td>email.net</td>\n",
       "      <td>555</td>\n",
       "      <td>€</td>\n",
       "    </tr>\n",
       "    <tr>\n",
       "      <th>3</th>\n",
       "      <td>David Williams</td>\n",
       "      <td>david.w@email.com</td>\n",
       "      <td>442-079-460958</td>\n",
       "      <td>101 Maple Dr, Toronto, CA</td>\n",
       "      <td>£80,000</td>\n",
       "      <td>email.com</td>\n",
       "      <td>442</td>\n",
       "      <td>£</td>\n",
       "    </tr>\n",
       "    <tr>\n",
       "      <th>4</th>\n",
       "      <td>Emma Wilson</td>\n",
       "      <td>emma_wilson@email.org</td>\n",
       "      <td>222-333-4444</td>\n",
       "      <td>55 Elm St, Sydney, AU</td>\n",
       "      <td>$90,000</td>\n",
       "      <td>email.org</td>\n",
       "      <td>222</td>\n",
       "      <td>$</td>\n",
       "    </tr>\n",
       "    <tr>\n",
       "      <th>5</th>\n",
       "      <td>Franklin Harris</td>\n",
       "      <td>frank.harris@email.com</td>\n",
       "      <td>666-777-8888</td>\n",
       "      <td>999 Cedar Blvd, NY, USA</td>\n",
       "      <td>€72,300</td>\n",
       "      <td>email.com</td>\n",
       "      <td>666</td>\n",
       "      <td>€</td>\n",
       "    </tr>\n",
       "    <tr>\n",
       "      <th>6</th>\n",
       "      <td>Grace Lee</td>\n",
       "      <td>gracelee@email.net</td>\n",
       "      <td>919-876-543210</td>\n",
       "      <td>10 Kings Way, Mumbai, IN</td>\n",
       "      <td>₹1,200,000</td>\n",
       "      <td>email.net</td>\n",
       "      <td>919</td>\n",
       "      <td>₹</td>\n",
       "    </tr>\n",
       "    <tr>\n",
       "      <th>7</th>\n",
       "      <td>Hannah Clark</td>\n",
       "      <td>hannah_c@email.com</td>\n",
       "      <td>111-222-3333</td>\n",
       "      <td>777 Queen St, Vancouver, CA</td>\n",
       "      <td>$45,000</td>\n",
       "      <td>email.com</td>\n",
       "      <td>111</td>\n",
       "      <td>$</td>\n",
       "    </tr>\n",
       "  </tbody>\n",
       "</table>\n",
       "</div>"
      ],
      "text/plain": [
       "         Full Name                   Email           Phone  \\\n",
       "0    Alice Johnson    alice_1995@email.com    123-456-7890   \n",
       "1        Bob Smith   bob.smith@email.co.uk   198-765-43210   \n",
       "2    Charlie Brown    charlie123@email.net    555-888-9999   \n",
       "3   David Williams       david.w@email.com  442-079-460958   \n",
       "4      Emma Wilson   emma_wilson@email.org    222-333-4444   \n",
       "5  Franklin Harris  frank.harris@email.com    666-777-8888   \n",
       "6        Grace Lee      gracelee@email.net  919-876-543210   \n",
       "7     Hannah Clark      hannah_c@email.com    111-222-3333   \n",
       "\n",
       "                       Address      Salary       Domain Country Code Currency  \n",
       "0        123 Baker St, NY, USA     $50,000    email.com          123        $  \n",
       "1      456 Oak Ave, London, UK     $75,500  email.co.uk          198        $  \n",
       "2         789 Pine Rd, TX, USA     €60,000    email.net          555        €  \n",
       "3    101 Maple Dr, Toronto, CA     £80,000    email.com          442        £  \n",
       "4        55 Elm St, Sydney, AU     $90,000    email.org          222        $  \n",
       "5      999 Cedar Blvd, NY, USA     €72,300    email.com          666        €  \n",
       "6     10 Kings Way, Mumbai, IN  ₹1,200,000    email.net          919        ₹  \n",
       "7  777 Queen St, Vancouver, CA     $45,000    email.com          111        $  "
      ]
     },
     "execution_count": 366,
     "metadata": {},
     "output_type": "execute_result"
    }
   ],
   "source": [
    "df"
   ]
  },
  {
   "cell_type": "raw",
   "id": "61c38fe3-2111-466f-aff7-a09058ffab42",
   "metadata": {},
   "source": [
    "5️⃣ Remove currency symbols from salary and convert to numbers"
   ]
  },
  {
   "cell_type": "code",
   "execution_count": 367,
   "id": "97338676-8be7-4ca4-9a3f-20a0b259e557",
   "metadata": {},
   "outputs": [],
   "source": [
    "df[\"Salary\"] = df[\"Salary\"].str.replace(r\"[\\$€£₹,]\", \"\", regex=True).astype(float)"
   ]
  },
  {
   "cell_type": "code",
   "execution_count": 368,
   "id": "fbb58720-9ba1-41a8-8a10-72045592a677",
   "metadata": {},
   "outputs": [
    {
     "data": {
      "text/html": [
       "<div>\n",
       "<style scoped>\n",
       "    .dataframe tbody tr th:only-of-type {\n",
       "        vertical-align: middle;\n",
       "    }\n",
       "\n",
       "    .dataframe tbody tr th {\n",
       "        vertical-align: top;\n",
       "    }\n",
       "\n",
       "    .dataframe thead th {\n",
       "        text-align: right;\n",
       "    }\n",
       "</style>\n",
       "<table border=\"1\" class=\"dataframe\">\n",
       "  <thead>\n",
       "    <tr style=\"text-align: right;\">\n",
       "      <th></th>\n",
       "      <th>Full Name</th>\n",
       "      <th>Email</th>\n",
       "      <th>Phone</th>\n",
       "      <th>Address</th>\n",
       "      <th>Salary</th>\n",
       "      <th>Domain</th>\n",
       "      <th>Country Code</th>\n",
       "      <th>Currency</th>\n",
       "    </tr>\n",
       "  </thead>\n",
       "  <tbody>\n",
       "    <tr>\n",
       "      <th>0</th>\n",
       "      <td>Alice Johnson</td>\n",
       "      <td>alice_1995@email.com</td>\n",
       "      <td>123-456-7890</td>\n",
       "      <td>123 Baker St, NY, USA</td>\n",
       "      <td>50000.0</td>\n",
       "      <td>email.com</td>\n",
       "      <td>123</td>\n",
       "      <td>$</td>\n",
       "    </tr>\n",
       "    <tr>\n",
       "      <th>1</th>\n",
       "      <td>Bob Smith</td>\n",
       "      <td>bob.smith@email.co.uk</td>\n",
       "      <td>198-765-43210</td>\n",
       "      <td>456 Oak Ave, London, UK</td>\n",
       "      <td>75500.0</td>\n",
       "      <td>email.co.uk</td>\n",
       "      <td>198</td>\n",
       "      <td>$</td>\n",
       "    </tr>\n",
       "    <tr>\n",
       "      <th>2</th>\n",
       "      <td>Charlie Brown</td>\n",
       "      <td>charlie123@email.net</td>\n",
       "      <td>555-888-9999</td>\n",
       "      <td>789 Pine Rd, TX, USA</td>\n",
       "      <td>60000.0</td>\n",
       "      <td>email.net</td>\n",
       "      <td>555</td>\n",
       "      <td>€</td>\n",
       "    </tr>\n",
       "    <tr>\n",
       "      <th>3</th>\n",
       "      <td>David Williams</td>\n",
       "      <td>david.w@email.com</td>\n",
       "      <td>442-079-460958</td>\n",
       "      <td>101 Maple Dr, Toronto, CA</td>\n",
       "      <td>80000.0</td>\n",
       "      <td>email.com</td>\n",
       "      <td>442</td>\n",
       "      <td>£</td>\n",
       "    </tr>\n",
       "    <tr>\n",
       "      <th>4</th>\n",
       "      <td>Emma Wilson</td>\n",
       "      <td>emma_wilson@email.org</td>\n",
       "      <td>222-333-4444</td>\n",
       "      <td>55 Elm St, Sydney, AU</td>\n",
       "      <td>90000.0</td>\n",
       "      <td>email.org</td>\n",
       "      <td>222</td>\n",
       "      <td>$</td>\n",
       "    </tr>\n",
       "    <tr>\n",
       "      <th>5</th>\n",
       "      <td>Franklin Harris</td>\n",
       "      <td>frank.harris@email.com</td>\n",
       "      <td>666-777-8888</td>\n",
       "      <td>999 Cedar Blvd, NY, USA</td>\n",
       "      <td>72300.0</td>\n",
       "      <td>email.com</td>\n",
       "      <td>666</td>\n",
       "      <td>€</td>\n",
       "    </tr>\n",
       "    <tr>\n",
       "      <th>6</th>\n",
       "      <td>Grace Lee</td>\n",
       "      <td>gracelee@email.net</td>\n",
       "      <td>919-876-543210</td>\n",
       "      <td>10 Kings Way, Mumbai, IN</td>\n",
       "      <td>1200000.0</td>\n",
       "      <td>email.net</td>\n",
       "      <td>919</td>\n",
       "      <td>₹</td>\n",
       "    </tr>\n",
       "    <tr>\n",
       "      <th>7</th>\n",
       "      <td>Hannah Clark</td>\n",
       "      <td>hannah_c@email.com</td>\n",
       "      <td>111-222-3333</td>\n",
       "      <td>777 Queen St, Vancouver, CA</td>\n",
       "      <td>45000.0</td>\n",
       "      <td>email.com</td>\n",
       "      <td>111</td>\n",
       "      <td>$</td>\n",
       "    </tr>\n",
       "  </tbody>\n",
       "</table>\n",
       "</div>"
      ],
      "text/plain": [
       "         Full Name                   Email           Phone  \\\n",
       "0    Alice Johnson    alice_1995@email.com    123-456-7890   \n",
       "1        Bob Smith   bob.smith@email.co.uk   198-765-43210   \n",
       "2    Charlie Brown    charlie123@email.net    555-888-9999   \n",
       "3   David Williams       david.w@email.com  442-079-460958   \n",
       "4      Emma Wilson   emma_wilson@email.org    222-333-4444   \n",
       "5  Franklin Harris  frank.harris@email.com    666-777-8888   \n",
       "6        Grace Lee      gracelee@email.net  919-876-543210   \n",
       "7     Hannah Clark      hannah_c@email.com    111-222-3333   \n",
       "\n",
       "                       Address     Salary       Domain Country Code Currency  \n",
       "0        123 Baker St, NY, USA    50000.0    email.com          123        $  \n",
       "1      456 Oak Ave, London, UK    75500.0  email.co.uk          198        $  \n",
       "2         789 Pine Rd, TX, USA    60000.0    email.net          555        €  \n",
       "3    101 Maple Dr, Toronto, CA    80000.0    email.com          442        £  \n",
       "4        55 Elm St, Sydney, AU    90000.0    email.org          222        $  \n",
       "5      999 Cedar Blvd, NY, USA    72300.0    email.com          666        €  \n",
       "6     10 Kings Way, Mumbai, IN  1200000.0    email.net          919        ₹  \n",
       "7  777 Queen St, Vancouver, CA    45000.0    email.com          111        $  "
      ]
     },
     "execution_count": 368,
     "metadata": {},
     "output_type": "execute_result"
    }
   ],
   "source": [
    "df"
   ]
  },
  {
   "cell_type": "raw",
   "id": "2c9432f8-7ca5-4fbc-b59d-6b9dc9444925",
   "metadata": {},
   "source": [
    "6️⃣ Replace country abbreviations with full names in addresses"
   ]
  },
  {
   "cell_type": "code",
   "execution_count": 369,
   "id": "1e721e5b-03c8-4260-9781-65a95b102803",
   "metadata": {},
   "outputs": [],
   "source": [
    "df[\"Address\"] = df[\"Address\"].replace({\n",
    "    \"NY, USA\": \"New York, USA\",\n",
    "    \"TX, USA\": \"Texas, USA\",\n",
    "    \"London, UK\": \"London, United Kingdom\",\n",
    "    \"Toronto, CA\": \"Toronto, Canada\",\n",
    "    \"Sydney, AU\": \"Sydney, Australia\",\n",
    "    \"Mumbai, IN\": \"Mumbai, India\",\n",
    "    \"Vancouver, CA\": \"Vancouver, Canada\"\n",
    "}, regex=True)\n"
   ]
  },
  {
   "cell_type": "code",
   "execution_count": 370,
   "id": "b4a18e54-4873-4ac6-8691-a615677efd9a",
   "metadata": {},
   "outputs": [
    {
     "name": "stdout",
     "output_type": "stream",
     "text": [
      "         Full Name                   Email           Phone  \\\n",
      "0    Alice Johnson    alice_1995@email.com    123-456-7890   \n",
      "1        Bob Smith   bob.smith@email.co.uk   198-765-43210   \n",
      "2    Charlie Brown    charlie123@email.net    555-888-9999   \n",
      "3   David Williams       david.w@email.com  442-079-460958   \n",
      "4      Emma Wilson   emma_wilson@email.org    222-333-4444   \n",
      "5  Franklin Harris  frank.harris@email.com    666-777-8888   \n",
      "6        Grace Lee      gracelee@email.net  919-876-543210   \n",
      "7     Hannah Clark      hannah_c@email.com    111-222-3333   \n",
      "\n",
      "                               Address     Salary       Domain Country Code  \\\n",
      "0          123 Baker St, New York, USA    50000.0    email.com          123   \n",
      "1  456 Oak Ave, London, United Kingdom    75500.0  email.co.uk          198   \n",
      "2              789 Pine Rd, Texas, USA    60000.0    email.net          555   \n",
      "3        101 Maple Dr, Toronto, Canada    80000.0    email.com          442   \n",
      "4         55 Elm St, Sydney, Australia    90000.0    email.org          222   \n",
      "5        999 Cedar Blvd, New York, USA    72300.0    email.com          666   \n",
      "6          10 Kings Way, Mumbai, India  1200000.0    email.net          919   \n",
      "7      777 Queen St, Vancouver, Canada    45000.0    email.com          111   \n",
      "\n",
      "  Currency  \n",
      "0        $  \n",
      "1        $  \n",
      "2        €  \n",
      "3        £  \n",
      "4        $  \n",
      "5        €  \n",
      "6        ₹  \n",
      "7        $  \n"
     ]
    }
   ],
   "source": [
    "print(df)"
   ]
  },
  {
   "cell_type": "code",
   "execution_count": null,
   "id": "9df6b543-b139-4f74-a20f-bc43c2245e66",
   "metadata": {},
   "outputs": [],
   "source": []
  },
  {
   "cell_type": "code",
   "execution_count": null,
   "id": "26c4a2e6-2587-4cac-9503-5fec199ba9c7",
   "metadata": {},
   "outputs": [],
   "source": []
  },
  {
   "cell_type": "markdown",
   "id": "f7ca82c4-69e8-467e-bd92-ae95bd146a71",
   "metadata": {},
   "source": [
    "# 7.5 Categorical Data"
   ]
  },
  {
   "cell_type": "raw",
   "id": "ce0043e8-2c54-45f8-993c-a346b8fc243e",
   "metadata": {},
   "source": [
    "Categorical data in Pandas is a data type that is especially useful for representing variables that take on a limited, and usually fixed, number of possible values—often called categories. Using categorical data can lead to significant performance improvements in terms of memory usage and computational speed, especially when the column contains many repeated values. Additionally, categorical data can enforce data consistency and order when needed."
   ]
  },
  {
   "cell_type": "code",
   "execution_count": 371,
   "id": "bd704e1c-3394-4b31-82b4-0d42d59c73d7",
   "metadata": {},
   "outputs": [],
   "source": [
    "# let's take repeated values of a smaller data set\n",
    "values = pd.Series(['apple', 'apple', 'mango'] * 3)"
   ]
  },
  {
   "cell_type": "code",
   "execution_count": 372,
   "id": "f3754b1a-7851-4959-b24c-1ca327a1278f",
   "metadata": {},
   "outputs": [
    {
     "data": {
      "text/plain": [
       "0    apple\n",
       "1    apple\n",
       "2    mango\n",
       "3    apple\n",
       "4    apple\n",
       "5    mango\n",
       "6    apple\n",
       "7    apple\n",
       "8    mango\n",
       "dtype: object"
      ]
     },
     "execution_count": 372,
     "metadata": {},
     "output_type": "execute_result"
    }
   ],
   "source": [
    "values"
   ]
  },
  {
   "cell_type": "code",
   "execution_count": 373,
   "id": "33256ce9-1388-49fa-8c13-8d7942f5c06f",
   "metadata": {},
   "outputs": [
    {
     "data": {
      "text/plain": [
       "array(['apple', 'mango'], dtype=object)"
      ]
     },
     "execution_count": 373,
     "metadata": {},
     "output_type": "execute_result"
    }
   ],
   "source": [
    "# unique values\n",
    "values.unique()"
   ]
  },
  {
   "cell_type": "code",
   "execution_count": 374,
   "id": "c7880bb8-438d-4b7c-ace1-d198472db585",
   "metadata": {},
   "outputs": [
    {
     "data": {
      "text/plain": [
       "apple    6\n",
       "mango    3\n",
       "Name: count, dtype: int64"
      ]
     },
     "execution_count": 374,
     "metadata": {},
     "output_type": "execute_result"
    }
   ],
   "source": [
    "# counting each occurence\n",
    "values.value_counts()"
   ]
  },
  {
   "cell_type": "raw",
   "id": "a772e550-a073-46c1-9669-f77dd8f00aa6",
   "metadata": {},
   "source": [
    "Many data systems (for data warehousing, statistical computing, or other uses) have developed specialized approaches for representing data with repeated values for more efficient storage and computation. In data warehousing, a best practice is to use so-called dimension tables containing the distinct values and storing the primary observations as integer keys referencing the dimension table:"
   ]
  },
  {
   "cell_type": "code",
   "execution_count": 375,
   "id": "477043d0-9538-4eb2-928d-325ccb6ff9a7",
   "metadata": {},
   "outputs": [],
   "source": [
    "values = pd.Series([0, 0, 1] * 3)"
   ]
  },
  {
   "cell_type": "code",
   "execution_count": 376,
   "id": "effdae01-b576-484a-bfc7-45fbc3f83aa8",
   "metadata": {},
   "outputs": [
    {
     "name": "stdout",
     "output_type": "stream",
     "text": [
      "0    0\n",
      "1    0\n",
      "2    1\n",
      "3    0\n",
      "4    0\n",
      "5    1\n",
      "6    0\n",
      "7    0\n",
      "8    1\n",
      "dtype: int64\n"
     ]
    }
   ],
   "source": [
    "print(values)"
   ]
  },
  {
   "cell_type": "code",
   "execution_count": 377,
   "id": "0864333c-f9e8-4b83-a2d9-f1a571311161",
   "metadata": {},
   "outputs": [],
   "source": [
    "dim = pd.Series(['apple', 'mango'])"
   ]
  },
  {
   "cell_type": "code",
   "execution_count": 378,
   "id": "e087201f-dece-42a9-bed5-faf398488f81",
   "metadata": {},
   "outputs": [
    {
     "name": "stdout",
     "output_type": "stream",
     "text": [
      "0    apple\n",
      "1    mango\n",
      "dtype: object\n"
     ]
    }
   ],
   "source": [
    "print(dim)"
   ]
  },
  {
   "cell_type": "code",
   "execution_count": 379,
   "id": "923c24d6-7359-4892-a3ee-656909185c73",
   "metadata": {},
   "outputs": [
    {
     "data": {
      "text/plain": [
       "0    apple\n",
       "0    apple\n",
       "1    mango\n",
       "0    apple\n",
       "0    apple\n",
       "1    mango\n",
       "0    apple\n",
       "0    apple\n",
       "1    mango\n",
       "dtype: object"
      ]
     },
     "execution_count": 379,
     "metadata": {},
     "output_type": "execute_result"
    }
   ],
   "source": [
    "# We can use the take method to restore the original Series of strings\n",
    "dim.take(values)"
   ]
  },
  {
   "cell_type": "raw",
   "id": "41876060-9b91-46e9-a755-52a1899ae981",
   "metadata": {},
   "source": [
    "What Is Categorical Data?\n",
    "\n",
    "Categorical data represents variables that have a fixed set of possible values. For example, the following are common categorical variables:\n",
    "\n",
    "    Gender: [\"Male\", \"Female\", \"Other\"]\n",
    "    Status: [\"New\", \"In Progress\", \"Completed\"]\n",
    "    Color: [\"Red\", \"Green\", \"Blue\"]\n",
    "    Department: [\"Sales\", \"IT\", \"HR\", \"Marketing\"]\n",
    "Key Characteristics:\n",
    "Limited set of unique values: Unlike free-form text or continuous numeric data, categorical data is restricted to a known set of values.\n",
    "Memory and Performance: Storing these values as a categorical type can be much more efficient than storing them as objects (strings), especially when many rows share the same category.\n",
    "Ordering: Categorical data can be either unordered (nominal) or ordered (ordinal). For example, the days of the week or \n",
    "ratings such as [\"Low\", \"Medium\", \"High\"] have an inherent order."
   ]
  },
  {
   "cell_type": "markdown",
   "id": "79e30540-3cb7-434d-a13f-b194ef06c70e",
   "metadata": {},
   "source": [
    "### Caregorical extension type"
   ]
  },
  {
   "cell_type": "raw",
   "id": "090bb010-fb58-48bd-a3b3-fe99ba1e2cf2",
   "metadata": {},
   "source": [
    "Pandas’ Categorical Extension Type is a specialized data type designed to efficiently represent variables that take on a limited number of discrete values. It provides several benefits—from reducing memory usage and improving performance to enabling meaningful ordering and comparisons for ordinal data."
   ]
  },
  {
   "cell_type": "raw",
   "id": "6dc6756d-112e-42ed-8c86-f22a8c4a713e",
   "metadata": {},
   "source": [
    "What Is the Categorical Extension Type?\n",
    "Categorical data in Pandas is implemented via the Categorical class (and the CategoricalDtype type) and is part of the broader ExtensionArray API. When you convert a column to a categorical type, Pandas stores the data in two parts:\n",
    "\n",
    "Codes: An array of integer codes representing each observation.\n",
    "Categories: A list (or array) of the unique category values."
   ]
  },
  {
   "cell_type": "code",
   "execution_count": 380,
   "id": "6303b33b-2953-4bfb-b024-f1dfbea6ff08",
   "metadata": {},
   "outputs": [],
   "source": [
    "# for example\n",
    "colors = pd.Series([\"Red\", \"Blue\", \"Red\", \"Green\", \"Blue\", \"Red\"])"
   ]
  },
  {
   "cell_type": "code",
   "execution_count": 381,
   "id": "d2f372d4-100d-46a9-bd87-5177f273491e",
   "metadata": {},
   "outputs": [
    {
     "data": {
      "text/plain": [
       "0      Red\n",
       "1     Blue\n",
       "2      Red\n",
       "3    Green\n",
       "4     Blue\n",
       "5      Red\n",
       "dtype: object"
      ]
     },
     "execution_count": 381,
     "metadata": {},
     "output_type": "execute_result"
    }
   ],
   "source": [
    "colors"
   ]
  },
  {
   "cell_type": "code",
   "execution_count": 382,
   "id": "64bba481-2995-49b7-9944-fc259cb4a07a",
   "metadata": {},
   "outputs": [],
   "source": [
    "# let's change its data type to \"category\"\n",
    "cat_colors = colors.astype(\"category\")"
   ]
  },
  {
   "cell_type": "code",
   "execution_count": 383,
   "id": "049068ce-21d8-43f5-89f0-80710e2f3cef",
   "metadata": {},
   "outputs": [
    {
     "data": {
      "text/plain": [
       "0      Red\n",
       "1     Blue\n",
       "2      Red\n",
       "3    Green\n",
       "4     Blue\n",
       "5      Red\n",
       "dtype: category\n",
       "Categories (3, object): ['Blue', 'Green', 'Red']"
      ]
     },
     "execution_count": 383,
     "metadata": {},
     "output_type": "execute_result"
    }
   ],
   "source": [
    "cat_colors"
   ]
  },
  {
   "cell_type": "raw",
   "id": "3989a5e2-8d3c-4bf1-a0de-505c6ddd8b8a",
   "metadata": {},
   "source": [
    "A codes array such as [2, 0, 2, 1, 0, 2] (the actual codes depend on the order of categories),\n",
    "And a categories list such as [\"Blue\", \"Green\", \"Red\"]."
   ]
  },
  {
   "cell_type": "code",
   "execution_count": 384,
   "id": "609c1d08-71f0-4783-9752-4fa504fa6220",
   "metadata": {},
   "outputs": [],
   "source": [
    "color = [\"Red\", \"Blue\", \"Red\", \"Green\", \"Blue\", \"Red\"] * 2"
   ]
  },
  {
   "cell_type": "code",
   "execution_count": 385,
   "id": "76c76d84-cbc6-4a0a-9eda-5bf6afef7959",
   "metadata": {},
   "outputs": [],
   "source": [
    "n = len(color)"
   ]
  },
  {
   "cell_type": "code",
   "execution_count": 386,
   "id": "d5c58312-e596-4325-a520-5e10b1081459",
   "metadata": {},
   "outputs": [],
   "source": [
    "rng = np.random.default_rng(seed = 321)"
   ]
  },
  {
   "cell_type": "code",
   "execution_count": 387,
   "id": "bde3683f-1a8a-4f81-a419-3509ab95c1d0",
   "metadata": {},
   "outputs": [],
   "source": [
    "df = pd.DataFrame({'Color': color,\n",
    "                 'bucket_id': np.arange(n), \n",
    "                  'count': rng.integers(5, 20, size = n),\n",
    "                  'volume': rng.uniform(0, 4, size = n)},\n",
    "                 columns = ['bucket_id', 'Color', 'count', 'volume'])"
   ]
  },
  {
   "cell_type": "code",
   "execution_count": 388,
   "id": "9225da58-5ae4-446f-a654-a6181ef58233",
   "metadata": {},
   "outputs": [
    {
     "data": {
      "text/html": [
       "<div>\n",
       "<style scoped>\n",
       "    .dataframe tbody tr th:only-of-type {\n",
       "        vertical-align: middle;\n",
       "    }\n",
       "\n",
       "    .dataframe tbody tr th {\n",
       "        vertical-align: top;\n",
       "    }\n",
       "\n",
       "    .dataframe thead th {\n",
       "        text-align: right;\n",
       "    }\n",
       "</style>\n",
       "<table border=\"1\" class=\"dataframe\">\n",
       "  <thead>\n",
       "    <tr style=\"text-align: right;\">\n",
       "      <th></th>\n",
       "      <th>bucket_id</th>\n",
       "      <th>Color</th>\n",
       "      <th>count</th>\n",
       "      <th>volume</th>\n",
       "    </tr>\n",
       "  </thead>\n",
       "  <tbody>\n",
       "    <tr>\n",
       "      <th>0</th>\n",
       "      <td>0</td>\n",
       "      <td>Red</td>\n",
       "      <td>10</td>\n",
       "      <td>2.731922</td>\n",
       "    </tr>\n",
       "    <tr>\n",
       "      <th>1</th>\n",
       "      <td>1</td>\n",
       "      <td>Blue</td>\n",
       "      <td>14</td>\n",
       "      <td>0.751767</td>\n",
       "    </tr>\n",
       "    <tr>\n",
       "      <th>2</th>\n",
       "      <td>2</td>\n",
       "      <td>Red</td>\n",
       "      <td>6</td>\n",
       "      <td>1.469566</td>\n",
       "    </tr>\n",
       "    <tr>\n",
       "      <th>3</th>\n",
       "      <td>3</td>\n",
       "      <td>Green</td>\n",
       "      <td>18</td>\n",
       "      <td>3.847820</td>\n",
       "    </tr>\n",
       "    <tr>\n",
       "      <th>4</th>\n",
       "      <td>4</td>\n",
       "      <td>Blue</td>\n",
       "      <td>14</td>\n",
       "      <td>3.833262</td>\n",
       "    </tr>\n",
       "    <tr>\n",
       "      <th>5</th>\n",
       "      <td>5</td>\n",
       "      <td>Red</td>\n",
       "      <td>12</td>\n",
       "      <td>1.538547</td>\n",
       "    </tr>\n",
       "    <tr>\n",
       "      <th>6</th>\n",
       "      <td>6</td>\n",
       "      <td>Red</td>\n",
       "      <td>10</td>\n",
       "      <td>3.099550</td>\n",
       "    </tr>\n",
       "    <tr>\n",
       "      <th>7</th>\n",
       "      <td>7</td>\n",
       "      <td>Blue</td>\n",
       "      <td>15</td>\n",
       "      <td>1.628620</td>\n",
       "    </tr>\n",
       "    <tr>\n",
       "      <th>8</th>\n",
       "      <td>8</td>\n",
       "      <td>Red</td>\n",
       "      <td>12</td>\n",
       "      <td>3.568198</td>\n",
       "    </tr>\n",
       "    <tr>\n",
       "      <th>9</th>\n",
       "      <td>9</td>\n",
       "      <td>Green</td>\n",
       "      <td>13</td>\n",
       "      <td>3.604558</td>\n",
       "    </tr>\n",
       "    <tr>\n",
       "      <th>10</th>\n",
       "      <td>10</td>\n",
       "      <td>Blue</td>\n",
       "      <td>12</td>\n",
       "      <td>0.646893</td>\n",
       "    </tr>\n",
       "    <tr>\n",
       "      <th>11</th>\n",
       "      <td>11</td>\n",
       "      <td>Red</td>\n",
       "      <td>18</td>\n",
       "      <td>3.692454</td>\n",
       "    </tr>\n",
       "  </tbody>\n",
       "</table>\n",
       "</div>"
      ],
      "text/plain": [
       "    bucket_id  Color  count    volume\n",
       "0           0    Red     10  2.731922\n",
       "1           1   Blue     14  0.751767\n",
       "2           2    Red      6  1.469566\n",
       "3           3  Green     18  3.847820\n",
       "4           4   Blue     14  3.833262\n",
       "5           5    Red     12  1.538547\n",
       "6           6    Red     10  3.099550\n",
       "7           7   Blue     15  1.628620\n",
       "8           8    Red     12  3.568198\n",
       "9           9  Green     13  3.604558\n",
       "10         10   Blue     12  0.646893\n",
       "11         11    Red     18  3.692454"
      ]
     },
     "execution_count": 388,
     "metadata": {},
     "output_type": "execute_result"
    }
   ],
   "source": [
    "df"
   ]
  },
  {
   "cell_type": "raw",
   "id": "a2204611-bfe9-49f6-8fa7-a066f5a13e67",
   "metadata": {},
   "source": [
    "Here, df['Color'] is an array of Python string objects. We can convert it to categorical by calling"
   ]
  },
  {
   "cell_type": "code",
   "execution_count": 389,
   "id": "2293c545-09a1-4e26-b0b7-abc8934f4637",
   "metadata": {},
   "outputs": [
    {
     "data": {
      "text/plain": [
       "dtype('O')"
      ]
     },
     "execution_count": 389,
     "metadata": {},
     "output_type": "execute_result"
    }
   ],
   "source": [
    "df['Color'].dtype"
   ]
  },
  {
   "cell_type": "code",
   "execution_count": 390,
   "id": "b3212fa7-44cb-41da-af27-1263a9ec877e",
   "metadata": {},
   "outputs": [],
   "source": [
    "color_cat = df['Color'].astype('category')"
   ]
  },
  {
   "cell_type": "code",
   "execution_count": 391,
   "id": "bd564239-16f7-48ab-8703-0807fe22c46e",
   "metadata": {},
   "outputs": [
    {
     "data": {
      "text/plain": [
       "0       Red\n",
       "1      Blue\n",
       "2       Red\n",
       "3     Green\n",
       "4      Blue\n",
       "5       Red\n",
       "6       Red\n",
       "7      Blue\n",
       "8       Red\n",
       "9     Green\n",
       "10     Blue\n",
       "11      Red\n",
       "Name: Color, dtype: category\n",
       "Categories (3, object): ['Blue', 'Green', 'Red']"
      ]
     },
     "execution_count": 391,
     "metadata": {},
     "output_type": "execute_result"
    }
   ],
   "source": [
    "color_cat"
   ]
  },
  {
   "cell_type": "raw",
   "id": "433cd1b6-7df7-42a3-b1a5-7be8a4758d85",
   "metadata": {},
   "source": [
    "The values for color_cat are now an instance of pandas.Categorical, which you can access via the .array attribute"
   ]
  },
  {
   "cell_type": "code",
   "execution_count": 392,
   "id": "daab270f-a7ed-478a-9ee9-1a93b7feaa31",
   "metadata": {},
   "outputs": [],
   "source": [
    "c = color_cat.array"
   ]
  },
  {
   "cell_type": "code",
   "execution_count": 393,
   "id": "730cf0b2-d608-4973-a248-1e04a25726f1",
   "metadata": {},
   "outputs": [
    {
     "data": {
      "text/plain": [
       "pandas.core.arrays.categorical.Categorical"
      ]
     },
     "execution_count": 393,
     "metadata": {},
     "output_type": "execute_result"
    }
   ],
   "source": [
    "type(c)"
   ]
  },
  {
   "cell_type": "raw",
   "id": "808980bc-eb13-4be6-85d2-6b2cbb12c189",
   "metadata": {},
   "source": [
    "The Categorical object has categories and codes attributes:"
   ]
  },
  {
   "cell_type": "code",
   "execution_count": 394,
   "id": "02c915ab-bcf8-48eb-9605-fd66e57d0894",
   "metadata": {},
   "outputs": [
    {
     "data": {
      "text/plain": [
       "Index(['Blue', 'Green', 'Red'], dtype='object')"
      ]
     },
     "execution_count": 394,
     "metadata": {},
     "output_type": "execute_result"
    }
   ],
   "source": [
    "c.categories"
   ]
  },
  {
   "cell_type": "code",
   "execution_count": 395,
   "id": "c50d6721-f4a0-40ff-9b91-a9dce734fd1f",
   "metadata": {},
   "outputs": [
    {
     "data": {
      "text/plain": [
       "array([2, 0, 2, 1, 0, 2, 2, 0, 2, 1, 0, 2], dtype=int8)"
      ]
     },
     "execution_count": 395,
     "metadata": {},
     "output_type": "execute_result"
    }
   ],
   "source": [
    "c.codes"
   ]
  },
  {
   "cell_type": "raw",
   "id": "83398f6b-e6b8-4949-a671-4ba98a383c17",
   "metadata": {},
   "source": [
    "A useful trick to get a mapping between codes and categories is"
   ]
  },
  {
   "cell_type": "code",
   "execution_count": 396,
   "id": "c225fd9b-f0a0-416f-88a4-ab7b604fce4a",
   "metadata": {},
   "outputs": [
    {
     "data": {
      "text/plain": [
       "{0: 'Blue', 1: 'Green', 2: 'Red'}"
      ]
     },
     "execution_count": 396,
     "metadata": {},
     "output_type": "execute_result"
    }
   ],
   "source": [
    "dict(enumerate(c.categories))"
   ]
  },
  {
   "cell_type": "raw",
   "id": "86aaa76b-c1c4-4b41-9298-3d3fad8f4cc8",
   "metadata": {},
   "source": [
    " You can convert a DataFrame column to categorical by assigning the converted result:"
   ]
  },
  {
   "cell_type": "code",
   "execution_count": 397,
   "id": "fc947db5-192e-4ae6-a7b8-2f6f32b51c75",
   "metadata": {},
   "outputs": [],
   "source": [
    "df['Color'] = df['Color'].astype('category')"
   ]
  },
  {
   "cell_type": "code",
   "execution_count": 398,
   "id": "076902d5-0ec0-4878-a2dd-68cd2c73a9f6",
   "metadata": {},
   "outputs": [
    {
     "data": {
      "text/html": [
       "<div>\n",
       "<style scoped>\n",
       "    .dataframe tbody tr th:only-of-type {\n",
       "        vertical-align: middle;\n",
       "    }\n",
       "\n",
       "    .dataframe tbody tr th {\n",
       "        vertical-align: top;\n",
       "    }\n",
       "\n",
       "    .dataframe thead th {\n",
       "        text-align: right;\n",
       "    }\n",
       "</style>\n",
       "<table border=\"1\" class=\"dataframe\">\n",
       "  <thead>\n",
       "    <tr style=\"text-align: right;\">\n",
       "      <th></th>\n",
       "      <th>bucket_id</th>\n",
       "      <th>Color</th>\n",
       "      <th>count</th>\n",
       "      <th>volume</th>\n",
       "    </tr>\n",
       "  </thead>\n",
       "  <tbody>\n",
       "    <tr>\n",
       "      <th>0</th>\n",
       "      <td>0</td>\n",
       "      <td>Red</td>\n",
       "      <td>10</td>\n",
       "      <td>2.731922</td>\n",
       "    </tr>\n",
       "    <tr>\n",
       "      <th>1</th>\n",
       "      <td>1</td>\n",
       "      <td>Blue</td>\n",
       "      <td>14</td>\n",
       "      <td>0.751767</td>\n",
       "    </tr>\n",
       "    <tr>\n",
       "      <th>2</th>\n",
       "      <td>2</td>\n",
       "      <td>Red</td>\n",
       "      <td>6</td>\n",
       "      <td>1.469566</td>\n",
       "    </tr>\n",
       "    <tr>\n",
       "      <th>3</th>\n",
       "      <td>3</td>\n",
       "      <td>Green</td>\n",
       "      <td>18</td>\n",
       "      <td>3.847820</td>\n",
       "    </tr>\n",
       "    <tr>\n",
       "      <th>4</th>\n",
       "      <td>4</td>\n",
       "      <td>Blue</td>\n",
       "      <td>14</td>\n",
       "      <td>3.833262</td>\n",
       "    </tr>\n",
       "    <tr>\n",
       "      <th>5</th>\n",
       "      <td>5</td>\n",
       "      <td>Red</td>\n",
       "      <td>12</td>\n",
       "      <td>1.538547</td>\n",
       "    </tr>\n",
       "    <tr>\n",
       "      <th>6</th>\n",
       "      <td>6</td>\n",
       "      <td>Red</td>\n",
       "      <td>10</td>\n",
       "      <td>3.099550</td>\n",
       "    </tr>\n",
       "    <tr>\n",
       "      <th>7</th>\n",
       "      <td>7</td>\n",
       "      <td>Blue</td>\n",
       "      <td>15</td>\n",
       "      <td>1.628620</td>\n",
       "    </tr>\n",
       "    <tr>\n",
       "      <th>8</th>\n",
       "      <td>8</td>\n",
       "      <td>Red</td>\n",
       "      <td>12</td>\n",
       "      <td>3.568198</td>\n",
       "    </tr>\n",
       "    <tr>\n",
       "      <th>9</th>\n",
       "      <td>9</td>\n",
       "      <td>Green</td>\n",
       "      <td>13</td>\n",
       "      <td>3.604558</td>\n",
       "    </tr>\n",
       "    <tr>\n",
       "      <th>10</th>\n",
       "      <td>10</td>\n",
       "      <td>Blue</td>\n",
       "      <td>12</td>\n",
       "      <td>0.646893</td>\n",
       "    </tr>\n",
       "    <tr>\n",
       "      <th>11</th>\n",
       "      <td>11</td>\n",
       "      <td>Red</td>\n",
       "      <td>18</td>\n",
       "      <td>3.692454</td>\n",
       "    </tr>\n",
       "  </tbody>\n",
       "</table>\n",
       "</div>"
      ],
      "text/plain": [
       "    bucket_id  Color  count    volume\n",
       "0           0    Red     10  2.731922\n",
       "1           1   Blue     14  0.751767\n",
       "2           2    Red      6  1.469566\n",
       "3           3  Green     18  3.847820\n",
       "4           4   Blue     14  3.833262\n",
       "5           5    Red     12  1.538547\n",
       "6           6    Red     10  3.099550\n",
       "7           7   Blue     15  1.628620\n",
       "8           8    Red     12  3.568198\n",
       "9           9  Green     13  3.604558\n",
       "10         10   Blue     12  0.646893\n",
       "11         11    Red     18  3.692454"
      ]
     },
     "execution_count": 398,
     "metadata": {},
     "output_type": "execute_result"
    }
   ],
   "source": [
    "df"
   ]
  },
  {
   "cell_type": "raw",
   "id": "4e510836-0a01-48ce-a0ef-e5ddf4980682",
   "metadata": {},
   "source": [
    "Creating a Categorical Directly\n",
    "If you want more control—for example, to set an order—you can use pd.Categorical:"
   ]
  },
  {
   "cell_type": "code",
   "execution_count": 399,
   "id": "80db0f34-c04a-45a4-ac8e-a6a1bc31e6fb",
   "metadata": {},
   "outputs": [],
   "source": [
    "fruit = pd.Categorical(['apple', 'mango', 'apple', 'orange', 'orange'],\n",
    "                       categories = ['mango', 'apple', 'orange'],\n",
    "                       ordered = True)"
   ]
  },
  {
   "cell_type": "code",
   "execution_count": 400,
   "id": "f6996e29-1401-4cac-92f9-b8cb7f7041f4",
   "metadata": {},
   "outputs": [
    {
     "data": {
      "text/plain": [
       "['apple', 'mango', 'apple', 'orange', 'orange']\n",
       "Categories (3, object): ['mango' < 'apple' < 'orange']"
      ]
     },
     "execution_count": 400,
     "metadata": {},
     "output_type": "execute_result"
    }
   ],
   "source": [
    "fruit"
   ]
  },
  {
   "cell_type": "raw",
   "id": "a158ea4c-4cfb-42c9-8505-fea8df474c72",
   "metadata": {},
   "source": [
    "If you have obtained categorical encoded data from another source, you can use the alternative from_codes constructor:"
   ]
  },
  {
   "cell_type": "code",
   "execution_count": 401,
   "id": "343a3405-1aa2-40d3-9199-9fb0e2d5d28e",
   "metadata": {},
   "outputs": [],
   "source": [
    "categories = ['foo', 'bar', 'baz']"
   ]
  },
  {
   "cell_type": "code",
   "execution_count": 402,
   "id": "604c70a2-13a4-4923-b4bb-4483451b2019",
   "metadata": {},
   "outputs": [],
   "source": [
    "codes = [0, 1, 2, 0, 0, 1]"
   ]
  },
  {
   "cell_type": "code",
   "execution_count": 403,
   "id": "a23164f7-372c-4e08-ba75-c168cec59e1d",
   "metadata": {},
   "outputs": [],
   "source": [
    "my_cats = pd.Categorical.from_codes(codes, categories, ordered = True)"
   ]
  },
  {
   "cell_type": "code",
   "execution_count": 404,
   "id": "baaaa13a-ae44-4f08-9f8c-650278c9b659",
   "metadata": {},
   "outputs": [
    {
     "data": {
      "text/plain": [
       "['foo', 'bar', 'baz', 'foo', 'foo', 'bar']\n",
       "Categories (3, object): ['foo' < 'bar' < 'baz']"
      ]
     },
     "execution_count": 404,
     "metadata": {},
     "output_type": "execute_result"
    }
   ],
   "source": [
    "my_cats"
   ]
  },
  {
   "cell_type": "markdown",
   "id": "682881c1-48dd-4a27-a117-58fc0f7c1399",
   "metadata": {},
   "source": [
    "####  Computations with Categoricals"
   ]
  },
  {
   "cell_type": "raw",
   "id": "2b7a70c9-6b3a-4e50-bee9-56f3b5aed4e1",
   "metadata": {},
   "source": [
    "Using Categorical in pandas compared with the nonencoded version (like an array of strings) generally behaves the same way. Some parts of pandas, like the groupby function, perform better when working with categoricals. There are also some functions that can utilize the ordered flag."
   ]
  },
  {
   "cell_type": "code",
   "execution_count": 405,
   "id": "fa48bd61-f6e6-4e14-afd9-67ca3ad2ebbf",
   "metadata": {},
   "outputs": [],
   "source": [
    "# let's take example\n",
    "data = np.random.standard_normal(1000)\n",
    "df = pd.DataFrame({'draws': data})"
   ]
  },
  {
   "cell_type": "code",
   "execution_count": 406,
   "id": "9a892b66-bc1c-4662-8afe-641a2316627b",
   "metadata": {},
   "outputs": [
    {
     "data": {
      "text/html": [
       "<div>\n",
       "<style scoped>\n",
       "    .dataframe tbody tr th:only-of-type {\n",
       "        vertical-align: middle;\n",
       "    }\n",
       "\n",
       "    .dataframe tbody tr th {\n",
       "        vertical-align: top;\n",
       "    }\n",
       "\n",
       "    .dataframe thead th {\n",
       "        text-align: right;\n",
       "    }\n",
       "</style>\n",
       "<table border=\"1\" class=\"dataframe\">\n",
       "  <thead>\n",
       "    <tr style=\"text-align: right;\">\n",
       "      <th></th>\n",
       "      <th>draws</th>\n",
       "    </tr>\n",
       "  </thead>\n",
       "  <tbody>\n",
       "    <tr>\n",
       "      <th>0</th>\n",
       "      <td>-0.710262</td>\n",
       "    </tr>\n",
       "    <tr>\n",
       "      <th>1</th>\n",
       "      <td>-1.051959</td>\n",
       "    </tr>\n",
       "    <tr>\n",
       "      <th>2</th>\n",
       "      <td>0.881355</td>\n",
       "    </tr>\n",
       "    <tr>\n",
       "      <th>3</th>\n",
       "      <td>0.333216</td>\n",
       "    </tr>\n",
       "    <tr>\n",
       "      <th>4</th>\n",
       "      <td>-0.001387</td>\n",
       "    </tr>\n",
       "  </tbody>\n",
       "</table>\n",
       "</div>"
      ],
      "text/plain": [
       "      draws\n",
       "0 -0.710262\n",
       "1 -1.051959\n",
       "2  0.881355\n",
       "3  0.333216\n",
       "4 -0.001387"
      ]
     },
     "execution_count": 406,
     "metadata": {},
     "output_type": "execute_result"
    }
   ],
   "source": [
    "df.head()"
   ]
  },
  {
   "cell_type": "code",
   "execution_count": 407,
   "id": "b22dc573-2108-49d2-a899-410addbb87cb",
   "metadata": {},
   "outputs": [],
   "source": [
    "df['Quartile'] = pd.qcut(df['draws'], 4, labels = ['Q1', 'Q2', 'Q3', 'Q4'])"
   ]
  },
  {
   "cell_type": "code",
   "execution_count": 408,
   "id": "f8c24bde-427d-4fb7-abdf-1407f8845c1f",
   "metadata": {},
   "outputs": [
    {
     "data": {
      "text/html": [
       "<div>\n",
       "<style scoped>\n",
       "    .dataframe tbody tr th:only-of-type {\n",
       "        vertical-align: middle;\n",
       "    }\n",
       "\n",
       "    .dataframe tbody tr th {\n",
       "        vertical-align: top;\n",
       "    }\n",
       "\n",
       "    .dataframe thead th {\n",
       "        text-align: right;\n",
       "    }\n",
       "</style>\n",
       "<table border=\"1\" class=\"dataframe\">\n",
       "  <thead>\n",
       "    <tr style=\"text-align: right;\">\n",
       "      <th></th>\n",
       "      <th>draws</th>\n",
       "      <th>Quartile</th>\n",
       "    </tr>\n",
       "  </thead>\n",
       "  <tbody>\n",
       "    <tr>\n",
       "      <th>0</th>\n",
       "      <td>-0.710262</td>\n",
       "      <td>Q1</td>\n",
       "    </tr>\n",
       "    <tr>\n",
       "      <th>1</th>\n",
       "      <td>-1.051959</td>\n",
       "      <td>Q1</td>\n",
       "    </tr>\n",
       "    <tr>\n",
       "      <th>2</th>\n",
       "      <td>0.881355</td>\n",
       "      <td>Q4</td>\n",
       "    </tr>\n",
       "    <tr>\n",
       "      <th>3</th>\n",
       "      <td>0.333216</td>\n",
       "      <td>Q3</td>\n",
       "    </tr>\n",
       "    <tr>\n",
       "      <th>4</th>\n",
       "      <td>-0.001387</td>\n",
       "      <td>Q2</td>\n",
       "    </tr>\n",
       "  </tbody>\n",
       "</table>\n",
       "</div>"
      ],
      "text/plain": [
       "      draws Quartile\n",
       "0 -0.710262       Q1\n",
       "1 -1.051959       Q1\n",
       "2  0.881355       Q4\n",
       "3  0.333216       Q3\n",
       "4 -0.001387       Q2"
      ]
     },
     "execution_count": 408,
     "metadata": {},
     "output_type": "execute_result"
    }
   ],
   "source": [
    "df.head()"
   ]
  },
  {
   "cell_type": "code",
   "execution_count": 409,
   "id": "1d55f652-d93c-47f1-922d-6c466417ae56",
   "metadata": {},
   "outputs": [
    {
     "name": "stderr",
     "output_type": "stream",
     "text": [
      "C:\\Users\\gossa\\AppData\\Local\\Temp\\ipykernel_10436\\2313748698.py:1: FutureWarning: The default of observed=False is deprecated and will be changed to True in a future version of pandas. Pass observed=False to retain current behavior or observed=True to adopt the future default and silence this warning.\n",
      "  result = df.groupby('Quartile')['draws'].agg(['count', 'min', 'max', 'mean'])\n"
     ]
    }
   ],
   "source": [
    "result = df.groupby('Quartile')['draws'].agg(['count', 'min', 'max', 'mean'])"
   ]
  },
  {
   "cell_type": "code",
   "execution_count": 410,
   "id": "e3751650-ef69-46b5-ad23-37d625d2811c",
   "metadata": {},
   "outputs": [
    {
     "data": {
      "text/html": [
       "<div>\n",
       "<style scoped>\n",
       "    .dataframe tbody tr th:only-of-type {\n",
       "        vertical-align: middle;\n",
       "    }\n",
       "\n",
       "    .dataframe tbody tr th {\n",
       "        vertical-align: top;\n",
       "    }\n",
       "\n",
       "    .dataframe thead th {\n",
       "        text-align: right;\n",
       "    }\n",
       "</style>\n",
       "<table border=\"1\" class=\"dataframe\">\n",
       "  <thead>\n",
       "    <tr style=\"text-align: right;\">\n",
       "      <th></th>\n",
       "      <th>count</th>\n",
       "      <th>min</th>\n",
       "      <th>max</th>\n",
       "      <th>mean</th>\n",
       "    </tr>\n",
       "    <tr>\n",
       "      <th>Quartile</th>\n",
       "      <th></th>\n",
       "      <th></th>\n",
       "      <th></th>\n",
       "      <th></th>\n",
       "    </tr>\n",
       "  </thead>\n",
       "  <tbody>\n",
       "    <tr>\n",
       "      <th>Q1</th>\n",
       "      <td>250</td>\n",
       "      <td>-3.315164</td>\n",
       "      <td>-0.689451</td>\n",
       "      <td>-1.271944</td>\n",
       "    </tr>\n",
       "    <tr>\n",
       "      <th>Q2</th>\n",
       "      <td>250</td>\n",
       "      <td>-0.687701</td>\n",
       "      <td>0.026794</td>\n",
       "      <td>-0.296266</td>\n",
       "    </tr>\n",
       "    <tr>\n",
       "      <th>Q3</th>\n",
       "      <td>250</td>\n",
       "      <td>0.032041</td>\n",
       "      <td>0.706783</td>\n",
       "      <td>0.340330</td>\n",
       "    </tr>\n",
       "    <tr>\n",
       "      <th>Q4</th>\n",
       "      <td>250</td>\n",
       "      <td>0.709675</td>\n",
       "      <td>3.219936</td>\n",
       "      <td>1.250098</td>\n",
       "    </tr>\n",
       "  </tbody>\n",
       "</table>\n",
       "</div>"
      ],
      "text/plain": [
       "          count       min       max      mean\n",
       "Quartile                                     \n",
       "Q1          250 -3.315164 -0.689451 -1.271944\n",
       "Q2          250 -0.687701  0.026794 -0.296266\n",
       "Q3          250  0.032041  0.706783  0.340330\n",
       "Q4          250  0.709675  3.219936  1.250098"
      ]
     },
     "execution_count": 410,
     "metadata": {},
     "output_type": "execute_result"
    }
   ],
   "source": [
    "result"
   ]
  },
  {
   "cell_type": "raw",
   "id": "a351bea6-5d1c-4ddb-827f-8b7b739437f5",
   "metadata": {},
   "source": [
    "Better performance with categoricals"
   ]
  },
  {
   "cell_type": "raw",
   "id": "c0e2127f-635d-4dad-8d3d-a1edaff0fad8",
   "metadata": {},
   "source": [
    "let's test the memory usage for 10 million elements series"
   ]
  },
  {
   "cell_type": "code",
   "execution_count": 411,
   "id": "16002259-c23b-4033-9aed-faa49f507164",
   "metadata": {},
   "outputs": [],
   "source": [
    "n = 10000000"
   ]
  },
  {
   "cell_type": "code",
   "execution_count": 412,
   "id": "43dd742f-48e3-4908-978d-1fd41b1201c8",
   "metadata": {},
   "outputs": [],
   "source": [
    "labels = pd.Series(['red', 'blue', 'red', 'orange'] * (n//2))"
   ]
  },
  {
   "cell_type": "code",
   "execution_count": 413,
   "id": "48bb7a0c-a190-410a-9365-8278752d308b",
   "metadata": {},
   "outputs": [
    {
     "data": {
      "text/plain": [
       "1220000132"
      ]
     },
     "execution_count": 413,
     "metadata": {},
     "output_type": "execute_result"
    }
   ],
   "source": [
    "labels.memory_usage(deep = True)"
   ]
  },
  {
   "cell_type": "code",
   "execution_count": 414,
   "id": "91907e2e-159c-4e26-97fa-e2fe56fd6100",
   "metadata": {},
   "outputs": [],
   "source": [
    "c = labels.astype('category')"
   ]
  },
  {
   "cell_type": "code",
   "execution_count": 415,
   "id": "f94984fd-fcaf-440c-94df-2141a15509ac",
   "metadata": {},
   "outputs": [
    {
     "data": {
      "text/plain": [
       "20000424"
      ]
     },
     "execution_count": 415,
     "metadata": {},
     "output_type": "execute_result"
    }
   ],
   "source": [
    "c.memory_usage(deep = True)"
   ]
  },
  {
   "cell_type": "code",
   "execution_count": 416,
   "id": "2c519d91-29c4-437d-90c0-2b939c6d7501",
   "metadata": {},
   "outputs": [
    {
     "data": {
      "text/plain": [
       "60.99871342727534"
      ]
     },
     "execution_count": 416,
     "metadata": {},
     "output_type": "execute_result"
    }
   ],
   "source": [
    "labels.memory_usage(deep = True)/c.memory_usage(deep = True)"
   ]
  },
  {
   "cell_type": "raw",
   "id": "175f9616-d89c-458a-a79d-7d08c95ea22b",
   "metadata": {},
   "source": [
    "Categorical Methods"
   ]
  },
  {
   "cell_type": "raw",
   "id": "fa2aa29b-98e8-46c0-9395-f54a2f499af4",
   "metadata": {},
   "source": [
    "Series containing categorical data have several special methods similar to the Series.str specialized string methods. This also provides convenient access to the categories and codes."
   ]
  },
  {
   "cell_type": "code",
   "execution_count": 417,
   "id": "d39481d5-cb49-4ff4-96e9-896966660538",
   "metadata": {},
   "outputs": [],
   "source": [
    "s = pd.Series(['A', 'B', 'A', 'C'] * 2)"
   ]
  },
  {
   "cell_type": "code",
   "execution_count": 418,
   "id": "95a8686b-7fbe-4001-bb40-43e1115d0601",
   "metadata": {},
   "outputs": [],
   "source": [
    "c = s.astype('category')"
   ]
  },
  {
   "cell_type": "code",
   "execution_count": 419,
   "id": "bf0a046e-b026-48ba-a9fd-52728e239192",
   "metadata": {},
   "outputs": [
    {
     "data": {
      "text/plain": [
       "0    A\n",
       "1    B\n",
       "2    A\n",
       "3    C\n",
       "4    A\n",
       "5    B\n",
       "6    A\n",
       "7    C\n",
       "dtype: category\n",
       "Categories (3, object): ['A', 'B', 'C']"
      ]
     },
     "execution_count": 419,
     "metadata": {},
     "output_type": "execute_result"
    }
   ],
   "source": [
    "c"
   ]
  },
  {
   "cell_type": "raw",
   "id": "40b4bf5a-6e9a-403d-a660-699c52d9c51e",
   "metadata": {},
   "source": [
    "The special accessor attribute cat provides access to categorical methods:"
   ]
  },
  {
   "cell_type": "code",
   "execution_count": 420,
   "id": "a276ced8-7221-4e90-9c93-99577b712d64",
   "metadata": {},
   "outputs": [
    {
     "data": {
      "text/plain": [
       "0    0\n",
       "1    1\n",
       "2    0\n",
       "3    2\n",
       "4    0\n",
       "5    1\n",
       "6    0\n",
       "7    2\n",
       "dtype: int8"
      ]
     },
     "execution_count": 420,
     "metadata": {},
     "output_type": "execute_result"
    }
   ],
   "source": [
    "c.cat.codes"
   ]
  },
  {
   "cell_type": "code",
   "execution_count": 421,
   "id": "25d40e7a-49a5-4553-bf35-abc458b23b3f",
   "metadata": {},
   "outputs": [
    {
     "data": {
      "text/plain": [
       "Index(['A', 'B', 'C'], dtype='object')"
      ]
     },
     "execution_count": 421,
     "metadata": {},
     "output_type": "execute_result"
    }
   ],
   "source": [
    "c.cat.categories"
   ]
  },
  {
   "cell_type": "raw",
   "id": "87e28dde-98c6-47bc-b782-32d226805bbd",
   "metadata": {},
   "source": [
    "While it appears that the data is unchanged, the new categories will be reflected in operations that use them. For example, value_counts respects the categories"
   ]
  },
  {
   "cell_type": "code",
   "execution_count": 422,
   "id": "cbd4c6ed-cff1-42f2-85f7-505e71b2e69b",
   "metadata": {},
   "outputs": [
    {
     "data": {
      "text/plain": [
       "A    4\n",
       "B    2\n",
       "C    2\n",
       "Name: count, dtype: int64"
      ]
     },
     "execution_count": 422,
     "metadata": {},
     "output_type": "execute_result"
    }
   ],
   "source": [
    "c.value_counts()"
   ]
  },
  {
   "cell_type": "raw",
   "id": "f02b2b3c-1c08-4ffc-a174-139d903859a2",
   "metadata": {},
   "source": [
    "Creating dummy variables for modeling\n",
    "When you’re using statistics or machine learning tools, you’ll often transform categorical data into dummy variables, also known as one-hot encoding. This involves creating a DataFrame with a column for each distinct category; these columns contain 1s for occurrences of a given category and 0 otherwise."
   ]
  },
  {
   "cell_type": "code",
   "execution_count": 423,
   "id": "3d1ecb8e-6a66-4e3d-937f-80ba22a61305",
   "metadata": {},
   "outputs": [],
   "source": [
    "s = pd.Series(['a', 'b', 'c', 'd'] * 2, dtype='category')"
   ]
  },
  {
   "cell_type": "code",
   "execution_count": 424,
   "id": "8d59b0df-fc63-4de0-bc69-e6281f60b744",
   "metadata": {},
   "outputs": [
    {
     "data": {
      "text/plain": [
       "0    a\n",
       "1    b\n",
       "2    c\n",
       "3    d\n",
       "4    a\n",
       "5    b\n",
       "6    c\n",
       "7    d\n",
       "dtype: category\n",
       "Categories (4, object): ['a', 'b', 'c', 'd']"
      ]
     },
     "execution_count": 424,
     "metadata": {},
     "output_type": "execute_result"
    }
   ],
   "source": [
    "s"
   ]
  },
  {
   "cell_type": "code",
   "execution_count": 425,
   "id": "9fa6c337-7010-41a8-9804-157a2d22b7a2",
   "metadata": {},
   "outputs": [
    {
     "data": {
      "text/html": [
       "<div>\n",
       "<style scoped>\n",
       "    .dataframe tbody tr th:only-of-type {\n",
       "        vertical-align: middle;\n",
       "    }\n",
       "\n",
       "    .dataframe tbody tr th {\n",
       "        vertical-align: top;\n",
       "    }\n",
       "\n",
       "    .dataframe thead th {\n",
       "        text-align: right;\n",
       "    }\n",
       "</style>\n",
       "<table border=\"1\" class=\"dataframe\">\n",
       "  <thead>\n",
       "    <tr style=\"text-align: right;\">\n",
       "      <th></th>\n",
       "      <th>a</th>\n",
       "      <th>b</th>\n",
       "      <th>c</th>\n",
       "      <th>d</th>\n",
       "    </tr>\n",
       "  </thead>\n",
       "  <tbody>\n",
       "    <tr>\n",
       "      <th>0</th>\n",
       "      <td>True</td>\n",
       "      <td>False</td>\n",
       "      <td>False</td>\n",
       "      <td>False</td>\n",
       "    </tr>\n",
       "    <tr>\n",
       "      <th>1</th>\n",
       "      <td>False</td>\n",
       "      <td>True</td>\n",
       "      <td>False</td>\n",
       "      <td>False</td>\n",
       "    </tr>\n",
       "    <tr>\n",
       "      <th>2</th>\n",
       "      <td>False</td>\n",
       "      <td>False</td>\n",
       "      <td>True</td>\n",
       "      <td>False</td>\n",
       "    </tr>\n",
       "    <tr>\n",
       "      <th>3</th>\n",
       "      <td>False</td>\n",
       "      <td>False</td>\n",
       "      <td>False</td>\n",
       "      <td>True</td>\n",
       "    </tr>\n",
       "    <tr>\n",
       "      <th>4</th>\n",
       "      <td>True</td>\n",
       "      <td>False</td>\n",
       "      <td>False</td>\n",
       "      <td>False</td>\n",
       "    </tr>\n",
       "    <tr>\n",
       "      <th>5</th>\n",
       "      <td>False</td>\n",
       "      <td>True</td>\n",
       "      <td>False</td>\n",
       "      <td>False</td>\n",
       "    </tr>\n",
       "    <tr>\n",
       "      <th>6</th>\n",
       "      <td>False</td>\n",
       "      <td>False</td>\n",
       "      <td>True</td>\n",
       "      <td>False</td>\n",
       "    </tr>\n",
       "    <tr>\n",
       "      <th>7</th>\n",
       "      <td>False</td>\n",
       "      <td>False</td>\n",
       "      <td>False</td>\n",
       "      <td>True</td>\n",
       "    </tr>\n",
       "  </tbody>\n",
       "</table>\n",
       "</div>"
      ],
      "text/plain": [
       "       a      b      c      d\n",
       "0   True  False  False  False\n",
       "1  False   True  False  False\n",
       "2  False  False   True  False\n",
       "3  False  False  False   True\n",
       "4   True  False  False  False\n",
       "5  False   True  False  False\n",
       "6  False  False   True  False\n",
       "7  False  False  False   True"
      ]
     },
     "execution_count": 425,
     "metadata": {},
     "output_type": "execute_result"
    }
   ],
   "source": [
    "pd.get_dummies(s)"
   ]
  },
  {
   "cell_type": "raw",
   "id": "ae849b62-6846-4d53-aec6-75b6b39ab0a9",
   "metadata": {},
   "source": [
    "Manipulating Categories\n",
    "Pandas provides a suite of methods under the .cat accessor to modify categorical data:"
   ]
  },
  {
   "cell_type": "raw",
   "id": "a12d0aa2-7ce6-4e76-bdce-e411d8fcd87e",
   "metadata": {},
   "source": [
    "Reordering Categories:\n",
    "You can reorder the categories without changing the underlying data."
   ]
  },
  {
   "cell_type": "code",
   "execution_count": 426,
   "id": "d75392ac-5a6e-4f20-8d9a-99c9bb3f75bc",
   "metadata": {},
   "outputs": [],
   "source": [
    "s = pd.Series([\"a\", \"b\", \"a\", \"c\", \"b\", \"a\", None])"
   ]
  },
  {
   "cell_type": "code",
   "execution_count": 427,
   "id": "d9eff0f3-f295-46ca-bef4-7eca876e5f5b",
   "metadata": {},
   "outputs": [],
   "source": [
    "s_cat = s.astype('category')"
   ]
  },
  {
   "cell_type": "code",
   "execution_count": 428,
   "id": "dbeb56f0-7f6e-47ec-9563-6647bbfdbcbf",
   "metadata": {},
   "outputs": [
    {
     "data": {
      "text/plain": [
       "0      a\n",
       "1      b\n",
       "2      a\n",
       "3      c\n",
       "4      b\n",
       "5      a\n",
       "6    NaN\n",
       "dtype: category\n",
       "Categories (3, object): ['a', 'b', 'c']"
      ]
     },
     "execution_count": 428,
     "metadata": {},
     "output_type": "execute_result"
    }
   ],
   "source": [
    "s_cat"
   ]
  },
  {
   "cell_type": "code",
   "execution_count": 429,
   "id": "f27795c7-0c21-4f08-9647-8929d6c603f2",
   "metadata": {},
   "outputs": [],
   "source": [
    "s_cat_reordered = s_cat.cat.reorder_categories([\"a\", \"b\", \"c\"], ordered=True)"
   ]
  },
  {
   "cell_type": "code",
   "execution_count": 430,
   "id": "293cf378-9471-4f3f-890a-9fcfc80f4e2e",
   "metadata": {},
   "outputs": [
    {
     "data": {
      "text/plain": [
       "0      a\n",
       "1      b\n",
       "2      a\n",
       "3      c\n",
       "4      b\n",
       "5      a\n",
       "6    NaN\n",
       "dtype: category\n",
       "Categories (3, object): ['a' < 'b' < 'c']"
      ]
     },
     "execution_count": 430,
     "metadata": {},
     "output_type": "execute_result"
    }
   ],
   "source": [
    "s_cat_reordered"
   ]
  },
  {
   "cell_type": "raw",
   "id": "790ab8ee-b82f-489b-a07c-6933420248e6",
   "metadata": {},
   "source": [
    "Renaming Categories:\n",
    "Rename the category labels."
   ]
  },
  {
   "cell_type": "code",
   "execution_count": 431,
   "id": "27dabad8-3671-49f8-8694-53bd67a62ceb",
   "metadata": {},
   "outputs": [],
   "source": [
    "s_cat_renamed = s_cat.cat.rename_categories(lambda x: x.upper())"
   ]
  },
  {
   "cell_type": "code",
   "execution_count": 432,
   "id": "b3ce0972-d4cd-4f4d-8336-c5143e2db5ea",
   "metadata": {},
   "outputs": [
    {
     "data": {
      "text/plain": [
       "0      A\n",
       "1      B\n",
       "2      A\n",
       "3      C\n",
       "4      B\n",
       "5      A\n",
       "6    NaN\n",
       "dtype: category\n",
       "Categories (3, object): ['A', 'B', 'C']"
      ]
     },
     "execution_count": 432,
     "metadata": {},
     "output_type": "execute_result"
    }
   ],
   "source": [
    "s_cat_renamed"
   ]
  },
  {
   "cell_type": "raw",
   "id": "f638bbf4-07f1-4084-84e5-9ddbd6b91502",
   "metadata": {},
   "source": [
    "Adding or Removing Categories:\n",
    "You can add new categories or remove unused ones."
   ]
  },
  {
   "cell_type": "code",
   "execution_count": 433,
   "id": "4f7fc06b-1bc1-460f-a667-10b318306212",
   "metadata": {},
   "outputs": [],
   "source": [
    "s_cat_extended = s_cat.cat.add_categories([\"d\"])"
   ]
  },
  {
   "cell_type": "code",
   "execution_count": 434,
   "id": "0743f70c-96fb-4df8-ac6d-b8265dd2de07",
   "metadata": {},
   "outputs": [
    {
     "data": {
      "text/plain": [
       "0      a\n",
       "1      b\n",
       "2      a\n",
       "3      c\n",
       "4      b\n",
       "5      a\n",
       "6    NaN\n",
       "dtype: category\n",
       "Categories (4, object): ['a', 'b', 'c', 'd']"
      ]
     },
     "execution_count": 434,
     "metadata": {},
     "output_type": "execute_result"
    }
   ],
   "source": [
    "s_cat_extended"
   ]
  },
  {
   "cell_type": "code",
   "execution_count": 435,
   "id": "97244182-1c88-4c80-8e03-2727ac319c3a",
   "metadata": {},
   "outputs": [],
   "source": [
    "s_cat_reduced = s_cat_extended.cat.remove_categories([\"c\"])"
   ]
  },
  {
   "cell_type": "code",
   "execution_count": 436,
   "id": "33ac72ab-deac-4f86-8af3-468cd140e7ff",
   "metadata": {},
   "outputs": [
    {
     "data": {
      "text/plain": [
       "0      a\n",
       "1      b\n",
       "2      a\n",
       "3    NaN\n",
       "4      b\n",
       "5      a\n",
       "6    NaN\n",
       "dtype: category\n",
       "Categories (3, object): ['a', 'b', 'd']"
      ]
     },
     "execution_count": 436,
     "metadata": {},
     "output_type": "execute_result"
    }
   ],
   "source": [
    "s_cat_reduced"
   ]
  },
  {
   "cell_type": "raw",
   "id": "5b927fc3-a9b7-4b9c-9d92-c2fcdfec6d55",
   "metadata": {},
   "source": [
    "Converting Between Ordered and Unordered:\n",
    "You can switch a categorical from unordered to ordered (and vice versa) using:"
   ]
  },
  {
   "cell_type": "code",
   "execution_count": 437,
   "id": "a3d264d1-db61-49d3-aeab-330b55e71301",
   "metadata": {},
   "outputs": [],
   "source": [
    "s_cat_ordered = s_cat.cat.as_ordered()"
   ]
  },
  {
   "cell_type": "code",
   "execution_count": 438,
   "id": "3d3129ed-145a-4b16-b7fd-20ca72cec4e1",
   "metadata": {},
   "outputs": [
    {
     "data": {
      "text/plain": [
       "True"
      ]
     },
     "execution_count": 438,
     "metadata": {},
     "output_type": "execute_result"
    }
   ],
   "source": [
    "s_cat_ordered.cat.ordered"
   ]
  },
  {
   "cell_type": "markdown",
   "id": "55f4bb99-54f1-4323-9c5e-c94e85598159",
   "metadata": {},
   "source": [
    "# Examples"
   ]
  },
  {
   "cell_type": "raw",
   "id": "e621aefb-0ab9-452e-b093-7f823e24e610",
   "metadata": {},
   "source": [
    "1. Customer Segmentation in Marketing\n",
    "Scenario:\n",
    "A retail company wants to segment its customers by region and customer type (e.g., \"Regular,\" \"Premium,\" \"VIP\"). These columns contain a limited number of repeated values. Converting them to categorical types:\n",
    "\n",
    "Reduces memory usage: Instead of storing repeated strings, Pandas stores small integers.\n",
    "Enforces consistency: Prevents typos (e.g., \"vip\" vs. \"VIP\").\n",
    "Facilitates grouping and analysis: Fast grouping operations and easier plotting."
   ]
  },
  {
   "cell_type": "code",
   "execution_count": 439,
   "id": "713ff74e-b2e9-4456-8198-722e86310f66",
   "metadata": {},
   "outputs": [],
   "source": [
    "data = {\n",
    "    'CustomerID': range(1, 11),\n",
    "    'Region': ['North', 'South', 'East', 'West', 'North', 'East', 'South', 'West', 'North', 'East'],\n",
    "    'Customer_Type': ['Regular', 'Premium', 'Regular', 'VIP', 'Regular', 'Premium', 'VIP', 'Regular', 'VIP', 'Premium'],\n",
    "    'Purchase_Amount': [250, 400, 150, 600, 300, 350, 700, 200, 500, 450]\n",
    "}\n",
    "df = pd.DataFrame(data)"
   ]
  },
  {
   "cell_type": "code",
   "execution_count": 440,
   "id": "a80ee8b4-ee95-419c-873c-dbd9485186a2",
   "metadata": {},
   "outputs": [
    {
     "data": {
      "text/html": [
       "<div>\n",
       "<style scoped>\n",
       "    .dataframe tbody tr th:only-of-type {\n",
       "        vertical-align: middle;\n",
       "    }\n",
       "\n",
       "    .dataframe tbody tr th {\n",
       "        vertical-align: top;\n",
       "    }\n",
       "\n",
       "    .dataframe thead th {\n",
       "        text-align: right;\n",
       "    }\n",
       "</style>\n",
       "<table border=\"1\" class=\"dataframe\">\n",
       "  <thead>\n",
       "    <tr style=\"text-align: right;\">\n",
       "      <th></th>\n",
       "      <th>CustomerID</th>\n",
       "      <th>Region</th>\n",
       "      <th>Customer_Type</th>\n",
       "      <th>Purchase_Amount</th>\n",
       "    </tr>\n",
       "  </thead>\n",
       "  <tbody>\n",
       "    <tr>\n",
       "      <th>0</th>\n",
       "      <td>1</td>\n",
       "      <td>North</td>\n",
       "      <td>Regular</td>\n",
       "      <td>250</td>\n",
       "    </tr>\n",
       "    <tr>\n",
       "      <th>1</th>\n",
       "      <td>2</td>\n",
       "      <td>South</td>\n",
       "      <td>Premium</td>\n",
       "      <td>400</td>\n",
       "    </tr>\n",
       "    <tr>\n",
       "      <th>2</th>\n",
       "      <td>3</td>\n",
       "      <td>East</td>\n",
       "      <td>Regular</td>\n",
       "      <td>150</td>\n",
       "    </tr>\n",
       "    <tr>\n",
       "      <th>3</th>\n",
       "      <td>4</td>\n",
       "      <td>West</td>\n",
       "      <td>VIP</td>\n",
       "      <td>600</td>\n",
       "    </tr>\n",
       "    <tr>\n",
       "      <th>4</th>\n",
       "      <td>5</td>\n",
       "      <td>North</td>\n",
       "      <td>Regular</td>\n",
       "      <td>300</td>\n",
       "    </tr>\n",
       "    <tr>\n",
       "      <th>5</th>\n",
       "      <td>6</td>\n",
       "      <td>East</td>\n",
       "      <td>Premium</td>\n",
       "      <td>350</td>\n",
       "    </tr>\n",
       "    <tr>\n",
       "      <th>6</th>\n",
       "      <td>7</td>\n",
       "      <td>South</td>\n",
       "      <td>VIP</td>\n",
       "      <td>700</td>\n",
       "    </tr>\n",
       "    <tr>\n",
       "      <th>7</th>\n",
       "      <td>8</td>\n",
       "      <td>West</td>\n",
       "      <td>Regular</td>\n",
       "      <td>200</td>\n",
       "    </tr>\n",
       "    <tr>\n",
       "      <th>8</th>\n",
       "      <td>9</td>\n",
       "      <td>North</td>\n",
       "      <td>VIP</td>\n",
       "      <td>500</td>\n",
       "    </tr>\n",
       "    <tr>\n",
       "      <th>9</th>\n",
       "      <td>10</td>\n",
       "      <td>East</td>\n",
       "      <td>Premium</td>\n",
       "      <td>450</td>\n",
       "    </tr>\n",
       "  </tbody>\n",
       "</table>\n",
       "</div>"
      ],
      "text/plain": [
       "   CustomerID Region Customer_Type  Purchase_Amount\n",
       "0           1  North       Regular              250\n",
       "1           2  South       Premium              400\n",
       "2           3   East       Regular              150\n",
       "3           4   West           VIP              600\n",
       "4           5  North       Regular              300\n",
       "5           6   East       Premium              350\n",
       "6           7  South           VIP              700\n",
       "7           8   West       Regular              200\n",
       "8           9  North           VIP              500\n",
       "9          10   East       Premium              450"
      ]
     },
     "execution_count": 440,
     "metadata": {},
     "output_type": "execute_result"
    }
   ],
   "source": [
    "df"
   ]
  },
  {
   "cell_type": "code",
   "execution_count": 441,
   "id": "f5319257-8493-4e64-9a42-16a025ea3220",
   "metadata": {},
   "outputs": [],
   "source": [
    "# converting \"Region\" and \"Customer_Type\" to categorical\n",
    "df['Region'] = df['Region'].astype('category')\n",
    "df['Customer_Type'] = df['Customer_Type'].astype('category')"
   ]
  },
  {
   "cell_type": "code",
   "execution_count": 442,
   "id": "7247934b-88b5-486a-99d1-8a9c3f7465ea",
   "metadata": {},
   "outputs": [],
   "source": [
    "# Group by Region and Customer_Type to compute total purchase amount\n",
    "total = df.groupby(['Region', 'Customer_Type'], observed=False)['Purchase_Amount'].sum()"
   ]
  },
  {
   "cell_type": "code",
   "execution_count": 443,
   "id": "13dd21ef-f809-4755-8dfe-0e329c418471",
   "metadata": {},
   "outputs": [
    {
     "data": {
      "text/plain": [
       "Region  Customer_Type\n",
       "East    Premium          800\n",
       "        Regular          150\n",
       "        VIP                0\n",
       "North   Premium            0\n",
       "        Regular          550\n",
       "        VIP              500\n",
       "South   Premium          400\n",
       "        Regular            0\n",
       "        VIP              700\n",
       "West    Premium            0\n",
       "        Regular          200\n",
       "        VIP              600\n",
       "Name: Purchase_Amount, dtype: int64"
      ]
     },
     "execution_count": 443,
     "metadata": {},
     "output_type": "execute_result"
    }
   ],
   "source": [
    "total"
   ]
  },
  {
   "cell_type": "code",
   "execution_count": null,
   "id": "400abe17-0c16-47fe-8778-d3118b5ed445",
   "metadata": {},
   "outputs": [],
   "source": []
  },
  {
   "cell_type": "raw",
   "id": "cd047d86-27dd-431d-880b-a5fc884dddeb",
   "metadata": {},
   "source": [
    "2. Survey Analysis with Ordered Categories\n",
    "Scenario:\n",
    "A company conducts a satisfaction survey where respondents rate their experience as \"Poor,\" \"Fair,\" \"Good,\" or \"Excellent.\" These responses have an inherent order. By converting the responses into an ordered categorical type, you can:\n",
    "\n",
    "Perform meaningful comparisons: For example, determine if the overall satisfaction is trending upward.\n",
    "Facilitate sorting and aggregation: Easier computation of medians or percentiles."
   ]
  },
  {
   "cell_type": "code",
   "execution_count": 444,
   "id": "bcd854cb-428c-47d5-97d7-376782f20846",
   "metadata": {},
   "outputs": [],
   "source": [
    "data = {\n",
    "    'Respondent': range(1239, 2239),\n",
    "    'Satisfaction': np.random.choice(['Good', 'Poor', 'Excellent', 'Fair', 'Good', 'Fair', 'Excellent'], 1000)\n",
    "}\n",
    "df = pd.DataFrame(data)"
   ]
  },
  {
   "cell_type": "code",
   "execution_count": 445,
   "id": "69d6fd93-1a80-4f2b-a29f-2b29b6b57c65",
   "metadata": {},
   "outputs": [
    {
     "data": {
      "text/html": [
       "<div>\n",
       "<style scoped>\n",
       "    .dataframe tbody tr th:only-of-type {\n",
       "        vertical-align: middle;\n",
       "    }\n",
       "\n",
       "    .dataframe tbody tr th {\n",
       "        vertical-align: top;\n",
       "    }\n",
       "\n",
       "    .dataframe thead th {\n",
       "        text-align: right;\n",
       "    }\n",
       "</style>\n",
       "<table border=\"1\" class=\"dataframe\">\n",
       "  <thead>\n",
       "    <tr style=\"text-align: right;\">\n",
       "      <th></th>\n",
       "      <th>Respondent</th>\n",
       "      <th>Satisfaction</th>\n",
       "    </tr>\n",
       "  </thead>\n",
       "  <tbody>\n",
       "    <tr>\n",
       "      <th>0</th>\n",
       "      <td>1239</td>\n",
       "      <td>Fair</td>\n",
       "    </tr>\n",
       "    <tr>\n",
       "      <th>1</th>\n",
       "      <td>1240</td>\n",
       "      <td>Good</td>\n",
       "    </tr>\n",
       "    <tr>\n",
       "      <th>2</th>\n",
       "      <td>1241</td>\n",
       "      <td>Fair</td>\n",
       "    </tr>\n",
       "    <tr>\n",
       "      <th>3</th>\n",
       "      <td>1242</td>\n",
       "      <td>Good</td>\n",
       "    </tr>\n",
       "    <tr>\n",
       "      <th>4</th>\n",
       "      <td>1243</td>\n",
       "      <td>Good</td>\n",
       "    </tr>\n",
       "  </tbody>\n",
       "</table>\n",
       "</div>"
      ],
      "text/plain": [
       "   Respondent Satisfaction\n",
       "0        1239         Fair\n",
       "1        1240         Good\n",
       "2        1241         Fair\n",
       "3        1242         Good\n",
       "4        1243         Good"
      ]
     },
     "execution_count": 445,
     "metadata": {},
     "output_type": "execute_result"
    }
   ],
   "source": [
    "df.head()"
   ]
  },
  {
   "cell_type": "code",
   "execution_count": 446,
   "id": "7e9dbf51-98ad-42d4-8406-27b819c53c45",
   "metadata": {},
   "outputs": [],
   "source": [
    "# change the data type of \"Satisfaction\" to \"category\"\n",
    "df['Satisfaction'] = df['Satisfaction'].astype('category')"
   ]
  },
  {
   "cell_type": "code",
   "execution_count": 447,
   "id": "a85f00c8-5f5d-46e6-9eb6-743b74be3653",
   "metadata": {},
   "outputs": [],
   "source": [
    "df['Satisfaction'] = df['Satisfaction'].cat.reorder_categories(['Poor', 'Fair', 'Good', 'Excellent'], ordered = True)"
   ]
  },
  {
   "cell_type": "code",
   "execution_count": 448,
   "id": "87c49f97-692b-4731-8de2-7834e4bb7671",
   "metadata": {},
   "outputs": [
    {
     "data": {
      "text/html": [
       "<div>\n",
       "<style scoped>\n",
       "    .dataframe tbody tr th:only-of-type {\n",
       "        vertical-align: middle;\n",
       "    }\n",
       "\n",
       "    .dataframe tbody tr th {\n",
       "        vertical-align: top;\n",
       "    }\n",
       "\n",
       "    .dataframe thead th {\n",
       "        text-align: right;\n",
       "    }\n",
       "</style>\n",
       "<table border=\"1\" class=\"dataframe\">\n",
       "  <thead>\n",
       "    <tr style=\"text-align: right;\">\n",
       "      <th></th>\n",
       "      <th>Respondent</th>\n",
       "      <th>Satisfaction</th>\n",
       "    </tr>\n",
       "  </thead>\n",
       "  <tbody>\n",
       "    <tr>\n",
       "      <th>896</th>\n",
       "      <td>2135</td>\n",
       "      <td>Poor</td>\n",
       "    </tr>\n",
       "    <tr>\n",
       "      <th>822</th>\n",
       "      <td>2061</td>\n",
       "      <td>Poor</td>\n",
       "    </tr>\n",
       "    <tr>\n",
       "      <th>113</th>\n",
       "      <td>1352</td>\n",
       "      <td>Poor</td>\n",
       "    </tr>\n",
       "    <tr>\n",
       "      <th>219</th>\n",
       "      <td>1458</td>\n",
       "      <td>Poor</td>\n",
       "    </tr>\n",
       "    <tr>\n",
       "      <th>442</th>\n",
       "      <td>1681</td>\n",
       "      <td>Poor</td>\n",
       "    </tr>\n",
       "    <tr>\n",
       "      <th>...</th>\n",
       "      <td>...</td>\n",
       "      <td>...</td>\n",
       "    </tr>\n",
       "    <tr>\n",
       "      <th>735</th>\n",
       "      <td>1974</td>\n",
       "      <td>Excellent</td>\n",
       "    </tr>\n",
       "    <tr>\n",
       "      <th>339</th>\n",
       "      <td>1578</td>\n",
       "      <td>Excellent</td>\n",
       "    </tr>\n",
       "    <tr>\n",
       "      <th>341</th>\n",
       "      <td>1580</td>\n",
       "      <td>Excellent</td>\n",
       "    </tr>\n",
       "    <tr>\n",
       "      <th>323</th>\n",
       "      <td>1562</td>\n",
       "      <td>Excellent</td>\n",
       "    </tr>\n",
       "    <tr>\n",
       "      <th>499</th>\n",
       "      <td>1738</td>\n",
       "      <td>Excellent</td>\n",
       "    </tr>\n",
       "  </tbody>\n",
       "</table>\n",
       "<p>1000 rows × 2 columns</p>\n",
       "</div>"
      ],
      "text/plain": [
       "     Respondent Satisfaction\n",
       "896        2135         Poor\n",
       "822        2061         Poor\n",
       "113        1352         Poor\n",
       "219        1458         Poor\n",
       "442        1681         Poor\n",
       "..          ...          ...\n",
       "735        1974    Excellent\n",
       "339        1578    Excellent\n",
       "341        1580    Excellent\n",
       "323        1562    Excellent\n",
       "499        1738    Excellent\n",
       "\n",
       "[1000 rows x 2 columns]"
      ]
     },
     "execution_count": 448,
     "metadata": {},
     "output_type": "execute_result"
    }
   ],
   "source": [
    "df.sort_values(by = 'Satisfaction')"
   ]
  },
  {
   "cell_type": "code",
   "execution_count": 449,
   "id": "c0308517-43c1-4f37-95a9-5dc2210ac61e",
   "metadata": {},
   "outputs": [
    {
     "data": {
      "text/plain": [
       "Satisfaction\n",
       "Poor         135\n",
       "Fair         285\n",
       "Good         306\n",
       "Excellent    274\n",
       "Name: count, dtype: int64"
      ]
     },
     "execution_count": 449,
     "metadata": {},
     "output_type": "execute_result"
    }
   ],
   "source": [
    "df['Satisfaction'].value_counts().sort_index()"
   ]
  },
  {
   "cell_type": "code",
   "execution_count": null,
   "id": "014370cf-2a6b-406c-b82a-74e63f415de6",
   "metadata": {},
   "outputs": [],
   "source": []
  }
 ],
 "metadata": {
  "kernelspec": {
   "display_name": "Python (data-analysis)",
   "language": "python",
   "name": "data-anaysis"
  },
  "language_info": {
   "codemirror_mode": {
    "name": "ipython",
    "version": 3
   },
   "file_extension": ".py",
   "mimetype": "text/x-python",
   "name": "python",
   "nbconvert_exporter": "python",
   "pygments_lexer": "ipython3",
   "version": "3.11.13"
  }
 },
 "nbformat": 4,
 "nbformat_minor": 5
}
