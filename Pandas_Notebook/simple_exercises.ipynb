{
 "cells": [
  {
   "cell_type": "code",
   "execution_count": 1,
   "id": "079467a1-e1f9-4e54-bd23-f318ad485cc1",
   "metadata": {},
   "outputs": [],
   "source": [
    "import pandas as pd\n",
    "import numpy as np"
   ]
  },
  {
   "cell_type": "markdown",
   "id": "4a0684d0-7569-4e11-b6f3-56085468e794",
   "metadata": {},
   "source": [
    "# 1️⃣ Sales Data Analysis"
   ]
  },
  {
   "cell_type": "raw",
   "id": "ca61c5a2-4842-4c97-b715-fa25dfea1eaf",
   "metadata": {},
   "source": [
    "Problem:\n",
    "Imagine you're working for a company, and you need to analyze sales data over time. You have data with columns such as Date, Product, Region, Sales, and Profit.\n",
    "\n",
    "Tasks:\n",
    "\n",
    "1. Load the dataset and perform data cleaning (handle missing values, check for duplicates).\n",
    "2. Group the data by Region and calculate the total Sales and Profit for each region.\n",
    "3. Calculate the average sales per product and identify which product has the highest sales.\n",
    "4. Create a pivot table to analyze sales over time for each region and product.\n",
    "5. Visualize the sales trend over time for each region using line plots."
   ]
  },
  {
   "cell_type": "code",
   "execution_count": 2,
   "id": "d5b2b481-a7ed-47e0-ada3-6dbcdd8cab88",
   "metadata": {},
   "outputs": [],
   "source": [
    "data = {\n",
    "    'Date': pd.date_range('2020-01-01', periods=10, freq='ME'),\n",
    "    'Product': ['A', 'B', 'A', 'C', 'B', 'A', 'C', 'B', 'A', 'C'],\n",
    "    'Region': ['North', 'South', 'East', 'West', 'North', 'South', 'East', 'West', 'North', 'South'],\n",
    "    'Sales': np.random.randint(100, 500, 10),\n",
    "    'Profit': np.random.randint(10, 50, 10)\n",
    "}\n",
    "\n",
    "sales = pd.DataFrame(data)"
   ]
  },
  {
   "cell_type": "code",
   "execution_count": 3,
   "id": "145cdc74-49a6-4d77-a5dd-d97bd060198a",
   "metadata": {},
   "outputs": [
    {
     "data": {
      "text/html": [
       "<div>\n",
       "<style scoped>\n",
       "    .dataframe tbody tr th:only-of-type {\n",
       "        vertical-align: middle;\n",
       "    }\n",
       "\n",
       "    .dataframe tbody tr th {\n",
       "        vertical-align: top;\n",
       "    }\n",
       "\n",
       "    .dataframe thead th {\n",
       "        text-align: right;\n",
       "    }\n",
       "</style>\n",
       "<table border=\"1\" class=\"dataframe\">\n",
       "  <thead>\n",
       "    <tr style=\"text-align: right;\">\n",
       "      <th></th>\n",
       "      <th>Date</th>\n",
       "      <th>Product</th>\n",
       "      <th>Region</th>\n",
       "      <th>Sales</th>\n",
       "      <th>Profit</th>\n",
       "    </tr>\n",
       "  </thead>\n",
       "  <tbody>\n",
       "    <tr>\n",
       "      <th>0</th>\n",
       "      <td>2020-01-31</td>\n",
       "      <td>A</td>\n",
       "      <td>North</td>\n",
       "      <td>109</td>\n",
       "      <td>49</td>\n",
       "    </tr>\n",
       "    <tr>\n",
       "      <th>1</th>\n",
       "      <td>2020-02-29</td>\n",
       "      <td>B</td>\n",
       "      <td>South</td>\n",
       "      <td>400</td>\n",
       "      <td>20</td>\n",
       "    </tr>\n",
       "    <tr>\n",
       "      <th>2</th>\n",
       "      <td>2020-03-31</td>\n",
       "      <td>A</td>\n",
       "      <td>East</td>\n",
       "      <td>151</td>\n",
       "      <td>39</td>\n",
       "    </tr>\n",
       "    <tr>\n",
       "      <th>3</th>\n",
       "      <td>2020-04-30</td>\n",
       "      <td>C</td>\n",
       "      <td>West</td>\n",
       "      <td>109</td>\n",
       "      <td>42</td>\n",
       "    </tr>\n",
       "    <tr>\n",
       "      <th>4</th>\n",
       "      <td>2020-05-31</td>\n",
       "      <td>B</td>\n",
       "      <td>North</td>\n",
       "      <td>103</td>\n",
       "      <td>20</td>\n",
       "    </tr>\n",
       "    <tr>\n",
       "      <th>5</th>\n",
       "      <td>2020-06-30</td>\n",
       "      <td>A</td>\n",
       "      <td>South</td>\n",
       "      <td>315</td>\n",
       "      <td>22</td>\n",
       "    </tr>\n",
       "    <tr>\n",
       "      <th>6</th>\n",
       "      <td>2020-07-31</td>\n",
       "      <td>C</td>\n",
       "      <td>East</td>\n",
       "      <td>133</td>\n",
       "      <td>38</td>\n",
       "    </tr>\n",
       "    <tr>\n",
       "      <th>7</th>\n",
       "      <td>2020-08-31</td>\n",
       "      <td>B</td>\n",
       "      <td>West</td>\n",
       "      <td>239</td>\n",
       "      <td>46</td>\n",
       "    </tr>\n",
       "    <tr>\n",
       "      <th>8</th>\n",
       "      <td>2020-09-30</td>\n",
       "      <td>A</td>\n",
       "      <td>North</td>\n",
       "      <td>122</td>\n",
       "      <td>21</td>\n",
       "    </tr>\n",
       "    <tr>\n",
       "      <th>9</th>\n",
       "      <td>2020-10-31</td>\n",
       "      <td>C</td>\n",
       "      <td>South</td>\n",
       "      <td>280</td>\n",
       "      <td>16</td>\n",
       "    </tr>\n",
       "  </tbody>\n",
       "</table>\n",
       "</div>"
      ],
      "text/plain": [
       "        Date Product Region  Sales  Profit\n",
       "0 2020-01-31       A  North    109      49\n",
       "1 2020-02-29       B  South    400      20\n",
       "2 2020-03-31       A   East    151      39\n",
       "3 2020-04-30       C   West    109      42\n",
       "4 2020-05-31       B  North    103      20\n",
       "5 2020-06-30       A  South    315      22\n",
       "6 2020-07-31       C   East    133      38\n",
       "7 2020-08-31       B   West    239      46\n",
       "8 2020-09-30       A  North    122      21\n",
       "9 2020-10-31       C  South    280      16"
      ]
     },
     "execution_count": 3,
     "metadata": {},
     "output_type": "execute_result"
    }
   ],
   "source": [
    "sales"
   ]
  },
  {
   "cell_type": "code",
   "execution_count": 4,
   "id": "c6877de1-dde8-4343-abf1-af5973f8ebf9",
   "metadata": {},
   "outputs": [
    {
     "data": {
      "text/html": [
       "<div>\n",
       "<style scoped>\n",
       "    .dataframe tbody tr th:only-of-type {\n",
       "        vertical-align: middle;\n",
       "    }\n",
       "\n",
       "    .dataframe tbody tr th {\n",
       "        vertical-align: top;\n",
       "    }\n",
       "\n",
       "    .dataframe thead th {\n",
       "        text-align: right;\n",
       "    }\n",
       "</style>\n",
       "<table border=\"1\" class=\"dataframe\">\n",
       "  <thead>\n",
       "    <tr style=\"text-align: right;\">\n",
       "      <th></th>\n",
       "      <th>Sales</th>\n",
       "      <th>Profit</th>\n",
       "    </tr>\n",
       "    <tr>\n",
       "      <th>Region</th>\n",
       "      <th></th>\n",
       "      <th></th>\n",
       "    </tr>\n",
       "  </thead>\n",
       "  <tbody>\n",
       "    <tr>\n",
       "      <th>East</th>\n",
       "      <td>284</td>\n",
       "      <td>77</td>\n",
       "    </tr>\n",
       "    <tr>\n",
       "      <th>North</th>\n",
       "      <td>334</td>\n",
       "      <td>90</td>\n",
       "    </tr>\n",
       "    <tr>\n",
       "      <th>South</th>\n",
       "      <td>995</td>\n",
       "      <td>58</td>\n",
       "    </tr>\n",
       "    <tr>\n",
       "      <th>West</th>\n",
       "      <td>348</td>\n",
       "      <td>88</td>\n",
       "    </tr>\n",
       "  </tbody>\n",
       "</table>\n",
       "</div>"
      ],
      "text/plain": [
       "        Sales  Profit\n",
       "Region               \n",
       "East      284      77\n",
       "North     334      90\n",
       "South     995      58\n",
       "West      348      88"
      ]
     },
     "execution_count": 4,
     "metadata": {},
     "output_type": "execute_result"
    }
   ],
   "source": [
    "# Group the data by Region and calculate the total Sales and Profit for each region:\n",
    "sales.groupby('Region')[['Sales', 'Profit']].sum()"
   ]
  },
  {
   "cell_type": "code",
   "execution_count": 5,
   "id": "de3cf766-1808-445f-9c8a-6687d6b569a8",
   "metadata": {},
   "outputs": [
    {
     "data": {
      "text/plain": [
       "Product\n",
       "A    174.250000\n",
       "B    247.333333\n",
       "C    174.000000\n",
       "Name: Sales, dtype: float64"
      ]
     },
     "execution_count": 5,
     "metadata": {},
     "output_type": "execute_result"
    }
   ],
   "source": [
    "# Average sales per product:\n",
    "sales.groupby('Product')['Sales'].mean()"
   ]
  },
  {
   "cell_type": "raw",
   "id": "788d1060-5be2-4a3e-afa2-cc9d1a6ac3ff",
   "metadata": {},
   "source": [
    "Problem:\n",
    "You have a dataset with employee performance scores, department, and salary. Your task is to analyze and compare employee performance across departments.\n",
    "\n",
    "Tasks:\n",
    "\n",
    "Calculate the average performance score for each department.\n",
    "Determine the salary distribution of employees using a boxplot.\n",
    "Calculate the correlation between Performance Score and Salary.\n",
    "Find the employees who have a performance score above the average in their department.\n",
    "Create a bar plot to show the average performance score by department."
   ]
  },
  {
   "cell_type": "code",
   "execution_count": 6,
   "id": "7be3f118-0a31-4de7-af86-306b7558bd96",
   "metadata": {},
   "outputs": [],
   "source": [
    "employee_data = {\n",
    "    'Employee': ['Alice', 'Bob', 'Charlie', 'David', 'Eve', 'Frank', 'Grace'],\n",
    "    'Department': ['HR', 'IT', 'HR', 'Finance', 'IT', 'Finance', 'HR'],\n",
    "    'Performance_Score': [88, 95, 78, 85, 91, 78, 90],\n",
    "    'Salary': [60000, 70000, 65000, 75000, 72000, 77000, 68000]\n",
    "}\n",
    "\n",
    "employees = pd.DataFrame(employee_data)"
   ]
  },
  {
   "cell_type": "code",
   "execution_count": 7,
   "id": "1cd00708-fb0b-42dd-93c1-077fba0b25c2",
   "metadata": {},
   "outputs": [
    {
     "data": {
      "text/html": [
       "<div>\n",
       "<style scoped>\n",
       "    .dataframe tbody tr th:only-of-type {\n",
       "        vertical-align: middle;\n",
       "    }\n",
       "\n",
       "    .dataframe tbody tr th {\n",
       "        vertical-align: top;\n",
       "    }\n",
       "\n",
       "    .dataframe thead th {\n",
       "        text-align: right;\n",
       "    }\n",
       "</style>\n",
       "<table border=\"1\" class=\"dataframe\">\n",
       "  <thead>\n",
       "    <tr style=\"text-align: right;\">\n",
       "      <th></th>\n",
       "      <th>Employee</th>\n",
       "      <th>Department</th>\n",
       "      <th>Performance_Score</th>\n",
       "      <th>Salary</th>\n",
       "    </tr>\n",
       "  </thead>\n",
       "  <tbody>\n",
       "    <tr>\n",
       "      <th>0</th>\n",
       "      <td>Alice</td>\n",
       "      <td>HR</td>\n",
       "      <td>88</td>\n",
       "      <td>60000</td>\n",
       "    </tr>\n",
       "    <tr>\n",
       "      <th>1</th>\n",
       "      <td>Bob</td>\n",
       "      <td>IT</td>\n",
       "      <td>95</td>\n",
       "      <td>70000</td>\n",
       "    </tr>\n",
       "    <tr>\n",
       "      <th>2</th>\n",
       "      <td>Charlie</td>\n",
       "      <td>HR</td>\n",
       "      <td>78</td>\n",
       "      <td>65000</td>\n",
       "    </tr>\n",
       "    <tr>\n",
       "      <th>3</th>\n",
       "      <td>David</td>\n",
       "      <td>Finance</td>\n",
       "      <td>85</td>\n",
       "      <td>75000</td>\n",
       "    </tr>\n",
       "    <tr>\n",
       "      <th>4</th>\n",
       "      <td>Eve</td>\n",
       "      <td>IT</td>\n",
       "      <td>91</td>\n",
       "      <td>72000</td>\n",
       "    </tr>\n",
       "    <tr>\n",
       "      <th>5</th>\n",
       "      <td>Frank</td>\n",
       "      <td>Finance</td>\n",
       "      <td>78</td>\n",
       "      <td>77000</td>\n",
       "    </tr>\n",
       "    <tr>\n",
       "      <th>6</th>\n",
       "      <td>Grace</td>\n",
       "      <td>HR</td>\n",
       "      <td>90</td>\n",
       "      <td>68000</td>\n",
       "    </tr>\n",
       "  </tbody>\n",
       "</table>\n",
       "</div>"
      ],
      "text/plain": [
       "  Employee Department  Performance_Score  Salary\n",
       "0    Alice         HR                 88   60000\n",
       "1      Bob         IT                 95   70000\n",
       "2  Charlie         HR                 78   65000\n",
       "3    David    Finance                 85   75000\n",
       "4      Eve         IT                 91   72000\n",
       "5    Frank    Finance                 78   77000\n",
       "6    Grace         HR                 90   68000"
      ]
     },
     "execution_count": 7,
     "metadata": {},
     "output_type": "execute_result"
    }
   ],
   "source": [
    "employees"
   ]
  },
  {
   "cell_type": "code",
   "execution_count": 8,
   "id": "6c74723d-1d19-4fdb-ac82-9cd40bd20952",
   "metadata": {},
   "outputs": [
    {
     "data": {
      "text/plain": [
       "0    85.333333\n",
       "1    93.000000\n",
       "2    85.333333\n",
       "3    81.500000\n",
       "4    93.000000\n",
       "5    81.500000\n",
       "6    85.333333\n",
       "Name: Performance_Score, dtype: float64"
      ]
     },
     "execution_count": 8,
     "metadata": {},
     "output_type": "execute_result"
    }
   ],
   "source": [
    "# Calculate the average performance score for each department.\n",
    "dept_average = employees.groupby('Department')['Performance_Score'].transform('mean')\n",
    "dept_average"
   ]
  },
  {
   "cell_type": "code",
   "execution_count": 9,
   "id": "aaae1487-2857-45a0-999a-ab3cc44ed8cc",
   "metadata": {},
   "outputs": [
    {
     "data": {
      "text/plain": [
       "np.float64(-0.16508256192660767)"
      ]
     },
     "execution_count": 9,
     "metadata": {},
     "output_type": "execute_result"
    }
   ],
   "source": [
    "# Calculate the correlation between Performance Score and Salary.\n",
    "employees['Performance_Score'].corr(employees['Salary'])"
   ]
  },
  {
   "cell_type": "code",
   "execution_count": 10,
   "id": "1eac4ea5-d078-4f06-9d38-74406cd81532",
   "metadata": {},
   "outputs": [
    {
     "data": {
      "text/plain": [
       "0    Alice\n",
       "1      Bob\n",
       "3    David\n",
       "6    Grace\n",
       "Name: Employee, dtype: object"
      ]
     },
     "execution_count": 10,
     "metadata": {},
     "output_type": "execute_result"
    }
   ],
   "source": [
    "# Find the employees who have a performance score above the average in their department.\n",
    "(employees[employees['Performance_Score'] > dept_average])['Employee']"
   ]
  },
  {
   "cell_type": "code",
   "execution_count": null,
   "id": "f07a3296-4e95-4b11-a565-74e4edda8252",
   "metadata": {},
   "outputs": [],
   "source": []
  },
  {
   "cell_type": "code",
   "execution_count": null,
   "id": "0d4788a4-a5c0-46a4-a678-c8fa3a946401",
   "metadata": {},
   "outputs": [],
   "source": []
  },
  {
   "cell_type": "code",
   "execution_count": null,
   "id": "464e8ef8-5c7f-4721-b6fe-529ce1c94923",
   "metadata": {},
   "outputs": [],
   "source": []
  },
  {
   "cell_type": "code",
   "execution_count": null,
   "id": "f7e39f51-4dff-4478-95c0-b1e1d09fa6e2",
   "metadata": {},
   "outputs": [],
   "source": []
  },
  {
   "cell_type": "code",
   "execution_count": null,
   "id": "f0552804-d1b8-4efc-890f-eb9ad7c592eb",
   "metadata": {},
   "outputs": [],
   "source": []
  },
  {
   "cell_type": "markdown",
   "id": "79c34fe5-0225-45bb-ab0a-9625fd1d9da2",
   "metadata": {},
   "source": [
    "# 3️⃣ E-commerce Customer Data"
   ]
  },
  {
   "cell_type": "raw",
   "id": "b259b4e4-f03b-44ff-8df2-38b0b0982584",
   "metadata": {},
   "source": [
    "Problem:\n",
    "You work for an e-commerce company, and you need to analyze customer data. The dataset contains customer information such as Customer ID, Age, Gender, Total Spend, and Region.\n",
    "\n",
    "Tasks:\n",
    "\n",
    "1. Filter the data to find customers who spent more than $1000.\n",
    "2. Calculate the average total spend per Region.\n",
    "3. Identify customers who have spent the most and least.\n",
    "4. Plot a distribution of age for customers who are located in the North region.\n",
    "5. Create a pivot table to show the total spend by gender and region."
   ]
  },
  {
   "cell_type": "code",
   "execution_count": 11,
   "id": "a5ec6c07-33cd-4167-8735-9f0f7db48800",
   "metadata": {},
   "outputs": [],
   "source": [
    "customer_data = {\n",
    "    'Customer_ID': ['C1', 'C2', 'C3', 'C4', 'C5', 'C6', 'C7'],\n",
    "    'Age': [25, 32, 47, 50, 29, 39, 36],\n",
    "    'Gender': ['M', 'F', 'F', 'M', 'M', 'F', 'M'],\n",
    "    'Total_Spend': [1200, 800, 1500, 600, 2000, 2500, 900],\n",
    "    'Region': ['North', 'South', 'East', 'West', 'North', 'South', 'East']\n",
    "}\n",
    "\n",
    "customer = pd.DataFrame(customer_data)"
   ]
  },
  {
   "cell_type": "code",
   "execution_count": 12,
   "id": "06e9fda6-8c96-4496-b3a2-c1b7534d668f",
   "metadata": {},
   "outputs": [
    {
     "data": {
      "text/html": [
       "<div>\n",
       "<style scoped>\n",
       "    .dataframe tbody tr th:only-of-type {\n",
       "        vertical-align: middle;\n",
       "    }\n",
       "\n",
       "    .dataframe tbody tr th {\n",
       "        vertical-align: top;\n",
       "    }\n",
       "\n",
       "    .dataframe thead th {\n",
       "        text-align: right;\n",
       "    }\n",
       "</style>\n",
       "<table border=\"1\" class=\"dataframe\">\n",
       "  <thead>\n",
       "    <tr style=\"text-align: right;\">\n",
       "      <th></th>\n",
       "      <th>Customer_ID</th>\n",
       "      <th>Age</th>\n",
       "      <th>Gender</th>\n",
       "      <th>Total_Spend</th>\n",
       "      <th>Region</th>\n",
       "    </tr>\n",
       "  </thead>\n",
       "  <tbody>\n",
       "    <tr>\n",
       "      <th>0</th>\n",
       "      <td>C1</td>\n",
       "      <td>25</td>\n",
       "      <td>M</td>\n",
       "      <td>1200</td>\n",
       "      <td>North</td>\n",
       "    </tr>\n",
       "    <tr>\n",
       "      <th>1</th>\n",
       "      <td>C2</td>\n",
       "      <td>32</td>\n",
       "      <td>F</td>\n",
       "      <td>800</td>\n",
       "      <td>South</td>\n",
       "    </tr>\n",
       "    <tr>\n",
       "      <th>2</th>\n",
       "      <td>C3</td>\n",
       "      <td>47</td>\n",
       "      <td>F</td>\n",
       "      <td>1500</td>\n",
       "      <td>East</td>\n",
       "    </tr>\n",
       "    <tr>\n",
       "      <th>3</th>\n",
       "      <td>C4</td>\n",
       "      <td>50</td>\n",
       "      <td>M</td>\n",
       "      <td>600</td>\n",
       "      <td>West</td>\n",
       "    </tr>\n",
       "    <tr>\n",
       "      <th>4</th>\n",
       "      <td>C5</td>\n",
       "      <td>29</td>\n",
       "      <td>M</td>\n",
       "      <td>2000</td>\n",
       "      <td>North</td>\n",
       "    </tr>\n",
       "    <tr>\n",
       "      <th>5</th>\n",
       "      <td>C6</td>\n",
       "      <td>39</td>\n",
       "      <td>F</td>\n",
       "      <td>2500</td>\n",
       "      <td>South</td>\n",
       "    </tr>\n",
       "    <tr>\n",
       "      <th>6</th>\n",
       "      <td>C7</td>\n",
       "      <td>36</td>\n",
       "      <td>M</td>\n",
       "      <td>900</td>\n",
       "      <td>East</td>\n",
       "    </tr>\n",
       "  </tbody>\n",
       "</table>\n",
       "</div>"
      ],
      "text/plain": [
       "  Customer_ID  Age Gender  Total_Spend Region\n",
       "0          C1   25      M         1200  North\n",
       "1          C2   32      F          800  South\n",
       "2          C3   47      F         1500   East\n",
       "3          C4   50      M          600   West\n",
       "4          C5   29      M         2000  North\n",
       "5          C6   39      F         2500  South\n",
       "6          C7   36      M          900   East"
      ]
     },
     "execution_count": 12,
     "metadata": {},
     "output_type": "execute_result"
    }
   ],
   "source": [
    "customer"
   ]
  },
  {
   "cell_type": "code",
   "execution_count": 13,
   "id": "ae02b379-ce98-472c-aa5a-d181682185a2",
   "metadata": {},
   "outputs": [
    {
     "data": {
      "text/html": [
       "<div>\n",
       "<style scoped>\n",
       "    .dataframe tbody tr th:only-of-type {\n",
       "        vertical-align: middle;\n",
       "    }\n",
       "\n",
       "    .dataframe tbody tr th {\n",
       "        vertical-align: top;\n",
       "    }\n",
       "\n",
       "    .dataframe thead th {\n",
       "        text-align: right;\n",
       "    }\n",
       "</style>\n",
       "<table border=\"1\" class=\"dataframe\">\n",
       "  <thead>\n",
       "    <tr style=\"text-align: right;\">\n",
       "      <th></th>\n",
       "      <th>Customer_ID</th>\n",
       "      <th>Age</th>\n",
       "      <th>Gender</th>\n",
       "      <th>Total_Spend</th>\n",
       "      <th>Region</th>\n",
       "    </tr>\n",
       "  </thead>\n",
       "  <tbody>\n",
       "    <tr>\n",
       "      <th>0</th>\n",
       "      <td>C1</td>\n",
       "      <td>25</td>\n",
       "      <td>M</td>\n",
       "      <td>1200</td>\n",
       "      <td>North</td>\n",
       "    </tr>\n",
       "    <tr>\n",
       "      <th>2</th>\n",
       "      <td>C3</td>\n",
       "      <td>47</td>\n",
       "      <td>F</td>\n",
       "      <td>1500</td>\n",
       "      <td>East</td>\n",
       "    </tr>\n",
       "    <tr>\n",
       "      <th>4</th>\n",
       "      <td>C5</td>\n",
       "      <td>29</td>\n",
       "      <td>M</td>\n",
       "      <td>2000</td>\n",
       "      <td>North</td>\n",
       "    </tr>\n",
       "    <tr>\n",
       "      <th>5</th>\n",
       "      <td>C6</td>\n",
       "      <td>39</td>\n",
       "      <td>F</td>\n",
       "      <td>2500</td>\n",
       "      <td>South</td>\n",
       "    </tr>\n",
       "  </tbody>\n",
       "</table>\n",
       "</div>"
      ],
      "text/plain": [
       "  Customer_ID  Age Gender  Total_Spend Region\n",
       "0          C1   25      M         1200  North\n",
       "2          C3   47      F         1500   East\n",
       "4          C5   29      M         2000  North\n",
       "5          C6   39      F         2500  South"
      ]
     },
     "execution_count": 13,
     "metadata": {},
     "output_type": "execute_result"
    }
   ],
   "source": [
    "# Filter customers who spent more than $1000:\n",
    "customer[customer['Total_Spend'] > 1000]"
   ]
  },
  {
   "cell_type": "code",
   "execution_count": 14,
   "id": "ac012680-0582-4562-b322-4aab3d240d5c",
   "metadata": {},
   "outputs": [
    {
     "data": {
      "text/plain": [
       "Region\n",
       "East     1200.0\n",
       "North    1600.0\n",
       "South    1650.0\n",
       "West      600.0\n",
       "Name: Total_Spend, dtype: float64"
      ]
     },
     "execution_count": 14,
     "metadata": {},
     "output_type": "execute_result"
    }
   ],
   "source": [
    "# Average total spend by region\n",
    "regional_average = customer.groupby('Region')['Total_Spend'].mean()\n",
    "regional_average"
   ]
  },
  {
   "cell_type": "code",
   "execution_count": 15,
   "id": "e0513a56-40b8-4a86-8b2c-4d3b7aaa8a4e",
   "metadata": {},
   "outputs": [
    {
     "data": {
      "text/html": [
       "<div>\n",
       "<style scoped>\n",
       "    .dataframe tbody tr th:only-of-type {\n",
       "        vertical-align: middle;\n",
       "    }\n",
       "\n",
       "    .dataframe tbody tr th {\n",
       "        vertical-align: top;\n",
       "    }\n",
       "\n",
       "    .dataframe thead th {\n",
       "        text-align: right;\n",
       "    }\n",
       "</style>\n",
       "<table border=\"1\" class=\"dataframe\">\n",
       "  <thead>\n",
       "    <tr style=\"text-align: right;\">\n",
       "      <th></th>\n",
       "      <th>Customer_ID</th>\n",
       "      <th>Age</th>\n",
       "      <th>Gender</th>\n",
       "      <th>Total_Spend</th>\n",
       "      <th>Region</th>\n",
       "    </tr>\n",
       "  </thead>\n",
       "  <tbody>\n",
       "    <tr>\n",
       "      <th>5</th>\n",
       "      <td>C6</td>\n",
       "      <td>39</td>\n",
       "      <td>F</td>\n",
       "      <td>2500</td>\n",
       "      <td>South</td>\n",
       "    </tr>\n",
       "  </tbody>\n",
       "</table>\n",
       "</div>"
      ],
      "text/plain": [
       "  Customer_ID  Age Gender  Total_Spend Region\n",
       "5          C6   39      F         2500  South"
      ]
     },
     "execution_count": 15,
     "metadata": {},
     "output_type": "execute_result"
    }
   ],
   "source": [
    "# Most and least spending customers:\n",
    "highest_spended = customer['Total_Spend'].max()\n",
    "highest_spender = customer[customer['Total_Spend'] == highest_spended]\n",
    "highest_spender"
   ]
  },
  {
   "cell_type": "code",
   "execution_count": 16,
   "id": "1d9cb967-d50a-4f61-9428-f28da9bb8883",
   "metadata": {},
   "outputs": [
    {
     "data": {
      "text/html": [
       "<div>\n",
       "<style scoped>\n",
       "    .dataframe tbody tr th:only-of-type {\n",
       "        vertical-align: middle;\n",
       "    }\n",
       "\n",
       "    .dataframe tbody tr th {\n",
       "        vertical-align: top;\n",
       "    }\n",
       "\n",
       "    .dataframe thead th {\n",
       "        text-align: right;\n",
       "    }\n",
       "</style>\n",
       "<table border=\"1\" class=\"dataframe\">\n",
       "  <thead>\n",
       "    <tr style=\"text-align: right;\">\n",
       "      <th></th>\n",
       "      <th>Customer_ID</th>\n",
       "      <th>Age</th>\n",
       "      <th>Gender</th>\n",
       "      <th>Total_Spend</th>\n",
       "      <th>Region</th>\n",
       "    </tr>\n",
       "  </thead>\n",
       "  <tbody>\n",
       "    <tr>\n",
       "      <th>3</th>\n",
       "      <td>C4</td>\n",
       "      <td>50</td>\n",
       "      <td>M</td>\n",
       "      <td>600</td>\n",
       "      <td>West</td>\n",
       "    </tr>\n",
       "  </tbody>\n",
       "</table>\n",
       "</div>"
      ],
      "text/plain": [
       "  Customer_ID  Age Gender  Total_Spend Region\n",
       "3          C4   50      M          600   West"
      ]
     },
     "execution_count": 16,
     "metadata": {},
     "output_type": "execute_result"
    }
   ],
   "source": [
    "least_spended = customer['Total_Spend'].min()\n",
    "least_spender = customer[customer['Total_Spend'] == least_spended]\n",
    "least_spender"
   ]
  },
  {
   "cell_type": "code",
   "execution_count": null,
   "id": "8d286622-66f0-498f-ab5a-d490759aab06",
   "metadata": {},
   "outputs": [],
   "source": []
  },
  {
   "cell_type": "code",
   "execution_count": null,
   "id": "bdf29d27-9913-472e-984a-20c05cf1b625",
   "metadata": {},
   "outputs": [],
   "source": []
  },
  {
   "cell_type": "code",
   "execution_count": null,
   "id": "44877e3b-2e85-46c0-a5d1-746e5416d421",
   "metadata": {},
   "outputs": [],
   "source": []
  },
  {
   "cell_type": "code",
   "execution_count": null,
   "id": "899cddac-9cb4-46e0-bcaf-198ffb37961f",
   "metadata": {},
   "outputs": [],
   "source": []
  },
  {
   "cell_type": "code",
   "execution_count": null,
   "id": "4904b501-3d7c-4f54-bca4-bda4aef4d805",
   "metadata": {},
   "outputs": [],
   "source": []
  },
  {
   "cell_type": "code",
   "execution_count": null,
   "id": "aca4bb2c-92e8-487d-bdbb-5b1743b36402",
   "metadata": {},
   "outputs": [],
   "source": []
  },
  {
   "cell_type": "markdown",
   "id": "87a8ddfa-e872-4939-a6ea-f14bed35daf1",
   "metadata": {},
   "source": [
    "# 4️⃣ Movie Data Analysis"
   ]
  },
  {
   "cell_type": "raw",
   "id": "85f4ad8f-821f-4c49-b3f7-d2b5ee1086b9",
   "metadata": {},
   "source": [
    "Problem:\n",
    "You’re tasked with analyzing movie data. The dataset includes columns such as Movie Title, Genre, Release Year, Rating, and Revenue.\n",
    "\n",
    "Tasks:\n",
    "\n",
    "1. Find the average rating per genre.\n",
    "2. Create a scatter plot comparing Rating and Revenue.\n",
    "3. Find the highest-grossing movie and its corresponding rating.\n",
    "4. Plot the distribution of ratings using a histogram.\n",
    "5. Find the number of movies released per year and display the results in a bar chart."
   ]
  },
  {
   "cell_type": "code",
   "execution_count": 17,
   "id": "95b8f368-f7e8-45c7-a212-40ce93301f13",
   "metadata": {},
   "outputs": [],
   "source": [
    "movie_data = {\n",
    "    'Movie_Title': ['Movie A', 'Movie B', 'Movie C', 'Movie D', 'Movie E'],\n",
    "    'Genre': ['Action', 'Comedy', 'Action', 'Drama', 'Comedy'],\n",
    "    'Release_Year': [2019, 2020, 2021, 2020, 2021],\n",
    "    'Rating': [7.5, 8.2, 6.9, 7.0, 8.0],\n",
    "    'Revenue': [500000, 1200000, 800000, 300000, 1500000]\n",
    "}\n",
    "\n",
    "movies = pd.DataFrame(movie_data)"
   ]
  },
  {
   "cell_type": "code",
   "execution_count": 18,
   "id": "b02215fc-b604-4de8-a494-f0e719ea4551",
   "metadata": {},
   "outputs": [
    {
     "data": {
      "text/html": [
       "<div>\n",
       "<style scoped>\n",
       "    .dataframe tbody tr th:only-of-type {\n",
       "        vertical-align: middle;\n",
       "    }\n",
       "\n",
       "    .dataframe tbody tr th {\n",
       "        vertical-align: top;\n",
       "    }\n",
       "\n",
       "    .dataframe thead th {\n",
       "        text-align: right;\n",
       "    }\n",
       "</style>\n",
       "<table border=\"1\" class=\"dataframe\">\n",
       "  <thead>\n",
       "    <tr style=\"text-align: right;\">\n",
       "      <th></th>\n",
       "      <th>Movie_Title</th>\n",
       "      <th>Genre</th>\n",
       "      <th>Release_Year</th>\n",
       "      <th>Rating</th>\n",
       "      <th>Revenue</th>\n",
       "    </tr>\n",
       "  </thead>\n",
       "  <tbody>\n",
       "    <tr>\n",
       "      <th>0</th>\n",
       "      <td>Movie A</td>\n",
       "      <td>Action</td>\n",
       "      <td>2019</td>\n",
       "      <td>7.5</td>\n",
       "      <td>500000</td>\n",
       "    </tr>\n",
       "    <tr>\n",
       "      <th>1</th>\n",
       "      <td>Movie B</td>\n",
       "      <td>Comedy</td>\n",
       "      <td>2020</td>\n",
       "      <td>8.2</td>\n",
       "      <td>1200000</td>\n",
       "    </tr>\n",
       "    <tr>\n",
       "      <th>2</th>\n",
       "      <td>Movie C</td>\n",
       "      <td>Action</td>\n",
       "      <td>2021</td>\n",
       "      <td>6.9</td>\n",
       "      <td>800000</td>\n",
       "    </tr>\n",
       "    <tr>\n",
       "      <th>3</th>\n",
       "      <td>Movie D</td>\n",
       "      <td>Drama</td>\n",
       "      <td>2020</td>\n",
       "      <td>7.0</td>\n",
       "      <td>300000</td>\n",
       "    </tr>\n",
       "    <tr>\n",
       "      <th>4</th>\n",
       "      <td>Movie E</td>\n",
       "      <td>Comedy</td>\n",
       "      <td>2021</td>\n",
       "      <td>8.0</td>\n",
       "      <td>1500000</td>\n",
       "    </tr>\n",
       "  </tbody>\n",
       "</table>\n",
       "</div>"
      ],
      "text/plain": [
       "  Movie_Title   Genre  Release_Year  Rating  Revenue\n",
       "0     Movie A  Action          2019     7.5   500000\n",
       "1     Movie B  Comedy          2020     8.2  1200000\n",
       "2     Movie C  Action          2021     6.9   800000\n",
       "3     Movie D   Drama          2020     7.0   300000\n",
       "4     Movie E  Comedy          2021     8.0  1500000"
      ]
     },
     "execution_count": 18,
     "metadata": {},
     "output_type": "execute_result"
    }
   ],
   "source": [
    "movies"
   ]
  },
  {
   "cell_type": "code",
   "execution_count": 19,
   "id": "b3e826fa-6a4f-4fdc-8703-fd29cff9450d",
   "metadata": {},
   "outputs": [
    {
     "data": {
      "text/plain": [
       "Genre\n",
       "Action    7.2\n",
       "Comedy    8.1\n",
       "Drama     7.0\n",
       "Name: Rating, dtype: float64"
      ]
     },
     "execution_count": 19,
     "metadata": {},
     "output_type": "execute_result"
    }
   ],
   "source": [
    "# Average rating by genre:\n",
    "genre_rating = movies.groupby('Genre')['Rating'].mean()\n",
    "genre_rating"
   ]
  },
  {
   "cell_type": "code",
   "execution_count": 20,
   "id": "beee8bf3-eabd-4b5c-96fc-4a5faee656b6",
   "metadata": {},
   "outputs": [
    {
     "data": {
      "text/html": [
       "<div>\n",
       "<style scoped>\n",
       "    .dataframe tbody tr th:only-of-type {\n",
       "        vertical-align: middle;\n",
       "    }\n",
       "\n",
       "    .dataframe tbody tr th {\n",
       "        vertical-align: top;\n",
       "    }\n",
       "\n",
       "    .dataframe thead th {\n",
       "        text-align: right;\n",
       "    }\n",
       "</style>\n",
       "<table border=\"1\" class=\"dataframe\">\n",
       "  <thead>\n",
       "    <tr style=\"text-align: right;\">\n",
       "      <th></th>\n",
       "      <th>Movie_Title</th>\n",
       "      <th>Genre</th>\n",
       "      <th>Release_Year</th>\n",
       "      <th>Rating</th>\n",
       "      <th>Revenue</th>\n",
       "    </tr>\n",
       "  </thead>\n",
       "  <tbody>\n",
       "    <tr>\n",
       "      <th>4</th>\n",
       "      <td>Movie E</td>\n",
       "      <td>Comedy</td>\n",
       "      <td>2021</td>\n",
       "      <td>8.0</td>\n",
       "      <td>1500000</td>\n",
       "    </tr>\n",
       "  </tbody>\n",
       "</table>\n",
       "</div>"
      ],
      "text/plain": [
       "  Movie_Title   Genre  Release_Year  Rating  Revenue\n",
       "4     Movie E  Comedy          2021     8.0  1500000"
      ]
     },
     "execution_count": 20,
     "metadata": {},
     "output_type": "execute_result"
    }
   ],
   "source": [
    "# Highest-grossing movie:\n",
    "highest_revenue = movies[movies['Revenue'] == movies['Revenue'].max()]\n",
    "highest_revenue "
   ]
  },
  {
   "cell_type": "code",
   "execution_count": null,
   "id": "57772a6a-158e-4ec5-98b9-245f493470d5",
   "metadata": {},
   "outputs": [],
   "source": []
  },
  {
   "cell_type": "code",
   "execution_count": null,
   "id": "c814fcdb-fb68-4324-90ca-22a98c101604",
   "metadata": {},
   "outputs": [],
   "source": []
  },
  {
   "cell_type": "code",
   "execution_count": null,
   "id": "3d3300ed-5b51-4308-bc1a-77c63d2e7036",
   "metadata": {},
   "outputs": [],
   "source": []
  },
  {
   "cell_type": "code",
   "execution_count": null,
   "id": "ccbfbbfb-cd03-4675-bc86-8e0bd70683fc",
   "metadata": {},
   "outputs": [],
   "source": []
  },
  {
   "cell_type": "code",
   "execution_count": null,
   "id": "90086794-fdd0-4c3a-a2bc-91037bbb1c47",
   "metadata": {},
   "outputs": [],
   "source": []
  },
  {
   "cell_type": "markdown",
   "id": "8d51b0b8-f65f-40c7-a9eb-42531202e267",
   "metadata": {},
   "source": [
    "# 5️⃣ US Stock Market Data"
   ]
  },
  {
   "cell_type": "raw",
   "id": "198d1191-d3e6-4dcd-ba7e-69b89b7d08ce",
   "metadata": {},
   "source": [
    "Problem:\n",
    "You have stock market data containing columns like Date, Company, Opening Price, Closing Price, Volume, and Market Cap.\n",
    "\n",
    "Tasks:\n",
    "\n",
    "1. Load the stock market data and check for missing values.\n",
    "2. Calculate the daily percentage change in stock price.\n",
    "3. Filter out the data where the Volume is below a certain threshold.\n",
    "4. Plot the stock price trends of two companies over time using a line plot.\n",
    "5. Compute the correlation between Opening Price and Closing Price."
   ]
  },
  {
   "cell_type": "code",
   "execution_count": 21,
   "id": "2dabe790-0f9f-4dbe-87f9-deb7b38e94cf",
   "metadata": {},
   "outputs": [],
   "source": [
    "stock_data = {\n",
    "    'Date': pd.date_range('2021-01-01', periods=5, freq='D'),\n",
    "    'Company': ['Apple', 'Apple', 'Google', 'Google', 'Apple'],\n",
    "    'Opening_Price': [135, 138, 1500, 1520, 140],\n",
    "    'Closing_Price': [140, 142, 1520, 1540, 145],\n",
    "    'Volume': [100000, 120000, 130000, 140000, 110000],\n",
    "    'Market_Cap': [2300000000000, 2350000000000, 1600000000000, 1650000000000, 2330000000000]\n",
    "}\n",
    "\n",
    "stocks = pd.DataFrame(stock_data)"
   ]
  },
  {
   "cell_type": "code",
   "execution_count": 22,
   "id": "e5e3c066-add4-4c91-909f-6789473aac02",
   "metadata": {},
   "outputs": [
    {
     "data": {
      "text/html": [
       "<div>\n",
       "<style scoped>\n",
       "    .dataframe tbody tr th:only-of-type {\n",
       "        vertical-align: middle;\n",
       "    }\n",
       "\n",
       "    .dataframe tbody tr th {\n",
       "        vertical-align: top;\n",
       "    }\n",
       "\n",
       "    .dataframe thead th {\n",
       "        text-align: right;\n",
       "    }\n",
       "</style>\n",
       "<table border=\"1\" class=\"dataframe\">\n",
       "  <thead>\n",
       "    <tr style=\"text-align: right;\">\n",
       "      <th></th>\n",
       "      <th>Date</th>\n",
       "      <th>Company</th>\n",
       "      <th>Opening_Price</th>\n",
       "      <th>Closing_Price</th>\n",
       "      <th>Volume</th>\n",
       "      <th>Market_Cap</th>\n",
       "    </tr>\n",
       "  </thead>\n",
       "  <tbody>\n",
       "    <tr>\n",
       "      <th>0</th>\n",
       "      <td>2021-01-01</td>\n",
       "      <td>Apple</td>\n",
       "      <td>135</td>\n",
       "      <td>140</td>\n",
       "      <td>100000</td>\n",
       "      <td>2300000000000</td>\n",
       "    </tr>\n",
       "    <tr>\n",
       "      <th>1</th>\n",
       "      <td>2021-01-02</td>\n",
       "      <td>Apple</td>\n",
       "      <td>138</td>\n",
       "      <td>142</td>\n",
       "      <td>120000</td>\n",
       "      <td>2350000000000</td>\n",
       "    </tr>\n",
       "    <tr>\n",
       "      <th>2</th>\n",
       "      <td>2021-01-03</td>\n",
       "      <td>Google</td>\n",
       "      <td>1500</td>\n",
       "      <td>1520</td>\n",
       "      <td>130000</td>\n",
       "      <td>1600000000000</td>\n",
       "    </tr>\n",
       "    <tr>\n",
       "      <th>3</th>\n",
       "      <td>2021-01-04</td>\n",
       "      <td>Google</td>\n",
       "      <td>1520</td>\n",
       "      <td>1540</td>\n",
       "      <td>140000</td>\n",
       "      <td>1650000000000</td>\n",
       "    </tr>\n",
       "    <tr>\n",
       "      <th>4</th>\n",
       "      <td>2021-01-05</td>\n",
       "      <td>Apple</td>\n",
       "      <td>140</td>\n",
       "      <td>145</td>\n",
       "      <td>110000</td>\n",
       "      <td>2330000000000</td>\n",
       "    </tr>\n",
       "  </tbody>\n",
       "</table>\n",
       "</div>"
      ],
      "text/plain": [
       "        Date Company  Opening_Price  Closing_Price  Volume     Market_Cap\n",
       "0 2021-01-01   Apple            135            140  100000  2300000000000\n",
       "1 2021-01-02   Apple            138            142  120000  2350000000000\n",
       "2 2021-01-03  Google           1500           1520  130000  1600000000000\n",
       "3 2021-01-04  Google           1520           1540  140000  1650000000000\n",
       "4 2021-01-05   Apple            140            145  110000  2330000000000"
      ]
     },
     "execution_count": 22,
     "metadata": {},
     "output_type": "execute_result"
    }
   ],
   "source": [
    "stocks"
   ]
  },
  {
   "cell_type": "code",
   "execution_count": 23,
   "id": "8a0b8bcb-4603-40f8-8185-3f96d01f2150",
   "metadata": {},
   "outputs": [],
   "source": [
    "# Calculate the daily percentage change in stock price.\n"
   ]
  },
  {
   "cell_type": "code",
   "execution_count": null,
   "id": "7b11bec3-f404-4079-8da9-ac79226e3c92",
   "metadata": {},
   "outputs": [],
   "source": []
  },
  {
   "cell_type": "code",
   "execution_count": null,
   "id": "255b9d1a-f045-4453-b6b8-821024b4e1e1",
   "metadata": {},
   "outputs": [],
   "source": []
  },
  {
   "cell_type": "code",
   "execution_count": null,
   "id": "2f3216d9-e131-4a68-95aa-808b76bd6c55",
   "metadata": {},
   "outputs": [],
   "source": []
  },
  {
   "cell_type": "code",
   "execution_count": null,
   "id": "b62411a3-3c98-41cd-beb6-12e3bfd550e7",
   "metadata": {},
   "outputs": [],
   "source": []
  },
  {
   "cell_type": "code",
   "execution_count": null,
   "id": "07055033-de9a-4222-8195-a194079c6634",
   "metadata": {},
   "outputs": [],
   "source": []
  },
  {
   "cell_type": "code",
   "execution_count": null,
   "id": "3befb605-7fdf-49c8-a54a-558d86451777",
   "metadata": {},
   "outputs": [],
   "source": []
  },
  {
   "cell_type": "code",
   "execution_count": null,
   "id": "19f9e67d-a4eb-4986-a732-d40ad20709e7",
   "metadata": {},
   "outputs": [],
   "source": []
  },
  {
   "cell_type": "code",
   "execution_count": null,
   "id": "33b08706-0109-463b-af7a-3ebc9529f7c9",
   "metadata": {},
   "outputs": [],
   "source": []
  },
  {
   "cell_type": "code",
   "execution_count": null,
   "id": "d5f8335a-5518-4ef2-8334-c00758d88750",
   "metadata": {},
   "outputs": [],
   "source": []
  },
  {
   "cell_type": "code",
   "execution_count": null,
   "id": "fe3e93ed-645e-4dcc-a9d6-45f980330e80",
   "metadata": {},
   "outputs": [],
   "source": []
  },
  {
   "cell_type": "code",
   "execution_count": null,
   "id": "1a0e824a-154b-47c4-acad-6aa248e60b94",
   "metadata": {},
   "outputs": [],
   "source": []
  },
  {
   "cell_type": "code",
   "execution_count": null,
   "id": "272fadcc-e725-4287-87bf-3e1780843b82",
   "metadata": {},
   "outputs": [],
   "source": []
  },
  {
   "cell_type": "markdown",
   "id": "851c9cef-d14d-42c6-923b-b17c7fd4cd42",
   "metadata": {},
   "source": [
    "# 6️⃣ World Population Analysis"
   ]
  },
  {
   "cell_type": "raw",
   "id": "0c82ad03-193d-4f4d-a3c7-41a63cf212a8",
   "metadata": {},
   "source": [
    "Problem:\n",
    "You have population data for different countries, with columns like Country, Continent, Population, and GDP. You need to analyze global population trends.\n",
    "\n",
    "Tasks:\n",
    "\n",
    "1. Calculate the total population by continent.\n",
    "2. Identify the top 5 most populous countries.\n",
    "3. Create a scatter plot to visualize the relationship between GDP and Population.\n",
    "4. Find countries with a population greater than 100 million.\n",
    "5. Create a bar plot for GDP by continent."
   ]
  },
  {
   "cell_type": "code",
   "execution_count": 24,
   "id": "66960458-1985-4bb6-88ca-b71504144248",
   "metadata": {},
   "outputs": [],
   "source": [
    "population_data = {\n",
    "    'Country': ['China', 'India', 'USA', 'Indonesia', 'Brazil'],\n",
    "    'Continent': ['Asia', 'Asia', 'North America', 'Asia', 'South America'],\n",
    "    'Population': [1393409038, 1366417754, 331002651, 273523615, 212559417],\n",
    "    'GDP': [14342903, 2713082, 21433225, 1056360, 2055505]\n",
    "}\n",
    "\n",
    "population = pd.DataFrame(population_data)"
   ]
  },
  {
   "cell_type": "code",
   "execution_count": 25,
   "id": "04f851fc-e205-4a54-8720-3f957bcc2f27",
   "metadata": {},
   "outputs": [
    {
     "data": {
      "text/html": [
       "<div>\n",
       "<style scoped>\n",
       "    .dataframe tbody tr th:only-of-type {\n",
       "        vertical-align: middle;\n",
       "    }\n",
       "\n",
       "    .dataframe tbody tr th {\n",
       "        vertical-align: top;\n",
       "    }\n",
       "\n",
       "    .dataframe thead th {\n",
       "        text-align: right;\n",
       "    }\n",
       "</style>\n",
       "<table border=\"1\" class=\"dataframe\">\n",
       "  <thead>\n",
       "    <tr style=\"text-align: right;\">\n",
       "      <th></th>\n",
       "      <th>Country</th>\n",
       "      <th>Continent</th>\n",
       "      <th>Population</th>\n",
       "      <th>GDP</th>\n",
       "    </tr>\n",
       "  </thead>\n",
       "  <tbody>\n",
       "    <tr>\n",
       "      <th>0</th>\n",
       "      <td>China</td>\n",
       "      <td>Asia</td>\n",
       "      <td>1393409038</td>\n",
       "      <td>14342903</td>\n",
       "    </tr>\n",
       "    <tr>\n",
       "      <th>1</th>\n",
       "      <td>India</td>\n",
       "      <td>Asia</td>\n",
       "      <td>1366417754</td>\n",
       "      <td>2713082</td>\n",
       "    </tr>\n",
       "    <tr>\n",
       "      <th>2</th>\n",
       "      <td>USA</td>\n",
       "      <td>North America</td>\n",
       "      <td>331002651</td>\n",
       "      <td>21433225</td>\n",
       "    </tr>\n",
       "    <tr>\n",
       "      <th>3</th>\n",
       "      <td>Indonesia</td>\n",
       "      <td>Asia</td>\n",
       "      <td>273523615</td>\n",
       "      <td>1056360</td>\n",
       "    </tr>\n",
       "    <tr>\n",
       "      <th>4</th>\n",
       "      <td>Brazil</td>\n",
       "      <td>South America</td>\n",
       "      <td>212559417</td>\n",
       "      <td>2055505</td>\n",
       "    </tr>\n",
       "  </tbody>\n",
       "</table>\n",
       "</div>"
      ],
      "text/plain": [
       "     Country      Continent  Population       GDP\n",
       "0      China           Asia  1393409038  14342903\n",
       "1      India           Asia  1366417754   2713082\n",
       "2        USA  North America   331002651  21433225\n",
       "3  Indonesia           Asia   273523615   1056360\n",
       "4     Brazil  South America   212559417   2055505"
      ]
     },
     "execution_count": 25,
     "metadata": {},
     "output_type": "execute_result"
    }
   ],
   "source": [
    "population"
   ]
  },
  {
   "cell_type": "code",
   "execution_count": 26,
   "id": "cb82ebe7-29a8-48b1-9073-7cefbb124579",
   "metadata": {},
   "outputs": [
    {
     "data": {
      "text/plain": [
       "Continent\n",
       "Asia             3033350407\n",
       "North America     331002651\n",
       "South America     212559417\n",
       "Name: Population, dtype: int64"
      ]
     },
     "execution_count": 26,
     "metadata": {},
     "output_type": "execute_result"
    }
   ],
   "source": [
    "# Calculate the total population by continent.\n",
    "continent_population = population.groupby('Continent')['Population'].sum()\n",
    "continent_population"
   ]
  },
  {
   "cell_type": "code",
   "execution_count": null,
   "id": "d82a83a5-e8d4-4ecd-90c3-cdd7f4ff2343",
   "metadata": {},
   "outputs": [],
   "source": []
  }
 ],
 "metadata": {
  "kernelspec": {
   "display_name": "Python (data-analysis)",
   "language": "python",
   "name": "data-anaysis"
  },
  "language_info": {
   "codemirror_mode": {
    "name": "ipython",
    "version": 3
   },
   "file_extension": ".py",
   "mimetype": "text/x-python",
   "name": "python",
   "nbconvert_exporter": "python",
   "pygments_lexer": "ipython3",
   "version": "3.11.13"
  }
 },
 "nbformat": 4,
 "nbformat_minor": 5
}
