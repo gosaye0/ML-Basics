{
 "cells": [
  {
   "cell_type": "markdown",
   "id": "6802d0a2-0cad-4036-ba40-df8fc3902bd3",
   "metadata": {},
   "source": [
    "### Problem 1: Array Creation and Basic Operations\n",
    "Create a 1D NumPy array with numbers from 10 to 50 (inclusive) with a step of 5. Then:\n",
    "1. Find the mean and standard deviation\n",
    "2. Create a boolean mask for values greater than 30\n",
    "3. Replace all values greater than 30 with -1"
   ]
  },
  {
   "cell_type": "code",
   "execution_count": 1,
   "id": "acedc79f-7498-4929-b02f-02785fca1e97",
   "metadata": {},
   "outputs": [],
   "source": [
    "import numpy as np"
   ]
  },
  {
   "cell_type": "code",
   "execution_count": 2,
   "id": "094e5369-6c9a-4e39-adf0-cfee9b9f8f8d",
   "metadata": {},
   "outputs": [
    {
     "name": "stdout",
     "output_type": "stream",
     "text": [
      "Array: \n",
      "[10 15 20 25 30 35 40 45 50]\n",
      "Mean: 30.0\n",
      "Standard deviation: 12.909944487358056\n",
      "Array: \n",
      "[10 15 20 25 30 -1 -1 -1 -1]\n"
     ]
    }
   ],
   "source": [
    "arr = np.arange(10, 51, 5)\n",
    "print(f\"Array: \\n{arr}\")\n",
    "\n",
    "mean = np.mean(arr)\n",
    "std_dev = np.std(arr)\n",
    "\n",
    "print(f\"Mean: {mean}\")\n",
    "print(f\"Standard deviation: {std_dev}\")\n",
    "\n",
    "mask = arr > 30\n",
    "arr[mask] = -1\n",
    "\n",
    "print(f\"Array: \\n{arr}\")"
   ]
  },
  {
   "cell_type": "markdown",
   "id": "3a139575-306e-455d-9293-df01d8e8bd9b",
   "metadata": {},
   "source": [
    "### Problem 2: 2D Array Manipulation\n",
    "Create a 6x6 matrix filled with random integers between 1 and 100. Then:\n",
    "\n",
    "1. Extract the 3x3 submatrix from the center\n",
    "2. Find the sum of each row\n",
    "3. Find the maximum value in each column"
   ]
  },
  {
   "cell_type": "code",
   "execution_count": 3,
   "id": "02ff4236-f3ce-4a85-8985-f90acbb6868d",
   "metadata": {},
   "outputs": [
    {
     "name": "stdout",
     "output_type": "stream",
     "text": [
      "Original array: \n",
      "[[52 93 15 72 61 21]\n",
      " [83 87 75 75 88 24]\n",
      " [ 3 22 53  2 88 30]\n",
      " [38  2 64 60 21 33]\n",
      " [76 58 22 89 49 91]\n",
      " [59 42 92 60 80 15]]\n",
      "4x4 center submatrix: \n",
      "[[87 75 75 88]\n",
      " [22 53  2 88]\n",
      " [ 2 64 60 21]\n",
      " [58 22 89 49]]\n",
      "sum of each row: [314 432 198 218 385 348]\n",
      "The maximum of each column: [83 93 92 89 88 91]\n"
     ]
    }
   ],
   "source": [
    "import numpy as np\n",
    "np.random.seed(42)\n",
    "arr = np.random.randint(1, 100, size = (6, 6))\n",
    "orginal_arr = arr.copy()\n",
    "print(f\"Original array: \\n{orginal_arr}\")\n",
    "\n",
    "# Sorry I extracted 4x4 submatrix. 3x3 seems inappropriate\n",
    "submatrix = arr[1:5, 1:5]\n",
    "print(f\"4x4 center submatrix: \\n{submatrix}\")\n",
    "\n",
    "# Sum of each row\n",
    "total_row = np.sum(arr, axis = 1)\n",
    "print(f\"sum of each row: {total_row}\")\n",
    "\n",
    "# The maximum value in each column\n",
    "max_col = np.max(arr, axis = 0)\n",
    "print(f\"The maximum of each column: {max_col}\")"
   ]
  },
  {
   "cell_type": "markdown",
   "id": "a171b32c-7f0d-4c81-adaa-5aa121340e73",
   "metadata": {},
   "source": [
    "### Problem 3: Array Reshaping and Indexing\n",
    "Create a 1D array with values from 1 to 24. Then:\n",
    "\n",
    "1. Reshape it into a 4x6 matrix\n",
    "2. Extract every 2nd row and every 3rd column\n",
    "3. Flatten it back to 1D using two different methods"
   ]
  },
  {
   "cell_type": "code",
   "execution_count": 4,
   "id": "067fc305-3f2a-4e47-a5a9-cca9395cbbd6",
   "metadata": {},
   "outputs": [
    {
     "name": "stdout",
     "output_type": "stream",
     "text": [
      "Orginal array: \n",
      "[[ 1  2  3  4  5  6]\n",
      " [ 7  8  9 10 11 12]\n",
      " [13 14 15 16 17 18]\n",
      " [19 20 21 22 23 24]]\n",
      "every 2nd row and every 3rd column: \n",
      "[[ 1  4]\n",
      " [13 16]]\n",
      "copy: [ 1  2  3  4  5  6  7  8  9 10 11 12 13 14 15 16 17 18 19 20 21 22 23 24]\n",
      "view: [ 1  2  3  4  5  6  7  8  9 10 11 12 13 14 15 16 17 18 19 20 21 22 23 24]\n"
     ]
    }
   ],
   "source": [
    "import numpy as np\n",
    "arr = np.arange(1, 25).reshape(4, 6)\n",
    "orginal_arr = arr.copy()\n",
    "print(f\"Orginal array: \\n{orginal_arr}\")\n",
    "\n",
    "# Extract every 2nd row and every 3rd column\n",
    "sub = arr[::2, ::3]\n",
    "\n",
    "print(f\"every 2nd row and every 3rd column: \\n{sub}\")\n",
    "\n",
    "\n",
    "# Flatten it back to 1D using two different methods\n",
    "flatten_copy = arr.flatten()\n",
    "ravel_view = arr.ravel()\n",
    "\n",
    "print(f\"copy: {flatten_copy}\")\n",
    "print(f\"view: {ravel_view}\")"
   ]
  },
  {
   "cell_type": "markdown",
   "id": "efab9215-1d1a-4198-9b13-145380964478",
   "metadata": {},
   "source": [
    "### Problem 4: Broadcasting Challenge\n",
    "Create two arrays:\n",
    "\n",
    "1. Array A: shape (4, 1) with values [1, 2, 3, 4]\n",
    "2. Array B: shape (3,) with values [10, 20, 30]\n",
    "3. Add these arrays together using broadcasting and explain the resulting shape."
   ]
  },
  {
   "cell_type": "code",
   "execution_count": 5,
   "id": "c2ec62b7-000d-4a42-80ec-35959339b9a0",
   "metadata": {},
   "outputs": [
    {
     "name": "stdout",
     "output_type": "stream",
     "text": [
      "A + B: \n",
      "[[11 21 31]\n",
      " [12 22 32]\n",
      " [13 23 33]\n",
      " [14 24 34]]\n"
     ]
    }
   ],
   "source": [
    "import numpy as np\n",
    "A = np.array([[1], [2], [3], [4]])\n",
    "B = ([10, 20, 30])\n",
    "print(f\"A + B: \\n{A + B}\")"
   ]
  },
  {
   "cell_type": "markdown",
   "id": "d313ce67-c180-4e70-904f-aa357e4f5ab4",
   "metadata": {},
   "source": [
    "### Problem 5: Statistical Analysis\n",
    "Create a 2D array (5x4) with random normal distribution (mean=50, std=15). Then:\n",
    "\n",
    "1. Calculate the mean along axis 0 and axis 1\n",
    "2. Find the overall standard deviation\n",
    "3. Normalize each column to have mean=0 and std=1"
   ]
  },
  {
   "cell_type": "code",
   "execution_count": 6,
   "id": "fad00db2-2599-47de-a2ea-a24157a8c41a",
   "metadata": {},
   "outputs": [
    {
     "name": "stdout",
     "output_type": "stream",
     "text": [
      "Original array: \n",
      "[[57.4507123  47.92603548 59.71532807 72.84544785]\n",
      " [46.48769938 46.48794565 73.68819223 61.51152094]\n",
      " [42.95788421 58.13840065 43.04873461 43.0140537 ]\n",
      " [53.62943407 21.30079633 24.12623251 41.56568706]\n",
      " [34.80753319 54.71370999 36.37963887 28.81544448]]\n",
      "Mean along axis 0: [47.06665263 45.71337762 47.39162526 49.5504308 ]\n",
      "Mean along axis 1: [59.48438092 57.04383955 46.78976829 35.15553749 38.67908163]\n",
      "Overall standard deviation: 14.03579938340667\n",
      "Normalized arr: \n",
      "[[ 1.30126067  0.17103052  0.70570266  1.49000106]\n",
      " [-0.07255054  0.05987133  1.50584264  0.7650579 ]\n",
      " [-0.51488329  0.96040972 -0.24869063 -0.4180812 ]\n",
      " [ 0.82240373 -1.88700499 -1.33226594 -0.51072195]\n",
      " [-1.53623058  0.69569342 -0.63058873 -1.3262558 ]]\n"
     ]
    }
   ],
   "source": [
    "import numpy as np\n",
    "np.random.seed(42)\n",
    "arr = np.random.normal(loc = 50, scale = 15, size = (5, 4))\n",
    "original_arr = arr.copy()\n",
    "print(f\"Original array: \\n{original_arr}\")\n",
    "\n",
    "#  The mean along axis 0 and axis 1\n",
    "mean_axis0 = np.mean(arr, axis = 0)\n",
    "mean_axis1 = np.mean(arr, axis = 1)\n",
    "\n",
    "print(f\"Mean along axis 0: {mean_axis0}\")\n",
    "print(f\"Mean along axis 1: {mean_axis1}\")\n",
    "\n",
    "# overall standard deviation\n",
    "std_dev = np.std(arr)\n",
    "print(f\"Overall standard deviation: {std_dev}\")\n",
    "\n",
    "# Normalize each column to have mean=0 and std=1\n",
    "nor_arr = (arr - np.mean(arr, axis = 0))/np.std(arr, axis = 0)\n",
    "print(f\"Normalized arr: \\n{nor_arr}\")"
   ]
  },
  {
   "cell_type": "markdown",
   "id": "15955db9-aa0b-44c0-8645-cdf033d0a4c0",
   "metadata": {},
   "source": [
    "### Problem 6: Conditional Operations\n",
    "Create an array of 20 random integers between -10 and 10. Then:\n",
    "\n",
    "1. Replace negative values with 0\n",
    "2. Replace positive values greater than 5 with 5 (clip maximum)\n",
    "3. Count how many zeros are in the final array"
   ]
  },
  {
   "cell_type": "code",
   "execution_count": 7,
   "id": "76083dee-6751-4fac-a287-d935bf405287",
   "metadata": {},
   "outputs": [
    {
     "name": "stdout",
     "output_type": "stream",
     "text": [
      "Original array: \n",
      "[ -4   9   4   0  -3  -4   8   0   0  -7  -3  -8  -9   1  -5  -9 -10   1\n",
      "   1   6]\n",
      "negateves repalaced arr: \n",
      "[0 9 4 0 0 0 8 0 0 0 0 0 0 1 0 0 0 1 1 6]\n",
      "grater than 5 replaced arr: \n",
      "[0 5 4 0 0 0 5 0 0 0 0 0 0 1 0 0 0 1 1 5]\n",
      "Number of zeros in the final array is: 13\n"
     ]
    }
   ],
   "source": [
    "import numpy as np\n",
    "np.random.seed(42)\n",
    "arr = np.random.randint(-10, 10, size = 20)\n",
    "original_arr = arr.copy()\n",
    "print(f\"Original array: \\n{arr}\")\n",
    "\n",
    "# Replace negative values with 0\n",
    "arr[arr < 0] = 0\n",
    "print(f\"negateves repalaced arr: \\n{arr}\")\n",
    "arr[arr > 5] = 5\n",
    "print(f\"grater than 5 replaced arr: \\n{arr}\")\n",
    "zero_count = np.count_nonzero(arr == 0)\n",
    "print(f\"Number of zeros in the final array is: {zero_count}\")"
   ]
  },
  {
   "cell_type": "markdown",
   "id": "4feabd77-6e80-4173-806b-98b26e880f93",
   "metadata": {},
   "source": [
    "### Problem 7: Matrix Operations\n",
    "Create two 3x3 matrices A and B with random integers from 1 to 9. Then:\n",
    "\n",
    "1. Compute the matrix multiplication A @ B\n",
    "2. Find the determinant of the result\n",
    "3. Check if the result is invertible (determinant ≠ 0)"
   ]
  },
  {
   "cell_type": "code",
   "execution_count": 8,
   "id": "5a9d250e-3397-4d6a-b08b-cab3081e1921",
   "metadata": {},
   "outputs": [
    {
     "name": "stdout",
     "output_type": "stream",
     "text": [
      "A: \n",
      "[[7 4 5]\n",
      " [7 3 8]\n",
      " [5 5 7]]\n",
      "B: \n",
      "[[2 3 7]\n",
      " [3 3 8]\n",
      " [5 4 8]]\n",
      "A @ B: \n",
      "[[ 51  53 121]\n",
      " [ 63  62 137]\n",
      " [ 60  58 131]]\n",
      "The determinant of A @ B is: -758.999999999999\n",
      "The result is invertible\n"
     ]
    }
   ],
   "source": [
    "import numpy as np\n",
    "np.random.seed(42)\n",
    "A = np.random.randint(1, 9, size = (3, 3))\n",
    "B = np.random.randint(1, 9, size = (3, 3))\n",
    "\n",
    "print(f\"A: \\n{A}\")\n",
    "print(f\"B: \\n{B}\")\n",
    "\n",
    "# Compute the matrix multiplication A @ B\n",
    "C = A @ B\n",
    "print(f\"A @ B: \\n{C}\")\n",
    "# Find the determinant of the result\n",
    "det_c = np.linalg.det(C)\n",
    "print(f\"The determinant of A @ B is: {det_c}\")\n",
    "if det_c == 0:\n",
    "    print(\"The result is not invertible\")\n",
    "else:\n",
    "    print(\"The result is invertible\")"
   ]
  },
  {
   "cell_type": "markdown",
   "id": "282890ea-6e1b-4e2b-acf2-e84f413e950e",
   "metadata": {},
   "source": [
    "### Problem 8: Data Cleaning\n",
    "Create an array: [1.2, 2.5, np.nan, 4.1, np.nan, 6.8, 7.2, np.nan, 9.1, 10.0]\n",
    "\n",
    "1. Count the number of NaN values\n",
    "2. Calculate the mean ignoring NaN values\n",
    "3. Replace NaN values with the mean of non-NaN values"
   ]
  },
  {
   "cell_type": "code",
   "execution_count": 9,
   "id": "cbb5b8c2-e6c5-4b47-83b0-b45ccb43f9b5",
   "metadata": {},
   "outputs": [
    {
     "name": "stdout",
     "output_type": "stream",
     "text": [
      "Original array: \n",
      "[ 1.2  2.5  nan  4.1  nan  6.8  7.2  nan  9.1 10. ]\n",
      "The number of NaN values is: 3\n",
      "The mean after ignoring NaN is: 5.8428571428571425\n",
      "The array after NaN values replaced with mean: \n",
      "[ 1.2         2.5         5.84285714  4.1         5.84285714  6.8\n",
      "  7.2         5.84285714  9.1        10.        ]\n"
     ]
    }
   ],
   "source": [
    "import numpy as np\n",
    "arr = np.array([1.2, 2.5, np.nan, 4.1, np.nan, 6.8, 7.2, np.nan, 9.1, 10.0])\n",
    "original_arr = arr.copy()\n",
    "print(f\"Original array: \\n{original_arr}\")\n",
    "\n",
    "# Count the number of NaN values\n",
    "nan_count = np.sum(np.isnan(arr))\n",
    "print(f\"The number of NaN values is: {nan_count}\")\n",
    "\n",
    "mean = np.nanmean(arr)\n",
    "print(f\"The mean after ignoring NaN is: {mean}\")\n",
    "# Replace NaN values with the mean of non-NaN values\n",
    "arr[np.isnan(arr)] = mean\n",
    "print(f\"The array after NaN values replaced with mean: \\n{arr}\")"
   ]
  },
  {
   "cell_type": "markdown",
   "id": "11536a46-374f-4d93-90d3-41819c7b0d06",
   "metadata": {},
   "source": [
    "### Problem 9: Pattern Creation\n",
    "Create a 8x8 checkerboard pattern where:\n",
    "\n",
    "1. Even positions (i+j is even) have value 0\n",
    "2. Odd positions (i+j is odd) have value 1\n",
    "3. Do this without using loops."
   ]
  },
  {
   "cell_type": "code",
   "execution_count": 10,
   "id": "a210ff8a-e9fa-4e39-88b8-e39be48a8c85",
   "metadata": {},
   "outputs": [
    {
     "data": {
      "text/plain": [
       "array([[0., 1., 0., 1., 0., 1., 0., 1.],\n",
       "       [1., 0., 1., 0., 1., 0., 1., 0.],\n",
       "       [0., 1., 0., 1., 0., 1., 0., 1.],\n",
       "       [1., 0., 1., 0., 1., 0., 1., 0.],\n",
       "       [0., 1., 0., 1., 0., 1., 0., 1.],\n",
       "       [1., 0., 1., 0., 1., 0., 1., 0.],\n",
       "       [0., 1., 0., 1., 0., 1., 0., 1.],\n",
       "       [1., 0., 1., 0., 1., 0., 1., 0.]])"
      ]
     },
     "execution_count": 10,
     "metadata": {},
     "output_type": "execute_result"
    }
   ],
   "source": [
    "import numpy as np\n",
    "arr = np.ones((8, 8))\n",
    "arr[::2, [0, 2, 4, 6]] = 0\n",
    "arr[1::2, [1, 3, 5, 7]] = 0\n",
    "arr"
   ]
  },
  {
   "cell_type": "markdown",
   "id": "0ca2a56e-8ae5-4fec-83e9-1a59c1bfe32e",
   "metadata": {},
   "source": [
    "### Problem 10: Advanced Indexing\n",
    "Create a 5x5 matrix with values from 1 to 25. Then:\n",
    "\n",
    "1. Extract elements at positions (0,0), (1,2), (3,4), and (4,1) using fancy indexing\n",
    "2. Create a boolean mask to select all elements in the border (first/last row/column)\n",
    "3. Replace all border elements with 99"
   ]
  },
  {
   "cell_type": "code",
   "execution_count": 11,
   "id": "92a83943-faef-4558-8bd1-e1156c780721",
   "metadata": {},
   "outputs": [
    {
     "name": "stdout",
     "output_type": "stream",
     "text": [
      "Original array: \n",
      "[[ 1  2  3  4  5]\n",
      " [ 6  7  8  9 10]\n",
      " [11 12 13 14 15]\n",
      " [16 17 18 19 20]\n",
      " [21 22 23 24 25]]\n",
      "elements at positions (0,0), (1,2), (3,4), and (4,1): [ 1  8 20 22]\n"
     ]
    },
    {
     "data": {
      "text/plain": [
       "array([ 5, 10, 15, 20, 25])"
      ]
     },
     "execution_count": 11,
     "metadata": {},
     "output_type": "execute_result"
    }
   ],
   "source": [
    "import numpy as np\n",
    "arr = np.arange(1, 26).reshape(5, 5)\n",
    "original_arr = arr.copy()\n",
    "print(f\"Original array: \\n{original_arr}\")\n",
    "# Extract elements at positions (0,0), (1,2), (3,4), and (4,1) using fancy indexing\n",
    "ext = arr[[0, 1, 3, 4], [0, 2, 4, 1]]\n",
    "print(f\"elements at positions (0,0), (1,2), (3,4), and (4,1): {ext}\")\n",
    "\n",
    "arr[:, -1]"
   ]
  },
  {
   "cell_type": "code",
   "execution_count": null,
   "id": "5d8c3b7e-2101-43e2-b33a-ad58d0151550",
   "metadata": {},
   "outputs": [],
   "source": []
  }
 ],
 "metadata": {
  "kernelspec": {
   "display_name": "Python (data-analysis)",
   "language": "python",
   "name": "data-anaysis"
  },
  "language_info": {
   "codemirror_mode": {
    "name": "ipython",
    "version": 3
   },
   "file_extension": ".py",
   "mimetype": "text/x-python",
   "name": "python",
   "nbconvert_exporter": "python",
   "pygments_lexer": "ipython3",
   "version": "3.11.13"
  }
 },
 "nbformat": 4,
 "nbformat_minor": 5
}
