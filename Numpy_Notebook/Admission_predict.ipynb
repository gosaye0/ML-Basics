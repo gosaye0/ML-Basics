{
 "cells": [
  {
   "cell_type": "code",
   "execution_count": 1,
   "id": "f6af3993-89a0-4ba0-9a19-e7984936cd2f",
   "metadata": {},
   "outputs": [],
   "source": [
    "import numpy as np"
   ]
  },
  {
   "cell_type": "code",
   "execution_count": 2,
   "id": "d0c13060-01d7-4895-a6b2-6d6e7f01710d",
   "metadata": {},
   "outputs": [
    {
     "name": "stdout",
     "output_type": "stream",
     "text": [
      "(400,)\n"
     ]
    }
   ],
   "source": [
    "students = np.genfromtxt('Admission_Predict.csv', delimiter = ',', skip_header = 1, \n",
    "                        names = ('Serial No', 'GRE Score', 'TOEFL Score', 'University rating', \n",
    "                                 'SOP', 'LOR', 'CGPA', 'Research', 'Chance of Admit'))\n",
    "print(students.shape)"
   ]
  },
  {
   "cell_type": "code",
   "execution_count": 3,
   "id": "a3828a4b-9d08-422d-922d-4ef4cde8de06",
   "metadata": {},
   "outputs": [
    {
     "name": "stdout",
     "output_type": "stream",
     "text": [
      "[9.65 8.87 8.   8.67 8.21 9.34 8.2  7.9  8.   8.6 ]\n"
     ]
    }
   ],
   "source": [
    "# Accessing columns using column names\n",
    "# E.g let's access the first 10 CGPA\n",
    "print(students['CGPA'][:10])"
   ]
  },
  {
   "cell_type": "code",
   "execution_count": 4,
   "id": "5e32f10b-4a5f-49cd-bc22-5b750f9352f9",
   "metadata": {},
   "outputs": [
    {
     "name": "stdout",
     "output_type": "stream",
     "text": [
      "[3.86  3.548 3.2   3.468 3.284 3.736 3.28  3.16  3.2   3.44 ]\n"
     ]
    }
   ],
   "source": [
    "# Let's change the grade to out of 4\n",
    "students['CGPA'] = (students['CGPA'] / 10) * 4\n",
    "print(students['CGPA'][:10])"
   ]
  },
  {
   "cell_type": "code",
   "execution_count": 5,
   "id": "26697c19-4b63-4673-a312-721c028b3798",
   "metadata": {},
   "outputs": [
    {
     "name": "stdout",
     "output_type": "stream",
     "text": [
      "Maximum CGPA: 3.968\n",
      "Minimum CGPA: 2.7199999999999998\n",
      "Average CGPA: 3.43957\n"
     ]
    }
   ],
   "source": [
    "# Let's find the max, min and average CGPA\n",
    "print('Maximum CGPA:', np.max(students['CGPA']))\n",
    "print('Minimum CGPA:', np.min(students['CGPA']))\n",
    "print('Average CGPA:', np.mean(students['CGPA']))"
   ]
  },
  {
   "cell_type": "code",
   "execution_count": 6,
   "id": "f716cee6-5736-4399-a239-b3733985495c",
   "metadata": {},
   "outputs": [
    {
     "name": "stdout",
     "output_type": "stream",
     "text": [
      "No of students whose CGPA is above 3.5: 162\n",
      "No of students whose CGPA is above 3.75: 41\n",
      "No of students whose CGPA is below 3: 14\n"
     ]
    }
   ],
   "source": [
    "# No of students whose grade is above or below specific values\n",
    "print('No of students whose CGPA is above 3.5:',len(students[students['CGPA'] > 3.5])) \n",
    "print('No of students whose CGPA is above 3.75:',len(students[students['CGPA'] > 3.75]))\n",
    "print('No of students whose CGPA is below 3:',len(students[students['CGPA'] < 3]))"
   ]
  },
  {
   "cell_type": "code",
   "execution_count": null,
   "id": "690e8564-3bc5-40b6-9d2b-b88cf3fe83ed",
   "metadata": {},
   "outputs": [],
   "source": []
  }
 ],
 "metadata": {
  "kernelspec": {
   "display_name": "Python (data-analysis)",
   "language": "python",
   "name": "data-anaysis"
  },
  "language_info": {
   "codemirror_mode": {
    "name": "ipython",
    "version": 3
   },
   "file_extension": ".py",
   "mimetype": "text/x-python",
   "name": "python",
   "nbconvert_exporter": "python",
   "pygments_lexer": "ipython3",
   "version": "3.11.13"
  }
 },
 "nbformat": 4,
 "nbformat_minor": 5
}
