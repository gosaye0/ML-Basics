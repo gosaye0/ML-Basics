{
 "cells": [
  {
   "cell_type": "code",
   "execution_count": 1,
   "id": "5086469b-37e1-4a27-b5a4-41257fb1808b",
   "metadata": {},
   "outputs": [],
   "source": [
    "import numpy as np"
   ]
  },
  {
   "cell_type": "code",
   "execution_count": 2,
   "id": "13cab8d2-be7d-4722-8c66-380d7c8c3505",
   "metadata": {},
   "outputs": [],
   "source": [
    "f = np.genfromtxt('winequality-red.csv', delimiter = ',', dtype = float, skip_header = 1)"
   ]
  },
  {
   "cell_type": "code",
   "execution_count": 3,
   "id": "414dfa4a-169c-41fe-a4e4-dc3c117797e6",
   "metadata": {},
   "outputs": [
    {
     "name": "stdout",
     "output_type": "stream",
     "text": [
      "[[ 7.4    0.7    0.    ...  0.56   9.4    5.   ]\n",
      " [ 7.8    0.88   0.    ...  0.68   9.8    5.   ]\n",
      " [ 7.8    0.76   0.04  ...  0.65   9.8    5.   ]\n",
      " ...\n",
      " [ 6.3    0.51   0.13  ...  0.75  11.     6.   ]\n",
      " [ 5.9    0.645  0.12  ...  0.71  10.2    5.   ]\n",
      " [ 6.     0.31   0.47  ...  0.66  11.     6.   ]]\n"
     ]
    }
   ],
   "source": [
    "print(f)"
   ]
  },
  {
   "cell_type": "code",
   "execution_count": 4,
   "id": "c5390816-0aa7-4f1e-8054-aeb4712e0596",
   "metadata": {},
   "outputs": [
    {
     "name": "stdout",
     "output_type": "stream",
     "text": [
      "[7.4 7.8 7.8 ... 6.3 5.9 6. ]\n"
     ]
    }
   ],
   "source": [
    "# Let's print the fixed acidity level of the red wine which is the first column\n",
    "print(f[:, 0])"
   ]
  },
  {
   "cell_type": "code",
   "execution_count": 5,
   "id": "ac10a257-e62d-4fe3-9e27-386280401e6e",
   "metadata": {},
   "outputs": [
    {
     "name": "stdout",
     "output_type": "stream",
     "text": [
      "[[7.4]\n",
      " [7.8]\n",
      " [7.8]\n",
      " ...\n",
      " [6.3]\n",
      " [5.9]\n",
      " [6. ]]\n"
     ]
    }
   ],
   "source": [
    "# What if we want to preserve the rows of each value\n",
    "print(f[:, 0:1])"
   ]
  },
  {
   "cell_type": "code",
   "execution_count": 6,
   "id": "fc0d02d8-dbe0-4f8b-8651-dfdc1f80428c",
   "metadata": {},
   "outputs": [
    {
     "name": "stdout",
     "output_type": "stream",
     "text": [
      "[[7.4   0.7   0.   ]\n",
      " [7.8   0.88  0.   ]\n",
      " [7.8   0.76  0.04 ]\n",
      " ...\n",
      " [6.3   0.51  0.13 ]\n",
      " [5.9   0.645 0.12 ]\n",
      " [6.    0.31  0.47 ]]\n"
     ]
    }
   ],
   "source": [
    "# lets display rhe first three columns of the dataset\n",
    "print(f[:, :3])"
   ]
  },
  {
   "cell_type": "code",
   "execution_count": 7,
   "id": "55dd7437-378e-4c81-bed4-0f35e6f5be87",
   "metadata": {},
   "outputs": [
    {
     "name": "stdout",
     "output_type": "stream",
     "text": [
      "[[7.4   0.    0.076]\n",
      " [7.8   0.    0.098]\n",
      " [7.8   0.04  0.092]\n",
      " ...\n",
      " [6.3   0.13  0.076]\n",
      " [5.9   0.12  0.075]\n",
      " [6.    0.47  0.067]]\n"
     ]
    }
   ],
   "source": [
    "# What if we want just not consequetive columns?\n",
    "print(f[:, [0, 2, 4]])   # print column 0, 2, and 4"
   ]
  },
  {
   "cell_type": "code",
   "execution_count": 8,
   "id": "7087a5d1-a415-43dd-9a24-939b5007409f",
   "metadata": {},
   "outputs": [
    {
     "name": "stdout",
     "output_type": "stream",
     "text": [
      "Maximum quality: 8.0\n",
      "Minimum quality: 3.0\n",
      "Average quality: 5.6360225140712945\n"
     ]
    }
   ],
   "source": [
    "# let's do some data anaysis on quality of wine which is the ast column of the the dataset\n",
    "quality = f[:, -1]\n",
    "print('Maximum quality:', np.max(quality))\n",
    "print('Minimum quality:', np.min(quality))\n",
    "print('Average quality:', np.mean(quality))"
   ]
  },
  {
   "cell_type": "code",
   "execution_count": 9,
   "id": "085e9c08-47ad-41bc-b0b7-42233d378eff",
   "metadata": {},
   "outputs": [
    {
     "name": "stdout",
     "output_type": "stream",
     "text": [
      "Maximum alcohol amount: 14.9\n",
      "Minimum alcohol amount: 8.4\n",
      "Average alcohol amount: 10.422983114446529\n"
     ]
    }
   ],
   "source": [
    "# Alcohol amount\n",
    "alcohol = f[:, -2]\n",
    "print('Maximum alcohol amount:', np.max(alcohol))\n",
    "print('Minimum alcohol amount:', np.min(alcohol))\n",
    "print('Average alcohol amount:', np.mean(alcohol))"
   ]
  },
  {
   "cell_type": "code",
   "execution_count": null,
   "id": "039e4b79-bd10-4df5-b2a4-d89b18865147",
   "metadata": {},
   "outputs": [],
   "source": []
  }
 ],
 "metadata": {
  "kernelspec": {
   "display_name": "Python (data-analysis)",
   "language": "python",
   "name": "data-anaysis"
  },
  "language_info": {
   "codemirror_mode": {
    "name": "ipython",
    "version": 3
   },
   "file_extension": ".py",
   "mimetype": "text/x-python",
   "name": "python",
   "nbconvert_exporter": "python",
   "pygments_lexer": "ipython3",
   "version": "3.11.13"
  }
 },
 "nbformat": 4,
 "nbformat_minor": 5
}
