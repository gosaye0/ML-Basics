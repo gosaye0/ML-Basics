{
 "cells": [
  {
   "cell_type": "markdown",
   "id": "e61c0123-133f-4818-99d0-c01bc12f28a9",
   "metadata": {},
   "source": [
    "# 1. Numpy basics and creation of arrays "
   ]
  },
  {
   "cell_type": "code",
   "execution_count": 1,
   "id": "e14a5d80-1c83-4ddf-8abc-75516358f046",
   "metadata": {},
   "outputs": [],
   "source": [
    "# Import NumPy library as 'np' alias\n",
    "import numpy as np"
   ]
  },
  {
   "cell_type": "markdown",
   "id": "671235ce-dbf4-4220-8305-6162076498ba",
   "metadata": {},
   "source": [
    "## Creating arrays"
   ]
  },
  {
   "cell_type": "code",
   "execution_count": 2,
   "id": "13cbd23c-8419-4658-9a4f-5fa4da925d75",
   "metadata": {},
   "outputs": [
    {
     "data": {
      "text/plain": [
       "array([1, 2, 3, 4, 5])"
      ]
     },
     "execution_count": 2,
     "metadata": {},
     "output_type": "execute_result"
    }
   ],
   "source": [
    "# Craete an array\n",
    "arr1 = np.array([1, 2, 3, 4, 5])\n",
    "arr1"
   ]
  },
  {
   "cell_type": "code",
   "execution_count": 3,
   "id": "69f6e4a8-ad16-4fbb-9ddc-09f4b362a655",
   "metadata": {},
   "outputs": [
    {
     "data": {
      "text/plain": [
       "array([[1, 2, 3],\n",
       "       [4, 5, 6]])"
      ]
     },
     "execution_count": 3,
     "metadata": {},
     "output_type": "execute_result"
    }
   ],
   "source": [
    "arr2 = np.array([[1, 2, 3], [4, 5, 6]])\n",
    "arr2"
   ]
  },
  {
   "cell_type": "code",
   "execution_count": 4,
   "id": "a778ced8-a3c8-482e-9f87-2a862555eb34",
   "metadata": {},
   "outputs": [
    {
     "data": {
      "text/plain": [
       "array([[0., 0., 0., 0.],\n",
       "       [0., 0., 0., 0.],\n",
       "       [0., 0., 0., 0.]])"
      ]
     },
     "execution_count": 4,
     "metadata": {},
     "output_type": "execute_result"
    }
   ],
   "source": [
    "# Creating 3 x 4 array of zeros\n",
    "zeros = np.zeros((3, 4))\n",
    "zeros"
   ]
  },
  {
   "cell_type": "code",
   "execution_count": 5,
   "id": "713056b7-9fa6-491f-a2a7-284629440832",
   "metadata": {},
   "outputs": [
    {
     "data": {
      "text/plain": [
       "array([[1., 1.],\n",
       "       [1., 1.]])"
      ]
     },
     "execution_count": 5,
     "metadata": {},
     "output_type": "execute_result"
    }
   ],
   "source": [
    "#  2 x 3 array of ones\n",
    "ones = np.ones((2, 2))\n",
    "ones"
   ]
  },
  {
   "cell_type": "code",
   "execution_count": 6,
   "id": "ba9d630d-99e8-4d1e-b66a-ffe64a05e20e",
   "metadata": {},
   "outputs": [
    {
     "data": {
      "text/plain": [
       "array([[6.23042070e-307, 4.67296746e-307, 1.69121096e-306],\n",
       "       [1.69120688e-306, 1.89146896e-307, 7.56571288e-307],\n",
       "       [3.11525958e-307, 1.24610723e-306, 0.00000000e+000]])"
      ]
     },
     "execution_count": 6,
     "metadata": {},
     "output_type": "execute_result"
    }
   ],
   "source": [
    "# Create 3 x 3 uninitialized array\n",
    "empty = np.empty((3, 3))\n",
    "empty"
   ]
  },
  {
   "cell_type": "code",
   "execution_count": 7,
   "id": "25efb2fa-9a5d-4524-b812-83f5370ae33b",
   "metadata": {},
   "outputs": [
    {
     "data": {
      "text/plain": [
       "array([[5, 5, 5],\n",
       "       [5, 5, 5],\n",
       "       [5, 5, 5]])"
      ]
     },
     "execution_count": 7,
     "metadata": {},
     "output_type": "execute_result"
    }
   ],
   "source": [
    "# Craete 3 x 3 array filled with 5\n",
    "full = np.full(shape = (3, 3), fill_value = 5)\n",
    "full"
   ]
  },
  {
   "cell_type": "code",
   "execution_count": 8,
   "id": "cfea776c-8130-426c-8cdd-382fc78600b8",
   "metadata": {},
   "outputs": [
    {
     "data": {
      "text/plain": [
       "array([ 0,  2,  4,  6,  8, 10, 12, 14, 16, 18])"
      ]
     },
     "execution_count": 8,
     "metadata": {},
     "output_type": "execute_result"
    }
   ],
   "source": [
    "# Using ranges\n",
    "arange = np.arange(0, 20, 2)\n",
    "arange"
   ]
  },
  {
   "cell_type": "code",
   "execution_count": 9,
   "id": "35fdff00-d85b-4627-9020-1be2df7a546a",
   "metadata": {},
   "outputs": [
    {
     "data": {
      "text/plain": [
       "array([ 0.        ,  0.52631579,  1.05263158,  1.57894737,  2.10526316,\n",
       "        2.63157895,  3.15789474,  3.68421053,  4.21052632,  4.73684211,\n",
       "        5.26315789,  5.78947368,  6.31578947,  6.84210526,  7.36842105,\n",
       "        7.89473684,  8.42105263,  8.94736842,  9.47368421, 10.        ])"
      ]
     },
     "execution_count": 9,
     "metadata": {},
     "output_type": "execute_result"
    }
   ],
   "source": [
    "linspace = np.linspace(0, 10, 20)\n",
    "linspace"
   ]
  },
  {
   "cell_type": "code",
   "execution_count": 10,
   "id": "d2df9080-dc01-42e7-ae42-eb88735b2420",
   "metadata": {},
   "outputs": [
    {
     "data": {
      "text/plain": [
       "array([[0.38858213, 0.29472524, 0.72042888],\n",
       "       [0.24323604, 0.78524027, 0.60185175]])"
      ]
     },
     "execution_count": 10,
     "metadata": {},
     "output_type": "execute_result"
    }
   ],
   "source": [
    "# Random arrays\n",
    "random_float = np.random.random_sample((2, 3))\n",
    "random_float"
   ]
  },
  {
   "cell_type": "code",
   "execution_count": 11,
   "id": "f53aec64-cc59-4c92-bc64-af574b48393f",
   "metadata": {},
   "outputs": [
    {
     "data": {
      "text/plain": [
       "array([[1, 8, 3],\n",
       "       [6, 2, 6]], dtype=int32)"
      ]
     },
     "execution_count": 11,
     "metadata": {},
     "output_type": "execute_result"
    }
   ],
   "source": [
    "random_int = np.random.randint(1, 10, (2, 3))\n",
    "random_int"
   ]
  },
  {
   "cell_type": "markdown",
   "id": "ddba5ae0-9c0a-4318-beaa-df92724248a8",
   "metadata": {},
   "source": [
    "## Key Attributes"
   ]
  },
  {
   "cell_type": "code",
   "execution_count": 12,
   "id": "20b66ef8-27c4-4b87-8aa7-b118f91dfe40",
   "metadata": {},
   "outputs": [
    {
     "name": "stdout",
     "output_type": "stream",
     "text": [
      "[[1 2 3]\n",
      " [4 5 6]]\n",
      "shape: (2, 3)\n",
      "size: 6\n",
      "dimension: 2\n",
      "Data type: int64\n"
     ]
    }
   ],
   "source": [
    "arr = np.array([[1, 2, 3], [4, 5, 6]])\n",
    "print(arr)\n",
    "\n",
    "# dimension of arr\n",
    "print(f\"shape: {arr.shape}\")\n",
    "# Total number of elements\n",
    "print(f\"size: {arr.size}\")\n",
    "# Number of dimensions\n",
    "print(f\"dimension: {arr.ndim}\")\n",
    "# Data type\n",
    "print(f\"Data type: {arr.dtype}\")"
   ]
  },
  {
   "cell_type": "markdown",
   "id": "f54de587-6c19-4373-93e7-e18f7872471c",
   "metadata": {},
   "source": [
    "# Data Types"
   ]
  },
  {
   "cell_type": "code",
   "execution_count": 13,
   "id": "7f625f0c-0341-4ef1-a1fd-c02e4b7e7200",
   "metadata": {},
   "outputs": [
    {
     "data": {
      "text/plain": [
       "array([1, 2, 3])"
      ]
     },
     "execution_count": 13,
     "metadata": {},
     "output_type": "execute_result"
    }
   ],
   "source": [
    "# Specify data types\n",
    "int_arr = np.array([1, 2, 3], dtype = np.int64)\n",
    "int_arr"
   ]
  },
  {
   "cell_type": "code",
   "execution_count": 14,
   "id": "5063d257-2a44-4545-831c-b48f9a6be2d5",
   "metadata": {},
   "outputs": [
    {
     "data": {
      "text/plain": [
       "array([1., 2., 3.])"
      ]
     },
     "execution_count": 14,
     "metadata": {},
     "output_type": "execute_result"
    }
   ],
   "source": [
    "float_arr = np.array([1, 2, 3], dtype = np.float64)\n",
    "float_arr"
   ]
  },
  {
   "cell_type": "code",
   "execution_count": 15,
   "id": "c9e01b28-12cd-4c5b-bcdb-8c735682f5db",
   "metadata": {},
   "outputs": [
    {
     "data": {
      "text/plain": [
       "array([1, 4, 6])"
      ]
     },
     "execution_count": 15,
     "metadata": {},
     "output_type": "execute_result"
    }
   ],
   "source": [
    "# Convert data types\n",
    "arr_float = np.array([1.4, 4.5, 6.9])\n",
    "int_arr = arr_float.astype(np.int64)\n",
    "int_arr"
   ]
  },
  {
   "cell_type": "markdown",
   "id": "a4b08fd7-7c72-4b89-b02c-b19f933efcc7",
   "metadata": {},
   "source": [
    "# Array indexing and slicing"
   ]
  },
  {
   "cell_type": "code",
   "execution_count": 16,
   "id": "9b143e7b-da00-48be-a437-cfc302197500",
   "metadata": {},
   "outputs": [
    {
     "data": {
      "text/plain": [
       "np.int64(7)"
      ]
     },
     "execution_count": 16,
     "metadata": {},
     "output_type": "execute_result"
    }
   ],
   "source": [
    "arr = np.array([[1, 2, 3, 4],\n",
    "                [5, 6, 7, 8],\n",
    "                [9, 10, 11, 12]])\n",
    "# Basic indexing\n",
    "# extract 7(row 1, column 2)\n",
    "arr[1, 2]"
   ]
  },
  {
   "cell_type": "code",
   "execution_count": 17,
   "id": "53e9f5d9-0125-4e84-a090-440a7c7df250",
   "metadata": {},
   "outputs": [
    {
     "data": {
      "text/plain": [
       "array([1, 2, 3, 4])"
      ]
     },
     "execution_count": 17,
     "metadata": {},
     "output_type": "execute_result"
    }
   ],
   "source": [
    "# Extract [1, 2, 3, 4] (first row)\n",
    "arr[0]"
   ]
  },
  {
   "cell_type": "code",
   "execution_count": 18,
   "id": "5e4eb4cb-3e26-4d05-8411-8e391a4feb1d",
   "metadata": {},
   "outputs": [
    {
     "data": {
      "text/plain": [
       "array([[2, 3],\n",
       "       [6, 7]])"
      ]
     },
     "execution_count": 18,
     "metadata": {},
     "output_type": "execute_result"
    }
   ],
   "source": [
    "# Slicing\n",
    "# Extract first 2 rows, columns 1-2\n",
    "arr[:2, 1:3]"
   ]
  },
  {
   "cell_type": "code",
   "execution_count": 19,
   "id": "1189ebef-fc9a-4e9f-a514-4d061ce9f134",
   "metadata": {},
   "outputs": [
    {
     "data": {
      "text/plain": [
       "array([[ 5,  6],\n",
       "       [ 9, 10]])"
      ]
     },
     "execution_count": 19,
     "metadata": {},
     "output_type": "execute_result"
    }
   ],
   "source": [
    "# extract row 1 onwards and first 2 columns\n",
    "arr[1:, :2]"
   ]
  },
  {
   "cell_type": "code",
   "execution_count": 20,
   "id": "960f5c3f-af50-4bbc-b324-7b003209e61d",
   "metadata": {},
   "outputs": [
    {
     "data": {
      "text/plain": [
       "array([ 4,  8, 12])"
      ]
     },
     "execution_count": 20,
     "metadata": {},
     "output_type": "execute_result"
    }
   ],
   "source": [
    "# Last column\n",
    "arr[:, -1]"
   ]
  },
  {
   "cell_type": "code",
   "execution_count": 21,
   "id": "953c30ba-27ce-438d-8308-065a8200602d",
   "metadata": {},
   "outputs": [
    {
     "data": {
      "text/plain": [
       "array([[ 1,  3],\n",
       "       [ 9, 11]])"
      ]
     },
     "execution_count": 21,
     "metadata": {},
     "output_type": "execute_result"
    }
   ],
   "source": [
    "# Step slicing\n",
    "# every 2nd row and column\n",
    "arr[::2, ::2]"
   ]
  },
  {
   "cell_type": "code",
   "execution_count": 22,
   "id": "335fb543-2d20-4451-80f0-7e706b3b7bb8",
   "metadata": {},
   "outputs": [
    {
     "data": {
      "text/plain": [
       "array([ 6,  7,  8,  9, 10, 11, 12])"
      ]
     },
     "execution_count": 22,
     "metadata": {},
     "output_type": "execute_result"
    }
   ],
   "source": [
    "# Boolean indexing\n",
    "mask = arr > 5\n",
    "arr[mask]"
   ]
  },
  {
   "cell_type": "code",
   "execution_count": 23,
   "id": "54b0e9d6-34dc-4ce2-ae70-c5afbf81f52b",
   "metadata": {},
   "outputs": [
    {
     "data": {
      "text/plain": [
       "array([[ 1,  2,  3,  4],\n",
       "       [ 9, 10, 11, 12]])"
      ]
     },
     "execution_count": 23,
     "metadata": {},
     "output_type": "execute_result"
    }
   ],
   "source": [
    "# Fancy indexing\n",
    "indices = [0, 2]\n",
    "arr[[0, 2]]"
   ]
  },
  {
   "cell_type": "markdown",
   "id": "7e9de04f-cf84-4d92-8921-54643c7cadb1",
   "metadata": {},
   "source": [
    "## Practice indexing and slicing"
   ]
  },
  {
   "cell_type": "markdown",
   "id": "37495cbe-160c-4c46-ae69-66db2c422368",
   "metadata": {},
   "source": [
    "### Setup"
   ]
  },
  {
   "cell_type": "code",
   "execution_count": 24,
   "id": "56123622-70ce-4809-b3eb-6eaa778e6ad9",
   "metadata": {},
   "outputs": [
    {
     "name": "stdout",
     "output_type": "stream",
     "text": [
      "v: \n",
      "[0 1 2 3 4 5 6 7 8 9]\n",
      "A: \n",
      "[[ 0  1  2  3]\n",
      " [ 4  5  6  7]\n",
      " [ 8  9 10 11]]\n"
     ]
    }
   ],
   "source": [
    "v = np.arange(10)\n",
    "print(f\"v: \\n{v}\")\n",
    "A = np.arange(12).reshape(3, 4)\n",
    "print(f\"A: \\n{A}\")"
   ]
  },
  {
   "cell_type": "markdown",
   "id": "ad6cd6cd-7de3-42fe-903a-a6c4a85c0e49",
   "metadata": {},
   "source": [
    "### Basic Indexing"
   ]
  },
  {
   "cell_type": "code",
   "execution_count": 25,
   "id": "0361ad30-26b1-45c5-b59d-f33b2a360dd1",
   "metadata": {},
   "outputs": [
    {
     "data": {
      "text/plain": [
       "np.int64(0)"
      ]
     },
     "execution_count": 25,
     "metadata": {},
     "output_type": "execute_result"
    }
   ],
   "source": [
    "# 1D indexing\n",
    "v[0]"
   ]
  },
  {
   "cell_type": "code",
   "execution_count": 26,
   "id": "691678ed-2b61-44ff-bf79-2ffcd6348fdc",
   "metadata": {},
   "outputs": [
    {
     "data": {
      "text/plain": [
       "np.int64(9)"
      ]
     },
     "execution_count": 26,
     "metadata": {},
     "output_type": "execute_result"
    }
   ],
   "source": [
    "v[-1]"
   ]
  },
  {
   "cell_type": "code",
   "execution_count": 27,
   "id": "27fbf0c7-215e-4b16-a260-281ab58c0de8",
   "metadata": {},
   "outputs": [
    {
     "data": {
      "text/plain": [
       "array([2, 4, 6])"
      ]
     },
     "execution_count": 27,
     "metadata": {},
     "output_type": "execute_result"
    }
   ],
   "source": [
    "# 1D slicing\n",
    "v[2:7:2]"
   ]
  },
  {
   "cell_type": "code",
   "execution_count": 28,
   "id": "ae9ed7f4-6c9e-4aa3-b229-a1dc76eab63b",
   "metadata": {},
   "outputs": [
    {
     "data": {
      "text/plain": [
       "array([0, 3, 6, 9])"
      ]
     },
     "execution_count": 28,
     "metadata": {},
     "output_type": "execute_result"
    }
   ],
   "source": [
    "v[::3]"
   ]
  },
  {
   "cell_type": "code",
   "execution_count": 29,
   "id": "14b958cd-7681-489e-af76-9720ba427995",
   "metadata": {},
   "outputs": [
    {
     "name": "stdout",
     "output_type": "stream",
     "text": [
      "[[ 0  1  2  3]\n",
      " [ 4  5  6  7]\n",
      " [ 8  9 10 11]]\n"
     ]
    },
    {
     "data": {
      "text/plain": [
       "np.int64(11)"
      ]
     },
     "execution_count": 29,
     "metadata": {},
     "output_type": "execute_result"
    }
   ],
   "source": [
    "# Multi-dim indexing\n",
    "print(A)\n",
    "A[2, 3]"
   ]
  },
  {
   "cell_type": "code",
   "execution_count": 30,
   "id": "0cbefc25-8231-4d83-9b70-03c6640dd8a4",
   "metadata": {},
   "outputs": [
    {
     "data": {
      "text/plain": [
       "array([ 2,  6, 10])"
      ]
     },
     "execution_count": 30,
     "metadata": {},
     "output_type": "execute_result"
    }
   ],
   "source": [
    "A[:, 2]"
   ]
  },
  {
   "cell_type": "markdown",
   "id": "fa1ea373-f3d8-435b-b31a-7aadb46df193",
   "metadata": {},
   "source": [
    "### Views and Copies\n",
    "- Slicing returns a view (where possible). Modifying the slice modifies the original array."
   ]
  },
  {
   "cell_type": "code",
   "execution_count": 31,
   "id": "a13aafd8-4b8d-4f79-973e-b1418cf1768c",
   "metadata": {},
   "outputs": [
    {
     "name": "stdout",
     "output_type": "stream",
     "text": [
      "s before: \n",
      "[[0 1]\n",
      " [4 5]\n",
      " [8 9]]\n",
      "s after: \n",
      "[[999   1]\n",
      " [  4   5]\n",
      " [  8   9]]\n",
      "A after: \n",
      "[[999   1   2   3]\n",
      " [  4   5   6   7]\n",
      " [  8   9  10  11]]\n"
     ]
    }
   ],
   "source": [
    "s = A[:, :2]\n",
    "print(f\"s before: \\n{s}\")\n",
    "s[0, 0] = 999\n",
    "print(f\"s after: \\n{s}\")\n",
    "print(f\"A after: \\n{A}\")"
   ]
  },
  {
   "cell_type": "markdown",
   "id": "739fc7b1-1508-494e-8ab6-642963f736cc",
   "metadata": {},
   "source": [
    "- Advanced (integer/fancy) indexing returns a copy."
   ]
  },
  {
   "cell_type": "code",
   "execution_count": 32,
   "id": "fc7808a1-a7de-4b50-b1fb-f092dde8b734",
   "metadata": {},
   "outputs": [
    {
     "data": {
      "text/plain": [
       "array([[ 999,    1,    2,    3],\n",
       "       [-999,    5,    6,    7],\n",
       "       [   8,    9,   10,   11]])"
      ]
     },
     "execution_count": 32,
     "metadata": {},
     "output_type": "execute_result"
    }
   ],
   "source": [
    "i = A[1]\n",
    "i[0] = -999\n",
    "A"
   ]
  },
  {
   "cell_type": "markdown",
   "id": "de863265-36a2-4c65-baf1-9adcaf70730e",
   "metadata": {},
   "source": [
    "1. Create an array v = np.arange(20).\n",
    "- Extract the first 5 elements.\n",
    "- Extract every second element starting from index 2.\n",
    "- Reverse the array."
   ]
  },
  {
   "cell_type": "code",
   "execution_count": 33,
   "id": "49787513-ebf4-4262-a7a8-5eb80e10cb00",
   "metadata": {},
   "outputs": [
    {
     "name": "stdout",
     "output_type": "stream",
     "text": [
      "[0 1 2 3 4]\n",
      "[ 2  4  6  8 10 12 14 16 18]\n",
      "[19 18 17 16 15 14 13 12 11 10  9  8  7  6  5  4  3  2  1  0]\n"
     ]
    }
   ],
   "source": [
    "v = np.arange(20)\n",
    "# Extract the first 5 elements\n",
    "print(v[:5])\n",
    "# Extract every second element starting from index 2.\n",
    "print(v[2::2])\n",
    "# Reverse the array.\n",
    "print(v[::-1])"
   ]
  },
  {
   "cell_type": "markdown",
   "id": "56eebfea-7d9b-40d5-b693-232375fedef3",
   "metadata": {},
   "source": [
    "2. Given A = np.arange(12).reshape(3,4), extract:\n",
    "- Row 1.\n",
    "- Column 2.\n",
    "- Submatrix consisting of rows 0–1 and columns 1–3."
   ]
  },
  {
   "cell_type": "code",
   "execution_count": 34,
   "id": "27d6108d-b072-42f4-8cec-2d1cbdcc79a9",
   "metadata": {},
   "outputs": [
    {
     "name": "stdout",
     "output_type": "stream",
     "text": [
      "[4 5 6 7]\n",
      "[ 2  6 10]\n",
      "[[1 2 3]\n",
      " [5 6 7]]\n"
     ]
    }
   ],
   "source": [
    "A = np.arange(12).reshape(3, 4)\n",
    "# Row 1\n",
    "print(A[1])\n",
    "# Column 2\n",
    "print(A[:, 2])\n",
    "# Submatrix consisting of rows 0–1 and columns 1–3.\n",
    "print(A[:2, 1:])"
   ]
  },
  {
   "cell_type": "markdown",
   "id": "6991669d-816b-475c-a611-3b8e3810d4ba",
   "metadata": {},
   "source": [
    "3. From B = np.arange(27).reshape(3,3,3), select:\n",
    "- The last “slice” along axis 0.\n",
    "- All elements at index 2 along the last axis. "
   ]
  },
  {
   "cell_type": "code",
   "execution_count": 35,
   "id": "df449b2f-6cdd-499b-a7cc-80c8410864e4",
   "metadata": {},
   "outputs": [
    {
     "name": "stdout",
     "output_type": "stream",
     "text": [
      "[[18 19 20]\n",
      " [21 22 23]\n",
      " [24 25 26]]\n",
      "[[ 2  5  8]\n",
      " [11 14 17]\n",
      " [20 23 26]]\n"
     ]
    }
   ],
   "source": [
    "B = np.arange(27).reshape(3, 3, 3)\n",
    "# The last “slice” along axis 0.\n",
    "print(B[-1, :, :])\n",
    "# All elements at index 2 along the last axis.\n",
    "print(B[:, :, 2])"
   ]
  },
  {
   "cell_type": "markdown",
   "id": "977566a1-9790-403c-a304-1484aed8c7ed",
   "metadata": {},
   "source": [
    "1. Create x = np.arange(10).\n",
    "- Make a slice y = x[2:7]. Change y[0] = -99. What happens to x? Why?\n",
    "- Now try z = x[[2,3,4]]. Change z[0] = -88. What happens to x? Why?"
   ]
  },
  {
   "cell_type": "code",
   "execution_count": 36,
   "id": "7ed47b38-e94a-410d-910f-626e8aad7e18",
   "metadata": {},
   "outputs": [
    {
     "name": "stdout",
     "output_type": "stream",
     "text": [
      "x before: \n",
      "[0 1 2 3 4 5 6 7 8 9]\n",
      "y before: \n",
      "[2 3 4 5 6]\n",
      "x after: \n",
      "[  0   1 -99   3   4   5   6   7   8   9]\n"
     ]
    }
   ],
   "source": [
    "x = np.arange(10)\n",
    "print(f\"x before: \\n{x}\")\n",
    "\n",
    "y = x[2:7]\n",
    "print(f\"y before: \\n{y}\")\n",
    "y[0] = -99\n",
    "print(f\"x after: \\n{x}\")\n",
    "# Because it is slicing it returns view"
   ]
  },
  {
   "cell_type": "code",
   "execution_count": 37,
   "id": "640d7bd7-7c0d-437c-9b62-12635c40e21a",
   "metadata": {},
   "outputs": [
    {
     "name": "stdout",
     "output_type": "stream",
     "text": [
      "x before: \n",
      "[  0   1 -99   3   4   5   6   7   8   9]\n",
      "x after: \n",
      "[  0   1 -99   3   4   5   6   7   8   9]\n"
     ]
    }
   ],
   "source": [
    "print(f\"x before: \\n{x}\")\n",
    "z = x[[2, 3, 4]]\n",
    "z[0] = -88\n",
    "print(f\"x after: \\n{x}\")\n",
    "# Because it is fancy indexing it returns copy"
   ]
  },
  {
   "cell_type": "markdown",
   "id": "806b187c-c84b-4de8-a5bf-9f74af49e73f",
   "metadata": {},
   "source": [
    "2. Given A = np.arange(16).reshape(4,4), try:\n",
    "- S = A[:2, :2] → modify S[0,0].\n",
    "- F = A[[0,2], [1,3]] → modify F[0].\n",
    "- Predict which one changes A and confirm."
   ]
  },
  {
   "cell_type": "code",
   "execution_count": 38,
   "id": "973d6414-8b6f-48cd-a97a-9002eccda5cf",
   "metadata": {},
   "outputs": [
    {
     "name": "stdout",
     "output_type": "stream",
     "text": [
      "A before: \n",
      "[[ 0  1  2  3]\n",
      " [ 4  5  6  7]\n",
      " [ 8  9 10 11]\n",
      " [12 13 14 15]]\n",
      "A after: \n",
      "[[-999    1    2    3]\n",
      " [   4    5    6    7]\n",
      " [   8    9   10   11]\n",
      " [  12   13   14   15]]\n",
      "A after: \n",
      "[[-999    1    2    3]\n",
      " [   4    5    6    7]\n",
      " [   8    9   10   11]\n",
      " [  12   13   14   15]]\n"
     ]
    }
   ],
   "source": [
    "A = np.arange(16).reshape(4, 4)\n",
    "print(f\"A before: \\n{A}\")\n",
    "\n",
    "# S = A[:2, :2] → modify S[0,0].\n",
    "S = A[:2, :2]\n",
    "S[0, 0] = -999\n",
    "print(f\"A after: \\n{A}\")\n",
    "\n",
    "# F = A[[0,2], [1,3]] → modify F[0]\n",
    "F = A[[0, 2], [1, 3]]\n",
    "F[0] = -888\n",
    "print(f\"A after: \\n{A}\")\n",
    "\n",
    "# S changes A because it is slicing"
   ]
  },
  {
   "cell_type": "markdown",
   "id": "982a16b0-120f-4e27-8479-b246c4d691f3",
   "metadata": {},
   "source": [
    "3. v = np.arange(10)\n",
    "    - Extract only even numbers.\n",
    "    - Replace all values greater than 5 with 100.\n",
    "\n",
    "4. Given A = np.arange(12).reshape(3,4):\n",
    "    - Mask all elements divisible by 3.\n",
    "    - Replace those elements with -1.\n",
    "\n",
    "5. Combine conditions:\n",
    "    - From v = np.arange(20), select numbers greater than 5 and less than 12."
   ]
  },
  {
   "cell_type": "code",
   "execution_count": 39,
   "id": "2bc8e703-d960-48aa-8ec3-429a863c2b88",
   "metadata": {},
   "outputs": [
    {
     "name": "stdout",
     "output_type": "stream",
     "text": [
      "[0 2 4 6 8]\n",
      "[  0   1   2   3   4   5 100 100 100 100]\n"
     ]
    }
   ],
   "source": [
    "v = np.arange(10)\n",
    "\n",
    "# Extract only even numbers.\n",
    "even_v = v[v % 2 == 0]\n",
    "print(even_v)\n",
    "\n",
    "# Replace all values greater than 5 with 100.\n",
    "v[v > 5] = 100\n",
    "print(v)\n",
    "\n"
   ]
  },
  {
   "cell_type": "code",
   "execution_count": 40,
   "id": "33da1d51-c3aa-4043-aa51-3af2b3bb6755",
   "metadata": {},
   "outputs": [
    {
     "name": "stdout",
     "output_type": "stream",
     "text": [
      "[0 3 6 9]\n",
      "[[-1  1  2 -1]\n",
      " [ 4  5 -1  7]\n",
      " [ 8 -1 10 11]]\n"
     ]
    }
   ],
   "source": [
    "A = np.arange(12).reshape(3, 4)\n",
    "mask = A % 3 == 0\n",
    "print(A[mask])\n",
    "A[mask] = -1\n",
    "print(A)"
   ]
  },
  {
   "cell_type": "code",
   "execution_count": 41,
   "id": "f7a593e4-bbf9-48c3-b369-33e308043b10",
   "metadata": {},
   "outputs": [
    {
     "name": "stdout",
     "output_type": "stream",
     "text": [
      "[ 6  7  8  9 10 11]\n"
     ]
    }
   ],
   "source": [
    "v = np.arange(20)\n",
    "m = (v > 5) & (v < 12)\n",
    "print(v[m])"
   ]
  },
  {
   "cell_type": "markdown",
   "id": "0dcf5123-6916-4c33-97a6-b1fdb0a84ea5",
   "metadata": {},
   "source": [
    "6. You have temps = np.array([30, 25, 27, 40, 20, 15, 35]) (daily temperatures).\n",
    "- Extract temps above 30.\n",
    "- Replace temps below 20 with the average temperature.\n",
    "\n",
    "7. You have grades = np.array([[80, 90, 70],[60, 75, 85],[95, 100, 90]]).\n",
    "- Select all grades for the second student.\n",
    "- Select all grades above 85.\n",
    "- Replace all grades below 70 with 70.\n",
    "\n",
    "8. Bonus challenge — create a 10×10 array filled with random integers 0–99.\n",
    "- Extract the border (first and last rows, first and last columns).\n",
    "- Extract the 3×3 center.\n",
    "- Replace all even numbers with -1."
   ]
  },
  {
   "cell_type": "code",
   "execution_count": 42,
   "id": "4c9572e3-e0b4-4497-a724-e71e51230c19",
   "metadata": {},
   "outputs": [
    {
     "name": "stdout",
     "output_type": "stream",
     "text": [
      "[40 35]\n",
      "[30 25 27 40 20 27 35]\n"
     ]
    }
   ],
   "source": [
    "temps = np.array([30, 25, 27, 40, 20, 15, 35])\n",
    "# Extract temps above 30.\n",
    "print(temps[temps > 30])\n",
    "# Replace temps below 20 with the average temperature.\n",
    "temps_avg = np.average(temps)\n",
    "temps[temps < 20] = temps_avg\n",
    "print(temps)"
   ]
  },
  {
   "cell_type": "code",
   "execution_count": 43,
   "id": "cf284929-2d1e-4a61-8b26-6fcef995583a",
   "metadata": {},
   "outputs": [
    {
     "name": "stdout",
     "output_type": "stream",
     "text": [
      "[60 75 85]\n",
      "[ 80  90  70  75  85  95 100  90]\n",
      "[[ 80  90  70]\n",
      " [ 70  75  85]\n",
      " [ 95 100  90]]\n"
     ]
    }
   ],
   "source": [
    "grades = np.array([[80, 90, 70],\n",
    "                   [60, 75, 85],\n",
    "                   [95, 100, 90]])\n",
    "# Select all grades for the second student.\n",
    "print(grades[1])\n",
    "# Select all grades above 85.\n",
    "print(grades[grades > 65])\n",
    "# Replace all grades below 70 with 70.\n",
    "grades[grades < 70] = 70\n",
    "print(grades)"
   ]
  },
  {
   "cell_type": "code",
   "execution_count": 44,
   "id": "df8ab9c7-abd7-4838-aa56-18fc4c6717c4",
   "metadata": {},
   "outputs": [
    {
     "name": "stdout",
     "output_type": "stream",
     "text": [
      "[[51 92 14 71 60 20 82 86 74 74]\n",
      " [87 99 23  2 21 52  1 87 29 37]\n",
      " [ 1 63 59 20 32 75 57 21 88 48]\n",
      " [90 58 41 91 59 79 14 61 61 46]\n",
      " [61 50 54 63  2 50  6 20 72 38]\n",
      " [17  3 88 59 13  8 89 52  1 83]\n",
      " [91 59 70 43  7 46 34 77 80 35]\n",
      " [49  3  1  5 53  3 53 92 62 17]\n",
      " [89 43 33 73 61 99 13 94 47 14]\n",
      " [71 77 86 61 39 84 79 81 52 23]]\n"
     ]
    },
    {
     "data": {
      "text/plain": [
       "array([[51, 92, 14, 71, 60, 20, 82, 86, 74, 74],\n",
       "       [71, 77, 86, 61, 39, 84, 79, 81, 52, 23]], dtype=int32)"
      ]
     },
     "execution_count": 44,
     "metadata": {},
     "output_type": "execute_result"
    }
   ],
   "source": [
    "np.random.seed(42)\n",
    "A = np.random.randint(100, size = (10, 10))\n",
    "print(A)\n",
    "# Extract the border (first and last rows, first and last columns).\n",
    "A[[0, -1],]"
   ]
  },
  {
   "cell_type": "markdown",
   "id": "1edb6938-cda4-425a-a8c2-d12429c13923",
   "metadata": {},
   "source": [
    "# Array Operations"
   ]
  },
  {
   "cell_type": "code",
   "execution_count": 45,
   "id": "87c6abd1-e11a-4f9d-af0e-ca8af83d4a23",
   "metadata": {},
   "outputs": [
    {
     "name": "stdout",
     "output_type": "stream",
     "text": [
      "a + b = [ 6  8 10 12]\n",
      "a - b = [-4 -4 -4 -4]\n",
      "a * b = [ 5 12 21 32]\n",
      "b / a = [5.         3.         2.33333333 2.        ]\n",
      "a ** b = [    1    64  2187 65536]\n",
      "b % a = [0 0 1 0]\n"
     ]
    }
   ],
   "source": [
    "a = np.array([1, 2, 3, 4])\n",
    "b = np.array([5, 6, 7, 8])\n",
    "\n",
    "# Arithmetic operations\n",
    "print(f\"a + b = {a + b}\")\n",
    "print(f\"a - b = {a - b}\")\n",
    "print(f\"a * b = {a * b}\")\n",
    "print(f\"b / a = {b / a}\")\n",
    "print(f\"a ** b = {a ** b}\")\n",
    "print(f\"b % a = {b % a}\")"
   ]
  },
  {
   "cell_type": "code",
   "execution_count": 46,
   "id": "561a7819-0f2d-43f8-9643-9c63594f4546",
   "metadata": {},
   "outputs": [
    {
     "name": "stdout",
     "output_type": "stream",
     "text": [
      "[False False  True  True]\n"
     ]
    }
   ],
   "source": [
    "# Comparasion operators\n",
    "print(a > 2)"
   ]
  },
  {
   "cell_type": "code",
   "execution_count": 47,
   "id": "c0329f8b-3268-4362-b194-95d1db3a0161",
   "metadata": {},
   "outputs": [
    {
     "name": "stdout",
     "output_type": "stream",
     "text": [
      "a + 10 = [11 12 13 14]\n",
      "a x 2 = [2 4 6 8]\n"
     ]
    }
   ],
   "source": [
    "# Operations with scalars(broadcasting)\n",
    "print(f\"a + 10 = {a + 10}\")\n",
    "print(f\"a x 2 = {a * 2}\")"
   ]
  },
  {
   "cell_type": "code",
   "execution_count": 48,
   "id": "cf33c068-4942-4d40-874a-527713c888b1",
   "metadata": {},
   "outputs": [
    {
     "name": "stdout",
     "output_type": "stream",
     "text": [
      "[[2. 3. 4. 5.]\n",
      " [2. 3. 4. 5.]\n",
      " [2. 3. 4. 5.]]\n"
     ]
    }
   ],
   "source": [
    "A = np.ones((3, 4))\n",
    "b = np.array([1, 2, 3, 4])\n",
    "\n",
    "print(A + b)\n",
    "# Each row gets [1,2,3,4] added.\n"
   ]
  },
  {
   "cell_type": "code",
   "execution_count": 49,
   "id": "febe1900-2714-492a-b924-7ca5edab96f8",
   "metadata": {},
   "outputs": [
    {
     "name": "stdout",
     "output_type": "stream",
     "text": [
      "[[0 1 2 3]\n",
      " [1 2 3 4]\n",
      " [2 3 4 5]]\n"
     ]
    }
   ],
   "source": [
    "x = np.arange(3)[:, None]   # shape (3,1)\n",
    "y = np.arange(4)            # shape (4,)\n",
    "print(x + y)                # shape (3,4)"
   ]
  },
  {
   "cell_type": "code",
   "execution_count": 50,
   "id": "b2e0679c-3fe6-4455-819b-bdd733e9e89b",
   "metadata": {},
   "outputs": [
    {
     "name": "stdout",
     "output_type": "stream",
     "text": [
      "Total = 66\n",
      "Total along axis 0 = [12 15 18 21]\n",
      "Total along axis 1 = [ 6 22 38]\n",
      "Mean = 5.5\n",
      "Mean along axis 0 = [4. 5. 6. 7.]\n",
      "Mean along axis 1 = [1.5 5.5 9.5]\n",
      "Max = 11\n",
      "Min = 0\n",
      "Standard deviation = 3.452052529534663\n"
     ]
    }
   ],
   "source": [
    "# Aggregate functions\n",
    "M = np.arange(12).reshape(3, 4)\n",
    "\n",
    "print(f\"Total = {M.sum()}\")\n",
    "print(f\"Total along axis 0 = {M.sum(axis = 0)}\")\n",
    "print(f\"Total along axis 1 = {M.sum(axis = 1)}\")\n",
    "print(f\"Mean = {M.mean()}\")\n",
    "print(f\"Mean along axis 0 = {M.mean(axis = 0)}\")\n",
    "print(f\"Mean along axis 1 = {M.mean(axis = 1)}\")\n",
    "print(f\"Max = {M.max()}\")\n",
    "print(f\"Min = {M.min()}\")\n",
    "print(f\"Standard deviation = {M.std()}\")"
   ]
  },
  {
   "cell_type": "code",
   "execution_count": 51,
   "id": "9521c9aa-e023-45dd-92ed-2899b94dcac4",
   "metadata": {},
   "outputs": [
    {
     "name": "stdout",
     "output_type": "stream",
     "text": [
      "matrix multiply = \n",
      "[[19 22]\n",
      " [43 50]]\n",
      "dot product = \n",
      "[[19 22]\n",
      " [43 50]]\n",
      "[[1 3]\n",
      " [2 4]]\n"
     ]
    }
   ],
   "source": [
    "# Matrix operations\n",
    "x = np.array([[1, 2],\n",
    "              [3, 4]])\n",
    "y = np.array([[5, 6],\n",
    "              [7, 8]])\n",
    "print(f\"matrix multiply = \\n{x @ y}\")\n",
    "print(f\"dot product = \\n{np.dot(x, y)}\")\n",
    "print(x.T)"
   ]
  },
  {
   "cell_type": "code",
   "execution_count": 52,
   "id": "d78c14bf-3827-43be-aaa2-4a318f2f1ac1",
   "metadata": {},
   "outputs": [
    {
     "name": "stdout",
     "output_type": "stream",
     "text": [
      "[1. 2. 3. 4.]\n",
      "[2.71828183e+00 5.45981500e+01 8.10308393e+03 8.88611052e+06]\n",
      "[0.         1.38629436 2.19722458 2.77258872]\n",
      "[ 0.84147098 -0.7568025   0.41211849 -0.28790332]\n",
      "[ 0.54030231 -0.65364362 -0.91113026 -0.95765948]\n"
     ]
    }
   ],
   "source": [
    "# Universal functions\n",
    "arr = np.array([1, 4, 9, 16])\n",
    "\n",
    "print(np.sqrt(arr))\n",
    "print(np.exp(arr))\n",
    "print(np.log(arr))\n",
    "print(np.sin(arr))\n",
    "print(np.cos(arr))"
   ]
  },
  {
   "cell_type": "code",
   "execution_count": 53,
   "id": "8d7aa24e-c67d-4451-9e41-69264c642ffd",
   "metadata": {},
   "outputs": [
    {
     "name": "stdout",
     "output_type": "stream",
     "text": [
      "[False False  True  True]\n",
      "True\n",
      "True\n",
      "[1 2 1 1]\n"
     ]
    }
   ],
   "source": [
    "# Comparasion and logical operators\n",
    "x = np.array([1, 2, 3, 4])\n",
    "y = np.array([2, 2, 2, 2])\n",
    "\n",
    "print(x > y)\n",
    "print(np.all(x > 0))\n",
    "print(np.any(x == 3))\n",
    "print(np.where(x > 2, 1, x))"
   ]
  },
  {
   "cell_type": "code",
   "execution_count": 54,
   "id": "8e86c16b-2a22-4742-b702-4cea01d4748f",
   "metadata": {},
   "outputs": [
    {
     "name": "stdout",
     "output_type": "stream",
     "text": [
      "[1 3 6]\n",
      "[1 2 6]\n"
     ]
    }
   ],
   "source": [
    "# Advanced\n",
    "arr = np.array([1,2,3])\n",
    "print(arr.cumsum())  # [1 3 6]\n",
    "print(arr.cumprod()) # [1 2 6]"
   ]
  },
  {
   "cell_type": "code",
   "execution_count": 55,
   "id": "54abc445-171c-41fe-b580-3772601766f4",
   "metadata": {},
   "outputs": [
    {
     "data": {
      "text/plain": [
       "array([1, 1, 1])"
      ]
     },
     "execution_count": 55,
     "metadata": {},
     "output_type": "execute_result"
    }
   ],
   "source": [
    "np.clip(arr, 0, 1)   # restricts values into [0,1]"
   ]
  },
  {
   "cell_type": "markdown",
   "id": "fbf66ec3-af7a-4a22-8aa1-55da8edbea6c",
   "metadata": {},
   "source": [
    "1. Create a 5×5 array of random ints 0–9. Compute row sums and column max values.\n",
    "2. Normalize an array of shape (n, d) so each column has mean 0 and std 1.\n",
    "3. Given a = np.array([1,2,3]), compute:\n",
    "    - Outer product.\n",
    "    - Dot product.\n",
    "    - Norm.\n",
    "4. Build a 4×4 array and set all negative values to 0 (ReLU-style).\n",
    "5. Simulate softmax for [2.0, 1.0, 0.1] using np.exp and broadcasting."
   ]
  },
  {
   "cell_type": "code",
   "execution_count": 56,
   "id": "249d9d72-f3bd-4133-9e35-a0eec5ff9148",
   "metadata": {},
   "outputs": [
    {
     "name": "stdout",
     "output_type": "stream",
     "text": [
      "arr = \n",
      "[[6 3 7 4 6]\n",
      " [9 2 6 7 4]\n",
      " [3 7 7 2 5]\n",
      " [4 1 7 5 1]\n",
      " [4 0 9 5 8]]\n",
      "row sums = \n",
      "[26 28 24 18 26]\n",
      "column max = \n",
      "[9 7 9 7 8]\n"
     ]
    }
   ],
   "source": [
    "# Create a 5×5 array of random ints 0–9. Compute row sums and column max values\n",
    "np.random.seed(42)\n",
    "arr = np.random.randint(0, 10, size = (5, 5))\n",
    "print(f\"arr = \\n{arr}\")\n",
    "print(f\"row sums = \\n{np.sum(arr, axis = 1)}\")\n",
    "print(f\"column max = \\n{np.max(arr, axis = 0)}\")"
   ]
  },
  {
   "cell_type": "code",
   "execution_count": 57,
   "id": "664d2ad2-47ac-43de-ae65-a5c23f2fa47b",
   "metadata": {},
   "outputs": [
    {
     "name": "stdout",
     "output_type": "stream",
     "text": [
      "orginal array: \n",
      "[[6 3 7 4 6]\n",
      " [9 2 6 7 4]\n",
      " [3 7 7 2 5]\n",
      " [4 1 7 5 1]\n",
      " [4 0 9 5 8]]\n",
      "original mean = 4.88\n",
      "original std = 2.4547097588106013\n",
      "Normalized array: \n",
      "[[ 0.45626575 -0.76587466  0.86364589 -0.35849452  0.45626575]\n",
      " [ 1.67840617 -1.1732548   0.45626575  0.86364589 -0.35849452]\n",
      " [-0.76587466  0.86364589  0.86364589 -1.1732548   0.04888562]\n",
      " [-0.35849452 -1.58063493  0.86364589  0.04888562 -1.58063493]\n",
      " [-0.35849452 -1.98801507  1.67840617  0.04888562  1.27102603]]\n",
      "normalized mean = 4.4408920985006264e-17\n",
      "normalized std = 0.9999999999999998\n"
     ]
    }
   ],
   "source": [
    "# Normalize an array of shape (n, d) so each column has mean 0 and std 1.\n",
    "print(f\"orginal array: \\n{arr}\")\n",
    "print(f\"original mean = {np.mean(arr)}\")\n",
    "print(f\"original std = {np.std(arr)}\")\n",
    "\n",
    "norm_arr = (arr - np.mean(arr))/np.std(arr)\n",
    "print(f\"Normalized array: \\n{norm_arr}\")\n",
    "print(f\"normalized mean = {np.mean(norm_arr)}\")\n",
    "print(f\"normalized std = {np.std(norm_arr)}\")"
   ]
  },
  {
   "cell_type": "code",
   "execution_count": 58,
   "id": "377a2bcc-3147-44de-b813-0ec3b105a58a",
   "metadata": {},
   "outputs": [
    {
     "name": "stdout",
     "output_type": "stream",
     "text": [
      "outer product: \n",
      "[[1 2 3]\n",
      " [2 4 6]\n",
      " [3 6 9]]\n",
      "Dot product: \n",
      "14\n",
      "Norm: \n",
      "3.7416573867739413\n"
     ]
    }
   ],
   "source": [
    "# Given a = np.array([1,2,3]), compute:\n",
    "a = np.array([1, 2, 3])\n",
    "# Outer product\n",
    "print(f\"outer product: \\n{np.linalg.outer(a, a)}\")\n",
    "print(f\"Dot product: \\n{np.dot(a, a)}\")\n",
    "print(f\"Norm: \\n{np.linalg.norm(a)}\")"
   ]
  },
  {
   "cell_type": "code",
   "execution_count": 59,
   "id": "79acec92-ab17-403a-b0aa-a0273d4a71b9",
   "metadata": {},
   "outputs": [
    {
     "name": "stdout",
     "output_type": "stream",
     "text": [
      "original: \n",
      "[[ 1 -2  2 -1  1  4 -3  1  2 -1]\n",
      " [-2  2  2 -3  0 -1 -4  2  0 -4]\n",
      " [-1 -5  4  0  3 -5  4 -3  1 -2]\n",
      " [ 3 -3 -1 -3  1 -1  3  1 -4 -2]\n",
      " [ 3 -4  4  3  4 -1 -4 -2  1  2]\n",
      " [-3 -5 -2 -4  2 -2 -4  0  0  4]\n",
      " [-2  0 -4  4 -4  4 -2  2  1  3]\n",
      " [ 2 -1 -4 -1  2  4  3  3 -5  3]\n",
      " [ 1  3  2 -5  2  2 -3 -5  2 -3]\n",
      " [-3 -5 -1  4  1  4  3  1  3  2]]\n",
      "updated: \n",
      "[[1 0 2 0 1 4 0 1 2 0]\n",
      " [0 2 2 0 0 0 0 2 0 0]\n",
      " [0 0 4 0 3 0 4 0 1 0]\n",
      " [3 0 0 0 1 0 3 1 0 0]\n",
      " [3 0 4 3 4 0 0 0 1 2]\n",
      " [0 0 0 0 2 0 0 0 0 4]\n",
      " [0 0 0 4 0 4 0 2 1 3]\n",
      " [2 0 0 0 2 4 3 3 0 3]\n",
      " [1 3 2 0 2 2 0 0 2 0]\n",
      " [0 0 0 4 1 4 3 1 3 2]]\n"
     ]
    }
   ],
   "source": [
    "# Build a 4×4 array and set all negative values to 0 (ReLU-style).\n",
    "np.random.seed(42)\n",
    "arr = np.random.randint(-5, 5, size = (10, 10))\n",
    "print(f\"original: \\n{arr}\")\n",
    "new_arr = np.where(arr < 0, 0, arr)\n",
    "print(f\"updated: \\n{new_arr}\")"
   ]
  },
  {
   "cell_type": "markdown",
   "id": "20c5ecec-fb21-4017-8f7b-1b09f3a118fd",
   "metadata": {},
   "source": [
    "# Array Manipulation"
   ]
  },
  {
   "cell_type": "code",
   "execution_count": 60,
   "id": "a56c5a1d-695a-47e3-a779-8f466a1ae30d",
   "metadata": {},
   "outputs": [
    {
     "name": "stdout",
     "output_type": "stream",
     "text": [
      "[ 0  1  2  3  4  5  6  7  8  9 10 11]\n",
      "a: \n",
      "[[ 0  1  2  3]\n",
      " [ 4  5  6  7]\n",
      " [ 8  9 10 11]]\n",
      "b: \n",
      "[[[ 0  1  2]\n",
      "  [ 3  4  5]]\n",
      "\n",
      " [[ 6  7  8]\n",
      "  [ 9 10 11]]]\n",
      "c: \n",
      "[[ 0  1  2  3  4  5]\n",
      " [ 6  7  8  9 10 11]]\n"
     ]
    }
   ],
   "source": [
    "# Reshaping arrays\n",
    "arr = np.arange(12)\n",
    "print(arr)\n",
    "a = arr.reshape(3, 4)\n",
    "print(f\"a: \\n{a}\")\n",
    "b = arr.reshape(2, 2, 3)\n",
    "print(f\"b: \\n{b}\")\n",
    "c = arr.reshape(2, -1)\n",
    "print(f\"c: \\n{c}\")"
   ]
  },
  {
   "cell_type": "code",
   "execution_count": 61,
   "id": "c5cbb91d-6e44-4fbc-904b-16c07cfaa3b8",
   "metadata": {},
   "outputs": [
    {
     "name": "stdout",
     "output_type": "stream",
     "text": [
      "a: \n",
      "[[0 1 2]\n",
      " [3 4 5]]\n",
      "copy flatten: [0 1 2 3 4 5]\n",
      "view flatten: [0 1 2 3 4 5]\n"
     ]
    }
   ],
   "source": [
    "# Flattening/ravel\n",
    "a = np.arange(6).reshape(2,3)\n",
    "print(f\"a: \\n{a}\")\n",
    "print(f\"copy flatten: {a.flatten()}\")\n",
    "print(f\"view flatten: {a.ravel()}\")"
   ]
  },
  {
   "cell_type": "code",
   "execution_count": 62,
   "id": "7e79564a-3ccc-4207-aa3d-b587a4a6ea0e",
   "metadata": {},
   "outputs": [
    {
     "name": "stdout",
     "output_type": "stream",
     "text": [
      "A: \n",
      "[[ 0  1  2  3]\n",
      " [ 4  5  6  7]\n",
      " [ 8  9 10 11]]\n",
      "A transpose: \n",
      "[[ 0  4  8]\n",
      " [ 1  5  9]\n",
      " [ 2  6 10]\n",
      " [ 3  7 11]]\n",
      "[[ 0  4  8]\n",
      " [ 1  5  9]\n",
      " [ 2  6 10]\n",
      " [ 3  7 11]]\n"
     ]
    }
   ],
   "source": [
    "# Transpose and Axes swap\n",
    "A = np.arange(12).reshape(3, 4)\n",
    "print(f\"A: \\n{A}\")\n",
    "print(f\"A transpose: \\n{A.T}\")\n",
    "print(np.swapaxes(A, 0, 1))"
   ]
  },
  {
   "cell_type": "code",
   "execution_count": 63,
   "id": "7ec0cb89-b1f8-4425-b7b7-ebcea2c3c028",
   "metadata": {},
   "outputs": [
    {
     "name": "stdout",
     "output_type": "stream",
     "text": [
      "[[1]\n",
      " [2]\n",
      " [3]]\n",
      "[[1 2 3]]\n"
     ]
    }
   ],
   "source": [
    "# Adding and removing dimensions\n",
    "a = np.array([1, 2, 3])\n",
    "print(a[:, None])\n",
    "print(a[None, :])"
   ]
  },
  {
   "cell_type": "code",
   "execution_count": 64,
   "id": "750fc182-39ec-4c55-a99f-729c85a771b7",
   "metadata": {},
   "outputs": [
    {
     "name": "stdout",
     "output_type": "stream",
     "text": [
      "a: \n",
      "[[1 2]\n",
      " [3 4]]\n",
      "b: \n",
      "[[5 6]\n",
      " [7 8]]\n",
      "\n",
      " [[1 2]\n",
      " [3 4]\n",
      " [5 6]\n",
      " [7 8]]\n",
      "[[1 2 5 6]\n",
      " [3 4 7 8]]\n"
     ]
    }
   ],
   "source": [
    "# Concatenate and stacking\n",
    "a = a = np.array([[1,2],[3,4]])\n",
    "b = np.array([[5,6],[7,8]])\n",
    "print(f\"a: \\n{a}\")\n",
    "print(f\"b: \\n{b}\")\n",
    "print('\\n',np.concatenate([a, b]))\n",
    "print(np.concatenate([a, b], axis = 1))"
   ]
  },
  {
   "cell_type": "code",
   "execution_count": 65,
   "id": "ceef2ebb-7cc1-4da4-baeb-e4c1799424c0",
   "metadata": {},
   "outputs": [
    {
     "data": {
      "text/plain": [
       "array([[[1, 2],\n",
       "        [3, 4]],\n",
       "\n",
       "       [[5, 6],\n",
       "        [7, 8]]])"
      ]
     },
     "execution_count": 65,
     "metadata": {},
     "output_type": "execute_result"
    }
   ],
   "source": [
    "np.stack([a,b], axis=0)  # shape (2,2,2)"
   ]
  },
  {
   "cell_type": "code",
   "execution_count": 66,
   "id": "41d48e66-a8c0-41d8-9500-f6d782ea9d63",
   "metadata": {},
   "outputs": [
    {
     "name": "stdout",
     "output_type": "stream",
     "text": [
      "[1 1 2 2 3 3]\n",
      "[1 2 3 1 2 3]\n"
     ]
    }
   ],
   "source": [
    "# Repeating and Tile\n",
    "a = np.array([1, 2, 3])\n",
    "print(np.repeat(a, 2))\n",
    "print(np.tile(a, 2))"
   ]
  },
  {
   "cell_type": "code",
   "execution_count": 67,
   "id": "c6d7f074-899d-41ec-aef1-f7c3f30bd85a",
   "metadata": {},
   "outputs": [
    {
     "name": "stdout",
     "output_type": "stream",
     "text": [
      "[1 2 2 3 3]\n",
      "None\n",
      "[0 1 2 3 4]\n",
      "[1 2 3]\n"
     ]
    }
   ],
   "source": [
    "# Sorting and unique\n",
    "a = np.array([3, 1, 2, 2,3])\n",
    "print(np.sort(a))\n",
    "print(a.sort())\n",
    "print(np.argsort(a))\n",
    "print(np.unique(a))"
   ]
  },
  {
   "cell_type": "markdown",
   "id": "bd7ef4ba-6c34-4c06-a1e7-30f586fc401b",
   "metadata": {},
   "source": [
    "1. Create a 4×4 array, flatten it, then reshape to 2×8.\n",
    "2. Stack two 3×3 arrays vertically and horizontally, compare shapes.\n",
    "3. Split a 6×6 array into 3 equal parts along rows, then along columns.\n",
    "4. Reorder a 3×4 array columns as [3,1,0,2].\n",
    "5. Repeat a 1D array [1,2,3] three times as elements, then tile it three times as a full array."
   ]
  },
  {
   "cell_type": "code",
   "execution_count": 68,
   "id": "98d53c79-7294-4003-8e2d-47f2495102fd",
   "metadata": {},
   "outputs": [
    {
     "name": "stdout",
     "output_type": "stream",
     "text": [
      "[[ 0  1  2  3]\n",
      " [ 4  5  6  7]\n",
      " [ 8  9 10 11]\n",
      " [12 13 14 15]]\n",
      "[[ 0  1  2  3  4  5  6  7]\n",
      " [ 8  9 10 11 12 13 14 15]]\n"
     ]
    }
   ],
   "source": [
    "# Create a 4×4 array, flatten it, then reshape to 2×8.\n",
    "arr = np.arange(16).reshape(4, 4)\n",
    "print(arr)\n",
    "new_arr = arr.reshape(2, 8)\n",
    "print(new_arr)"
   ]
  },
  {
   "cell_type": "code",
   "execution_count": 69,
   "id": "66365188-ce75-430f-879e-4df8150567e0",
   "metadata": {},
   "outputs": [
    {
     "name": "stdout",
     "output_type": "stream",
     "text": [
      "a: \n",
      "[[0. 0. 0.]\n",
      " [0. 0. 0.]\n",
      " [0. 0. 0.]]\n",
      "b: \n",
      "[[1. 1. 1.]\n",
      " [1. 1. 1.]\n",
      " [1. 1. 1.]]\n",
      "Vertically stack: \n",
      "[[0. 0. 0.]\n",
      " [0. 0. 0.]\n",
      " [0. 0. 0.]\n",
      " [1. 1. 1.]\n",
      " [1. 1. 1.]\n",
      " [1. 1. 1.]]\n",
      "horizontally stack: \n",
      "[[0. 0. 0. 1. 1. 1.]\n",
      " [0. 0. 0. 1. 1. 1.]\n",
      " [0. 0. 0. 1. 1. 1.]]\n"
     ]
    }
   ],
   "source": [
    "# Stack two 3×3 arrays vertically and horizontally, compare shapes.\n",
    "a = np.zeros((3, 3))\n",
    "b = np.ones((3, 3))\n",
    "print(f\"a: \\n{a}\")\n",
    "print(f\"b: \\n{b}\")\n",
    "print(f\"Vertically stack: \\n{np.vstack((a, b))}\")\n",
    "print(f\"horizontally stack: \\n{np.hstack((a, b))}\")"
   ]
  },
  {
   "cell_type": "code",
   "execution_count": 70,
   "id": "fab45bea-81ce-4e7c-97cf-324e35cf9e91",
   "metadata": {},
   "outputs": [
    {
     "name": "stdout",
     "output_type": "stream",
     "text": [
      "arr: \n",
      "[[ 0  1  2  3  4  5]\n",
      " [ 6  7  8  9 10 11]\n",
      " [12 13 14 15 16 17]\n",
      " [18 19 20 21 22 23]\n",
      " [24 25 26 27 28 29]\n",
      " [30 31 32 33 34 35]]\n",
      "[array([[ 0,  1],\n",
      "       [ 6,  7],\n",
      "       [12, 13],\n",
      "       [18, 19],\n",
      "       [24, 25],\n",
      "       [30, 31]]), array([[ 2,  3],\n",
      "       [ 8,  9],\n",
      "       [14, 15],\n",
      "       [20, 21],\n",
      "       [26, 27],\n",
      "       [32, 33]]), array([[ 4,  5],\n",
      "       [10, 11],\n",
      "       [16, 17],\n",
      "       [22, 23],\n",
      "       [28, 29],\n",
      "       [34, 35]])]\n",
      "[array([[ 0,  1,  2,  3,  4,  5],\n",
      "       [ 6,  7,  8,  9, 10, 11]]), array([[12, 13, 14, 15, 16, 17],\n",
      "       [18, 19, 20, 21, 22, 23]]), array([[24, 25, 26, 27, 28, 29],\n",
      "       [30, 31, 32, 33, 34, 35]])]\n"
     ]
    }
   ],
   "source": [
    "# Split a 6×6 array into 3 equal parts along rows, then along columns.\n",
    "arr = np.arange(36).reshape(6, 6)\n",
    "print(f\"arr: \\n{arr}\")\n",
    "print(np.hsplit(arr, 3)) # along columns\n",
    "print(np.vsplit(arr, 3)) # along rows"
   ]
  },
  {
   "cell_type": "code",
   "execution_count": 71,
   "id": "50672028-d605-4899-902f-f3c7899a5af3",
   "metadata": {},
   "outputs": [
    {
     "name": "stdout",
     "output_type": "stream",
     "text": [
      "a: \n",
      "[[ 0  1  2  3]\n",
      " [ 4  5  6  7]\n",
      " [ 8  9 10 11]]\n",
      "reordered a: \n",
      "[[ 3  1  0  2]\n",
      " [ 7  5  4  6]\n",
      " [11  9  8 10]]\n"
     ]
    }
   ],
   "source": [
    "# Reorder a 3×4 array columns as [3,1,0,2].\n",
    "a = np.arange(12).reshape(3, 4)\n",
    "print(f\"a: \\n{a}\")\n",
    "reordered_a = a[:, [3, 1, 0, 2]]\n",
    "print(f\"reordered a: \\n{reordered_a}\")"
   ]
  },
  {
   "cell_type": "code",
   "execution_count": 72,
   "id": "814197cd-4294-43f2-972d-b9b80867034f",
   "metadata": {},
   "outputs": [
    {
     "name": "stdout",
     "output_type": "stream",
     "text": [
      "arr: \n",
      "[1 2 3]\n",
      "repeated: \n",
      "[1 1 1 2 2 2 3 3 3]\n",
      "Tiled: \n",
      "[1 2 3 1 2 3 1 2 3]\n"
     ]
    }
   ],
   "source": [
    "# Repeat a 1D array [1,2,3] three times as elements, then tile it three times as a full array.\n",
    "arr = np.array([1, 2, 3])\n",
    "repated_arr = np.repeat(arr, 3)\n",
    "tiled_arr = np.tile(arr, 3)\n",
    "print(f\"arr: \\n{arr}\")\n",
    "print(f\"repeated: \\n{repated_arr}\")\n",
    "print(f\"Tiled: \\n{tiled_arr}\")"
   ]
  },
  {
   "cell_type": "markdown",
   "id": "4a290c29-0b93-4008-aac1-8131889d504a",
   "metadata": {},
   "source": [
    "# Broadcasting"
   ]
  },
  {
   "cell_type": "code",
   "execution_count": 73,
   "id": "d15c540f-ed86-42bf-b8f5-cad5bedd5f0f",
   "metadata": {},
   "outputs": [
    {
     "name": "stdout",
     "output_type": "stream",
     "text": [
      "[[11 12 13]\n",
      " [14 15 16]]\n"
     ]
    }
   ],
   "source": [
    "# Scalar with array \n",
    "arr = np.array([[1, 2, 3], \n",
    "                [4, 5, 6]])\n",
    "result = arr + 10\n",
    "print(result)"
   ]
  },
  {
   "cell_type": "code",
   "execution_count": 74,
   "id": "63c6da85-aff3-48c8-ae0c-2f814be5a99e",
   "metadata": {},
   "outputs": [
    {
     "name": "stdout",
     "output_type": "stream",
     "text": [
      "[[11 22 33]\n",
      " [14 25 36]]\n"
     ]
    }
   ],
   "source": [
    "# 1D array with 2D array\n",
    "arr_2d = np.array([[1, 2, 3], \n",
    "                [4, 5, 6]])\n",
    "arr_1d = np.array([10, 20, 30])\n",
    "result = arr_2d + arr_1d\n",
    "print(result)"
   ]
  },
  {
   "cell_type": "code",
   "execution_count": 75,
   "id": "1f447f5d-9756-4b17-a033-deb8f274396b",
   "metadata": {},
   "outputs": [
    {
     "name": "stdout",
     "output_type": "stream",
     "text": [
      "[[11 21 31]\n",
      " [12 22 32]\n",
      " [13 23 33]]\n"
     ]
    }
   ],
   "source": [
    "# Column vector with row vector\n",
    "col = [[1],\n",
    "       [2],\n",
    "       [3]]\n",
    "row = np.array([10, 20, 30])\n",
    "result = col + row\n",
    "print(result)"
   ]
  },
  {
   "cell_type": "markdown",
   "id": "eb9522d7-0971-42ae-b499-06163664a3b9",
   "metadata": {},
   "source": [
    "# Linear Algebra Opeartions"
   ]
  },
  {
   "cell_type": "code",
   "execution_count": 76,
   "id": "48846d2a-07c1-48d4-92a3-1621d388a155",
   "metadata": {},
   "outputs": [
    {
     "name": "stdout",
     "output_type": "stream",
     "text": [
      "A x B: \n",
      "[[19 22]\n",
      " [43 50]]\n"
     ]
    }
   ],
   "source": [
    "# Matrix Multiplication\n",
    "A = np.array([[1, 2],\n",
    "              [3, 4]])\n",
    "B = np.array([[5, 6],\n",
    "              [7, 8]])\n",
    "\n",
    "dot_product = np.dot(A, B)\n",
    "dot_product_alt = A @ B\n",
    "\n",
    "print(f\"A x B: \\n{dot_product}\")"
   ]
  },
  {
   "cell_type": "code",
   "execution_count": 77,
   "id": "3e9136cd-32fa-4cd0-8576-9c2827654fca",
   "metadata": {},
   "outputs": [
    {
     "name": "stdout",
     "output_type": "stream",
     "text": [
      "Dot product of v1 and v2 is 32\n"
     ]
    }
   ],
   "source": [
    "# Vector operations\n",
    "v1 = np.array([1, 2, 3])\n",
    "v2 = np.array([4, 5, 6])\n",
    "dot_vectors = np.dot(v1, v2)\n",
    "print(f\"Dot product of v1 and v2 is {dot_vectors}\")"
   ]
  },
  {
   "cell_type": "code",
   "execution_count": 78,
   "id": "e3714842-b69c-47c9-b58e-d00a465637a6",
   "metadata": {},
   "outputs": [
    {
     "name": "stdout",
     "output_type": "stream",
     "text": [
      "Determinant of A = -2.0000000000000004\n",
      "Inverse of A = \n",
      "[[-2.   1. ]\n",
      " [ 1.5 -0.5]]\n",
      "Eigenvalues of A = [-0.37228132  5.37228132]\n"
     ]
    }
   ],
   "source": [
    "# Linear algebra functions\n",
    "A = np.array([[1, 2],\n",
    "              [3, 4]])\n",
    "det = np.linalg.det(A)\n",
    "inv = np.linalg.inv(A)\n",
    "eigenvals = np.linalg.eigvals(A)\n",
    "\n",
    "print(f\"Determinant of A = {det}\")\n",
    "print(f\"Inverse of A = \\n{inv}\")\n",
    "print(f\"Eigenvalues of A = {eigenvals}\")"
   ]
  },
  {
   "cell_type": "markdown",
   "id": "a31aa7c4-22fb-4ef4-94f3-c45b53a17dd5",
   "metadata": {},
   "source": [
    "# Statistical Operations"
   ]
  },
  {
   "cell_type": "code",
   "execution_count": 79,
   "id": "63a1a696-e2bc-40b1-b46d-bf26263579fb",
   "metadata": {},
   "outputs": [
    {
     "name": "stdout",
     "output_type": "stream",
     "text": [
      "Data: \n",
      "[[ 1  2  3  4]\n",
      " [ 5  6  7  8]\n",
      " [ 9 10 11 12]]\n",
      "overall mean = 6.5\n",
      "mean along rows = [ 2.5  6.5 10.5]\n",
      "mean along columns= [5. 6. 7. 8.]\n"
     ]
    }
   ],
   "source": [
    "data = np.arange(1, 13).reshape(3, 4)\n",
    "print(f\"Data: \\n{data}\")\n",
    "\n",
    "# Basic statistics\n",
    "mean_all = np.mean(data)\n",
    "mean_axis0 = np.mean(data, axis = 0)\n",
    "mean_axis1 = np.mean(data, axis = 1)\n",
    "\n",
    "print(f\"overall mean = {mean_all}\")\n",
    "print(f\"mean along rows = {mean_axis1}\")\n",
    "print(f\"mean along columns= {mean_axis0}\")"
   ]
  },
  {
   "cell_type": "code",
   "execution_count": 80,
   "id": "41107673-b1a0-449f-aec9-da9d36358911",
   "metadata": {},
   "outputs": [
    {
     "data": {
      "text/plain": [
       "np.float64(3.452052529534663)"
      ]
     },
     "execution_count": 80,
     "metadata": {},
     "output_type": "execute_result"
    }
   ],
   "source": [
    "np.std(data)"
   ]
  },
  {
   "cell_type": "code",
   "execution_count": 81,
   "id": "fae7d1b3-e35b-43d2-b0d2-374bafc1b52e",
   "metadata": {},
   "outputs": [
    {
     "data": {
      "text/plain": [
       "np.float64(11.916666666666666)"
      ]
     },
     "execution_count": 81,
     "metadata": {},
     "output_type": "execute_result"
    }
   ],
   "source": [
    "np.var(data)"
   ]
  },
  {
   "cell_type": "code",
   "execution_count": 82,
   "id": "3d9cc228-c9b0-4750-bc4d-fb961cc1a68b",
   "metadata": {},
   "outputs": [
    {
     "data": {
      "text/plain": [
       "np.float64(6.5)"
      ]
     },
     "execution_count": 82,
     "metadata": {},
     "output_type": "execute_result"
    }
   ],
   "source": [
    "np.median(data)"
   ]
  },
  {
   "cell_type": "code",
   "execution_count": 83,
   "id": "f4c28f98-4cb5-4f0c-ac71-cc94262c524c",
   "metadata": {},
   "outputs": [
    {
     "data": {
      "text/plain": [
       "np.float64(9.25)"
      ]
     },
     "execution_count": 83,
     "metadata": {},
     "output_type": "execute_result"
    }
   ],
   "source": [
    "np.percentile(data, 75)"
   ]
  },
  {
   "cell_type": "code",
   "execution_count": 84,
   "id": "6af4c27a-760d-4eb9-a0e5-de6aa5246fef",
   "metadata": {},
   "outputs": [
    {
     "data": {
      "text/plain": [
       "array([[1., 1., 1.],\n",
       "       [1., 1., 1.],\n",
       "       [1., 1., 1.]])"
      ]
     },
     "execution_count": 84,
     "metadata": {},
     "output_type": "execute_result"
    }
   ],
   "source": [
    "np.corrcoef(data)"
   ]
  },
  {
   "cell_type": "markdown",
   "id": "0e6a236f-ef57-47bb-83dd-07ea26e82c36",
   "metadata": {},
   "source": [
    "# Working with Missing Data"
   ]
  },
  {
   "cell_type": "code",
   "execution_count": 85,
   "id": "e1e76822-8c66-4cf4-98b6-7a4b977b3fcb",
   "metadata": {},
   "outputs": [
    {
     "data": {
      "text/plain": [
       "array([ 1.,  2., nan,  4.,  5.])"
      ]
     },
     "execution_count": 85,
     "metadata": {},
     "output_type": "execute_result"
    }
   ],
   "source": [
    "# NaN handling\n",
    "data_with_nan = np.array([1, 2, np.nan, 4, 5])\n",
    "data_with_nan"
   ]
  },
  {
   "cell_type": "code",
   "execution_count": 86,
   "id": "007e2305-404c-4d7e-8fe4-1e3241fe14fe",
   "metadata": {},
   "outputs": [
    {
     "data": {
      "text/plain": [
       "array([False, False,  True, False, False])"
      ]
     },
     "execution_count": 86,
     "metadata": {},
     "output_type": "execute_result"
    }
   ],
   "source": [
    "is_nan = np.isnan(data_with_nan)\n",
    "is_nan"
   ]
  },
  {
   "cell_type": "code",
   "execution_count": 87,
   "id": "5ea4bd50-57db-4afd-bae9-9a82c34215cb",
   "metadata": {},
   "outputs": [
    {
     "data": {
      "text/plain": [
       "np.True_"
      ]
     },
     "execution_count": 87,
     "metadata": {},
     "output_type": "execute_result"
    }
   ],
   "source": [
    "has_nan = np.any(np.isnan(data_with_nan))\n",
    "has_nan"
   ]
  },
  {
   "cell_type": "code",
   "execution_count": 88,
   "id": "39864deb-aacb-4007-bf6a-b8d5b87c0153",
   "metadata": {},
   "outputs": [
    {
     "data": {
      "text/plain": [
       "array([1., 2., 4., 5.])"
      ]
     },
     "execution_count": 88,
     "metadata": {},
     "output_type": "execute_result"
    }
   ],
   "source": [
    "clean_data = data_with_nan[~np.isnan(data_with_nan)]\n",
    "clean_data"
   ]
  },
  {
   "cell_type": "code",
   "execution_count": 89,
   "id": "5e2a43d8-587b-4452-8973-cc925601feb6",
   "metadata": {},
   "outputs": [
    {
     "data": {
      "text/plain": [
       "np.float64(nan)"
      ]
     },
     "execution_count": 89,
     "metadata": {},
     "output_type": "execute_result"
    }
   ],
   "source": [
    "np.sum(data_with_nan)"
   ]
  },
  {
   "cell_type": "code",
   "execution_count": 90,
   "id": "0fa5f31a-052d-44ee-8607-169f0e5add53",
   "metadata": {},
   "outputs": [
    {
     "data": {
      "text/plain": [
       "np.float64(3.0)"
      ]
     },
     "execution_count": 90,
     "metadata": {},
     "output_type": "execute_result"
    }
   ],
   "source": [
    "# NaN aware functions\n",
    "np.nanmean(data_with_nan)"
   ]
  },
  {
   "cell_type": "code",
   "execution_count": 91,
   "id": "d7f041cc-14be-4998-a479-ba78a5c447b2",
   "metadata": {},
   "outputs": [
    {
     "data": {
      "text/plain": [
       "np.float64(12.0)"
      ]
     },
     "execution_count": 91,
     "metadata": {},
     "output_type": "execute_result"
    }
   ],
   "source": [
    "np.nansum(data_with_nan)"
   ]
  },
  {
   "cell_type": "markdown",
   "id": "5dca95bf-ff3e-427b-b7e8-6bc1d49364bb",
   "metadata": {},
   "source": [
    "np.s"
   ]
  },
  {
   "cell_type": "code",
   "execution_count": null,
   "id": "cffc8366-2f8d-4285-9ef1-e941f4263385",
   "metadata": {},
   "outputs": [],
   "source": []
  }
 ],
 "metadata": {
  "kernelspec": {
   "display_name": "Python (stat)",
   "language": "python",
   "name": "stat"
  },
  "language_info": {
   "codemirror_mode": {
    "name": "ipython",
    "version": 3
   },
   "file_extension": ".py",
   "mimetype": "text/x-python",
   "name": "python",
   "nbconvert_exporter": "python",
   "pygments_lexer": "ipython3",
   "version": "3.12.11"
  }
 },
 "nbformat": 4,
 "nbformat_minor": 5
}
