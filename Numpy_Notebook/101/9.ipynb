{
 "cells": [
  {
   "cell_type": "markdown",
   "id": "53bb47b5-2895-496d-8eb6-f66fbb5c07c0",
   "metadata": {},
   "source": [
    "####  Stack the arrays a and b horizontally.\n",
    "\n",
    "Input\n",
    "\n",
    "a = np.arange(10).reshape(2,-1)  \n",
    "b = np.repeat(1, 10).reshape(2,-1)  \n",
    "Desired Output:\n",
    "\n",
    "#> array([[0, 1, 2, 3, 4, 1, 1, 1, 1, 1],  \n",
    "#>        [5, 6, 7, 8, 9, 1, 1, 1, 1, 1]])"
   ]
  },
  {
   "cell_type": "code",
   "execution_count": 10,
   "id": "41c5feb5-46eb-49eb-95b4-5decc773eef6",
   "metadata": {},
   "outputs": [],
   "source": [
    "import numpy as np"
   ]
  },
  {
   "cell_type": "code",
   "execution_count": 12,
   "id": "1cea08fd-ef80-4e00-ba2e-a9d9628d7dae",
   "metadata": {},
   "outputs": [],
   "source": [
    "a = np.arange(10).reshape(2, -1)\n",
    "b = np.repeat(1, 10).reshape(2, -1)"
   ]
  },
  {
   "cell_type": "markdown",
   "id": "e4209100-77e2-400a-abb7-6b2c14ec88ad",
   "metadata": {},
   "source": [
    "Method 1: Concatenate"
   ]
  },
  {
   "cell_type": "code",
   "execution_count": 25,
   "id": "a06180d5-160d-45c4-805b-8b06f3c687fc",
   "metadata": {},
   "outputs": [
    {
     "data": {
      "text/plain": [
       "array([[0, 1, 2, 3, 4, 1, 1, 1, 1, 1],\n",
       "       [5, 6, 7, 8, 9, 1, 1, 1, 1, 1]])"
      ]
     },
     "execution_count": 25,
     "metadata": {},
     "output_type": "execute_result"
    }
   ],
   "source": [
    "np.concatenate((a, b), axis = 1)"
   ]
  },
  {
   "cell_type": "markdown",
   "id": "22eb9f86-319b-45e5-a65a-45ecfb008cd0",
   "metadata": {},
   "source": []
  },
  {
   "cell_type": "markdown",
   "id": "c4f401cf-e089-4d5d-8e93-f95358e913fd",
   "metadata": {},
   "source": [
    "Method 2: hstack"
   ]
  },
  {
   "cell_type": "code",
   "execution_count": 32,
   "id": "bf919a6a-9620-4e8c-9e8c-ce2cc138352e",
   "metadata": {},
   "outputs": [
    {
     "data": {
      "text/plain": [
       "array([[0, 1, 2, 3, 4, 1, 1, 1, 1, 1],\n",
       "       [5, 6, 7, 8, 9, 1, 1, 1, 1, 1]])"
      ]
     },
     "execution_count": 32,
     "metadata": {},
     "output_type": "execute_result"
    }
   ],
   "source": [
    "np.hstack((a, b))"
   ]
  },
  {
   "cell_type": "code",
   "execution_count": null,
   "id": "45c3f1ae-3040-4793-8097-ebc77a4efa3d",
   "metadata": {},
   "outputs": [],
   "source": []
  },
  {
   "cell_type": "code",
   "execution_count": null,
   "id": "98aa7669-0cb3-45a2-a52f-973843167a05",
   "metadata": {},
   "outputs": [],
   "source": []
  }
 ],
 "metadata": {
  "kernelspec": {
   "display_name": "Python [conda env:base] *",
   "language": "python",
   "name": "conda-base-py"
  },
  "language_info": {
   "codemirror_mode": {
    "name": "ipython",
    "version": 3
   },
   "file_extension": ".py",
   "mimetype": "text/x-python",
   "name": "python",
   "nbconvert_exporter": "python",
   "pygments_lexer": "ipython3",
   "version": "3.12.7"
  }
 },
 "nbformat": 4,
 "nbformat_minor": 5
}
