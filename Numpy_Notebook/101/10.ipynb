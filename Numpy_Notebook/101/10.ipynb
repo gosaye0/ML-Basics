{
 "cells": [
  {
   "cell_type": "markdown",
   "id": "e742f1d4-bd1c-4621-9fd8-89abdbe518d3",
   "metadata": {},
   "source": [
    "#### Create the following pattern without hardcoding. Use only numpy functions and the below input array a.\n",
    "\n",
    "Input:\n",
    "\n",
    "a = np.array([1, 2, 3])`  \n",
    "Desired Output:\n",
    "\n",
    "> array([1,  1,  1,  2,  2,  2,  3, 3, 3, 1, 2, 3, 1, 2, 3, 1, 2, 3])"
   ]
  },
  {
   "cell_type": "code",
   "execution_count": 1,
   "id": "fbbeac66-0209-40dc-bbb8-1d7feeac6bf1",
   "metadata": {},
   "outputs": [],
   "source": [
    "import numpy as np"
   ]
  },
  {
   "cell_type": "code",
   "execution_count": 16,
   "id": "4bb2b51c-9fd2-4b30-824c-be26aa36332e",
   "metadata": {},
   "outputs": [
    {
     "data": {
      "text/plain": [
       "array([1, 1, 1, 2, 2, 2, 3, 3, 3, 1, 2, 3, 1, 2, 3, 1, 2, 3])"
      ]
     },
     "execution_count": 16,
     "metadata": {},
     "output_type": "execute_result"
    }
   ],
   "source": [
    "a = np.array([1, 2, 3])\n",
    "b = np.repeat(a, [3, 3, 3,])\n",
    "c = np.tile(a, 3)\n",
    "np.concatenate((b, c))"
   ]
  },
  {
   "cell_type": "code",
   "execution_count": null,
   "id": "89010c46-0e90-4efd-8fd2-bb33a7779224",
   "metadata": {},
   "outputs": [],
   "source": []
  },
  {
   "cell_type": "code",
   "execution_count": null,
   "id": "d0b0995a-421a-415a-a1fc-1cb18a499fca",
   "metadata": {},
   "outputs": [],
   "source": []
  }
 ],
 "metadata": {
  "kernelspec": {
   "display_name": "Python [conda env:base] *",
   "language": "python",
   "name": "conda-base-py"
  },
  "language_info": {
   "codemirror_mode": {
    "name": "ipython",
    "version": 3
   },
   "file_extension": ".py",
   "mimetype": "text/x-python",
   "name": "python",
   "nbconvert_exporter": "python",
   "pygments_lexer": "ipython3",
   "version": "3.12.7"
  }
 },
 "nbformat": 4,
 "nbformat_minor": 5
}
