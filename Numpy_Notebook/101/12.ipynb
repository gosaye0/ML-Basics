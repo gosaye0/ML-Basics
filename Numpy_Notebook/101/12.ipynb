{
 "cells": [
  {
   "cell_type": "markdown",
   "id": "d1ddda03-3931-42e6-89ae-dd83171b1222",
   "metadata": {},
   "source": [
    "#### From array a remove all items present in array b\n",
    "\n",
    "Input:\n",
    "\n",
    "a = np.array([1,2,3,4,5])  \n",
    "b = np.array([5,6,7,8,9])  \n",
    "Desired Output:\n",
    "\n",
    "array([1,2,3,4])"
   ]
  },
  {
   "cell_type": "code",
   "execution_count": null,
   "id": "80d70d20-ac66-4de8-a8f1-5c37391d5c4d",
   "metadata": {},
   "outputs": [],
   "source": []
  },
  {
   "cell_type": "code",
   "execution_count": 3,
   "id": "55bbd774-25af-4aac-8d8d-132a6c606f42",
   "metadata": {},
   "outputs": [],
   "source": [
    "import numpy as np"
   ]
  },
  {
   "cell_type": "code",
   "execution_count": 9,
   "id": "a4b4f217-4a6f-43e8-8b95-4923c6a4f9af",
   "metadata": {},
   "outputs": [
    {
     "data": {
      "text/plain": [
       "array([1, 2, 3, 4])"
      ]
     },
     "execution_count": 9,
     "metadata": {},
     "output_type": "execute_result"
    }
   ],
   "source": [
    "a = np.array([1, 2, 3, 4, 5])\n",
    "b = np.array([5, 6, 7, 8, 9])\n",
    "\n",
    "np.setdiff1d(a, b)"
   ]
  },
  {
   "cell_type": "code",
   "execution_count": null,
   "id": "77989e49-6d25-441a-9632-afed566bfffd",
   "metadata": {},
   "outputs": [],
   "source": []
  }
 ],
 "metadata": {
  "kernelspec": {
   "display_name": "Python [conda env:base] *",
   "language": "python",
   "name": "conda-base-py"
  },
  "language_info": {
   "codemirror_mode": {
    "name": "ipython",
    "version": 3
   },
   "file_extension": ".py",
   "mimetype": "text/x-python",
   "name": "python",
   "nbconvert_exporter": "python",
   "pygments_lexer": "ipython3",
   "version": "3.12.7"
  }
 },
 "nbformat": 4,
 "nbformat_minor": 5
}
