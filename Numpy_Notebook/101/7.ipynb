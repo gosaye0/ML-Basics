{
 "cells": [
  {
   "cell_type": "markdown",
   "id": "b98706fa-e63a-4565-a535-aed50bd08819",
   "metadata": {},
   "source": [
    "#### Convert a 1D array to a 2D array with 2 rows"
   ]
  },
  {
   "cell_type": "code",
   "execution_count": 3,
   "id": "c097ae54-c5f6-423e-8f7c-733c13350040",
   "metadata": {},
   "outputs": [],
   "source": [
    "import numpy as np"
   ]
  },
  {
   "cell_type": "code",
   "execution_count": 9,
   "id": "f514b91e-f649-4bb7-8db2-17217d8f802b",
   "metadata": {},
   "outputs": [
    {
     "name": "stdout",
     "output_type": "stream",
     "text": [
      "1D:\n",
      "[0 1 2 3 4 5 6 7 8]\n",
      "\n",
      "\n",
      "2D:\n",
      "[[0 1 2]\n",
      " [3 4 5]\n",
      " [6 7 8]]\n"
     ]
    }
   ],
   "source": [
    "arr_1D = np.arange(9)\n",
    "arr_2D = arr_1D.reshape(3, -1)\n",
    "print(f'1D:\\n{arr_1D}')\n",
    "print(f'\\n\\n2D:\\n{arr_2D}')"
   ]
  },
  {
   "cell_type": "code",
   "execution_count": null,
   "id": "c636a27a-b90c-4b19-89a6-a9f51cbbd6b0",
   "metadata": {},
   "outputs": [],
   "source": []
  }
 ],
 "metadata": {
  "kernelspec": {
   "display_name": "Python [conda env:base] *",
   "language": "python",
   "name": "conda-base-py"
  },
  "language_info": {
   "codemirror_mode": {
    "name": "ipython",
    "version": 3
   },
   "file_extension": ".py",
   "mimetype": "text/x-python",
   "name": "python",
   "nbconvert_exporter": "python",
   "pygments_lexer": "ipython3",
   "version": "3.12.7"
  }
 },
 "nbformat": 4,
 "nbformat_minor": 5
}
