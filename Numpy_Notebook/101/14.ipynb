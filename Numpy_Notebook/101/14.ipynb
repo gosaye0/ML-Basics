{
 "cells": [
  {
   "cell_type": "markdown",
   "id": "a58b13ce-f7c4-417d-b279-647acb166754",
   "metadata": {},
   "source": [
    "#### Q. Get all items between 5 and 10 from a.\n",
    "\n",
    "Input:\n",
    "\n",
    "    a = np.array([2, 6, 1, 9, 10, 3, 27])   \n",
    "Desired Output:\n",
    "\n",
    "    (array([6, 9, 10]),)"
   ]
  },
  {
   "cell_type": "code",
   "execution_count": null,
   "id": "a1b9603b-60ba-40ba-b32e-a0136fd310f4",
   "metadata": {},
   "outputs": [],
   "source": []
  },
  {
   "cell_type": "code",
   "execution_count": 3,
   "id": "65bda1ce-feef-422b-9c9a-a75185a2d186",
   "metadata": {},
   "outputs": [],
   "source": [
    "import numpy as np"
   ]
  },
  {
   "cell_type": "code",
   "execution_count": 17,
   "id": "0661389c-949a-4c0b-b6b2-3bc01c164efc",
   "metadata": {},
   "outputs": [
    {
     "data": {
      "text/plain": [
       "array([ 6,  9, 10])"
      ]
     },
     "execution_count": 17,
     "metadata": {},
     "output_type": "execute_result"
    }
   ],
   "source": [
    "a = np.array([2, 6, 1, 9, 10, 3, 27])\n",
    "condition = (a >= 5) & (a <= 10)\n",
    "a[condition]"
   ]
  },
  {
   "cell_type": "code",
   "execution_count": null,
   "id": "73f94cfb-fc99-4276-b199-31a11302d037",
   "metadata": {},
   "outputs": [],
   "source": []
  }
 ],
 "metadata": {
  "kernelspec": {
   "display_name": "Python [conda env:base] *",
   "language": "python",
   "name": "conda-base-py"
  },
  "language_info": {
   "codemirror_mode": {
    "name": "ipython",
    "version": 3
   },
   "file_extension": ".py",
   "mimetype": "text/x-python",
   "name": "python",
   "nbconvert_exporter": "python",
   "pygments_lexer": "ipython3",
   "version": "3.12.7"
  }
 },
 "nbformat": 4,
 "nbformat_minor": 5
}
