{
 "cells": [
  {
   "cell_type": "markdown",
   "id": "6925b7b1-f0be-4024-b4f9-4e49b33594c9",
   "metadata": {},
   "source": [
    "#### Replace all odd numbers in arr with -1 without changing arr\n",
    "\n",
    "Input:\n",
    "\n",
    "arr = np.array([0, 1, 2, 3, 4, 5, 6, 7, 8, 9])"
   ]
  },
  {
   "cell_type": "code",
   "execution_count": 3,
   "id": "525d5385-bdf1-410c-b10d-f552db36fb83",
   "metadata": {},
   "outputs": [],
   "source": [
    "import numpy as np"
   ]
  },
  {
   "cell_type": "code",
   "execution_count": 23,
   "id": "6809224b-d2c9-49d0-8e65-0fb93c67d014",
   "metadata": {},
   "outputs": [
    {
     "name": "stdout",
     "output_type": "stream",
     "text": [
      "New array: [ 0 -1  2 -1  4 -1  6 -1  8 -1]\n",
      "Original array: [0 1 2 3 4 5 6 7 8 9]\n"
     ]
    }
   ],
   "source": [
    "arr = np.array([0, 1, 2, 3, 4, 5, 6, 7, 8, 9])\n",
    "odd = arr.copy()\n",
    "odd[odd % 2 == 1] = -1\n",
    "print(f'New array: {odd}')\n",
    "print(f'Original array: {arr}')"
   ]
  },
  {
   "cell_type": "markdown",
   "id": "8d168186-da34-4e4d-9d3a-d6aa3cec7a72",
   "metadata": {},
   "source": [
    "#### Using np.where()"
   ]
  },
  {
   "cell_type": "code",
   "execution_count": 26,
   "id": "3d20816b-43d0-4fdd-b12a-3d3436a89da6",
   "metadata": {},
   "outputs": [
    {
     "name": "stdout",
     "output_type": "stream",
     "text": [
      "New array: [ 0 -1  2 -1  4 -1  6 -1  8 -1]\n",
      "Original array: [0 1 2 3 4 5 6 7 8 9]\n"
     ]
    }
   ],
   "source": [
    "arr1 = np.array([0, 1, 2, 3, 4, 5, 6, 7, 8, 9])\n",
    "odd1 = np.where(arr % 2 == 1, -1, arr1)\n",
    "print(f'New array: {odd1}')\n",
    "print(f'Original array: {arr1}')"
   ]
  },
  {
   "cell_type": "code",
   "execution_count": null,
   "id": "9f7bffbc-f908-4d9d-9814-5ef98178b9d0",
   "metadata": {},
   "outputs": [],
   "source": []
  }
 ],
 "metadata": {
  "kernelspec": {
   "display_name": "Python [conda env:base] *",
   "language": "python",
   "name": "conda-base-py"
  },
  "language_info": {
   "codemirror_mode": {
    "name": "ipython",
    "version": 3
   },
   "file_extension": ".py",
   "mimetype": "text/x-python",
   "name": "python",
   "nbconvert_exporter": "python",
   "pygments_lexer": "ipython3",
   "version": "3.12.7"
  }
 },
 "nbformat": 4,
 "nbformat_minor": 5
}
