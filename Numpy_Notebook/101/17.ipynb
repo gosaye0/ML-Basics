{
 "cells": [
  {
   "cell_type": "markdown",
   "id": "90dec6ec-ae87-4592-9043-d6492af26ba6",
   "metadata": {},
   "source": [
    "####  Swap rows 1 and 2 in the array arr:\n",
    "\n",
    "arr = np.arange(9).reshape(3,3)  \n",
    "arr"
   ]
  },
  {
   "cell_type": "code",
   "execution_count": null,
   "id": "1f602fd0-748e-4bc4-a17d-273ce3e4c899",
   "metadata": {},
   "outputs": [],
   "source": []
  },
  {
   "cell_type": "code",
   "execution_count": 3,
   "id": "c56d441d-7944-4806-b156-11e2e1faad79",
   "metadata": {},
   "outputs": [],
   "source": [
    "import numpy as np"
   ]
  },
  {
   "cell_type": "code",
   "execution_count": 11,
   "id": "1d13ef32-cf00-4245-a3b5-12b6fa1d3010",
   "metadata": {},
   "outputs": [
    {
     "data": {
      "text/plain": [
       "array([[3, 4, 5],\n",
       "       [0, 1, 2],\n",
       "       [6, 7, 8]])"
      ]
     },
     "execution_count": 11,
     "metadata": {},
     "output_type": "execute_result"
    }
   ],
   "source": [
    "arr = np.arange(9).reshape(3, 3)\n",
    "arr[[1, 0, 2]]"
   ]
  },
  {
   "cell_type": "code",
   "execution_count": null,
   "id": "3c3c2f3f-693a-46d1-ad44-5188789ff052",
   "metadata": {},
   "outputs": [],
   "source": []
  }
 ],
 "metadata": {
  "kernelspec": {
   "display_name": "Python [conda env:base] *",
   "language": "python",
   "name": "conda-base-py"
  },
  "language_info": {
   "codemirror_mode": {
    "name": "ipython",
    "version": 3
   },
   "file_extension": ".py",
   "mimetype": "text/x-python",
   "name": "python",
   "nbconvert_exporter": "python",
   "pygments_lexer": "ipython3",
   "version": "3.12.7"
  }
 },
 "nbformat": 4,
 "nbformat_minor": 5
}
