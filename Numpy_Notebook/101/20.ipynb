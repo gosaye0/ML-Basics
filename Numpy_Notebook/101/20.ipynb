{
 "cells": [
  {
   "cell_type": "markdown",
   "id": "2ea626db-fecd-4a19-b9d5-79e017bcf63f",
   "metadata": {},
   "source": [
    "#### Q. Create a 2D array of shape 5x3 to contain random decimal numbers between 5 and 10."
   ]
  },
  {
   "cell_type": "code",
   "execution_count": 3,
   "id": "a4eec5c4-2d32-450f-9cfb-f28240636360",
   "metadata": {},
   "outputs": [],
   "source": [
    "import numpy as np"
   ]
  },
  {
   "cell_type": "code",
   "execution_count": 28,
   "id": "ca0a4ee1-7660-40fe-bcb7-2f4071005a97",
   "metadata": {},
   "outputs": [
    {
     "data": {
      "text/plain": [
       "array([[8.95848254, 7.98196995, 5.02699602],\n",
       "       [8.91165504, 8.35766735, 5.15467498],\n",
       "       [8.56052799, 8.21686222, 5.27512624],\n",
       "       [7.47010246, 6.55579327, 5.47175258],\n",
       "       [8.3520164 , 6.77269756, 8.59116989]])"
      ]
     },
     "execution_count": 28,
     "metadata": {},
     "output_type": "execute_result"
    }
   ],
   "source": [
    "arr = np.random.random((5, 3))\n",
    "arr * 5 + 5"
   ]
  },
  {
   "cell_type": "code",
   "execution_count": 31,
   "id": "167c8959-1d32-42fc-8eef-2157467c1fab",
   "metadata": {},
   "outputs": [
    {
     "data": {
      "text/plain": [
       "array([[9.85372414, 5.05738644, 8.05368261],\n",
       "       [6.37625835, 8.95497112, 5.40778545],\n",
       "       [9.49613956, 9.49948811, 7.89509307],\n",
       "       [6.4216492 , 9.29970348, 7.92649806],\n",
       "       [5.50163659, 8.17137079, 7.00609001]])"
      ]
     },
     "execution_count": 31,
     "metadata": {},
     "output_type": "execute_result"
    }
   ],
   "source": [
    "np.random.uniform(5, 10, size = (5, 3))"
   ]
  },
  {
   "cell_type": "code",
   "execution_count": null,
   "id": "8a7504fb-4f1d-40d8-a557-0ae99ef6522d",
   "metadata": {},
   "outputs": [],
   "source": []
  }
 ],
 "metadata": {
  "kernelspec": {
   "display_name": "Python [conda env:base] *",
   "language": "python",
   "name": "conda-base-py"
  },
  "language_info": {
   "codemirror_mode": {
    "name": "ipython",
    "version": 3
   },
   "file_extension": ".py",
   "mimetype": "text/x-python",
   "name": "python",
   "nbconvert_exporter": "python",
   "pygments_lexer": "ipython3",
   "version": "3.12.7"
  }
 },
 "nbformat": 4,
 "nbformat_minor": 5
}
