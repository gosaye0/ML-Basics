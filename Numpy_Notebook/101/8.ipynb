{
 "cells": [
  {
   "cell_type": "markdown",
   "id": "b7732c28-b4cf-4bdd-a7c0-32f0e57d425a",
   "metadata": {},
   "source": [
    "####  Stack arrays a and b vertically\n",
    "\n",
    "Input\n",
    "\n",
    "a = np.arange(10).reshape(2,-1) \n",
    "\n",
    "b = np.repeat(1, 10).reshape(2,-1)\n",
    "\n",
    "Desired Output:\n",
    "\n",
    " array([[0, 1, 2, 3, 4],\n",
    "\n",
    "#>        [5, 6, 7, 8, 9],\n",
    "\n",
    "#>        [1, 1, 1, 1, 1],\n",
    "\n",
    "#>        [1, 1, 1, 1, 1]])"
   ]
  },
  {
   "cell_type": "code",
   "execution_count": 11,
   "id": "8b02d904-3701-478e-a068-f19c8f697c5e",
   "metadata": {},
   "outputs": [],
   "source": [
    "import numpy as np"
   ]
  },
  {
   "cell_type": "code",
   "execution_count": 24,
   "id": "f07f09df-b36c-4d42-b1df-5821592e25c5",
   "metadata": {},
   "outputs": [
    {
     "data": {
      "text/plain": [
       "array([[0, 1, 2, 3, 4],\n",
       "       [5, 6, 7, 8, 9],\n",
       "       [1, 1, 1, 1, 1],\n",
       "       [1, 1, 1, 1, 1]])"
      ]
     },
     "execution_count": 24,
     "metadata": {},
     "output_type": "execute_result"
    }
   ],
   "source": [
    "a = np.arange(10).reshape(2, -1)\n",
    "b = np.repeat(1, 10).reshape(2, -1)\n",
    "np.vstack((a, b))"
   ]
  },
  {
   "cell_type": "code",
   "execution_count": null,
   "id": "0b156575-5485-4471-ad1a-16234350810f",
   "metadata": {},
   "outputs": [],
   "source": []
  },
  {
   "cell_type": "code",
   "execution_count": null,
   "id": "02253ce8-2a76-4f0c-8ec5-d2fe4d4f3b60",
   "metadata": {},
   "outputs": [],
   "source": []
  }
 ],
 "metadata": {
  "kernelspec": {
   "display_name": "Python [conda env:base] *",
   "language": "python",
   "name": "conda-base-py"
  },
  "language_info": {
   "codemirror_mode": {
    "name": "ipython",
    "version": 3
   },
   "file_extension": ".py",
   "mimetype": "text/x-python",
   "name": "python",
   "nbconvert_exporter": "python",
   "pygments_lexer": "ipython3",
   "version": "3.12.7"
  }
 },
 "nbformat": 4,
 "nbformat_minor": 5
}
