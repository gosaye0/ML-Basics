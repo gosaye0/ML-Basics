{
 "cells": [
  {
   "cell_type": "markdown",
   "id": "f820e5ec-3b04-43ca-96f1-991c72f73ca7",
   "metadata": {},
   "source": [
    "#### Q. Print or show only 3 decimal places of the numpy array rand_arr.  \n",
    "\n",
    "Input:  \n",
    "\n",
    "rand_arr = np.random.random((5,3))"
   ]
  },
  {
   "cell_type": "code",
   "execution_count": 1,
   "id": "7287ef02-109e-42aa-80ab-f2870508aa42",
   "metadata": {},
   "outputs": [],
   "source": [
    "import numpy as np"
   ]
  },
  {
   "cell_type": "code",
   "execution_count": 9,
   "id": "8f83faef-d88e-41dd-8396-969ef666995d",
   "metadata": {},
   "outputs": [
    {
     "name": "stdout",
     "output_type": "stream",
     "text": [
      "[[0.494 0.707 0.094]\n",
      " [0.154 0.902 0.549]\n",
      " [0.708 0.724 0.098]\n",
      " [0.866 0.975 0.765]\n",
      " [0.022 0.469 0.091]]\n"
     ]
    }
   ],
   "source": [
    "rand_arr = np.random.random((5, 3))\n",
    "new = np.set_printoptions(precision = 3)\n",
    "print(rand_arr)"
   ]
  },
  {
   "cell_type": "code",
   "execution_count": 11,
   "id": "475b6b15-2979-4574-9638-6e0d407fa587",
   "metadata": {},
   "outputs": [
    {
     "data": {
      "text/plain": [
       "array([[0.494, 0.707, 0.094],\n",
       "       [0.154, 0.902, 0.549],\n",
       "       [0.708, 0.724, 0.098],\n",
       "       [0.866, 0.975, 0.765],\n",
       "       [0.022, 0.469, 0.091]])"
      ]
     },
     "execution_count": 11,
     "metadata": {},
     "output_type": "execute_result"
    }
   ],
   "source": [
    "np.round(rand_arr, 3)"
   ]
  },
  {
   "cell_type": "code",
   "execution_count": null,
   "id": "cd37a135-ff4b-4cb1-aa0b-1de55b76eb7b",
   "metadata": {},
   "outputs": [],
   "source": []
  }
 ],
 "metadata": {
  "kernelspec": {
   "display_name": "Python [conda env:base] *",
   "language": "python",
   "name": "conda-base-py"
  },
  "language_info": {
   "codemirror_mode": {
    "name": "ipython",
    "version": 3
   },
   "file_extension": ".py",
   "mimetype": "text/x-python",
   "name": "python",
   "nbconvert_exporter": "python",
   "pygments_lexer": "ipython3",
   "version": "3.12.7"
  }
 },
 "nbformat": 4,
 "nbformat_minor": 5
}
