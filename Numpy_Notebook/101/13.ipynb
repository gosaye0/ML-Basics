{
 "cells": [
  {
   "cell_type": "markdown",
   "id": "fb3ec64b-b559-4698-94f6-a0e2f3bdfdfe",
   "metadata": {},
   "source": [
    "#### Q. Get the positions where elements of a and b match\n",
    "\n",
    "Input:\n",
    "\n",
    "    a = np.array([1,2,3,2,3,4,3,4,5,6])  \n",
    "    b = np.array([7,2,10,2,7,4,9,4,9,8])  \n",
    "\n",
    "    \n",
    "Desired Output:\n",
    "\n",
    "    #> (array([1, 3, 5, 7]),)"
   ]
  },
  {
   "cell_type": "code",
   "execution_count": null,
   "id": "61e3f34e-f20a-4baa-a2d8-bb895e5755fb",
   "metadata": {},
   "outputs": [],
   "source": []
  },
  {
   "cell_type": "code",
   "execution_count": 4,
   "id": "03d6d5b0-64aa-4522-9210-0a585b6355c9",
   "metadata": {},
   "outputs": [],
   "source": [
    "import numpy as np"
   ]
  },
  {
   "cell_type": "code",
   "execution_count": 16,
   "id": "b244257b-e059-46e1-abaa-f4f13a8ad4a7",
   "metadata": {},
   "outputs": [
    {
     "data": {
      "text/plain": [
       "(array([1, 3, 5, 7], dtype=int64),)"
      ]
     },
     "execution_count": 16,
     "metadata": {},
     "output_type": "execute_result"
    }
   ],
   "source": [
    "a = np.array([1, 2, 3, 2, 3, 4, 3, 4, 5, 6])\n",
    "b = np.array([7, 2, 10, 2, 7, 4, 9, 4, 9, 8])\n",
    "np.where(a == b)"
   ]
  },
  {
   "cell_type": "code",
   "execution_count": null,
   "id": "ec1e3c76-1f7b-439e-b8ca-5b52bfe90a77",
   "metadata": {},
   "outputs": [],
   "source": []
  }
 ],
 "metadata": {
  "kernelspec": {
   "display_name": "Python [conda env:base] *",
   "language": "python",
   "name": "conda-base-py"
  },
  "language_info": {
   "codemirror_mode": {
    "name": "ipython",
    "version": 3
   },
   "file_extension": ".py",
   "mimetype": "text/x-python",
   "name": "python",
   "nbconvert_exporter": "python",
   "pygments_lexer": "ipython3",
   "version": "3.12.7"
  }
 },
 "nbformat": 4,
 "nbformat_minor": 5
}
