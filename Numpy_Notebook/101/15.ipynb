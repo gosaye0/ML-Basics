{
 "cells": [
  {
   "cell_type": "markdown",
   "id": "0eb0fc15-32ff-442f-9380-081884b373f9",
   "metadata": {},
   "source": [
    "#### . Convert the function maxx that works on two scalars, to work on two arrays.\n",
    "\n",
    "Input:\n",
    "\n",
    "    def maxx(x, y):\n",
    "        \"\"\"Get the maximum of two items\"\"\"\n",
    "        if x >= y:\n",
    "            return x\n",
    "        else:\n",
    "            return y\n",
    "\n",
    "maxx(1, 5)\n",
    "#> 5"
   ]
  },
  {
   "cell_type": "code",
   "execution_count": null,
   "id": "de8a8f64-f39f-4343-862c-5bf675e475bf",
   "metadata": {},
   "outputs": [],
   "source": []
  },
  {
   "cell_type": "code",
   "execution_count": 4,
   "id": "04126313-13f6-4d79-a27c-cb2c5f9d7aff",
   "metadata": {},
   "outputs": [],
   "source": [
    "import numpy as np"
   ]
  },
  {
   "cell_type": "code",
   "execution_count": 6,
   "id": "5f6bc4fa-e73e-475d-bb0a-22c9191c7dc3",
   "metadata": {},
   "outputs": [],
   "source": [
    "def maxx(x, y):\n",
    "    \"\"\"Get the maximum of two items\"\"\"\n",
    "    if x >= y:\n",
    "        return x\n",
    "    else:\n",
    "        return y"
   ]
  },
  {
   "cell_type": "code",
   "execution_count": 10,
   "id": "1e8e90d9-1445-4e59-975a-169537519e27",
   "metadata": {},
   "outputs": [
    {
     "data": {
      "text/plain": [
       "array([3, 4, 5], dtype=object)"
      ]
     },
     "execution_count": 10,
     "metadata": {},
     "output_type": "execute_result"
    }
   ],
   "source": [
    "max = np.frompyfunc(max, 2, 1)\n",
    "arr1 = np.array([1, 4, 3])\n",
    "arr2 = np.array([3, 2, 5])\n",
    "max(arr1, arr2)"
   ]
  },
  {
   "cell_type": "code",
   "execution_count": null,
   "id": "203b0fb4-ebf1-4fce-b6e2-7204bb7f094d",
   "metadata": {},
   "outputs": [],
   "source": []
  }
 ],
 "metadata": {
  "kernelspec": {
   "display_name": "Python [conda env:base] *",
   "language": "python",
   "name": "conda-base-py"
  },
  "language_info": {
   "codemirror_mode": {
    "name": "ipython",
    "version": 3
   },
   "file_extension": ".py",
   "mimetype": "text/x-python",
   "name": "python",
   "nbconvert_exporter": "python",
   "pygments_lexer": "ipython3",
   "version": "3.12.7"
  }
 },
 "nbformat": 4,
 "nbformat_minor": 5
}
