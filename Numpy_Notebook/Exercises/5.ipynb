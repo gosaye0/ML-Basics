{
 "cells": [
  {
   "cell_type": "markdown",
   "id": "cd06cb78-392a-418a-98d7-15cf8a8a8df6",
   "metadata": {},
   "source": [
    "#### Create an array of having 6 zeros and replace the 3rd and 5th element to 15 and 25 respectively"
   ]
  },
  {
   "cell_type": "code",
   "execution_count": 2,
   "id": "5c1941b1-a443-4a71-b048-a3673e82c504",
   "metadata": {},
   "outputs": [],
   "source": [
    "import numpy as np"
   ]
  },
  {
   "cell_type": "code",
   "execution_count": 8,
   "id": "969c70a6-a542-42e3-abb6-cbf89aa9dc94",
   "metadata": {},
   "outputs": [
    {
     "name": "stdout",
     "output_type": "stream",
     "text": [
      "[ 0.  0. 15.  0. 25.  0.]\n"
     ]
    }
   ],
   "source": [
    "arr = np.zeros(6)\n",
    "arr[2] = 15\n",
    "arr[4] = 25\n",
    "print(arr)"
   ]
  },
  {
   "cell_type": "code",
   "execution_count": null,
   "id": "3a3a791a-f34b-4c7f-bf69-53722e45823a",
   "metadata": {},
   "outputs": [],
   "source": []
  }
 ],
 "metadata": {
  "kernelspec": {
   "display_name": "Python [conda env:base] *",
   "language": "python",
   "name": "conda-base-py"
  },
  "language_info": {
   "codemirror_mode": {
    "name": "ipython",
    "version": 3
   },
   "file_extension": ".py",
   "mimetype": "text/x-python",
   "name": "python",
   "nbconvert_exporter": "python",
   "pygments_lexer": "ipython3",
   "version": "3.12.7"
  }
 },
 "nbformat": 4,
 "nbformat_minor": 5
}
