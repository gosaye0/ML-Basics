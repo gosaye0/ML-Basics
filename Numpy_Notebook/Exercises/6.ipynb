{
 "cells": [
  {
   "cell_type": "markdown",
   "id": "48e4481d-72b5-4dd6-80c5-1f267ccc5ce0",
   "metadata": {},
   "source": [
    "#### Array slicing"
   ]
  },
  {
   "cell_type": "code",
   "execution_count": 2,
   "id": "3b8f3814-7db9-4210-aa2e-07fb064153da",
   "metadata": {},
   "outputs": [],
   "source": [
    "import numpy as np"
   ]
  },
  {
   "cell_type": "code",
   "execution_count": 6,
   "id": "7708845f-539b-480d-8658-05d8aa6b32e2",
   "metadata": {},
   "outputs": [],
   "source": [
    "A = np.array([10, 20, 30, 40, 50, 60, 70, 80, 90])\n",
    "B = np.array([[0, 1, 2, 3], [4, 5, 6, 7], [8, 9, 10, 11], [12, 13, 14, 15]])"
   ]
  },
  {
   "cell_type": "markdown",
   "id": "82f83d8e-16f3-4742-98b0-0d72aa47b729",
   "metadata": {},
   "source": [
    "Find:\n"
   ]
  },
  {
   "cell_type": "code",
   "execution_count": 9,
   "id": "5c703d04-0d33-4701-b9f9-41b2950eba78",
   "metadata": {},
   "outputs": [
    {
     "data": {
      "text/plain": [
       "array([[1, 2],\n",
       "       [5, 6]])"
      ]
     },
     "execution_count": 9,
     "metadata": {},
     "output_type": "execute_result"
    }
   ],
   "source": [
    "B[0:2, 1:3]"
   ]
  },
  {
   "cell_type": "code",
   "execution_count": 11,
   "id": "f6edd8b1-6c11-4a3c-882c-fe6cf4b48605",
   "metadata": {},
   "outputs": [
    {
     "data": {
      "text/plain": [
       "array([30, 60])"
      ]
     },
     "execution_count": 11,
     "metadata": {},
     "output_type": "execute_result"
    }
   ],
   "source": [
    "A[2:6:3]"
   ]
  },
  {
   "cell_type": "code",
   "execution_count": 19,
   "id": "e9097145-22aa-40b6-80b0-76e6c4f1ac38",
   "metadata": {},
   "outputs": [
    {
     "data": {
      "text/plain": [
       "array([], dtype=int32)"
      ]
     },
     "execution_count": 19,
     "metadata": {},
     "output_type": "execute_result"
    }
   ],
   "source": [
    "A[-1:-3]"
   ]
  },
  {
   "cell_type": "code",
   "execution_count": 23,
   "id": "c7042f5e-86d9-4629-b2c6-54d28ba6ab74",
   "metadata": {},
   "outputs": [
    {
     "data": {
      "text/plain": [
       "array([[12, 13, 14, 15],\n",
       "       [ 8,  9, 10, 11],\n",
       "       [ 4,  5,  6,  7],\n",
       "       [ 0,  1,  2,  3]])"
      ]
     },
     "execution_count": 23,
     "metadata": {},
     "output_type": "execute_result"
    }
   ],
   "source": [
    "B[::-1]"
   ]
  },
  {
   "cell_type": "code",
   "execution_count": 25,
   "id": "2e3b2975-755f-4604-bd95-825d9c48fb7d",
   "metadata": {},
   "outputs": [
    {
     "data": {
      "text/plain": [
       "array([[ 2,  3],\n",
       "       [ 6,  7],\n",
       "       [10, 11]])"
      ]
     },
     "execution_count": 25,
     "metadata": {},
     "output_type": "execute_result"
    }
   ],
   "source": [
    "B[:3, 2:]"
   ]
  },
  {
   "cell_type": "code",
   "execution_count": null,
   "id": "a7d4d02b-2d92-4ccf-8175-d1844ffdda45",
   "metadata": {},
   "outputs": [],
   "source": []
  }
 ],
 "metadata": {
  "kernelspec": {
   "display_name": "Python [conda env:base] *",
   "language": "python",
   "name": "conda-base-py"
  },
  "language_info": {
   "codemirror_mode": {
    "name": "ipython",
    "version": 3
   },
   "file_extension": ".py",
   "mimetype": "text/x-python",
   "name": "python",
   "nbconvert_exporter": "python",
   "pygments_lexer": "ipython3",
   "version": "3.12.7"
  }
 },
 "nbformat": 4,
 "nbformat_minor": 5
}
