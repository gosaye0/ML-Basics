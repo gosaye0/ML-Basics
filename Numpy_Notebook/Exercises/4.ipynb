{
 "cells": [
  {
   "cell_type": "markdown",
   "id": "729f0791-4784-4625-b64c-b0ba871702f7",
   "metadata": {},
   "source": [
    "#### Compare result of list and ndarray"
   ]
  },
  {
   "cell_type": "code",
   "execution_count": 3,
   "id": "58f24691-6dd0-42fb-be3c-15a06e07b823",
   "metadata": {},
   "outputs": [],
   "source": [
    "import numpy as np"
   ]
  },
  {
   "cell_type": "code",
   "execution_count": 5,
   "id": "9488277c-186d-48e8-a84e-bc6192042e8e",
   "metadata": {},
   "outputs": [],
   "source": [
    "L = [1, 2, 3]\n",
    "N = np.array([1, 2, 3])"
   ]
  },
  {
   "cell_type": "code",
   "execution_count": 9,
   "id": "bdf4f3b9-e8c4-472e-8b28-a5b46bdeb65f",
   "metadata": {},
   "outputs": [
    {
     "name": "stdout",
     "output_type": "stream",
     "text": [
      "L x 3 = [1, 2, 3, 1, 2, 3, 1, 2, 3]\n",
      "N x 3 = [3 6 9]\n",
      "L + L = [1, 2, 3, 1, 2, 3]\n",
      "N + N = [2 4 6]\n"
     ]
    }
   ],
   "source": [
    "print(f'L x 3 = {L * 3 }')\n",
    "print(f'N x 3 = {N * 3 }')\n",
    "print(f'L + L = {L + L }')\n",
    "print(f'N + N = {N + N }')"
   ]
  },
  {
   "cell_type": "code",
   "execution_count": null,
   "id": "cd714619-65e4-47f3-9dd5-ffc4c71c7a91",
   "metadata": {},
   "outputs": [],
   "source": []
  }
 ],
 "metadata": {
  "kernelspec": {
   "display_name": "Python [conda env:base] *",
   "language": "python",
   "name": "conda-base-py"
  },
  "language_info": {
   "codemirror_mode": {
    "name": "ipython",
    "version": 3
   },
   "file_extension": ".py",
   "mimetype": "text/x-python",
   "name": "python",
   "nbconvert_exporter": "python",
   "pygments_lexer": "ipython3",
   "version": "3.12.7"
  }
 },
 "nbformat": 4,
 "nbformat_minor": 5
}
