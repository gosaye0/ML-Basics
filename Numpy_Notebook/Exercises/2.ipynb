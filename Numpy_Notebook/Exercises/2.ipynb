{
 "cells": [
  {
   "cell_type": "code",
   "execution_count": 1,
   "id": "e42bc802-89d2-4e4c-9c6d-018af83b836e",
   "metadata": {},
   "outputs": [],
   "source": [
    "import numpy as np"
   ]
  },
  {
   "cell_type": "code",
   "execution_count": 3,
   "id": "f4500ba7-d2ed-4544-b041-f2d1a79c4918",
   "metadata": {},
   "outputs": [],
   "source": [
    "arr = np.arange(1, 10).reshape(3, 3)"
   ]
  },
  {
   "cell_type": "code",
   "execution_count": 11,
   "id": "2392a1cf-04d8-4de5-8360-8f943173b7e7",
   "metadata": {},
   "outputs": [
    {
     "data": {
      "text/plain": [
       "array([1, 2, 3])"
      ]
     },
     "execution_count": 11,
     "metadata": {},
     "output_type": "execute_result"
    }
   ],
   "source": [
    "arr[0]"
   ]
  },
  {
   "cell_type": "code",
   "execution_count": 17,
   "id": "6d56b132-5c09-4f9d-9779-a1f1916afa4f",
   "metadata": {},
   "outputs": [
    {
     "name": "stdout",
     "output_type": "stream",
     "text": [
      "[1 2 3] [4 5 6] [7 8 9]\n"
     ]
    }
   ],
   "source": [
    "print(arr[0], arr[1], arr[2])"
   ]
  },
  {
   "cell_type": "code",
   "execution_count": 19,
   "id": "5eadd962-5321-4d9a-ac88-489a352c1e0b",
   "metadata": {},
   "outputs": [
    {
     "name": "stdout",
     "output_type": "stream",
     "text": [
      "[1 4 7] [[1 2 3]] [3 6 9]\n"
     ]
    }
   ],
   "source": [
    "print(arr[:, 0], arr[:1], arr[:,2])"
   ]
  },
  {
   "cell_type": "code",
   "execution_count": null,
   "id": "662b0e38-ad2a-48a1-b9ab-215282dc22c1",
   "metadata": {},
   "outputs": [],
   "source": []
  },
  {
   "cell_type": "code",
   "execution_count": null,
   "id": "f770f2c4-2552-4d00-99c6-5330b36f9a69",
   "metadata": {},
   "outputs": [],
   "source": []
  }
 ],
 "metadata": {
  "kernelspec": {
   "display_name": "Python [conda env:base] *",
   "language": "python",
   "name": "conda-base-py"
  },
  "language_info": {
   "codemirror_mode": {
    "name": "ipython",
    "version": 3
   },
   "file_extension": ".py",
   "mimetype": "text/x-python",
   "name": "python",
   "nbconvert_exporter": "python",
   "pygments_lexer": "ipython3",
   "version": "3.12.7"
  }
 },
 "nbformat": 4,
 "nbformat_minor": 5
}
