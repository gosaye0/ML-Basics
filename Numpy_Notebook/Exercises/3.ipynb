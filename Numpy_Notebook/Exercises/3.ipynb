{
 "cells": [
  {
   "cell_type": "code",
   "execution_count": 5,
   "id": "7dfac862-2486-4360-bb9d-2a11a6d095f3",
   "metadata": {},
   "outputs": [],
   "source": [
    "import numpy as np"
   ]
  },
  {
   "cell_type": "code",
   "execution_count": 7,
   "id": "9da752a2-3d04-48fe-9ff8-08b2d22594f2",
   "metadata": {},
   "outputs": [],
   "source": [
    "arr1 = np.array([[0, 1, 2], [3, 4, 5], [6, 7, 8]])\n",
    "arr2 = np.array([[10, 11, 12], [13, 14, 15], [16, 17, 18]])"
   ]
  },
  {
   "cell_type": "markdown",
   "id": "46c11f3c-0dc5-4e10-b442-2b4c46d385bc",
   "metadata": {},
   "source": [
    "write a command to concatenate arr1 and arr2 both rowwise and columnwise"
   ]
  },
  {
   "cell_type": "markdown",
   "id": "42589ade-f381-41f8-a94e-6eb0c43b84a6",
   "metadata": {},
   "source": [
    "1. row"
   ]
  },
  {
   "cell_type": "code",
   "execution_count": 13,
   "id": "3ec29790-b0cf-4f56-957d-63cb4fb34c8b",
   "metadata": {},
   "outputs": [
    {
     "data": {
      "text/plain": [
       "array([[ 0,  1,  2],\n",
       "       [ 3,  4,  5],\n",
       "       [ 6,  7,  8],\n",
       "       [10, 11, 12],\n",
       "       [13, 14, 15],\n",
       "       [16, 17, 18]])"
      ]
     },
     "execution_count": 13,
     "metadata": {},
     "output_type": "execute_result"
    }
   ],
   "source": [
    "np.concatenate((arr1, arr2), axis = 0)"
   ]
  },
  {
   "cell_type": "markdown",
   "id": "843bec23-d9e2-4aa9-91dc-8d64f8608c1b",
   "metadata": {},
   "source": [
    "2. Columnwise"
   ]
  },
  {
   "cell_type": "code",
   "execution_count": 16,
   "id": "dede7d66-dc40-41b9-87d1-ec3fc2a417f2",
   "metadata": {},
   "outputs": [
    {
     "data": {
      "text/plain": [
       "array([[ 0,  1,  2, 10, 11, 12],\n",
       "       [ 3,  4,  5, 13, 14, 15],\n",
       "       [ 6,  7,  8, 16, 17, 18]])"
      ]
     },
     "execution_count": 16,
     "metadata": {},
     "output_type": "execute_result"
    }
   ],
   "source": [
    "np.concatenate((arr1, arr2), axis = 1)"
   ]
  },
  {
   "cell_type": "markdown",
   "id": "d4057190-4831-43f6-aae2-a1dfd1eb3c5e",
   "metadata": {},
   "source": [
    "Result of np.hstack(arr1, arr2)"
   ]
  },
  {
   "cell_type": "code",
   "execution_count": 21,
   "id": "7685bd17-dc0c-4048-84f7-8e11768bdfa5",
   "metadata": {},
   "outputs": [
    {
     "data": {
      "text/plain": [
       "array([[ 0,  1,  2, 10, 11, 12],\n",
       "       [ 3,  4,  5, 13, 14, 15],\n",
       "       [ 6,  7,  8, 16, 17, 18]])"
      ]
     },
     "execution_count": 21,
     "metadata": {},
     "output_type": "execute_result"
    }
   ],
   "source": [
    "np.hstack((arr1, arr2))"
   ]
  },
  {
   "cell_type": "code",
   "execution_count": null,
   "id": "15aa4613-e65a-49e2-a50e-5202391edadf",
   "metadata": {},
   "outputs": [],
   "source": []
  }
 ],
 "metadata": {
  "kernelspec": {
   "display_name": "Python [conda env:base] *",
   "language": "python",
   "name": "conda-base-py"
  },
  "language_info": {
   "codemirror_mode": {
    "name": "ipython",
    "version": 3
   },
   "file_extension": ".py",
   "mimetype": "text/x-python",
   "name": "python",
   "nbconvert_exporter": "python",
   "pygments_lexer": "ipython3",
   "version": "3.12.7"
  }
 },
 "nbformat": 4,
 "nbformat_minor": 5
}
