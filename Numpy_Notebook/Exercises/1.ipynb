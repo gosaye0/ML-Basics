{
 "cells": [
  {
   "cell_type": "code",
   "execution_count": 1,
   "id": "4a6a7784-4ac0-429e-9062-33a8df966554",
   "metadata": {},
   "outputs": [],
   "source": [
    "import numpy as np"
   ]
  },
  {
   "cell_type": "code",
   "execution_count": 5,
   "id": "8d642b7d-e6f7-4355-828f-194a5c93c7a4",
   "metadata": {},
   "outputs": [
    {
     "data": {
      "text/plain": [
       "array([[0, 1],\n",
       "       [4, 5]])"
      ]
     },
     "execution_count": 5,
     "metadata": {},
     "output_type": "execute_result"
    }
   ],
   "source": [
    "arr = np.array([[0, 1, 2, 3], [4, 5, 6, 7], [8, 9, 10, 11], [12, 13, 14, 15]])\n",
    "arr[0:2, 0:2]"
   ]
  },
  {
   "cell_type": "code",
   "execution_count": 7,
   "id": "2f175774-3b28-489d-9ddd-154f803b4f44",
   "metadata": {},
   "outputs": [
    {
     "data": {
      "text/plain": [
       "array([], shape=(0, 0), dtype=int32)"
      ]
     },
     "execution_count": 7,
     "metadata": {},
     "output_type": "execute_result"
    }
   ],
   "source": [
    "arr[2:0, 2:0]"
   ]
  },
  {
   "cell_type": "code",
   "execution_count": 9,
   "id": "7c072d96-545b-46cb-a019-a05caf7066c8",
   "metadata": {},
   "outputs": [
    {
     "data": {
      "text/plain": [
       "array([[10,  9],\n",
       "       [ 6,  5]])"
      ]
     },
     "execution_count": 9,
     "metadata": {},
     "output_type": "execute_result"
    }
   ],
   "source": [
    "arr[2:0:-1, 2:0:-1]"
   ]
  },
  {
   "cell_type": "code",
   "execution_count": null,
   "id": "f5fd93a7-6e39-4942-b6d6-d57be7a39581",
   "metadata": {},
   "outputs": [],
   "source": []
  }
 ],
 "metadata": {
  "kernelspec": {
   "display_name": "Python [conda env:base] *",
   "language": "python",
   "name": "conda-base-py"
  },
  "language_info": {
   "codemirror_mode": {
    "name": "ipython",
    "version": 3
   },
   "file_extension": ".py",
   "mimetype": "text/x-python",
   "name": "python",
   "nbconvert_exporter": "python",
   "pygments_lexer": "ipython3",
   "version": "3.12.7"
  }
 },
 "nbformat": 4,
 "nbformat_minor": 5
}
