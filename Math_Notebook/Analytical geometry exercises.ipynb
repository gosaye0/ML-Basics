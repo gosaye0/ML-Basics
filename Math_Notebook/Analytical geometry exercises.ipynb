{
 "cells": [
  {
   "cell_type": "markdown",
   "id": "e45d002f-8cd3-4703-b2d0-f67adc70f955",
   "metadata": {},
   "source": [
    "## 1. Vector Norms & Distance\n",
    "Task: Compute the Euclidean norm and distance between two vectors."
   ]
  },
  {
   "cell_type": "code",
   "execution_count": 1,
   "id": "8abc3c86-5467-493c-9871-7b31d7e9166f",
   "metadata": {},
   "outputs": [
    {
     "data": {
      "text/plain": [
       "np.float64(13.0)"
      ]
     },
     "execution_count": 1,
     "metadata": {},
     "output_type": "execute_result"
    }
   ],
   "source": [
    "import numpy as np\n",
    "u = np.array([3, -4, 12])\n",
    "\n",
    "\n",
    "np.linalg.norm(u)"
   ]
  },
  {
   "cell_type": "code",
   "execution_count": 2,
   "id": "0b27c17e-36eb-42aa-a807-a29fd7fbe6b3",
   "metadata": {},
   "outputs": [
    {
     "data": {
      "text/plain": [
       "np.float64(7.0710678118654755)"
      ]
     },
     "execution_count": 2,
     "metadata": {},
     "output_type": "execute_result"
    }
   ],
   "source": [
    "u = np.array([1, 2, 3])\n",
    "v = np.array([4, 6, 8])\n",
    "\n",
    "np.linalg.norm(u-v)"
   ]
  },
  {
   "cell_type": "markdown",
   "id": "dc5cb835-0ab1-4a4f-853d-01fa72774723",
   "metadata": {},
   "source": [
    "## 2. Inner Product & Angle Between Vectors\n",
    "Task: Compute the dot product and angle between two vectors."
   ]
  },
  {
   "cell_type": "code",
   "execution_count": 3,
   "id": "39b0b08a-555f-4c79-afe5-1521b0e0c30f",
   "metadata": {},
   "outputs": [
    {
     "name": "stdout",
     "output_type": "stream",
     "text": [
      "The dot product of a and b is: 12\n",
      "The angle between vecator a and b is: 68.56244696639715\n"
     ]
    }
   ],
   "source": [
    "a = np.array([1, 2, 3])\n",
    "b = np.array([4, -5, 6])\n",
    "\n",
    "dot_pro = np.dot(a, b)\n",
    "print(f\"The dot product of a and b is: {dot_pro}\")\n",
    "\n",
    "angle = np.arccos(np.dot(a, b)/(np.linalg.norm(a) * np.linalg.norm(b)))\n",
    "print(f\"The angle between vecator a and b is: {np.rad2deg(angle)}\")"
   ]
  },
  {
   "cell_type": "markdown",
   "id": "99252232-6ab4-47b4-b07f-baeae740b1fb",
   "metadata": {},
   "source": [
    "## 3. Checking for Orthogonality\n",
    "Task: Verify if two vectors are orthogonal."
   ]
  },
  {
   "cell_type": "code",
   "execution_count": 4,
   "id": "57ad8cb9-3dfd-4563-87b8-166d98e0eaf2",
   "metadata": {},
   "outputs": [
    {
     "data": {
      "text/plain": [
       "'Not orthogonal'"
      ]
     },
     "execution_count": 4,
     "metadata": {},
     "output_type": "execute_result"
    }
   ],
   "source": [
    "def are_ortho(x, y):\n",
    "    if np.dot(x, y) == 0:\n",
    "        return \"Orthogonal\"\n",
    "    else:\n",
    "        return \"Not orthogonal\"\n",
    "\n",
    "u = np.array([1, -1, 2])\n",
    "v = np.array([2, 2, -1])\n",
    "\n",
    "are_ortho(u, v)"
   ]
  },
  {
   "cell_type": "markdown",
   "id": "e79a3dcd-a2aa-422c-983d-b4c0d0d8b0bb",
   "metadata": {},
   "source": [
    "## 4. Orthogonal Projection onto a Line\n",
    "Task: Find the orthogonal projection of v onto a given line defined by vector u."
   ]
  },
  {
   "cell_type": "code",
   "execution_count": 5,
   "id": "29ed10ab-f780-4dc3-8768-8cdf2ba0410a",
   "metadata": {},
   "outputs": [
    {
     "name": "stdout",
     "output_type": "stream",
     "text": [
      "The projection of v onto u is: [1.85714286 3.71428571 5.57142857]\n"
     ]
    }
   ],
   "source": [
    "v = np.array([3, 4, 5])\n",
    "u = np.array([1, 2, 3])\n",
    "\n",
    "proj_v_onto_u = (np.dot(u, v)/np.dot(u, u)) * u\n",
    "print(f\"The projection of v onto u is: {proj_v_onto_u}\")"
   ]
  },
  {
   "cell_type": "markdown",
   "id": "259c10eb-199c-442b-a310-6e543dc8c4c4",
   "metadata": {},
   "source": [
    "## 5. Rotation in 2D Space\n",
    "Task: Rotate a vector by 45 degrees using a rotation matrix."
   ]
  },
  {
   "cell_type": "code",
   "execution_count": 6,
   "id": "0a1a5f77-7fb3-4d59-82a2-8abf8163a0a3",
   "metadata": {},
   "outputs": [
    {
     "data": {
      "text/plain": [
       "array([0.70710678, 0.70710678])"
      ]
     },
     "execution_count": 6,
     "metadata": {},
     "output_type": "execute_result"
    }
   ],
   "source": [
    "v = np.array([1, 0])\n",
    "a = np.pi/4\n",
    "R = np.array([[np.cos(a), -np.sin(a)],\n",
    "              [np.sin(a), np.cos(a)]])\n",
    "\n",
    "R @ v"
   ]
  },
  {
   "cell_type": "markdown",
   "id": "f3555336-5604-4f73-b28f-2ab36184672e",
   "metadata": {},
   "source": [
    "## 6. Gram-Schmidt Orthogonalization\n",
    "Task: Convert a set of linearly independent vectors into an orthonormal basis"
   ]
  },
  {
   "cell_type": "code",
   "execution_count": 7,
   "id": "7794b487-97d0-47b7-9615-c77655161a58",
   "metadata": {},
   "outputs": [
    {
     "data": {
      "text/plain": [
       "array([0.70710678, 0.70710678, 0.        ])"
      ]
     },
     "execution_count": 7,
     "metadata": {},
     "output_type": "execute_result"
    }
   ],
   "source": [
    "v1 = np.array([1, 1, 0])\n",
    "v2 = np.array([1, 0, 1])\n",
    "\n",
    "u1 = v1\n",
    "q1 = u1/np.linalg.norm(u1)\n",
    "\n",
    "u2 = v2 - (np.dot(v2, q1) * q1)\n",
    "q2 = u2/np.linalg.norm(u2)\n",
    "\n",
    "q1"
   ]
  },
  {
   "cell_type": "markdown",
   "id": "fdc63e12-c935-4913-8b89-a6311e313f60",
   "metadata": {},
   "source": [
    "## 7. Reflection Over a Line in 2D\n",
    "Task: Reflect a vector over the x-axis."
   ]
  },
  {
   "cell_type": "code",
   "execution_count": 8,
   "id": "39440225-bbc7-4e70-b6c0-d0207134bec9",
   "metadata": {},
   "outputs": [
    {
     "data": {
      "text/plain": [
       "array([ 3, -5])"
      ]
     },
     "execution_count": 8,
     "metadata": {},
     "output_type": "execute_result"
    }
   ],
   "source": [
    "def reflect_on_x(v):\n",
    "    R = np.array([[1, 0],\n",
    "                  [0, -1]])\n",
    "    return R @ v\n",
    "\n",
    "\n",
    "v = np.array([3, 5])\n",
    "reflect_on_x(v)"
   ]
  },
  {
   "cell_type": "markdown",
   "id": "da6e05cc-3b69-426e-bb18-88b1a7d02fd8",
   "metadata": {},
   "source": [
    "## 8. Equation of a Plane in 3D\n",
    "Task: Find the equation of a plane that passes through a given point and is orthogonal to a given normal vector."
   ]
  },
  {
   "cell_type": "code",
   "execution_count": 9,
   "id": "4a85c40b-9000-401b-824b-8713aebd1eaa",
   "metadata": {},
   "outputs": [
    {
     "data": {
      "text/plain": [
       "'1x + -2y + 4z = 8'"
      ]
     },
     "execution_count": 9,
     "metadata": {},
     "output_type": "execute_result"
    }
   ],
   "source": [
    "def line(v, p):\n",
    "    d = np.dot(v, p)\n",
    "    return f\"{v[0]}x + {v[1]}y + {v[2]}z = {d}\"\n",
    "\n",
    "point = np.array([2, 5, 4])\n",
    "v = np.array([1, -2, 4])\n",
    "\n",
    "line(v, point)"
   ]
  },
  {
   "cell_type": "markdown",
   "id": "28ec5a50-2613-49c0-93c8-997b4c4a2c6b",
   "metadata": {},
   "source": [
    "## 9. Transformation Matrix for Projection\n",
    "Task: Compute the transformation matrix for projecting vectors onto a given line spanned by vector u."
   ]
  },
  {
   "cell_type": "code",
   "execution_count": 10,
   "id": "cf163f69-8694-4351-a126-c2ea1e4c104f",
   "metadata": {},
   "outputs": [
    {
     "data": {
      "text/plain": [
       "array([[0.36, 0.48],\n",
       "       [0.48, 0.64]])"
      ]
     },
     "execution_count": 10,
     "metadata": {},
     "output_type": "execute_result"
    }
   ],
   "source": [
    "u = np.array([[3, 4]])\n",
    "(u.T @ u)/(u @ u.T)"
   ]
  },
  {
   "cell_type": "code",
   "execution_count": null,
   "id": "31f112fa-7548-4d4b-82b0-36c29b1c2170",
   "metadata": {},
   "outputs": [],
   "source": []
  }
 ],
 "metadata": {
  "kernelspec": {
   "display_name": "Python (data-analysis)",
   "language": "python",
   "name": "data-anaysis"
  },
  "language_info": {
   "codemirror_mode": {
    "name": "ipython",
    "version": 3
   },
   "file_extension": ".py",
   "mimetype": "text/x-python",
   "name": "python",
   "nbconvert_exporter": "python",
   "pygments_lexer": "ipython3",
   "version": "3.11.13"
  }
 },
 "nbformat": 4,
 "nbformat_minor": 5
}
